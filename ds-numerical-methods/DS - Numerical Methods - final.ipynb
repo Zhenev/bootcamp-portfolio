{
 "cells": [
  {
   "cell_type": "markdown",
   "id": "b51dc2ec",
   "metadata": {},
   "source": [
    "## Content <a id='content'></a>\n",
    "\n",
    "[Introduction](#intro)\n",
    "\n",
    "[Data overview and preprocessing](#prep)\n",
    "\n",
    "[ML](#ml)\n",
    "\n",
    "[Summary and conclusions](#conclusions)"
   ]
  },
  {
   "cell_type": "markdown",
   "id": "b32b8039",
   "metadata": {},
   "source": [
    "## Introduction <a id='intro'></a>"
   ]
  },
  {
   "cell_type": "markdown",
   "id": "b0eff37e",
   "metadata": {},
   "source": [
    "Rusty Bargain used car sales service is developing an app to attract new customers. In that app, you can quickly find out the market value of your car. You have access to historical data: technical specifications, trim versions, and prices. You need to build the model to determine the value.\n",
    "\n",
    "Rusty Bargain is interested in:\n",
    "- the quality of the prediction,\n",
    "- the speed of the prediction,\n",
    "- the time required for training."
   ]
  },
  {
   "cell_type": "markdown",
   "id": "0be29c39",
   "metadata": {},
   "source": [
    "To implement the work we will:\n",
    "\n",
    "- Load the data.\n",
    "- Check that the data is free of issues — missing data, extreme values, and so on.\n",
    "- Train different models with various hyperparameters (we will use a linear regression model as a sanity check and build a gradient boosting model and compare it to random forest, decision tree, and the linear regression).\n",
    "- Analyze the speed and quality of the models.\n",
    "- Draw conclusions."
   ]
  },
  {
   "cell_type": "markdown",
   "id": "e17927d2",
   "metadata": {},
   "source": [
    "We were advised to use:\n",
    "\n",
    "- use RMSE metric to evaluate the models,\n",
    "- the LightGBM/CatBoost/XGBoost libraries to build gradient boosting models,\n",
    "- take note of the encoding of categorical features for simple algorithms (LightGBM and CatBoost have their implementation, but XGBoost requires encoding),\n",
    "- a linear regression for a sanity check, a tree-based algorithm with hyperparameter tuning (preferably, random forrest) as a reference,\n",
    "- use a special command to find the cell code runtime in Jupyter Notebook."
   ]
  },
  {
   "cell_type": "markdown",
   "id": "3d222203",
   "metadata": {},
   "source": [
    "[Back to Content](#content)"
   ]
  },
  {
   "cell_type": "markdown",
   "id": "97cda8d9",
   "metadata": {},
   "source": [
    "# Data overview and preprocessing <a id='prep'></a>"
   ]
  },
  {
   "cell_type": "markdown",
   "id": "3cf4a52f",
   "metadata": {},
   "source": [
    "We got one file, `car_data.csv`, with the following data.\n",
    "\n",
    "Features:\n",
    "\n",
    "- `DateCrawled` — date profile was downloaded from the database\n",
    "- `VehicleType` — vehicle body type\n",
    "- `RegistrationYear` — vehicle registration year\n",
    "- `Gearbox` — gearbox type\n",
    "- `Power` — power (hp)\n",
    "- `Model` — vehicle model\n",
    "- `Mileage` — mileage (measured in km due to dataset's regional specifics)\n",
    "- `RegistrationMonth` — vehicle registration month\n",
    "- `FuelType` — fuel type\n",
    "- `Brand` — vehicle brand\n",
    "- `NotRepaired` — vehicle repaired or not\n",
    "- `DateCreated` — date of profile creation\n",
    "- `NumberOfPictures` — number of vehicle pictures\n",
    "- `PostalCode` — postal code of profile owner (user)\n",
    "- `LastSeen` — date of the last activity of the user\n",
    "\n",
    "Target:\n",
    "\n",
    "- `Price` — price (Euro)"
   ]
  },
  {
   "cell_type": "markdown",
   "id": "fd609351",
   "metadata": {},
   "source": [
    "### Libraries"
   ]
  },
  {
   "cell_type": "code",
   "execution_count": 1,
   "id": "24c515cf",
   "metadata": {},
   "outputs": [],
   "source": [
    "import re\n",
    "\n",
    "import numpy as np\n",
    "import pandas as pd\n",
    "\n",
    "import seaborn as sns\n",
    "import matplotlib.pyplot as plt\n",
    "\n",
    "import math\n",
    "\n",
    "import sklearn.linear_model\n",
    "import sklearn.metrics\n",
    "import sklearn.neighbors\n",
    "import sklearn.preprocessing\n",
    "\n",
    "from sklearn.model_selection import train_test_split, cross_val_score\n",
    "from sklearn.pipeline import Pipeline\n",
    "\n",
    "from IPython.display import display\n",
    "import plotly.express as px # advanced plotting\n",
    "import plotly.graph_objects as go\n",
    "\n",
    "import warnings\n",
    "from time import time"
   ]
  },
  {
   "cell_type": "code",
   "execution_count": 2,
   "id": "2e255aaf",
   "metadata": {},
   "outputs": [],
   "source": [
    "from sklearn.ensemble import RandomForestClassifier, RandomForestRegressor\n",
    "from sklearn.metrics import accuracy_score, mean_squared_error, mean_absolute_error, make_scorer\n",
    "from scipy import stats as st"
   ]
  },
  {
   "cell_type": "code",
   "execution_count": 3,
   "id": "23c7d60e",
   "metadata": {},
   "outputs": [],
   "source": [
    "from sklearn.preprocessing import StandardScaler\n",
    "from sklearn.preprocessing import LabelEncoder, OrdinalEncoder\n",
    "\n",
    "from sklearn.dummy import DummyRegressor\n",
    "from sklearn import linear_model, ensemble\n",
    "from sklearn.model_selection import cross_val_score\n",
    "from sklearn.pipeline import Pipeline"
   ]
  },
  {
   "cell_type": "code",
   "execution_count": 4,
   "id": "a9eb4643",
   "metadata": {},
   "outputs": [
    {
     "name": "stderr",
     "output_type": "stream",
     "text": [
      "C:\\Users\\zheni\\anaconda3\\lib\\site-packages\\dask\\dataframe\\utils.py:369: FutureWarning: pandas.Int64Index is deprecated and will be removed from pandas in a future version. Use pandas.Index with the appropriate dtype instead.\n",
      "  _numeric_index_types = (pd.Int64Index, pd.Float64Index, pd.UInt64Index)\n",
      "C:\\Users\\zheni\\anaconda3\\lib\\site-packages\\dask\\dataframe\\utils.py:369: FutureWarning: pandas.Float64Index is deprecated and will be removed from pandas in a future version. Use pandas.Index with the appropriate dtype instead.\n",
      "  _numeric_index_types = (pd.Int64Index, pd.Float64Index, pd.UInt64Index)\n",
      "C:\\Users\\zheni\\anaconda3\\lib\\site-packages\\dask\\dataframe\\utils.py:369: FutureWarning: pandas.UInt64Index is deprecated and will be removed from pandas in a future version. Use pandas.Index with the appropriate dtype instead.\n",
      "  _numeric_index_types = (pd.Int64Index, pd.Float64Index, pd.UInt64Index)\n"
     ]
    }
   ],
   "source": [
    "from lightgbm import LGBMRegressor\n",
    "from catboost import CatBoostRegressor\n",
    "from xgboost import XGBRegressor"
   ]
  },
  {
   "cell_type": "code",
   "execution_count": 5,
   "id": "0a286388",
   "metadata": {},
   "outputs": [],
   "source": [
    "from sklearn.model_selection import RandomizedSearchCV\n",
    "from scipy.stats import randint as sp_randint  # for initializing random integer values\n",
    "from sklearn.model_selection import GridSearchCV"
   ]
  },
  {
   "cell_type": "code",
   "execution_count": 6,
   "id": "da6f07ff",
   "metadata": {},
   "outputs": [],
   "source": [
    "# warnings.simplefilter(action='ignore', category=FutureWarning)"
   ]
  },
  {
   "cell_type": "markdown",
   "id": "c5ee26a2",
   "metadata": {},
   "source": [
    "### File upload"
   ]
  },
  {
   "cell_type": "markdown",
   "id": "4629603e",
   "metadata": {},
   "source": [
    "As part of the uploading we will check memory usage and date types for a small subsample, to avoid any excessive use of the memory. We will use a load() function to avoid potential problems with the file pathes."
   ]
  },
  {
   "cell_type": "code",
   "execution_count": 7,
   "id": "c13edf0a",
   "metadata": {},
   "outputs": [],
   "source": [
    "# function `load` for a csv load with try-except and a number of rows limit\n",
    "def load(filename, sep = ',', nrow = None, dtype = None, parse_dates = None):\n",
    "    \"\"\"\n",
    "    i=In addition to the file name, the function takes nrows parameter\n",
    "    for a particular number of rows to load. If None, then the file is loaded fully.\n",
    "    \"\"\"\n",
    "    try:\n",
    "        df_raw = pd.read_csv(filename, sep = sep, nrows = nrow, dtype = dtype, parse_dates = parse_dates)\n",
    "    except:\n",
    "        df_raw = pd.read_csv('/'+filename, sep = sep, nrows = nrow, dtype = dtype, parse_dates = parse_dates)\n",
    "    return df_raw"
   ]
  },
  {
   "cell_type": "code",
   "execution_count": 8,
   "id": "912baddf",
   "metadata": {},
   "outputs": [],
   "source": [
    "# check the dataset data types and memory usage on the first 500 rows\n",
    "data_raw = load('datasets/car_data.csv', nrow = 500)"
   ]
  },
  {
   "cell_type": "code",
   "execution_count": 9,
   "id": "a895bdf2",
   "metadata": {},
   "outputs": [
    {
     "name": "stdout",
     "output_type": "stream",
     "text": [
      "<class 'pandas.core.frame.DataFrame'>\n",
      "RangeIndex: 500 entries, 0 to 499\n",
      "Data columns (total 16 columns):\n",
      " #   Column             Non-Null Count  Dtype \n",
      "---  ------             --------------  ----- \n",
      " 0   DateCrawled        500 non-null    object\n",
      " 1   Price              500 non-null    int64 \n",
      " 2   VehicleType        437 non-null    object\n",
      " 3   RegistrationYear   500 non-null    int64 \n",
      " 4   Gearbox            462 non-null    object\n",
      " 5   Power              500 non-null    int64 \n",
      " 6   Model              478 non-null    object\n",
      " 7   Mileage            500 non-null    int64 \n",
      " 8   RegistrationMonth  500 non-null    int64 \n",
      " 9   FuelType           449 non-null    object\n",
      " 10  Brand              500 non-null    object\n",
      " 11  NotRepaired        394 non-null    object\n",
      " 12  DateCreated        500 non-null    object\n",
      " 13  NumberOfPictures   500 non-null    int64 \n",
      " 14  PostalCode         500 non-null    int64 \n",
      " 15  LastSeen           500 non-null    object\n",
      "dtypes: int64(7), object(9)\n",
      "memory usage: 308.6 KB\n"
     ]
    }
   ],
   "source": [
    "data_raw.info(memory_usage = 'deep')"
   ]
  },
  {
   "cell_type": "markdown",
   "id": "0096332f",
   "metadata": {},
   "source": [
    "First, let's make the column names a bit more readable:"
   ]
  },
  {
   "cell_type": "code",
   "execution_count": 10,
   "id": "1b611919",
   "metadata": {},
   "outputs": [],
   "source": [
    "def fix_column_names(df):\n",
    "    df.columns = [re.sub('([A-Z])', r' \\1', name).lower().replace(' ', '_')[1:] for name in df.columns]\n",
    "    return df"
   ]
  },
  {
   "cell_type": "code",
   "execution_count": 11,
   "id": "3e129d40",
   "metadata": {},
   "outputs": [],
   "source": [
    "data_raw = fix_column_names(data_raw)"
   ]
  },
  {
   "cell_type": "markdown",
   "id": "9b573f1b",
   "metadata": {},
   "source": [
    "The dataset does look like being pretty memory-intensive for that number of variables, it has a number of categorical variables. Let's check it out."
   ]
  },
  {
   "cell_type": "code",
   "execution_count": 12,
   "id": "cb24a640",
   "metadata": {},
   "outputs": [
    {
     "data": {
      "text/html": [
       "<div>\n",
       "<style scoped>\n",
       "    .dataframe tbody tr th:only-of-type {\n",
       "        vertical-align: middle;\n",
       "    }\n",
       "\n",
       "    .dataframe tbody tr th {\n",
       "        vertical-align: top;\n",
       "    }\n",
       "\n",
       "    .dataframe thead th {\n",
       "        text-align: right;\n",
       "    }\n",
       "</style>\n",
       "<table border=\"1\" class=\"dataframe\">\n",
       "  <thead>\n",
       "    <tr style=\"text-align: right;\">\n",
       "      <th></th>\n",
       "      <th>date_crawled</th>\n",
       "      <th>price</th>\n",
       "      <th>vehicle_type</th>\n",
       "      <th>registration_year</th>\n",
       "      <th>gearbox</th>\n",
       "      <th>power</th>\n",
       "      <th>model</th>\n",
       "      <th>mileage</th>\n",
       "      <th>registration_month</th>\n",
       "      <th>fuel_type</th>\n",
       "      <th>brand</th>\n",
       "      <th>not_repaired</th>\n",
       "      <th>date_created</th>\n",
       "      <th>number_of_pictures</th>\n",
       "      <th>postal_code</th>\n",
       "      <th>last_seen</th>\n",
       "    </tr>\n",
       "  </thead>\n",
       "  <tbody>\n",
       "    <tr>\n",
       "      <th>0</th>\n",
       "      <td>24/03/2016 11:52</td>\n",
       "      <td>480</td>\n",
       "      <td>NaN</td>\n",
       "      <td>1993</td>\n",
       "      <td>manual</td>\n",
       "      <td>0</td>\n",
       "      <td>golf</td>\n",
       "      <td>150000</td>\n",
       "      <td>0</td>\n",
       "      <td>petrol</td>\n",
       "      <td>volkswagen</td>\n",
       "      <td>NaN</td>\n",
       "      <td>24/03/2016 00:00</td>\n",
       "      <td>0</td>\n",
       "      <td>70435</td>\n",
       "      <td>07/04/2016 03:16</td>\n",
       "    </tr>\n",
       "    <tr>\n",
       "      <th>1</th>\n",
       "      <td>24/03/2016 10:58</td>\n",
       "      <td>18300</td>\n",
       "      <td>coupe</td>\n",
       "      <td>2011</td>\n",
       "      <td>manual</td>\n",
       "      <td>190</td>\n",
       "      <td>NaN</td>\n",
       "      <td>125000</td>\n",
       "      <td>5</td>\n",
       "      <td>gasoline</td>\n",
       "      <td>audi</td>\n",
       "      <td>yes</td>\n",
       "      <td>24/03/2016 00:00</td>\n",
       "      <td>0</td>\n",
       "      <td>66954</td>\n",
       "      <td>07/04/2016 01:46</td>\n",
       "    </tr>\n",
       "    <tr>\n",
       "      <th>2</th>\n",
       "      <td>14/03/2016 12:52</td>\n",
       "      <td>9800</td>\n",
       "      <td>suv</td>\n",
       "      <td>2004</td>\n",
       "      <td>auto</td>\n",
       "      <td>163</td>\n",
       "      <td>grand</td>\n",
       "      <td>125000</td>\n",
       "      <td>8</td>\n",
       "      <td>gasoline</td>\n",
       "      <td>jeep</td>\n",
       "      <td>NaN</td>\n",
       "      <td>14/03/2016 00:00</td>\n",
       "      <td>0</td>\n",
       "      <td>90480</td>\n",
       "      <td>05/04/2016 12:47</td>\n",
       "    </tr>\n",
       "    <tr>\n",
       "      <th>3</th>\n",
       "      <td>17/03/2016 16:54</td>\n",
       "      <td>1500</td>\n",
       "      <td>small</td>\n",
       "      <td>2001</td>\n",
       "      <td>manual</td>\n",
       "      <td>75</td>\n",
       "      <td>golf</td>\n",
       "      <td>150000</td>\n",
       "      <td>6</td>\n",
       "      <td>petrol</td>\n",
       "      <td>volkswagen</td>\n",
       "      <td>no</td>\n",
       "      <td>17/03/2016 00:00</td>\n",
       "      <td>0</td>\n",
       "      <td>91074</td>\n",
       "      <td>17/03/2016 17:40</td>\n",
       "    </tr>\n",
       "    <tr>\n",
       "      <th>4</th>\n",
       "      <td>31/03/2016 17:25</td>\n",
       "      <td>3600</td>\n",
       "      <td>small</td>\n",
       "      <td>2008</td>\n",
       "      <td>manual</td>\n",
       "      <td>69</td>\n",
       "      <td>fabia</td>\n",
       "      <td>90000</td>\n",
       "      <td>7</td>\n",
       "      <td>gasoline</td>\n",
       "      <td>skoda</td>\n",
       "      <td>no</td>\n",
       "      <td>31/03/2016 00:00</td>\n",
       "      <td>0</td>\n",
       "      <td>60437</td>\n",
       "      <td>06/04/2016 10:17</td>\n",
       "    </tr>\n",
       "  </tbody>\n",
       "</table>\n",
       "</div>"
      ],
      "text/plain": [
       "       date_crawled  price vehicle_type  registration_year gearbox  power  \\\n",
       "0  24/03/2016 11:52    480          NaN               1993  manual      0   \n",
       "1  24/03/2016 10:58  18300        coupe               2011  manual    190   \n",
       "2  14/03/2016 12:52   9800          suv               2004    auto    163   \n",
       "3  17/03/2016 16:54   1500        small               2001  manual     75   \n",
       "4  31/03/2016 17:25   3600        small               2008  manual     69   \n",
       "\n",
       "   model  mileage  registration_month fuel_type       brand not_repaired  \\\n",
       "0   golf   150000                   0    petrol  volkswagen          NaN   \n",
       "1    NaN   125000                   5  gasoline        audi          yes   \n",
       "2  grand   125000                   8  gasoline        jeep          NaN   \n",
       "3   golf   150000                   6    petrol  volkswagen           no   \n",
       "4  fabia    90000                   7  gasoline       skoda           no   \n",
       "\n",
       "       date_created  number_of_pictures  postal_code         last_seen  \n",
       "0  24/03/2016 00:00                   0        70435  07/04/2016 03:16  \n",
       "1  24/03/2016 00:00                   0        66954  07/04/2016 01:46  \n",
       "2  14/03/2016 00:00                   0        90480  05/04/2016 12:47  \n",
       "3  17/03/2016 00:00                   0        91074  17/03/2016 17:40  \n",
       "4  31/03/2016 00:00                   0        60437  06/04/2016 10:17  "
      ]
     },
     "execution_count": 12,
     "metadata": {},
     "output_type": "execute_result"
    }
   ],
   "source": [
    "data_raw.head()"
   ]
  },
  {
   "cell_type": "markdown",
   "id": "b75751c3",
   "metadata": {},
   "source": [
    "There are the following variables, for which the data type can be optimized:\n",
    "\n",
    "- `date_crawled`\n",
    "- `vehicle_type`\n",
    "- `gearbox`\n",
    "- `model`\n",
    "- `fuel_type`\n",
    "- `brand`\n",
    "- `not_repaired`\n",
    "- `date_created`\n",
    "- `last_seen`.\n",
    "\n",
    "The first and the last two ones are dates, let's take a look at some of the rest."
   ]
  },
  {
   "cell_type": "code",
   "execution_count": 13,
   "id": "04c1fda3",
   "metadata": {},
   "outputs": [
    {
     "data": {
      "text/plain": [
       "sedan          0.304348\n",
       "small          0.235698\n",
       "wagon          0.192220\n",
       "bus            0.105263\n",
       "coupe          0.059497\n",
       "convertible    0.059497\n",
       "suv            0.027460\n",
       "other          0.016018\n",
       "Name: vehicle_type, dtype: float64"
      ]
     },
     "execution_count": 13,
     "metadata": {},
     "output_type": "execute_result"
    }
   ],
   "source": [
    "data_raw['vehicle_type'].value_counts(normalize = True)"
   ]
  },
  {
   "cell_type": "code",
   "execution_count": 14,
   "id": "05fb2bb8",
   "metadata": {},
   "outputs": [
    {
     "data": {
      "text/plain": [
       "manual    0.809524\n",
       "auto      0.190476\n",
       "Name: gearbox, dtype: float64"
      ]
     },
     "execution_count": 14,
     "metadata": {},
     "output_type": "execute_result"
    }
   ],
   "source": [
    "data_raw['gearbox'].value_counts(normalize = True)"
   ]
  },
  {
   "cell_type": "code",
   "execution_count": 15,
   "id": "71c57106",
   "metadata": {},
   "outputs": [
    {
     "data": {
      "text/plain": [
       "petrol      0.663697\n",
       "gasoline    0.320713\n",
       "lpg         0.011136\n",
       "other       0.004454\n",
       "Name: fuel_type, dtype: float64"
      ]
     },
     "execution_count": 15,
     "metadata": {},
     "output_type": "execute_result"
    }
   ],
   "source": [
    "data_raw['fuel_type'].value_counts(normalize = True)"
   ]
  },
  {
   "cell_type": "code",
   "execution_count": 16,
   "id": "fea0d862",
   "metadata": {},
   "outputs": [
    {
     "data": {
      "text/plain": [
       "volkswagen        0.232\n",
       "bmw               0.124\n",
       "opel              0.108\n",
       "mercedes_benz     0.092\n",
       "audi              0.088\n",
       "renault           0.056\n",
       "ford              0.056\n",
       "fiat              0.026\n",
       "peugeot           0.026\n",
       "seat              0.022\n",
       "mazda             0.020\n",
       "skoda             0.018\n",
       "citroen           0.016\n",
       "honda             0.014\n",
       "smart             0.014\n",
       "mitsubishi        0.012\n",
       "hyundai           0.012\n",
       "nissan            0.010\n",
       "alfa_romeo        0.010\n",
       "kia               0.010\n",
       "sonstige_autos    0.006\n",
       "subaru            0.004\n",
       "volvo             0.004\n",
       "suzuki            0.004\n",
       "chevrolet         0.004\n",
       "mini              0.002\n",
       "jeep              0.002\n",
       "lancia            0.002\n",
       "toyota            0.002\n",
       "dacia             0.002\n",
       "daihatsu          0.002\n",
       "Name: brand, dtype: float64"
      ]
     },
     "execution_count": 16,
     "metadata": {},
     "output_type": "execute_result"
    }
   ],
   "source": [
    "data_raw['brand'].value_counts(normalize = True)"
   ]
  },
  {
   "cell_type": "code",
   "execution_count": 17,
   "id": "a6f79ca2",
   "metadata": {},
   "outputs": [
    {
     "data": {
      "text/plain": [
       "no     0.880711\n",
       "yes    0.119289\n",
       "Name: not_repaired, dtype: float64"
      ]
     },
     "execution_count": 17,
     "metadata": {},
     "output_type": "execute_result"
    }
   ],
   "source": [
    "data_raw['not_repaired'].value_counts(normalize = True)"
   ]
  },
  {
   "cell_type": "markdown",
   "id": "d62494ba",
   "metadata": {},
   "source": [
    "We will cast the date variables and check whether uploading the rest as categorical is going to help in preserving us from any memory usage issues. Note: for the ML part we will have to employ categorical variables encoding anyway."
   ]
  },
  {
   "cell_type": "code",
   "execution_count": 18,
   "id": "ebc29630",
   "metadata": {},
   "outputs": [],
   "source": [
    "date_variables = ['date_crawled', 'date_created', 'last_seen']\n",
    "cat_variables = ['vehicle_type', 'gearbox', 'model', 'fuel_type', 'brand', 'not_repaired']"
   ]
  },
  {
   "cell_type": "code",
   "execution_count": 19,
   "id": "5706b7f8",
   "metadata": {},
   "outputs": [],
   "source": [
    "for date_var in date_variables:\n",
    "    data_raw[date_var] = pd.to_datetime(data_raw[date_var], format = '%d/%m/%Y %H:%M')"
   ]
  },
  {
   "cell_type": "code",
   "execution_count": 20,
   "id": "2dfcf6ac",
   "metadata": {},
   "outputs": [],
   "source": [
    "for cat_var in cat_variables:\n",
    "    data_raw[cat_var] = data_raw[cat_var].astype('category')"
   ]
  },
  {
   "cell_type": "markdown",
   "id": "4239253b",
   "metadata": {},
   "source": [
    "Let's check it out!"
   ]
  },
  {
   "cell_type": "code",
   "execution_count": 21,
   "id": "d779973b",
   "metadata": {},
   "outputs": [
    {
     "data": {
      "text/html": [
       "<div>\n",
       "<style scoped>\n",
       "    .dataframe tbody tr th:only-of-type {\n",
       "        vertical-align: middle;\n",
       "    }\n",
       "\n",
       "    .dataframe tbody tr th {\n",
       "        vertical-align: top;\n",
       "    }\n",
       "\n",
       "    .dataframe thead th {\n",
       "        text-align: right;\n",
       "    }\n",
       "</style>\n",
       "<table border=\"1\" class=\"dataframe\">\n",
       "  <thead>\n",
       "    <tr style=\"text-align: right;\">\n",
       "      <th></th>\n",
       "      <th>date_crawled</th>\n",
       "      <th>price</th>\n",
       "      <th>vehicle_type</th>\n",
       "      <th>registration_year</th>\n",
       "      <th>gearbox</th>\n",
       "      <th>power</th>\n",
       "      <th>model</th>\n",
       "      <th>mileage</th>\n",
       "      <th>registration_month</th>\n",
       "      <th>fuel_type</th>\n",
       "      <th>brand</th>\n",
       "      <th>not_repaired</th>\n",
       "      <th>date_created</th>\n",
       "      <th>number_of_pictures</th>\n",
       "      <th>postal_code</th>\n",
       "      <th>last_seen</th>\n",
       "    </tr>\n",
       "  </thead>\n",
       "  <tbody>\n",
       "    <tr>\n",
       "      <th>0</th>\n",
       "      <td>2016-03-24 11:52:00</td>\n",
       "      <td>480</td>\n",
       "      <td>NaN</td>\n",
       "      <td>1993</td>\n",
       "      <td>manual</td>\n",
       "      <td>0</td>\n",
       "      <td>golf</td>\n",
       "      <td>150000</td>\n",
       "      <td>0</td>\n",
       "      <td>petrol</td>\n",
       "      <td>volkswagen</td>\n",
       "      <td>NaN</td>\n",
       "      <td>2016-03-24</td>\n",
       "      <td>0</td>\n",
       "      <td>70435</td>\n",
       "      <td>2016-04-07 03:16:00</td>\n",
       "    </tr>\n",
       "    <tr>\n",
       "      <th>1</th>\n",
       "      <td>2016-03-24 10:58:00</td>\n",
       "      <td>18300</td>\n",
       "      <td>coupe</td>\n",
       "      <td>2011</td>\n",
       "      <td>manual</td>\n",
       "      <td>190</td>\n",
       "      <td>NaN</td>\n",
       "      <td>125000</td>\n",
       "      <td>5</td>\n",
       "      <td>gasoline</td>\n",
       "      <td>audi</td>\n",
       "      <td>yes</td>\n",
       "      <td>2016-03-24</td>\n",
       "      <td>0</td>\n",
       "      <td>66954</td>\n",
       "      <td>2016-04-07 01:46:00</td>\n",
       "    </tr>\n",
       "    <tr>\n",
       "      <th>2</th>\n",
       "      <td>2016-03-14 12:52:00</td>\n",
       "      <td>9800</td>\n",
       "      <td>suv</td>\n",
       "      <td>2004</td>\n",
       "      <td>auto</td>\n",
       "      <td>163</td>\n",
       "      <td>grand</td>\n",
       "      <td>125000</td>\n",
       "      <td>8</td>\n",
       "      <td>gasoline</td>\n",
       "      <td>jeep</td>\n",
       "      <td>NaN</td>\n",
       "      <td>2016-03-14</td>\n",
       "      <td>0</td>\n",
       "      <td>90480</td>\n",
       "      <td>2016-04-05 12:47:00</td>\n",
       "    </tr>\n",
       "    <tr>\n",
       "      <th>3</th>\n",
       "      <td>2016-03-17 16:54:00</td>\n",
       "      <td>1500</td>\n",
       "      <td>small</td>\n",
       "      <td>2001</td>\n",
       "      <td>manual</td>\n",
       "      <td>75</td>\n",
       "      <td>golf</td>\n",
       "      <td>150000</td>\n",
       "      <td>6</td>\n",
       "      <td>petrol</td>\n",
       "      <td>volkswagen</td>\n",
       "      <td>no</td>\n",
       "      <td>2016-03-17</td>\n",
       "      <td>0</td>\n",
       "      <td>91074</td>\n",
       "      <td>2016-03-17 17:40:00</td>\n",
       "    </tr>\n",
       "    <tr>\n",
       "      <th>4</th>\n",
       "      <td>2016-03-31 17:25:00</td>\n",
       "      <td>3600</td>\n",
       "      <td>small</td>\n",
       "      <td>2008</td>\n",
       "      <td>manual</td>\n",
       "      <td>69</td>\n",
       "      <td>fabia</td>\n",
       "      <td>90000</td>\n",
       "      <td>7</td>\n",
       "      <td>gasoline</td>\n",
       "      <td>skoda</td>\n",
       "      <td>no</td>\n",
       "      <td>2016-03-31</td>\n",
       "      <td>0</td>\n",
       "      <td>60437</td>\n",
       "      <td>2016-04-06 10:17:00</td>\n",
       "    </tr>\n",
       "  </tbody>\n",
       "</table>\n",
       "</div>"
      ],
      "text/plain": [
       "         date_crawled  price vehicle_type  registration_year gearbox  power  \\\n",
       "0 2016-03-24 11:52:00    480          NaN               1993  manual      0   \n",
       "1 2016-03-24 10:58:00  18300        coupe               2011  manual    190   \n",
       "2 2016-03-14 12:52:00   9800          suv               2004    auto    163   \n",
       "3 2016-03-17 16:54:00   1500        small               2001  manual     75   \n",
       "4 2016-03-31 17:25:00   3600        small               2008  manual     69   \n",
       "\n",
       "   model  mileage  registration_month fuel_type       brand not_repaired  \\\n",
       "0   golf   150000                   0    petrol  volkswagen          NaN   \n",
       "1    NaN   125000                   5  gasoline        audi          yes   \n",
       "2  grand   125000                   8  gasoline        jeep          NaN   \n",
       "3   golf   150000                   6    petrol  volkswagen           no   \n",
       "4  fabia    90000                   7  gasoline       skoda           no   \n",
       "\n",
       "  date_created  number_of_pictures  postal_code           last_seen  \n",
       "0   2016-03-24                   0        70435 2016-04-07 03:16:00  \n",
       "1   2016-03-24                   0        66954 2016-04-07 01:46:00  \n",
       "2   2016-03-14                   0        90480 2016-04-05 12:47:00  \n",
       "3   2016-03-17                   0        91074 2016-03-17 17:40:00  \n",
       "4   2016-03-31                   0        60437 2016-04-06 10:17:00  "
      ]
     },
     "execution_count": 21,
     "metadata": {},
     "output_type": "execute_result"
    }
   ],
   "source": [
    "data_raw.head()"
   ]
  },
  {
   "cell_type": "code",
   "execution_count": 22,
   "id": "b894c2a4",
   "metadata": {},
   "outputs": [
    {
     "name": "stdout",
     "output_type": "stream",
     "text": [
      "<class 'pandas.core.frame.DataFrame'>\n",
      "RangeIndex: 500 entries, 0 to 499\n",
      "Data columns (total 16 columns):\n",
      " #   Column              Non-Null Count  Dtype         \n",
      "---  ------              --------------  -----         \n",
      " 0   date_crawled        500 non-null    datetime64[ns]\n",
      " 1   price               500 non-null    int64         \n",
      " 2   vehicle_type        437 non-null    category      \n",
      " 3   registration_year   500 non-null    int64         \n",
      " 4   gearbox             462 non-null    category      \n",
      " 5   power               500 non-null    int64         \n",
      " 6   model               478 non-null    category      \n",
      " 7   mileage             500 non-null    int64         \n",
      " 8   registration_month  500 non-null    int64         \n",
      " 9   fuel_type           449 non-null    category      \n",
      " 10  brand               500 non-null    category      \n",
      " 11  not_repaired        394 non-null    category      \n",
      " 12  date_created        500 non-null    datetime64[ns]\n",
      " 13  number_of_pictures  500 non-null    int64         \n",
      " 14  postal_code         500 non-null    int64         \n",
      " 15  last_seen           500 non-null    datetime64[ns]\n",
      "dtypes: category(6), datetime64[ns](3), int64(7)\n",
      "memory usage: 57.6 KB\n"
     ]
    }
   ],
   "source": [
    "data_raw.info(memory_usage = 'deep')"
   ]
  },
  {
   "cell_type": "markdown",
   "id": "0216676a",
   "metadata": {},
   "source": [
    "Only 20% of the initial memory use!"
   ]
  },
  {
   "cell_type": "code",
   "execution_count": 23,
   "id": "c9bb7bcc",
   "metadata": {},
   "outputs": [],
   "source": [
    "dtype_dict = {\n",
    "    2: 'category',\n",
    "    4: 'category',\n",
    "    6: 'category',\n",
    "    9: 'category',\n",
    "    10: 'category',\n",
    "    11: 'category'\n",
    "}"
   ]
  },
  {
   "cell_type": "code",
   "execution_count": 24,
   "id": "f5485fc7",
   "metadata": {},
   "outputs": [],
   "source": [
    "data_raw = load('datasets/car_data.csv', parse_dates = [0, 12, 15], dtype = dtype_dict)"
   ]
  },
  {
   "cell_type": "code",
   "execution_count": 25,
   "id": "ae8a4aa9",
   "metadata": {},
   "outputs": [
    {
     "name": "stdout",
     "output_type": "stream",
     "text": [
      "<class 'pandas.core.frame.DataFrame'>\n",
      "RangeIndex: 354369 entries, 0 to 354368\n",
      "Data columns (total 16 columns):\n",
      " #   Column             Non-Null Count   Dtype         \n",
      "---  ------             --------------   -----         \n",
      " 0   DateCrawled        354369 non-null  datetime64[ns]\n",
      " 1   Price              354369 non-null  int64         \n",
      " 2   VehicleType        316879 non-null  category      \n",
      " 3   RegistrationYear   354369 non-null  int64         \n",
      " 4   Gearbox            334536 non-null  category      \n",
      " 5   Power              354369 non-null  int64         \n",
      " 6   Model              334664 non-null  category      \n",
      " 7   Mileage            354369 non-null  int64         \n",
      " 8   RegistrationMonth  354369 non-null  int64         \n",
      " 9   FuelType           321474 non-null  category      \n",
      " 10  Brand              354369 non-null  category      \n",
      " 11  NotRepaired        283215 non-null  category      \n",
      " 12  DateCreated        354369 non-null  datetime64[ns]\n",
      " 13  NumberOfPictures   354369 non-null  int64         \n",
      " 14  PostalCode         354369 non-null  int64         \n",
      " 15  LastSeen           354369 non-null  datetime64[ns]\n",
      "dtypes: category(6), datetime64[ns](3), int64(7)\n",
      "memory usage: 29.4 MB\n"
     ]
    }
   ],
   "source": [
    "data_raw.info(memory_usage = 'deep')"
   ]
  },
  {
   "cell_type": "markdown",
   "id": "cdc14aca",
   "metadata": {},
   "source": [
    "Almost 30 MB; that even with data type correction. 354+ thousand entries."
   ]
  },
  {
   "cell_type": "markdown",
   "id": "cf72a872",
   "metadata": {},
   "source": [
    "OK, let's correct the column names and check duplicates and missing values."
   ]
  },
  {
   "cell_type": "code",
   "execution_count": 26,
   "id": "621ce7b6",
   "metadata": {},
   "outputs": [],
   "source": [
    "data_raw = fix_column_names(data_raw)"
   ]
  },
  {
   "cell_type": "code",
   "execution_count": 27,
   "id": "b473f89c",
   "metadata": {},
   "outputs": [
    {
     "data": {
      "text/html": [
       "<div>\n",
       "<style scoped>\n",
       "    .dataframe tbody tr th:only-of-type {\n",
       "        vertical-align: middle;\n",
       "    }\n",
       "\n",
       "    .dataframe tbody tr th {\n",
       "        vertical-align: top;\n",
       "    }\n",
       "\n",
       "    .dataframe thead th {\n",
       "        text-align: right;\n",
       "    }\n",
       "</style>\n",
       "<table border=\"1\" class=\"dataframe\">\n",
       "  <thead>\n",
       "    <tr style=\"text-align: right;\">\n",
       "      <th></th>\n",
       "      <th>date_crawled</th>\n",
       "      <th>price</th>\n",
       "      <th>vehicle_type</th>\n",
       "      <th>registration_year</th>\n",
       "      <th>gearbox</th>\n",
       "      <th>power</th>\n",
       "      <th>model</th>\n",
       "      <th>mileage</th>\n",
       "      <th>registration_month</th>\n",
       "      <th>fuel_type</th>\n",
       "      <th>brand</th>\n",
       "      <th>not_repaired</th>\n",
       "      <th>date_created</th>\n",
       "      <th>number_of_pictures</th>\n",
       "      <th>postal_code</th>\n",
       "      <th>last_seen</th>\n",
       "    </tr>\n",
       "  </thead>\n",
       "  <tbody>\n",
       "    <tr>\n",
       "      <th>0</th>\n",
       "      <td>2016-03-24 11:52:00</td>\n",
       "      <td>480</td>\n",
       "      <td>NaN</td>\n",
       "      <td>1993</td>\n",
       "      <td>manual</td>\n",
       "      <td>0</td>\n",
       "      <td>golf</td>\n",
       "      <td>150000</td>\n",
       "      <td>0</td>\n",
       "      <td>petrol</td>\n",
       "      <td>volkswagen</td>\n",
       "      <td>NaN</td>\n",
       "      <td>2016-03-24</td>\n",
       "      <td>0</td>\n",
       "      <td>70435</td>\n",
       "      <td>2016-07-04 03:16:00</td>\n",
       "    </tr>\n",
       "    <tr>\n",
       "      <th>1</th>\n",
       "      <td>2016-03-24 10:58:00</td>\n",
       "      <td>18300</td>\n",
       "      <td>coupe</td>\n",
       "      <td>2011</td>\n",
       "      <td>manual</td>\n",
       "      <td>190</td>\n",
       "      <td>NaN</td>\n",
       "      <td>125000</td>\n",
       "      <td>5</td>\n",
       "      <td>gasoline</td>\n",
       "      <td>audi</td>\n",
       "      <td>yes</td>\n",
       "      <td>2016-03-24</td>\n",
       "      <td>0</td>\n",
       "      <td>66954</td>\n",
       "      <td>2016-07-04 01:46:00</td>\n",
       "    </tr>\n",
       "    <tr>\n",
       "      <th>2</th>\n",
       "      <td>2016-03-14 12:52:00</td>\n",
       "      <td>9800</td>\n",
       "      <td>suv</td>\n",
       "      <td>2004</td>\n",
       "      <td>auto</td>\n",
       "      <td>163</td>\n",
       "      <td>grand</td>\n",
       "      <td>125000</td>\n",
       "      <td>8</td>\n",
       "      <td>gasoline</td>\n",
       "      <td>jeep</td>\n",
       "      <td>NaN</td>\n",
       "      <td>2016-03-14</td>\n",
       "      <td>0</td>\n",
       "      <td>90480</td>\n",
       "      <td>2016-05-04 12:47:00</td>\n",
       "    </tr>\n",
       "    <tr>\n",
       "      <th>3</th>\n",
       "      <td>2016-03-17 16:54:00</td>\n",
       "      <td>1500</td>\n",
       "      <td>small</td>\n",
       "      <td>2001</td>\n",
       "      <td>manual</td>\n",
       "      <td>75</td>\n",
       "      <td>golf</td>\n",
       "      <td>150000</td>\n",
       "      <td>6</td>\n",
       "      <td>petrol</td>\n",
       "      <td>volkswagen</td>\n",
       "      <td>no</td>\n",
       "      <td>2016-03-17</td>\n",
       "      <td>0</td>\n",
       "      <td>91074</td>\n",
       "      <td>2016-03-17 17:40:00</td>\n",
       "    </tr>\n",
       "    <tr>\n",
       "      <th>4</th>\n",
       "      <td>2016-03-31 17:25:00</td>\n",
       "      <td>3600</td>\n",
       "      <td>small</td>\n",
       "      <td>2008</td>\n",
       "      <td>manual</td>\n",
       "      <td>69</td>\n",
       "      <td>fabia</td>\n",
       "      <td>90000</td>\n",
       "      <td>7</td>\n",
       "      <td>gasoline</td>\n",
       "      <td>skoda</td>\n",
       "      <td>no</td>\n",
       "      <td>2016-03-31</td>\n",
       "      <td>0</td>\n",
       "      <td>60437</td>\n",
       "      <td>2016-06-04 10:17:00</td>\n",
       "    </tr>\n",
       "  </tbody>\n",
       "</table>\n",
       "</div>"
      ],
      "text/plain": [
       "         date_crawled  price vehicle_type  registration_year gearbox  power  \\\n",
       "0 2016-03-24 11:52:00    480          NaN               1993  manual      0   \n",
       "1 2016-03-24 10:58:00  18300        coupe               2011  manual    190   \n",
       "2 2016-03-14 12:52:00   9800          suv               2004    auto    163   \n",
       "3 2016-03-17 16:54:00   1500        small               2001  manual     75   \n",
       "4 2016-03-31 17:25:00   3600        small               2008  manual     69   \n",
       "\n",
       "   model  mileage  registration_month fuel_type       brand not_repaired  \\\n",
       "0   golf   150000                   0    petrol  volkswagen          NaN   \n",
       "1    NaN   125000                   5  gasoline        audi          yes   \n",
       "2  grand   125000                   8  gasoline        jeep          NaN   \n",
       "3   golf   150000                   6    petrol  volkswagen           no   \n",
       "4  fabia    90000                   7  gasoline       skoda           no   \n",
       "\n",
       "  date_created  number_of_pictures  postal_code           last_seen  \n",
       "0   2016-03-24                   0        70435 2016-07-04 03:16:00  \n",
       "1   2016-03-24                   0        66954 2016-07-04 01:46:00  \n",
       "2   2016-03-14                   0        90480 2016-05-04 12:47:00  \n",
       "3   2016-03-17                   0        91074 2016-03-17 17:40:00  \n",
       "4   2016-03-31                   0        60437 2016-06-04 10:17:00  "
      ]
     },
     "execution_count": 27,
     "metadata": {},
     "output_type": "execute_result"
    }
   ],
   "source": [
    "data_raw.head()"
   ]
  },
  {
   "cell_type": "markdown",
   "id": "845b480b",
   "metadata": {},
   "source": [
    "[Back to Content](#content)"
   ]
  },
  {
   "cell_type": "markdown",
   "id": "47301814",
   "metadata": {},
   "source": [
    "### Duplicates"
   ]
  },
  {
   "cell_type": "markdown",
   "id": "8e0228ce",
   "metadata": {},
   "source": [
    "There can be cases that the same car was listed several times, so we have to check whether there are cases like that. To this end, we will check implicitly duplicated rows. First, let's make a generic check:"
   ]
  },
  {
   "cell_type": "code",
   "execution_count": 28,
   "id": "ed5315da",
   "metadata": {},
   "outputs": [
    {
     "data": {
      "text/plain": [
       "262"
      ]
     },
     "execution_count": 28,
     "metadata": {},
     "output_type": "execute_result"
    }
   ],
   "source": [
    "data_raw.duplicated().sum()"
   ]
  },
  {
   "cell_type": "markdown",
   "id": "15f67ac1",
   "metadata": {},
   "source": [
    "Let's also make a more specific check that does not count for date variables:"
   ]
  },
  {
   "cell_type": "code",
   "execution_count": 29,
   "id": "b5e26172",
   "metadata": {},
   "outputs": [],
   "source": [
    "columns_to_check = [name for name in data_raw.columns if name not in date_variables]"
   ]
  },
  {
   "cell_type": "code",
   "execution_count": 30,
   "id": "72aa54bd",
   "metadata": {},
   "outputs": [],
   "source": [
    "cars_dup = data_raw[data_raw.duplicated(columns_to_check)]"
   ]
  },
  {
   "cell_type": "code",
   "execution_count": 31,
   "id": "e7d6d604",
   "metadata": {},
   "outputs": [
    {
     "data": {
      "text/plain": [
       "21333"
      ]
     },
     "execution_count": 31,
     "metadata": {},
     "output_type": "execute_result"
    }
   ],
   "source": [
    "len(cars_dup)"
   ]
  },
  {
   "cell_type": "markdown",
   "id": "1dcb5aa3",
   "metadata": {},
   "source": [
    "OK, we seem to have 262 fully duplicated entries and 21333 out of 354368 are implicite duplicates, which essentially look like the same cars (note, that that includs miliage, the postal code of the car and the price), which might be crawled and published twice or more, so the listing would have different last time seen. To avoid any biases, we will drop these entries:"
   ]
  },
  {
   "cell_type": "code",
   "execution_count": 32,
   "id": "0f36d71f",
   "metadata": {},
   "outputs": [],
   "source": [
    "data_raw = data_raw.drop_duplicates(columns_to_check).reset_index(drop=True)"
   ]
  },
  {
   "cell_type": "code",
   "execution_count": 33,
   "id": "9484329e",
   "metadata": {},
   "outputs": [
    {
     "name": "stdout",
     "output_type": "stream",
     "text": [
      "<class 'pandas.core.frame.DataFrame'>\n",
      "RangeIndex: 333036 entries, 0 to 333035\n",
      "Data columns (total 16 columns):\n",
      " #   Column              Non-Null Count   Dtype         \n",
      "---  ------              --------------   -----         \n",
      " 0   date_crawled        333036 non-null  datetime64[ns]\n",
      " 1   price               333036 non-null  int64         \n",
      " 2   vehicle_type        296896 non-null  category      \n",
      " 3   registration_year   333036 non-null  int64         \n",
      " 4   gearbox             314021 non-null  category      \n",
      " 5   power               333036 non-null  int64         \n",
      " 6   model               314013 non-null  category      \n",
      " 7   mileage             333036 non-null  int64         \n",
      " 8   registration_month  333036 non-null  int64         \n",
      " 9   fuel_type           301134 non-null  category      \n",
      " 10  brand               333036 non-null  category      \n",
      " 11  not_repaired        264973 non-null  category      \n",
      " 12  date_created        333036 non-null  datetime64[ns]\n",
      " 13  number_of_pictures  333036 non-null  int64         \n",
      " 14  postal_code         333036 non-null  int64         \n",
      " 15  last_seen           333036 non-null  datetime64[ns]\n",
      "dtypes: category(6), datetime64[ns](3), int64(7)\n",
      "memory usage: 27.6 MB\n"
     ]
    }
   ],
   "source": [
    "data_raw.info()"
   ]
  },
  {
   "cell_type": "markdown",
   "id": "3b15ca7f",
   "metadata": {},
   "source": [
    "[Back to Content](#content)"
   ]
  },
  {
   "cell_type": "markdown",
   "id": "bb42fa57",
   "metadata": {},
   "source": [
    "### Missing values"
   ]
  },
  {
   "cell_type": "markdown",
   "id": "d7ab00ef",
   "metadata": {},
   "source": [
    "#### Exploring missing values"
   ]
  },
  {
   "cell_type": "markdown",
   "id": "b594db64",
   "metadata": {},
   "source": [
    "In the previous section, we have seen that there are variables with missing values:\n",
    "- `vehicle_type`\n",
    "- `gearbox`\n",
    "- `model`\n",
    "- `fuel_type`\n",
    "- `not_repaired`"
   ]
  },
  {
   "cell_type": "markdown",
   "id": "8ff0e4f6",
   "metadata": {},
   "source": [
    "Let's see the exact shares of missing variables."
   ]
  },
  {
   "cell_type": "code",
   "execution_count": 34,
   "id": "19b045d0",
   "metadata": {},
   "outputs": [
    {
     "data": {
      "text/plain": [
       "date_crawled          0.000000\n",
       "price                 0.000000\n",
       "vehicle_type          0.108517\n",
       "registration_year     0.000000\n",
       "gearbox               0.057096\n",
       "power                 0.000000\n",
       "model                 0.057120\n",
       "mileage               0.000000\n",
       "registration_month    0.000000\n",
       "fuel_type             0.095791\n",
       "brand                 0.000000\n",
       "not_repaired          0.204371\n",
       "date_created          0.000000\n",
       "number_of_pictures    0.000000\n",
       "postal_code           0.000000\n",
       "last_seen             0.000000\n",
       "dtype: float64"
      ]
     },
     "execution_count": 34,
     "metadata": {},
     "output_type": "execute_result"
    }
   ],
   "source": [
    "data_raw.isna().sum()/len(data_raw)"
   ]
  },
  {
   "cell_type": "markdown",
   "id": "5832f40a",
   "metadata": {},
   "source": [
    "One variable lacks about 20% of the values, two about 10%, and two about 6%."
   ]
  },
  {
   "cell_type": "markdown",
   "id": "80af9503",
   "metadata": {},
   "source": [
    "We will replace the NaN values in `vehicle_type`, `model`, and `not_repaired` with category `unknown`:"
   ]
  },
  {
   "cell_type": "code",
   "execution_count": 35,
   "id": "28578859",
   "metadata": {},
   "outputs": [],
   "source": [
    "data = data_raw.copy()"
   ]
  },
  {
   "cell_type": "code",
   "execution_count": 36,
   "id": "45f94c36",
   "metadata": {},
   "outputs": [],
   "source": [
    "unknown_cat = ['vehicle_type', 'model', 'not_repaired']\n",
    "for var in unknown_cat:\n",
    "    data[var] = np.where(data[var].isna(), 'unknown', data[var])  #  replacement in categorical variables"
   ]
  },
  {
   "cell_type": "code",
   "execution_count": 37,
   "id": "4e8145a9",
   "metadata": {},
   "outputs": [
    {
     "data": {
      "text/plain": [
       "date_crawled          0.000000\n",
       "price                 0.000000\n",
       "vehicle_type          0.000000\n",
       "registration_year     0.000000\n",
       "gearbox               0.057096\n",
       "power                 0.000000\n",
       "model                 0.000000\n",
       "mileage               0.000000\n",
       "registration_month    0.000000\n",
       "fuel_type             0.095791\n",
       "brand                 0.000000\n",
       "not_repaired          0.000000\n",
       "date_created          0.000000\n",
       "number_of_pictures    0.000000\n",
       "postal_code           0.000000\n",
       "last_seen             0.000000\n",
       "dtype: float64"
      ]
     },
     "execution_count": 37,
     "metadata": {},
     "output_type": "execute_result"
    }
   ],
   "source": [
    "data.isna().sum()/len(data)"
   ]
  },
  {
   "cell_type": "markdown",
   "id": "5fad3736",
   "metadata": {},
   "source": [
    "Let's now check out the relationships between the `gearbox`, `fuel_type`, `vehicle_type`, and `power` variables. It seems to be a reasonable assumption that these are highly correlated characteristics."
   ]
  },
  {
   "cell_type": "markdown",
   "id": "ce1deb6f",
   "metadata": {},
   "source": [
    "Firrst, we will plot the distribution of `power` variable values:"
   ]
  },
  {
   "cell_type": "code",
   "execution_count": 38,
   "id": "167b01a5",
   "metadata": {},
   "outputs": [
    {
     "data": {
      "image/png": "[encoded data removed]",
      "text/plain": [
       "<Figure size 1152x216 with 1 Axes>"
      ]
     },
     "metadata": {
      "needs_background": "light"
     },
     "output_type": "display_data"
    }
   ],
   "source": [
    "plt.figure(figsize=(16, 3))\n",
    "data['power'].hist(color = \"green\", bins = 100, density=True, alpha = 0.8)\n",
    "plt.title('Values of `power` for manual and auto gearbox')\n",
    "plt.xlabel('Value')\n",
    "plt.ylabel('Count')\n",
    "plt.show()"
   ]
  },
  {
   "cell_type": "code",
   "execution_count": 39,
   "id": "570c2f1c",
   "metadata": {},
   "outputs": [
    {
     "data": {
      "text/plain": [
       "0.001348202596716271"
      ]
     },
     "execution_count": 39,
     "metadata": {},
     "output_type": "execute_result"
    }
   ],
   "source": [
    "len(data.query('power > 500'))/len(data)"
   ]
  },
  {
   "cell_type": "markdown",
   "id": "36660049",
   "metadata": {},
   "source": [
    "We see, there are some outliers, let's drop the values above 500:"
   ]
  },
  {
   "cell_type": "code",
   "execution_count": 40,
   "id": "82ffb13b",
   "metadata": {},
   "outputs": [],
   "source": [
    "data = data.query('power < 500').reset_index()"
   ]
  },
  {
   "cell_type": "code",
   "execution_count": 41,
   "id": "0d3bd159",
   "metadata": {},
   "outputs": [
    {
     "data": {
      "image/png": "[encoded data removed]",
      "text/plain": [
       "<Figure size 1152x216 with 1 Axes>"
      ]
     },
     "metadata": {
      "needs_background": "light"
     },
     "output_type": "display_data"
    }
   ],
   "source": [
    "plt.figure(figsize=(16, 3))\n",
    "data['power'].hist(color = \"green\", bins = 50, density=True, alpha = 0.8)\n",
    "plt.title('Values of `power` for manual and auto gearbox')\n",
    "plt.xlabel('Value')\n",
    "plt.ylabel('Count')\n",
    "plt.show()"
   ]
  },
  {
   "cell_type": "markdown",
   "id": "401d7760",
   "metadata": {},
   "source": [
    "OK, now we see there are cars with zero power..."
   ]
  },
  {
   "cell_type": "code",
   "execution_count": 42,
   "id": "0a11a77c",
   "metadata": {},
   "outputs": [
    {
     "data": {
      "text/plain": [
       "0.11626522327469553"
      ]
     },
     "execution_count": 42,
     "metadata": {},
     "output_type": "execute_result"
    }
   ],
   "source": [
    "len(data.query('power == 0'))/len(data)"
   ]
  },
  {
   "cell_type": "markdown",
   "id": "d3d4dc71",
   "metadata": {},
   "source": [
    "... and there are 11% of these cars."
   ]
  },
  {
   "cell_type": "markdown",
   "id": "09b190b7",
   "metadata": {},
   "source": [
    "Let's replace these zeroes with NaNs and see how we can treat them later on:"
   ]
  },
  {
   "cell_type": "code",
   "execution_count": 43,
   "id": "5454a150",
   "metadata": {},
   "outputs": [],
   "source": [
    "data['power'] = data['power'].replace(0,np.NaN)   # replacement in numerical variables"
   ]
  },
  {
   "cell_type": "code",
   "execution_count": 44,
   "id": "74ecba04",
   "metadata": {},
   "outputs": [
    {
     "data": {
      "text/plain": [
       "(332550, 17)"
      ]
     },
     "execution_count": 44,
     "metadata": {},
     "output_type": "execute_result"
    }
   ],
   "source": [
    "# check the overall number of observations\n",
    "data.shape"
   ]
  },
  {
   "cell_type": "code",
   "execution_count": 45,
   "id": "0bdbb976",
   "metadata": {},
   "outputs": [
    {
     "data": {
      "text/plain": [
       "index                 0.000000\n",
       "date_crawled          0.000000\n",
       "price                 0.000000\n",
       "vehicle_type          0.000000\n",
       "registration_year     0.000000\n",
       "gearbox               0.057083\n",
       "power                 0.116265\n",
       "model                 0.000000\n",
       "mileage               0.000000\n",
       "registration_month    0.000000\n",
       "fuel_type             0.095619\n",
       "brand                 0.000000\n",
       "not_repaired          0.000000\n",
       "date_created          0.000000\n",
       "number_of_pictures    0.000000\n",
       "postal_code           0.000000\n",
       "last_seen             0.000000\n",
       "dtype: float64"
      ]
     },
     "execution_count": 45,
     "metadata": {},
     "output_type": "execute_result"
    }
   ],
   "source": [
    "data.isna().sum()/len(data)"
   ]
  },
  {
   "cell_type": "markdown",
   "id": "81585d6d",
   "metadata": {},
   "source": [
    "Let's study vehicles by `fuel_type`:"
   ]
  },
  {
   "cell_type": "code",
   "execution_count": 46,
   "id": "7b2a23f0",
   "metadata": {},
   "outputs": [
    {
     "data": {
      "image/png": "[encoded data removed]",
      "text/plain": [
       "<Figure size 1152x288 with 1 Axes>"
      ]
     },
     "metadata": {
      "needs_background": "light"
     },
     "output_type": "display_data"
    }
   ],
   "source": [
    "sns.catplot(x='fuel_type', y='power', data=data[data['power'] > 0], height=4, aspect=4, alpha = 0.3)\n",
    "plt.xlabel(\"\")\n",
    "plt.ylabel(\"power\", labelpad=15)\n",
    "plt.title(\"Distribution of power by fuel type\", y=0.8)\n",
    "plt.show()"
   ]
  },
  {
   "cell_type": "code",
   "execution_count": 47,
   "id": "d35a015e",
   "metadata": {},
   "outputs": [
    {
     "data": {
      "image/png": "[encoded data removed]",
      "text/plain": [
       "<Figure size 1152x432 with 1 Axes>"
      ]
     },
     "metadata": {
      "needs_background": "light"
     },
     "output_type": "display_data"
    }
   ],
   "source": [
    "plt.figure(figsize=(16, 6))\n",
    "sns.boxplot(x='fuel_type', y='power', data=data[data['power'] > 0])\n",
    "plt.xlabel(\"\")\n",
    "plt.ylabel(\"power\", labelpad=15)\n",
    "plt.title(\"Distribution of power by fuel type\", y=0.8)\n",
    "plt.show()"
   ]
  },
  {
   "cell_type": "markdown",
   "id": "5da2f4ed",
   "metadata": {},
   "source": [
    "First, we see that among petrol cars the share of more powerfull cars is lower, although there are more outliers. In addition, we see that there are vehicles with `power` values less than 30, which is unreasonable for a car; we will add these values to missing ones to see how we can fill them later on."
   ]
  },
  {
   "cell_type": "code",
   "execution_count": 48,
   "id": "77cec916",
   "metadata": {},
   "outputs": [],
   "source": [
    "data['power'] = np.where(data['power']<30, np.NaN, data['power'])"
   ]
  },
  {
   "cell_type": "code",
   "execution_count": 49,
   "id": "69384292",
   "metadata": {},
   "outputs": [
    {
     "data": {
      "text/plain": [
       "index                 0.000000\n",
       "date_crawled          0.000000\n",
       "price                 0.000000\n",
       "vehicle_type          0.000000\n",
       "registration_year     0.000000\n",
       "gearbox               0.057083\n",
       "power                 0.118887\n",
       "model                 0.000000\n",
       "mileage               0.000000\n",
       "registration_month    0.000000\n",
       "fuel_type             0.095619\n",
       "brand                 0.000000\n",
       "not_repaired          0.000000\n",
       "date_created          0.000000\n",
       "number_of_pictures    0.000000\n",
       "postal_code           0.000000\n",
       "last_seen             0.000000\n",
       "dtype: float64"
      ]
     },
     "execution_count": 49,
     "metadata": {},
     "output_type": "execute_result"
    }
   ],
   "source": [
    "data.isna().sum()/len(data)"
   ]
  },
  {
   "cell_type": "markdown",
   "id": "4f3293f7",
   "metadata": {},
   "source": [
    "Let's check the distribution of power by fuel type again:"
   ]
  },
  {
   "cell_type": "code",
   "execution_count": 50,
   "id": "8bf974c7",
   "metadata": {},
   "outputs": [
    {
     "data": {
      "image/png": "[encoded data removed]",
      "text/plain": [
       "<Figure size 1152x288 with 1 Axes>"
      ]
     },
     "metadata": {
      "needs_background": "light"
     },
     "output_type": "display_data"
    }
   ],
   "source": [
    "sns.catplot(x='fuel_type', y='power', data=data[data['power'] > 0], height=4, aspect=4, alpha = 0.3)\n",
    "plt.xlabel(\"\")\n",
    "plt.ylabel(\"power\", labelpad=15)\n",
    "plt.title(\"Distribution of power by fuel type\", y=0.8)\n",
    "plt.show()"
   ]
  },
  {
   "cell_type": "code",
   "execution_count": 51,
   "id": "6f6a887e",
   "metadata": {},
   "outputs": [
    {
     "data": {
      "image/png": "[encoded data removed]",
      "text/plain": [
       "<Figure size 1152x432 with 1 Axes>"
      ]
     },
     "metadata": {
      "needs_background": "light"
     },
     "output_type": "display_data"
    }
   ],
   "source": [
    "plt.figure(figsize=(16, 6))\n",
    "sns.boxplot(x='fuel_type', y='power', data=data[data['power'] > 0])\n",
    "plt.xlabel(\"\")\n",
    "plt.ylabel(\"power\", labelpad=15)\n",
    "plt.title(\"Distribution of power by fuel type\", y=0.8)\n",
    "plt.show()"
   ]
  },
  {
   "cell_type": "markdown",
   "id": "ae9521ca",
   "metadata": {},
   "source": [
    "Now, let's study the vehicles by types:"
   ]
  },
  {
   "cell_type": "code",
   "execution_count": 52,
   "id": "83cbe2c0",
   "metadata": {},
   "outputs": [
    {
     "data": {
      "text/plain": [
       "sedan          0.257158\n",
       "small          0.224838\n",
       "wagon          0.182857\n",
       "unknown        0.108438\n",
       "bus            0.081272\n",
       "convertible    0.056800\n",
       "coupe          0.045798\n",
       "suv            0.033312\n",
       "other          0.009526\n",
       "Name: vehicle_type, dtype: float64"
      ]
     },
     "execution_count": 52,
     "metadata": {},
     "output_type": "execute_result"
    }
   ],
   "source": [
    "data['vehicle_type'].value_counts(normalize = True)"
   ]
  },
  {
   "cell_type": "code",
   "execution_count": 53,
   "id": "ab205e12",
   "metadata": {},
   "outputs": [],
   "source": [
    "vehicle_type_list = [name for name in list(data['vehicle_type'].unique()) if name not in ['other', 'unknown']]"
   ]
  },
  {
   "cell_type": "code",
   "execution_count": 54,
   "id": "d95a0c42",
   "metadata": {},
   "outputs": [
    {
     "data": {
      "image/png": "[encoded data removed]",
      "text/plain": [
       "<Figure size 1152x288 with 1 Axes>"
      ]
     },
     "metadata": {
      "needs_background": "light"
     },
     "output_type": "display_data"
    }
   ],
   "source": [
    "sns.catplot(x='vehicle_type', y='power', data=data[data['power'] > 0], height=4, aspect=4, alpha = 0.3)\n",
    "plt.xlabel(\"\")\n",
    "plt.ylabel(\"power\", labelpad=15)\n",
    "plt.title(\"Distribution of power by vehicle type\", y=0.8)\n",
    "plt.show()"
   ]
  },
  {
   "cell_type": "markdown",
   "id": "e8193dc7",
   "metadata": {},
   "source": [
    "Small cars naturally have less powerfull engines; however, we also see that the category called `buses` has the same range of the `power` variable values as small cars..."
   ]
  },
  {
   "cell_type": "markdown",
   "id": "607fc380",
   "metadata": {},
   "source": [
    "OK, let's take a look at the distributions of the `power` variable by gear type:"
   ]
  },
  {
   "cell_type": "code",
   "execution_count": 55,
   "id": "1351b8d3",
   "metadata": {
    "scrolled": true
   },
   "outputs": [
    {
     "data": {
      "image/png": "[encoded data removed]",
      "text/plain": [
       "<Figure size 1152x216 with 1 Axes>"
      ]
     },
     "metadata": {
      "needs_background": "light"
     },
     "output_type": "display_data"
    }
   ],
   "source": [
    "plt.figure(figsize=(16, 3))\n",
    "data[(data['gearbox']=='manual') & (data['power']>0)]['power'].hist(color = \"rebeccapurple\",\n",
    "                                                                    bins = 50, density=True, alpha = 0.8)\n",
    "data[(data['gearbox']=='auto') & (data['power']>0)]['power'].hist(color = \"blue\", bins = 50, density = True, alpha = 0.5)\n",
    "plt.title('Values of `power` for manual and auto gearbox')\n",
    "plt.xlabel('Value')\n",
    "plt.ylabel('Count')\n",
    "plt.legend(['manual', 'auto'])\n",
    "plt.xlim(0,500)\n",
    "plt.show()"
   ]
  },
  {
   "cell_type": "markdown",
   "id": "88a893b6",
   "metadata": {},
   "source": [
    "From the analysis before, it follows that it can be a reasonable idea to try to predict the missing variables, e.g. by using a `RandomForestClassifier` model for category variables and `RandomForesrRegressor` for numerical variables. For the predictions to be good enough, their scoring metrics should be above whatever any dummy model scores. Although, the underlying idea of the whole exercise is that any such model will work better, than simply plugging a mode/median/mean value, especially when there are more than 2 categories and the observations are more or less uniformely distributed by those categories.\n",
    "\n",
    "To accomplish this task, we will:\n",
    "- extract the dataset (variables) for modeling (from the initial dataset `data_raw`);\n",
    "- extract a clean subset, without missing values, to use for modeling;\n",
    "- choose a variable to fill in missing values and apply modeling:\n",
    "    - extract the subset with missing values for the variable of interest;\n",
    "    - create a model with that variable as a target to fill in the missing values;\n",
    "    - use the model to predict missing values;\n",
    "    - concatinate the observations with the predicted missing values with the clean subset and update the clean subset;\n",
    "- choose the next variable to predict and repeat the modeling for it."
   ]
  },
  {
   "cell_type": "markdown",
   "id": "69ea2eec",
   "metadata": {},
   "source": [
    "NOTE: there are observations for which two and more variables have missing values; in this case, filling the missing values will be iterative."
   ]
  },
  {
   "cell_type": "markdown",
   "id": "ceda9372",
   "metadata": {},
   "source": [
    "[Back to Content](#content)"
   ]
  },
  {
   "cell_type": "markdown",
   "id": "aad3bb26",
   "metadata": {},
   "source": [
    "#### Predicting missing values in car technical specification variables"
   ]
  },
  {
   "cell_type": "markdown",
   "id": "627caabe",
   "metadata": {},
   "source": [
    "1. Let us choose the variables to use for predicting the missing values:"
   ]
  },
  {
   "cell_type": "code",
   "execution_count": 56,
   "id": "d5da1b4c",
   "metadata": {},
   "outputs": [],
   "source": [
    "missing_models_vars = ['vehicle_type', 'gearbox', 'fuel_type', 'power', 'brand', 'model']"
   ]
  },
  {
   "cell_type": "code",
   "execution_count": 57,
   "id": "754dc610",
   "metadata": {},
   "outputs": [],
   "source": [
    "missing_models_cat_vars = ['vehicle_type', 'gearbox', 'fuel_type', 'brand', 'model']"
   ]
  },
  {
   "cell_type": "code",
   "execution_count": 58,
   "id": "dc2fc793",
   "metadata": {},
   "outputs": [],
   "source": [
    "data_to_model_missing = data_raw[missing_models_vars].copy()"
   ]
  },
  {
   "cell_type": "code",
   "execution_count": 59,
   "id": "3f3891c5",
   "metadata": {},
   "outputs": [],
   "source": [
    "# unclear `power` data -> missing\n",
    "data_to_model_missing['power'] = np.where(data_to_model_missing['power']<30, np.nan, data_to_model_missing['power'])"
   ]
  },
  {
   "cell_type": "markdown",
   "id": "2f685278",
   "metadata": {},
   "source": [
    "The share of the observations before filling in any missing values:"
   ]
  },
  {
   "cell_type": "code",
   "execution_count": 60,
   "id": "7f5b3abb",
   "metadata": {},
   "outputs": [
    {
     "data": {
      "text/plain": [
       "0.7486247732977817"
      ]
     },
     "execution_count": 60,
     "metadata": {},
     "output_type": "execute_result"
    }
   ],
   "source": [
    "data_to_model_missing.dropna().shape[0] / data_raw.shape[0]"
   ]
  },
  {
   "cell_type": "markdown",
   "id": "dd6e96ff",
   "metadata": {},
   "source": [
    "25% of the initial dataset contain missing values either in one or more variables."
   ]
  },
  {
   "cell_type": "code",
   "execution_count": 61,
   "id": "5af22e60",
   "metadata": {},
   "outputs": [
    {
     "name": "stdout",
     "output_type": "stream",
     "text": [
      "<class 'pandas.core.frame.DataFrame'>\n",
      "RangeIndex: 333036 entries, 0 to 333035\n",
      "Data columns (total 6 columns):\n",
      " #   Column        Non-Null Count   Dtype   \n",
      "---  ------        --------------   -----   \n",
      " 0   vehicle_type  296896 non-null  category\n",
      " 1   gearbox       314021 non-null  category\n",
      " 2   fuel_type     301134 non-null  category\n",
      " 3   power         293500 non-null  float64 \n",
      " 4   brand         333036 non-null  category\n",
      " 5   model         314013 non-null  category\n",
      "dtypes: category(5), float64(1)\n",
      "memory usage: 4.5 MB\n"
     ]
    }
   ],
   "source": [
    "data_to_model_missing.info()"
   ]
  },
  {
   "cell_type": "code",
   "execution_count": 62,
   "id": "d255c522",
   "metadata": {},
   "outputs": [],
   "source": [
    "data_to_model_missing_vars_order = list(data_to_model_missing.isna().sum().sort_values().index)"
   ]
  },
  {
   "cell_type": "code",
   "execution_count": 63,
   "id": "fc93237d",
   "metadata": {},
   "outputs": [
    {
     "data": {
      "text/plain": [
       "['brand', 'gearbox', 'model', 'fuel_type', 'vehicle_type', 'power']"
      ]
     },
     "execution_count": 63,
     "metadata": {},
     "output_type": "execute_result"
    }
   ],
   "source": [
    "data_to_model_missing_vars_order"
   ]
  },
  {
   "cell_type": "code",
   "execution_count": 64,
   "id": "d21671ac",
   "metadata": {},
   "outputs": [],
   "source": [
    "# order the categorical variables list by ascending amount of missing values\n",
    "missing_models_cat_vars_ordered = [x for x in data_to_model_missing_vars_order if x in missing_models_cat_vars]"
   ]
  },
  {
   "cell_type": "markdown",
   "id": "16167a05",
   "metadata": {},
   "source": [
    "This is the order, in which we will model the missing values, starting from `gearbox` (variable `brand` has no missing values)."
   ]
  },
  {
   "cell_type": "code",
   "execution_count": 65,
   "id": "4943803e",
   "metadata": {},
   "outputs": [
    {
     "data": {
      "text/plain": [
       "['brand', 'gearbox', 'model', 'fuel_type', 'vehicle_type']"
      ]
     },
     "execution_count": 65,
     "metadata": {},
     "output_type": "execute_result"
    }
   ],
   "source": [
    "missing_models_cat_vars_ordered"
   ]
  },
  {
   "cell_type": "markdown",
   "id": "5e737eb8",
   "metadata": {},
   "source": [
    "**2.1 Extract a clean subset with the variables of interest:**"
   ]
  },
  {
   "cell_type": "code",
   "execution_count": 66,
   "id": "63e58c2a",
   "metadata": {},
   "outputs": [],
   "source": [
    "data_without_missing = data_to_model_missing.dropna()"
   ]
  },
  {
   "cell_type": "code",
   "execution_count": 67,
   "id": "84f76eeb",
   "metadata": {
    "scrolled": true
   },
   "outputs": [
    {
     "name": "stdout",
     "output_type": "stream",
     "text": [
      "<class 'pandas.core.frame.DataFrame'>\n",
      "Int64Index: 249319 entries, 2 to 333035\n",
      "Data columns (total 6 columns):\n",
      " #   Column        Non-Null Count   Dtype   \n",
      "---  ------        --------------   -----   \n",
      " 0   vehicle_type  249319 non-null  category\n",
      " 1   gearbox       249319 non-null  category\n",
      " 2   fuel_type     249319 non-null  category\n",
      " 3   power         249319 non-null  float64 \n",
      " 4   brand         249319 non-null  category\n",
      " 5   model         249319 non-null  category\n",
      "dtypes: category(5), float64(1)\n",
      "memory usage: 5.2 MB\n"
     ]
    }
   ],
   "source": [
    "data_without_missing.info()"
   ]
  },
  {
   "cell_type": "markdown",
   "id": "b60b9cf5",
   "metadata": {},
   "source": [
    "**3.1 We will extract the subset with missing values for the first variable of interest, the one with the least amount of the missing values, `gearbox`:**"
   ]
  },
  {
   "cell_type": "code",
   "execution_count": 68,
   "id": "b92b561a",
   "metadata": {},
   "outputs": [],
   "source": [
    "def missing_values_subset_by_var(df: pd.DataFrame, missing_var: str):\n",
    "    \"\"\"Returns a subset of `df` in which values for only one variable, `missing_var`, are missing.\"\"\"\n",
    "    list_of_vars = df.columns.to_list()\n",
    "    dropna_vars = [name for name in list_of_vars if name != missing_var]\n",
    "    return df[df[missing_var].isna()].dropna(subset=dropna_vars)"
   ]
  },
  {
   "cell_type": "code",
   "execution_count": 69,
   "id": "2077eca6",
   "metadata": {},
   "outputs": [
    {
     "name": "stdout",
     "output_type": "stream",
     "text": [
      "<class 'pandas.core.frame.DataFrame'>\n",
      "Int64Index: 3181 entries, 208 to 332962\n",
      "Data columns (total 6 columns):\n",
      " #   Column        Non-Null Count  Dtype   \n",
      "---  ------        --------------  -----   \n",
      " 0   vehicle_type  3181 non-null   category\n",
      " 1   gearbox       0 non-null      category\n",
      " 2   fuel_type     3181 non-null   category\n",
      " 3   power         3181 non-null   float64 \n",
      " 4   brand         3181 non-null   category\n",
      " 5   model         3181 non-null   category\n",
      "dtypes: category(5), float64(1)\n",
      "memory usage: 80.6 KB\n"
     ]
    }
   ],
   "source": [
    "gearbox_missing = missing_values_subset_by_var(data_to_model_missing, 'gearbox')\n",
    "gearbox_missing.info()"
   ]
  },
  {
   "cell_type": "markdown",
   "id": "990ad40e",
   "metadata": {},
   "source": [
    "**4.1 Now, let's build a model with the `gearbox` variable as target (based on the source code [here](https://medium.com/analytics-vidhya/handle-missing-values-in-categorical-features-b7c5b073dda2)):**"
   ]
  },
  {
   "cell_type": "markdown",
   "id": "349c83a2",
   "metadata": {},
   "source": [
    "First, we encode the categorical variables:"
   ]
  },
  {
   "cell_type": "code",
   "execution_count": 70,
   "id": "835b012a",
   "metadata": {},
   "outputs": [],
   "source": [
    "def encoding_dict(df,col_name):\n",
    "    \"\"\"Builds a map of categories to codes\"\"\"\n",
    "    keys = list(df[col_name].unique())\n",
    "    mapping = {}\n",
    "    for tup in list(zip(keys, range(0,len(keys)))):\n",
    "        mapping[tup[0]] = tup[1]\n",
    "    return mapping"
   ]
  },
  {
   "cell_type": "markdown",
   "id": "7ad4130c",
   "metadata": {},
   "source": [
    "Example:"
   ]
  },
  {
   "cell_type": "code",
   "execution_count": 71,
   "id": "2461569e",
   "metadata": {},
   "outputs": [],
   "source": [
    "vehicle_type_dict = encoding_dict(data_without_missing, 'vehicle_type')"
   ]
  },
  {
   "cell_type": "code",
   "execution_count": 72,
   "id": "f6d8909c",
   "metadata": {},
   "outputs": [
    {
     "data": {
      "text/plain": [
       "{'suv': 0,\n",
       " 'small': 1,\n",
       " 'sedan': 2,\n",
       " 'convertible': 3,\n",
       " 'bus': 4,\n",
       " 'wagon': 5,\n",
       " 'coupe': 6,\n",
       " 'other': 7}"
      ]
     },
     "execution_count": 72,
     "metadata": {},
     "output_type": "execute_result"
    }
   ],
   "source": [
    "vehicle_type_dict"
   ]
  },
  {
   "cell_type": "code",
   "execution_count": 73,
   "id": "bae59302",
   "metadata": {},
   "outputs": [],
   "source": [
    "data_without_missing_encoded = data_without_missing.copy()\n",
    "for col in missing_models_cat_vars:\n",
    "    data_without_missing_encoded[col] = data_without_missing_encoded[col].map(encoding_dict(data_to_model_missing, col)) "
   ]
  },
  {
   "cell_type": "code",
   "execution_count": 74,
   "id": "f2dfcd9c",
   "metadata": {},
   "outputs": [
    {
     "data": {
      "text/html": [
       "<div>\n",
       "<style scoped>\n",
       "    .dataframe tbody tr th:only-of-type {\n",
       "        vertical-align: middle;\n",
       "    }\n",
       "\n",
       "    .dataframe tbody tr th {\n",
       "        vertical-align: top;\n",
       "    }\n",
       "\n",
       "    .dataframe thead th {\n",
       "        text-align: right;\n",
       "    }\n",
       "</style>\n",
       "<table border=\"1\" class=\"dataframe\">\n",
       "  <thead>\n",
       "    <tr style=\"text-align: right;\">\n",
       "      <th></th>\n",
       "      <th>vehicle_type</th>\n",
       "      <th>gearbox</th>\n",
       "      <th>fuel_type</th>\n",
       "      <th>power</th>\n",
       "      <th>brand</th>\n",
       "      <th>model</th>\n",
       "    </tr>\n",
       "  </thead>\n",
       "  <tbody>\n",
       "    <tr>\n",
       "      <th>2</th>\n",
       "      <td>2</td>\n",
       "      <td>1</td>\n",
       "      <td>1</td>\n",
       "      <td>163.0</td>\n",
       "      <td>2</td>\n",
       "      <td>2</td>\n",
       "    </tr>\n",
       "    <tr>\n",
       "      <th>3</th>\n",
       "      <td>3</td>\n",
       "      <td>0</td>\n",
       "      <td>0</td>\n",
       "      <td>75.0</td>\n",
       "      <td>0</td>\n",
       "      <td>0</td>\n",
       "    </tr>\n",
       "    <tr>\n",
       "      <th>4</th>\n",
       "      <td>3</td>\n",
       "      <td>0</td>\n",
       "      <td>1</td>\n",
       "      <td>69.0</td>\n",
       "      <td>3</td>\n",
       "      <td>3</td>\n",
       "    </tr>\n",
       "    <tr>\n",
       "      <th>5</th>\n",
       "      <td>4</td>\n",
       "      <td>0</td>\n",
       "      <td>0</td>\n",
       "      <td>102.0</td>\n",
       "      <td>4</td>\n",
       "      <td>4</td>\n",
       "    </tr>\n",
       "    <tr>\n",
       "      <th>6</th>\n",
       "      <td>5</td>\n",
       "      <td>0</td>\n",
       "      <td>0</td>\n",
       "      <td>109.0</td>\n",
       "      <td>5</td>\n",
       "      <td>5</td>\n",
       "    </tr>\n",
       "  </tbody>\n",
       "</table>\n",
       "</div>"
      ],
      "text/plain": [
       "  vehicle_type gearbox fuel_type  power brand model\n",
       "2            2       1         1  163.0     2     2\n",
       "3            3       0         0   75.0     0     0\n",
       "4            3       0         1   69.0     3     3\n",
       "5            4       0         0  102.0     4     4\n",
       "6            5       0         0  109.0     5     5"
      ]
     },
     "execution_count": 74,
     "metadata": {},
     "output_type": "execute_result"
    }
   ],
   "source": [
    "data_without_missing_encoded.head()"
   ]
  },
  {
   "cell_type": "code",
   "execution_count": 75,
   "id": "d1472950",
   "metadata": {},
   "outputs": [
    {
     "name": "stdout",
     "output_type": "stream",
     "text": [
      "ACCURACY: TRAIN=0.8837 TEST=0.8666\n"
     ]
    }
   ],
   "source": [
    "X = data_without_missing_encoded.drop('gearbox', axis=1).values\n",
    "Y = data_without_missing_encoded['gearbox'].values\n",
    "\n",
    "X_train, X_test, Y_train, Y_test = train_test_split(X, Y, test_size=0.2, random_state=54321)\n",
    "\n",
    "forest = RandomForestClassifier(random_state = 54321)  # use the default model\n",
    "forest.fit(X_train, Y_train)\n",
    "y_pred_train = forest.predict(X_train)\n",
    "y_pred = forest.predict(X_test)\n",
    "\n",
    "accuracy_train = accuracy_score(Y_train, y_pred_train)\n",
    "accuracy_test = accuracy_score(Y_test, y_pred)\n",
    "\n",
    "print(\"ACCURACY: TRAIN=%.4f TEST=%.4f\" % (accuracy_train,accuracy_test))\n",
    "\n",
    "importances = forest.feature_importances_\n",
    "indices = list(np.argsort(importances))[::-1]"
   ]
  },
  {
   "cell_type": "code",
   "execution_count": 76,
   "id": "f3faa704",
   "metadata": {},
   "outputs": [
    {
     "data": {
      "image/png": "[encoded data removed]",
      "text/plain": [
       "<Figure size 432x288 with 1 Axes>"
      ]
     },
     "metadata": {
      "needs_background": "light"
     },
     "output_type": "display_data"
    }
   ],
   "source": [
    "plt.title(\"Feature importances\")\n",
    "plt.barh(range(len(indices)), importances[indices], color=\"g\", align=\"center\")\n",
    "plt.yticks(range(len(indices)), data_without_missing_encoded.drop('gearbox', axis=1).columns[indices])\n",
    "plt.gca().invert_yaxis()"
   ]
  },
  {
   "cell_type": "markdown",
   "id": "fbc3a115",
   "metadata": {},
   "source": [
    "The most important features for the `gearbox` are engine power and the model/brand."
   ]
  },
  {
   "cell_type": "markdown",
   "id": "4456e95c",
   "metadata": {},
   "source": [
    "**5.1 Now that we have the model, let’s plug the values of the predictions back into the `data_to_model_missing` dataframe:**"
   ]
  },
  {
   "cell_type": "code",
   "execution_count": 77,
   "id": "e51ec4df",
   "metadata": {},
   "outputs": [],
   "source": [
    "for col in [col for col in missing_models_cat_vars if col != 'gearbox']:\n",
    "    gearbox_missing[col] = gearbox_missing[col].map(encoding_dict(data_to_model_missing, col)) "
   ]
  },
  {
   "cell_type": "code",
   "execution_count": 78,
   "id": "24c6b7c6",
   "metadata": {},
   "outputs": [
    {
     "name": "stdout",
     "output_type": "stream",
     "text": [
      "<class 'pandas.core.frame.DataFrame'>\n",
      "Int64Index: 3181 entries, 208 to 332962\n",
      "Data columns (total 6 columns):\n",
      " #   Column        Non-Null Count  Dtype   \n",
      "---  ------        --------------  -----   \n",
      " 0   vehicle_type  3181 non-null   category\n",
      " 1   gearbox       0 non-null      category\n",
      " 2   fuel_type     3181 non-null   category\n",
      " 3   power         3181 non-null   float64 \n",
      " 4   brand         3181 non-null   category\n",
      " 5   model         3181 non-null   category\n",
      "dtypes: category(5), float64(1)\n",
      "memory usage: 80.6 KB\n"
     ]
    }
   ],
   "source": [
    "gearbox_missing.info()"
   ]
  },
  {
   "cell_type": "code",
   "execution_count": 79,
   "id": "bfe8ae67",
   "metadata": {},
   "outputs": [],
   "source": [
    "prediction = forest.predict(gearbox_missing.drop('gearbox', axis=1))"
   ]
  },
  {
   "cell_type": "code",
   "execution_count": 80,
   "id": "a70ffeed",
   "metadata": {},
   "outputs": [],
   "source": [
    "indices_to_fill_predictions = gearbox_missing.index"
   ]
  },
  {
   "cell_type": "code",
   "execution_count": 81,
   "id": "ad1f0408",
   "metadata": {},
   "outputs": [],
   "source": [
    "data_to_model_missing_gearbox = data_to_model_missing.loc[indices_to_fill_predictions,:]"
   ]
  },
  {
   "cell_type": "code",
   "execution_count": 82,
   "id": "20896b3a",
   "metadata": {},
   "outputs": [],
   "source": [
    "data_to_model_missing_gearbox['gearbox'] = prediction"
   ]
  },
  {
   "cell_type": "code",
   "execution_count": 83,
   "id": "5e8a9de4",
   "metadata": {},
   "outputs": [
    {
     "data": {
      "text/html": [
       "<div>\n",
       "<style scoped>\n",
       "    .dataframe tbody tr th:only-of-type {\n",
       "        vertical-align: middle;\n",
       "    }\n",
       "\n",
       "    .dataframe tbody tr th {\n",
       "        vertical-align: top;\n",
       "    }\n",
       "\n",
       "    .dataframe thead th {\n",
       "        text-align: right;\n",
       "    }\n",
       "</style>\n",
       "<table border=\"1\" class=\"dataframe\">\n",
       "  <thead>\n",
       "    <tr style=\"text-align: right;\">\n",
       "      <th></th>\n",
       "      <th>vehicle_type</th>\n",
       "      <th>gearbox</th>\n",
       "      <th>fuel_type</th>\n",
       "      <th>power</th>\n",
       "      <th>brand</th>\n",
       "      <th>model</th>\n",
       "    </tr>\n",
       "  </thead>\n",
       "  <tbody>\n",
       "    <tr>\n",
       "      <th>208</th>\n",
       "      <td>small</td>\n",
       "      <td>1</td>\n",
       "      <td>gasoline</td>\n",
       "      <td>41.0</td>\n",
       "      <td>smart</td>\n",
       "      <td>fortwo</td>\n",
       "    </tr>\n",
       "    <tr>\n",
       "      <th>276</th>\n",
       "      <td>convertible</td>\n",
       "      <td>0</td>\n",
       "      <td>petrol</td>\n",
       "      <td>115.0</td>\n",
       "      <td>volkswagen</td>\n",
       "      <td>golf</td>\n",
       "    </tr>\n",
       "    <tr>\n",
       "      <th>296</th>\n",
       "      <td>sedan</td>\n",
       "      <td>0</td>\n",
       "      <td>petrol</td>\n",
       "      <td>75.0</td>\n",
       "      <td>opel</td>\n",
       "      <td>astra</td>\n",
       "    </tr>\n",
       "    <tr>\n",
       "      <th>359</th>\n",
       "      <td>sedan</td>\n",
       "      <td>1</td>\n",
       "      <td>petrol</td>\n",
       "      <td>299.0</td>\n",
       "      <td>audi</td>\n",
       "      <td>a6</td>\n",
       "    </tr>\n",
       "    <tr>\n",
       "      <th>468</th>\n",
       "      <td>small</td>\n",
       "      <td>1</td>\n",
       "      <td>petrol</td>\n",
       "      <td>61.0</td>\n",
       "      <td>smart</td>\n",
       "      <td>fortwo</td>\n",
       "    </tr>\n",
       "  </tbody>\n",
       "</table>\n",
       "</div>"
      ],
      "text/plain": [
       "    vehicle_type  gearbox fuel_type  power       brand   model\n",
       "208        small        1  gasoline   41.0       smart  fortwo\n",
       "276  convertible        0    petrol  115.0  volkswagen    golf\n",
       "296        sedan        0    petrol   75.0        opel   astra\n",
       "359        sedan        1    petrol  299.0        audi      a6\n",
       "468        small        1    petrol   61.0       smart  fortwo"
      ]
     },
     "execution_count": 83,
     "metadata": {},
     "output_type": "execute_result"
    }
   ],
   "source": [
    "data_to_model_missing_gearbox.head()"
   ]
  },
  {
   "cell_type": "code",
   "execution_count": 84,
   "id": "654feeb4",
   "metadata": {},
   "outputs": [
    {
     "data": {
      "text/plain": [
       "{'manual': 0, 'auto': 1, nan: 2}"
      ]
     },
     "execution_count": 84,
     "metadata": {},
     "output_type": "execute_result"
    }
   ],
   "source": [
    "gearbox_dict = encoding_dict(data_to_model_missing, 'gearbox')\n",
    "gearbox_dict"
   ]
  },
  {
   "cell_type": "code",
   "execution_count": 85,
   "id": "9f39638c",
   "metadata": {},
   "outputs": [],
   "source": [
    "def encoding_back_mapping(mapping):\n",
    "    \"\"\"Reverts the map of categories to codes and returns the revert mapping of codes to categories\"\"\"\n",
    "    back_mapping = {}\n",
    "    for key in mapping:\n",
    "        back_mapping[mapping[key]] = key\n",
    "    return back_mapping"
   ]
  },
  {
   "cell_type": "code",
   "execution_count": 86,
   "id": "f3f227f4",
   "metadata": {},
   "outputs": [],
   "source": [
    "# gearbox_dict_back = encoding_back_mapping(gearbox_dict)"
   ]
  },
  {
   "cell_type": "code",
   "execution_count": 87,
   "id": "f102b94d",
   "metadata": {},
   "outputs": [],
   "source": [
    "gearbox_dict_back = encoding_back_mapping(encoding_dict(data_to_model_missing, 'gearbox'))"
   ]
  },
  {
   "cell_type": "code",
   "execution_count": 88,
   "id": "e37e2899",
   "metadata": {},
   "outputs": [
    {
     "data": {
      "text/plain": [
       "{0: 'manual', 1: 'auto', 2: nan}"
      ]
     },
     "execution_count": 88,
     "metadata": {},
     "output_type": "execute_result"
    }
   ],
   "source": [
    "gearbox_dict_back"
   ]
  },
  {
   "cell_type": "code",
   "execution_count": 89,
   "id": "2fcbb801",
   "metadata": {},
   "outputs": [],
   "source": [
    "data_to_model_missing_gearbox['gearbox'] = data_to_model_missing_gearbox['gearbox'].map(\n",
    "    encoding_back_mapping(gearbox_dict)\n",
    ")"
   ]
  },
  {
   "cell_type": "code",
   "execution_count": 90,
   "id": "d2c8cd13",
   "metadata": {},
   "outputs": [
    {
     "data": {
      "text/html": [
       "<div>\n",
       "<style scoped>\n",
       "    .dataframe tbody tr th:only-of-type {\n",
       "        vertical-align: middle;\n",
       "    }\n",
       "\n",
       "    .dataframe tbody tr th {\n",
       "        vertical-align: top;\n",
       "    }\n",
       "\n",
       "    .dataframe thead th {\n",
       "        text-align: right;\n",
       "    }\n",
       "</style>\n",
       "<table border=\"1\" class=\"dataframe\">\n",
       "  <thead>\n",
       "    <tr style=\"text-align: right;\">\n",
       "      <th></th>\n",
       "      <th>vehicle_type</th>\n",
       "      <th>gearbox</th>\n",
       "      <th>fuel_type</th>\n",
       "      <th>power</th>\n",
       "      <th>brand</th>\n",
       "      <th>model</th>\n",
       "    </tr>\n",
       "  </thead>\n",
       "  <tbody>\n",
       "    <tr>\n",
       "      <th>208</th>\n",
       "      <td>small</td>\n",
       "      <td>auto</td>\n",
       "      <td>gasoline</td>\n",
       "      <td>41.0</td>\n",
       "      <td>smart</td>\n",
       "      <td>fortwo</td>\n",
       "    </tr>\n",
       "    <tr>\n",
       "      <th>276</th>\n",
       "      <td>convertible</td>\n",
       "      <td>manual</td>\n",
       "      <td>petrol</td>\n",
       "      <td>115.0</td>\n",
       "      <td>volkswagen</td>\n",
       "      <td>golf</td>\n",
       "    </tr>\n",
       "    <tr>\n",
       "      <th>296</th>\n",
       "      <td>sedan</td>\n",
       "      <td>manual</td>\n",
       "      <td>petrol</td>\n",
       "      <td>75.0</td>\n",
       "      <td>opel</td>\n",
       "      <td>astra</td>\n",
       "    </tr>\n",
       "    <tr>\n",
       "      <th>359</th>\n",
       "      <td>sedan</td>\n",
       "      <td>auto</td>\n",
       "      <td>petrol</td>\n",
       "      <td>299.0</td>\n",
       "      <td>audi</td>\n",
       "      <td>a6</td>\n",
       "    </tr>\n",
       "    <tr>\n",
       "      <th>468</th>\n",
       "      <td>small</td>\n",
       "      <td>auto</td>\n",
       "      <td>petrol</td>\n",
       "      <td>61.0</td>\n",
       "      <td>smart</td>\n",
       "      <td>fortwo</td>\n",
       "    </tr>\n",
       "    <tr>\n",
       "      <th>...</th>\n",
       "      <td>...</td>\n",
       "      <td>...</td>\n",
       "      <td>...</td>\n",
       "      <td>...</td>\n",
       "      <td>...</td>\n",
       "      <td>...</td>\n",
       "    </tr>\n",
       "    <tr>\n",
       "      <th>332319</th>\n",
       "      <td>bus</td>\n",
       "      <td>manual</td>\n",
       "      <td>gasoline</td>\n",
       "      <td>109.0</td>\n",
       "      <td>renault</td>\n",
       "      <td>kangoo</td>\n",
       "    </tr>\n",
       "    <tr>\n",
       "      <th>332324</th>\n",
       "      <td>wagon</td>\n",
       "      <td>manual</td>\n",
       "      <td>petrol</td>\n",
       "      <td>120.0</td>\n",
       "      <td>volkswagen</td>\n",
       "      <td>passat</td>\n",
       "    </tr>\n",
       "    <tr>\n",
       "      <th>332355</th>\n",
       "      <td>sedan</td>\n",
       "      <td>manual</td>\n",
       "      <td>petrol</td>\n",
       "      <td>139.0</td>\n",
       "      <td>volkswagen</td>\n",
       "      <td>golf</td>\n",
       "    </tr>\n",
       "    <tr>\n",
       "      <th>332833</th>\n",
       "      <td>small</td>\n",
       "      <td>manual</td>\n",
       "      <td>petrol</td>\n",
       "      <td>75.0</td>\n",
       "      <td>volkswagen</td>\n",
       "      <td>golf</td>\n",
       "    </tr>\n",
       "    <tr>\n",
       "      <th>332962</th>\n",
       "      <td>small</td>\n",
       "      <td>manual</td>\n",
       "      <td>petrol</td>\n",
       "      <td>75.0</td>\n",
       "      <td>opel</td>\n",
       "      <td>corsa</td>\n",
       "    </tr>\n",
       "  </tbody>\n",
       "</table>\n",
       "<p>3181 rows × 6 columns</p>\n",
       "</div>"
      ],
      "text/plain": [
       "       vehicle_type gearbox fuel_type  power       brand   model\n",
       "208           small    auto  gasoline   41.0       smart  fortwo\n",
       "276     convertible  manual    petrol  115.0  volkswagen    golf\n",
       "296           sedan  manual    petrol   75.0        opel   astra\n",
       "359           sedan    auto    petrol  299.0        audi      a6\n",
       "468           small    auto    petrol   61.0       smart  fortwo\n",
       "...             ...     ...       ...    ...         ...     ...\n",
       "332319          bus  manual  gasoline  109.0     renault  kangoo\n",
       "332324        wagon  manual    petrol  120.0  volkswagen  passat\n",
       "332355        sedan  manual    petrol  139.0  volkswagen    golf\n",
       "332833        small  manual    petrol   75.0  volkswagen    golf\n",
       "332962        small  manual    petrol   75.0        opel   corsa\n",
       "\n",
       "[3181 rows x 6 columns]"
      ]
     },
     "execution_count": 90,
     "metadata": {},
     "output_type": "execute_result"
    }
   ],
   "source": [
    "data_to_model_missing_gearbox"
   ]
  },
  {
   "cell_type": "markdown",
   "id": "b37d45fb",
   "metadata": {},
   "source": [
    "**6.1 Updating the initial training/testing subset.**"
   ]
  },
  {
   "cell_type": "markdown",
   "id": "0b3c056c",
   "metadata": {},
   "source": [
    "Now we concatinate the restored observations to that part of the initial `data_to_model_missing` which did not have missing values in the `gearbox` variable, thus, update the `data_to_model_missing`, and make another iteration on the next variable with the least missing values."
   ]
  },
  {
   "cell_type": "code",
   "execution_count": 91,
   "id": "b8f5e36f",
   "metadata": {},
   "outputs": [],
   "source": [
    "indices_to_keep = [idx for idx in list(data_to_model_missing.index) if idx not in indices_to_fill_predictions]"
   ]
  },
  {
   "cell_type": "code",
   "execution_count": 92,
   "id": "5bf6b7c0",
   "metadata": {},
   "outputs": [],
   "source": [
    "df_to_concatenate = data_to_model_missing.filter(items = indices_to_keep, axis=0)"
   ]
  },
  {
   "cell_type": "code",
   "execution_count": 93,
   "id": "74fdf55a",
   "metadata": {},
   "outputs": [],
   "source": [
    "frames = [df_to_concatenate, data_to_model_missing_gearbox]\n",
    "data_to_model_missing = pd.concat(frames)"
   ]
  },
  {
   "cell_type": "code",
   "execution_count": 94,
   "id": "0dae378b",
   "metadata": {},
   "outputs": [
    {
     "name": "stdout",
     "output_type": "stream",
     "text": [
      "<class 'pandas.core.frame.DataFrame'>\n",
      "Int64Index: 333036 entries, 0 to 332962\n",
      "Data columns (total 6 columns):\n",
      " #   Column        Non-Null Count   Dtype   \n",
      "---  ------        --------------   -----   \n",
      " 0   vehicle_type  296896 non-null  category\n",
      " 1   gearbox       317202 non-null  object  \n",
      " 2   fuel_type     301134 non-null  category\n",
      " 3   power         293500 non-null  float64 \n",
      " 4   brand         333036 non-null  category\n",
      " 5   model         314013 non-null  category\n",
      "dtypes: category(4), float64(1), object(1)\n",
      "memory usage: 9.2+ MB\n"
     ]
    }
   ],
   "source": [
    "data_to_model_missing.info()"
   ]
  },
  {
   "cell_type": "markdown",
   "id": "2426af8a",
   "metadata": {},
   "source": [
    "Let's build a model for the next variable, `model`."
   ]
  },
  {
   "cell_type": "markdown",
   "id": "a676c2a5",
   "metadata": {},
   "source": [
    "**2.2 Update the training/testing data**"
   ]
  },
  {
   "cell_type": "code",
   "execution_count": 95,
   "id": "d8979820",
   "metadata": {},
   "outputs": [],
   "source": [
    "data_without_missing = data_to_model_missing.dropna()"
   ]
  },
  {
   "cell_type": "code",
   "execution_count": 96,
   "id": "10bd2e7e",
   "metadata": {},
   "outputs": [
    {
     "name": "stdout",
     "output_type": "stream",
     "text": [
      "<class 'pandas.core.frame.DataFrame'>\n",
      "Int64Index: 252500 entries, 2 to 332962\n",
      "Data columns (total 6 columns):\n",
      " #   Column        Non-Null Count   Dtype   \n",
      "---  ------        --------------   -----   \n",
      " 0   vehicle_type  252500 non-null  category\n",
      " 1   gearbox       252500 non-null  object  \n",
      " 2   fuel_type     252500 non-null  category\n",
      " 3   power         252500 non-null  float64 \n",
      " 4   brand         252500 non-null  category\n",
      " 5   model         252500 non-null  category\n",
      "dtypes: category(4), float64(1), object(1)\n",
      "memory usage: 7.0+ MB\n"
     ]
    }
   ],
   "source": [
    "data_without_missing.info()"
   ]
  },
  {
   "cell_type": "markdown",
   "id": "9176c9d7",
   "metadata": {},
   "source": [
    "**3.2 Extract subset with missing values for the target variable**"
   ]
  },
  {
   "cell_type": "code",
   "execution_count": 97,
   "id": "a9020f68",
   "metadata": {},
   "outputs": [
    {
     "name": "stdout",
     "output_type": "stream",
     "text": [
      "<class 'pandas.core.frame.DataFrame'>\n",
      "Int64Index: 7471 entries, 1 to 332994\n",
      "Data columns (total 6 columns):\n",
      " #   Column        Non-Null Count  Dtype   \n",
      "---  ------        --------------  -----   \n",
      " 0   vehicle_type  7471 non-null   category\n",
      " 1   gearbox       7471 non-null   object  \n",
      " 2   fuel_type     7471 non-null   category\n",
      " 3   power         7471 non-null   float64 \n",
      " 4   brand         7471 non-null   category\n",
      " 5   model         0 non-null      category\n",
      "dtypes: category(4), float64(1), object(1)\n",
      "memory usage: 223.7+ KB\n"
     ]
    }
   ],
   "source": [
    "model_missing = missing_values_subset_by_var(data_to_model_missing, 'model')\n",
    "model_missing.info()"
   ]
  },
  {
   "cell_type": "markdown",
   "id": "4fdfa8f2",
   "metadata": {},
   "source": [
    "**4.2 Modeling**"
   ]
  },
  {
   "cell_type": "code",
   "execution_count": 98,
   "id": "5948a07b",
   "metadata": {},
   "outputs": [],
   "source": [
    "data_without_missing_encoded = data_without_missing.copy()\n",
    "for col in missing_models_cat_vars:\n",
    "    data_without_missing_encoded[col] = data_without_missing_encoded[col].map(encoding_dict(data_to_model_missing, col))"
   ]
  },
  {
   "cell_type": "code",
   "execution_count": 99,
   "id": "2131aefb",
   "metadata": {},
   "outputs": [
    {
     "data": {
      "text/html": [
       "<div>\n",
       "<style scoped>\n",
       "    .dataframe tbody tr th:only-of-type {\n",
       "        vertical-align: middle;\n",
       "    }\n",
       "\n",
       "    .dataframe tbody tr th {\n",
       "        vertical-align: top;\n",
       "    }\n",
       "\n",
       "    .dataframe thead th {\n",
       "        text-align: right;\n",
       "    }\n",
       "</style>\n",
       "<table border=\"1\" class=\"dataframe\">\n",
       "  <thead>\n",
       "    <tr style=\"text-align: right;\">\n",
       "      <th></th>\n",
       "      <th>vehicle_type</th>\n",
       "      <th>gearbox</th>\n",
       "      <th>fuel_type</th>\n",
       "      <th>power</th>\n",
       "      <th>brand</th>\n",
       "      <th>model</th>\n",
       "    </tr>\n",
       "  </thead>\n",
       "  <tbody>\n",
       "    <tr>\n",
       "      <th>2</th>\n",
       "      <td>2</td>\n",
       "      <td>1</td>\n",
       "      <td>1</td>\n",
       "      <td>163.0</td>\n",
       "      <td>2</td>\n",
       "      <td>2</td>\n",
       "    </tr>\n",
       "    <tr>\n",
       "      <th>3</th>\n",
       "      <td>3</td>\n",
       "      <td>0</td>\n",
       "      <td>0</td>\n",
       "      <td>75.0</td>\n",
       "      <td>0</td>\n",
       "      <td>0</td>\n",
       "    </tr>\n",
       "    <tr>\n",
       "      <th>4</th>\n",
       "      <td>3</td>\n",
       "      <td>0</td>\n",
       "      <td>1</td>\n",
       "      <td>69.0</td>\n",
       "      <td>3</td>\n",
       "      <td>3</td>\n",
       "    </tr>\n",
       "    <tr>\n",
       "      <th>5</th>\n",
       "      <td>4</td>\n",
       "      <td>0</td>\n",
       "      <td>0</td>\n",
       "      <td>102.0</td>\n",
       "      <td>4</td>\n",
       "      <td>4</td>\n",
       "    </tr>\n",
       "    <tr>\n",
       "      <th>6</th>\n",
       "      <td>5</td>\n",
       "      <td>0</td>\n",
       "      <td>0</td>\n",
       "      <td>109.0</td>\n",
       "      <td>5</td>\n",
       "      <td>5</td>\n",
       "    </tr>\n",
       "  </tbody>\n",
       "</table>\n",
       "</div>"
      ],
      "text/plain": [
       "  vehicle_type  gearbox fuel_type  power brand model\n",
       "2            2        1         1  163.0     2     2\n",
       "3            3        0         0   75.0     0     0\n",
       "4            3        0         1   69.0     3     3\n",
       "5            4        0         0  102.0     4     4\n",
       "6            5        0         0  109.0     5     5"
      ]
     },
     "execution_count": 99,
     "metadata": {},
     "output_type": "execute_result"
    }
   ],
   "source": [
    "data_without_missing_encoded.head()"
   ]
  },
  {
   "cell_type": "code",
   "execution_count": 100,
   "id": "fbd994af",
   "metadata": {},
   "outputs": [
    {
     "name": "stdout",
     "output_type": "stream",
     "text": [
      "ACCURACY: TRAIN=0.7869 TEST=0.7589\n"
     ]
    }
   ],
   "source": [
    "X = data_without_missing_encoded.drop('model', axis=1).values\n",
    "Y = data_without_missing_encoded['model'].values\n",
    "\n",
    "X_train, X_test, Y_train, Y_test = train_test_split(X, Y, test_size=0.2, random_state=54321)\n",
    "\n",
    "forest = RandomForestClassifier(random_state = 54321)  # use the default model\n",
    "forest.fit(X_train, Y_train)\n",
    "y_pred_train = forest.predict(X_train)\n",
    "y_pred = forest.predict(X_test)\n",
    "\n",
    "accuracy_train = accuracy_score(Y_train, y_pred_train)\n",
    "accuracy_test = accuracy_score(Y_test, y_pred)\n",
    "\n",
    "print(\"ACCURACY: TRAIN=%.4f TEST=%.4f\" % (accuracy_train,accuracy_test))\n",
    "\n",
    "importances = forest.feature_importances_\n",
    "indices = list(np.argsort(importances))[::-1]"
   ]
  },
  {
   "cell_type": "code",
   "execution_count": 101,
   "id": "8ed1ca3b",
   "metadata": {},
   "outputs": [
    {
     "data": {
      "image/png": "[encoded data removed]",
      "text/plain": [
       "<Figure size 432x288 with 1 Axes>"
      ]
     },
     "metadata": {
      "needs_background": "light"
     },
     "output_type": "display_data"
    }
   ],
   "source": [
    "plt.title(\"Feature importances\")\n",
    "plt.barh(range(len(indices)), importances[indices], color=\"g\", align=\"center\")\n",
    "plt.yticks(range(len(indices)), data_without_missing_encoded.drop('model', axis=1).columns[indices])\n",
    "plt.gca().invert_yaxis()"
   ]
  },
  {
   "cell_type": "markdown",
   "id": "a9c3e17a",
   "metadata": {},
   "source": [
    "As expected, model is highly correlated with the brand and engine power, while accuracy is lower, which can be explained by the large number of categories."
   ]
  },
  {
   "cell_type": "markdown",
   "id": "71a7443c",
   "metadata": {},
   "source": [
    "**5.2 Insert predicted values**"
   ]
  },
  {
   "cell_type": "code",
   "execution_count": 102,
   "id": "4e3f679a",
   "metadata": {},
   "outputs": [],
   "source": [
    "for col in [col for col in missing_models_cat_vars if col != 'model']:\n",
    "    model_missing[col] = model_missing[col].map(encoding_dict(data_to_model_missing, col))"
   ]
  },
  {
   "cell_type": "code",
   "execution_count": 103,
   "id": "41e0c4a1",
   "metadata": {},
   "outputs": [
    {
     "name": "stdout",
     "output_type": "stream",
     "text": [
      "<class 'pandas.core.frame.DataFrame'>\n",
      "Int64Index: 7471 entries, 1 to 332994\n",
      "Data columns (total 6 columns):\n",
      " #   Column        Non-Null Count  Dtype   \n",
      "---  ------        --------------  -----   \n",
      " 0   vehicle_type  7471 non-null   category\n",
      " 1   gearbox       7471 non-null   int64   \n",
      " 2   fuel_type     7471 non-null   category\n",
      " 3   power         7471 non-null   float64 \n",
      " 4   brand         7471 non-null   category\n",
      " 5   model         0 non-null      category\n",
      "dtypes: category(4), float64(1), int64(1)\n",
      "memory usage: 223.7 KB\n"
     ]
    }
   ],
   "source": [
    "model_missing.info()"
   ]
  },
  {
   "cell_type": "code",
   "execution_count": 104,
   "id": "b4934b47",
   "metadata": {},
   "outputs": [],
   "source": [
    "prediction = forest.predict(model_missing.drop('model', axis=1))"
   ]
  },
  {
   "cell_type": "code",
   "execution_count": 105,
   "id": "66b6e761",
   "metadata": {},
   "outputs": [],
   "source": [
    "indices_to_fill_predictions = model_missing.index"
   ]
  },
  {
   "cell_type": "code",
   "execution_count": 106,
   "id": "4ff020f4",
   "metadata": {},
   "outputs": [],
   "source": [
    "data_to_model_missing_model = data_to_model_missing.loc[indices_to_fill_predictions,:]"
   ]
  },
  {
   "cell_type": "code",
   "execution_count": 107,
   "id": "fb3f00a2",
   "metadata": {},
   "outputs": [],
   "source": [
    "data_to_model_missing_model['model'] = prediction"
   ]
  },
  {
   "cell_type": "code",
   "execution_count": 108,
   "id": "ed32f9af",
   "metadata": {},
   "outputs": [],
   "source": [
    "model_dict_back = encoding_back_mapping(encoding_dict(data_to_model_missing, 'model'))"
   ]
  },
  {
   "cell_type": "code",
   "execution_count": 109,
   "id": "dbeb622b",
   "metadata": {},
   "outputs": [],
   "source": [
    "data_to_model_missing_model['model'] = data_to_model_missing_model['model'].map(model_dict_back)"
   ]
  },
  {
   "cell_type": "markdown",
   "id": "2b9efddc",
   "metadata": {},
   "source": [
    "**6.2 Now we will update the `data_to_model_missing` dataset with the new, restored, observations.**"
   ]
  },
  {
   "cell_type": "code",
   "execution_count": 110,
   "id": "55c6b345",
   "metadata": {},
   "outputs": [],
   "source": [
    "indices_to_keep = [idx for idx in list(data_to_model_missing.index) if idx not in indices_to_fill_predictions]"
   ]
  },
  {
   "cell_type": "code",
   "execution_count": 111,
   "id": "57089811",
   "metadata": {},
   "outputs": [],
   "source": [
    "df_to_concatenate = data_to_model_missing.filter(items = indices_to_keep, axis=0)"
   ]
  },
  {
   "cell_type": "code",
   "execution_count": 112,
   "id": "0f1cab23",
   "metadata": {},
   "outputs": [],
   "source": [
    "frames = [df_to_concatenate, data_to_model_missing_model]\n",
    "data_to_model_missing = pd.concat(frames)"
   ]
  },
  {
   "cell_type": "code",
   "execution_count": 113,
   "id": "0a01fc7e",
   "metadata": {},
   "outputs": [
    {
     "name": "stdout",
     "output_type": "stream",
     "text": [
      "<class 'pandas.core.frame.DataFrame'>\n",
      "Int64Index: 333036 entries, 0 to 332994\n",
      "Data columns (total 6 columns):\n",
      " #   Column        Non-Null Count   Dtype   \n",
      "---  ------        --------------   -----   \n",
      " 0   vehicle_type  296896 non-null  category\n",
      " 1   gearbox       317202 non-null  object  \n",
      " 2   fuel_type     301134 non-null  category\n",
      " 3   power         293500 non-null  float64 \n",
      " 4   brand         333036 non-null  category\n",
      " 5   model         321484 non-null  object  \n",
      "dtypes: category(3), float64(1), object(2)\n",
      "memory usage: 11.1+ MB\n"
     ]
    }
   ],
   "source": [
    "data_to_model_missing.info()"
   ]
  },
  {
   "cell_type": "markdown",
   "id": "fbea2e27",
   "metadata": {},
   "source": [
    "Let's build a model for the next variable, `fuel_type`. This time, we will refactor some variable names to design the whole procedure as a function."
   ]
  },
  {
   "cell_type": "markdown",
   "id": "124cb53d",
   "metadata": {},
   "source": [
    "**2.3 Update the training/testing data**"
   ]
  },
  {
   "cell_type": "code",
   "execution_count": 114,
   "id": "c431f761",
   "metadata": {},
   "outputs": [],
   "source": [
    "data_without_missing = data_to_model_missing.dropna()"
   ]
  },
  {
   "cell_type": "code",
   "execution_count": 115,
   "id": "e67090b4",
   "metadata": {},
   "outputs": [
    {
     "name": "stdout",
     "output_type": "stream",
     "text": [
      "<class 'pandas.core.frame.DataFrame'>\n",
      "Int64Index: 259971 entries, 2 to 332994\n",
      "Data columns (total 6 columns):\n",
      " #   Column        Non-Null Count   Dtype   \n",
      "---  ------        --------------   -----   \n",
      " 0   vehicle_type  259971 non-null  category\n",
      " 1   gearbox       259971 non-null  object  \n",
      " 2   fuel_type     259971 non-null  category\n",
      " 3   power         259971 non-null  float64 \n",
      " 4   brand         259971 non-null  category\n",
      " 5   model         259971 non-null  object  \n",
      "dtypes: category(3), float64(1), object(2)\n",
      "memory usage: 8.7+ MB\n"
     ]
    }
   ],
   "source": [
    "data_without_missing.info()"
   ]
  },
  {
   "cell_type": "markdown",
   "id": "c8121ee8",
   "metadata": {},
   "source": [
    "**3.3 Extract subset with missing values for the target variable**"
   ]
  },
  {
   "cell_type": "code",
   "execution_count": 116,
   "id": "de24d010",
   "metadata": {},
   "outputs": [
    {
     "name": "stdout",
     "output_type": "stream",
     "text": [
      "<class 'pandas.core.frame.DataFrame'>\n",
      "Int64Index: 8867 entries, 9 to 333009\n",
      "Data columns (total 6 columns):\n",
      " #   Column        Non-Null Count  Dtype   \n",
      "---  ------        --------------  -----   \n",
      " 0   vehicle_type  8867 non-null   category\n",
      " 1   gearbox       8867 non-null   object  \n",
      " 2   fuel_type     0 non-null      category\n",
      " 3   power         8867 non-null   float64 \n",
      " 4   brand         8867 non-null   category\n",
      " 5   model         8867 non-null   object  \n",
      "dtypes: category(3), float64(1), object(2)\n",
      "memory usage: 305.1+ KB\n"
     ]
    }
   ],
   "source": [
    "target_missing = missing_values_subset_by_var(data_to_model_missing, 'fuel_type')\n",
    "target_missing.info()"
   ]
  },
  {
   "cell_type": "markdown",
   "id": "60f2a20d",
   "metadata": {},
   "source": [
    "**4.3 Modeling**"
   ]
  },
  {
   "cell_type": "code",
   "execution_count": 117,
   "id": "afc6c947",
   "metadata": {},
   "outputs": [],
   "source": [
    "data_without_missing_encoded = data_without_missing.copy()\n",
    "for col in missing_models_cat_vars:\n",
    "    data_without_missing_encoded[col] = data_without_missing_encoded[col].map(encoding_dict(data_to_model_missing, col))"
   ]
  },
  {
   "cell_type": "code",
   "execution_count": 118,
   "id": "850a1539",
   "metadata": {},
   "outputs": [
    {
     "data": {
      "text/html": [
       "<div>\n",
       "<style scoped>\n",
       "    .dataframe tbody tr th:only-of-type {\n",
       "        vertical-align: middle;\n",
       "    }\n",
       "\n",
       "    .dataframe tbody tr th {\n",
       "        vertical-align: top;\n",
       "    }\n",
       "\n",
       "    .dataframe thead th {\n",
       "        text-align: right;\n",
       "    }\n",
       "</style>\n",
       "<table border=\"1\" class=\"dataframe\">\n",
       "  <thead>\n",
       "    <tr style=\"text-align: right;\">\n",
       "      <th></th>\n",
       "      <th>vehicle_type</th>\n",
       "      <th>gearbox</th>\n",
       "      <th>fuel_type</th>\n",
       "      <th>power</th>\n",
       "      <th>brand</th>\n",
       "      <th>model</th>\n",
       "    </tr>\n",
       "  </thead>\n",
       "  <tbody>\n",
       "    <tr>\n",
       "      <th>2</th>\n",
       "      <td>1</td>\n",
       "      <td>1</td>\n",
       "      <td>1</td>\n",
       "      <td>163.0</td>\n",
       "      <td>1</td>\n",
       "      <td>1</td>\n",
       "    </tr>\n",
       "    <tr>\n",
       "      <th>3</th>\n",
       "      <td>2</td>\n",
       "      <td>0</td>\n",
       "      <td>0</td>\n",
       "      <td>75.0</td>\n",
       "      <td>0</td>\n",
       "      <td>0</td>\n",
       "    </tr>\n",
       "    <tr>\n",
       "      <th>4</th>\n",
       "      <td>2</td>\n",
       "      <td>0</td>\n",
       "      <td>1</td>\n",
       "      <td>69.0</td>\n",
       "      <td>2</td>\n",
       "      <td>2</td>\n",
       "    </tr>\n",
       "    <tr>\n",
       "      <th>5</th>\n",
       "      <td>3</td>\n",
       "      <td>0</td>\n",
       "      <td>0</td>\n",
       "      <td>102.0</td>\n",
       "      <td>3</td>\n",
       "      <td>3</td>\n",
       "    </tr>\n",
       "    <tr>\n",
       "      <th>6</th>\n",
       "      <td>4</td>\n",
       "      <td>0</td>\n",
       "      <td>0</td>\n",
       "      <td>109.0</td>\n",
       "      <td>4</td>\n",
       "      <td>4</td>\n",
       "    </tr>\n",
       "  </tbody>\n",
       "</table>\n",
       "</div>"
      ],
      "text/plain": [
       "  vehicle_type  gearbox fuel_type  power brand  model\n",
       "2            1        1         1  163.0     1      1\n",
       "3            2        0         0   75.0     0      0\n",
       "4            2        0         1   69.0     2      2\n",
       "5            3        0         0  102.0     3      3\n",
       "6            4        0         0  109.0     4      4"
      ]
     },
     "execution_count": 118,
     "metadata": {},
     "output_type": "execute_result"
    }
   ],
   "source": [
    "data_without_missing_encoded.head()"
   ]
  },
  {
   "cell_type": "code",
   "execution_count": 119,
   "id": "fb4c10be",
   "metadata": {},
   "outputs": [
    {
     "name": "stdout",
     "output_type": "stream",
     "text": [
      "ACCURACY: TRAIN=0.9068 TEST=0.8920\n"
     ]
    }
   ],
   "source": [
    "X = data_without_missing_encoded.drop('fuel_type', axis=1).values\n",
    "Y = data_without_missing_encoded['fuel_type'].values\n",
    "\n",
    "X_train, X_test, Y_train, Y_test = train_test_split(X, Y, test_size=0.2, random_state=54321)\n",
    "\n",
    "forest = RandomForestClassifier(random_state = 54321)  # use the default model\n",
    "forest.fit(X_train, Y_train)\n",
    "y_pred_train = forest.predict(X_train)\n",
    "y_pred = forest.predict(X_test)\n",
    "\n",
    "accuracy_train = accuracy_score(Y_train, y_pred_train)\n",
    "accuracy_test = accuracy_score(Y_test, y_pred)\n",
    "\n",
    "print(\"ACCURACY: TRAIN=%.4f TEST=%.4f\" % (accuracy_train,accuracy_test))\n",
    "\n",
    "importances = forest.feature_importances_\n",
    "indices = list(np.argsort(importances))[::-1]"
   ]
  },
  {
   "cell_type": "code",
   "execution_count": 120,
   "id": "3744f9f0",
   "metadata": {},
   "outputs": [
    {
     "data": {
      "image/png": "[encoded data removed]",
      "text/plain": [
       "<Figure size 432x288 with 1 Axes>"
      ]
     },
     "metadata": {
      "needs_background": "light"
     },
     "output_type": "display_data"
    }
   ],
   "source": [
    "plt.title(\"Feature importances\")\n",
    "plt.barh(range(len(indices)), importances[indices], color=\"g\", align=\"center\")\n",
    "plt.yticks(range(len(indices)), data_without_missing_encoded.drop('fuel_type', axis=1).columns[indices])\n",
    "plt.gca().invert_yaxis()"
   ]
  },
  {
   "cell_type": "markdown",
   "id": "84582dfb",
   "metadata": {},
   "source": [
    "As expected, model is highly correlated with the engine power and the type of vehicle; accuracy is relatively high."
   ]
  },
  {
   "cell_type": "markdown",
   "id": "21cf83ab",
   "metadata": {},
   "source": [
    "**5.3 Insert predicted values**"
   ]
  },
  {
   "cell_type": "code",
   "execution_count": 121,
   "id": "9a572254",
   "metadata": {},
   "outputs": [],
   "source": [
    "for col in [col for col in missing_models_cat_vars if col != 'fuel_type']:\n",
    "    target_missing[col] = target_missing[col].map(encoding_dict(data_to_model_missing, col))"
   ]
  },
  {
   "cell_type": "code",
   "execution_count": 122,
   "id": "aea0a28b",
   "metadata": {},
   "outputs": [
    {
     "name": "stdout",
     "output_type": "stream",
     "text": [
      "<class 'pandas.core.frame.DataFrame'>\n",
      "Int64Index: 8867 entries, 9 to 333009\n",
      "Data columns (total 6 columns):\n",
      " #   Column        Non-Null Count  Dtype   \n",
      "---  ------        --------------  -----   \n",
      " 0   vehicle_type  8867 non-null   category\n",
      " 1   gearbox       8867 non-null   int64   \n",
      " 2   fuel_type     0 non-null      category\n",
      " 3   power         8867 non-null   float64 \n",
      " 4   brand         8867 non-null   category\n",
      " 5   model         8867 non-null   int64   \n",
      "dtypes: category(3), float64(1), int64(2)\n",
      "memory usage: 305.1 KB\n"
     ]
    }
   ],
   "source": [
    "target_missing.info()"
   ]
  },
  {
   "cell_type": "code",
   "execution_count": 123,
   "id": "3f253f46",
   "metadata": {},
   "outputs": [],
   "source": [
    "prediction = forest.predict(target_missing.drop('fuel_type', axis=1))"
   ]
  },
  {
   "cell_type": "code",
   "execution_count": 124,
   "id": "9a1342fa",
   "metadata": {},
   "outputs": [],
   "source": [
    "indices_to_fill_predictions = target_missing.index"
   ]
  },
  {
   "cell_type": "code",
   "execution_count": 125,
   "id": "fb5fd8ec",
   "metadata": {},
   "outputs": [],
   "source": [
    "data_to_model_missing_target = data_to_model_missing.loc[indices_to_fill_predictions,:]"
   ]
  },
  {
   "cell_type": "code",
   "execution_count": 126,
   "id": "af9d1c06",
   "metadata": {},
   "outputs": [],
   "source": [
    "data_to_model_missing_target['fuel_type'] = prediction"
   ]
  },
  {
   "cell_type": "code",
   "execution_count": 127,
   "id": "50949e72",
   "metadata": {},
   "outputs": [],
   "source": [
    "target_back_mapping_dict = encoding_back_mapping(encoding_dict(data_to_model_missing, 'fuel_type'))"
   ]
  },
  {
   "cell_type": "code",
   "execution_count": 128,
   "id": "5b13a651",
   "metadata": {},
   "outputs": [],
   "source": [
    "data_to_model_missing_target['fuel_type'] = data_to_model_missing_target['fuel_type'].map(target_back_mapping_dict)"
   ]
  },
  {
   "cell_type": "markdown",
   "id": "4e2cb34b",
   "metadata": {},
   "source": [
    "**6.3 Now we will update the `data_to_model_missing` dataset with the new, restored, observations.**"
   ]
  },
  {
   "cell_type": "code",
   "execution_count": 129,
   "id": "7bfd7911",
   "metadata": {},
   "outputs": [],
   "source": [
    "indices_to_keep = [idx for idx in list(data_to_model_missing.index) if idx not in indices_to_fill_predictions]"
   ]
  },
  {
   "cell_type": "code",
   "execution_count": 130,
   "id": "a478eb21",
   "metadata": {},
   "outputs": [],
   "source": [
    "df_to_concatenate = data_to_model_missing.filter(items = indices_to_keep, axis=0)"
   ]
  },
  {
   "cell_type": "code",
   "execution_count": 131,
   "id": "b795579b",
   "metadata": {},
   "outputs": [],
   "source": [
    "frames = [df_to_concatenate, data_to_model_missing_target]\n",
    "data_to_model_missing = pd.concat(frames)"
   ]
  },
  {
   "cell_type": "code",
   "execution_count": 132,
   "id": "73a9a7e2",
   "metadata": {},
   "outputs": [
    {
     "name": "stdout",
     "output_type": "stream",
     "text": [
      "<class 'pandas.core.frame.DataFrame'>\n",
      "Int64Index: 333036 entries, 0 to 333009\n",
      "Data columns (total 6 columns):\n",
      " #   Column        Non-Null Count   Dtype   \n",
      "---  ------        --------------   -----   \n",
      " 0   vehicle_type  296896 non-null  category\n",
      " 1   gearbox       317202 non-null  object  \n",
      " 2   fuel_type     310001 non-null  object  \n",
      " 3   power         293500 non-null  float64 \n",
      " 4   brand         333036 non-null  category\n",
      " 5   model         321484 non-null  object  \n",
      "dtypes: category(2), float64(1), object(3)\n",
      "memory usage: 13.3+ MB\n"
     ]
    }
   ],
   "source": [
    "data_to_model_missing.info()"
   ]
  },
  {
   "cell_type": "markdown",
   "id": "bc27b4ec",
   "metadata": {},
   "source": [
    "Let's proceed to `vehicle_type` variable, this time we will wrap up the procedure into a function:"
   ]
  },
  {
   "cell_type": "code",
   "execution_count": 133,
   "id": "719dca4e",
   "metadata": {},
   "outputs": [],
   "source": [
    "def iterative_missing_values_modeling(modeling_dataset, model_cat_var_list, target_var_name):\n",
    "    print(f'Started modeling for the `{target_var_name}` variable.')\n",
    "    \n",
    "    # step 1, choosing the dataset for modeling, is performed outside the function\n",
    "    # step 2 - extract a dataset with no missing values accros all the variables\n",
    "    print('\\nClean data subset:')\n",
    "    no_missing_df = modeling_dataset.dropna()\n",
    "    print(no_missing_df.info())\n",
    "    \n",
    "    # step 3 - extract the data subset with missing values for the target variable\n",
    "    print('\\nMissing target variable subset:')\n",
    "    missing_target_df = missing_values_subset_by_var(modeling_dataset, target_var_name)\n",
    "    print(missing_target_df.info())\n",
    "    \n",
    "    # step 4 - build a model for the target category variable\n",
    "    no_missing_encoded_df = no_missing_df.copy()\n",
    "    for col in model_cat_var_list:\n",
    "        no_missing_encoded_df[col] = no_missing_encoded_df[col].map(encoding_dict(modeling_dataset, col))\n",
    "    # print('\\n', data_without_missing_encoded.head())\n",
    "    \n",
    "    X = no_missing_encoded_df.drop(target_var_name, axis=1).values\n",
    "    Y = no_missing_encoded_df[target_var_name].values\n",
    "    X_train, X_test, Y_train, Y_test = train_test_split(X, Y, test_size=0.2, random_state=54321)\n",
    "    forest = RandomForestClassifier(random_state = 54321)  # use the default model\n",
    "    forest.fit(X_train, Y_train)\n",
    "    y_pred_train = forest.predict(X_train)\n",
    "    y_pred = forest.predict(X_test)\n",
    "    accuracy_train = accuracy_score(Y_train, y_pred_train)\n",
    "    accuracy_test = accuracy_score(Y_test, y_pred)\n",
    "    print(f\"\\nAccuracy of {target_var_name} model: TRAIN=%.4f TEST=%.4f\" % (accuracy_train,accuracy_test))\n",
    "    importances = forest.feature_importances_\n",
    "    indices = list(np.argsort(importances))[::-1]\n",
    "    \n",
    "    plt.title(\"Feature importances\")\n",
    "    plt.barh(range(len(indices)), importances[indices], color=\"g\", align=\"center\")\n",
    "    plt.yticks(range(len(indices)), no_missing_encoded_df.drop(target_var_name, axis=1).columns[indices])\n",
    "    plt.gca().invert_yaxis()\n",
    "    plt.show()\n",
    "\n",
    "    # step 5 - insert predicted values of the target variable\n",
    "    for col in [col for col in model_cat_var_list if col != target_var_name]:\n",
    "        missing_target_df[col] = missing_target_df[col].map(encoding_dict(modeling_dataset, col))\n",
    "    # print('\\n', missing_target_df.info())\n",
    "    \n",
    "    prediction = forest.predict(missing_target_df.drop(target_var_name, axis=1))\n",
    "    indices_to_fill_predictions = missing_target_df.index\n",
    "    modeling_dataset_target = modeling_dataset.loc[indices_to_fill_predictions,:]\n",
    "    modeling_dataset_target[target_var_name] = prediction\n",
    "    target_back_mapping_dict = encoding_back_mapping(encoding_dict(modeling_dataset, target_var_name))\n",
    "    modeling_dataset_target[target_var_name] = modeling_dataset_target[target_var_name].map(target_back_mapping_dict)\n",
    "    \n",
    "    # step 6 - update the initial dataset for modeling\n",
    "    indices_to_keep = [idx for idx in list(modeling_dataset.index) if idx not in indices_to_fill_predictions]\n",
    "    df_to_concatenate = modeling_dataset.filter(items = indices_to_keep, axis=0)\n",
    "    frames = [df_to_concatenate, modeling_dataset_target]\n",
    "    modeling_dataset = pd.concat(frames)\n",
    "    print('\\nUpdated modeling subset:')\n",
    "    print(modeling_dataset.info())\n",
    "    print(f'\\nFinished modeling for the `{target_var_name}` variable.')\n",
    "    \n",
    "    return modeling_dataset"
   ]
  },
  {
   "cell_type": "code",
   "execution_count": 134,
   "id": "161cb05c",
   "metadata": {},
   "outputs": [
    {
     "name": "stdout",
     "output_type": "stream",
     "text": [
      "Started modeling for the `vehicle_type` variable.\n",
      "\n",
      "Clean data subset:\n",
      "<class 'pandas.core.frame.DataFrame'>\n",
      "Int64Index: 268838 entries, 2 to 333009\n",
      "Data columns (total 6 columns):\n",
      " #   Column        Non-Null Count   Dtype   \n",
      "---  ------        --------------   -----   \n",
      " 0   vehicle_type  268838 non-null  category\n",
      " 1   gearbox       268838 non-null  object  \n",
      " 2   fuel_type     268838 non-null  object  \n",
      " 3   power         268838 non-null  float64 \n",
      " 4   brand         268838 non-null  category\n",
      " 5   model         268838 non-null  object  \n",
      "dtypes: category(2), float64(1), object(3)\n",
      "memory usage: 10.8+ MB\n",
      "None\n",
      "\n",
      "Missing target variable subset:\n",
      "<class 'pandas.core.frame.DataFrame'>\n",
      "Int64Index: 10420 entries, 22 to 332866\n",
      "Data columns (total 6 columns):\n",
      " #   Column        Non-Null Count  Dtype   \n",
      "---  ------        --------------  -----   \n",
      " 0   vehicle_type  0 non-null      category\n",
      " 1   gearbox       10420 non-null  object  \n",
      " 2   fuel_type     10420 non-null  object  \n",
      " 3   power         10420 non-null  float64 \n",
      " 4   brand         10420 non-null  category\n",
      " 5   model         10420 non-null  object  \n",
      "dtypes: category(2), float64(1), object(3)\n",
      "memory usage: 429.1+ KB\n",
      "None\n",
      "\n",
      "Accuracy of vehicle_type model: TRAIN=0.7575 TEST=0.7252\n"
     ]
    },
    {
     "data": {
      "image/png": "[encoded data removed]",
      "text/plain": [
       "<Figure size 432x288 with 1 Axes>"
      ]
     },
     "metadata": {
      "needs_background": "light"
     },
     "output_type": "display_data"
    },
    {
     "name": "stdout",
     "output_type": "stream",
     "text": [
      "\n",
      "Updated modeling subset:\n",
      "<class 'pandas.core.frame.DataFrame'>\n",
      "Int64Index: 333036 entries, 0 to 332866\n",
      "Data columns (total 6 columns):\n",
      " #   Column        Non-Null Count   Dtype   \n",
      "---  ------        --------------   -----   \n",
      " 0   vehicle_type  307316 non-null  object  \n",
      " 1   gearbox       317202 non-null  object  \n",
      " 2   fuel_type     310001 non-null  object  \n",
      " 3   power         293500 non-null  float64 \n",
      " 4   brand         333036 non-null  category\n",
      " 5   model         321484 non-null  object  \n",
      "dtypes: category(1), float64(1), object(4)\n",
      "memory usage: 15.6+ MB\n",
      "None\n",
      "\n",
      "Finished modeling for the `vehicle_type` variable.\n"
     ]
    }
   ],
   "source": [
    "data_to_model_missing = iterative_missing_values_modeling(data_to_model_missing, missing_models_cat_vars, 'vehicle_type')"
   ]
  },
  {
   "cell_type": "code",
   "execution_count": 135,
   "id": "07d24716",
   "metadata": {},
   "outputs": [
    {
     "name": "stdout",
     "output_type": "stream",
     "text": [
      "<class 'pandas.core.frame.DataFrame'>\n",
      "Int64Index: 333036 entries, 0 to 332866\n",
      "Data columns (total 6 columns):\n",
      " #   Column        Non-Null Count   Dtype   \n",
      "---  ------        --------------   -----   \n",
      " 0   vehicle_type  307316 non-null  object  \n",
      " 1   gearbox       317202 non-null  object  \n",
      " 2   fuel_type     310001 non-null  object  \n",
      " 3   power         293500 non-null  float64 \n",
      " 4   brand         333036 non-null  category\n",
      " 5   model         321484 non-null  object  \n",
      "dtypes: category(1), float64(1), object(4)\n",
      "memory usage: 15.6+ MB\n"
     ]
    }
   ],
   "source": [
    "data_to_model_missing.info()"
   ]
  },
  {
   "cell_type": "markdown",
   "id": "ea5db279",
   "metadata": {},
   "source": [
    "Now, we can make additional check and run the automated version of the developed procedure for all the category variables, starting from the very beginning:"
   ]
  },
  {
   "cell_type": "code",
   "execution_count": 136,
   "id": "9f89479f",
   "metadata": {},
   "outputs": [
    {
     "name": "stdout",
     "output_type": "stream",
     "text": [
      "Started modeling for the `gearbox` variable.\n",
      "\n",
      "Clean data subset:\n",
      "<class 'pandas.core.frame.DataFrame'>\n",
      "Int64Index: 249319 entries, 2 to 333035\n",
      "Data columns (total 6 columns):\n",
      " #   Column        Non-Null Count   Dtype   \n",
      "---  ------        --------------   -----   \n",
      " 0   vehicle_type  249319 non-null  category\n",
      " 1   gearbox       249319 non-null  category\n",
      " 2   fuel_type     249319 non-null  category\n",
      " 3   power         249319 non-null  float64 \n",
      " 4   brand         249319 non-null  category\n",
      " 5   model         249319 non-null  category\n",
      "dtypes: category(5), float64(1)\n",
      "memory usage: 5.2 MB\n",
      "None\n",
      "\n",
      "Missing target variable subset:\n",
      "<class 'pandas.core.frame.DataFrame'>\n",
      "Int64Index: 3181 entries, 208 to 332962\n",
      "Data columns (total 6 columns):\n",
      " #   Column        Non-Null Count  Dtype   \n",
      "---  ------        --------------  -----   \n",
      " 0   vehicle_type  3181 non-null   category\n",
      " 1   gearbox       0 non-null      category\n",
      " 2   fuel_type     3181 non-null   category\n",
      " 3   power         3181 non-null   float64 \n",
      " 4   brand         3181 non-null   category\n",
      " 5   model         3181 non-null   category\n",
      "dtypes: category(5), float64(1)\n",
      "memory usage: 80.6 KB\n",
      "None\n",
      "\n",
      "Accuracy of gearbox model: TRAIN=0.8837 TEST=0.8666\n"
     ]
    },
    {
     "data": {
      "image/png": "[encoded data removed]",
      "text/plain": [
       "<Figure size 432x288 with 1 Axes>"
      ]
     },
     "metadata": {
      "needs_background": "light"
     },
     "output_type": "display_data"
    },
    {
     "name": "stdout",
     "output_type": "stream",
     "text": [
      "\n",
      "Updated modeling subset:\n",
      "<class 'pandas.core.frame.DataFrame'>\n",
      "Int64Index: 333036 entries, 0 to 332962\n",
      "Data columns (total 6 columns):\n",
      " #   Column        Non-Null Count   Dtype   \n",
      "---  ------        --------------   -----   \n",
      " 0   vehicle_type  296896 non-null  category\n",
      " 1   gearbox       317202 non-null  object  \n",
      " 2   fuel_type     301134 non-null  category\n",
      " 3   power         293500 non-null  float64 \n",
      " 4   brand         333036 non-null  category\n",
      " 5   model         314013 non-null  category\n",
      "dtypes: category(4), float64(1), object(1)\n",
      "memory usage: 9.2+ MB\n",
      "None\n",
      "\n",
      "Finished modeling for the `gearbox` variable.\n",
      "Started modeling for the `model` variable.\n",
      "\n",
      "Clean data subset:\n",
      "<class 'pandas.core.frame.DataFrame'>\n",
      "Int64Index: 252500 entries, 2 to 332962\n",
      "Data columns (total 6 columns):\n",
      " #   Column        Non-Null Count   Dtype   \n",
      "---  ------        --------------   -----   \n",
      " 0   vehicle_type  252500 non-null  category\n",
      " 1   gearbox       252500 non-null  object  \n",
      " 2   fuel_type     252500 non-null  category\n",
      " 3   power         252500 non-null  float64 \n",
      " 4   brand         252500 non-null  category\n",
      " 5   model         252500 non-null  category\n",
      "dtypes: category(4), float64(1), object(1)\n",
      "memory usage: 7.0+ MB\n",
      "None\n",
      "\n",
      "Missing target variable subset:\n",
      "<class 'pandas.core.frame.DataFrame'>\n",
      "Int64Index: 7471 entries, 1 to 332994\n",
      "Data columns (total 6 columns):\n",
      " #   Column        Non-Null Count  Dtype   \n",
      "---  ------        --------------  -----   \n",
      " 0   vehicle_type  7471 non-null   category\n",
      " 1   gearbox       7471 non-null   object  \n",
      " 2   fuel_type     7471 non-null   category\n",
      " 3   power         7471 non-null   float64 \n",
      " 4   brand         7471 non-null   category\n",
      " 5   model         0 non-null      category\n",
      "dtypes: category(4), float64(1), object(1)\n",
      "memory usage: 223.7+ KB\n",
      "None\n",
      "\n",
      "Accuracy of model model: TRAIN=0.7869 TEST=0.7589\n"
     ]
    },
    {
     "data": {
      "image/png": "[encoded data removed]",
      "text/plain": [
       "<Figure size 432x288 with 1 Axes>"
      ]
     },
     "metadata": {
      "needs_background": "light"
     },
     "output_type": "display_data"
    },
    {
     "name": "stdout",
     "output_type": "stream",
     "text": [
      "\n",
      "Updated modeling subset:\n",
      "<class 'pandas.core.frame.DataFrame'>\n",
      "Int64Index: 333036 entries, 0 to 332994\n",
      "Data columns (total 6 columns):\n",
      " #   Column        Non-Null Count   Dtype   \n",
      "---  ------        --------------   -----   \n",
      " 0   vehicle_type  296896 non-null  category\n",
      " 1   gearbox       317202 non-null  object  \n",
      " 2   fuel_type     301134 non-null  category\n",
      " 3   power         293500 non-null  float64 \n",
      " 4   brand         333036 non-null  category\n",
      " 5   model         321484 non-null  object  \n",
      "dtypes: category(3), float64(1), object(2)\n",
      "memory usage: 11.1+ MB\n",
      "None\n",
      "\n",
      "Finished modeling for the `model` variable.\n",
      "Started modeling for the `fuel_type` variable.\n",
      "\n",
      "Clean data subset:\n",
      "<class 'pandas.core.frame.DataFrame'>\n",
      "Int64Index: 259971 entries, 2 to 332994\n",
      "Data columns (total 6 columns):\n",
      " #   Column        Non-Null Count   Dtype   \n",
      "---  ------        --------------   -----   \n",
      " 0   vehicle_type  259971 non-null  category\n",
      " 1   gearbox       259971 non-null  object  \n",
      " 2   fuel_type     259971 non-null  category\n",
      " 3   power         259971 non-null  float64 \n",
      " 4   brand         259971 non-null  category\n",
      " 5   model         259971 non-null  object  \n",
      "dtypes: category(3), float64(1), object(2)\n",
      "memory usage: 8.7+ MB\n",
      "None\n",
      "\n",
      "Missing target variable subset:\n",
      "<class 'pandas.core.frame.DataFrame'>\n",
      "Int64Index: 8867 entries, 9 to 333009\n",
      "Data columns (total 6 columns):\n",
      " #   Column        Non-Null Count  Dtype   \n",
      "---  ------        --------------  -----   \n",
      " 0   vehicle_type  8867 non-null   category\n",
      " 1   gearbox       8867 non-null   object  \n",
      " 2   fuel_type     0 non-null      category\n",
      " 3   power         8867 non-null   float64 \n",
      " 4   brand         8867 non-null   category\n",
      " 5   model         8867 non-null   object  \n",
      "dtypes: category(3), float64(1), object(2)\n",
      "memory usage: 305.1+ KB\n",
      "None\n",
      "\n",
      "Accuracy of fuel_type model: TRAIN=0.9068 TEST=0.8920\n"
     ]
    },
    {
     "data": {
      "image/png": "[encoded data removed]",
      "text/plain": [
       "<Figure size 432x288 with 1 Axes>"
      ]
     },
     "metadata": {
      "needs_background": "light"
     },
     "output_type": "display_data"
    },
    {
     "name": "stdout",
     "output_type": "stream",
     "text": [
      "\n",
      "Updated modeling subset:\n",
      "<class 'pandas.core.frame.DataFrame'>\n",
      "Int64Index: 333036 entries, 0 to 333009\n",
      "Data columns (total 6 columns):\n",
      " #   Column        Non-Null Count   Dtype   \n",
      "---  ------        --------------   -----   \n",
      " 0   vehicle_type  296896 non-null  category\n",
      " 1   gearbox       317202 non-null  object  \n",
      " 2   fuel_type     310001 non-null  object  \n",
      " 3   power         293500 non-null  float64 \n",
      " 4   brand         333036 non-null  category\n",
      " 5   model         321484 non-null  object  \n",
      "dtypes: category(2), float64(1), object(3)\n",
      "memory usage: 13.3+ MB\n",
      "None\n",
      "\n",
      "Finished modeling for the `fuel_type` variable.\n",
      "Started modeling for the `vehicle_type` variable.\n",
      "\n",
      "Clean data subset:\n",
      "<class 'pandas.core.frame.DataFrame'>\n",
      "Int64Index: 268838 entries, 2 to 333009\n",
      "Data columns (total 6 columns):\n",
      " #   Column        Non-Null Count   Dtype   \n",
      "---  ------        --------------   -----   \n",
      " 0   vehicle_type  268838 non-null  category\n",
      " 1   gearbox       268838 non-null  object  \n",
      " 2   fuel_type     268838 non-null  object  \n",
      " 3   power         268838 non-null  float64 \n",
      " 4   brand         268838 non-null  category\n",
      " 5   model         268838 non-null  object  \n",
      "dtypes: category(2), float64(1), object(3)\n",
      "memory usage: 10.8+ MB\n",
      "None\n",
      "\n",
      "Missing target variable subset:\n",
      "<class 'pandas.core.frame.DataFrame'>\n",
      "Int64Index: 10420 entries, 22 to 332866\n",
      "Data columns (total 6 columns):\n",
      " #   Column        Non-Null Count  Dtype   \n",
      "---  ------        --------------  -----   \n",
      " 0   vehicle_type  0 non-null      category\n",
      " 1   gearbox       10420 non-null  object  \n",
      " 2   fuel_type     10420 non-null  object  \n",
      " 3   power         10420 non-null  float64 \n",
      " 4   brand         10420 non-null  category\n",
      " 5   model         10420 non-null  object  \n",
      "dtypes: category(2), float64(1), object(3)\n",
      "memory usage: 429.1+ KB\n",
      "None\n",
      "\n",
      "Accuracy of vehicle_type model: TRAIN=0.7575 TEST=0.7252\n"
     ]
    },
    {
     "data": {
      "image/png": "[encoded data removed]",
      "text/plain": [
       "<Figure size 432x288 with 1 Axes>"
      ]
     },
     "metadata": {
      "needs_background": "light"
     },
     "output_type": "display_data"
    },
    {
     "name": "stdout",
     "output_type": "stream",
     "text": [
      "\n",
      "Updated modeling subset:\n",
      "<class 'pandas.core.frame.DataFrame'>\n",
      "Int64Index: 333036 entries, 0 to 332866\n",
      "Data columns (total 6 columns):\n",
      " #   Column        Non-Null Count   Dtype   \n",
      "---  ------        --------------   -----   \n",
      " 0   vehicle_type  307316 non-null  object  \n",
      " 1   gearbox       317202 non-null  object  \n",
      " 2   fuel_type     310001 non-null  object  \n",
      " 3   power         293500 non-null  float64 \n",
      " 4   brand         333036 non-null  category\n",
      " 5   model         321484 non-null  object  \n",
      "dtypes: category(1), float64(1), object(4)\n",
      "memory usage: 15.6+ MB\n",
      "None\n",
      "\n",
      "Finished modeling for the `vehicle_type` variable.\n"
     ]
    }
   ],
   "source": [
    "# extracting the dataset for modeling\n",
    "data_to_model_missing = data_raw[missing_models_vars].copy()\n",
    "# unclear `power` data -> missing\n",
    "data_to_model_missing['power'] = np.where(data_to_model_missing['power']<30, np.nan, data_to_model_missing['power'])\n",
    "\n",
    "for cat_var in missing_models_cat_vars_ordered[1:]:\n",
    "    data_to_model_missing = iterative_missing_values_modeling(data_to_model_missing,\n",
    "                                                              missing_models_cat_vars_ordered,\n",
    "                                                              cat_var)"
   ]
  },
  {
   "cell_type": "markdown",
   "id": "5fec502c",
   "metadata": {},
   "source": [
    "We succesfully finished the automated run with the same result!"
   ]
  },
  {
   "cell_type": "markdown",
   "id": "187b5bfb",
   "metadata": {},
   "source": [
    "Now, we have left with the `power` variable untreated. This variable is numeric; thus, we should use a regression model. Let's modify our script to include the option to make a switch to a regression model. To this end, we introduce `numerical_target` flag which defaults to `False` and correct the flow of calculations where relevant. Additionally, the final version of the script will include a check for emty dataset for constructing predictions for chosen target variable."
   ]
  },
  {
   "cell_type": "code",
   "execution_count": 137,
   "id": "b35aa00f",
   "metadata": {},
   "outputs": [],
   "source": [
    "def iterative_missing_values_modeling(modeling_dataset, model_cat_var_list, target_var_name, numerical_target = False):\n",
    "    print(f'Started modeling for the `{target_var_name}` variable.')\n",
    "    \n",
    "    # step 1, choosing the dataset for modeling, is performed outside the function\n",
    "    # step 2 - extract a dataset with no missing values accros all the variables\n",
    "    print('\\nClean data subset:')\n",
    "    no_missing_df = modeling_dataset.dropna()\n",
    "    print(no_missing_df.info())\n",
    "    \n",
    "    # step 3 - extract the data subset with missing values for the target variable\n",
    "    print('\\nMissing target variable subset:')\n",
    "    missing_target_df = missing_values_subset_by_var(modeling_dataset, target_var_name)\n",
    "    print(missing_target_df.info())\n",
    "    \n",
    "    if len(missing_target_df) == 0:\n",
    "        print(\"No subset for constructing predictions, observations with multiple missing values.\")\n",
    "    \n",
    "    else:\n",
    "    \n",
    "        # step 4 - build a model for the target category variable\n",
    "        no_missing_encoded_df = no_missing_df.copy()\n",
    "        for col in model_cat_var_list:\n",
    "            no_missing_encoded_df[col] = no_missing_encoded_df[col].map(encoding_dict(modeling_dataset, col))\n",
    "        # print('\\n', data_without_missing_encoded.head())\n",
    "\n",
    "        X = no_missing_encoded_df.drop(target_var_name, axis=1).values\n",
    "        Y = no_missing_encoded_df[target_var_name].values\n",
    "        X_train, X_test, Y_train, Y_test = train_test_split(X, Y, test_size=0.2, random_state=54321)\n",
    "\n",
    "        if numerical_target:\n",
    "            forest = RandomForestRegressor(random_state = 54321)  # use the default model for demonstration purposes\n",
    "            forest.fit(X_train, Y_train)\n",
    "            y_pred_train = forest.predict(X_train)\n",
    "            y_pred = forest.predict(X_test)\n",
    "\n",
    "            mse_median = mean_squared_error(Y_test, 115*np.ones(len(y_pred)))\n",
    "            mse_train = mean_squared_error(Y_train, y_pred_train)\n",
    "            mse_test = mean_squared_error(Y_test, y_pred)\n",
    "            rmse_test = mse_test**.5\n",
    "            rmse_median = mse_median**.5\n",
    "\n",
    "            print(\"MSE: TRAIN=%.4f TEST=%.4f MEDIAN=%.4f\" % (mse_train,mse_test,mse_median))\n",
    "            print(\"RMSE: TEST=%.4f\" % rmse_test)\n",
    "\n",
    "        else:\n",
    "            forest = RandomForestClassifier(random_state = 54321)  # use the default model for demonstration purposes\n",
    "            forest.fit(X_train, Y_train)\n",
    "            y_pred_train = forest.predict(X_train)\n",
    "            y_pred = forest.predict(X_test)\n",
    "            accuracy_train = accuracy_score(Y_train, y_pred_train)\n",
    "            accuracy_test = accuracy_score(Y_test, y_pred)\n",
    "            print(f\"\\nAccuracy of {target_var_name} model: TRAIN=%.4f TEST=%.4f\" % (accuracy_train,accuracy_test))\n",
    "\n",
    "        importances = forest.feature_importances_\n",
    "        indices = list(np.argsort(importances))[::-1]\n",
    "\n",
    "        plt.title(\"Feature importances\")\n",
    "        plt.barh(range(len(indices)), importances[indices], color=\"g\", align=\"center\")\n",
    "        plt.yticks(range(len(indices)), no_missing_encoded_df.drop(target_var_name, axis=1).columns[indices])\n",
    "        plt.gca().invert_yaxis()\n",
    "        plt.show()\n",
    "\n",
    "        # step 5 - insert predicted values of the target variable\n",
    "        for col in [col for col in model_cat_var_list if col != target_var_name]:\n",
    "            missing_target_df[col] = missing_target_df[col].map(encoding_dict(modeling_dataset, col))\n",
    "        # print('\\n', missing_target_df.info())\n",
    "\n",
    "        prediction = forest.predict(missing_target_df.drop(target_var_name, axis=1))\n",
    "\n",
    "        indices_to_fill_predictions = missing_target_df.index\n",
    "        modeling_dataset_target = modeling_dataset.loc[indices_to_fill_predictions,:]\n",
    "        modeling_dataset_target[target_var_name] = prediction\n",
    "\n",
    "        # preserve the initial data representation\n",
    "        if numerical_target:\n",
    "            # rounding numerical values to the lower ten\n",
    "            modeling_dataset_target[target_var_name] = 10*(modeling_dataset_target[target_var_name]//10)\n",
    "            modeling_dataset_target[target_var_name] = modeling_dataset_target[target_var_name].astype('int')\n",
    "        else:\n",
    "            target_back_mapping_dict = encoding_back_mapping(encoding_dict(modeling_dataset, target_var_name))\n",
    "            modeling_dataset_target[target_var_name] = modeling_dataset_target[target_var_name].map(\n",
    "                target_back_mapping_dict)\n",
    "\n",
    "        # step 6 - update the initial dataset for modeling\n",
    "        indices_to_keep = [idx for idx in list(modeling_dataset.index) if idx not in indices_to_fill_predictions]\n",
    "        df_to_concatenate = modeling_dataset.filter(items = indices_to_keep, axis=0)\n",
    "        frames = [df_to_concatenate, modeling_dataset_target]\n",
    "        modeling_dataset = pd.concat(frames)\n",
    "        for cat_var in model_cat_var_list:\n",
    "            modeling_dataset[cat_var] = modeling_dataset[cat_var].astype('category')\n",
    "        print('\\nUpdated modeling subset:')\n",
    "        print(modeling_dataset.info())\n",
    "    print(f'\\nFinished modeling for the `{target_var_name}` variable.')\n",
    "    \n",
    "    return modeling_dataset"
   ]
  },
  {
   "cell_type": "markdown",
   "id": "e36ca496",
   "metadata": {},
   "source": [
    "Let's give it a try:"
   ]
  },
  {
   "cell_type": "code",
   "execution_count": 138,
   "id": "d4031326",
   "metadata": {},
   "outputs": [
    {
     "name": "stdout",
     "output_type": "stream",
     "text": [
      "<class 'pandas.core.frame.DataFrame'>\n",
      "Int64Index: 333036 entries, 0 to 332866\n",
      "Data columns (total 6 columns):\n",
      " #   Column        Non-Null Count   Dtype   \n",
      "---  ------        --------------   -----   \n",
      " 0   vehicle_type  307316 non-null  object  \n",
      " 1   gearbox       317202 non-null  object  \n",
      " 2   fuel_type     310001 non-null  object  \n",
      " 3   power         293500 non-null  float64 \n",
      " 4   brand         333036 non-null  category\n",
      " 5   model         321484 non-null  object  \n",
      "dtypes: category(1), float64(1), object(4)\n",
      "memory usage: 15.6+ MB\n"
     ]
    }
   ],
   "source": [
    "data_to_model_missing.info()"
   ]
  },
  {
   "cell_type": "code",
   "execution_count": 139,
   "id": "be4adf2e",
   "metadata": {},
   "outputs": [
    {
     "name": "stdout",
     "output_type": "stream",
     "text": [
      "<class 'pandas.core.frame.DataFrame'>\n",
      "Int64Index: 279258 entries, 2 to 332866\n",
      "Data columns (total 6 columns):\n",
      " #   Column        Non-Null Count   Dtype   \n",
      "---  ------        --------------   -----   \n",
      " 0   vehicle_type  279258 non-null  object  \n",
      " 1   gearbox       279258 non-null  object  \n",
      " 2   fuel_type     279258 non-null  object  \n",
      " 3   power         279258 non-null  float64 \n",
      " 4   brand         279258 non-null  category\n",
      " 5   model         279258 non-null  object  \n",
      "dtypes: category(1), float64(1), object(4)\n",
      "memory usage: 13.1+ MB\n"
     ]
    }
   ],
   "source": [
    "data_to_model_missing.dropna().info()"
   ]
  },
  {
   "cell_type": "code",
   "execution_count": 140,
   "id": "7f9b68dd",
   "metadata": {},
   "outputs": [
    {
     "name": "stdout",
     "output_type": "stream",
     "text": [
      "Started modeling for the `power` variable.\n",
      "\n",
      "Clean data subset:\n",
      "<class 'pandas.core.frame.DataFrame'>\n",
      "Int64Index: 279258 entries, 2 to 332866\n",
      "Data columns (total 6 columns):\n",
      " #   Column        Non-Null Count   Dtype   \n",
      "---  ------        --------------   -----   \n",
      " 0   vehicle_type  279258 non-null  object  \n",
      " 1   gearbox       279258 non-null  object  \n",
      " 2   fuel_type     279258 non-null  object  \n",
      " 3   power         279258 non-null  float64 \n",
      " 4   brand         279258 non-null  category\n",
      " 5   model         279258 non-null  object  \n",
      "dtypes: category(1), float64(1), object(4)\n",
      "memory usage: 13.1+ MB\n",
      "None\n",
      "\n",
      "Missing target variable subset:\n",
      "<class 'pandas.core.frame.DataFrame'>\n",
      "Int64Index: 15937 entries, 55 to 333028\n",
      "Data columns (total 6 columns):\n",
      " #   Column        Non-Null Count  Dtype   \n",
      "---  ------        --------------  -----   \n",
      " 0   vehicle_type  15937 non-null  object  \n",
      " 1   gearbox       15937 non-null  object  \n",
      " 2   fuel_type     15937 non-null  object  \n",
      " 3   power         0 non-null      float64 \n",
      " 4   brand         15937 non-null  category\n",
      " 5   model         15937 non-null  object  \n",
      "dtypes: category(1), float64(1), object(4)\n",
      "memory usage: 764.0+ KB\n",
      "None\n",
      "MSE: TRAIN=37388.8874 TEST=34817.0945 MEDIAN=36116.2598\n",
      "RMSE: TEST=186.5934\n"
     ]
    },
    {
     "data": {
      "image/png": "[encoded data removed]",
      "text/plain": [
       "<Figure size 432x288 with 1 Axes>"
      ]
     },
     "metadata": {
      "needs_background": "light"
     },
     "output_type": "display_data"
    },
    {
     "name": "stdout",
     "output_type": "stream",
     "text": [
      "\n",
      "Updated modeling subset:\n",
      "<class 'pandas.core.frame.DataFrame'>\n",
      "Int64Index: 333036 entries, 0 to 333028\n",
      "Data columns (total 6 columns):\n",
      " #   Column        Non-Null Count   Dtype   \n",
      "---  ------        --------------   -----   \n",
      " 0   vehicle_type  307316 non-null  category\n",
      " 1   gearbox       317202 non-null  category\n",
      " 2   fuel_type     310001 non-null  category\n",
      " 3   power         309437 non-null  float64 \n",
      " 4   brand         333036 non-null  category\n",
      " 5   model         321484 non-null  category\n",
      "dtypes: category(5), float64(1)\n",
      "memory usage: 7.0 MB\n",
      "None\n",
      "\n",
      "Finished modeling for the `power` variable.\n"
     ]
    }
   ],
   "source": [
    "data_to_model_missing = iterative_missing_values_modeling(data_to_model_missing, missing_models_cat_vars,\n",
    "                                                          'power', numerical_target = True)"
   ]
  },
  {
   "cell_type": "markdown",
   "id": "22981d23",
   "metadata": {},
   "source": [
    "For the engine power the `model` and the `vehicle_type` are the most correlated parameters."
   ]
  },
  {
   "cell_type": "markdown",
   "id": "40e9661d",
   "metadata": {},
   "source": [
    "At the moment, the share of valid observations after filling in missing values:"
   ]
  },
  {
   "cell_type": "code",
   "execution_count": 141,
   "id": "25938ae1",
   "metadata": {},
   "outputs": [
    {
     "data": {
      "text/plain": [
       "0.8863756470771929"
      ]
     },
     "execution_count": 141,
     "metadata": {},
     "output_type": "execute_result"
    }
   ],
   "source": [
    "data_to_model_missing.dropna().shape[0] / data_raw.shape[0]"
   ]
  },
  {
   "cell_type": "markdown",
   "id": "c4da2fd2",
   "metadata": {},
   "source": [
    "After performing one iteration over the variables with missing values, only about 11.5% of the available observations still contain missing values."
   ]
  },
  {
   "cell_type": "markdown",
   "id": "acb7aa41",
   "metadata": {},
   "source": [
    "Let's try and see whether another iteration will work as well."
   ]
  },
  {
   "cell_type": "code",
   "execution_count": 142,
   "id": "e9957395",
   "metadata": {},
   "outputs": [
    {
     "name": "stdout",
     "output_type": "stream",
     "text": [
      "Started modeling for the `gearbox` variable.\n",
      "\n",
      "Clean data subset:\n",
      "<class 'pandas.core.frame.DataFrame'>\n",
      "Int64Index: 295195 entries, 2 to 333028\n",
      "Data columns (total 6 columns):\n",
      " #   Column        Non-Null Count   Dtype   \n",
      "---  ------        --------------   -----   \n",
      " 0   vehicle_type  295195 non-null  category\n",
      " 1   gearbox       295195 non-null  category\n",
      " 2   fuel_type     295195 non-null  category\n",
      " 3   power         295195 non-null  float64 \n",
      " 4   brand         295195 non-null  category\n",
      " 5   model         295195 non-null  category\n",
      "dtypes: category(5), float64(1)\n",
      "memory usage: 6.2 MB\n",
      "None\n",
      "\n",
      "Missing target variable subset:\n",
      "<class 'pandas.core.frame.DataFrame'>\n",
      "Int64Index: 0 entries\n",
      "Data columns (total 6 columns):\n",
      " #   Column        Non-Null Count  Dtype   \n",
      "---  ------        --------------  -----   \n",
      " 0   vehicle_type  0 non-null      category\n",
      " 1   gearbox       0 non-null      category\n",
      " 2   fuel_type     0 non-null      category\n",
      " 3   power         0 non-null      float64 \n",
      " 4   brand         0 non-null      category\n",
      " 5   model         0 non-null      category\n",
      "dtypes: category(5), float64(1)\n",
      "memory usage: 12.2 KB\n",
      "None\n",
      "No subset for constructing predictions, observations with multiple missing values.\n",
      "\n",
      "Finished modeling for the `gearbox` variable.\n",
      "Started modeling for the `model` variable.\n",
      "\n",
      "Clean data subset:\n",
      "<class 'pandas.core.frame.DataFrame'>\n",
      "Int64Index: 295195 entries, 2 to 333028\n",
      "Data columns (total 6 columns):\n",
      " #   Column        Non-Null Count   Dtype   \n",
      "---  ------        --------------   -----   \n",
      " 0   vehicle_type  295195 non-null  category\n",
      " 1   gearbox       295195 non-null  category\n",
      " 2   fuel_type     295195 non-null  category\n",
      " 3   power         295195 non-null  float64 \n",
      " 4   brand         295195 non-null  category\n",
      " 5   model         295195 non-null  category\n",
      "dtypes: category(5), float64(1)\n",
      "memory usage: 6.2 MB\n",
      "None\n",
      "\n",
      "Missing target variable subset:\n",
      "<class 'pandas.core.frame.DataFrame'>\n",
      "Int64Index: 0 entries\n",
      "Data columns (total 6 columns):\n",
      " #   Column        Non-Null Count  Dtype   \n",
      "---  ------        --------------  -----   \n",
      " 0   vehicle_type  0 non-null      category\n",
      " 1   gearbox       0 non-null      category\n",
      " 2   fuel_type     0 non-null      category\n",
      " 3   power         0 non-null      float64 \n",
      " 4   brand         0 non-null      category\n",
      " 5   model         0 non-null      category\n",
      "dtypes: category(5), float64(1)\n",
      "memory usage: 12.2 KB\n",
      "None\n",
      "No subset for constructing predictions, observations with multiple missing values.\n",
      "\n",
      "Finished modeling for the `model` variable.\n",
      "Started modeling for the `fuel_type` variable.\n",
      "\n",
      "Clean data subset:\n",
      "<class 'pandas.core.frame.DataFrame'>\n",
      "Int64Index: 295195 entries, 2 to 333028\n",
      "Data columns (total 6 columns):\n",
      " #   Column        Non-Null Count   Dtype   \n",
      "---  ------        --------------   -----   \n",
      " 0   vehicle_type  295195 non-null  category\n",
      " 1   gearbox       295195 non-null  category\n",
      " 2   fuel_type     295195 non-null  category\n",
      " 3   power         295195 non-null  float64 \n",
      " 4   brand         295195 non-null  category\n",
      " 5   model         295195 non-null  category\n",
      "dtypes: category(5), float64(1)\n",
      "memory usage: 6.2 MB\n",
      "None\n",
      "\n",
      "Missing target variable subset:\n",
      "<class 'pandas.core.frame.DataFrame'>\n",
      "Int64Index: 0 entries\n",
      "Data columns (total 6 columns):\n",
      " #   Column        Non-Null Count  Dtype   \n",
      "---  ------        --------------  -----   \n",
      " 0   vehicle_type  0 non-null      category\n",
      " 1   gearbox       0 non-null      category\n",
      " 2   fuel_type     0 non-null      category\n",
      " 3   power         0 non-null      float64 \n",
      " 4   brand         0 non-null      category\n",
      " 5   model         0 non-null      category\n",
      "dtypes: category(5), float64(1)\n",
      "memory usage: 12.2 KB\n",
      "None\n",
      "No subset for constructing predictions, observations with multiple missing values.\n",
      "\n",
      "Finished modeling for the `fuel_type` variable.\n",
      "Started modeling for the `vehicle_type` variable.\n",
      "\n",
      "Clean data subset:\n",
      "<class 'pandas.core.frame.DataFrame'>\n",
      "Int64Index: 295195 entries, 2 to 333028\n",
      "Data columns (total 6 columns):\n",
      " #   Column        Non-Null Count   Dtype   \n",
      "---  ------        --------------   -----   \n",
      " 0   vehicle_type  295195 non-null  category\n",
      " 1   gearbox       295195 non-null  category\n",
      " 2   fuel_type     295195 non-null  category\n",
      " 3   power         295195 non-null  float64 \n",
      " 4   brand         295195 non-null  category\n",
      " 5   model         295195 non-null  category\n",
      "dtypes: category(5), float64(1)\n",
      "memory usage: 6.2 MB\n",
      "None\n",
      "\n",
      "Missing target variable subset:\n",
      "<class 'pandas.core.frame.DataFrame'>\n",
      "Int64Index: 0 entries\n",
      "Data columns (total 6 columns):\n",
      " #   Column        Non-Null Count  Dtype   \n",
      "---  ------        --------------  -----   \n",
      " 0   vehicle_type  0 non-null      category\n",
      " 1   gearbox       0 non-null      category\n",
      " 2   fuel_type     0 non-null      category\n",
      " 3   power         0 non-null      float64 \n",
      " 4   brand         0 non-null      category\n",
      " 5   model         0 non-null      category\n",
      "dtypes: category(5), float64(1)\n",
      "memory usage: 12.2 KB\n",
      "None\n",
      "No subset for constructing predictions, observations with multiple missing values.\n",
      "\n",
      "Finished modeling for the `vehicle_type` variable.\n"
     ]
    }
   ],
   "source": [
    "for cat_var in missing_models_cat_vars_ordered[1:]:\n",
    "    data_to_model_missing = iterative_missing_values_modeling(data_to_model_missing,\n",
    "                                                              missing_models_cat_vars_ordered,\n",
    "                                                              cat_var)"
   ]
  },
  {
   "cell_type": "code",
   "execution_count": 143,
   "id": "03f0e7e3",
   "metadata": {},
   "outputs": [
    {
     "name": "stdout",
     "output_type": "stream",
     "text": [
      "Started modeling for the `power` variable.\n",
      "\n",
      "Clean data subset:\n",
      "<class 'pandas.core.frame.DataFrame'>\n",
      "Int64Index: 295195 entries, 2 to 333028\n",
      "Data columns (total 6 columns):\n",
      " #   Column        Non-Null Count   Dtype   \n",
      "---  ------        --------------   -----   \n",
      " 0   vehicle_type  295195 non-null  category\n",
      " 1   gearbox       295195 non-null  category\n",
      " 2   fuel_type     295195 non-null  category\n",
      " 3   power         295195 non-null  float64 \n",
      " 4   brand         295195 non-null  category\n",
      " 5   model         295195 non-null  category\n",
      "dtypes: category(5), float64(1)\n",
      "memory usage: 6.2 MB\n",
      "None\n",
      "\n",
      "Missing target variable subset:\n",
      "<class 'pandas.core.frame.DataFrame'>\n",
      "Int64Index: 0 entries\n",
      "Data columns (total 6 columns):\n",
      " #   Column        Non-Null Count  Dtype   \n",
      "---  ------        --------------  -----   \n",
      " 0   vehicle_type  0 non-null      category\n",
      " 1   gearbox       0 non-null      category\n",
      " 2   fuel_type     0 non-null      category\n",
      " 3   power         0 non-null      float64 \n",
      " 4   brand         0 non-null      category\n",
      " 5   model         0 non-null      category\n",
      "dtypes: category(5), float64(1)\n",
      "memory usage: 12.2 KB\n",
      "None\n",
      "No subset for constructing predictions, observations with multiple missing values.\n",
      "\n",
      "Finished modeling for the `power` variable.\n"
     ]
    }
   ],
   "source": [
    "data_to_model_missing = iterative_missing_values_modeling(data_to_model_missing, missing_models_cat_vars,\n",
    "                                                          'power', numerical_target = True)"
   ]
  },
  {
   "cell_type": "markdown",
   "id": "f4b2f314",
   "metadata": {},
   "source": [
    "OK, we cannot improve the result and will drop the rest of the observations with missing values:"
   ]
  },
  {
   "cell_type": "code",
   "execution_count": 144,
   "id": "5186afb3",
   "metadata": {},
   "outputs": [],
   "source": [
    "data_to_model_missing.dropna(inplace = True)"
   ]
  },
  {
   "cell_type": "markdown",
   "id": "5f2edd1f",
   "metadata": {},
   "source": [
    "We also need to sort the final version of the `data_to_model_missing` by index to correctly substitute the columns in the initial `data_raw` dataframe with its columns."
   ]
  },
  {
   "cell_type": "code",
   "execution_count": 145,
   "id": "9ea005a1",
   "metadata": {},
   "outputs": [],
   "source": [
    "data_to_model_missing.sort_index(inplace = True)"
   ]
  },
  {
   "cell_type": "code",
   "execution_count": 146,
   "id": "af89862b",
   "metadata": {},
   "outputs": [
    {
     "data": {
      "text/html": [
       "<div>\n",
       "<style scoped>\n",
       "    .dataframe tbody tr th:only-of-type {\n",
       "        vertical-align: middle;\n",
       "    }\n",
       "\n",
       "    .dataframe tbody tr th {\n",
       "        vertical-align: top;\n",
       "    }\n",
       "\n",
       "    .dataframe thead th {\n",
       "        text-align: right;\n",
       "    }\n",
       "</style>\n",
       "<table border=\"1\" class=\"dataframe\">\n",
       "  <thead>\n",
       "    <tr style=\"text-align: right;\">\n",
       "      <th></th>\n",
       "      <th>vehicle_type</th>\n",
       "      <th>gearbox</th>\n",
       "      <th>fuel_type</th>\n",
       "      <th>power</th>\n",
       "      <th>brand</th>\n",
       "      <th>model</th>\n",
       "    </tr>\n",
       "  </thead>\n",
       "  <tbody>\n",
       "    <tr>\n",
       "      <th>1</th>\n",
       "      <td>coupe</td>\n",
       "      <td>manual</td>\n",
       "      <td>gasoline</td>\n",
       "      <td>190.0</td>\n",
       "      <td>audi</td>\n",
       "      <td>a5</td>\n",
       "    </tr>\n",
       "    <tr>\n",
       "      <th>2</th>\n",
       "      <td>suv</td>\n",
       "      <td>auto</td>\n",
       "      <td>gasoline</td>\n",
       "      <td>163.0</td>\n",
       "      <td>jeep</td>\n",
       "      <td>grand</td>\n",
       "    </tr>\n",
       "    <tr>\n",
       "      <th>3</th>\n",
       "      <td>small</td>\n",
       "      <td>manual</td>\n",
       "      <td>petrol</td>\n",
       "      <td>75.0</td>\n",
       "      <td>volkswagen</td>\n",
       "      <td>golf</td>\n",
       "    </tr>\n",
       "    <tr>\n",
       "      <th>4</th>\n",
       "      <td>small</td>\n",
       "      <td>manual</td>\n",
       "      <td>gasoline</td>\n",
       "      <td>69.0</td>\n",
       "      <td>skoda</td>\n",
       "      <td>fabia</td>\n",
       "    </tr>\n",
       "    <tr>\n",
       "      <th>5</th>\n",
       "      <td>sedan</td>\n",
       "      <td>manual</td>\n",
       "      <td>petrol</td>\n",
       "      <td>102.0</td>\n",
       "      <td>bmw</td>\n",
       "      <td>3er</td>\n",
       "    </tr>\n",
       "  </tbody>\n",
       "</table>\n",
       "</div>"
      ],
      "text/plain": [
       "  vehicle_type gearbox fuel_type  power       brand  model\n",
       "1        coupe  manual  gasoline  190.0        audi     a5\n",
       "2          suv    auto  gasoline  163.0        jeep  grand\n",
       "3        small  manual    petrol   75.0  volkswagen   golf\n",
       "4        small  manual  gasoline   69.0       skoda  fabia\n",
       "5        sedan  manual    petrol  102.0         bmw    3er"
      ]
     },
     "execution_count": 146,
     "metadata": {},
     "output_type": "execute_result"
    }
   ],
   "source": [
    "data_to_model_missing.head()"
   ]
  },
  {
   "cell_type": "markdown",
   "id": "b1630ac1",
   "metadata": {},
   "source": [
    "Now, let's plug the resulting series into the initial dataset `data_raw`:"
   ]
  },
  {
   "cell_type": "code",
   "execution_count": 147,
   "id": "9494fbfd",
   "metadata": {},
   "outputs": [
    {
     "data": {
      "text/html": [
       "<div>\n",
       "<style scoped>\n",
       "    .dataframe tbody tr th:only-of-type {\n",
       "        vertical-align: middle;\n",
       "    }\n",
       "\n",
       "    .dataframe tbody tr th {\n",
       "        vertical-align: top;\n",
       "    }\n",
       "\n",
       "    .dataframe thead th {\n",
       "        text-align: right;\n",
       "    }\n",
       "</style>\n",
       "<table border=\"1\" class=\"dataframe\">\n",
       "  <thead>\n",
       "    <tr style=\"text-align: right;\">\n",
       "      <th></th>\n",
       "      <th>date_crawled</th>\n",
       "      <th>price</th>\n",
       "      <th>vehicle_type</th>\n",
       "      <th>registration_year</th>\n",
       "      <th>gearbox</th>\n",
       "      <th>power</th>\n",
       "      <th>model</th>\n",
       "      <th>mileage</th>\n",
       "      <th>registration_month</th>\n",
       "      <th>fuel_type</th>\n",
       "      <th>brand</th>\n",
       "      <th>not_repaired</th>\n",
       "      <th>date_created</th>\n",
       "      <th>number_of_pictures</th>\n",
       "      <th>postal_code</th>\n",
       "      <th>last_seen</th>\n",
       "    </tr>\n",
       "  </thead>\n",
       "  <tbody>\n",
       "    <tr>\n",
       "      <th>0</th>\n",
       "      <td>2016-03-24 11:52:00</td>\n",
       "      <td>480</td>\n",
       "      <td>NaN</td>\n",
       "      <td>1993</td>\n",
       "      <td>manual</td>\n",
       "      <td>0</td>\n",
       "      <td>golf</td>\n",
       "      <td>150000</td>\n",
       "      <td>0</td>\n",
       "      <td>petrol</td>\n",
       "      <td>volkswagen</td>\n",
       "      <td>NaN</td>\n",
       "      <td>2016-03-24</td>\n",
       "      <td>0</td>\n",
       "      <td>70435</td>\n",
       "      <td>2016-07-04 03:16:00</td>\n",
       "    </tr>\n",
       "    <tr>\n",
       "      <th>1</th>\n",
       "      <td>2016-03-24 10:58:00</td>\n",
       "      <td>18300</td>\n",
       "      <td>coupe</td>\n",
       "      <td>2011</td>\n",
       "      <td>manual</td>\n",
       "      <td>190</td>\n",
       "      <td>NaN</td>\n",
       "      <td>125000</td>\n",
       "      <td>5</td>\n",
       "      <td>gasoline</td>\n",
       "      <td>audi</td>\n",
       "      <td>yes</td>\n",
       "      <td>2016-03-24</td>\n",
       "      <td>0</td>\n",
       "      <td>66954</td>\n",
       "      <td>2016-07-04 01:46:00</td>\n",
       "    </tr>\n",
       "    <tr>\n",
       "      <th>2</th>\n",
       "      <td>2016-03-14 12:52:00</td>\n",
       "      <td>9800</td>\n",
       "      <td>suv</td>\n",
       "      <td>2004</td>\n",
       "      <td>auto</td>\n",
       "      <td>163</td>\n",
       "      <td>grand</td>\n",
       "      <td>125000</td>\n",
       "      <td>8</td>\n",
       "      <td>gasoline</td>\n",
       "      <td>jeep</td>\n",
       "      <td>NaN</td>\n",
       "      <td>2016-03-14</td>\n",
       "      <td>0</td>\n",
       "      <td>90480</td>\n",
       "      <td>2016-05-04 12:47:00</td>\n",
       "    </tr>\n",
       "    <tr>\n",
       "      <th>3</th>\n",
       "      <td>2016-03-17 16:54:00</td>\n",
       "      <td>1500</td>\n",
       "      <td>small</td>\n",
       "      <td>2001</td>\n",
       "      <td>manual</td>\n",
       "      <td>75</td>\n",
       "      <td>golf</td>\n",
       "      <td>150000</td>\n",
       "      <td>6</td>\n",
       "      <td>petrol</td>\n",
       "      <td>volkswagen</td>\n",
       "      <td>no</td>\n",
       "      <td>2016-03-17</td>\n",
       "      <td>0</td>\n",
       "      <td>91074</td>\n",
       "      <td>2016-03-17 17:40:00</td>\n",
       "    </tr>\n",
       "    <tr>\n",
       "      <th>4</th>\n",
       "      <td>2016-03-31 17:25:00</td>\n",
       "      <td>3600</td>\n",
       "      <td>small</td>\n",
       "      <td>2008</td>\n",
       "      <td>manual</td>\n",
       "      <td>69</td>\n",
       "      <td>fabia</td>\n",
       "      <td>90000</td>\n",
       "      <td>7</td>\n",
       "      <td>gasoline</td>\n",
       "      <td>skoda</td>\n",
       "      <td>no</td>\n",
       "      <td>2016-03-31</td>\n",
       "      <td>0</td>\n",
       "      <td>60437</td>\n",
       "      <td>2016-06-04 10:17:00</td>\n",
       "    </tr>\n",
       "  </tbody>\n",
       "</table>\n",
       "</div>"
      ],
      "text/plain": [
       "         date_crawled  price vehicle_type  registration_year gearbox  power  \\\n",
       "0 2016-03-24 11:52:00    480          NaN               1993  manual      0   \n",
       "1 2016-03-24 10:58:00  18300        coupe               2011  manual    190   \n",
       "2 2016-03-14 12:52:00   9800          suv               2004    auto    163   \n",
       "3 2016-03-17 16:54:00   1500        small               2001  manual     75   \n",
       "4 2016-03-31 17:25:00   3600        small               2008  manual     69   \n",
       "\n",
       "   model  mileage  registration_month fuel_type       brand not_repaired  \\\n",
       "0   golf   150000                   0    petrol  volkswagen          NaN   \n",
       "1    NaN   125000                   5  gasoline        audi          yes   \n",
       "2  grand   125000                   8  gasoline        jeep          NaN   \n",
       "3   golf   150000                   6    petrol  volkswagen           no   \n",
       "4  fabia    90000                   7  gasoline       skoda           no   \n",
       "\n",
       "  date_created  number_of_pictures  postal_code           last_seen  \n",
       "0   2016-03-24                   0        70435 2016-07-04 03:16:00  \n",
       "1   2016-03-24                   0        66954 2016-07-04 01:46:00  \n",
       "2   2016-03-14                   0        90480 2016-05-04 12:47:00  \n",
       "3   2016-03-17                   0        91074 2016-03-17 17:40:00  \n",
       "4   2016-03-31                   0        60437 2016-06-04 10:17:00  "
      ]
     },
     "execution_count": 147,
     "metadata": {},
     "output_type": "execute_result"
    }
   ],
   "source": [
    "data_raw.head()"
   ]
  },
  {
   "cell_type": "code",
   "execution_count": 148,
   "id": "1c740c15",
   "metadata": {},
   "outputs": [],
   "source": [
    "df_to_update = data_raw.filter(items = data_to_model_missing.index, axis=0)"
   ]
  },
  {
   "cell_type": "markdown",
   "id": "571076ac",
   "metadata": {},
   "source": [
    "To make sure, let's sort this dataframe by the index as well:"
   ]
  },
  {
   "cell_type": "code",
   "execution_count": 149,
   "id": "4d53e52f",
   "metadata": {},
   "outputs": [],
   "source": [
    "df_to_update.sort_index(inplace = True)"
   ]
  },
  {
   "cell_type": "markdown",
   "id": "0695432f",
   "metadata": {},
   "source": [
    "Now we can just substitute the columns:"
   ]
  },
  {
   "cell_type": "code",
   "execution_count": 150,
   "id": "a5e3f4dd",
   "metadata": {},
   "outputs": [],
   "source": [
    "for col in data_to_model_missing.columns:\n",
    "    df_to_update[col] = data_to_model_missing[col]"
   ]
  },
  {
   "cell_type": "code",
   "execution_count": 151,
   "id": "1c04db20",
   "metadata": {},
   "outputs": [
    {
     "name": "stdout",
     "output_type": "stream",
     "text": [
      "<class 'pandas.core.frame.DataFrame'>\n",
      "Int64Index: 295195 entries, 1 to 333035\n",
      "Data columns (total 16 columns):\n",
      " #   Column              Non-Null Count   Dtype         \n",
      "---  ------              --------------   -----         \n",
      " 0   date_crawled        295195 non-null  datetime64[ns]\n",
      " 1   price               295195 non-null  int64         \n",
      " 2   vehicle_type        295195 non-null  category      \n",
      " 3   registration_year   295195 non-null  int64         \n",
      " 4   gearbox             295195 non-null  category      \n",
      " 5   power               295195 non-null  float64       \n",
      " 6   model               295195 non-null  category      \n",
      " 7   mileage             295195 non-null  int64         \n",
      " 8   registration_month  295195 non-null  int64         \n",
      " 9   fuel_type           295195 non-null  category      \n",
      " 10  brand               295195 non-null  category      \n",
      " 11  not_repaired        247836 non-null  category      \n",
      " 12  date_created        295195 non-null  datetime64[ns]\n",
      " 13  number_of_pictures  295195 non-null  int64         \n",
      " 14  postal_code         295195 non-null  int64         \n",
      " 15  last_seen           295195 non-null  datetime64[ns]\n",
      "dtypes: category(6), datetime64[ns](3), float64(1), int64(6)\n",
      "memory usage: 26.8 MB\n"
     ]
    }
   ],
   "source": [
    "df_to_update.info()"
   ]
  },
  {
   "cell_type": "markdown",
   "id": "b3ec0826",
   "metadata": {},
   "source": [
    "[Back to Content](#content)"
   ]
  },
  {
   "cell_type": "markdown",
   "id": "2f1d6f2f",
   "metadata": {},
   "source": [
    "#### Predicting missing values in car state variables"
   ]
  },
  {
   "cell_type": "markdown",
   "id": "6a5cb71a",
   "metadata": {},
   "source": [
    "Great, the only variable left untreated is `not_repaired`; it does not depend on the manufacturing characteristics of the cars, so we excluded it from the modeling above. Nevertheless, we can use the same script to model this variable. We will assume that `not_repaired` correlates with the `registration_year` and `mileage` variables:"
   ]
  },
  {
   "cell_type": "markdown",
   "id": "2bc0c5a3",
   "metadata": {},
   "source": [
    "Before we proceed, let's take a look at the distributions of the `registration_year` and `mileage` variables by `not_repaired`:"
   ]
  },
  {
   "cell_type": "code",
   "execution_count": 152,
   "id": "cf76c45d",
   "metadata": {
    "scrolled": true
   },
   "outputs": [
    {
     "data": {
      "image/png": "[encoded data removed]",
      "text/plain": [
       "<Figure size 1152x216 with 1 Axes>"
      ]
     },
     "metadata": {
      "needs_background": "light"
     },
     "output_type": "display_data"
    }
   ],
   "source": [
    "plt.figure(figsize=(16, 3))\n",
    "data_raw[data_raw['not_repaired']=='yes']['registration_year'].hist(color = \"rebeccapurple\",\n",
    "                                                                    bins = 50, density=True, alpha = 0.8)\n",
    "data_raw[data_raw['not_repaired']=='no']['registration_year'].hist(color = \"blue\", bins = 50, density = True, alpha = 0.5)\n",
    "plt.title('Values of `registration_year` for repaired and non-repaired cars')\n",
    "plt.xlabel('Value')\n",
    "plt.ylabel('Count')\n",
    "plt.legend(['yes', 'no'])\n",
    "#plt.xlim(0,500)\n",
    "plt.show()"
   ]
  },
  {
   "cell_type": "code",
   "execution_count": 153,
   "id": "3aec13a8",
   "metadata": {},
   "outputs": [
    {
     "data": {
      "image/png": "[encoded data removed]",
      "text/plain": [
       "<Figure size 1152x216 with 1 Axes>"
      ]
     },
     "metadata": {
      "needs_background": "light"
     },
     "output_type": "display_data"
    }
   ],
   "source": [
    "plt.figure(figsize=(16, 3))\n",
    "data_raw[data_raw['not_repaired']=='yes']['mileage'].hist(color = \"rebeccapurple\",\n",
    "                                                                    bins = 50, density=True, alpha = 0.8)\n",
    "data_raw[data_raw['not_repaired']=='no']['mileage'].hist(color = \"blue\", bins = 50, density = True, alpha = 0.5)\n",
    "plt.title('Values of `registration_year` for repaired and non-repaired cars')\n",
    "plt.xlabel('Value')\n",
    "plt.ylabel('Count')\n",
    "plt.legend(['yes', 'no'])\n",
    "#plt.xlim(0,500)\n",
    "plt.show()"
   ]
  },
  {
   "cell_type": "markdown",
   "id": "c51181a5",
   "metadata": {},
   "source": [
    "We definetely have a outliers in the `registration_year` variable; the `mileage` variable looks reasonable from the value range point of view, though the distribution looks a bit too discrete. Let's check how many outliers there are in the `registration_year` variable:"
   ]
  },
  {
   "cell_type": "code",
   "execution_count": 154,
   "id": "2a75a508",
   "metadata": {},
   "outputs": [
    {
     "data": {
      "text/plain": [
       "164"
      ]
     },
     "execution_count": 154,
     "metadata": {},
     "output_type": "execute_result"
    }
   ],
   "source": [
    "len(data_raw.query('(registration_year < 1900) | (registration_year > 2020)'))"
   ]
  },
  {
   "cell_type": "markdown",
   "id": "0ee0672d",
   "metadata": {},
   "source": [
    "~160 only, so we will drop them from the `df_to_update` before moving on:"
   ]
  },
  {
   "cell_type": "code",
   "execution_count": 155,
   "id": "24df9c64",
   "metadata": {},
   "outputs": [
    {
     "data": {
      "image/png": "[encoded data removed]",
      "text/plain": [
       "<Figure size 1152x216 with 1 Axes>"
      ]
     },
     "metadata": {
      "needs_background": "light"
     },
     "output_type": "display_data"
    }
   ],
   "source": [
    "plt.figure(figsize=(16, 3))\n",
    "data_raw.query('(registration_year < 2022) & (registration_year > 1900)')['registration_year'].hist(\n",
    "    color = \"green\", bins = 50, density=True, alpha = 0.8)\n",
    "plt.title('Values of `registration_year`')\n",
    "plt.xlabel('Value')\n",
    "plt.ylabel('Count')\n",
    "plt.show()"
   ]
  },
  {
   "cell_type": "code",
   "execution_count": 156,
   "id": "f5b16ac8",
   "metadata": {},
   "outputs": [],
   "source": [
    "data_raw = data_raw.query('(registration_year >= 1900) & (registration_year < 2020)')"
   ]
  },
  {
   "cell_type": "markdown",
   "id": "6da88fa4",
   "metadata": {},
   "source": [
    "1. Now we can choose the variables to use for predicting the missing values. Actually it looks like car age should be a better proxy to the car state, so let's create the `car_age` variable:"
   ]
  },
  {
   "cell_type": "markdown",
   "id": "b306ae78",
   "metadata": {},
   "source": [
    "Calculate car age:"
   ]
  },
  {
   "cell_type": "code",
   "execution_count": 157,
   "id": "190018b9",
   "metadata": {},
   "outputs": [],
   "source": [
    "data_raw['year_created'] = data_raw['date_created'].dt.year"
   ]
  },
  {
   "cell_type": "code",
   "execution_count": 158,
   "id": "ca80adc1",
   "metadata": {},
   "outputs": [],
   "source": [
    "data_raw['car_age'] = data_raw['year_created'] - data_raw['registration_year']"
   ]
  },
  {
   "cell_type": "markdown",
   "id": "c3253c01",
   "metadata": {},
   "source": [
    "Thus, we can use `car_age` instead `registration_year` formodeling the `not_repaired` variable."
   ]
  },
  {
   "cell_type": "code",
   "execution_count": 159,
   "id": "cfc43aee",
   "metadata": {},
   "outputs": [],
   "source": [
    "missing_not_repaired_vars = ['car_age', 'mileage', 'not_repaired']\n",
    "missing_not_repaired_cat_vars = ['not_repaired']"
   ]
  },
  {
   "cell_type": "markdown",
   "id": "f6c18ab6",
   "metadata": {},
   "source": [
    "Now we can extract the modeling subset:"
   ]
  },
  {
   "cell_type": "code",
   "execution_count": 160,
   "id": "bbc766bc",
   "metadata": {},
   "outputs": [],
   "source": [
    "data_to_model_not_repaired_missing = data_raw[missing_not_repaired_vars].copy()"
   ]
  },
  {
   "cell_type": "markdown",
   "id": "7fd76205",
   "metadata": {},
   "source": [
    "2. Now we can simply apply the `iterative_missing_values_modeling` function."
   ]
  },
  {
   "cell_type": "code",
   "execution_count": 161,
   "id": "44363964",
   "metadata": {},
   "outputs": [
    {
     "name": "stdout",
     "output_type": "stream",
     "text": [
      "Started modeling for the `not_repaired` variable.\n",
      "\n",
      "Clean data subset:\n",
      "<class 'pandas.core.frame.DataFrame'>\n",
      "Int64Index: 264952 entries, 1 to 333034\n",
      "Data columns (total 3 columns):\n",
      " #   Column        Non-Null Count   Dtype   \n",
      "---  ------        --------------   -----   \n",
      " 0   car_age       264952 non-null  int64   \n",
      " 1   mileage       264952 non-null  int64   \n",
      " 2   not_repaired  264952 non-null  category\n",
      "dtypes: category(1), int64(2)\n",
      "memory usage: 6.3 MB\n",
      "None\n",
      "\n",
      "Missing target variable subset:\n",
      "<class 'pandas.core.frame.DataFrame'>\n",
      "Int64Index: 67920 entries, 0 to 333035\n",
      "Data columns (total 3 columns):\n",
      " #   Column        Non-Null Count  Dtype   \n",
      "---  ------        --------------  -----   \n",
      " 0   car_age       67920 non-null  int64   \n",
      " 1   mileage       67920 non-null  int64   \n",
      " 2   not_repaired  0 non-null      category\n",
      "dtypes: category(1), int64(2)\n",
      "memory usage: 1.6 MB\n",
      "None\n",
      "\n",
      "Accuracy of not_repaired model: TRAIN=0.8698 TEST=0.8675\n"
     ]
    },
    {
     "data": {
      "image/png": "[encoded data removed]",
      "text/plain": [
       "<Figure size 432x288 with 1 Axes>"
      ]
     },
     "metadata": {
      "needs_background": "light"
     },
     "output_type": "display_data"
    },
    {
     "name": "stdout",
     "output_type": "stream",
     "text": [
      "\n",
      "Updated modeling subset:\n",
      "<class 'pandas.core.frame.DataFrame'>\n",
      "Int64Index: 332872 entries, 1 to 333035\n",
      "Data columns (total 3 columns):\n",
      " #   Column        Non-Null Count   Dtype   \n",
      "---  ------        --------------   -----   \n",
      " 0   car_age       332872 non-null  int64   \n",
      " 1   mileage       332872 non-null  int64   \n",
      " 2   not_repaired  332872 non-null  category\n",
      "dtypes: category(1), int64(2)\n",
      "memory usage: 7.9 MB\n",
      "None\n",
      "\n",
      "Finished modeling for the `not_repaired` variable.\n"
     ]
    }
   ],
   "source": [
    "data_to_model_not_repaired_missing = iterative_missing_values_modeling(data_to_model_not_repaired_missing,\n",
    "                                                                       missing_not_repaired_cat_vars,\n",
    "                                                                       'not_repaired')"
   ]
  },
  {
   "cell_type": "markdown",
   "id": "0b34feba",
   "metadata": {},
   "source": [
    "As expected, the `car_age` exhibits the most impact on the `not_repaired` variable, which sounds reasonable; the accuracy of the model is pretty high."
   ]
  },
  {
   "cell_type": "markdown",
   "id": "e3f16f73",
   "metadata": {},
   "source": [
    "Thus, we have missing values for `not_repaired` restored as well, let's plug them into the `df_to_update` dataframe."
   ]
  },
  {
   "cell_type": "code",
   "execution_count": 162,
   "id": "e93794fb",
   "metadata": {},
   "outputs": [
    {
     "data": {
      "text/html": [
       "<div>\n",
       "<style scoped>\n",
       "    .dataframe tbody tr th:only-of-type {\n",
       "        vertical-align: middle;\n",
       "    }\n",
       "\n",
       "    .dataframe tbody tr th {\n",
       "        vertical-align: top;\n",
       "    }\n",
       "\n",
       "    .dataframe thead th {\n",
       "        text-align: right;\n",
       "    }\n",
       "</style>\n",
       "<table border=\"1\" class=\"dataframe\">\n",
       "  <thead>\n",
       "    <tr style=\"text-align: right;\">\n",
       "      <th></th>\n",
       "      <th>car_age</th>\n",
       "      <th>mileage</th>\n",
       "      <th>not_repaired</th>\n",
       "    </tr>\n",
       "  </thead>\n",
       "  <tbody>\n",
       "    <tr>\n",
       "      <th>1</th>\n",
       "      <td>5</td>\n",
       "      <td>125000</td>\n",
       "      <td>yes</td>\n",
       "    </tr>\n",
       "    <tr>\n",
       "      <th>3</th>\n",
       "      <td>15</td>\n",
       "      <td>150000</td>\n",
       "      <td>no</td>\n",
       "    </tr>\n",
       "    <tr>\n",
       "      <th>4</th>\n",
       "      <td>8</td>\n",
       "      <td>90000</td>\n",
       "      <td>no</td>\n",
       "    </tr>\n",
       "    <tr>\n",
       "      <th>5</th>\n",
       "      <td>21</td>\n",
       "      <td>150000</td>\n",
       "      <td>yes</td>\n",
       "    </tr>\n",
       "    <tr>\n",
       "      <th>6</th>\n",
       "      <td>12</td>\n",
       "      <td>150000</td>\n",
       "      <td>no</td>\n",
       "    </tr>\n",
       "  </tbody>\n",
       "</table>\n",
       "</div>"
      ],
      "text/plain": [
       "   car_age  mileage not_repaired\n",
       "1        5   125000          yes\n",
       "3       15   150000           no\n",
       "4        8    90000           no\n",
       "5       21   150000          yes\n",
       "6       12   150000           no"
      ]
     },
     "execution_count": 162,
     "metadata": {},
     "output_type": "execute_result"
    }
   ],
   "source": [
    "data_to_model_not_repaired_missing.head()"
   ]
  },
  {
   "cell_type": "markdown",
   "id": "abad6f4d",
   "metadata": {},
   "source": [
    "We remember that `df_to_update` contains only part of the `data_to_model_not_repaired_missing` indices and it also should be cleaned from unreasonable values of `registration_year`:"
   ]
  },
  {
   "cell_type": "code",
   "execution_count": 163,
   "id": "568d093e",
   "metadata": {},
   "outputs": [],
   "source": [
    "not_repaired_restored_data = data_to_model_not_repaired_missing.filter(items = df_to_update.index, axis=0)"
   ]
  },
  {
   "cell_type": "code",
   "execution_count": 164,
   "id": "734c5339",
   "metadata": {},
   "outputs": [],
   "source": [
    "df_to_update.sort_index(inplace = True)\n",
    "not_repaired_restored_data.sort_index(inplace = True)"
   ]
  },
  {
   "cell_type": "code",
   "execution_count": 165,
   "id": "4b65013c",
   "metadata": {},
   "outputs": [],
   "source": [
    "df_to_update['not_repaired'] = not_repaired_restored_data['not_repaired']"
   ]
  },
  {
   "cell_type": "code",
   "execution_count": 166,
   "id": "52fee889",
   "metadata": {},
   "outputs": [],
   "source": [
    "df_to_update = df_to_update.query('(registration_year >= 1900) & (registration_year < 2020)')"
   ]
  },
  {
   "cell_type": "code",
   "execution_count": 167,
   "id": "dc1e98b8",
   "metadata": {},
   "outputs": [
    {
     "name": "stdout",
     "output_type": "stream",
     "text": [
      "<class 'pandas.core.frame.DataFrame'>\n",
      "Int64Index: 295187 entries, 1 to 333035\n",
      "Data columns (total 16 columns):\n",
      " #   Column              Non-Null Count   Dtype         \n",
      "---  ------              --------------   -----         \n",
      " 0   date_crawled        295187 non-null  datetime64[ns]\n",
      " 1   price               295187 non-null  int64         \n",
      " 2   vehicle_type        295187 non-null  category      \n",
      " 3   registration_year   295187 non-null  int64         \n",
      " 4   gearbox             295187 non-null  category      \n",
      " 5   power               295187 non-null  float64       \n",
      " 6   model               295187 non-null  category      \n",
      " 7   mileage             295187 non-null  int64         \n",
      " 8   registration_month  295187 non-null  int64         \n",
      " 9   fuel_type           295187 non-null  category      \n",
      " 10  brand               295187 non-null  category      \n",
      " 11  not_repaired        295187 non-null  category      \n",
      " 12  date_created        295187 non-null  datetime64[ns]\n",
      " 13  number_of_pictures  295187 non-null  int64         \n",
      " 14  postal_code         295187 non-null  int64         \n",
      " 15  last_seen           295187 non-null  datetime64[ns]\n",
      "dtypes: category(6), datetime64[ns](3), float64(1), int64(6)\n",
      "memory usage: 26.8 MB\n"
     ]
    }
   ],
   "source": [
    "df_to_update.info()"
   ]
  },
  {
   "cell_type": "markdown",
   "id": "94a4deb8",
   "metadata": {},
   "source": [
    "Now we are done with the missing variables. Let's finalize the data preprocessing."
   ]
  },
  {
   "cell_type": "markdown",
   "id": "0b315046",
   "metadata": {},
   "source": [
    "[Back to Content](#content)"
   ]
  },
  {
   "cell_type": "markdown",
   "id": "7dd65c36",
   "metadata": {},
   "source": [
    "### Preprocessing wrap up"
   ]
  },
  {
   "cell_type": "markdown",
   "id": "18354a36",
   "metadata": {},
   "source": [
    "To finalize the preprocessing, we have two additional steps:\n",
    "- study the `price` variable;\n",
    "- drop irrelevant variables."
   ]
  },
  {
   "cell_type": "markdown",
   "id": "4d29b433",
   "metadata": {},
   "source": [
    "Let's take a look at the `price` variable:"
   ]
  },
  {
   "cell_type": "code",
   "execution_count": 168,
   "id": "bc6b8685",
   "metadata": {},
   "outputs": [
    {
     "data": {
      "image/png": "[encoded data removed]",
      "text/plain": [
       "<Figure size 1152x216 with 1 Axes>"
      ]
     },
     "metadata": {
      "needs_background": "light"
     },
     "output_type": "display_data"
    }
   ],
   "source": [
    "plt.figure(figsize=(16, 3))\n",
    "data_raw['price'].hist(color = \"green\", bins = 50, density=True, alpha = 0.8)\n",
    "plt.title('Values of `price`')\n",
    "plt.xlabel('Value')\n",
    "plt.ylabel('Count')\n",
    "plt.show()"
   ]
  },
  {
   "cell_type": "markdown",
   "id": "b5a5a19a",
   "metadata": {},
   "source": [
    "Let's see how the scatter plot of `car_age` VS. `price` looks like:"
   ]
  },
  {
   "cell_type": "code",
   "execution_count": 169,
   "id": "9b009c7a",
   "metadata": {},
   "outputs": [
    {
     "data": {
      "image/png": "[encoded data removed]",
      "text/plain": [
       "<Figure size 432x288 with 1 Axes>"
      ]
     },
     "metadata": {
      "needs_background": "light"
     },
     "output_type": "display_data"
    }
   ],
   "source": [
    "data_raw.plot.scatter(x='car_age', y='price', alpha=.5)\n",
    "plt.title('Car age vs. price of the vehicle');"
   ]
  },
  {
   "cell_type": "markdown",
   "id": "c719cc96",
   "metadata": {},
   "source": [
    "The distribution of the `price` variable looks very reasonable."
   ]
  },
  {
   "cell_type": "markdown",
   "id": "05293e61",
   "metadata": {},
   "source": [
    "Now, we can finalize our clean dataset by dropping unnecessary variables:"
   ]
  },
  {
   "cell_type": "code",
   "execution_count": 170,
   "id": "a3366a23",
   "metadata": {},
   "outputs": [],
   "source": [
    "df_to_update['car_age'] = df_to_update['date_created'].dt.year - df_to_update['registration_year']"
   ]
  },
  {
   "cell_type": "code",
   "execution_count": 171,
   "id": "a7d4d2f7",
   "metadata": {},
   "outputs": [
    {
     "data": {
      "text/plain": [
       "Index(['date_crawled', 'price', 'vehicle_type', 'registration_year', 'gearbox',\n",
       "       'power', 'model', 'mileage', 'registration_month', 'fuel_type', 'brand',\n",
       "       'not_repaired', 'date_created', 'number_of_pictures', 'postal_code',\n",
       "       'last_seen', 'car_age'],\n",
       "      dtype='object')"
      ]
     },
     "execution_count": 171,
     "metadata": {},
     "output_type": "execute_result"
    }
   ],
   "source": [
    "df_to_update.columns"
   ]
  },
  {
   "cell_type": "markdown",
   "id": "4ffaecc7",
   "metadata": {},
   "source": [
    "We have the `car_age` instead registration dates and listing creation data, we are less interested in number of pictures and the time the listing was seen for the last time:"
   ]
  },
  {
   "cell_type": "code",
   "execution_count": 172,
   "id": "43a70a08",
   "metadata": {},
   "outputs": [],
   "source": [
    "data_not_encoded = df_to_update.drop(['date_crawled', 'registration_year', 'registration_month',\n",
    "                          'date_created', 'number_of_pictures', 'last_seen'], axis=1)"
   ]
  },
  {
   "cell_type": "markdown",
   "id": "56266b20",
   "metadata": {},
   "source": [
    "Final remark: to be coherent with the meaning of the `postal_code` variable, we can explicitely define it as a category one as well."
   ]
  },
  {
   "cell_type": "code",
   "execution_count": 173,
   "id": "20520a9d",
   "metadata": {},
   "outputs": [],
   "source": [
    "data_not_encoded['postal_code'] = data_not_encoded['postal_code'].astype('category')"
   ]
  },
  {
   "cell_type": "markdown",
   "id": "17b69c8f",
   "metadata": {},
   "source": [
    "Our final dataset consist of ten variables:"
   ]
  },
  {
   "cell_type": "code",
   "execution_count": 174,
   "id": "2143b5c7",
   "metadata": {},
   "outputs": [
    {
     "name": "stdout",
     "output_type": "stream",
     "text": [
      "<class 'pandas.core.frame.DataFrame'>\n",
      "Int64Index: 295187 entries, 1 to 333035\n",
      "Data columns (total 11 columns):\n",
      " #   Column        Non-Null Count   Dtype   \n",
      "---  ------        --------------   -----   \n",
      " 0   price         295187 non-null  int64   \n",
      " 1   vehicle_type  295187 non-null  category\n",
      " 2   gearbox       295187 non-null  category\n",
      " 3   power         295187 non-null  float64 \n",
      " 4   model         295187 non-null  category\n",
      " 5   mileage       295187 non-null  int64   \n",
      " 6   fuel_type     295187 non-null  category\n",
      " 7   brand         295187 non-null  category\n",
      " 8   not_repaired  295187 non-null  category\n",
      " 9   postal_code   295187 non-null  category\n",
      " 10  car_age       295187 non-null  int64   \n",
      "dtypes: category(7), float64(1), int64(3)\n",
      "memory usage: 14.1 MB\n"
     ]
    }
   ],
   "source": [
    "data_not_encoded.info()"
   ]
  },
  {
   "cell_type": "markdown",
   "id": "9793e0a8",
   "metadata": {},
   "source": [
    "#### Data upload and preprocessing - summary"
   ]
  },
  {
   "cell_type": "markdown",
   "id": "f342264e",
   "metadata": {},
   "source": [
    "1. As part of the uploading process we checked memory usage and date types for a small subsample, which allowed us to avoid significant excessive use of the memory.\n",
    "2. The raw dataset included ~K355 observations.\n",
    "3. We found ~260 fully duplicated entries and K21+ implicite duplicates, which essentially looked like the same cars (including miliage, the postal code of the car and the price) crawled and published twice or more, so the listing would have different last time seen. To avoid any biases, we dropped those entries.\n",
    "4. We performed extensive work on filling missing values:\n",
    "- some variables were lacking between 5% to 20% of values;\n",
    "- one variable, `power` had significant amount of unexpectedly low values, including zeros and values below 30 HP; in both cases we treated those values as missing.\n",
    "5. During the missing variables pre-processing, we explored part of the variables and suggested using `RandomForestClassifier` to predict the missing values for categorical variables, like `fuel_type`, `gearbox`, and `vehicle_type`, and `RandomForestRegressor` to predict reasonable values instead zeros and near-zero values for the `power` variable.\n",
    "6. To accomplish the task of filling in missing values, we developed the following procedure:\n",
    "- extract the dataset (variables) for modeling (from the initial dataset `data_raw`);\n",
    "- extract a clean subset, without missing values, to use for modeling;\n",
    "- choose a variable to fill in missing values and apply modeling:\n",
    "    - extract the subset with missing values for the variable of interest;\n",
    "    - create a model with that variable as a target to fill in the missing values;\n",
    "    - use the model to predict missing values;\n",
    "    - concatinate the observations with the predicted missing values with the initial version of the clean subset and, thus, update it;\n",
    "- choose the next variable to predict and repeat the modeling for it.\n",
    "7. While implementing the procedre above, we automated most of its parts and ended up with one line function, `iterative_missing_values_modeling` applicable both for categorical and for numerical variables, for different subsets of related variables.\n",
    "8. Thus, we restored missing variables in `fuel_type`, `model`, `gearbox`, `vehicle_type`, and `power` variables (the model considered only car manufacturing characteristics and included the `brand` variable as well), and then in `not_repaired` variable (we modeled it through `car_age` and `mileage`) and preserved ~14% of the dataset as it appeared after dropping duplicates.\n",
    "9. Finally, we dropped irrelevantvariables, and ended up with a clean dataset of 10 variables with ~K295 observations."
   ]
  },
  {
   "cell_type": "markdown",
   "id": "5a7704ff",
   "metadata": {},
   "source": [
    "[Back to Content](#content)"
   ]
  },
  {
   "cell_type": "markdown",
   "id": "5dcd54c3",
   "metadata": {},
   "source": [
    "## Modeling the car value"
   ]
  },
  {
   "cell_type": "markdown",
   "id": "d939c26d",
   "metadata": {},
   "source": [
    "In this part, we will implement the following:\n",
    "1. Encode categorical variables data\n",
    "2. Split the data\n",
    "3. Define the score\n",
    "4. Make a sanity check with a pipeline with Linear Regression\n",
    "5. Build a tree-based algorithm with hyperparameter tuning (random forest)\n",
    "6. Apply XGBoost with hyperparameter tuning\n",
    "7. Apply LightGBM with hyperparameter tuning"
   ]
  },
  {
   "cell_type": "markdown",
   "id": "34a59e11",
   "metadata": {},
   "source": [
    "### Encoding"
   ]
  },
  {
   "cell_type": "markdown",
   "id": "4a73443f",
   "metadata": {},
   "source": [
    "In what follows, we will consider several models, `RandomForest`, `XGBoost`, and `LightGBM`. The latter has additional support for categorical features (see [here](https://lightgbm.readthedocs.io/en/latest/Advanced-Topics.html), `CatBoost` [as well](https://catboost.ai/en/docs/concepts/algorithm-main-stages_cat-to-numberic)). Since our categorical features are nominal (nor ordinal), using `LabelEncoder()` encoder seems to be a better solution."
   ]
  },
  {
   "cell_type": "code",
   "execution_count": 175,
   "id": "0859182f",
   "metadata": {},
   "outputs": [],
   "source": [
    "labelencoder = LabelEncoder()"
   ]
  },
  {
   "cell_type": "code",
   "execution_count": 176,
   "id": "541e00bf",
   "metadata": {},
   "outputs": [],
   "source": [
    "cat_columns = ['vehicle_type', 'gearbox', 'model', 'fuel_type', 'brand', 'not_repaired', 'postal_code']"
   ]
  },
  {
   "cell_type": "code",
   "execution_count": 177,
   "id": "6bceb10e",
   "metadata": {},
   "outputs": [],
   "source": [
    "data = data_not_encoded.copy()"
   ]
  },
  {
   "cell_type": "code",
   "execution_count": 178,
   "id": "c2a652ce",
   "metadata": {},
   "outputs": [],
   "source": [
    "for col in cat_columns:\n",
    "    data[col] = labelencoder.fit_transform(data[col])"
   ]
  },
  {
   "cell_type": "code",
   "execution_count": 179,
   "id": "8d3171d4",
   "metadata": {},
   "outputs": [
    {
     "data": {
      "text/html": [
       "<div>\n",
       "<style scoped>\n",
       "    .dataframe tbody tr th:only-of-type {\n",
       "        vertical-align: middle;\n",
       "    }\n",
       "\n",
       "    .dataframe tbody tr th {\n",
       "        vertical-align: top;\n",
       "    }\n",
       "\n",
       "    .dataframe thead th {\n",
       "        text-align: right;\n",
       "    }\n",
       "</style>\n",
       "<table border=\"1\" class=\"dataframe\">\n",
       "  <thead>\n",
       "    <tr style=\"text-align: right;\">\n",
       "      <th></th>\n",
       "      <th>price</th>\n",
       "      <th>vehicle_type</th>\n",
       "      <th>gearbox</th>\n",
       "      <th>power</th>\n",
       "      <th>model</th>\n",
       "      <th>mileage</th>\n",
       "      <th>fuel_type</th>\n",
       "      <th>brand</th>\n",
       "      <th>not_repaired</th>\n",
       "      <th>postal_code</th>\n",
       "      <th>car_age</th>\n",
       "    </tr>\n",
       "  </thead>\n",
       "  <tbody>\n",
       "    <tr>\n",
       "      <th>1</th>\n",
       "      <td>18300</td>\n",
       "      <td>2</td>\n",
       "      <td>1</td>\n",
       "      <td>190.0</td>\n",
       "      <td>30</td>\n",
       "      <td>125000</td>\n",
       "      <td>2</td>\n",
       "      <td>1</td>\n",
       "      <td>1</td>\n",
       "      <td>4600</td>\n",
       "      <td>5</td>\n",
       "    </tr>\n",
       "    <tr>\n",
       "      <th>2</th>\n",
       "      <td>9800</td>\n",
       "      <td>6</td>\n",
       "      <td>0</td>\n",
       "      <td>163.0</td>\n",
       "      <td>117</td>\n",
       "      <td>125000</td>\n",
       "      <td>2</td>\n",
       "      <td>14</td>\n",
       "      <td>0</td>\n",
       "      <td>6973</td>\n",
       "      <td>12</td>\n",
       "    </tr>\n",
       "    <tr>\n",
       "      <th>3</th>\n",
       "      <td>1500</td>\n",
       "      <td>5</td>\n",
       "      <td>1</td>\n",
       "      <td>75.0</td>\n",
       "      <td>116</td>\n",
       "      <td>150000</td>\n",
       "      <td>6</td>\n",
       "      <td>38</td>\n",
       "      <td>0</td>\n",
       "      <td>7013</td>\n",
       "      <td>15</td>\n",
       "    </tr>\n",
       "    <tr>\n",
       "      <th>4</th>\n",
       "      <td>3600</td>\n",
       "      <td>5</td>\n",
       "      <td>1</td>\n",
       "      <td>69.0</td>\n",
       "      <td>101</td>\n",
       "      <td>90000</td>\n",
       "      <td>2</td>\n",
       "      <td>31</td>\n",
       "      <td>0</td>\n",
       "      <td>4197</td>\n",
       "      <td>8</td>\n",
       "    </tr>\n",
       "    <tr>\n",
       "      <th>5</th>\n",
       "      <td>650</td>\n",
       "      <td>4</td>\n",
       "      <td>1</td>\n",
       "      <td>102.0</td>\n",
       "      <td>11</td>\n",
       "      <td>150000</td>\n",
       "      <td>6</td>\n",
       "      <td>2</td>\n",
       "      <td>1</td>\n",
       "      <td>2367</td>\n",
       "      <td>21</td>\n",
       "    </tr>\n",
       "  </tbody>\n",
       "</table>\n",
       "</div>"
      ],
      "text/plain": [
       "   price  vehicle_type  gearbox  power  model  mileage  fuel_type  brand  \\\n",
       "1  18300             2        1  190.0     30   125000          2      1   \n",
       "2   9800             6        0  163.0    117   125000          2     14   \n",
       "3   1500             5        1   75.0    116   150000          6     38   \n",
       "4   3600             5        1   69.0    101    90000          2     31   \n",
       "5    650             4        1  102.0     11   150000          6      2   \n",
       "\n",
       "   not_repaired  postal_code  car_age  \n",
       "1             1         4600        5  \n",
       "2             0         6973       12  \n",
       "3             0         7013       15  \n",
       "4             0         4197        8  \n",
       "5             1         2367       21  "
      ]
     },
     "execution_count": 179,
     "metadata": {},
     "output_type": "execute_result"
    }
   ],
   "source": [
    "data.head()"
   ]
  },
  {
   "cell_type": "markdown",
   "id": "f02b8c4f",
   "metadata": {},
   "source": [
    "Label encoding casts the categorical variables into integers:"
   ]
  },
  {
   "cell_type": "code",
   "execution_count": 180,
   "id": "ef4118e5",
   "metadata": {},
   "outputs": [
    {
     "name": "stdout",
     "output_type": "stream",
     "text": [
      "<class 'pandas.core.frame.DataFrame'>\n",
      "Int64Index: 295187 entries, 1 to 333035\n",
      "Data columns (total 11 columns):\n",
      " #   Column        Non-Null Count   Dtype  \n",
      "---  ------        --------------   -----  \n",
      " 0   price         295187 non-null  int64  \n",
      " 1   vehicle_type  295187 non-null  int32  \n",
      " 2   gearbox       295187 non-null  int32  \n",
      " 3   power         295187 non-null  float64\n",
      " 4   model         295187 non-null  int32  \n",
      " 5   mileage       295187 non-null  int64  \n",
      " 6   fuel_type     295187 non-null  int32  \n",
      " 7   brand         295187 non-null  int32  \n",
      " 8   not_repaired  295187 non-null  int32  \n",
      " 9   postal_code   295187 non-null  int64  \n",
      " 10  car_age       295187 non-null  int64  \n",
      "dtypes: float64(1), int32(6), int64(4)\n",
      "memory usage: 20.3 MB\n"
     ]
    }
   ],
   "source": [
    "data.info()"
   ]
  },
  {
   "cell_type": "markdown",
   "id": "bdd1c469",
   "metadata": {},
   "source": [
    "### Splitting the data"
   ]
  },
  {
   "cell_type": "code",
   "execution_count": 181,
   "id": "f6995838",
   "metadata": {},
   "outputs": [],
   "source": [
    "X = data.drop('price', axis = 1)\n",
    "Y = data['price']"
   ]
  },
  {
   "cell_type": "code",
   "execution_count": 182,
   "id": "e150cbbc",
   "metadata": {},
   "outputs": [],
   "source": [
    "X_train, X_test, Y_train, Y_test = train_test_split(X, Y, test_size = 0.2, random_state = 54321)"
   ]
  },
  {
   "cell_type": "markdown",
   "id": "b40dbaca",
   "metadata": {},
   "source": [
    "### Score"
   ]
  },
  {
   "cell_type": "code",
   "execution_count": 183,
   "id": "9639e006",
   "metadata": {},
   "outputs": [],
   "source": [
    "def rmse(y_true: pd.Series, y_pred:pd.Series) -> float:  # type hint to stress that the function takes two arrays\n",
    "    \"\"\"Calculate the RSME metric\"\"\"\n",
    "    rmse_score = mean_squared_error(y_true, y_pred) ** 0.5 \n",
    "    return rmse_score"
   ]
  },
  {
   "cell_type": "markdown",
   "id": "abaada14",
   "metadata": {},
   "source": [
    "We will [`make_scorer()`](https://scikit-learn.org/stable/modules/generated/sklearn.metrics.make_scorer.html) function to wrap `rmse` scoring function for use in `cros_val_score`. In our case the lower is the metric value the better; thus, we should define the `greater_is_better` parameter of the `make_scorer()` function to be `False`. In this case, the scorer object will sign-flip the outcome, which should be taken into account."
   ]
  },
  {
   "cell_type": "code",
   "execution_count": 184,
   "id": "b86165a7",
   "metadata": {},
   "outputs": [],
   "source": [
    "rmse_score = make_scorer(rmse, greater_is_better=False)  # rmse as a user-defined scoring function"
   ]
  },
  {
   "cell_type": "markdown",
   "id": "3b6648c2",
   "metadata": {},
   "source": [
    "### Sanity check"
   ]
  },
  {
   "cell_type": "code",
   "execution_count": 185,
   "id": "25c7144c",
   "metadata": {},
   "outputs": [],
   "source": [
    "dummy_check = DummyRegressor()  # using DummyRegressor to built a baseline model, default stratgey = 'mean'"
   ]
  },
  {
   "cell_type": "code",
   "execution_count": 186,
   "id": "2496fad5",
   "metadata": {},
   "outputs": [],
   "source": [
    "scaler = StandardScaler()"
   ]
  },
  {
   "cell_type": "code",
   "execution_count": 187,
   "id": "50ff692e",
   "metadata": {},
   "outputs": [],
   "source": [
    "pipe_dummy = Pipeline([('scaler', scaler), ('dummy_model', dummy_check)])"
   ]
  },
  {
   "cell_type": "code",
   "execution_count": 188,
   "id": "1dbd6f9d",
   "metadata": {},
   "outputs": [
    {
     "data": {
      "text/plain": [
       "0.0861361026763916"
      ]
     },
     "execution_count": 188,
     "metadata": {},
     "output_type": "execute_result"
    }
   ],
   "source": [
    "start = time()\n",
    "pipe_dummy.fit(X_train, Y_train)\n",
    "stop = time()\n",
    "dummy_check_fit_time = stop - start\n",
    "dummy_check_fit_time"
   ]
  },
  {
   "cell_type": "code",
   "execution_count": 189,
   "id": "ad58ab76",
   "metadata": {},
   "outputs": [
    {
     "data": {
      "text/plain": [
       "0.00799703598022461"
      ]
     },
     "execution_count": 189,
     "metadata": {},
     "output_type": "execute_result"
    }
   ],
   "source": [
    "start = time()\n",
    "Y_dummy_predictions = pipe_dummy.predict(X_test)\n",
    "stop = time()\n",
    "lr_predicting_time = stop - start\n",
    "lr_predicting_time"
   ]
  },
  {
   "cell_type": "code",
   "execution_count": 190,
   "id": "74ef199a",
   "metadata": {},
   "outputs": [
    {
     "name": "stdout",
     "output_type": "stream",
     "text": [
      "The final RMSE score for the dummy model equals 4564.\n"
     ]
    }
   ],
   "source": [
    "print(f\"The final RMSE score for the dummy model equals {rmse(Y_test, Y_dummy_predictions):.0f}.\")"
   ]
  },
  {
   "cell_type": "markdown",
   "id": "82ba830e",
   "metadata": {},
   "source": [
    "[Back to Content](#content)"
   ]
  },
  {
   "cell_type": "markdown",
   "id": "27b2528a",
   "metadata": {},
   "source": [
    "### Random Forest - basic model"
   ]
  },
  {
   "cell_type": "markdown",
   "id": "d518657e",
   "metadata": {},
   "source": [
    "Let's put together a function to  run the models:"
   ]
  },
  {
   "cell_type": "code",
   "execution_count": 191,
   "id": "31c78896",
   "metadata": {},
   "outputs": [],
   "source": [
    "def model_run(estimator, feat_train, target_train, cv_k, scoring_func, fit_params = None):\n",
    "    \"\"\"The function takes a model, the training datasets, and returns the mean across cv_k cross-validation scores.\"\"\"\n",
    "    scaler = StandardScaler()\n",
    "    pipe = Pipeline([('scaler', scaler), ('estimator', estimator)])\n",
    "    start = time()\n",
    "    res = cross_val_score(pipe, feat_train, target_train, cv=cv_k, scoring=scoring_func, fit_params=fit_params).mean()\n",
    "    stop = time()\n",
    "    print(f'The mean across {cv_k} evaluation scores equals: {-res:.0f}.')\n",
    "    modeling_time = stop - start\n",
    "    print(f'Modeling time: {modeling_time}.')\n",
    "    \n",
    "    return res"
   ]
  },
  {
   "cell_type": "markdown",
   "id": "098024e3",
   "metadata": {},
   "source": [
    "Let's declare the models: we will check the least square models without and with regularization and a Random Forest model (for which the mape_score will be actually applied)."
   ]
  },
  {
   "cell_type": "code",
   "execution_count": 192,
   "id": "692219b2",
   "metadata": {},
   "outputs": [],
   "source": [
    "models = [linear_model.LinearRegression(),   # use basic models configurations\n",
    "          linear_model.Lasso(random_state = 12345),\n",
    "          linear_model.Ridge(random_state = 12345),\n",
    "          ensemble.RandomForestRegressor(n_estimators = 20, random_state = 12345)]"
   ]
  },
  {
   "cell_type": "markdown",
   "id": "3a3442df",
   "metadata": {},
   "source": [
    "Let's run the models:"
   ]
  },
  {
   "cell_type": "code",
   "execution_count": 193,
   "id": "82038164",
   "metadata": {},
   "outputs": [
    {
     "name": "stdout",
     "output_type": "stream",
     "text": [
      "Model 1 - LinearRegression():\n",
      "The mean across 10 evaluation scores equals: 3466.\n",
      "Modeling time: 1.6956562995910645.\n",
      "Model 2 - Lasso(random_state=12345):\n",
      "The mean across 10 evaluation scores equals: 3466.\n",
      "Modeling time: 1.69246506690979.\n",
      "Model 3 - Ridge(random_state=12345):\n",
      "The mean across 10 evaluation scores equals: 3466.\n",
      "Modeling time: 1.44636869430542.\n",
      "Model 4 - RandomForestRegressor(n_estimators=20, random_state=12345):\n",
      "The mean across 10 evaluation scores equals: 1770.\n",
      "Modeling time: 118.38595819473267.\n"
     ]
    }
   ],
   "source": [
    "results = {}\n",
    "\n",
    "for key, est in zip(range(0, len(models)), models):\n",
    "    print(f\"Model {key+1} - {models[key]}:\")\n",
    "    pipe = Pipeline([('scaler', scaler), ('estimator', est)])\n",
    "    results[key] = model_run(pipe, X_train, Y_train, 10, rmse_score)  # use 10 cross-validation subsets"
   ]
  },
  {
   "cell_type": "markdown",
   "id": "438aedd9",
   "metadata": {},
   "source": [
    "The linear regression models scored better than the dummy regressor, while the Random Forest Model resulted in the best score, although it took X100 time. Let's run it on the test dataset."
   ]
  },
  {
   "cell_type": "code",
   "execution_count": 194,
   "id": "10934acf",
   "metadata": {},
   "outputs": [],
   "source": [
    "start = time()\n",
    "pipe.fit(X_train, Y_train)\n",
    "stop = time()"
   ]
  },
  {
   "cell_type": "code",
   "execution_count": 195,
   "id": "507e4851",
   "metadata": {},
   "outputs": [
    {
     "name": "stdout",
     "output_type": "stream",
     "text": [
      "Best RandomForest model fit time: 13.19261360168457.\n"
     ]
    }
   ],
   "source": [
    "basic_rf_fit_time = stop - start\n",
    "print(f'Best RandomForest model fit time: {basic_rf_fit_time}.')"
   ]
  },
  {
   "cell_type": "code",
   "execution_count": 196,
   "id": "64649108",
   "metadata": {},
   "outputs": [],
   "source": [
    "pipe_basic_rf_predictions = pipe.predict(X_test)"
   ]
  },
  {
   "cell_type": "code",
   "execution_count": 197,
   "id": "6c260a11",
   "metadata": {},
   "outputs": [
    {
     "name": "stdout",
     "output_type": "stream",
     "text": [
      "The test datset RMSE score for basic RandomForest model: 1742.\n"
     ]
    }
   ],
   "source": [
    "print(f\"The test datset RMSE score for basic RandomForest model: {rmse(Y_test, pipe_basic_rf_predictions):.0f}.\")"
   ]
  },
  {
   "cell_type": "markdown",
   "id": "d3d2b6d4",
   "metadata": {},
   "source": [
    "Let's try hyperparameter tuning."
   ]
  },
  {
   "cell_type": "markdown",
   "id": "8f7ec209",
   "metadata": {},
   "source": [
    "[Back to Content](#content)"
   ]
  },
  {
   "cell_type": "markdown",
   "id": "bc85acba",
   "metadata": {},
   "source": [
    "### Random Forest - hyperparameter tuning"
   ]
  },
  {
   "cell_type": "markdown",
   "id": "774ce866",
   "metadata": {},
   "source": [
    "First, let's check what are the parameters currently in use. We will call `.get_params()` on est, since the Random Forest was the last model in the for loop above and expect to see a default set:"
   ]
  },
  {
   "cell_type": "code",
   "execution_count": 198,
   "id": "97cdc761",
   "metadata": {},
   "outputs": [
    {
     "name": "stdout",
     "output_type": "stream",
     "text": [
      "Parameters currently in use:\n",
      "\n",
      "{'bootstrap': True, 'ccp_alpha': 0.0, 'criterion': 'mse', 'max_depth': None, 'max_features': 'auto', 'max_leaf_nodes': None, 'max_samples': None, 'min_impurity_decrease': 0.0, 'min_impurity_split': None, 'min_samples_leaf': 1, 'min_samples_split': 2, 'min_weight_fraction_leaf': 0.0, 'n_estimators': 20, 'n_jobs': None, 'oob_score': False, 'random_state': 12345, 'verbose': 0, 'warm_start': False}\n"
     ]
    }
   ],
   "source": [
    "print('Parameters currently in use:\\n')\n",
    "print(est.get_params())"
   ]
  },
  {
   "cell_type": "markdown",
   "id": "1d470479",
   "metadata": {},
   "source": [
    "To optimize the hyperparameters of the Random Forest model, we will apply the `RandomizedSearchCV` method and perform cross-validation using its `cv` parameter. `RandomizedSearchCV` is relatively cost- (computationally less intensive) and time-effective (faster – less computational time), e.g. as compared to the `GridSearchCV` method: [link](https://jmlr.csail.mit.edu/papers/volume13/bergstra12a/bergstra12a.pdf). "
   ]
  },
  {
   "cell_type": "code",
   "execution_count": 199,
   "id": "6d56cd22",
   "metadata": {},
   "outputs": [],
   "source": [
    "pipe = Pipeline([('scaler', scaler), ('rf', ensemble.RandomForestRegressor(random_state=12345))])"
   ]
  },
  {
   "cell_type": "code",
   "execution_count": 200,
   "id": "b9252da0",
   "metadata": {},
   "outputs": [],
   "source": [
    "rs1 = RandomizedSearchCV(\n",
    "    pipe,\n",
    "    param_distributions = {\"rf__max_depth\": range(2,10),\n",
    "              \"rf__min_samples_split\": sp_randint(2, 10),\n",
    "              \"rf__min_samples_leaf\": sp_randint(2, 30),\n",
    "              \"rf__max_leaf_nodes\": sp_randint(2,50),\n",
    "              \"rf__n_estimators\": sp_randint(20,80),\n",
    "              \"rf__max_features\": ['sqrt', 'log2', None]\n",
    "             },\n",
    "    scoring=rmse_score,\n",
    "    n_iter=50,\n",
    "    cv = 10\n",
    ")"
   ]
  },
  {
   "cell_type": "code",
   "execution_count": 201,
   "id": "5a027bfa",
   "metadata": {},
   "outputs": [],
   "source": [
    "start = time()\n",
    "rs1.fit(X_train, Y_train)\n",
    "stop = time()"
   ]
  },
  {
   "cell_type": "code",
   "execution_count": 202,
   "id": "94da1038",
   "metadata": {},
   "outputs": [
    {
     "name": "stdout",
     "output_type": "stream",
     "text": [
      "Search time: 2086.0575079917908.\n"
     ]
    }
   ],
   "source": [
    "search_time = stop - start\n",
    "print(f'Search time: {search_time}.')"
   ]
  },
  {
   "cell_type": "code",
   "execution_count": 203,
   "id": "89dd3090",
   "metadata": {},
   "outputs": [
    {
     "data": {
      "text/plain": [
       "{'rf__max_depth': 8,\n",
       " 'rf__max_features': 'sqrt',\n",
       " 'rf__max_leaf_nodes': 48,\n",
       " 'rf__min_samples_leaf': 29,\n",
       " 'rf__min_samples_split': 9,\n",
       " 'rf__n_estimators': 61}"
      ]
     },
     "execution_count": 203,
     "metadata": {},
     "output_type": "execute_result"
    }
   ],
   "source": [
    "rs1.best_params_"
   ]
  },
  {
   "cell_type": "code",
   "execution_count": 204,
   "id": "1fc1f0dd",
   "metadata": {},
   "outputs": [
    {
     "data": {
      "text/plain": [
       "2276.6196742263883"
      ]
     },
     "execution_count": 204,
     "metadata": {},
     "output_type": "execute_result"
    }
   ],
   "source": [
    "- rs1.best_score_  # remember that the scorer object sign-flips the outcome, since the lower score the better"
   ]
  },
  {
   "cell_type": "markdown",
   "id": "fe47f8c4",
   "metadata": {},
   "source": [
    "Surprisingly the best score for the Randomized Search, after the long time it took to perform the calculations, is much higher than for the basic RandomForest model. Let's try something simplier."
   ]
  },
  {
   "cell_type": "code",
   "execution_count": 205,
   "id": "918ef7c5",
   "metadata": {},
   "outputs": [],
   "source": [
    "rs2 = RandomizedSearchCV(\n",
    "    pipe,\n",
    "    param_distributions = {\"rf__max_depth\": range(5,10),\n",
    "              \"rf__min_samples_split\": sp_randint(2, 5),\n",
    "              \"rf__min_samples_leaf\": sp_randint(5, 15),\n",
    "              \"rf__max_leaf_nodes\": sp_randint(2,50),\n",
    "              \"rf__n_estimators\": sp_randint(15,45)\n",
    "             },\n",
    "    scoring=rmse_score,\n",
    "    n_iter=50,\n",
    "    cv = 10\n",
    ")"
   ]
  },
  {
   "cell_type": "code",
   "execution_count": 206,
   "id": "b582a359",
   "metadata": {},
   "outputs": [],
   "source": [
    "start = time()\n",
    "rs2.fit(X_train, Y_train)\n",
    "stop = time()"
   ]
  },
  {
   "cell_type": "code",
   "execution_count": 207,
   "id": "32e49ee8",
   "metadata": {},
   "outputs": [
    {
     "name": "stdout",
     "output_type": "stream",
     "text": [
      "Search time: 1962.3513352870941.\n"
     ]
    }
   ],
   "source": [
    "search_time = stop - start\n",
    "print(f'Search time: {search_time}.')"
   ]
  },
  {
   "cell_type": "code",
   "execution_count": 208,
   "id": "d0c3d8ae",
   "metadata": {},
   "outputs": [
    {
     "data": {
      "text/plain": [
       "{'rf__max_depth': 7,\n",
       " 'rf__max_leaf_nodes': 48,\n",
       " 'rf__min_samples_leaf': 8,\n",
       " 'rf__min_samples_split': 4,\n",
       " 'rf__n_estimators': 37}"
      ]
     },
     "execution_count": 208,
     "metadata": {},
     "output_type": "execute_result"
    }
   ],
   "source": [
    "rs2.best_params_"
   ]
  },
  {
   "cell_type": "code",
   "execution_count": 209,
   "id": "4039b926",
   "metadata": {},
   "outputs": [
    {
     "data": {
      "text/plain": [
       "2327.5353186483508"
      ]
     },
     "execution_count": 209,
     "metadata": {},
     "output_type": "execute_result"
    }
   ],
   "source": [
    "- rs2.best_score_ "
   ]
  },
  {
   "cell_type": "markdown",
   "id": "a6aea00c",
   "metadata": {},
   "source": [
    "The result is even less promising."
   ]
  },
  {
   "cell_type": "markdown",
   "id": "5169b8f9",
   "metadata": {},
   "source": [
    "Let's apply the best model parameters:"
   ]
  },
  {
   "cell_type": "code",
   "execution_count": 210,
   "id": "db555994",
   "metadata": {},
   "outputs": [
    {
     "data": {
      "text/plain": [
       "{'max_depth': 7,\n",
       " 'max_leaf_nodes': 48,\n",
       " 'min_samples_leaf': 8,\n",
       " 'min_samples_split': 4,\n",
       " 'n_estimators': 37}"
      ]
     },
     "execution_count": 210,
     "metadata": {},
     "output_type": "execute_result"
    }
   ],
   "source": [
    "best_rf_params = {}\n",
    "for key in rs2.best_params_:\n",
    "    best_rf_params[key[4:]] = rs2.best_params_[key]\n",
    "best_rf_params"
   ]
  },
  {
   "cell_type": "code",
   "execution_count": 211,
   "id": "020a646b",
   "metadata": {},
   "outputs": [],
   "source": [
    "final_model = ensemble.RandomForestRegressor(random_state = 12345, **best_rf_params)"
   ]
  },
  {
   "cell_type": "code",
   "execution_count": 212,
   "id": "3bc3408f",
   "metadata": {},
   "outputs": [
    {
     "name": "stdout",
     "output_type": "stream",
     "text": [
      "Tuned RandomFOrest model - RandomForestRegressor(max_depth=7, max_leaf_nodes=48, min_samples_leaf=8,\n",
      "                      min_samples_split=4, n_estimators=37, random_state=12345):\n",
      "The mean across 10 evaluation scores equals: 2328.\n",
      "Modeling time: 73.26954317092896.\n"
     ]
    }
   ],
   "source": [
    "print(f\"Tuned RandomFOrest model - {final_model}:\")\n",
    "pipe_best_rf = Pipeline([('scaler', scaler), ('model', final_model)])\n",
    "results[4] = model_run(pipe_best_rf, X_train, Y_train, 10, rmse_score)  # use 10 cross-validation subsets"
   ]
  },
  {
   "cell_type": "markdown",
   "id": "4b58b54e",
   "metadata": {},
   "source": [
    "Now we should test the best model using the test sample:"
   ]
  },
  {
   "cell_type": "code",
   "execution_count": 213,
   "id": "40687b70",
   "metadata": {},
   "outputs": [],
   "source": [
    "start = time()\n",
    "pipe_best_rf.fit(X_train, Y_train)\n",
    "stop = time()"
   ]
  },
  {
   "cell_type": "code",
   "execution_count": 214,
   "id": "657eb0db",
   "metadata": {},
   "outputs": [
    {
     "name": "stdout",
     "output_type": "stream",
     "text": [
      "Best RandomForest model fit time: 8.149631261825562.\n"
     ]
    }
   ],
   "source": [
    "best_rf_fit_time = stop - start\n",
    "print(f'Best RandomForest model fit time: {best_rf_fit_time}.')"
   ]
  },
  {
   "cell_type": "code",
   "execution_count": 215,
   "id": "97a674ce",
   "metadata": {},
   "outputs": [],
   "source": [
    "pipe_best_rf_predictions = final_model.predict(X_test)"
   ]
  },
  {
   "cell_type": "code",
   "execution_count": 216,
   "id": "182b7bb5",
   "metadata": {},
   "outputs": [
    {
     "name": "stdout",
     "output_type": "stream",
     "text": [
      "The test datset RMSE score for the best RandomForest model: 4793.\n"
     ]
    }
   ],
   "source": [
    "print(f\"The test datset RMSE score for the best RandomForest model: {rmse(Y_test, pipe_best_rf_predictions):.0f}.\")"
   ]
  },
  {
   "cell_type": "markdown",
   "id": "fd7c5b8e",
   "metadata": {},
   "source": [
    "Worse than even for the `DummyRegressor`, this model is overfitting."
   ]
  },
  {
   "cell_type": "markdown",
   "id": "9a6079aa",
   "metadata": {},
   "source": [
    "OK, the basic `RandomForest` model is a better result so far. Let's move on to gradient boosting algorithms."
   ]
  },
  {
   "cell_type": "markdown",
   "id": "9bca2c28",
   "metadata": {},
   "source": [
    "[Back to Content](#content)"
   ]
  },
  {
   "cell_type": "markdown",
   "id": "6df7a840",
   "metadata": {},
   "source": [
    "### Gradient Boostig"
   ]
  },
  {
   "cell_type": "markdown",
   "id": "e33aedbe",
   "metadata": {},
   "source": [
    "In what follows we apply three libraries:\n",
    "\n",
    "1. XGBoost (extreme gradient boosting) is a popular gradient boosting library on Kaggle. Open source. Released in 2014. ([docs](https://xgboost.readthedocs.io/en/latest/tutorials/index.html))\n",
    "\n",
    "2. LightGBM (light gradient boosting machine). Developed by Microsoft. Fast and accurate gradient boosting training. Directly works with categorical features. Released in 2017. Comparison with XGBoost: https://lightgbm.readthedocs.io/en/latest/Experiments.html. ([docs](https://lightgbm.readthedocs.io/en/v3.3.2/))\n",
    "\n",
    "3. CatBoost (categorical boosting). Developed by Yandex. Superior to other algorithms in terms of evaluation metrics. Applies various encoding techniques for categorical features (LabelEncoding, One-Hot Encoding). Released in 2017. Comparison with XGBoost and LightGBM: https://catboost.ai/#benchmark. ([docs](https://catboost.ai/en/docs/concepts/python-reference_catboost))"
   ]
  },
  {
   "cell_type": "code",
   "execution_count": 217,
   "id": "b32183d7",
   "metadata": {},
   "outputs": [],
   "source": [
    "# pip install lightgbm"
   ]
  },
  {
   "cell_type": "code",
   "execution_count": 218,
   "id": "c678fcd8",
   "metadata": {},
   "outputs": [],
   "source": [
    "# pip install xgboost"
   ]
  },
  {
   "cell_type": "code",
   "execution_count": 219,
   "id": "889cf38f",
   "metadata": {},
   "outputs": [],
   "source": [
    "from xgboost import XGBRegressor\n",
    "from lightgbm import LGBMRegressor\n",
    "from catboost import CatBoostRegressor"
   ]
  },
  {
   "cell_type": "markdown",
   "id": "0d44c894",
   "metadata": {},
   "source": [
    "#### XGBoost - basic model"
   ]
  },
  {
   "cell_type": "code",
   "execution_count": 220,
   "id": "82420044",
   "metadata": {},
   "outputs": [
    {
     "name": "stdout",
     "output_type": "stream",
     "text": [
      "Basic XGBoost model - XGBRegressor(base_score=None, booster=None, callbacks=None,\n",
      "             colsample_bylevel=None, colsample_bynode=None,\n",
      "             colsample_bytree=None, early_stopping_rounds=None,\n",
      "             enable_categorical=False, eval_metric=None, gamma=None,\n",
      "             gpu_id=None, grow_policy=None, importance_type=None,\n",
      "             interaction_constraints=None, learning_rate=None, max_bin=None,\n",
      "             max_cat_to_onehot=None, max_delta_step=None, max_depth=None,\n",
      "             max_leaves=None, min_child_weight=None, missing=nan,\n",
      "             monotone_constraints=None, n_estimators=100, n_jobs=None,\n",
      "             num_parallel_tree=None, predictor=None, random_state=54321,\n",
      "             reg_alpha=None, reg_lambda=None, ...):\n",
      "The mean across 10 evaluation scores equals: 1739.\n",
      "Modeling time: 42.91856145858765.\n"
     ]
    }
   ],
   "source": [
    "xgb_model_basic = XGBRegressor(random_state = 54321)  # usign the defaul booster gbtree\n",
    "pipe_xgb_basic = Pipeline([('scaler', scaler), ('XGBRegressor', xgb_model_basic)])\n",
    "print(f\"Basic XGBoost model - {xgb_model_basic}:\")\n",
    "results[5] = model_run(pipe_xgb_basic, X_train, Y_train, 10, rmse_score)  # use 10 cross-validation subsets"
   ]
  },
  {
   "cell_type": "markdown",
   "id": "afa68499",
   "metadata": {},
   "source": [
    "Note: XGBoost uses `random_state` with `colsample_bytree`, `colsample_bylevel`, and `subsample` only ([link](https://github.com/dmlc/xgboost/issues/2636#issuecomment-324975410))."
   ]
  },
  {
   "cell_type": "code",
   "execution_count": 221,
   "id": "a9f06fad",
   "metadata": {},
   "outputs": [],
   "source": [
    "start = time()\n",
    "pipe_xgb_basic.fit(X_train, Y_train)\n",
    "stop = time()"
   ]
  },
  {
   "cell_type": "code",
   "execution_count": 222,
   "id": "1f5ed451",
   "metadata": {},
   "outputs": [
    {
     "name": "stdout",
     "output_type": "stream",
     "text": [
      "Best XGBoost model fit time: 4.964984178543091.\n"
     ]
    }
   ],
   "source": [
    "basic_xgb_fit_time = stop - start\n",
    "print(f'Best XGBoost model fit time: {basic_xgb_fit_time}.')"
   ]
  },
  {
   "cell_type": "code",
   "execution_count": 223,
   "id": "5af9dbad",
   "metadata": {},
   "outputs": [],
   "source": [
    "pipe_basic_xgb_predictions = pipe_xgb_basic.predict(X_test)"
   ]
  },
  {
   "cell_type": "code",
   "execution_count": 224,
   "id": "826e1787",
   "metadata": {},
   "outputs": [
    {
     "name": "stdout",
     "output_type": "stream",
     "text": [
      "The test datset RMSE score for basic XGBoost model: 1722.\n"
     ]
    }
   ],
   "source": [
    "print(f\"The test datset RMSE score for basic XGBoost model: {rmse(Y_test, pipe_basic_xgb_predictions):.0f}.\")"
   ]
  },
  {
   "cell_type": "code",
   "execution_count": 225,
   "id": "e66d18c9",
   "metadata": {},
   "outputs": [
    {
     "name": "stdout",
     "output_type": "stream",
     "text": [
      "Fit time for basic XGBoost model VS basic RandomForest: 38%.\n"
     ]
    }
   ],
   "source": [
    "print(f\"Fit time for basic XGBoost model VS basic RandomForest: {(basic_xgb_fit_time/basic_rf_fit_time)*100:.0f}%.\")"
   ]
  },
  {
   "cell_type": "markdown",
   "id": "f6ce197f",
   "metadata": {},
   "source": [
    "The result is similar to the basic `RandomForest` model, while XGBoost algorithm took ~40% of the time needed for the Random Forest algorithm."
   ]
  },
  {
   "cell_type": "markdown",
   "id": "6f422c51",
   "metadata": {},
   "source": [
    "#### XGBoost - hyperparameter tuning"
   ]
  },
  {
   "cell_type": "markdown",
   "id": "d0d3a39e",
   "metadata": {},
   "source": [
    "In this part, we will focus on the following paramters (see [list](https://xgboost.readthedocs.io/en/latest/parameter.html#parameters-for-tree-booster) of available parameters (of the default booster) and [this example](https://www.kaggle.com/code/felipefiorini/xgboost-hyper-parameter-tuning) of XGBoost tuning):"
   ]
  },
  {
   "cell_type": "code",
   "execution_count": 226,
   "id": "df999def",
   "metadata": {},
   "outputs": [],
   "source": [
    "param_tuning_xgb = {\n",
    "    'XGBRegressor__learning_rate': [0.01, 0.1],  # default 0.3\n",
    "    'XGBRegressor__max_depth': [3, 5, 7],\n",
    "    #'XGBRegressor__min_child_weight': [1, 3, 5],  # in linear regression task - minimum number of instances needed to be in each node\n",
    "    'XGBRegressor__subsample': [0.5],  # XGBoost would randomly sample this share of the training data prior to growing trees\n",
    "    #'XGBRegressor__colsample_bytree': [0.5, 0.7],  #  the subsample ratio of columns when constructing each tree\n",
    "    'XGBRegressor__n_estimators' : [40, 200],  # default 100\n",
    "    'XGBRegressor__objective': ['reg:squarederror']  # default\n",
    "}"
   ]
  },
  {
   "cell_type": "markdown",
   "id": "72c34d37",
   "metadata": {},
   "source": [
    "The first three parameters are important in controlling overfitting, the next three control speed."
   ]
  },
  {
   "cell_type": "markdown",
   "id": "02c91130",
   "metadata": {},
   "source": [
    "We will apply `GridSearch` to run over the given combinations of the parameters:"
   ]
  },
  {
   "cell_type": "code",
   "execution_count": 227,
   "id": "fc018392",
   "metadata": {},
   "outputs": [],
   "source": [
    "gs_xgb = GridSearchCV(\n",
    "    pipe_xgb_basic,\n",
    "    param_grid = param_tuning_xgb,\n",
    "    scoring=rmse_score,\n",
    "    cv = 5\n",
    ")"
   ]
  },
  {
   "cell_type": "code",
   "execution_count": 228,
   "id": "5f7d8825",
   "metadata": {},
   "outputs": [],
   "source": [
    "start = time()\n",
    "gs_xgb.fit(X_train, Y_train)\n",
    "stop = time()"
   ]
  },
  {
   "cell_type": "code",
   "execution_count": 229,
   "id": "7cff0440",
   "metadata": {},
   "outputs": [
    {
     "name": "stdout",
     "output_type": "stream",
     "text": [
      "Search time: 12935.21192240715.\n"
     ]
    }
   ],
   "source": [
    "search_time = stop - start\n",
    "print(f'Search time: {search_time}.')"
   ]
  },
  {
   "cell_type": "code",
   "execution_count": 230,
   "id": "d9f2d848",
   "metadata": {},
   "outputs": [
    {
     "data": {
      "text/plain": [
       "{'XGBRegressor__learning_rate': 0.1,\n",
       " 'XGBRegressor__max_depth': 7,\n",
       " 'XGBRegressor__n_estimators': 200,\n",
       " 'XGBRegressor__objective': 'reg:squarederror',\n",
       " 'XGBRegressor__subsample': 0.5}"
      ]
     },
     "execution_count": 230,
     "metadata": {},
     "output_type": "execute_result"
    }
   ],
   "source": [
    "gs_xgb.best_params_"
   ]
  },
  {
   "cell_type": "code",
   "execution_count": 231,
   "id": "8d5f8e76",
   "metadata": {},
   "outputs": [
    {
     "data": {
      "text/plain": [
       "1727.4444754344172"
      ]
     },
     "execution_count": 231,
     "metadata": {},
     "output_type": "execute_result"
    }
   ],
   "source": [
    "- gs_xgb.best_score_ "
   ]
  },
  {
   "cell_type": "markdown",
   "id": "d96a1a4c",
   "metadata": {},
   "source": [
    "We had run a simplier set of parameters for the search to get through it, but similarly to the case of Random Forest, the train score is worse than for the basic model, altough slightly only. Let's take a look at the final model:"
   ]
  },
  {
   "cell_type": "code",
   "execution_count": 232,
   "id": "d045e7ba",
   "metadata": {},
   "outputs": [
    {
     "data": {
      "text/plain": [
       "{'learning_rate': 0.1,\n",
       " 'max_depth': 7,\n",
       " 'n_estimators': 200,\n",
       " 'objective': 'reg:squarederror',\n",
       " 'subsample': 0.5}"
      ]
     },
     "execution_count": 232,
     "metadata": {},
     "output_type": "execute_result"
    }
   ],
   "source": [
    "best_xgboost_params = {}\n",
    "for key in gs_xgb.best_params_:\n",
    "    best_xgboost_params[key[len('XGBRegressor__'):]] = gs_xgb.best_params_[key]\n",
    "best_xgboost_params"
   ]
  },
  {
   "cell_type": "code",
   "execution_count": 233,
   "id": "c44861b8",
   "metadata": {},
   "outputs": [],
   "source": [
    "xgb_model_final = XGBRegressor(**best_xgboost_params)"
   ]
  },
  {
   "cell_type": "code",
   "execution_count": 234,
   "id": "d56bb93e",
   "metadata": {},
   "outputs": [
    {
     "name": "stdout",
     "output_type": "stream",
     "text": [
      "Tuned XGBoost model - XGBRegressor(base_score=None, booster=None, callbacks=None,\n",
      "             colsample_bylevel=None, colsample_bynode=None,\n",
      "             colsample_bytree=None, early_stopping_rounds=None,\n",
      "             enable_categorical=False, eval_metric=None, gamma=None,\n",
      "             gpu_id=None, grow_policy=None, importance_type=None,\n",
      "             interaction_constraints=None, learning_rate=0.1, max_bin=None,\n",
      "             max_cat_to_onehot=None, max_delta_step=None, max_depth=7,\n",
      "             max_leaves=None, min_child_weight=None, missing=nan,\n",
      "             monotone_constraints=None, n_estimators=200, n_jobs=None,\n",
      "             num_parallel_tree=None, predictor=None, random_state=None,\n",
      "             reg_alpha=None, reg_lambda=None, ...):\n",
      "The mean across 10 evaluation scores equals: 1726.\n",
      "Modeling time: 161.35839438438416.\n"
     ]
    }
   ],
   "source": [
    "print(f\"Tuned XGBoost model - {xgb_model_final}:\")\n",
    "pipe_best_xgboost = Pipeline([('scaler', scaler), ('model', xgb_model_final)])\n",
    "results[6] = model_run(pipe_best_xgboost, X_train, Y_train, 10, rmse_score)  # use 10 cross-validation subsets"
   ]
  },
  {
   "cell_type": "markdown",
   "id": "267d4f12",
   "metadata": {},
   "source": [
    "Now let's count the run time and test the best model using the test sample:"
   ]
  },
  {
   "cell_type": "code",
   "execution_count": 235,
   "id": "033fc26b",
   "metadata": {},
   "outputs": [],
   "source": [
    "start = time()\n",
    "pipe_best_xgboost.fit(X_train, Y_train)\n",
    "stop = time()"
   ]
  },
  {
   "cell_type": "code",
   "execution_count": 239,
   "id": "68ee23ca",
   "metadata": {},
   "outputs": [
    {
     "name": "stdout",
     "output_type": "stream",
     "text": [
      "The test datset final XGBoost model fit time: 16.003724336624146.\n"
     ]
    }
   ],
   "source": [
    "best_xgboost_fit_time = stop - start\n",
    "print(f'The test datset final XGBoost model fit time: {best_xgboost_fit_time}.')"
   ]
  },
  {
   "cell_type": "code",
   "execution_count": 237,
   "id": "126667d0",
   "metadata": {},
   "outputs": [],
   "source": [
    "pipe_best_xgboost_predictions = final_model.predict(X_test)"
   ]
  },
  {
   "cell_type": "code",
   "execution_count": 240,
   "id": "7bde7203",
   "metadata": {},
   "outputs": [
    {
     "name": "stdout",
     "output_type": "stream",
     "text": [
      "The test datset RMSE score for the best XGBoost model: 4793.\n"
     ]
    }
   ],
   "source": [
    "print(f\"The test datset RMSE score for the best XGBoost model: {rmse(Y_test, pipe_best_xgboost_predictions):.0f}.\")"
   ]
  },
  {
   "cell_type": "markdown",
   "id": "c8737410",
   "metadata": {},
   "source": [
    "The same as in the `RandomForest` case, when the \"final\" XGBoost model is applied to the test dataset, the resulting RMSE score is the highest, which means that the model is overfitting."
   ]
  },
  {
   "cell_type": "markdown",
   "id": "38314d53",
   "metadata": {},
   "source": [
    "[Back to Content](#content)"
   ]
  },
  {
   "cell_type": "markdown",
   "id": "2df9089d",
   "metadata": {},
   "source": [
    "#### LightGBM - basic model"
   ]
  },
  {
   "cell_type": "markdown",
   "id": "03ad52c1",
   "metadata": {},
   "source": [
    "An additional not, one of the advantages of LightGBM is that it can handle categorical variables better. For that to work, one need to have the categorical variables encoded as integers and either state the their columns are of the `category` type, or explicitly state which variables should be treated as categorical.\n",
    "\n",
    "[Source](https://github.com/microsoft/LightGBM/issues/4932)"
   ]
  },
  {
   "cell_type": "markdown",
   "id": "88d5d7f9",
   "metadata": {},
   "source": [
    "We will extract the list of categorical variables from the initial `data` dataframe:"
   ]
  },
  {
   "cell_type": "code",
   "execution_count": 241,
   "id": "4cbfe62a",
   "metadata": {},
   "outputs": [],
   "source": [
    "cat_columns = data_not_encoded.select_dtypes('category').columns.to_list()"
   ]
  },
  {
   "cell_type": "markdown",
   "id": "b8c881b1",
   "metadata": {},
   "source": [
    "We need to use the `categorical_features` parameter, to which these columns can be passed by their indices:"
   ]
  },
  {
   "cell_type": "code",
   "execution_count": 242,
   "id": "92267ed8",
   "metadata": {},
   "outputs": [],
   "source": [
    "# get the column indices\n",
    "cat_column_indices = []\n",
    "for col in cat_columns:\n",
    "    cat_column_indices.append(X_train.columns.get_loc(col))"
   ]
  },
  {
   "cell_type": "markdown",
   "id": "0e9a8d30",
   "metadata": {},
   "source": [
    "`categorical_features` parameter is a Dataset parameter (for more details, see [link](https://lightgbm.readthedocs.io/en/latest/Parameters.html?highlight=categorical_features#dataset-parameters)); in the scikit-learn API for LightGBM it can be passed by using the `set_params()` function or directly into the model (not in the `.fit() method`):"
   ]
  },
  {
   "cell_type": "code",
   "execution_count": 243,
   "id": "f8e6ed34",
   "metadata": {},
   "outputs": [
    {
     "name": "stdout",
     "output_type": "stream",
     "text": [
      "Basic LightGBM model - LGBMRegressor(categorical_features=[0, 1, 3, 5, 6, 7, 8], random_state=54321):\n",
      "The mean across 10 evaluation scores equals: 1927.\n",
      "Modeling time: 6.137561798095703.\n"
     ]
    }
   ],
   "source": [
    "#lgbm_model_basic = LGBMRegressor(random_state=54321)  # usign the defaul booster gbtree\n",
    "lgbm_model_basic = LGBMRegressor(random_state=54321, categorical_features=cat_column_indices)\n",
    "print(f\"Basic LightGBM model - {lgbm_model_basic}:\")\n",
    "pipe_lgbm_basic = Pipeline([('scaler', scaler), ('LGBMRegressor', lgbm_model_basic)])\n",
    "\n",
    "#pipe_lgbm_basic.set_params(LGBMRegressor__categorical_features=cat_column_indices)\n",
    "\n",
    "results[7] = model_run(pipe_lgbm_basic, X_train, Y_train, 10, rmse_score)  # use 10 cv subsets"
   ]
  },
  {
   "cell_type": "code",
   "execution_count": 245,
   "id": "cd50a5d0",
   "metadata": {},
   "outputs": [
    {
     "name": "stdout",
     "output_type": "stream",
     "text": [
      "Basic LightGBM model fit time: 0.4833219051361084.\n",
      "The test datset RMSE score for basic LightGMB model: 1904.\n",
      "Fit time for basic LightGMB model VS basic RF: 3.7%.\n"
     ]
    }
   ],
   "source": [
    "start = time()\n",
    "pipe_lgbm_basic.fit(X_train, Y_train)\n",
    "stop = time()\n",
    "\n",
    "basic_lgbm_fit_time = stop - start\n",
    "print(f'Basic LightGBM model fit time: {basic_lgbm_fit_time}.')\n",
    "\n",
    "pipe_basic_lgbm_predictions = pipe_lgbm_basic.predict(X_test)\n",
    "print(f\"The test datset RMSE score for basic LightGMB model: {rmse(Y_test, pipe_basic_lgbm_predictions):.0f}.\")\n",
    "\n",
    "print(f\"Fit time for basic LightGMB model VS basic RF: {(basic_lgbm_fit_time/basic_rf_fit_time)*100:.1f}%.\")"
   ]
  },
  {
   "cell_type": "markdown",
   "id": "0f888ed2",
   "metadata": {},
   "source": [
    "The result is a higher than for the basic `RandomForest` model, while LightGBM algorithm takes less than 4% of the time needed for the Random Forest algorithm. Let's compare what we get without passing the `categorical_features` parameter."
   ]
  },
  {
   "cell_type": "code",
   "execution_count": 246,
   "id": "e8d0eb83",
   "metadata": {},
   "outputs": [
    {
     "name": "stdout",
     "output_type": "stream",
     "text": [
      "Basic LightGBM model without categorical_features parameter - LGBMRegressor(random_state=54321):\n",
      "The mean across 10 evaluation scores equals: 1798.\n",
      "Modeling time: 5.6966352462768555.\n"
     ]
    }
   ],
   "source": [
    "lgbm_model_basic_no_cat_param = LGBMRegressor(random_state=54321)\n",
    "print(f\"Basic LightGBM model without categorical_features parameter - {lgbm_model_basic_no_cat_param}:\")\n",
    "pipe_lgbm_basic_no_cat_param = Pipeline([('scaler', scaler), ('LGBMRegressor', lgbm_model_basic_no_cat_param)])\n",
    "\n",
    "results[8] = model_run(pipe_lgbm_basic_no_cat_param, X_train, Y_train, 10, rmse_score)  # use 10 cv subsets"
   ]
  },
  {
   "cell_type": "code",
   "execution_count": 247,
   "id": "f3ca3747",
   "metadata": {},
   "outputs": [],
   "source": [
    "start = time()\n",
    "pipe_lgbm_basic_no_cat_param.fit(X_train, Y_train)\n",
    "stop = time()"
   ]
  },
  {
   "cell_type": "code",
   "execution_count": 248,
   "id": "8ccff95f",
   "metadata": {},
   "outputs": [
    {
     "name": "stdout",
     "output_type": "stream",
     "text": [
      "Basic LightGBM model without categorical_features parameter fit time: 0.6462738513946533.\n"
     ]
    }
   ],
   "source": [
    "basic_lgbm_fit_time_no_cat_param = stop - start\n",
    "print(f'Basic LightGBM model without categorical_features parameter fit time: {basic_lgbm_fit_time_no_cat_param}.')"
   ]
  },
  {
   "cell_type": "code",
   "execution_count": 249,
   "id": "513ffc56",
   "metadata": {},
   "outputs": [
    {
     "name": "stdout",
     "output_type": "stream",
     "text": [
      "The test datset RMSE score for basic LightGMB model: 1779.\n"
     ]
    }
   ],
   "source": [
    "pipe_basic_lgbm_no_cat_param_predictions = pipe_lgbm_basic_no_cat_param.predict(X_test)\n",
    "print(f\"The test datset RMSE score for basic LightGMB model:\\\n",
    " {rmse(Y_test, pipe_basic_lgbm_no_cat_param_predictions):.0f}.\")"
   ]
  },
  {
   "cell_type": "code",
   "execution_count": 251,
   "id": "06d3029e",
   "metadata": {},
   "outputs": [
    {
     "name": "stdout",
     "output_type": "stream",
     "text": [
      "Fit time for basic LightGMB without categorical_features parameter model VS basic RF: 4.9%.\n"
     ]
    }
   ],
   "source": [
    "print(f\"Fit time for basic LightGMB without categorical_features parameter model VS basic RF:\\\n",
    " {(basic_lgbm_fit_time_no_cat_param/basic_rf_fit_time)*100:.1f}%.\")"
   ]
  },
  {
   "cell_type": "markdown",
   "id": "ba8406d7",
   "metadata": {},
   "source": [
    "This result is musch closer to the basic XGBoost model, while it takes 10% of its run time only."
   ]
  },
  {
   "cell_type": "markdown",
   "id": "72a359ee",
   "metadata": {},
   "source": [
    "#### LightGBM - hyperparameter tuning"
   ]
  },
  {
   "cell_type": "markdown",
   "id": "98f12bee",
   "metadata": {},
   "source": [
    "LightGBM uses the leaf-wise tree growth algorithm instead the depth-wise tree growth, which allows it to converge faster; however, the leaf-wise growth may be over-fitting if not used with the appropriate parameters. The reason is that a leaf-wise tree is typically much deeper than a depth-wise tree for a fixed number of leaves. Unconstrained depth can induce over-fitting. To get good results using a leaf-wise tree, these are some important parameters to use:\n",
    "- `num_leaves`,\n",
    "- `min_data_in_leaf`,\n",
    "- `max_depth`.\n",
    "\n",
    "Theoretically, we can set `num_leaves` = 2^`max_depth` to obtain the same number of leaves as depth-wise tree, while to avoid overfitting it should be set to be smaller. The optimal values of `min_data_in_leaf` depend on number of training samples and `num_leaves`; setting it to a large value can avoid growing too deep a tree, but may cause under-fitting. `max_depth` is used to limit the tree depth explicitly.\n",
    "\n",
    "[Source](https://lightgbm.readthedocs.io/en/latest/Parameters-Tuning.html)"
   ]
  },
  {
   "cell_type": "markdown",
   "id": "dce86a7b",
   "metadata": {},
   "source": [
    "Let's check out what parameters our basic model have."
   ]
  },
  {
   "cell_type": "code",
   "execution_count": 252,
   "id": "1e916f95",
   "metadata": {},
   "outputs": [
    {
     "data": {
      "text/plain": [
       "{'memory': None,\n",
       " 'steps': [('scaler', StandardScaler()),\n",
       "  ('LGBMRegressor', LGBMRegressor(random_state=54321))],\n",
       " 'verbose': False,\n",
       " 'scaler': StandardScaler(),\n",
       " 'LGBMRegressor': LGBMRegressor(random_state=54321),\n",
       " 'scaler__copy': True,\n",
       " 'scaler__with_mean': True,\n",
       " 'scaler__with_std': True,\n",
       " 'LGBMRegressor__boosting_type': 'gbdt',\n",
       " 'LGBMRegressor__class_weight': None,\n",
       " 'LGBMRegressor__colsample_bytree': 1.0,\n",
       " 'LGBMRegressor__importance_type': 'split',\n",
       " 'LGBMRegressor__learning_rate': 0.1,\n",
       " 'LGBMRegressor__max_depth': -1,\n",
       " 'LGBMRegressor__min_child_samples': 20,\n",
       " 'LGBMRegressor__min_child_weight': 0.001,\n",
       " 'LGBMRegressor__min_split_gain': 0.0,\n",
       " 'LGBMRegressor__n_estimators': 100,\n",
       " 'LGBMRegressor__n_jobs': -1,\n",
       " 'LGBMRegressor__num_leaves': 31,\n",
       " 'LGBMRegressor__objective': None,\n",
       " 'LGBMRegressor__random_state': 54321,\n",
       " 'LGBMRegressor__reg_alpha': 0.0,\n",
       " 'LGBMRegressor__reg_lambda': 0.0,\n",
       " 'LGBMRegressor__silent': 'warn',\n",
       " 'LGBMRegressor__subsample': 1.0,\n",
       " 'LGBMRegressor__subsample_for_bin': 200000,\n",
       " 'LGBMRegressor__subsample_freq': 0}"
      ]
     },
     "execution_count": 252,
     "metadata": {},
     "output_type": "execute_result"
    }
   ],
   "source": [
    "pipe_lgbm_basic_no_cat_param.get_params()"
   ]
  },
  {
   "cell_type": "markdown",
   "id": "e419659c",
   "metadata": {},
   "source": [
    "Let's try the following set:"
   ]
  },
  {
   "cell_type": "code",
   "execution_count": 253,
   "id": "afd4203d",
   "metadata": {},
   "outputs": [],
   "source": [
    "param_tuning_lgbm = {\n",
    "    'LGBMRegressor__num_leaves': [20, 30, 40],\n",
    "    'LGBMRegressor__learning_rate': [0.01, 0.3],\n",
    "    'LGBMRegressor__subsample': [0.5, 0.7],  # randomly sample this share of the training data prior to growing trees\n",
    "    'LGBMRegressor__colsample_bytree': [0.5, 0.7],  #  the subsample ratio of columns when constructing each tree\n",
    "    'LGBMRegressor__n_estimators' : [40, 200, 500]  # default 100\n",
    "}"
   ]
  },
  {
   "cell_type": "markdown",
   "id": "35fb958f",
   "metadata": {},
   "source": [
    "We will apply `GridSearch` to run over the given combinations of the parameters:"
   ]
  },
  {
   "cell_type": "code",
   "execution_count": 254,
   "id": "ddae06e4",
   "metadata": {},
   "outputs": [],
   "source": [
    "gs_lgbm = GridSearchCV(\n",
    "    pipe_lgbm_basic_no_cat_param,\n",
    "    param_grid = param_tuning_lgbm,\n",
    "    scoring=rmse_score,\n",
    "    cv = 5,\n",
    "    verbose = 5\n",
    ")"
   ]
  },
  {
   "cell_type": "code",
   "execution_count": 255,
   "id": "cca6be25",
   "metadata": {},
   "outputs": [
    {
     "name": "stdout",
     "output_type": "stream",
     "text": [
      "Fitting 5 folds for each of 72 candidates, totalling 360 fits\n",
      "[CV 1/5] END LGBMRegressor__colsample_bytree=0.5, LGBMRegressor__learning_rate=0.01, LGBMRegressor__n_estimators=40, LGBMRegressor__num_leaves=20, LGBMRegressor__subsample=0.5; total time=   0.2s\n",
      "[CV 2/5] END LGBMRegressor__colsample_bytree=0.5, LGBMRegressor__learning_rate=0.01, LGBMRegressor__n_estimators=40, LGBMRegressor__num_leaves=20, LGBMRegressor__subsample=0.5; total time=   0.2s\n",
      "[CV 3/5] END LGBMRegressor__colsample_bytree=0.5, LGBMRegressor__learning_rate=0.01, LGBMRegressor__n_estimators=40, LGBMRegressor__num_leaves=20, LGBMRegressor__subsample=0.5; total time=   0.2s\n",
      "[CV 4/5] END LGBMRegressor__colsample_bytree=0.5, LGBMRegressor__learning_rate=0.01, LGBMRegressor__n_estimators=40, LGBMRegressor__num_leaves=20, LGBMRegressor__subsample=0.5; total time=   0.2s\n",
      "[CV 5/5] END LGBMRegressor__colsample_bytree=0.5, LGBMRegressor__learning_rate=0.01, LGBMRegressor__n_estimators=40, LGBMRegressor__num_leaves=20, LGBMRegressor__subsample=0.5; total time=   0.2s\n",
      "[CV 1/5] END LGBMRegressor__colsample_bytree=0.5, LGBMRegressor__learning_rate=0.01, LGBMRegressor__n_estimators=40, LGBMRegressor__num_leaves=20, LGBMRegressor__subsample=0.7; total time=   0.2s\n",
      "[CV 2/5] END LGBMRegressor__colsample_bytree=0.5, LGBMRegressor__learning_rate=0.01, LGBMRegressor__n_estimators=40, LGBMRegressor__num_leaves=20, LGBMRegressor__subsample=0.7; total time=   0.2s\n",
      "[CV 3/5] END LGBMRegressor__colsample_bytree=0.5, LGBMRegressor__learning_rate=0.01, LGBMRegressor__n_estimators=40, LGBMRegressor__num_leaves=20, LGBMRegressor__subsample=0.7; total time=   0.2s\n",
      "[CV 4/5] END LGBMRegressor__colsample_bytree=0.5, LGBMRegressor__learning_rate=0.01, LGBMRegressor__n_estimators=40, LGBMRegressor__num_leaves=20, LGBMRegressor__subsample=0.7; total time=   0.3s\n",
      "[CV 5/5] END LGBMRegressor__colsample_bytree=0.5, LGBMRegressor__learning_rate=0.01, LGBMRegressor__n_estimators=40, LGBMRegressor__num_leaves=20, LGBMRegressor__subsample=0.7; total time=   0.2s\n",
      "[CV 1/5] END LGBMRegressor__colsample_bytree=0.5, LGBMRegressor__learning_rate=0.01, LGBMRegressor__n_estimators=40, LGBMRegressor__num_leaves=30, LGBMRegressor__subsample=0.5; total time=   0.3s\n",
      "[CV 2/5] END LGBMRegressor__colsample_bytree=0.5, LGBMRegressor__learning_rate=0.01, LGBMRegressor__n_estimators=40, LGBMRegressor__num_leaves=30, LGBMRegressor__subsample=0.5; total time=   0.3s\n",
      "[CV 3/5] END LGBMRegressor__colsample_bytree=0.5, LGBMRegressor__learning_rate=0.01, LGBMRegressor__n_estimators=40, LGBMRegressor__num_leaves=30, LGBMRegressor__subsample=0.5; total time=   0.3s\n",
      "[CV 4/5] END LGBMRegressor__colsample_bytree=0.5, LGBMRegressor__learning_rate=0.01, LGBMRegressor__n_estimators=40, LGBMRegressor__num_leaves=30, LGBMRegressor__subsample=0.5; total time=   0.2s\n",
      "[CV 5/5] END LGBMRegressor__colsample_bytree=0.5, LGBMRegressor__learning_rate=0.01, LGBMRegressor__n_estimators=40, LGBMRegressor__num_leaves=30, LGBMRegressor__subsample=0.5; total time=   0.2s\n",
      "[CV 1/5] END LGBMRegressor__colsample_bytree=0.5, LGBMRegressor__learning_rate=0.01, LGBMRegressor__n_estimators=40, LGBMRegressor__num_leaves=30, LGBMRegressor__subsample=0.7; total time=   0.2s\n",
      "[CV 2/5] END LGBMRegressor__colsample_bytree=0.5, LGBMRegressor__learning_rate=0.01, LGBMRegressor__n_estimators=40, LGBMRegressor__num_leaves=30, LGBMRegressor__subsample=0.7; total time=   0.3s\n",
      "[CV 3/5] END LGBMRegressor__colsample_bytree=0.5, LGBMRegressor__learning_rate=0.01, LGBMRegressor__n_estimators=40, LGBMRegressor__num_leaves=30, LGBMRegressor__subsample=0.7; total time=   0.3s\n",
      "[CV 4/5] END LGBMRegressor__colsample_bytree=0.5, LGBMRegressor__learning_rate=0.01, LGBMRegressor__n_estimators=40, LGBMRegressor__num_leaves=30, LGBMRegressor__subsample=0.7; total time=   0.3s\n",
      "[CV 5/5] END LGBMRegressor__colsample_bytree=0.5, LGBMRegressor__learning_rate=0.01, LGBMRegressor__n_estimators=40, LGBMRegressor__num_leaves=30, LGBMRegressor__subsample=0.7; total time=   0.3s\n",
      "[CV 1/5] END LGBMRegressor__colsample_bytree=0.5, LGBMRegressor__learning_rate=0.01, LGBMRegressor__n_estimators=40, LGBMRegressor__num_leaves=40, LGBMRegressor__subsample=0.5; total time=   0.3s\n",
      "[CV 2/5] END LGBMRegressor__colsample_bytree=0.5, LGBMRegressor__learning_rate=0.01, LGBMRegressor__n_estimators=40, LGBMRegressor__num_leaves=40, LGBMRegressor__subsample=0.5; total time=   0.3s\n",
      "[CV 3/5] END LGBMRegressor__colsample_bytree=0.5, LGBMRegressor__learning_rate=0.01, LGBMRegressor__n_estimators=40, LGBMRegressor__num_leaves=40, LGBMRegressor__subsample=0.5; total time=   0.2s\n",
      "[CV 4/5] END LGBMRegressor__colsample_bytree=0.5, LGBMRegressor__learning_rate=0.01, LGBMRegressor__n_estimators=40, LGBMRegressor__num_leaves=40, LGBMRegressor__subsample=0.5; total time=   0.3s\n",
      "[CV 5/5] END LGBMRegressor__colsample_bytree=0.5, LGBMRegressor__learning_rate=0.01, LGBMRegressor__n_estimators=40, LGBMRegressor__num_leaves=40, LGBMRegressor__subsample=0.5; total time=   0.3s\n",
      "[CV 1/5] END LGBMRegressor__colsample_bytree=0.5, LGBMRegressor__learning_rate=0.01, LGBMRegressor__n_estimators=40, LGBMRegressor__num_leaves=40, LGBMRegressor__subsample=0.7; total time=   0.3s\n",
      "[CV 2/5] END LGBMRegressor__colsample_bytree=0.5, LGBMRegressor__learning_rate=0.01, LGBMRegressor__n_estimators=40, LGBMRegressor__num_leaves=40, LGBMRegressor__subsample=0.7; total time=   0.3s\n",
      "[CV 3/5] END LGBMRegressor__colsample_bytree=0.5, LGBMRegressor__learning_rate=0.01, LGBMRegressor__n_estimators=40, LGBMRegressor__num_leaves=40, LGBMRegressor__subsample=0.7; total time=   0.2s\n",
      "[CV 4/5] END LGBMRegressor__colsample_bytree=0.5, LGBMRegressor__learning_rate=0.01, LGBMRegressor__n_estimators=40, LGBMRegressor__num_leaves=40, LGBMRegressor__subsample=0.7; total time=   0.2s\n",
      "[CV 5/5] END LGBMRegressor__colsample_bytree=0.5, LGBMRegressor__learning_rate=0.01, LGBMRegressor__n_estimators=40, LGBMRegressor__num_leaves=40, LGBMRegressor__subsample=0.7; total time=   0.2s\n",
      "[CV 1/5] END LGBMRegressor__colsample_bytree=0.5, LGBMRegressor__learning_rate=0.01, LGBMRegressor__n_estimators=200, LGBMRegressor__num_leaves=20, LGBMRegressor__subsample=0.5; total time=   0.7s\n",
      "[CV 2/5] END LGBMRegressor__colsample_bytree=0.5, LGBMRegressor__learning_rate=0.01, LGBMRegressor__n_estimators=200, LGBMRegressor__num_leaves=20, LGBMRegressor__subsample=0.5; total time=   0.7s\n",
      "[CV 3/5] END LGBMRegressor__colsample_bytree=0.5, LGBMRegressor__learning_rate=0.01, LGBMRegressor__n_estimators=200, LGBMRegressor__num_leaves=20, LGBMRegressor__subsample=0.5; total time=   0.7s\n",
      "[CV 4/5] END LGBMRegressor__colsample_bytree=0.5, LGBMRegressor__learning_rate=0.01, LGBMRegressor__n_estimators=200, LGBMRegressor__num_leaves=20, LGBMRegressor__subsample=0.5; total time=   0.7s\n",
      "[CV 5/5] END LGBMRegressor__colsample_bytree=0.5, LGBMRegressor__learning_rate=0.01, LGBMRegressor__n_estimators=200, LGBMRegressor__num_leaves=20, LGBMRegressor__subsample=0.5; total time=   0.7s\n",
      "[CV 1/5] END LGBMRegressor__colsample_bytree=0.5, LGBMRegressor__learning_rate=0.01, LGBMRegressor__n_estimators=200, LGBMRegressor__num_leaves=20, LGBMRegressor__subsample=0.7; total time=   0.7s\n",
      "[CV 2/5] END LGBMRegressor__colsample_bytree=0.5, LGBMRegressor__learning_rate=0.01, LGBMRegressor__n_estimators=200, LGBMRegressor__num_leaves=20, LGBMRegressor__subsample=0.7; total time=   0.7s\n",
      "[CV 3/5] END LGBMRegressor__colsample_bytree=0.5, LGBMRegressor__learning_rate=0.01, LGBMRegressor__n_estimators=200, LGBMRegressor__num_leaves=20, LGBMRegressor__subsample=0.7; total time=   0.7s\n",
      "[CV 4/5] END LGBMRegressor__colsample_bytree=0.5, LGBMRegressor__learning_rate=0.01, LGBMRegressor__n_estimators=200, LGBMRegressor__num_leaves=20, LGBMRegressor__subsample=0.7; total time=   0.7s\n",
      "[CV 5/5] END LGBMRegressor__colsample_bytree=0.5, LGBMRegressor__learning_rate=0.01, LGBMRegressor__n_estimators=200, LGBMRegressor__num_leaves=20, LGBMRegressor__subsample=0.7; total time=   0.7s\n",
      "[CV 1/5] END LGBMRegressor__colsample_bytree=0.5, LGBMRegressor__learning_rate=0.01, LGBMRegressor__n_estimators=200, LGBMRegressor__num_leaves=30, LGBMRegressor__subsample=0.5; total time=   0.8s\n",
      "[CV 2/5] END LGBMRegressor__colsample_bytree=0.5, LGBMRegressor__learning_rate=0.01, LGBMRegressor__n_estimators=200, LGBMRegressor__num_leaves=30, LGBMRegressor__subsample=0.5; total time=   0.8s\n",
      "[CV 3/5] END LGBMRegressor__colsample_bytree=0.5, LGBMRegressor__learning_rate=0.01, LGBMRegressor__n_estimators=200, LGBMRegressor__num_leaves=30, LGBMRegressor__subsample=0.5; total time=   0.8s\n",
      "[CV 4/5] END LGBMRegressor__colsample_bytree=0.5, LGBMRegressor__learning_rate=0.01, LGBMRegressor__n_estimators=200, LGBMRegressor__num_leaves=30, LGBMRegressor__subsample=0.5; total time=   0.8s\n",
      "[CV 5/5] END LGBMRegressor__colsample_bytree=0.5, LGBMRegressor__learning_rate=0.01, LGBMRegressor__n_estimators=200, LGBMRegressor__num_leaves=30, LGBMRegressor__subsample=0.5; total time=   0.8s\n",
      "[CV 1/5] END LGBMRegressor__colsample_bytree=0.5, LGBMRegressor__learning_rate=0.01, LGBMRegressor__n_estimators=200, LGBMRegressor__num_leaves=30, LGBMRegressor__subsample=0.7; total time=   0.8s\n",
      "[CV 2/5] END LGBMRegressor__colsample_bytree=0.5, LGBMRegressor__learning_rate=0.01, LGBMRegressor__n_estimators=200, LGBMRegressor__num_leaves=30, LGBMRegressor__subsample=0.7; total time=   0.8s\n",
      "[CV 3/5] END LGBMRegressor__colsample_bytree=0.5, LGBMRegressor__learning_rate=0.01, LGBMRegressor__n_estimators=200, LGBMRegressor__num_leaves=30, LGBMRegressor__subsample=0.7; total time=   0.8s\n",
      "[CV 4/5] END LGBMRegressor__colsample_bytree=0.5, LGBMRegressor__learning_rate=0.01, LGBMRegressor__n_estimators=200, LGBMRegressor__num_leaves=30, LGBMRegressor__subsample=0.7; total time=   0.8s\n",
      "[CV 5/5] END LGBMRegressor__colsample_bytree=0.5, LGBMRegressor__learning_rate=0.01, LGBMRegressor__n_estimators=200, LGBMRegressor__num_leaves=30, LGBMRegressor__subsample=0.7; total time=   0.8s\n",
      "[CV 1/5] END LGBMRegressor__colsample_bytree=0.5, LGBMRegressor__learning_rate=0.01, LGBMRegressor__n_estimators=200, LGBMRegressor__num_leaves=40, LGBMRegressor__subsample=0.5; total time=   0.9s\n",
      "[CV 2/5] END LGBMRegressor__colsample_bytree=0.5, LGBMRegressor__learning_rate=0.01, LGBMRegressor__n_estimators=200, LGBMRegressor__num_leaves=40, LGBMRegressor__subsample=0.5; total time=   0.9s\n",
      "[CV 3/5] END LGBMRegressor__colsample_bytree=0.5, LGBMRegressor__learning_rate=0.01, LGBMRegressor__n_estimators=200, LGBMRegressor__num_leaves=40, LGBMRegressor__subsample=0.5; total time=   0.9s\n",
      "[CV 4/5] END LGBMRegressor__colsample_bytree=0.5, LGBMRegressor__learning_rate=0.01, LGBMRegressor__n_estimators=200, LGBMRegressor__num_leaves=40, LGBMRegressor__subsample=0.5; total time=   0.9s\n",
      "[CV 5/5] END LGBMRegressor__colsample_bytree=0.5, LGBMRegressor__learning_rate=0.01, LGBMRegressor__n_estimators=200, LGBMRegressor__num_leaves=40, LGBMRegressor__subsample=0.5; total time=   1.0s\n",
      "[CV 1/5] END LGBMRegressor__colsample_bytree=0.5, LGBMRegressor__learning_rate=0.01, LGBMRegressor__n_estimators=200, LGBMRegressor__num_leaves=40, LGBMRegressor__subsample=0.7; total time=   1.3s\n",
      "[CV 2/5] END LGBMRegressor__colsample_bytree=0.5, LGBMRegressor__learning_rate=0.01, LGBMRegressor__n_estimators=200, LGBMRegressor__num_leaves=40, LGBMRegressor__subsample=0.7; total time=   1.2s\n",
      "[CV 3/5] END LGBMRegressor__colsample_bytree=0.5, LGBMRegressor__learning_rate=0.01, LGBMRegressor__n_estimators=200, LGBMRegressor__num_leaves=40, LGBMRegressor__subsample=0.7; total time=   1.3s\n",
      "[CV 4/5] END LGBMRegressor__colsample_bytree=0.5, LGBMRegressor__learning_rate=0.01, LGBMRegressor__n_estimators=200, LGBMRegressor__num_leaves=40, LGBMRegressor__subsample=0.7; total time=   1.2s\n",
      "[CV 5/5] END LGBMRegressor__colsample_bytree=0.5, LGBMRegressor__learning_rate=0.01, LGBMRegressor__n_estimators=200, LGBMRegressor__num_leaves=40, LGBMRegressor__subsample=0.7; total time=   1.1s\n",
      "[CV 1/5] END LGBMRegressor__colsample_bytree=0.5, LGBMRegressor__learning_rate=0.01, LGBMRegressor__n_estimators=500, LGBMRegressor__num_leaves=20, LGBMRegressor__subsample=0.5; total time=   1.8s\n",
      "[CV 2/5] END LGBMRegressor__colsample_bytree=0.5, LGBMRegressor__learning_rate=0.01, LGBMRegressor__n_estimators=500, LGBMRegressor__num_leaves=20, LGBMRegressor__subsample=0.5; total time=   1.6s\n",
      "[CV 3/5] END LGBMRegressor__colsample_bytree=0.5, LGBMRegressor__learning_rate=0.01, LGBMRegressor__n_estimators=500, LGBMRegressor__num_leaves=20, LGBMRegressor__subsample=0.5; total time=   1.6s\n",
      "[CV 4/5] END LGBMRegressor__colsample_bytree=0.5, LGBMRegressor__learning_rate=0.01, LGBMRegressor__n_estimators=500, LGBMRegressor__num_leaves=20, LGBMRegressor__subsample=0.5; total time=   1.6s\n",
      "[CV 5/5] END LGBMRegressor__colsample_bytree=0.5, LGBMRegressor__learning_rate=0.01, LGBMRegressor__n_estimators=500, LGBMRegressor__num_leaves=20, LGBMRegressor__subsample=0.5; total time=   1.6s\n",
      "[CV 1/5] END LGBMRegressor__colsample_bytree=0.5, LGBMRegressor__learning_rate=0.01, LGBMRegressor__n_estimators=500, LGBMRegressor__num_leaves=20, LGBMRegressor__subsample=0.7; total time=   1.6s\n",
      "[CV 2/5] END LGBMRegressor__colsample_bytree=0.5, LGBMRegressor__learning_rate=0.01, LGBMRegressor__n_estimators=500, LGBMRegressor__num_leaves=20, LGBMRegressor__subsample=0.7; total time=   1.5s\n",
      "[CV 3/5] END LGBMRegressor__colsample_bytree=0.5, LGBMRegressor__learning_rate=0.01, LGBMRegressor__n_estimators=500, LGBMRegressor__num_leaves=20, LGBMRegressor__subsample=0.7; total time=   1.7s\n",
      "[CV 4/5] END LGBMRegressor__colsample_bytree=0.5, LGBMRegressor__learning_rate=0.01, LGBMRegressor__n_estimators=500, LGBMRegressor__num_leaves=20, LGBMRegressor__subsample=0.7; total time=   1.6s\n",
      "[CV 5/5] END LGBMRegressor__colsample_bytree=0.5, LGBMRegressor__learning_rate=0.01, LGBMRegressor__n_estimators=500, LGBMRegressor__num_leaves=20, LGBMRegressor__subsample=0.7; total time=   1.6s\n",
      "[CV 1/5] END LGBMRegressor__colsample_bytree=0.5, LGBMRegressor__learning_rate=0.01, LGBMRegressor__n_estimators=500, LGBMRegressor__num_leaves=30, LGBMRegressor__subsample=0.5; total time=   1.8s\n",
      "[CV 2/5] END LGBMRegressor__colsample_bytree=0.5, LGBMRegressor__learning_rate=0.01, LGBMRegressor__n_estimators=500, LGBMRegressor__num_leaves=30, LGBMRegressor__subsample=0.5; total time=   1.8s\n",
      "[CV 3/5] END LGBMRegressor__colsample_bytree=0.5, LGBMRegressor__learning_rate=0.01, LGBMRegressor__n_estimators=500, LGBMRegressor__num_leaves=30, LGBMRegressor__subsample=0.5; total time=   1.8s\n",
      "[CV 4/5] END LGBMRegressor__colsample_bytree=0.5, LGBMRegressor__learning_rate=0.01, LGBMRegressor__n_estimators=500, LGBMRegressor__num_leaves=30, LGBMRegressor__subsample=0.5; total time=   2.4s\n",
      "[CV 5/5] END LGBMRegressor__colsample_bytree=0.5, LGBMRegressor__learning_rate=0.01, LGBMRegressor__n_estimators=500, LGBMRegressor__num_leaves=30, LGBMRegressor__subsample=0.5; total time=   2.2s\n",
      "[CV 1/5] END LGBMRegressor__colsample_bytree=0.5, LGBMRegressor__learning_rate=0.01, LGBMRegressor__n_estimators=500, LGBMRegressor__num_leaves=30, LGBMRegressor__subsample=0.7; total time=   2.4s\n",
      "[CV 2/5] END LGBMRegressor__colsample_bytree=0.5, LGBMRegressor__learning_rate=0.01, LGBMRegressor__n_estimators=500, LGBMRegressor__num_leaves=30, LGBMRegressor__subsample=0.7; total time=   2.0s\n",
      "[CV 3/5] END LGBMRegressor__colsample_bytree=0.5, LGBMRegressor__learning_rate=0.01, LGBMRegressor__n_estimators=500, LGBMRegressor__num_leaves=30, LGBMRegressor__subsample=0.7; total time=   2.3s\n",
      "[CV 4/5] END LGBMRegressor__colsample_bytree=0.5, LGBMRegressor__learning_rate=0.01, LGBMRegressor__n_estimators=500, LGBMRegressor__num_leaves=30, LGBMRegressor__subsample=0.7; total time=   1.8s\n",
      "[CV 5/5] END LGBMRegressor__colsample_bytree=0.5, LGBMRegressor__learning_rate=0.01, LGBMRegressor__n_estimators=500, LGBMRegressor__num_leaves=30, LGBMRegressor__subsample=0.7; total time=   1.8s\n",
      "[CV 1/5] END LGBMRegressor__colsample_bytree=0.5, LGBMRegressor__learning_rate=0.01, LGBMRegressor__n_estimators=500, LGBMRegressor__num_leaves=40, LGBMRegressor__subsample=0.5; total time=   2.3s\n",
      "[CV 2/5] END LGBMRegressor__colsample_bytree=0.5, LGBMRegressor__learning_rate=0.01, LGBMRegressor__n_estimators=500, LGBMRegressor__num_leaves=40, LGBMRegressor__subsample=0.5; total time=   2.0s\n",
      "[CV 3/5] END LGBMRegressor__colsample_bytree=0.5, LGBMRegressor__learning_rate=0.01, LGBMRegressor__n_estimators=500, LGBMRegressor__num_leaves=40, LGBMRegressor__subsample=0.5; total time=   2.1s\n",
      "[CV 4/5] END LGBMRegressor__colsample_bytree=0.5, LGBMRegressor__learning_rate=0.01, LGBMRegressor__n_estimators=500, LGBMRegressor__num_leaves=40, LGBMRegressor__subsample=0.5; total time=   2.0s\n",
      "[CV 5/5] END LGBMRegressor__colsample_bytree=0.5, LGBMRegressor__learning_rate=0.01, LGBMRegressor__n_estimators=500, LGBMRegressor__num_leaves=40, LGBMRegressor__subsample=0.5; total time=   2.1s\n",
      "[CV 1/5] END LGBMRegressor__colsample_bytree=0.5, LGBMRegressor__learning_rate=0.01, LGBMRegressor__n_estimators=500, LGBMRegressor__num_leaves=40, LGBMRegressor__subsample=0.7; total time=   2.1s\n",
      "[CV 2/5] END LGBMRegressor__colsample_bytree=0.5, LGBMRegressor__learning_rate=0.01, LGBMRegressor__n_estimators=500, LGBMRegressor__num_leaves=40, LGBMRegressor__subsample=0.7; total time=   2.0s\n",
      "[CV 3/5] END LGBMRegressor__colsample_bytree=0.5, LGBMRegressor__learning_rate=0.01, LGBMRegressor__n_estimators=500, LGBMRegressor__num_leaves=40, LGBMRegressor__subsample=0.7; total time=   2.0s\n",
      "[CV 4/5] END LGBMRegressor__colsample_bytree=0.5, LGBMRegressor__learning_rate=0.01, LGBMRegressor__n_estimators=500, LGBMRegressor__num_leaves=40, LGBMRegressor__subsample=0.7; total time=   2.4s\n",
      "[CV 5/5] END LGBMRegressor__colsample_bytree=0.5, LGBMRegressor__learning_rate=0.01, LGBMRegressor__n_estimators=500, LGBMRegressor__num_leaves=40, LGBMRegressor__subsample=0.7; total time=   2.0s\n",
      "[CV 1/5] END LGBMRegressor__colsample_bytree=0.5, LGBMRegressor__learning_rate=0.3, LGBMRegressor__n_estimators=40, LGBMRegressor__num_leaves=20, LGBMRegressor__subsample=0.5; total time=   0.2s\n",
      "[CV 2/5] END LGBMRegressor__colsample_bytree=0.5, LGBMRegressor__learning_rate=0.3, LGBMRegressor__n_estimators=40, LGBMRegressor__num_leaves=20, LGBMRegressor__subsample=0.5; total time=   0.2s\n",
      "[CV 3/5] END LGBMRegressor__colsample_bytree=0.5, LGBMRegressor__learning_rate=0.3, LGBMRegressor__n_estimators=40, LGBMRegressor__num_leaves=20, LGBMRegressor__subsample=0.5; total time=   0.2s\n",
      "[CV 4/5] END LGBMRegressor__colsample_bytree=0.5, LGBMRegressor__learning_rate=0.3, LGBMRegressor__n_estimators=40, LGBMRegressor__num_leaves=20, LGBMRegressor__subsample=0.5; total time=   0.2s\n",
      "[CV 5/5] END LGBMRegressor__colsample_bytree=0.5, LGBMRegressor__learning_rate=0.3, LGBMRegressor__n_estimators=40, LGBMRegressor__num_leaves=20, LGBMRegressor__subsample=0.5; total time=   0.2s\n",
      "[CV 1/5] END LGBMRegressor__colsample_bytree=0.5, LGBMRegressor__learning_rate=0.3, LGBMRegressor__n_estimators=40, LGBMRegressor__num_leaves=20, LGBMRegressor__subsample=0.7; total time=   0.2s\n",
      "[CV 2/5] END LGBMRegressor__colsample_bytree=0.5, LGBMRegressor__learning_rate=0.3, LGBMRegressor__n_estimators=40, LGBMRegressor__num_leaves=20, LGBMRegressor__subsample=0.7; total time=   0.2s\n",
      "[CV 3/5] END LGBMRegressor__colsample_bytree=0.5, LGBMRegressor__learning_rate=0.3, LGBMRegressor__n_estimators=40, LGBMRegressor__num_leaves=20, LGBMRegressor__subsample=0.7; total time=   0.2s\n",
      "[CV 4/5] END LGBMRegressor__colsample_bytree=0.5, LGBMRegressor__learning_rate=0.3, LGBMRegressor__n_estimators=40, LGBMRegressor__num_leaves=20, LGBMRegressor__subsample=0.7; total time=   0.2s\n",
      "[CV 5/5] END LGBMRegressor__colsample_bytree=0.5, LGBMRegressor__learning_rate=0.3, LGBMRegressor__n_estimators=40, LGBMRegressor__num_leaves=20, LGBMRegressor__subsample=0.7; total time=   0.2s\n",
      "[CV 1/5] END LGBMRegressor__colsample_bytree=0.5, LGBMRegressor__learning_rate=0.3, LGBMRegressor__n_estimators=40, LGBMRegressor__num_leaves=30, LGBMRegressor__subsample=0.5; total time=   0.2s\n",
      "[CV 2/5] END LGBMRegressor__colsample_bytree=0.5, LGBMRegressor__learning_rate=0.3, LGBMRegressor__n_estimators=40, LGBMRegressor__num_leaves=30, LGBMRegressor__subsample=0.5; total time=   0.2s\n",
      "[CV 3/5] END LGBMRegressor__colsample_bytree=0.5, LGBMRegressor__learning_rate=0.3, LGBMRegressor__n_estimators=40, LGBMRegressor__num_leaves=30, LGBMRegressor__subsample=0.5; total time=   0.2s\n",
      "[CV 4/5] END LGBMRegressor__colsample_bytree=0.5, LGBMRegressor__learning_rate=0.3, LGBMRegressor__n_estimators=40, LGBMRegressor__num_leaves=30, LGBMRegressor__subsample=0.5; total time=   0.2s\n",
      "[CV 5/5] END LGBMRegressor__colsample_bytree=0.5, LGBMRegressor__learning_rate=0.3, LGBMRegressor__n_estimators=40, LGBMRegressor__num_leaves=30, LGBMRegressor__subsample=0.5; total time=   0.2s\n",
      "[CV 1/5] END LGBMRegressor__colsample_bytree=0.5, LGBMRegressor__learning_rate=0.3, LGBMRegressor__n_estimators=40, LGBMRegressor__num_leaves=30, LGBMRegressor__subsample=0.7; total time=   0.2s\n",
      "[CV 2/5] END LGBMRegressor__colsample_bytree=0.5, LGBMRegressor__learning_rate=0.3, LGBMRegressor__n_estimators=40, LGBMRegressor__num_leaves=30, LGBMRegressor__subsample=0.7; total time=   0.2s\n",
      "[CV 3/5] END LGBMRegressor__colsample_bytree=0.5, LGBMRegressor__learning_rate=0.3, LGBMRegressor__n_estimators=40, LGBMRegressor__num_leaves=30, LGBMRegressor__subsample=0.7; total time=   0.2s\n",
      "[CV 4/5] END LGBMRegressor__colsample_bytree=0.5, LGBMRegressor__learning_rate=0.3, LGBMRegressor__n_estimators=40, LGBMRegressor__num_leaves=30, LGBMRegressor__subsample=0.7; total time=   0.2s\n",
      "[CV 5/5] END LGBMRegressor__colsample_bytree=0.5, LGBMRegressor__learning_rate=0.3, LGBMRegressor__n_estimators=40, LGBMRegressor__num_leaves=30, LGBMRegressor__subsample=0.7; total time=   0.2s\n",
      "[CV 1/5] END LGBMRegressor__colsample_bytree=0.5, LGBMRegressor__learning_rate=0.3, LGBMRegressor__n_estimators=40, LGBMRegressor__num_leaves=40, LGBMRegressor__subsample=0.5; total time=   0.2s\n",
      "[CV 2/5] END LGBMRegressor__colsample_bytree=0.5, LGBMRegressor__learning_rate=0.3, LGBMRegressor__n_estimators=40, LGBMRegressor__num_leaves=40, LGBMRegressor__subsample=0.5; total time=   0.2s\n",
      "[CV 3/5] END LGBMRegressor__colsample_bytree=0.5, LGBMRegressor__learning_rate=0.3, LGBMRegressor__n_estimators=40, LGBMRegressor__num_leaves=40, LGBMRegressor__subsample=0.5; total time=   0.2s\n",
      "[CV 4/5] END LGBMRegressor__colsample_bytree=0.5, LGBMRegressor__learning_rate=0.3, LGBMRegressor__n_estimators=40, LGBMRegressor__num_leaves=40, LGBMRegressor__subsample=0.5; total time=   0.2s\n",
      "[CV 5/5] END LGBMRegressor__colsample_bytree=0.5, LGBMRegressor__learning_rate=0.3, LGBMRegressor__n_estimators=40, LGBMRegressor__num_leaves=40, LGBMRegressor__subsample=0.5; total time=   0.2s\n",
      "[CV 1/5] END LGBMRegressor__colsample_bytree=0.5, LGBMRegressor__learning_rate=0.3, LGBMRegressor__n_estimators=40, LGBMRegressor__num_leaves=40, LGBMRegressor__subsample=0.7; total time=   0.2s\n",
      "[CV 2/5] END LGBMRegressor__colsample_bytree=0.5, LGBMRegressor__learning_rate=0.3, LGBMRegressor__n_estimators=40, LGBMRegressor__num_leaves=40, LGBMRegressor__subsample=0.7; total time=   0.2s\n",
      "[CV 3/5] END LGBMRegressor__colsample_bytree=0.5, LGBMRegressor__learning_rate=0.3, LGBMRegressor__n_estimators=40, LGBMRegressor__num_leaves=40, LGBMRegressor__subsample=0.7; total time=   0.3s\n",
      "[CV 4/5] END LGBMRegressor__colsample_bytree=0.5, LGBMRegressor__learning_rate=0.3, LGBMRegressor__n_estimators=40, LGBMRegressor__num_leaves=40, LGBMRegressor__subsample=0.7; total time=   0.2s\n",
      "[CV 5/5] END LGBMRegressor__colsample_bytree=0.5, LGBMRegressor__learning_rate=0.3, LGBMRegressor__n_estimators=40, LGBMRegressor__num_leaves=40, LGBMRegressor__subsample=0.7; total time=   0.2s\n",
      "[CV 1/5] END LGBMRegressor__colsample_bytree=0.5, LGBMRegressor__learning_rate=0.3, LGBMRegressor__n_estimators=200, LGBMRegressor__num_leaves=20, LGBMRegressor__subsample=0.5; total time=   0.5s\n",
      "[CV 2/5] END LGBMRegressor__colsample_bytree=0.5, LGBMRegressor__learning_rate=0.3, LGBMRegressor__n_estimators=200, LGBMRegressor__num_leaves=20, LGBMRegressor__subsample=0.5; total time=   0.5s\n",
      "[CV 3/5] END LGBMRegressor__colsample_bytree=0.5, LGBMRegressor__learning_rate=0.3, LGBMRegressor__n_estimators=200, LGBMRegressor__num_leaves=20, LGBMRegressor__subsample=0.5; total time=   0.5s\n",
      "[CV 4/5] END LGBMRegressor__colsample_bytree=0.5, LGBMRegressor__learning_rate=0.3, LGBMRegressor__n_estimators=200, LGBMRegressor__num_leaves=20, LGBMRegressor__subsample=0.5; total time=   0.5s\n",
      "[CV 5/5] END LGBMRegressor__colsample_bytree=0.5, LGBMRegressor__learning_rate=0.3, LGBMRegressor__n_estimators=200, LGBMRegressor__num_leaves=20, LGBMRegressor__subsample=0.5; total time=   0.5s\n",
      "[CV 1/5] END LGBMRegressor__colsample_bytree=0.5, LGBMRegressor__learning_rate=0.3, LGBMRegressor__n_estimators=200, LGBMRegressor__num_leaves=20, LGBMRegressor__subsample=0.7; total time=   0.5s\n",
      "[CV 2/5] END LGBMRegressor__colsample_bytree=0.5, LGBMRegressor__learning_rate=0.3, LGBMRegressor__n_estimators=200, LGBMRegressor__num_leaves=20, LGBMRegressor__subsample=0.7; total time=   0.6s\n",
      "[CV 3/5] END LGBMRegressor__colsample_bytree=0.5, LGBMRegressor__learning_rate=0.3, LGBMRegressor__n_estimators=200, LGBMRegressor__num_leaves=20, LGBMRegressor__subsample=0.7; total time=   0.5s\n",
      "[CV 4/5] END LGBMRegressor__colsample_bytree=0.5, LGBMRegressor__learning_rate=0.3, LGBMRegressor__n_estimators=200, LGBMRegressor__num_leaves=20, LGBMRegressor__subsample=0.7; total time=   0.5s\n",
      "[CV 5/5] END LGBMRegressor__colsample_bytree=0.5, LGBMRegressor__learning_rate=0.3, LGBMRegressor__n_estimators=200, LGBMRegressor__num_leaves=20, LGBMRegressor__subsample=0.7; total time=   0.5s\n",
      "[CV 1/5] END LGBMRegressor__colsample_bytree=0.5, LGBMRegressor__learning_rate=0.3, LGBMRegressor__n_estimators=200, LGBMRegressor__num_leaves=30, LGBMRegressor__subsample=0.5; total time=   0.6s\n",
      "[CV 2/5] END LGBMRegressor__colsample_bytree=0.5, LGBMRegressor__learning_rate=0.3, LGBMRegressor__n_estimators=200, LGBMRegressor__num_leaves=30, LGBMRegressor__subsample=0.5; total time=   0.6s\n",
      "[CV 3/5] END LGBMRegressor__colsample_bytree=0.5, LGBMRegressor__learning_rate=0.3, LGBMRegressor__n_estimators=200, LGBMRegressor__num_leaves=30, LGBMRegressor__subsample=0.5; total time=   0.6s\n",
      "[CV 4/5] END LGBMRegressor__colsample_bytree=0.5, LGBMRegressor__learning_rate=0.3, LGBMRegressor__n_estimators=200, LGBMRegressor__num_leaves=30, LGBMRegressor__subsample=0.5; total time=   0.6s\n",
      "[CV 5/5] END LGBMRegressor__colsample_bytree=0.5, LGBMRegressor__learning_rate=0.3, LGBMRegressor__n_estimators=200, LGBMRegressor__num_leaves=30, LGBMRegressor__subsample=0.5; total time=   0.6s\n",
      "[CV 1/5] END LGBMRegressor__colsample_bytree=0.5, LGBMRegressor__learning_rate=0.3, LGBMRegressor__n_estimators=200, LGBMRegressor__num_leaves=30, LGBMRegressor__subsample=0.7; total time=   0.6s\n",
      "[CV 2/5] END LGBMRegressor__colsample_bytree=0.5, LGBMRegressor__learning_rate=0.3, LGBMRegressor__n_estimators=200, LGBMRegressor__num_leaves=30, LGBMRegressor__subsample=0.7; total time=   0.6s\n",
      "[CV 3/5] END LGBMRegressor__colsample_bytree=0.5, LGBMRegressor__learning_rate=0.3, LGBMRegressor__n_estimators=200, LGBMRegressor__num_leaves=30, LGBMRegressor__subsample=0.7; total time=   0.6s\n",
      "[CV 4/5] END LGBMRegressor__colsample_bytree=0.5, LGBMRegressor__learning_rate=0.3, LGBMRegressor__n_estimators=200, LGBMRegressor__num_leaves=30, LGBMRegressor__subsample=0.7; total time=   0.6s\n",
      "[CV 5/5] END LGBMRegressor__colsample_bytree=0.5, LGBMRegressor__learning_rate=0.3, LGBMRegressor__n_estimators=200, LGBMRegressor__num_leaves=30, LGBMRegressor__subsample=0.7; total time=   0.8s\n",
      "[CV 1/5] END LGBMRegressor__colsample_bytree=0.5, LGBMRegressor__learning_rate=0.3, LGBMRegressor__n_estimators=200, LGBMRegressor__num_leaves=40, LGBMRegressor__subsample=0.5; total time=   0.8s\n",
      "[CV 2/5] END LGBMRegressor__colsample_bytree=0.5, LGBMRegressor__learning_rate=0.3, LGBMRegressor__n_estimators=200, LGBMRegressor__num_leaves=40, LGBMRegressor__subsample=0.5; total time=   0.8s\n",
      "[CV 3/5] END LGBMRegressor__colsample_bytree=0.5, LGBMRegressor__learning_rate=0.3, LGBMRegressor__n_estimators=200, LGBMRegressor__num_leaves=40, LGBMRegressor__subsample=0.5; total time=   0.7s\n",
      "[CV 4/5] END LGBMRegressor__colsample_bytree=0.5, LGBMRegressor__learning_rate=0.3, LGBMRegressor__n_estimators=200, LGBMRegressor__num_leaves=40, LGBMRegressor__subsample=0.5; total time=   0.7s\n",
      "[CV 5/5] END LGBMRegressor__colsample_bytree=0.5, LGBMRegressor__learning_rate=0.3, LGBMRegressor__n_estimators=200, LGBMRegressor__num_leaves=40, LGBMRegressor__subsample=0.5; total time=   0.7s\n",
      "[CV 1/5] END LGBMRegressor__colsample_bytree=0.5, LGBMRegressor__learning_rate=0.3, LGBMRegressor__n_estimators=200, LGBMRegressor__num_leaves=40, LGBMRegressor__subsample=0.7; total time=   0.7s\n",
      "[CV 2/5] END LGBMRegressor__colsample_bytree=0.5, LGBMRegressor__learning_rate=0.3, LGBMRegressor__n_estimators=200, LGBMRegressor__num_leaves=40, LGBMRegressor__subsample=0.7; total time=   0.6s\n",
      "[CV 3/5] END LGBMRegressor__colsample_bytree=0.5, LGBMRegressor__learning_rate=0.3, LGBMRegressor__n_estimators=200, LGBMRegressor__num_leaves=40, LGBMRegressor__subsample=0.7; total time=   0.6s\n",
      "[CV 4/5] END LGBMRegressor__colsample_bytree=0.5, LGBMRegressor__learning_rate=0.3, LGBMRegressor__n_estimators=200, LGBMRegressor__num_leaves=40, LGBMRegressor__subsample=0.7; total time=   0.7s\n",
      "[CV 5/5] END LGBMRegressor__colsample_bytree=0.5, LGBMRegressor__learning_rate=0.3, LGBMRegressor__n_estimators=200, LGBMRegressor__num_leaves=40, LGBMRegressor__subsample=0.7; total time=   0.6s\n",
      "[CV 1/5] END LGBMRegressor__colsample_bytree=0.5, LGBMRegressor__learning_rate=0.3, LGBMRegressor__n_estimators=500, LGBMRegressor__num_leaves=20, LGBMRegressor__subsample=0.5; total time=   1.2s\n",
      "[CV 2/5] END LGBMRegressor__colsample_bytree=0.5, LGBMRegressor__learning_rate=0.3, LGBMRegressor__n_estimators=500, LGBMRegressor__num_leaves=20, LGBMRegressor__subsample=0.5; total time=   1.1s\n",
      "[CV 3/5] END LGBMRegressor__colsample_bytree=0.5, LGBMRegressor__learning_rate=0.3, LGBMRegressor__n_estimators=500, LGBMRegressor__num_leaves=20, LGBMRegressor__subsample=0.5; total time=   1.2s\n",
      "[CV 4/5] END LGBMRegressor__colsample_bytree=0.5, LGBMRegressor__learning_rate=0.3, LGBMRegressor__n_estimators=500, LGBMRegressor__num_leaves=20, LGBMRegressor__subsample=0.5; total time=   1.2s\n",
      "[CV 5/5] END LGBMRegressor__colsample_bytree=0.5, LGBMRegressor__learning_rate=0.3, LGBMRegressor__n_estimators=500, LGBMRegressor__num_leaves=20, LGBMRegressor__subsample=0.5; total time=   1.2s\n",
      "[CV 1/5] END LGBMRegressor__colsample_bytree=0.5, LGBMRegressor__learning_rate=0.3, LGBMRegressor__n_estimators=500, LGBMRegressor__num_leaves=20, LGBMRegressor__subsample=0.7; total time=   1.3s\n",
      "[CV 2/5] END LGBMRegressor__colsample_bytree=0.5, LGBMRegressor__learning_rate=0.3, LGBMRegressor__n_estimators=500, LGBMRegressor__num_leaves=20, LGBMRegressor__subsample=0.7; total time=   1.2s\n",
      "[CV 3/5] END LGBMRegressor__colsample_bytree=0.5, LGBMRegressor__learning_rate=0.3, LGBMRegressor__n_estimators=500, LGBMRegressor__num_leaves=20, LGBMRegressor__subsample=0.7; total time=   1.1s\n",
      "[CV 4/5] END LGBMRegressor__colsample_bytree=0.5, LGBMRegressor__learning_rate=0.3, LGBMRegressor__n_estimators=500, LGBMRegressor__num_leaves=20, LGBMRegressor__subsample=0.7; total time=   1.2s\n",
      "[CV 5/5] END LGBMRegressor__colsample_bytree=0.5, LGBMRegressor__learning_rate=0.3, LGBMRegressor__n_estimators=500, LGBMRegressor__num_leaves=20, LGBMRegressor__subsample=0.7; total time=   1.2s\n",
      "[CV 1/5] END LGBMRegressor__colsample_bytree=0.5, LGBMRegressor__learning_rate=0.3, LGBMRegressor__n_estimators=500, LGBMRegressor__num_leaves=30, LGBMRegressor__subsample=0.5; total time=   1.3s\n",
      "[CV 2/5] END LGBMRegressor__colsample_bytree=0.5, LGBMRegressor__learning_rate=0.3, LGBMRegressor__n_estimators=500, LGBMRegressor__num_leaves=30, LGBMRegressor__subsample=0.5; total time=   1.2s\n",
      "[CV 3/5] END LGBMRegressor__colsample_bytree=0.5, LGBMRegressor__learning_rate=0.3, LGBMRegressor__n_estimators=500, LGBMRegressor__num_leaves=30, LGBMRegressor__subsample=0.5; total time=   1.2s\n",
      "[CV 4/5] END LGBMRegressor__colsample_bytree=0.5, LGBMRegressor__learning_rate=0.3, LGBMRegressor__n_estimators=500, LGBMRegressor__num_leaves=30, LGBMRegressor__subsample=0.5; total time=   1.6s\n",
      "[CV 5/5] END LGBMRegressor__colsample_bytree=0.5, LGBMRegressor__learning_rate=0.3, LGBMRegressor__n_estimators=500, LGBMRegressor__num_leaves=30, LGBMRegressor__subsample=0.5; total time=   1.6s\n",
      "[CV 1/5] END LGBMRegressor__colsample_bytree=0.5, LGBMRegressor__learning_rate=0.3, LGBMRegressor__n_estimators=500, LGBMRegressor__num_leaves=30, LGBMRegressor__subsample=0.7; total time=   1.7s\n",
      "[CV 2/5] END LGBMRegressor__colsample_bytree=0.5, LGBMRegressor__learning_rate=0.3, LGBMRegressor__n_estimators=500, LGBMRegressor__num_leaves=30, LGBMRegressor__subsample=0.7; total time=   1.2s\n",
      "[CV 3/5] END LGBMRegressor__colsample_bytree=0.5, LGBMRegressor__learning_rate=0.3, LGBMRegressor__n_estimators=500, LGBMRegressor__num_leaves=30, LGBMRegressor__subsample=0.7; total time=   1.4s\n",
      "[CV 4/5] END LGBMRegressor__colsample_bytree=0.5, LGBMRegressor__learning_rate=0.3, LGBMRegressor__n_estimators=500, LGBMRegressor__num_leaves=30, LGBMRegressor__subsample=0.7; total time=   1.3s\n",
      "[CV 5/5] END LGBMRegressor__colsample_bytree=0.5, LGBMRegressor__learning_rate=0.3, LGBMRegressor__n_estimators=500, LGBMRegressor__num_leaves=30, LGBMRegressor__subsample=0.7; total time=   1.2s\n",
      "[CV 1/5] END LGBMRegressor__colsample_bytree=0.5, LGBMRegressor__learning_rate=0.3, LGBMRegressor__n_estimators=500, LGBMRegressor__num_leaves=40, LGBMRegressor__subsample=0.5; total time=   1.3s\n",
      "[CV 2/5] END LGBMRegressor__colsample_bytree=0.5, LGBMRegressor__learning_rate=0.3, LGBMRegressor__n_estimators=500, LGBMRegressor__num_leaves=40, LGBMRegressor__subsample=0.5; total time=   1.4s\n",
      "[CV 3/5] END LGBMRegressor__colsample_bytree=0.5, LGBMRegressor__learning_rate=0.3, LGBMRegressor__n_estimators=500, LGBMRegressor__num_leaves=40, LGBMRegressor__subsample=0.5; total time=   1.3s\n",
      "[CV 4/5] END LGBMRegressor__colsample_bytree=0.5, LGBMRegressor__learning_rate=0.3, LGBMRegressor__n_estimators=500, LGBMRegressor__num_leaves=40, LGBMRegressor__subsample=0.5; total time=   1.4s\n",
      "[CV 5/5] END LGBMRegressor__colsample_bytree=0.5, LGBMRegressor__learning_rate=0.3, LGBMRegressor__n_estimators=500, LGBMRegressor__num_leaves=40, LGBMRegressor__subsample=0.5; total time=   1.4s\n",
      "[CV 1/5] END LGBMRegressor__colsample_bytree=0.5, LGBMRegressor__learning_rate=0.3, LGBMRegressor__n_estimators=500, LGBMRegressor__num_leaves=40, LGBMRegressor__subsample=0.7; total time=   1.4s\n",
      "[CV 2/5] END LGBMRegressor__colsample_bytree=0.5, LGBMRegressor__learning_rate=0.3, LGBMRegressor__n_estimators=500, LGBMRegressor__num_leaves=40, LGBMRegressor__subsample=0.7; total time=   1.4s\n",
      "[CV 3/5] END LGBMRegressor__colsample_bytree=0.5, LGBMRegressor__learning_rate=0.3, LGBMRegressor__n_estimators=500, LGBMRegressor__num_leaves=40, LGBMRegressor__subsample=0.7; total time=   1.3s\n",
      "[CV 4/5] END LGBMRegressor__colsample_bytree=0.5, LGBMRegressor__learning_rate=0.3, LGBMRegressor__n_estimators=500, LGBMRegressor__num_leaves=40, LGBMRegressor__subsample=0.7; total time=   1.3s\n",
      "[CV 5/5] END LGBMRegressor__colsample_bytree=0.5, LGBMRegressor__learning_rate=0.3, LGBMRegressor__n_estimators=500, LGBMRegressor__num_leaves=40, LGBMRegressor__subsample=0.7; total time=   1.4s\n",
      "[CV 1/5] END LGBMRegressor__colsample_bytree=0.7, LGBMRegressor__learning_rate=0.01, LGBMRegressor__n_estimators=40, LGBMRegressor__num_leaves=20, LGBMRegressor__subsample=0.5; total time=   0.3s\n",
      "[CV 2/5] END LGBMRegressor__colsample_bytree=0.7, LGBMRegressor__learning_rate=0.01, LGBMRegressor__n_estimators=40, LGBMRegressor__num_leaves=20, LGBMRegressor__subsample=0.5; total time=   0.3s\n",
      "[CV 3/5] END LGBMRegressor__colsample_bytree=0.7, LGBMRegressor__learning_rate=0.01, LGBMRegressor__n_estimators=40, LGBMRegressor__num_leaves=20, LGBMRegressor__subsample=0.5; total time=   0.3s\n",
      "[CV 4/5] END LGBMRegressor__colsample_bytree=0.7, LGBMRegressor__learning_rate=0.01, LGBMRegressor__n_estimators=40, LGBMRegressor__num_leaves=20, LGBMRegressor__subsample=0.5; total time=   0.3s\n",
      "[CV 5/5] END LGBMRegressor__colsample_bytree=0.7, LGBMRegressor__learning_rate=0.01, LGBMRegressor__n_estimators=40, LGBMRegressor__num_leaves=20, LGBMRegressor__subsample=0.5; total time=   0.3s\n",
      "[CV 1/5] END LGBMRegressor__colsample_bytree=0.7, LGBMRegressor__learning_rate=0.01, LGBMRegressor__n_estimators=40, LGBMRegressor__num_leaves=20, LGBMRegressor__subsample=0.7; total time=   0.2s\n",
      "[CV 2/5] END LGBMRegressor__colsample_bytree=0.7, LGBMRegressor__learning_rate=0.01, LGBMRegressor__n_estimators=40, LGBMRegressor__num_leaves=20, LGBMRegressor__subsample=0.7; total time=   0.2s\n",
      "[CV 3/5] END LGBMRegressor__colsample_bytree=0.7, LGBMRegressor__learning_rate=0.01, LGBMRegressor__n_estimators=40, LGBMRegressor__num_leaves=20, LGBMRegressor__subsample=0.7; total time=   0.2s\n",
      "[CV 4/5] END LGBMRegressor__colsample_bytree=0.7, LGBMRegressor__learning_rate=0.01, LGBMRegressor__n_estimators=40, LGBMRegressor__num_leaves=20, LGBMRegressor__subsample=0.7; total time=   0.3s\n",
      "[CV 5/5] END LGBMRegressor__colsample_bytree=0.7, LGBMRegressor__learning_rate=0.01, LGBMRegressor__n_estimators=40, LGBMRegressor__num_leaves=20, LGBMRegressor__subsample=0.7; total time=   0.2s\n",
      "[CV 1/5] END LGBMRegressor__colsample_bytree=0.7, LGBMRegressor__learning_rate=0.01, LGBMRegressor__n_estimators=40, LGBMRegressor__num_leaves=30, LGBMRegressor__subsample=0.5; total time=   0.3s\n",
      "[CV 2/5] END LGBMRegressor__colsample_bytree=0.7, LGBMRegressor__learning_rate=0.01, LGBMRegressor__n_estimators=40, LGBMRegressor__num_leaves=30, LGBMRegressor__subsample=0.5; total time=   0.3s\n",
      "[CV 3/5] END LGBMRegressor__colsample_bytree=0.7, LGBMRegressor__learning_rate=0.01, LGBMRegressor__n_estimators=40, LGBMRegressor__num_leaves=30, LGBMRegressor__subsample=0.5; total time=   0.3s\n",
      "[CV 4/5] END LGBMRegressor__colsample_bytree=0.7, LGBMRegressor__learning_rate=0.01, LGBMRegressor__n_estimators=40, LGBMRegressor__num_leaves=30, LGBMRegressor__subsample=0.5; total time=   0.2s\n",
      "[CV 5/5] END LGBMRegressor__colsample_bytree=0.7, LGBMRegressor__learning_rate=0.01, LGBMRegressor__n_estimators=40, LGBMRegressor__num_leaves=30, LGBMRegressor__subsample=0.5; total time=   0.3s\n",
      "[CV 1/5] END LGBMRegressor__colsample_bytree=0.7, LGBMRegressor__learning_rate=0.01, LGBMRegressor__n_estimators=40, LGBMRegressor__num_leaves=30, LGBMRegressor__subsample=0.7; total time=   0.3s\n",
      "[CV 2/5] END LGBMRegressor__colsample_bytree=0.7, LGBMRegressor__learning_rate=0.01, LGBMRegressor__n_estimators=40, LGBMRegressor__num_leaves=30, LGBMRegressor__subsample=0.7; total time=   0.3s\n",
      "[CV 3/5] END LGBMRegressor__colsample_bytree=0.7, LGBMRegressor__learning_rate=0.01, LGBMRegressor__n_estimators=40, LGBMRegressor__num_leaves=30, LGBMRegressor__subsample=0.7; total time=   0.2s\n",
      "[CV 4/5] END LGBMRegressor__colsample_bytree=0.7, LGBMRegressor__learning_rate=0.01, LGBMRegressor__n_estimators=40, LGBMRegressor__num_leaves=30, LGBMRegressor__subsample=0.7; total time=   0.3s\n",
      "[CV 5/5] END LGBMRegressor__colsample_bytree=0.7, LGBMRegressor__learning_rate=0.01, LGBMRegressor__n_estimators=40, LGBMRegressor__num_leaves=30, LGBMRegressor__subsample=0.7; total time=   0.3s\n",
      "[CV 1/5] END LGBMRegressor__colsample_bytree=0.7, LGBMRegressor__learning_rate=0.01, LGBMRegressor__n_estimators=40, LGBMRegressor__num_leaves=40, LGBMRegressor__subsample=0.5; total time=   0.4s\n",
      "[CV 2/5] END LGBMRegressor__colsample_bytree=0.7, LGBMRegressor__learning_rate=0.01, LGBMRegressor__n_estimators=40, LGBMRegressor__num_leaves=40, LGBMRegressor__subsample=0.5; total time=   0.2s\n",
      "[CV 3/5] END LGBMRegressor__colsample_bytree=0.7, LGBMRegressor__learning_rate=0.01, LGBMRegressor__n_estimators=40, LGBMRegressor__num_leaves=40, LGBMRegressor__subsample=0.5; total time=   0.4s\n",
      "[CV 4/5] END LGBMRegressor__colsample_bytree=0.7, LGBMRegressor__learning_rate=0.01, LGBMRegressor__n_estimators=40, LGBMRegressor__num_leaves=40, LGBMRegressor__subsample=0.5; total time=   0.3s\n",
      "[CV 5/5] END LGBMRegressor__colsample_bytree=0.7, LGBMRegressor__learning_rate=0.01, LGBMRegressor__n_estimators=40, LGBMRegressor__num_leaves=40, LGBMRegressor__subsample=0.5; total time=   0.3s\n",
      "[CV 1/5] END LGBMRegressor__colsample_bytree=0.7, LGBMRegressor__learning_rate=0.01, LGBMRegressor__n_estimators=40, LGBMRegressor__num_leaves=40, LGBMRegressor__subsample=0.7; total time=   0.4s\n",
      "[CV 2/5] END LGBMRegressor__colsample_bytree=0.7, LGBMRegressor__learning_rate=0.01, LGBMRegressor__n_estimators=40, LGBMRegressor__num_leaves=40, LGBMRegressor__subsample=0.7; total time=   0.4s\n",
      "[CV 3/5] END LGBMRegressor__colsample_bytree=0.7, LGBMRegressor__learning_rate=0.01, LGBMRegressor__n_estimators=40, LGBMRegressor__num_leaves=40, LGBMRegressor__subsample=0.7; total time=   0.3s\n",
      "[CV 4/5] END LGBMRegressor__colsample_bytree=0.7, LGBMRegressor__learning_rate=0.01, LGBMRegressor__n_estimators=40, LGBMRegressor__num_leaves=40, LGBMRegressor__subsample=0.7; total time=   0.3s\n",
      "[CV 5/5] END LGBMRegressor__colsample_bytree=0.7, LGBMRegressor__learning_rate=0.01, LGBMRegressor__n_estimators=40, LGBMRegressor__num_leaves=40, LGBMRegressor__subsample=0.7; total time=   0.3s\n",
      "[CV 1/5] END LGBMRegressor__colsample_bytree=0.7, LGBMRegressor__learning_rate=0.01, LGBMRegressor__n_estimators=200, LGBMRegressor__num_leaves=20, LGBMRegressor__subsample=0.5; total time=   0.9s\n",
      "[CV 2/5] END LGBMRegressor__colsample_bytree=0.7, LGBMRegressor__learning_rate=0.01, LGBMRegressor__n_estimators=200, LGBMRegressor__num_leaves=20, LGBMRegressor__subsample=0.5; total time=   1.1s\n",
      "[CV 3/5] END LGBMRegressor__colsample_bytree=0.7, LGBMRegressor__learning_rate=0.01, LGBMRegressor__n_estimators=200, LGBMRegressor__num_leaves=20, LGBMRegressor__subsample=0.5; total time=   0.8s\n",
      "[CV 4/5] END LGBMRegressor__colsample_bytree=0.7, LGBMRegressor__learning_rate=0.01, LGBMRegressor__n_estimators=200, LGBMRegressor__num_leaves=20, LGBMRegressor__subsample=0.5; total time=   0.8s\n",
      "[CV 5/5] END LGBMRegressor__colsample_bytree=0.7, LGBMRegressor__learning_rate=0.01, LGBMRegressor__n_estimators=200, LGBMRegressor__num_leaves=20, LGBMRegressor__subsample=0.5; total time=   0.9s\n",
      "[CV 1/5] END LGBMRegressor__colsample_bytree=0.7, LGBMRegressor__learning_rate=0.01, LGBMRegressor__n_estimators=200, LGBMRegressor__num_leaves=20, LGBMRegressor__subsample=0.7; total time=   0.9s\n",
      "[CV 2/5] END LGBMRegressor__colsample_bytree=0.7, LGBMRegressor__learning_rate=0.01, LGBMRegressor__n_estimators=200, LGBMRegressor__num_leaves=20, LGBMRegressor__subsample=0.7; total time=   1.1s\n",
      "[CV 3/5] END LGBMRegressor__colsample_bytree=0.7, LGBMRegressor__learning_rate=0.01, LGBMRegressor__n_estimators=200, LGBMRegressor__num_leaves=20, LGBMRegressor__subsample=0.7; total time=   0.9s\n",
      "[CV 4/5] END LGBMRegressor__colsample_bytree=0.7, LGBMRegressor__learning_rate=0.01, LGBMRegressor__n_estimators=200, LGBMRegressor__num_leaves=20, LGBMRegressor__subsample=0.7; total time=   1.0s\n",
      "[CV 5/5] END LGBMRegressor__colsample_bytree=0.7, LGBMRegressor__learning_rate=0.01, LGBMRegressor__n_estimators=200, LGBMRegressor__num_leaves=20, LGBMRegressor__subsample=0.7; total time=   1.0s\n",
      "[CV 1/5] END LGBMRegressor__colsample_bytree=0.7, LGBMRegressor__learning_rate=0.01, LGBMRegressor__n_estimators=200, LGBMRegressor__num_leaves=30, LGBMRegressor__subsample=0.5; total time=   1.2s\n",
      "[CV 2/5] END LGBMRegressor__colsample_bytree=0.7, LGBMRegressor__learning_rate=0.01, LGBMRegressor__n_estimators=200, LGBMRegressor__num_leaves=30, LGBMRegressor__subsample=0.5; total time=   1.2s\n",
      "[CV 3/5] END LGBMRegressor__colsample_bytree=0.7, LGBMRegressor__learning_rate=0.01, LGBMRegressor__n_estimators=200, LGBMRegressor__num_leaves=30, LGBMRegressor__subsample=0.5; total time=   0.9s\n",
      "[CV 4/5] END LGBMRegressor__colsample_bytree=0.7, LGBMRegressor__learning_rate=0.01, LGBMRegressor__n_estimators=200, LGBMRegressor__num_leaves=30, LGBMRegressor__subsample=0.5; total time=   0.9s\n",
      "[CV 5/5] END LGBMRegressor__colsample_bytree=0.7, LGBMRegressor__learning_rate=0.01, LGBMRegressor__n_estimators=200, LGBMRegressor__num_leaves=30, LGBMRegressor__subsample=0.5; total time=   1.1s\n",
      "[CV 1/5] END LGBMRegressor__colsample_bytree=0.7, LGBMRegressor__learning_rate=0.01, LGBMRegressor__n_estimators=200, LGBMRegressor__num_leaves=30, LGBMRegressor__subsample=0.7; total time=   1.1s\n",
      "[CV 2/5] END LGBMRegressor__colsample_bytree=0.7, LGBMRegressor__learning_rate=0.01, LGBMRegressor__n_estimators=200, LGBMRegressor__num_leaves=30, LGBMRegressor__subsample=0.7; total time=   1.2s\n",
      "[CV 3/5] END LGBMRegressor__colsample_bytree=0.7, LGBMRegressor__learning_rate=0.01, LGBMRegressor__n_estimators=200, LGBMRegressor__num_leaves=30, LGBMRegressor__subsample=0.7; total time=   0.9s\n",
      "[CV 4/5] END LGBMRegressor__colsample_bytree=0.7, LGBMRegressor__learning_rate=0.01, LGBMRegressor__n_estimators=200, LGBMRegressor__num_leaves=30, LGBMRegressor__subsample=0.7; total time=   1.1s\n",
      "[CV 5/5] END LGBMRegressor__colsample_bytree=0.7, LGBMRegressor__learning_rate=0.01, LGBMRegressor__n_estimators=200, LGBMRegressor__num_leaves=30, LGBMRegressor__subsample=0.7; total time=   1.0s\n",
      "[CV 1/5] END LGBMRegressor__colsample_bytree=0.7, LGBMRegressor__learning_rate=0.01, LGBMRegressor__n_estimators=200, LGBMRegressor__num_leaves=40, LGBMRegressor__subsample=0.5; total time=   1.0s\n",
      "[CV 2/5] END LGBMRegressor__colsample_bytree=0.7, LGBMRegressor__learning_rate=0.01, LGBMRegressor__n_estimators=200, LGBMRegressor__num_leaves=40, LGBMRegressor__subsample=0.5; total time=   1.1s\n",
      "[CV 3/5] END LGBMRegressor__colsample_bytree=0.7, LGBMRegressor__learning_rate=0.01, LGBMRegressor__n_estimators=200, LGBMRegressor__num_leaves=40, LGBMRegressor__subsample=0.5; total time=   1.0s\n",
      "[CV 4/5] END LGBMRegressor__colsample_bytree=0.7, LGBMRegressor__learning_rate=0.01, LGBMRegressor__n_estimators=200, LGBMRegressor__num_leaves=40, LGBMRegressor__subsample=0.5; total time=   1.1s\n",
      "[CV 5/5] END LGBMRegressor__colsample_bytree=0.7, LGBMRegressor__learning_rate=0.01, LGBMRegressor__n_estimators=200, LGBMRegressor__num_leaves=40, LGBMRegressor__subsample=0.5; total time=   1.0s\n",
      "[CV 1/5] END LGBMRegressor__colsample_bytree=0.7, LGBMRegressor__learning_rate=0.01, LGBMRegressor__n_estimators=200, LGBMRegressor__num_leaves=40, LGBMRegressor__subsample=0.7; total time=   1.1s\n",
      "[CV 2/5] END LGBMRegressor__colsample_bytree=0.7, LGBMRegressor__learning_rate=0.01, LGBMRegressor__n_estimators=200, LGBMRegressor__num_leaves=40, LGBMRegressor__subsample=0.7; total time=   1.1s\n",
      "[CV 3/5] END LGBMRegressor__colsample_bytree=0.7, LGBMRegressor__learning_rate=0.01, LGBMRegressor__n_estimators=200, LGBMRegressor__num_leaves=40, LGBMRegressor__subsample=0.7; total time=   1.0s\n",
      "[CV 4/5] END LGBMRegressor__colsample_bytree=0.7, LGBMRegressor__learning_rate=0.01, LGBMRegressor__n_estimators=200, LGBMRegressor__num_leaves=40, LGBMRegressor__subsample=0.7; total time=   1.0s\n",
      "[CV 5/5] END LGBMRegressor__colsample_bytree=0.7, LGBMRegressor__learning_rate=0.01, LGBMRegressor__n_estimators=200, LGBMRegressor__num_leaves=40, LGBMRegressor__subsample=0.7; total time=   1.1s\n",
      "[CV 1/5] END LGBMRegressor__colsample_bytree=0.7, LGBMRegressor__learning_rate=0.01, LGBMRegressor__n_estimators=500, LGBMRegressor__num_leaves=20, LGBMRegressor__subsample=0.5; total time=   1.9s\n",
      "[CV 2/5] END LGBMRegressor__colsample_bytree=0.7, LGBMRegressor__learning_rate=0.01, LGBMRegressor__n_estimators=500, LGBMRegressor__num_leaves=20, LGBMRegressor__subsample=0.5; total time=   1.9s\n",
      "[CV 3/5] END LGBMRegressor__colsample_bytree=0.7, LGBMRegressor__learning_rate=0.01, LGBMRegressor__n_estimators=500, LGBMRegressor__num_leaves=20, LGBMRegressor__subsample=0.5; total time=   1.9s\n",
      "[CV 4/5] END LGBMRegressor__colsample_bytree=0.7, LGBMRegressor__learning_rate=0.01, LGBMRegressor__n_estimators=500, LGBMRegressor__num_leaves=20, LGBMRegressor__subsample=0.5; total time=   1.8s\n",
      "[CV 5/5] END LGBMRegressor__colsample_bytree=0.7, LGBMRegressor__learning_rate=0.01, LGBMRegressor__n_estimators=500, LGBMRegressor__num_leaves=20, LGBMRegressor__subsample=0.5; total time=   1.9s\n",
      "[CV 1/5] END LGBMRegressor__colsample_bytree=0.7, LGBMRegressor__learning_rate=0.01, LGBMRegressor__n_estimators=500, LGBMRegressor__num_leaves=20, LGBMRegressor__subsample=0.7; total time=   2.2s\n",
      "[CV 2/5] END LGBMRegressor__colsample_bytree=0.7, LGBMRegressor__learning_rate=0.01, LGBMRegressor__n_estimators=500, LGBMRegressor__num_leaves=20, LGBMRegressor__subsample=0.7; total time=   2.3s\n",
      "[CV 3/5] END LGBMRegressor__colsample_bytree=0.7, LGBMRegressor__learning_rate=0.01, LGBMRegressor__n_estimators=500, LGBMRegressor__num_leaves=20, LGBMRegressor__subsample=0.7; total time=   2.0s\n",
      "[CV 4/5] END LGBMRegressor__colsample_bytree=0.7, LGBMRegressor__learning_rate=0.01, LGBMRegressor__n_estimators=500, LGBMRegressor__num_leaves=20, LGBMRegressor__subsample=0.7; total time=   2.0s\n",
      "[CV 5/5] END LGBMRegressor__colsample_bytree=0.7, LGBMRegressor__learning_rate=0.01, LGBMRegressor__n_estimators=500, LGBMRegressor__num_leaves=20, LGBMRegressor__subsample=0.7; total time=   2.0s\n",
      "[CV 1/5] END LGBMRegressor__colsample_bytree=0.7, LGBMRegressor__learning_rate=0.01, LGBMRegressor__n_estimators=500, LGBMRegressor__num_leaves=30, LGBMRegressor__subsample=0.5; total time=   2.1s\n",
      "[CV 2/5] END LGBMRegressor__colsample_bytree=0.7, LGBMRegressor__learning_rate=0.01, LGBMRegressor__n_estimators=500, LGBMRegressor__num_leaves=30, LGBMRegressor__subsample=0.5; total time=   3.2s\n",
      "[CV 3/5] END LGBMRegressor__colsample_bytree=0.7, LGBMRegressor__learning_rate=0.01, LGBMRegressor__n_estimators=500, LGBMRegressor__num_leaves=30, LGBMRegressor__subsample=0.5; total time=   2.7s\n",
      "[CV 4/5] END LGBMRegressor__colsample_bytree=0.7, LGBMRegressor__learning_rate=0.01, LGBMRegressor__n_estimators=500, LGBMRegressor__num_leaves=30, LGBMRegressor__subsample=0.5; total time=   3.9s\n",
      "[CV 5/5] END LGBMRegressor__colsample_bytree=0.7, LGBMRegressor__learning_rate=0.01, LGBMRegressor__n_estimators=500, LGBMRegressor__num_leaves=30, LGBMRegressor__subsample=0.5; total time=   3.0s\n",
      "[CV 1/5] END LGBMRegressor__colsample_bytree=0.7, LGBMRegressor__learning_rate=0.01, LGBMRegressor__n_estimators=500, LGBMRegressor__num_leaves=30, LGBMRegressor__subsample=0.7; total time=   2.8s\n",
      "[CV 2/5] END LGBMRegressor__colsample_bytree=0.7, LGBMRegressor__learning_rate=0.01, LGBMRegressor__n_estimators=500, LGBMRegressor__num_leaves=30, LGBMRegressor__subsample=0.7; total time=   2.4s\n",
      "[CV 3/5] END LGBMRegressor__colsample_bytree=0.7, LGBMRegressor__learning_rate=0.01, LGBMRegressor__n_estimators=500, LGBMRegressor__num_leaves=30, LGBMRegressor__subsample=0.7; total time=   2.2s\n",
      "[CV 4/5] END LGBMRegressor__colsample_bytree=0.7, LGBMRegressor__learning_rate=0.01, LGBMRegressor__n_estimators=500, LGBMRegressor__num_leaves=30, LGBMRegressor__subsample=0.7; total time=   2.5s\n",
      "[CV 5/5] END LGBMRegressor__colsample_bytree=0.7, LGBMRegressor__learning_rate=0.01, LGBMRegressor__n_estimators=500, LGBMRegressor__num_leaves=30, LGBMRegressor__subsample=0.7; total time=   2.7s\n",
      "[CV 1/5] END LGBMRegressor__colsample_bytree=0.7, LGBMRegressor__learning_rate=0.01, LGBMRegressor__n_estimators=500, LGBMRegressor__num_leaves=40, LGBMRegressor__subsample=0.5; total time=   2.8s\n",
      "[CV 2/5] END LGBMRegressor__colsample_bytree=0.7, LGBMRegressor__learning_rate=0.01, LGBMRegressor__n_estimators=500, LGBMRegressor__num_leaves=40, LGBMRegressor__subsample=0.5; total time=   2.5s\n",
      "[CV 3/5] END LGBMRegressor__colsample_bytree=0.7, LGBMRegressor__learning_rate=0.01, LGBMRegressor__n_estimators=500, LGBMRegressor__num_leaves=40, LGBMRegressor__subsample=0.5; total time=   2.5s\n",
      "[CV 4/5] END LGBMRegressor__colsample_bytree=0.7, LGBMRegressor__learning_rate=0.01, LGBMRegressor__n_estimators=500, LGBMRegressor__num_leaves=40, LGBMRegressor__subsample=0.5; total time=   2.3s\n",
      "[CV 5/5] END LGBMRegressor__colsample_bytree=0.7, LGBMRegressor__learning_rate=0.01, LGBMRegressor__n_estimators=500, LGBMRegressor__num_leaves=40, LGBMRegressor__subsample=0.5; total time=   2.3s\n",
      "[CV 1/5] END LGBMRegressor__colsample_bytree=0.7, LGBMRegressor__learning_rate=0.01, LGBMRegressor__n_estimators=500, LGBMRegressor__num_leaves=40, LGBMRegressor__subsample=0.7; total time=   2.3s\n",
      "[CV 2/5] END LGBMRegressor__colsample_bytree=0.7, LGBMRegressor__learning_rate=0.01, LGBMRegressor__n_estimators=500, LGBMRegressor__num_leaves=40, LGBMRegressor__subsample=0.7; total time=   2.4s\n",
      "[CV 3/5] END LGBMRegressor__colsample_bytree=0.7, LGBMRegressor__learning_rate=0.01, LGBMRegressor__n_estimators=500, LGBMRegressor__num_leaves=40, LGBMRegressor__subsample=0.7; total time=   2.3s\n",
      "[CV 4/5] END LGBMRegressor__colsample_bytree=0.7, LGBMRegressor__learning_rate=0.01, LGBMRegressor__n_estimators=500, LGBMRegressor__num_leaves=40, LGBMRegressor__subsample=0.7; total time=   2.3s\n",
      "[CV 5/5] END LGBMRegressor__colsample_bytree=0.7, LGBMRegressor__learning_rate=0.01, LGBMRegressor__n_estimators=500, LGBMRegressor__num_leaves=40, LGBMRegressor__subsample=0.7; total time=   2.3s\n",
      "[CV 1/5] END LGBMRegressor__colsample_bytree=0.7, LGBMRegressor__learning_rate=0.3, LGBMRegressor__n_estimators=40, LGBMRegressor__num_leaves=20, LGBMRegressor__subsample=0.5; total time=   0.2s\n",
      "[CV 2/5] END LGBMRegressor__colsample_bytree=0.7, LGBMRegressor__learning_rate=0.3, LGBMRegressor__n_estimators=40, LGBMRegressor__num_leaves=20, LGBMRegressor__subsample=0.5; total time=   0.2s\n",
      "[CV 3/5] END LGBMRegressor__colsample_bytree=0.7, LGBMRegressor__learning_rate=0.3, LGBMRegressor__n_estimators=40, LGBMRegressor__num_leaves=20, LGBMRegressor__subsample=0.5; total time=   0.2s\n",
      "[CV 4/5] END LGBMRegressor__colsample_bytree=0.7, LGBMRegressor__learning_rate=0.3, LGBMRegressor__n_estimators=40, LGBMRegressor__num_leaves=20, LGBMRegressor__subsample=0.5; total time=   0.2s\n",
      "[CV 5/5] END LGBMRegressor__colsample_bytree=0.7, LGBMRegressor__learning_rate=0.3, LGBMRegressor__n_estimators=40, LGBMRegressor__num_leaves=20, LGBMRegressor__subsample=0.5; total time=   0.2s\n",
      "[CV 1/5] END LGBMRegressor__colsample_bytree=0.7, LGBMRegressor__learning_rate=0.3, LGBMRegressor__n_estimators=40, LGBMRegressor__num_leaves=20, LGBMRegressor__subsample=0.7; total time=   0.2s\n",
      "[CV 2/5] END LGBMRegressor__colsample_bytree=0.7, LGBMRegressor__learning_rate=0.3, LGBMRegressor__n_estimators=40, LGBMRegressor__num_leaves=20, LGBMRegressor__subsample=0.7; total time=   0.2s\n",
      "[CV 3/5] END LGBMRegressor__colsample_bytree=0.7, LGBMRegressor__learning_rate=0.3, LGBMRegressor__n_estimators=40, LGBMRegressor__num_leaves=20, LGBMRegressor__subsample=0.7; total time=   0.2s\n",
      "[CV 4/5] END LGBMRegressor__colsample_bytree=0.7, LGBMRegressor__learning_rate=0.3, LGBMRegressor__n_estimators=40, LGBMRegressor__num_leaves=20, LGBMRegressor__subsample=0.7; total time=   0.2s\n",
      "[CV 5/5] END LGBMRegressor__colsample_bytree=0.7, LGBMRegressor__learning_rate=0.3, LGBMRegressor__n_estimators=40, LGBMRegressor__num_leaves=20, LGBMRegressor__subsample=0.7; total time=   0.2s\n",
      "[CV 1/5] END LGBMRegressor__colsample_bytree=0.7, LGBMRegressor__learning_rate=0.3, LGBMRegressor__n_estimators=40, LGBMRegressor__num_leaves=30, LGBMRegressor__subsample=0.5; total time=   0.2s\n",
      "[CV 2/5] END LGBMRegressor__colsample_bytree=0.7, LGBMRegressor__learning_rate=0.3, LGBMRegressor__n_estimators=40, LGBMRegressor__num_leaves=30, LGBMRegressor__subsample=0.5; total time=   0.2s\n",
      "[CV 3/5] END LGBMRegressor__colsample_bytree=0.7, LGBMRegressor__learning_rate=0.3, LGBMRegressor__n_estimators=40, LGBMRegressor__num_leaves=30, LGBMRegressor__subsample=0.5; total time=   0.2s\n",
      "[CV 4/5] END LGBMRegressor__colsample_bytree=0.7, LGBMRegressor__learning_rate=0.3, LGBMRegressor__n_estimators=40, LGBMRegressor__num_leaves=30, LGBMRegressor__subsample=0.5; total time=   0.2s\n",
      "[CV 5/5] END LGBMRegressor__colsample_bytree=0.7, LGBMRegressor__learning_rate=0.3, LGBMRegressor__n_estimators=40, LGBMRegressor__num_leaves=30, LGBMRegressor__subsample=0.5; total time=   0.2s\n",
      "[CV 1/5] END LGBMRegressor__colsample_bytree=0.7, LGBMRegressor__learning_rate=0.3, LGBMRegressor__n_estimators=40, LGBMRegressor__num_leaves=30, LGBMRegressor__subsample=0.7; total time=   0.2s\n",
      "[CV 2/5] END LGBMRegressor__colsample_bytree=0.7, LGBMRegressor__learning_rate=0.3, LGBMRegressor__n_estimators=40, LGBMRegressor__num_leaves=30, LGBMRegressor__subsample=0.7; total time=   0.2s\n",
      "[CV 3/5] END LGBMRegressor__colsample_bytree=0.7, LGBMRegressor__learning_rate=0.3, LGBMRegressor__n_estimators=40, LGBMRegressor__num_leaves=30, LGBMRegressor__subsample=0.7; total time=   0.2s\n",
      "[CV 4/5] END LGBMRegressor__colsample_bytree=0.7, LGBMRegressor__learning_rate=0.3, LGBMRegressor__n_estimators=40, LGBMRegressor__num_leaves=30, LGBMRegressor__subsample=0.7; total time=   0.2s\n",
      "[CV 5/5] END LGBMRegressor__colsample_bytree=0.7, LGBMRegressor__learning_rate=0.3, LGBMRegressor__n_estimators=40, LGBMRegressor__num_leaves=30, LGBMRegressor__subsample=0.7; total time=   0.2s\n",
      "[CV 1/5] END LGBMRegressor__colsample_bytree=0.7, LGBMRegressor__learning_rate=0.3, LGBMRegressor__n_estimators=40, LGBMRegressor__num_leaves=40, LGBMRegressor__subsample=0.5; total time=   0.2s\n",
      "[CV 2/5] END LGBMRegressor__colsample_bytree=0.7, LGBMRegressor__learning_rate=0.3, LGBMRegressor__n_estimators=40, LGBMRegressor__num_leaves=40, LGBMRegressor__subsample=0.5; total time=   0.2s\n",
      "[CV 3/5] END LGBMRegressor__colsample_bytree=0.7, LGBMRegressor__learning_rate=0.3, LGBMRegressor__n_estimators=40, LGBMRegressor__num_leaves=40, LGBMRegressor__subsample=0.5; total time=   0.3s\n",
      "[CV 4/5] END LGBMRegressor__colsample_bytree=0.7, LGBMRegressor__learning_rate=0.3, LGBMRegressor__n_estimators=40, LGBMRegressor__num_leaves=40, LGBMRegressor__subsample=0.5; total time=   0.2s\n",
      "[CV 5/5] END LGBMRegressor__colsample_bytree=0.7, LGBMRegressor__learning_rate=0.3, LGBMRegressor__n_estimators=40, LGBMRegressor__num_leaves=40, LGBMRegressor__subsample=0.5; total time=   0.2s\n",
      "[CV 1/5] END LGBMRegressor__colsample_bytree=0.7, LGBMRegressor__learning_rate=0.3, LGBMRegressor__n_estimators=40, LGBMRegressor__num_leaves=40, LGBMRegressor__subsample=0.7; total time=   0.2s\n",
      "[CV 2/5] END LGBMRegressor__colsample_bytree=0.7, LGBMRegressor__learning_rate=0.3, LGBMRegressor__n_estimators=40, LGBMRegressor__num_leaves=40, LGBMRegressor__subsample=0.7; total time=   0.3s\n",
      "[CV 3/5] END LGBMRegressor__colsample_bytree=0.7, LGBMRegressor__learning_rate=0.3, LGBMRegressor__n_estimators=40, LGBMRegressor__num_leaves=40, LGBMRegressor__subsample=0.7; total time=   0.3s\n",
      "[CV 4/5] END LGBMRegressor__colsample_bytree=0.7, LGBMRegressor__learning_rate=0.3, LGBMRegressor__n_estimators=40, LGBMRegressor__num_leaves=40, LGBMRegressor__subsample=0.7; total time=   0.3s\n",
      "[CV 5/5] END LGBMRegressor__colsample_bytree=0.7, LGBMRegressor__learning_rate=0.3, LGBMRegressor__n_estimators=40, LGBMRegressor__num_leaves=40, LGBMRegressor__subsample=0.7; total time=   0.3s\n",
      "[CV 1/5] END LGBMRegressor__colsample_bytree=0.7, LGBMRegressor__learning_rate=0.3, LGBMRegressor__n_estimators=200, LGBMRegressor__num_leaves=20, LGBMRegressor__subsample=0.5; total time=   0.7s\n",
      "[CV 2/5] END LGBMRegressor__colsample_bytree=0.7, LGBMRegressor__learning_rate=0.3, LGBMRegressor__n_estimators=200, LGBMRegressor__num_leaves=20, LGBMRegressor__subsample=0.5; total time=   0.7s\n",
      "[CV 3/5] END LGBMRegressor__colsample_bytree=0.7, LGBMRegressor__learning_rate=0.3, LGBMRegressor__n_estimators=200, LGBMRegressor__num_leaves=20, LGBMRegressor__subsample=0.5; total time=   0.7s\n",
      "[CV 4/5] END LGBMRegressor__colsample_bytree=0.7, LGBMRegressor__learning_rate=0.3, LGBMRegressor__n_estimators=200, LGBMRegressor__num_leaves=20, LGBMRegressor__subsample=0.5; total time=   0.7s\n",
      "[CV 5/5] END LGBMRegressor__colsample_bytree=0.7, LGBMRegressor__learning_rate=0.3, LGBMRegressor__n_estimators=200, LGBMRegressor__num_leaves=20, LGBMRegressor__subsample=0.5; total time=   0.7s\n",
      "[CV 1/5] END LGBMRegressor__colsample_bytree=0.7, LGBMRegressor__learning_rate=0.3, LGBMRegressor__n_estimators=200, LGBMRegressor__num_leaves=20, LGBMRegressor__subsample=0.7; total time=   0.7s\n",
      "[CV 2/5] END LGBMRegressor__colsample_bytree=0.7, LGBMRegressor__learning_rate=0.3, LGBMRegressor__n_estimators=200, LGBMRegressor__num_leaves=20, LGBMRegressor__subsample=0.7; total time=   0.7s\n",
      "[CV 3/5] END LGBMRegressor__colsample_bytree=0.7, LGBMRegressor__learning_rate=0.3, LGBMRegressor__n_estimators=200, LGBMRegressor__num_leaves=20, LGBMRegressor__subsample=0.7; total time=   0.7s\n",
      "[CV 4/5] END LGBMRegressor__colsample_bytree=0.7, LGBMRegressor__learning_rate=0.3, LGBMRegressor__n_estimators=200, LGBMRegressor__num_leaves=20, LGBMRegressor__subsample=0.7; total time=   0.7s\n",
      "[CV 5/5] END LGBMRegressor__colsample_bytree=0.7, LGBMRegressor__learning_rate=0.3, LGBMRegressor__n_estimators=200, LGBMRegressor__num_leaves=20, LGBMRegressor__subsample=0.7; total time=   0.7s\n",
      "[CV 1/5] END LGBMRegressor__colsample_bytree=0.7, LGBMRegressor__learning_rate=0.3, LGBMRegressor__n_estimators=200, LGBMRegressor__num_leaves=30, LGBMRegressor__subsample=0.5; total time=   0.8s\n",
      "[CV 2/5] END LGBMRegressor__colsample_bytree=0.7, LGBMRegressor__learning_rate=0.3, LGBMRegressor__n_estimators=200, LGBMRegressor__num_leaves=30, LGBMRegressor__subsample=0.5; total time=   0.8s\n",
      "[CV 3/5] END LGBMRegressor__colsample_bytree=0.7, LGBMRegressor__learning_rate=0.3, LGBMRegressor__n_estimators=200, LGBMRegressor__num_leaves=30, LGBMRegressor__subsample=0.5; total time=   0.6s\n",
      "[CV 4/5] END LGBMRegressor__colsample_bytree=0.7, LGBMRegressor__learning_rate=0.3, LGBMRegressor__n_estimators=200, LGBMRegressor__num_leaves=30, LGBMRegressor__subsample=0.5; total time=   0.6s\n",
      "[CV 5/5] END LGBMRegressor__colsample_bytree=0.7, LGBMRegressor__learning_rate=0.3, LGBMRegressor__n_estimators=200, LGBMRegressor__num_leaves=30, LGBMRegressor__subsample=0.5; total time=   0.6s\n",
      "[CV 1/5] END LGBMRegressor__colsample_bytree=0.7, LGBMRegressor__learning_rate=0.3, LGBMRegressor__n_estimators=200, LGBMRegressor__num_leaves=30, LGBMRegressor__subsample=0.7; total time=   0.6s\n",
      "[CV 2/5] END LGBMRegressor__colsample_bytree=0.7, LGBMRegressor__learning_rate=0.3, LGBMRegressor__n_estimators=200, LGBMRegressor__num_leaves=30, LGBMRegressor__subsample=0.7; total time=   0.6s\n",
      "[CV 3/5] END LGBMRegressor__colsample_bytree=0.7, LGBMRegressor__learning_rate=0.3, LGBMRegressor__n_estimators=200, LGBMRegressor__num_leaves=30, LGBMRegressor__subsample=0.7; total time=   0.6s\n",
      "[CV 4/5] END LGBMRegressor__colsample_bytree=0.7, LGBMRegressor__learning_rate=0.3, LGBMRegressor__n_estimators=200, LGBMRegressor__num_leaves=30, LGBMRegressor__subsample=0.7; total time=   0.6s\n",
      "[CV 5/5] END LGBMRegressor__colsample_bytree=0.7, LGBMRegressor__learning_rate=0.3, LGBMRegressor__n_estimators=200, LGBMRegressor__num_leaves=30, LGBMRegressor__subsample=0.7; total time=   0.6s\n",
      "[CV 1/5] END LGBMRegressor__colsample_bytree=0.7, LGBMRegressor__learning_rate=0.3, LGBMRegressor__n_estimators=200, LGBMRegressor__num_leaves=40, LGBMRegressor__subsample=0.5; total time=   0.7s\n",
      "[CV 2/5] END LGBMRegressor__colsample_bytree=0.7, LGBMRegressor__learning_rate=0.3, LGBMRegressor__n_estimators=200, LGBMRegressor__num_leaves=40, LGBMRegressor__subsample=0.5; total time=   0.7s\n",
      "[CV 3/5] END LGBMRegressor__colsample_bytree=0.7, LGBMRegressor__learning_rate=0.3, LGBMRegressor__n_estimators=200, LGBMRegressor__num_leaves=40, LGBMRegressor__subsample=0.5; total time=   0.7s\n",
      "[CV 4/5] END LGBMRegressor__colsample_bytree=0.7, LGBMRegressor__learning_rate=0.3, LGBMRegressor__n_estimators=200, LGBMRegressor__num_leaves=40, LGBMRegressor__subsample=0.5; total time=   0.7s\n",
      "[CV 5/5] END LGBMRegressor__colsample_bytree=0.7, LGBMRegressor__learning_rate=0.3, LGBMRegressor__n_estimators=200, LGBMRegressor__num_leaves=40, LGBMRegressor__subsample=0.5; total time=   0.6s\n",
      "[CV 1/5] END LGBMRegressor__colsample_bytree=0.7, LGBMRegressor__learning_rate=0.3, LGBMRegressor__n_estimators=200, LGBMRegressor__num_leaves=40, LGBMRegressor__subsample=0.7; total time=   0.7s\n",
      "[CV 2/5] END LGBMRegressor__colsample_bytree=0.7, LGBMRegressor__learning_rate=0.3, LGBMRegressor__n_estimators=200, LGBMRegressor__num_leaves=40, LGBMRegressor__subsample=0.7; total time=   0.7s\n",
      "[CV 3/5] END LGBMRegressor__colsample_bytree=0.7, LGBMRegressor__learning_rate=0.3, LGBMRegressor__n_estimators=200, LGBMRegressor__num_leaves=40, LGBMRegressor__subsample=0.7; total time=   0.6s\n",
      "[CV 4/5] END LGBMRegressor__colsample_bytree=0.7, LGBMRegressor__learning_rate=0.3, LGBMRegressor__n_estimators=200, LGBMRegressor__num_leaves=40, LGBMRegressor__subsample=0.7; total time=   0.7s\n",
      "[CV 5/5] END LGBMRegressor__colsample_bytree=0.7, LGBMRegressor__learning_rate=0.3, LGBMRegressor__n_estimators=200, LGBMRegressor__num_leaves=40, LGBMRegressor__subsample=0.7; total time=   0.6s\n",
      "[CV 1/5] END LGBMRegressor__colsample_bytree=0.7, LGBMRegressor__learning_rate=0.3, LGBMRegressor__n_estimators=500, LGBMRegressor__num_leaves=20, LGBMRegressor__subsample=0.5; total time=   1.2s\n",
      "[CV 2/5] END LGBMRegressor__colsample_bytree=0.7, LGBMRegressor__learning_rate=0.3, LGBMRegressor__n_estimators=500, LGBMRegressor__num_leaves=20, LGBMRegressor__subsample=0.5; total time=   1.1s\n",
      "[CV 3/5] END LGBMRegressor__colsample_bytree=0.7, LGBMRegressor__learning_rate=0.3, LGBMRegressor__n_estimators=500, LGBMRegressor__num_leaves=20, LGBMRegressor__subsample=0.5; total time=   1.2s\n",
      "[CV 4/5] END LGBMRegressor__colsample_bytree=0.7, LGBMRegressor__learning_rate=0.3, LGBMRegressor__n_estimators=500, LGBMRegressor__num_leaves=20, LGBMRegressor__subsample=0.5; total time=   1.1s\n",
      "[CV 5/5] END LGBMRegressor__colsample_bytree=0.7, LGBMRegressor__learning_rate=0.3, LGBMRegressor__n_estimators=500, LGBMRegressor__num_leaves=20, LGBMRegressor__subsample=0.5; total time=   1.3s\n",
      "[CV 1/5] END LGBMRegressor__colsample_bytree=0.7, LGBMRegressor__learning_rate=0.3, LGBMRegressor__n_estimators=500, LGBMRegressor__num_leaves=20, LGBMRegressor__subsample=0.7; total time=   1.3s\n",
      "[CV 2/5] END LGBMRegressor__colsample_bytree=0.7, LGBMRegressor__learning_rate=0.3, LGBMRegressor__n_estimators=500, LGBMRegressor__num_leaves=20, LGBMRegressor__subsample=0.7; total time=   1.4s\n",
      "[CV 3/5] END LGBMRegressor__colsample_bytree=0.7, LGBMRegressor__learning_rate=0.3, LGBMRegressor__n_estimators=500, LGBMRegressor__num_leaves=20, LGBMRegressor__subsample=0.7; total time=   1.3s\n",
      "[CV 4/5] END LGBMRegressor__colsample_bytree=0.7, LGBMRegressor__learning_rate=0.3, LGBMRegressor__n_estimators=500, LGBMRegressor__num_leaves=20, LGBMRegressor__subsample=0.7; total time=   1.3s\n",
      "[CV 5/5] END LGBMRegressor__colsample_bytree=0.7, LGBMRegressor__learning_rate=0.3, LGBMRegressor__n_estimators=500, LGBMRegressor__num_leaves=20, LGBMRegressor__subsample=0.7; total time=   1.2s\n",
      "[CV 1/5] END LGBMRegressor__colsample_bytree=0.7, LGBMRegressor__learning_rate=0.3, LGBMRegressor__n_estimators=500, LGBMRegressor__num_leaves=30, LGBMRegressor__subsample=0.5; total time=   1.3s\n",
      "[CV 2/5] END LGBMRegressor__colsample_bytree=0.7, LGBMRegressor__learning_rate=0.3, LGBMRegressor__n_estimators=500, LGBMRegressor__num_leaves=30, LGBMRegressor__subsample=0.5; total time=   1.4s\n",
      "[CV 3/5] END LGBMRegressor__colsample_bytree=0.7, LGBMRegressor__learning_rate=0.3, LGBMRegressor__n_estimators=500, LGBMRegressor__num_leaves=30, LGBMRegressor__subsample=0.5; total time=   1.3s\n",
      "[CV 4/5] END LGBMRegressor__colsample_bytree=0.7, LGBMRegressor__learning_rate=0.3, LGBMRegressor__n_estimators=500, LGBMRegressor__num_leaves=30, LGBMRegressor__subsample=0.5; total time=   1.3s\n",
      "[CV 5/5] END LGBMRegressor__colsample_bytree=0.7, LGBMRegressor__learning_rate=0.3, LGBMRegressor__n_estimators=500, LGBMRegressor__num_leaves=30, LGBMRegressor__subsample=0.5; total time=   1.3s\n",
      "[CV 1/5] END LGBMRegressor__colsample_bytree=0.7, LGBMRegressor__learning_rate=0.3, LGBMRegressor__n_estimators=500, LGBMRegressor__num_leaves=30, LGBMRegressor__subsample=0.7; total time=   1.3s\n",
      "[CV 2/5] END LGBMRegressor__colsample_bytree=0.7, LGBMRegressor__learning_rate=0.3, LGBMRegressor__n_estimators=500, LGBMRegressor__num_leaves=30, LGBMRegressor__subsample=0.7; total time=   1.3s\n",
      "[CV 3/5] END LGBMRegressor__colsample_bytree=0.7, LGBMRegressor__learning_rate=0.3, LGBMRegressor__n_estimators=500, LGBMRegressor__num_leaves=30, LGBMRegressor__subsample=0.7; total time=   1.3s\n",
      "[CV 4/5] END LGBMRegressor__colsample_bytree=0.7, LGBMRegressor__learning_rate=0.3, LGBMRegressor__n_estimators=500, LGBMRegressor__num_leaves=30, LGBMRegressor__subsample=0.7; total time=   1.3s\n",
      "[CV 5/5] END LGBMRegressor__colsample_bytree=0.7, LGBMRegressor__learning_rate=0.3, LGBMRegressor__n_estimators=500, LGBMRegressor__num_leaves=30, LGBMRegressor__subsample=0.7; total time=   1.3s\n",
      "[CV 1/5] END LGBMRegressor__colsample_bytree=0.7, LGBMRegressor__learning_rate=0.3, LGBMRegressor__n_estimators=500, LGBMRegressor__num_leaves=40, LGBMRegressor__subsample=0.5; total time=   1.4s\n",
      "[CV 2/5] END LGBMRegressor__colsample_bytree=0.7, LGBMRegressor__learning_rate=0.3, LGBMRegressor__n_estimators=500, LGBMRegressor__num_leaves=40, LGBMRegressor__subsample=0.5; total time=   1.4s\n",
      "[CV 3/5] END LGBMRegressor__colsample_bytree=0.7, LGBMRegressor__learning_rate=0.3, LGBMRegressor__n_estimators=500, LGBMRegressor__num_leaves=40, LGBMRegressor__subsample=0.5; total time=   1.4s\n",
      "[CV 4/5] END LGBMRegressor__colsample_bytree=0.7, LGBMRegressor__learning_rate=0.3, LGBMRegressor__n_estimators=500, LGBMRegressor__num_leaves=40, LGBMRegressor__subsample=0.5; total time=   1.4s\n",
      "[CV 5/5] END LGBMRegressor__colsample_bytree=0.7, LGBMRegressor__learning_rate=0.3, LGBMRegressor__n_estimators=500, LGBMRegressor__num_leaves=40, LGBMRegressor__subsample=0.5; total time=   1.4s\n",
      "[CV 1/5] END LGBMRegressor__colsample_bytree=0.7, LGBMRegressor__learning_rate=0.3, LGBMRegressor__n_estimators=500, LGBMRegressor__num_leaves=40, LGBMRegressor__subsample=0.7; total time=   1.6s\n",
      "[CV 2/5] END LGBMRegressor__colsample_bytree=0.7, LGBMRegressor__learning_rate=0.3, LGBMRegressor__n_estimators=500, LGBMRegressor__num_leaves=40, LGBMRegressor__subsample=0.7; total time=   1.7s\n",
      "[CV 3/5] END LGBMRegressor__colsample_bytree=0.7, LGBMRegressor__learning_rate=0.3, LGBMRegressor__n_estimators=500, LGBMRegressor__num_leaves=40, LGBMRegressor__subsample=0.7; total time=   1.7s\n",
      "[CV 4/5] END LGBMRegressor__colsample_bytree=0.7, LGBMRegressor__learning_rate=0.3, LGBMRegressor__n_estimators=500, LGBMRegressor__num_leaves=40, LGBMRegressor__subsample=0.7; total time=   1.6s\n",
      "[CV 5/5] END LGBMRegressor__colsample_bytree=0.7, LGBMRegressor__learning_rate=0.3, LGBMRegressor__n_estimators=500, LGBMRegressor__num_leaves=40, LGBMRegressor__subsample=0.7; total time=   1.6s\n"
     ]
    }
   ],
   "source": [
    "start = time()\n",
    "gs_lgbm.fit(X_train, Y_train)\n",
    "stop = time()"
   ]
  },
  {
   "cell_type": "code",
   "execution_count": 256,
   "id": "6e01b5d9",
   "metadata": {},
   "outputs": [
    {
     "name": "stdout",
     "output_type": "stream",
     "text": [
      "Search time: 372.08155822753906.\n"
     ]
    }
   ],
   "source": [
    "search_time_lgbm = stop - start\n",
    "print(f'Search time: {search_time_lgbm}.')"
   ]
  },
  {
   "cell_type": "code",
   "execution_count": 257,
   "id": "f3120e39",
   "metadata": {},
   "outputs": [
    {
     "data": {
      "text/plain": [
       "{'LGBMRegressor__colsample_bytree': 0.7,\n",
       " 'LGBMRegressor__learning_rate': 0.3,\n",
       " 'LGBMRegressor__n_estimators': 500,\n",
       " 'LGBMRegressor__num_leaves': 40,\n",
       " 'LGBMRegressor__subsample': 0.5}"
      ]
     },
     "execution_count": 257,
     "metadata": {},
     "output_type": "execute_result"
    }
   ],
   "source": [
    "gs_lgbm.best_params_"
   ]
  },
  {
   "cell_type": "code",
   "execution_count": 258,
   "id": "65012c38",
   "metadata": {},
   "outputs": [
    {
     "data": {
      "text/plain": [
       "1701.7186724550331"
      ]
     },
     "execution_count": 258,
     "metadata": {},
     "output_type": "execute_result"
    }
   ],
   "source": [
    "- gs_lgbm.best_score_ "
   ]
  },
  {
   "cell_type": "markdown",
   "id": "1158775c",
   "metadata": {},
   "source": [
    "OK, this is the first time the search resulted in a better score than the basic model. Let's check the final model:"
   ]
  },
  {
   "cell_type": "code",
   "execution_count": 259,
   "id": "dcda7523",
   "metadata": {},
   "outputs": [
    {
     "data": {
      "text/plain": [
       "{'colsample_bytree': 0.7,\n",
       " 'learning_rate': 0.3,\n",
       " 'n_estimators': 500,\n",
       " 'num_leaves': 40,\n",
       " 'subsample': 0.5}"
      ]
     },
     "execution_count": 259,
     "metadata": {},
     "output_type": "execute_result"
    }
   ],
   "source": [
    "best_lgbm_params = {}\n",
    "for key in gs_lgbm.best_params_:\n",
    "    best_lgbm_params[key[len('LGBMRegressor__'):]] = gs_lgbm.best_params_[key]\n",
    "best_lgbm_params"
   ]
  },
  {
   "cell_type": "code",
   "execution_count": 260,
   "id": "1ca110c5",
   "metadata": {},
   "outputs": [],
   "source": [
    "lgbm_model_final = LGBMRegressor(**best_lgbm_params)"
   ]
  },
  {
   "cell_type": "code",
   "execution_count": 261,
   "id": "d5f159b1",
   "metadata": {},
   "outputs": [
    {
     "name": "stdout",
     "output_type": "stream",
     "text": [
      "Tuned XGBoost model - LGBMRegressor(colsample_bytree=0.7, learning_rate=0.3, n_estimators=500,\n",
      "              num_leaves=40, subsample=0.5):\n",
      "The mean across 10 evaluation scores equals: 1696.\n",
      "Modeling time: 14.879276990890503.\n"
     ]
    }
   ],
   "source": [
    "print(f\"Tuned XGBoost model - {lgbm_model_final}:\")\n",
    "pipe_best_lgbm = Pipeline([('scaler', scaler), ('model', lgbm_model_final)])\n",
    "results[9] = model_run(pipe_best_lgbm, X_train, Y_train, 10, rmse_score)  # use 10 cross-validation subsets"
   ]
  },
  {
   "cell_type": "markdown",
   "id": "0139815e",
   "metadata": {},
   "source": [
    "Now let's count the run time and test the best model using the test sample:"
   ]
  },
  {
   "cell_type": "code",
   "execution_count": 262,
   "id": "873db6f0",
   "metadata": {},
   "outputs": [],
   "source": [
    "start = time()\n",
    "pipe_best_lgbm.fit(X_train, Y_train)\n",
    "stop = time()"
   ]
  },
  {
   "cell_type": "code",
   "execution_count": 263,
   "id": "881d69f6",
   "metadata": {},
   "outputs": [
    {
     "name": "stdout",
     "output_type": "stream",
     "text": [
      "Best LGBM model fit time: 1.9191360473632812.\n"
     ]
    }
   ],
   "source": [
    "best_lgbm_fit_time = stop - start\n",
    "print(f'Best LGBM model fit time: {best_lgbm_fit_time}.')"
   ]
  },
  {
   "cell_type": "code",
   "execution_count": 264,
   "id": "267e8558",
   "metadata": {},
   "outputs": [],
   "source": [
    "pipe_best_lgbm_predictions = pipe_best_lgbm.predict(X_test)"
   ]
  },
  {
   "cell_type": "code",
   "execution_count": 265,
   "id": "0b5b10e3",
   "metadata": {},
   "outputs": [
    {
     "name": "stdout",
     "output_type": "stream",
     "text": [
      "The test datset RMSE score for the best LGBM model: 1669.\n"
     ]
    }
   ],
   "source": [
    "print(f\"The test datset RMSE score for the best LGBM model: {rmse(Y_test, pipe_best_lgbm_predictions):.0f}.\")"
   ]
  },
  {
   "cell_type": "markdown",
   "id": "4a940090",
   "metadata": {},
   "source": [
    "Opposite to the previous models, when the tuned LGBM model is applied to the test dataset, the resulting RMSE score is the lowest, even slightly lower than the model scores on the train dataset. One can see that the grid search took the highest values of the parameters from the `param_tuning_lgbm` dictionary, which means that there can be potential of even better model if moving the hyperparameter values even higher. "
   ]
  },
  {
   "cell_type": "markdown",
   "id": "4fed3524",
   "metadata": {},
   "source": [
    "[Back to Content](#content)"
   ]
  },
  {
   "cell_type": "markdown",
   "id": "bbbafbbe",
   "metadata": {},
   "source": [
    "### Analysing the speed of the algorithms and the resulting scores"
   ]
  },
  {
   "cell_type": "markdown",
   "id": "85ccf99d",
   "metadata": {},
   "source": [
    "Let's aggregate the data for models, their RMSE scores, and fit times:"
   ]
  },
  {
   "cell_type": "code",
   "execution_count": 266,
   "id": "0dc5ae0b",
   "metadata": {},
   "outputs": [],
   "source": [
    "model_stat = {}"
   ]
  },
  {
   "cell_type": "code",
   "execution_count": 269,
   "id": "f37852c8",
   "metadata": {},
   "outputs": [],
   "source": [
    "model_stat['model_name']=[\n",
    "        'DummyRegressor',\n",
    "        'LinearRegressor',\n",
    "        'RandomForest_basic',\n",
    "        'RandomForest_final',\n",
    "        'XGBoost_basic',\n",
    "        'XGBoost_final',\n",
    "        'LightGBM_basic',\n",
    "        'LightGBM_basic*',\n",
    "        'LightGBM_final'\n",
    "]\n",
    "\n",
    "model_stat['model_score']=[\n",
    "        rmse(Y_test, Y_dummy_predictions),\n",
    "        -results[0],\n",
    "        -results[3],\n",
    "        rmse(Y_test, pipe_best_rf_predictions),\n",
    "        rmse(Y_test, pipe_basic_xgb_predictions),\n",
    "        rmse(Y_test, pipe_best_xgboost_predictions),\n",
    "        rmse(Y_test, pipe_basic_lgbm_predictions),\n",
    "        rmse(Y_test, pipe_basic_lgbm_no_cat_param_predictions),\n",
    "        rmse(Y_test, pipe_best_lgbm_predictions)\n",
    "]\n",
    "\n",
    "model_stat['model_fit_time']=[\n",
    "        dummy_check_fit_time,\n",
    "        1.57,  # printed from a loop\n",
    "        basic_rf_fit_time,\n",
    "        best_rf_fit_time,\n",
    "        basic_xgb_fit_time,\n",
    "        best_xgboost_fit_time,\n",
    "        basic_lgbm_fit_time,\n",
    "        basic_lgbm_fit_time_no_cat_param,\n",
    "        best_lgbm_fit_time\n",
    "]\n"
   ]
  },
  {
   "cell_type": "code",
   "execution_count": 270,
   "id": "6b191487",
   "metadata": {},
   "outputs": [
    {
     "data": {
      "text/html": [
       "<div>\n",
       "<style scoped>\n",
       "    .dataframe tbody tr th:only-of-type {\n",
       "        vertical-align: middle;\n",
       "    }\n",
       "\n",
       "    .dataframe tbody tr th {\n",
       "        vertical-align: top;\n",
       "    }\n",
       "\n",
       "    .dataframe thead th {\n",
       "        text-align: right;\n",
       "    }\n",
       "</style>\n",
       "<table border=\"1\" class=\"dataframe\">\n",
       "  <thead>\n",
       "    <tr style=\"text-align: right;\">\n",
       "      <th></th>\n",
       "      <th>model_name</th>\n",
       "      <th>model_score</th>\n",
       "      <th>model_fit_time</th>\n",
       "    </tr>\n",
       "  </thead>\n",
       "  <tbody>\n",
       "    <tr>\n",
       "      <th>8</th>\n",
       "      <td>LightGBM_final</td>\n",
       "      <td>1669.023350</td>\n",
       "      <td>1.919136</td>\n",
       "    </tr>\n",
       "    <tr>\n",
       "      <th>4</th>\n",
       "      <td>XGBoost_basic</td>\n",
       "      <td>1721.579443</td>\n",
       "      <td>4.964984</td>\n",
       "    </tr>\n",
       "    <tr>\n",
       "      <th>2</th>\n",
       "      <td>RandomForest_basic</td>\n",
       "      <td>1770.360216</td>\n",
       "      <td>13.192614</td>\n",
       "    </tr>\n",
       "    <tr>\n",
       "      <th>7</th>\n",
       "      <td>LightGBM_basic*</td>\n",
       "      <td>1778.631817</td>\n",
       "      <td>0.646274</td>\n",
       "    </tr>\n",
       "    <tr>\n",
       "      <th>6</th>\n",
       "      <td>LightGBM_basic</td>\n",
       "      <td>1903.577072</td>\n",
       "      <td>0.483322</td>\n",
       "    </tr>\n",
       "    <tr>\n",
       "      <th>1</th>\n",
       "      <td>LinearRegressor</td>\n",
       "      <td>3466.198164</td>\n",
       "      <td>1.570000</td>\n",
       "    </tr>\n",
       "    <tr>\n",
       "      <th>0</th>\n",
       "      <td>DummyRegressor</td>\n",
       "      <td>4563.893888</td>\n",
       "      <td>0.086136</td>\n",
       "    </tr>\n",
       "    <tr>\n",
       "      <th>3</th>\n",
       "      <td>RandomForest_final</td>\n",
       "      <td>4792.822184</td>\n",
       "      <td>8.149631</td>\n",
       "    </tr>\n",
       "    <tr>\n",
       "      <th>5</th>\n",
       "      <td>XGBoost_final</td>\n",
       "      <td>4792.822184</td>\n",
       "      <td>16.003724</td>\n",
       "    </tr>\n",
       "  </tbody>\n",
       "</table>\n",
       "</div>"
      ],
      "text/plain": [
       "           model_name  model_score  model_fit_time\n",
       "8      LightGBM_final  1669.023350        1.919136\n",
       "4       XGBoost_basic  1721.579443        4.964984\n",
       "2  RandomForest_basic  1770.360216       13.192614\n",
       "7     LightGBM_basic*  1778.631817        0.646274\n",
       "6      LightGBM_basic  1903.577072        0.483322\n",
       "1     LinearRegressor  3466.198164        1.570000\n",
       "0      DummyRegressor  4563.893888        0.086136\n",
       "3  RandomForest_final  4792.822184        8.149631\n",
       "5       XGBoost_final  4792.822184       16.003724"
      ]
     },
     "execution_count": 270,
     "metadata": {},
     "output_type": "execute_result"
    }
   ],
   "source": [
    "pd.DataFrame(model_stat).sort_values(by='model_score')"
   ]
  },
  {
   "cell_type": "markdown",
   "id": "f649be73",
   "metadata": {},
   "source": [
    "Where `LightGBM_basic*` is a LightGBM model without explicit categorical features definition (as we remember we used Label encoding)."
   ]
  },
  {
   "cell_type": "markdown",
   "id": "f4b2c9bb",
   "metadata": {},
   "source": [
    "The general conclusion is that LightGBM model with tuned hyperparameters is the fastest and of the best score. The following observations are worth mentioning as well:\n",
    "\n",
    "1. As stated above, chances are that even better score can be achieved with slightly higher values, at least, of some of the parameters tuned.\n",
    "2. Only one model is faster than final LightGBM, Linear Regression, but it scored the worst and was the closest to the dummy model.\n",
    "3. We failed in finding better hyperparameter combination for Random Forest and for XGBoost, the models were significantly overfitting, while the search took significant amount of time."
   ]
  },
  {
   "cell_type": "markdown",
   "id": "9399f755",
   "metadata": {},
   "source": [
    "[Back to Content](#content)"
   ]
  },
  {
   "cell_type": "markdown",
   "id": "ff92dde5",
   "metadata": {},
   "source": [
    "## Summary and conclusions<a id='conclusions'></a>"
   ]
  },
  {
   "cell_type": "markdown",
   "id": "def54137",
   "metadata": {},
   "source": [
    "This project insluded two main parts - data preprocessing and the modeling itself.\n",
    "\n",
    "The raw dataset included ~K355 observations; before uploading, we checked memory usage and date types on a small subsample, which allowed us to avoid significant excessive use of the memory.\n",
    "\n",
    "We performed EDA to have some guidelines for preprocessing, which included:\n",
    "1. Dropping emplicite duplicates (in addition to few explicite ones);\n",
    "2. Extensive work on restoring missing and questionable values.\n",
    "- we suggested using `RandomForestClassifier` to predict the missing values for categorical variables, like `fuel_type`, `gearbox`, and `vehicle_type`, and `RandomForestRegressor` to predict reasonable values instead zeros and near-zero values for the `power` variable.\n",
    "3. To implement the suggested approach, we developed a procedure, which included:\n",
    "- extracting a subset of variables for modeling (from the initial dataset `data_raw`);\n",
    "- extracting a clean subset, without missing values, to use for training;\n",
    "- choosing variables one by one, to fill in missing values and applying iterative modeling:\n",
    "    - extract the subset with missing values for the variable of interest;\n",
    "    - create a model with that variable as a target to fill in the missing values;\n",
    "    - use the model to predict missing values;\n",
    "    - concatinate the observations with the predicted missing values and the initial version of the clean subset and, thus, update it;\n",
    "    - choose the next variable to predict and repeat the modeling for it.\n",
    "4. While implementing the procedure above, we automated most of its parts and ended up with one line function, `iterative_missing_values_modeling` applicable both for categorical and for numerical variables; the parameters of the function include the initial dataset, the list of the columns to be used in modeling, the target variable and a flag to whether the target variable is numeric (to switch between classifier and regressor).\n",
    "5. Thus, we modeled, first, 6 manufacturing characteristics(`fuel_type`, `model`, `gearbox`, `vehicle_type`, `brand`, and `power`) and restored missing values in five of them (those which had missing values), and then three \"car state\" characteristics (we modeled the `not_repaired` variable through `car_age` and `mileage`) and preserved ~14% of the dataset as it appeared after dropping duplicates.\n",
    "\n",
    "Finally, we dropped irrelevant variables, and ended up with a clean dataset of 10 variables with ~K295 observations."
   ]
  },
  {
   "attachments": {
    "image-2.png": {
     "image/png": "[encoded data removed]"
    }
   },
   "cell_type": "markdown",
   "id": "0350ef01",
   "metadata": {},
   "source": [
    "In the modeling part, we:\n",
    "\n",
    "1. Encoded the categorical variables with `LabelEncoder()`;\n",
    "2. Split the data;\n",
    "3. Defined the score function, based on RMSE (the score was evaluated by cross-validation, for which `cross_val_score()` was employed);\n",
    "4. Made a sanity check with a pipeline based on `DummyRegressor()`;\n",
    "5. Built a RandomForest model with hyperparameter tuning;\n",
    "6. Applied XGBoost with hyperparameter tuning;\n",
    "7. Applied LightGBM with hyperparameter tuning.\n",
    "\n",
    "LightGBM model with tuned hyperparameters turned out to be the fastest and resulted in the best score (Linear Regression was the only model faster than LightGBM, but it scored the worst among the basic models), while we failed in finding better hyperparameter combination for Random Forest and for XGBoost, while the search took significant amount of time. The summary of the scores and the run time is presented in the table below:\n",
    "\n",
    "![image-2.png](attachment:image-2.png)"
   ]
  },
  {
   "cell_type": "markdown",
   "id": "71482917",
   "metadata": {},
   "source": [
    "For further consideration: it seems to be reasonable to assume that even better score can be achieved for LightGBM with slightly higher values for, at least, some of the hyperparameters already tuned."
   ]
  },
  {
   "cell_type": "markdown",
   "id": "e3485bb6",
   "metadata": {},
   "source": [
    "[Back to Content](#content)"
   ]
  }
 ],
 "metadata": {
  "kernelspec": {
   "display_name": "Python 3",
   "language": "python",
   "name": "python3"
  },
  "language_info": {
   "codemirror_mode": {
    "name": "ipython",
    "version": 3
   },
   "file_extension": ".py",
   "mimetype": "text/x-python",
   "name": "python",
   "nbconvert_exporter": "python",
   "pygments_lexer": "ipython3",
   "version": "3.8.8"
  },
  "toc": {
   "base_numbering": 1,
   "nav_menu": {},
   "number_sections": true,
   "sideBar": true,
   "skip_h1_title": true,
   "title_cell": "Table of Contents",
   "title_sidebar": "Contents",
   "toc_cell": false,
   "toc_position": {},
   "toc_section_display": true,
   "toc_window_display": false
  }
 },
 "nbformat": 4,
 "nbformat_minor": 5
}
