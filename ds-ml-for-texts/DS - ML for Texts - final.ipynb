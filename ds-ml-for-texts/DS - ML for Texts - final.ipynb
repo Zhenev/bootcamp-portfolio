{
 "cells": [
  {
   "cell_type": "markdown",
   "id": "b36589f5",
   "metadata": {},
   "source": [
    "**NOTE: The project makes use of BERT for a limited subsample of the data.**"
   ]
  },
  {
   "cell_type": "markdown",
   "id": "53c18bdf",
   "metadata": {},
   "source": [
    "## Content <a id='content'></a>\n",
    "\n",
    "[Introduction](#intro)\n",
    "\n",
    "[Data overview and preprocessing](#prep)\n",
    "\n",
    "[ML](#ml)\n",
    "\n",
    "[Summary and conclusions](#conclusions)"
   ]
  },
  {
   "cell_type": "markdown",
   "id": "92b15be2",
   "metadata": {},
   "source": [
    "## Introduction <a id='intro'></a>"
   ]
  },
  {
   "cell_type": "markdown",
   "id": "0c56c066",
   "metadata": {},
   "source": [
    "The Film Junky Union, a new edgy community for classic movie enthusiasts, is developing a system for filtering and categorizing movie reviews. The goal is to train a model to automatically detect negative reviews. We will be using a dataset of IMBD movie reviews with polarity labelling to build a model for classifying positive and negative reviews. It will need to reach an F1 score of at least 0.85."
   ]
  },
  {
   "cell_type": "markdown",
   "id": "eaaad3eb",
   "metadata": {},
   "source": [
    "To implement the work we will:\n",
    "\n",
    "1. Load the data and perform basic reprocessing, if required.\n",
    "2. Conduct an EDA and make your conclusion on the class imbalance.\n",
    "3. Preprocess the data for modeling.\n",
    "4. Train at least three different models for the given train dataset.\n",
    "5. Test the models for the given test dataset.\n",
    "6. Compose a few of our own reviews and classify them with all the models.\n",
    "7. Check for differences between the testing results of models in the above two points. Try to explain them."
   ]
  },
  {
   "cell_type": "markdown",
   "id": "e0bf6960",
   "metadata": {},
   "source": [
    "[Back to Content](#content)"
   ]
  },
  {
   "cell_type": "markdown",
   "id": "e6f0058c",
   "metadata": {},
   "source": [
    "## Data overview and preprocessing <a id='prep'></a>"
   ]
  },
  {
   "cell_type": "markdown",
   "id": "b0b1da49",
   "metadata": {},
   "source": [
    "The data is stored in `the imdb_reviews.tsv` file. Selected fields incllude:\n",
    "- `review`: the review text\n",
    "- `pos`: the target, '0' for negative and '1' for positive\n",
    "- `ds_part`: 'train'/'test' for the train/test part of dataset, correspondingly\n",
    "\n",
    "*The data was provided by Andrew L. Maas, Raymond E. Daly, Peter T. Pham, Dan Huang, Andrew Y. Ng, and Christopher Potts. (2011). Learning Word Vectors for Sentiment Analysis. The 49th Annual Meeting of the Association for Computational Linguistics (ACL 2011).*\n",
    "\n",
    "Let's load the data."
   ]
  },
  {
   "cell_type": "code",
   "execution_count": 1,
   "id": "516fb17b",
   "metadata": {},
   "outputs": [],
   "source": [
    "# Libraries\n",
    "import math\n",
    "\n",
    "import numpy as np\n",
    "import pandas as pd\n",
    "\n",
    "import matplotlib\n",
    "import matplotlib.pyplot as plt\n",
    "import matplotlib.dates as mdates"
   ]
  },
  {
   "cell_type": "markdown",
   "id": "a14da045",
   "metadata": {},
   "source": [
    "### Data upload and basic preprocessing"
   ]
  },
  {
   "cell_type": "markdown",
   "id": "3a1291ce",
   "metadata": {},
   "source": [
    "As part of the uploading we will check memory usage and date types for a small subsample, to avoid any excessive use of the memory. We will use a `load()` function to avoid potential problems with the file pathes."
   ]
  },
  {
   "cell_type": "code",
   "execution_count": 2,
   "id": "5f126ed6",
   "metadata": {},
   "outputs": [],
   "source": [
    "# function `load` for a csv load with try-except and a number of rows limit and `usecols` parameter\n",
    "def load(filename, sep = ',', usecols = None, nrow = None, dtype = None, parse_dates = None):\n",
    "    \"\"\"\n",
    "    i=In addition to the file name, the function takes nrows parameter\n",
    "    for a particular number of rows to load. If None, then the file is loaded fully.\n",
    "    \"\"\"\n",
    "    try:\n",
    "        if usecols:\n",
    "            df_raw = pd.read_csv(filename, sep = sep, usecols = usecols,\n",
    "                                 nrows = nrow, dtype = dtype, parse_dates = parse_dates)\n",
    "        else:\n",
    "            df_raw = pd.read_csv(filename, sep = sep, nrows = nrow, dtype = dtype, parse_dates = parse_dates)\n",
    "    except:\n",
    "        if usecols:\n",
    "            df_raw = pd.read_csv('/'+filename, sep = sep, usecols = usecols,\n",
    "                                 nrows = nrow, dtype = dtype, parse_dates = parse_dates)\n",
    "        else:\n",
    "            df_raw = pd.read_csv('/'+filename, sep = sep, nrows = nrow, dtype = dtype, parse_dates = parse_dates)\n",
    "    return df_raw"
   ]
  },
  {
   "cell_type": "code",
   "execution_count": 3,
   "id": "16ff23c8",
   "metadata": {},
   "outputs": [],
   "source": [
    "# check the dataset data types and memory usage on the first 500 rows\n",
    "data_raw = load('datasets/imdb_reviews.tsv', sep='\\t', nrow = 500)"
   ]
  },
  {
   "cell_type": "code",
   "execution_count": 4,
   "id": "88f09045",
   "metadata": {},
   "outputs": [
    {
     "name": "stdout",
     "output_type": "stream",
     "text": [
      "<class 'pandas.core.frame.DataFrame'>\n",
      "RangeIndex: 500 entries, 0 to 499\n",
      "Data columns (total 17 columns):\n",
      " #   Column           Non-Null Count  Dtype  \n",
      "---  ------           --------------  -----  \n",
      " 0   tconst           500 non-null    object \n",
      " 1   title_type       500 non-null    object \n",
      " 2   primary_title    500 non-null    object \n",
      " 3   original_title   500 non-null    object \n",
      " 4   start_year       500 non-null    int64  \n",
      " 5   end_year         500 non-null    object \n",
      " 6   runtime_minutes  500 non-null    object \n",
      " 7   is_adult         500 non-null    int64  \n",
      " 8   genres           500 non-null    object \n",
      " 9   average_rating   500 non-null    float64\n",
      " 10  votes            500 non-null    int64  \n",
      " 11  review           500 non-null    object \n",
      " 12  rating           500 non-null    int64  \n",
      " 13  sp               500 non-null    object \n",
      " 14  pos              500 non-null    int64  \n",
      " 15  ds_part          500 non-null    object \n",
      " 16  idx              500 non-null    int64  \n",
      "dtypes: float64(1), int64(6), object(10)\n",
      "memory usage: 1017.4 KB\n"
     ]
    }
   ],
   "source": [
    "data_raw.info(memory_usage = 'deep')"
   ]
  },
  {
   "cell_type": "code",
   "execution_count": 5,
   "id": "e2622609",
   "metadata": {},
   "outputs": [
    {
     "data": {
      "text/html": [
       "<div>\n",
       "<style scoped>\n",
       "    .dataframe tbody tr th:only-of-type {\n",
       "        vertical-align: middle;\n",
       "    }\n",
       "\n",
       "    .dataframe tbody tr th {\n",
       "        vertical-align: top;\n",
       "    }\n",
       "\n",
       "    .dataframe thead th {\n",
       "        text-align: right;\n",
       "    }\n",
       "</style>\n",
       "<table border=\"1\" class=\"dataframe\">\n",
       "  <thead>\n",
       "    <tr style=\"text-align: right;\">\n",
       "      <th></th>\n",
       "      <th>tconst</th>\n",
       "      <th>title_type</th>\n",
       "      <th>primary_title</th>\n",
       "      <th>original_title</th>\n",
       "      <th>start_year</th>\n",
       "      <th>end_year</th>\n",
       "      <th>runtime_minutes</th>\n",
       "      <th>is_adult</th>\n",
       "      <th>genres</th>\n",
       "      <th>average_rating</th>\n",
       "      <th>votes</th>\n",
       "      <th>review</th>\n",
       "      <th>rating</th>\n",
       "      <th>sp</th>\n",
       "      <th>pos</th>\n",
       "      <th>ds_part</th>\n",
       "      <th>idx</th>\n",
       "    </tr>\n",
       "  </thead>\n",
       "  <tbody>\n",
       "    <tr>\n",
       "      <th>0</th>\n",
       "      <td>tt0068152</td>\n",
       "      <td>movie</td>\n",
       "      <td>$</td>\n",
       "      <td>$</td>\n",
       "      <td>1971</td>\n",
       "      <td>\\N</td>\n",
       "      <td>121</td>\n",
       "      <td>0</td>\n",
       "      <td>Comedy,Crime,Drama</td>\n",
       "      <td>6.3</td>\n",
       "      <td>2218</td>\n",
       "      <td>The pakage implies that Warren Beatty and Gold...</td>\n",
       "      <td>1</td>\n",
       "      <td>neg</td>\n",
       "      <td>0</td>\n",
       "      <td>train</td>\n",
       "      <td>8335</td>\n",
       "    </tr>\n",
       "    <tr>\n",
       "      <th>1</th>\n",
       "      <td>tt0068152</td>\n",
       "      <td>movie</td>\n",
       "      <td>$</td>\n",
       "      <td>$</td>\n",
       "      <td>1971</td>\n",
       "      <td>\\N</td>\n",
       "      <td>121</td>\n",
       "      <td>0</td>\n",
       "      <td>Comedy,Crime,Drama</td>\n",
       "      <td>6.3</td>\n",
       "      <td>2218</td>\n",
       "      <td>How the hell did they get this made?! Presenti...</td>\n",
       "      <td>1</td>\n",
       "      <td>neg</td>\n",
       "      <td>0</td>\n",
       "      <td>train</td>\n",
       "      <td>8336</td>\n",
       "    </tr>\n",
       "    <tr>\n",
       "      <th>2</th>\n",
       "      <td>tt0313150</td>\n",
       "      <td>short</td>\n",
       "      <td>'15'</td>\n",
       "      <td>'15'</td>\n",
       "      <td>2002</td>\n",
       "      <td>\\N</td>\n",
       "      <td>25</td>\n",
       "      <td>0</td>\n",
       "      <td>Comedy,Drama,Short</td>\n",
       "      <td>6.3</td>\n",
       "      <td>184</td>\n",
       "      <td>There is no real story the film seems more lik...</td>\n",
       "      <td>3</td>\n",
       "      <td>neg</td>\n",
       "      <td>0</td>\n",
       "      <td>test</td>\n",
       "      <td>2489</td>\n",
       "    </tr>\n",
       "    <tr>\n",
       "      <th>3</th>\n",
       "      <td>tt0313150</td>\n",
       "      <td>short</td>\n",
       "      <td>'15'</td>\n",
       "      <td>'15'</td>\n",
       "      <td>2002</td>\n",
       "      <td>\\N</td>\n",
       "      <td>25</td>\n",
       "      <td>0</td>\n",
       "      <td>Comedy,Drama,Short</td>\n",
       "      <td>6.3</td>\n",
       "      <td>184</td>\n",
       "      <td>Um .... a serious film about troubled teens in...</td>\n",
       "      <td>7</td>\n",
       "      <td>pos</td>\n",
       "      <td>1</td>\n",
       "      <td>test</td>\n",
       "      <td>9280</td>\n",
       "    </tr>\n",
       "    <tr>\n",
       "      <th>4</th>\n",
       "      <td>tt0313150</td>\n",
       "      <td>short</td>\n",
       "      <td>'15'</td>\n",
       "      <td>'15'</td>\n",
       "      <td>2002</td>\n",
       "      <td>\\N</td>\n",
       "      <td>25</td>\n",
       "      <td>0</td>\n",
       "      <td>Comedy,Drama,Short</td>\n",
       "      <td>6.3</td>\n",
       "      <td>184</td>\n",
       "      <td>I'm totally agree with GarryJohal from Singapo...</td>\n",
       "      <td>9</td>\n",
       "      <td>pos</td>\n",
       "      <td>1</td>\n",
       "      <td>test</td>\n",
       "      <td>9281</td>\n",
       "    </tr>\n",
       "  </tbody>\n",
       "</table>\n",
       "</div>"
      ],
      "text/plain": [
       "      tconst title_type primary_title original_title  start_year end_year  \\\n",
       "0  tt0068152      movie             $              $        1971       \\N   \n",
       "1  tt0068152      movie             $              $        1971       \\N   \n",
       "2  tt0313150      short          '15'           '15'        2002       \\N   \n",
       "3  tt0313150      short          '15'           '15'        2002       \\N   \n",
       "4  tt0313150      short          '15'           '15'        2002       \\N   \n",
       "\n",
       "  runtime_minutes  is_adult              genres  average_rating  votes  \\\n",
       "0             121         0  Comedy,Crime,Drama             6.3   2218   \n",
       "1             121         0  Comedy,Crime,Drama             6.3   2218   \n",
       "2              25         0  Comedy,Drama,Short             6.3    184   \n",
       "3              25         0  Comedy,Drama,Short             6.3    184   \n",
       "4              25         0  Comedy,Drama,Short             6.3    184   \n",
       "\n",
       "                                              review  rating   sp  pos  \\\n",
       "0  The pakage implies that Warren Beatty and Gold...       1  neg    0   \n",
       "1  How the hell did they get this made?! Presenti...       1  neg    0   \n",
       "2  There is no real story the film seems more lik...       3  neg    0   \n",
       "3  Um .... a serious film about troubled teens in...       7  pos    1   \n",
       "4  I'm totally agree with GarryJohal from Singapo...       9  pos    1   \n",
       "\n",
       "  ds_part   idx  \n",
       "0   train  8335  \n",
       "1   train  8336  \n",
       "2    test  2489  \n",
       "3    test  9280  \n",
       "4    test  9281  "
      ]
     },
     "execution_count": 5,
     "metadata": {},
     "output_type": "execute_result"
    }
   ],
   "source": [
    "data_raw.head()"
   ]
  },
  {
   "cell_type": "markdown",
   "id": "825bceac",
   "metadata": {},
   "source": [
    "The dataset is memory-consuming, while we only need the three columns mentioned above and presumably some IDs for movies and reviews themselves."
   ]
  },
  {
   "cell_type": "code",
   "execution_count": 6,
   "id": "b130596e",
   "metadata": {},
   "outputs": [],
   "source": [
    "# check the dataset data types and memory usage on the first 500 rows and the required columns\n",
    "data_raw = load('datasets/imdb_reviews.tsv', sep='\\t', usecols = [0, 11, 14, 15, 16], nrow = 500)"
   ]
  },
  {
   "cell_type": "code",
   "execution_count": 7,
   "id": "0e9c5929",
   "metadata": {},
   "outputs": [
    {
     "name": "stdout",
     "output_type": "stream",
     "text": [
      "<class 'pandas.core.frame.DataFrame'>\n",
      "RangeIndex: 500 entries, 0 to 499\n",
      "Data columns (total 5 columns):\n",
      " #   Column   Non-Null Count  Dtype \n",
      "---  ------   --------------  ----- \n",
      " 0   tconst   500 non-null    object\n",
      " 1   review   500 non-null    object\n",
      " 2   pos      500 non-null    int64 \n",
      " 3   ds_part  500 non-null    object\n",
      " 4   idx      500 non-null    int64 \n",
      "dtypes: int64(2), object(3)\n",
      "memory usage: 776.4 KB\n"
     ]
    }
   ],
   "source": [
    "data_raw.info(memory_usage = 'deep')"
   ]
  },
  {
   "cell_type": "markdown",
   "id": "2cf60f6d",
   "metadata": {},
   "source": [
    "Great, we have limited the required subset of columns, though the dataset is still memory-consuming, since the `review` variable supposedly contains large string values. Let's upload the whole dataset:"
   ]
  },
  {
   "cell_type": "code",
   "execution_count": 8,
   "id": "4661e7c7",
   "metadata": {},
   "outputs": [],
   "source": [
    "data_raw = load('datasets/imdb_reviews.tsv', sep='\\t', usecols = [0, 11, 14, 15, 16])"
   ]
  },
  {
   "cell_type": "code",
   "execution_count": 9,
   "id": "47ea9774",
   "metadata": {},
   "outputs": [
    {
     "name": "stdout",
     "output_type": "stream",
     "text": [
      "<class 'pandas.core.frame.DataFrame'>\n",
      "RangeIndex: 47331 entries, 0 to 47330\n",
      "Data columns (total 5 columns):\n",
      " #   Column   Non-Null Count  Dtype \n",
      "---  ------   --------------  ----- \n",
      " 0   tconst   47331 non-null  object\n",
      " 1   review   47331 non-null  object\n",
      " 2   pos      47331 non-null  int64 \n",
      " 3   ds_part  47331 non-null  object\n",
      " 4   idx      47331 non-null  int64 \n",
      "dtypes: int64(2), object(3)\n",
      "memory usage: 1.8+ MB\n"
     ]
    }
   ],
   "source": [
    "data_raw.info()"
   ]
  },
  {
   "cell_type": "code",
   "execution_count": 10,
   "id": "3e9b3a36",
   "metadata": {},
   "outputs": [
    {
     "data": {
      "text/plain": [
       "train    23796\n",
       "test     23535\n",
       "Name: ds_part, dtype: int64"
      ]
     },
     "execution_count": 10,
     "metadata": {},
     "output_type": "execute_result"
    }
   ],
   "source": [
    "data_raw['ds_part'].value_counts()"
   ]
  },
  {
   "cell_type": "code",
   "execution_count": 11,
   "id": "c79cc477",
   "metadata": {},
   "outputs": [
    {
     "data": {
      "text/plain": [
       "0"
      ]
     },
     "execution_count": 11,
     "metadata": {},
     "output_type": "execute_result"
    }
   ],
   "source": [
    "# Check for duplicates\n",
    "data_raw.duplicated().sum()"
   ]
  },
  {
   "cell_type": "markdown",
   "id": "99075e1e",
   "metadata": {},
   "source": [
    "Thus, we have 47331 observations which are divided in equal parts into train and test subsets, no missing values, no duplicates, correct column names."
   ]
  },
  {
   "cell_type": "markdown",
   "id": "6501d074",
   "metadata": {},
   "source": [
    "### EDA"
   ]
  },
  {
   "cell_type": "markdown",
   "id": "d3d56126",
   "metadata": {},
   "source": [
    "Firtst, let's check how balanced are the two classes:"
   ]
  },
  {
   "cell_type": "code",
   "execution_count": 12,
   "id": "c0eab8a6",
   "metadata": {
    "scrolled": true
   },
   "outputs": [
    {
     "data": {
      "text/plain": [
       "0    23715\n",
       "1    23616\n",
       "Name: pos, dtype: int64"
      ]
     },
     "execution_count": 12,
     "metadata": {},
     "output_type": "execute_result"
    }
   ],
   "source": [
    "data_raw['pos'].value_counts()"
   ]
  },
  {
   "cell_type": "markdown",
   "id": "ddbfa828",
   "metadata": {},
   "source": [
    "OK, the classes are balanced; thus, even the accuracy score will result in relevant quality estimate."
   ]
  },
  {
   "cell_type": "markdown",
   "id": "8518dfe7",
   "metadata": {},
   "source": [
    "Let's check how the movies in the train and the test data subsets are distributed by the number of positive and negative reviews."
   ]
  },
  {
   "cell_type": "code",
   "execution_count": 13,
   "id": "95efebf6",
   "metadata": {},
   "outputs": [],
   "source": [
    "dft = data_raw.groupby(['tconst', 'pos', 'ds_part'])['review'].count().reset_index()"
   ]
  },
  {
   "cell_type": "code",
   "execution_count": 14,
   "id": "b60bc428",
   "metadata": {},
   "outputs": [
    {
     "data": {
      "text/html": [
       "<div>\n",
       "<style scoped>\n",
       "    .dataframe tbody tr th:only-of-type {\n",
       "        vertical-align: middle;\n",
       "    }\n",
       "\n",
       "    .dataframe tbody tr th {\n",
       "        vertical-align: top;\n",
       "    }\n",
       "\n",
       "    .dataframe thead th {\n",
       "        text-align: right;\n",
       "    }\n",
       "</style>\n",
       "<table border=\"1\" class=\"dataframe\">\n",
       "  <thead>\n",
       "    <tr style=\"text-align: right;\">\n",
       "      <th></th>\n",
       "      <th>tconst</th>\n",
       "      <th>pos</th>\n",
       "      <th>ds_part</th>\n",
       "      <th>review</th>\n",
       "    </tr>\n",
       "  </thead>\n",
       "  <tbody>\n",
       "    <tr>\n",
       "      <th>0</th>\n",
       "      <td>tt0000010</td>\n",
       "      <td>1</td>\n",
       "      <td>train</td>\n",
       "      <td>11</td>\n",
       "    </tr>\n",
       "    <tr>\n",
       "      <th>1</th>\n",
       "      <td>tt0000030</td>\n",
       "      <td>1</td>\n",
       "      <td>test</td>\n",
       "      <td>1</td>\n",
       "    </tr>\n",
       "    <tr>\n",
       "      <th>2</th>\n",
       "      <td>tt0000208</td>\n",
       "      <td>1</td>\n",
       "      <td>test</td>\n",
       "      <td>4</td>\n",
       "    </tr>\n",
       "    <tr>\n",
       "      <th>3</th>\n",
       "      <td>tt0000399</td>\n",
       "      <td>0</td>\n",
       "      <td>test</td>\n",
       "      <td>1</td>\n",
       "    </tr>\n",
       "    <tr>\n",
       "      <th>4</th>\n",
       "      <td>tt0000430</td>\n",
       "      <td>1</td>\n",
       "      <td>test</td>\n",
       "      <td>1</td>\n",
       "    </tr>\n",
       "    <tr>\n",
       "      <th>...</th>\n",
       "      <td>...</td>\n",
       "      <td>...</td>\n",
       "      <td>...</td>\n",
       "      <td>...</td>\n",
       "    </tr>\n",
       "    <tr>\n",
       "      <th>8228</th>\n",
       "      <td>tt0996396</td>\n",
       "      <td>1</td>\n",
       "      <td>train</td>\n",
       "      <td>3</td>\n",
       "    </tr>\n",
       "    <tr>\n",
       "      <th>8229</th>\n",
       "      <td>tt0997057</td>\n",
       "      <td>0</td>\n",
       "      <td>test</td>\n",
       "      <td>3</td>\n",
       "    </tr>\n",
       "    <tr>\n",
       "      <th>8230</th>\n",
       "      <td>tt0997143</td>\n",
       "      <td>0</td>\n",
       "      <td>test</td>\n",
       "      <td>14</td>\n",
       "    </tr>\n",
       "    <tr>\n",
       "      <th>8231</th>\n",
       "      <td>tt0997143</td>\n",
       "      <td>1</td>\n",
       "      <td>test</td>\n",
       "      <td>4</td>\n",
       "    </tr>\n",
       "    <tr>\n",
       "      <th>8232</th>\n",
       "      <td>tt0999866</td>\n",
       "      <td>0</td>\n",
       "      <td>test</td>\n",
       "      <td>4</td>\n",
       "    </tr>\n",
       "  </tbody>\n",
       "</table>\n",
       "<p>8233 rows × 4 columns</p>\n",
       "</div>"
      ],
      "text/plain": [
       "         tconst  pos ds_part  review\n",
       "0     tt0000010    1   train      11\n",
       "1     tt0000030    1    test       1\n",
       "2     tt0000208    1    test       4\n",
       "3     tt0000399    0    test       1\n",
       "4     tt0000430    1    test       1\n",
       "...         ...  ...     ...     ...\n",
       "8228  tt0996396    1   train       3\n",
       "8229  tt0997057    0    test       3\n",
       "8230  tt0997143    0    test      14\n",
       "8231  tt0997143    1    test       4\n",
       "8232  tt0999866    0    test       4\n",
       "\n",
       "[8233 rows x 4 columns]"
      ]
     },
     "execution_count": 14,
     "metadata": {},
     "output_type": "execute_result"
    }
   ],
   "source": [
    "dft"
   ]
  },
  {
   "cell_type": "code",
   "execution_count": 15,
   "id": "ba2f23cb",
   "metadata": {},
   "outputs": [
    {
     "data": {
      "image/png": "[encoded data removed]",
      "text/plain": [
       "<Figure size 1152x216 with 1 Axes>"
      ]
     },
     "metadata": {
      "needs_background": "light"
     },
     "output_type": "display_data"
    }
   ],
   "source": [
    "plt.figure(figsize=(16, 3))\n",
    "\n",
    "dft[(dft['ds_part']=='train') & (dft['pos']==0)]['review'].hist(color = \"blue\", bins = 50,alpha = 0.5)\n",
    "dft[(dft['ds_part']=='train') & (dft['pos']==1)]['review'].hist(color = \"rebeccapurple\",\n",
    "                                                                    bins = 50, alpha = 0.8)\n",
    "plt.title('Distribution of `pos` values across movies for the train data subset')\n",
    "plt.xlabel('Movie items ordered')\n",
    "plt.ylabel('Count')\n",
    "plt.legend(['1', '0'])\n",
    "plt.show()"
   ]
  },
  {
   "cell_type": "code",
   "execution_count": 16,
   "id": "37d274c4",
   "metadata": {},
   "outputs": [
    {
     "data": {
      "image/png": "[encoded data removed]",
      "text/plain": [
       "<Figure size 1152x216 with 1 Axes>"
      ]
     },
     "metadata": {
      "needs_background": "light"
     },
     "output_type": "display_data"
    }
   ],
   "source": [
    "plt.figure(figsize=(16, 3))\n",
    "\n",
    "dft[(dft['ds_part']=='test') & (dft['pos']==0)]['review'].hist(color = \"blue\", bins = 50, alpha = 0.5)\n",
    "dft[(dft['ds_part']=='test') & (dft['pos']==1)]['review'].hist(color = \"rebeccapurple\",\n",
    "                                                                    bins = 50, alpha = 0.8)\n",
    "plt.title('Distribution of `pos` values across movies for the test data subset')\n",
    "plt.xlabel('Movie items ordered')\n",
    "plt.ylabel('Count')\n",
    "plt.legend(['1', '0'])\n",
    "plt.show()"
   ]
  },
  {
   "cell_type": "markdown",
   "id": "5e2e8782",
   "metadata": {},
   "source": [
    "Distributions of positive and negative reviews look similar for the train and the test data subsets."
   ]
  },
  {
   "cell_type": "markdown",
   "id": "5ba80706",
   "metadata": {},
   "source": [
    "NOTE: one can further explore the similarity of the two subsets by evaluationg the distributions of the numbers of reviews across years and reviews per movie. We will proceed with the assumption that the train and the test data subsets come from the same population."
   ]
  },
  {
   "cell_type": "markdown",
   "id": "ed9a7b32",
   "metadata": {},
   "source": [
    "### Data preprocessing for modeling - clear text"
   ]
  },
  {
   "cell_type": "markdown",
   "id": "5378e21a",
   "metadata": {},
   "source": [
    "To proceed with the modeling we need to clean the data from digits, punctuations marks, etc.; we well also normalize it to lower case. To this end, we will define the `clear_text()` function."
   ]
  },
  {
   "cell_type": "code",
   "execution_count": 17,
   "id": "8d660444",
   "metadata": {},
   "outputs": [],
   "source": [
    "import re\n",
    "\n",
    "def clear_text(text):\n",
    "    \n",
    "    pattern = r\"[^a-zA-Z']\"\n",
    "    text = re.sub(pattern, \" \", text)\n",
    "    text = \" \".join(text.split())\n",
    "    text = text.lower()\n",
    "    \n",
    "    return text"
   ]
  },
  {
   "cell_type": "code",
   "execution_count": 18,
   "id": "6917a27f",
   "metadata": {},
   "outputs": [],
   "source": [
    "data = data_raw.copy()"
   ]
  },
  {
   "cell_type": "code",
   "execution_count": 19,
   "id": "1d0cec6b",
   "metadata": {},
   "outputs": [],
   "source": [
    "data['review'] = data['review'].apply(lambda x: clear_text(x))"
   ]
  },
  {
   "cell_type": "code",
   "execution_count": 20,
   "id": "ae5c9809",
   "metadata": {},
   "outputs": [
    {
     "data": {
      "text/html": [
       "<div>\n",
       "<style scoped>\n",
       "    .dataframe tbody tr th:only-of-type {\n",
       "        vertical-align: middle;\n",
       "    }\n",
       "\n",
       "    .dataframe tbody tr th {\n",
       "        vertical-align: top;\n",
       "    }\n",
       "\n",
       "    .dataframe thead th {\n",
       "        text-align: right;\n",
       "    }\n",
       "</style>\n",
       "<table border=\"1\" class=\"dataframe\">\n",
       "  <thead>\n",
       "    <tr style=\"text-align: right;\">\n",
       "      <th></th>\n",
       "      <th>tconst</th>\n",
       "      <th>review</th>\n",
       "      <th>pos</th>\n",
       "      <th>ds_part</th>\n",
       "      <th>idx</th>\n",
       "    </tr>\n",
       "  </thead>\n",
       "  <tbody>\n",
       "    <tr>\n",
       "      <th>0</th>\n",
       "      <td>tt0068152</td>\n",
       "      <td>the pakage implies that warren beatty and gold...</td>\n",
       "      <td>0</td>\n",
       "      <td>train</td>\n",
       "      <td>8335</td>\n",
       "    </tr>\n",
       "    <tr>\n",
       "      <th>1</th>\n",
       "      <td>tt0068152</td>\n",
       "      <td>how the hell did they get this made presenting...</td>\n",
       "      <td>0</td>\n",
       "      <td>train</td>\n",
       "      <td>8336</td>\n",
       "    </tr>\n",
       "    <tr>\n",
       "      <th>2</th>\n",
       "      <td>tt0313150</td>\n",
       "      <td>there is no real story the film seems more lik...</td>\n",
       "      <td>0</td>\n",
       "      <td>test</td>\n",
       "      <td>2489</td>\n",
       "    </tr>\n",
       "    <tr>\n",
       "      <th>3</th>\n",
       "      <td>tt0313150</td>\n",
       "      <td>um a serious film about troubled teens in sing...</td>\n",
       "      <td>1</td>\n",
       "      <td>test</td>\n",
       "      <td>9280</td>\n",
       "    </tr>\n",
       "    <tr>\n",
       "      <th>4</th>\n",
       "      <td>tt0313150</td>\n",
       "      <td>i'm totally agree with garryjohal from singapo...</td>\n",
       "      <td>1</td>\n",
       "      <td>test</td>\n",
       "      <td>9281</td>\n",
       "    </tr>\n",
       "  </tbody>\n",
       "</table>\n",
       "</div>"
      ],
      "text/plain": [
       "      tconst                                             review  pos ds_part  \\\n",
       "0  tt0068152  the pakage implies that warren beatty and gold...    0   train   \n",
       "1  tt0068152  how the hell did they get this made presenting...    0   train   \n",
       "2  tt0313150  there is no real story the film seems more lik...    0    test   \n",
       "3  tt0313150  um a serious film about troubled teens in sing...    1    test   \n",
       "4  tt0313150  i'm totally agree with garryjohal from singapo...    1    test   \n",
       "\n",
       "    idx  \n",
       "0  8335  \n",
       "1  8336  \n",
       "2  2489  \n",
       "3  9280  \n",
       "4  9281  "
      ]
     },
     "execution_count": 20,
     "metadata": {},
     "output_type": "execute_result"
    }
   ],
   "source": [
    "data.head()"
   ]
  },
  {
   "cell_type": "markdown",
   "id": "483d5da0",
   "metadata": {},
   "source": [
    "The whole dataset is already divided into train/test one parts, we just need to single out the target variable:"
   ]
  },
  {
   "cell_type": "code",
   "execution_count": 21,
   "id": "33dbc0db",
   "metadata": {},
   "outputs": [
    {
     "name": "stdout",
     "output_type": "stream",
     "text": [
      "(23796, 5)\n",
      "(23535, 5)\n"
     ]
    }
   ],
   "source": [
    "data_train = data.query('ds_part == \"train\"').copy()\n",
    "data_test = data.query('ds_part == \"test\"').copy()\n",
    "\n",
    "train_target = data_train['pos']\n",
    "test_target = data_test['pos']\n",
    "\n",
    "print(data_train.shape)\n",
    "print(data_test.shape)"
   ]
  },
  {
   "cell_type": "markdown",
   "id": "8636feb1",
   "metadata": {},
   "source": [
    "### Data upload and preprocessing - intermediate summary"
   ]
  },
  {
   "cell_type": "markdown",
   "id": "7105c950",
   "metadata": {},
   "source": [
    "1. We have uploaded the relevant subset of the source data and have 47331 observations which are equally divided into train and test subsets; no missing values, no duplicates, correct column names.\n",
    "2. The distributions of the target variable are similar for the two subsets.\n",
    "3. We have cleaned the `review` column from digits, punctuation and other signs, and transformed the column into lower case."
   ]
  },
  {
   "cell_type": "markdown",
   "id": "7576d092",
   "metadata": {},
   "source": [
    "[Back to Content](#content)"
   ]
  },
  {
   "cell_type": "markdown",
   "id": "1d63ebc2",
   "metadata": {},
   "source": [
    "## Modeling <a id='ml'></a>"
   ]
  },
  {
   "cell_type": "markdown",
   "id": "b8605c88",
   "metadata": {},
   "source": [
    "###  Evaluation Procedure"
   ]
  },
  {
   "cell_type": "markdown",
   "id": "800dc2fe",
   "metadata": {},
   "source": [
    "For basic evaluation, we will apply the `cross_val_score()` function."
   ]
  },
  {
   "cell_type": "code",
   "execution_count": 22,
   "id": "2e154e11",
   "metadata": {},
   "outputs": [],
   "source": [
    "from sklearn.model_selection import cross_val_score"
   ]
  },
  {
   "cell_type": "markdown",
   "id": "840cd03c",
   "metadata": {},
   "source": [
    "To evaluate the final model we will use the `evaluate_model()` function, which, beside the recommended F1 score, will include accuracy, precision, and recall metrics, as well as will present them through F1, ROC, and PRC curves."
   ]
  },
  {
   "cell_type": "code",
   "execution_count": 23,
   "id": "c3f791ca",
   "metadata": {},
   "outputs": [],
   "source": [
    "import sklearn.metrics as metrics\n",
    "\n",
    "def evaluate_model(model, train_features, train_target, test_features, test_target):\n",
    "    \n",
    "    eval_stats = {}\n",
    "    \n",
    "    fig, axs = plt.subplots(1, 3, figsize=(20, 6)) \n",
    "    \n",
    "    for type, features, target in (('train', train_features, train_target), ('test', test_features, test_target)):\n",
    "        \n",
    "        eval_stats[type] = {}\n",
    "    \n",
    "        pred_target = model.predict(features)\n",
    "        pred_proba = model.predict_proba(features)[:, 1]\n",
    "        \n",
    "        # F1\n",
    "        f1_thresholds = np.arange(0, 1.01, 0.05)\n",
    "        f1_scores = [metrics.f1_score(target, pred_proba>=threshold) for threshold in f1_thresholds]\n",
    "        \n",
    "        # ROC\n",
    "        fpr, tpr, roc_thresholds = metrics.roc_curve(target, pred_proba)\n",
    "        roc_auc = metrics.roc_auc_score(target, pred_proba)    \n",
    "        eval_stats[type]['ROC AUC'] = roc_auc\n",
    "\n",
    "        # PRC\n",
    "        precision, recall, pr_thresholds = metrics.precision_recall_curve(target, pred_proba)\n",
    "        aps = metrics.average_precision_score(target, pred_proba)\n",
    "        eval_stats[type]['Average Precision Score'] = aps\n",
    "        \n",
    "        # Recall\n",
    "        rs = metrics.recall_score(target, pred_target)\n",
    "        eval_stats[type]['Recall'] = rs\n",
    "        \n",
    "        if type == 'train':\n",
    "            color = 'blue'\n",
    "        else:\n",
    "            color = 'green'\n",
    "\n",
    "        # F1 Score\n",
    "        ax = axs[0]\n",
    "        max_f1_score_idx = np.argmax(f1_scores)\n",
    "        ax.plot(f1_thresholds, f1_scores, color=color, label=f'{type}, max={f1_scores[max_f1_score_idx]:.2f} @ {f1_thresholds[max_f1_score_idx]:.2f}')\n",
    "        # setting crosses for some thresholds\n",
    "        for threshold in (0.2, 0.4, 0.5, 0.6, 0.8):\n",
    "            closest_value_idx = np.argmin(np.abs(f1_thresholds-threshold))\n",
    "            marker_color = 'orange' if threshold != 0.5 else 'red'\n",
    "            ax.plot(f1_thresholds[closest_value_idx], f1_scores[closest_value_idx], color=marker_color, marker='X', markersize=7)\n",
    "        ax.set_xlim([-0.02, 1.02])    \n",
    "        ax.set_ylim([-0.02, 1.02])\n",
    "        ax.set_xlabel('threshold')\n",
    "        ax.set_ylabel('F1')\n",
    "        ax.legend(loc='upper center')\n",
    "        ax.set_title(f'F1 Score') \n",
    "\n",
    "        # ROC\n",
    "        ax = axs[1]    \n",
    "        ax.plot(fpr, tpr, color=color, label=f'{type}, ROC AUC={roc_auc:.2f}')\n",
    "        # setting crosses for some thresholds\n",
    "        for threshold in (0.2, 0.4, 0.5, 0.6, 0.8):\n",
    "            closest_value_idx = np.argmin(np.abs(roc_thresholds-threshold))\n",
    "            marker_color = 'orange' if threshold != 0.5 else 'red'            \n",
    "            ax.plot(fpr[closest_value_idx], tpr[closest_value_idx], color=marker_color, marker='X', markersize=7)\n",
    "        ax.plot([0, 1], [0, 1], color='grey', linestyle='--')\n",
    "        ax.set_xlim([-0.02, 1.02])    \n",
    "        ax.set_ylim([-0.02, 1.02])\n",
    "        ax.set_xlabel('FPR')\n",
    "        ax.set_ylabel('TPR')\n",
    "        ax.legend(loc='lower center')        \n",
    "        ax.set_title(f'ROC Curve')\n",
    "        \n",
    "        # PRC\n",
    "        ax = axs[2]\n",
    "        ax.plot(recall, precision, color=color, label=f'{type}, APS={aps:.2f}')\n",
    "        # setting crosses for some thresholds\n",
    "        for threshold in (0.2, 0.4, 0.5, 0.6, 0.8):\n",
    "            closest_value_idx = np.argmin(np.abs(pr_thresholds-threshold))\n",
    "            marker_color = 'orange' if threshold != 0.5 else 'red'\n",
    "            ax.plot(recall[closest_value_idx], precision[closest_value_idx], color=marker_color, marker='X', markersize=7)\n",
    "        ax.set_xlim([-0.02, 1.02])    \n",
    "        ax.set_ylim([-0.02, 1.02])\n",
    "        ax.set_xlabel('recall')\n",
    "        ax.set_ylabel('precision')\n",
    "        ax.legend(loc='lower center')\n",
    "        ax.set_title(f'PRC')        \n",
    "\n",
    "        eval_stats[type]['Accuracy'] = metrics.accuracy_score(target, pred_target)\n",
    "        eval_stats[type]['F1'] = metrics.f1_score(target, pred_target)\n",
    "    \n",
    "    df_eval_stats = pd.DataFrame(eval_stats)\n",
    "    df_eval_stats = df_eval_stats.round(3)\n",
    "    df_eval_stats = df_eval_stats.reindex(index=('Accuracy', 'F1', 'Average Precision Score', 'Recall', 'ROC AUC'))\n",
    "    \n",
    "    print(df_eval_stats)\n",
    "    \n",
    "    return"
   ]
  },
  {
   "cell_type": "markdown",
   "id": "b7d2a023",
   "metadata": {},
   "source": [
    "### Baseline"
   ]
  },
  {
   "cell_type": "markdown",
   "id": "e4667f9d",
   "metadata": {},
   "source": [
    "#### Bag-of-words, nltk, Stopwords"
   ]
  },
  {
   "cell_type": "markdown",
   "id": "ebf1e2a6",
   "metadata": {},
   "source": [
    "As a basic approach, we can apply modeling procedures to the `review` variable vectorized with the basic version of the \"bag-of-word\" method. This means we're going to transform our texts from word sequences to feature vectors. In `Scikit-learn`, we can construct these raw feature vectors with the `CountVectorizer`, which tokenizes a text and counts the number of times any given text contains every token in the corpus. One peculiarity should be taken into account at this step: usually conjunctions and prepositions are jumbled up; a prefered way is to drop them, since it can be done without loosing the meaning of the sentence. Thus, we will end up with a smaller and cleaner bag-of-words, with a higher share of words important for text classification."
   ]
  },
  {
   "cell_type": "code",
   "execution_count": 24,
   "id": "1ec0a076",
   "metadata": {},
   "outputs": [],
   "source": [
    "from sklearn.feature_extraction.text import CountVectorizer\n",
    "from nltk.corpus import stopwords\n",
    "from sklearn.dummy import DummyClassifier"
   ]
  },
  {
   "cell_type": "markdown",
   "id": "1585d95a",
   "metadata": {},
   "source": [
    "We need to download the package once to make it work:"
   ]
  },
  {
   "cell_type": "code",
   "execution_count": 25,
   "id": "a659196d",
   "metadata": {},
   "outputs": [
    {
     "name": "stderr",
     "output_type": "stream",
     "text": [
      "[nltk_data] Downloading package stopwords to\n",
      "[nltk_data]     C:\\Users\\zheni\\AppData\\Roaming\\nltk_data...\n",
      "[nltk_data]   Package stopwords is already up-to-date!\n"
     ]
    },
    {
     "data": {
      "text/plain": [
       "True"
      ]
     },
     "execution_count": 25,
     "metadata": {},
     "output_type": "execute_result"
    }
   ],
   "source": [
    "import nltk\n",
    "nltk.download('stopwords')"
   ]
  },
  {
   "cell_type": "markdown",
   "id": "93157468",
   "metadata": {},
   "source": [
    "We should call the `stopwords.words()` function and use `'english'` as an argument to get a set of stop words for English:"
   ]
  },
  {
   "cell_type": "code",
   "execution_count": 26,
   "id": "acf79eb1",
   "metadata": {},
   "outputs": [],
   "source": [
    "stop_words = set(stopwords.words('english'))"
   ]
  },
  {
   "cell_type": "markdown",
   "id": "0b0ca01e",
   "metadata": {},
   "source": [
    "Now, we will create the counter and pass the stop word list to the `CountVectorizer()` when you create the counter:"
   ]
  },
  {
   "cell_type": "code",
   "execution_count": 27,
   "id": "f0258148",
   "metadata": {},
   "outputs": [],
   "source": [
    "count_vect = CountVectorizer(stop_words=stop_words)"
   ]
  },
  {
   "cell_type": "markdown",
   "id": "00b8414b",
   "metadata": {},
   "source": [
    "Now, let's apply the `fit_transform()` method to the `review` column of the `data` dataframe:"
   ]
  },
  {
   "cell_type": "code",
   "execution_count": 28,
   "id": "4f3ac652",
   "metadata": {},
   "outputs": [],
   "source": [
    "bag_of_words_train = count_vect.fit_transform(data_train['review'])"
   ]
  },
  {
   "cell_type": "code",
   "execution_count": 29,
   "id": "82135057",
   "metadata": {},
   "outputs": [
    {
     "data": {
      "text/plain": [
       "<23796x71531 sparse matrix of type '<class 'numpy.int64'>'\n",
       "\twith 2332924 stored elements in Compressed Sparse Row format>"
      ]
     },
     "execution_count": 29,
     "metadata": {},
     "output_type": "execute_result"
    }
   ],
   "source": [
    "bag_of_words_train"
   ]
  },
  {
   "cell_type": "markdown",
   "id": "9c3c5337",
   "metadata": {},
   "source": [
    "We received a \"bag\", effectively a feature matrix, with the same number of rows (observations), 23796, and 71531 individual words in it. Note: for the whole dataset the number of the tokens (words) in the bag would be higher, but we can train our model only using the train subset."
   ]
  },
  {
   "cell_type": "code",
   "execution_count": 30,
   "id": "77c8c8a5",
   "metadata": {},
   "outputs": [],
   "source": [
    "bag_of_words_test = count_vect.transform(data_test['review'])"
   ]
  },
  {
   "cell_type": "code",
   "execution_count": 31,
   "id": "19a81243",
   "metadata": {},
   "outputs": [
    {
     "data": {
      "text/plain": [
       "<23535x71531 sparse matrix of type '<class 'numpy.int64'>'\n",
       "\twith 2215241 stored elements in Compressed Sparse Row format>"
      ]
     },
     "execution_count": 31,
     "metadata": {},
     "output_type": "execute_result"
    }
   ],
   "source": [
    "bag_of_words_test"
   ]
  },
  {
   "cell_type": "markdown",
   "id": "0f0a51d6-b1d4-4a0d-85fd-4f111a2965bb",
   "metadata": {},
   "source": [
    "#### Dummy Classifier"
   ]
  },
  {
   "cell_type": "markdown",
   "id": "634fb45b",
   "metadata": {},
   "source": [
    "Before we proceed, let's establish a [`DummyClassifier`](https://scikit-learn.org/stable/modules/generated/sklearn.dummy.DummyClassifier.html) model. Note: DummyClassifier does not look at the features at all (it just implements some very basic strategies using only train set targets)."
   ]
  },
  {
   "cell_type": "code",
   "execution_count": 32,
   "id": "0b40821b",
   "metadata": {},
   "outputs": [],
   "source": [
    "dummy_classifier = DummyClassifier(random_state = 54321)  # default strategy='prior', returns the most frequent class label"
   ]
  },
  {
   "cell_type": "code",
   "execution_count": 33,
   "id": "cf452f8a",
   "metadata": {},
   "outputs": [
    {
     "name": "stdout",
     "output_type": "stream",
     "text": [
      "Training the dummy classifier...\n"
     ]
    },
    {
     "data": {
      "text/plain": [
       "DummyClassifier(random_state=54321)"
      ]
     },
     "execution_count": 33,
     "metadata": {},
     "output_type": "execute_result"
    }
   ],
   "source": [
    "print(\"Training the dummy classifier...\")\n",
    "dummy_classifier.fit(bag_of_words_train, train_target)"
   ]
  },
  {
   "cell_type": "markdown",
   "id": "f72b5af5",
   "metadata": {},
   "source": [
    "Let's try and evaluate this model. Note: A dummy classifier make a random prediction in "
   ]
  },
  {
   "cell_type": "code",
   "execution_count": 34,
   "id": "3cf04fa4",
   "metadata": {},
   "outputs": [],
   "source": [
    "scores_dummy = cross_val_score(dummy_classifier,  bag_of_words_train, train_target, cv=5, scoring = 'f1')"
   ]
  },
  {
   "cell_type": "code",
   "execution_count": 35,
   "id": "0e7e0ada",
   "metadata": {},
   "outputs": [
    {
     "data": {
      "text/plain": [
       "array([0., 0., 0., 0., 0.])"
      ]
     },
     "execution_count": 35,
     "metadata": {},
     "output_type": "execute_result"
    }
   ],
   "source": [
    "scores_dummy"
   ]
  },
  {
   "cell_type": "markdown",
   "id": "5c762890",
   "metadata": {},
   "source": [
    "As expected, F1 equals zero, which means zero true (actually predicted) positives."
   ]
  },
  {
   "cell_type": "markdown",
   "id": "79836c1a",
   "metadata": {},
   "source": [
    "Let's proceed to a basic non-dummy model."
   ]
  },
  {
   "cell_type": "markdown",
   "id": "1416a2a9",
   "metadata": {},
   "source": [
    "### Logistic Regression"
   ]
  },
  {
   "cell_type": "markdown",
   "id": "752d116a",
   "metadata": {},
   "source": [
    "#### Bag-of-words, nltk, Stopwords, TF-IDF, Logistic Regression"
   ]
  },
  {
   "cell_type": "markdown",
   "id": "a0cf868d",
   "metadata": {},
   "source": [
    "Actually, raw word counts are not very informative: the feature vectors of most texts in the same language will be very similar, while what we are interested in words which distinguish a positive review from a negative the most, i.e. possess the most meaning: words that occur often in positive reviews are expected to occur less often in the corpus, in general, and in the negative reviews, in particular, and vice versa. To assign more weight to these more meaningful words, we can use the [TF-IDF score](https://en.wikipedia.org/wiki/Tf%E2%80%93idf), which counts the number of times every token appears in a text and divides it by (the logarithm of) the percentage of corpus documents that contain that token. This weighting is performed by Scikit-learn's `TfidfTransformer`. To obtain the weighted feature vectors, we combine the `CountVectorizer` and `TfidfTransformer` in a `Pipeline`, and fit this pipeline on the training data. We then transform both the training texts and the test texts to a collection of such weighted feature vectors. Scikit-learn also has a `TfidfVectorizer`, which achieves the same result as our pipeline."
   ]
  },
  {
   "cell_type": "markdown",
   "id": "1eaa1460",
   "metadata": {},
   "source": [
    "As to classification itself, we will apply the basic `LogisticClassifier()` for binary classification. Note: in `LogisticClassifier()` regularization is applied by default; we will use the `C` parameter of the classifier, a positive float for inverse of regularization strength, as the hyperparameter for tuning later on."
   ]
  },
  {
   "cell_type": "code",
   "execution_count": 36,
   "id": "decea079",
   "metadata": {},
   "outputs": [],
   "source": [
    "from sklearn.feature_extraction.text import TfidfTransformer\n",
    "from sklearn.pipeline import Pipeline\n",
    "from sklearn.linear_model import LogisticRegression"
   ]
  },
  {
   "cell_type": "code",
   "execution_count": 37,
   "id": "e875defd",
   "metadata": {},
   "outputs": [
    {
     "name": "stdout",
     "output_type": "stream",
     "text": [
      "Preprocessing training data...\n",
      "Preprocessing test data...\n"
     ]
    }
   ],
   "source": [
    "preprocessing = Pipeline([\n",
    "    ('vect', CountVectorizer(stop_words=stop_words)),\n",
    "    ('tfidf', TfidfTransformer())\n",
    "])\n",
    "  \n",
    "print(\"Preprocessing training data...\")\n",
    "train_preprocessed = preprocessing.fit_transform(data_train['review'])\n",
    "\n",
    "print(\"Preprocessing test data...\")\n",
    "test_preprocessed = preprocessing.transform(data_test['review'])"
   ]
  },
  {
   "cell_type": "markdown",
   "id": "ad1b593c",
   "metadata": {},
   "source": [
    "Let's apply the logistic regression model to unweighted vectorized text data:"
   ]
  },
  {
   "cell_type": "code",
   "execution_count": 38,
   "id": "c7ff2254",
   "metadata": {},
   "outputs": [],
   "source": [
    "lr_classifier = LogisticRegression(random_state=54321, solver = 'liblinear')\n",
    "scores_lr_classifier = cross_val_score(lr_classifier,  bag_of_words_train, train_target, cv=5, scoring = 'f1')"
   ]
  },
  {
   "cell_type": "code",
   "execution_count": 39,
   "id": "25d22877",
   "metadata": {},
   "outputs": [
    {
     "data": {
      "text/plain": [
       "array([0.86802778, 0.84821044, 0.84712838, 0.83695189, 0.8484718 ])"
      ]
     },
     "execution_count": 39,
     "metadata": {},
     "output_type": "execute_result"
    }
   ],
   "source": [
    "scores_lr_classifier"
   ]
  },
  {
   "cell_type": "code",
   "execution_count": 40,
   "id": "3cdb1e2e",
   "metadata": {},
   "outputs": [
    {
     "data": {
      "text/plain": [
       "0.8497580591321408"
      ]
     },
     "execution_count": 40,
     "metadata": {},
     "output_type": "execute_result"
    }
   ],
   "source": [
    "scores_lr_classifier.mean()"
   ]
  },
  {
   "cell_type": "markdown",
   "id": "39cf540b",
   "metadata": {},
   "source": [
    "OK, we have a baseline F1 score of 0.84976. Now, let's apply it to weighted vectorized text data:"
   ]
  },
  {
   "cell_type": "code",
   "execution_count": 41,
   "id": "93578a87",
   "metadata": {},
   "outputs": [],
   "source": [
    "lr_classifier_tf_idf = LogisticRegression(random_state=54321, solver = 'liblinear')\n",
    "scores_lr_classifier_tf_idf = cross_val_score(lr_classifier_tf_idf,  train_preprocessed, train_target, cv=5, scoring = 'f1')"
   ]
  },
  {
   "cell_type": "code",
   "execution_count": 42,
   "id": "c6410d38",
   "metadata": {},
   "outputs": [
    {
     "data": {
      "text/plain": [
       "array([0.88513654, 0.87234043, 0.86918785, 0.86041578, 0.87167581])"
      ]
     },
     "execution_count": 42,
     "metadata": {},
     "output_type": "execute_result"
    }
   ],
   "source": [
    "scores_lr_classifier_tf_idf"
   ]
  },
  {
   "cell_type": "code",
   "execution_count": 43,
   "id": "3d3a713c",
   "metadata": {},
   "outputs": [
    {
     "data": {
      "text/plain": [
       "0.871751282657596"
      ]
     },
     "execution_count": 43,
     "metadata": {},
     "output_type": "execute_result"
    }
   ],
   "source": [
    "scores_lr_classifier_tf_idf.mean()"
   ]
  },
  {
   "cell_type": "markdown",
   "id": "e8e59830",
   "metadata": {},
   "source": [
    "For TF-IDF weighted data, the F1 score equals 0.87175."
   ]
  },
  {
   "cell_type": "markdown",
   "id": "ff0f2e93",
   "metadata": {},
   "source": [
    "#### Finetuning the regularization strength of the `LogisticClassifier()`"
   ]
  },
  {
   "cell_type": "markdown",
   "id": "922f8a38",
   "metadata": {},
   "source": [
    "In this part, we will explore the parameter space a bit more extensively, and find out what `C` hyperparameter values give the best results using grid search. We will also take advantage of the cross-validation mechanism of the grid search: for each parameter value / combination in the grid, it fits a predefined number of models (`n`, the `cv` parameter in `GridSearchCV`. It splits up the training data in `n`folds, fits a model on all but one of these folds, and tests it on the held-out fold. When it has done this `n` times, it computes the average performance, and moves on. It performs the full hyperparameter grid in this way and keeps the model with the best average performance over the folds.\n",
    "\n",
    "As mentioned above, in this example, we'll experiment with the `C` hyperparameter, which constrols the degree of regularization in logistic regression models (as well as in support vector machines). Regularization combats overfitting by imposing a penalty on large parameter values in the model. The lower the `C` value, the more strict regularization is applied.\n",
    "\n",
    "In addition, we will try different solvers, to overcome the convergence issue of the default, `lbfgs` solver."
   ]
  },
  {
   "cell_type": "code",
   "execution_count": 44,
   "id": "0dd8c3cd",
   "metadata": {},
   "outputs": [],
   "source": [
    "from sklearn.model_selection import GridSearchCV"
   ]
  },
  {
   "cell_type": "code",
   "execution_count": 45,
   "id": "04e1670d",
   "metadata": {},
   "outputs": [],
   "source": [
    "parameters = {\n",
    "    'C': np.logspace(0, 1, 3, 7, 10),\n",
    "    'solver': ['liblinear', 'saga']  # default `lbfgs` solver experiences convergence issues\n",
    "} "
   ]
  },
  {
   "cell_type": "code",
   "execution_count": 46,
   "id": "9291126f",
   "metadata": {},
   "outputs": [
    {
     "name": "stdout",
     "output_type": "stream",
     "text": [
      "Grid search for logistic regression\n"
     ]
    },
    {
     "data": {
      "text/plain": [
       "GridSearchCV(cv=5, estimator=LogisticRegression(random_state=54321),\n",
       "             param_grid={'C': array([ 1.        ,  3.16227766, 10.        ]),\n",
       "                         'solver': ['liblinear', 'saga']})"
      ]
     },
     "execution_count": 46,
     "metadata": {},
     "output_type": "execute_result"
    }
   ],
   "source": [
    "print(\"Grid search for logistic regression\")\n",
    "lr_classifier = LogisticRegression(random_state=54321)\n",
    "lr_best = GridSearchCV(lr_classifier, parameters, cv=5)\n",
    "lr_best.fit(train_preprocessed, train_target)"
   ]
  },
  {
   "cell_type": "code",
   "execution_count": 47,
   "id": "b41eb1d9",
   "metadata": {},
   "outputs": [
    {
     "name": "stdout",
     "output_type": "stream",
     "text": [
      "Best LR parameters:\n",
      "{'C': 1.0, 'solver': 'liblinear'}\n"
     ]
    }
   ],
   "source": [
    "print(\"Best LR parameters:\")\n",
    "print(lr_best.best_params_)"
   ]
  },
  {
   "cell_type": "code",
   "execution_count": 48,
   "id": "6cc123c0",
   "metadata": {},
   "outputs": [
    {
     "data": {
      "text/plain": [
       "0.8718266760370884"
      ]
     },
     "execution_count": 48,
     "metadata": {},
     "output_type": "execute_result"
    }
   ],
   "source": [
    "lr_best.best_score_"
   ]
  },
  {
   "cell_type": "markdown",
   "id": "8c1d8cee",
   "metadata": {},
   "source": [
    "For the best LR parameters and TF-IDF weighted data, the cross validated F1 score is a only a tiny bit higher, 0.87183."
   ]
  },
  {
   "cell_type": "markdown",
   "id": "4e2f5759",
   "metadata": {},
   "source": [
    "#### Spacy, TF-IDF, Lemmatization, Logistic Regression"
   ]
  },
  {
   "cell_type": "markdown",
   "id": "69408c44",
   "metadata": {},
   "source": [
    "In this model we will use the `spacy` library for lemmatization before vectorizing the reviews. In the same manner that we intriduced the `clear_text()` function, let's define `lemmatize()` function:"
   ]
  },
  {
   "cell_type": "code",
   "execution_count": 49,
   "id": "a3cf3762",
   "metadata": {},
   "outputs": [],
   "source": [
    "#!python -m spacy download en_core_web_sm"
   ]
  },
  {
   "cell_type": "code",
   "execution_count": 50,
   "id": "3db44a6f",
   "metadata": {},
   "outputs": [],
   "source": [
    "import spacy"
   ]
  },
  {
   "cell_type": "code",
   "execution_count": 51,
   "id": "d56f3142",
   "metadata": {},
   "outputs": [],
   "source": [
    "nlp = spacy.load('en_core_web_sm', disable=['parser', 'ner'])\n",
    "def lemmatize(text):\n",
    "\n",
    "    doc = nlp(text.lower())\n",
    "    \n",
    "    lemmas = []\n",
    "    for token in doc:\n",
    "        lemmas.append(token.lemma_)\n",
    "        \n",
    "    return ' '.join(lemmas)"
   ]
  },
  {
   "cell_type": "code",
   "execution_count": 52,
   "id": "e17a20d7",
   "metadata": {},
   "outputs": [],
   "source": [
    "# make another copy of the raw data\n",
    "data_sp = data_raw.copy()"
   ]
  },
  {
   "cell_type": "markdown",
   "id": "024a15e4",
   "metadata": {},
   "source": [
    "*Note: time-consuming cell ahead!*"
   ]
  },
  {
   "cell_type": "code",
   "execution_count": 53,
   "id": "f201283f",
   "metadata": {},
   "outputs": [],
   "source": [
    "data_sp['review'] = data_sp['review'].apply(lambda x: lemmatize(clear_text(x)))"
   ]
  },
  {
   "cell_type": "code",
   "execution_count": 54,
   "id": "b1630664",
   "metadata": {},
   "outputs": [],
   "source": [
    "data_train_sp = data_sp.query('ds_part == \"train\"').copy()\n",
    "data_test_sp = data_sp.query('ds_part == \"test\"').copy()"
   ]
  },
  {
   "cell_type": "markdown",
   "id": "9110df44",
   "metadata": {},
   "source": [
    "Now we can define, train, and check the performance of the model:"
   ]
  },
  {
   "cell_type": "code",
   "execution_count": 55,
   "id": "82d1fd3f",
   "metadata": {},
   "outputs": [
    {
     "name": "stdout",
     "output_type": "stream",
     "text": [
      "Preprocessing training data...\n",
      "Preprocessing test data...\n",
      "Scoring Logistic Regression classifier with TF-IDF weighted `spacy` lemmatized clean text data...\n"
     ]
    }
   ],
   "source": [
    "preprocessing_sp = Pipeline([\n",
    "    ('vect', CountVectorizer(stop_words=stop_words)),\n",
    "    ('tfidf', TfidfTransformer())\n",
    "])\n",
    "  \n",
    "print(\"Preprocessing training data...\")\n",
    "train_preprocessed_sp = preprocessing_sp.fit_transform(data_train_sp['review'])\n",
    "\n",
    "print(\"Preprocessing test data...\")\n",
    "test_preprocessed_sp = preprocessing_sp.transform(data_test_sp['review'])\n",
    "\n",
    "lr_classifier_sp = LogisticRegression(random_state=54321)\n",
    "print(\"Scoring Logistic Regression classifier with TF-IDF weighted `spacy` lemmatized clean text data...\")\n",
    "scores_lr_classifier_sp = cross_val_score(lr_classifier_sp,  train_preprocessed_sp, train_target, cv=5, scoring = 'f1')"
   ]
  },
  {
   "cell_type": "code",
   "execution_count": 56,
   "id": "ca90894e",
   "metadata": {},
   "outputs": [
    {
     "data": {
      "text/plain": [
       "array([0.87860552, 0.86764393, 0.86503194, 0.8536379 , 0.86752588])"
      ]
     },
     "execution_count": 56,
     "metadata": {},
     "output_type": "execute_result"
    }
   ],
   "source": [
    "scores_lr_classifier_sp"
   ]
  },
  {
   "cell_type": "code",
   "execution_count": 57,
   "id": "7ff92a34",
   "metadata": {},
   "outputs": [
    {
     "data": {
      "text/plain": [
       "0.866489035471071"
      ]
     },
     "execution_count": 57,
     "metadata": {},
     "output_type": "execute_result"
    }
   ],
   "source": [
    "scores_lr_classifier_sp.mean()"
   ]
  },
  {
   "cell_type": "markdown",
   "id": "3442bda9",
   "metadata": {},
   "source": [
    "All in all, the use of spacy lemmatize function does not result in a better performance for Logistic Regression model."
   ]
  },
  {
   "cell_type": "markdown",
   "id": "e9e07dc1",
   "metadata": {},
   "source": [
    "### LightGBM Classifier"
   ]
  },
  {
   "cell_type": "markdown",
   "id": "e02c79e1",
   "metadata": {},
   "source": [
    "#### Bag-of-words, TF-IDF, LightGBM Classifier"
   ]
  },
  {
   "cell_type": "markdown",
   "id": "3e3e5824",
   "metadata": {},
   "source": [
    "Let's try another family of models, LightGBM."
   ]
  },
  {
   "cell_type": "code",
   "execution_count": 58,
   "id": "28e7d343",
   "metadata": {},
   "outputs": [
    {
     "name": "stderr",
     "output_type": "stream",
     "text": [
      "C:\\Users\\zheni\\anaconda3\\lib\\site-packages\\dask\\dataframe\\utils.py:369: FutureWarning: pandas.Int64Index is deprecated and will be removed from pandas in a future version. Use pandas.Index with the appropriate dtype instead.\n",
      "  _numeric_index_types = (pd.Int64Index, pd.Float64Index, pd.UInt64Index)\n",
      "C:\\Users\\zheni\\anaconda3\\lib\\site-packages\\dask\\dataframe\\utils.py:369: FutureWarning: pandas.Float64Index is deprecated and will be removed from pandas in a future version. Use pandas.Index with the appropriate dtype instead.\n",
      "  _numeric_index_types = (pd.Int64Index, pd.Float64Index, pd.UInt64Index)\n",
      "C:\\Users\\zheni\\anaconda3\\lib\\site-packages\\dask\\dataframe\\utils.py:369: FutureWarning: pandas.UInt64Index is deprecated and will be removed from pandas in a future version. Use pandas.Index with the appropriate dtype instead.\n",
      "  _numeric_index_types = (pd.Int64Index, pd.Float64Index, pd.UInt64Index)\n"
     ]
    }
   ],
   "source": [
    "from lightgbm import LGBMClassifier"
   ]
  },
  {
   "cell_type": "code",
   "execution_count": 59,
   "id": "5e970c1f",
   "metadata": {},
   "outputs": [
    {
     "name": "stdout",
     "output_type": "stream",
     "text": [
      "Scoring LightGBM classifier with TF-IDF weighted clean text data...\n"
     ]
    }
   ],
   "source": [
    "lgbm_classifier = LGBMClassifier(random_state=54321)\n",
    "print(\"Scoring LightGBM classifier with TF-IDF weighted clean text data...\")\n",
    "scores_lr_classifier_lgbm = cross_val_score(lgbm_classifier,  train_preprocessed, train_target, cv=5, scoring = 'f1')"
   ]
  },
  {
   "cell_type": "code",
   "execution_count": 60,
   "id": "523a42ba",
   "metadata": {},
   "outputs": [
    {
     "data": {
      "text/plain": [
       "array([0.86422281, 0.85732297, 0.8530747 , 0.84415584, 0.84994797])"
      ]
     },
     "execution_count": 60,
     "metadata": {},
     "output_type": "execute_result"
    }
   ],
   "source": [
    "scores_lr_classifier_lgbm"
   ]
  },
  {
   "cell_type": "code",
   "execution_count": 61,
   "id": "67123b39",
   "metadata": {},
   "outputs": [
    {
     "data": {
      "text/plain": [
       "0.8537448593315009"
      ]
     },
     "execution_count": 61,
     "metadata": {},
     "output_type": "execute_result"
    }
   ],
   "source": [
    "scores_lr_classifier_lgbm.mean()"
   ]
  },
  {
   "cell_type": "code",
   "execution_count": 62,
   "id": "d4208512",
   "metadata": {},
   "outputs": [
    {
     "name": "stdout",
     "output_type": "stream",
     "text": [
      "Scoring LightGBM classifier with TF-IDF weighted `spacy` lemmatized clean text data...\n"
     ]
    }
   ],
   "source": [
    "lgbm_classifier_sp = LGBMClassifier(random_state=54321)\n",
    "print(\"Scoring LightGBM classifier with TF-IDF weighted `spacy` lemmatized clean text data...\")\n",
    "scores_lr_classifier_lgbm_sp = cross_val_score(lgbm_classifier_sp,  train_preprocessed_sp, train_target, cv=5, scoring = 'f1')"
   ]
  },
  {
   "cell_type": "code",
   "execution_count": 63,
   "id": "f2980546",
   "metadata": {},
   "outputs": [
    {
     "data": {
      "text/plain": [
       "array([0.86551866, 0.85466836, 0.84907216, 0.83922225, 0.8524796 ])"
      ]
     },
     "execution_count": 63,
     "metadata": {},
     "output_type": "execute_result"
    }
   ],
   "source": [
    "scores_lr_classifier_lgbm_sp"
   ]
  },
  {
   "cell_type": "code",
   "execution_count": 64,
   "id": "59dbf046",
   "metadata": {},
   "outputs": [
    {
     "data": {
      "text/plain": [
       "0.8521922040798916"
      ]
     },
     "execution_count": 64,
     "metadata": {},
     "output_type": "execute_result"
    }
   ],
   "source": [
    "scores_lr_classifier_lgbm_sp.mean()"
   ]
  },
  {
   "cell_type": "markdown",
   "id": "c49347ab",
   "metadata": {},
   "source": [
    "`LGBMClassifier()` performs worse on either type of preprocessed data."
   ]
  },
  {
   "cell_type": "markdown",
   "id": "6a876a47",
   "metadata": {},
   "source": [
    "### BERT"
   ]
  },
  {
   "cell_type": "markdown",
   "id": "3c89c02d",
   "metadata": {},
   "source": [
    "Recent developments in text analysis take context and the meaning of words into account when transforming text into vectors. This isn't possible with the bag-of-words model or TF-IDF because both models treat every word as a separate component of text.\n",
    "\n",
    "Machines cannot work directly with words, images, and audio because they are designed to work with numbers. Language models transform text into vectors and use a set of techniques which are collectively called word embeddings. That is, a word is embedded into a vector space that represents a language model. Different areas in that vector space have different meanings from the language perspective.\n",
    "\n",
    "A vector made from a word using word embedding will carry some contextual information about the word and its semantic properties. This way, the conventional definition of a word and its meaning in context isn't lost.\n",
    "\n",
    "One of the algorithms capable of \"understanding\" the context, is `BERT`. Moreover, `BERT` is capable of \"understanding\" the context of a whole text, not just short phrases; hence, it is frequently used in machine learning to convert texts into vectors. `BERT` (Bidirectional Encoder Representations from Transformers) is **a neural network model** created by Google to enhance the relevance of search results and was published in 2018 (the original article can be found at: https://arxiv.org/abs/1810.04805). When processing words, BERT takes into account both immediate neighbors and more distant words. This allows BERT to produce accurate vectors with respect to the natural meaning of words. Existing BERT models are usually applied, that are pre-trained (by Google or other contributors) on large text corpora.\n",
    "\n",
    "In this section, we will solve the classification task for movie reviews by using BERT language representation, i.e. by using BERT to create vectors for words. We will use a pre-trained model called bert-base-uncased (trained on lowercased English texts). To this end, we will use the `PyTorch` and `transformers` libraries. The first library is used for working with neural network models, and the second one implements BERT and other language representation models.\n",
    "\n",
    "NOTE: BERT has its own tokenizer based on the corpus it was trained on, and lemmatization is not required."
   ]
  },
  {
   "cell_type": "code",
   "execution_count": 65,
   "id": "58b7f4e9",
   "metadata": {},
   "outputs": [],
   "source": [
    "import torch\n",
    "import transformers"
   ]
  },
  {
   "cell_type": "markdown",
   "id": "7607659e",
   "metadata": {},
   "source": [
    "#### Preprocessing the text"
   ]
  },
  {
   "cell_type": "markdown",
   "id": "61c0e0a4",
   "metadata": {},
   "source": [
    "To preprocess the text column of interest, we need to implement the following algorithm:\n",
    "\n",
    "1. Initialize the tokenizer as an instance of `BertTokenizer()` with the name of the pre-trained model.\n",
    "\n",
    "Note: we will use the pre-trained model which is called `'bert-base-uncased'` in transformers; one can check out an overview of it [here](https://huggingface.co/transformers/pretrained_models.html), and for more details, read [here](https://huggingface.co/bert-base-uncased).\n",
    "\n",
    "2. Convert the text into IDs of tokens, and the BERT tokenizer will return IDs of tokens rather than tokens. To operate the model correctly, we set the `add_special_tokens` argument to True. It means that we add the beginning token (101) and the end token (102) to any text that's being transformed.\n",
    "\n",
    "Note: the token IDs above are essentially numerical indices for tokens in the internal dictionary used by BERT; the dictionary used to pre-train BERT, is part of the BERT model, and is loaded with the from_pretrained method.\n",
    "\n",
    "3. BERT accepts vectors of a fixed length, e.g. of 512 tokens. If there are not enough words in an input string to fill in the whole vector with tokens (or, rather, their identifiers), the end of the vector is padded with zeros. If there are too many words and the vector length exceeds 510 (remember, two positions are reserved for the beginning and end tokens), the input string is either limited to the size of 510 or some identifiers returned from `tokenizer.encode()` are usually skipped, e.g. all identifiers after the position 512 in the list.\n",
    "\n",
    "Note: we have to tell the model that some zeros do not carry significant information; this is necessary for the component of the model that is called attention; we will discard these tokens by creating a mask for the important tokens, indicating zero and non-zero values."
   ]
  },
  {
   "cell_type": "markdown",
   "id": "9d088448",
   "metadata": {},
   "source": [
    "**Another important consideration must be taken into account**: running BERT for thousands of texts may take long run on CPU, at least several hours; thus we have to limit the sample size.\n",
    "\n",
    "**Last note**: we will apply the preprocessing algorithm to the train dataset sub-sample and, after computing the embeddings, will use cross validation technique with `scoring=\"f1\"` to check whether the BERT based LogisticClassifier results in any better scoring than the basic Logistic Regression model above. "
   ]
  },
  {
   "cell_type": "markdown",
   "id": "8f0a69cc",
   "metadata": {},
   "source": [
    "Let's combine it into the code below, which forms the list of vector IDs (padded) and the list of attention masks:"
   ]
  },
  {
   "cell_type": "code",
   "execution_count": 66,
   "id": "6a8a163d",
   "metadata": {},
   "outputs": [],
   "source": [
    "tokenizer = transformers.BertTokenizer.from_pretrained('bert-base-uncased')\n",
    "\n",
    "corpus = data_train['review']\n",
    "ids_list_ = []\n",
    "attention_mask_list_ = []\n",
    "\n",
    "max_length = 512\n",
    "max_sample_size = 1000  # Limit the sample size!\n",
    "\n",
    "for input_text in corpus[:max_sample_size]:\n",
    "    ids = tokenizer.encode(\n",
    "        input_text.lower(),\n",
    "        add_special_tokens=True,\n",
    "        truncation=True,\n",
    "        max_length=max_length,\n",
    "    )\n",
    "    padded = np.array(ids + [0] * (max_length - len(ids)))\n",
    "    attention_mask = np.where(padded != 0, 1, 0)\n",
    "    ids_list_.append(padded)\n",
    "    attention_mask_list_.append(attention_mask)"
   ]
  },
  {
   "cell_type": "markdown",
   "id": "cad3fd6a",
   "metadata": {},
   "source": [
    "#### Getting BERT Embeddings"
   ]
  },
  {
   "cell_type": "markdown",
   "id": "8af673dc",
   "metadata": {},
   "source": [
    "The BERT model creates embeddings in batches as follows:\n",
    "\n",
    "1. To proceed with embeddings we need to transform the data into a tensor (tensor is a multidimensional vector in the torch library; `LongTensor` data type stores numbers in the \"long format,\" that is, it allocates 64 bits for each number).\n",
    "2. Then we initialize the model of BertModel class and pass the file with the pre-trained model and configuration to it.\n",
    "3. For each batch, the data and the mask are passed to the model to obtain embeddings for the batch (Note: since we are not training our own BERT model, we will use the `no_grad()` (no gradient) function to indicate that we do not need applying gradients in the torch library, thus making the calculations faster).\n",
    "4. Then, the embeddings are extracted from the tensor and added the list of all the embeddings.\n",
    "\n",
    "At the final step, all the embeddings are concatinated into a matrix of features."
   ]
  },
  {
   "cell_type": "markdown",
   "id": "257b9dfd",
   "metadata": {},
   "source": [
    "We will make the batch size small, so that the RAM will not be overwhelmed, and employe the `tqdm()` function will indicate the progress."
   ]
  },
  {
   "cell_type": "markdown",
   "id": "d89d6c6e",
   "metadata": {},
   "source": [
    "Let's combine it into a code:"
   ]
  },
  {
   "cell_type": "code",
   "execution_count": 67,
   "id": "ba739ef2",
   "metadata": {},
   "outputs": [],
   "source": [
    "from tqdm.auto import tqdm"
   ]
  },
  {
   "cell_type": "code",
   "execution_count": 68,
   "id": "9bfa620c",
   "metadata": {},
   "outputs": [
    {
     "name": "stderr",
     "output_type": "stream",
     "text": [
      "Some weights of the model checkpoint at bert-base-uncased were not used when initializing BertModel: ['cls.predictions.transform.LayerNorm.bias', 'cls.predictions.bias', 'cls.predictions.decoder.weight', 'cls.seq_relationship.weight', 'cls.predictions.transform.LayerNorm.weight', 'cls.predictions.transform.dense.bias', 'cls.predictions.transform.dense.weight', 'cls.seq_relationship.bias']\n",
      "- This IS expected if you are initializing BertModel from the checkpoint of a model trained on another task or with another architecture (e.g. initializing a BertForSequenceClassification model from a BertForPreTraining model).\n",
      "- This IS NOT expected if you are initializing BertModel from the checkpoint of a model that you expect to be exactly identical (initializing a BertForSequenceClassification model from a BertForSequenceClassification model).\n"
     ]
    },
    {
     "name": "stdout",
     "output_type": "stream",
     "text": [
      "Using the cpu device.\n"
     ]
    },
    {
     "data": {
      "text/plain": [
       "BertModel(\n",
       "  (embeddings): BertEmbeddings(\n",
       "    (word_embeddings): Embedding(30522, 768, padding_idx=0)\n",
       "    (position_embeddings): Embedding(512, 768)\n",
       "    (token_type_embeddings): Embedding(2, 768)\n",
       "    (LayerNorm): LayerNorm((768,), eps=1e-12, elementwise_affine=True)\n",
       "    (dropout): Dropout(p=0.1, inplace=False)\n",
       "  )\n",
       "  (encoder): BertEncoder(\n",
       "    (layer): ModuleList(\n",
       "      (0): BertLayer(\n",
       "        (attention): BertAttention(\n",
       "          (self): BertSelfAttention(\n",
       "            (query): Linear(in_features=768, out_features=768, bias=True)\n",
       "            (key): Linear(in_features=768, out_features=768, bias=True)\n",
       "            (value): Linear(in_features=768, out_features=768, bias=True)\n",
       "            (dropout): Dropout(p=0.1, inplace=False)\n",
       "          )\n",
       "          (output): BertSelfOutput(\n",
       "            (dense): Linear(in_features=768, out_features=768, bias=True)\n",
       "            (LayerNorm): LayerNorm((768,), eps=1e-12, elementwise_affine=True)\n",
       "            (dropout): Dropout(p=0.1, inplace=False)\n",
       "          )\n",
       "        )\n",
       "        (intermediate): BertIntermediate(\n",
       "          (dense): Linear(in_features=768, out_features=3072, bias=True)\n",
       "          (intermediate_act_fn): GELUActivation()\n",
       "        )\n",
       "        (output): BertOutput(\n",
       "          (dense): Linear(in_features=3072, out_features=768, bias=True)\n",
       "          (LayerNorm): LayerNorm((768,), eps=1e-12, elementwise_affine=True)\n",
       "          (dropout): Dropout(p=0.1, inplace=False)\n",
       "        )\n",
       "      )\n",
       "      (1): BertLayer(\n",
       "        (attention): BertAttention(\n",
       "          (self): BertSelfAttention(\n",
       "            (query): Linear(in_features=768, out_features=768, bias=True)\n",
       "            (key): Linear(in_features=768, out_features=768, bias=True)\n",
       "            (value): Linear(in_features=768, out_features=768, bias=True)\n",
       "            (dropout): Dropout(p=0.1, inplace=False)\n",
       "          )\n",
       "          (output): BertSelfOutput(\n",
       "            (dense): Linear(in_features=768, out_features=768, bias=True)\n",
       "            (LayerNorm): LayerNorm((768,), eps=1e-12, elementwise_affine=True)\n",
       "            (dropout): Dropout(p=0.1, inplace=False)\n",
       "          )\n",
       "        )\n",
       "        (intermediate): BertIntermediate(\n",
       "          (dense): Linear(in_features=768, out_features=3072, bias=True)\n",
       "          (intermediate_act_fn): GELUActivation()\n",
       "        )\n",
       "        (output): BertOutput(\n",
       "          (dense): Linear(in_features=3072, out_features=768, bias=True)\n",
       "          (LayerNorm): LayerNorm((768,), eps=1e-12, elementwise_affine=True)\n",
       "          (dropout): Dropout(p=0.1, inplace=False)\n",
       "        )\n",
       "      )\n",
       "      (2): BertLayer(\n",
       "        (attention): BertAttention(\n",
       "          (self): BertSelfAttention(\n",
       "            (query): Linear(in_features=768, out_features=768, bias=True)\n",
       "            (key): Linear(in_features=768, out_features=768, bias=True)\n",
       "            (value): Linear(in_features=768, out_features=768, bias=True)\n",
       "            (dropout): Dropout(p=0.1, inplace=False)\n",
       "          )\n",
       "          (output): BertSelfOutput(\n",
       "            (dense): Linear(in_features=768, out_features=768, bias=True)\n",
       "            (LayerNorm): LayerNorm((768,), eps=1e-12, elementwise_affine=True)\n",
       "            (dropout): Dropout(p=0.1, inplace=False)\n",
       "          )\n",
       "        )\n",
       "        (intermediate): BertIntermediate(\n",
       "          (dense): Linear(in_features=768, out_features=3072, bias=True)\n",
       "          (intermediate_act_fn): GELUActivation()\n",
       "        )\n",
       "        (output): BertOutput(\n",
       "          (dense): Linear(in_features=3072, out_features=768, bias=True)\n",
       "          (LayerNorm): LayerNorm((768,), eps=1e-12, elementwise_affine=True)\n",
       "          (dropout): Dropout(p=0.1, inplace=False)\n",
       "        )\n",
       "      )\n",
       "      (3): BertLayer(\n",
       "        (attention): BertAttention(\n",
       "          (self): BertSelfAttention(\n",
       "            (query): Linear(in_features=768, out_features=768, bias=True)\n",
       "            (key): Linear(in_features=768, out_features=768, bias=True)\n",
       "            (value): Linear(in_features=768, out_features=768, bias=True)\n",
       "            (dropout): Dropout(p=0.1, inplace=False)\n",
       "          )\n",
       "          (output): BertSelfOutput(\n",
       "            (dense): Linear(in_features=768, out_features=768, bias=True)\n",
       "            (LayerNorm): LayerNorm((768,), eps=1e-12, elementwise_affine=True)\n",
       "            (dropout): Dropout(p=0.1, inplace=False)\n",
       "          )\n",
       "        )\n",
       "        (intermediate): BertIntermediate(\n",
       "          (dense): Linear(in_features=768, out_features=3072, bias=True)\n",
       "          (intermediate_act_fn): GELUActivation()\n",
       "        )\n",
       "        (output): BertOutput(\n",
       "          (dense): Linear(in_features=3072, out_features=768, bias=True)\n",
       "          (LayerNorm): LayerNorm((768,), eps=1e-12, elementwise_affine=True)\n",
       "          (dropout): Dropout(p=0.1, inplace=False)\n",
       "        )\n",
       "      )\n",
       "      (4): BertLayer(\n",
       "        (attention): BertAttention(\n",
       "          (self): BertSelfAttention(\n",
       "            (query): Linear(in_features=768, out_features=768, bias=True)\n",
       "            (key): Linear(in_features=768, out_features=768, bias=True)\n",
       "            (value): Linear(in_features=768, out_features=768, bias=True)\n",
       "            (dropout): Dropout(p=0.1, inplace=False)\n",
       "          )\n",
       "          (output): BertSelfOutput(\n",
       "            (dense): Linear(in_features=768, out_features=768, bias=True)\n",
       "            (LayerNorm): LayerNorm((768,), eps=1e-12, elementwise_affine=True)\n",
       "            (dropout): Dropout(p=0.1, inplace=False)\n",
       "          )\n",
       "        )\n",
       "        (intermediate): BertIntermediate(\n",
       "          (dense): Linear(in_features=768, out_features=3072, bias=True)\n",
       "          (intermediate_act_fn): GELUActivation()\n",
       "        )\n",
       "        (output): BertOutput(\n",
       "          (dense): Linear(in_features=3072, out_features=768, bias=True)\n",
       "          (LayerNorm): LayerNorm((768,), eps=1e-12, elementwise_affine=True)\n",
       "          (dropout): Dropout(p=0.1, inplace=False)\n",
       "        )\n",
       "      )\n",
       "      (5): BertLayer(\n",
       "        (attention): BertAttention(\n",
       "          (self): BertSelfAttention(\n",
       "            (query): Linear(in_features=768, out_features=768, bias=True)\n",
       "            (key): Linear(in_features=768, out_features=768, bias=True)\n",
       "            (value): Linear(in_features=768, out_features=768, bias=True)\n",
       "            (dropout): Dropout(p=0.1, inplace=False)\n",
       "          )\n",
       "          (output): BertSelfOutput(\n",
       "            (dense): Linear(in_features=768, out_features=768, bias=True)\n",
       "            (LayerNorm): LayerNorm((768,), eps=1e-12, elementwise_affine=True)\n",
       "            (dropout): Dropout(p=0.1, inplace=False)\n",
       "          )\n",
       "        )\n",
       "        (intermediate): BertIntermediate(\n",
       "          (dense): Linear(in_features=768, out_features=3072, bias=True)\n",
       "          (intermediate_act_fn): GELUActivation()\n",
       "        )\n",
       "        (output): BertOutput(\n",
       "          (dense): Linear(in_features=3072, out_features=768, bias=True)\n",
       "          (LayerNorm): LayerNorm((768,), eps=1e-12, elementwise_affine=True)\n",
       "          (dropout): Dropout(p=0.1, inplace=False)\n",
       "        )\n",
       "      )\n",
       "      (6): BertLayer(\n",
       "        (attention): BertAttention(\n",
       "          (self): BertSelfAttention(\n",
       "            (query): Linear(in_features=768, out_features=768, bias=True)\n",
       "            (key): Linear(in_features=768, out_features=768, bias=True)\n",
       "            (value): Linear(in_features=768, out_features=768, bias=True)\n",
       "            (dropout): Dropout(p=0.1, inplace=False)\n",
       "          )\n",
       "          (output): BertSelfOutput(\n",
       "            (dense): Linear(in_features=768, out_features=768, bias=True)\n",
       "            (LayerNorm): LayerNorm((768,), eps=1e-12, elementwise_affine=True)\n",
       "            (dropout): Dropout(p=0.1, inplace=False)\n",
       "          )\n",
       "        )\n",
       "        (intermediate): BertIntermediate(\n",
       "          (dense): Linear(in_features=768, out_features=3072, bias=True)\n",
       "          (intermediate_act_fn): GELUActivation()\n",
       "        )\n",
       "        (output): BertOutput(\n",
       "          (dense): Linear(in_features=3072, out_features=768, bias=True)\n",
       "          (LayerNorm): LayerNorm((768,), eps=1e-12, elementwise_affine=True)\n",
       "          (dropout): Dropout(p=0.1, inplace=False)\n",
       "        )\n",
       "      )\n",
       "      (7): BertLayer(\n",
       "        (attention): BertAttention(\n",
       "          (self): BertSelfAttention(\n",
       "            (query): Linear(in_features=768, out_features=768, bias=True)\n",
       "            (key): Linear(in_features=768, out_features=768, bias=True)\n",
       "            (value): Linear(in_features=768, out_features=768, bias=True)\n",
       "            (dropout): Dropout(p=0.1, inplace=False)\n",
       "          )\n",
       "          (output): BertSelfOutput(\n",
       "            (dense): Linear(in_features=768, out_features=768, bias=True)\n",
       "            (LayerNorm): LayerNorm((768,), eps=1e-12, elementwise_affine=True)\n",
       "            (dropout): Dropout(p=0.1, inplace=False)\n",
       "          )\n",
       "        )\n",
       "        (intermediate): BertIntermediate(\n",
       "          (dense): Linear(in_features=768, out_features=3072, bias=True)\n",
       "          (intermediate_act_fn): GELUActivation()\n",
       "        )\n",
       "        (output): BertOutput(\n",
       "          (dense): Linear(in_features=3072, out_features=768, bias=True)\n",
       "          (LayerNorm): LayerNorm((768,), eps=1e-12, elementwise_affine=True)\n",
       "          (dropout): Dropout(p=0.1, inplace=False)\n",
       "        )\n",
       "      )\n",
       "      (8): BertLayer(\n",
       "        (attention): BertAttention(\n",
       "          (self): BertSelfAttention(\n",
       "            (query): Linear(in_features=768, out_features=768, bias=True)\n",
       "            (key): Linear(in_features=768, out_features=768, bias=True)\n",
       "            (value): Linear(in_features=768, out_features=768, bias=True)\n",
       "            (dropout): Dropout(p=0.1, inplace=False)\n",
       "          )\n",
       "          (output): BertSelfOutput(\n",
       "            (dense): Linear(in_features=768, out_features=768, bias=True)\n",
       "            (LayerNorm): LayerNorm((768,), eps=1e-12, elementwise_affine=True)\n",
       "            (dropout): Dropout(p=0.1, inplace=False)\n",
       "          )\n",
       "        )\n",
       "        (intermediate): BertIntermediate(\n",
       "          (dense): Linear(in_features=768, out_features=3072, bias=True)\n",
       "          (intermediate_act_fn): GELUActivation()\n",
       "        )\n",
       "        (output): BertOutput(\n",
       "          (dense): Linear(in_features=3072, out_features=768, bias=True)\n",
       "          (LayerNorm): LayerNorm((768,), eps=1e-12, elementwise_affine=True)\n",
       "          (dropout): Dropout(p=0.1, inplace=False)\n",
       "        )\n",
       "      )\n",
       "      (9): BertLayer(\n",
       "        (attention): BertAttention(\n",
       "          (self): BertSelfAttention(\n",
       "            (query): Linear(in_features=768, out_features=768, bias=True)\n",
       "            (key): Linear(in_features=768, out_features=768, bias=True)\n",
       "            (value): Linear(in_features=768, out_features=768, bias=True)\n",
       "            (dropout): Dropout(p=0.1, inplace=False)\n",
       "          )\n",
       "          (output): BertSelfOutput(\n",
       "            (dense): Linear(in_features=768, out_features=768, bias=True)\n",
       "            (LayerNorm): LayerNorm((768,), eps=1e-12, elementwise_affine=True)\n",
       "            (dropout): Dropout(p=0.1, inplace=False)\n",
       "          )\n",
       "        )\n",
       "        (intermediate): BertIntermediate(\n",
       "          (dense): Linear(in_features=768, out_features=3072, bias=True)\n",
       "          (intermediate_act_fn): GELUActivation()\n",
       "        )\n",
       "        (output): BertOutput(\n",
       "          (dense): Linear(in_features=3072, out_features=768, bias=True)\n",
       "          (LayerNorm): LayerNorm((768,), eps=1e-12, elementwise_affine=True)\n",
       "          (dropout): Dropout(p=0.1, inplace=False)\n",
       "        )\n",
       "      )\n",
       "      (10): BertLayer(\n",
       "        (attention): BertAttention(\n",
       "          (self): BertSelfAttention(\n",
       "            (query): Linear(in_features=768, out_features=768, bias=True)\n",
       "            (key): Linear(in_features=768, out_features=768, bias=True)\n",
       "            (value): Linear(in_features=768, out_features=768, bias=True)\n",
       "            (dropout): Dropout(p=0.1, inplace=False)\n",
       "          )\n",
       "          (output): BertSelfOutput(\n",
       "            (dense): Linear(in_features=768, out_features=768, bias=True)\n",
       "            (LayerNorm): LayerNorm((768,), eps=1e-12, elementwise_affine=True)\n",
       "            (dropout): Dropout(p=0.1, inplace=False)\n",
       "          )\n",
       "        )\n",
       "        (intermediate): BertIntermediate(\n",
       "          (dense): Linear(in_features=768, out_features=3072, bias=True)\n",
       "          (intermediate_act_fn): GELUActivation()\n",
       "        )\n",
       "        (output): BertOutput(\n",
       "          (dense): Linear(in_features=3072, out_features=768, bias=True)\n",
       "          (LayerNorm): LayerNorm((768,), eps=1e-12, elementwise_affine=True)\n",
       "          (dropout): Dropout(p=0.1, inplace=False)\n",
       "        )\n",
       "      )\n",
       "      (11): BertLayer(\n",
       "        (attention): BertAttention(\n",
       "          (self): BertSelfAttention(\n",
       "            (query): Linear(in_features=768, out_features=768, bias=True)\n",
       "            (key): Linear(in_features=768, out_features=768, bias=True)\n",
       "            (value): Linear(in_features=768, out_features=768, bias=True)\n",
       "            (dropout): Dropout(p=0.1, inplace=False)\n",
       "          )\n",
       "          (output): BertSelfOutput(\n",
       "            (dense): Linear(in_features=768, out_features=768, bias=True)\n",
       "            (LayerNorm): LayerNorm((768,), eps=1e-12, elementwise_affine=True)\n",
       "            (dropout): Dropout(p=0.1, inplace=False)\n",
       "          )\n",
       "        )\n",
       "        (intermediate): BertIntermediate(\n",
       "          (dense): Linear(in_features=768, out_features=3072, bias=True)\n",
       "          (intermediate_act_fn): GELUActivation()\n",
       "        )\n",
       "        (output): BertOutput(\n",
       "          (dense): Linear(in_features=3072, out_features=768, bias=True)\n",
       "          (LayerNorm): LayerNorm((768,), eps=1e-12, elementwise_affine=True)\n",
       "          (dropout): Dropout(p=0.1, inplace=False)\n",
       "        )\n",
       "      )\n",
       "    )\n",
       "  )\n",
       "  (pooler): BertPooler(\n",
       "    (dense): Linear(in_features=768, out_features=768, bias=True)\n",
       "    (activation): Tanh()\n",
       "  )\n",
       ")"
      ]
     },
     "execution_count": 68,
     "metadata": {},
     "output_type": "execute_result"
    }
   ],
   "source": [
    "# Getting Embeddings\n",
    "model = transformers.BertModel.from_pretrained('bert-base-uncased')\n",
    "\n",
    "batch_size = 100    # typically the batch size is equal to 100 but we can set it to lower values\n",
    "\n",
    "embeddings = []\n",
    "\n",
    "device = torch.device('cuda' if torch.cuda.is_available() else 'cpu')\n",
    "print(f'Using the {device} device.')\n",
    "model.to(device)"
   ]
  },
  {
   "cell_type": "markdown",
   "id": "85edd7b3",
   "metadata": {},
   "source": [
    "*Note: time-consuming cell ahead!*"
   ]
  },
  {
   "cell_type": "code",
   "execution_count": 69,
   "id": "512c1c44",
   "metadata": {},
   "outputs": [
    {
     "data": {
      "application/vnd.jupyter.widget-view+json": {
       "model_id": "eb458cf8df7f47a09873fe228940f3fc",
       "version_major": 2,
       "version_minor": 0
      },
      "text/plain": [
       "  0%|          | 0/10 [00:00<?, ?it/s]"
      ]
     },
     "metadata": {},
     "output_type": "display_data"
    },
    {
     "name": "stderr",
     "output_type": "stream",
     "text": [
      "<ipython-input-69-d722eecc1ae2>:3: UserWarning: Creating a tensor from a list of numpy.ndarrays is extremely slow. Please consider converting the list to a single numpy.ndarray with numpy.array() before converting to a tensor. (Triggered internally at  C:\\actions-runner\\_work\\pytorch\\pytorch\\builder\\windows\\pytorch\\torch\\csrc\\utils\\tensor_new.cpp:204.)\n",
      "  ids_batch = torch.LongTensor(ids_list_[batch_size*i:batch_size*(i+1)]).to(device)\n"
     ]
    }
   ],
   "source": [
    "for i in tqdm(range(len(ids_list_) // batch_size)):\n",
    "    \n",
    "    ids_batch = torch.LongTensor(ids_list_[batch_size*i:batch_size*(i+1)]).to(device)\n",
    "    attention_mask_batch = torch.LongTensor(attention_mask_list_[batch_size*i:batch_size*(i+1)]).to(device)\n",
    "\n",
    "    with torch.no_grad():\n",
    "        model.eval()\n",
    "        batch_embeddings = model(ids_batch, attention_mask=attention_mask_batch)\n",
    "\n",
    "    embeddings.append(batch_embeddings[0][:,0,:].detach().cpu().numpy())"
   ]
  },
  {
   "cell_type": "markdown",
   "id": "de868b4b",
   "metadata": {},
   "source": [
    "Now, we can concatinate the embeddings into a feature matrix:"
   ]
  },
  {
   "cell_type": "code",
   "execution_count": 70,
   "id": "6a675c8e",
   "metadata": {},
   "outputs": [
    {
     "name": "stdout",
     "output_type": "stream",
     "text": [
      "(1000, 768)\n",
      "(1000,)\n"
     ]
    }
   ],
   "source": [
    "features = np.concatenate(embeddings)\n",
    "target = train_target[:max_sample_size]\n",
    "print(features.shape)\n",
    "print(target.shape)"
   ]
  },
  {
   "cell_type": "markdown",
   "id": "7c3a3c6a",
   "metadata": {},
   "source": [
    "Let's build the model:"
   ]
  },
  {
   "cell_type": "code",
   "execution_count": 71,
   "id": "0ddd5fb0",
   "metadata": {},
   "outputs": [
    {
     "data": {
      "text/plain": [
       "array([0.77094972, 0.86597938, 0.74193548, 0.8       , 0.77248677])"
      ]
     },
     "execution_count": 71,
     "metadata": {},
     "output_type": "execute_result"
    }
   ],
   "source": [
    "lr_classifier_bert = LogisticRegression(random_state=54321, solver='liblinear')\n",
    "scores = cross_val_score(lr_classifier_bert, features, target, cv=5, scoring = 'f1')\n",
    "scores"
   ]
  },
  {
   "cell_type": "code",
   "execution_count": 72,
   "id": "7c28bf0a",
   "metadata": {},
   "outputs": [
    {
     "data": {
      "text/plain": [
       "0.7902702716942861"
      ]
     },
     "execution_count": 72,
     "metadata": {},
     "output_type": "execute_result"
    }
   ],
   "source": [
    "scores.mean()"
   ]
  },
  {
   "cell_type": "markdown",
   "id": "d31fb6bd",
   "metadata": {},
   "source": [
    "Using BERT embeddings for feature engineering, unexpectedly, results in worse scoring."
   ]
  },
  {
   "cell_type": "markdown",
   "id": "9d9a9c5b",
   "metadata": {},
   "source": [
    "Thus, our best model is `LogisticRegression()` clissifier:"
   ]
  },
  {
   "cell_type": "code",
   "execution_count": 73,
   "id": "10298112",
   "metadata": {},
   "outputs": [],
   "source": [
    "final_model = LogisticRegression(random_state=54321, C=1, solver='liblinear')"
   ]
  },
  {
   "cell_type": "markdown",
   "id": "2253c496",
   "metadata": {},
   "source": [
    "Let's fit it (we remember that the Logistic Regression performed best on sklearn TF-IDF weighted clean text data:"
   ]
  },
  {
   "cell_type": "code",
   "execution_count": 74,
   "id": "8d7a102d",
   "metadata": {},
   "outputs": [
    {
     "data": {
      "text/plain": [
       "LogisticRegression(C=1, random_state=54321, solver='liblinear')"
      ]
     },
     "execution_count": 74,
     "metadata": {},
     "output_type": "execute_result"
    }
   ],
   "source": [
    "final_model.fit(train_preprocessed, train_target)"
   ]
  },
  {
   "cell_type": "markdown",
   "id": "568ec0f4",
   "metadata": {},
   "source": [
    "Now, let's evaluate the performance of the final model:"
   ]
  },
  {
   "cell_type": "code",
   "execution_count": 75,
   "id": "772840d1",
   "metadata": {},
   "outputs": [
    {
     "name": "stdout",
     "output_type": "stream",
     "text": [
      "                         train   test\n",
      "Accuracy                 0.937  0.883\n",
      "F1                       0.938  0.883\n",
      "Average Precision Score  0.984  0.950\n",
      "Recall                   0.945  0.882\n",
      "ROC AUC                  0.984  0.952\n"
     ]
    },
    {
     "data": {
      "image/png": "[encoded data removed]",
      "text/plain": [
       "<Figure size 1440x432 with 3 Axes>"
      ]
     },
     "metadata": {
      "needs_background": "light"
     },
     "output_type": "display_data"
    }
   ],
   "source": [
    "evaluate_model(final_model, train_preprocessed, train_target, test_preprocessed, test_target)"
   ]
  },
  {
   "cell_type": "markdown",
   "id": "1f9a18bf",
   "metadata": {},
   "source": [
    "The final model F1 score for the train set equals 0.94 and 0.88 for the test set; the model is pretty precise, with average precision score of 0.95, while its accuracy and recall score 0.88."
   ]
  },
  {
   "cell_type": "markdown",
   "id": "2468c5aa",
   "metadata": {},
   "source": [
    "[Back to Content](#content)"
   ]
  },
  {
   "cell_type": "markdown",
   "id": "d0a71ab8",
   "metadata": {},
   "source": [
    "### My Reviews"
   ]
  },
  {
   "cell_type": "markdown",
   "id": "28e962e9",
   "metadata": {},
   "source": [
    "Let's illustarte how the chosen model processes custom made reviews."
   ]
  },
  {
   "cell_type": "code",
   "execution_count": 76,
   "id": "6d0f01aa",
   "metadata": {},
   "outputs": [],
   "source": [
    "my_reviews = pd.DataFrame([\n",
    "    'I did not simply like it, not my kind of movie.',\n",
    "    'Well, I was bored and felt asleep in the middle of the movie.',\n",
    "    'I was really fascinated with the movie',    \n",
    "    'Even the actors looked really old and disinterested, and they got paid to be in the movie. What a soulless cash grab.',\n",
    "    'I didn\\'t expect the reboot to be so good! Writers really cared about the source material',\n",
    "    'Writers really cared about the source material, I didn\\'t expect the reboot to be so good!',\n",
    "    'The movie had its upsides and downsides, but I feel like overall it\\'s a decent flick. I could see myself going to see it again.',\n",
    "    'What a rotten attempt at a comedy. Not a single joke lands, everyone acts annoying and loud, even kids won\\'t like this!',\n",
    "    'Launching on Netflix was a brave move & I really appreciate being able to binge on episode after episode, of this exciting intelligent new drama.'\n",
    "], columns=['review'])"
   ]
  },
  {
   "cell_type": "markdown",
   "id": "c7135bf9",
   "metadata": {},
   "source": [
    "We will apply the same vectorization logic as for the final model:"
   ]
  },
  {
   "cell_type": "code",
   "execution_count": 77,
   "id": "120a5e2f",
   "metadata": {},
   "outputs": [],
   "source": [
    "my_reviews['review_clean']= my_reviews['review'].apply(lambda x: clear_text(x))"
   ]
  },
  {
   "cell_type": "code",
   "execution_count": 78,
   "id": "0d3c6b63",
   "metadata": {},
   "outputs": [],
   "source": [
    "texts = preprocessing.transform(my_reviews['review_clean'])"
   ]
  },
  {
   "cell_type": "code",
   "execution_count": 79,
   "id": "96ba573d",
   "metadata": {},
   "outputs": [
    {
     "name": "stdout",
     "output_type": "stream",
     "text": [
      "0.14:  i did not simply like it not my kind of movie\n",
      "0.16:  well i was bored and felt asleep in the middle of the movie\n",
      "0.54:  i was really fascinated with the movie\n",
      "0.11:  even the actors looked really old and disinterested and they got paid to be in the movie what a soul\n",
      "0.31:  i didn't expect the reboot to be so good writers really cared about the source material\n",
      "0.31:  writers really cared about the source material i didn't expect the reboot to be so good\n",
      "0.47:  the movie had its upsides and downsides but i feel like overall it's a decent flick i could see myse\n",
      "0.04:  what a rotten attempt at a comedy not a single joke lands everyone acts annoying and loud even kids \n",
      "0.82:  launching on netflix was a brave move i really appreciate being able to binge on episode after episo\n"
     ]
    }
   ],
   "source": [
    "my_reviews_pred_prob = final_model.predict_proba(texts)[:, 1]\n",
    "\n",
    "for i, review in enumerate(my_reviews['review_clean'].str.slice(0, 100)):\n",
    "    print(f'{my_reviews_pred_prob[i]:.2f}:  {review}')"
   ]
  },
  {
   "cell_type": "markdown",
   "id": "a3e5b900",
   "metadata": {},
   "source": [
    "The probabilities look reasonable."
   ]
  },
  {
   "cell_type": "markdown",
   "id": "67ef6052",
   "metadata": {},
   "source": [
    "## Summary and conclusions<a id='conclusions'></a>"
   ]
  },
  {
   "cell_type": "markdown",
   "id": "d25ed285",
   "metadata": {},
   "source": [
    "At the data uploading and exploration step of the project, we:\n",
    "- uploaded the relevant set of the source data, with 47331 observations equally divided into train and test subsets; no missing values and no duplicates were observed;\n",
    "- explored the distributions of the target variable and revealed the similarity between the train and the test data subsets;\n",
    "- cleaned the feature, `review`, column from digits, punctuation and other signs, and transformed the column into lower case.\n",
    "\n",
    "In this project, we considered several methods of text data vectorization:\n",
    "- simple bag-of-words on cleaned text data,\n",
    "- TF-IDF weighted bag-of-words,\n",
    "- lemmatization of cleaned text data with the `spacy` library before TF-IDF weightening,\n",
    "- extracting BERT embeddings.\n",
    "\n",
    "We applied two types of ML classification models:\n",
    "- Logistic Regression,\n",
    "- LightGBM Classifier.\n",
    "\n",
    "For model selection we applied cross validation technique on the train data subset; additionaly, we tried best model parameter search with `GridSearchCV()` for the Logistic Regression model, while focusing mainly on the `C` parameter of inverse of regularization strength.\n",
    "\n",
    "The study revealed that a basic Logistic Regression model, applied to TF-IDF weighted bag-of-words for cleaned text data, scores the best; on the test data subset the model showed F1 score, precision and recall equal to 0.88, while the accuracy of the model reached 0.95. We applied the model to a set of custom-made reviews, to illustrate the probabilities which the model assignes to the reviews to be positive."
   ]
  }
 ],
 "metadata": {
  "kernelspec": {
   "display_name": "Python 3",
   "language": "python",
   "name": "python3"
  },
  "language_info": {
   "codemirror_mode": {
    "name": "ipython",
    "version": 3
   },
   "file_extension": ".py",
   "mimetype": "text/x-python",
   "name": "python",
   "nbconvert_exporter": "python",
   "pygments_lexer": "ipython3",
   "version": "3.8.8"
  },
  "toc": {
   "base_numbering": 1,
   "nav_menu": {},
   "number_sections": true,
   "sideBar": true,
   "skip_h1_title": true,
   "title_cell": "Table of Contents",
   "title_sidebar": "Contents",
   "toc_cell": false,
   "toc_position": {},
   "toc_section_display": true,
   "toc_window_display": false
  }
 },
 "nbformat": 4,
 "nbformat_minor": 5
}
