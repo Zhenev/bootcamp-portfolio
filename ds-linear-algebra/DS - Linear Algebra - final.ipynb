{
 "cells": [
  {
   "cell_type": "markdown",
   "id": "17513892",
   "metadata": {},
   "source": [
    "# Content <a id='content'></a>\n",
    "\n",
    "[Introduction](#intro)\n",
    "\n",
    "[Data overview and preprocessing](#prep)\n",
    "\n",
    "[ML](#ml)\n",
    "\n",
    "[Conclusions](#conclusions)"
   ]
  },
  {
   "cell_type": "markdown",
   "id": "9d4a6caa",
   "metadata": {},
   "source": [
    "## Introduction <a id='intro'></a>"
   ]
  },
  {
   "cell_type": "markdown",
   "id": "d8f44c38",
   "metadata": {},
   "source": [
    "The Sure Tomorrow insurance company wants to solve several tasks with the help of Machine Learning, and I was asked to evaluate that possibility.\n",
    "\n",
    "1. Find customers who are similar to a given customer. This will help the company's agents with marketing.\n",
    "2. Predict whether a new customer is likely to receive an insurance benefit. Compare the result of the prediction model with a dummy model?\n",
    "3. Predict the number of insurance benefits a new customer is likely to receive using a linear regression model.\n",
    "4. Protect clients' personal data without breaking the model from the previous task.\n",
    "\n",
    "It's necessary to develop a data transformation algorithm that would make it hard to recover personal information if the data fell into the wrong hands. This is called data masking, or data obfuscation. But the data should be protected in such a way that the quality of machine learning models doesn't suffer. Within the scope of the current project, we do not need to pick the best model, just prove that the algorithm works correctly."
   ]
  },
  {
   "cell_type": "markdown",
   "id": "77dc4637",
   "metadata": {},
   "source": [
    "To implement the work we will:\n",
    "\n",
    "- Load the data.\n",
    "- Check that the data is free of issues — there is no missing data, extreme values, and so on.\n",
    "- Work through the tasks.\n",
    "- Draw conclusions."
   ]
  },
  {
   "cell_type": "markdown",
   "id": "efcbda96",
   "metadata": {},
   "source": [
    "# Data overview and preprocessing <a id='prep'></a>"
   ]
  },
  {
   "cell_type": "markdown",
   "id": "2950d935",
   "metadata": {},
   "source": [
    "We got one file, `insurance_us.csv`, with the following data:\n",
    "\n",
    "- Features: insured person's gender, age, salary, and number of family members.\n",
    "- Target: number of insurance benefits received by an insured person over the last five years."
   ]
  },
  {
   "cell_type": "markdown",
   "id": "de8f5d7d",
   "metadata": {},
   "source": [
    "### Libraries"
   ]
  },
  {
   "cell_type": "code",
   "execution_count": 1,
   "id": "51fa4c53",
   "metadata": {},
   "outputs": [],
   "source": [
    "import numpy as np\n",
    "import pandas as pd\n",
    "\n",
    "import seaborn as sns\n",
    "\n",
    "import math\n",
    "\n",
    "import sklearn.linear_model\n",
    "import sklearn.metrics\n",
    "import sklearn.neighbors\n",
    "import sklearn.preprocessing\n",
    "\n",
    "from sklearn.model_selection import train_test_split\n",
    "from sklearn.pipeline import Pipeline\n",
    "\n",
    "from IPython.display import display"
   ]
  },
  {
   "cell_type": "code",
   "execution_count": 2,
   "id": "37f70e3a-6c01-4c3c-9af0-8ee99f8c8880",
   "metadata": {},
   "outputs": [],
   "source": [
    "from typing import TypeVar\n",
    "PandasDataFrame = TypeVar('pandas.core.frame.DataFrame')  # pd.DataFrame not supported"
   ]
  },
  {
   "cell_type": "markdown",
   "id": "6b309d0e",
   "metadata": {},
   "source": [
    "### File upload"
   ]
  },
  {
   "cell_type": "markdown",
   "id": "ed7c4023",
   "metadata": {},
   "source": [
    "We will use a load() function to avoid potential problems with the file pathes."
   ]
  },
  {
   "cell_type": "code",
   "execution_count": 3,
   "id": "bbaa6144",
   "metadata": {},
   "outputs": [],
   "source": [
    "# function `load` for a csv load with try-except and a number of rows limit\n",
    "def load(filename: str, sep: str = ',', nrow: int = None) -> PandasDataFrame:\n",
    "    \"\"\"\n",
    "    i=In addition to the file name, the function takes nrows parameter\n",
    "    for a particular number of rows to load. If None, then the file is loaded fully.\n",
    "    \"\"\"\n",
    "    try:\n",
    "        df_raw = pd.read_csv(filename, sep = sep, nrows = nrow)\n",
    "    except:\n",
    "        df_raw = pd.read_csv('/'+filename, sep = sep, nrows = nrow)\n",
    "    return df_raw"
   ]
  },
  {
   "cell_type": "code",
   "execution_count": 4,
   "id": "def851f4",
   "metadata": {},
   "outputs": [],
   "source": [
    "# check the dataset data types and memory usage on the first 500 rows\n",
    "data_raw = load('datasets/insurance_us.csv', nrow = 500)"
   ]
  },
  {
   "cell_type": "code",
   "execution_count": 5,
   "id": "d920de29",
   "metadata": {},
   "outputs": [
    {
     "name": "stdout",
     "output_type": "stream",
     "text": [
      "<class 'pandas.core.frame.DataFrame'>\n",
      "RangeIndex: 500 entries, 0 to 499\n",
      "Data columns (total 5 columns):\n",
      " #   Column              Non-Null Count  Dtype  \n",
      "---  ------              --------------  -----  \n",
      " 0   Gender              500 non-null    int64  \n",
      " 1   Age                 500 non-null    float64\n",
      " 2   Salary              500 non-null    float64\n",
      " 3   Family members      500 non-null    int64  \n",
      " 4   Insurance benefits  500 non-null    int64  \n",
      "dtypes: float64(2), int64(3)\n",
      "memory usage: 19.7 KB\n"
     ]
    }
   ],
   "source": [
    "data_raw.info(memory_usage = 'deep')"
   ]
  },
  {
   "cell_type": "markdown",
   "id": "566ab494",
   "metadata": {},
   "source": [
    "The data types are correct, the column names can be fixed, the dataset does not look like the most memory-intensive for that number of variables, let's upload it alltogether:"
   ]
  },
  {
   "cell_type": "code",
   "execution_count": 6,
   "id": "41cf47e1",
   "metadata": {},
   "outputs": [],
   "source": [
    "data_raw = load('datasets/insurance_us.csv')"
   ]
  },
  {
   "cell_type": "code",
   "execution_count": 7,
   "id": "fa7292be",
   "metadata": {},
   "outputs": [
    {
     "name": "stdout",
     "output_type": "stream",
     "text": [
      "<class 'pandas.core.frame.DataFrame'>\n",
      "RangeIndex: 5000 entries, 0 to 4999\n",
      "Data columns (total 5 columns):\n",
      " #   Column              Non-Null Count  Dtype  \n",
      "---  ------              --------------  -----  \n",
      " 0   Gender              5000 non-null   int64  \n",
      " 1   Age                 5000 non-null   float64\n",
      " 2   Salary              5000 non-null   float64\n",
      " 3   Family members      5000 non-null   int64  \n",
      " 4   Insurance benefits  5000 non-null   int64  \n",
      "dtypes: float64(2), int64(3)\n",
      "memory usage: 195.4 KB\n"
     ]
    }
   ],
   "source": [
    "data_raw.info()"
   ]
  },
  {
   "cell_type": "markdown",
   "id": "3c4c9dba",
   "metadata": {},
   "source": [
    "[Back to Content](#content)"
   ]
  },
  {
   "cell_type": "markdown",
   "id": "a0420c92",
   "metadata": {},
   "source": [
    "### Basic preprocessing"
   ]
  },
  {
   "cell_type": "markdown",
   "id": "ce43de10",
   "metadata": {},
   "source": [
    "First, let's fix the column names:"
   ]
  },
  {
   "cell_type": "code",
   "execution_count": 8,
   "id": "0f7d0dd4",
   "metadata": {},
   "outputs": [],
   "source": [
    "data_raw.columns = ['_'.join(x.lower().split()) for x in data_raw.columns]"
   ]
  },
  {
   "cell_type": "markdown",
   "id": "c53c24be",
   "metadata": {},
   "source": [
    "We already know that we do not have missing values, let's see how the data looks like:"
   ]
  },
  {
   "cell_type": "code",
   "execution_count": 9,
   "id": "90f558a4",
   "metadata": {},
   "outputs": [
    {
     "data": {
      "text/html": [
       "<div>\n",
       "<style scoped>\n",
       "    .dataframe tbody tr th:only-of-type {\n",
       "        vertical-align: middle;\n",
       "    }\n",
       "\n",
       "    .dataframe tbody tr th {\n",
       "        vertical-align: top;\n",
       "    }\n",
       "\n",
       "    .dataframe thead th {\n",
       "        text-align: right;\n",
       "    }\n",
       "</style>\n",
       "<table border=\"1\" class=\"dataframe\">\n",
       "  <thead>\n",
       "    <tr style=\"text-align: right;\">\n",
       "      <th></th>\n",
       "      <th>gender</th>\n",
       "      <th>age</th>\n",
       "      <th>salary</th>\n",
       "      <th>family_members</th>\n",
       "      <th>insurance_benefits</th>\n",
       "    </tr>\n",
       "  </thead>\n",
       "  <tbody>\n",
       "    <tr>\n",
       "      <th>0</th>\n",
       "      <td>1</td>\n",
       "      <td>41.0</td>\n",
       "      <td>49600.0</td>\n",
       "      <td>1</td>\n",
       "      <td>0</td>\n",
       "    </tr>\n",
       "    <tr>\n",
       "      <th>1</th>\n",
       "      <td>0</td>\n",
       "      <td>46.0</td>\n",
       "      <td>38000.0</td>\n",
       "      <td>1</td>\n",
       "      <td>1</td>\n",
       "    </tr>\n",
       "    <tr>\n",
       "      <th>2</th>\n",
       "      <td>0</td>\n",
       "      <td>29.0</td>\n",
       "      <td>21000.0</td>\n",
       "      <td>0</td>\n",
       "      <td>0</td>\n",
       "    </tr>\n",
       "    <tr>\n",
       "      <th>3</th>\n",
       "      <td>0</td>\n",
       "      <td>21.0</td>\n",
       "      <td>41700.0</td>\n",
       "      <td>2</td>\n",
       "      <td>0</td>\n",
       "    </tr>\n",
       "    <tr>\n",
       "      <th>4</th>\n",
       "      <td>1</td>\n",
       "      <td>28.0</td>\n",
       "      <td>26100.0</td>\n",
       "      <td>0</td>\n",
       "      <td>0</td>\n",
       "    </tr>\n",
       "  </tbody>\n",
       "</table>\n",
       "</div>"
      ],
      "text/plain": [
       "   gender   age   salary  family_members  insurance_benefits\n",
       "0       1  41.0  49600.0               1                   0\n",
       "1       0  46.0  38000.0               1                   1\n",
       "2       0  29.0  21000.0               0                   0\n",
       "3       0  21.0  41700.0               2                   0\n",
       "4       1  28.0  26100.0               0                   0"
      ]
     },
     "execution_count": 9,
     "metadata": {},
     "output_type": "execute_result"
    }
   ],
   "source": [
    "data_raw.head()"
   ]
  },
  {
   "cell_type": "markdown",
   "id": "37d2b773",
   "metadata": {},
   "source": [
    "Hm.. looks like there is enough opportunities for duplicates, though we cannot say whether they are true or by any mistake, let's check how meny similar entries we have:"
   ]
  },
  {
   "cell_type": "code",
   "execution_count": 10,
   "id": "5e8763e1",
   "metadata": {},
   "outputs": [
    {
     "data": {
      "text/plain": [
       "153"
      ]
     },
     "execution_count": 10,
     "metadata": {},
     "output_type": "execute_result"
    }
   ],
   "source": [
    "data_raw.duplicated().sum()"
   ]
  },
  {
   "cell_type": "markdown",
   "id": "013c27e6",
   "metadata": {},
   "source": [
    "Let's describe the variables and visualize the pair-wise distributions:"
   ]
  },
  {
   "cell_type": "code",
   "execution_count": 11,
   "id": "6e4683e7",
   "metadata": {},
   "outputs": [
    {
     "data": {
      "text/html": [
       "<div>\n",
       "<style scoped>\n",
       "    .dataframe tbody tr th:only-of-type {\n",
       "        vertical-align: middle;\n",
       "    }\n",
       "\n",
       "    .dataframe tbody tr th {\n",
       "        vertical-align: top;\n",
       "    }\n",
       "\n",
       "    .dataframe thead th {\n",
       "        text-align: right;\n",
       "    }\n",
       "</style>\n",
       "<table border=\"1\" class=\"dataframe\">\n",
       "  <thead>\n",
       "    <tr style=\"text-align: right;\">\n",
       "      <th></th>\n",
       "      <th>count</th>\n",
       "      <th>mean</th>\n",
       "      <th>std</th>\n",
       "      <th>min</th>\n",
       "      <th>25%</th>\n",
       "      <th>50%</th>\n",
       "      <th>75%</th>\n",
       "      <th>max</th>\n",
       "    </tr>\n",
       "  </thead>\n",
       "  <tbody>\n",
       "    <tr>\n",
       "      <th>gender</th>\n",
       "      <td>5000.0</td>\n",
       "      <td>0.4990</td>\n",
       "      <td>0.500049</td>\n",
       "      <td>0.0</td>\n",
       "      <td>0.0</td>\n",
       "      <td>0.0</td>\n",
       "      <td>1.0</td>\n",
       "      <td>1.0</td>\n",
       "    </tr>\n",
       "    <tr>\n",
       "      <th>age</th>\n",
       "      <td>5000.0</td>\n",
       "      <td>30.9528</td>\n",
       "      <td>8.440807</td>\n",
       "      <td>18.0</td>\n",
       "      <td>24.0</td>\n",
       "      <td>30.0</td>\n",
       "      <td>37.0</td>\n",
       "      <td>65.0</td>\n",
       "    </tr>\n",
       "    <tr>\n",
       "      <th>salary</th>\n",
       "      <td>5000.0</td>\n",
       "      <td>39916.3600</td>\n",
       "      <td>9900.083569</td>\n",
       "      <td>5300.0</td>\n",
       "      <td>33300.0</td>\n",
       "      <td>40200.0</td>\n",
       "      <td>46600.0</td>\n",
       "      <td>79000.0</td>\n",
       "    </tr>\n",
       "    <tr>\n",
       "      <th>family_members</th>\n",
       "      <td>5000.0</td>\n",
       "      <td>1.1942</td>\n",
       "      <td>1.091387</td>\n",
       "      <td>0.0</td>\n",
       "      <td>0.0</td>\n",
       "      <td>1.0</td>\n",
       "      <td>2.0</td>\n",
       "      <td>6.0</td>\n",
       "    </tr>\n",
       "    <tr>\n",
       "      <th>insurance_benefits</th>\n",
       "      <td>5000.0</td>\n",
       "      <td>0.1480</td>\n",
       "      <td>0.463183</td>\n",
       "      <td>0.0</td>\n",
       "      <td>0.0</td>\n",
       "      <td>0.0</td>\n",
       "      <td>0.0</td>\n",
       "      <td>5.0</td>\n",
       "    </tr>\n",
       "  </tbody>\n",
       "</table>\n",
       "</div>"
      ],
      "text/plain": [
       "                     count        mean          std     min      25%      50%  \\\n",
       "gender              5000.0      0.4990     0.500049     0.0      0.0      0.0   \n",
       "age                 5000.0     30.9528     8.440807    18.0     24.0     30.0   \n",
       "salary              5000.0  39916.3600  9900.083569  5300.0  33300.0  40200.0   \n",
       "family_members      5000.0      1.1942     1.091387     0.0      0.0      1.0   \n",
       "insurance_benefits  5000.0      0.1480     0.463183     0.0      0.0      0.0   \n",
       "\n",
       "                        75%      max  \n",
       "gender                  1.0      1.0  \n",
       "age                    37.0     65.0  \n",
       "salary              46600.0  79000.0  \n",
       "family_members          2.0      6.0  \n",
       "insurance_benefits      0.0      5.0  "
      ]
     },
     "execution_count": 11,
     "metadata": {},
     "output_type": "execute_result"
    }
   ],
   "source": [
    "data_raw.describe().T"
   ]
  },
  {
   "cell_type": "code",
   "execution_count": 12,
   "id": "e494eb05",
   "metadata": {},
   "outputs": [
    {
     "data": {
      "image/png": "[encoded data removed]",
      "text/plain": [
       "<Figure size 864x864 with 30 Axes>"
      ]
     },
     "metadata": {
      "needs_background": "light"
     },
     "output_type": "display_data"
    }
   ],
   "source": [
    "g = sns.pairplot(data_raw, kind='hist')\n",
    "g.fig.set_size_inches(12, 12)"
   ]
  },
  {
   "cell_type": "markdown",
   "id": "fcccc228",
   "metadata": {},
   "source": [
    "Looks like only customers aged 40+ receive insurance benefits. The sample includes almost equal number of men and women, only salary seems to be normally distributed. No outliers as well. Let's move on to the first task."
   ]
  },
  {
   "cell_type": "markdown",
   "id": "5d2a9ac0",
   "metadata": {},
   "source": [
    "## Task 1. Find customers who are similar to a given customer. "
   ]
  },
  {
   "cell_type": "markdown",
   "id": "31878e0b",
   "metadata": {},
   "source": [
    "In ML terms, we need to develop a procedure that returns k nearest neighbors (objects) for a given object based on the distance between the objects."
   ]
  },
  {
   "cell_type": "markdown",
   "id": "8704e2b0",
   "metadata": {},
   "source": [
    "To solve the problem, we will take the custome features and will write a function that returns k nearest neighbors for an $n^{th}$ object based on a pre-specified distance metric. To this end, we will employ the `sklearn.NearestNeighbors` learner and find k-nearest neighbors to the point using the `kneighbors` method of the [class](https://scikit-learn.org/stable/modules/generated/sklearn.neighbors.NearestNeighbors.html)."
   ]
  },
  {
   "cell_type": "code",
   "execution_count": 13,
   "id": "e0924e89",
   "metadata": {},
   "outputs": [],
   "source": [
    "feature_names = ['gender', 'age', 'salary', 'family_members']"
   ]
  },
  {
   "cell_type": "code",
   "execution_count": 14,
   "id": "4981c095",
   "metadata": {},
   "outputs": [],
   "source": [
    "def get_knn(df: PandasDataFrame, n: int, k: int, metric: str) -> PandasDataFrame:\n",
    "    \n",
    "    \"\"\"\n",
    "    Returns k nearest neighbors\n",
    "\n",
    "    :param df: pandas DataFrame used to find similar objects within\n",
    "    :param n: object no for which the nearest neighbours are looked for\n",
    "    :param k: the number of the nearest neighbours to return\n",
    "    :param metric: name of distance metric\n",
    "    \"\"\"\n",
    "\n",
    "    neighbors =  sklearn.neighbors.NearestNeighbors(n_neighbors=k, metric=metric)\n",
    "    neighbors.fit(df[feature_names].values)\n",
    "    neighbors_distances, neighbors_indices = neighbors.kneighbors([df.iloc[n][feature_names]], k, return_distance=True)\n",
    "    \n",
    "    df_out = pd.concat([\n",
    "        df.iloc[neighbors_indices[0]], \n",
    "        pd.DataFrame(neighbors_distances.T, index=neighbors_indices[0], columns=['distance'])\n",
    "        ], axis=1)\n",
    "    \n",
    "    return df_out"
   ]
  },
  {
   "cell_type": "markdown",
   "id": "919abe31",
   "metadata": {},
   "source": [
    "We will apply the function above to four cases and study the differences:\n",
    "\n",
    "1. raw data\n",
    "2. scaled data\n",
    "3. euclidian distances\n",
    "4. manhattan distances"
   ]
  },
  {
   "cell_type": "markdown",
   "id": "9d6be4ef",
   "metadata": {},
   "source": [
    "For scaling, we will employ the `MaxAbsScaler` scaler."
   ]
  },
  {
   "cell_type": "code",
   "execution_count": 15,
   "id": "1ae948d3",
   "metadata": {},
   "outputs": [],
   "source": [
    "data_scaled = data_raw.copy()\n",
    "data_scaled.loc[:, feature_names] = sklearn.preprocessing.MaxAbsScaler().fit_transform(\n",
    "    data_scaled[feature_names].to_numpy())"
   ]
  },
  {
   "cell_type": "markdown",
   "id": "b4099d5c",
   "metadata": {},
   "source": [
    "Let's take a look how the `data_scaled` dataframe looks like (Note: we did not scale the target variable, `insurance_benefits`:"
   ]
  },
  {
   "cell_type": "code",
   "execution_count": 16,
   "id": "c16422a8",
   "metadata": {},
   "outputs": [
    {
     "data": {
      "text/html": [
       "<div>\n",
       "<style scoped>\n",
       "    .dataframe tbody tr th:only-of-type {\n",
       "        vertical-align: middle;\n",
       "    }\n",
       "\n",
       "    .dataframe tbody tr th {\n",
       "        vertical-align: top;\n",
       "    }\n",
       "\n",
       "    .dataframe thead th {\n",
       "        text-align: right;\n",
       "    }\n",
       "</style>\n",
       "<table border=\"1\" class=\"dataframe\">\n",
       "  <thead>\n",
       "    <tr style=\"text-align: right;\">\n",
       "      <th></th>\n",
       "      <th>gender</th>\n",
       "      <th>age</th>\n",
       "      <th>salary</th>\n",
       "      <th>family_members</th>\n",
       "      <th>insurance_benefits</th>\n",
       "    </tr>\n",
       "  </thead>\n",
       "  <tbody>\n",
       "    <tr>\n",
       "      <th>0</th>\n",
       "      <td>1.0</td>\n",
       "      <td>0.630769</td>\n",
       "      <td>0.627848</td>\n",
       "      <td>0.166667</td>\n",
       "      <td>0</td>\n",
       "    </tr>\n",
       "    <tr>\n",
       "      <th>1</th>\n",
       "      <td>0.0</td>\n",
       "      <td>0.707692</td>\n",
       "      <td>0.481013</td>\n",
       "      <td>0.166667</td>\n",
       "      <td>1</td>\n",
       "    </tr>\n",
       "    <tr>\n",
       "      <th>2</th>\n",
       "      <td>0.0</td>\n",
       "      <td>0.446154</td>\n",
       "      <td>0.265823</td>\n",
       "      <td>0.000000</td>\n",
       "      <td>0</td>\n",
       "    </tr>\n",
       "    <tr>\n",
       "      <th>3</th>\n",
       "      <td>0.0</td>\n",
       "      <td>0.323077</td>\n",
       "      <td>0.527848</td>\n",
       "      <td>0.333333</td>\n",
       "      <td>0</td>\n",
       "    </tr>\n",
       "    <tr>\n",
       "      <th>4</th>\n",
       "      <td>1.0</td>\n",
       "      <td>0.430769</td>\n",
       "      <td>0.330380</td>\n",
       "      <td>0.000000</td>\n",
       "      <td>0</td>\n",
       "    </tr>\n",
       "  </tbody>\n",
       "</table>\n",
       "</div>"
      ],
      "text/plain": [
       "   gender       age    salary  family_members  insurance_benefits\n",
       "0     1.0  0.630769  0.627848        0.166667                   0\n",
       "1     0.0  0.707692  0.481013        0.166667                   1\n",
       "2     0.0  0.446154  0.265823        0.000000                   0\n",
       "3     0.0  0.323077  0.527848        0.333333                   0\n",
       "4     1.0  0.430769  0.330380        0.000000                   0"
      ]
     },
     "execution_count": 16,
     "metadata": {},
     "output_type": "execute_result"
    }
   ],
   "source": [
    "data_scaled.head()"
   ]
  },
  {
   "cell_type": "markdown",
   "id": "42bfff8e",
   "metadata": {},
   "source": [
    "OK, let's consider the four cases:"
   ]
  },
  {
   "cell_type": "code",
   "execution_count": 17,
   "id": "d6905aa0",
   "metadata": {},
   "outputs": [
    {
     "data": {
      "text/html": [
       "<div>\n",
       "<style scoped>\n",
       "    .dataframe tbody tr th:only-of-type {\n",
       "        vertical-align: middle;\n",
       "    }\n",
       "\n",
       "    .dataframe tbody tr th {\n",
       "        vertical-align: top;\n",
       "    }\n",
       "\n",
       "    .dataframe thead th {\n",
       "        text-align: right;\n",
       "    }\n",
       "</style>\n",
       "<table border=\"1\" class=\"dataframe\">\n",
       "  <thead>\n",
       "    <tr style=\"text-align: right;\">\n",
       "      <th></th>\n",
       "      <th>gender</th>\n",
       "      <th>age</th>\n",
       "      <th>salary</th>\n",
       "      <th>family_members</th>\n",
       "      <th>distance</th>\n",
       "    </tr>\n",
       "  </thead>\n",
       "  <tbody>\n",
       "    <tr>\n",
       "      <th>0</th>\n",
       "      <td>1</td>\n",
       "      <td>41.0</td>\n",
       "      <td>49600.0</td>\n",
       "      <td>1</td>\n",
       "      <td>0.000000</td>\n",
       "    </tr>\n",
       "    <tr>\n",
       "      <th>2022</th>\n",
       "      <td>1</td>\n",
       "      <td>41.0</td>\n",
       "      <td>49600.0</td>\n",
       "      <td>0</td>\n",
       "      <td>1.000000</td>\n",
       "    </tr>\n",
       "    <tr>\n",
       "      <th>1225</th>\n",
       "      <td>0</td>\n",
       "      <td>42.0</td>\n",
       "      <td>49600.0</td>\n",
       "      <td>0</td>\n",
       "      <td>1.732051</td>\n",
       "    </tr>\n",
       "    <tr>\n",
       "      <th>4031</th>\n",
       "      <td>1</td>\n",
       "      <td>44.0</td>\n",
       "      <td>49600.0</td>\n",
       "      <td>2</td>\n",
       "      <td>3.162278</td>\n",
       "    </tr>\n",
       "    <tr>\n",
       "      <th>3424</th>\n",
       "      <td>0</td>\n",
       "      <td>38.0</td>\n",
       "      <td>49600.0</td>\n",
       "      <td>0</td>\n",
       "      <td>3.316625</td>\n",
       "    </tr>\n",
       "    <tr>\n",
       "      <th>815</th>\n",
       "      <td>1</td>\n",
       "      <td>37.0</td>\n",
       "      <td>49600.0</td>\n",
       "      <td>2</td>\n",
       "      <td>4.123106</td>\n",
       "    </tr>\n",
       "    <tr>\n",
       "      <th>4661</th>\n",
       "      <td>0</td>\n",
       "      <td>45.0</td>\n",
       "      <td>49600.0</td>\n",
       "      <td>0</td>\n",
       "      <td>4.242641</td>\n",
       "    </tr>\n",
       "    <tr>\n",
       "      <th>2125</th>\n",
       "      <td>0</td>\n",
       "      <td>37.0</td>\n",
       "      <td>49600.0</td>\n",
       "      <td>2</td>\n",
       "      <td>4.242641</td>\n",
       "    </tr>\n",
       "    <tr>\n",
       "      <th>3900</th>\n",
       "      <td>1</td>\n",
       "      <td>36.0</td>\n",
       "      <td>49600.0</td>\n",
       "      <td>0</td>\n",
       "      <td>5.099020</td>\n",
       "    </tr>\n",
       "    <tr>\n",
       "      <th>2349</th>\n",
       "      <td>1</td>\n",
       "      <td>46.0</td>\n",
       "      <td>49600.0</td>\n",
       "      <td>2</td>\n",
       "      <td>5.099020</td>\n",
       "    </tr>\n",
       "  </tbody>\n",
       "</table>\n",
       "</div>"
      ],
      "text/plain": [
       "      gender   age   salary  family_members  distance\n",
       "0          1  41.0  49600.0               1  0.000000\n",
       "2022       1  41.0  49600.0               0  1.000000\n",
       "1225       0  42.0  49600.0               0  1.732051\n",
       "4031       1  44.0  49600.0               2  3.162278\n",
       "3424       0  38.0  49600.0               0  3.316625\n",
       "815        1  37.0  49600.0               2  4.123106\n",
       "4661       0  45.0  49600.0               0  4.242641\n",
       "2125       0  37.0  49600.0               2  4.242641\n",
       "3900       1  36.0  49600.0               0  5.099020\n",
       "2349       1  46.0  49600.0               2  5.099020"
      ]
     },
     "execution_count": 17,
     "metadata": {},
     "output_type": "execute_result"
    }
   ],
   "source": [
    "# unscaled data / euclidean distance\n",
    "get_knn(data_raw[feature_names], 0, 10, 'euclidean')"
   ]
  },
  {
   "cell_type": "code",
   "execution_count": 18,
   "id": "1e107745",
   "metadata": {},
   "outputs": [
    {
     "data": {
      "text/html": [
       "<div>\n",
       "<style scoped>\n",
       "    .dataframe tbody tr th:only-of-type {\n",
       "        vertical-align: middle;\n",
       "    }\n",
       "\n",
       "    .dataframe tbody tr th {\n",
       "        vertical-align: top;\n",
       "    }\n",
       "\n",
       "    .dataframe thead th {\n",
       "        text-align: right;\n",
       "    }\n",
       "</style>\n",
       "<table border=\"1\" class=\"dataframe\">\n",
       "  <thead>\n",
       "    <tr style=\"text-align: right;\">\n",
       "      <th></th>\n",
       "      <th>gender</th>\n",
       "      <th>age</th>\n",
       "      <th>salary</th>\n",
       "      <th>family_members</th>\n",
       "      <th>distance</th>\n",
       "    </tr>\n",
       "  </thead>\n",
       "  <tbody>\n",
       "    <tr>\n",
       "      <th>0</th>\n",
       "      <td>1.0</td>\n",
       "      <td>0.630769</td>\n",
       "      <td>0.627848</td>\n",
       "      <td>0.166667</td>\n",
       "      <td>0.000000</td>\n",
       "    </tr>\n",
       "    <tr>\n",
       "      <th>2689</th>\n",
       "      <td>1.0</td>\n",
       "      <td>0.630769</td>\n",
       "      <td>0.634177</td>\n",
       "      <td>0.166667</td>\n",
       "      <td>0.006329</td>\n",
       "    </tr>\n",
       "    <tr>\n",
       "      <th>133</th>\n",
       "      <td>1.0</td>\n",
       "      <td>0.615385</td>\n",
       "      <td>0.636709</td>\n",
       "      <td>0.166667</td>\n",
       "      <td>0.017754</td>\n",
       "    </tr>\n",
       "    <tr>\n",
       "      <th>4869</th>\n",
       "      <td>1.0</td>\n",
       "      <td>0.646154</td>\n",
       "      <td>0.637975</td>\n",
       "      <td>0.166667</td>\n",
       "      <td>0.018418</td>\n",
       "    </tr>\n",
       "    <tr>\n",
       "      <th>3275</th>\n",
       "      <td>1.0</td>\n",
       "      <td>0.646154</td>\n",
       "      <td>0.651899</td>\n",
       "      <td>0.166667</td>\n",
       "      <td>0.028550</td>\n",
       "    </tr>\n",
       "    <tr>\n",
       "      <th>1567</th>\n",
       "      <td>1.0</td>\n",
       "      <td>0.615385</td>\n",
       "      <td>0.602532</td>\n",
       "      <td>0.166667</td>\n",
       "      <td>0.029624</td>\n",
       "    </tr>\n",
       "    <tr>\n",
       "      <th>3365</th>\n",
       "      <td>1.0</td>\n",
       "      <td>0.630769</td>\n",
       "      <td>0.596203</td>\n",
       "      <td>0.166667</td>\n",
       "      <td>0.031646</td>\n",
       "    </tr>\n",
       "    <tr>\n",
       "      <th>2103</th>\n",
       "      <td>1.0</td>\n",
       "      <td>0.630769</td>\n",
       "      <td>0.596203</td>\n",
       "      <td>0.166667</td>\n",
       "      <td>0.031646</td>\n",
       "    </tr>\n",
       "    <tr>\n",
       "      <th>124</th>\n",
       "      <td>1.0</td>\n",
       "      <td>0.661538</td>\n",
       "      <td>0.635443</td>\n",
       "      <td>0.166667</td>\n",
       "      <td>0.031693</td>\n",
       "    </tr>\n",
       "    <tr>\n",
       "      <th>3636</th>\n",
       "      <td>1.0</td>\n",
       "      <td>0.615385</td>\n",
       "      <td>0.600000</td>\n",
       "      <td>0.166667</td>\n",
       "      <td>0.031815</td>\n",
       "    </tr>\n",
       "  </tbody>\n",
       "</table>\n",
       "</div>"
      ],
      "text/plain": [
       "      gender       age    salary  family_members  distance\n",
       "0        1.0  0.630769  0.627848        0.166667  0.000000\n",
       "2689     1.0  0.630769  0.634177        0.166667  0.006329\n",
       "133      1.0  0.615385  0.636709        0.166667  0.017754\n",
       "4869     1.0  0.646154  0.637975        0.166667  0.018418\n",
       "3275     1.0  0.646154  0.651899        0.166667  0.028550\n",
       "1567     1.0  0.615385  0.602532        0.166667  0.029624\n",
       "3365     1.0  0.630769  0.596203        0.166667  0.031646\n",
       "2103     1.0  0.630769  0.596203        0.166667  0.031646\n",
       "124      1.0  0.661538  0.635443        0.166667  0.031693\n",
       "3636     1.0  0.615385  0.600000        0.166667  0.031815"
      ]
     },
     "execution_count": 18,
     "metadata": {},
     "output_type": "execute_result"
    }
   ],
   "source": [
    "# scaled data / euclidean distance\n",
    "get_knn(data_scaled[feature_names], 0, 10, 'euclidean')"
   ]
  },
  {
   "cell_type": "markdown",
   "id": "a1ff2105",
   "metadata": {},
   "source": [
    "We can observe that the resulting dataframe differs significantly: unlike in case of the unscaled data, where customers with exactly the same income are chosen (the variable with the highst level of values), on scaled data customers from the same gender and with similar number of family members are chosen, while the income level is also similar. Let's check the Manhattan distance:"
   ]
  },
  {
   "cell_type": "code",
   "execution_count": 19,
   "id": "eb5881ef",
   "metadata": {},
   "outputs": [
    {
     "data": {
      "text/html": [
       "<div>\n",
       "<style scoped>\n",
       "    .dataframe tbody tr th:only-of-type {\n",
       "        vertical-align: middle;\n",
       "    }\n",
       "\n",
       "    .dataframe tbody tr th {\n",
       "        vertical-align: top;\n",
       "    }\n",
       "\n",
       "    .dataframe thead th {\n",
       "        text-align: right;\n",
       "    }\n",
       "</style>\n",
       "<table border=\"1\" class=\"dataframe\">\n",
       "  <thead>\n",
       "    <tr style=\"text-align: right;\">\n",
       "      <th></th>\n",
       "      <th>gender</th>\n",
       "      <th>age</th>\n",
       "      <th>salary</th>\n",
       "      <th>family_members</th>\n",
       "      <th>distance</th>\n",
       "    </tr>\n",
       "  </thead>\n",
       "  <tbody>\n",
       "    <tr>\n",
       "      <th>0</th>\n",
       "      <td>1</td>\n",
       "      <td>41.0</td>\n",
       "      <td>49600.0</td>\n",
       "      <td>1</td>\n",
       "      <td>0.0</td>\n",
       "    </tr>\n",
       "    <tr>\n",
       "      <th>2022</th>\n",
       "      <td>1</td>\n",
       "      <td>41.0</td>\n",
       "      <td>49600.0</td>\n",
       "      <td>0</td>\n",
       "      <td>1.0</td>\n",
       "    </tr>\n",
       "    <tr>\n",
       "      <th>1225</th>\n",
       "      <td>0</td>\n",
       "      <td>42.0</td>\n",
       "      <td>49600.0</td>\n",
       "      <td>0</td>\n",
       "      <td>3.0</td>\n",
       "    </tr>\n",
       "    <tr>\n",
       "      <th>4031</th>\n",
       "      <td>1</td>\n",
       "      <td>44.0</td>\n",
       "      <td>49600.0</td>\n",
       "      <td>2</td>\n",
       "      <td>4.0</td>\n",
       "    </tr>\n",
       "    <tr>\n",
       "      <th>3424</th>\n",
       "      <td>0</td>\n",
       "      <td>38.0</td>\n",
       "      <td>49600.0</td>\n",
       "      <td>0</td>\n",
       "      <td>5.0</td>\n",
       "    </tr>\n",
       "    <tr>\n",
       "      <th>815</th>\n",
       "      <td>1</td>\n",
       "      <td>37.0</td>\n",
       "      <td>49600.0</td>\n",
       "      <td>2</td>\n",
       "      <td>5.0</td>\n",
       "    </tr>\n",
       "    <tr>\n",
       "      <th>4661</th>\n",
       "      <td>0</td>\n",
       "      <td>45.0</td>\n",
       "      <td>49600.0</td>\n",
       "      <td>0</td>\n",
       "      <td>6.0</td>\n",
       "    </tr>\n",
       "    <tr>\n",
       "      <th>2349</th>\n",
       "      <td>1</td>\n",
       "      <td>46.0</td>\n",
       "      <td>49600.0</td>\n",
       "      <td>2</td>\n",
       "      <td>6.0</td>\n",
       "    </tr>\n",
       "    <tr>\n",
       "      <th>2125</th>\n",
       "      <td>0</td>\n",
       "      <td>37.0</td>\n",
       "      <td>49600.0</td>\n",
       "      <td>2</td>\n",
       "      <td>6.0</td>\n",
       "    </tr>\n",
       "    <tr>\n",
       "      <th>3900</th>\n",
       "      <td>1</td>\n",
       "      <td>36.0</td>\n",
       "      <td>49600.0</td>\n",
       "      <td>0</td>\n",
       "      <td>6.0</td>\n",
       "    </tr>\n",
       "  </tbody>\n",
       "</table>\n",
       "</div>"
      ],
      "text/plain": [
       "      gender   age   salary  family_members  distance\n",
       "0          1  41.0  49600.0               1       0.0\n",
       "2022       1  41.0  49600.0               0       1.0\n",
       "1225       0  42.0  49600.0               0       3.0\n",
       "4031       1  44.0  49600.0               2       4.0\n",
       "3424       0  38.0  49600.0               0       5.0\n",
       "815        1  37.0  49600.0               2       5.0\n",
       "4661       0  45.0  49600.0               0       6.0\n",
       "2349       1  46.0  49600.0               2       6.0\n",
       "2125       0  37.0  49600.0               2       6.0\n",
       "3900       1  36.0  49600.0               0       6.0"
      ]
     },
     "execution_count": 19,
     "metadata": {},
     "output_type": "execute_result"
    }
   ],
   "source": [
    "# unscaled data / manhattan distance\n",
    "get_knn(data_raw[feature_names], 0, 10, 'manhattan')"
   ]
  },
  {
   "cell_type": "code",
   "execution_count": 20,
   "id": "97addacf",
   "metadata": {},
   "outputs": [
    {
     "data": {
      "text/html": [
       "<div>\n",
       "<style scoped>\n",
       "    .dataframe tbody tr th:only-of-type {\n",
       "        vertical-align: middle;\n",
       "    }\n",
       "\n",
       "    .dataframe tbody tr th {\n",
       "        vertical-align: top;\n",
       "    }\n",
       "\n",
       "    .dataframe thead th {\n",
       "        text-align: right;\n",
       "    }\n",
       "</style>\n",
       "<table border=\"1\" class=\"dataframe\">\n",
       "  <thead>\n",
       "    <tr style=\"text-align: right;\">\n",
       "      <th></th>\n",
       "      <th>gender</th>\n",
       "      <th>age</th>\n",
       "      <th>salary</th>\n",
       "      <th>family_members</th>\n",
       "      <th>distance</th>\n",
       "    </tr>\n",
       "  </thead>\n",
       "  <tbody>\n",
       "    <tr>\n",
       "      <th>0</th>\n",
       "      <td>1.0</td>\n",
       "      <td>0.630769</td>\n",
       "      <td>0.627848</td>\n",
       "      <td>0.166667</td>\n",
       "      <td>0.000000</td>\n",
       "    </tr>\n",
       "    <tr>\n",
       "      <th>2689</th>\n",
       "      <td>1.0</td>\n",
       "      <td>0.630769</td>\n",
       "      <td>0.634177</td>\n",
       "      <td>0.166667</td>\n",
       "      <td>0.006329</td>\n",
       "    </tr>\n",
       "    <tr>\n",
       "      <th>133</th>\n",
       "      <td>1.0</td>\n",
       "      <td>0.615385</td>\n",
       "      <td>0.636709</td>\n",
       "      <td>0.166667</td>\n",
       "      <td>0.024245</td>\n",
       "    </tr>\n",
       "    <tr>\n",
       "      <th>4869</th>\n",
       "      <td>1.0</td>\n",
       "      <td>0.646154</td>\n",
       "      <td>0.637975</td>\n",
       "      <td>0.166667</td>\n",
       "      <td>0.025511</td>\n",
       "    </tr>\n",
       "    <tr>\n",
       "      <th>3365</th>\n",
       "      <td>1.0</td>\n",
       "      <td>0.630769</td>\n",
       "      <td>0.596203</td>\n",
       "      <td>0.166667</td>\n",
       "      <td>0.031646</td>\n",
       "    </tr>\n",
       "    <tr>\n",
       "      <th>2103</th>\n",
       "      <td>1.0</td>\n",
       "      <td>0.630769</td>\n",
       "      <td>0.596203</td>\n",
       "      <td>0.166667</td>\n",
       "      <td>0.031646</td>\n",
       "    </tr>\n",
       "    <tr>\n",
       "      <th>124</th>\n",
       "      <td>1.0</td>\n",
       "      <td>0.661538</td>\n",
       "      <td>0.635443</td>\n",
       "      <td>0.166667</td>\n",
       "      <td>0.038364</td>\n",
       "    </tr>\n",
       "    <tr>\n",
       "      <th>4305</th>\n",
       "      <td>1.0</td>\n",
       "      <td>0.630769</td>\n",
       "      <td>0.588608</td>\n",
       "      <td>0.166667</td>\n",
       "      <td>0.039241</td>\n",
       "    </tr>\n",
       "    <tr>\n",
       "      <th>3275</th>\n",
       "      <td>1.0</td>\n",
       "      <td>0.646154</td>\n",
       "      <td>0.651899</td>\n",
       "      <td>0.166667</td>\n",
       "      <td>0.039435</td>\n",
       "    </tr>\n",
       "    <tr>\n",
       "      <th>1567</th>\n",
       "      <td>1.0</td>\n",
       "      <td>0.615385</td>\n",
       "      <td>0.602532</td>\n",
       "      <td>0.166667</td>\n",
       "      <td>0.040701</td>\n",
       "    </tr>\n",
       "  </tbody>\n",
       "</table>\n",
       "</div>"
      ],
      "text/plain": [
       "      gender       age    salary  family_members  distance\n",
       "0        1.0  0.630769  0.627848        0.166667  0.000000\n",
       "2689     1.0  0.630769  0.634177        0.166667  0.006329\n",
       "133      1.0  0.615385  0.636709        0.166667  0.024245\n",
       "4869     1.0  0.646154  0.637975        0.166667  0.025511\n",
       "3365     1.0  0.630769  0.596203        0.166667  0.031646\n",
       "2103     1.0  0.630769  0.596203        0.166667  0.031646\n",
       "124      1.0  0.661538  0.635443        0.166667  0.038364\n",
       "4305     1.0  0.630769  0.588608        0.166667  0.039241\n",
       "3275     1.0  0.646154  0.651899        0.166667  0.039435\n",
       "1567     1.0  0.615385  0.602532        0.166667  0.040701"
      ]
     },
     "execution_count": 20,
     "metadata": {},
     "output_type": "execute_result"
    }
   ],
   "source": [
    "# scaled data / manhattan distance\n",
    "get_knn(data_scaled[feature_names], 0, 10, 'manhattan')"
   ]
  },
  {
   "cell_type": "markdown",
   "id": "0e821a6f",
   "metadata": {},
   "source": [
    "Similar effect can be observet for the Manhattan distance, while the unscaled results are identical for the two distance metrics and the scaled results are identical (the order can differ and the distance values differ, as can be expected). All in all, these examples demonstrate the distance-based methods are affected by features not being scaled."
   ]
  },
  {
   "cell_type": "markdown",
   "id": "7268c086",
   "metadata": {},
   "source": [
    "[Back to Content](#content)"
   ]
  },
  {
   "cell_type": "markdown",
   "id": "282a9a36",
   "metadata": {},
   "source": [
    "## Task 2. Predict whether a new customer is likely to receive an insurance benefit."
   ]
  },
  {
   "cell_type": "markdown",
   "id": "8e564dc0",
   "metadata": {},
   "source": [
    "In ML terms, we need to build a classification model. We will build a KNN-based classifier and measure its quality with the F1 metric for k equal 1 to 10 for both the raw data and the scaled one. Thus, we will see how k may influece the evaluation metric and how scaling the data makes affects the results. Before we proceed, we will build a dummy model which is supposed to be just random for this case: it should return `1` with some probability. Let's test the model with four probability values: 0, some probability of paying any insurance benefit, 0.5, 1. We will split the data in 70-to-30 ration."
   ]
  },
  {
   "cell_type": "markdown",
   "id": "cd5970e3",
   "metadata": {},
   "source": [
    "Let's create the target variable:"
   ]
  },
  {
   "cell_type": "code",
   "execution_count": 21,
   "id": "9e462c65",
   "metadata": {},
   "outputs": [],
   "source": [
    "data_raw['benefit_received'] = np.where(data_raw['insurance_benefits']>0,1,0)"
   ]
  },
  {
   "cell_type": "markdown",
   "id": "ceb391bc",
   "metadata": {},
   "source": [
    "Let's check for the class imbalance with value_counts():"
   ]
  },
  {
   "cell_type": "code",
   "execution_count": 22,
   "id": "a1a0e3c1",
   "metadata": {},
   "outputs": [
    {
     "data": {
      "text/plain": [
       "0    0.8872\n",
       "1    0.1128\n",
       "Name: benefit_received, dtype: float64"
      ]
     },
     "execution_count": 22,
     "metadata": {},
     "output_type": "execute_result"
    }
   ],
   "source": [
    "data_raw['benefit_received'].value_counts(normalize=True)"
   ]
  },
  {
   "cell_type": "markdown",
   "id": "077a8189",
   "metadata": {},
   "source": [
    "Thus, only 11% of the customera recieve any benefits and we should account for a relatively high imbalance."
   ]
  },
  {
   "cell_type": "markdown",
   "id": "1170c245",
   "metadata": {},
   "source": [
    "Let's split the data. We should preserve the ratio of the customers who received benefits while splitting:"
   ]
  },
  {
   "cell_type": "code",
   "execution_count": 23,
   "id": "93435c30",
   "metadata": {},
   "outputs": [],
   "source": [
    "# split data into train and test sets in 70-to-30 ratio\n",
    "train, test = train_test_split(data_raw, test_size=0.3, stratify=data_raw['benefit_received'], random_state=12345)\n",
    "\n",
    "X_train = train[feature_names]\n",
    "X_test = test[feature_names]\n",
    "y_train = train['benefit_received']\n",
    "y_test = test['benefit_received']"
   ]
  },
  {
   "cell_type": "markdown",
   "id": "d4ee45fe",
   "metadata": {},
   "source": [
    "Now, let's establish a random classifier. to this end, we will employ the [`DummyClassifier()`](https://scikit-learn.org/stable/modules/generated/sklearn.dummy.DummyClassifier.html). The specific behavior of the classifier is selected with the strategy parameter, and in our case we should put it as `startified`."
   ]
  },
  {
   "cell_type": "code",
   "execution_count": 24,
   "id": "d99335a0",
   "metadata": {},
   "outputs": [],
   "source": [
    "from sklearn.dummy import DummyClassifier"
   ]
  },
  {
   "cell_type": "code",
   "execution_count": 25,
   "id": "40dada5b",
   "metadata": {},
   "outputs": [
    {
     "data": {
      "text/plain": [
       "0.7913333333333333"
      ]
     },
     "execution_count": 25,
     "metadata": {},
     "output_type": "execute_result"
    }
   ],
   "source": [
    "dummy_clf = DummyClassifier(strategy=\"stratified\", random_state = 54321) # use random_state to make the results comparable\n",
    "dummy_clf.fit(X_train, y_train)\n",
    "\n",
    "dummy_clf.score(X_test, y_test)"
   ]
  },
  {
   "cell_type": "markdown",
   "id": "9c8655d4",
   "metadata": {},
   "source": [
    "The default score metric for the `DummyClassifier` is accuracy; however, we were requested to apply the F1-score to measure the quality of our models. Let's construct the evaluation function:"
   ]
  },
  {
   "cell_type": "code",
   "execution_count": 26,
   "id": "b1ff5055",
   "metadata": {},
   "outputs": [],
   "source": [
    "def f1_score(y_true: np.array, y_pred: np.array) -> None:\n",
    "    \n",
    "    f1_score = sklearn.metrics.f1_score(y_true, y_pred)\n",
    "    print(f'F1: {f1_score:.2f}')"
   ]
  },
  {
   "cell_type": "markdown",
   "id": "48c163fa",
   "metadata": {},
   "source": [
    "Let's consider the `DummyClassifier` predictions:"
   ]
  },
  {
   "cell_type": "code",
   "execution_count": 27,
   "id": "31a3b18f",
   "metadata": {},
   "outputs": [],
   "source": [
    "dummy_predictions = dummy_clf.predict(X_test)"
   ]
  },
  {
   "cell_type": "markdown",
   "id": "1ba9abd5",
   "metadata": {},
   "source": [
    "Now, let's apply the F1-score:"
   ]
  },
  {
   "cell_type": "code",
   "execution_count": 28,
   "id": "6d044b98",
   "metadata": {},
   "outputs": [
    {
     "name": "stdout",
     "output_type": "stream",
     "text": [
      "F1: 0.09\n"
     ]
    }
   ],
   "source": [
    "f1_score(y_test, dummy_predictions)"
   ]
  },
  {
   "cell_type": "markdown",
   "id": "c3ee0d9d",
   "metadata": {},
   "source": [
    "The F1-score of a dummy model on unscaled data equal 0.09. Let's check the scaled data."
   ]
  },
  {
   "cell_type": "code",
   "execution_count": 29,
   "id": "dc912845",
   "metadata": {},
   "outputs": [],
   "source": [
    "scaler =  sklearn.preprocessing.MaxAbsScaler()"
   ]
  },
  {
   "cell_type": "code",
   "execution_count": 30,
   "id": "3ff0b857",
   "metadata": {},
   "outputs": [],
   "source": [
    "pipe = Pipeline([('scaler', scaler), ('dummy_model', dummy_clf)])"
   ]
  },
  {
   "cell_type": "code",
   "execution_count": 31,
   "id": "527efbb4",
   "metadata": {},
   "outputs": [
    {
     "data": {
      "text/html": [
       "<style>#sk-container-id-1 {color: black;background-color: white;}#sk-container-id-1 pre{padding: 0;}#sk-container-id-1 div.sk-toggleable {background-color: white;}#sk-container-id-1 label.sk-toggleable__label {cursor: pointer;display: block;width: 100%;margin-bottom: 0;padding: 0.3em;box-sizing: border-box;text-align: center;}#sk-container-id-1 label.sk-toggleable__label-arrow:before {content: \"▸\";float: left;margin-right: 0.25em;color: #696969;}#sk-container-id-1 label.sk-toggleable__label-arrow:hover:before {color: black;}#sk-container-id-1 div.sk-estimator:hover label.sk-toggleable__label-arrow:before {color: black;}#sk-container-id-1 div.sk-toggleable__content {max-height: 0;max-width: 0;overflow: hidden;text-align: left;background-color: #f0f8ff;}#sk-container-id-1 div.sk-toggleable__content pre {margin: 0.2em;color: black;border-radius: 0.25em;background-color: #f0f8ff;}#sk-container-id-1 input.sk-toggleable__control:checked~div.sk-toggleable__content {max-height: 200px;max-width: 100%;overflow: auto;}#sk-container-id-1 input.sk-toggleable__control:checked~label.sk-toggleable__label-arrow:before {content: \"▾\";}#sk-container-id-1 div.sk-estimator input.sk-toggleable__control:checked~label.sk-toggleable__label {background-color: #d4ebff;}#sk-container-id-1 div.sk-label input.sk-toggleable__control:checked~label.sk-toggleable__label {background-color: #d4ebff;}#sk-container-id-1 input.sk-hidden--visually {border: 0;clip: rect(1px 1px 1px 1px);clip: rect(1px, 1px, 1px, 1px);height: 1px;margin: -1px;overflow: hidden;padding: 0;position: absolute;width: 1px;}#sk-container-id-1 div.sk-estimator {font-family: monospace;background-color: #f0f8ff;border: 1px dotted black;border-radius: 0.25em;box-sizing: border-box;margin-bottom: 0.5em;}#sk-container-id-1 div.sk-estimator:hover {background-color: #d4ebff;}#sk-container-id-1 div.sk-parallel-item::after {content: \"\";width: 100%;border-bottom: 1px solid gray;flex-grow: 1;}#sk-container-id-1 div.sk-label:hover label.sk-toggleable__label {background-color: #d4ebff;}#sk-container-id-1 div.sk-serial::before {content: \"\";position: absolute;border-left: 1px solid gray;box-sizing: border-box;top: 0;bottom: 0;left: 50%;z-index: 0;}#sk-container-id-1 div.sk-serial {display: flex;flex-direction: column;align-items: center;background-color: white;padding-right: 0.2em;padding-left: 0.2em;position: relative;}#sk-container-id-1 div.sk-item {position: relative;z-index: 1;}#sk-container-id-1 div.sk-parallel {display: flex;align-items: stretch;justify-content: center;background-color: white;position: relative;}#sk-container-id-1 div.sk-item::before, #sk-container-id-1 div.sk-parallel-item::before {content: \"\";position: absolute;border-left: 1px solid gray;box-sizing: border-box;top: 0;bottom: 0;left: 50%;z-index: -1;}#sk-container-id-1 div.sk-parallel-item {display: flex;flex-direction: column;z-index: 1;position: relative;background-color: white;}#sk-container-id-1 div.sk-parallel-item:first-child::after {align-self: flex-end;width: 50%;}#sk-container-id-1 div.sk-parallel-item:last-child::after {align-self: flex-start;width: 50%;}#sk-container-id-1 div.sk-parallel-item:only-child::after {width: 0;}#sk-container-id-1 div.sk-dashed-wrapped {border: 1px dashed gray;margin: 0 0.4em 0.5em 0.4em;box-sizing: border-box;padding-bottom: 0.4em;background-color: white;}#sk-container-id-1 div.sk-label label {font-family: monospace;font-weight: bold;display: inline-block;line-height: 1.2em;}#sk-container-id-1 div.sk-label-container {text-align: center;}#sk-container-id-1 div.sk-container {/* jupyter's `normalize.less` sets `[hidden] { display: none; }` but bootstrap.min.css set `[hidden] { display: none !important; }` so we also need the `!important` here to be able to override the default hidden behavior on the sphinx rendered scikit-learn.org. See: https://github.com/scikit-learn/scikit-learn/issues/21755 */display: inline-block !important;position: relative;}#sk-container-id-1 div.sk-text-repr-fallback {display: none;}</style><div id=\"sk-container-id-1\" class=\"sk-top-container\"><div class=\"sk-text-repr-fallback\"><pre>Pipeline(steps=[(&#x27;scaler&#x27;, MaxAbsScaler()),\n",
       "                (&#x27;dummy_model&#x27;,\n",
       "                 DummyClassifier(random_state=54321, strategy=&#x27;stratified&#x27;))])</pre><b>In a Jupyter environment, please rerun this cell to show the HTML representation or trust the notebook. <br />On GitHub, the HTML representation is unable to render, please try loading this page with nbviewer.org.</b></div><div class=\"sk-container\" hidden><div class=\"sk-item sk-dashed-wrapped\"><div class=\"sk-label-container\"><div class=\"sk-label sk-toggleable\"><input class=\"sk-toggleable__control sk-hidden--visually\" id=\"sk-estimator-id-1\" type=\"checkbox\" ><label for=\"sk-estimator-id-1\" class=\"sk-toggleable__label sk-toggleable__label-arrow\">Pipeline</label><div class=\"sk-toggleable__content\"><pre>Pipeline(steps=[(&#x27;scaler&#x27;, MaxAbsScaler()),\n",
       "                (&#x27;dummy_model&#x27;,\n",
       "                 DummyClassifier(random_state=54321, strategy=&#x27;stratified&#x27;))])</pre></div></div></div><div class=\"sk-serial\"><div class=\"sk-item\"><div class=\"sk-estimator sk-toggleable\"><input class=\"sk-toggleable__control sk-hidden--visually\" id=\"sk-estimator-id-2\" type=\"checkbox\" ><label for=\"sk-estimator-id-2\" class=\"sk-toggleable__label sk-toggleable__label-arrow\">MaxAbsScaler</label><div class=\"sk-toggleable__content\"><pre>MaxAbsScaler()</pre></div></div></div><div class=\"sk-item\"><div class=\"sk-estimator sk-toggleable\"><input class=\"sk-toggleable__control sk-hidden--visually\" id=\"sk-estimator-id-3\" type=\"checkbox\" ><label for=\"sk-estimator-id-3\" class=\"sk-toggleable__label sk-toggleable__label-arrow\">DummyClassifier</label><div class=\"sk-toggleable__content\"><pre>DummyClassifier(random_state=54321, strategy=&#x27;stratified&#x27;)</pre></div></div></div></div></div></div></div>"
      ],
      "text/plain": [
       "Pipeline(steps=[('scaler', MaxAbsScaler()),\n",
       "                ('dummy_model',\n",
       "                 DummyClassifier(random_state=54321, strategy='stratified'))])"
      ]
     },
     "execution_count": 31,
     "metadata": {},
     "output_type": "execute_result"
    }
   ],
   "source": [
    "pipe.fit(X_train, y_train)"
   ]
  },
  {
   "cell_type": "code",
   "execution_count": 32,
   "id": "787e6df6",
   "metadata": {},
   "outputs": [
    {
     "data": {
      "text/plain": [
       "array([1, 0, 0, ..., 1, 0, 0])"
      ]
     },
     "execution_count": 32,
     "metadata": {},
     "output_type": "execute_result"
    }
   ],
   "source": [
    "pipe.predict(X_test)"
   ]
  },
  {
   "cell_type": "code",
   "execution_count": 33,
   "id": "1b11cde6",
   "metadata": {},
   "outputs": [],
   "source": [
    "dummy_predictions_scaled = pipe.predict(X_test)"
   ]
  },
  {
   "cell_type": "code",
   "execution_count": 34,
   "id": "9f9dd475",
   "metadata": {},
   "outputs": [
    {
     "name": "stdout",
     "output_type": "stream",
     "text": [
      "F1: 0.09\n"
     ]
    }
   ],
   "source": [
    "f1_score(y_test, dummy_predictions_scaled)"
   ]
  },
  {
   "cell_type": "markdown",
   "id": "16decc6a",
   "metadata": {},
   "source": [
    "The same result on the scaled data."
   ]
  },
  {
   "cell_type": "markdown",
   "id": "244bba12",
   "metadata": {},
   "source": [
    "Based on this reference point, let's build a more universal random model, which will return `1` with some probability, not just by a predefined strategy. To this end. we will employ the `numpy.random.Generator.binomial` method."
   ]
  },
  {
   "cell_type": "code",
   "execution_count": 35,
   "id": "03e1333d",
   "metadata": {},
   "outputs": [],
   "source": [
    "def random_predict(probability: float, array_size: int, seed: int = 12345):\n",
    "    \"\"\"Returns an array of ones from binomial(1,p) destribution.\"\"\"\n",
    "    rng = np.random.default_rng(seed=seed) # use the numpy random generator \n",
    "    return rng.binomial(n=1, p=prob, size=array_size) # n trials, with p - probability of success, and size as output shape"
   ]
  },
  {
   "cell_type": "code",
   "execution_count": 36,
   "id": "80614407",
   "metadata": {},
   "outputs": [
    {
     "name": "stdout",
     "output_type": "stream",
     "text": [
      "Probability of True: 0.00\n",
      "F1: 0.00\n",
      "Probability of True: 0.11\n",
      "F1: 0.09\n",
      "Probability of True: 0.50\n",
      "F1: 0.17\n",
      "Probability of True: 1.00\n",
      "F1: 0.20\n"
     ]
    }
   ],
   "source": [
    "for prob in [0, data_raw['benefit_received'].sum() / len(data_raw), 0.5, 1]:\n",
    "    random_predictions = random_predict(prob, y_test.shape[0]) \n",
    "    print(f'Probability of True: {prob:.2f}')\n",
    "    f1_score(y_test, random_predictions)  # includes printing"
   ]
  },
  {
   "cell_type": "markdown",
   "id": "2977550b",
   "metadata": {},
   "source": [
    "Now, let's  build a KNN-based classifier and measure its quality with the F1 metric for k equal 1 to 10 for both the original data and the scaled one. We will set the `weights` parameter to `distance` to make closer neighbors of a query point to have a greater influence than neighbors which are further away."
   ]
  },
  {
   "cell_type": "code",
   "execution_count": 37,
   "id": "29250509",
   "metadata": {},
   "outputs": [],
   "source": [
    "knn = sklearn.neighbors.KNeighborsClassifier(weights = 'distance')  # we will use the default value of the neighbors, 5."
   ]
  },
  {
   "cell_type": "markdown",
   "id": "1622993e",
   "metadata": {},
   "source": [
    "Unscaled data:"
   ]
  },
  {
   "cell_type": "code",
   "execution_count": 38,
   "id": "be75c91e",
   "metadata": {},
   "outputs": [
    {
     "data": {
      "text/html": [
       "<style>#sk-container-id-2 {color: black;background-color: white;}#sk-container-id-2 pre{padding: 0;}#sk-container-id-2 div.sk-toggleable {background-color: white;}#sk-container-id-2 label.sk-toggleable__label {cursor: pointer;display: block;width: 100%;margin-bottom: 0;padding: 0.3em;box-sizing: border-box;text-align: center;}#sk-container-id-2 label.sk-toggleable__label-arrow:before {content: \"▸\";float: left;margin-right: 0.25em;color: #696969;}#sk-container-id-2 label.sk-toggleable__label-arrow:hover:before {color: black;}#sk-container-id-2 div.sk-estimator:hover label.sk-toggleable__label-arrow:before {color: black;}#sk-container-id-2 div.sk-toggleable__content {max-height: 0;max-width: 0;overflow: hidden;text-align: left;background-color: #f0f8ff;}#sk-container-id-2 div.sk-toggleable__content pre {margin: 0.2em;color: black;border-radius: 0.25em;background-color: #f0f8ff;}#sk-container-id-2 input.sk-toggleable__control:checked~div.sk-toggleable__content {max-height: 200px;max-width: 100%;overflow: auto;}#sk-container-id-2 input.sk-toggleable__control:checked~label.sk-toggleable__label-arrow:before {content: \"▾\";}#sk-container-id-2 div.sk-estimator input.sk-toggleable__control:checked~label.sk-toggleable__label {background-color: #d4ebff;}#sk-container-id-2 div.sk-label input.sk-toggleable__control:checked~label.sk-toggleable__label {background-color: #d4ebff;}#sk-container-id-2 input.sk-hidden--visually {border: 0;clip: rect(1px 1px 1px 1px);clip: rect(1px, 1px, 1px, 1px);height: 1px;margin: -1px;overflow: hidden;padding: 0;position: absolute;width: 1px;}#sk-container-id-2 div.sk-estimator {font-family: monospace;background-color: #f0f8ff;border: 1px dotted black;border-radius: 0.25em;box-sizing: border-box;margin-bottom: 0.5em;}#sk-container-id-2 div.sk-estimator:hover {background-color: #d4ebff;}#sk-container-id-2 div.sk-parallel-item::after {content: \"\";width: 100%;border-bottom: 1px solid gray;flex-grow: 1;}#sk-container-id-2 div.sk-label:hover label.sk-toggleable__label {background-color: #d4ebff;}#sk-container-id-2 div.sk-serial::before {content: \"\";position: absolute;border-left: 1px solid gray;box-sizing: border-box;top: 0;bottom: 0;left: 50%;z-index: 0;}#sk-container-id-2 div.sk-serial {display: flex;flex-direction: column;align-items: center;background-color: white;padding-right: 0.2em;padding-left: 0.2em;position: relative;}#sk-container-id-2 div.sk-item {position: relative;z-index: 1;}#sk-container-id-2 div.sk-parallel {display: flex;align-items: stretch;justify-content: center;background-color: white;position: relative;}#sk-container-id-2 div.sk-item::before, #sk-container-id-2 div.sk-parallel-item::before {content: \"\";position: absolute;border-left: 1px solid gray;box-sizing: border-box;top: 0;bottom: 0;left: 50%;z-index: -1;}#sk-container-id-2 div.sk-parallel-item {display: flex;flex-direction: column;z-index: 1;position: relative;background-color: white;}#sk-container-id-2 div.sk-parallel-item:first-child::after {align-self: flex-end;width: 50%;}#sk-container-id-2 div.sk-parallel-item:last-child::after {align-self: flex-start;width: 50%;}#sk-container-id-2 div.sk-parallel-item:only-child::after {width: 0;}#sk-container-id-2 div.sk-dashed-wrapped {border: 1px dashed gray;margin: 0 0.4em 0.5em 0.4em;box-sizing: border-box;padding-bottom: 0.4em;background-color: white;}#sk-container-id-2 div.sk-label label {font-family: monospace;font-weight: bold;display: inline-block;line-height: 1.2em;}#sk-container-id-2 div.sk-label-container {text-align: center;}#sk-container-id-2 div.sk-container {/* jupyter's `normalize.less` sets `[hidden] { display: none; }` but bootstrap.min.css set `[hidden] { display: none !important; }` so we also need the `!important` here to be able to override the default hidden behavior on the sphinx rendered scikit-learn.org. See: https://github.com/scikit-learn/scikit-learn/issues/21755 */display: inline-block !important;position: relative;}#sk-container-id-2 div.sk-text-repr-fallback {display: none;}</style><div id=\"sk-container-id-2\" class=\"sk-top-container\"><div class=\"sk-text-repr-fallback\"><pre>KNeighborsClassifier(weights=&#x27;distance&#x27;)</pre><b>In a Jupyter environment, please rerun this cell to show the HTML representation or trust the notebook. <br />On GitHub, the HTML representation is unable to render, please try loading this page with nbviewer.org.</b></div><div class=\"sk-container\" hidden><div class=\"sk-item\"><div class=\"sk-estimator sk-toggleable\"><input class=\"sk-toggleable__control sk-hidden--visually\" id=\"sk-estimator-id-4\" type=\"checkbox\" checked><label for=\"sk-estimator-id-4\" class=\"sk-toggleable__label sk-toggleable__label-arrow\">KNeighborsClassifier</label><div class=\"sk-toggleable__content\"><pre>KNeighborsClassifier(weights=&#x27;distance&#x27;)</pre></div></div></div></div></div>"
      ],
      "text/plain": [
       "KNeighborsClassifier(weights='distance')"
      ]
     },
     "execution_count": 38,
     "metadata": {},
     "output_type": "execute_result"
    }
   ],
   "source": [
    "knn.fit(X_train, y_train)"
   ]
  },
  {
   "cell_type": "code",
   "execution_count": 39,
   "id": "c621d3bc",
   "metadata": {},
   "outputs": [],
   "source": [
    "knn_predictions_unscaled = knn.predict(X_test)"
   ]
  },
  {
   "cell_type": "code",
   "execution_count": 40,
   "id": "c8258356",
   "metadata": {},
   "outputs": [
    {
     "name": "stdout",
     "output_type": "stream",
     "text": [
      "F1: 0.48\n"
     ]
    }
   ],
   "source": [
    "f1_score(y_test, knn_predictions_unscaled)"
   ]
  },
  {
   "cell_type": "markdown",
   "id": "68a0380e",
   "metadata": {},
   "source": [
    "Scaled data:"
   ]
  },
  {
   "cell_type": "code",
   "execution_count": 41,
   "id": "eeed0756",
   "metadata": {},
   "outputs": [],
   "source": [
    "pipe = Pipeline([('scaler', scaler), ('model', knn)])"
   ]
  },
  {
   "cell_type": "code",
   "execution_count": 42,
   "id": "99dd0da1",
   "metadata": {},
   "outputs": [
    {
     "data": {
      "text/html": [
       "<style>#sk-container-id-3 {color: black;background-color: white;}#sk-container-id-3 pre{padding: 0;}#sk-container-id-3 div.sk-toggleable {background-color: white;}#sk-container-id-3 label.sk-toggleable__label {cursor: pointer;display: block;width: 100%;margin-bottom: 0;padding: 0.3em;box-sizing: border-box;text-align: center;}#sk-container-id-3 label.sk-toggleable__label-arrow:before {content: \"▸\";float: left;margin-right: 0.25em;color: #696969;}#sk-container-id-3 label.sk-toggleable__label-arrow:hover:before {color: black;}#sk-container-id-3 div.sk-estimator:hover label.sk-toggleable__label-arrow:before {color: black;}#sk-container-id-3 div.sk-toggleable__content {max-height: 0;max-width: 0;overflow: hidden;text-align: left;background-color: #f0f8ff;}#sk-container-id-3 div.sk-toggleable__content pre {margin: 0.2em;color: black;border-radius: 0.25em;background-color: #f0f8ff;}#sk-container-id-3 input.sk-toggleable__control:checked~div.sk-toggleable__content {max-height: 200px;max-width: 100%;overflow: auto;}#sk-container-id-3 input.sk-toggleable__control:checked~label.sk-toggleable__label-arrow:before {content: \"▾\";}#sk-container-id-3 div.sk-estimator input.sk-toggleable__control:checked~label.sk-toggleable__label {background-color: #d4ebff;}#sk-container-id-3 div.sk-label input.sk-toggleable__control:checked~label.sk-toggleable__label {background-color: #d4ebff;}#sk-container-id-3 input.sk-hidden--visually {border: 0;clip: rect(1px 1px 1px 1px);clip: rect(1px, 1px, 1px, 1px);height: 1px;margin: -1px;overflow: hidden;padding: 0;position: absolute;width: 1px;}#sk-container-id-3 div.sk-estimator {font-family: monospace;background-color: #f0f8ff;border: 1px dotted black;border-radius: 0.25em;box-sizing: border-box;margin-bottom: 0.5em;}#sk-container-id-3 div.sk-estimator:hover {background-color: #d4ebff;}#sk-container-id-3 div.sk-parallel-item::after {content: \"\";width: 100%;border-bottom: 1px solid gray;flex-grow: 1;}#sk-container-id-3 div.sk-label:hover label.sk-toggleable__label {background-color: #d4ebff;}#sk-container-id-3 div.sk-serial::before {content: \"\";position: absolute;border-left: 1px solid gray;box-sizing: border-box;top: 0;bottom: 0;left: 50%;z-index: 0;}#sk-container-id-3 div.sk-serial {display: flex;flex-direction: column;align-items: center;background-color: white;padding-right: 0.2em;padding-left: 0.2em;position: relative;}#sk-container-id-3 div.sk-item {position: relative;z-index: 1;}#sk-container-id-3 div.sk-parallel {display: flex;align-items: stretch;justify-content: center;background-color: white;position: relative;}#sk-container-id-3 div.sk-item::before, #sk-container-id-3 div.sk-parallel-item::before {content: \"\";position: absolute;border-left: 1px solid gray;box-sizing: border-box;top: 0;bottom: 0;left: 50%;z-index: -1;}#sk-container-id-3 div.sk-parallel-item {display: flex;flex-direction: column;z-index: 1;position: relative;background-color: white;}#sk-container-id-3 div.sk-parallel-item:first-child::after {align-self: flex-end;width: 50%;}#sk-container-id-3 div.sk-parallel-item:last-child::after {align-self: flex-start;width: 50%;}#sk-container-id-3 div.sk-parallel-item:only-child::after {width: 0;}#sk-container-id-3 div.sk-dashed-wrapped {border: 1px dashed gray;margin: 0 0.4em 0.5em 0.4em;box-sizing: border-box;padding-bottom: 0.4em;background-color: white;}#sk-container-id-3 div.sk-label label {font-family: monospace;font-weight: bold;display: inline-block;line-height: 1.2em;}#sk-container-id-3 div.sk-label-container {text-align: center;}#sk-container-id-3 div.sk-container {/* jupyter's `normalize.less` sets `[hidden] { display: none; }` but bootstrap.min.css set `[hidden] { display: none !important; }` so we also need the `!important` here to be able to override the default hidden behavior on the sphinx rendered scikit-learn.org. See: https://github.com/scikit-learn/scikit-learn/issues/21755 */display: inline-block !important;position: relative;}#sk-container-id-3 div.sk-text-repr-fallback {display: none;}</style><div id=\"sk-container-id-3\" class=\"sk-top-container\"><div class=\"sk-text-repr-fallback\"><pre>Pipeline(steps=[(&#x27;scaler&#x27;, MaxAbsScaler()),\n",
       "                (&#x27;model&#x27;, KNeighborsClassifier(weights=&#x27;distance&#x27;))])</pre><b>In a Jupyter environment, please rerun this cell to show the HTML representation or trust the notebook. <br />On GitHub, the HTML representation is unable to render, please try loading this page with nbviewer.org.</b></div><div class=\"sk-container\" hidden><div class=\"sk-item sk-dashed-wrapped\"><div class=\"sk-label-container\"><div class=\"sk-label sk-toggleable\"><input class=\"sk-toggleable__control sk-hidden--visually\" id=\"sk-estimator-id-5\" type=\"checkbox\" ><label for=\"sk-estimator-id-5\" class=\"sk-toggleable__label sk-toggleable__label-arrow\">Pipeline</label><div class=\"sk-toggleable__content\"><pre>Pipeline(steps=[(&#x27;scaler&#x27;, MaxAbsScaler()),\n",
       "                (&#x27;model&#x27;, KNeighborsClassifier(weights=&#x27;distance&#x27;))])</pre></div></div></div><div class=\"sk-serial\"><div class=\"sk-item\"><div class=\"sk-estimator sk-toggleable\"><input class=\"sk-toggleable__control sk-hidden--visually\" id=\"sk-estimator-id-6\" type=\"checkbox\" ><label for=\"sk-estimator-id-6\" class=\"sk-toggleable__label sk-toggleable__label-arrow\">MaxAbsScaler</label><div class=\"sk-toggleable__content\"><pre>MaxAbsScaler()</pre></div></div></div><div class=\"sk-item\"><div class=\"sk-estimator sk-toggleable\"><input class=\"sk-toggleable__control sk-hidden--visually\" id=\"sk-estimator-id-7\" type=\"checkbox\" ><label for=\"sk-estimator-id-7\" class=\"sk-toggleable__label sk-toggleable__label-arrow\">KNeighborsClassifier</label><div class=\"sk-toggleable__content\"><pre>KNeighborsClassifier(weights=&#x27;distance&#x27;)</pre></div></div></div></div></div></div></div>"
      ],
      "text/plain": [
       "Pipeline(steps=[('scaler', MaxAbsScaler()),\n",
       "                ('model', KNeighborsClassifier(weights='distance'))])"
      ]
     },
     "execution_count": 42,
     "metadata": {},
     "output_type": "execute_result"
    }
   ],
   "source": [
    "pipe.fit(X_train, y_train)"
   ]
  },
  {
   "cell_type": "code",
   "execution_count": 43,
   "id": "f6f88102",
   "metadata": {},
   "outputs": [],
   "source": [
    "knn_predictions = pipe.predict(X_test)"
   ]
  },
  {
   "cell_type": "code",
   "execution_count": 44,
   "id": "da2f7ee6",
   "metadata": {},
   "outputs": [
    {
     "name": "stdout",
     "output_type": "stream",
     "text": [
      "F1: 0.93\n"
     ]
    }
   ],
   "source": [
    "f1_score(y_test, knn_predictions)"
   ]
  },
  {
   "cell_type": "markdown",
   "id": "3c944536",
   "metadata": {},
   "source": [
    "The KNN-model resulted in F1-score of 0.48 on unscaled data and 0.93 on the scaled data; thus, the scaled data has an obvious advantage. Let's run the model for k equal 1 to 10 neighbors:"
   ]
  },
  {
   "cell_type": "code",
   "execution_count": 45,
   "id": "3020a07f",
   "metadata": {},
   "outputs": [
    {
     "name": "stdout",
     "output_type": "stream",
     "text": [
      "For k=1:\n",
      "F1: 0.96\n",
      "For k=2:\n",
      "F1: 0.96\n",
      "For k=3:\n",
      "F1: 0.95\n",
      "For k=4:\n",
      "F1: 0.95\n",
      "For k=5:\n",
      "F1: 0.93\n",
      "For k=6:\n",
      "F1: 0.95\n",
      "For k=7:\n",
      "F1: 0.93\n",
      "For k=8:\n",
      "F1: 0.93\n",
      "For k=9:\n",
      "F1: 0.94\n",
      "For k=10:\n",
      "F1: 0.94\n"
     ]
    }
   ],
   "source": [
    "for k in range(1,11):\n",
    "    model = knn = sklearn.neighbors.KNeighborsClassifier(n_neighbors = k, weights = 'distance')\n",
    "    pipe = Pipeline([('scaler', scaler), ('model', model)])\n",
    "    pipe.fit(X_train, y_train)\n",
    "    model_predictions = pipe.predict(X_test)\n",
    "    print(f\"For k={k}:\")\n",
    "    f1_score(y_test, model_predictions)"
   ]
  },
  {
   "cell_type": "markdown",
   "id": "10dca77b",
   "metadata": {},
   "source": [
    "The highest F1-score is observed for `k=1`."
   ]
  },
  {
   "cell_type": "markdown",
   "id": "5fc21a00",
   "metadata": {},
   "source": [
    "To sum up:\n",
    "\n",
    "1. We established a dummy model, which scored maximum 0.2 for the F1-score when assigning success in 100% of cases.\n",
    "2. As expected, the KNN model performed much better for the scaled data.\n",
    "3. When running for the n_neighbors equal 1 to 10, the best score (0.96) was achieved with k=1."
   ]
  },
  {
   "cell_type": "markdown",
   "id": "801e4c38",
   "metadata": {},
   "source": [
    "## Task 3. Predict the number of insurance benefits a new customer is likely to receive using a linear regression model."
   ]
  },
  {
   "cell_type": "markdown",
   "id": "9c1fee69",
   "metadata": {},
   "source": [
    "In this part, we will build a RMSE model with `insurance_benefits` as the target. We will run it for the raw and the scale datasets as well, to show the difference and estimate the quality with RMSE and R2, as well."
   ]
  },
  {
   "cell_type": "markdown",
   "id": "b4640fa8",
   "metadata": {},
   "source": [
    "Let's denote\n",
    "- $X$ — feature matrix, each row is a case, each column is a feature, the first column consists of unities\n",
    "- $y$ — target (a vector)\n",
    "- $\\hat{y}$ — estimated tagret (a vector)\n",
    "- $w$ — weight vector\n",
    "\n",
    "In the linear algebra terms, the task of linear regression can be formulated as\n",
    "\n",
    "$$\n",
    "y = Xw\n",
    "$$\n",
    "\n",
    "The training objective then is to find such $w$ that it would minimize the MSE (L2-distance) between $Xw$ and $y$:\n",
    "\n",
    "$$\n",
    "\\min_w d_2(Xw, y) \\quad \\text{or} \\quad \\min_w \\text{MSE}(Xw, y)\n",
    "$$\n",
    "\n",
    "It appears that there is analytical solution for the above:\n",
    "\n",
    "$$\n",
    "w = (X^T X)^{-1} X^T y\n",
    "$$\n",
    "\n",
    "The formula above can be used to find the weights $w$ and the latter can be used to calculate predicted values\n",
    "\n",
    "$$\n",
    "\\hat{y} = X_{val}w\n",
    "$$"
   ]
  },
  {
   "cell_type": "markdown",
   "id": "0a9f9ba2",
   "metadata": {},
   "source": [
    "Let's define the Linear Regression class:"
   ]
  },
  {
   "cell_type": "code",
   "execution_count": 46,
   "id": "37e2ecc1",
   "metadata": {},
   "outputs": [],
   "source": [
    "class MyLinearRegression:\n",
    "    def __init__(self):\n",
    "        \n",
    "        self.weights = None\n",
    "        \n",
    "    def fit(self, train_features: np.array, train_target: np.array) -> np.array:\n",
    "        \n",
    "        X = np.concatenate((np.ones((train_features.shape[0], 1)), train_features), axis=1)\n",
    "        y = train_target\n",
    "        self.weights = np.linalg.inv(X.T.dot(X)).dot(X.T).dot(y)\n",
    "        \n",
    "        return self.weights\n",
    "\n",
    "    def predict(self, test_features: np.array) -> np.array:\n",
    "        \n",
    "        X = np.append(np.ones([len(test_features), 1]), test_features, axis=1)\n",
    "        y_pred = X.dot(self.weights)\n",
    "        \n",
    "        return y_pred"
   ]
  },
  {
   "cell_type": "markdown",
   "id": "dfe7ab69",
   "metadata": {},
   "source": [
    "Now, let's build the regression quality estimator:"
   ]
  },
  {
   "cell_type": "code",
   "execution_count": 47,
   "id": "8e508698",
   "metadata": {},
   "outputs": [],
   "source": [
    "def lr_scores(y_true: np.array, y_pred: np.array) -> None:\n",
    "    \n",
    "    rmse = math.sqrt(sklearn.metrics.mean_squared_error(y_true, y_pred))\n",
    "    print(f'RMSE: {rmse:.2f}')\n",
    "    \n",
    "    r2_score = math.sqrt(sklearn.metrics.r2_score(y_true, y_pred))\n",
    "    print(f'R2: {r2_score:.2f}') "
   ]
  },
  {
   "cell_type": "markdown",
   "id": "1b9b672e",
   "metadata": {},
   "source": [
    "Now we can run the regression model. First, let' check the original data (we have to split the data again):"
   ]
  },
  {
   "cell_type": "code",
   "execution_count": 48,
   "id": "53dbcbe8",
   "metadata": {},
   "outputs": [],
   "source": [
    "data_raw.drop('benefit_received', axis = 1, inplace = True)"
   ]
  },
  {
   "cell_type": "code",
   "execution_count": 49,
   "id": "1ff84697",
   "metadata": {},
   "outputs": [
    {
     "data": {
      "text/html": [
       "<div>\n",
       "<style scoped>\n",
       "    .dataframe tbody tr th:only-of-type {\n",
       "        vertical-align: middle;\n",
       "    }\n",
       "\n",
       "    .dataframe tbody tr th {\n",
       "        vertical-align: top;\n",
       "    }\n",
       "\n",
       "    .dataframe thead th {\n",
       "        text-align: right;\n",
       "    }\n",
       "</style>\n",
       "<table border=\"1\" class=\"dataframe\">\n",
       "  <thead>\n",
       "    <tr style=\"text-align: right;\">\n",
       "      <th></th>\n",
       "      <th>gender</th>\n",
       "      <th>age</th>\n",
       "      <th>salary</th>\n",
       "      <th>family_members</th>\n",
       "      <th>insurance_benefits</th>\n",
       "    </tr>\n",
       "  </thead>\n",
       "  <tbody>\n",
       "    <tr>\n",
       "      <th>0</th>\n",
       "      <td>1</td>\n",
       "      <td>41.0</td>\n",
       "      <td>49600.0</td>\n",
       "      <td>1</td>\n",
       "      <td>0</td>\n",
       "    </tr>\n",
       "  </tbody>\n",
       "</table>\n",
       "</div>"
      ],
      "text/plain": [
       "   gender   age   salary  family_members  insurance_benefits\n",
       "0       1  41.0  49600.0               1                   0"
      ]
     },
     "execution_count": 49,
     "metadata": {},
     "output_type": "execute_result"
    }
   ],
   "source": [
    "data_raw.head(1)"
   ]
  },
  {
   "cell_type": "markdown",
   "id": "666084ae",
   "metadata": {},
   "source": [
    "We will try to preserve the distribution by the `family_members` variable:"
   ]
  },
  {
   "cell_type": "code",
   "execution_count": 50,
   "id": "ad22423f",
   "metadata": {},
   "outputs": [],
   "source": [
    "# split data into train and test sets in 70-to-30 ratio\n",
    "train, test = train_test_split(data_raw, test_size=0.3, stratify=data_raw['family_members'], random_state=12345)\n",
    "\n",
    "X_train = train[feature_names]\n",
    "X_test = test[feature_names]\n",
    "y_train = train['insurance_benefits']\n",
    "y_test = test['insurance_benefits']"
   ]
  },
  {
   "cell_type": "code",
   "execution_count": 51,
   "id": "398f6a1f",
   "metadata": {},
   "outputs": [
    {
     "name": "stdout",
     "output_type": "stream",
     "text": [
      "[-9.71188809e-01 -2.18976997e-03  3.64262434e-02  3.99609435e-07\n",
      " -1.77263187e-02]\n"
     ]
    }
   ],
   "source": [
    "lr = MyLinearRegression()\n",
    "lr.fit(X_train.values, y_train.values)\n",
    "print(lr.weights)"
   ]
  },
  {
   "cell_type": "code",
   "execution_count": 52,
   "id": "35adf232",
   "metadata": {},
   "outputs": [],
   "source": [
    "predictions = lr.predict(X_test)"
   ]
  },
  {
   "cell_type": "code",
   "execution_count": 53,
   "id": "e03bed88",
   "metadata": {},
   "outputs": [
    {
     "name": "stdout",
     "output_type": "stream",
     "text": [
      "RMSE: 0.34\n",
      "R2: 0.64\n"
     ]
    }
   ],
   "source": [
    "lr_scores(y_test,predictions)"
   ]
  },
  {
   "cell_type": "markdown",
   "id": "047c6310",
   "metadata": {},
   "source": [
    "Now, let's see how the Linear Regression for the scaled data looks like:"
   ]
  },
  {
   "cell_type": "code",
   "execution_count": 54,
   "id": "d81630a4",
   "metadata": {},
   "outputs": [],
   "source": [
    "pipe = Pipeline([('scaler', scaler), ('linear', lr)])"
   ]
  },
  {
   "cell_type": "code",
   "execution_count": 55,
   "id": "ec8701ef",
   "metadata": {},
   "outputs": [
    {
     "data": {
      "text/html": [
       "<style>#sk-container-id-4 {color: black;background-color: white;}#sk-container-id-4 pre{padding: 0;}#sk-container-id-4 div.sk-toggleable {background-color: white;}#sk-container-id-4 label.sk-toggleable__label {cursor: pointer;display: block;width: 100%;margin-bottom: 0;padding: 0.3em;box-sizing: border-box;text-align: center;}#sk-container-id-4 label.sk-toggleable__label-arrow:before {content: \"▸\";float: left;margin-right: 0.25em;color: #696969;}#sk-container-id-4 label.sk-toggleable__label-arrow:hover:before {color: black;}#sk-container-id-4 div.sk-estimator:hover label.sk-toggleable__label-arrow:before {color: black;}#sk-container-id-4 div.sk-toggleable__content {max-height: 0;max-width: 0;overflow: hidden;text-align: left;background-color: #f0f8ff;}#sk-container-id-4 div.sk-toggleable__content pre {margin: 0.2em;color: black;border-radius: 0.25em;background-color: #f0f8ff;}#sk-container-id-4 input.sk-toggleable__control:checked~div.sk-toggleable__content {max-height: 200px;max-width: 100%;overflow: auto;}#sk-container-id-4 input.sk-toggleable__control:checked~label.sk-toggleable__label-arrow:before {content: \"▾\";}#sk-container-id-4 div.sk-estimator input.sk-toggleable__control:checked~label.sk-toggleable__label {background-color: #d4ebff;}#sk-container-id-4 div.sk-label input.sk-toggleable__control:checked~label.sk-toggleable__label {background-color: #d4ebff;}#sk-container-id-4 input.sk-hidden--visually {border: 0;clip: rect(1px 1px 1px 1px);clip: rect(1px, 1px, 1px, 1px);height: 1px;margin: -1px;overflow: hidden;padding: 0;position: absolute;width: 1px;}#sk-container-id-4 div.sk-estimator {font-family: monospace;background-color: #f0f8ff;border: 1px dotted black;border-radius: 0.25em;box-sizing: border-box;margin-bottom: 0.5em;}#sk-container-id-4 div.sk-estimator:hover {background-color: #d4ebff;}#sk-container-id-4 div.sk-parallel-item::after {content: \"\";width: 100%;border-bottom: 1px solid gray;flex-grow: 1;}#sk-container-id-4 div.sk-label:hover label.sk-toggleable__label {background-color: #d4ebff;}#sk-container-id-4 div.sk-serial::before {content: \"\";position: absolute;border-left: 1px solid gray;box-sizing: border-box;top: 0;bottom: 0;left: 50%;z-index: 0;}#sk-container-id-4 div.sk-serial {display: flex;flex-direction: column;align-items: center;background-color: white;padding-right: 0.2em;padding-left: 0.2em;position: relative;}#sk-container-id-4 div.sk-item {position: relative;z-index: 1;}#sk-container-id-4 div.sk-parallel {display: flex;align-items: stretch;justify-content: center;background-color: white;position: relative;}#sk-container-id-4 div.sk-item::before, #sk-container-id-4 div.sk-parallel-item::before {content: \"\";position: absolute;border-left: 1px solid gray;box-sizing: border-box;top: 0;bottom: 0;left: 50%;z-index: -1;}#sk-container-id-4 div.sk-parallel-item {display: flex;flex-direction: column;z-index: 1;position: relative;background-color: white;}#sk-container-id-4 div.sk-parallel-item:first-child::after {align-self: flex-end;width: 50%;}#sk-container-id-4 div.sk-parallel-item:last-child::after {align-self: flex-start;width: 50%;}#sk-container-id-4 div.sk-parallel-item:only-child::after {width: 0;}#sk-container-id-4 div.sk-dashed-wrapped {border: 1px dashed gray;margin: 0 0.4em 0.5em 0.4em;box-sizing: border-box;padding-bottom: 0.4em;background-color: white;}#sk-container-id-4 div.sk-label label {font-family: monospace;font-weight: bold;display: inline-block;line-height: 1.2em;}#sk-container-id-4 div.sk-label-container {text-align: center;}#sk-container-id-4 div.sk-container {/* jupyter's `normalize.less` sets `[hidden] { display: none; }` but bootstrap.min.css set `[hidden] { display: none !important; }` so we also need the `!important` here to be able to override the default hidden behavior on the sphinx rendered scikit-learn.org. See: https://github.com/scikit-learn/scikit-learn/issues/21755 */display: inline-block !important;position: relative;}#sk-container-id-4 div.sk-text-repr-fallback {display: none;}</style><div id=\"sk-container-id-4\" class=\"sk-top-container\"><div class=\"sk-text-repr-fallback\"><pre>Pipeline(steps=[(&#x27;scaler&#x27;, MaxAbsScaler()),\n",
       "                (&#x27;linear&#x27;,\n",
       "                 &lt;__main__.MyLinearRegression object at 0x00000262B1A7DFA0&gt;)])</pre><b>In a Jupyter environment, please rerun this cell to show the HTML representation or trust the notebook. <br />On GitHub, the HTML representation is unable to render, please try loading this page with nbviewer.org.</b></div><div class=\"sk-container\" hidden><div class=\"sk-item sk-dashed-wrapped\"><div class=\"sk-label-container\"><div class=\"sk-label sk-toggleable\"><input class=\"sk-toggleable__control sk-hidden--visually\" id=\"sk-estimator-id-8\" type=\"checkbox\" ><label for=\"sk-estimator-id-8\" class=\"sk-toggleable__label sk-toggleable__label-arrow\">Pipeline</label><div class=\"sk-toggleable__content\"><pre>Pipeline(steps=[(&#x27;scaler&#x27;, MaxAbsScaler()),\n",
       "                (&#x27;linear&#x27;,\n",
       "                 &lt;__main__.MyLinearRegression object at 0x00000262B1A7DFA0&gt;)])</pre></div></div></div><div class=\"sk-serial\"><div class=\"sk-item\"><div class=\"sk-estimator sk-toggleable\"><input class=\"sk-toggleable__control sk-hidden--visually\" id=\"sk-estimator-id-9\" type=\"checkbox\" ><label for=\"sk-estimator-id-9\" class=\"sk-toggleable__label sk-toggleable__label-arrow\">MaxAbsScaler</label><div class=\"sk-toggleable__content\"><pre>MaxAbsScaler()</pre></div></div></div><div class=\"sk-item\"><div class=\"sk-estimator sk-toggleable\"><input class=\"sk-toggleable__control sk-hidden--visually\" id=\"sk-estimator-id-10\" type=\"checkbox\" ><label for=\"sk-estimator-id-10\" class=\"sk-toggleable__label sk-toggleable__label-arrow\">MyLinearRegression</label><div class=\"sk-toggleable__content\"><pre>&lt;__main__.MyLinearRegression object at 0x00000262B1A7DFA0&gt;</pre></div></div></div></div></div></div></div>"
      ],
      "text/plain": [
       "Pipeline(steps=[('scaler', MaxAbsScaler()),\n",
       "                ('linear',\n",
       "                 <__main__.MyLinearRegression object at 0x00000262B1A7DFA0>)])"
      ]
     },
     "execution_count": 55,
     "metadata": {},
     "output_type": "execute_result"
    }
   ],
   "source": [
    "pipe.fit(X_train,y_train)"
   ]
  },
  {
   "cell_type": "code",
   "execution_count": 56,
   "id": "54689d4a",
   "metadata": {},
   "outputs": [
    {
     "name": "stdout",
     "output_type": "stream",
     "text": [
      "[-9.71188809e-01 -2.18976997e-03  2.36770582e+00  2.98907858e-02\n",
      " -1.06357912e-01]\n"
     ]
    }
   ],
   "source": [
    "print(pipe['linear'].weights)"
   ]
  },
  {
   "cell_type": "code",
   "execution_count": 57,
   "id": "a97dd9ee",
   "metadata": {},
   "outputs": [],
   "source": [
    "predictions = pipe.predict(X_test)"
   ]
  },
  {
   "cell_type": "code",
   "execution_count": 58,
   "id": "9532743f",
   "metadata": {},
   "outputs": [
    {
     "name": "stdout",
     "output_type": "stream",
     "text": [
      "RMSE: 0.34\n",
      "R2: 0.64\n"
     ]
    }
   ],
   "source": [
    "lr_scores(y_test,predictions)"
   ]
  },
  {
   "cell_type": "markdown",
   "id": "3a8b8efe",
   "metadata": {},
   "source": [
    "As we can see, the only difference is in the feature weights themselves, since they adapt to the scaled feature values, which makes them a bit more readable."
   ]
  },
  {
   "cell_type": "markdown",
   "id": "e41e9aa5",
   "metadata": {},
   "source": [
    "To sum up:\n",
    "\n",
    "1. We established a custom Linear model and scoring function, which uses two metrics, RMSE and R2.\n",
    "2. We run the model for two cases, raw and scaled data.\n",
    "3. As expected, scaling of the features results in different magnitude of the linear regression coefficients."
   ]
  },
  {
   "cell_type": "markdown",
   "id": "2e43091e",
   "metadata": {},
   "source": [
    "Note: scaling can make a difference for linear regression in different circumstances, for example, if we use L1/L2 regularization or trained the model using stochastic gradient descent."
   ]
  },
  {
   "cell_type": "markdown",
   "id": "61bb2c4a",
   "metadata": {},
   "source": [
    "[Back to Content](#content)"
   ]
  },
  {
   "cell_type": "markdown",
   "id": "bd927522",
   "metadata": {},
   "source": [
    "## Task 4. Protect clients' personal data without breaking the model from the previous task."
   ]
  },
  {
   "cell_type": "markdown",
   "id": "90e30293",
   "metadata": {},
   "source": [
    "We will obfuscate data by multiplying the numerical features by an invertible matrix $P$:\n",
    "\n",
    "$$\n",
    "X' = X \\times P\n",
    "$$\n",
    "\n",
    "Note: the invertible property is important here, to be able to recover the original data."
   ]
  },
  {
   "cell_type": "markdown",
   "id": "27197650",
   "metadata": {},
   "source": [
    "Let's generate the random matrix $P$:"
   ]
  },
  {
   "cell_type": "code",
   "execution_count": 59,
   "id": "3d0fe6bd",
   "metadata": {},
   "outputs": [],
   "source": [
    "X = data_raw[feature_names]"
   ]
  },
  {
   "cell_type": "code",
   "execution_count": 60,
   "id": "5d435b30",
   "metadata": {},
   "outputs": [],
   "source": [
    "rng = np.random.default_rng(seed=42)\n",
    "P = rng.random(size=(X.shape[1], X.shape[1]))"
   ]
  },
  {
   "cell_type": "markdown",
   "id": "2d74a0c5",
   "metadata": {},
   "source": [
    "Now, let's check that the matrix is invertible."
   ]
  },
  {
   "cell_type": "code",
   "execution_count": 61,
   "id": "f5343437",
   "metadata": {},
   "outputs": [
    {
     "data": {
      "text/plain": [
       "array([[ 1.00000000e+00, -1.14337421e-16, -7.58122972e-17,\n",
       "         1.89091165e-17],\n",
       "       [ 8.51680974e-17,  1.00000000e+00, -7.10568689e-17,\n",
       "         1.47898982e-16],\n",
       "       [-4.34608597e-19, -8.01461326e-17,  1.00000000e+00,\n",
       "         1.93902515e-17],\n",
       "       [ 1.20295083e-16, -3.05630046e-16, -1.91527957e-16,\n",
       "         1.00000000e+00]])"
      ]
     },
     "execution_count": 61,
     "metadata": {},
     "output_type": "execute_result"
    }
   ],
   "source": [
    "np.matmul(P, np.linalg.inv(P))"
   ]
  },
  {
   "cell_type": "markdown",
   "id": "a3e719c6",
   "metadata": {},
   "source": [
    "Let's get transformed data:"
   ]
  },
  {
   "cell_type": "code",
   "execution_count": 62,
   "id": "e98f3d5f",
   "metadata": {},
   "outputs": [],
   "source": [
    "X_transformed = np.matmul(X,P)"
   ]
  },
  {
   "cell_type": "markdown",
   "id": "aa5580e0",
   "metadata": {},
   "source": [
    "Let's see the recovered data:"
   ]
  },
  {
   "cell_type": "code",
   "execution_count": 63,
   "id": "ecfc2b4e",
   "metadata": {},
   "outputs": [],
   "source": [
    "X_recovered = X_transformed.dot(np.linalg.inv(P))"
   ]
  },
  {
   "cell_type": "markdown",
   "id": "921e418d",
   "metadata": {},
   "source": [
    "Now, we will print out examples of the three cases (for more readability we will cast all the values into integers):"
   ]
  },
  {
   "cell_type": "code",
   "execution_count": 64,
   "id": "ccae268f",
   "metadata": {},
   "outputs": [
    {
     "data": {
      "text/html": [
       "<div>\n",
       "<style scoped>\n",
       "    .dataframe tbody tr th:only-of-type {\n",
       "        vertical-align: middle;\n",
       "    }\n",
       "\n",
       "    .dataframe tbody tr th {\n",
       "        vertical-align: top;\n",
       "    }\n",
       "\n",
       "    .dataframe thead th {\n",
       "        text-align: right;\n",
       "    }\n",
       "</style>\n",
       "<table border=\"1\" class=\"dataframe\">\n",
       "  <thead>\n",
       "    <tr style=\"text-align: right;\">\n",
       "      <th></th>\n",
       "      <th>gender</th>\n",
       "      <th>age</th>\n",
       "      <th>salary</th>\n",
       "      <th>family_members</th>\n",
       "    </tr>\n",
       "  </thead>\n",
       "  <tbody>\n",
       "    <tr>\n",
       "      <th>0</th>\n",
       "      <td>1</td>\n",
       "      <td>41.0</td>\n",
       "      <td>49600.0</td>\n",
       "      <td>1</td>\n",
       "    </tr>\n",
       "    <tr>\n",
       "      <th>1</th>\n",
       "      <td>0</td>\n",
       "      <td>46.0</td>\n",
       "      <td>38000.0</td>\n",
       "      <td>1</td>\n",
       "    </tr>\n",
       "    <tr>\n",
       "      <th>2</th>\n",
       "      <td>0</td>\n",
       "      <td>29.0</td>\n",
       "      <td>21000.0</td>\n",
       "      <td>0</td>\n",
       "    </tr>\n",
       "    <tr>\n",
       "      <th>3</th>\n",
       "      <td>0</td>\n",
       "      <td>21.0</td>\n",
       "      <td>41700.0</td>\n",
       "      <td>2</td>\n",
       "    </tr>\n",
       "    <tr>\n",
       "      <th>4</th>\n",
       "      <td>1</td>\n",
       "      <td>28.0</td>\n",
       "      <td>26100.0</td>\n",
       "      <td>0</td>\n",
       "    </tr>\n",
       "  </tbody>\n",
       "</table>\n",
       "</div>"
      ],
      "text/plain": [
       "   gender   age   salary  family_members\n",
       "0       1  41.0  49600.0               1\n",
       "1       0  46.0  38000.0               1\n",
       "2       0  29.0  21000.0               0\n",
       "3       0  21.0  41700.0               2\n",
       "4       1  28.0  26100.0               0"
      ]
     },
     "execution_count": 64,
     "metadata": {},
     "output_type": "execute_result"
    }
   ],
   "source": [
    "X.head()"
   ]
  },
  {
   "cell_type": "code",
   "execution_count": 65,
   "id": "3e5f02ff",
   "metadata": {},
   "outputs": [
    {
     "data": {
      "text/html": [
       "<div>\n",
       "<style scoped>\n",
       "    .dataframe tbody tr th:only-of-type {\n",
       "        vertical-align: middle;\n",
       "    }\n",
       "\n",
       "    .dataframe tbody tr th {\n",
       "        vertical-align: top;\n",
       "    }\n",
       "\n",
       "    .dataframe thead th {\n",
       "        text-align: right;\n",
       "    }\n",
       "</style>\n",
       "<table border=\"1\" class=\"dataframe\">\n",
       "  <thead>\n",
       "    <tr style=\"text-align: right;\">\n",
       "      <th></th>\n",
       "      <th>0</th>\n",
       "      <th>1</th>\n",
       "      <th>2</th>\n",
       "      <th>3</th>\n",
       "    </tr>\n",
       "  </thead>\n",
       "  <tbody>\n",
       "    <tr>\n",
       "      <th>0</th>\n",
       "      <td>6359.715273</td>\n",
       "      <td>22380.404676</td>\n",
       "      <td>18424.090742</td>\n",
       "      <td>46000.696690</td>\n",
       "    </tr>\n",
       "    <tr>\n",
       "      <th>1</th>\n",
       "      <td>4873.294065</td>\n",
       "      <td>17160.367030</td>\n",
       "      <td>14125.780761</td>\n",
       "      <td>35253.455773</td>\n",
       "    </tr>\n",
       "    <tr>\n",
       "      <th>2</th>\n",
       "      <td>2693.117429</td>\n",
       "      <td>9486.397744</td>\n",
       "      <td>7808.831560</td>\n",
       "      <td>19484.860631</td>\n",
       "    </tr>\n",
       "    <tr>\n",
       "      <th>3</th>\n",
       "      <td>5345.603937</td>\n",
       "      <td>18803.227203</td>\n",
       "      <td>15479.148373</td>\n",
       "      <td>38663.061863</td>\n",
       "    </tr>\n",
       "    <tr>\n",
       "      <th>4</th>\n",
       "      <td>3347.176735</td>\n",
       "      <td>11782.829283</td>\n",
       "      <td>9699.998942</td>\n",
       "      <td>24211.273378</td>\n",
       "    </tr>\n",
       "  </tbody>\n",
       "</table>\n",
       "</div>"
      ],
      "text/plain": [
       "             0             1             2             3\n",
       "0  6359.715273  22380.404676  18424.090742  46000.696690\n",
       "1  4873.294065  17160.367030  14125.780761  35253.455773\n",
       "2  2693.117429   9486.397744   7808.831560  19484.860631\n",
       "3  5345.603937  18803.227203  15479.148373  38663.061863\n",
       "4  3347.176735  11782.829283   9699.998942  24211.273378"
      ]
     },
     "execution_count": 65,
     "metadata": {},
     "output_type": "execute_result"
    }
   ],
   "source": [
    "X_transformed.head()"
   ]
  },
  {
   "cell_type": "code",
   "execution_count": 66,
   "id": "f30e46d5",
   "metadata": {},
   "outputs": [
    {
     "data": {
      "text/html": [
       "<div>\n",
       "<style scoped>\n",
       "    .dataframe tbody tr th:only-of-type {\n",
       "        vertical-align: middle;\n",
       "    }\n",
       "\n",
       "    .dataframe tbody tr th {\n",
       "        vertical-align: top;\n",
       "    }\n",
       "\n",
       "    .dataframe thead th {\n",
       "        text-align: right;\n",
       "    }\n",
       "</style>\n",
       "<table border=\"1\" class=\"dataframe\">\n",
       "  <thead>\n",
       "    <tr style=\"text-align: right;\">\n",
       "      <th></th>\n",
       "      <th>0</th>\n",
       "      <th>1</th>\n",
       "      <th>2</th>\n",
       "      <th>3</th>\n",
       "    </tr>\n",
       "  </thead>\n",
       "  <tbody>\n",
       "    <tr>\n",
       "      <th>0</th>\n",
       "      <td>1.000000e+00</td>\n",
       "      <td>41.0</td>\n",
       "      <td>49600.0</td>\n",
       "      <td>1.000000e+00</td>\n",
       "    </tr>\n",
       "    <tr>\n",
       "      <th>1</th>\n",
       "      <td>6.665554e-13</td>\n",
       "      <td>46.0</td>\n",
       "      <td>38000.0</td>\n",
       "      <td>1.000000e+00</td>\n",
       "    </tr>\n",
       "    <tr>\n",
       "      <th>2</th>\n",
       "      <td>3.847477e-13</td>\n",
       "      <td>29.0</td>\n",
       "      <td>21000.0</td>\n",
       "      <td>1.419408e-12</td>\n",
       "    </tr>\n",
       "    <tr>\n",
       "      <th>3</th>\n",
       "      <td>-2.698751e-12</td>\n",
       "      <td>21.0</td>\n",
       "      <td>41700.0</td>\n",
       "      <td>2.000000e+00</td>\n",
       "    </tr>\n",
       "    <tr>\n",
       "      <th>4</th>\n",
       "      <td>1.000000e+00</td>\n",
       "      <td>28.0</td>\n",
       "      <td>26100.0</td>\n",
       "      <td>4.917514e-13</td>\n",
       "    </tr>\n",
       "  </tbody>\n",
       "</table>\n",
       "</div>"
      ],
      "text/plain": [
       "              0     1        2             3\n",
       "0  1.000000e+00  41.0  49600.0  1.000000e+00\n",
       "1  6.665554e-13  46.0  38000.0  1.000000e+00\n",
       "2  3.847477e-13  29.0  21000.0  1.419408e-12\n",
       "3 -2.698751e-12  21.0  41700.0  2.000000e+00\n",
       "4  1.000000e+00  28.0  26100.0  4.917514e-13"
      ]
     },
     "execution_count": 66,
     "metadata": {},
     "output_type": "execute_result"
    }
   ],
   "source": [
    "X_recovered.head()"
   ]
  },
  {
   "cell_type": "markdown",
   "id": "c2ccf733",
   "metadata": {},
   "source": [
    "Let's see how it looks when we cast the values into integers (rounding to the lower integer):"
   ]
  },
  {
   "cell_type": "code",
   "execution_count": 67,
   "id": "82d2facd",
   "metadata": {},
   "outputs": [
    {
     "data": {
      "text/html": [
       "<div>\n",
       "<style scoped>\n",
       "    .dataframe tbody tr th:only-of-type {\n",
       "        vertical-align: middle;\n",
       "    }\n",
       "\n",
       "    .dataframe tbody tr th {\n",
       "        vertical-align: top;\n",
       "    }\n",
       "\n",
       "    .dataframe thead th {\n",
       "        text-align: right;\n",
       "    }\n",
       "</style>\n",
       "<table border=\"1\" class=\"dataframe\">\n",
       "  <thead>\n",
       "    <tr style=\"text-align: right;\">\n",
       "      <th></th>\n",
       "      <th>0</th>\n",
       "      <th>1</th>\n",
       "      <th>2</th>\n",
       "      <th>3</th>\n",
       "    </tr>\n",
       "  </thead>\n",
       "  <tbody>\n",
       "    <tr>\n",
       "      <th>0</th>\n",
       "      <td>0</td>\n",
       "      <td>40</td>\n",
       "      <td>49600</td>\n",
       "      <td>1</td>\n",
       "    </tr>\n",
       "    <tr>\n",
       "      <th>1</th>\n",
       "      <td>0</td>\n",
       "      <td>46</td>\n",
       "      <td>37999</td>\n",
       "      <td>1</td>\n",
       "    </tr>\n",
       "    <tr>\n",
       "      <th>2</th>\n",
       "      <td>0</td>\n",
       "      <td>28</td>\n",
       "      <td>20999</td>\n",
       "      <td>0</td>\n",
       "    </tr>\n",
       "    <tr>\n",
       "      <th>3</th>\n",
       "      <td>0</td>\n",
       "      <td>20</td>\n",
       "      <td>41699</td>\n",
       "      <td>2</td>\n",
       "    </tr>\n",
       "    <tr>\n",
       "      <th>4</th>\n",
       "      <td>1</td>\n",
       "      <td>27</td>\n",
       "      <td>26100</td>\n",
       "      <td>0</td>\n",
       "    </tr>\n",
       "  </tbody>\n",
       "</table>\n",
       "</div>"
      ],
      "text/plain": [
       "   0   1      2  3\n",
       "0  0  40  49600  1\n",
       "1  0  46  37999  1\n",
       "2  0  28  20999  0\n",
       "3  0  20  41699  2\n",
       "4  1  27  26100  0"
      ]
     },
     "execution_count": 67,
     "metadata": {},
     "output_type": "execute_result"
    }
   ],
   "source": [
    "X_recovered.head().astype('int')"
   ]
  },
  {
   "cell_type": "markdown",
   "id": "0200de97",
   "metadata": {},
   "source": [
    "The matrix is arranged a bit different and all the values turn to be floats. The values of the same data point differ due to the way floating point numbers work."
   ]
  },
  {
   "cell_type": "markdown",
   "id": "b6b4692e",
   "metadata": {},
   "source": [
    "[Back to Content](#content)"
   ]
  },
  {
   "cell_type": "markdown",
   "id": "f163bf04",
   "metadata": {},
   "source": [
    "Let's show that this transformation does not affect the model. To this end, we will use some propertices of the matrices:"
   ]
  },
  {
   "cell_type": "markdown",
   "id": "7a80adc9",
   "metadata": {},
   "source": [
    "<table>\n",
    "<tr>\n",
    "<td>Distributivity</td><td>$A(B+C)=AB+AC$</td>\n",
    "</tr>\n",
    "<tr>\n",
    "<td>Non-commutativity</td><td>$AB \\neq BA$</td>\n",
    "</tr>\n",
    "<tr>\n",
    "<td>Associative property of multiplication</td><td>$(AB)C = A(BC)$</td>\n",
    "</tr>\n",
    "<tr>\n",
    "<td>Multiplicative identity property</td><td>$IA = AI = A$</td>\n",
    "</tr>\n",
    "<tr>\n",
    "<td></td><td>$A^{-1}A = AA^{-1} = I$\n",
    "</td>\n",
    "</tr>    \n",
    "<tr>\n",
    "<td></td><td>$(AB)^{-1} = B^{-1}A^{-1}$</td>\n",
    "</tr>    \n",
    "<tr>\n",
    "<td>Reversivity of the transpose of a product of matrices,</td><td>$(AB)^T = B^TA^T$</td>\n",
    "</tr>    \n",
    "</table>"
   ]
  },
  {
   "cell_type": "markdown",
   "id": "af9213ea",
   "metadata": {},
   "source": [
    "Thus, now, instead $X$ we have $X \\times P$; thus, the linear regression weights have a modified formula:"
   ]
  },
  {
   "cell_type": "markdown",
   "id": "74fd0620",
   "metadata": {},
   "source": [
    "$w = (X^T X)^{-1} X^T y \\quad \\Rightarrow \\quad w_P = [(XP)^T XP]^{-1} (XP)^T y$"
   ]
  },
  {
   "cell_type": "markdown",
   "id": "032847b4",
   "metadata": {},
   "source": [
    "Let's expand the parentheses:"
   ]
  },
  {
   "cell_type": "markdown",
   "id": "825e5954",
   "metadata": {},
   "source": [
    "$w_p = [(XP)^T XP]^{-1}(XP)^Ty \\qquad \\qquad (1)$"
   ]
  },
  {
   "cell_type": "markdown",
   "id": "992c0a35",
   "metadata": {},
   "source": [
    "$w_p = [P^T X^T XP]^{-1} P^T X^T y\\qquad \\qquad(2)$"
   ]
  },
  {
   "cell_type": "markdown",
   "id": "810daa77",
   "metadata": {},
   "source": [
    "$w_p = (P^T (X^T X) P)^{-1} P^T X^T y \\qquad \\qquad(3)$"
   ]
  },
  {
   "cell_type": "markdown",
   "id": "8c544058",
   "metadata": {},
   "source": [
    "$w_p = P^{-1} (X^T X)^{-1} (P^T)^{-1} P^T X^T y \\qquad \\qquad(4)$"
   ]
  },
  {
   "cell_type": "markdown",
   "id": "9a06b412",
   "metadata": {},
   "source": [
    "$w_p = P^{-1} (X^T X)^{-1} I X^T y \\qquad \\qquad(5)$"
   ]
  },
  {
   "cell_type": "markdown",
   "id": "1245bc63",
   "metadata": {},
   "source": [
    "$w_p = P^{-1} (X^T X)^{-1} X^T y \\qquad \\qquad(6)$"
   ]
  },
  {
   "cell_type": "markdown",
   "id": "480e4bda",
   "metadata": {},
   "source": [
    "Now we see, that the modified weights are calculated through the inverted matrix $P$:"
   ]
  },
  {
   "cell_type": "markdown",
   "id": "740e19c9",
   "metadata": {},
   "source": [
    "$w_p = P^{-1} w \\qquad \\qquad(7)$"
   ]
  },
  {
   "cell_type": "markdown",
   "id": "089dde4c",
   "metadata": {},
   "source": [
    "Now, let's take a look at the predictions:"
   ]
  },
  {
   "cell_type": "markdown",
   "id": "abc427b6",
   "metadata": {},
   "source": [
    "$a = XPP^{-1}w\\qquad(1)$"
   ]
  },
  {
   "cell_type": "markdown",
   "id": "1a85e734",
   "metadata": {},
   "source": [
    "$a = XPP^{-1}w\\qquad(2)$"
   ]
  },
  {
   "cell_type": "markdown",
   "id": "850b0baf",
   "metadata": {},
   "source": [
    "We can see that this expression is similar to $a=Xw$, when we substitute $w_p=P^{-1}w$ and $X'=XP$."
   ]
  },
  {
   "cell_type": "markdown",
   "id": "450126a6",
   "metadata": {},
   "source": [
    "$a'=X'w=XIw=Xw=a \\qquad(3),$"
   ]
  },
  {
   "cell_type": "markdown",
   "id": "8e497993",
   "metadata": {},
   "source": [
    "Thus, the RMSE will be the same for the transformed matrix as for the raw matrix; same the quality of the linear regression. Let's show that:"
   ]
  },
  {
   "cell_type": "code",
   "execution_count": 68,
   "id": "4d2aa1e0",
   "metadata": {},
   "outputs": [],
   "source": [
    "# split data into train and test sets in 70-to-30 ratio\n",
    "X_train, X_test, y_train, y_test = train_test_split(X_transformed, data_raw['insurance_benefits'],\n",
    "                                                       test_size=0.3, random_state=12345)"
   ]
  },
  {
   "cell_type": "code",
   "execution_count": 69,
   "id": "2073a479",
   "metadata": {},
   "outputs": [],
   "source": [
    "lr = MyLinearRegression()"
   ]
  },
  {
   "cell_type": "code",
   "execution_count": 70,
   "id": "5cadab5e",
   "metadata": {},
   "outputs": [
    {
     "data": {
      "text/plain": [
       "array([-0.94353901, -0.05791721, -0.01546574,  0.09871899, -0.02397537])"
      ]
     },
     "execution_count": 70,
     "metadata": {},
     "output_type": "execute_result"
    }
   ],
   "source": [
    "lr.fit(X_train, y_train)"
   ]
  },
  {
   "cell_type": "code",
   "execution_count": 71,
   "id": "91018150",
   "metadata": {},
   "outputs": [],
   "source": [
    "predictions = lr.predict(X_test)"
   ]
  },
  {
   "cell_type": "code",
   "execution_count": 72,
   "id": "45102326",
   "metadata": {},
   "outputs": [
    {
     "name": "stdout",
     "output_type": "stream",
     "text": [
      "RMSE: 0.34\n",
      "R2: 0.66\n"
     ]
    }
   ],
   "source": [
    "lr_scores(y_test, predictions)"
   ]
  },
  {
   "cell_type": "markdown",
   "id": "43515670",
   "metadata": {},
   "source": [
    "The linear regression weights vary and the scores obtained are the same result, as expected."
   ]
  },
  {
   "cell_type": "markdown",
   "id": "8d98b39d",
   "metadata": {},
   "source": [
    "To sum up:\n",
    "\n",
    "1. We established why it is possible to mask the data by multiplying the numerical features by an invertible matrix.\n",
    "2. We showed why the invertability property is important.\n",
    "3. We run the regression on transformed data, and received a model of the same quality as expected."
   ]
  },
  {
   "cell_type": "markdown",
   "id": "f23aa4a9",
   "metadata": {},
   "source": [
    "## Conclusions <a id='conclusions'></a>"
   ]
  },
  {
   "cell_type": "markdown",
   "id": "101e45b3",
   "metadata": {},
   "source": [
    "1. We uploaded the data and performed basic pre-processing.\n",
    "2. We established a procedure to find customers who are similar to a given customer, using two distance metrics, Euclidian and Manhatten; we showed that scaling significantly affects the neighbor search.\n",
    "3. We established a classification model to predict whether a new customer is likely to receive an insurance benefit:\n",
    "\n",
    "    - A baseline dummy model scored maximum 0.2 for the F1-score when assigning success in 100% of cases.\n",
    "    - As expected, the KNN model performed much better for the scaled data.\n",
    "    - When running for the n_neighbors equal 1 to 10, the best score (0.96) was achieved with k=1.\n",
    "\n",
    "4. We established a linear model to predict the number of insurance benefits a new customer is likely to receive using a linear regression model.\n",
    "\n",
    "    - We used a scoring function, which uses two metrics, RMSE and R2.\n",
    "    - We run the model for two cases, raw and scaled data.\n",
    "    - As expected, scaling of the features results in different magnitude of the linear regression coefficients.\n",
    "\n",
    "5. Finally, we showed how the raw customer data can be masked by multiplying on an invertible matrix.\n",
    "\n",
    "    - We established why it is possible to mask the data by multiplying the numerical features by an invertible matrix.\n",
    "    - We showed why the invertability property is important.\n",
    "    - We run the regression on transformed data, and received a model of the same quality as expected."
   ]
  },
  {
   "cell_type": "markdown",
   "id": "381ba7a3",
   "metadata": {},
   "source": [
    "[Back to Content](#content)"
   ]
  }
 ],
 "metadata": {
  "kernelspec": {
   "display_name": "Python 3",
   "language": "python",
   "name": "python3"
  },
  "language_info": {
   "codemirror_mode": {
    "name": "ipython",
    "version": 3
   },
   "file_extension": ".py",
   "mimetype": "text/x-python",
   "name": "python",
   "nbconvert_exporter": "python",
   "pygments_lexer": "ipython3",
   "version": "3.8.8"
  },
  "toc": {
   "base_numbering": 1,
   "nav_menu": {},
   "number_sections": true,
   "sideBar": true,
   "skip_h1_title": true,
   "title_cell": "Table of Contents",
   "title_sidebar": "Contents",
   "toc_cell": false,
   "toc_position": {},
   "toc_section_display": true,
   "toc_window_display": false
  }
 },
 "nbformat": 4,
 "nbformat_minor": 5
}
