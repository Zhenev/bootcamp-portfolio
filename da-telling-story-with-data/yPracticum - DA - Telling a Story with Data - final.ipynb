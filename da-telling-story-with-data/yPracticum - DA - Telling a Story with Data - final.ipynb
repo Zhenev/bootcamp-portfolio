{
 "cells": [
  {
   "cell_type": "markdown",
   "id": "84684c07",
   "metadata": {},
   "source": [
    "## Content <a id='content'></a>\n",
    "\n",
    "[Introduction](#intro)\n",
    "\n",
    "[Dataset](#dataset)\n",
    "\n",
    "[Data preprocessing](#prep)\n",
    "\n",
    "[Data Analysis](#da)\n",
    "\n",
    "[Conclusions](#conclusions)"
   ]
  },
  {
   "cell_type": "markdown",
   "id": "2181d148",
   "metadata": {},
   "source": [
    "# Introduction <a id='intro'></a>"
   ]
  },
  {
   "cell_type": "markdown",
   "id": "bdb7b25c",
   "metadata": {},
   "source": [
    "Me and my partners decided to open a small robot-run cafe in Los Angeles. The project is promising but expensive, so we want to try to attract investors. They are interested in the current market conditions—will we be able to maintain the success when the novelty of robot waiters wears off? So the task is to prepare some market research. To this end, we will employ open-source data on restaurants in LA. We will implement the following steps:\n",
    "\n",
    "**1. Prepare the data.**\n",
    "\n",
    "**2. Perform the analysis.**\n",
    "\n",
    "**3. Finally, we will prepare a presentation.** \n",
    "\n",
    "\n",
    "The deliverable of this project is a PDF file presenting this research to investors."
   ]
  },
  {
   "cell_type": "markdown",
   "id": "46cb2e06",
   "metadata": {},
   "source": [
    "# Dataset <a id='dataset'></a>"
   ]
  },
  {
   "cell_type": "markdown",
   "id": "864d1378",
   "metadata": {},
   "source": [
    "Data description\n",
    "`rest_data` table:\n",
    "\n",
    "- `object_name` — establishment name\n",
    "- `chain` — chain establishment (TRUE/FALSE)\n",
    "- `object_type` — establishment type\n",
    "- `address` — address\n",
    "- `number` — number of seats"
   ]
  },
  {
   "cell_type": "markdown",
   "id": "d33114e8",
   "metadata": {},
   "source": [
    "# Data preprocessing <a id='prep'></a>"
   ]
  },
  {
   "cell_type": "markdown",
   "id": "0e9c6017",
   "metadata": {},
   "source": [
    "## Libraries"
   ]
  },
  {
   "cell_type": "markdown",
   "id": "dec081ee",
   "metadata": {},
   "source": [
    "Let's load the libraries we might need:"
   ]
  },
  {
   "cell_type": "code",
   "execution_count": null,
   "id": "66671a30",
   "metadata": {},
   "outputs": [],
   "source": [
    "#pip install cufflinks"
   ]
  },
  {
   "cell_type": "code",
   "execution_count": 2,
   "id": "e4e2162b",
   "metadata": {},
   "outputs": [
    {
     "data": {
      "text/html": [
       "        <script type=\"text/javascript\">\n",
       "        window.PlotlyConfig = {MathJaxConfig: 'local'};\n",
       "        if (window.MathJax) {MathJax.Hub.Config({SVG: {font: \"STIX-Web\"}});}\n",
       "        if (typeof require !== 'undefined') {\n",
       "        require.undef(\"plotly\");\n",
       "        requirejs.config({\n",
       "            paths: {\n",
       "                'plotly': ['https://cdn.plot.ly/plotly-2.6.3.min']\n",
       "            }\n",
       "        });\n",
       "        require(['plotly'], function(Plotly) {\n",
       "            window._Plotly = Plotly;\n",
       "        });\n",
       "        }\n",
       "        </script>\n",
       "        "
      ]
     },
     "metadata": {},
     "output_type": "display_data"
    },
    {
     "data": {
      "text/html": [
       "        <script type=\"text/javascript\">\n",
       "        window.PlotlyConfig = {MathJaxConfig: 'local'};\n",
       "        if (window.MathJax) {MathJax.Hub.Config({SVG: {font: \"STIX-Web\"}});}\n",
       "        if (typeof require !== 'undefined') {\n",
       "        require.undef(\"plotly\");\n",
       "        requirejs.config({\n",
       "            paths: {\n",
       "                'plotly': ['https://cdn.plot.ly/plotly-2.6.3.min']\n",
       "            }\n",
       "        });\n",
       "        require(['plotly'], function(Plotly) {\n",
       "            window._Plotly = Plotly;\n",
       "        });\n",
       "        }\n",
       "        </script>\n",
       "        "
      ]
     },
     "metadata": {},
     "output_type": "display_data"
    }
   ],
   "source": [
    "# Loading the libraries\n",
    "\n",
    "import numpy as np\n",
    "import pandas as pd\n",
    "import datetime as dt\n",
    "\n",
    "import re\n",
    "\n",
    "import matplotlib.pyplot as plt # We will need this for visualisations\n",
    "%matplotlib inline\n",
    "import seaborn as sns\n",
    "\n",
    "# Standard plotly imports\n",
    "import plotly.graph_objs as go\n",
    "\n",
    "# We can use Plotly directly with Pandas dataframes using another library named Cufflinks\n",
    "from plotly.offline import iplot, init_notebook_mode# Using plotly + cufflinks in offline mode\n",
    "import cufflinks\n",
    "cufflinks.go_offline(connected=True)\n",
    "init_notebook_mode(connected=True)\n",
    "\n",
    "from scipy import stats as st # We will need this in case we want to make some statistical checks\n",
    "import math as mth\n",
    "\n",
    "# To filter out automatic comments on plots from Jupyter (not affecting the output)\n",
    "import warnings\n",
    "warnings.filterwarnings(\"ignore\") "
   ]
  },
  {
   "cell_type": "markdown",
   "id": "0bde060b",
   "metadata": {},
   "source": [
    "[Back to Content](#content)"
   ]
  },
  {
   "cell_type": "markdown",
   "id": "b985b129",
   "metadata": {},
   "source": [
    "## File upload"
   ]
  },
  {
   "cell_type": "markdown",
   "id": "0ecce327",
   "metadata": {},
   "source": [
    "We will use a `load()` function to avoid potential problems with the file pathes."
   ]
  },
  {
   "cell_type": "code",
   "execution_count": 3,
   "id": "a2d57e15",
   "metadata": {},
   "outputs": [],
   "source": [
    "# function `load` for a csv load with try-except and a number of rows limit\n",
    "def load(filename, sep = ','):\n",
    "    \"\"\"\n",
    "    i=In addition to the file name, the function takes nrow parameter\n",
    "    for a particular number of rows to load. If None, then the file is loaded fully.\n",
    "    \"\"\"\n",
    "    try:\n",
    "        df_raw = pd.read_csv(filename, sep = sep)\n",
    "    except:\n",
    "        df_raw = pd.read_csv('/'+filename, sep = sep)\n",
    "    return df_raw"
   ]
  },
  {
   "cell_type": "code",
   "execution_count": 4,
   "id": "273774e0",
   "metadata": {},
   "outputs": [],
   "source": [
    "rest_data = load('datasets/rest_data_us.csv')"
   ]
  },
  {
   "cell_type": "markdown",
   "id": "dfa64d7b",
   "metadata": {},
   "source": [
    "## Data overview <a id='data_overview'></a>"
   ]
  },
  {
   "cell_type": "markdown",
   "id": "ec67b375",
   "metadata": {},
   "source": [
    "Let's look into the file:"
   ]
  },
  {
   "cell_type": "code",
   "execution_count": 5,
   "id": "55a1bf76",
   "metadata": {},
   "outputs": [
    {
     "name": "stdout",
     "output_type": "stream",
     "text": [
      "<class 'pandas.core.frame.DataFrame'>\n",
      "RangeIndex: 9651 entries, 0 to 9650\n",
      "Data columns (total 6 columns):\n",
      " #   Column       Non-Null Count  Dtype \n",
      "---  ------       --------------  ----- \n",
      " 0   id           9651 non-null   int64 \n",
      " 1   object_name  9651 non-null   object\n",
      " 2   address      9651 non-null   object\n",
      " 3   chain        9648 non-null   object\n",
      " 4   object_type  9651 non-null   object\n",
      " 5   number       9651 non-null   int64 \n",
      "dtypes: int64(2), object(4)\n",
      "memory usage: 2.4 MB\n"
     ]
    }
   ],
   "source": [
    "rest_data.info(memory_usage='deep')"
   ]
  },
  {
   "cell_type": "markdown",
   "id": "3ccde925",
   "metadata": {},
   "source": [
    "`rest_data_us.csv` has been read correctly; we can check whther it is better to cast `chain` and `object_type` into categorical variables; the `chain` variable has 3 missing values."
   ]
  },
  {
   "cell_type": "code",
   "execution_count": 6,
   "id": "5f2f97ac",
   "metadata": {},
   "outputs": [
    {
     "data": {
      "text/plain": [
       "False    5972\n",
       "True     3676\n",
       "Name: chain, dtype: int64"
      ]
     },
     "execution_count": 6,
     "metadata": {},
     "output_type": "execute_result"
    }
   ],
   "source": [
    "rest_data['chain'].value_counts()"
   ]
  },
  {
   "cell_type": "code",
   "execution_count": 7,
   "id": "8561af41",
   "metadata": {},
   "outputs": [
    {
     "data": {
      "text/plain": [
       "Restaurant    7255\n",
       "Fast Food     1066\n",
       "Cafe           435\n",
       "Pizza          320\n",
       "Bar            292\n",
       "Bakery         283\n",
       "Name: object_type, dtype: int64"
      ]
     },
     "execution_count": 7,
     "metadata": {},
     "output_type": "execute_result"
    }
   ],
   "source": [
    "rest_data['object_type'].value_counts()"
   ]
  },
  {
   "cell_type": "code",
   "execution_count": 8,
   "id": "1876d5b5",
   "metadata": {},
   "outputs": [
    {
     "data": {
      "text/html": [
       "<div>\n",
       "<style scoped>\n",
       "    .dataframe tbody tr th:only-of-type {\n",
       "        vertical-align: middle;\n",
       "    }\n",
       "\n",
       "    .dataframe tbody tr th {\n",
       "        vertical-align: top;\n",
       "    }\n",
       "\n",
       "    .dataframe thead th {\n",
       "        text-align: right;\n",
       "    }\n",
       "</style>\n",
       "<table border=\"1\" class=\"dataframe\">\n",
       "  <thead>\n",
       "    <tr style=\"text-align: right;\">\n",
       "      <th></th>\n",
       "      <th>id</th>\n",
       "      <th>object_name</th>\n",
       "      <th>address</th>\n",
       "      <th>chain</th>\n",
       "      <th>object_type</th>\n",
       "      <th>number</th>\n",
       "    </tr>\n",
       "  </thead>\n",
       "  <tbody>\n",
       "    <tr>\n",
       "      <th>7408</th>\n",
       "      <td>19194</td>\n",
       "      <td>TAQUERIA LOS 3 CARNALES</td>\n",
       "      <td>5000 E WHITTIER BLVD</td>\n",
       "      <td>NaN</td>\n",
       "      <td>Restaurant</td>\n",
       "      <td>14</td>\n",
       "    </tr>\n",
       "    <tr>\n",
       "      <th>7523</th>\n",
       "      <td>19309</td>\n",
       "      <td>JAMMIN JIMMY'S PIZZA</td>\n",
       "      <td>1641 FIRESTONE BLVD</td>\n",
       "      <td>NaN</td>\n",
       "      <td>Pizza</td>\n",
       "      <td>1</td>\n",
       "    </tr>\n",
       "    <tr>\n",
       "      <th>8648</th>\n",
       "      <td>20434</td>\n",
       "      <td>THE LEXINGTON THEATER</td>\n",
       "      <td>129 E 3RD ST</td>\n",
       "      <td>NaN</td>\n",
       "      <td>Restaurant</td>\n",
       "      <td>35</td>\n",
       "    </tr>\n",
       "  </tbody>\n",
       "</table>\n",
       "</div>"
      ],
      "text/plain": [
       "         id              object_name               address chain object_type  \\\n",
       "7408  19194  TAQUERIA LOS 3 CARNALES  5000 E WHITTIER BLVD   NaN  Restaurant   \n",
       "7523  19309     JAMMIN JIMMY'S PIZZA   1641 FIRESTONE BLVD   NaN       Pizza   \n",
       "8648  20434    THE LEXINGTON THEATER          129 E 3RD ST   NaN  Restaurant   \n",
       "\n",
       "      number  \n",
       "7408      14  \n",
       "7523       1  \n",
       "8648      35  "
      ]
     },
     "execution_count": 8,
     "metadata": {},
     "output_type": "execute_result"
    }
   ],
   "source": [
    "rest_data[rest_data['chain'].isna()]"
   ]
  },
  {
   "cell_type": "markdown",
   "id": "3498ef02",
   "metadata": {},
   "source": [
    "Let's investigate how many of objects with similar names are presented in the dataframe."
   ]
  },
  {
   "cell_type": "code",
   "execution_count": 9,
   "id": "834b4cc4",
   "metadata": {},
   "outputs": [],
   "source": [
    "rest_data['all_tageuria'] = rest_data['object_name'].str.findall('CARNA').astype('bool')"
   ]
  },
  {
   "cell_type": "code",
   "execution_count": 10,
   "id": "ad20f7e6",
   "metadata": {},
   "outputs": [
    {
     "data": {
      "text/html": [
       "<div>\n",
       "<style scoped>\n",
       "    .dataframe tbody tr th:only-of-type {\n",
       "        vertical-align: middle;\n",
       "    }\n",
       "\n",
       "    .dataframe tbody tr th {\n",
       "        vertical-align: top;\n",
       "    }\n",
       "\n",
       "    .dataframe thead th {\n",
       "        text-align: right;\n",
       "    }\n",
       "</style>\n",
       "<table border=\"1\" class=\"dataframe\">\n",
       "  <thead>\n",
       "    <tr style=\"text-align: right;\">\n",
       "      <th></th>\n",
       "      <th>id</th>\n",
       "      <th>object_name</th>\n",
       "      <th>address</th>\n",
       "      <th>chain</th>\n",
       "      <th>object_type</th>\n",
       "      <th>number</th>\n",
       "      <th>all_tageuria</th>\n",
       "    </tr>\n",
       "  </thead>\n",
       "  <tbody>\n",
       "    <tr>\n",
       "      <th>6419</th>\n",
       "      <td>18205</td>\n",
       "      <td>TACOS LOS CARNALES</td>\n",
       "      <td>4370 S CENTRAL AVE</td>\n",
       "      <td>False</td>\n",
       "      <td>Fast Food</td>\n",
       "      <td>47</td>\n",
       "      <td>True</td>\n",
       "    </tr>\n",
       "    <tr>\n",
       "      <th>6624</th>\n",
       "      <td>18410</td>\n",
       "      <td>TACOS LOS 3 CARNALES</td>\n",
       "      <td>5000 WHITTIER BLVD</td>\n",
       "      <td>False</td>\n",
       "      <td>Fast Food</td>\n",
       "      <td>6</td>\n",
       "      <td>True</td>\n",
       "    </tr>\n",
       "    <tr>\n",
       "      <th>7408</th>\n",
       "      <td>19194</td>\n",
       "      <td>TAQUERIA LOS 3 CARNALES</td>\n",
       "      <td>5000 E WHITTIER BLVD</td>\n",
       "      <td>NaN</td>\n",
       "      <td>Restaurant</td>\n",
       "      <td>14</td>\n",
       "      <td>True</td>\n",
       "    </tr>\n",
       "    <tr>\n",
       "      <th>9616</th>\n",
       "      <td>21402</td>\n",
       "      <td>TACOS LOS 4 CARNALES</td>\n",
       "      <td>5000 WHITTIER BLVD</td>\n",
       "      <td>False</td>\n",
       "      <td>Fast Food</td>\n",
       "      <td>9</td>\n",
       "      <td>True</td>\n",
       "    </tr>\n",
       "  </tbody>\n",
       "</table>\n",
       "</div>"
      ],
      "text/plain": [
       "         id              object_name               address  chain object_type  \\\n",
       "6419  18205       TACOS LOS CARNALES    4370 S CENTRAL AVE  False   Fast Food   \n",
       "6624  18410     TACOS LOS 3 CARNALES    5000 WHITTIER BLVD  False   Fast Food   \n",
       "7408  19194  TAQUERIA LOS 3 CARNALES  5000 E WHITTIER BLVD    NaN  Restaurant   \n",
       "9616  21402     TACOS LOS 4 CARNALES    5000 WHITTIER BLVD  False   Fast Food   \n",
       "\n",
       "      number  all_tageuria  \n",
       "6419      47          True  \n",
       "6624       6          True  \n",
       "7408      14          True  \n",
       "9616       9          True  "
      ]
     },
     "execution_count": 10,
     "metadata": {},
     "output_type": "execute_result"
    }
   ],
   "source": [
    "rest_data[rest_data['all_tageuria'] == True]"
   ]
  },
  {
   "cell_type": "markdown",
   "id": "113c3f10",
   "metadata": {},
   "source": [
    "Hm... Looks like we have 3 objects with similar names at the same address. We can find one `Tacos Los 3 Carnales` [here](https://foursquare.com/v/los-3-carnales/55346444498e6ce7d0040b21) and it is a restaurant; thus we would better drop the those with `id` equal `19194` and `21402`."
   ]
  },
  {
   "cell_type": "code",
   "execution_count": 11,
   "id": "f1509db3",
   "metadata": {},
   "outputs": [],
   "source": [
    "rest_data = rest_data.drop([7408,9616])"
   ]
  },
  {
   "cell_type": "markdown",
   "id": "5f147a90",
   "metadata": {},
   "source": [
    "Let's check the other two places."
   ]
  },
  {
   "cell_type": "code",
   "execution_count": 12,
   "id": "48a7f587",
   "metadata": {},
   "outputs": [],
   "source": [
    "rest_data['all_jimmy'] = rest_data['object_name'].str.findall('JIMMY').astype('bool')"
   ]
  },
  {
   "cell_type": "code",
   "execution_count": 13,
   "id": "7716e89a",
   "metadata": {},
   "outputs": [
    {
     "data": {
      "text/html": [
       "<div>\n",
       "<style scoped>\n",
       "    .dataframe tbody tr th:only-of-type {\n",
       "        vertical-align: middle;\n",
       "    }\n",
       "\n",
       "    .dataframe tbody tr th {\n",
       "        vertical-align: top;\n",
       "    }\n",
       "\n",
       "    .dataframe thead th {\n",
       "        text-align: right;\n",
       "    }\n",
       "</style>\n",
       "<table border=\"1\" class=\"dataframe\">\n",
       "  <thead>\n",
       "    <tr style=\"text-align: right;\">\n",
       "      <th></th>\n",
       "      <th>id</th>\n",
       "      <th>object_name</th>\n",
       "      <th>address</th>\n",
       "      <th>chain</th>\n",
       "      <th>object_type</th>\n",
       "      <th>number</th>\n",
       "      <th>all_tageuria</th>\n",
       "      <th>all_jimmy</th>\n",
       "    </tr>\n",
       "  </thead>\n",
       "  <tbody>\n",
       "    <tr>\n",
       "      <th>3371</th>\n",
       "      <td>15157</td>\n",
       "      <td>JIMMY JOHN'S #2575</td>\n",
       "      <td>3150 WILSHIRE BLVD STE 118</td>\n",
       "      <td>True</td>\n",
       "      <td>Restaurant</td>\n",
       "      <td>29</td>\n",
       "      <td>False</td>\n",
       "      <td>True</td>\n",
       "    </tr>\n",
       "    <tr>\n",
       "      <th>5189</th>\n",
       "      <td>16975</td>\n",
       "      <td>JIMMY JOHN'S</td>\n",
       "      <td>600 W 7TH ST # 160</td>\n",
       "      <td>True</td>\n",
       "      <td>Restaurant</td>\n",
       "      <td>39</td>\n",
       "      <td>False</td>\n",
       "      <td>True</td>\n",
       "    </tr>\n",
       "    <tr>\n",
       "      <th>7197</th>\n",
       "      <td>18983</td>\n",
       "      <td>JIMMY JOHN'S</td>\n",
       "      <td>2700 S FIGUEROA ST # 103</td>\n",
       "      <td>True</td>\n",
       "      <td>Restaurant</td>\n",
       "      <td>32</td>\n",
       "      <td>False</td>\n",
       "      <td>True</td>\n",
       "    </tr>\n",
       "    <tr>\n",
       "      <th>7523</th>\n",
       "      <td>19309</td>\n",
       "      <td>JAMMIN JIMMY'S PIZZA</td>\n",
       "      <td>1641 FIRESTONE BLVD</td>\n",
       "      <td>NaN</td>\n",
       "      <td>Pizza</td>\n",
       "      <td>1</td>\n",
       "      <td>False</td>\n",
       "      <td>True</td>\n",
       "    </tr>\n",
       "    <tr>\n",
       "      <th>7796</th>\n",
       "      <td>19582</td>\n",
       "      <td>JIMMY JOHN'S</td>\n",
       "      <td>1134 WESTWOOD BLVD</td>\n",
       "      <td>True</td>\n",
       "      <td>Restaurant</td>\n",
       "      <td>9</td>\n",
       "      <td>False</td>\n",
       "      <td>True</td>\n",
       "    </tr>\n",
       "    <tr>\n",
       "      <th>7909</th>\n",
       "      <td>19695</td>\n",
       "      <td>JIMMY JOHN'S #2577</td>\n",
       "      <td>2700 S FIGUEROA ST # 103</td>\n",
       "      <td>True</td>\n",
       "      <td>Restaurant</td>\n",
       "      <td>37</td>\n",
       "      <td>False</td>\n",
       "      <td>True</td>\n",
       "    </tr>\n",
       "    <tr>\n",
       "      <th>8102</th>\n",
       "      <td>19888</td>\n",
       "      <td>JIMMY JOHN'S SUBS #2575</td>\n",
       "      <td>3150 WILSHIRE BLVD #118</td>\n",
       "      <td>True</td>\n",
       "      <td>Restaurant</td>\n",
       "      <td>17</td>\n",
       "      <td>False</td>\n",
       "      <td>True</td>\n",
       "    </tr>\n",
       "    <tr>\n",
       "      <th>8455</th>\n",
       "      <td>20241</td>\n",
       "      <td>JIMMY JOHN'S</td>\n",
       "      <td>7059 W SUNSET BLVD</td>\n",
       "      <td>True</td>\n",
       "      <td>Restaurant</td>\n",
       "      <td>1</td>\n",
       "      <td>False</td>\n",
       "      <td>True</td>\n",
       "    </tr>\n",
       "    <tr>\n",
       "      <th>9137</th>\n",
       "      <td>20923</td>\n",
       "      <td>JIMMY JOHN'S</td>\n",
       "      <td>445 S FIGUEROA ST # 105</td>\n",
       "      <td>True</td>\n",
       "      <td>Restaurant</td>\n",
       "      <td>31</td>\n",
       "      <td>False</td>\n",
       "      <td>True</td>\n",
       "    </tr>\n",
       "  </tbody>\n",
       "</table>\n",
       "</div>"
      ],
      "text/plain": [
       "         id              object_name                     address chain  \\\n",
       "3371  15157       JIMMY JOHN'S #2575  3150 WILSHIRE BLVD STE 118  True   \n",
       "5189  16975             JIMMY JOHN'S          600 W 7TH ST # 160  True   \n",
       "7197  18983             JIMMY JOHN'S    2700 S FIGUEROA ST # 103  True   \n",
       "7523  19309     JAMMIN JIMMY'S PIZZA         1641 FIRESTONE BLVD   NaN   \n",
       "7796  19582             JIMMY JOHN'S          1134 WESTWOOD BLVD  True   \n",
       "7909  19695       JIMMY JOHN'S #2577    2700 S FIGUEROA ST # 103  True   \n",
       "8102  19888  JIMMY JOHN'S SUBS #2575     3150 WILSHIRE BLVD #118  True   \n",
       "8455  20241             JIMMY JOHN'S          7059 W SUNSET BLVD  True   \n",
       "9137  20923             JIMMY JOHN'S     445 S FIGUEROA ST # 105  True   \n",
       "\n",
       "     object_type  number  all_tageuria  all_jimmy  \n",
       "3371  Restaurant      29         False       True  \n",
       "5189  Restaurant      39         False       True  \n",
       "7197  Restaurant      32         False       True  \n",
       "7523       Pizza       1         False       True  \n",
       "7796  Restaurant       9         False       True  \n",
       "7909  Restaurant      37         False       True  \n",
       "8102  Restaurant      17         False       True  \n",
       "8455  Restaurant       1         False       True  \n",
       "9137  Restaurant      31         False       True  "
      ]
     },
     "execution_count": 13,
     "metadata": {},
     "output_type": "execute_result"
    }
   ],
   "source": [
    "rest_data[rest_data['all_jimmy'] == True]"
   ]
  },
  {
   "cell_type": "code",
   "execution_count": 14,
   "id": "dc6c8156",
   "metadata": {},
   "outputs": [],
   "source": [
    "rest_data['all_lexington'] = rest_data['object_name'].str.findall('LEXINGT').astype('bool')"
   ]
  },
  {
   "cell_type": "code",
   "execution_count": 15,
   "id": "49cf1e17",
   "metadata": {},
   "outputs": [
    {
     "data": {
      "text/html": [
       "<div>\n",
       "<style scoped>\n",
       "    .dataframe tbody tr th:only-of-type {\n",
       "        vertical-align: middle;\n",
       "    }\n",
       "\n",
       "    .dataframe tbody tr th {\n",
       "        vertical-align: top;\n",
       "    }\n",
       "\n",
       "    .dataframe thead th {\n",
       "        text-align: right;\n",
       "    }\n",
       "</style>\n",
       "<table border=\"1\" class=\"dataframe\">\n",
       "  <thead>\n",
       "    <tr style=\"text-align: right;\">\n",
       "      <th></th>\n",
       "      <th>id</th>\n",
       "      <th>object_name</th>\n",
       "      <th>address</th>\n",
       "      <th>chain</th>\n",
       "      <th>object_type</th>\n",
       "      <th>number</th>\n",
       "      <th>all_tageuria</th>\n",
       "      <th>all_jimmy</th>\n",
       "      <th>all_lexington</th>\n",
       "    </tr>\n",
       "  </thead>\n",
       "  <tbody>\n",
       "    <tr>\n",
       "      <th>8648</th>\n",
       "      <td>20434</td>\n",
       "      <td>THE LEXINGTON THEATER</td>\n",
       "      <td>129 E 3RD ST</td>\n",
       "      <td>NaN</td>\n",
       "      <td>Restaurant</td>\n",
       "      <td>35</td>\n",
       "      <td>False</td>\n",
       "      <td>False</td>\n",
       "      <td>True</td>\n",
       "    </tr>\n",
       "  </tbody>\n",
       "</table>\n",
       "</div>"
      ],
      "text/plain": [
       "         id            object_name       address chain object_type  number  \\\n",
       "8648  20434  THE LEXINGTON THEATER  129 E 3RD ST   NaN  Restaurant      35   \n",
       "\n",
       "      all_tageuria  all_jimmy  all_lexington  \n",
       "8648         False      False           True  "
      ]
     },
     "execution_count": 15,
     "metadata": {},
     "output_type": "execute_result"
    }
   ],
   "source": [
    "rest_data[rest_data['all_lexington'] == True]"
   ]
  },
  {
   "cell_type": "markdown",
   "id": "815a4663",
   "metadata": {},
   "source": [
    "OK, `JAMMIN JIMMY'S PIZZA` and `THE LEXINGTON THEATER` are unique, so we can define its `object_type` as `False`."
   ]
  },
  {
   "cell_type": "markdown",
   "id": "457898d3",
   "metadata": {},
   "source": [
    "The `chain` variable is boolean (we have more individual places than chain members), so we will update the data type to `bool`."
   ]
  },
  {
   "cell_type": "code",
   "execution_count": 16,
   "id": "cb695e96",
   "metadata": {},
   "outputs": [],
   "source": [
    "rest_data['chain'] = rest_data['chain'].astype('bool')"
   ]
  },
  {
   "cell_type": "code",
   "execution_count": 17,
   "id": "ad42c7d0",
   "metadata": {},
   "outputs": [],
   "source": [
    "rest_data.at[7523,'chain'] = False"
   ]
  },
  {
   "cell_type": "code",
   "execution_count": 18,
   "id": "08a6f793",
   "metadata": {},
   "outputs": [],
   "source": [
    "rest_data.at[8648,'chain'] = False"
   ]
  },
  {
   "cell_type": "code",
   "execution_count": 19,
   "id": "007d9b5f",
   "metadata": {},
   "outputs": [],
   "source": [
    "rest_data.drop(columns = ['all_tageuria', 'all_jimmy', 'all_lexington'], inplace = True)"
   ]
  },
  {
   "cell_type": "markdown",
   "id": "bae9cedc",
   "metadata": {},
   "source": [
    "Now we do not have missing values, though after the 'Los Carnales` case should be bothered by potential duplicates. Let's check first the object names and the addresses together, and then the addresses:"
   ]
  },
  {
   "cell_type": "markdown",
   "id": "4dd527a8",
   "metadata": {},
   "source": [
    "## Checking for duplicates <a id = \"dup\"> <a/>"
   ]
  },
  {
   "cell_type": "code",
   "execution_count": 20,
   "id": "f8475094",
   "metadata": {},
   "outputs": [
    {
     "data": {
      "text/plain": [
       "0"
      ]
     },
     "execution_count": 20,
     "metadata": {},
     "output_type": "execute_result"
    }
   ],
   "source": [
    "rest_data[['object_name', 'address']].duplicated().sum()"
   ]
  },
  {
   "cell_type": "code",
   "execution_count": 21,
   "id": "94b02725",
   "metadata": {},
   "outputs": [
    {
     "data": {
      "text/plain": [
       "3607 TROUSDALE PKWY         10\n",
       "135 N GRAND AVE              9\n",
       "400 WORLD WAY                8\n",
       "5151 STATE UNIVERSITY DR     8\n",
       "600 WORLD WAY                8\n",
       "                            ..\n",
       "3345 N EASTERN AVE           1\n",
       "7800 BEVERLY BLVD            1\n",
       "5565 W MANCHESTER AVE        1\n",
       "632 S HILL ST                1\n",
       "1403 W 11TH ST               1\n",
       "Name: address, Length: 912, dtype: int64"
      ]
     },
     "execution_count": 21,
     "metadata": {},
     "output_type": "execute_result"
    }
   ],
   "source": [
    "rest_data[rest_data['address'].duplicated()]['address'].value_counts()"
   ]
  },
  {
   "cell_type": "markdown",
   "id": "686e1e4b",
   "metadata": {},
   "source": [
    "We have 912 addresses with more that one places mentioned for them (which can be the case if it is a large commercial center there, for example). Let's check a couple of the names:"
   ]
  },
  {
   "cell_type": "code",
   "execution_count": 22,
   "id": "2e0f8848",
   "metadata": {},
   "outputs": [
    {
     "data": {
      "text/html": [
       "<div>\n",
       "<style scoped>\n",
       "    .dataframe tbody tr th:only-of-type {\n",
       "        vertical-align: middle;\n",
       "    }\n",
       "\n",
       "    .dataframe tbody tr th {\n",
       "        vertical-align: top;\n",
       "    }\n",
       "\n",
       "    .dataframe thead th {\n",
       "        text-align: right;\n",
       "    }\n",
       "</style>\n",
       "<table border=\"1\" class=\"dataframe\">\n",
       "  <thead>\n",
       "    <tr style=\"text-align: right;\">\n",
       "      <th></th>\n",
       "      <th>id</th>\n",
       "      <th>object_name</th>\n",
       "      <th>address</th>\n",
       "      <th>chain</th>\n",
       "      <th>object_type</th>\n",
       "      <th>number</th>\n",
       "    </tr>\n",
       "  </thead>\n",
       "  <tbody>\n",
       "    <tr>\n",
       "      <th>457</th>\n",
       "      <td>12243</td>\n",
       "      <td>USC MAIN KITCHEN-BASEMENT</td>\n",
       "      <td>3607 TROUSDALE PKWY</td>\n",
       "      <td>True</td>\n",
       "      <td>Restaurant</td>\n",
       "      <td>227</td>\n",
       "    </tr>\n",
       "    <tr>\n",
       "      <th>462</th>\n",
       "      <td>12248</td>\n",
       "      <td>TRADITIONS PUB</td>\n",
       "      <td>3607 TROUSDALE PKWY</td>\n",
       "      <td>False</td>\n",
       "      <td>Restaurant</td>\n",
       "      <td>197</td>\n",
       "    </tr>\n",
       "    <tr>\n",
       "      <th>480</th>\n",
       "      <td>12266</td>\n",
       "      <td>PANDA  EXPRESS</td>\n",
       "      <td>3607 TROUSDALE PKWY</td>\n",
       "      <td>False</td>\n",
       "      <td>Fast Food</td>\n",
       "      <td>40</td>\n",
       "    </tr>\n",
       "    <tr>\n",
       "      <th>858</th>\n",
       "      <td>12644</td>\n",
       "      <td>MORETON FIGS RESTAURANT/BAR</td>\n",
       "      <td>3607 TROUSDALE PKWY</td>\n",
       "      <td>True</td>\n",
       "      <td>Bar</td>\n",
       "      <td>107</td>\n",
       "    </tr>\n",
       "    <tr>\n",
       "      <th>863</th>\n",
       "      <td>12649</td>\n",
       "      <td>VERDE</td>\n",
       "      <td>3607 TROUSDALE PKWY</td>\n",
       "      <td>False</td>\n",
       "      <td>Restaurant</td>\n",
       "      <td>39</td>\n",
       "    </tr>\n",
       "    <tr>\n",
       "      <th>888</th>\n",
       "      <td>12674</td>\n",
       "      <td>CALIFORNIA PIZZA KITCHEN</td>\n",
       "      <td>3607 TROUSDALE PKWY</td>\n",
       "      <td>True</td>\n",
       "      <td>Pizza</td>\n",
       "      <td>44</td>\n",
       "    </tr>\n",
       "    <tr>\n",
       "      <th>2610</th>\n",
       "      <td>14396</td>\n",
       "      <td>THE COFFEE BEAN &amp; TEA LEAF</td>\n",
       "      <td>3607 TROUSDALE PKWY</td>\n",
       "      <td>True</td>\n",
       "      <td>Cafe</td>\n",
       "      <td>43</td>\n",
       "    </tr>\n",
       "    <tr>\n",
       "      <th>3268</th>\n",
       "      <td>15054</td>\n",
       "      <td>THE HABIT BURGER GRILL</td>\n",
       "      <td>3607 TROUSDALE PKWY</td>\n",
       "      <td>False</td>\n",
       "      <td>Fast Food</td>\n",
       "      <td>43</td>\n",
       "    </tr>\n",
       "    <tr>\n",
       "      <th>6311</th>\n",
       "      <td>18097</td>\n",
       "      <td>LEMONADE</td>\n",
       "      <td>3607 TROUSDALE PKWY</td>\n",
       "      <td>True</td>\n",
       "      <td>Restaurant</td>\n",
       "      <td>138</td>\n",
       "    </tr>\n",
       "    <tr>\n",
       "      <th>7698</th>\n",
       "      <td>19484</td>\n",
       "      <td>LEMONADES</td>\n",
       "      <td>3607 TROUSDALE PKWY</td>\n",
       "      <td>True</td>\n",
       "      <td>Restaurant</td>\n",
       "      <td>111</td>\n",
       "    </tr>\n",
       "    <tr>\n",
       "      <th>7756</th>\n",
       "      <td>19542</td>\n",
       "      <td>COFFEE BEAN &amp; TEA LEAF</td>\n",
       "      <td>3607 TROUSDALE PKWY</td>\n",
       "      <td>True</td>\n",
       "      <td>Cafe</td>\n",
       "      <td>31</td>\n",
       "    </tr>\n",
       "  </tbody>\n",
       "</table>\n",
       "</div>"
      ],
      "text/plain": [
       "         id                  object_name              address  chain  \\\n",
       "457   12243    USC MAIN KITCHEN-BASEMENT  3607 TROUSDALE PKWY   True   \n",
       "462   12248               TRADITIONS PUB  3607 TROUSDALE PKWY  False   \n",
       "480   12266               PANDA  EXPRESS  3607 TROUSDALE PKWY  False   \n",
       "858   12644  MORETON FIGS RESTAURANT/BAR  3607 TROUSDALE PKWY   True   \n",
       "863   12649                        VERDE  3607 TROUSDALE PKWY  False   \n",
       "888   12674     CALIFORNIA PIZZA KITCHEN  3607 TROUSDALE PKWY   True   \n",
       "2610  14396   THE COFFEE BEAN & TEA LEAF  3607 TROUSDALE PKWY   True   \n",
       "3268  15054       THE HABIT BURGER GRILL  3607 TROUSDALE PKWY  False   \n",
       "6311  18097                     LEMONADE  3607 TROUSDALE PKWY   True   \n",
       "7698  19484                    LEMONADES  3607 TROUSDALE PKWY   True   \n",
       "7756  19542       COFFEE BEAN & TEA LEAF  3607 TROUSDALE PKWY   True   \n",
       "\n",
       "     object_type  number  \n",
       "457   Restaurant     227  \n",
       "462   Restaurant     197  \n",
       "480    Fast Food      40  \n",
       "858          Bar     107  \n",
       "863   Restaurant      39  \n",
       "888        Pizza      44  \n",
       "2610        Cafe      43  \n",
       "3268   Fast Food      43  \n",
       "6311  Restaurant     138  \n",
       "7698  Restaurant     111  \n",
       "7756        Cafe      31  "
      ]
     },
     "execution_count": 22,
     "metadata": {},
     "output_type": "execute_result"
    }
   ],
   "source": [
    "rest_data[rest_data['address']=='3607 TROUSDALE PKWY']"
   ]
  },
  {
   "cell_type": "code",
   "execution_count": 23,
   "id": "7044c15a",
   "metadata": {},
   "outputs": [
    {
     "data": {
      "text/html": [
       "<div>\n",
       "<style scoped>\n",
       "    .dataframe tbody tr th:only-of-type {\n",
       "        vertical-align: middle;\n",
       "    }\n",
       "\n",
       "    .dataframe tbody tr th {\n",
       "        vertical-align: top;\n",
       "    }\n",
       "\n",
       "    .dataframe thead th {\n",
       "        text-align: right;\n",
       "    }\n",
       "</style>\n",
       "<table border=\"1\" class=\"dataframe\">\n",
       "  <thead>\n",
       "    <tr style=\"text-align: right;\">\n",
       "      <th></th>\n",
       "      <th>id</th>\n",
       "      <th>object_name</th>\n",
       "      <th>address</th>\n",
       "      <th>chain</th>\n",
       "      <th>object_type</th>\n",
       "      <th>number</th>\n",
       "    </tr>\n",
       "  </thead>\n",
       "  <tbody>\n",
       "    <tr>\n",
       "      <th>4003</th>\n",
       "      <td>15789</td>\n",
       "      <td>BIG MAMA'S &amp; PAPA' PIZZERIA</td>\n",
       "      <td>7353 W SUNSET BLVD</td>\n",
       "      <td>False</td>\n",
       "      <td>Restaurant</td>\n",
       "      <td>11</td>\n",
       "    </tr>\n",
       "    <tr>\n",
       "      <th>6859</th>\n",
       "      <td>18645</td>\n",
       "      <td>BIG MAMA'S AND PAPA'S PIZZER</td>\n",
       "      <td>7353 W SUNSET BLVD</td>\n",
       "      <td>True</td>\n",
       "      <td>Restaurant</td>\n",
       "      <td>28</td>\n",
       "    </tr>\n",
       "  </tbody>\n",
       "</table>\n",
       "</div>"
      ],
      "text/plain": [
       "         id                   object_name             address  chain  \\\n",
       "4003  15789   BIG MAMA'S & PAPA' PIZZERIA  7353 W SUNSET BLVD  False   \n",
       "6859  18645  BIG MAMA'S AND PAPA'S PIZZER  7353 W SUNSET BLVD   True   \n",
       "\n",
       "     object_type  number  \n",
       "4003  Restaurant      11  \n",
       "6859  Restaurant      28  "
      ]
     },
     "execution_count": 23,
     "metadata": {},
     "output_type": "execute_result"
    }
   ],
   "source": [
    "rest_data[rest_data['address']=='7353 W SUNSET BLVD']"
   ]
  },
  {
   "cell_type": "markdown",
   "id": "b1e70327",
   "metadata": {},
   "source": [
    "Too bad: we see that there is an indirect duplicate, the `Lemonade` restaurant for the first name and two versions of whst seems to be the same restaurant for the second name. Thus, we have no other choice tham use stemming to remove duplicates of this kind. We will have to accept, that the final dataframe will contain the `number` variable value for those rows which will remain part of the dataframe."
   ]
  },
  {
   "cell_type": "code",
   "execution_count": 24,
   "id": "9f2efc0e",
   "metadata": {},
   "outputs": [],
   "source": [
    "import nltk\n",
    "from nltk.stem import PorterStemmer\n",
    "ps =PorterStemmer()"
   ]
  },
  {
   "cell_type": "code",
   "execution_count": 25,
   "id": "e0771375",
   "metadata": {},
   "outputs": [],
   "source": [
    "f = lambda x: x.replace(' & ', ' ')\n",
    "g = lambda x: x.replace(' AND ', ' ')"
   ]
  },
  {
   "cell_type": "code",
   "execution_count": 26,
   "id": "496795b8",
   "metadata": {},
   "outputs": [],
   "source": [
    "rest_data['tokenization'] = rest_data['object_name'].apply(f).apply(g)"
   ]
  },
  {
   "cell_type": "code",
   "execution_count": 27,
   "id": "c1f38e42",
   "metadata": {},
   "outputs": [],
   "source": [
    "rest_data['tokenization'] = rest_data['tokenization'].apply(ps.stem)"
   ]
  },
  {
   "cell_type": "markdown",
   "id": "6e7656bf",
   "metadata": {},
   "source": [
    "Let's take a look how the tokens look like now:"
   ]
  },
  {
   "cell_type": "code",
   "execution_count": 28,
   "id": "3c5802c3",
   "metadata": {},
   "outputs": [
    {
     "data": {
      "text/html": [
       "<div>\n",
       "<style scoped>\n",
       "    .dataframe tbody tr th:only-of-type {\n",
       "        vertical-align: middle;\n",
       "    }\n",
       "\n",
       "    .dataframe tbody tr th {\n",
       "        vertical-align: top;\n",
       "    }\n",
       "\n",
       "    .dataframe thead th {\n",
       "        text-align: right;\n",
       "    }\n",
       "</style>\n",
       "<table border=\"1\" class=\"dataframe\">\n",
       "  <thead>\n",
       "    <tr style=\"text-align: right;\">\n",
       "      <th></th>\n",
       "      <th>id</th>\n",
       "      <th>object_name</th>\n",
       "      <th>address</th>\n",
       "      <th>chain</th>\n",
       "      <th>object_type</th>\n",
       "      <th>number</th>\n",
       "      <th>tokenization</th>\n",
       "    </tr>\n",
       "  </thead>\n",
       "  <tbody>\n",
       "    <tr>\n",
       "      <th>457</th>\n",
       "      <td>12243</td>\n",
       "      <td>USC MAIN KITCHEN-BASEMENT</td>\n",
       "      <td>3607 TROUSDALE PKWY</td>\n",
       "      <td>True</td>\n",
       "      <td>Restaurant</td>\n",
       "      <td>227</td>\n",
       "      <td>usc main kitchen-bas</td>\n",
       "    </tr>\n",
       "    <tr>\n",
       "      <th>462</th>\n",
       "      <td>12248</td>\n",
       "      <td>TRADITIONS PUB</td>\n",
       "      <td>3607 TROUSDALE PKWY</td>\n",
       "      <td>False</td>\n",
       "      <td>Restaurant</td>\n",
       "      <td>197</td>\n",
       "      <td>traditions pub</td>\n",
       "    </tr>\n",
       "    <tr>\n",
       "      <th>480</th>\n",
       "      <td>12266</td>\n",
       "      <td>PANDA  EXPRESS</td>\n",
       "      <td>3607 TROUSDALE PKWY</td>\n",
       "      <td>False</td>\n",
       "      <td>Fast Food</td>\n",
       "      <td>40</td>\n",
       "      <td>panda  express</td>\n",
       "    </tr>\n",
       "    <tr>\n",
       "      <th>858</th>\n",
       "      <td>12644</td>\n",
       "      <td>MORETON FIGS RESTAURANT/BAR</td>\n",
       "      <td>3607 TROUSDALE PKWY</td>\n",
       "      <td>True</td>\n",
       "      <td>Bar</td>\n",
       "      <td>107</td>\n",
       "      <td>moreton figs restaurant/bar</td>\n",
       "    </tr>\n",
       "    <tr>\n",
       "      <th>863</th>\n",
       "      <td>12649</td>\n",
       "      <td>VERDE</td>\n",
       "      <td>3607 TROUSDALE PKWY</td>\n",
       "      <td>False</td>\n",
       "      <td>Restaurant</td>\n",
       "      <td>39</td>\n",
       "      <td>verd</td>\n",
       "    </tr>\n",
       "    <tr>\n",
       "      <th>888</th>\n",
       "      <td>12674</td>\n",
       "      <td>CALIFORNIA PIZZA KITCHEN</td>\n",
       "      <td>3607 TROUSDALE PKWY</td>\n",
       "      <td>True</td>\n",
       "      <td>Pizza</td>\n",
       "      <td>44</td>\n",
       "      <td>california pizza kitchen</td>\n",
       "    </tr>\n",
       "    <tr>\n",
       "      <th>2610</th>\n",
       "      <td>14396</td>\n",
       "      <td>THE COFFEE BEAN &amp; TEA LEAF</td>\n",
       "      <td>3607 TROUSDALE PKWY</td>\n",
       "      <td>True</td>\n",
       "      <td>Cafe</td>\n",
       "      <td>43</td>\n",
       "      <td>the coffee bean tea leaf</td>\n",
       "    </tr>\n",
       "    <tr>\n",
       "      <th>3268</th>\n",
       "      <td>15054</td>\n",
       "      <td>THE HABIT BURGER GRILL</td>\n",
       "      <td>3607 TROUSDALE PKWY</td>\n",
       "      <td>False</td>\n",
       "      <td>Fast Food</td>\n",
       "      <td>43</td>\n",
       "      <td>the habit burger gril</td>\n",
       "    </tr>\n",
       "    <tr>\n",
       "      <th>6311</th>\n",
       "      <td>18097</td>\n",
       "      <td>LEMONADE</td>\n",
       "      <td>3607 TROUSDALE PKWY</td>\n",
       "      <td>True</td>\n",
       "      <td>Restaurant</td>\n",
       "      <td>138</td>\n",
       "      <td>lemonad</td>\n",
       "    </tr>\n",
       "    <tr>\n",
       "      <th>7698</th>\n",
       "      <td>19484</td>\n",
       "      <td>LEMONADES</td>\n",
       "      <td>3607 TROUSDALE PKWY</td>\n",
       "      <td>True</td>\n",
       "      <td>Restaurant</td>\n",
       "      <td>111</td>\n",
       "      <td>lemonad</td>\n",
       "    </tr>\n",
       "    <tr>\n",
       "      <th>7756</th>\n",
       "      <td>19542</td>\n",
       "      <td>COFFEE BEAN &amp; TEA LEAF</td>\n",
       "      <td>3607 TROUSDALE PKWY</td>\n",
       "      <td>True</td>\n",
       "      <td>Cafe</td>\n",
       "      <td>31</td>\n",
       "      <td>coffee bean tea leaf</td>\n",
       "    </tr>\n",
       "  </tbody>\n",
       "</table>\n",
       "</div>"
      ],
      "text/plain": [
       "         id                  object_name              address  chain  \\\n",
       "457   12243    USC MAIN KITCHEN-BASEMENT  3607 TROUSDALE PKWY   True   \n",
       "462   12248               TRADITIONS PUB  3607 TROUSDALE PKWY  False   \n",
       "480   12266               PANDA  EXPRESS  3607 TROUSDALE PKWY  False   \n",
       "858   12644  MORETON FIGS RESTAURANT/BAR  3607 TROUSDALE PKWY   True   \n",
       "863   12649                        VERDE  3607 TROUSDALE PKWY  False   \n",
       "888   12674     CALIFORNIA PIZZA KITCHEN  3607 TROUSDALE PKWY   True   \n",
       "2610  14396   THE COFFEE BEAN & TEA LEAF  3607 TROUSDALE PKWY   True   \n",
       "3268  15054       THE HABIT BURGER GRILL  3607 TROUSDALE PKWY  False   \n",
       "6311  18097                     LEMONADE  3607 TROUSDALE PKWY   True   \n",
       "7698  19484                    LEMONADES  3607 TROUSDALE PKWY   True   \n",
       "7756  19542       COFFEE BEAN & TEA LEAF  3607 TROUSDALE PKWY   True   \n",
       "\n",
       "     object_type  number                 tokenization  \n",
       "457   Restaurant     227         usc main kitchen-bas  \n",
       "462   Restaurant     197               traditions pub  \n",
       "480    Fast Food      40               panda  express  \n",
       "858          Bar     107  moreton figs restaurant/bar  \n",
       "863   Restaurant      39                         verd  \n",
       "888        Pizza      44     california pizza kitchen  \n",
       "2610        Cafe      43     the coffee bean tea leaf  \n",
       "3268   Fast Food      43        the habit burger gril  \n",
       "6311  Restaurant     138                      lemonad  \n",
       "7698  Restaurant     111                      lemonad  \n",
       "7756        Cafe      31         coffee bean tea leaf  "
      ]
     },
     "execution_count": 28,
     "metadata": {},
     "output_type": "execute_result"
    }
   ],
   "source": [
    "rest_data[rest_data['address']=='3607 TROUSDALE PKWY']"
   ]
  },
  {
   "cell_type": "code",
   "execution_count": 29,
   "id": "10b3efc3",
   "metadata": {
    "scrolled": true
   },
   "outputs": [
    {
     "data": {
      "text/html": [
       "<div>\n",
       "<style scoped>\n",
       "    .dataframe tbody tr th:only-of-type {\n",
       "        vertical-align: middle;\n",
       "    }\n",
       "\n",
       "    .dataframe tbody tr th {\n",
       "        vertical-align: top;\n",
       "    }\n",
       "\n",
       "    .dataframe thead th {\n",
       "        text-align: right;\n",
       "    }\n",
       "</style>\n",
       "<table border=\"1\" class=\"dataframe\">\n",
       "  <thead>\n",
       "    <tr style=\"text-align: right;\">\n",
       "      <th></th>\n",
       "      <th>id</th>\n",
       "      <th>object_name</th>\n",
       "      <th>address</th>\n",
       "      <th>chain</th>\n",
       "      <th>object_type</th>\n",
       "      <th>number</th>\n",
       "      <th>tokenization</th>\n",
       "    </tr>\n",
       "  </thead>\n",
       "  <tbody>\n",
       "    <tr>\n",
       "      <th>4003</th>\n",
       "      <td>15789</td>\n",
       "      <td>BIG MAMA'S &amp; PAPA' PIZZERIA</td>\n",
       "      <td>7353 W SUNSET BLVD</td>\n",
       "      <td>False</td>\n",
       "      <td>Restaurant</td>\n",
       "      <td>11</td>\n",
       "      <td>big mama's papa' pizzeria</td>\n",
       "    </tr>\n",
       "    <tr>\n",
       "      <th>6859</th>\n",
       "      <td>18645</td>\n",
       "      <td>BIG MAMA'S AND PAPA'S PIZZER</td>\n",
       "      <td>7353 W SUNSET BLVD</td>\n",
       "      <td>True</td>\n",
       "      <td>Restaurant</td>\n",
       "      <td>28</td>\n",
       "      <td>big mama's papa's pizz</td>\n",
       "    </tr>\n",
       "  </tbody>\n",
       "</table>\n",
       "</div>"
      ],
      "text/plain": [
       "         id                   object_name             address  chain  \\\n",
       "4003  15789   BIG MAMA'S & PAPA' PIZZERIA  7353 W SUNSET BLVD  False   \n",
       "6859  18645  BIG MAMA'S AND PAPA'S PIZZER  7353 W SUNSET BLVD   True   \n",
       "\n",
       "     object_type  number               tokenization  \n",
       "4003  Restaurant      11  big mama's papa' pizzeria  \n",
       "6859  Restaurant      28     big mama's papa's pizz  "
      ]
     },
     "execution_count": 29,
     "metadata": {},
     "output_type": "execute_result"
    }
   ],
   "source": [
    "rest_data[rest_data['address']=='7353 W SUNSET BLVD']"
   ]
  },
  {
   "cell_type": "markdown",
   "id": "3ef08864",
   "metadata": {},
   "source": [
    "Let's trim the tokens down to some universal size."
   ]
  },
  {
   "cell_type": "code",
   "execution_count": 30,
   "id": "7cf94763",
   "metadata": {},
   "outputs": [],
   "source": [
    "rest_data['token_len'] = rest_data['tokenization'].str.len()"
   ]
  },
  {
   "cell_type": "code",
   "execution_count": 31,
   "id": "63be1ca8",
   "metadata": {},
   "outputs": [],
   "source": [
    "tlen = int(rest_data['token_len'].median())"
   ]
  },
  {
   "cell_type": "code",
   "execution_count": 32,
   "id": "25333262",
   "metadata": {},
   "outputs": [],
   "source": [
    "rest_data['tokenization'] = rest_data['tokenization'].str[:tlen]"
   ]
  },
  {
   "cell_type": "markdown",
   "id": "acb8bc48",
   "metadata": {},
   "source": [
    "Check how it looks like:"
   ]
  },
  {
   "cell_type": "code",
   "execution_count": 33,
   "id": "70c4a101",
   "metadata": {},
   "outputs": [
    {
     "data": {
      "text/html": [
       "<div>\n",
       "<style scoped>\n",
       "    .dataframe tbody tr th:only-of-type {\n",
       "        vertical-align: middle;\n",
       "    }\n",
       "\n",
       "    .dataframe tbody tr th {\n",
       "        vertical-align: top;\n",
       "    }\n",
       "\n",
       "    .dataframe thead th {\n",
       "        text-align: right;\n",
       "    }\n",
       "</style>\n",
       "<table border=\"1\" class=\"dataframe\">\n",
       "  <thead>\n",
       "    <tr style=\"text-align: right;\">\n",
       "      <th></th>\n",
       "      <th>id</th>\n",
       "      <th>object_name</th>\n",
       "      <th>address</th>\n",
       "      <th>chain</th>\n",
       "      <th>object_type</th>\n",
       "      <th>number</th>\n",
       "      <th>tokenization</th>\n",
       "      <th>token_len</th>\n",
       "    </tr>\n",
       "  </thead>\n",
       "  <tbody>\n",
       "    <tr>\n",
       "      <th>4003</th>\n",
       "      <td>15789</td>\n",
       "      <td>BIG MAMA'S &amp; PAPA' PIZZERIA</td>\n",
       "      <td>7353 W SUNSET BLVD</td>\n",
       "      <td>False</td>\n",
       "      <td>Restaurant</td>\n",
       "      <td>11</td>\n",
       "      <td>big mama's papa</td>\n",
       "      <td>25</td>\n",
       "    </tr>\n",
       "    <tr>\n",
       "      <th>6859</th>\n",
       "      <td>18645</td>\n",
       "      <td>BIG MAMA'S AND PAPA'S PIZZER</td>\n",
       "      <td>7353 W SUNSET BLVD</td>\n",
       "      <td>True</td>\n",
       "      <td>Restaurant</td>\n",
       "      <td>28</td>\n",
       "      <td>big mama's papa</td>\n",
       "      <td>22</td>\n",
       "    </tr>\n",
       "  </tbody>\n",
       "</table>\n",
       "</div>"
      ],
      "text/plain": [
       "         id                   object_name             address  chain  \\\n",
       "4003  15789   BIG MAMA'S & PAPA' PIZZERIA  7353 W SUNSET BLVD  False   \n",
       "6859  18645  BIG MAMA'S AND PAPA'S PIZZER  7353 W SUNSET BLVD   True   \n",
       "\n",
       "     object_type  number     tokenization  token_len  \n",
       "4003  Restaurant      11  big mama's papa         25  \n",
       "6859  Restaurant      28  big mama's papa         22  "
      ]
     },
     "execution_count": 33,
     "metadata": {},
     "output_type": "execute_result"
    }
   ],
   "source": [
    "rest_data[rest_data['address']=='7353 W SUNSET BLVD']"
   ]
  },
  {
   "cell_type": "markdown",
   "id": "22f1db3f",
   "metadata": {},
   "source": [
    "Now we can cut off some of those implicit duplicates (NOTE: unlike the very first case we cleaned up, this approach catches cases with similar beginnings of the object names):"
   ]
  },
  {
   "cell_type": "code",
   "execution_count": 34,
   "id": "de81ae9f",
   "metadata": {},
   "outputs": [],
   "source": [
    "rest_data = rest_data.drop_duplicates(subset=['address',\n",
    "                                        'tokenization']).drop(columns=['tokenization',\n",
    "                                                                    'token_len']).reset_index(drop=True)"
   ]
  },
  {
   "cell_type": "markdown",
   "id": "c1e760bd",
   "metadata": {},
   "source": [
    "Let's check how many items we have dropped."
   ]
  },
  {
   "cell_type": "code",
   "execution_count": 35,
   "id": "5907c4aa",
   "metadata": {},
   "outputs": [
    {
     "data": {
      "text/plain": [
       "3607 TROUSDALE PKWY         9\n",
       "135 N GRAND AVE             9\n",
       "400 WORLD WAY               8\n",
       "5151 STATE UNIVERSITY DR    8\n",
       "600 WORLD WAY               8\n",
       "                           ..\n",
       "1735 W 6TH ST               1\n",
       "6022 AVION DR               1\n",
       "555 W 5TH ST                1\n",
       "1225 W VENICE BLVD          1\n",
       "1403 W 11TH ST              1\n",
       "Name: address, Length: 866, dtype: int64"
      ]
     },
     "execution_count": 35,
     "metadata": {},
     "output_type": "execute_result"
    }
   ],
   "source": [
    "rest_data[rest_data['address'].duplicated()]['address'].value_counts()"
   ]
  },
  {
   "cell_type": "code",
   "execution_count": 36,
   "id": "ce725d79",
   "metadata": {},
   "outputs": [
    {
     "data": {
      "text/plain": [
       "9594"
      ]
     },
     "execution_count": 36,
     "metadata": {},
     "output_type": "execute_result"
    }
   ],
   "source": [
    "len(rest_data)"
   ]
  },
  {
   "cell_type": "markdown",
   "id": "fe506cbf",
   "metadata": {},
   "source": [
    "We have dropped another 55 items at 46 addresses and left with 9594 restaurants out of 9651."
   ]
  },
  {
   "cell_type": "markdown",
   "id": "bac5f746",
   "metadata": {},
   "source": [
    "## Checking for outliers <a id = \"dup\"> <a/>"
   ]
  },
  {
   "cell_type": "code",
   "execution_count": 37,
   "id": "fdf6301c",
   "metadata": {},
   "outputs": [
    {
     "data": {
      "text/html": [
       "<div>\n",
       "<style scoped>\n",
       "    .dataframe tbody tr th:only-of-type {\n",
       "        vertical-align: middle;\n",
       "    }\n",
       "\n",
       "    .dataframe tbody tr th {\n",
       "        vertical-align: top;\n",
       "    }\n",
       "\n",
       "    .dataframe thead th {\n",
       "        text-align: right;\n",
       "    }\n",
       "</style>\n",
       "<table border=\"1\" class=\"dataframe\">\n",
       "  <thead>\n",
       "    <tr style=\"text-align: right;\">\n",
       "      <th></th>\n",
       "      <th>id</th>\n",
       "      <th>object_name</th>\n",
       "      <th>address</th>\n",
       "      <th>chain</th>\n",
       "      <th>object_type</th>\n",
       "      <th>number</th>\n",
       "    </tr>\n",
       "  </thead>\n",
       "  <tbody>\n",
       "    <tr>\n",
       "      <th>0</th>\n",
       "      <td>11786</td>\n",
       "      <td>HABITAT COFFEE SHOP</td>\n",
       "      <td>3708 N EAGLE ROCK BLVD</td>\n",
       "      <td>False</td>\n",
       "      <td>Cafe</td>\n",
       "      <td>26</td>\n",
       "    </tr>\n",
       "  </tbody>\n",
       "</table>\n",
       "</div>"
      ],
      "text/plain": [
       "      id          object_name                 address  chain object_type  \\\n",
       "0  11786  HABITAT COFFEE SHOP  3708 N EAGLE ROCK BLVD  False        Cafe   \n",
       "\n",
       "   number  \n",
       "0      26  "
      ]
     },
     "execution_count": 37,
     "metadata": {},
     "output_type": "execute_result"
    }
   ],
   "source": [
    "rest_data.head(1)"
   ]
  },
  {
   "cell_type": "code",
   "execution_count": 38,
   "id": "3c1ff25f",
   "metadata": {},
   "outputs": [
    {
     "data": {
      "image/png": "[encoded data removed]",
      "text/plain": [
       "<Figure size 1152x432 with 1 Axes>"
      ]
     },
     "metadata": {
      "needs_background": "light"
     },
     "output_type": "display_data"
    }
   ],
   "source": [
    "plt.figure(figsize=(16, 6))\n",
    "sns.violinplot(x=\"object_type\", y=\"number\", data=rest_data, palette='pastel')\n",
    "sns.stripplot(x=\"object_type\", y=\"number\", data=rest_data, palette='colorblind')\n",
    "plt.xlabel(\"\")\n",
    "plt.ylabel(\"Number of seats\")\n",
    "plt.title(\"Distribution of the number of seats for eating places by object type\")\n",
    "plt.show()"
   ]
  },
  {
   "cell_type": "code",
   "execution_count": 39,
   "id": "74bc62d0",
   "metadata": {},
   "outputs": [
    {
     "data": {
      "application/vnd.plotly.v1+json": {
       "config": {
        "linkText": "Export to plot.ly",
        "plotlyServerURL": "https://plot.ly",
        "showLink": true
       },
       "data": [
        {
         "histfunc": "count",
         "histnorm": "",
         "marker": {
          "color": "rgba(110, 127, 41, 1.0)",
          "line": {
           "color": "#4D5663",
           "width": 1.3
          }
         },
         "name": "number",
         "nbinsx": 40,
         "opacity": 0.8,
         "orientation": "v",
         "type": "histogram",
         "x": [
          1,
          38,
          17,
          133,
          26,
          21,
          43,
          80,
          15,
          118,
          35,
          15,
          1,
          19,
          49,
          37,
          158,
          22,
          35,
          20,
          28,
          27,
          2,
          21,
          24,
          16,
          24,
          66,
          112,
          21,
          27,
          3,
          45,
          63,
          121,
          20,
          15,
          16,
          6,
          4,
          3,
          40,
          88,
          40,
          42,
          19,
          5,
          9,
          4,
          128,
          224,
          36,
          6,
          11,
          23,
          107,
          134,
          25,
          37,
          1,
          16,
          20,
          21,
          45,
          40,
          20,
          4,
          26,
          17,
          24,
          21,
          35,
          5,
          2,
          21,
          17,
          133,
          44,
          7,
          23,
          23,
          3,
          43,
          15,
          15,
          34,
          123,
          10,
          27,
          44,
          27,
          46,
          77,
          6,
          21,
          15,
          19,
          14,
          45,
          14,
          49,
          11,
          18,
          18,
          79,
          22,
          37,
          12,
          109,
          13,
          182,
          44,
          18,
          10,
          23,
          24,
          81,
          69,
          39,
          25,
          12,
          5,
          117,
          13,
          48,
          15,
          41,
          167,
          31,
          16,
          44,
          29,
          5,
          27,
          35,
          19,
          9,
          46,
          111,
          28,
          11,
          43,
          164,
          35,
          11,
          19,
          129,
          1,
          27,
          85,
          29,
          33,
          5,
          196,
          1,
          46,
          84,
          91,
          21,
          25,
          9,
          47,
          88,
          12,
          23,
          3,
          5,
          11,
          41,
          20,
          20,
          20,
          33,
          139,
          25,
          29,
          28,
          7,
          98,
          227,
          158,
          43,
          12,
          43,
          229,
          39,
          8,
          43,
          28,
          37,
          34,
          24,
          16,
          12,
          49,
          13,
          11,
          38,
          13,
          13,
          112,
          10,
          9,
          3,
          155,
          25,
          49,
          6,
          2,
          32,
          11,
          13,
          40,
          7,
          11,
          33,
          9,
          5,
          102,
          44,
          10,
          14,
          2,
          15,
          229,
          47,
          33,
          65,
          20,
          41,
          24,
          9,
          42,
          6,
          34,
          12,
          74,
          32,
          49,
          39,
          26,
          46,
          40,
          138,
          25,
          26,
          22,
          31,
          4,
          109,
          24,
          7,
          13,
          119,
          71,
          40,
          21,
          21,
          118,
          6,
          11,
          9,
          10,
          14,
          19,
          17,
          69,
          104,
          12,
          9,
          28,
          62,
          90,
          11,
          20,
          2,
          15,
          12,
          29,
          20,
          23,
          45,
          84,
          12,
          36,
          186,
          6,
          17,
          12,
          44,
          48,
          23,
          13,
          43,
          5,
          16,
          23,
          4,
          136,
          119,
          106,
          40,
          26,
          14,
          16,
          12,
          11,
          7,
          29,
          41,
          45,
          22,
          22,
          7,
          17,
          90,
          21,
          1,
          43,
          107,
          36,
          10,
          110,
          10,
          45,
          86,
          37,
          24,
          38,
          11,
          44,
          17,
          67,
          20,
          194,
          29,
          29,
          25,
          16,
          28,
          13,
          7,
          9,
          29,
          1,
          8,
          45,
          6,
          19,
          3,
          13,
          16,
          37,
          3,
          18,
          20,
          2,
          25,
          126,
          6,
          3,
          127,
          3,
          91,
          32,
          29,
          15,
          43,
          42,
          3,
          47,
          91,
          12,
          23,
          21,
          9,
          6,
          47,
          14,
          1,
          7,
          19,
          81,
          104,
          4,
          6,
          26,
          16,
          37,
          25,
          17,
          7,
          20,
          43,
          142,
          10,
          20,
          47,
          5,
          12,
          103,
          22,
          69,
          212,
          161,
          22,
          13,
          38,
          226,
          27,
          42,
          82,
          28,
          41,
          19,
          5,
          13,
          15,
          1,
          140,
          18,
          13,
          42,
          26,
          18,
          14,
          11,
          92,
          17,
          7,
          3,
          83,
          19,
          118,
          24,
          110,
          19,
          19,
          18,
          27,
          124,
          19,
          22,
          43,
          10,
          42,
          84,
          12,
          74,
          8,
          33,
          22,
          80,
          12,
          83,
          19,
          19,
          8,
          13,
          115,
          25,
          7,
          86,
          181,
          32,
          24,
          10,
          26,
          42,
          111,
          108,
          5,
          15,
          64,
          9,
          131,
          36,
          26,
          39,
          12,
          25,
          49,
          15,
          159,
          4,
          13,
          41,
          42,
          107,
          74,
          64,
          32,
          20,
          36,
          182,
          2,
          29,
          20,
          185,
          2,
          65,
          32,
          45,
          29,
          23,
          66,
          175,
          11,
          18,
          172,
          45,
          9,
          84,
          2,
          116,
          28,
          113,
          38,
          10,
          142,
          141,
          45,
          11,
          37,
          29,
          32,
          40,
          80,
          19,
          6,
          5,
          20,
          24,
          17,
          14,
          110,
          189,
          178,
          37,
          180,
          10,
          9,
          123,
          48,
          29,
          45,
          1,
          75,
          21,
          112,
          131,
          40,
          26,
          107,
          195,
          216,
          21,
          7,
          44,
          37,
          3,
          1,
          220,
          88,
          35,
          32,
          21,
          6,
          3,
          7,
          107,
          11,
          63,
          6,
          12,
          20,
          85,
          21,
          69,
          13,
          63,
          2,
          25,
          19,
          47,
          1,
          77,
          44,
          3,
          107,
          102,
          41,
          83,
          181,
          93,
          21,
          11,
          119,
          25,
          31,
          8,
          26,
          28,
          20,
          225,
          10,
          21,
          41,
          114,
          21,
          49,
          3,
          137,
          9,
          66,
          74,
          41,
          18,
          18,
          19,
          44,
          38,
          49,
          48,
          47,
          44,
          41,
          43,
          49,
          1,
          45,
          68,
          7,
          13,
          6,
          43,
          48,
          17,
          63,
          44,
          48,
          37,
          160,
          37,
          17,
          194,
          1,
          13,
          22,
          101,
          12,
          17,
          18,
          46,
          20,
          25,
          23,
          138,
          28,
          107,
          42,
          117,
          23,
          1,
          4,
          35,
          41,
          35,
          43,
          15,
          19,
          221,
          210,
          139,
          35,
          19,
          45,
          48,
          45,
          49,
          31,
          45,
          41,
          1,
          104,
          47,
          29,
          24,
          85,
          27,
          18,
          39,
          24,
          120,
          20,
          103,
          77,
          1,
          145,
          23,
          28,
          227,
          148,
          13,
          115,
          21,
          6,
          17,
          4,
          12,
          225,
          17,
          43,
          194,
          28,
          22,
          1,
          28,
          33,
          1,
          14,
          109,
          13,
          23,
          8,
          13,
          6,
          26,
          16,
          1,
          41,
          178,
          11,
          83,
          137,
          5,
          17,
          40,
          4,
          25,
          31,
          175,
          3,
          37,
          22,
          23,
          31,
          31,
          27,
          24,
          218,
          44,
          49,
          5,
          13,
          6,
          39,
          158,
          10,
          15,
          18,
          44,
          2,
          35,
          114,
          13,
          33,
          102,
          36,
          136,
          24,
          28,
          11,
          128,
          23,
          27,
          23,
          211,
          8,
          85,
          38,
          69,
          20,
          48,
          127,
          13,
          125,
          15,
          102,
          75,
          126,
          11,
          23,
          12,
          47,
          4,
          10,
          36,
          127,
          164,
          16,
          3,
          10,
          48,
          20,
          33,
          37,
          177,
          39,
          13,
          8,
          4,
          31,
          35,
          20,
          48,
          3,
          181,
          28,
          24,
          24,
          6,
          24,
          16,
          9,
          110,
          74,
          66,
          27,
          21,
          5,
          29,
          4,
          42,
          36,
          1,
          28,
          23,
          12,
          25,
          32,
          87,
          15,
          41,
          29,
          140,
          28,
          5,
          33,
          21,
          3,
          16,
          16,
          119,
          1,
          102,
          216,
          43,
          45,
          36,
          29,
          20,
          47,
          48,
          49,
          143,
          14,
          29,
          148,
          7,
          27,
          35,
          5,
          5,
          32,
          10,
          42,
          9,
          42,
          18,
          22,
          44,
          6,
          31,
          27,
          2,
          3,
          12,
          28,
          91,
          67,
          66,
          161,
          34,
          117,
          27,
          36,
          43,
          40,
          25,
          129,
          9,
          2,
          39,
          21,
          80,
          65,
          69,
          161,
          22,
          213,
          144,
          7,
          13,
          35,
          20,
          1,
          3,
          28,
          10,
          67,
          190,
          24,
          115,
          10,
          21,
          112,
          2,
          68,
          6,
          13,
          109,
          159,
          203,
          107,
          41,
          49,
          39,
          198,
          38,
          37,
          12,
          11,
          74,
          47,
          45,
          33,
          48,
          170,
          11,
          28,
          7,
          4,
          34,
          6,
          40,
          175,
          42,
          9,
          45,
          32,
          144,
          14,
          16,
          43,
          11,
          38,
          46,
          17,
          5,
          142,
          192,
          23,
          25,
          14,
          18,
          2,
          19,
          25,
          49,
          96,
          38,
          32,
          25,
          38,
          46,
          25,
          116,
          8,
          31,
          23,
          4,
          18,
          20,
          44,
          18,
          46,
          47,
          8,
          46,
          7,
          12,
          41,
          26,
          62,
          47,
          63,
          24,
          105,
          25,
          39,
          9,
          39,
          33,
          18,
          8,
          28,
          38,
          33,
          219,
          37,
          33,
          32,
          2,
          27,
          9,
          4,
          15,
          31,
          34,
          26,
          7,
          28,
          69,
          38,
          41,
          39,
          3,
          12,
          26,
          22,
          33,
          137,
          32,
          217,
          22,
          12,
          10,
          10,
          2,
          2,
          43,
          2,
          145,
          20,
          122,
          45,
          118,
          36,
          47,
          7,
          15,
          15,
          4,
          24,
          19,
          16,
          21,
          8,
          49,
          5,
          24,
          7,
          27,
          2,
          38,
          49,
          47,
          32,
          38,
          45,
          3,
          37,
          140,
          49,
          8,
          1,
          7,
          133,
          16,
          73,
          20,
          18,
          15,
          37,
          25,
          44,
          4,
          117,
          24,
          95,
          24,
          26,
          72,
          168,
          45,
          26,
          45,
          33,
          20,
          3,
          31,
          33,
          25,
          21,
          18,
          2,
          48,
          21,
          11,
          35,
          12,
          25,
          137,
          46,
          15,
          13,
          31,
          9,
          17,
          91,
          7,
          18,
          35,
          29,
          16,
          6,
          78,
          129,
          45,
          135,
          13,
          99,
          49,
          177,
          37,
          36,
          99,
          17,
          8,
          39,
          158,
          18,
          15,
          13,
          4,
          6,
          36,
          48,
          27,
          145,
          7,
          44,
          2,
          168,
          8,
          22,
          29,
          126,
          25,
          9,
          42,
          3,
          5,
          39,
          4,
          11,
          20,
          10,
          40,
          3,
          142,
          3,
          4,
          40,
          15,
          23,
          25,
          3,
          21,
          45,
          67,
          83,
          35,
          62,
          23,
          37,
          32,
          2,
          39,
          18,
          28,
          10,
          22,
          24,
          12,
          5,
          27,
          103,
          111,
          78,
          13,
          31,
          49,
          27,
          12,
          41,
          40,
          22,
          22,
          29,
          25,
          4,
          9,
          34,
          6,
          33,
          18,
          1,
          18,
          6,
          34,
          20,
          31,
          3,
          32,
          9,
          17,
          70,
          33,
          22,
          40,
          15,
          47,
          4,
          48,
          27,
          11,
          8,
          40,
          8,
          2,
          6,
          40,
          14,
          14,
          1,
          21,
          10,
          38,
          45,
          12,
          28,
          42,
          28,
          8,
          35,
          24,
          29,
          199,
          19,
          46,
          20,
          31,
          122,
          13,
          3,
          49,
          25,
          136,
          44,
          49,
          45,
          190,
          109,
          11,
          37,
          26,
          22,
          23,
          62,
          44,
          18,
          19,
          19,
          42,
          22,
          39,
          21,
          17,
          44,
          18,
          3,
          39,
          44,
          3,
          2,
          43,
          119,
          130,
          75,
          25,
          13,
          25,
          22,
          16,
          22,
          155,
          22,
          1,
          140,
          32,
          94,
          35,
          66,
          39,
          4,
          28,
          4,
          48,
          47,
          125,
          38,
          17,
          45,
          7,
          23,
          6,
          121,
          41,
          47,
          39,
          15,
          3,
          104,
          26,
          87,
          37,
          25,
          113,
          158,
          95,
          35,
          47,
          28,
          31,
          139,
          5,
          25,
          138,
          6,
          93,
          89,
          1,
          29,
          4,
          4,
          25,
          5,
          95,
          22,
          112,
          18,
          11,
          22,
          14,
          24,
          23,
          48,
          1,
          3,
          43,
          4,
          14,
          6,
          6,
          6,
          14,
          6,
          49,
          34,
          48,
          18,
          2,
          7,
          48,
          23,
          10,
          12,
          96,
          7,
          46,
          43,
          142,
          6,
          1,
          32,
          40,
          31,
          124,
          8,
          80,
          42,
          28,
          5,
          39,
          216,
          39,
          18,
          14,
          145,
          26,
          16,
          22,
          31,
          9,
          133,
          44,
          38,
          19,
          66,
          20,
          10,
          5,
          14,
          9,
          3,
          19,
          33,
          111,
          35,
          34,
          8,
          24,
          22,
          1,
          37,
          29,
          17,
          24,
          24,
          1,
          7,
          4,
          32,
          46,
          49,
          115,
          39,
          103,
          2,
          5,
          98,
          182,
          42,
          40,
          35,
          146,
          84,
          47,
          5,
          34,
          35,
          19,
          12,
          209,
          203,
          34,
          43,
          28,
          77,
          35,
          11,
          42,
          218,
          28,
          28,
          16,
          15,
          7,
          1,
          134,
          45,
          49,
          76,
          42,
          28,
          42,
          12,
          36,
          16,
          13,
          135,
          20,
          8,
          133,
          28,
          138,
          14,
          1,
          47,
          141,
          40,
          209,
          38,
          28,
          95,
          13,
          42,
          139,
          23,
          11,
          145,
          29,
          33,
          26,
          42,
          133,
          24,
          14,
          140,
          20,
          11,
          35,
          28,
          5,
          107,
          100,
          40,
          38,
          3,
          4,
          19,
          48,
          23,
          5,
          102,
          29,
          209,
          135,
          3,
          28,
          15,
          32,
          4,
          21,
          23,
          2,
          47,
          9,
          26,
          42,
          18,
          37,
          13,
          143,
          8,
          125,
          100,
          14,
          111,
          16,
          24,
          26,
          49,
          205,
          26,
          19,
          15,
          45,
          35,
          41,
          46,
          36,
          14,
          27,
          41,
          25,
          12,
          21,
          5,
          108,
          21,
          42,
          10,
          16,
          4,
          23,
          142,
          18,
          17,
          19,
          19,
          38,
          80,
          37,
          112,
          13,
          5,
          1,
          41,
          45,
          4,
          43,
          34,
          49,
          1,
          21,
          107,
          5,
          9,
          126,
          1,
          43,
          16,
          1,
          168,
          16,
          18,
          5,
          28,
          67,
          16,
          64,
          18,
          78,
          27,
          14,
          40,
          66,
          24,
          12,
          23,
          88,
          2,
          15,
          44,
          14,
          10,
          28,
          18,
          21,
          5,
          37,
          161,
          95,
          114,
          29,
          22,
          34,
          12,
          7,
          31,
          26,
          14,
          48,
          15,
          18,
          16,
          14,
          2,
          9,
          7,
          11,
          44,
          15,
          3,
          48,
          42,
          27,
          31,
          20,
          6,
          21,
          12,
          17,
          3,
          4,
          18,
          129,
          25,
          22,
          21,
          9,
          37,
          86,
          7,
          40,
          77,
          154,
          16,
          21,
          36,
          64,
          2,
          42,
          64,
          86,
          17,
          40,
          3,
          44,
          87,
          96,
          25,
          11,
          34,
          67,
          70,
          32,
          16,
          28,
          41,
          15,
          135,
          45,
          195,
          29,
          7,
          4,
          94,
          16,
          8,
          93,
          41,
          4,
          105,
          4,
          25,
          10,
          16,
          125,
          21,
          95,
          9,
          26,
          24,
          27,
          177,
          41,
          5,
          191,
          49,
          14,
          7,
          25,
          142,
          39,
          17,
          126,
          20,
          17,
          21,
          222,
          19,
          3,
          14,
          6,
          16,
          2,
          42,
          111,
          26,
          42,
          33,
          29,
          140,
          38,
          31,
          18,
          24,
          36,
          12,
          139,
          29,
          22,
          12,
          1,
          28,
          12,
          12,
          39,
          118,
          5,
          94,
          36,
          23,
          49,
          69,
          91,
          11,
          24,
          12,
          44,
          63,
          37,
          84,
          6,
          29,
          2,
          125,
          11,
          12,
          9,
          16,
          26,
          23,
          107,
          4,
          167,
          8,
          36,
          117,
          33,
          21,
          18,
          17,
          27,
          105,
          43,
          46,
          22,
          27,
          14,
          29,
          2,
          17,
          45,
          132,
          13,
          21,
          27,
          28,
          39,
          21,
          20,
          5,
          19,
          22,
          36,
          61,
          22,
          29,
          17,
          13,
          130,
          48,
          27,
          5,
          17,
          114,
          4,
          20,
          9,
          171,
          24,
          17,
          24,
          14,
          22,
          18,
          9,
          33,
          104,
          4,
          10,
          17,
          161,
          77,
          29,
          2,
          37,
          22,
          7,
          7,
          19,
          11,
          21,
          27,
          146,
          3,
          47,
          19,
          106,
          11,
          49,
          123,
          19,
          110,
          78,
          89,
          43,
          5,
          25,
          41,
          22,
          138,
          79,
          6,
          25,
          39,
          10,
          27,
          23,
          15,
          27,
          7,
          15,
          1,
          44,
          10,
          27,
          16,
          26,
          14,
          8,
          42,
          10,
          15,
          3,
          34,
          44,
          32,
          16,
          27,
          26,
          28,
          4,
          38,
          2,
          14,
          11,
          17,
          13,
          48,
          26,
          40,
          39,
          13,
          42,
          39,
          1,
          96,
          92,
          29,
          38,
          8,
          67,
          143,
          36,
          91,
          11,
          118,
          36,
          13,
          14,
          28,
          32,
          114,
          36,
          29,
          5,
          39,
          6,
          17,
          17,
          24,
          34,
          42,
          17,
          15,
          20,
          46,
          45,
          27,
          42,
          45,
          1,
          21,
          23,
          31,
          102,
          145,
          22,
          128,
          33,
          17,
          21,
          23,
          16,
          21,
          32,
          18,
          16,
          43,
          8,
          3,
          16,
          17,
          62,
          28,
          9,
          127,
          12,
          22,
          27,
          3,
          19,
          8,
          132,
          42,
          118,
          5,
          19,
          48,
          19,
          4,
          47,
          208,
          12,
          49,
          1,
          77,
          11,
          8,
          48,
          21,
          42,
          33,
          44,
          44,
          15,
          5,
          43,
          70,
          6,
          62,
          1,
          10,
          4,
          21,
          25,
          14,
          19,
          27,
          23,
          23,
          39,
          47,
          12,
          8,
          40,
          24,
          20,
          33,
          14,
          14,
          5,
          27,
          15,
          10,
          1,
          28,
          13,
          17,
          13,
          23,
          38,
          228,
          15,
          33,
          141,
          12,
          48,
          36,
          23,
          44,
          13,
          17,
          9,
          118,
          13,
          44,
          123,
          22,
          13,
          12,
          14,
          2,
          16,
          26,
          26,
          24,
          11,
          12,
          36,
          32,
          92,
          129,
          22,
          15,
          18,
          1,
          1,
          12,
          126,
          1,
          10,
          12,
          4,
          9,
          124,
          16,
          122,
          12,
          3,
          194,
          92,
          45,
          15,
          199,
          42,
          29,
          45,
          35,
          24,
          45,
          87,
          100,
          27,
          13,
          21,
          103,
          29,
          41,
          42,
          32,
          8,
          3,
          33,
          23,
          35,
          31,
          22,
          88,
          38,
          140,
          17,
          43,
          9,
          49,
          19,
          20,
          12,
          6,
          46,
          15,
          187,
          3,
          144,
          39,
          24,
          10,
          24,
          27,
          2,
          103,
          38,
          13,
          37,
          91,
          41,
          123,
          128,
          18,
          12,
          31,
          21,
          14,
          33,
          28,
          27,
          10,
          46,
          23,
          19,
          64,
          19,
          39,
          21,
          13,
          23,
          8,
          101,
          219,
          31,
          68,
          47,
          36,
          26,
          17,
          4,
          25,
          6,
          11,
          216,
          189,
          17,
          11,
          38,
          25,
          24,
          29,
          3,
          21,
          15,
          2,
          34,
          3,
          13,
          78,
          218,
          40,
          9,
          18,
          34,
          11,
          48,
          44,
          80,
          18,
          10,
          9,
          7,
          15,
          80,
          22,
          26,
          142,
          48,
          39,
          7,
          35,
          29,
          7,
          19,
          32,
          49,
          11,
          22,
          48,
          26,
          205,
          15,
          18,
          143,
          28,
          176,
          4,
          34,
          35,
          24,
          26,
          20,
          15,
          5,
          43,
          87,
          26,
          29,
          40,
          3,
          16,
          1,
          29,
          3,
          24,
          43,
          46,
          13,
          14,
          41,
          22,
          42,
          44,
          8,
          206,
          44,
          12,
          19,
          20,
          17,
          148,
          32,
          21,
          22,
          7,
          6,
          43,
          25,
          16,
          169,
          114,
          162,
          17,
          14,
          3,
          18,
          25,
          14,
          7,
          209,
          19,
          29,
          42,
          36,
          12,
          89,
          112,
          10,
          12,
          140,
          31,
          29,
          10,
          12,
          3,
          62,
          14,
          17,
          117,
          9,
          27,
          18,
          27,
          99,
          21,
          3,
          9,
          23,
          45,
          25,
          43,
          11,
          27,
          6,
          19,
          46,
          2,
          31,
          25,
          28,
          36,
          7,
          76,
          211,
          145,
          17,
          23,
          49,
          204,
          68,
          22,
          32,
          24,
          97,
          95,
          82,
          26,
          27,
          12,
          181,
          38,
          14,
          21,
          29,
          16,
          99,
          18,
          19,
          9,
          9,
          138,
          4,
          21,
          17,
          29,
          36,
          36,
          47,
          33,
          8,
          119,
          1,
          17,
          22,
          48,
          37,
          27,
          103,
          47,
          108,
          23,
          28,
          82,
          10,
          19,
          40,
          48,
          177,
          1,
          32,
          24,
          4,
          25,
          29,
          21,
          7,
          10,
          105,
          5,
          21,
          44,
          98,
          1,
          3,
          21,
          17,
          26,
          3,
          28,
          19,
          13,
          44,
          99,
          6,
          6,
          21,
          16,
          49,
          72,
          4,
          87,
          195,
          191,
          2,
          27,
          48,
          17,
          13,
          25,
          28,
          1,
          27,
          14,
          34,
          123,
          45,
          37,
          107,
          24,
          16,
          9,
          67,
          33,
          4,
          18,
          46,
          15,
          2,
          25,
          35,
          2,
          43,
          44,
          11,
          38,
          5,
          3,
          36,
          32,
          2,
          7,
          138,
          124,
          12,
          31,
          131,
          8,
          21,
          28,
          14,
          42,
          36,
          46,
          9,
          4,
          47,
          32,
          33,
          41,
          12,
          15,
          107,
          2,
          34,
          40,
          12,
          110,
          47,
          6,
          136,
          20,
          38,
          8,
          37,
          43,
          11,
          109,
          13,
          3,
          12,
          16,
          25,
          42,
          34,
          5,
          42,
          162,
          43,
          32,
          22,
          32,
          26,
          27,
          45,
          4,
          18,
          41,
          22,
          9,
          21,
          19,
          11,
          25,
          5,
          108,
          24,
          22,
          77,
          9,
          7,
          20,
          44,
          67,
          14,
          41,
          19,
          42,
          10,
          19,
          12,
          22,
          27,
          43,
          22,
          152,
          43,
          1,
          42,
          32,
          49,
          110,
          14,
          32,
          49,
          3,
          19,
          5,
          36,
          28,
          43,
          21,
          61,
          2,
          7,
          14,
          26,
          16,
          6,
          6,
          49,
          32,
          3,
          3,
          16,
          90,
          142,
          37,
          29,
          75,
          20,
          20,
          36,
          14,
          23,
          46,
          11,
          34,
          46,
          20,
          24,
          18,
          1,
          43,
          46,
          10,
          3,
          143,
          117,
          44,
          29,
          49,
          2,
          26,
          2,
          25,
          48,
          86,
          2,
          160,
          36,
          49,
          113,
          11,
          80,
          2,
          18,
          9,
          28,
          14,
          36,
          11,
          23,
          3,
          22,
          37,
          1,
          1,
          13,
          21,
          41,
          33,
          46,
          18,
          65,
          34,
          19,
          24,
          33,
          37,
          45,
          7,
          46,
          20,
          42,
          42,
          106,
          106,
          13,
          44,
          146,
          136,
          39,
          122,
          36,
          25,
          47,
          12,
          23,
          3,
          15,
          12,
          193,
          13,
          22,
          4,
          6,
          9,
          14,
          43,
          125,
          26,
          12,
          8,
          3,
          23,
          10,
          29,
          32,
          46,
          29,
          89,
          9,
          48,
          36,
          22,
          62,
          6,
          48,
          35,
          2,
          5,
          142,
          40,
          27,
          23,
          42,
          5,
          29,
          5,
          13,
          44,
          32,
          141,
          31,
          93,
          47,
          2,
          21,
          26,
          28,
          41,
          18,
          18,
          71,
          18,
          3,
          47,
          34,
          4,
          45,
          24,
          7,
          24,
          13,
          45,
          98,
          37,
          3,
          12,
          18,
          12,
          28,
          11,
          1,
          13,
          21,
          39,
          22,
          24,
          18,
          38,
          8,
          4,
          4,
          18,
          40,
          11,
          8,
          9,
          41,
          36,
          7,
          23,
          13,
          35,
          1,
          35,
          2,
          8,
          28,
          29,
          13,
          27,
          38,
          191,
          45,
          29,
          34,
          46,
          221,
          10,
          26,
          76,
          23,
          27,
          200,
          195,
          29,
          35,
          15,
          12,
          7,
          19,
          3,
          229,
          44,
          170,
          16,
          26,
          28,
          43,
          16,
          94,
          17,
          22,
          6,
          34,
          23,
          2,
          42,
          9,
          8,
          40,
          22,
          18,
          144,
          130,
          40,
          127,
          8,
          20,
          13,
          45,
          9,
          15,
          45,
          25,
          25,
          1,
          18,
          21,
          11,
          12,
          84,
          27,
          27,
          10,
          168,
          10,
          5,
          23,
          47,
          35,
          31,
          25,
          153,
          17,
          12,
          25,
          193,
          42,
          95,
          16,
          97,
          38,
          48,
          38,
          7,
          205,
          28,
          99,
          16,
          16,
          23,
          8,
          40,
          9,
          9,
          29,
          49,
          25,
          35,
          23,
          192,
          23,
          19,
          25,
          4,
          24,
          33,
          12,
          157,
          19,
          14,
          45,
          9,
          1,
          41,
          10,
          29,
          7,
          1,
          16,
          25,
          72,
          45,
          32,
          5,
          77,
          41,
          9,
          1,
          5,
          7,
          8,
          11,
          70,
          18,
          9,
          10,
          6,
          147,
          45,
          144,
          90,
          48,
          34,
          29,
          15,
          16,
          20,
          11,
          199,
          24,
          22,
          47,
          4,
          147,
          15,
          13,
          4,
          9,
          177,
          31,
          15,
          37,
          13,
          24,
          92,
          109,
          11,
          29,
          8,
          14,
          11,
          18,
          9,
          7,
          18,
          9,
          12,
          19,
          23,
          22,
          17,
          12,
          177,
          24,
          40,
          25,
          45,
          18,
          39,
          24,
          15,
          2,
          29,
          46,
          27,
          26,
          1,
          12,
          47,
          33,
          17,
          4,
          33,
          19,
          48,
          3,
          130,
          9,
          3,
          44,
          7,
          33,
          12,
          6,
          28,
          21,
          84,
          4,
          10,
          13,
          36,
          12,
          37,
          22,
          49,
          9,
          43,
          21,
          32,
          43,
          8,
          32,
          46,
          7,
          85,
          47,
          18,
          25,
          25,
          45,
          9,
          1,
          27,
          6,
          9,
          3,
          34,
          45,
          28,
          29,
          18,
          15,
          5,
          8,
          10,
          149,
          29,
          48,
          29,
          24,
          44,
          49,
          23,
          26,
          8,
          17,
          16,
          41,
          49,
          19,
          118,
          25,
          17,
          26,
          20,
          15,
          44,
          29,
          13,
          11,
          28,
          35,
          36,
          43,
          38,
          43,
          140,
          42,
          20,
          35,
          19,
          37,
          20,
          11,
          48,
          27,
          18,
          39,
          8,
          13,
          74,
          17,
          44,
          26,
          79,
          147,
          12,
          45,
          19,
          41,
          3,
          21,
          47,
          25,
          19,
          157,
          17,
          37,
          19,
          1,
          35,
          46,
          14,
          128,
          1,
          46,
          12,
          10,
          29,
          165,
          27,
          18,
          92,
          43,
          98,
          48,
          11,
          29,
          5,
          32,
          1,
          24,
          29,
          9,
          34,
          38,
          14,
          118,
          17,
          90,
          62,
          70,
          33,
          23,
          9,
          122,
          28,
          24,
          22,
          45,
          15,
          4,
          83,
          45,
          44,
          31,
          25,
          45,
          26,
          26,
          8,
          22,
          38,
          28,
          2,
          28,
          119,
          12,
          123,
          13,
          1,
          91,
          26,
          42,
          15,
          21,
          7,
          40,
          45,
          25,
          105,
          26,
          13,
          29,
          108,
          33,
          6,
          8,
          25,
          20,
          20,
          46,
          3,
          88,
          49,
          11,
          5,
          29,
          91,
          145,
          7,
          100,
          14,
          20,
          22,
          36,
          11,
          12,
          3,
          49,
          4,
          112,
          12,
          46,
          46,
          16,
          17,
          16,
          5,
          29,
          38,
          10,
          1,
          27,
          18,
          6,
          22,
          144,
          24,
          27,
          12,
          15,
          138,
          22,
          14,
          1,
          3,
          4,
          1,
          20,
          20,
          109,
          32,
          27,
          31,
          7,
          72,
          39,
          40,
          22,
          26,
          9,
          18,
          24,
          4,
          47,
          17,
          11,
          12,
          17,
          170,
          67,
          2,
          111,
          14,
          18,
          102,
          18,
          76,
          2,
          8,
          15,
          64,
          23,
          35,
          15,
          27,
          38,
          2,
          20,
          3,
          25,
          143,
          3,
          10,
          31,
          27,
          2,
          13,
          46,
          28,
          13,
          16,
          21,
          81,
          6,
          15,
          11,
          26,
          3,
          15,
          3,
          2,
          17,
          12,
          18,
          18,
          49,
          4,
          26,
          70,
          29,
          16,
          9,
          21,
          21,
          18,
          12,
          48,
          13,
          21,
          117,
          2,
          17,
          20,
          27,
          23,
          22,
          89,
          8,
          25,
          17,
          102,
          15,
          18,
          28,
          34,
          113,
          202,
          19,
          37,
          18,
          29,
          36,
          23,
          18,
          11,
          20,
          22,
          9,
          32,
          48,
          100,
          19,
          97,
          6,
          21,
          24,
          11,
          16,
          14,
          20,
          12,
          41,
          44,
          20,
          47,
          9,
          7,
          26,
          23,
          9,
          17,
          4,
          105,
          97,
          4,
          2,
          15,
          29,
          8,
          12,
          21,
          31,
          21,
          20,
          27,
          14,
          5,
          23,
          20,
          12,
          39,
          23,
          2,
          10,
          207,
          78,
          3,
          2,
          36,
          28,
          6,
          2,
          2,
          44,
          46,
          25,
          7,
          12,
          13,
          12,
          7,
          24,
          28,
          16,
          134,
          24,
          1,
          17,
          29,
          7,
          21,
          41,
          15,
          44,
          15,
          209,
          49,
          35,
          41,
          4,
          22,
          19,
          14,
          23,
          25,
          46,
          26,
          2,
          31,
          49,
          45,
          46,
          27,
          3,
          26,
          43,
          39,
          1,
          144,
          25,
          32,
          37,
          12,
          23,
          11,
          13,
          174,
          24,
          42,
          34,
          12,
          24,
          5,
          12,
          31,
          49,
          76,
          10,
          120,
          6,
          36,
          31,
          16,
          9,
          7,
          17,
          19,
          43,
          28,
          40,
          1,
          7,
          21,
          10,
          10,
          14,
          13,
          12,
          4,
          35,
          31,
          5,
          18,
          39,
          11,
          11,
          12,
          15,
          24,
          5,
          14,
          29,
          29,
          48,
          8,
          24,
          22,
          42,
          4,
          25,
          17,
          18,
          33,
          49,
          29,
          13,
          19,
          139,
          18,
          11,
          15,
          25,
          24,
          39,
          16,
          7,
          49,
          12,
          13,
          27,
          23,
          24,
          98,
          67,
          115,
          7,
          46,
          122,
          16,
          9,
          4,
          25,
          28,
          27,
          25,
          31,
          3,
          19,
          102,
          27,
          10,
          21,
          5,
          11,
          42,
          6,
          16,
          6,
          26,
          29,
          10,
          29,
          28,
          100,
          20,
          67,
          77,
          61,
          2,
          5,
          18,
          21,
          115,
          8,
          18,
          2,
          16,
          31,
          24,
          27,
          43,
          8,
          27,
          49,
          37,
          45,
          47,
          65,
          14,
          40,
          17,
          46,
          222,
          26,
          28,
          39,
          38,
          16,
          34,
          41,
          46,
          146,
          1,
          2,
          19,
          9,
          8,
          14,
          69,
          26,
          38,
          3,
          42,
          18,
          48,
          23,
          31,
          18,
          2,
          27,
          17,
          7,
          13,
          48,
          23,
          35,
          10,
          18,
          15,
          5,
          14,
          15,
          44,
          25,
          24,
          22,
          5,
          19,
          41,
          5,
          10,
          47,
          135,
          15,
          19
         ]
        }
       ],
       "layout": {
        "barmode": "overlay",
        "legend": {
         "bgcolor": "#F5F6F9",
         "font": {
          "color": "#4D5663"
         }
        },
        "paper_bgcolor": "#F5F6F9",
        "plot_bgcolor": "#F5F6F9",
        "template": {
         "data": {
          "bar": [
           {
            "error_x": {
             "color": "#2a3f5f"
            },
            "error_y": {
             "color": "#2a3f5f"
            },
            "marker": {
             "line": {
              "color": "#E5ECF6",
              "width": 0.5
             },
             "pattern": {
              "fillmode": "overlay",
              "size": 10,
              "solidity": 0.2
             }
            },
            "type": "bar"
           }
          ],
          "barpolar": [
           {
            "marker": {
             "line": {
              "color": "#E5ECF6",
              "width": 0.5
             },
             "pattern": {
              "fillmode": "overlay",
              "size": 10,
              "solidity": 0.2
             }
            },
            "type": "barpolar"
           }
          ],
          "carpet": [
           {
            "aaxis": {
             "endlinecolor": "#2a3f5f",
             "gridcolor": "white",
             "linecolor": "white",
             "minorgridcolor": "white",
             "startlinecolor": "#2a3f5f"
            },
            "baxis": {
             "endlinecolor": "#2a3f5f",
             "gridcolor": "white",
             "linecolor": "white",
             "minorgridcolor": "white",
             "startlinecolor": "#2a3f5f"
            },
            "type": "carpet"
           }
          ],
          "choropleth": [
           {
            "colorbar": {
             "outlinewidth": 0,
             "ticks": ""
            },
            "type": "choropleth"
           }
          ],
          "contour": [
           {
            "colorbar": {
             "outlinewidth": 0,
             "ticks": ""
            },
            "colorscale": [
             [
              0,
              "#0d0887"
             ],
             [
              0.1111111111111111,
              "#46039f"
             ],
             [
              0.2222222222222222,
              "#7201a8"
             ],
             [
              0.3333333333333333,
              "#9c179e"
             ],
             [
              0.4444444444444444,
              "#bd3786"
             ],
             [
              0.5555555555555556,
              "#d8576b"
             ],
             [
              0.6666666666666666,
              "#ed7953"
             ],
             [
              0.7777777777777778,
              "#fb9f3a"
             ],
             [
              0.8888888888888888,
              "#fdca26"
             ],
             [
              1,
              "#f0f921"
             ]
            ],
            "type": "contour"
           }
          ],
          "contourcarpet": [
           {
            "colorbar": {
             "outlinewidth": 0,
             "ticks": ""
            },
            "type": "contourcarpet"
           }
          ],
          "heatmap": [
           {
            "colorbar": {
             "outlinewidth": 0,
             "ticks": ""
            },
            "colorscale": [
             [
              0,
              "#0d0887"
             ],
             [
              0.1111111111111111,
              "#46039f"
             ],
             [
              0.2222222222222222,
              "#7201a8"
             ],
             [
              0.3333333333333333,
              "#9c179e"
             ],
             [
              0.4444444444444444,
              "#bd3786"
             ],
             [
              0.5555555555555556,
              "#d8576b"
             ],
             [
              0.6666666666666666,
              "#ed7953"
             ],
             [
              0.7777777777777778,
              "#fb9f3a"
             ],
             [
              0.8888888888888888,
              "#fdca26"
             ],
             [
              1,
              "#f0f921"
             ]
            ],
            "type": "heatmap"
           }
          ],
          "heatmapgl": [
           {
            "colorbar": {
             "outlinewidth": 0,
             "ticks": ""
            },
            "colorscale": [
             [
              0,
              "#0d0887"
             ],
             [
              0.1111111111111111,
              "#46039f"
             ],
             [
              0.2222222222222222,
              "#7201a8"
             ],
             [
              0.3333333333333333,
              "#9c179e"
             ],
             [
              0.4444444444444444,
              "#bd3786"
             ],
             [
              0.5555555555555556,
              "#d8576b"
             ],
             [
              0.6666666666666666,
              "#ed7953"
             ],
             [
              0.7777777777777778,
              "#fb9f3a"
             ],
             [
              0.8888888888888888,
              "#fdca26"
             ],
             [
              1,
              "#f0f921"
             ]
            ],
            "type": "heatmapgl"
           }
          ],
          "histogram": [
           {
            "marker": {
             "pattern": {
              "fillmode": "overlay",
              "size": 10,
              "solidity": 0.2
             }
            },
            "type": "histogram"
           }
          ],
          "histogram2d": [
           {
            "colorbar": {
             "outlinewidth": 0,
             "ticks": ""
            },
            "colorscale": [
             [
              0,
              "#0d0887"
             ],
             [
              0.1111111111111111,
              "#46039f"
             ],
             [
              0.2222222222222222,
              "#7201a8"
             ],
             [
              0.3333333333333333,
              "#9c179e"
             ],
             [
              0.4444444444444444,
              "#bd3786"
             ],
             [
              0.5555555555555556,
              "#d8576b"
             ],
             [
              0.6666666666666666,
              "#ed7953"
             ],
             [
              0.7777777777777778,
              "#fb9f3a"
             ],
             [
              0.8888888888888888,
              "#fdca26"
             ],
             [
              1,
              "#f0f921"
             ]
            ],
            "type": "histogram2d"
           }
          ],
          "histogram2dcontour": [
           {
            "colorbar": {
             "outlinewidth": 0,
             "ticks": ""
            },
            "colorscale": [
             [
              0,
              "#0d0887"
             ],
             [
              0.1111111111111111,
              "#46039f"
             ],
             [
              0.2222222222222222,
              "#7201a8"
             ],
             [
              0.3333333333333333,
              "#9c179e"
             ],
             [
              0.4444444444444444,
              "#bd3786"
             ],
             [
              0.5555555555555556,
              "#d8576b"
             ],
             [
              0.6666666666666666,
              "#ed7953"
             ],
             [
              0.7777777777777778,
              "#fb9f3a"
             ],
             [
              0.8888888888888888,
              "#fdca26"
             ],
             [
              1,
              "#f0f921"
             ]
            ],
            "type": "histogram2dcontour"
           }
          ],
          "mesh3d": [
           {
            "colorbar": {
             "outlinewidth": 0,
             "ticks": ""
            },
            "type": "mesh3d"
           }
          ],
          "parcoords": [
           {
            "line": {
             "colorbar": {
              "outlinewidth": 0,
              "ticks": ""
             }
            },
            "type": "parcoords"
           }
          ],
          "pie": [
           {
            "automargin": true,
            "type": "pie"
           }
          ],
          "scatter": [
           {
            "marker": {
             "colorbar": {
              "outlinewidth": 0,
              "ticks": ""
             }
            },
            "type": "scatter"
           }
          ],
          "scatter3d": [
           {
            "line": {
             "colorbar": {
              "outlinewidth": 0,
              "ticks": ""
             }
            },
            "marker": {
             "colorbar": {
              "outlinewidth": 0,
              "ticks": ""
             }
            },
            "type": "scatter3d"
           }
          ],
          "scattercarpet": [
           {
            "marker": {
             "colorbar": {
              "outlinewidth": 0,
              "ticks": ""
             }
            },
            "type": "scattercarpet"
           }
          ],
          "scattergeo": [
           {
            "marker": {
             "colorbar": {
              "outlinewidth": 0,
              "ticks": ""
             }
            },
            "type": "scattergeo"
           }
          ],
          "scattergl": [
           {
            "marker": {
             "colorbar": {
              "outlinewidth": 0,
              "ticks": ""
             }
            },
            "type": "scattergl"
           }
          ],
          "scattermapbox": [
           {
            "marker": {
             "colorbar": {
              "outlinewidth": 0,
              "ticks": ""
             }
            },
            "type": "scattermapbox"
           }
          ],
          "scatterpolar": [
           {
            "marker": {
             "colorbar": {
              "outlinewidth": 0,
              "ticks": ""
             }
            },
            "type": "scatterpolar"
           }
          ],
          "scatterpolargl": [
           {
            "marker": {
             "colorbar": {
              "outlinewidth": 0,
              "ticks": ""
             }
            },
            "type": "scatterpolargl"
           }
          ],
          "scatterternary": [
           {
            "marker": {
             "colorbar": {
              "outlinewidth": 0,
              "ticks": ""
             }
            },
            "type": "scatterternary"
           }
          ],
          "surface": [
           {
            "colorbar": {
             "outlinewidth": 0,
             "ticks": ""
            },
            "colorscale": [
             [
              0,
              "#0d0887"
             ],
             [
              0.1111111111111111,
              "#46039f"
             ],
             [
              0.2222222222222222,
              "#7201a8"
             ],
             [
              0.3333333333333333,
              "#9c179e"
             ],
             [
              0.4444444444444444,
              "#bd3786"
             ],
             [
              0.5555555555555556,
              "#d8576b"
             ],
             [
              0.6666666666666666,
              "#ed7953"
             ],
             [
              0.7777777777777778,
              "#fb9f3a"
             ],
             [
              0.8888888888888888,
              "#fdca26"
             ],
             [
              1,
              "#f0f921"
             ]
            ],
            "type": "surface"
           }
          ],
          "table": [
           {
            "cells": {
             "fill": {
              "color": "#EBF0F8"
             },
             "line": {
              "color": "white"
             }
            },
            "header": {
             "fill": {
              "color": "#C8D4E3"
             },
             "line": {
              "color": "white"
             }
            },
            "type": "table"
           }
          ]
         },
         "layout": {
          "annotationdefaults": {
           "arrowcolor": "#2a3f5f",
           "arrowhead": 0,
           "arrowwidth": 1
          },
          "autotypenumbers": "strict",
          "coloraxis": {
           "colorbar": {
            "outlinewidth": 0,
            "ticks": ""
           }
          },
          "colorscale": {
           "diverging": [
            [
             0,
             "#8e0152"
            ],
            [
             0.1,
             "#c51b7d"
            ],
            [
             0.2,
             "#de77ae"
            ],
            [
             0.3,
             "#f1b6da"
            ],
            [
             0.4,
             "#fde0ef"
            ],
            [
             0.5,
             "#f7f7f7"
            ],
            [
             0.6,
             "#e6f5d0"
            ],
            [
             0.7,
             "#b8e186"
            ],
            [
             0.8,
             "#7fbc41"
            ],
            [
             0.9,
             "#4d9221"
            ],
            [
             1,
             "#276419"
            ]
           ],
           "sequential": [
            [
             0,
             "#0d0887"
            ],
            [
             0.1111111111111111,
             "#46039f"
            ],
            [
             0.2222222222222222,
             "#7201a8"
            ],
            [
             0.3333333333333333,
             "#9c179e"
            ],
            [
             0.4444444444444444,
             "#bd3786"
            ],
            [
             0.5555555555555556,
             "#d8576b"
            ],
            [
             0.6666666666666666,
             "#ed7953"
            ],
            [
             0.7777777777777778,
             "#fb9f3a"
            ],
            [
             0.8888888888888888,
             "#fdca26"
            ],
            [
             1,
             "#f0f921"
            ]
           ],
           "sequentialminus": [
            [
             0,
             "#0d0887"
            ],
            [
             0.1111111111111111,
             "#46039f"
            ],
            [
             0.2222222222222222,
             "#7201a8"
            ],
            [
             0.3333333333333333,
             "#9c179e"
            ],
            [
             0.4444444444444444,
             "#bd3786"
            ],
            [
             0.5555555555555556,
             "#d8576b"
            ],
            [
             0.6666666666666666,
             "#ed7953"
            ],
            [
             0.7777777777777778,
             "#fb9f3a"
            ],
            [
             0.8888888888888888,
             "#fdca26"
            ],
            [
             1,
             "#f0f921"
            ]
           ]
          },
          "colorway": [
           "#636efa",
           "#EF553B",
           "#00cc96",
           "#ab63fa",
           "#FFA15A",
           "#19d3f3",
           "#FF6692",
           "#B6E880",
           "#FF97FF",
           "#FECB52"
          ],
          "font": {
           "color": "#2a3f5f"
          },
          "geo": {
           "bgcolor": "white",
           "lakecolor": "white",
           "landcolor": "#E5ECF6",
           "showlakes": true,
           "showland": true,
           "subunitcolor": "white"
          },
          "hoverlabel": {
           "align": "left"
          },
          "hovermode": "closest",
          "mapbox": {
           "style": "light"
          },
          "paper_bgcolor": "white",
          "plot_bgcolor": "#E5ECF6",
          "polar": {
           "angularaxis": {
            "gridcolor": "white",
            "linecolor": "white",
            "ticks": ""
           },
           "bgcolor": "#E5ECF6",
           "radialaxis": {
            "gridcolor": "white",
            "linecolor": "white",
            "ticks": ""
           }
          },
          "scene": {
           "xaxis": {
            "backgroundcolor": "#E5ECF6",
            "gridcolor": "white",
            "gridwidth": 2,
            "linecolor": "white",
            "showbackground": true,
            "ticks": "",
            "zerolinecolor": "white"
           },
           "yaxis": {
            "backgroundcolor": "#E5ECF6",
            "gridcolor": "white",
            "gridwidth": 2,
            "linecolor": "white",
            "showbackground": true,
            "ticks": "",
            "zerolinecolor": "white"
           },
           "zaxis": {
            "backgroundcolor": "#E5ECF6",
            "gridcolor": "white",
            "gridwidth": 2,
            "linecolor": "white",
            "showbackground": true,
            "ticks": "",
            "zerolinecolor": "white"
           }
          },
          "shapedefaults": {
           "line": {
            "color": "#2a3f5f"
           }
          },
          "ternary": {
           "aaxis": {
            "gridcolor": "white",
            "linecolor": "white",
            "ticks": ""
           },
           "baxis": {
            "gridcolor": "white",
            "linecolor": "white",
            "ticks": ""
           },
           "bgcolor": "#E5ECF6",
           "caxis": {
            "gridcolor": "white",
            "linecolor": "white",
            "ticks": ""
           }
          },
          "title": {
           "x": 0.05
          },
          "xaxis": {
           "automargin": true,
           "gridcolor": "white",
           "linecolor": "white",
           "ticks": "",
           "title": {
            "standoff": 15
           },
           "zerolinecolor": "white",
           "zerolinewidth": 2
          },
          "yaxis": {
           "automargin": true,
           "gridcolor": "white",
           "linecolor": "white",
           "ticks": "",
           "title": {
            "standoff": 15
           },
           "zerolinecolor": "white",
           "zerolinewidth": 2
          }
         }
        },
        "title": {
         "font": {
          "color": "#4D5663"
         },
         "text": "Distribution of the number of seats for eating places in chains"
        },
        "xaxis": {
         "gridcolor": "#E1E5ED",
         "showgrid": true,
         "tickfont": {
          "color": "#4D5663"
         },
         "title": {
          "font": {
           "color": "#4D5663"
          },
          "text": "Number of Seats"
         },
         "zerolinecolor": "#E1E5ED"
        },
        "yaxis": {
         "gridcolor": "#E1E5ED",
         "showgrid": true,
         "tickfont": {
          "color": "#4D5663"
         },
         "title": {
          "font": {
           "color": "#4D5663"
          },
          "text": "Count"
         },
         "zerolinecolor": "#E1E5ED"
        }
       }
      },
      "text/html": [
       "<div>                            <div id=\"03a0098e-2981-431e-ac84-b9781c34bb30\" class=\"plotly-graph-div\" style=\"height:525px; width:100%;\"></div>            <script type=\"text/javascript\">                require([\"plotly\"], function(Plotly) {                    window.PLOTLYENV=window.PLOTLYENV || {};\n",
       "                    window.PLOTLYENV.BASE_URL='https://plot.ly';                                    if (document.getElementById(\"03a0098e-2981-431e-ac84-b9781c34bb30\")) {                    Plotly.newPlot(                        \"03a0098e-2981-431e-ac84-b9781c34bb30\",                        [{\"histfunc\":\"count\",\"histnorm\":\"\",\"marker\":{\"color\":\"rgba(110, 127, 41, 1.0)\",\"line\":{\"color\":\"#4D5663\",\"width\":1.3}},\"name\":\"number\",\"nbinsx\":40,\"opacity\":0.8,\"orientation\":\"v\",\"x\":[1,38,17,133,26,21,43,80,15,118,35,15,1,19,49,37,158,22,35,20,28,27,2,21,24,16,24,66,112,21,27,3,45,63,121,20,15,16,6,4,3,40,88,40,42,19,5,9,4,128,224,36,6,11,23,107,134,25,37,1,16,20,21,45,40,20,4,26,17,24,21,35,5,2,21,17,133,44,7,23,23,3,43,15,15,34,123,10,27,44,27,46,77,6,21,15,19,14,45,14,49,11,18,18,79,22,37,12,109,13,182,44,18,10,23,24,81,69,39,25,12,5,117,13,48,15,41,167,31,16,44,29,5,27,35,19,9,46,111,28,11,43,164,35,11,19,129,1,27,85,29,33,5,196,1,46,84,91,21,25,9,47,88,12,23,3,5,11,41,20,20,20,33,139,25,29,28,7,98,227,158,43,12,43,229,39,8,43,28,37,34,24,16,12,49,13,11,38,13,13,112,10,9,3,155,25,49,6,2,32,11,13,40,7,11,33,9,5,102,44,10,14,2,15,229,47,33,65,20,41,24,9,42,6,34,12,74,32,49,39,26,46,40,138,25,26,22,31,4,109,24,7,13,119,71,40,21,21,118,6,11,9,10,14,19,17,69,104,12,9,28,62,90,11,20,2,15,12,29,20,23,45,84,12,36,186,6,17,12,44,48,23,13,43,5,16,23,4,136,119,106,40,26,14,16,12,11,7,29,41,45,22,22,7,17,90,21,1,43,107,36,10,110,10,45,86,37,24,38,11,44,17,67,20,194,29,29,25,16,28,13,7,9,29,1,8,45,6,19,3,13,16,37,3,18,20,2,25,126,6,3,127,3,91,32,29,15,43,42,3,47,91,12,23,21,9,6,47,14,1,7,19,81,104,4,6,26,16,37,25,17,7,20,43,142,10,20,47,5,12,103,22,69,212,161,22,13,38,226,27,42,82,28,41,19,5,13,15,1,140,18,13,42,26,18,14,11,92,17,7,3,83,19,118,24,110,19,19,18,27,124,19,22,43,10,42,84,12,74,8,33,22,80,12,83,19,19,8,13,115,25,7,86,181,32,24,10,26,42,111,108,5,15,64,9,131,36,26,39,12,25,49,15,159,4,13,41,42,107,74,64,32,20,36,182,2,29,20,185,2,65,32,45,29,23,66,175,11,18,172,45,9,84,2,116,28,113,38,10,142,141,45,11,37,29,32,40,80,19,6,5,20,24,17,14,110,189,178,37,180,10,9,123,48,29,45,1,75,21,112,131,40,26,107,195,216,21,7,44,37,3,1,220,88,35,32,21,6,3,7,107,11,63,6,12,20,85,21,69,13,63,2,25,19,47,1,77,44,3,107,102,41,83,181,93,21,11,119,25,31,8,26,28,20,225,10,21,41,114,21,49,3,137,9,66,74,41,18,18,19,44,38,49,48,47,44,41,43,49,1,45,68,7,13,6,43,48,17,63,44,48,37,160,37,17,194,1,13,22,101,12,17,18,46,20,25,23,138,28,107,42,117,23,1,4,35,41,35,43,15,19,221,210,139,35,19,45,48,45,49,31,45,41,1,104,47,29,24,85,27,18,39,24,120,20,103,77,1,145,23,28,227,148,13,115,21,6,17,4,12,225,17,43,194,28,22,1,28,33,1,14,109,13,23,8,13,6,26,16,1,41,178,11,83,137,5,17,40,4,25,31,175,3,37,22,23,31,31,27,24,218,44,49,5,13,6,39,158,10,15,18,44,2,35,114,13,33,102,36,136,24,28,11,128,23,27,23,211,8,85,38,69,20,48,127,13,125,15,102,75,126,11,23,12,47,4,10,36,127,164,16,3,10,48,20,33,37,177,39,13,8,4,31,35,20,48,3,181,28,24,24,6,24,16,9,110,74,66,27,21,5,29,4,42,36,1,28,23,12,25,32,87,15,41,29,140,28,5,33,21,3,16,16,119,1,102,216,43,45,36,29,20,47,48,49,143,14,29,148,7,27,35,5,5,32,10,42,9,42,18,22,44,6,31,27,2,3,12,28,91,67,66,161,34,117,27,36,43,40,25,129,9,2,39,21,80,65,69,161,22,213,144,7,13,35,20,1,3,28,10,67,190,24,115,10,21,112,2,68,6,13,109,159,203,107,41,49,39,198,38,37,12,11,74,47,45,33,48,170,11,28,7,4,34,6,40,175,42,9,45,32,144,14,16,43,11,38,46,17,5,142,192,23,25,14,18,2,19,25,49,96,38,32,25,38,46,25,116,8,31,23,4,18,20,44,18,46,47,8,46,7,12,41,26,62,47,63,24,105,25,39,9,39,33,18,8,28,38,33,219,37,33,32,2,27,9,4,15,31,34,26,7,28,69,38,41,39,3,12,26,22,33,137,32,217,22,12,10,10,2,2,43,2,145,20,122,45,118,36,47,7,15,15,4,24,19,16,21,8,49,5,24,7,27,2,38,49,47,32,38,45,3,37,140,49,8,1,7,133,16,73,20,18,15,37,25,44,4,117,24,95,24,26,72,168,45,26,45,33,20,3,31,33,25,21,18,2,48,21,11,35,12,25,137,46,15,13,31,9,17,91,7,18,35,29,16,6,78,129,45,135,13,99,49,177,37,36,99,17,8,39,158,18,15,13,4,6,36,48,27,145,7,44,2,168,8,22,29,126,25,9,42,3,5,39,4,11,20,10,40,3,142,3,4,40,15,23,25,3,21,45,67,83,35,62,23,37,32,2,39,18,28,10,22,24,12,5,27,103,111,78,13,31,49,27,12,41,40,22,22,29,25,4,9,34,6,33,18,1,18,6,34,20,31,3,32,9,17,70,33,22,40,15,47,4,48,27,11,8,40,8,2,6,40,14,14,1,21,10,38,45,12,28,42,28,8,35,24,29,199,19,46,20,31,122,13,3,49,25,136,44,49,45,190,109,11,37,26,22,23,62,44,18,19,19,42,22,39,21,17,44,18,3,39,44,3,2,43,119,130,75,25,13,25,22,16,22,155,22,1,140,32,94,35,66,39,4,28,4,48,47,125,38,17,45,7,23,6,121,41,47,39,15,3,104,26,87,37,25,113,158,95,35,47,28,31,139,5,25,138,6,93,89,1,29,4,4,25,5,95,22,112,18,11,22,14,24,23,48,1,3,43,4,14,6,6,6,14,6,49,34,48,18,2,7,48,23,10,12,96,7,46,43,142,6,1,32,40,31,124,8,80,42,28,5,39,216,39,18,14,145,26,16,22,31,9,133,44,38,19,66,20,10,5,14,9,3,19,33,111,35,34,8,24,22,1,37,29,17,24,24,1,7,4,32,46,49,115,39,103,2,5,98,182,42,40,35,146,84,47,5,34,35,19,12,209,203,34,43,28,77,35,11,42,218,28,28,16,15,7,1,134,45,49,76,42,28,42,12,36,16,13,135,20,8,133,28,138,14,1,47,141,40,209,38,28,95,13,42,139,23,11,145,29,33,26,42,133,24,14,140,20,11,35,28,5,107,100,40,38,3,4,19,48,23,5,102,29,209,135,3,28,15,32,4,21,23,2,47,9,26,42,18,37,13,143,8,125,100,14,111,16,24,26,49,205,26,19,15,45,35,41,46,36,14,27,41,25,12,21,5,108,21,42,10,16,4,23,142,18,17,19,19,38,80,37,112,13,5,1,41,45,4,43,34,49,1,21,107,5,9,126,1,43,16,1,168,16,18,5,28,67,16,64,18,78,27,14,40,66,24,12,23,88,2,15,44,14,10,28,18,21,5,37,161,95,114,29,22,34,12,7,31,26,14,48,15,18,16,14,2,9,7,11,44,15,3,48,42,27,31,20,6,21,12,17,3,4,18,129,25,22,21,9,37,86,7,40,77,154,16,21,36,64,2,42,64,86,17,40,3,44,87,96,25,11,34,67,70,32,16,28,41,15,135,45,195,29,7,4,94,16,8,93,41,4,105,4,25,10,16,125,21,95,9,26,24,27,177,41,5,191,49,14,7,25,142,39,17,126,20,17,21,222,19,3,14,6,16,2,42,111,26,42,33,29,140,38,31,18,24,36,12,139,29,22,12,1,28,12,12,39,118,5,94,36,23,49,69,91,11,24,12,44,63,37,84,6,29,2,125,11,12,9,16,26,23,107,4,167,8,36,117,33,21,18,17,27,105,43,46,22,27,14,29,2,17,45,132,13,21,27,28,39,21,20,5,19,22,36,61,22,29,17,13,130,48,27,5,17,114,4,20,9,171,24,17,24,14,22,18,9,33,104,4,10,17,161,77,29,2,37,22,7,7,19,11,21,27,146,3,47,19,106,11,49,123,19,110,78,89,43,5,25,41,22,138,79,6,25,39,10,27,23,15,27,7,15,1,44,10,27,16,26,14,8,42,10,15,3,34,44,32,16,27,26,28,4,38,2,14,11,17,13,48,26,40,39,13,42,39,1,96,92,29,38,8,67,143,36,91,11,118,36,13,14,28,32,114,36,29,5,39,6,17,17,24,34,42,17,15,20,46,45,27,42,45,1,21,23,31,102,145,22,128,33,17,21,23,16,21,32,18,16,43,8,3,16,17,62,28,9,127,12,22,27,3,19,8,132,42,118,5,19,48,19,4,47,208,12,49,1,77,11,8,48,21,42,33,44,44,15,5,43,70,6,62,1,10,4,21,25,14,19,27,23,23,39,47,12,8,40,24,20,33,14,14,5,27,15,10,1,28,13,17,13,23,38,228,15,33,141,12,48,36,23,44,13,17,9,118,13,44,123,22,13,12,14,2,16,26,26,24,11,12,36,32,92,129,22,15,18,1,1,12,126,1,10,12,4,9,124,16,122,12,3,194,92,45,15,199,42,29,45,35,24,45,87,100,27,13,21,103,29,41,42,32,8,3,33,23,35,31,22,88,38,140,17,43,9,49,19,20,12,6,46,15,187,3,144,39,24,10,24,27,2,103,38,13,37,91,41,123,128,18,12,31,21,14,33,28,27,10,46,23,19,64,19,39,21,13,23,8,101,219,31,68,47,36,26,17,4,25,6,11,216,189,17,11,38,25,24,29,3,21,15,2,34,3,13,78,218,40,9,18,34,11,48,44,80,18,10,9,7,15,80,22,26,142,48,39,7,35,29,7,19,32,49,11,22,48,26,205,15,18,143,28,176,4,34,35,24,26,20,15,5,43,87,26,29,40,3,16,1,29,3,24,43,46,13,14,41,22,42,44,8,206,44,12,19,20,17,148,32,21,22,7,6,43,25,16,169,114,162,17,14,3,18,25,14,7,209,19,29,42,36,12,89,112,10,12,140,31,29,10,12,3,62,14,17,117,9,27,18,27,99,21,3,9,23,45,25,43,11,27,6,19,46,2,31,25,28,36,7,76,211,145,17,23,49,204,68,22,32,24,97,95,82,26,27,12,181,38,14,21,29,16,99,18,19,9,9,138,4,21,17,29,36,36,47,33,8,119,1,17,22,48,37,27,103,47,108,23,28,82,10,19,40,48,177,1,32,24,4,25,29,21,7,10,105,5,21,44,98,1,3,21,17,26,3,28,19,13,44,99,6,6,21,16,49,72,4,87,195,191,2,27,48,17,13,25,28,1,27,14,34,123,45,37,107,24,16,9,67,33,4,18,46,15,2,25,35,2,43,44,11,38,5,3,36,32,2,7,138,124,12,31,131,8,21,28,14,42,36,46,9,4,47,32,33,41,12,15,107,2,34,40,12,110,47,6,136,20,38,8,37,43,11,109,13,3,12,16,25,42,34,5,42,162,43,32,22,32,26,27,45,4,18,41,22,9,21,19,11,25,5,108,24,22,77,9,7,20,44,67,14,41,19,42,10,19,12,22,27,43,22,152,43,1,42,32,49,110,14,32,49,3,19,5,36,28,43,21,61,2,7,14,26,16,6,6,49,32,3,3,16,90,142,37,29,75,20,20,36,14,23,46,11,34,46,20,24,18,1,43,46,10,3,143,117,44,29,49,2,26,2,25,48,86,2,160,36,49,113,11,80,2,18,9,28,14,36,11,23,3,22,37,1,1,13,21,41,33,46,18,65,34,19,24,33,37,45,7,46,20,42,42,106,106,13,44,146,136,39,122,36,25,47,12,23,3,15,12,193,13,22,4,6,9,14,43,125,26,12,8,3,23,10,29,32,46,29,89,9,48,36,22,62,6,48,35,2,5,142,40,27,23,42,5,29,5,13,44,32,141,31,93,47,2,21,26,28,41,18,18,71,18,3,47,34,4,45,24,7,24,13,45,98,37,3,12,18,12,28,11,1,13,21,39,22,24,18,38,8,4,4,18,40,11,8,9,41,36,7,23,13,35,1,35,2,8,28,29,13,27,38,191,45,29,34,46,221,10,26,76,23,27,200,195,29,35,15,12,7,19,3,229,44,170,16,26,28,43,16,94,17,22,6,34,23,2,42,9,8,40,22,18,144,130,40,127,8,20,13,45,9,15,45,25,25,1,18,21,11,12,84,27,27,10,168,10,5,23,47,35,31,25,153,17,12,25,193,42,95,16,97,38,48,38,7,205,28,99,16,16,23,8,40,9,9,29,49,25,35,23,192,23,19,25,4,24,33,12,157,19,14,45,9,1,41,10,29,7,1,16,25,72,45,32,5,77,41,9,1,5,7,8,11,70,18,9,10,6,147,45,144,90,48,34,29,15,16,20,11,199,24,22,47,4,147,15,13,4,9,177,31,15,37,13,24,92,109,11,29,8,14,11,18,9,7,18,9,12,19,23,22,17,12,177,24,40,25,45,18,39,24,15,2,29,46,27,26,1,12,47,33,17,4,33,19,48,3,130,9,3,44,7,33,12,6,28,21,84,4,10,13,36,12,37,22,49,9,43,21,32,43,8,32,46,7,85,47,18,25,25,45,9,1,27,6,9,3,34,45,28,29,18,15,5,8,10,149,29,48,29,24,44,49,23,26,8,17,16,41,49,19,118,25,17,26,20,15,44,29,13,11,28,35,36,43,38,43,140,42,20,35,19,37,20,11,48,27,18,39,8,13,74,17,44,26,79,147,12,45,19,41,3,21,47,25,19,157,17,37,19,1,35,46,14,128,1,46,12,10,29,165,27,18,92,43,98,48,11,29,5,32,1,24,29,9,34,38,14,118,17,90,62,70,33,23,9,122,28,24,22,45,15,4,83,45,44,31,25,45,26,26,8,22,38,28,2,28,119,12,123,13,1,91,26,42,15,21,7,40,45,25,105,26,13,29,108,33,6,8,25,20,20,46,3,88,49,11,5,29,91,145,7,100,14,20,22,36,11,12,3,49,4,112,12,46,46,16,17,16,5,29,38,10,1,27,18,6,22,144,24,27,12,15,138,22,14,1,3,4,1,20,20,109,32,27,31,7,72,39,40,22,26,9,18,24,4,47,17,11,12,17,170,67,2,111,14,18,102,18,76,2,8,15,64,23,35,15,27,38,2,20,3,25,143,3,10,31,27,2,13,46,28,13,16,21,81,6,15,11,26,3,15,3,2,17,12,18,18,49,4,26,70,29,16,9,21,21,18,12,48,13,21,117,2,17,20,27,23,22,89,8,25,17,102,15,18,28,34,113,202,19,37,18,29,36,23,18,11,20,22,9,32,48,100,19,97,6,21,24,11,16,14,20,12,41,44,20,47,9,7,26,23,9,17,4,105,97,4,2,15,29,8,12,21,31,21,20,27,14,5,23,20,12,39,23,2,10,207,78,3,2,36,28,6,2,2,44,46,25,7,12,13,12,7,24,28,16,134,24,1,17,29,7,21,41,15,44,15,209,49,35,41,4,22,19,14,23,25,46,26,2,31,49,45,46,27,3,26,43,39,1,144,25,32,37,12,23,11,13,174,24,42,34,12,24,5,12,31,49,76,10,120,6,36,31,16,9,7,17,19,43,28,40,1,7,21,10,10,14,13,12,4,35,31,5,18,39,11,11,12,15,24,5,14,29,29,48,8,24,22,42,4,25,17,18,33,49,29,13,19,139,18,11,15,25,24,39,16,7,49,12,13,27,23,24,98,67,115,7,46,122,16,9,4,25,28,27,25,31,3,19,102,27,10,21,5,11,42,6,16,6,26,29,10,29,28,100,20,67,77,61,2,5,18,21,115,8,18,2,16,31,24,27,43,8,27,49,37,45,47,65,14,40,17,46,222,26,28,39,38,16,34,41,46,146,1,2,19,9,8,14,69,26,38,3,42,18,48,23,31,18,2,27,17,7,13,48,23,35,10,18,15,5,14,15,44,25,24,22,5,19,41,5,10,47,135,15,19],\"type\":\"histogram\"}],                        {\"barmode\":\"overlay\",\"legend\":{\"bgcolor\":\"#F5F6F9\",\"font\":{\"color\":\"#4D5663\"}},\"paper_bgcolor\":\"#F5F6F9\",\"plot_bgcolor\":\"#F5F6F9\",\"template\":{\"data\":{\"barpolar\":[{\"marker\":{\"line\":{\"color\":\"#E5ECF6\",\"width\":0.5},\"pattern\":{\"fillmode\":\"overlay\",\"size\":10,\"solidity\":0.2}},\"type\":\"barpolar\"}],\"bar\":[{\"error_x\":{\"color\":\"#2a3f5f\"},\"error_y\":{\"color\":\"#2a3f5f\"},\"marker\":{\"line\":{\"color\":\"#E5ECF6\",\"width\":0.5},\"pattern\":{\"fillmode\":\"overlay\",\"size\":10,\"solidity\":0.2}},\"type\":\"bar\"}],\"carpet\":[{\"aaxis\":{\"endlinecolor\":\"#2a3f5f\",\"gridcolor\":\"white\",\"linecolor\":\"white\",\"minorgridcolor\":\"white\",\"startlinecolor\":\"#2a3f5f\"},\"baxis\":{\"endlinecolor\":\"#2a3f5f\",\"gridcolor\":\"white\",\"linecolor\":\"white\",\"minorgridcolor\":\"white\",\"startlinecolor\":\"#2a3f5f\"},\"type\":\"carpet\"}],\"choropleth\":[{\"colorbar\":{\"outlinewidth\":0,\"ticks\":\"\"},\"type\":\"choropleth\"}],\"contourcarpet\":[{\"colorbar\":{\"outlinewidth\":0,\"ticks\":\"\"},\"type\":\"contourcarpet\"}],\"contour\":[{\"colorbar\":{\"outlinewidth\":0,\"ticks\":\"\"},\"colorscale\":[[0.0,\"#0d0887\"],[0.1111111111111111,\"#46039f\"],[0.2222222222222222,\"#7201a8\"],[0.3333333333333333,\"#9c179e\"],[0.4444444444444444,\"#bd3786\"],[0.5555555555555556,\"#d8576b\"],[0.6666666666666666,\"#ed7953\"],[0.7777777777777778,\"#fb9f3a\"],[0.8888888888888888,\"#fdca26\"],[1.0,\"#f0f921\"]],\"type\":\"contour\"}],\"heatmapgl\":[{\"colorbar\":{\"outlinewidth\":0,\"ticks\":\"\"},\"colorscale\":[[0.0,\"#0d0887\"],[0.1111111111111111,\"#46039f\"],[0.2222222222222222,\"#7201a8\"],[0.3333333333333333,\"#9c179e\"],[0.4444444444444444,\"#bd3786\"],[0.5555555555555556,\"#d8576b\"],[0.6666666666666666,\"#ed7953\"],[0.7777777777777778,\"#fb9f3a\"],[0.8888888888888888,\"#fdca26\"],[1.0,\"#f0f921\"]],\"type\":\"heatmapgl\"}],\"heatmap\":[{\"colorbar\":{\"outlinewidth\":0,\"ticks\":\"\"},\"colorscale\":[[0.0,\"#0d0887\"],[0.1111111111111111,\"#46039f\"],[0.2222222222222222,\"#7201a8\"],[0.3333333333333333,\"#9c179e\"],[0.4444444444444444,\"#bd3786\"],[0.5555555555555556,\"#d8576b\"],[0.6666666666666666,\"#ed7953\"],[0.7777777777777778,\"#fb9f3a\"],[0.8888888888888888,\"#fdca26\"],[1.0,\"#f0f921\"]],\"type\":\"heatmap\"}],\"histogram2dcontour\":[{\"colorbar\":{\"outlinewidth\":0,\"ticks\":\"\"},\"colorscale\":[[0.0,\"#0d0887\"],[0.1111111111111111,\"#46039f\"],[0.2222222222222222,\"#7201a8\"],[0.3333333333333333,\"#9c179e\"],[0.4444444444444444,\"#bd3786\"],[0.5555555555555556,\"#d8576b\"],[0.6666666666666666,\"#ed7953\"],[0.7777777777777778,\"#fb9f3a\"],[0.8888888888888888,\"#fdca26\"],[1.0,\"#f0f921\"]],\"type\":\"histogram2dcontour\"}],\"histogram2d\":[{\"colorbar\":{\"outlinewidth\":0,\"ticks\":\"\"},\"colorscale\":[[0.0,\"#0d0887\"],[0.1111111111111111,\"#46039f\"],[0.2222222222222222,\"#7201a8\"],[0.3333333333333333,\"#9c179e\"],[0.4444444444444444,\"#bd3786\"],[0.5555555555555556,\"#d8576b\"],[0.6666666666666666,\"#ed7953\"],[0.7777777777777778,\"#fb9f3a\"],[0.8888888888888888,\"#fdca26\"],[1.0,\"#f0f921\"]],\"type\":\"histogram2d\"}],\"histogram\":[{\"marker\":{\"pattern\":{\"fillmode\":\"overlay\",\"size\":10,\"solidity\":0.2}},\"type\":\"histogram\"}],\"mesh3d\":[{\"colorbar\":{\"outlinewidth\":0,\"ticks\":\"\"},\"type\":\"mesh3d\"}],\"parcoords\":[{\"line\":{\"colorbar\":{\"outlinewidth\":0,\"ticks\":\"\"}},\"type\":\"parcoords\"}],\"pie\":[{\"automargin\":true,\"type\":\"pie\"}],\"scatter3d\":[{\"line\":{\"colorbar\":{\"outlinewidth\":0,\"ticks\":\"\"}},\"marker\":{\"colorbar\":{\"outlinewidth\":0,\"ticks\":\"\"}},\"type\":\"scatter3d\"}],\"scattercarpet\":[{\"marker\":{\"colorbar\":{\"outlinewidth\":0,\"ticks\":\"\"}},\"type\":\"scattercarpet\"}],\"scattergeo\":[{\"marker\":{\"colorbar\":{\"outlinewidth\":0,\"ticks\":\"\"}},\"type\":\"scattergeo\"}],\"scattergl\":[{\"marker\":{\"colorbar\":{\"outlinewidth\":0,\"ticks\":\"\"}},\"type\":\"scattergl\"}],\"scattermapbox\":[{\"marker\":{\"colorbar\":{\"outlinewidth\":0,\"ticks\":\"\"}},\"type\":\"scattermapbox\"}],\"scatterpolargl\":[{\"marker\":{\"colorbar\":{\"outlinewidth\":0,\"ticks\":\"\"}},\"type\":\"scatterpolargl\"}],\"scatterpolar\":[{\"marker\":{\"colorbar\":{\"outlinewidth\":0,\"ticks\":\"\"}},\"type\":\"scatterpolar\"}],\"scatter\":[{\"marker\":{\"colorbar\":{\"outlinewidth\":0,\"ticks\":\"\"}},\"type\":\"scatter\"}],\"scatterternary\":[{\"marker\":{\"colorbar\":{\"outlinewidth\":0,\"ticks\":\"\"}},\"type\":\"scatterternary\"}],\"surface\":[{\"colorbar\":{\"outlinewidth\":0,\"ticks\":\"\"},\"colorscale\":[[0.0,\"#0d0887\"],[0.1111111111111111,\"#46039f\"],[0.2222222222222222,\"#7201a8\"],[0.3333333333333333,\"#9c179e\"],[0.4444444444444444,\"#bd3786\"],[0.5555555555555556,\"#d8576b\"],[0.6666666666666666,\"#ed7953\"],[0.7777777777777778,\"#fb9f3a\"],[0.8888888888888888,\"#fdca26\"],[1.0,\"#f0f921\"]],\"type\":\"surface\"}],\"table\":[{\"cells\":{\"fill\":{\"color\":\"#EBF0F8\"},\"line\":{\"color\":\"white\"}},\"header\":{\"fill\":{\"color\":\"#C8D4E3\"},\"line\":{\"color\":\"white\"}},\"type\":\"table\"}]},\"layout\":{\"annotationdefaults\":{\"arrowcolor\":\"#2a3f5f\",\"arrowhead\":0,\"arrowwidth\":1},\"autotypenumbers\":\"strict\",\"coloraxis\":{\"colorbar\":{\"outlinewidth\":0,\"ticks\":\"\"}},\"colorscale\":{\"diverging\":[[0,\"#8e0152\"],[0.1,\"#c51b7d\"],[0.2,\"#de77ae\"],[0.3,\"#f1b6da\"],[0.4,\"#fde0ef\"],[0.5,\"#f7f7f7\"],[0.6,\"#e6f5d0\"],[0.7,\"#b8e186\"],[0.8,\"#7fbc41\"],[0.9,\"#4d9221\"],[1,\"#276419\"]],\"sequential\":[[0.0,\"#0d0887\"],[0.1111111111111111,\"#46039f\"],[0.2222222222222222,\"#7201a8\"],[0.3333333333333333,\"#9c179e\"],[0.4444444444444444,\"#bd3786\"],[0.5555555555555556,\"#d8576b\"],[0.6666666666666666,\"#ed7953\"],[0.7777777777777778,\"#fb9f3a\"],[0.8888888888888888,\"#fdca26\"],[1.0,\"#f0f921\"]],\"sequentialminus\":[[0.0,\"#0d0887\"],[0.1111111111111111,\"#46039f\"],[0.2222222222222222,\"#7201a8\"],[0.3333333333333333,\"#9c179e\"],[0.4444444444444444,\"#bd3786\"],[0.5555555555555556,\"#d8576b\"],[0.6666666666666666,\"#ed7953\"],[0.7777777777777778,\"#fb9f3a\"],[0.8888888888888888,\"#fdca26\"],[1.0,\"#f0f921\"]]},\"colorway\":[\"#636efa\",\"#EF553B\",\"#00cc96\",\"#ab63fa\",\"#FFA15A\",\"#19d3f3\",\"#FF6692\",\"#B6E880\",\"#FF97FF\",\"#FECB52\"],\"font\":{\"color\":\"#2a3f5f\"},\"geo\":{\"bgcolor\":\"white\",\"lakecolor\":\"white\",\"landcolor\":\"#E5ECF6\",\"showlakes\":true,\"showland\":true,\"subunitcolor\":\"white\"},\"hoverlabel\":{\"align\":\"left\"},\"hovermode\":\"closest\",\"mapbox\":{\"style\":\"light\"},\"paper_bgcolor\":\"white\",\"plot_bgcolor\":\"#E5ECF6\",\"polar\":{\"angularaxis\":{\"gridcolor\":\"white\",\"linecolor\":\"white\",\"ticks\":\"\"},\"bgcolor\":\"#E5ECF6\",\"radialaxis\":{\"gridcolor\":\"white\",\"linecolor\":\"white\",\"ticks\":\"\"}},\"scene\":{\"xaxis\":{\"backgroundcolor\":\"#E5ECF6\",\"gridcolor\":\"white\",\"gridwidth\":2,\"linecolor\":\"white\",\"showbackground\":true,\"ticks\":\"\",\"zerolinecolor\":\"white\"},\"yaxis\":{\"backgroundcolor\":\"#E5ECF6\",\"gridcolor\":\"white\",\"gridwidth\":2,\"linecolor\":\"white\",\"showbackground\":true,\"ticks\":\"\",\"zerolinecolor\":\"white\"},\"zaxis\":{\"backgroundcolor\":\"#E5ECF6\",\"gridcolor\":\"white\",\"gridwidth\":2,\"linecolor\":\"white\",\"showbackground\":true,\"ticks\":\"\",\"zerolinecolor\":\"white\"}},\"shapedefaults\":{\"line\":{\"color\":\"#2a3f5f\"}},\"ternary\":{\"aaxis\":{\"gridcolor\":\"white\",\"linecolor\":\"white\",\"ticks\":\"\"},\"baxis\":{\"gridcolor\":\"white\",\"linecolor\":\"white\",\"ticks\":\"\"},\"bgcolor\":\"#E5ECF6\",\"caxis\":{\"gridcolor\":\"white\",\"linecolor\":\"white\",\"ticks\":\"\"}},\"title\":{\"x\":0.05},\"xaxis\":{\"automargin\":true,\"gridcolor\":\"white\",\"linecolor\":\"white\",\"ticks\":\"\",\"title\":{\"standoff\":15},\"zerolinecolor\":\"white\",\"zerolinewidth\":2},\"yaxis\":{\"automargin\":true,\"gridcolor\":\"white\",\"linecolor\":\"white\",\"ticks\":\"\",\"title\":{\"standoff\":15},\"zerolinecolor\":\"white\",\"zerolinewidth\":2}}},\"title\":{\"font\":{\"color\":\"#4D5663\"},\"text\":\"Distribution of the number of seats for eating places in chains\"},\"xaxis\":{\"gridcolor\":\"#E1E5ED\",\"showgrid\":true,\"tickfont\":{\"color\":\"#4D5663\"},\"title\":{\"font\":{\"color\":\"#4D5663\"},\"text\":\"Number of Seats\"},\"zerolinecolor\":\"#E1E5ED\"},\"yaxis\":{\"gridcolor\":\"#E1E5ED\",\"showgrid\":true,\"tickfont\":{\"color\":\"#4D5663\"},\"title\":{\"font\":{\"color\":\"#4D5663\"},\"text\":\"Count\"},\"zerolinecolor\":\"#E1E5ED\"}},                        {\"showLink\": true, \"linkText\": \"Export to plot.ly\", \"plotlyServerURL\": \"https://plot.ly\", \"responsive\": true}                    ).then(function(){\n",
       "                            \n",
       "var gd = document.getElementById('03a0098e-2981-431e-ac84-b9781c34bb30');\n",
       "var x = new MutationObserver(function (mutations, observer) {{\n",
       "        var display = window.getComputedStyle(gd).display;\n",
       "        if (!display || display === 'none') {{\n",
       "            console.log([gd, 'removed!']);\n",
       "            Plotly.purge(gd);\n",
       "            observer.disconnect();\n",
       "        }}\n",
       "}});\n",
       "\n",
       "// Listen for the removal of the full notebook cells\n",
       "var notebookContainer = gd.closest('#notebook-container');\n",
       "if (notebookContainer) {{\n",
       "    x.observe(notebookContainer, {childList: true});\n",
       "}}\n",
       "\n",
       "// Listen for the clearing of the current output cell\n",
       "var outputEl = gd.closest('.output');\n",
       "if (outputEl) {{\n",
       "    x.observe(outputEl, {childList: true});\n",
       "}}\n",
       "\n",
       "                        })                };                });            </script>        </div>"
      ]
     },
     "metadata": {},
     "output_type": "display_data"
    }
   ],
   "source": [
    "rest_data[rest_data['chain'] == True]['number'].iplot(kind='hist',\n",
    "                         xTitle='Number of Seats', yTitle='Count',\n",
    "                          title='Distribution of the number of seats for eating places in chains',\n",
    "                          color = '#6e7f29',\n",
    "                          bins = 40)"
   ]
  },
  {
   "cell_type": "code",
   "execution_count": 40,
   "id": "87256300",
   "metadata": {},
   "outputs": [
    {
     "data": {
      "application/vnd.plotly.v1+json": {
       "config": {
        "linkText": "Export to plot.ly",
        "plotlyServerURL": "https://plot.ly",
        "showLink": true
       },
       "data": [
        {
         "histfunc": "count",
         "histnorm": "",
         "marker": {
          "color": "rgba(231, 179, 0, 1.0)",
          "line": {
           "color": "#4D5663",
           "width": 1.3
          }
         },
         "name": "number",
         "nbinsx": 40,
         "opacity": 0.8,
         "orientation": "v",
         "type": "histogram",
         "x": [
          26,
          9,
          20,
          22,
          20,
          14,
          100,
          7,
          35,
          18,
          147,
          10,
          139,
          103,
          16,
          14,
          39,
          4,
          48,
          19,
          31,
          5,
          182,
          13,
          14,
          18,
          45,
          33,
          8,
          13,
          10,
          4,
          4,
          22,
          17,
          35,
          2,
          184,
          33,
          17,
          31,
          11,
          16,
          40,
          25,
          29,
          11,
          122,
          3,
          18,
          28,
          219,
          45,
          31,
          163,
          33,
          1,
          112,
          38,
          28,
          17,
          75,
          131,
          118,
          6,
          32,
          4,
          24,
          37,
          5,
          14,
          24,
          12,
          26,
          200,
          205,
          71,
          14,
          7,
          43,
          107,
          21,
          8,
          33,
          73,
          62,
          40,
          24,
          2,
          22,
          28,
          18,
          140,
          8,
          4,
          6,
          12,
          20,
          15,
          8,
          23,
          79,
          70,
          225,
          16,
          149,
          13,
          19,
          118,
          100,
          221,
          11,
          43,
          12,
          8,
          157,
          11,
          14,
          6,
          45,
          2,
          35,
          138,
          22,
          49,
          116,
          108,
          23,
          71,
          122,
          85,
          44,
          41,
          155,
          37,
          14,
          27,
          48,
          21,
          16,
          13,
          123,
          5,
          29,
          4,
          111,
          143,
          11,
          6,
          3,
          96,
          13,
          146,
          11,
          97,
          5,
          23,
          15,
          6,
          129,
          79,
          46,
          77,
          8,
          1,
          46,
          5,
          27,
          124,
          19,
          16,
          40,
          130,
          91,
          43,
          14,
          19,
          4,
          29,
          1,
          26,
          20,
          118,
          29,
          109,
          15,
          48,
          44,
          85,
          46,
          24,
          3,
          41,
          28,
          100,
          5,
          8,
          47,
          12,
          209,
          26,
          28,
          5,
          11,
          3,
          10,
          217,
          24,
          17,
          33,
          185,
          47,
          12,
          25,
          124,
          135,
          37,
          149,
          27,
          19,
          41,
          143,
          17,
          25,
          162,
          46,
          42,
          32,
          14,
          113,
          45,
          9,
          7,
          21,
          89,
          44,
          151,
          164,
          127,
          44,
          9,
          131,
          18,
          8,
          20,
          22,
          115,
          42,
          47,
          111,
          40,
          18,
          34,
          32,
          112,
          14,
          31,
          1,
          24,
          29,
          18,
          43,
          49,
          86,
          1,
          69,
          190,
          92,
          2,
          1,
          5,
          14,
          148,
          92,
          34,
          4,
          3,
          19,
          40,
          11,
          9,
          141,
          197,
          112,
          2,
          10,
          15,
          35,
          145,
          27,
          7,
          29,
          7,
          26,
          40,
          115,
          20,
          4,
          38,
          28,
          129,
          213,
          44,
          45,
          23,
          37,
          14,
          162,
          222,
          64,
          95,
          26,
          46,
          8,
          25,
          7,
          43,
          133,
          26,
          40,
          3,
          75,
          111,
          5,
          37,
          28,
          7,
          18,
          108,
          32,
          23,
          32,
          18,
          25,
          20,
          101,
          23,
          20,
          7,
          108,
          3,
          15,
          1,
          8,
          15,
          7,
          208,
          16,
          15,
          25,
          24,
          1,
          34,
          11,
          64,
          70,
          14,
          9,
          26,
          109,
          11,
          2,
          5,
          8,
          64,
          8,
          32,
          61,
          44,
          15,
          38,
          1,
          22,
          92,
          73,
          17,
          7,
          41,
          7,
          66,
          18,
          111,
          131,
          166,
          127,
          80,
          170,
          45,
          17,
          49,
          16,
          49,
          21,
          5,
          10,
          16,
          29,
          24,
          227,
          24,
          37,
          184,
          27,
          7,
          2,
          69,
          10,
          36,
          4,
          35,
          12,
          35,
          5,
          5,
          24,
          12,
          205,
          187,
          15,
          169,
          6,
          15,
          3,
          32,
          48,
          12,
          145,
          2,
          9,
          115,
          6,
          99,
          47,
          40,
          17,
          7,
          17,
          25,
          123,
          49,
          110,
          26,
          29,
          15,
          116,
          42,
          45,
          27,
          9,
          42,
          48,
          49,
          1,
          49,
          19,
          19,
          24,
          1,
          20,
          49,
          6,
          2,
          124,
          5,
          19,
          36,
          23,
          2,
          34,
          29,
          28,
          7,
          69,
          7,
          2,
          19,
          9,
          8,
          21,
          9,
          189,
          61,
          22,
          140,
          8,
          1,
          31,
          74,
          33,
          14,
          142,
          26,
          9,
          86,
          48,
          6,
          87,
          171,
          23,
          92,
          13,
          198,
          31,
          21,
          14,
          27,
          71,
          25,
          21,
          213,
          6,
          7,
          4,
          46,
          34,
          6,
          19,
          134,
          21,
          101,
          35,
          203,
          6,
          32,
          25,
          11,
          15,
          29,
          46,
          133,
          16,
          21,
          19,
          11,
          16,
          26,
          87,
          36,
          210,
          26,
          39,
          16,
          35,
          226,
          5,
          24,
          8,
          45,
          10,
          37,
          82,
          15,
          199,
          8,
          27,
          20,
          8,
          11,
          43,
          26,
          43,
          49,
          47,
          1,
          103,
          48,
          2,
          68,
          184,
          86,
          19,
          24,
          34,
          14,
          7,
          9,
          125,
          24,
          24,
          26,
          22,
          107,
          87,
          14,
          12,
          219,
          23,
          38,
          85,
          45,
          14,
          25,
          33,
          4,
          6,
          121,
          29,
          40,
          115,
          12,
          5,
          5,
          5,
          142,
          2,
          37,
          24,
          1,
          27,
          13,
          34,
          18,
          3,
          7,
          4,
          28,
          27,
          19,
          37,
          9,
          31,
          6,
          26,
          28,
          14,
          49,
          33,
          42,
          7,
          107,
          35,
          16,
          25,
          38,
          46,
          146,
          218,
          12,
          41,
          32,
          17,
          47,
          13,
          18,
          18,
          8,
          12,
          180,
          29,
          132,
          3,
          46,
          33,
          18,
          130,
          11,
          10,
          117,
          34,
          49,
          10,
          37,
          39,
          111,
          25,
          27,
          15,
          10,
          1,
          45,
          122,
          19,
          6,
          6,
          14,
          5,
          184,
          4,
          33,
          145,
          112,
          21,
          6,
          6,
          10,
          25,
          126,
          193,
          20,
          4,
          20,
          167,
          203,
          45,
          46,
          3,
          20,
          113,
          67,
          84,
          44,
          14,
          20,
          109,
          41,
          25,
          26,
          9,
          14,
          46,
          16,
          7,
          32,
          198,
          6,
          135,
          3,
          41,
          25,
          6,
          99,
          1,
          15,
          18,
          39,
          20,
          16,
          19,
          4,
          192,
          33,
          221,
          40,
          41,
          2,
          111,
          18,
          21,
          46,
          182,
          17,
          34,
          19,
          25,
          28,
          2,
          5,
          2,
          16,
          111,
          127,
          36,
          18,
          19,
          99,
          175,
          5,
          49,
          49,
          64,
          44,
          186,
          27,
          1,
          11,
          204,
          20,
          11,
          4,
          43,
          20,
          160,
          21,
          23,
          15,
          3,
          174,
          4,
          28,
          25,
          35,
          28,
          143,
          16,
          10,
          10,
          40,
          24,
          123,
          144,
          32,
          14,
          7,
          21,
          153,
          43,
          19,
          25,
          26,
          43,
          133,
          18,
          31,
          27,
          68,
          89,
          189,
          4,
          47,
          9,
          67,
          145,
          10,
          5,
          27,
          44,
          68,
          118,
          34,
          3,
          11,
          215,
          16,
          78,
          174,
          1,
          40,
          14,
          38,
          181,
          102,
          82,
          100,
          177,
          94,
          9,
          5,
          46,
          172,
          7,
          23,
          80,
          49,
          181,
          5,
          213,
          41,
          12,
          103,
          137,
          17,
          197,
          8,
          27,
          10,
          34,
          40,
          20,
          63,
          106,
          16,
          9,
          37,
          13,
          22,
          62,
          23,
          28,
          39,
          176,
          79,
          2,
          195,
          46,
          28,
          25,
          81,
          22,
          10,
          129,
          93,
          5,
          47,
          15,
          65,
          124,
          7,
          93,
          15,
          84,
          24,
          135,
          27,
          20,
          205,
          172,
          48,
          1,
          17,
          188,
          38,
          109,
          25,
          10,
          9,
          22,
          5,
          43,
          14,
          132,
          76,
          45,
          199,
          11,
          39,
          49,
          19,
          136,
          2,
          26,
          41,
          40,
          1,
          143,
          135,
          40,
          41,
          120,
          26,
          25,
          145,
          21,
          36,
          218,
          16,
          220,
          22,
          25,
          159,
          41,
          26,
          131,
          24,
          112,
          110,
          36,
          43,
          20,
          102,
          29,
          39,
          22,
          115,
          124,
          8,
          163,
          43,
          71,
          15,
          35,
          32,
          4,
          87,
          42,
          4,
          39,
          29,
          148,
          40,
          40,
          17,
          20,
          47,
          27,
          26,
          22,
          25,
          12,
          42,
          17,
          161,
          43,
          149,
          34,
          110,
          42,
          19,
          77,
          4,
          29,
          99,
          39,
          178,
          22,
          173,
          40,
          69,
          15,
          44,
          45,
          23,
          12,
          38,
          46,
          12,
          34,
          1,
          10,
          112,
          33,
          8,
          189,
          43,
          228,
          145,
          40,
          119,
          214,
          209,
          34,
          92,
          67,
          105,
          43,
          108,
          221,
          38,
          27,
          48,
          124,
          100,
          3,
          106,
          128,
          22,
          34,
          26,
          118,
          185,
          23,
          202,
          6,
          1,
          21,
          36,
          38,
          76,
          28,
          41,
          47,
          1,
          205,
          2,
          114,
          10,
          137,
          41,
          137,
          6,
          40,
          46,
          39,
          62,
          43,
          70,
          10,
          10,
          47,
          28,
          25,
          125,
          102,
          188,
          24,
          29,
          33,
          19,
          26,
          129,
          109,
          18,
          22,
          66,
          22,
          21,
          49,
          104,
          13,
          46,
          2,
          133,
          45,
          4,
          138,
          3,
          13,
          22,
          34,
          26,
          11,
          117,
          23,
          26,
          13,
          32,
          9,
          21,
          45,
          1,
          2,
          32,
          27,
          43,
          10,
          31,
          140,
          18,
          24,
          41,
          91,
          42,
          106,
          24,
          15,
          9,
          9,
          44,
          46,
          21,
          102,
          37,
          162,
          22,
          44,
          7,
          44,
          29,
          7,
          18,
          131,
          49,
          27,
          134,
          19,
          4,
          35,
          130,
          36,
          12,
          46,
          9,
          40,
          87,
          17,
          22,
          7,
          32,
          135,
          4,
          110,
          168,
          19,
          47,
          35,
          20,
          14,
          6,
          31,
          29,
          24,
          223,
          48,
          24,
          11,
          102,
          35,
          36,
          8,
          117,
          2,
          109,
          21,
          20,
          123,
          43,
          26,
          15,
          37,
          3,
          9,
          133,
          113,
          89,
          37,
          34,
          29,
          32,
          48,
          21,
          35,
          31,
          27,
          44,
          13,
          1,
          9,
          98,
          19,
          27,
          109,
          3,
          38,
          36,
          96,
          222,
          4,
          73,
          82,
          25,
          47,
          40,
          31,
          11,
          66,
          47,
          44,
          133,
          4,
          8,
          38,
          42,
          127,
          17,
          11,
          42,
          5,
          32,
          16,
          44,
          25,
          20,
          18,
          187,
          22,
          16,
          138,
          112,
          2,
          46,
          87,
          45,
          47,
          43,
          28,
          166,
          34,
          106,
          22,
          49,
          17,
          40,
          12,
          25,
          93,
          21,
          28,
          151,
          10,
          18,
          117,
          49,
          13,
          37,
          24,
          175,
          107,
          19,
          32,
          35,
          45,
          27,
          41,
          22,
          32,
          16,
          92,
          16,
          225,
          32,
          87,
          216,
          92,
          46,
          69,
          36,
          18,
          20,
          190,
          46,
          9,
          36,
          41,
          8,
          124,
          34,
          4,
          29,
          35,
          19,
          33,
          129,
          16,
          87,
          18,
          29,
          2,
          4,
          6,
          83,
          25,
          89,
          109,
          22,
          8,
          3,
          13,
          19,
          7,
          125,
          44,
          25,
          66,
          10,
          25,
          4,
          19,
          27,
          46,
          39,
          91,
          21,
          84,
          27,
          29,
          34,
          16,
          6,
          19,
          133,
          31,
          155,
          98,
          12,
          27,
          61,
          9,
          26,
          9,
          23,
          32,
          25,
          49,
          213,
          24,
          34,
          17,
          13,
          32,
          31,
          35,
          19,
          125,
          38,
          7,
          7,
          23,
          127,
          14,
          36,
          64,
          31,
          45,
          5,
          6,
          18,
          170,
          33,
          29,
          44,
          49,
          146,
          28,
          16,
          23,
          48,
          85,
          47,
          34,
          32,
          16,
          68,
          25,
          10,
          44,
          3,
          10,
          94,
          29,
          35,
          100,
          21,
          33,
          72,
          8,
          14,
          28,
          10,
          93,
          38,
          10,
          92,
          213,
          36,
          71,
          67,
          165,
          1,
          46,
          144,
          104,
          7,
          13,
          9,
          28,
          6,
          34,
          41,
          71,
          107,
          37,
          6,
          11,
          8,
          16,
          5,
          85,
          107,
          10,
          10,
          5,
          24,
          32,
          103,
          62,
          29,
          80,
          19,
          26,
          23,
          33,
          44,
          42,
          46,
          169,
          136,
          41,
          40,
          114,
          44,
          16,
          9,
          39,
          225,
          120,
          7,
          7,
          118,
          22,
          3,
          3,
          22,
          13,
          28,
          8,
          15,
          43,
          166,
          39,
          43,
          14,
          20,
          7,
          11,
          177,
          178,
          114,
          4,
          172,
          19,
          69,
          3,
          3,
          100,
          48,
          145,
          203,
          26,
          198,
          8,
          14,
          48,
          218,
          103,
          12,
          9,
          142,
          23,
          2,
          3,
          46,
          15,
          27,
          149,
          16,
          1,
          20,
          22,
          8,
          28,
          18,
          5,
          14,
          13,
          65,
          43,
          18,
          42,
          105,
          19,
          26,
          188,
          31,
          43,
          2,
          181,
          16,
          25,
          25,
          19,
          19,
          120,
          28,
          17,
          10,
          49,
          155,
          92,
          17,
          17,
          167,
          44,
          21,
          204,
          41,
          126,
          25,
          13,
          4,
          27,
          27,
          12,
          46,
          11,
          20,
          28,
          94,
          6,
          89,
          21,
          29,
          35,
          16,
          151,
          74,
          132,
          126,
          12,
          22,
          36,
          27,
          37,
          89,
          171,
          105,
          28,
          82,
          48,
          20,
          224,
          43,
          91,
          33,
          38,
          211,
          77,
          46,
          102,
          35,
          88,
          32,
          29,
          43,
          35,
          201,
          7,
          11,
          15,
          31,
          202,
          194,
          8,
          31,
          16,
          140,
          21,
          11,
          40,
          138,
          107,
          6,
          32,
          184,
          82,
          83,
          149,
          9,
          39,
          170,
          140,
          14,
          14,
          20,
          90,
          171,
          46,
          41,
          35,
          33,
          28,
          8,
          34,
          143,
          26,
          24,
          5,
          39,
          32,
          131,
          35,
          3,
          39,
          42,
          43,
          21,
          31,
          44,
          7,
          8,
          96,
          13,
          23,
          3,
          22,
          11,
          77,
          10,
          115,
          31,
          39,
          122,
          36,
          42,
          168,
          48,
          27,
          21,
          24,
          48,
          35,
          11,
          29,
          138,
          224,
          61,
          23,
          136,
          218,
          36,
          2,
          47,
          131,
          5,
          25,
          45,
          38,
          26,
          18,
          45,
          93,
          40,
          65,
          3,
          28,
          20,
          13,
          42,
          116,
          207,
          41,
          18,
          10,
          31,
          131,
          11,
          7,
          132,
          98,
          27,
          6,
          12,
          25,
          75,
          14,
          28,
          11,
          17,
          3,
          127,
          11,
          25,
          18,
          65,
          21,
          47,
          40,
          4,
          87,
          20,
          34,
          8,
          41,
          18,
          6,
          11,
          11,
          196,
          21,
          12,
          114,
          32,
          123,
          28,
          19,
          47,
          185,
          32,
          128,
          122,
          36,
          73,
          222,
          28,
          38,
          22,
          18,
          88,
          25,
          46,
          91,
          209,
          9,
          5,
          22,
          25,
          28,
          45,
          90,
          49,
          15,
          37,
          48,
          3,
          48,
          23,
          27,
          13,
          44,
          2,
          123,
          48,
          17,
          75,
          110,
          172,
          37,
          16,
          86,
          47,
          44,
          128,
          178,
          10,
          34,
          5,
          47,
          215,
          35,
          92,
          44,
          24,
          46,
          12,
          10,
          136,
          37,
          49,
          37,
          182,
          10,
          43,
          73,
          34,
          13,
          37,
          14,
          5,
          21,
          5,
          18,
          128,
          16,
          17,
          40,
          34,
          48,
          209,
          126,
          26,
          45,
          26,
          36,
          40,
          82,
          12,
          16,
          164,
          25,
          4,
          47,
          24,
          11,
          48,
          15,
          40,
          41,
          106,
          5,
          161,
          33,
          12,
          21,
          28,
          46,
          145,
          24,
          21,
          139,
          42,
          26,
          9,
          147,
          135,
          38,
          21,
          39,
          16,
          31,
          2,
          16,
          23,
          19,
          24,
          40,
          12,
          47,
          33,
          4,
          62,
          48,
          72,
          49,
          107,
          32,
          29,
          2,
          45,
          136,
          9,
          10,
          17,
          76,
          12,
          28,
          25,
          164,
          81,
          5,
          45,
          16,
          66,
          16,
          129,
          110,
          16,
          48,
          108,
          48,
          106,
          6,
          14,
          4,
          26,
          41,
          110,
          12,
          25,
          28,
          84,
          12,
          49,
          187,
          12,
          24,
          32,
          40,
          90,
          16,
          11,
          33,
          3,
          222,
          136,
          29,
          131,
          47,
          105,
          14,
          84,
          33,
          4,
          11,
          84,
          44,
          212,
          28,
          17,
          123,
          3,
          8,
          14,
          36,
          20,
          6,
          98,
          184,
          74,
          23,
          76,
          29,
          5,
          19,
          16,
          21,
          137,
          39,
          17,
          46,
          7,
          11,
          3,
          44,
          16,
          47,
          40,
          43,
          190,
          49,
          8,
          26,
          130,
          148,
          17,
          132,
          10,
          31,
          110,
          8,
          5,
          31,
          23,
          170,
          39,
          16,
          2,
          89,
          189,
          48,
          40,
          37,
          135,
          91,
          31,
          43,
          15,
          24,
          35,
          17,
          25,
          95,
          21,
          27,
          13,
          22,
          37,
          7,
          43,
          16,
          19,
          129,
          11,
          42,
          44,
          25,
          6,
          35,
          70,
          145,
          34,
          25,
          69,
          19,
          39,
          145,
          29,
          13,
          35,
          21,
          25,
          104,
          133,
          146,
          124,
          115,
          48,
          36,
          73,
          40,
          44,
          33,
          31,
          36,
          26,
          39,
          7,
          43,
          6,
          36,
          43,
          32,
          29,
          21,
          229,
          29,
          22,
          16,
          8,
          39,
          95,
          41,
          34,
          13,
          39,
          32,
          148,
          165,
          14,
          12,
          5,
          44,
          5,
          25,
          11,
          2,
          65,
          41,
          4,
          29,
          117,
          25,
          46,
          40,
          114,
          29,
          185,
          214,
          41,
          85,
          46,
          228,
          35,
          38,
          194,
          22,
          11,
          87,
          64,
          128,
          11,
          140,
          141,
          43,
          9,
          42,
          18,
          23,
          12,
          4,
          2,
          1,
          23,
          106,
          10,
          3,
          2,
          25,
          1,
          41,
          114,
          80,
          111,
          11,
          48,
          168,
          87,
          3,
          6,
          17,
          37,
          192,
          9,
          40,
          38,
          17,
          22,
          37,
          4,
          22,
          22,
          32,
          81,
          24,
          21,
          133,
          132,
          15,
          12,
          35,
          20,
          42,
          29,
          84,
          2,
          46,
          24,
          19,
          139,
          74,
          33,
          107,
          46,
          23,
          71,
          46,
          24,
          18,
          29,
          226,
          14,
          138,
          127,
          16,
          24,
          49,
          44,
          24,
          122,
          48,
          38,
          37,
          43,
          3,
          22,
          48,
          2,
          10,
          18,
          138,
          130,
          29,
          161,
          23,
          3,
          76,
          147,
          46,
          24,
          136,
          41,
          65,
          1,
          4,
          23,
          1,
          229,
          13,
          25,
          25,
          26,
          135,
          24,
          49,
          125,
          1,
          42,
          6,
          81,
          1,
          13,
          94,
          33,
          33,
          84,
          125,
          16,
          101,
          225,
          95,
          206,
          115,
          23,
          88,
          123,
          40,
          45,
          11,
          22,
          36,
          7,
          165,
          66,
          28,
          157,
          29,
          17,
          103,
          96,
          26,
          15,
          46,
          93,
          98,
          25,
          25,
          36,
          10,
          41,
          18,
          41,
          3,
          14,
          12,
          9,
          29,
          3,
          32,
          15,
          48,
          38,
          17,
          106,
          21,
          224,
          130,
          66,
          22,
          102,
          14,
          14,
          49,
          28,
          21,
          75,
          16,
          130,
          11,
          22,
          9,
          10,
          216,
          42,
          188,
          91,
          13,
          138,
          67,
          27,
          7,
          34,
          2,
          20,
          19,
          48,
          14,
          6,
          4,
          48,
          17,
          37,
          192,
          25,
          6,
          9,
          2,
          36,
          63,
          5,
          11,
          13,
          10,
          16,
          43,
          4,
          40,
          16,
          107,
          14,
          37,
          49,
          27,
          11,
          120,
          38,
          39,
          20,
          6,
          35,
          181,
          8,
          15,
          98,
          26,
          137,
          10,
          26,
          17,
          36,
          6,
          11,
          3,
          16,
          125,
          28,
          46,
          46,
          42,
          1,
          9,
          40,
          6,
          217,
          73,
          7,
          23,
          92,
          102,
          37,
          36,
          33,
          4,
          40,
          15,
          14,
          131,
          8,
          5,
          34,
          3,
          20,
          1,
          6,
          39,
          161,
          43,
          116,
          165,
          43,
          8,
          13,
          225,
          108,
          19,
          34,
          17,
          25,
          20,
          35,
          132,
          27,
          107,
          7,
          49,
          8,
          14,
          13,
          40,
          147,
          2,
          36,
          15,
          124,
          2,
          41,
          14,
          24,
          23,
          31,
          14,
          48,
          39,
          29,
          44,
          2,
          38,
          32,
          13,
          23,
          42,
          37,
          3,
          36,
          157,
          26,
          9,
          31,
          24,
          108,
          40,
          5,
          156,
          31,
          12,
          18,
          17,
          6,
          1,
          18,
          3,
          33,
          13,
          2,
          81,
          169,
          27,
          47,
          120,
          28,
          29,
          130,
          17,
          9,
          3,
          33,
          12,
          12,
          26,
          40,
          18,
          6,
          148,
          32,
          41,
          25,
          20,
          43,
          115,
          4,
          11,
          31,
          19,
          10,
          46,
          17,
          16,
          22,
          11,
          69,
          40,
          85,
          36,
          14,
          132,
          42,
          14,
          23,
          72,
          38,
          8,
          27,
          5,
          27,
          48,
          26,
          6,
          25,
          22,
          35,
          38,
          141,
          24,
          13,
          18,
          16,
          35,
          108,
          146,
          96,
          167,
          49,
          8,
          130,
          33,
          2,
          14,
          45,
          7,
          28,
          8,
          196,
          24,
          17,
          4,
          12,
          23,
          31,
          25,
          28,
          141,
          28,
          37,
          83,
          20,
          47,
          86,
          47,
          70,
          16,
          2,
          62,
          28,
          34,
          49,
          45,
          20,
          116,
          87,
          23,
          1,
          38,
          23,
          31,
          48,
          34,
          120,
          48,
          73,
          22,
          37,
          29,
          107,
          179,
          48,
          9,
          226,
          169,
          11,
          7,
          14,
          28,
          22,
          16,
          48,
          26,
          8,
          48,
          9,
          19,
          83,
          105,
          2,
          22,
          45,
          36,
          86,
          23,
          13,
          10,
          89,
          32,
          28,
          68,
          18,
          34,
          34,
          20,
          6,
          21,
          3,
          43,
          1,
          8,
          32,
          14,
          7,
          10,
          28,
          38,
          7,
          110,
          10,
          17,
          36,
          17,
          99,
          15,
          105,
          17,
          14,
          12,
          5,
          7,
          19,
          11,
          13,
          31,
          43,
          8,
          8,
          167,
          46,
          141,
          12,
          21,
          33,
          34,
          26,
          110,
          47,
          19,
          20,
          45,
          20,
          24,
          142,
          18,
          6,
          45,
          87,
          167,
          46,
          118,
          46,
          8,
          146,
          44,
          84,
          15,
          38,
          18,
          31,
          128,
          174,
          25,
          1,
          4,
          44,
          20,
          19,
          1,
          5,
          140,
          3,
          143,
          46,
          31,
          123,
          13,
          42,
          14,
          40,
          36,
          112,
          23,
          19,
          71,
          3,
          11,
          3,
          7,
          43,
          6,
          62,
          18,
          15,
          4,
          18,
          116,
          10,
          31,
          15,
          4,
          214,
          39,
          35,
          26,
          12,
          14,
          24,
          18,
          24,
          69,
          31,
          155,
          16,
          29,
          8,
          88,
          83,
          35,
          39,
          27,
          27,
          7,
          26,
          6,
          12,
          5,
          31,
          29,
          111,
          5,
          7,
          27,
          32,
          31,
          13,
          177,
          9,
          24,
          3,
          10,
          14,
          28,
          39,
          13,
          2,
          10,
          61,
          118,
          8,
          23,
          36,
          19,
          44,
          1,
          37,
          1,
          69,
          3,
          31,
          158,
          11,
          42,
          49,
          28,
          96,
          102,
          3,
          219,
          18,
          155,
          38,
          22,
          14,
          33,
          122,
          47,
          98,
          37,
          2,
          121,
          22,
          46,
          65,
          46,
          26,
          128,
          8,
          13,
          67,
          15,
          42,
          38,
          13,
          45,
          44,
          65,
          118,
          92,
          15,
          5,
          48,
          35,
          20,
          25,
          10,
          45,
          8,
          42,
          21,
          45,
          192,
          73,
          111,
          11,
          21,
          140,
          47,
          17,
          15,
          14,
          23,
          136,
          25,
          40,
          186,
          4,
          17,
          44,
          36,
          25,
          38,
          29,
          4,
          46,
          143,
          2,
          18,
          7,
          48,
          18,
          23,
          5,
          229,
          74,
          11,
          9,
          33,
          10,
          42,
          10,
          49,
          26,
          144,
          47,
          212,
          29,
          32,
          19,
          122,
          22,
          42,
          20,
          35,
          17,
          125,
          6,
          16,
          95,
          12,
          19,
          18,
          9,
          44,
          192,
          19,
          193,
          47,
          101,
          19,
          26,
          28,
          104,
          14,
          8,
          2,
          22,
          16,
          139,
          2,
          13,
          120,
          1,
          15,
          39,
          28,
          11,
          36,
          27,
          143,
          129,
          10,
          24,
          29,
          2,
          87,
          6,
          43,
          8,
          20,
          14,
          162,
          39,
          112,
          9,
          27,
          8,
          14,
          8,
          120,
          46,
          63,
          19,
          13,
          39,
          11,
          25,
          6,
          16,
          23,
          29,
          29,
          7,
          12,
          5,
          21,
          46,
          6,
          27,
          5,
          123,
          75,
          24,
          8,
          48,
          115,
          27,
          11,
          9,
          44,
          3,
          46,
          27,
          25,
          16,
          6,
          35,
          4,
          49,
          35,
          6,
          114,
          26,
          21,
          146,
          16,
          229,
          76,
          146,
          40,
          2,
          26,
          4,
          74,
          27,
          19,
          17,
          1,
          13,
          182,
          35,
          33,
          80,
          110,
          67,
          42,
          43,
          103,
          24,
          3,
          210,
          6,
          82,
          25,
          35,
          2,
          102,
          46,
          16,
          48,
          25,
          31,
          36,
          12,
          18,
          147,
          19,
          107,
          8,
          116,
          32,
          18,
          44,
          41,
          27,
          43,
          36,
          22,
          27,
          26,
          3,
          18,
          6,
          209,
          28,
          25,
          9,
          49,
          36,
          24,
          10,
          25,
          192,
          166,
          17,
          38,
          1,
          20,
          11,
          116,
          5,
          38,
          88,
          32,
          121,
          114,
          20,
          40,
          25,
          10,
          31,
          29,
          208,
          14,
          32,
          3,
          35,
          21,
          4,
          6,
          19,
          26,
          8,
          31,
          27,
          34,
          29,
          43,
          47,
          25,
          11,
          17,
          43,
          25,
          1,
          37,
          23,
          117,
          5,
          21,
          130,
          37,
          6,
          8,
          9,
          14,
          33,
          26,
          43,
          21,
          15,
          10,
          17,
          29,
          26,
          21,
          29,
          8,
          8,
          49,
          29,
          35,
          41,
          89,
          38,
          81,
          229,
          71,
          32,
          108,
          139,
          48,
          155,
          86,
          31,
          10,
          67,
          28,
          11,
          5,
          32,
          24,
          40,
          95,
          4,
          5,
          48,
          47,
          17,
          188,
          91,
          10,
          24,
          18,
          189,
          130,
          2,
          25,
          71,
          41,
          118,
          10,
          44,
          195,
          29,
          15,
          159,
          48,
          46,
          4,
          10,
          6,
          20,
          42,
          11,
          17,
          5,
          24,
          227,
          12,
          14,
          42,
          33,
          6,
          7,
          6,
          16,
          20,
          16,
          6,
          110,
          24,
          9,
          29,
          25,
          9,
          42,
          21,
          27,
          37,
          27,
          10,
          148,
          106,
          20,
          5,
          8,
          32,
          198,
          12,
          5,
          17,
          28,
          165,
          29,
          73,
          41,
          138,
          34,
          33,
          207,
          130,
          64,
          163,
          9,
          7,
          65,
          3,
          71,
          40,
          26,
          37,
          21,
          188,
          9,
          5,
          68,
          39,
          17,
          164,
          19,
          16,
          27,
          7,
          47,
          96,
          106,
          37,
          43,
          34,
          134,
          40,
          21,
          3,
          26,
          11,
          14,
          12,
          130,
          31,
          14,
          170,
          19,
          3,
          23,
          31,
          8,
          19,
          46,
          4,
          27,
          7,
          5,
          20,
          108,
          82,
          11,
          19,
          7,
          18,
          12,
          15,
          9,
          3,
          120,
          38,
          26,
          45,
          5,
          14,
          44,
          117,
          48,
          38,
          32,
          28,
          11,
          34,
          119,
          45,
          23,
          14,
          8,
          45,
          24,
          9,
          8,
          7,
          125,
          29,
          145,
          40,
          43,
          10,
          201,
          122,
          84,
          2,
          8,
          15,
          29,
          114,
          36,
          46,
          34,
          6,
          18,
          31,
          17,
          19,
          31,
          187,
          24,
          15,
          22,
          39,
          5,
          37,
          93,
          147,
          46,
          18,
          63,
          49,
          33,
          23,
          48,
          82,
          129,
          105,
          8,
          44,
          42,
          10,
          38,
          27,
          73,
          143,
          5,
          17,
          20,
          19,
          11,
          41,
          26,
          9,
          92,
          24,
          31,
          21,
          40,
          44,
          23,
          124,
          40,
          8,
          32,
          3,
          170,
          2,
          1,
          66,
          26,
          13,
          4,
          92,
          17,
          18,
          25,
          31,
          25,
          39,
          39,
          2,
          43,
          17,
          15,
          14,
          26,
          5,
          2,
          17,
          68,
          25,
          16,
          32,
          2,
          31,
          27,
          151,
          23,
          21,
          189,
          36,
          5,
          1,
          44,
          43,
          35,
          34,
          4,
          5,
          11,
          36,
          118,
          29,
          28,
          29,
          225,
          102,
          43,
          183,
          8,
          23,
          24,
          29,
          107,
          7,
          23,
          71,
          29,
          7,
          25,
          7,
          49,
          20,
          20,
          6,
          26,
          131,
          17,
          24,
          34,
          124,
          14,
          21,
          34,
          24,
          12,
          11,
          27,
          11,
          27,
          153,
          3,
          29,
          14,
          106,
          138,
          29,
          3,
          1,
          83,
          19,
          123,
          24,
          11,
          31,
          182,
          20,
          182,
          11,
          49,
          26,
          34,
          7,
          32,
          24,
          15,
          43,
          43,
          94,
          69,
          123,
          19,
          44,
          41,
          41,
          19,
          16,
          6,
          12,
          42,
          32,
          18,
          9,
          74,
          144,
          18,
          14,
          2,
          2,
          90,
          42,
          23,
          4,
          34,
          19,
          27,
          38,
          5,
          29,
          32,
          20,
          227,
          1,
          12,
          27,
          14,
          45,
          46,
          70,
          96,
          8,
          26,
          34,
          24,
          136,
          26,
          142,
          15,
          3,
          31,
          152,
          203,
          121,
          153,
          32,
          9,
          13,
          4,
          11,
          33,
          19,
          33,
          44,
          48,
          1,
          2,
          24,
          15,
          39,
          28,
          32,
          22,
          4,
          210,
          47,
          45,
          28,
          6,
          18,
          40,
          12,
          98,
          208,
          85,
          31,
          154,
          6,
          13,
          12,
          27,
          29,
          6,
          29,
          21,
          25,
          46,
          21,
          28,
          11,
          26,
          165,
          27,
          25,
          148,
          5,
          162,
          25,
          41,
          12,
          34,
          81,
          49,
          37,
          144,
          1,
          42,
          70,
          38,
          23,
          21,
          37,
          17,
          25,
          41,
          18,
          5,
          35,
          78,
          19,
          17,
          23,
          43,
          24,
          15,
          13,
          13,
          83,
          14,
          156,
          25,
          27,
          17,
          18,
          23,
          19,
          140,
          218,
          25,
          44,
          29,
          29,
          14,
          13,
          7,
          7,
          15,
          29,
          12,
          34,
          27,
          72,
          1,
          18,
          28,
          15,
          42,
          34,
          39,
          8,
          15,
          4,
          76,
          47,
          41,
          228,
          35,
          5,
          23,
          38,
          4,
          13,
          20,
          27,
          13,
          9,
          17,
          5,
          1,
          23,
          5,
          39,
          74,
          2,
          16,
          20,
          105,
          74,
          69,
          98,
          1,
          20,
          12,
          5,
          132,
          33,
          1,
          45,
          159,
          49,
          5,
          34,
          17,
          20,
          1,
          146,
          5,
          10,
          16,
          23,
          10,
          5,
          12,
          49,
          10,
          19,
          28,
          27,
          21,
          21,
          5,
          19,
          64,
          149,
          103,
          41,
          40,
          24,
          1,
          27,
          21,
          63,
          141,
          2,
          28,
          11,
          199,
          23,
          43,
          220,
          11,
          134,
          14,
          26,
          43,
          13,
          136,
          17,
          19,
          28,
          22,
          75,
          20,
          3,
          38,
          21,
          143,
          12,
          24,
          151,
          86,
          7,
          8,
          129,
          16,
          45,
          11,
          40,
          210,
          13,
          21,
          19,
          33,
          33,
          1,
          190,
          18,
          141,
          13,
          45,
          155,
          44,
          33,
          49,
          123,
          100,
          47,
          33,
          17,
          5,
          44,
          37,
          1,
          16,
          24,
          138,
          13,
          2,
          152,
          37,
          2,
          67,
          23,
          138,
          42,
          4,
          101,
          22,
          17,
          88,
          19,
          8,
          27,
          41,
          22,
          17,
          7,
          49,
          3,
          15,
          25,
          28,
          44,
          28,
          6,
          38,
          49,
          42,
          31,
          47,
          5,
          10,
          178,
          40,
          194,
          14,
          13,
          38,
          10,
          48,
          5,
          44,
          37,
          13,
          37,
          28,
          34,
          3,
          176,
          2,
          16,
          28,
          12,
          14,
          7,
          213,
          141,
          2,
          82,
          1,
          29,
          25,
          23,
          17,
          5,
          28,
          46,
          37,
          26,
          63,
          43,
          45,
          9,
          34,
          43,
          110,
          26,
          81,
          34,
          10,
          17,
          192,
          11,
          34,
          28,
          34,
          34,
          42,
          191,
          1,
          83,
          37,
          224,
          129,
          36,
          5,
          38,
          44,
          144,
          33,
          35,
          38,
          48,
          46,
          44,
          15,
          31,
          34,
          15,
          9,
          29,
          135,
          18,
          42,
          45,
          36,
          23,
          65,
          44,
          128,
          25,
          21,
          28,
          37,
          41,
          28,
          72,
          133,
          6,
          23,
          39,
          39,
          1,
          19,
          140,
          16,
          83,
          43,
          113,
          82,
          6,
          42,
          33,
          15,
          2,
          40,
          10,
          34,
          47,
          10,
          18,
          25,
          19,
          19,
          200,
          116,
          31,
          15,
          3,
          43,
          19,
          26,
          123,
          36,
          20,
          15,
          3,
          23,
          24,
          27,
          37,
          132,
          139,
          90,
          21,
          4,
          1,
          4,
          31,
          16,
          15,
          46,
          24,
          13,
          18,
          14,
          47,
          45,
          31,
          25,
          19,
          147,
          18,
          71,
          5,
          34,
          2,
          36,
          35,
          119,
          43,
          6,
          48,
          5,
          34,
          34,
          78,
          6,
          93,
          43,
          19,
          19,
          6,
          15,
          19,
          143,
          20,
          25,
          111,
          32,
          39,
          24,
          16,
          21,
          46,
          11,
          2,
          27,
          11,
          21,
          46,
          7,
          15,
          3,
          15,
          1,
          3,
          116,
          13,
          62,
          27,
          49,
          21,
          14,
          21,
          86,
          26,
          3,
          39,
          33,
          40,
          20,
          16,
          6,
          48,
          79,
          7,
          14,
          41,
          38,
          19,
          13,
          12,
          28,
          38,
          8,
          3,
          43,
          6,
          46,
          20,
          111,
          48,
          106,
          29,
          12,
          8,
          2,
          25,
          15,
          130,
          143,
          133,
          15,
          20,
          223,
          29,
          17,
          46,
          3,
          47,
          34,
          14,
          18,
          92,
          4,
          47,
          36,
          40,
          1,
          26,
          105,
          219,
          116,
          28,
          219,
          40,
          6,
          133,
          2,
          61,
          20,
          2,
          12,
          7,
          10,
          48,
          16,
          42,
          46,
          32,
          9,
          4,
          72,
          25,
          101,
          26,
          226,
          7,
          46,
          9,
          39,
          41,
          35,
          9,
          26,
          26,
          69,
          22,
          4,
          104,
          11,
          5,
          32,
          19,
          96,
          5,
          5,
          36,
          4,
          29,
          8,
          48,
          141,
          12,
          19,
          16,
          14,
          25,
          90,
          31,
          18,
          17,
          28,
          42,
          14,
          136,
          29,
          23,
          22,
          47,
          38,
          37,
          103,
          25,
          4,
          27,
          43,
          33,
          3,
          3,
          6,
          27,
          226,
          62,
          8,
          10,
          23,
          46,
          1,
          17,
          43,
          215,
          41,
          27,
          1,
          227,
          193,
          26,
          31,
          5,
          49,
          9,
          42,
          139,
          3,
          37,
          44,
          108,
          132,
          12,
          24,
          47,
          26,
          20,
          45,
          1,
          43,
          20,
          38,
          34,
          24,
          2,
          182,
          23,
          36,
          7,
          39,
          9,
          27,
          171,
          186,
          35,
          39,
          9,
          2,
          68,
          39,
          2,
          11,
          15,
          20,
          160,
          23,
          39,
          12,
          33,
          42,
          105,
          34,
          137,
          7,
          26,
          111,
          109,
          45,
          18,
          1,
          15,
          37,
          2,
          3,
          199,
          23,
          26,
          23,
          25,
          36,
          32,
          28,
          33,
          18,
          19,
          35,
          11,
          13,
          10,
          45,
          36,
          43,
          33,
          5,
          2,
          34,
          4,
          13,
          133,
          28,
          76,
          133,
          36,
          98,
          44,
          9,
          97,
          15,
          88,
          5,
          141,
          76,
          13,
          8,
          44,
          6,
          42,
          33,
          3,
          4,
          14,
          42,
          36,
          35,
          47,
          103,
          16,
          105,
          25,
          125,
          112,
          6,
          37,
          29,
          12,
          161,
          16,
          34,
          37,
          36,
          46,
          47,
          14,
          18,
          49,
          31,
          136,
          1,
          1,
          35,
          135,
          100,
          15,
          2,
          42,
          15,
          168,
          11,
          97,
          6,
          15,
          160,
          48,
          39,
          26,
          19,
          22,
          21,
          2,
          23,
          137,
          10,
          23,
          19,
          46,
          28,
          24,
          31,
          37,
          37,
          12,
          26,
          65,
          47,
          17,
          216,
          13,
          31,
          19,
          156,
          227,
          143,
          124,
          28,
          184,
          172,
          4,
          83,
          16,
          6,
          33,
          9,
          87,
          11,
          75,
          14,
          34,
          13,
          21,
          46,
          23,
          13,
          33,
          28,
          12,
          6,
          18,
          22,
          16,
          22,
          107,
          28,
          6,
          35,
          49,
          27,
          27,
          36,
          33,
          14,
          19,
          9,
          6,
          44,
          3,
          43,
          1,
          152,
          16,
          31,
          19,
          1,
          25,
          169,
          165,
          9,
          32,
          9,
          13,
          15,
          26,
          92,
          6,
          33,
          22,
          21,
          37,
          132,
          34,
          44,
          162,
          20,
          26,
          43,
          92,
          29,
          19,
          31,
          41,
          7,
          9,
          31,
          17,
          29,
          28,
          2,
          48,
          67,
          22,
          36,
          43,
          46,
          87,
          24,
          43,
          48,
          11,
          9,
          125,
          14,
          20,
          103,
          7,
          9,
          12,
          11,
          213,
          6,
          74,
          42,
          1,
          10,
          16,
          41,
          23,
          4,
          18,
          14,
          41,
          22,
          20,
          13,
          86,
          12,
          25,
          16,
          32,
          62,
          44,
          27,
          26,
          88,
          12,
          21,
          86,
          15,
          22,
          18,
          17,
          36,
          25,
          12,
          25,
          22,
          25,
          19,
          85,
          23,
          63,
          28,
          47,
          113,
          33,
          135,
          48,
          13,
          32,
          29,
          14,
          225,
          13,
          186,
          21,
          133,
          48,
          31,
          33,
          101,
          84,
          18,
          11,
          204,
          11,
          110,
          49,
          48,
          42,
          37,
          29,
          42,
          9,
          16,
          35,
          167,
          20,
          25,
          15,
          27,
          10,
          42,
          103,
          223,
          7,
          5,
          127,
          90,
          20,
          10,
          46,
          28,
          45,
          16,
          11,
          10,
          27,
          24,
          12,
          28,
          45,
          18,
          29,
          97,
          22,
          17,
          146,
          14,
          63,
          16,
          35,
          35,
          2,
          43,
          224,
          14,
          45,
          136,
          1,
          1,
          5,
          69,
          45,
          24,
          23,
          112,
          36,
          19,
          89,
          13,
          120,
          7,
          27,
          9,
          19,
          14,
          34,
          39,
          42,
          25,
          128,
          16,
          31,
          132,
          36,
          29,
          22,
          9,
          11,
          66,
          48,
          159,
          90,
          31,
          29,
          12,
          38,
          21,
          126,
          28,
          25,
          10,
          43,
          76,
          136,
          94,
          34,
          10,
          192,
          14,
          41,
          43,
          1,
          47,
          33,
          101,
          31,
          15,
          8,
          9,
          12,
          44,
          3,
          1,
          105,
          22,
          148,
          4,
          7,
          20,
          32,
          10,
          5,
          44,
          43,
          148,
          12,
          45,
          63,
          5,
          207,
          6,
          146,
          31,
          27,
          19,
          3,
          185,
          202,
          15,
          27,
          20,
          16,
          89,
          97,
          115,
          28,
          44,
          8,
          44,
          23,
          3,
          20,
          227,
          18,
          137,
          11,
          47,
          12,
          80,
          19,
          40,
          5,
          14,
          10,
          17,
          3,
          43,
          4,
          21,
          28,
          27,
          29,
          10,
          6,
          156,
          91,
          15,
          6,
          18,
          18,
          11,
          27,
          5,
          117,
          116,
          21,
          11,
          2,
          7,
          27,
          46,
          84,
          11,
          8,
          39,
          3,
          9,
          28,
          14,
          25,
          28,
          43,
          39,
          33,
          21,
          114,
          94,
          191,
          35,
          16,
          39,
          16,
          3,
          2,
          3,
          28,
          49,
          19,
          24,
          148,
          22,
          44,
          45,
          35,
          29,
          85,
          95,
          32,
          6,
          10,
          27,
          36,
          14,
          23,
          69,
          8,
          70,
          47,
          23,
          8,
          10,
          95,
          9,
          14,
          22,
          11,
          34,
          10,
          8,
          148,
          143,
          20,
          93,
          71,
          40,
          8,
          45,
          137,
          18,
          26,
          12,
          19,
          1,
          20,
          27,
          149,
          33,
          12,
          25,
          198,
          7,
          2,
          137,
          133,
          39,
          27,
          28,
          24,
          17,
          116,
          16,
          44,
          9,
          132,
          23,
          4,
          22,
          1,
          11,
          3,
          16,
          19,
          146,
          36,
          40,
          36,
          28,
          11,
          37,
          38,
          18,
          11,
          27,
          15,
          1,
          20,
          214,
          21,
          20,
          70,
          8,
          3,
          29,
          22,
          4,
          17,
          15,
          49,
          8,
          7,
          2,
          46,
          47,
          219,
          38,
          40,
          23,
          84,
          41,
          92,
          3,
          11,
          43,
          16,
          39,
          99,
          24,
          7,
          27,
          37,
          213,
          10,
          35,
          21,
          29,
          110,
          5,
          34,
          35,
          81,
          15,
          134,
          4,
          48,
          26,
          108,
          174,
          19,
          123,
          143,
          19,
          1,
          16,
          10,
          10,
          35,
          34,
          10,
          18,
          35,
          1,
          27,
          23,
          20,
          45,
          13,
          7,
          48,
          43,
          10,
          42,
          25,
          42,
          32,
          21,
          4,
          137,
          41,
          171,
          34,
          8,
          6,
          69,
          47,
          29,
          46,
          42,
          82,
          16,
          7,
          1,
          18,
          28,
          26,
          33,
          37,
          10,
          49,
          49,
          1,
          11,
          27,
          33,
          39,
          12,
          1,
          11,
          27,
          99,
          48,
          66,
          41,
          23,
          46,
          90,
          23,
          23,
          46,
          101,
          111,
          27,
          100,
          1,
          43,
          1,
          101,
          11,
          31,
          46,
          20,
          19,
          32,
          18,
          12,
          16,
          29,
          32,
          10,
          40,
          6,
          146,
          23,
          11,
          43,
          27,
          43,
          48,
          29,
          4,
          125,
          8,
          2,
          3,
          1,
          5,
          21,
          12,
          6,
          113,
          5,
          7,
          28,
          68,
          8,
          70,
          41,
          18,
          9,
          24,
          16,
          20,
          127,
          90,
          16,
          130,
          37,
          2,
          4,
          9,
          6,
          12,
          47,
          44,
          63,
          92,
          42,
          43,
          44,
          5,
          13,
          26,
          36,
          42,
          20,
          21,
          17,
          8,
          17,
          19,
          18,
          48,
          17,
          6,
          74,
          37,
          39,
          23,
          40,
          12,
          75,
          5,
          45,
          49,
          10,
          19,
          29,
          1,
          87,
          8,
          49,
          49,
          16,
          32,
          7,
          42,
          10,
          35,
          5,
          19,
          45,
          8,
          216,
          43,
          134,
          107,
          24,
          91,
          3,
          11,
          6,
          27,
          9,
          44,
          2,
          20,
          9,
          48,
          33,
          13,
          47,
          4,
          188,
          28,
          172,
          5,
          31,
          29,
          140,
          8,
          90,
          19,
          21,
          35,
          81,
          63,
          46,
          192,
          10,
          118,
          9,
          43,
          5,
          46,
          4,
          10,
          8,
          43,
          78,
          24,
          20,
          27,
          32,
          112,
          49,
          48,
          42,
          25,
          2,
          5,
          17,
          46,
          4,
          21,
          38,
          33,
          33,
          33,
          42,
          34,
          34,
          1,
          11,
          133,
          159,
          11,
          6,
          31,
          29,
          11,
          3,
          134,
          1,
          4,
          19,
          88,
          8,
          4,
          13,
          25,
          17,
          6,
          18,
          24,
          22,
          45,
          68,
          46,
          13,
          1,
          9,
          10,
          22,
          105,
          40,
          12,
          44,
          14,
          214,
          3,
          92,
          18,
          35,
          48,
          11,
          23,
          11,
          45,
          9,
          46,
          42,
          23,
          11,
          10,
          48,
          22,
          92,
          135,
          205,
          5,
          108,
          15,
          26,
          38,
          17,
          22,
          125,
          22,
          17,
          36,
          106,
          117,
          38,
          12,
          3,
          13,
          47,
          22,
          27,
          103,
          13,
          17,
          26,
          22,
          2,
          15,
          9,
          40,
          12,
          12,
          92,
          27,
          19,
          46,
          14,
          2,
          200,
          34,
          24,
          1,
          216,
          35,
          15,
          23,
          13,
          142,
          12,
          11,
          23,
          10,
          46,
          8,
          24,
          96,
          10,
          3,
          76,
          19,
          5,
          148,
          45,
          38,
          45,
          80,
          204,
          35,
          130,
          7,
          5,
          26,
          49,
          20,
          31,
          229,
          33,
          33,
          122,
          38,
          1,
          5,
          49,
          3,
          228,
          151,
          1,
          9,
          33,
          21,
          42,
          14,
          33,
          40,
          26,
          8,
          84,
          31,
          21,
          124,
          167,
          11,
          43,
          37,
          70,
          11,
          25,
          35,
          45,
          110,
          27,
          5,
          5,
          8,
          37,
          35,
          4,
          64,
          6,
          11,
          2,
          33,
          17,
          15,
          4,
          20,
          13,
          22,
          28,
          9,
          6,
          25,
          14,
          15,
          99,
          37,
          43,
          17,
          8,
          34,
          160,
          133,
          32,
          38,
          21,
          2,
          28,
          19,
          13,
          35,
          133,
          44,
          15,
          38,
          61,
          49,
          36,
          18,
          19,
          45,
          44,
          16,
          18,
          43,
          13,
          10,
          68,
          201,
          88,
          46,
          48,
          8,
          1,
          27,
          5,
          131,
          6,
          7,
          129,
          20,
          20,
          8,
          71,
          102,
          22,
          26,
          16,
          7,
          14,
          24,
          41,
          34,
          97,
          134,
          24,
          36,
          7,
          34,
          22,
          3,
          26,
          6,
          12,
          98,
          228,
          17,
          29,
          36,
          107,
          3,
          41,
          181,
          10,
          1,
          8,
          28,
          13,
          16,
          49,
          26,
          119,
          122,
          2,
          40,
          23,
          14,
          5,
          38,
          149,
          45,
          19,
          44,
          21,
          13,
          4,
          11,
          25,
          16,
          19,
          45,
          34,
          5,
          22,
          26,
          13,
          13,
          14,
          11,
          46,
          109,
          35,
          34,
          69,
          6,
          5,
          7,
          34,
          134,
          16,
          46,
          24,
          104,
          20,
          16,
          22,
          2,
          44,
          40,
          8,
          97,
          23,
          24,
          25,
          47,
          129,
          20,
          8,
          169,
          17,
          8,
          3,
          34,
          8,
          19,
          38,
          16,
          33,
          18,
          15,
          38,
          16,
          12,
          123,
          16,
          9,
          38,
          68,
          34,
          24,
          27,
          23,
          1,
          8,
          36,
          14,
          9,
          19,
          82,
          10,
          2,
          43,
          18,
          15,
          12,
          24,
          42,
          4,
          16,
          124,
          26,
          16,
          14,
          37,
          21,
          136,
          8,
          23,
          18,
          46,
          7,
          6,
          13,
          33,
          14,
          225,
          16,
          24,
          13,
          27,
          48,
          18,
          9,
          11,
          20,
          38,
          5,
          43,
          9,
          79,
          10,
          29,
          119,
          14,
          12,
          114,
          14,
          205,
          4,
          29,
          45,
          1,
          41,
          10,
          3,
          3,
          7,
          14,
          37,
          66,
          120,
          125,
          19,
          40,
          45,
          12,
          34,
          18,
          129,
          10,
          22,
          23,
          142,
          28,
          17,
          16,
          18,
          25,
          37,
          4,
          49,
          180,
          18,
          40,
          173,
          31,
          18,
          20,
          43,
          1,
          10,
          12,
          43,
          137,
          20,
          25,
          20,
          17,
          7,
          9,
          39,
          32,
          7,
          5,
          225,
          26,
          28,
          24,
          12,
          11,
          20,
          8,
          19,
          24,
          2,
          22,
          79,
          107,
          24,
          137,
          208,
          25,
          25,
          126,
          27,
          7,
          11,
          46,
          41,
          25,
          23,
          16,
          29,
          193,
          13,
          20,
          17,
          17,
          121,
          127,
          35,
          49,
          27,
          10,
          220,
          25,
          19,
          20,
          10,
          23,
          1,
          42,
          9,
          132,
          19,
          37,
          28,
          15,
          11,
          6,
          36,
          21,
          6,
          196,
          3,
          36,
          15,
          21,
          18,
          8,
          8,
          20,
          47,
          2,
          26,
          79,
          125,
          8,
          22,
          24,
          6,
          12,
          32,
          9,
          7,
          8,
          148,
          9,
          20,
          3,
          10,
          23,
          2,
          24,
          24,
          17,
          12,
          18,
          33,
          34,
          25,
          124,
          71,
          45,
          3,
          33,
          22,
          23,
          21,
          10,
          35,
          39,
          2,
          1,
          7,
          14,
          21,
          13,
          94,
          44,
          24,
          19,
          131,
          7,
          3,
          5,
          15,
          36,
          10,
          12,
          47,
          83,
          47,
          9,
          18,
          4,
          64,
          75,
          34,
          186,
          8,
          9,
          3,
          67,
          7,
          11,
          26,
          13,
          25,
          122,
          14,
          7,
          31,
          35,
          44,
          6,
          8,
          23,
          40,
          69,
          5,
          5,
          32,
          101,
          109,
          5,
          143,
          19,
          10,
          8,
          10,
          146,
          41,
          131,
          40,
          14,
          39,
          31,
          2,
          15,
          45,
          22,
          81,
          37,
          17,
          47,
          2,
          122,
          13,
          41,
          4,
          23,
          63,
          80,
          16,
          15,
          29,
          206,
          124,
          20,
          21,
          4,
          29,
          145,
          44,
          8,
          42,
          24,
          23,
          17,
          40,
          13,
          138,
          6,
          17,
          3,
          37,
          76,
          20,
          19,
          12,
          29,
          40,
          90,
          20,
          1,
          26,
          1,
          35,
          1,
          29,
          146,
          26,
          135,
          35,
          105,
          11,
          17,
          42,
          20,
          39,
          10,
          1,
          22,
          5,
          6,
          2,
          28,
          1,
          24,
          32,
          15,
          33,
          70,
          44,
          1,
          21,
          4,
          10,
          28,
          9,
          42,
          21,
          4,
          76,
          12,
          22,
          41,
          40,
          29,
          101,
          2,
          9,
          44,
          15,
          4,
          49,
          15,
          5,
          15,
          19,
          25,
          24,
          225,
          122,
          93,
          6
         ]
        }
       ],
       "layout": {
        "barmode": "overlay",
        "legend": {
         "bgcolor": "#F5F6F9",
         "font": {
          "color": "#4D5663"
         }
        },
        "paper_bgcolor": "#F5F6F9",
        "plot_bgcolor": "#F5F6F9",
        "template": {
         "data": {
          "bar": [
           {
            "error_x": {
             "color": "#2a3f5f"
            },
            "error_y": {
             "color": "#2a3f5f"
            },
            "marker": {
             "line": {
              "color": "#E5ECF6",
              "width": 0.5
             },
             "pattern": {
              "fillmode": "overlay",
              "size": 10,
              "solidity": 0.2
             }
            },
            "type": "bar"
           }
          ],
          "barpolar": [
           {
            "marker": {
             "line": {
              "color": "#E5ECF6",
              "width": 0.5
             },
             "pattern": {
              "fillmode": "overlay",
              "size": 10,
              "solidity": 0.2
             }
            },
            "type": "barpolar"
           }
          ],
          "carpet": [
           {
            "aaxis": {
             "endlinecolor": "#2a3f5f",
             "gridcolor": "white",
             "linecolor": "white",
             "minorgridcolor": "white",
             "startlinecolor": "#2a3f5f"
            },
            "baxis": {
             "endlinecolor": "#2a3f5f",
             "gridcolor": "white",
             "linecolor": "white",
             "minorgridcolor": "white",
             "startlinecolor": "#2a3f5f"
            },
            "type": "carpet"
           }
          ],
          "choropleth": [
           {
            "colorbar": {
             "outlinewidth": 0,
             "ticks": ""
            },
            "type": "choropleth"
           }
          ],
          "contour": [
           {
            "colorbar": {
             "outlinewidth": 0,
             "ticks": ""
            },
            "colorscale": [
             [
              0,
              "#0d0887"
             ],
             [
              0.1111111111111111,
              "#46039f"
             ],
             [
              0.2222222222222222,
              "#7201a8"
             ],
             [
              0.3333333333333333,
              "#9c179e"
             ],
             [
              0.4444444444444444,
              "#bd3786"
             ],
             [
              0.5555555555555556,
              "#d8576b"
             ],
             [
              0.6666666666666666,
              "#ed7953"
             ],
             [
              0.7777777777777778,
              "#fb9f3a"
             ],
             [
              0.8888888888888888,
              "#fdca26"
             ],
             [
              1,
              "#f0f921"
             ]
            ],
            "type": "contour"
           }
          ],
          "contourcarpet": [
           {
            "colorbar": {
             "outlinewidth": 0,
             "ticks": ""
            },
            "type": "contourcarpet"
           }
          ],
          "heatmap": [
           {
            "colorbar": {
             "outlinewidth": 0,
             "ticks": ""
            },
            "colorscale": [
             [
              0,
              "#0d0887"
             ],
             [
              0.1111111111111111,
              "#46039f"
             ],
             [
              0.2222222222222222,
              "#7201a8"
             ],
             [
              0.3333333333333333,
              "#9c179e"
             ],
             [
              0.4444444444444444,
              "#bd3786"
             ],
             [
              0.5555555555555556,
              "#d8576b"
             ],
             [
              0.6666666666666666,
              "#ed7953"
             ],
             [
              0.7777777777777778,
              "#fb9f3a"
             ],
             [
              0.8888888888888888,
              "#fdca26"
             ],
             [
              1,
              "#f0f921"
             ]
            ],
            "type": "heatmap"
           }
          ],
          "heatmapgl": [
           {
            "colorbar": {
             "outlinewidth": 0,
             "ticks": ""
            },
            "colorscale": [
             [
              0,
              "#0d0887"
             ],
             [
              0.1111111111111111,
              "#46039f"
             ],
             [
              0.2222222222222222,
              "#7201a8"
             ],
             [
              0.3333333333333333,
              "#9c179e"
             ],
             [
              0.4444444444444444,
              "#bd3786"
             ],
             [
              0.5555555555555556,
              "#d8576b"
             ],
             [
              0.6666666666666666,
              "#ed7953"
             ],
             [
              0.7777777777777778,
              "#fb9f3a"
             ],
             [
              0.8888888888888888,
              "#fdca26"
             ],
             [
              1,
              "#f0f921"
             ]
            ],
            "type": "heatmapgl"
           }
          ],
          "histogram": [
           {
            "marker": {
             "pattern": {
              "fillmode": "overlay",
              "size": 10,
              "solidity": 0.2
             }
            },
            "type": "histogram"
           }
          ],
          "histogram2d": [
           {
            "colorbar": {
             "outlinewidth": 0,
             "ticks": ""
            },
            "colorscale": [
             [
              0,
              "#0d0887"
             ],
             [
              0.1111111111111111,
              "#46039f"
             ],
             [
              0.2222222222222222,
              "#7201a8"
             ],
             [
              0.3333333333333333,
              "#9c179e"
             ],
             [
              0.4444444444444444,
              "#bd3786"
             ],
             [
              0.5555555555555556,
              "#d8576b"
             ],
             [
              0.6666666666666666,
              "#ed7953"
             ],
             [
              0.7777777777777778,
              "#fb9f3a"
             ],
             [
              0.8888888888888888,
              "#fdca26"
             ],
             [
              1,
              "#f0f921"
             ]
            ],
            "type": "histogram2d"
           }
          ],
          "histogram2dcontour": [
           {
            "colorbar": {
             "outlinewidth": 0,
             "ticks": ""
            },
            "colorscale": [
             [
              0,
              "#0d0887"
             ],
             [
              0.1111111111111111,
              "#46039f"
             ],
             [
              0.2222222222222222,
              "#7201a8"
             ],
             [
              0.3333333333333333,
              "#9c179e"
             ],
             [
              0.4444444444444444,
              "#bd3786"
             ],
             [
              0.5555555555555556,
              "#d8576b"
             ],
             [
              0.6666666666666666,
              "#ed7953"
             ],
             [
              0.7777777777777778,
              "#fb9f3a"
             ],
             [
              0.8888888888888888,
              "#fdca26"
             ],
             [
              1,
              "#f0f921"
             ]
            ],
            "type": "histogram2dcontour"
           }
          ],
          "mesh3d": [
           {
            "colorbar": {
             "outlinewidth": 0,
             "ticks": ""
            },
            "type": "mesh3d"
           }
          ],
          "parcoords": [
           {
            "line": {
             "colorbar": {
              "outlinewidth": 0,
              "ticks": ""
             }
            },
            "type": "parcoords"
           }
          ],
          "pie": [
           {
            "automargin": true,
            "type": "pie"
           }
          ],
          "scatter": [
           {
            "marker": {
             "colorbar": {
              "outlinewidth": 0,
              "ticks": ""
             }
            },
            "type": "scatter"
           }
          ],
          "scatter3d": [
           {
            "line": {
             "colorbar": {
              "outlinewidth": 0,
              "ticks": ""
             }
            },
            "marker": {
             "colorbar": {
              "outlinewidth": 0,
              "ticks": ""
             }
            },
            "type": "scatter3d"
           }
          ],
          "scattercarpet": [
           {
            "marker": {
             "colorbar": {
              "outlinewidth": 0,
              "ticks": ""
             }
            },
            "type": "scattercarpet"
           }
          ],
          "scattergeo": [
           {
            "marker": {
             "colorbar": {
              "outlinewidth": 0,
              "ticks": ""
             }
            },
            "type": "scattergeo"
           }
          ],
          "scattergl": [
           {
            "marker": {
             "colorbar": {
              "outlinewidth": 0,
              "ticks": ""
             }
            },
            "type": "scattergl"
           }
          ],
          "scattermapbox": [
           {
            "marker": {
             "colorbar": {
              "outlinewidth": 0,
              "ticks": ""
             }
            },
            "type": "scattermapbox"
           }
          ],
          "scatterpolar": [
           {
            "marker": {
             "colorbar": {
              "outlinewidth": 0,
              "ticks": ""
             }
            },
            "type": "scatterpolar"
           }
          ],
          "scatterpolargl": [
           {
            "marker": {
             "colorbar": {
              "outlinewidth": 0,
              "ticks": ""
             }
            },
            "type": "scatterpolargl"
           }
          ],
          "scatterternary": [
           {
            "marker": {
             "colorbar": {
              "outlinewidth": 0,
              "ticks": ""
             }
            },
            "type": "scatterternary"
           }
          ],
          "surface": [
           {
            "colorbar": {
             "outlinewidth": 0,
             "ticks": ""
            },
            "colorscale": [
             [
              0,
              "#0d0887"
             ],
             [
              0.1111111111111111,
              "#46039f"
             ],
             [
              0.2222222222222222,
              "#7201a8"
             ],
             [
              0.3333333333333333,
              "#9c179e"
             ],
             [
              0.4444444444444444,
              "#bd3786"
             ],
             [
              0.5555555555555556,
              "#d8576b"
             ],
             [
              0.6666666666666666,
              "#ed7953"
             ],
             [
              0.7777777777777778,
              "#fb9f3a"
             ],
             [
              0.8888888888888888,
              "#fdca26"
             ],
             [
              1,
              "#f0f921"
             ]
            ],
            "type": "surface"
           }
          ],
          "table": [
           {
            "cells": {
             "fill": {
              "color": "#EBF0F8"
             },
             "line": {
              "color": "white"
             }
            },
            "header": {
             "fill": {
              "color": "#C8D4E3"
             },
             "line": {
              "color": "white"
             }
            },
            "type": "table"
           }
          ]
         },
         "layout": {
          "annotationdefaults": {
           "arrowcolor": "#2a3f5f",
           "arrowhead": 0,
           "arrowwidth": 1
          },
          "autotypenumbers": "strict",
          "coloraxis": {
           "colorbar": {
            "outlinewidth": 0,
            "ticks": ""
           }
          },
          "colorscale": {
           "diverging": [
            [
             0,
             "#8e0152"
            ],
            [
             0.1,
             "#c51b7d"
            ],
            [
             0.2,
             "#de77ae"
            ],
            [
             0.3,
             "#f1b6da"
            ],
            [
             0.4,
             "#fde0ef"
            ],
            [
             0.5,
             "#f7f7f7"
            ],
            [
             0.6,
             "#e6f5d0"
            ],
            [
             0.7,
             "#b8e186"
            ],
            [
             0.8,
             "#7fbc41"
            ],
            [
             0.9,
             "#4d9221"
            ],
            [
             1,
             "#276419"
            ]
           ],
           "sequential": [
            [
             0,
             "#0d0887"
            ],
            [
             0.1111111111111111,
             "#46039f"
            ],
            [
             0.2222222222222222,
             "#7201a8"
            ],
            [
             0.3333333333333333,
             "#9c179e"
            ],
            [
             0.4444444444444444,
             "#bd3786"
            ],
            [
             0.5555555555555556,
             "#d8576b"
            ],
            [
             0.6666666666666666,
             "#ed7953"
            ],
            [
             0.7777777777777778,
             "#fb9f3a"
            ],
            [
             0.8888888888888888,
             "#fdca26"
            ],
            [
             1,
             "#f0f921"
            ]
           ],
           "sequentialminus": [
            [
             0,
             "#0d0887"
            ],
            [
             0.1111111111111111,
             "#46039f"
            ],
            [
             0.2222222222222222,
             "#7201a8"
            ],
            [
             0.3333333333333333,
             "#9c179e"
            ],
            [
             0.4444444444444444,
             "#bd3786"
            ],
            [
             0.5555555555555556,
             "#d8576b"
            ],
            [
             0.6666666666666666,
             "#ed7953"
            ],
            [
             0.7777777777777778,
             "#fb9f3a"
            ],
            [
             0.8888888888888888,
             "#fdca26"
            ],
            [
             1,
             "#f0f921"
            ]
           ]
          },
          "colorway": [
           "#636efa",
           "#EF553B",
           "#00cc96",
           "#ab63fa",
           "#FFA15A",
           "#19d3f3",
           "#FF6692",
           "#B6E880",
           "#FF97FF",
           "#FECB52"
          ],
          "font": {
           "color": "#2a3f5f"
          },
          "geo": {
           "bgcolor": "white",
           "lakecolor": "white",
           "landcolor": "#E5ECF6",
           "showlakes": true,
           "showland": true,
           "subunitcolor": "white"
          },
          "hoverlabel": {
           "align": "left"
          },
          "hovermode": "closest",
          "mapbox": {
           "style": "light"
          },
          "paper_bgcolor": "white",
          "plot_bgcolor": "#E5ECF6",
          "polar": {
           "angularaxis": {
            "gridcolor": "white",
            "linecolor": "white",
            "ticks": ""
           },
           "bgcolor": "#E5ECF6",
           "radialaxis": {
            "gridcolor": "white",
            "linecolor": "white",
            "ticks": ""
           }
          },
          "scene": {
           "xaxis": {
            "backgroundcolor": "#E5ECF6",
            "gridcolor": "white",
            "gridwidth": 2,
            "linecolor": "white",
            "showbackground": true,
            "ticks": "",
            "zerolinecolor": "white"
           },
           "yaxis": {
            "backgroundcolor": "#E5ECF6",
            "gridcolor": "white",
            "gridwidth": 2,
            "linecolor": "white",
            "showbackground": true,
            "ticks": "",
            "zerolinecolor": "white"
           },
           "zaxis": {
            "backgroundcolor": "#E5ECF6",
            "gridcolor": "white",
            "gridwidth": 2,
            "linecolor": "white",
            "showbackground": true,
            "ticks": "",
            "zerolinecolor": "white"
           }
          },
          "shapedefaults": {
           "line": {
            "color": "#2a3f5f"
           }
          },
          "ternary": {
           "aaxis": {
            "gridcolor": "white",
            "linecolor": "white",
            "ticks": ""
           },
           "baxis": {
            "gridcolor": "white",
            "linecolor": "white",
            "ticks": ""
           },
           "bgcolor": "#E5ECF6",
           "caxis": {
            "gridcolor": "white",
            "linecolor": "white",
            "ticks": ""
           }
          },
          "title": {
           "x": 0.05
          },
          "xaxis": {
           "automargin": true,
           "gridcolor": "white",
           "linecolor": "white",
           "ticks": "",
           "title": {
            "standoff": 15
           },
           "zerolinecolor": "white",
           "zerolinewidth": 2
          },
          "yaxis": {
           "automargin": true,
           "gridcolor": "white",
           "linecolor": "white",
           "ticks": "",
           "title": {
            "standoff": 15
           },
           "zerolinecolor": "white",
           "zerolinewidth": 2
          }
         }
        },
        "title": {
         "font": {
          "color": "#4D5663"
         },
         "text": "Distribution of the number of seats for independent eating places"
        },
        "xaxis": {
         "gridcolor": "#E1E5ED",
         "showgrid": true,
         "tickfont": {
          "color": "#4D5663"
         },
         "title": {
          "font": {
           "color": "#4D5663"
          },
          "text": "Number of Seats"
         },
         "zerolinecolor": "#E1E5ED"
        },
        "yaxis": {
         "gridcolor": "#E1E5ED",
         "showgrid": true,
         "tickfont": {
          "color": "#4D5663"
         },
         "title": {
          "font": {
           "color": "#4D5663"
          },
          "text": "Count"
         },
         "zerolinecolor": "#E1E5ED"
        }
       }
      },
      "text/html": [
       "<div>                            <div id=\"024dc3a5-3461-4d3a-9931-1185fecde8bd\" class=\"plotly-graph-div\" style=\"height:525px; width:100%;\"></div>            <script type=\"text/javascript\">                require([\"plotly\"], function(Plotly) {                    window.PLOTLYENV=window.PLOTLYENV || {};\n",
       "                    window.PLOTLYENV.BASE_URL='https://plot.ly';                                    if (document.getElementById(\"024dc3a5-3461-4d3a-9931-1185fecde8bd\")) {                    Plotly.newPlot(                        \"024dc3a5-3461-4d3a-9931-1185fecde8bd\",                        [{\"histfunc\":\"count\",\"histnorm\":\"\",\"marker\":{\"color\":\"rgba(231, 179, 0, 1.0)\",\"line\":{\"color\":\"#4D5663\",\"width\":1.3}},\"name\":\"number\",\"nbinsx\":40,\"opacity\":0.8,\"orientation\":\"v\",\"x\":[26,9,20,22,20,14,100,7,35,18,147,10,139,103,16,14,39,4,48,19,31,5,182,13,14,18,45,33,8,13,10,4,4,22,17,35,2,184,33,17,31,11,16,40,25,29,11,122,3,18,28,219,45,31,163,33,1,112,38,28,17,75,131,118,6,32,4,24,37,5,14,24,12,26,200,205,71,14,7,43,107,21,8,33,73,62,40,24,2,22,28,18,140,8,4,6,12,20,15,8,23,79,70,225,16,149,13,19,118,100,221,11,43,12,8,157,11,14,6,45,2,35,138,22,49,116,108,23,71,122,85,44,41,155,37,14,27,48,21,16,13,123,5,29,4,111,143,11,6,3,96,13,146,11,97,5,23,15,6,129,79,46,77,8,1,46,5,27,124,19,16,40,130,91,43,14,19,4,29,1,26,20,118,29,109,15,48,44,85,46,24,3,41,28,100,5,8,47,12,209,26,28,5,11,3,10,217,24,17,33,185,47,12,25,124,135,37,149,27,19,41,143,17,25,162,46,42,32,14,113,45,9,7,21,89,44,151,164,127,44,9,131,18,8,20,22,115,42,47,111,40,18,34,32,112,14,31,1,24,29,18,43,49,86,1,69,190,92,2,1,5,14,148,92,34,4,3,19,40,11,9,141,197,112,2,10,15,35,145,27,7,29,7,26,40,115,20,4,38,28,129,213,44,45,23,37,14,162,222,64,95,26,46,8,25,7,43,133,26,40,3,75,111,5,37,28,7,18,108,32,23,32,18,25,20,101,23,20,7,108,3,15,1,8,15,7,208,16,15,25,24,1,34,11,64,70,14,9,26,109,11,2,5,8,64,8,32,61,44,15,38,1,22,92,73,17,7,41,7,66,18,111,131,166,127,80,170,45,17,49,16,49,21,5,10,16,29,24,227,24,37,184,27,7,2,69,10,36,4,35,12,35,5,5,24,12,205,187,15,169,6,15,3,32,48,12,145,2,9,115,6,99,47,40,17,7,17,25,123,49,110,26,29,15,116,42,45,27,9,42,48,49,1,49,19,19,24,1,20,49,6,2,124,5,19,36,23,2,34,29,28,7,69,7,2,19,9,8,21,9,189,61,22,140,8,1,31,74,33,14,142,26,9,86,48,6,87,171,23,92,13,198,31,21,14,27,71,25,21,213,6,7,4,46,34,6,19,134,21,101,35,203,6,32,25,11,15,29,46,133,16,21,19,11,16,26,87,36,210,26,39,16,35,226,5,24,8,45,10,37,82,15,199,8,27,20,8,11,43,26,43,49,47,1,103,48,2,68,184,86,19,24,34,14,7,9,125,24,24,26,22,107,87,14,12,219,23,38,85,45,14,25,33,4,6,121,29,40,115,12,5,5,5,142,2,37,24,1,27,13,34,18,3,7,4,28,27,19,37,9,31,6,26,28,14,49,33,42,7,107,35,16,25,38,46,146,218,12,41,32,17,47,13,18,18,8,12,180,29,132,3,46,33,18,130,11,10,117,34,49,10,37,39,111,25,27,15,10,1,45,122,19,6,6,14,5,184,4,33,145,112,21,6,6,10,25,126,193,20,4,20,167,203,45,46,3,20,113,67,84,44,14,20,109,41,25,26,9,14,46,16,7,32,198,6,135,3,41,25,6,99,1,15,18,39,20,16,19,4,192,33,221,40,41,2,111,18,21,46,182,17,34,19,25,28,2,5,2,16,111,127,36,18,19,99,175,5,49,49,64,44,186,27,1,11,204,20,11,4,43,20,160,21,23,15,3,174,4,28,25,35,28,143,16,10,10,40,24,123,144,32,14,7,21,153,43,19,25,26,43,133,18,31,27,68,89,189,4,47,9,67,145,10,5,27,44,68,118,34,3,11,215,16,78,174,1,40,14,38,181,102,82,100,177,94,9,5,46,172,7,23,80,49,181,5,213,41,12,103,137,17,197,8,27,10,34,40,20,63,106,16,9,37,13,22,62,23,28,39,176,79,2,195,46,28,25,81,22,10,129,93,5,47,15,65,124,7,93,15,84,24,135,27,20,205,172,48,1,17,188,38,109,25,10,9,22,5,43,14,132,76,45,199,11,39,49,19,136,2,26,41,40,1,143,135,40,41,120,26,25,145,21,36,218,16,220,22,25,159,41,26,131,24,112,110,36,43,20,102,29,39,22,115,124,8,163,43,71,15,35,32,4,87,42,4,39,29,148,40,40,17,20,47,27,26,22,25,12,42,17,161,43,149,34,110,42,19,77,4,29,99,39,178,22,173,40,69,15,44,45,23,12,38,46,12,34,1,10,112,33,8,189,43,228,145,40,119,214,209,34,92,67,105,43,108,221,38,27,48,124,100,3,106,128,22,34,26,118,185,23,202,6,1,21,36,38,76,28,41,47,1,205,2,114,10,137,41,137,6,40,46,39,62,43,70,10,10,47,28,25,125,102,188,24,29,33,19,26,129,109,18,22,66,22,21,49,104,13,46,2,133,45,4,138,3,13,22,34,26,11,117,23,26,13,32,9,21,45,1,2,32,27,43,10,31,140,18,24,41,91,42,106,24,15,9,9,44,46,21,102,37,162,22,44,7,44,29,7,18,131,49,27,134,19,4,35,130,36,12,46,9,40,87,17,22,7,32,135,4,110,168,19,47,35,20,14,6,31,29,24,223,48,24,11,102,35,36,8,117,2,109,21,20,123,43,26,15,37,3,9,133,113,89,37,34,29,32,48,21,35,31,27,44,13,1,9,98,19,27,109,3,38,36,96,222,4,73,82,25,47,40,31,11,66,47,44,133,4,8,38,42,127,17,11,42,5,32,16,44,25,20,18,187,22,16,138,112,2,46,87,45,47,43,28,166,34,106,22,49,17,40,12,25,93,21,28,151,10,18,117,49,13,37,24,175,107,19,32,35,45,27,41,22,32,16,92,16,225,32,87,216,92,46,69,36,18,20,190,46,9,36,41,8,124,34,4,29,35,19,33,129,16,87,18,29,2,4,6,83,25,89,109,22,8,3,13,19,7,125,44,25,66,10,25,4,19,27,46,39,91,21,84,27,29,34,16,6,19,133,31,155,98,12,27,61,9,26,9,23,32,25,49,213,24,34,17,13,32,31,35,19,125,38,7,7,23,127,14,36,64,31,45,5,6,18,170,33,29,44,49,146,28,16,23,48,85,47,34,32,16,68,25,10,44,3,10,94,29,35,100,21,33,72,8,14,28,10,93,38,10,92,213,36,71,67,165,1,46,144,104,7,13,9,28,6,34,41,71,107,37,6,11,8,16,5,85,107,10,10,5,24,32,103,62,29,80,19,26,23,33,44,42,46,169,136,41,40,114,44,16,9,39,225,120,7,7,118,22,3,3,22,13,28,8,15,43,166,39,43,14,20,7,11,177,178,114,4,172,19,69,3,3,100,48,145,203,26,198,8,14,48,218,103,12,9,142,23,2,3,46,15,27,149,16,1,20,22,8,28,18,5,14,13,65,43,18,42,105,19,26,188,31,43,2,181,16,25,25,19,19,120,28,17,10,49,155,92,17,17,167,44,21,204,41,126,25,13,4,27,27,12,46,11,20,28,94,6,89,21,29,35,16,151,74,132,126,12,22,36,27,37,89,171,105,28,82,48,20,224,43,91,33,38,211,77,46,102,35,88,32,29,43,35,201,7,11,15,31,202,194,8,31,16,140,21,11,40,138,107,6,32,184,82,83,149,9,39,170,140,14,14,20,90,171,46,41,35,33,28,8,34,143,26,24,5,39,32,131,35,3,39,42,43,21,31,44,7,8,96,13,23,3,22,11,77,10,115,31,39,122,36,42,168,48,27,21,24,48,35,11,29,138,224,61,23,136,218,36,2,47,131,5,25,45,38,26,18,45,93,40,65,3,28,20,13,42,116,207,41,18,10,31,131,11,7,132,98,27,6,12,25,75,14,28,11,17,3,127,11,25,18,65,21,47,40,4,87,20,34,8,41,18,6,11,11,196,21,12,114,32,123,28,19,47,185,32,128,122,36,73,222,28,38,22,18,88,25,46,91,209,9,5,22,25,28,45,90,49,15,37,48,3,48,23,27,13,44,2,123,48,17,75,110,172,37,16,86,47,44,128,178,10,34,5,47,215,35,92,44,24,46,12,10,136,37,49,37,182,10,43,73,34,13,37,14,5,21,5,18,128,16,17,40,34,48,209,126,26,45,26,36,40,82,12,16,164,25,4,47,24,11,48,15,40,41,106,5,161,33,12,21,28,46,145,24,21,139,42,26,9,147,135,38,21,39,16,31,2,16,23,19,24,40,12,47,33,4,62,48,72,49,107,32,29,2,45,136,9,10,17,76,12,28,25,164,81,5,45,16,66,16,129,110,16,48,108,48,106,6,14,4,26,41,110,12,25,28,84,12,49,187,12,24,32,40,90,16,11,33,3,222,136,29,131,47,105,14,84,33,4,11,84,44,212,28,17,123,3,8,14,36,20,6,98,184,74,23,76,29,5,19,16,21,137,39,17,46,7,11,3,44,16,47,40,43,190,49,8,26,130,148,17,132,10,31,110,8,5,31,23,170,39,16,2,89,189,48,40,37,135,91,31,43,15,24,35,17,25,95,21,27,13,22,37,7,43,16,19,129,11,42,44,25,6,35,70,145,34,25,69,19,39,145,29,13,35,21,25,104,133,146,124,115,48,36,73,40,44,33,31,36,26,39,7,43,6,36,43,32,29,21,229,29,22,16,8,39,95,41,34,13,39,32,148,165,14,12,5,44,5,25,11,2,65,41,4,29,117,25,46,40,114,29,185,214,41,85,46,228,35,38,194,22,11,87,64,128,11,140,141,43,9,42,18,23,12,4,2,1,23,106,10,3,2,25,1,41,114,80,111,11,48,168,87,3,6,17,37,192,9,40,38,17,22,37,4,22,22,32,81,24,21,133,132,15,12,35,20,42,29,84,2,46,24,19,139,74,33,107,46,23,71,46,24,18,29,226,14,138,127,16,24,49,44,24,122,48,38,37,43,3,22,48,2,10,18,138,130,29,161,23,3,76,147,46,24,136,41,65,1,4,23,1,229,13,25,25,26,135,24,49,125,1,42,6,81,1,13,94,33,33,84,125,16,101,225,95,206,115,23,88,123,40,45,11,22,36,7,165,66,28,157,29,17,103,96,26,15,46,93,98,25,25,36,10,41,18,41,3,14,12,9,29,3,32,15,48,38,17,106,21,224,130,66,22,102,14,14,49,28,21,75,16,130,11,22,9,10,216,42,188,91,13,138,67,27,7,34,2,20,19,48,14,6,4,48,17,37,192,25,6,9,2,36,63,5,11,13,10,16,43,4,40,16,107,14,37,49,27,11,120,38,39,20,6,35,181,8,15,98,26,137,10,26,17,36,6,11,3,16,125,28,46,46,42,1,9,40,6,217,73,7,23,92,102,37,36,33,4,40,15,14,131,8,5,34,3,20,1,6,39,161,43,116,165,43,8,13,225,108,19,34,17,25,20,35,132,27,107,7,49,8,14,13,40,147,2,36,15,124,2,41,14,24,23,31,14,48,39,29,44,2,38,32,13,23,42,37,3,36,157,26,9,31,24,108,40,5,156,31,12,18,17,6,1,18,3,33,13,2,81,169,27,47,120,28,29,130,17,9,3,33,12,12,26,40,18,6,148,32,41,25,20,43,115,4,11,31,19,10,46,17,16,22,11,69,40,85,36,14,132,42,14,23,72,38,8,27,5,27,48,26,6,25,22,35,38,141,24,13,18,16,35,108,146,96,167,49,8,130,33,2,14,45,7,28,8,196,24,17,4,12,23,31,25,28,141,28,37,83,20,47,86,47,70,16,2,62,28,34,49,45,20,116,87,23,1,38,23,31,48,34,120,48,73,22,37,29,107,179,48,9,226,169,11,7,14,28,22,16,48,26,8,48,9,19,83,105,2,22,45,36,86,23,13,10,89,32,28,68,18,34,34,20,6,21,3,43,1,8,32,14,7,10,28,38,7,110,10,17,36,17,99,15,105,17,14,12,5,7,19,11,13,31,43,8,8,167,46,141,12,21,33,34,26,110,47,19,20,45,20,24,142,18,6,45,87,167,46,118,46,8,146,44,84,15,38,18,31,128,174,25,1,4,44,20,19,1,5,140,3,143,46,31,123,13,42,14,40,36,112,23,19,71,3,11,3,7,43,6,62,18,15,4,18,116,10,31,15,4,214,39,35,26,12,14,24,18,24,69,31,155,16,29,8,88,83,35,39,27,27,7,26,6,12,5,31,29,111,5,7,27,32,31,13,177,9,24,3,10,14,28,39,13,2,10,61,118,8,23,36,19,44,1,37,1,69,3,31,158,11,42,49,28,96,102,3,219,18,155,38,22,14,33,122,47,98,37,2,121,22,46,65,46,26,128,8,13,67,15,42,38,13,45,44,65,118,92,15,5,48,35,20,25,10,45,8,42,21,45,192,73,111,11,21,140,47,17,15,14,23,136,25,40,186,4,17,44,36,25,38,29,4,46,143,2,18,7,48,18,23,5,229,74,11,9,33,10,42,10,49,26,144,47,212,29,32,19,122,22,42,20,35,17,125,6,16,95,12,19,18,9,44,192,19,193,47,101,19,26,28,104,14,8,2,22,16,139,2,13,120,1,15,39,28,11,36,27,143,129,10,24,29,2,87,6,43,8,20,14,162,39,112,9,27,8,14,8,120,46,63,19,13,39,11,25,6,16,23,29,29,7,12,5,21,46,6,27,5,123,75,24,8,48,115,27,11,9,44,3,46,27,25,16,6,35,4,49,35,6,114,26,21,146,16,229,76,146,40,2,26,4,74,27,19,17,1,13,182,35,33,80,110,67,42,43,103,24,3,210,6,82,25,35,2,102,46,16,48,25,31,36,12,18,147,19,107,8,116,32,18,44,41,27,43,36,22,27,26,3,18,6,209,28,25,9,49,36,24,10,25,192,166,17,38,1,20,11,116,5,38,88,32,121,114,20,40,25,10,31,29,208,14,32,3,35,21,4,6,19,26,8,31,27,34,29,43,47,25,11,17,43,25,1,37,23,117,5,21,130,37,6,8,9,14,33,26,43,21,15,10,17,29,26,21,29,8,8,49,29,35,41,89,38,81,229,71,32,108,139,48,155,86,31,10,67,28,11,5,32,24,40,95,4,5,48,47,17,188,91,10,24,18,189,130,2,25,71,41,118,10,44,195,29,15,159,48,46,4,10,6,20,42,11,17,5,24,227,12,14,42,33,6,7,6,16,20,16,6,110,24,9,29,25,9,42,21,27,37,27,10,148,106,20,5,8,32,198,12,5,17,28,165,29,73,41,138,34,33,207,130,64,163,9,7,65,3,71,40,26,37,21,188,9,5,68,39,17,164,19,16,27,7,47,96,106,37,43,34,134,40,21,3,26,11,14,12,130,31,14,170,19,3,23,31,8,19,46,4,27,7,5,20,108,82,11,19,7,18,12,15,9,3,120,38,26,45,5,14,44,117,48,38,32,28,11,34,119,45,23,14,8,45,24,9,8,7,125,29,145,40,43,10,201,122,84,2,8,15,29,114,36,46,34,6,18,31,17,19,31,187,24,15,22,39,5,37,93,147,46,18,63,49,33,23,48,82,129,105,8,44,42,10,38,27,73,143,5,17,20,19,11,41,26,9,92,24,31,21,40,44,23,124,40,8,32,3,170,2,1,66,26,13,4,92,17,18,25,31,25,39,39,2,43,17,15,14,26,5,2,17,68,25,16,32,2,31,27,151,23,21,189,36,5,1,44,43,35,34,4,5,11,36,118,29,28,29,225,102,43,183,8,23,24,29,107,7,23,71,29,7,25,7,49,20,20,6,26,131,17,24,34,124,14,21,34,24,12,11,27,11,27,153,3,29,14,106,138,29,3,1,83,19,123,24,11,31,182,20,182,11,49,26,34,7,32,24,15,43,43,94,69,123,19,44,41,41,19,16,6,12,42,32,18,9,74,144,18,14,2,2,90,42,23,4,34,19,27,38,5,29,32,20,227,1,12,27,14,45,46,70,96,8,26,34,24,136,26,142,15,3,31,152,203,121,153,32,9,13,4,11,33,19,33,44,48,1,2,24,15,39,28,32,22,4,210,47,45,28,6,18,40,12,98,208,85,31,154,6,13,12,27,29,6,29,21,25,46,21,28,11,26,165,27,25,148,5,162,25,41,12,34,81,49,37,144,1,42,70,38,23,21,37,17,25,41,18,5,35,78,19,17,23,43,24,15,13,13,83,14,156,25,27,17,18,23,19,140,218,25,44,29,29,14,13,7,7,15,29,12,34,27,72,1,18,28,15,42,34,39,8,15,4,76,47,41,228,35,5,23,38,4,13,20,27,13,9,17,5,1,23,5,39,74,2,16,20,105,74,69,98,1,20,12,5,132,33,1,45,159,49,5,34,17,20,1,146,5,10,16,23,10,5,12,49,10,19,28,27,21,21,5,19,64,149,103,41,40,24,1,27,21,63,141,2,28,11,199,23,43,220,11,134,14,26,43,13,136,17,19,28,22,75,20,3,38,21,143,12,24,151,86,7,8,129,16,45,11,40,210,13,21,19,33,33,1,190,18,141,13,45,155,44,33,49,123,100,47,33,17,5,44,37,1,16,24,138,13,2,152,37,2,67,23,138,42,4,101,22,17,88,19,8,27,41,22,17,7,49,3,15,25,28,44,28,6,38,49,42,31,47,5,10,178,40,194,14,13,38,10,48,5,44,37,13,37,28,34,3,176,2,16,28,12,14,7,213,141,2,82,1,29,25,23,17,5,28,46,37,26,63,43,45,9,34,43,110,26,81,34,10,17,192,11,34,28,34,34,42,191,1,83,37,224,129,36,5,38,44,144,33,35,38,48,46,44,15,31,34,15,9,29,135,18,42,45,36,23,65,44,128,25,21,28,37,41,28,72,133,6,23,39,39,1,19,140,16,83,43,113,82,6,42,33,15,2,40,10,34,47,10,18,25,19,19,200,116,31,15,3,43,19,26,123,36,20,15,3,23,24,27,37,132,139,90,21,4,1,4,31,16,15,46,24,13,18,14,47,45,31,25,19,147,18,71,5,34,2,36,35,119,43,6,48,5,34,34,78,6,93,43,19,19,6,15,19,143,20,25,111,32,39,24,16,21,46,11,2,27,11,21,46,7,15,3,15,1,3,116,13,62,27,49,21,14,21,86,26,3,39,33,40,20,16,6,48,79,7,14,41,38,19,13,12,28,38,8,3,43,6,46,20,111,48,106,29,12,8,2,25,15,130,143,133,15,20,223,29,17,46,3,47,34,14,18,92,4,47,36,40,1,26,105,219,116,28,219,40,6,133,2,61,20,2,12,7,10,48,16,42,46,32,9,4,72,25,101,26,226,7,46,9,39,41,35,9,26,26,69,22,4,104,11,5,32,19,96,5,5,36,4,29,8,48,141,12,19,16,14,25,90,31,18,17,28,42,14,136,29,23,22,47,38,37,103,25,4,27,43,33,3,3,6,27,226,62,8,10,23,46,1,17,43,215,41,27,1,227,193,26,31,5,49,9,42,139,3,37,44,108,132,12,24,47,26,20,45,1,43,20,38,34,24,2,182,23,36,7,39,9,27,171,186,35,39,9,2,68,39,2,11,15,20,160,23,39,12,33,42,105,34,137,7,26,111,109,45,18,1,15,37,2,3,199,23,26,23,25,36,32,28,33,18,19,35,11,13,10,45,36,43,33,5,2,34,4,13,133,28,76,133,36,98,44,9,97,15,88,5,141,76,13,8,44,6,42,33,3,4,14,42,36,35,47,103,16,105,25,125,112,6,37,29,12,161,16,34,37,36,46,47,14,18,49,31,136,1,1,35,135,100,15,2,42,15,168,11,97,6,15,160,48,39,26,19,22,21,2,23,137,10,23,19,46,28,24,31,37,37,12,26,65,47,17,216,13,31,19,156,227,143,124,28,184,172,4,83,16,6,33,9,87,11,75,14,34,13,21,46,23,13,33,28,12,6,18,22,16,22,107,28,6,35,49,27,27,36,33,14,19,9,6,44,3,43,1,152,16,31,19,1,25,169,165,9,32,9,13,15,26,92,6,33,22,21,37,132,34,44,162,20,26,43,92,29,19,31,41,7,9,31,17,29,28,2,48,67,22,36,43,46,87,24,43,48,11,9,125,14,20,103,7,9,12,11,213,6,74,42,1,10,16,41,23,4,18,14,41,22,20,13,86,12,25,16,32,62,44,27,26,88,12,21,86,15,22,18,17,36,25,12,25,22,25,19,85,23,63,28,47,113,33,135,48,13,32,29,14,225,13,186,21,133,48,31,33,101,84,18,11,204,11,110,49,48,42,37,29,42,9,16,35,167,20,25,15,27,10,42,103,223,7,5,127,90,20,10,46,28,45,16,11,10,27,24,12,28,45,18,29,97,22,17,146,14,63,16,35,35,2,43,224,14,45,136,1,1,5,69,45,24,23,112,36,19,89,13,120,7,27,9,19,14,34,39,42,25,128,16,31,132,36,29,22,9,11,66,48,159,90,31,29,12,38,21,126,28,25,10,43,76,136,94,34,10,192,14,41,43,1,47,33,101,31,15,8,9,12,44,3,1,105,22,148,4,7,20,32,10,5,44,43,148,12,45,63,5,207,6,146,31,27,19,3,185,202,15,27,20,16,89,97,115,28,44,8,44,23,3,20,227,18,137,11,47,12,80,19,40,5,14,10,17,3,43,4,21,28,27,29,10,6,156,91,15,6,18,18,11,27,5,117,116,21,11,2,7,27,46,84,11,8,39,3,9,28,14,25,28,43,39,33,21,114,94,191,35,16,39,16,3,2,3,28,49,19,24,148,22,44,45,35,29,85,95,32,6,10,27,36,14,23,69,8,70,47,23,8,10,95,9,14,22,11,34,10,8,148,143,20,93,71,40,8,45,137,18,26,12,19,1,20,27,149,33,12,25,198,7,2,137,133,39,27,28,24,17,116,16,44,9,132,23,4,22,1,11,3,16,19,146,36,40,36,28,11,37,38,18,11,27,15,1,20,214,21,20,70,8,3,29,22,4,17,15,49,8,7,2,46,47,219,38,40,23,84,41,92,3,11,43,16,39,99,24,7,27,37,213,10,35,21,29,110,5,34,35,81,15,134,4,48,26,108,174,19,123,143,19,1,16,10,10,35,34,10,18,35,1,27,23,20,45,13,7,48,43,10,42,25,42,32,21,4,137,41,171,34,8,6,69,47,29,46,42,82,16,7,1,18,28,26,33,37,10,49,49,1,11,27,33,39,12,1,11,27,99,48,66,41,23,46,90,23,23,46,101,111,27,100,1,43,1,101,11,31,46,20,19,32,18,12,16,29,32,10,40,6,146,23,11,43,27,43,48,29,4,125,8,2,3,1,5,21,12,6,113,5,7,28,68,8,70,41,18,9,24,16,20,127,90,16,130,37,2,4,9,6,12,47,44,63,92,42,43,44,5,13,26,36,42,20,21,17,8,17,19,18,48,17,6,74,37,39,23,40,12,75,5,45,49,10,19,29,1,87,8,49,49,16,32,7,42,10,35,5,19,45,8,216,43,134,107,24,91,3,11,6,27,9,44,2,20,9,48,33,13,47,4,188,28,172,5,31,29,140,8,90,19,21,35,81,63,46,192,10,118,9,43,5,46,4,10,8,43,78,24,20,27,32,112,49,48,42,25,2,5,17,46,4,21,38,33,33,33,42,34,34,1,11,133,159,11,6,31,29,11,3,134,1,4,19,88,8,4,13,25,17,6,18,24,22,45,68,46,13,1,9,10,22,105,40,12,44,14,214,3,92,18,35,48,11,23,11,45,9,46,42,23,11,10,48,22,92,135,205,5,108,15,26,38,17,22,125,22,17,36,106,117,38,12,3,13,47,22,27,103,13,17,26,22,2,15,9,40,12,12,92,27,19,46,14,2,200,34,24,1,216,35,15,23,13,142,12,11,23,10,46,8,24,96,10,3,76,19,5,148,45,38,45,80,204,35,130,7,5,26,49,20,31,229,33,33,122,38,1,5,49,3,228,151,1,9,33,21,42,14,33,40,26,8,84,31,21,124,167,11,43,37,70,11,25,35,45,110,27,5,5,8,37,35,4,64,6,11,2,33,17,15,4,20,13,22,28,9,6,25,14,15,99,37,43,17,8,34,160,133,32,38,21,2,28,19,13,35,133,44,15,38,61,49,36,18,19,45,44,16,18,43,13,10,68,201,88,46,48,8,1,27,5,131,6,7,129,20,20,8,71,102,22,26,16,7,14,24,41,34,97,134,24,36,7,34,22,3,26,6,12,98,228,17,29,36,107,3,41,181,10,1,8,28,13,16,49,26,119,122,2,40,23,14,5,38,149,45,19,44,21,13,4,11,25,16,19,45,34,5,22,26,13,13,14,11,46,109,35,34,69,6,5,7,34,134,16,46,24,104,20,16,22,2,44,40,8,97,23,24,25,47,129,20,8,169,17,8,3,34,8,19,38,16,33,18,15,38,16,12,123,16,9,38,68,34,24,27,23,1,8,36,14,9,19,82,10,2,43,18,15,12,24,42,4,16,124,26,16,14,37,21,136,8,23,18,46,7,6,13,33,14,225,16,24,13,27,48,18,9,11,20,38,5,43,9,79,10,29,119,14,12,114,14,205,4,29,45,1,41,10,3,3,7,14,37,66,120,125,19,40,45,12,34,18,129,10,22,23,142,28,17,16,18,25,37,4,49,180,18,40,173,31,18,20,43,1,10,12,43,137,20,25,20,17,7,9,39,32,7,5,225,26,28,24,12,11,20,8,19,24,2,22,79,107,24,137,208,25,25,126,27,7,11,46,41,25,23,16,29,193,13,20,17,17,121,127,35,49,27,10,220,25,19,20,10,23,1,42,9,132,19,37,28,15,11,6,36,21,6,196,3,36,15,21,18,8,8,20,47,2,26,79,125,8,22,24,6,12,32,9,7,8,148,9,20,3,10,23,2,24,24,17,12,18,33,34,25,124,71,45,3,33,22,23,21,10,35,39,2,1,7,14,21,13,94,44,24,19,131,7,3,5,15,36,10,12,47,83,47,9,18,4,64,75,34,186,8,9,3,67,7,11,26,13,25,122,14,7,31,35,44,6,8,23,40,69,5,5,32,101,109,5,143,19,10,8,10,146,41,131,40,14,39,31,2,15,45,22,81,37,17,47,2,122,13,41,4,23,63,80,16,15,29,206,124,20,21,4,29,145,44,8,42,24,23,17,40,13,138,6,17,3,37,76,20,19,12,29,40,90,20,1,26,1,35,1,29,146,26,135,35,105,11,17,42,20,39,10,1,22,5,6,2,28,1,24,32,15,33,70,44,1,21,4,10,28,9,42,21,4,76,12,22,41,40,29,101,2,9,44,15,4,49,15,5,15,19,25,24,225,122,93,6],\"type\":\"histogram\"}],                        {\"barmode\":\"overlay\",\"legend\":{\"bgcolor\":\"#F5F6F9\",\"font\":{\"color\":\"#4D5663\"}},\"paper_bgcolor\":\"#F5F6F9\",\"plot_bgcolor\":\"#F5F6F9\",\"template\":{\"data\":{\"barpolar\":[{\"marker\":{\"line\":{\"color\":\"#E5ECF6\",\"width\":0.5},\"pattern\":{\"fillmode\":\"overlay\",\"size\":10,\"solidity\":0.2}},\"type\":\"barpolar\"}],\"bar\":[{\"error_x\":{\"color\":\"#2a3f5f\"},\"error_y\":{\"color\":\"#2a3f5f\"},\"marker\":{\"line\":{\"color\":\"#E5ECF6\",\"width\":0.5},\"pattern\":{\"fillmode\":\"overlay\",\"size\":10,\"solidity\":0.2}},\"type\":\"bar\"}],\"carpet\":[{\"aaxis\":{\"endlinecolor\":\"#2a3f5f\",\"gridcolor\":\"white\",\"linecolor\":\"white\",\"minorgridcolor\":\"white\",\"startlinecolor\":\"#2a3f5f\"},\"baxis\":{\"endlinecolor\":\"#2a3f5f\",\"gridcolor\":\"white\",\"linecolor\":\"white\",\"minorgridcolor\":\"white\",\"startlinecolor\":\"#2a3f5f\"},\"type\":\"carpet\"}],\"choropleth\":[{\"colorbar\":{\"outlinewidth\":0,\"ticks\":\"\"},\"type\":\"choropleth\"}],\"contourcarpet\":[{\"colorbar\":{\"outlinewidth\":0,\"ticks\":\"\"},\"type\":\"contourcarpet\"}],\"contour\":[{\"colorbar\":{\"outlinewidth\":0,\"ticks\":\"\"},\"colorscale\":[[0.0,\"#0d0887\"],[0.1111111111111111,\"#46039f\"],[0.2222222222222222,\"#7201a8\"],[0.3333333333333333,\"#9c179e\"],[0.4444444444444444,\"#bd3786\"],[0.5555555555555556,\"#d8576b\"],[0.6666666666666666,\"#ed7953\"],[0.7777777777777778,\"#fb9f3a\"],[0.8888888888888888,\"#fdca26\"],[1.0,\"#f0f921\"]],\"type\":\"contour\"}],\"heatmapgl\":[{\"colorbar\":{\"outlinewidth\":0,\"ticks\":\"\"},\"colorscale\":[[0.0,\"#0d0887\"],[0.1111111111111111,\"#46039f\"],[0.2222222222222222,\"#7201a8\"],[0.3333333333333333,\"#9c179e\"],[0.4444444444444444,\"#bd3786\"],[0.5555555555555556,\"#d8576b\"],[0.6666666666666666,\"#ed7953\"],[0.7777777777777778,\"#fb9f3a\"],[0.8888888888888888,\"#fdca26\"],[1.0,\"#f0f921\"]],\"type\":\"heatmapgl\"}],\"heatmap\":[{\"colorbar\":{\"outlinewidth\":0,\"ticks\":\"\"},\"colorscale\":[[0.0,\"#0d0887\"],[0.1111111111111111,\"#46039f\"],[0.2222222222222222,\"#7201a8\"],[0.3333333333333333,\"#9c179e\"],[0.4444444444444444,\"#bd3786\"],[0.5555555555555556,\"#d8576b\"],[0.6666666666666666,\"#ed7953\"],[0.7777777777777778,\"#fb9f3a\"],[0.8888888888888888,\"#fdca26\"],[1.0,\"#f0f921\"]],\"type\":\"heatmap\"}],\"histogram2dcontour\":[{\"colorbar\":{\"outlinewidth\":0,\"ticks\":\"\"},\"colorscale\":[[0.0,\"#0d0887\"],[0.1111111111111111,\"#46039f\"],[0.2222222222222222,\"#7201a8\"],[0.3333333333333333,\"#9c179e\"],[0.4444444444444444,\"#bd3786\"],[0.5555555555555556,\"#d8576b\"],[0.6666666666666666,\"#ed7953\"],[0.7777777777777778,\"#fb9f3a\"],[0.8888888888888888,\"#fdca26\"],[1.0,\"#f0f921\"]],\"type\":\"histogram2dcontour\"}],\"histogram2d\":[{\"colorbar\":{\"outlinewidth\":0,\"ticks\":\"\"},\"colorscale\":[[0.0,\"#0d0887\"],[0.1111111111111111,\"#46039f\"],[0.2222222222222222,\"#7201a8\"],[0.3333333333333333,\"#9c179e\"],[0.4444444444444444,\"#bd3786\"],[0.5555555555555556,\"#d8576b\"],[0.6666666666666666,\"#ed7953\"],[0.7777777777777778,\"#fb9f3a\"],[0.8888888888888888,\"#fdca26\"],[1.0,\"#f0f921\"]],\"type\":\"histogram2d\"}],\"histogram\":[{\"marker\":{\"pattern\":{\"fillmode\":\"overlay\",\"size\":10,\"solidity\":0.2}},\"type\":\"histogram\"}],\"mesh3d\":[{\"colorbar\":{\"outlinewidth\":0,\"ticks\":\"\"},\"type\":\"mesh3d\"}],\"parcoords\":[{\"line\":{\"colorbar\":{\"outlinewidth\":0,\"ticks\":\"\"}},\"type\":\"parcoords\"}],\"pie\":[{\"automargin\":true,\"type\":\"pie\"}],\"scatter3d\":[{\"line\":{\"colorbar\":{\"outlinewidth\":0,\"ticks\":\"\"}},\"marker\":{\"colorbar\":{\"outlinewidth\":0,\"ticks\":\"\"}},\"type\":\"scatter3d\"}],\"scattercarpet\":[{\"marker\":{\"colorbar\":{\"outlinewidth\":0,\"ticks\":\"\"}},\"type\":\"scattercarpet\"}],\"scattergeo\":[{\"marker\":{\"colorbar\":{\"outlinewidth\":0,\"ticks\":\"\"}},\"type\":\"scattergeo\"}],\"scattergl\":[{\"marker\":{\"colorbar\":{\"outlinewidth\":0,\"ticks\":\"\"}},\"type\":\"scattergl\"}],\"scattermapbox\":[{\"marker\":{\"colorbar\":{\"outlinewidth\":0,\"ticks\":\"\"}},\"type\":\"scattermapbox\"}],\"scatterpolargl\":[{\"marker\":{\"colorbar\":{\"outlinewidth\":0,\"ticks\":\"\"}},\"type\":\"scatterpolargl\"}],\"scatterpolar\":[{\"marker\":{\"colorbar\":{\"outlinewidth\":0,\"ticks\":\"\"}},\"type\":\"scatterpolar\"}],\"scatter\":[{\"marker\":{\"colorbar\":{\"outlinewidth\":0,\"ticks\":\"\"}},\"type\":\"scatter\"}],\"scatterternary\":[{\"marker\":{\"colorbar\":{\"outlinewidth\":0,\"ticks\":\"\"}},\"type\":\"scatterternary\"}],\"surface\":[{\"colorbar\":{\"outlinewidth\":0,\"ticks\":\"\"},\"colorscale\":[[0.0,\"#0d0887\"],[0.1111111111111111,\"#46039f\"],[0.2222222222222222,\"#7201a8\"],[0.3333333333333333,\"#9c179e\"],[0.4444444444444444,\"#bd3786\"],[0.5555555555555556,\"#d8576b\"],[0.6666666666666666,\"#ed7953\"],[0.7777777777777778,\"#fb9f3a\"],[0.8888888888888888,\"#fdca26\"],[1.0,\"#f0f921\"]],\"type\":\"surface\"}],\"table\":[{\"cells\":{\"fill\":{\"color\":\"#EBF0F8\"},\"line\":{\"color\":\"white\"}},\"header\":{\"fill\":{\"color\":\"#C8D4E3\"},\"line\":{\"color\":\"white\"}},\"type\":\"table\"}]},\"layout\":{\"annotationdefaults\":{\"arrowcolor\":\"#2a3f5f\",\"arrowhead\":0,\"arrowwidth\":1},\"autotypenumbers\":\"strict\",\"coloraxis\":{\"colorbar\":{\"outlinewidth\":0,\"ticks\":\"\"}},\"colorscale\":{\"diverging\":[[0,\"#8e0152\"],[0.1,\"#c51b7d\"],[0.2,\"#de77ae\"],[0.3,\"#f1b6da\"],[0.4,\"#fde0ef\"],[0.5,\"#f7f7f7\"],[0.6,\"#e6f5d0\"],[0.7,\"#b8e186\"],[0.8,\"#7fbc41\"],[0.9,\"#4d9221\"],[1,\"#276419\"]],\"sequential\":[[0.0,\"#0d0887\"],[0.1111111111111111,\"#46039f\"],[0.2222222222222222,\"#7201a8\"],[0.3333333333333333,\"#9c179e\"],[0.4444444444444444,\"#bd3786\"],[0.5555555555555556,\"#d8576b\"],[0.6666666666666666,\"#ed7953\"],[0.7777777777777778,\"#fb9f3a\"],[0.8888888888888888,\"#fdca26\"],[1.0,\"#f0f921\"]],\"sequentialminus\":[[0.0,\"#0d0887\"],[0.1111111111111111,\"#46039f\"],[0.2222222222222222,\"#7201a8\"],[0.3333333333333333,\"#9c179e\"],[0.4444444444444444,\"#bd3786\"],[0.5555555555555556,\"#d8576b\"],[0.6666666666666666,\"#ed7953\"],[0.7777777777777778,\"#fb9f3a\"],[0.8888888888888888,\"#fdca26\"],[1.0,\"#f0f921\"]]},\"colorway\":[\"#636efa\",\"#EF553B\",\"#00cc96\",\"#ab63fa\",\"#FFA15A\",\"#19d3f3\",\"#FF6692\",\"#B6E880\",\"#FF97FF\",\"#FECB52\"],\"font\":{\"color\":\"#2a3f5f\"},\"geo\":{\"bgcolor\":\"white\",\"lakecolor\":\"white\",\"landcolor\":\"#E5ECF6\",\"showlakes\":true,\"showland\":true,\"subunitcolor\":\"white\"},\"hoverlabel\":{\"align\":\"left\"},\"hovermode\":\"closest\",\"mapbox\":{\"style\":\"light\"},\"paper_bgcolor\":\"white\",\"plot_bgcolor\":\"#E5ECF6\",\"polar\":{\"angularaxis\":{\"gridcolor\":\"white\",\"linecolor\":\"white\",\"ticks\":\"\"},\"bgcolor\":\"#E5ECF6\",\"radialaxis\":{\"gridcolor\":\"white\",\"linecolor\":\"white\",\"ticks\":\"\"}},\"scene\":{\"xaxis\":{\"backgroundcolor\":\"#E5ECF6\",\"gridcolor\":\"white\",\"gridwidth\":2,\"linecolor\":\"white\",\"showbackground\":true,\"ticks\":\"\",\"zerolinecolor\":\"white\"},\"yaxis\":{\"backgroundcolor\":\"#E5ECF6\",\"gridcolor\":\"white\",\"gridwidth\":2,\"linecolor\":\"white\",\"showbackground\":true,\"ticks\":\"\",\"zerolinecolor\":\"white\"},\"zaxis\":{\"backgroundcolor\":\"#E5ECF6\",\"gridcolor\":\"white\",\"gridwidth\":2,\"linecolor\":\"white\",\"showbackground\":true,\"ticks\":\"\",\"zerolinecolor\":\"white\"}},\"shapedefaults\":{\"line\":{\"color\":\"#2a3f5f\"}},\"ternary\":{\"aaxis\":{\"gridcolor\":\"white\",\"linecolor\":\"white\",\"ticks\":\"\"},\"baxis\":{\"gridcolor\":\"white\",\"linecolor\":\"white\",\"ticks\":\"\"},\"bgcolor\":\"#E5ECF6\",\"caxis\":{\"gridcolor\":\"white\",\"linecolor\":\"white\",\"ticks\":\"\"}},\"title\":{\"x\":0.05},\"xaxis\":{\"automargin\":true,\"gridcolor\":\"white\",\"linecolor\":\"white\",\"ticks\":\"\",\"title\":{\"standoff\":15},\"zerolinecolor\":\"white\",\"zerolinewidth\":2},\"yaxis\":{\"automargin\":true,\"gridcolor\":\"white\",\"linecolor\":\"white\",\"ticks\":\"\",\"title\":{\"standoff\":15},\"zerolinecolor\":\"white\",\"zerolinewidth\":2}}},\"title\":{\"font\":{\"color\":\"#4D5663\"},\"text\":\"Distribution of the number of seats for independent eating places\"},\"xaxis\":{\"gridcolor\":\"#E1E5ED\",\"showgrid\":true,\"tickfont\":{\"color\":\"#4D5663\"},\"title\":{\"font\":{\"color\":\"#4D5663\"},\"text\":\"Number of Seats\"},\"zerolinecolor\":\"#E1E5ED\"},\"yaxis\":{\"gridcolor\":\"#E1E5ED\",\"showgrid\":true,\"tickfont\":{\"color\":\"#4D5663\"},\"title\":{\"font\":{\"color\":\"#4D5663\"},\"text\":\"Count\"},\"zerolinecolor\":\"#E1E5ED\"}},                        {\"showLink\": true, \"linkText\": \"Export to plot.ly\", \"plotlyServerURL\": \"https://plot.ly\", \"responsive\": true}                    ).then(function(){\n",
       "                            \n",
       "var gd = document.getElementById('024dc3a5-3461-4d3a-9931-1185fecde8bd');\n",
       "var x = new MutationObserver(function (mutations, observer) {{\n",
       "        var display = window.getComputedStyle(gd).display;\n",
       "        if (!display || display === 'none') {{\n",
       "            console.log([gd, 'removed!']);\n",
       "            Plotly.purge(gd);\n",
       "            observer.disconnect();\n",
       "        }}\n",
       "}});\n",
       "\n",
       "// Listen for the removal of the full notebook cells\n",
       "var notebookContainer = gd.closest('#notebook-container');\n",
       "if (notebookContainer) {{\n",
       "    x.observe(notebookContainer, {childList: true});\n",
       "}}\n",
       "\n",
       "// Listen for the clearing of the current output cell\n",
       "var outputEl = gd.closest('.output');\n",
       "if (outputEl) {{\n",
       "    x.observe(outputEl, {childList: true});\n",
       "}}\n",
       "\n",
       "                        })                };                });            </script>        </div>"
      ]
     },
     "metadata": {},
     "output_type": "display_data"
    }
   ],
   "source": [
    "rest_data[rest_data['chain'] == False]['number'].iplot(kind='hist',\n",
    "                         xTitle='Number of Seats', yTitle='Count',\n",
    "                          title='Distribution of the number of seats for independent eating places',\n",
    "                          color = '#e7b300',\n",
    "                          bins = 40)"
   ]
  },
  {
   "cell_type": "markdown",
   "id": "954e0dc3",
   "metadata": {},
   "source": [
    "The distributiuon of the seat number cannot be called normal in any case, there is a long tail above 50 seats, especially for restaurants. The data seems to be completelly artificial: the distributions for chained objects and independent places are almost identical."
   ]
  },
  {
   "cell_type": "markdown",
   "id": "e9e790cd",
   "metadata": {},
   "source": [
    "[Back to Content](#content)"
   ]
  },
  {
   "cell_type": "markdown",
   "id": "01f3179f",
   "metadata": {},
   "source": [
    "### Summary on the dataset"
   ]
  },
  {
   "cell_type": "markdown",
   "id": "5e25e987",
   "metadata": {},
   "source": [
    "1. A quick check of missing values was performed, 3 data points fixed.\n",
    "2. The `chain` variable was casted into boolean.\n",
    "3. We have investigated implicit duplicates using stemming and dropped 57 objects at 47 addresses to fix the issue (still there can be some cases of similar titles with variations at the beginning of the title).\n",
    "4. The resulting datasets contain data on 9594 eating places.\n",
    "5. We have taken a look at the distribution of the seat number and learned that it is non-normal with long tail above 50 seats."
   ]
  },
  {
   "cell_type": "markdown",
   "id": "d7d60d46",
   "metadata": {},
   "source": [
    "[Back to Content](#content)"
   ]
  },
  {
   "cell_type": "markdown",
   "id": "f022b6a9",
   "metadata": {},
   "source": [
    "Let's move on with the analysis."
   ]
  },
  {
   "cell_type": "markdown",
   "id": "b2a0e797",
   "metadata": {},
   "source": [
    "# Data Analysis <a id='da'></a>"
   ]
  },
  {
   "cell_type": "markdown",
   "id": "0512038d",
   "metadata": {},
   "source": [
    "Let's paln the analysis. We are interested in looking into the following aspects:\n",
    "- Investigate the proportions of the various types of establishments.\n",
    "- Investigate the proportions of chain and nonchain establishments. Learn which type of establishment is typically a chain.\n",
    "- Study what characterizes chains: many establishments with a small number of seats or a few establishments with a lot of seats?\n",
    "- Determine the average (?) number of seats for each type of restaurant. On average, which type of restaurant has the greatest number of seats?\n",
    "- Put the data on street names from the address column in a separate column. Study a graph of the top ten streets by number of restaurants.\n",
    "- Find the number of streets that only have one restaurant.\n",
    "- Learn trends for streets with a lot of restaurants, look at the distribution of the number of seats.\n",
    " \n",
    "\n",
    "Let's deal with it one by one."
   ]
  },
  {
   "cell_type": "markdown",
   "id": "fa96d056",
   "metadata": {},
   "source": [
    "### Proportions of the various types of establishments"
   ]
  },
  {
   "cell_type": "markdown",
   "id": "697c35dd",
   "metadata": {},
   "source": [
    "We have six types of establishments, thus horisontal bar chart can be employed; even a pie chart can be still relevant. Let's see the data first."
   ]
  },
  {
   "cell_type": "code",
   "execution_count": 41,
   "id": "73ecac43",
   "metadata": {},
   "outputs": [
    {
     "data": {
      "text/html": [
       "<div>\n",
       "<style scoped>\n",
       "    .dataframe tbody tr th:only-of-type {\n",
       "        vertical-align: middle;\n",
       "    }\n",
       "\n",
       "    .dataframe tbody tr th {\n",
       "        vertical-align: top;\n",
       "    }\n",
       "\n",
       "    .dataframe thead th {\n",
       "        text-align: right;\n",
       "    }\n",
       "</style>\n",
       "<table border=\"1\" class=\"dataframe\">\n",
       "  <thead>\n",
       "    <tr style=\"text-align: right;\">\n",
       "      <th></th>\n",
       "      <th>id</th>\n",
       "      <th>object_name</th>\n",
       "      <th>address</th>\n",
       "      <th>chain</th>\n",
       "      <th>object_type</th>\n",
       "      <th>number</th>\n",
       "    </tr>\n",
       "  </thead>\n",
       "  <tbody>\n",
       "    <tr>\n",
       "      <th>0</th>\n",
       "      <td>11786</td>\n",
       "      <td>HABITAT COFFEE SHOP</td>\n",
       "      <td>3708 N EAGLE ROCK BLVD</td>\n",
       "      <td>False</td>\n",
       "      <td>Cafe</td>\n",
       "      <td>26</td>\n",
       "    </tr>\n",
       "  </tbody>\n",
       "</table>\n",
       "</div>"
      ],
      "text/plain": [
       "      id          object_name                 address  chain object_type  \\\n",
       "0  11786  HABITAT COFFEE SHOP  3708 N EAGLE ROCK BLVD  False        Cafe   \n",
       "\n",
       "   number  \n",
       "0      26  "
      ]
     },
     "execution_count": 41,
     "metadata": {},
     "output_type": "execute_result"
    }
   ],
   "source": [
    "rest_data.head(1)"
   ]
  },
  {
   "cell_type": "code",
   "execution_count": 42,
   "id": "5efd789d",
   "metadata": {},
   "outputs": [],
   "source": [
    "pie_pivot = rest_data['object_type'].value_counts(normalize = True, ascending = True).reset_index()"
   ]
  },
  {
   "cell_type": "code",
   "execution_count": 43,
   "id": "7b016ff5",
   "metadata": {},
   "outputs": [],
   "source": [
    "pie_pivot['count'] = (len(rest_data) * pie_pivot['object_type']).astype('int')"
   ]
  },
  {
   "cell_type": "code",
   "execution_count": 44,
   "id": "e8ad1fbc",
   "metadata": {},
   "outputs": [
    {
     "data": {
      "text/html": [
       "<div>\n",
       "<style scoped>\n",
       "    .dataframe tbody tr th:only-of-type {\n",
       "        vertical-align: middle;\n",
       "    }\n",
       "\n",
       "    .dataframe tbody tr th {\n",
       "        vertical-align: top;\n",
       "    }\n",
       "\n",
       "    .dataframe thead th {\n",
       "        text-align: right;\n",
       "    }\n",
       "</style>\n",
       "<table border=\"1\" class=\"dataframe\">\n",
       "  <thead>\n",
       "    <tr style=\"text-align: right;\">\n",
       "      <th></th>\n",
       "      <th>index</th>\n",
       "      <th>object_type</th>\n",
       "      <th>count</th>\n",
       "    </tr>\n",
       "  </thead>\n",
       "  <tbody>\n",
       "    <tr>\n",
       "      <th>0</th>\n",
       "      <td>Bakery</td>\n",
       "      <td>0.029289</td>\n",
       "      <td>281</td>\n",
       "    </tr>\n",
       "    <tr>\n",
       "      <th>1</th>\n",
       "      <td>Bar</td>\n",
       "      <td>0.030331</td>\n",
       "      <td>291</td>\n",
       "    </tr>\n",
       "    <tr>\n",
       "      <th>2</th>\n",
       "      <td>Pizza</td>\n",
       "      <td>0.033354</td>\n",
       "      <td>320</td>\n",
       "    </tr>\n",
       "    <tr>\n",
       "      <th>3</th>\n",
       "      <td>Cafe</td>\n",
       "      <td>0.045341</td>\n",
       "      <td>435</td>\n",
       "    </tr>\n",
       "    <tr>\n",
       "      <th>4</th>\n",
       "      <td>Fast Food</td>\n",
       "      <td>0.109860</td>\n",
       "      <td>1054</td>\n",
       "    </tr>\n",
       "    <tr>\n",
       "      <th>5</th>\n",
       "      <td>Restaurant</td>\n",
       "      <td>0.751824</td>\n",
       "      <td>7213</td>\n",
       "    </tr>\n",
       "  </tbody>\n",
       "</table>\n",
       "</div>"
      ],
      "text/plain": [
       "        index  object_type  count\n",
       "0      Bakery     0.029289    281\n",
       "1         Bar     0.030331    291\n",
       "2       Pizza     0.033354    320\n",
       "3        Cafe     0.045341    435\n",
       "4   Fast Food     0.109860   1054\n",
       "5  Restaurant     0.751824   7213"
      ]
     },
     "execution_count": 44,
     "metadata": {},
     "output_type": "execute_result"
    }
   ],
   "source": [
    "pie_pivot"
   ]
  },
  {
   "cell_type": "markdown",
   "id": "5fb4db8f",
   "metadata": {},
   "source": [
    "We can notice than appr. 75% of all the establishments are restaurants; thus, we can assume that a pie chart will look pretty ugly. Let's use a bar plot instead."
   ]
  },
  {
   "cell_type": "code",
   "execution_count": 45,
   "id": "0d0c697e",
   "metadata": {},
   "outputs": [
    {
     "data": {
      "image/png": "[encoded data removed]",
      "text/plain": [
       "<Figure size 1152x288 with 1 Axes>"
      ]
     },
     "metadata": {
      "needs_background": "light"
     },
     "output_type": "display_data"
    }
   ],
   "source": [
    "plt.figure(figsize=(16, 4))\n",
    "sns.set_style('darkgrid')\n",
    "sns.set_palette('Spectral')\n",
    "sns.barplot(data=pie_pivot, x='count', y='index')\n",
    "plt.title('Proportions of establishments by types')\n",
    "plt.xlabel('Number of establishmets')\n",
    "plt.ylabel('Type of establishment')\n",
    "\n",
    "# Annotate bars with bar absolute values and proportions\n",
    "for line in range(0,pie_pivot.shape[0]):\n",
    "    plt.text(pie_pivot['count'].iloc[line] + 50,\n",
    "            line,\n",
    "            f\"{pie_pivot['count'].iloc[line ]} | {(100*pie_pivot['object_type'].iloc[line]):.2f}%\",\n",
    "            horizontalalignment='center', verticalalignment = 'bottom',color='black',\n",
    "            fontsize = 10)\n",
    "\n",
    "plt.show()"
   ]
  },
  {
   "cell_type": "markdown",
   "id": "bd01a06f",
   "metadata": {},
   "source": [
    "[Back to Content](#content)"
   ]
  },
  {
   "cell_type": "markdown",
   "id": "809f6e15",
   "metadata": {},
   "source": [
    "### Proportions of chain and non-chain establishments"
   ]
  },
  {
   "cell_type": "markdown",
   "id": "1b7e17a4",
   "metadata": {},
   "source": [
    "Since we have significantly higher number of the establishments of one type out of six, to make the visualization look coherent, we should use a stacked bar chart."
   ]
  },
  {
   "cell_type": "code",
   "execution_count": 46,
   "id": "1bab3ca7",
   "metadata": {},
   "outputs": [],
   "source": [
    "stacked = rest_data.pivot_table(index = 'object_type',\n",
    "                                columns = 'chain', values = 'number', aggfunc = 'count')"
   ]
  },
  {
   "cell_type": "code",
   "execution_count": 47,
   "id": "ee7c58a3",
   "metadata": {},
   "outputs": [],
   "source": [
    "stacked['total'] = stacked.sum(axis = 1)"
   ]
  },
  {
   "cell_type": "code",
   "execution_count": 48,
   "id": "98ef1666",
   "metadata": {},
   "outputs": [],
   "source": [
    "for col in stacked.columns:\n",
    "    stacked[col] = stacked[col]*100/stacked['total']"
   ]
  },
  {
   "cell_type": "code",
   "execution_count": 49,
   "id": "2ef64b49",
   "metadata": {},
   "outputs": [],
   "source": [
    "stacked.drop(columns = ['total'], inplace = True)"
   ]
  },
  {
   "cell_type": "code",
   "execution_count": 50,
   "id": "bc65ecf0",
   "metadata": {},
   "outputs": [
    {
     "data": {
      "image/png": "[encoded data removed]",
      "text/plain": [
       "<Figure size 1008x288 with 1 Axes>"
      ]
     },
     "metadata": {},
     "output_type": "display_data"
    }
   ],
   "source": [
    "sns.set(rc={\"figure.figsize\":(14, 4)})\n",
    "\n",
    "stacked.plot(kind='bar', stacked=True, color=['#e7b300', '#ffe282'])\n",
    "\n",
    "plt.ylabel(\"Chain to non-chain places\")\n",
    "plt.xlabel(\"\")\n",
    "plt.title(\"Proportions of chain and non-chain establishments by type\")\n",
    "\n",
    "\n",
    "# Locate the legend poutside of the plot\n",
    "plt.legend(bbox_to_anchor=(1.01, 0.95), loc='upper left', fontsize=12, labelspacing=1.5)\n",
    "\n",
    "plt.xticks(rotation=0) # rotate the tick labels on the X axis 45 degrees\n",
    "\n",
    "\n",
    "plt.show()"
   ]
  },
  {
   "cell_type": "markdown",
   "id": "3960263d",
   "metadata": {},
   "source": [
    "For some reason all the backeries work in chains. Than the majority of about 60% of cafes and fast food establishments work in chains. Pretty reasonably, bars are the most independent establishments with less than 30% of them working in chains."
   ]
  },
  {
   "cell_type": "markdown",
   "id": "7b417d13",
   "metadata": {},
   "source": [
    "[Back to Content](#content)"
   ]
  },
  {
   "cell_type": "markdown",
   "id": "099526be",
   "metadata": {},
   "source": [
    "### Characteristics of chains"
   ]
  },
  {
   "cell_type": "markdown",
   "id": "d6c45a74",
   "metadata": {},
   "source": [
    "Let's look into chains."
   ]
  },
  {
   "cell_type": "code",
   "execution_count": 51,
   "id": "b741371d",
   "metadata": {},
   "outputs": [],
   "source": [
    "chains = rest_data[rest_data['chain'] == True]"
   ]
  },
  {
   "cell_type": "code",
   "execution_count": 52,
   "id": "e8fa874a",
   "metadata": {},
   "outputs": [
    {
     "data": {
      "text/plain": [
       "count    3653.000000\n",
       "mean       39.648782\n",
       "std        43.441745\n",
       "min         1.000000\n",
       "25%        13.000000\n",
       "50%        25.000000\n",
       "75%        44.000000\n",
       "max       229.000000\n",
       "Name: number, dtype: float64"
      ]
     },
     "execution_count": 52,
     "metadata": {},
     "output_type": "execute_result"
    }
   ],
   "source": [
    "chains['number'].describe()"
   ]
  },
  {
   "cell_type": "markdown",
   "id": "afce97b7",
   "metadata": {},
   "source": [
    "We have in total 3653 establishments in chains with the median of 25 seats. In general we have already seen how different different types of establishement are; thus, we need to check out the seat distributions by types. To this end, box plots seem to fit most."
   ]
  },
  {
   "cell_type": "code",
   "execution_count": 53,
   "id": "18f692d8",
   "metadata": {},
   "outputs": [
    {
     "data": {
      "image/png": "[encoded data removed]",
      "text/plain": [
       "<Figure size 1008x432 with 1 Axes>"
      ]
     },
     "metadata": {},
     "output_type": "display_data"
    }
   ],
   "source": [
    "sns.set(rc={\"figure.figsize\":(14, 6)})\n",
    "ag = sns.boxplot(y='object_type', x='number', hue='object_type', data=chains, orient=\"h\",\n",
    "                palette=sns.color_palette(\"YlOrBr\"))\n",
    "\n",
    "plt.legend(bbox_to_anchor=(1.01, 0.85), loc='upper left', fontsize=12, labelspacing=1.5)\n",
    "\n",
    "ag.set(yticklabels=[])  \n",
    "plt.ylabel(\"\")\n",
    "plt.xlabel(\"Number of seats\")\n",
    "plt.show()"
   ]
  },
  {
   "cell_type": "markdown",
   "id": "c2653172",
   "metadata": {},
   "source": [
    "Indeed, the distributions differ a lot, though five out of six types of establishments do have one characteristic in common: their distributions are skewed to the right, meaning that they have more objects with smaller number of seats, only backeries are in the opposite situation, they have relatively more objects with higher number of seats. All the types have medians below 25 seats, while restaurants have more seats in general (this is the reason why the whole dataset has the median value of 25)."
   ]
  },
  {
   "cell_type": "markdown",
   "id": "4deffa67",
   "metadata": {},
   "source": [
    "[Back to Content](#content)"
   ]
  },
  {
   "cell_type": "markdown",
   "id": "b74abb00",
   "metadata": {},
   "source": [
    "### Average number of seats for each type of establishment"
   ]
  },
  {
   "cell_type": "markdown",
   "id": "68b91ee0",
   "metadata": {},
   "source": [
    "Let's prepare some stats."
   ]
  },
  {
   "cell_type": "code",
   "execution_count": 54,
   "id": "320db01d",
   "metadata": {},
   "outputs": [],
   "source": [
    "rest_stats = rest_data.pivot_table(index = 'object_type',\n",
    "                                   columns = 'chain',\n",
    "                                   values = 'number',\n",
    "                                   aggfunc = ['count','median', 'mean', 'std'])"
   ]
  },
  {
   "cell_type": "code",
   "execution_count": 55,
   "id": "ed648d62",
   "metadata": {},
   "outputs": [],
   "source": [
    "rest_stats.columns = [\n",
    "            'Count\\nIndependent object',\n",
    "            'Count\\nChain object',\n",
    "            'Median\\nIndependent object',\n",
    "            'Median\\nChain object',\n",
    "            'Mean\\nIndependent object',\n",
    "            'Mean\\nChain object',\n",
    "            'STD\\nIndependent object',\n",
    "            'STD\\nChain object']\n",
    "    "
   ]
  },
  {
   "cell_type": "markdown",
   "id": "178fb75e",
   "metadata": {},
   "source": [
    "Let's visualize tthese numbers."
   ]
  },
  {
   "cell_type": "code",
   "execution_count": 56,
   "id": "679e1f96",
   "metadata": {},
   "outputs": [],
   "source": [
    "def viz(df, fmt = '.0f', title = '',\n",
    "               xlabel = \"\", ylabel = \"\", vmin = None, vmax = None):\n",
    "    \"\"\"\n",
    "    A function which takes a cohort pivot table df and visualizes it as a heatmap.\n",
    "    For more flexibility, it can take a rounding parameter fmt, and a title string.\n",
    "    \"\"\"\n",
    "    plt.figure(figsize=(18, 4))\n",
    "    plt.title(title)\n",
    "    sns.heatmap(\n",
    "        data = df, cmap=\"YlOrBr\",\n",
    "        annot=True,\n",
    "        fmt=fmt,\n",
    "        linewidths=2,\n",
    "        linecolor='lightgray',\n",
    "        vmin = vmin,\n",
    "        vmax = vmax\n",
    "    )\n",
    "    plt.xlabel(xlabel)\n",
    "    plt.ylabel(ylabel)\n",
    "    plt.show()"
   ]
  },
  {
   "cell_type": "code",
   "execution_count": 57,
   "id": "0159318b",
   "metadata": {},
   "outputs": [
    {
     "data": {
      "image/png": "[encoded data removed]",
      "text/plain": [
       "<Figure size 1296x288 with 2 Axes>"
      ]
     },
     "metadata": {},
     "output_type": "display_data"
    }
   ],
   "source": [
    "title = 'Total number of objects and their seat stats by type of establishment - meadian, mean, standard deviation'\n",
    "viz(rest_stats, title = title, vmax = 70) # rescale the color scale to underline the stats on the seat number"
   ]
  },
  {
   "cell_type": "markdown",
   "id": "8b6095ba",
   "metadata": {},
   "source": [
    "Now we see that, in terms of the median, independent bars have more seats than any other type of establishment; while in terms of the average, independent restaurants have more seats; at the same moment,the value of standard deviation indicates that the difference between the numbers can be insignificant. Anyway, given the form of the distribution, which we have demonstrated above, we would have to employ a non-parametric test to check whether any difference between the distributions for bars and for restaurants takes place, such as the Wilcoxon-Mann-Whitney Non-parametric Test. Let's actually do a quick check, for the sake of curiosity:"
   ]
  },
  {
   "cell_type": "code",
   "execution_count": 58,
   "id": "406c324f",
   "metadata": {},
   "outputs": [],
   "source": [
    "samplea = rest_data[(rest_data['chain']==False) & (rest_data['object_type']=='Restaurant')]['number']\n",
    "sampleb = rest_data[(rest_data['chain']==False) & (rest_data['object_type']=='Bar')]['number']"
   ]
  },
  {
   "cell_type": "markdown",
   "id": "43985de7",
   "metadata": {},
   "source": [
    "So, we have prepared the samples, now, let's formulate the null and the alternative hypotheses for testing:\n",
    "1. The null hypothesis: there is no difference in the distributions of the two groups.\n",
    "2. Alternative hypothesis: the distributions are different.\n",
    "3. p-value: 0.05. We will reject the null hypothesis if the p-value is higher."
   ]
  },
  {
   "cell_type": "code",
   "execution_count": 59,
   "id": "5579cb8e",
   "metadata": {},
   "outputs": [
    {
     "name": "stdout",
     "output_type": "stream",
     "text": [
      "0.846\n"
     ]
    }
   ],
   "source": [
    "print(\"{0:.3f}\".format(st.mannwhitneyu(samplea, sampleb)[1]))"
   ]
  },
  {
   "cell_type": "markdown",
   "id": "cd3b9df7",
   "metadata": {},
   "source": [
    "Thus, the p-value is considerably higher than 0.05, so there's no reason to reject the null hypothesis and conclude that the two samples have different characteristics. We can actually conclude that independent bars and restaurants have the greatest number of seats, \"on average\", around 30. Let's make another quick check, calculate the exact share of chain restaurants in the dataset:\n"
   ]
  },
  {
   "cell_type": "code",
   "execution_count": 60,
   "id": "2fb89236",
   "metadata": {},
   "outputs": [
    {
     "data": {
      "text/plain": [
       "0.3155413836129211"
      ]
     },
     "execution_count": 60,
     "metadata": {},
     "output_type": "execute_result"
    }
   ],
   "source": [
    "len(rest_data[(rest_data['object_type']=='Restaurant')\n",
    "             & (rest_data['chain']== True)])/len(rest_data[rest_data['object_type']=='Restaurant'])"
   ]
  },
  {
   "cell_type": "markdown",
   "id": "b92c7fdb",
   "metadata": {},
   "source": [
    "For the presentation we will use a simplier version of this heatmap."
   ]
  },
  {
   "cell_type": "code",
   "execution_count": 61,
   "id": "58979675",
   "metadata": {},
   "outputs": [],
   "source": [
    "rest_stats = rest_data.pivot_table(index = 'object_type',\n",
    "                                   columns = 'chain',\n",
    "                                   values = 'number',\n",
    "                                   aggfunc = ['count','median', 'mean'])"
   ]
  },
  {
   "cell_type": "code",
   "execution_count": 62,
   "id": "484c7785",
   "metadata": {},
   "outputs": [],
   "source": [
    "rest_stats.columns = [\n",
    "            'Share\\nIndependent object',\n",
    "            'Share\\nChain object',\n",
    "            'Median\\nIndependent object',\n",
    "            'Median\\nChain object',\n",
    "            'Mean\\nIndependent object',\n",
    "            'Mean\\nChain object']"
   ]
  },
  {
   "cell_type": "code",
   "execution_count": 63,
   "id": "6c6b2570",
   "metadata": {},
   "outputs": [],
   "source": [
    "rest_stats['total'] = (rest_stats['Share\\nIndependent object'].fillna(0)\n",
    "                                           +rest_stats['Share\\nChain object'])\n",
    "\n",
    "rest_stats['Share\\nIndependent object'] = 100*rest_stats['Share\\nIndependent object'].fillna(0) / rest_stats['total']\n",
    "rest_stats['Share\\nChain object'] = 100*rest_stats['Share\\nChain object'] / rest_stats['total']\n",
    "rest_stats.drop(columns = 'total', inplace = True)"
   ]
  },
  {
   "cell_type": "code",
   "execution_count": 64,
   "id": "d0b550ad",
   "metadata": {},
   "outputs": [
    {
     "data": {
      "image/png": "[encoded data removed]",
      "text/plain": [
       "<Figure size 1296x288 with 2 Axes>"
      ]
     },
     "metadata": {},
     "output_type": "display_data"
    }
   ],
   "source": [
    "title = 'Total share of objects and their seat stats by type of establishment - meadian, mean, standard deviation'\n",
    "viz(rest_stats, title = title, vmax = 70) # rescale the color scale to underline the stats on the seat number"
   ]
  },
  {
   "cell_type": "markdown",
   "id": "b5ffcf83",
   "metadata": {},
   "source": [
    "[Back to Content](#content)"
   ]
  },
  {
   "cell_type": "markdown",
   "id": "3890e195",
   "metadata": {},
   "source": [
    "### Top ten streets by number of restaurants and the number of seets in them"
   ]
  },
  {
   "cell_type": "markdown",
   "id": "8f0b40e8",
   "metadata": {},
   "source": [
    "Let's put the data on street names from the address column in a separate column and study the top ten streets by number of restaurants."
   ]
  },
  {
   "cell_type": "markdown",
   "id": "2ef47005",
   "metadata": {},
   "source": [
    "Let's recap how the addresses look like."
   ]
  },
  {
   "cell_type": "code",
   "execution_count": 65,
   "id": "770740dd",
   "metadata": {},
   "outputs": [
    {
     "data": {
      "text/html": [
       "<div>\n",
       "<style scoped>\n",
       "    .dataframe tbody tr th:only-of-type {\n",
       "        vertical-align: middle;\n",
       "    }\n",
       "\n",
       "    .dataframe tbody tr th {\n",
       "        vertical-align: top;\n",
       "    }\n",
       "\n",
       "    .dataframe thead th {\n",
       "        text-align: right;\n",
       "    }\n",
       "</style>\n",
       "<table border=\"1\" class=\"dataframe\">\n",
       "  <thead>\n",
       "    <tr style=\"text-align: right;\">\n",
       "      <th></th>\n",
       "      <th>id</th>\n",
       "      <th>object_name</th>\n",
       "      <th>address</th>\n",
       "      <th>chain</th>\n",
       "      <th>object_type</th>\n",
       "      <th>number</th>\n",
       "    </tr>\n",
       "  </thead>\n",
       "  <tbody>\n",
       "    <tr>\n",
       "      <th>0</th>\n",
       "      <td>11786</td>\n",
       "      <td>HABITAT COFFEE SHOP</td>\n",
       "      <td>3708 N EAGLE ROCK BLVD</td>\n",
       "      <td>False</td>\n",
       "      <td>Cafe</td>\n",
       "      <td>26</td>\n",
       "    </tr>\n",
       "    <tr>\n",
       "      <th>1</th>\n",
       "      <td>11787</td>\n",
       "      <td>REILLY'S</td>\n",
       "      <td>100 WORLD WAY # 120</td>\n",
       "      <td>False</td>\n",
       "      <td>Restaurant</td>\n",
       "      <td>9</td>\n",
       "    </tr>\n",
       "    <tr>\n",
       "      <th>2</th>\n",
       "      <td>11788</td>\n",
       "      <td>STREET CHURROS</td>\n",
       "      <td>6801 HOLLYWOOD BLVD # 253</td>\n",
       "      <td>False</td>\n",
       "      <td>Fast Food</td>\n",
       "      <td>20</td>\n",
       "    </tr>\n",
       "    <tr>\n",
       "      <th>3</th>\n",
       "      <td>11789</td>\n",
       "      <td>TRINITI ECHO PARK</td>\n",
       "      <td>1814 W SUNSET BLVD</td>\n",
       "      <td>False</td>\n",
       "      <td>Restaurant</td>\n",
       "      <td>22</td>\n",
       "    </tr>\n",
       "    <tr>\n",
       "      <th>4</th>\n",
       "      <td>11790</td>\n",
       "      <td>POLLEN</td>\n",
       "      <td>2100 ECHO PARK AVE</td>\n",
       "      <td>False</td>\n",
       "      <td>Restaurant</td>\n",
       "      <td>20</td>\n",
       "    </tr>\n",
       "    <tr>\n",
       "      <th>5</th>\n",
       "      <td>11791</td>\n",
       "      <td>THE SPOT GRILL</td>\n",
       "      <td>10004 NATIONAL BLVD</td>\n",
       "      <td>False</td>\n",
       "      <td>Restaurant</td>\n",
       "      <td>14</td>\n",
       "    </tr>\n",
       "    <tr>\n",
       "      <th>6</th>\n",
       "      <td>11792</td>\n",
       "      <td>CPK</td>\n",
       "      <td>100 WORLD WAY # 126</td>\n",
       "      <td>False</td>\n",
       "      <td>Restaurant</td>\n",
       "      <td>100</td>\n",
       "    </tr>\n",
       "    <tr>\n",
       "      <th>7</th>\n",
       "      <td>11793</td>\n",
       "      <td>PHO LALA</td>\n",
       "      <td>3500 W 6TH ST STE 226</td>\n",
       "      <td>False</td>\n",
       "      <td>Restaurant</td>\n",
       "      <td>7</td>\n",
       "    </tr>\n",
       "    <tr>\n",
       "      <th>8</th>\n",
       "      <td>11794</td>\n",
       "      <td>ABC DONUTS</td>\n",
       "      <td>3027 N SAN FERNANDO RD UNIT 103</td>\n",
       "      <td>True</td>\n",
       "      <td>Fast Food</td>\n",
       "      <td>1</td>\n",
       "    </tr>\n",
       "    <tr>\n",
       "      <th>9</th>\n",
       "      <td>11795</td>\n",
       "      <td>UPSTAIRS</td>\n",
       "      <td>3707 N CAHUENGA BLVD</td>\n",
       "      <td>False</td>\n",
       "      <td>Restaurant</td>\n",
       "      <td>35</td>\n",
       "    </tr>\n",
       "    <tr>\n",
       "      <th>10</th>\n",
       "      <td>11796</td>\n",
       "      <td>EL POLLO LOCO</td>\n",
       "      <td>5319 W SUNSET BLVD</td>\n",
       "      <td>True</td>\n",
       "      <td>Restaurant</td>\n",
       "      <td>38</td>\n",
       "    </tr>\n",
       "    <tr>\n",
       "      <th>11</th>\n",
       "      <td>11797</td>\n",
       "      <td>POONG NYUN BAKERY</td>\n",
       "      <td>928 S WESTERN AVE STE 109</td>\n",
       "      <td>True</td>\n",
       "      <td>Bakery</td>\n",
       "      <td>17</td>\n",
       "    </tr>\n",
       "    <tr>\n",
       "      <th>12</th>\n",
       "      <td>11798</td>\n",
       "      <td>EMC RESTAURANT GROUP LLC</td>\n",
       "      <td>3500 W 6TH ST STE 101</td>\n",
       "      <td>True</td>\n",
       "      <td>Restaurant</td>\n",
       "      <td>133</td>\n",
       "    </tr>\n",
       "    <tr>\n",
       "      <th>13</th>\n",
       "      <td>11799</td>\n",
       "      <td>POPULAR DONUTS</td>\n",
       "      <td>3614 W SLAUSON AVE</td>\n",
       "      <td>False</td>\n",
       "      <td>Fast Food</td>\n",
       "      <td>18</td>\n",
       "    </tr>\n",
       "    <tr>\n",
       "      <th>14</th>\n",
       "      <td>11800</td>\n",
       "      <td>CUSCATLECA BAKERY</td>\n",
       "      <td>2501 W SUNSET BLVD #A</td>\n",
       "      <td>True</td>\n",
       "      <td>Bakery</td>\n",
       "      <td>26</td>\n",
       "    </tr>\n",
       "    <tr>\n",
       "      <th>15</th>\n",
       "      <td>11801</td>\n",
       "      <td>FOOD COURT TRAY WASHING AREA</td>\n",
       "      <td>928 S WESTERN AVE STE 300</td>\n",
       "      <td>True</td>\n",
       "      <td>Restaurant</td>\n",
       "      <td>21</td>\n",
       "    </tr>\n",
       "    <tr>\n",
       "      <th>16</th>\n",
       "      <td>11802</td>\n",
       "      <td>HMS BOUNTY</td>\n",
       "      <td>3357 WILSHIRE BLVD</td>\n",
       "      <td>False</td>\n",
       "      <td>Restaurant</td>\n",
       "      <td>147</td>\n",
       "    </tr>\n",
       "    <tr>\n",
       "      <th>17</th>\n",
       "      <td>11803</td>\n",
       "      <td>AN'S CHAN BANG</td>\n",
       "      <td>244 S OXFORD AVE # 5</td>\n",
       "      <td>False</td>\n",
       "      <td>Restaurant</td>\n",
       "      <td>10</td>\n",
       "    </tr>\n",
       "    <tr>\n",
       "      <th>18</th>\n",
       "      <td>11804</td>\n",
       "      <td>MURAKAMI</td>\n",
       "      <td>7160 MELROSE AVE</td>\n",
       "      <td>False</td>\n",
       "      <td>Restaurant</td>\n",
       "      <td>139</td>\n",
       "    </tr>\n",
       "    <tr>\n",
       "      <th>19</th>\n",
       "      <td>11805</td>\n",
       "      <td>DELTA SKY CLUB T3</td>\n",
       "      <td>300 WORLD WAY</td>\n",
       "      <td>False</td>\n",
       "      <td>Restaurant</td>\n",
       "      <td>103</td>\n",
       "    </tr>\n",
       "  </tbody>\n",
       "</table>\n",
       "</div>"
      ],
      "text/plain": [
       "       id                   object_name                          address  \\\n",
       "0   11786           HABITAT COFFEE SHOP           3708 N EAGLE ROCK BLVD   \n",
       "1   11787                      REILLY'S              100 WORLD WAY # 120   \n",
       "2   11788                STREET CHURROS        6801 HOLLYWOOD BLVD # 253   \n",
       "3   11789             TRINITI ECHO PARK               1814 W SUNSET BLVD   \n",
       "4   11790                        POLLEN               2100 ECHO PARK AVE   \n",
       "5   11791                THE SPOT GRILL              10004 NATIONAL BLVD   \n",
       "6   11792                           CPK              100 WORLD WAY # 126   \n",
       "7   11793                      PHO LALA            3500 W 6TH ST STE 226   \n",
       "8   11794                    ABC DONUTS  3027 N SAN FERNANDO RD UNIT 103   \n",
       "9   11795                      UPSTAIRS             3707 N CAHUENGA BLVD   \n",
       "10  11796                 EL POLLO LOCO               5319 W SUNSET BLVD   \n",
       "11  11797             POONG NYUN BAKERY        928 S WESTERN AVE STE 109   \n",
       "12  11798      EMC RESTAURANT GROUP LLC            3500 W 6TH ST STE 101   \n",
       "13  11799                POPULAR DONUTS               3614 W SLAUSON AVE   \n",
       "14  11800             CUSCATLECA BAKERY            2501 W SUNSET BLVD #A   \n",
       "15  11801  FOOD COURT TRAY WASHING AREA        928 S WESTERN AVE STE 300   \n",
       "16  11802                    HMS BOUNTY               3357 WILSHIRE BLVD   \n",
       "17  11803                AN'S CHAN BANG             244 S OXFORD AVE # 5   \n",
       "18  11804                      MURAKAMI                 7160 MELROSE AVE   \n",
       "19  11805             DELTA SKY CLUB T3                    300 WORLD WAY   \n",
       "\n",
       "    chain object_type  number  \n",
       "0   False        Cafe      26  \n",
       "1   False  Restaurant       9  \n",
       "2   False   Fast Food      20  \n",
       "3   False  Restaurant      22  \n",
       "4   False  Restaurant      20  \n",
       "5   False  Restaurant      14  \n",
       "6   False  Restaurant     100  \n",
       "7   False  Restaurant       7  \n",
       "8    True   Fast Food       1  \n",
       "9   False  Restaurant      35  \n",
       "10   True  Restaurant      38  \n",
       "11   True      Bakery      17  \n",
       "12   True  Restaurant     133  \n",
       "13  False   Fast Food      18  \n",
       "14   True      Bakery      26  \n",
       "15   True  Restaurant      21  \n",
       "16  False  Restaurant     147  \n",
       "17  False  Restaurant      10  \n",
       "18  False  Restaurant     139  \n",
       "19  False  Restaurant     103  "
      ]
     },
     "execution_count": 65,
     "metadata": {},
     "output_type": "execute_result"
    }
   ],
   "source": [
    "rest_data.head(20)"
   ]
  },
  {
   "cell_type": "markdown",
   "id": "38e07f88",
   "metadata": {},
   "source": [
    "OK, we need to extract only the code in the beginning and letters (words) and drop the special sign `#`, numbers and `STE` and `UNIT` sign at the end. To this purose, we will define two short functions:"
   ]
  },
  {
   "cell_type": "code",
   "execution_count": 66,
   "id": "ce79dd47",
   "metadata": {},
   "outputs": [],
   "source": [
    "def r(lst):\n",
    "    #drop the last item in a list if it is a number\n",
    "    if lst[-1].isdigit():\n",
    "        return lst[:-1]\n",
    "    else:\n",
    "        return lst"
   ]
  },
  {
   "cell_type": "code",
   "execution_count": 67,
   "id": "ba321896",
   "metadata": {},
   "outputs": [],
   "source": [
    "def p(lst):\n",
    "    #drop the last item in a list if it is a number\n",
    "    if lst[-1] == 'STE' or lst[-1] == 'UNIT':\n",
    "        return lst[:-1]\n",
    "    else:\n",
    "        return lst"
   ]
  },
  {
   "cell_type": "code",
   "execution_count": 68,
   "id": "d5910871",
   "metadata": {},
   "outputs": [],
   "source": [
    "def j(lst):\n",
    "    return \" \".join(lst)"
   ]
  },
  {
   "cell_type": "code",
   "execution_count": 69,
   "id": "3ad2f2c0",
   "metadata": {},
   "outputs": [],
   "source": [
    "rest_data['street'] = rest_data['address'].replace('\\#','', regex = True)"
   ]
  },
  {
   "cell_type": "code",
   "execution_count": 70,
   "id": "0cbb8e73",
   "metadata": {},
   "outputs": [],
   "source": [
    "rest_data['street'] = rest_data['street'].str.split()"
   ]
  },
  {
   "cell_type": "code",
   "execution_count": 71,
   "id": "8736dff6",
   "metadata": {},
   "outputs": [],
   "source": [
    "rest_data['street'] = rest_data['street'].apply(r).apply(p).apply(j)"
   ]
  },
  {
   "cell_type": "code",
   "execution_count": 72,
   "id": "409ee04d",
   "metadata": {},
   "outputs": [
    {
     "data": {
      "text/html": [
       "<div>\n",
       "<style scoped>\n",
       "    .dataframe tbody tr th:only-of-type {\n",
       "        vertical-align: middle;\n",
       "    }\n",
       "\n",
       "    .dataframe tbody tr th {\n",
       "        vertical-align: top;\n",
       "    }\n",
       "\n",
       "    .dataframe thead th {\n",
       "        text-align: right;\n",
       "    }\n",
       "</style>\n",
       "<table border=\"1\" class=\"dataframe\">\n",
       "  <thead>\n",
       "    <tr style=\"text-align: right;\">\n",
       "      <th></th>\n",
       "      <th>id</th>\n",
       "      <th>object_name</th>\n",
       "      <th>address</th>\n",
       "      <th>chain</th>\n",
       "      <th>object_type</th>\n",
       "      <th>number</th>\n",
       "      <th>street</th>\n",
       "    </tr>\n",
       "  </thead>\n",
       "  <tbody>\n",
       "    <tr>\n",
       "      <th>0</th>\n",
       "      <td>11786</td>\n",
       "      <td>HABITAT COFFEE SHOP</td>\n",
       "      <td>3708 N EAGLE ROCK BLVD</td>\n",
       "      <td>False</td>\n",
       "      <td>Cafe</td>\n",
       "      <td>26</td>\n",
       "      <td>3708 N EAGLE ROCK BLVD</td>\n",
       "    </tr>\n",
       "    <tr>\n",
       "      <th>1</th>\n",
       "      <td>11787</td>\n",
       "      <td>REILLY'S</td>\n",
       "      <td>100 WORLD WAY # 120</td>\n",
       "      <td>False</td>\n",
       "      <td>Restaurant</td>\n",
       "      <td>9</td>\n",
       "      <td>100 WORLD WAY</td>\n",
       "    </tr>\n",
       "    <tr>\n",
       "      <th>2</th>\n",
       "      <td>11788</td>\n",
       "      <td>STREET CHURROS</td>\n",
       "      <td>6801 HOLLYWOOD BLVD # 253</td>\n",
       "      <td>False</td>\n",
       "      <td>Fast Food</td>\n",
       "      <td>20</td>\n",
       "      <td>6801 HOLLYWOOD BLVD</td>\n",
       "    </tr>\n",
       "    <tr>\n",
       "      <th>3</th>\n",
       "      <td>11789</td>\n",
       "      <td>TRINITI ECHO PARK</td>\n",
       "      <td>1814 W SUNSET BLVD</td>\n",
       "      <td>False</td>\n",
       "      <td>Restaurant</td>\n",
       "      <td>22</td>\n",
       "      <td>1814 W SUNSET BLVD</td>\n",
       "    </tr>\n",
       "    <tr>\n",
       "      <th>4</th>\n",
       "      <td>11790</td>\n",
       "      <td>POLLEN</td>\n",
       "      <td>2100 ECHO PARK AVE</td>\n",
       "      <td>False</td>\n",
       "      <td>Restaurant</td>\n",
       "      <td>20</td>\n",
       "      <td>2100 ECHO PARK AVE</td>\n",
       "    </tr>\n",
       "    <tr>\n",
       "      <th>5</th>\n",
       "      <td>11791</td>\n",
       "      <td>THE SPOT GRILL</td>\n",
       "      <td>10004 NATIONAL BLVD</td>\n",
       "      <td>False</td>\n",
       "      <td>Restaurant</td>\n",
       "      <td>14</td>\n",
       "      <td>10004 NATIONAL BLVD</td>\n",
       "    </tr>\n",
       "    <tr>\n",
       "      <th>6</th>\n",
       "      <td>11792</td>\n",
       "      <td>CPK</td>\n",
       "      <td>100 WORLD WAY # 126</td>\n",
       "      <td>False</td>\n",
       "      <td>Restaurant</td>\n",
       "      <td>100</td>\n",
       "      <td>100 WORLD WAY</td>\n",
       "    </tr>\n",
       "    <tr>\n",
       "      <th>7</th>\n",
       "      <td>11793</td>\n",
       "      <td>PHO LALA</td>\n",
       "      <td>3500 W 6TH ST STE 226</td>\n",
       "      <td>False</td>\n",
       "      <td>Restaurant</td>\n",
       "      <td>7</td>\n",
       "      <td>3500 W 6TH ST</td>\n",
       "    </tr>\n",
       "    <tr>\n",
       "      <th>8</th>\n",
       "      <td>11794</td>\n",
       "      <td>ABC DONUTS</td>\n",
       "      <td>3027 N SAN FERNANDO RD UNIT 103</td>\n",
       "      <td>True</td>\n",
       "      <td>Fast Food</td>\n",
       "      <td>1</td>\n",
       "      <td>3027 N SAN FERNANDO RD</td>\n",
       "    </tr>\n",
       "    <tr>\n",
       "      <th>9</th>\n",
       "      <td>11795</td>\n",
       "      <td>UPSTAIRS</td>\n",
       "      <td>3707 N CAHUENGA BLVD</td>\n",
       "      <td>False</td>\n",
       "      <td>Restaurant</td>\n",
       "      <td>35</td>\n",
       "      <td>3707 N CAHUENGA BLVD</td>\n",
       "    </tr>\n",
       "    <tr>\n",
       "      <th>10</th>\n",
       "      <td>11796</td>\n",
       "      <td>EL POLLO LOCO</td>\n",
       "      <td>5319 W SUNSET BLVD</td>\n",
       "      <td>True</td>\n",
       "      <td>Restaurant</td>\n",
       "      <td>38</td>\n",
       "      <td>5319 W SUNSET BLVD</td>\n",
       "    </tr>\n",
       "    <tr>\n",
       "      <th>11</th>\n",
       "      <td>11797</td>\n",
       "      <td>POONG NYUN BAKERY</td>\n",
       "      <td>928 S WESTERN AVE STE 109</td>\n",
       "      <td>True</td>\n",
       "      <td>Bakery</td>\n",
       "      <td>17</td>\n",
       "      <td>928 S WESTERN AVE</td>\n",
       "    </tr>\n",
       "    <tr>\n",
       "      <th>12</th>\n",
       "      <td>11798</td>\n",
       "      <td>EMC RESTAURANT GROUP LLC</td>\n",
       "      <td>3500 W 6TH ST STE 101</td>\n",
       "      <td>True</td>\n",
       "      <td>Restaurant</td>\n",
       "      <td>133</td>\n",
       "      <td>3500 W 6TH ST</td>\n",
       "    </tr>\n",
       "    <tr>\n",
       "      <th>13</th>\n",
       "      <td>11799</td>\n",
       "      <td>POPULAR DONUTS</td>\n",
       "      <td>3614 W SLAUSON AVE</td>\n",
       "      <td>False</td>\n",
       "      <td>Fast Food</td>\n",
       "      <td>18</td>\n",
       "      <td>3614 W SLAUSON AVE</td>\n",
       "    </tr>\n",
       "    <tr>\n",
       "      <th>14</th>\n",
       "      <td>11800</td>\n",
       "      <td>CUSCATLECA BAKERY</td>\n",
       "      <td>2501 W SUNSET BLVD #A</td>\n",
       "      <td>True</td>\n",
       "      <td>Bakery</td>\n",
       "      <td>26</td>\n",
       "      <td>2501 W SUNSET BLVD A</td>\n",
       "    </tr>\n",
       "    <tr>\n",
       "      <th>15</th>\n",
       "      <td>11801</td>\n",
       "      <td>FOOD COURT TRAY WASHING AREA</td>\n",
       "      <td>928 S WESTERN AVE STE 300</td>\n",
       "      <td>True</td>\n",
       "      <td>Restaurant</td>\n",
       "      <td>21</td>\n",
       "      <td>928 S WESTERN AVE</td>\n",
       "    </tr>\n",
       "    <tr>\n",
       "      <th>16</th>\n",
       "      <td>11802</td>\n",
       "      <td>HMS BOUNTY</td>\n",
       "      <td>3357 WILSHIRE BLVD</td>\n",
       "      <td>False</td>\n",
       "      <td>Restaurant</td>\n",
       "      <td>147</td>\n",
       "      <td>3357 WILSHIRE BLVD</td>\n",
       "    </tr>\n",
       "    <tr>\n",
       "      <th>17</th>\n",
       "      <td>11803</td>\n",
       "      <td>AN'S CHAN BANG</td>\n",
       "      <td>244 S OXFORD AVE # 5</td>\n",
       "      <td>False</td>\n",
       "      <td>Restaurant</td>\n",
       "      <td>10</td>\n",
       "      <td>244 S OXFORD AVE</td>\n",
       "    </tr>\n",
       "    <tr>\n",
       "      <th>18</th>\n",
       "      <td>11804</td>\n",
       "      <td>MURAKAMI</td>\n",
       "      <td>7160 MELROSE AVE</td>\n",
       "      <td>False</td>\n",
       "      <td>Restaurant</td>\n",
       "      <td>139</td>\n",
       "      <td>7160 MELROSE AVE</td>\n",
       "    </tr>\n",
       "    <tr>\n",
       "      <th>19</th>\n",
       "      <td>11805</td>\n",
       "      <td>DELTA SKY CLUB T3</td>\n",
       "      <td>300 WORLD WAY</td>\n",
       "      <td>False</td>\n",
       "      <td>Restaurant</td>\n",
       "      <td>103</td>\n",
       "      <td>300 WORLD WAY</td>\n",
       "    </tr>\n",
       "  </tbody>\n",
       "</table>\n",
       "</div>"
      ],
      "text/plain": [
       "       id                   object_name                          address  \\\n",
       "0   11786           HABITAT COFFEE SHOP           3708 N EAGLE ROCK BLVD   \n",
       "1   11787                      REILLY'S              100 WORLD WAY # 120   \n",
       "2   11788                STREET CHURROS        6801 HOLLYWOOD BLVD # 253   \n",
       "3   11789             TRINITI ECHO PARK               1814 W SUNSET BLVD   \n",
       "4   11790                        POLLEN               2100 ECHO PARK AVE   \n",
       "5   11791                THE SPOT GRILL              10004 NATIONAL BLVD   \n",
       "6   11792                           CPK              100 WORLD WAY # 126   \n",
       "7   11793                      PHO LALA            3500 W 6TH ST STE 226   \n",
       "8   11794                    ABC DONUTS  3027 N SAN FERNANDO RD UNIT 103   \n",
       "9   11795                      UPSTAIRS             3707 N CAHUENGA BLVD   \n",
       "10  11796                 EL POLLO LOCO               5319 W SUNSET BLVD   \n",
       "11  11797             POONG NYUN BAKERY        928 S WESTERN AVE STE 109   \n",
       "12  11798      EMC RESTAURANT GROUP LLC            3500 W 6TH ST STE 101   \n",
       "13  11799                POPULAR DONUTS               3614 W SLAUSON AVE   \n",
       "14  11800             CUSCATLECA BAKERY            2501 W SUNSET BLVD #A   \n",
       "15  11801  FOOD COURT TRAY WASHING AREA        928 S WESTERN AVE STE 300   \n",
       "16  11802                    HMS BOUNTY               3357 WILSHIRE BLVD   \n",
       "17  11803                AN'S CHAN BANG             244 S OXFORD AVE # 5   \n",
       "18  11804                      MURAKAMI                 7160 MELROSE AVE   \n",
       "19  11805             DELTA SKY CLUB T3                    300 WORLD WAY   \n",
       "\n",
       "    chain object_type  number                  street  \n",
       "0   False        Cafe      26  3708 N EAGLE ROCK BLVD  \n",
       "1   False  Restaurant       9           100 WORLD WAY  \n",
       "2   False   Fast Food      20     6801 HOLLYWOOD BLVD  \n",
       "3   False  Restaurant      22      1814 W SUNSET BLVD  \n",
       "4   False  Restaurant      20      2100 ECHO PARK AVE  \n",
       "5   False  Restaurant      14     10004 NATIONAL BLVD  \n",
       "6   False  Restaurant     100           100 WORLD WAY  \n",
       "7   False  Restaurant       7           3500 W 6TH ST  \n",
       "8    True   Fast Food       1  3027 N SAN FERNANDO RD  \n",
       "9   False  Restaurant      35    3707 N CAHUENGA BLVD  \n",
       "10   True  Restaurant      38      5319 W SUNSET BLVD  \n",
       "11   True      Bakery      17       928 S WESTERN AVE  \n",
       "12   True  Restaurant     133           3500 W 6TH ST  \n",
       "13  False   Fast Food      18      3614 W SLAUSON AVE  \n",
       "14   True      Bakery      26    2501 W SUNSET BLVD A  \n",
       "15   True  Restaurant      21       928 S WESTERN AVE  \n",
       "16  False  Restaurant     147      3357 WILSHIRE BLVD  \n",
       "17  False  Restaurant      10        244 S OXFORD AVE  \n",
       "18  False  Restaurant     139        7160 MELROSE AVE  \n",
       "19  False  Restaurant     103           300 WORLD WAY  "
      ]
     },
     "execution_count": 72,
     "metadata": {},
     "output_type": "execute_result"
    }
   ],
   "source": [
    "rest_data.head(20)"
   ]
  },
  {
   "cell_type": "markdown",
   "id": "d60e1e9a",
   "metadata": {},
   "source": [
    "Great, now we can calculate the TOP10 streets. First, we will count every type of esteblishment and then we will narrow it down to restaurants:"
   ]
  },
  {
   "cell_type": "code",
   "execution_count": 73,
   "id": "bdd15c00",
   "metadata": {},
   "outputs": [],
   "source": [
    "street_stats = rest_data['street'].value_counts()"
   ]
  },
  {
   "cell_type": "code",
   "execution_count": 74,
   "id": "7fbb04aa",
   "metadata": {},
   "outputs": [],
   "source": [
    "street_stats.name = 'street_stats'"
   ]
  },
  {
   "cell_type": "code",
   "execution_count": 75,
   "id": "9e3afe2b",
   "metadata": {},
   "outputs": [],
   "source": [
    "street_stats = pd.DataFrame(street_stats)"
   ]
  },
  {
   "cell_type": "code",
   "execution_count": 76,
   "id": "b8e30d5a",
   "metadata": {},
   "outputs": [
    {
     "data": {
      "text/html": [
       "<div>\n",
       "<style scoped>\n",
       "    .dataframe tbody tr th:only-of-type {\n",
       "        vertical-align: middle;\n",
       "    }\n",
       "\n",
       "    .dataframe tbody tr th {\n",
       "        vertical-align: top;\n",
       "    }\n",
       "\n",
       "    .dataframe thead th {\n",
       "        text-align: right;\n",
       "    }\n",
       "</style>\n",
       "<table border=\"1\" class=\"dataframe\">\n",
       "  <thead>\n",
       "    <tr style=\"text-align: right;\">\n",
       "      <th></th>\n",
       "      <th>street_stats</th>\n",
       "    </tr>\n",
       "  </thead>\n",
       "  <tbody>\n",
       "    <tr>\n",
       "      <th>6333 W 3RD ST</th>\n",
       "      <td>48</td>\n",
       "    </tr>\n",
       "    <tr>\n",
       "      <th>10250 SANTA MONICA BLVD</th>\n",
       "      <td>41</td>\n",
       "    </tr>\n",
       "    <tr>\n",
       "      <th>6801 HOLLYWOOD BLVD</th>\n",
       "      <td>29</td>\n",
       "    </tr>\n",
       "    <tr>\n",
       "      <th>928 S WESTERN AVE</th>\n",
       "      <td>26</td>\n",
       "    </tr>\n",
       "    <tr>\n",
       "      <th>3500 W 6TH ST</th>\n",
       "      <td>24</td>\n",
       "    </tr>\n",
       "    <tr>\n",
       "      <th>...</th>\n",
       "      <td>...</td>\n",
       "    </tr>\n",
       "    <tr>\n",
       "      <th>5009 MELROSE AVE</th>\n",
       "      <td>1</td>\n",
       "    </tr>\n",
       "    <tr>\n",
       "      <th>1822 W 7TH ST</th>\n",
       "      <td>1</td>\n",
       "    </tr>\n",
       "    <tr>\n",
       "      <th>9750 AIRPORT BLVD</th>\n",
       "      <td>1</td>\n",
       "    </tr>\n",
       "    <tr>\n",
       "      <th>4630 WHITTIER BLVD</th>\n",
       "      <td>1</td>\n",
       "    </tr>\n",
       "    <tr>\n",
       "      <th>1941 HYPERION AVE</th>\n",
       "      <td>1</td>\n",
       "    </tr>\n",
       "  </tbody>\n",
       "</table>\n",
       "<p>7478 rows × 1 columns</p>\n",
       "</div>"
      ],
      "text/plain": [
       "                         street_stats\n",
       "6333 W 3RD ST                      48\n",
       "10250 SANTA MONICA BLVD            41\n",
       "6801 HOLLYWOOD BLVD                29\n",
       "928 S WESTERN AVE                  26\n",
       "3500 W 6TH ST                      24\n",
       "...                               ...\n",
       "5009 MELROSE AVE                    1\n",
       "1822 W 7TH ST                       1\n",
       "9750 AIRPORT BLVD                   1\n",
       "4630 WHITTIER BLVD                  1\n",
       "1941 HYPERION AVE                   1\n",
       "\n",
       "[7478 rows x 1 columns]"
      ]
     },
     "execution_count": 76,
     "metadata": {},
     "output_type": "execute_result"
    }
   ],
   "source": [
    "street_stats"
   ]
  },
  {
   "cell_type": "markdown",
   "id": "7054a065",
   "metadata": {},
   "source": [
    "Hm... Impressive, 48 objects on one street... Let's put it onto a plot."
   ]
  },
  {
   "cell_type": "code",
   "execution_count": 77,
   "id": "b950782b",
   "metadata": {},
   "outputs": [
    {
     "data": {
      "application/vnd.plotly.v1+json": {
       "config": {
        "linkText": "Export to plot.ly",
        "plotlyServerURL": "https://plot.ly",
        "showLink": true
       },
       "data": [
        {
         "marker": {
          "color": "rgba(255, 153, 51, 0.6)",
          "line": {
           "color": "rgba(255, 153, 51, 1.0)",
           "width": 1
          }
         },
         "name": "street_stats",
         "orientation": "v",
         "text": "",
         "type": "bar",
         "x": [
          "6333 W 3RD ST",
          "10250 SANTA MONICA BLVD",
          "6801 HOLLYWOOD BLVD",
          "928 S WESTERN AVE",
          "3500 W 6TH ST",
          "735 S FIGUEROA ST",
          "3250 W OLYMPIC BLVD",
          "3425 E 1ST ST",
          "735 E 12TH ST",
          "333 S ALAMEDA ST"
         ],
         "y": [
          48,
          41,
          29,
          26,
          24,
          20,
          20,
          19,
          18,
          18
         ]
        }
       ],
       "layout": {
        "legend": {
         "bgcolor": "#F5F6F9",
         "font": {
          "color": "#4D5663"
         }
        },
        "paper_bgcolor": "#F5F6F9",
        "plot_bgcolor": "#F5F6F9",
        "template": {
         "data": {
          "bar": [
           {
            "error_x": {
             "color": "#2a3f5f"
            },
            "error_y": {
             "color": "#2a3f5f"
            },
            "marker": {
             "line": {
              "color": "#E5ECF6",
              "width": 0.5
             },
             "pattern": {
              "fillmode": "overlay",
              "size": 10,
              "solidity": 0.2
             }
            },
            "type": "bar"
           }
          ],
          "barpolar": [
           {
            "marker": {
             "line": {
              "color": "#E5ECF6",
              "width": 0.5
             },
             "pattern": {
              "fillmode": "overlay",
              "size": 10,
              "solidity": 0.2
             }
            },
            "type": "barpolar"
           }
          ],
          "carpet": [
           {
            "aaxis": {
             "endlinecolor": "#2a3f5f",
             "gridcolor": "white",
             "linecolor": "white",
             "minorgridcolor": "white",
             "startlinecolor": "#2a3f5f"
            },
            "baxis": {
             "endlinecolor": "#2a3f5f",
             "gridcolor": "white",
             "linecolor": "white",
             "minorgridcolor": "white",
             "startlinecolor": "#2a3f5f"
            },
            "type": "carpet"
           }
          ],
          "choropleth": [
           {
            "colorbar": {
             "outlinewidth": 0,
             "ticks": ""
            },
            "type": "choropleth"
           }
          ],
          "contour": [
           {
            "colorbar": {
             "outlinewidth": 0,
             "ticks": ""
            },
            "colorscale": [
             [
              0,
              "#0d0887"
             ],
             [
              0.1111111111111111,
              "#46039f"
             ],
             [
              0.2222222222222222,
              "#7201a8"
             ],
             [
              0.3333333333333333,
              "#9c179e"
             ],
             [
              0.4444444444444444,
              "#bd3786"
             ],
             [
              0.5555555555555556,
              "#d8576b"
             ],
             [
              0.6666666666666666,
              "#ed7953"
             ],
             [
              0.7777777777777778,
              "#fb9f3a"
             ],
             [
              0.8888888888888888,
              "#fdca26"
             ],
             [
              1,
              "#f0f921"
             ]
            ],
            "type": "contour"
           }
          ],
          "contourcarpet": [
           {
            "colorbar": {
             "outlinewidth": 0,
             "ticks": ""
            },
            "type": "contourcarpet"
           }
          ],
          "heatmap": [
           {
            "colorbar": {
             "outlinewidth": 0,
             "ticks": ""
            },
            "colorscale": [
             [
              0,
              "#0d0887"
             ],
             [
              0.1111111111111111,
              "#46039f"
             ],
             [
              0.2222222222222222,
              "#7201a8"
             ],
             [
              0.3333333333333333,
              "#9c179e"
             ],
             [
              0.4444444444444444,
              "#bd3786"
             ],
             [
              0.5555555555555556,
              "#d8576b"
             ],
             [
              0.6666666666666666,
              "#ed7953"
             ],
             [
              0.7777777777777778,
              "#fb9f3a"
             ],
             [
              0.8888888888888888,
              "#fdca26"
             ],
             [
              1,
              "#f0f921"
             ]
            ],
            "type": "heatmap"
           }
          ],
          "heatmapgl": [
           {
            "colorbar": {
             "outlinewidth": 0,
             "ticks": ""
            },
            "colorscale": [
             [
              0,
              "#0d0887"
             ],
             [
              0.1111111111111111,
              "#46039f"
             ],
             [
              0.2222222222222222,
              "#7201a8"
             ],
             [
              0.3333333333333333,
              "#9c179e"
             ],
             [
              0.4444444444444444,
              "#bd3786"
             ],
             [
              0.5555555555555556,
              "#d8576b"
             ],
             [
              0.6666666666666666,
              "#ed7953"
             ],
             [
              0.7777777777777778,
              "#fb9f3a"
             ],
             [
              0.8888888888888888,
              "#fdca26"
             ],
             [
              1,
              "#f0f921"
             ]
            ],
            "type": "heatmapgl"
           }
          ],
          "histogram": [
           {
            "marker": {
             "pattern": {
              "fillmode": "overlay",
              "size": 10,
              "solidity": 0.2
             }
            },
            "type": "histogram"
           }
          ],
          "histogram2d": [
           {
            "colorbar": {
             "outlinewidth": 0,
             "ticks": ""
            },
            "colorscale": [
             [
              0,
              "#0d0887"
             ],
             [
              0.1111111111111111,
              "#46039f"
             ],
             [
              0.2222222222222222,
              "#7201a8"
             ],
             [
              0.3333333333333333,
              "#9c179e"
             ],
             [
              0.4444444444444444,
              "#bd3786"
             ],
             [
              0.5555555555555556,
              "#d8576b"
             ],
             [
              0.6666666666666666,
              "#ed7953"
             ],
             [
              0.7777777777777778,
              "#fb9f3a"
             ],
             [
              0.8888888888888888,
              "#fdca26"
             ],
             [
              1,
              "#f0f921"
             ]
            ],
            "type": "histogram2d"
           }
          ],
          "histogram2dcontour": [
           {
            "colorbar": {
             "outlinewidth": 0,
             "ticks": ""
            },
            "colorscale": [
             [
              0,
              "#0d0887"
             ],
             [
              0.1111111111111111,
              "#46039f"
             ],
             [
              0.2222222222222222,
              "#7201a8"
             ],
             [
              0.3333333333333333,
              "#9c179e"
             ],
             [
              0.4444444444444444,
              "#bd3786"
             ],
             [
              0.5555555555555556,
              "#d8576b"
             ],
             [
              0.6666666666666666,
              "#ed7953"
             ],
             [
              0.7777777777777778,
              "#fb9f3a"
             ],
             [
              0.8888888888888888,
              "#fdca26"
             ],
             [
              1,
              "#f0f921"
             ]
            ],
            "type": "histogram2dcontour"
           }
          ],
          "mesh3d": [
           {
            "colorbar": {
             "outlinewidth": 0,
             "ticks": ""
            },
            "type": "mesh3d"
           }
          ],
          "parcoords": [
           {
            "line": {
             "colorbar": {
              "outlinewidth": 0,
              "ticks": ""
             }
            },
            "type": "parcoords"
           }
          ],
          "pie": [
           {
            "automargin": true,
            "type": "pie"
           }
          ],
          "scatter": [
           {
            "marker": {
             "colorbar": {
              "outlinewidth": 0,
              "ticks": ""
             }
            },
            "type": "scatter"
           }
          ],
          "scatter3d": [
           {
            "line": {
             "colorbar": {
              "outlinewidth": 0,
              "ticks": ""
             }
            },
            "marker": {
             "colorbar": {
              "outlinewidth": 0,
              "ticks": ""
             }
            },
            "type": "scatter3d"
           }
          ],
          "scattercarpet": [
           {
            "marker": {
             "colorbar": {
              "outlinewidth": 0,
              "ticks": ""
             }
            },
            "type": "scattercarpet"
           }
          ],
          "scattergeo": [
           {
            "marker": {
             "colorbar": {
              "outlinewidth": 0,
              "ticks": ""
             }
            },
            "type": "scattergeo"
           }
          ],
          "scattergl": [
           {
            "marker": {
             "colorbar": {
              "outlinewidth": 0,
              "ticks": ""
             }
            },
            "type": "scattergl"
           }
          ],
          "scattermapbox": [
           {
            "marker": {
             "colorbar": {
              "outlinewidth": 0,
              "ticks": ""
             }
            },
            "type": "scattermapbox"
           }
          ],
          "scatterpolar": [
           {
            "marker": {
             "colorbar": {
              "outlinewidth": 0,
              "ticks": ""
             }
            },
            "type": "scatterpolar"
           }
          ],
          "scatterpolargl": [
           {
            "marker": {
             "colorbar": {
              "outlinewidth": 0,
              "ticks": ""
             }
            },
            "type": "scatterpolargl"
           }
          ],
          "scatterternary": [
           {
            "marker": {
             "colorbar": {
              "outlinewidth": 0,
              "ticks": ""
             }
            },
            "type": "scatterternary"
           }
          ],
          "surface": [
           {
            "colorbar": {
             "outlinewidth": 0,
             "ticks": ""
            },
            "colorscale": [
             [
              0,
              "#0d0887"
             ],
             [
              0.1111111111111111,
              "#46039f"
             ],
             [
              0.2222222222222222,
              "#7201a8"
             ],
             [
              0.3333333333333333,
              "#9c179e"
             ],
             [
              0.4444444444444444,
              "#bd3786"
             ],
             [
              0.5555555555555556,
              "#d8576b"
             ],
             [
              0.6666666666666666,
              "#ed7953"
             ],
             [
              0.7777777777777778,
              "#fb9f3a"
             ],
             [
              0.8888888888888888,
              "#fdca26"
             ],
             [
              1,
              "#f0f921"
             ]
            ],
            "type": "surface"
           }
          ],
          "table": [
           {
            "cells": {
             "fill": {
              "color": "#EBF0F8"
             },
             "line": {
              "color": "white"
             }
            },
            "header": {
             "fill": {
              "color": "#C8D4E3"
             },
             "line": {
              "color": "white"
             }
            },
            "type": "table"
           }
          ]
         },
         "layout": {
          "annotationdefaults": {
           "arrowcolor": "#2a3f5f",
           "arrowhead": 0,
           "arrowwidth": 1
          },
          "autotypenumbers": "strict",
          "coloraxis": {
           "colorbar": {
            "outlinewidth": 0,
            "ticks": ""
           }
          },
          "colorscale": {
           "diverging": [
            [
             0,
             "#8e0152"
            ],
            [
             0.1,
             "#c51b7d"
            ],
            [
             0.2,
             "#de77ae"
            ],
            [
             0.3,
             "#f1b6da"
            ],
            [
             0.4,
             "#fde0ef"
            ],
            [
             0.5,
             "#f7f7f7"
            ],
            [
             0.6,
             "#e6f5d0"
            ],
            [
             0.7,
             "#b8e186"
            ],
            [
             0.8,
             "#7fbc41"
            ],
            [
             0.9,
             "#4d9221"
            ],
            [
             1,
             "#276419"
            ]
           ],
           "sequential": [
            [
             0,
             "#0d0887"
            ],
            [
             0.1111111111111111,
             "#46039f"
            ],
            [
             0.2222222222222222,
             "#7201a8"
            ],
            [
             0.3333333333333333,
             "#9c179e"
            ],
            [
             0.4444444444444444,
             "#bd3786"
            ],
            [
             0.5555555555555556,
             "#d8576b"
            ],
            [
             0.6666666666666666,
             "#ed7953"
            ],
            [
             0.7777777777777778,
             "#fb9f3a"
            ],
            [
             0.8888888888888888,
             "#fdca26"
            ],
            [
             1,
             "#f0f921"
            ]
           ],
           "sequentialminus": [
            [
             0,
             "#0d0887"
            ],
            [
             0.1111111111111111,
             "#46039f"
            ],
            [
             0.2222222222222222,
             "#7201a8"
            ],
            [
             0.3333333333333333,
             "#9c179e"
            ],
            [
             0.4444444444444444,
             "#bd3786"
            ],
            [
             0.5555555555555556,
             "#d8576b"
            ],
            [
             0.6666666666666666,
             "#ed7953"
            ],
            [
             0.7777777777777778,
             "#fb9f3a"
            ],
            [
             0.8888888888888888,
             "#fdca26"
            ],
            [
             1,
             "#f0f921"
            ]
           ]
          },
          "colorway": [
           "#636efa",
           "#EF553B",
           "#00cc96",
           "#ab63fa",
           "#FFA15A",
           "#19d3f3",
           "#FF6692",
           "#B6E880",
           "#FF97FF",
           "#FECB52"
          ],
          "font": {
           "color": "#2a3f5f"
          },
          "geo": {
           "bgcolor": "white",
           "lakecolor": "white",
           "landcolor": "#E5ECF6",
           "showlakes": true,
           "showland": true,
           "subunitcolor": "white"
          },
          "hoverlabel": {
           "align": "left"
          },
          "hovermode": "closest",
          "mapbox": {
           "style": "light"
          },
          "paper_bgcolor": "white",
          "plot_bgcolor": "#E5ECF6",
          "polar": {
           "angularaxis": {
            "gridcolor": "white",
            "linecolor": "white",
            "ticks": ""
           },
           "bgcolor": "#E5ECF6",
           "radialaxis": {
            "gridcolor": "white",
            "linecolor": "white",
            "ticks": ""
           }
          },
          "scene": {
           "xaxis": {
            "backgroundcolor": "#E5ECF6",
            "gridcolor": "white",
            "gridwidth": 2,
            "linecolor": "white",
            "showbackground": true,
            "ticks": "",
            "zerolinecolor": "white"
           },
           "yaxis": {
            "backgroundcolor": "#E5ECF6",
            "gridcolor": "white",
            "gridwidth": 2,
            "linecolor": "white",
            "showbackground": true,
            "ticks": "",
            "zerolinecolor": "white"
           },
           "zaxis": {
            "backgroundcolor": "#E5ECF6",
            "gridcolor": "white",
            "gridwidth": 2,
            "linecolor": "white",
            "showbackground": true,
            "ticks": "",
            "zerolinecolor": "white"
           }
          },
          "shapedefaults": {
           "line": {
            "color": "#2a3f5f"
           }
          },
          "ternary": {
           "aaxis": {
            "gridcolor": "white",
            "linecolor": "white",
            "ticks": ""
           },
           "baxis": {
            "gridcolor": "white",
            "linecolor": "white",
            "ticks": ""
           },
           "bgcolor": "#E5ECF6",
           "caxis": {
            "gridcolor": "white",
            "linecolor": "white",
            "ticks": ""
           }
          },
          "title": {
           "x": 0.05
          },
          "xaxis": {
           "automargin": true,
           "gridcolor": "white",
           "linecolor": "white",
           "ticks": "",
           "title": {
            "standoff": 15
           },
           "zerolinecolor": "white",
           "zerolinewidth": 2
          },
          "yaxis": {
           "automargin": true,
           "gridcolor": "white",
           "linecolor": "white",
           "ticks": "",
           "title": {
            "standoff": 15
           },
           "zerolinecolor": "white",
           "zerolinewidth": 2
          }
         }
        },
        "title": {
         "font": {
          "color": "#4D5663"
         },
         "text": "TOP10 streets by the number of establishments"
        },
        "xaxis": {
         "gridcolor": "#E1E5ED",
         "showgrid": true,
         "tickfont": {
          "color": "#4D5663"
         },
         "title": {
          "font": {
           "color": "#4D5663"
          },
          "text": "Street"
         },
         "zerolinecolor": "#E1E5ED"
        },
        "yaxis": {
         "gridcolor": "#E1E5ED",
         "showgrid": true,
         "tickfont": {
          "color": "#4D5663"
         },
         "title": {
          "font": {
           "color": "#4D5663"
          },
          "text": "Number of objects"
         },
         "zerolinecolor": "#E1E5ED"
        }
       }
      },
      "text/html": [
       "<div>                            <div id=\"93c8a3ce-9197-436e-b50a-ecb56ba7033f\" class=\"plotly-graph-div\" style=\"height:525px; width:100%;\"></div>            <script type=\"text/javascript\">                require([\"plotly\"], function(Plotly) {                    window.PLOTLYENV=window.PLOTLYENV || {};\n",
       "                    window.PLOTLYENV.BASE_URL='https://plot.ly';                                    if (document.getElementById(\"93c8a3ce-9197-436e-b50a-ecb56ba7033f\")) {                    Plotly.newPlot(                        \"93c8a3ce-9197-436e-b50a-ecb56ba7033f\",                        [{\"marker\":{\"color\":\"rgba(255, 153, 51, 0.6)\",\"line\":{\"color\":\"rgba(255, 153, 51, 1.0)\",\"width\":1}},\"name\":\"street_stats\",\"orientation\":\"v\",\"text\":\"\",\"x\":[\"6333 W 3RD ST\",\"10250 SANTA MONICA BLVD\",\"6801 HOLLYWOOD BLVD\",\"928 S WESTERN AVE\",\"3500 W 6TH ST\",\"735 S FIGUEROA ST\",\"3250 W OLYMPIC BLVD\",\"3425 E 1ST ST\",\"735 E 12TH ST\",\"333 S ALAMEDA ST\"],\"y\":[48,41,29,26,24,20,20,19,18,18],\"type\":\"bar\"}],                        {\"legend\":{\"bgcolor\":\"#F5F6F9\",\"font\":{\"color\":\"#4D5663\"}},\"paper_bgcolor\":\"#F5F6F9\",\"plot_bgcolor\":\"#F5F6F9\",\"template\":{\"data\":{\"barpolar\":[{\"marker\":{\"line\":{\"color\":\"#E5ECF6\",\"width\":0.5},\"pattern\":{\"fillmode\":\"overlay\",\"size\":10,\"solidity\":0.2}},\"type\":\"barpolar\"}],\"bar\":[{\"error_x\":{\"color\":\"#2a3f5f\"},\"error_y\":{\"color\":\"#2a3f5f\"},\"marker\":{\"line\":{\"color\":\"#E5ECF6\",\"width\":0.5},\"pattern\":{\"fillmode\":\"overlay\",\"size\":10,\"solidity\":0.2}},\"type\":\"bar\"}],\"carpet\":[{\"aaxis\":{\"endlinecolor\":\"#2a3f5f\",\"gridcolor\":\"white\",\"linecolor\":\"white\",\"minorgridcolor\":\"white\",\"startlinecolor\":\"#2a3f5f\"},\"baxis\":{\"endlinecolor\":\"#2a3f5f\",\"gridcolor\":\"white\",\"linecolor\":\"white\",\"minorgridcolor\":\"white\",\"startlinecolor\":\"#2a3f5f\"},\"type\":\"carpet\"}],\"choropleth\":[{\"colorbar\":{\"outlinewidth\":0,\"ticks\":\"\"},\"type\":\"choropleth\"}],\"contourcarpet\":[{\"colorbar\":{\"outlinewidth\":0,\"ticks\":\"\"},\"type\":\"contourcarpet\"}],\"contour\":[{\"colorbar\":{\"outlinewidth\":0,\"ticks\":\"\"},\"colorscale\":[[0.0,\"#0d0887\"],[0.1111111111111111,\"#46039f\"],[0.2222222222222222,\"#7201a8\"],[0.3333333333333333,\"#9c179e\"],[0.4444444444444444,\"#bd3786\"],[0.5555555555555556,\"#d8576b\"],[0.6666666666666666,\"#ed7953\"],[0.7777777777777778,\"#fb9f3a\"],[0.8888888888888888,\"#fdca26\"],[1.0,\"#f0f921\"]],\"type\":\"contour\"}],\"heatmapgl\":[{\"colorbar\":{\"outlinewidth\":0,\"ticks\":\"\"},\"colorscale\":[[0.0,\"#0d0887\"],[0.1111111111111111,\"#46039f\"],[0.2222222222222222,\"#7201a8\"],[0.3333333333333333,\"#9c179e\"],[0.4444444444444444,\"#bd3786\"],[0.5555555555555556,\"#d8576b\"],[0.6666666666666666,\"#ed7953\"],[0.7777777777777778,\"#fb9f3a\"],[0.8888888888888888,\"#fdca26\"],[1.0,\"#f0f921\"]],\"type\":\"heatmapgl\"}],\"heatmap\":[{\"colorbar\":{\"outlinewidth\":0,\"ticks\":\"\"},\"colorscale\":[[0.0,\"#0d0887\"],[0.1111111111111111,\"#46039f\"],[0.2222222222222222,\"#7201a8\"],[0.3333333333333333,\"#9c179e\"],[0.4444444444444444,\"#bd3786\"],[0.5555555555555556,\"#d8576b\"],[0.6666666666666666,\"#ed7953\"],[0.7777777777777778,\"#fb9f3a\"],[0.8888888888888888,\"#fdca26\"],[1.0,\"#f0f921\"]],\"type\":\"heatmap\"}],\"histogram2dcontour\":[{\"colorbar\":{\"outlinewidth\":0,\"ticks\":\"\"},\"colorscale\":[[0.0,\"#0d0887\"],[0.1111111111111111,\"#46039f\"],[0.2222222222222222,\"#7201a8\"],[0.3333333333333333,\"#9c179e\"],[0.4444444444444444,\"#bd3786\"],[0.5555555555555556,\"#d8576b\"],[0.6666666666666666,\"#ed7953\"],[0.7777777777777778,\"#fb9f3a\"],[0.8888888888888888,\"#fdca26\"],[1.0,\"#f0f921\"]],\"type\":\"histogram2dcontour\"}],\"histogram2d\":[{\"colorbar\":{\"outlinewidth\":0,\"ticks\":\"\"},\"colorscale\":[[0.0,\"#0d0887\"],[0.1111111111111111,\"#46039f\"],[0.2222222222222222,\"#7201a8\"],[0.3333333333333333,\"#9c179e\"],[0.4444444444444444,\"#bd3786\"],[0.5555555555555556,\"#d8576b\"],[0.6666666666666666,\"#ed7953\"],[0.7777777777777778,\"#fb9f3a\"],[0.8888888888888888,\"#fdca26\"],[1.0,\"#f0f921\"]],\"type\":\"histogram2d\"}],\"histogram\":[{\"marker\":{\"pattern\":{\"fillmode\":\"overlay\",\"size\":10,\"solidity\":0.2}},\"type\":\"histogram\"}],\"mesh3d\":[{\"colorbar\":{\"outlinewidth\":0,\"ticks\":\"\"},\"type\":\"mesh3d\"}],\"parcoords\":[{\"line\":{\"colorbar\":{\"outlinewidth\":0,\"ticks\":\"\"}},\"type\":\"parcoords\"}],\"pie\":[{\"automargin\":true,\"type\":\"pie\"}],\"scatter3d\":[{\"line\":{\"colorbar\":{\"outlinewidth\":0,\"ticks\":\"\"}},\"marker\":{\"colorbar\":{\"outlinewidth\":0,\"ticks\":\"\"}},\"type\":\"scatter3d\"}],\"scattercarpet\":[{\"marker\":{\"colorbar\":{\"outlinewidth\":0,\"ticks\":\"\"}},\"type\":\"scattercarpet\"}],\"scattergeo\":[{\"marker\":{\"colorbar\":{\"outlinewidth\":0,\"ticks\":\"\"}},\"type\":\"scattergeo\"}],\"scattergl\":[{\"marker\":{\"colorbar\":{\"outlinewidth\":0,\"ticks\":\"\"}},\"type\":\"scattergl\"}],\"scattermapbox\":[{\"marker\":{\"colorbar\":{\"outlinewidth\":0,\"ticks\":\"\"}},\"type\":\"scattermapbox\"}],\"scatterpolargl\":[{\"marker\":{\"colorbar\":{\"outlinewidth\":0,\"ticks\":\"\"}},\"type\":\"scatterpolargl\"}],\"scatterpolar\":[{\"marker\":{\"colorbar\":{\"outlinewidth\":0,\"ticks\":\"\"}},\"type\":\"scatterpolar\"}],\"scatter\":[{\"marker\":{\"colorbar\":{\"outlinewidth\":0,\"ticks\":\"\"}},\"type\":\"scatter\"}],\"scatterternary\":[{\"marker\":{\"colorbar\":{\"outlinewidth\":0,\"ticks\":\"\"}},\"type\":\"scatterternary\"}],\"surface\":[{\"colorbar\":{\"outlinewidth\":0,\"ticks\":\"\"},\"colorscale\":[[0.0,\"#0d0887\"],[0.1111111111111111,\"#46039f\"],[0.2222222222222222,\"#7201a8\"],[0.3333333333333333,\"#9c179e\"],[0.4444444444444444,\"#bd3786\"],[0.5555555555555556,\"#d8576b\"],[0.6666666666666666,\"#ed7953\"],[0.7777777777777778,\"#fb9f3a\"],[0.8888888888888888,\"#fdca26\"],[1.0,\"#f0f921\"]],\"type\":\"surface\"}],\"table\":[{\"cells\":{\"fill\":{\"color\":\"#EBF0F8\"},\"line\":{\"color\":\"white\"}},\"header\":{\"fill\":{\"color\":\"#C8D4E3\"},\"line\":{\"color\":\"white\"}},\"type\":\"table\"}]},\"layout\":{\"annotationdefaults\":{\"arrowcolor\":\"#2a3f5f\",\"arrowhead\":0,\"arrowwidth\":1},\"autotypenumbers\":\"strict\",\"coloraxis\":{\"colorbar\":{\"outlinewidth\":0,\"ticks\":\"\"}},\"colorscale\":{\"diverging\":[[0,\"#8e0152\"],[0.1,\"#c51b7d\"],[0.2,\"#de77ae\"],[0.3,\"#f1b6da\"],[0.4,\"#fde0ef\"],[0.5,\"#f7f7f7\"],[0.6,\"#e6f5d0\"],[0.7,\"#b8e186\"],[0.8,\"#7fbc41\"],[0.9,\"#4d9221\"],[1,\"#276419\"]],\"sequential\":[[0.0,\"#0d0887\"],[0.1111111111111111,\"#46039f\"],[0.2222222222222222,\"#7201a8\"],[0.3333333333333333,\"#9c179e\"],[0.4444444444444444,\"#bd3786\"],[0.5555555555555556,\"#d8576b\"],[0.6666666666666666,\"#ed7953\"],[0.7777777777777778,\"#fb9f3a\"],[0.8888888888888888,\"#fdca26\"],[1.0,\"#f0f921\"]],\"sequentialminus\":[[0.0,\"#0d0887\"],[0.1111111111111111,\"#46039f\"],[0.2222222222222222,\"#7201a8\"],[0.3333333333333333,\"#9c179e\"],[0.4444444444444444,\"#bd3786\"],[0.5555555555555556,\"#d8576b\"],[0.6666666666666666,\"#ed7953\"],[0.7777777777777778,\"#fb9f3a\"],[0.8888888888888888,\"#fdca26\"],[1.0,\"#f0f921\"]]},\"colorway\":[\"#636efa\",\"#EF553B\",\"#00cc96\",\"#ab63fa\",\"#FFA15A\",\"#19d3f3\",\"#FF6692\",\"#B6E880\",\"#FF97FF\",\"#FECB52\"],\"font\":{\"color\":\"#2a3f5f\"},\"geo\":{\"bgcolor\":\"white\",\"lakecolor\":\"white\",\"landcolor\":\"#E5ECF6\",\"showlakes\":true,\"showland\":true,\"subunitcolor\":\"white\"},\"hoverlabel\":{\"align\":\"left\"},\"hovermode\":\"closest\",\"mapbox\":{\"style\":\"light\"},\"paper_bgcolor\":\"white\",\"plot_bgcolor\":\"#E5ECF6\",\"polar\":{\"angularaxis\":{\"gridcolor\":\"white\",\"linecolor\":\"white\",\"ticks\":\"\"},\"bgcolor\":\"#E5ECF6\",\"radialaxis\":{\"gridcolor\":\"white\",\"linecolor\":\"white\",\"ticks\":\"\"}},\"scene\":{\"xaxis\":{\"backgroundcolor\":\"#E5ECF6\",\"gridcolor\":\"white\",\"gridwidth\":2,\"linecolor\":\"white\",\"showbackground\":true,\"ticks\":\"\",\"zerolinecolor\":\"white\"},\"yaxis\":{\"backgroundcolor\":\"#E5ECF6\",\"gridcolor\":\"white\",\"gridwidth\":2,\"linecolor\":\"white\",\"showbackground\":true,\"ticks\":\"\",\"zerolinecolor\":\"white\"},\"zaxis\":{\"backgroundcolor\":\"#E5ECF6\",\"gridcolor\":\"white\",\"gridwidth\":2,\"linecolor\":\"white\",\"showbackground\":true,\"ticks\":\"\",\"zerolinecolor\":\"white\"}},\"shapedefaults\":{\"line\":{\"color\":\"#2a3f5f\"}},\"ternary\":{\"aaxis\":{\"gridcolor\":\"white\",\"linecolor\":\"white\",\"ticks\":\"\"},\"baxis\":{\"gridcolor\":\"white\",\"linecolor\":\"white\",\"ticks\":\"\"},\"bgcolor\":\"#E5ECF6\",\"caxis\":{\"gridcolor\":\"white\",\"linecolor\":\"white\",\"ticks\":\"\"}},\"title\":{\"x\":0.05},\"xaxis\":{\"automargin\":true,\"gridcolor\":\"white\",\"linecolor\":\"white\",\"ticks\":\"\",\"title\":{\"standoff\":15},\"zerolinecolor\":\"white\",\"zerolinewidth\":2},\"yaxis\":{\"automargin\":true,\"gridcolor\":\"white\",\"linecolor\":\"white\",\"ticks\":\"\",\"title\":{\"standoff\":15},\"zerolinecolor\":\"white\",\"zerolinewidth\":2}}},\"title\":{\"font\":{\"color\":\"#4D5663\"},\"text\":\"TOP10 streets by the number of establishments\"},\"xaxis\":{\"gridcolor\":\"#E1E5ED\",\"showgrid\":true,\"tickfont\":{\"color\":\"#4D5663\"},\"title\":{\"font\":{\"color\":\"#4D5663\"},\"text\":\"Street\"},\"zerolinecolor\":\"#E1E5ED\"},\"yaxis\":{\"gridcolor\":\"#E1E5ED\",\"showgrid\":true,\"tickfont\":{\"color\":\"#4D5663\"},\"title\":{\"font\":{\"color\":\"#4D5663\"},\"text\":\"Number of objects\"},\"zerolinecolor\":\"#E1E5ED\"}},                        {\"showLink\": true, \"linkText\": \"Export to plot.ly\", \"plotlyServerURL\": \"https://plot.ly\", \"responsive\": true}                    ).then(function(){\n",
       "                            \n",
       "var gd = document.getElementById('93c8a3ce-9197-436e-b50a-ecb56ba7033f');\n",
       "var x = new MutationObserver(function (mutations, observer) {{\n",
       "        var display = window.getComputedStyle(gd).display;\n",
       "        if (!display || display === 'none') {{\n",
       "            console.log([gd, 'removed!']);\n",
       "            Plotly.purge(gd);\n",
       "            observer.disconnect();\n",
       "        }}\n",
       "}});\n",
       "\n",
       "// Listen for the removal of the full notebook cells\n",
       "var notebookContainer = gd.closest('#notebook-container');\n",
       "if (notebookContainer) {{\n",
       "    x.observe(notebookContainer, {childList: true});\n",
       "}}\n",
       "\n",
       "// Listen for the clearing of the current output cell\n",
       "var outputEl = gd.closest('.output');\n",
       "if (outputEl) {{\n",
       "    x.observe(outputEl, {childList: true});\n",
       "}}\n",
       "\n",
       "                        })                };                });            </script>        </div>"
      ]
     },
     "metadata": {},
     "output_type": "display_data"
    }
   ],
   "source": [
    "street_stats[:10].iplot(kind='bar', color='orange',\n",
    "                            xTitle='Street',\n",
    "                        yTitle='Number of objects', title='TOP10 streets by the number of establishments')"
   ]
  },
  {
   "cell_type": "markdown",
   "id": "9627092d",
   "metadata": {},
   "source": [
    "Now, let's do the same for non-restaurants:"
   ]
  },
  {
   "cell_type": "code",
   "execution_count": 78,
   "id": "b453e1d2",
   "metadata": {},
   "outputs": [
    {
     "data": {
      "application/vnd.plotly.v1+json": {
       "config": {
        "linkText": "Export to plot.ly",
        "plotlyServerURL": "https://plot.ly",
        "showLink": true
       },
       "data": [
        {
         "marker": {
          "color": "rgba(55, 128, 191, 0.6)",
          "line": {
           "color": "rgba(55, 128, 191, 1.0)",
           "width": 1
          }
         },
         "name": "street_stats",
         "orientation": "v",
         "text": "",
         "type": "bar",
         "x": [
          "6333 W 3RD ST",
          "600 WORLD WAY",
          "10250 SANTA MONICA BLVD",
          "135 N GRAND AVE",
          "735 S FIGUEROA ST",
          "3607 TROUSDALE PKWY",
          "300 WORLD WAY",
          "6801 HOLLYWOOD BLVD",
          "1457 E FLORENCE AVE",
          "3377 WILSHIRE BLVD"
         ],
         "y": [
          12,
          9,
          7,
          7,
          6,
          6,
          6,
          6,
          4,
          4
         ]
        }
       ],
       "layout": {
        "legend": {
         "bgcolor": "#F5F6F9",
         "font": {
          "color": "#4D5663"
         }
        },
        "paper_bgcolor": "#F5F6F9",
        "plot_bgcolor": "#F5F6F9",
        "template": {
         "data": {
          "bar": [
           {
            "error_x": {
             "color": "#2a3f5f"
            },
            "error_y": {
             "color": "#2a3f5f"
            },
            "marker": {
             "line": {
              "color": "#E5ECF6",
              "width": 0.5
             },
             "pattern": {
              "fillmode": "overlay",
              "size": 10,
              "solidity": 0.2
             }
            },
            "type": "bar"
           }
          ],
          "barpolar": [
           {
            "marker": {
             "line": {
              "color": "#E5ECF6",
              "width": 0.5
             },
             "pattern": {
              "fillmode": "overlay",
              "size": 10,
              "solidity": 0.2
             }
            },
            "type": "barpolar"
           }
          ],
          "carpet": [
           {
            "aaxis": {
             "endlinecolor": "#2a3f5f",
             "gridcolor": "white",
             "linecolor": "white",
             "minorgridcolor": "white",
             "startlinecolor": "#2a3f5f"
            },
            "baxis": {
             "endlinecolor": "#2a3f5f",
             "gridcolor": "white",
             "linecolor": "white",
             "minorgridcolor": "white",
             "startlinecolor": "#2a3f5f"
            },
            "type": "carpet"
           }
          ],
          "choropleth": [
           {
            "colorbar": {
             "outlinewidth": 0,
             "ticks": ""
            },
            "type": "choropleth"
           }
          ],
          "contour": [
           {
            "colorbar": {
             "outlinewidth": 0,
             "ticks": ""
            },
            "colorscale": [
             [
              0,
              "#0d0887"
             ],
             [
              0.1111111111111111,
              "#46039f"
             ],
             [
              0.2222222222222222,
              "#7201a8"
             ],
             [
              0.3333333333333333,
              "#9c179e"
             ],
             [
              0.4444444444444444,
              "#bd3786"
             ],
             [
              0.5555555555555556,
              "#d8576b"
             ],
             [
              0.6666666666666666,
              "#ed7953"
             ],
             [
              0.7777777777777778,
              "#fb9f3a"
             ],
             [
              0.8888888888888888,
              "#fdca26"
             ],
             [
              1,
              "#f0f921"
             ]
            ],
            "type": "contour"
           }
          ],
          "contourcarpet": [
           {
            "colorbar": {
             "outlinewidth": 0,
             "ticks": ""
            },
            "type": "contourcarpet"
           }
          ],
          "heatmap": [
           {
            "colorbar": {
             "outlinewidth": 0,
             "ticks": ""
            },
            "colorscale": [
             [
              0,
              "#0d0887"
             ],
             [
              0.1111111111111111,
              "#46039f"
             ],
             [
              0.2222222222222222,
              "#7201a8"
             ],
             [
              0.3333333333333333,
              "#9c179e"
             ],
             [
              0.4444444444444444,
              "#bd3786"
             ],
             [
              0.5555555555555556,
              "#d8576b"
             ],
             [
              0.6666666666666666,
              "#ed7953"
             ],
             [
              0.7777777777777778,
              "#fb9f3a"
             ],
             [
              0.8888888888888888,
              "#fdca26"
             ],
             [
              1,
              "#f0f921"
             ]
            ],
            "type": "heatmap"
           }
          ],
          "heatmapgl": [
           {
            "colorbar": {
             "outlinewidth": 0,
             "ticks": ""
            },
            "colorscale": [
             [
              0,
              "#0d0887"
             ],
             [
              0.1111111111111111,
              "#46039f"
             ],
             [
              0.2222222222222222,
              "#7201a8"
             ],
             [
              0.3333333333333333,
              "#9c179e"
             ],
             [
              0.4444444444444444,
              "#bd3786"
             ],
             [
              0.5555555555555556,
              "#d8576b"
             ],
             [
              0.6666666666666666,
              "#ed7953"
             ],
             [
              0.7777777777777778,
              "#fb9f3a"
             ],
             [
              0.8888888888888888,
              "#fdca26"
             ],
             [
              1,
              "#f0f921"
             ]
            ],
            "type": "heatmapgl"
           }
          ],
          "histogram": [
           {
            "marker": {
             "pattern": {
              "fillmode": "overlay",
              "size": 10,
              "solidity": 0.2
             }
            },
            "type": "histogram"
           }
          ],
          "histogram2d": [
           {
            "colorbar": {
             "outlinewidth": 0,
             "ticks": ""
            },
            "colorscale": [
             [
              0,
              "#0d0887"
             ],
             [
              0.1111111111111111,
              "#46039f"
             ],
             [
              0.2222222222222222,
              "#7201a8"
             ],
             [
              0.3333333333333333,
              "#9c179e"
             ],
             [
              0.4444444444444444,
              "#bd3786"
             ],
             [
              0.5555555555555556,
              "#d8576b"
             ],
             [
              0.6666666666666666,
              "#ed7953"
             ],
             [
              0.7777777777777778,
              "#fb9f3a"
             ],
             [
              0.8888888888888888,
              "#fdca26"
             ],
             [
              1,
              "#f0f921"
             ]
            ],
            "type": "histogram2d"
           }
          ],
          "histogram2dcontour": [
           {
            "colorbar": {
             "outlinewidth": 0,
             "ticks": ""
            },
            "colorscale": [
             [
              0,
              "#0d0887"
             ],
             [
              0.1111111111111111,
              "#46039f"
             ],
             [
              0.2222222222222222,
              "#7201a8"
             ],
             [
              0.3333333333333333,
              "#9c179e"
             ],
             [
              0.4444444444444444,
              "#bd3786"
             ],
             [
              0.5555555555555556,
              "#d8576b"
             ],
             [
              0.6666666666666666,
              "#ed7953"
             ],
             [
              0.7777777777777778,
              "#fb9f3a"
             ],
             [
              0.8888888888888888,
              "#fdca26"
             ],
             [
              1,
              "#f0f921"
             ]
            ],
            "type": "histogram2dcontour"
           }
          ],
          "mesh3d": [
           {
            "colorbar": {
             "outlinewidth": 0,
             "ticks": ""
            },
            "type": "mesh3d"
           }
          ],
          "parcoords": [
           {
            "line": {
             "colorbar": {
              "outlinewidth": 0,
              "ticks": ""
             }
            },
            "type": "parcoords"
           }
          ],
          "pie": [
           {
            "automargin": true,
            "type": "pie"
           }
          ],
          "scatter": [
           {
            "marker": {
             "colorbar": {
              "outlinewidth": 0,
              "ticks": ""
             }
            },
            "type": "scatter"
           }
          ],
          "scatter3d": [
           {
            "line": {
             "colorbar": {
              "outlinewidth": 0,
              "ticks": ""
             }
            },
            "marker": {
             "colorbar": {
              "outlinewidth": 0,
              "ticks": ""
             }
            },
            "type": "scatter3d"
           }
          ],
          "scattercarpet": [
           {
            "marker": {
             "colorbar": {
              "outlinewidth": 0,
              "ticks": ""
             }
            },
            "type": "scattercarpet"
           }
          ],
          "scattergeo": [
           {
            "marker": {
             "colorbar": {
              "outlinewidth": 0,
              "ticks": ""
             }
            },
            "type": "scattergeo"
           }
          ],
          "scattergl": [
           {
            "marker": {
             "colorbar": {
              "outlinewidth": 0,
              "ticks": ""
             }
            },
            "type": "scattergl"
           }
          ],
          "scattermapbox": [
           {
            "marker": {
             "colorbar": {
              "outlinewidth": 0,
              "ticks": ""
             }
            },
            "type": "scattermapbox"
           }
          ],
          "scatterpolar": [
           {
            "marker": {
             "colorbar": {
              "outlinewidth": 0,
              "ticks": ""
             }
            },
            "type": "scatterpolar"
           }
          ],
          "scatterpolargl": [
           {
            "marker": {
             "colorbar": {
              "outlinewidth": 0,
              "ticks": ""
             }
            },
            "type": "scatterpolargl"
           }
          ],
          "scatterternary": [
           {
            "marker": {
             "colorbar": {
              "outlinewidth": 0,
              "ticks": ""
             }
            },
            "type": "scatterternary"
           }
          ],
          "surface": [
           {
            "colorbar": {
             "outlinewidth": 0,
             "ticks": ""
            },
            "colorscale": [
             [
              0,
              "#0d0887"
             ],
             [
              0.1111111111111111,
              "#46039f"
             ],
             [
              0.2222222222222222,
              "#7201a8"
             ],
             [
              0.3333333333333333,
              "#9c179e"
             ],
             [
              0.4444444444444444,
              "#bd3786"
             ],
             [
              0.5555555555555556,
              "#d8576b"
             ],
             [
              0.6666666666666666,
              "#ed7953"
             ],
             [
              0.7777777777777778,
              "#fb9f3a"
             ],
             [
              0.8888888888888888,
              "#fdca26"
             ],
             [
              1,
              "#f0f921"
             ]
            ],
            "type": "surface"
           }
          ],
          "table": [
           {
            "cells": {
             "fill": {
              "color": "#EBF0F8"
             },
             "line": {
              "color": "white"
             }
            },
            "header": {
             "fill": {
              "color": "#C8D4E3"
             },
             "line": {
              "color": "white"
             }
            },
            "type": "table"
           }
          ]
         },
         "layout": {
          "annotationdefaults": {
           "arrowcolor": "#2a3f5f",
           "arrowhead": 0,
           "arrowwidth": 1
          },
          "autotypenumbers": "strict",
          "coloraxis": {
           "colorbar": {
            "outlinewidth": 0,
            "ticks": ""
           }
          },
          "colorscale": {
           "diverging": [
            [
             0,
             "#8e0152"
            ],
            [
             0.1,
             "#c51b7d"
            ],
            [
             0.2,
             "#de77ae"
            ],
            [
             0.3,
             "#f1b6da"
            ],
            [
             0.4,
             "#fde0ef"
            ],
            [
             0.5,
             "#f7f7f7"
            ],
            [
             0.6,
             "#e6f5d0"
            ],
            [
             0.7,
             "#b8e186"
            ],
            [
             0.8,
             "#7fbc41"
            ],
            [
             0.9,
             "#4d9221"
            ],
            [
             1,
             "#276419"
            ]
           ],
           "sequential": [
            [
             0,
             "#0d0887"
            ],
            [
             0.1111111111111111,
             "#46039f"
            ],
            [
             0.2222222222222222,
             "#7201a8"
            ],
            [
             0.3333333333333333,
             "#9c179e"
            ],
            [
             0.4444444444444444,
             "#bd3786"
            ],
            [
             0.5555555555555556,
             "#d8576b"
            ],
            [
             0.6666666666666666,
             "#ed7953"
            ],
            [
             0.7777777777777778,
             "#fb9f3a"
            ],
            [
             0.8888888888888888,
             "#fdca26"
            ],
            [
             1,
             "#f0f921"
            ]
           ],
           "sequentialminus": [
            [
             0,
             "#0d0887"
            ],
            [
             0.1111111111111111,
             "#46039f"
            ],
            [
             0.2222222222222222,
             "#7201a8"
            ],
            [
             0.3333333333333333,
             "#9c179e"
            ],
            [
             0.4444444444444444,
             "#bd3786"
            ],
            [
             0.5555555555555556,
             "#d8576b"
            ],
            [
             0.6666666666666666,
             "#ed7953"
            ],
            [
             0.7777777777777778,
             "#fb9f3a"
            ],
            [
             0.8888888888888888,
             "#fdca26"
            ],
            [
             1,
             "#f0f921"
            ]
           ]
          },
          "colorway": [
           "#636efa",
           "#EF553B",
           "#00cc96",
           "#ab63fa",
           "#FFA15A",
           "#19d3f3",
           "#FF6692",
           "#B6E880",
           "#FF97FF",
           "#FECB52"
          ],
          "font": {
           "color": "#2a3f5f"
          },
          "geo": {
           "bgcolor": "white",
           "lakecolor": "white",
           "landcolor": "#E5ECF6",
           "showlakes": true,
           "showland": true,
           "subunitcolor": "white"
          },
          "hoverlabel": {
           "align": "left"
          },
          "hovermode": "closest",
          "mapbox": {
           "style": "light"
          },
          "paper_bgcolor": "white",
          "plot_bgcolor": "#E5ECF6",
          "polar": {
           "angularaxis": {
            "gridcolor": "white",
            "linecolor": "white",
            "ticks": ""
           },
           "bgcolor": "#E5ECF6",
           "radialaxis": {
            "gridcolor": "white",
            "linecolor": "white",
            "ticks": ""
           }
          },
          "scene": {
           "xaxis": {
            "backgroundcolor": "#E5ECF6",
            "gridcolor": "white",
            "gridwidth": 2,
            "linecolor": "white",
            "showbackground": true,
            "ticks": "",
            "zerolinecolor": "white"
           },
           "yaxis": {
            "backgroundcolor": "#E5ECF6",
            "gridcolor": "white",
            "gridwidth": 2,
            "linecolor": "white",
            "showbackground": true,
            "ticks": "",
            "zerolinecolor": "white"
           },
           "zaxis": {
            "backgroundcolor": "#E5ECF6",
            "gridcolor": "white",
            "gridwidth": 2,
            "linecolor": "white",
            "showbackground": true,
            "ticks": "",
            "zerolinecolor": "white"
           }
          },
          "shapedefaults": {
           "line": {
            "color": "#2a3f5f"
           }
          },
          "ternary": {
           "aaxis": {
            "gridcolor": "white",
            "linecolor": "white",
            "ticks": ""
           },
           "baxis": {
            "gridcolor": "white",
            "linecolor": "white",
            "ticks": ""
           },
           "bgcolor": "#E5ECF6",
           "caxis": {
            "gridcolor": "white",
            "linecolor": "white",
            "ticks": ""
           }
          },
          "title": {
           "x": 0.05
          },
          "xaxis": {
           "automargin": true,
           "gridcolor": "white",
           "linecolor": "white",
           "ticks": "",
           "title": {
            "standoff": 15
           },
           "zerolinecolor": "white",
           "zerolinewidth": 2
          },
          "yaxis": {
           "automargin": true,
           "gridcolor": "white",
           "linecolor": "white",
           "ticks": "",
           "title": {
            "standoff": 15
           },
           "zerolinecolor": "white",
           "zerolinewidth": 2
          }
         }
        },
        "title": {
         "font": {
          "color": "#4D5663"
         },
         "text": "TOP10 streets by the number of non-restaurant establishments"
        },
        "xaxis": {
         "gridcolor": "#E1E5ED",
         "showgrid": true,
         "tickfont": {
          "color": "#4D5663"
         },
         "title": {
          "font": {
           "color": "#4D5663"
          },
          "text": "Street"
         },
         "zerolinecolor": "#E1E5ED"
        },
        "yaxis": {
         "gridcolor": "#E1E5ED",
         "showgrid": true,
         "tickfont": {
          "color": "#4D5663"
         },
         "title": {
          "font": {
           "color": "#4D5663"
          },
          "text": "Number of objects"
         },
         "zerolinecolor": "#E1E5ED"
        }
       }
      },
      "text/html": [
       "<div>                            <div id=\"6675a66c-c9a1-4ed1-ac7f-0bafeeebef8b\" class=\"plotly-graph-div\" style=\"height:525px; width:100%;\"></div>            <script type=\"text/javascript\">                require([\"plotly\"], function(Plotly) {                    window.PLOTLYENV=window.PLOTLYENV || {};\n",
       "                    window.PLOTLYENV.BASE_URL='https://plot.ly';                                    if (document.getElementById(\"6675a66c-c9a1-4ed1-ac7f-0bafeeebef8b\")) {                    Plotly.newPlot(                        \"6675a66c-c9a1-4ed1-ac7f-0bafeeebef8b\",                        [{\"marker\":{\"color\":\"rgba(55, 128, 191, 0.6)\",\"line\":{\"color\":\"rgba(55, 128, 191, 1.0)\",\"width\":1}},\"name\":\"street_stats\",\"orientation\":\"v\",\"text\":\"\",\"x\":[\"6333 W 3RD ST\",\"600 WORLD WAY\",\"10250 SANTA MONICA BLVD\",\"135 N GRAND AVE\",\"735 S FIGUEROA ST\",\"3607 TROUSDALE PKWY\",\"300 WORLD WAY\",\"6801 HOLLYWOOD BLVD\",\"1457 E FLORENCE AVE\",\"3377 WILSHIRE BLVD\"],\"y\":[12,9,7,7,6,6,6,6,4,4],\"type\":\"bar\"}],                        {\"legend\":{\"bgcolor\":\"#F5F6F9\",\"font\":{\"color\":\"#4D5663\"}},\"paper_bgcolor\":\"#F5F6F9\",\"plot_bgcolor\":\"#F5F6F9\",\"template\":{\"data\":{\"barpolar\":[{\"marker\":{\"line\":{\"color\":\"#E5ECF6\",\"width\":0.5},\"pattern\":{\"fillmode\":\"overlay\",\"size\":10,\"solidity\":0.2}},\"type\":\"barpolar\"}],\"bar\":[{\"error_x\":{\"color\":\"#2a3f5f\"},\"error_y\":{\"color\":\"#2a3f5f\"},\"marker\":{\"line\":{\"color\":\"#E5ECF6\",\"width\":0.5},\"pattern\":{\"fillmode\":\"overlay\",\"size\":10,\"solidity\":0.2}},\"type\":\"bar\"}],\"carpet\":[{\"aaxis\":{\"endlinecolor\":\"#2a3f5f\",\"gridcolor\":\"white\",\"linecolor\":\"white\",\"minorgridcolor\":\"white\",\"startlinecolor\":\"#2a3f5f\"},\"baxis\":{\"endlinecolor\":\"#2a3f5f\",\"gridcolor\":\"white\",\"linecolor\":\"white\",\"minorgridcolor\":\"white\",\"startlinecolor\":\"#2a3f5f\"},\"type\":\"carpet\"}],\"choropleth\":[{\"colorbar\":{\"outlinewidth\":0,\"ticks\":\"\"},\"type\":\"choropleth\"}],\"contourcarpet\":[{\"colorbar\":{\"outlinewidth\":0,\"ticks\":\"\"},\"type\":\"contourcarpet\"}],\"contour\":[{\"colorbar\":{\"outlinewidth\":0,\"ticks\":\"\"},\"colorscale\":[[0.0,\"#0d0887\"],[0.1111111111111111,\"#46039f\"],[0.2222222222222222,\"#7201a8\"],[0.3333333333333333,\"#9c179e\"],[0.4444444444444444,\"#bd3786\"],[0.5555555555555556,\"#d8576b\"],[0.6666666666666666,\"#ed7953\"],[0.7777777777777778,\"#fb9f3a\"],[0.8888888888888888,\"#fdca26\"],[1.0,\"#f0f921\"]],\"type\":\"contour\"}],\"heatmapgl\":[{\"colorbar\":{\"outlinewidth\":0,\"ticks\":\"\"},\"colorscale\":[[0.0,\"#0d0887\"],[0.1111111111111111,\"#46039f\"],[0.2222222222222222,\"#7201a8\"],[0.3333333333333333,\"#9c179e\"],[0.4444444444444444,\"#bd3786\"],[0.5555555555555556,\"#d8576b\"],[0.6666666666666666,\"#ed7953\"],[0.7777777777777778,\"#fb9f3a\"],[0.8888888888888888,\"#fdca26\"],[1.0,\"#f0f921\"]],\"type\":\"heatmapgl\"}],\"heatmap\":[{\"colorbar\":{\"outlinewidth\":0,\"ticks\":\"\"},\"colorscale\":[[0.0,\"#0d0887\"],[0.1111111111111111,\"#46039f\"],[0.2222222222222222,\"#7201a8\"],[0.3333333333333333,\"#9c179e\"],[0.4444444444444444,\"#bd3786\"],[0.5555555555555556,\"#d8576b\"],[0.6666666666666666,\"#ed7953\"],[0.7777777777777778,\"#fb9f3a\"],[0.8888888888888888,\"#fdca26\"],[1.0,\"#f0f921\"]],\"type\":\"heatmap\"}],\"histogram2dcontour\":[{\"colorbar\":{\"outlinewidth\":0,\"ticks\":\"\"},\"colorscale\":[[0.0,\"#0d0887\"],[0.1111111111111111,\"#46039f\"],[0.2222222222222222,\"#7201a8\"],[0.3333333333333333,\"#9c179e\"],[0.4444444444444444,\"#bd3786\"],[0.5555555555555556,\"#d8576b\"],[0.6666666666666666,\"#ed7953\"],[0.7777777777777778,\"#fb9f3a\"],[0.8888888888888888,\"#fdca26\"],[1.0,\"#f0f921\"]],\"type\":\"histogram2dcontour\"}],\"histogram2d\":[{\"colorbar\":{\"outlinewidth\":0,\"ticks\":\"\"},\"colorscale\":[[0.0,\"#0d0887\"],[0.1111111111111111,\"#46039f\"],[0.2222222222222222,\"#7201a8\"],[0.3333333333333333,\"#9c179e\"],[0.4444444444444444,\"#bd3786\"],[0.5555555555555556,\"#d8576b\"],[0.6666666666666666,\"#ed7953\"],[0.7777777777777778,\"#fb9f3a\"],[0.8888888888888888,\"#fdca26\"],[1.0,\"#f0f921\"]],\"type\":\"histogram2d\"}],\"histogram\":[{\"marker\":{\"pattern\":{\"fillmode\":\"overlay\",\"size\":10,\"solidity\":0.2}},\"type\":\"histogram\"}],\"mesh3d\":[{\"colorbar\":{\"outlinewidth\":0,\"ticks\":\"\"},\"type\":\"mesh3d\"}],\"parcoords\":[{\"line\":{\"colorbar\":{\"outlinewidth\":0,\"ticks\":\"\"}},\"type\":\"parcoords\"}],\"pie\":[{\"automargin\":true,\"type\":\"pie\"}],\"scatter3d\":[{\"line\":{\"colorbar\":{\"outlinewidth\":0,\"ticks\":\"\"}},\"marker\":{\"colorbar\":{\"outlinewidth\":0,\"ticks\":\"\"}},\"type\":\"scatter3d\"}],\"scattercarpet\":[{\"marker\":{\"colorbar\":{\"outlinewidth\":0,\"ticks\":\"\"}},\"type\":\"scattercarpet\"}],\"scattergeo\":[{\"marker\":{\"colorbar\":{\"outlinewidth\":0,\"ticks\":\"\"}},\"type\":\"scattergeo\"}],\"scattergl\":[{\"marker\":{\"colorbar\":{\"outlinewidth\":0,\"ticks\":\"\"}},\"type\":\"scattergl\"}],\"scattermapbox\":[{\"marker\":{\"colorbar\":{\"outlinewidth\":0,\"ticks\":\"\"}},\"type\":\"scattermapbox\"}],\"scatterpolargl\":[{\"marker\":{\"colorbar\":{\"outlinewidth\":0,\"ticks\":\"\"}},\"type\":\"scatterpolargl\"}],\"scatterpolar\":[{\"marker\":{\"colorbar\":{\"outlinewidth\":0,\"ticks\":\"\"}},\"type\":\"scatterpolar\"}],\"scatter\":[{\"marker\":{\"colorbar\":{\"outlinewidth\":0,\"ticks\":\"\"}},\"type\":\"scatter\"}],\"scatterternary\":[{\"marker\":{\"colorbar\":{\"outlinewidth\":0,\"ticks\":\"\"}},\"type\":\"scatterternary\"}],\"surface\":[{\"colorbar\":{\"outlinewidth\":0,\"ticks\":\"\"},\"colorscale\":[[0.0,\"#0d0887\"],[0.1111111111111111,\"#46039f\"],[0.2222222222222222,\"#7201a8\"],[0.3333333333333333,\"#9c179e\"],[0.4444444444444444,\"#bd3786\"],[0.5555555555555556,\"#d8576b\"],[0.6666666666666666,\"#ed7953\"],[0.7777777777777778,\"#fb9f3a\"],[0.8888888888888888,\"#fdca26\"],[1.0,\"#f0f921\"]],\"type\":\"surface\"}],\"table\":[{\"cells\":{\"fill\":{\"color\":\"#EBF0F8\"},\"line\":{\"color\":\"white\"}},\"header\":{\"fill\":{\"color\":\"#C8D4E3\"},\"line\":{\"color\":\"white\"}},\"type\":\"table\"}]},\"layout\":{\"annotationdefaults\":{\"arrowcolor\":\"#2a3f5f\",\"arrowhead\":0,\"arrowwidth\":1},\"autotypenumbers\":\"strict\",\"coloraxis\":{\"colorbar\":{\"outlinewidth\":0,\"ticks\":\"\"}},\"colorscale\":{\"diverging\":[[0,\"#8e0152\"],[0.1,\"#c51b7d\"],[0.2,\"#de77ae\"],[0.3,\"#f1b6da\"],[0.4,\"#fde0ef\"],[0.5,\"#f7f7f7\"],[0.6,\"#e6f5d0\"],[0.7,\"#b8e186\"],[0.8,\"#7fbc41\"],[0.9,\"#4d9221\"],[1,\"#276419\"]],\"sequential\":[[0.0,\"#0d0887\"],[0.1111111111111111,\"#46039f\"],[0.2222222222222222,\"#7201a8\"],[0.3333333333333333,\"#9c179e\"],[0.4444444444444444,\"#bd3786\"],[0.5555555555555556,\"#d8576b\"],[0.6666666666666666,\"#ed7953\"],[0.7777777777777778,\"#fb9f3a\"],[0.8888888888888888,\"#fdca26\"],[1.0,\"#f0f921\"]],\"sequentialminus\":[[0.0,\"#0d0887\"],[0.1111111111111111,\"#46039f\"],[0.2222222222222222,\"#7201a8\"],[0.3333333333333333,\"#9c179e\"],[0.4444444444444444,\"#bd3786\"],[0.5555555555555556,\"#d8576b\"],[0.6666666666666666,\"#ed7953\"],[0.7777777777777778,\"#fb9f3a\"],[0.8888888888888888,\"#fdca26\"],[1.0,\"#f0f921\"]]},\"colorway\":[\"#636efa\",\"#EF553B\",\"#00cc96\",\"#ab63fa\",\"#FFA15A\",\"#19d3f3\",\"#FF6692\",\"#B6E880\",\"#FF97FF\",\"#FECB52\"],\"font\":{\"color\":\"#2a3f5f\"},\"geo\":{\"bgcolor\":\"white\",\"lakecolor\":\"white\",\"landcolor\":\"#E5ECF6\",\"showlakes\":true,\"showland\":true,\"subunitcolor\":\"white\"},\"hoverlabel\":{\"align\":\"left\"},\"hovermode\":\"closest\",\"mapbox\":{\"style\":\"light\"},\"paper_bgcolor\":\"white\",\"plot_bgcolor\":\"#E5ECF6\",\"polar\":{\"angularaxis\":{\"gridcolor\":\"white\",\"linecolor\":\"white\",\"ticks\":\"\"},\"bgcolor\":\"#E5ECF6\",\"radialaxis\":{\"gridcolor\":\"white\",\"linecolor\":\"white\",\"ticks\":\"\"}},\"scene\":{\"xaxis\":{\"backgroundcolor\":\"#E5ECF6\",\"gridcolor\":\"white\",\"gridwidth\":2,\"linecolor\":\"white\",\"showbackground\":true,\"ticks\":\"\",\"zerolinecolor\":\"white\"},\"yaxis\":{\"backgroundcolor\":\"#E5ECF6\",\"gridcolor\":\"white\",\"gridwidth\":2,\"linecolor\":\"white\",\"showbackground\":true,\"ticks\":\"\",\"zerolinecolor\":\"white\"},\"zaxis\":{\"backgroundcolor\":\"#E5ECF6\",\"gridcolor\":\"white\",\"gridwidth\":2,\"linecolor\":\"white\",\"showbackground\":true,\"ticks\":\"\",\"zerolinecolor\":\"white\"}},\"shapedefaults\":{\"line\":{\"color\":\"#2a3f5f\"}},\"ternary\":{\"aaxis\":{\"gridcolor\":\"white\",\"linecolor\":\"white\",\"ticks\":\"\"},\"baxis\":{\"gridcolor\":\"white\",\"linecolor\":\"white\",\"ticks\":\"\"},\"bgcolor\":\"#E5ECF6\",\"caxis\":{\"gridcolor\":\"white\",\"linecolor\":\"white\",\"ticks\":\"\"}},\"title\":{\"x\":0.05},\"xaxis\":{\"automargin\":true,\"gridcolor\":\"white\",\"linecolor\":\"white\",\"ticks\":\"\",\"title\":{\"standoff\":15},\"zerolinecolor\":\"white\",\"zerolinewidth\":2},\"yaxis\":{\"automargin\":true,\"gridcolor\":\"white\",\"linecolor\":\"white\",\"ticks\":\"\",\"title\":{\"standoff\":15},\"zerolinecolor\":\"white\",\"zerolinewidth\":2}}},\"title\":{\"font\":{\"color\":\"#4D5663\"},\"text\":\"TOP10 streets by the number of non-restaurant establishments\"},\"xaxis\":{\"gridcolor\":\"#E1E5ED\",\"showgrid\":true,\"tickfont\":{\"color\":\"#4D5663\"},\"title\":{\"font\":{\"color\":\"#4D5663\"},\"text\":\"Street\"},\"zerolinecolor\":\"#E1E5ED\"},\"yaxis\":{\"gridcolor\":\"#E1E5ED\",\"showgrid\":true,\"tickfont\":{\"color\":\"#4D5663\"},\"title\":{\"font\":{\"color\":\"#4D5663\"},\"text\":\"Number of objects\"},\"zerolinecolor\":\"#E1E5ED\"}},                        {\"showLink\": true, \"linkText\": \"Export to plot.ly\", \"plotlyServerURL\": \"https://plot.ly\", \"responsive\": true}                    ).then(function(){\n",
       "                            \n",
       "var gd = document.getElementById('6675a66c-c9a1-4ed1-ac7f-0bafeeebef8b');\n",
       "var x = new MutationObserver(function (mutations, observer) {{\n",
       "        var display = window.getComputedStyle(gd).display;\n",
       "        if (!display || display === 'none') {{\n",
       "            console.log([gd, 'removed!']);\n",
       "            Plotly.purge(gd);\n",
       "            observer.disconnect();\n",
       "        }}\n",
       "}});\n",
       "\n",
       "// Listen for the removal of the full notebook cells\n",
       "var notebookContainer = gd.closest('#notebook-container');\n",
       "if (notebookContainer) {{\n",
       "    x.observe(notebookContainer, {childList: true});\n",
       "}}\n",
       "\n",
       "// Listen for the clearing of the current output cell\n",
       "var outputEl = gd.closest('.output');\n",
       "if (outputEl) {{\n",
       "    x.observe(outputEl, {childList: true});\n",
       "}}\n",
       "\n",
       "                        })                };                });            </script>        </div>"
      ]
     },
     "metadata": {},
     "output_type": "display_data"
    }
   ],
   "source": [
    "street_stats_other = rest_data[rest_data['object_type'] != 'Restaurant']['street'].value_counts()\n",
    "street_stats_other.name = 'street_stats'\n",
    "street_stats_other = pd.DataFrame(street_stats_other)\n",
    "street_stats_other[:10].iplot(kind='bar', color='blue',\n",
    "                            xTitle='Street',\n",
    "                        yTitle='Number of objects', title='TOP10 streets by the number of non-restaurant establishments')"
   ]
  },
  {
   "cell_type": "markdown",
   "id": "f5f1d12f",
   "metadata": {},
   "source": [
    "[Back to Content](#content)"
   ]
  },
  {
   "cell_type": "markdown",
   "id": "f2a8e64d",
   "metadata": {},
   "source": [
    "### Streets that only have one restaurant"
   ]
  },
  {
   "cell_type": "markdown",
   "id": "ce16eb12",
   "metadata": {},
   "source": [
    "Let's make a quick check of how many of the total number of streets have only one restaurant."
   ]
  },
  {
   "cell_type": "code",
   "execution_count": 79,
   "id": "bbaf588e",
   "metadata": {},
   "outputs": [],
   "source": [
    "street_stats_rest = rest_data[rest_data['object_type'] == 'Restaurant']['street'].value_counts()\n",
    "street_stats_rest.name = 'street_stats'\n",
    "street_stats_rest = pd.DataFrame(street_stats_other)"
   ]
  },
  {
   "cell_type": "code",
   "execution_count": 80,
   "id": "8228e131",
   "metadata": {},
   "outputs": [],
   "source": [
    "street_stats_rest['one_rest'] = np.where(street_stats_rest['street_stats']==1, True, False)\n",
    "one_rest_streets = street_stats_rest[street_stats_rest['one_rest']==True].index.to_list()"
   ]
  },
  {
   "cell_type": "code",
   "execution_count": 81,
   "id": "2fdd37f0",
   "metadata": {},
   "outputs": [
    {
     "data": {
      "text/plain": [
       "1901"
      ]
     },
     "execution_count": 81,
     "metadata": {},
     "output_type": "execute_result"
    }
   ],
   "source": [
    "len(one_rest_streets)"
   ]
  },
  {
   "cell_type": "markdown",
   "id": "26958e51",
   "metadata": {},
   "source": [
    "There are 5135 out of 7478 streets (appr. 69%) which have only one establishment."
   ]
  },
  {
   "cell_type": "code",
   "execution_count": 82,
   "id": "df949a0a",
   "metadata": {},
   "outputs": [
    {
     "data": {
      "application/vnd.plotly.v1+json": {
       "config": {
        "plotlyServerURL": "https://plot.ly"
       },
       "data": [
        {
         "hole": 0.6,
         "labels": [
          "One establishment",
          "More than one"
         ],
         "marker": {
          "colors": [
           "gold",
           "darkorange"
          ]
         },
         "textfont": {
          "size": 20
         },
         "textinfo": "value+percent",
         "title": {
          "text": "Streets"
         },
         "type": "pie",
         "values": [
          1901,
          5577
         ]
        }
       ],
       "layout": {
        "template": {
         "data": {
          "bar": [
           {
            "error_x": {
             "color": "#2a3f5f"
            },
            "error_y": {
             "color": "#2a3f5f"
            },
            "marker": {
             "line": {
              "color": "#E5ECF6",
              "width": 0.5
             },
             "pattern": {
              "fillmode": "overlay",
              "size": 10,
              "solidity": 0.2
             }
            },
            "type": "bar"
           }
          ],
          "barpolar": [
           {
            "marker": {
             "line": {
              "color": "#E5ECF6",
              "width": 0.5
             },
             "pattern": {
              "fillmode": "overlay",
              "size": 10,
              "solidity": 0.2
             }
            },
            "type": "barpolar"
           }
          ],
          "carpet": [
           {
            "aaxis": {
             "endlinecolor": "#2a3f5f",
             "gridcolor": "white",
             "linecolor": "white",
             "minorgridcolor": "white",
             "startlinecolor": "#2a3f5f"
            },
            "baxis": {
             "endlinecolor": "#2a3f5f",
             "gridcolor": "white",
             "linecolor": "white",
             "minorgridcolor": "white",
             "startlinecolor": "#2a3f5f"
            },
            "type": "carpet"
           }
          ],
          "choropleth": [
           {
            "colorbar": {
             "outlinewidth": 0,
             "ticks": ""
            },
            "type": "choropleth"
           }
          ],
          "contour": [
           {
            "colorbar": {
             "outlinewidth": 0,
             "ticks": ""
            },
            "colorscale": [
             [
              0,
              "#0d0887"
             ],
             [
              0.1111111111111111,
              "#46039f"
             ],
             [
              0.2222222222222222,
              "#7201a8"
             ],
             [
              0.3333333333333333,
              "#9c179e"
             ],
             [
              0.4444444444444444,
              "#bd3786"
             ],
             [
              0.5555555555555556,
              "#d8576b"
             ],
             [
              0.6666666666666666,
              "#ed7953"
             ],
             [
              0.7777777777777778,
              "#fb9f3a"
             ],
             [
              0.8888888888888888,
              "#fdca26"
             ],
             [
              1,
              "#f0f921"
             ]
            ],
            "type": "contour"
           }
          ],
          "contourcarpet": [
           {
            "colorbar": {
             "outlinewidth": 0,
             "ticks": ""
            },
            "type": "contourcarpet"
           }
          ],
          "heatmap": [
           {
            "colorbar": {
             "outlinewidth": 0,
             "ticks": ""
            },
            "colorscale": [
             [
              0,
              "#0d0887"
             ],
             [
              0.1111111111111111,
              "#46039f"
             ],
             [
              0.2222222222222222,
              "#7201a8"
             ],
             [
              0.3333333333333333,
              "#9c179e"
             ],
             [
              0.4444444444444444,
              "#bd3786"
             ],
             [
              0.5555555555555556,
              "#d8576b"
             ],
             [
              0.6666666666666666,
              "#ed7953"
             ],
             [
              0.7777777777777778,
              "#fb9f3a"
             ],
             [
              0.8888888888888888,
              "#fdca26"
             ],
             [
              1,
              "#f0f921"
             ]
            ],
            "type": "heatmap"
           }
          ],
          "heatmapgl": [
           {
            "colorbar": {
             "outlinewidth": 0,
             "ticks": ""
            },
            "colorscale": [
             [
              0,
              "#0d0887"
             ],
             [
              0.1111111111111111,
              "#46039f"
             ],
             [
              0.2222222222222222,
              "#7201a8"
             ],
             [
              0.3333333333333333,
              "#9c179e"
             ],
             [
              0.4444444444444444,
              "#bd3786"
             ],
             [
              0.5555555555555556,
              "#d8576b"
             ],
             [
              0.6666666666666666,
              "#ed7953"
             ],
             [
              0.7777777777777778,
              "#fb9f3a"
             ],
             [
              0.8888888888888888,
              "#fdca26"
             ],
             [
              1,
              "#f0f921"
             ]
            ],
            "type": "heatmapgl"
           }
          ],
          "histogram": [
           {
            "marker": {
             "pattern": {
              "fillmode": "overlay",
              "size": 10,
              "solidity": 0.2
             }
            },
            "type": "histogram"
           }
          ],
          "histogram2d": [
           {
            "colorbar": {
             "outlinewidth": 0,
             "ticks": ""
            },
            "colorscale": [
             [
              0,
              "#0d0887"
             ],
             [
              0.1111111111111111,
              "#46039f"
             ],
             [
              0.2222222222222222,
              "#7201a8"
             ],
             [
              0.3333333333333333,
              "#9c179e"
             ],
             [
              0.4444444444444444,
              "#bd3786"
             ],
             [
              0.5555555555555556,
              "#d8576b"
             ],
             [
              0.6666666666666666,
              "#ed7953"
             ],
             [
              0.7777777777777778,
              "#fb9f3a"
             ],
             [
              0.8888888888888888,
              "#fdca26"
             ],
             [
              1,
              "#f0f921"
             ]
            ],
            "type": "histogram2d"
           }
          ],
          "histogram2dcontour": [
           {
            "colorbar": {
             "outlinewidth": 0,
             "ticks": ""
            },
            "colorscale": [
             [
              0,
              "#0d0887"
             ],
             [
              0.1111111111111111,
              "#46039f"
             ],
             [
              0.2222222222222222,
              "#7201a8"
             ],
             [
              0.3333333333333333,
              "#9c179e"
             ],
             [
              0.4444444444444444,
              "#bd3786"
             ],
             [
              0.5555555555555556,
              "#d8576b"
             ],
             [
              0.6666666666666666,
              "#ed7953"
             ],
             [
              0.7777777777777778,
              "#fb9f3a"
             ],
             [
              0.8888888888888888,
              "#fdca26"
             ],
             [
              1,
              "#f0f921"
             ]
            ],
            "type": "histogram2dcontour"
           }
          ],
          "mesh3d": [
           {
            "colorbar": {
             "outlinewidth": 0,
             "ticks": ""
            },
            "type": "mesh3d"
           }
          ],
          "parcoords": [
           {
            "line": {
             "colorbar": {
              "outlinewidth": 0,
              "ticks": ""
             }
            },
            "type": "parcoords"
           }
          ],
          "pie": [
           {
            "automargin": true,
            "type": "pie"
           }
          ],
          "scatter": [
           {
            "marker": {
             "colorbar": {
              "outlinewidth": 0,
              "ticks": ""
             }
            },
            "type": "scatter"
           }
          ],
          "scatter3d": [
           {
            "line": {
             "colorbar": {
              "outlinewidth": 0,
              "ticks": ""
             }
            },
            "marker": {
             "colorbar": {
              "outlinewidth": 0,
              "ticks": ""
             }
            },
            "type": "scatter3d"
           }
          ],
          "scattercarpet": [
           {
            "marker": {
             "colorbar": {
              "outlinewidth": 0,
              "ticks": ""
             }
            },
            "type": "scattercarpet"
           }
          ],
          "scattergeo": [
           {
            "marker": {
             "colorbar": {
              "outlinewidth": 0,
              "ticks": ""
             }
            },
            "type": "scattergeo"
           }
          ],
          "scattergl": [
           {
            "marker": {
             "colorbar": {
              "outlinewidth": 0,
              "ticks": ""
             }
            },
            "type": "scattergl"
           }
          ],
          "scattermapbox": [
           {
            "marker": {
             "colorbar": {
              "outlinewidth": 0,
              "ticks": ""
             }
            },
            "type": "scattermapbox"
           }
          ],
          "scatterpolar": [
           {
            "marker": {
             "colorbar": {
              "outlinewidth": 0,
              "ticks": ""
             }
            },
            "type": "scatterpolar"
           }
          ],
          "scatterpolargl": [
           {
            "marker": {
             "colorbar": {
              "outlinewidth": 0,
              "ticks": ""
             }
            },
            "type": "scatterpolargl"
           }
          ],
          "scatterternary": [
           {
            "marker": {
             "colorbar": {
              "outlinewidth": 0,
              "ticks": ""
             }
            },
            "type": "scatterternary"
           }
          ],
          "surface": [
           {
            "colorbar": {
             "outlinewidth": 0,
             "ticks": ""
            },
            "colorscale": [
             [
              0,
              "#0d0887"
             ],
             [
              0.1111111111111111,
              "#46039f"
             ],
             [
              0.2222222222222222,
              "#7201a8"
             ],
             [
              0.3333333333333333,
              "#9c179e"
             ],
             [
              0.4444444444444444,
              "#bd3786"
             ],
             [
              0.5555555555555556,
              "#d8576b"
             ],
             [
              0.6666666666666666,
              "#ed7953"
             ],
             [
              0.7777777777777778,
              "#fb9f3a"
             ],
             [
              0.8888888888888888,
              "#fdca26"
             ],
             [
              1,
              "#f0f921"
             ]
            ],
            "type": "surface"
           }
          ],
          "table": [
           {
            "cells": {
             "fill": {
              "color": "#EBF0F8"
             },
             "line": {
              "color": "white"
             }
            },
            "header": {
             "fill": {
              "color": "#C8D4E3"
             },
             "line": {
              "color": "white"
             }
            },
            "type": "table"
           }
          ]
         },
         "layout": {
          "annotationdefaults": {
           "arrowcolor": "#2a3f5f",
           "arrowhead": 0,
           "arrowwidth": 1
          },
          "autotypenumbers": "strict",
          "coloraxis": {
           "colorbar": {
            "outlinewidth": 0,
            "ticks": ""
           }
          },
          "colorscale": {
           "diverging": [
            [
             0,
             "#8e0152"
            ],
            [
             0.1,
             "#c51b7d"
            ],
            [
             0.2,
             "#de77ae"
            ],
            [
             0.3,
             "#f1b6da"
            ],
            [
             0.4,
             "#fde0ef"
            ],
            [
             0.5,
             "#f7f7f7"
            ],
            [
             0.6,
             "#e6f5d0"
            ],
            [
             0.7,
             "#b8e186"
            ],
            [
             0.8,
             "#7fbc41"
            ],
            [
             0.9,
             "#4d9221"
            ],
            [
             1,
             "#276419"
            ]
           ],
           "sequential": [
            [
             0,
             "#0d0887"
            ],
            [
             0.1111111111111111,
             "#46039f"
            ],
            [
             0.2222222222222222,
             "#7201a8"
            ],
            [
             0.3333333333333333,
             "#9c179e"
            ],
            [
             0.4444444444444444,
             "#bd3786"
            ],
            [
             0.5555555555555556,
             "#d8576b"
            ],
            [
             0.6666666666666666,
             "#ed7953"
            ],
            [
             0.7777777777777778,
             "#fb9f3a"
            ],
            [
             0.8888888888888888,
             "#fdca26"
            ],
            [
             1,
             "#f0f921"
            ]
           ],
           "sequentialminus": [
            [
             0,
             "#0d0887"
            ],
            [
             0.1111111111111111,
             "#46039f"
            ],
            [
             0.2222222222222222,
             "#7201a8"
            ],
            [
             0.3333333333333333,
             "#9c179e"
            ],
            [
             0.4444444444444444,
             "#bd3786"
            ],
            [
             0.5555555555555556,
             "#d8576b"
            ],
            [
             0.6666666666666666,
             "#ed7953"
            ],
            [
             0.7777777777777778,
             "#fb9f3a"
            ],
            [
             0.8888888888888888,
             "#fdca26"
            ],
            [
             1,
             "#f0f921"
            ]
           ]
          },
          "colorway": [
           "#636efa",
           "#EF553B",
           "#00cc96",
           "#ab63fa",
           "#FFA15A",
           "#19d3f3",
           "#FF6692",
           "#B6E880",
           "#FF97FF",
           "#FECB52"
          ],
          "font": {
           "color": "#2a3f5f"
          },
          "geo": {
           "bgcolor": "white",
           "lakecolor": "white",
           "landcolor": "#E5ECF6",
           "showlakes": true,
           "showland": true,
           "subunitcolor": "white"
          },
          "hoverlabel": {
           "align": "left"
          },
          "hovermode": "closest",
          "mapbox": {
           "style": "light"
          },
          "paper_bgcolor": "white",
          "plot_bgcolor": "#E5ECF6",
          "polar": {
           "angularaxis": {
            "gridcolor": "white",
            "linecolor": "white",
            "ticks": ""
           },
           "bgcolor": "#E5ECF6",
           "radialaxis": {
            "gridcolor": "white",
            "linecolor": "white",
            "ticks": ""
           }
          },
          "scene": {
           "xaxis": {
            "backgroundcolor": "#E5ECF6",
            "gridcolor": "white",
            "gridwidth": 2,
            "linecolor": "white",
            "showbackground": true,
            "ticks": "",
            "zerolinecolor": "white"
           },
           "yaxis": {
            "backgroundcolor": "#E5ECF6",
            "gridcolor": "white",
            "gridwidth": 2,
            "linecolor": "white",
            "showbackground": true,
            "ticks": "",
            "zerolinecolor": "white"
           },
           "zaxis": {
            "backgroundcolor": "#E5ECF6",
            "gridcolor": "white",
            "gridwidth": 2,
            "linecolor": "white",
            "showbackground": true,
            "ticks": "",
            "zerolinecolor": "white"
           }
          },
          "shapedefaults": {
           "line": {
            "color": "#2a3f5f"
           }
          },
          "ternary": {
           "aaxis": {
            "gridcolor": "white",
            "linecolor": "white",
            "ticks": ""
           },
           "baxis": {
            "gridcolor": "white",
            "linecolor": "white",
            "ticks": ""
           },
           "bgcolor": "#E5ECF6",
           "caxis": {
            "gridcolor": "white",
            "linecolor": "white",
            "ticks": ""
           }
          },
          "title": {
           "x": 0.05
          },
          "xaxis": {
           "automargin": true,
           "gridcolor": "white",
           "linecolor": "white",
           "ticks": "",
           "title": {
            "standoff": 15
           },
           "zerolinecolor": "white",
           "zerolinewidth": 2
          },
          "yaxis": {
           "automargin": true,
           "gridcolor": "white",
           "linecolor": "white",
           "ticks": "",
           "title": {
            "standoff": 15
           },
           "zerolinecolor": "white",
           "zerolinewidth": 2
          }
         }
        }
       }
      },
      "text/html": [
       "<div>                            <div id=\"2d4bcee3-9765-45db-a756-b8ea27f678e3\" class=\"plotly-graph-div\" style=\"height:525px; width:100%;\"></div>            <script type=\"text/javascript\">                require([\"plotly\"], function(Plotly) {                    window.PLOTLYENV=window.PLOTLYENV || {};                                    if (document.getElementById(\"2d4bcee3-9765-45db-a756-b8ea27f678e3\")) {                    Plotly.newPlot(                        \"2d4bcee3-9765-45db-a756-b8ea27f678e3\",                        [{\"hole\":0.6,\"labels\":[\"One establishment\",\"More than one\"],\"title\":{\"text\":\"Streets\"},\"values\":[1901,5577],\"type\":\"pie\",\"textfont\":{\"size\":20},\"marker\":{\"colors\":[\"gold\",\"darkorange\"]},\"textinfo\":\"value+percent\"}],                        {\"template\":{\"data\":{\"bar\":[{\"error_x\":{\"color\":\"#2a3f5f\"},\"error_y\":{\"color\":\"#2a3f5f\"},\"marker\":{\"line\":{\"color\":\"#E5ECF6\",\"width\":0.5},\"pattern\":{\"fillmode\":\"overlay\",\"size\":10,\"solidity\":0.2}},\"type\":\"bar\"}],\"barpolar\":[{\"marker\":{\"line\":{\"color\":\"#E5ECF6\",\"width\":0.5},\"pattern\":{\"fillmode\":\"overlay\",\"size\":10,\"solidity\":0.2}},\"type\":\"barpolar\"}],\"carpet\":[{\"aaxis\":{\"endlinecolor\":\"#2a3f5f\",\"gridcolor\":\"white\",\"linecolor\":\"white\",\"minorgridcolor\":\"white\",\"startlinecolor\":\"#2a3f5f\"},\"baxis\":{\"endlinecolor\":\"#2a3f5f\",\"gridcolor\":\"white\",\"linecolor\":\"white\",\"minorgridcolor\":\"white\",\"startlinecolor\":\"#2a3f5f\"},\"type\":\"carpet\"}],\"choropleth\":[{\"colorbar\":{\"outlinewidth\":0,\"ticks\":\"\"},\"type\":\"choropleth\"}],\"contour\":[{\"colorbar\":{\"outlinewidth\":0,\"ticks\":\"\"},\"colorscale\":[[0.0,\"#0d0887\"],[0.1111111111111111,\"#46039f\"],[0.2222222222222222,\"#7201a8\"],[0.3333333333333333,\"#9c179e\"],[0.4444444444444444,\"#bd3786\"],[0.5555555555555556,\"#d8576b\"],[0.6666666666666666,\"#ed7953\"],[0.7777777777777778,\"#fb9f3a\"],[0.8888888888888888,\"#fdca26\"],[1.0,\"#f0f921\"]],\"type\":\"contour\"}],\"contourcarpet\":[{\"colorbar\":{\"outlinewidth\":0,\"ticks\":\"\"},\"type\":\"contourcarpet\"}],\"heatmap\":[{\"colorbar\":{\"outlinewidth\":0,\"ticks\":\"\"},\"colorscale\":[[0.0,\"#0d0887\"],[0.1111111111111111,\"#46039f\"],[0.2222222222222222,\"#7201a8\"],[0.3333333333333333,\"#9c179e\"],[0.4444444444444444,\"#bd3786\"],[0.5555555555555556,\"#d8576b\"],[0.6666666666666666,\"#ed7953\"],[0.7777777777777778,\"#fb9f3a\"],[0.8888888888888888,\"#fdca26\"],[1.0,\"#f0f921\"]],\"type\":\"heatmap\"}],\"heatmapgl\":[{\"colorbar\":{\"outlinewidth\":0,\"ticks\":\"\"},\"colorscale\":[[0.0,\"#0d0887\"],[0.1111111111111111,\"#46039f\"],[0.2222222222222222,\"#7201a8\"],[0.3333333333333333,\"#9c179e\"],[0.4444444444444444,\"#bd3786\"],[0.5555555555555556,\"#d8576b\"],[0.6666666666666666,\"#ed7953\"],[0.7777777777777778,\"#fb9f3a\"],[0.8888888888888888,\"#fdca26\"],[1.0,\"#f0f921\"]],\"type\":\"heatmapgl\"}],\"histogram\":[{\"marker\":{\"pattern\":{\"fillmode\":\"overlay\",\"size\":10,\"solidity\":0.2}},\"type\":\"histogram\"}],\"histogram2d\":[{\"colorbar\":{\"outlinewidth\":0,\"ticks\":\"\"},\"colorscale\":[[0.0,\"#0d0887\"],[0.1111111111111111,\"#46039f\"],[0.2222222222222222,\"#7201a8\"],[0.3333333333333333,\"#9c179e\"],[0.4444444444444444,\"#bd3786\"],[0.5555555555555556,\"#d8576b\"],[0.6666666666666666,\"#ed7953\"],[0.7777777777777778,\"#fb9f3a\"],[0.8888888888888888,\"#fdca26\"],[1.0,\"#f0f921\"]],\"type\":\"histogram2d\"}],\"histogram2dcontour\":[{\"colorbar\":{\"outlinewidth\":0,\"ticks\":\"\"},\"colorscale\":[[0.0,\"#0d0887\"],[0.1111111111111111,\"#46039f\"],[0.2222222222222222,\"#7201a8\"],[0.3333333333333333,\"#9c179e\"],[0.4444444444444444,\"#bd3786\"],[0.5555555555555556,\"#d8576b\"],[0.6666666666666666,\"#ed7953\"],[0.7777777777777778,\"#fb9f3a\"],[0.8888888888888888,\"#fdca26\"],[1.0,\"#f0f921\"]],\"type\":\"histogram2dcontour\"}],\"mesh3d\":[{\"colorbar\":{\"outlinewidth\":0,\"ticks\":\"\"},\"type\":\"mesh3d\"}],\"parcoords\":[{\"line\":{\"colorbar\":{\"outlinewidth\":0,\"ticks\":\"\"}},\"type\":\"parcoords\"}],\"pie\":[{\"automargin\":true,\"type\":\"pie\"}],\"scatter\":[{\"marker\":{\"colorbar\":{\"outlinewidth\":0,\"ticks\":\"\"}},\"type\":\"scatter\"}],\"scatter3d\":[{\"line\":{\"colorbar\":{\"outlinewidth\":0,\"ticks\":\"\"}},\"marker\":{\"colorbar\":{\"outlinewidth\":0,\"ticks\":\"\"}},\"type\":\"scatter3d\"}],\"scattercarpet\":[{\"marker\":{\"colorbar\":{\"outlinewidth\":0,\"ticks\":\"\"}},\"type\":\"scattercarpet\"}],\"scattergeo\":[{\"marker\":{\"colorbar\":{\"outlinewidth\":0,\"ticks\":\"\"}},\"type\":\"scattergeo\"}],\"scattergl\":[{\"marker\":{\"colorbar\":{\"outlinewidth\":0,\"ticks\":\"\"}},\"type\":\"scattergl\"}],\"scattermapbox\":[{\"marker\":{\"colorbar\":{\"outlinewidth\":0,\"ticks\":\"\"}},\"type\":\"scattermapbox\"}],\"scatterpolar\":[{\"marker\":{\"colorbar\":{\"outlinewidth\":0,\"ticks\":\"\"}},\"type\":\"scatterpolar\"}],\"scatterpolargl\":[{\"marker\":{\"colorbar\":{\"outlinewidth\":0,\"ticks\":\"\"}},\"type\":\"scatterpolargl\"}],\"scatterternary\":[{\"marker\":{\"colorbar\":{\"outlinewidth\":0,\"ticks\":\"\"}},\"type\":\"scatterternary\"}],\"surface\":[{\"colorbar\":{\"outlinewidth\":0,\"ticks\":\"\"},\"colorscale\":[[0.0,\"#0d0887\"],[0.1111111111111111,\"#46039f\"],[0.2222222222222222,\"#7201a8\"],[0.3333333333333333,\"#9c179e\"],[0.4444444444444444,\"#bd3786\"],[0.5555555555555556,\"#d8576b\"],[0.6666666666666666,\"#ed7953\"],[0.7777777777777778,\"#fb9f3a\"],[0.8888888888888888,\"#fdca26\"],[1.0,\"#f0f921\"]],\"type\":\"surface\"}],\"table\":[{\"cells\":{\"fill\":{\"color\":\"#EBF0F8\"},\"line\":{\"color\":\"white\"}},\"header\":{\"fill\":{\"color\":\"#C8D4E3\"},\"line\":{\"color\":\"white\"}},\"type\":\"table\"}]},\"layout\":{\"annotationdefaults\":{\"arrowcolor\":\"#2a3f5f\",\"arrowhead\":0,\"arrowwidth\":1},\"autotypenumbers\":\"strict\",\"coloraxis\":{\"colorbar\":{\"outlinewidth\":0,\"ticks\":\"\"}},\"colorscale\":{\"diverging\":[[0,\"#8e0152\"],[0.1,\"#c51b7d\"],[0.2,\"#de77ae\"],[0.3,\"#f1b6da\"],[0.4,\"#fde0ef\"],[0.5,\"#f7f7f7\"],[0.6,\"#e6f5d0\"],[0.7,\"#b8e186\"],[0.8,\"#7fbc41\"],[0.9,\"#4d9221\"],[1,\"#276419\"]],\"sequential\":[[0.0,\"#0d0887\"],[0.1111111111111111,\"#46039f\"],[0.2222222222222222,\"#7201a8\"],[0.3333333333333333,\"#9c179e\"],[0.4444444444444444,\"#bd3786\"],[0.5555555555555556,\"#d8576b\"],[0.6666666666666666,\"#ed7953\"],[0.7777777777777778,\"#fb9f3a\"],[0.8888888888888888,\"#fdca26\"],[1.0,\"#f0f921\"]],\"sequentialminus\":[[0.0,\"#0d0887\"],[0.1111111111111111,\"#46039f\"],[0.2222222222222222,\"#7201a8\"],[0.3333333333333333,\"#9c179e\"],[0.4444444444444444,\"#bd3786\"],[0.5555555555555556,\"#d8576b\"],[0.6666666666666666,\"#ed7953\"],[0.7777777777777778,\"#fb9f3a\"],[0.8888888888888888,\"#fdca26\"],[1.0,\"#f0f921\"]]},\"colorway\":[\"#636efa\",\"#EF553B\",\"#00cc96\",\"#ab63fa\",\"#FFA15A\",\"#19d3f3\",\"#FF6692\",\"#B6E880\",\"#FF97FF\",\"#FECB52\"],\"font\":{\"color\":\"#2a3f5f\"},\"geo\":{\"bgcolor\":\"white\",\"lakecolor\":\"white\",\"landcolor\":\"#E5ECF6\",\"showlakes\":true,\"showland\":true,\"subunitcolor\":\"white\"},\"hoverlabel\":{\"align\":\"left\"},\"hovermode\":\"closest\",\"mapbox\":{\"style\":\"light\"},\"paper_bgcolor\":\"white\",\"plot_bgcolor\":\"#E5ECF6\",\"polar\":{\"angularaxis\":{\"gridcolor\":\"white\",\"linecolor\":\"white\",\"ticks\":\"\"},\"bgcolor\":\"#E5ECF6\",\"radialaxis\":{\"gridcolor\":\"white\",\"linecolor\":\"white\",\"ticks\":\"\"}},\"scene\":{\"xaxis\":{\"backgroundcolor\":\"#E5ECF6\",\"gridcolor\":\"white\",\"gridwidth\":2,\"linecolor\":\"white\",\"showbackground\":true,\"ticks\":\"\",\"zerolinecolor\":\"white\"},\"yaxis\":{\"backgroundcolor\":\"#E5ECF6\",\"gridcolor\":\"white\",\"gridwidth\":2,\"linecolor\":\"white\",\"showbackground\":true,\"ticks\":\"\",\"zerolinecolor\":\"white\"},\"zaxis\":{\"backgroundcolor\":\"#E5ECF6\",\"gridcolor\":\"white\",\"gridwidth\":2,\"linecolor\":\"white\",\"showbackground\":true,\"ticks\":\"\",\"zerolinecolor\":\"white\"}},\"shapedefaults\":{\"line\":{\"color\":\"#2a3f5f\"}},\"ternary\":{\"aaxis\":{\"gridcolor\":\"white\",\"linecolor\":\"white\",\"ticks\":\"\"},\"baxis\":{\"gridcolor\":\"white\",\"linecolor\":\"white\",\"ticks\":\"\"},\"bgcolor\":\"#E5ECF6\",\"caxis\":{\"gridcolor\":\"white\",\"linecolor\":\"white\",\"ticks\":\"\"}},\"title\":{\"x\":0.05},\"xaxis\":{\"automargin\":true,\"gridcolor\":\"white\",\"linecolor\":\"white\",\"ticks\":\"\",\"title\":{\"standoff\":15},\"zerolinecolor\":\"white\",\"zerolinewidth\":2},\"yaxis\":{\"automargin\":true,\"gridcolor\":\"white\",\"linecolor\":\"white\",\"ticks\":\"\",\"title\":{\"standoff\":15},\"zerolinecolor\":\"white\",\"zerolinewidth\":2}}}},                        {\"responsive\": true}                    ).then(function(){\n",
       "                            \n",
       "var gd = document.getElementById('2d4bcee3-9765-45db-a756-b8ea27f678e3');\n",
       "var x = new MutationObserver(function (mutations, observer) {{\n",
       "        var display = window.getComputedStyle(gd).display;\n",
       "        if (!display || display === 'none') {{\n",
       "            console.log([gd, 'removed!']);\n",
       "            Plotly.purge(gd);\n",
       "            observer.disconnect();\n",
       "        }}\n",
       "}});\n",
       "\n",
       "// Listen for the removal of the full notebook cells\n",
       "var notebookContainer = gd.closest('#notebook-container');\n",
       "if (notebookContainer) {{\n",
       "    x.observe(notebookContainer, {childList: true});\n",
       "}}\n",
       "\n",
       "// Listen for the clearing of the current output cell\n",
       "var outputEl = gd.closest('.output');\n",
       "if (outputEl) {{\n",
       "    x.observe(outputEl, {childList: true});\n",
       "}}\n",
       "\n",
       "                        })                };                });            </script>        </div>"
      ]
     },
     "metadata": {},
     "output_type": "display_data"
    }
   ],
   "source": [
    "name = ['One establishment', 'More than one']\n",
    "values = [len(one_rest_streets), len(street_stats) - len(one_rest_streets) ]\n",
    "\n",
    "title = \"Streets\"\n",
    "colors = ['gold', 'darkorange']\n",
    "\n",
    "fig = go.Figure(data=[go.Pie(labels=name, values=values, title = title, hole=.6,\n",
    "                            )])\n",
    "\n",
    "fig.update_traces(textinfo='value + percent', textfont_size=20, marker=dict(colors=colors))\n",
    "\n",
    "fig.show()"
   ]
  },
  {
   "cell_type": "markdown",
   "id": "63c2ef2b",
   "metadata": {},
   "source": [
    "[Back to Content](#content)"
   ]
  },
  {
   "cell_type": "markdown",
   "id": "4452c3e7",
   "metadata": {},
   "source": [
    "### Trends for streets with large number of establishments"
   ]
  },
  {
   "cell_type": "markdown",
   "id": "e36f4b8e",
   "metadata": {},
   "source": [
    "Let's extract a subset (we will call it `clusters`) of the intial dataframe with all the objects on the streets with 10 esteblishments and more:"
   ]
  },
  {
   "cell_type": "code",
   "execution_count": 83,
   "id": "647c61f5",
   "metadata": {},
   "outputs": [],
   "source": [
    "street_stats['popular_street'] = np.where(street_stats['street_stats']>=10, True, False)"
   ]
  },
  {
   "cell_type": "code",
   "execution_count": 84,
   "id": "7bdc9bb7",
   "metadata": {},
   "outputs": [
    {
     "data": {
      "text/html": [
       "<div>\n",
       "<style scoped>\n",
       "    .dataframe tbody tr th:only-of-type {\n",
       "        vertical-align: middle;\n",
       "    }\n",
       "\n",
       "    .dataframe tbody tr th {\n",
       "        vertical-align: top;\n",
       "    }\n",
       "\n",
       "    .dataframe thead th {\n",
       "        text-align: right;\n",
       "    }\n",
       "</style>\n",
       "<table border=\"1\" class=\"dataframe\">\n",
       "  <thead>\n",
       "    <tr style=\"text-align: right;\">\n",
       "      <th></th>\n",
       "      <th>street_stats</th>\n",
       "      <th>popular_street</th>\n",
       "    </tr>\n",
       "  </thead>\n",
       "  <tbody>\n",
       "    <tr>\n",
       "      <th>6333 W 3RD ST</th>\n",
       "      <td>48</td>\n",
       "      <td>True</td>\n",
       "    </tr>\n",
       "    <tr>\n",
       "      <th>10250 SANTA MONICA BLVD</th>\n",
       "      <td>41</td>\n",
       "      <td>True</td>\n",
       "    </tr>\n",
       "    <tr>\n",
       "      <th>6801 HOLLYWOOD BLVD</th>\n",
       "      <td>29</td>\n",
       "      <td>True</td>\n",
       "    </tr>\n",
       "    <tr>\n",
       "      <th>928 S WESTERN AVE</th>\n",
       "      <td>26</td>\n",
       "      <td>True</td>\n",
       "    </tr>\n",
       "    <tr>\n",
       "      <th>3500 W 6TH ST</th>\n",
       "      <td>24</td>\n",
       "      <td>True</td>\n",
       "    </tr>\n",
       "    <tr>\n",
       "      <th>...</th>\n",
       "      <td>...</td>\n",
       "      <td>...</td>\n",
       "    </tr>\n",
       "    <tr>\n",
       "      <th>5009 MELROSE AVE</th>\n",
       "      <td>1</td>\n",
       "      <td>False</td>\n",
       "    </tr>\n",
       "    <tr>\n",
       "      <th>1822 W 7TH ST</th>\n",
       "      <td>1</td>\n",
       "      <td>False</td>\n",
       "    </tr>\n",
       "    <tr>\n",
       "      <th>9750 AIRPORT BLVD</th>\n",
       "      <td>1</td>\n",
       "      <td>False</td>\n",
       "    </tr>\n",
       "    <tr>\n",
       "      <th>4630 WHITTIER BLVD</th>\n",
       "      <td>1</td>\n",
       "      <td>False</td>\n",
       "    </tr>\n",
       "    <tr>\n",
       "      <th>1941 HYPERION AVE</th>\n",
       "      <td>1</td>\n",
       "      <td>False</td>\n",
       "    </tr>\n",
       "  </tbody>\n",
       "</table>\n",
       "<p>7478 rows × 2 columns</p>\n",
       "</div>"
      ],
      "text/plain": [
       "                         street_stats  popular_street\n",
       "6333 W 3RD ST                      48            True\n",
       "10250 SANTA MONICA BLVD            41            True\n",
       "6801 HOLLYWOOD BLVD                29            True\n",
       "928 S WESTERN AVE                  26            True\n",
       "3500 W 6TH ST                      24            True\n",
       "...                               ...             ...\n",
       "5009 MELROSE AVE                    1           False\n",
       "1822 W 7TH ST                       1           False\n",
       "9750 AIRPORT BLVD                   1           False\n",
       "4630 WHITTIER BLVD                  1           False\n",
       "1941 HYPERION AVE                   1           False\n",
       "\n",
       "[7478 rows x 2 columns]"
      ]
     },
     "execution_count": 84,
     "metadata": {},
     "output_type": "execute_result"
    }
   ],
   "source": [
    "street_stats"
   ]
  },
  {
   "cell_type": "code",
   "execution_count": 85,
   "id": "1add0e66",
   "metadata": {},
   "outputs": [],
   "source": [
    "pop_streets = street_stats[street_stats['popular_street']==True].index.to_list()"
   ]
  },
  {
   "cell_type": "code",
   "execution_count": 86,
   "id": "7728874c",
   "metadata": {},
   "outputs": [
    {
     "data": {
      "text/plain": [
       "['6333 W 3RD ST',\n",
       " '10250 SANTA MONICA BLVD',\n",
       " '6801 HOLLYWOOD BLVD',\n",
       " '928 S WESTERN AVE',\n",
       " '3500 W 6TH ST',\n",
       " '735 S FIGUEROA ST',\n",
       " '3250 W OLYMPIC BLVD',\n",
       " '3425 E 1ST ST',\n",
       " '735 E 12TH ST',\n",
       " '333 S ALAMEDA ST']"
      ]
     },
     "execution_count": 86,
     "metadata": {},
     "output_type": "execute_result"
    }
   ],
   "source": [
    "#check\n",
    "pop_streets[:10]"
   ]
  },
  {
   "cell_type": "code",
   "execution_count": 87,
   "id": "b54626e4",
   "metadata": {},
   "outputs": [],
   "source": [
    "clusters = rest_data.query('street in @pop_streets')"
   ]
  },
  {
   "cell_type": "markdown",
   "id": "26428d06",
   "metadata": {},
   "source": [
    "Let's apply a similar chain and seat number analysis as above."
   ]
  },
  {
   "cell_type": "code",
   "execution_count": 88,
   "id": "21ec7882",
   "metadata": {},
   "outputs": [],
   "source": [
    "cluster_stats = clusters.pivot_table(index = 'object_type',\n",
    "                                   columns = 'chain',\n",
    "                                   values = 'number',\n",
    "                                   aggfunc = ['count','median', 'mean'])"
   ]
  },
  {
   "cell_type": "code",
   "execution_count": 89,
   "id": "2ca35341",
   "metadata": {},
   "outputs": [],
   "source": [
    "cluster_stats.columns = [\n",
    "            'Share\\nIndependent object',\n",
    "            'Share\\nChain object',\n",
    "            'Median\\nIndependent object',\n",
    "            'Median\\nChain object',\n",
    "            'Mean\\nIndependent object',\n",
    "            'Mean\\nChain object']\n",
    "    "
   ]
  },
  {
   "cell_type": "code",
   "execution_count": 90,
   "id": "e855a78b",
   "metadata": {},
   "outputs": [],
   "source": [
    "cluster_stats['total'] = (cluster_stats['Share\\nIndependent object'].fillna(0)\n",
    "                                           +cluster_stats['Share\\nChain object'])\n",
    "\n",
    "cluster_stats['Share\\nIndependent object'] = 100*cluster_stats['Share\\nIndependent object'].fillna(0) / cluster_stats['total']\n",
    "cluster_stats['Share\\nChain object'] = 100*cluster_stats['Share\\nChain object'] / cluster_stats['total']\n",
    "cluster_stats.drop(columns = 'total', inplace = True)"
   ]
  },
  {
   "cell_type": "code",
   "execution_count": 91,
   "id": "f2672abe",
   "metadata": {},
   "outputs": [
    {
     "data": {
      "image/png": "[encoded data removed]",
      "text/plain": [
       "<Figure size 1296x288 with 2 Axes>"
      ]
     },
     "metadata": {},
     "output_type": "display_data"
    }
   ],
   "source": [
    "title = 'Total share of objects and their seat stats by type of establishment - for streets with 10 and more objects'\n",
    "viz(cluster_stats, title = title, vmax = 70) # rescale the color scale to underline the stats on the seat number"
   ]
  },
  {
   "cell_type": "markdown",
   "id": "85b7b1be",
   "metadata": {},
   "source": [
    "Let's check the proportions for restaurants:"
   ]
  },
  {
   "cell_type": "code",
   "execution_count": 92,
   "id": "ae87212a",
   "metadata": {},
   "outputs": [
    {
     "data": {
      "text/plain": [
       "0.7933723196881092"
      ]
     },
     "execution_count": 92,
     "metadata": {},
     "output_type": "execute_result"
    }
   ],
   "source": [
    "len(clusters[clusters['object_type']=='Restaurant']) / len(clusters)"
   ]
  },
  {
   "cell_type": "code",
   "execution_count": 93,
   "id": "8c29b241",
   "metadata": {},
   "outputs": [
    {
     "data": {
      "text/plain": [
       "0.28992628992628994"
      ]
     },
     "execution_count": 93,
     "metadata": {},
     "output_type": "execute_result"
    }
   ],
   "source": [
    "len(clusters[(clusters['object_type']=='Restaurant')\n",
    "             & (clusters['chain']== True)])/len(clusters[clusters['object_type']=='Restaurant'])"
   ]
  },
  {
   "cell_type": "markdown",
   "id": "dcc03fcb",
   "metadata": {},
   "source": [
    "There aren't many objects in total for each group, 77% of the establishments on the popular streets are restaurants (does not seem to be a meaningful difference as compared to 75% in the initial dataset) and the share of the chain restaurants out of all restaurants is 29% (seems to be nonmeaninful difference as well as compared to 31.5% in the initial dataset).  50% of the restaurants on popular streets posess 24 and less seats (5-6 seats less than the whole dataset), while on average they have around 45 seats (similar to the initial dataset), meaning that the restaurants on the popular streets tend to be smaller, though large restaurants can have evenmore seats than those on the streets containing less restaurants (this can be due to the structure of property ownership and the real estate prices in popular areas).\n",
    "\n",
    "One striking difference, as compared to the initial dataset, is the proportion of chain cafes and fast food objects and even pizza establishments. Once again, there is small number of objects of these types to draw statistically sound conclusions, but this can be a good marketing idea to focus on the niche of  fast-food like objects (eventually being a robo can be associated with a more efficient time utilization).\n",
    "\n",
    "Another interesting observation is that those chain objects, especially chain pizzas, have higher number of seats than the general dataset. "
   ]
  },
  {
   "cell_type": "markdown",
   "id": "7ec6ce18",
   "metadata": {},
   "source": [
    "[Back to Content](#content)"
   ]
  },
  {
   "cell_type": "markdown",
   "id": "458b4b21",
   "metadata": {},
   "source": [
    "# Conclusions <a id='conclusions'></a>"
   ]
  },
  {
   "cell_type": "markdown",
   "id": "ef9997ed",
   "metadata": {},
   "source": [
    "Me and my partners decided to open a small robot-run cafe in Los Angeles. The project is promising but expensive, so we want to try to attract investors. They are interested in the current market conditions—will we be able to maintain your success when the novelty of robot waiters wears off? So the task was to prepare a market research. To  this end, we employed open-source data on restaurants in LA."
   ]
  },
  {
   "cell_type": "markdown",
   "id": "2512dcc9",
   "metadata": {},
   "source": [
    "While preprocessing the initial data:\n",
    "1. A quick check of missing values was performed, 3 data points fixed.\n",
    "2. The `chain` variable was casted into boolean.\n",
    "3. We have investigated implicit duplicates using stemming and dropped 57 objects at 47 addresses to fix the issue (still there can be some cases of similar titles with variations at the beginning of the title).\n",
    "4. The resulting datasets contain data on 9594 eating places.\n",
    "5. We have taken a look at the distribution of the seat number and learned that it is non-normal with long tail above 50 seats.\n",
    "\n",
    "Additionally, while performing the data analysis, we extracted the street names into a separate columns to study street-wise trends."
   ]
  },
  {
   "cell_type": "markdown",
   "id": "ced80807",
   "metadata": {},
   "source": [
    "The analysis included the following aspects:\n",
    "- Proportions of the various types of establishments.\n",
    "- Proportions of chain and nonchain establishments. Learn which type of establishment is typically a chain.\n",
    "- Characteristics of chains: many establishments with a small number of seats or a few establishments with a lot of seats?\n",
    "- Number of seats for each type of establishment.\n",
    "- TOP10 streets by number of restaurants.\n",
    "- Share of streets that only have one restaurant.\n",
    "- Trends for streets with a lot of restaurants."
   ]
  },
  {
   "cell_type": "markdown",
   "id": "01819721",
   "metadata": {},
   "source": [
    "Below are the main conclusions:\n",
    "1. Appr. 75% of all the establishments are restaurants;\n",
    "2. For some reason all the backeries work in chains. Than the majority of about 60% of cafes and fast food establishments work in chains. Pretty reasonably, bars are the most independent establishments with less than 30% of them working in chains, while appr. 30% of the restaurants are part of chains;\n",
    "3. Chains tend to have many more objects with smaller number of seats, 50% of the objects possess 25 seats and less, while restaurants have more seats in general;\n",
    "4. Independent bars and restaurants have the greatest number of seats, \"on average\", around 30;\n",
    "5. The top10 streets with the largest amount of establishments in general are the same top10 streets with the largest amount of restaurants;\n",
    "6. Appr. 86% of the streets have only one restaurant on them;\n",
    "7. On the popular streets (with 10 and more restaurants) the distribution of the restaurants resempbles that of the general dataset; nevertheless, the restaurants on the popular streets tend to be smaller (50% of them possess 24 and less seats vs. 29-30 for the general dataset), though large restaurants can have evenmore seats than those on the streets containing less restaurants.\n",
    "8. The most striking difference detected was in the proportion of chain cafes, general fast food objects, and even pizza establishments;\n",
    "9. Another interesting observation is that those chain objects, especially chain pizzas, have higher number of seats than the general dataset.;\n",
    "10. Unfortunatelly, data on only small number of such objects was available for popular streets; however, it gives a good value proposition idea on possible format: to focus on the niche of  fast-food like objects.\n",
    "\n"
   ]
  },
  {
   "cell_type": "markdown",
   "id": "da0756ca",
   "metadata": {},
   "source": [
    "The overall recommendation on the restaurant type and number of seats would be to open a medium-size independent fast-food like object of 30 to 40 seats in one of the popular (to draw upon the traffic and raise interest at as many people as possible) streets. N.B. The real estate and the traffic issues, as well as the general readiness to accept the idea of robo-service in food, should be investigated additionally. After proving the concept, gathering some statistics and testing the hypotheses with regard to the target audience, menu and favorable conditions for a robo-restaurant to thrive, further developing of a chain can be assessed. Ultimately, the idea can become a new standard of high quality and time-efficient eating."
   ]
  },
  {
   "cell_type": "markdown",
   "id": "90773a9e",
   "metadata": {},
   "source": [
    "A PDF file is included to the project folder presenting this research to investors."
   ]
  },
  {
   "cell_type": "markdown",
   "id": "d8536376",
   "metadata": {},
   "source": [
    "[Back to Content](#content)"
   ]
  }
 ],
 "metadata": {
  "ExecuteTimeLog": [
   {
    "duration": 1915,
    "start_time": "2022-03-20T11:52:10.758Z"
   },
   {
    "duration": 5,
    "start_time": "2022-03-20T11:52:12.676Z"
   },
   {
    "duration": 74,
    "start_time": "2022-03-20T11:52:12.683Z"
   },
   {
    "duration": 80,
    "start_time": "2022-03-20T11:52:12.760Z"
   },
   {
    "duration": 65,
    "start_time": "2022-03-20T11:52:12.843Z"
   },
   {
    "duration": 12,
    "start_time": "2022-03-20T11:52:12.910Z"
   },
   {
    "duration": 22,
    "start_time": "2022-03-20T11:52:12.925Z"
   },
   {
    "duration": 13,
    "start_time": "2022-03-20T11:52:12.949Z"
   },
   {
    "duration": 8,
    "start_time": "2022-03-20T11:52:12.964Z"
   },
   {
    "duration": 5,
    "start_time": "2022-03-20T11:52:12.974Z"
   },
   {
    "duration": 26,
    "start_time": "2022-03-20T11:52:12.982Z"
   },
   {
    "duration": 8,
    "start_time": "2022-03-20T11:52:13.010Z"
   },
   {
    "duration": 12,
    "start_time": "2022-03-20T11:52:13.021Z"
   },
   {
    "duration": 5,
    "start_time": "2022-03-20T11:52:13.038Z"
   },
   {
    "duration": 83,
    "start_time": "2022-03-20T11:52:13.045Z"
   },
   {
    "duration": 12,
    "start_time": "2022-03-20T11:52:13.130Z"
   },
   {
    "duration": 6,
    "start_time": "2022-03-20T11:52:13.144Z"
   },
   {
    "duration": 13,
    "start_time": "2022-03-20T11:52:13.152Z"
   },
   {
    "duration": 14,
    "start_time": "2022-03-20T11:52:13.167Z"
   },
   {
    "duration": 7,
    "start_time": "2022-03-20T11:52:13.183Z"
   },
   {
    "duration": 15,
    "start_time": "2022-03-20T11:52:13.192Z"
   },
   {
    "duration": 12,
    "start_time": "2022-03-20T11:52:13.209Z"
   },
   {
    "duration": 8,
    "start_time": "2022-03-20T11:52:13.223Z"
   },
   {
    "duration": 44,
    "start_time": "2022-03-20T11:52:13.234Z"
   },
   {
    "duration": 8,
    "start_time": "2022-03-20T11:52:13.280Z"
   },
   {
    "duration": 6,
    "start_time": "2022-03-20T11:52:13.290Z"
   },
   {
    "duration": 11,
    "start_time": "2022-03-20T11:52:13.299Z"
   },
   {
    "duration": 10,
    "start_time": "2022-03-20T11:52:13.312Z"
   },
   {
    "duration": 51,
    "start_time": "2022-03-20T11:52:13.324Z"
   },
   {
    "duration": 8,
    "start_time": "2022-03-20T11:52:13.377Z"
   },
   {
    "duration": 9,
    "start_time": "2022-03-20T11:52:13.388Z"
   },
   {
    "duration": 8,
    "start_time": "2022-03-20T11:52:13.399Z"
   },
   {
    "duration": 8,
    "start_time": "2022-03-20T11:52:13.409Z"
   },
   {
    "duration": 354,
    "start_time": "2022-03-20T11:52:13.419Z"
   },
   {
    "duration": 5,
    "start_time": "2022-03-20T11:52:13.775Z"
   },
   {
    "duration": 13,
    "start_time": "2022-03-20T11:52:13.781Z"
   },
   {
    "duration": 37,
    "start_time": "2022-03-20T11:52:13.796Z"
   },
   {
    "duration": 23,
    "start_time": "2022-03-20T11:52:13.835Z"
   },
   {
    "duration": 33,
    "start_time": "2022-03-20T11:52:13.860Z"
   },
   {
    "duration": 17,
    "start_time": "2022-03-20T11:52:13.895Z"
   },
   {
    "duration": 18,
    "start_time": "2022-03-20T11:52:13.919Z"
   },
   {
    "duration": 32,
    "start_time": "2022-03-20T11:52:13.939Z"
   },
   {
    "duration": 18,
    "start_time": "2022-03-20T11:52:13.973Z"
   },
   {
    "duration": 25,
    "start_time": "2022-03-20T11:52:13.993Z"
   },
   {
    "duration": 17,
    "start_time": "2022-03-20T11:52:14.020Z"
   },
   {
    "duration": 435,
    "start_time": "2022-03-20T11:52:14.039Z"
   },
   {
    "duration": 11,
    "start_time": "2022-03-20T11:52:14.476Z"
   },
   {
    "duration": 233,
    "start_time": "2022-03-20T11:52:14.489Z"
   },
   {
    "duration": 11,
    "start_time": "2022-03-20T11:52:14.724Z"
   },
   {
    "duration": 246,
    "start_time": "2022-03-20T11:52:14.737Z"
   },
   {
    "duration": 17,
    "start_time": "2022-03-20T11:52:14.985Z"
   },
   {
    "duration": 34,
    "start_time": "2022-03-20T11:52:15.005Z"
   },
   {
    "duration": 18,
    "start_time": "2022-03-20T11:52:15.041Z"
   },
   {
    "duration": 14,
    "start_time": "2022-03-20T11:52:15.061Z"
   },
   {
    "duration": 30,
    "start_time": "2022-03-20T11:52:15.077Z"
   },
   {
    "duration": 314,
    "start_time": "2022-03-20T11:52:15.110Z"
   },
   {
    "duration": 231,
    "start_time": "2022-03-20T11:52:15.426Z"
   },
   {
    "duration": 34,
    "start_time": "2022-03-20T11:52:15.659Z"
   },
   {
    "duration": 331,
    "start_time": "2022-03-20T11:52:15.696Z"
   },
   {
    "duration": 320,
    "start_time": "2022-03-20T11:52:16.030Z"
   },
   {
    "duration": 471,
    "start_time": "2022-03-20T11:52:16.353Z"
   },
   {
    "duration": 5,
    "start_time": "2022-03-20T11:52:16.826Z"
   },
   {
    "duration": 285,
    "start_time": "2022-03-20T11:52:16.833Z"
   },
   {
    "duration": 6,
    "start_time": "2022-03-20T11:52:17.120Z"
   },
   {
    "duration": 16,
    "start_time": "2022-03-20T11:52:17.128Z"
   },
   {
    "duration": 31,
    "start_time": "2022-03-20T11:52:17.146Z"
   },
   {
    "duration": 14,
    "start_time": "2022-03-20T11:52:17.179Z"
   },
   {
    "duration": 10,
    "start_time": "2022-03-20T11:52:17.195Z"
   },
   {
    "duration": 638,
    "start_time": "2022-03-20T11:52:17.207Z"
   },
   {
    "duration": 332,
    "start_time": "2022-03-20T11:52:17.847Z"
   },
   {
    "duration": 324,
    "start_time": "2022-03-20T11:52:18.181Z"
   },
   {
    "duration": 320,
    "start_time": "2022-03-20T11:52:18.507Z"
   },
   {
    "duration": 475,
    "start_time": "2022-03-20T11:52:18.829Z"
   },
   {
    "duration": 393,
    "start_time": "2022-03-20T11:52:19.306Z"
   },
   {
    "duration": 293,
    "start_time": "2022-03-20T11:52:19.702Z"
   },
   {
    "duration": 11,
    "start_time": "2022-03-20T11:52:19.997Z"
   },
   {
    "duration": 30,
    "start_time": "2022-03-20T11:52:20.010Z"
   },
   {
    "duration": 6,
    "start_time": "2022-03-20T11:52:20.042Z"
   },
   {
    "duration": 49,
    "start_time": "2022-03-20T11:52:20.050Z"
   },
   {
    "duration": 15,
    "start_time": "2022-03-20T11:52:20.102Z"
   },
   {
    "duration": 14,
    "start_time": "2022-03-20T11:52:20.119Z"
   },
   {
    "duration": 65,
    "start_time": "2022-03-20T11:52:20.135Z"
   },
   {
    "duration": 19,
    "start_time": "2022-03-20T11:52:20.202Z"
   },
   {
    "duration": 89,
    "start_time": "2022-03-20T12:00:08.168Z"
   },
   {
    "duration": 53,
    "start_time": "2022-03-21T15:12:44.921Z"
   },
   {
    "duration": 1457,
    "start_time": "2022-03-21T15:12:53.290Z"
   },
   {
    "duration": 4,
    "start_time": "2022-03-21T15:12:54.750Z"
   },
   {
    "duration": 85,
    "start_time": "2022-03-21T15:12:54.755Z"
   },
   {
    "duration": 90,
    "start_time": "2022-03-21T15:12:54.843Z"
   },
   {
    "duration": 83,
    "start_time": "2022-03-21T15:12:54.935Z"
   },
   {
    "duration": 10,
    "start_time": "2022-03-21T15:12:55.019Z"
   },
   {
    "duration": 16,
    "start_time": "2022-03-21T15:12:55.031Z"
   },
   {
    "duration": 11,
    "start_time": "2022-03-21T15:12:55.049Z"
   },
   {
    "duration": 7,
    "start_time": "2022-03-21T15:12:55.062Z"
   },
   {
    "duration": 5,
    "start_time": "2022-03-21T15:12:55.072Z"
   },
   {
    "duration": 18,
    "start_time": "2022-03-21T15:12:55.079Z"
   },
   {
    "duration": 14,
    "start_time": "2022-03-21T15:12:55.098Z"
   },
   {
    "duration": 12,
    "start_time": "2022-03-21T15:12:55.117Z"
   },
   {
    "duration": 6,
    "start_time": "2022-03-21T15:12:55.131Z"
   },
   {
    "duration": 84,
    "start_time": "2022-03-21T15:12:55.138Z"
   },
   {
    "duration": 9,
    "start_time": "2022-03-21T15:12:55.224Z"
   },
   {
    "duration": 7,
    "start_time": "2022-03-21T15:12:55.235Z"
   },
   {
    "duration": 14,
    "start_time": "2022-03-21T15:12:55.244Z"
   },
   {
    "duration": 16,
    "start_time": "2022-03-21T15:12:55.260Z"
   },
   {
    "duration": 7,
    "start_time": "2022-03-21T15:12:55.278Z"
   },
   {
    "duration": 15,
    "start_time": "2022-03-21T15:12:55.287Z"
   },
   {
    "duration": 18,
    "start_time": "2022-03-21T15:12:55.306Z"
   },
   {
    "duration": 10,
    "start_time": "2022-03-21T15:12:55.325Z"
   },
   {
    "duration": 9,
    "start_time": "2022-03-21T15:12:55.337Z"
   },
   {
    "duration": 8,
    "start_time": "2022-03-21T15:12:55.347Z"
   },
   {
    "duration": 8,
    "start_time": "2022-03-21T15:12:55.357Z"
   },
   {
    "duration": 11,
    "start_time": "2022-03-21T15:12:55.367Z"
   },
   {
    "duration": 7,
    "start_time": "2022-03-21T15:12:55.401Z"
   },
   {
    "duration": 19,
    "start_time": "2022-03-21T15:12:55.411Z"
   },
   {
    "duration": 11,
    "start_time": "2022-03-21T15:12:55.432Z"
   },
   {
    "duration": 14,
    "start_time": "2022-03-21T15:12:55.444Z"
   },
   {
    "duration": 11,
    "start_time": "2022-03-21T15:12:55.459Z"
   },
   {
    "duration": 14,
    "start_time": "2022-03-21T15:12:55.472Z"
   },
   {
    "duration": 174,
    "start_time": "2022-03-21T15:12:55.500Z"
   },
   {
    "duration": 3,
    "start_time": "2022-03-21T15:12:55.677Z"
   },
   {
    "duration": 16,
    "start_time": "2022-03-21T15:12:55.682Z"
   },
   {
    "duration": 42,
    "start_time": "2022-03-21T15:12:55.706Z"
   },
   {
    "duration": 6,
    "start_time": "2022-03-21T15:12:55.751Z"
   },
   {
    "duration": 8,
    "start_time": "2022-03-21T15:12:55.759Z"
   },
   {
    "duration": 5,
    "start_time": "2022-03-21T15:12:55.769Z"
   },
   {
    "duration": 14,
    "start_time": "2022-03-21T15:12:55.776Z"
   },
   {
    "duration": 12,
    "start_time": "2022-03-21T15:12:55.792Z"
   },
   {
    "duration": 6,
    "start_time": "2022-03-21T15:12:55.808Z"
   },
   {
    "duration": 7,
    "start_time": "2022-03-21T15:12:55.816Z"
   },
   {
    "duration": 12,
    "start_time": "2022-03-21T15:12:55.824Z"
   },
   {
    "duration": 293,
    "start_time": "2022-03-21T15:12:55.838Z"
   },
   {
    "duration": 9,
    "start_time": "2022-03-21T15:12:56.133Z"
   },
   {
    "duration": 166,
    "start_time": "2022-03-21T15:12:56.145Z"
   },
   {
    "duration": 9,
    "start_time": "2022-03-21T15:12:56.314Z"
   },
   {
    "duration": 162,
    "start_time": "2022-03-21T15:12:56.325Z"
   },
   {
    "duration": 21,
    "start_time": "2022-03-21T15:12:56.489Z"
   },
   {
    "duration": 21,
    "start_time": "2022-03-21T15:12:56.514Z"
   },
   {
    "duration": 8,
    "start_time": "2022-03-21T15:12:56.537Z"
   },
   {
    "duration": 9,
    "start_time": "2022-03-21T15:12:56.547Z"
   },
   {
    "duration": 10,
    "start_time": "2022-03-21T15:12:56.558Z"
   },
   {
    "duration": 236,
    "start_time": "2022-03-21T15:12:56.570Z"
   },
   {
    "duration": 157,
    "start_time": "2022-03-21T15:12:56.809Z"
   },
   {
    "duration": 15,
    "start_time": "2022-03-21T15:12:56.968Z"
   },
   {
    "duration": 234,
    "start_time": "2022-03-21T15:12:56.984Z"
   },
   {
    "duration": 229,
    "start_time": "2022-03-21T15:12:57.220Z"
   },
   {
    "duration": 290,
    "start_time": "2022-03-21T15:12:57.450Z"
   },
   {
    "duration": 4,
    "start_time": "2022-03-21T15:12:57.742Z"
   },
   {
    "duration": 201,
    "start_time": "2022-03-21T15:12:57.748Z"
   },
   {
    "duration": 5,
    "start_time": "2022-03-21T15:12:57.951Z"
   },
   {
    "duration": 18,
    "start_time": "2022-03-21T15:12:57.957Z"
   },
   {
    "duration": 28,
    "start_time": "2022-03-21T15:12:57.977Z"
   },
   {
    "duration": 13,
    "start_time": "2022-03-21T15:12:58.008Z"
   },
   {
    "duration": 11,
    "start_time": "2022-03-21T15:12:58.023Z"
   },
   {
    "duration": 452,
    "start_time": "2022-03-21T15:12:58.035Z"
   },
   {
    "duration": 242,
    "start_time": "2022-03-21T15:12:58.489Z"
   },
   {
    "duration": 217,
    "start_time": "2022-03-21T15:12:58.733Z"
   },
   {
    "duration": 228,
    "start_time": "2022-03-21T15:12:58.953Z"
   },
   {
    "duration": 374,
    "start_time": "2022-03-21T15:12:59.184Z"
   },
   {
    "duration": 375,
    "start_time": "2022-03-21T15:12:59.561Z"
   },
   {
    "duration": 164,
    "start_time": "2022-03-21T15:12:59.937Z"
   },
   {
    "duration": 14,
    "start_time": "2022-03-21T15:13:00.105Z"
   },
   {
    "duration": 30,
    "start_time": "2022-03-21T15:13:00.121Z"
   },
   {
    "duration": 17,
    "start_time": "2022-03-21T15:13:00.153Z"
   },
   {
    "duration": 63,
    "start_time": "2022-03-21T15:13:00.171Z"
   },
   {
    "duration": 15,
    "start_time": "2022-03-21T15:13:00.236Z"
   },
   {
    "duration": 46,
    "start_time": "2022-03-21T15:13:00.254Z"
   },
   {
    "duration": 56,
    "start_time": "2022-03-21T15:13:00.309Z"
   },
   {
    "duration": 38,
    "start_time": "2022-03-21T15:13:00.366Z"
   },
   {
    "duration": 107,
    "start_time": "2022-03-21T15:13:26.540Z"
   },
   {
    "duration": 3,
    "start_time": "2022-03-21T15:13:30.544Z"
   },
   {
    "duration": 11,
    "start_time": "2022-03-21T15:13:33.062Z"
   },
   {
    "duration": 157,
    "start_time": "2022-03-21T15:19:11.692Z"
   },
   {
    "duration": 143,
    "start_time": "2022-03-21T15:19:20.168Z"
   },
   {
    "duration": 143,
    "start_time": "2022-03-21T15:21:38.514Z"
   },
   {
    "duration": 94,
    "start_time": "2022-03-21T15:21:56.137Z"
   },
   {
    "duration": 18,
    "start_time": "2022-03-21T15:22:50.707Z"
   },
   {
    "duration": 14,
    "start_time": "2022-03-21T15:22:57.075Z"
   },
   {
    "duration": 178,
    "start_time": "2022-03-21T15:23:03.435Z"
   },
   {
    "duration": 159,
    "start_time": "2022-03-21T15:23:32.419Z"
   },
   {
    "duration": 260,
    "start_time": "2022-03-21T15:23:35.294Z"
   },
   {
    "duration": 169,
    "start_time": "2022-03-21T15:23:39.875Z"
   },
   {
    "duration": 173,
    "start_time": "2022-03-21T15:23:46.359Z"
   },
   {
    "duration": 159,
    "start_time": "2022-03-21T15:23:56.815Z"
   },
   {
    "duration": 175,
    "start_time": "2022-03-21T15:24:01.286Z"
   },
   {
    "duration": 171,
    "start_time": "2022-03-21T15:24:17.574Z"
   },
   {
    "duration": 238,
    "start_time": "2022-03-21T15:25:35.821Z"
   },
   {
    "duration": 248,
    "start_time": "2022-03-21T15:26:20.202Z"
   },
   {
    "duration": 221,
    "start_time": "2022-03-21T15:26:25.295Z"
   },
   {
    "duration": 253,
    "start_time": "2022-03-21T15:26:30.478Z"
   },
   {
    "duration": 232,
    "start_time": "2022-03-21T15:26:35.313Z"
   },
   {
    "duration": 327,
    "start_time": "2022-03-21T15:26:42.841Z"
   },
   {
    "duration": 233,
    "start_time": "2022-03-21T15:26:50.910Z"
   },
   {
    "duration": 235,
    "start_time": "2022-03-21T15:28:35.189Z"
   },
   {
    "duration": 177,
    "start_time": "2022-03-21T15:31:11.589Z"
   },
   {
    "duration": 13,
    "start_time": "2022-03-21T15:32:30.056Z"
   },
   {
    "duration": 311,
    "start_time": "2022-03-21T15:32:38.962Z"
   },
   {
    "duration": 188,
    "start_time": "2022-03-21T15:33:10.249Z"
   },
   {
    "duration": 277,
    "start_time": "2022-03-21T15:34:22.273Z"
   },
   {
    "duration": 268,
    "start_time": "2022-03-21T15:34:26.933Z"
   },
   {
    "duration": 308,
    "start_time": "2022-03-21T15:34:30.834Z"
   },
   {
    "duration": 273,
    "start_time": "2022-03-21T15:34:34.321Z"
   },
   {
    "duration": 283,
    "start_time": "2022-03-21T15:34:38.513Z"
   },
   {
    "duration": 292,
    "start_time": "2022-03-21T15:35:21.120Z"
   },
   {
    "duration": 178,
    "start_time": "2022-03-21T15:35:27.025Z"
   },
   {
    "duration": 333,
    "start_time": "2022-03-21T15:36:03.423Z"
   },
   {
    "duration": 235,
    "start_time": "2022-03-21T15:36:36.905Z"
   },
   {
    "duration": 227,
    "start_time": "2022-03-21T15:36:44.837Z"
   },
   {
    "duration": 231,
    "start_time": "2022-03-21T15:37:10.984Z"
   },
   {
    "duration": 1998,
    "start_time": "2022-03-30T19:46:18.869Z"
   },
   {
    "duration": 0,
    "start_time": "2022-03-30T19:46:20.884Z"
   },
   {
    "duration": 0,
    "start_time": "2022-03-30T19:46:20.886Z"
   },
   {
    "duration": 0,
    "start_time": "2022-03-30T19:46:20.887Z"
   },
   {
    "duration": 0,
    "start_time": "2022-03-30T19:46:20.889Z"
   },
   {
    "duration": 0,
    "start_time": "2022-03-30T19:46:20.890Z"
   },
   {
    "duration": 0,
    "start_time": "2022-03-30T19:46:20.892Z"
   },
   {
    "duration": 0,
    "start_time": "2022-03-30T19:46:20.893Z"
   },
   {
    "duration": 0,
    "start_time": "2022-03-30T19:46:20.894Z"
   },
   {
    "duration": 0,
    "start_time": "2022-03-30T19:46:20.896Z"
   },
   {
    "duration": 0,
    "start_time": "2022-03-30T19:46:20.897Z"
   },
   {
    "duration": 0,
    "start_time": "2022-03-30T19:46:20.898Z"
   },
   {
    "duration": 0,
    "start_time": "2022-03-30T19:46:20.899Z"
   },
   {
    "duration": 0,
    "start_time": "2022-03-30T19:46:20.901Z"
   },
   {
    "duration": 0,
    "start_time": "2022-03-30T19:46:20.902Z"
   },
   {
    "duration": 0,
    "start_time": "2022-03-30T19:46:20.903Z"
   },
   {
    "duration": 0,
    "start_time": "2022-03-30T19:46:20.904Z"
   },
   {
    "duration": 0,
    "start_time": "2022-03-30T19:46:20.906Z"
   },
   {
    "duration": 0,
    "start_time": "2022-03-30T19:46:20.908Z"
   },
   {
    "duration": 0,
    "start_time": "2022-03-30T19:46:20.909Z"
   },
   {
    "duration": 0,
    "start_time": "2022-03-30T19:46:20.910Z"
   },
   {
    "duration": 0,
    "start_time": "2022-03-30T19:46:20.911Z"
   },
   {
    "duration": 0,
    "start_time": "2022-03-30T19:46:20.913Z"
   },
   {
    "duration": 0,
    "start_time": "2022-03-30T19:46:20.914Z"
   },
   {
    "duration": 0,
    "start_time": "2022-03-30T19:46:20.915Z"
   },
   {
    "duration": 0,
    "start_time": "2022-03-30T19:46:20.917Z"
   },
   {
    "duration": 0,
    "start_time": "2022-03-30T19:46:20.919Z"
   },
   {
    "duration": 0,
    "start_time": "2022-03-30T19:46:20.920Z"
   },
   {
    "duration": 0,
    "start_time": "2022-03-30T19:46:20.922Z"
   },
   {
    "duration": 0,
    "start_time": "2022-03-30T19:46:20.926Z"
   },
   {
    "duration": 0,
    "start_time": "2022-03-30T19:46:21.000Z"
   },
   {
    "duration": 0,
    "start_time": "2022-03-30T19:46:21.001Z"
   },
   {
    "duration": 0,
    "start_time": "2022-03-30T19:46:21.011Z"
   },
   {
    "duration": 0,
    "start_time": "2022-03-30T19:46:21.012Z"
   },
   {
    "duration": 0,
    "start_time": "2022-03-30T19:46:21.014Z"
   },
   {
    "duration": 0,
    "start_time": "2022-03-30T19:46:21.015Z"
   },
   {
    "duration": 0,
    "start_time": "2022-03-30T19:46:21.016Z"
   },
   {
    "duration": 0,
    "start_time": "2022-03-30T19:46:21.017Z"
   },
   {
    "duration": 0,
    "start_time": "2022-03-30T19:46:21.018Z"
   },
   {
    "duration": 0,
    "start_time": "2022-03-30T19:46:21.020Z"
   },
   {
    "duration": 0,
    "start_time": "2022-03-30T19:46:21.021Z"
   },
   {
    "duration": 0,
    "start_time": "2022-03-30T19:46:21.022Z"
   },
   {
    "duration": 0,
    "start_time": "2022-03-30T19:46:21.025Z"
   },
   {
    "duration": 0,
    "start_time": "2022-03-30T19:46:21.027Z"
   },
   {
    "duration": 0,
    "start_time": "2022-03-30T19:46:21.029Z"
   },
   {
    "duration": 0,
    "start_time": "2022-03-30T19:46:21.032Z"
   },
   {
    "duration": 0,
    "start_time": "2022-03-30T19:46:21.033Z"
   },
   {
    "duration": 0,
    "start_time": "2022-03-30T19:46:21.035Z"
   },
   {
    "duration": 0,
    "start_time": "2022-03-30T19:46:21.039Z"
   },
   {
    "duration": 0,
    "start_time": "2022-03-30T19:46:21.041Z"
   },
   {
    "duration": 0,
    "start_time": "2022-03-30T19:46:21.043Z"
   },
   {
    "duration": 0,
    "start_time": "2022-03-30T19:46:21.045Z"
   },
   {
    "duration": 0,
    "start_time": "2022-03-30T19:46:21.047Z"
   },
   {
    "duration": 0,
    "start_time": "2022-03-30T19:46:21.049Z"
   },
   {
    "duration": 0,
    "start_time": "2022-03-30T19:46:21.083Z"
   },
   {
    "duration": 0,
    "start_time": "2022-03-30T19:46:21.085Z"
   },
   {
    "duration": 0,
    "start_time": "2022-03-30T19:46:21.087Z"
   },
   {
    "duration": 0,
    "start_time": "2022-03-30T19:46:21.089Z"
   },
   {
    "duration": 0,
    "start_time": "2022-03-30T19:46:21.092Z"
   },
   {
    "duration": 0,
    "start_time": "2022-03-30T19:46:21.093Z"
   },
   {
    "duration": 0,
    "start_time": "2022-03-30T19:46:21.095Z"
   },
   {
    "duration": 0,
    "start_time": "2022-03-30T19:46:21.101Z"
   },
   {
    "duration": 0,
    "start_time": "2022-03-30T19:46:21.103Z"
   },
   {
    "duration": 0,
    "start_time": "2022-03-30T19:46:21.105Z"
   },
   {
    "duration": 0,
    "start_time": "2022-03-30T19:46:21.115Z"
   },
   {
    "duration": 0,
    "start_time": "2022-03-30T19:46:21.117Z"
   },
   {
    "duration": 0,
    "start_time": "2022-03-30T19:46:21.118Z"
   },
   {
    "duration": 1,
    "start_time": "2022-03-30T19:46:21.121Z"
   },
   {
    "duration": 0,
    "start_time": "2022-03-30T19:46:21.123Z"
   },
   {
    "duration": 0,
    "start_time": "2022-03-30T19:46:21.184Z"
   },
   {
    "duration": 0,
    "start_time": "2022-03-30T19:46:21.187Z"
   },
   {
    "duration": 0,
    "start_time": "2022-03-30T19:46:21.189Z"
   },
   {
    "duration": 0,
    "start_time": "2022-03-30T19:46:21.192Z"
   },
   {
    "duration": 1,
    "start_time": "2022-03-30T19:46:21.193Z"
   },
   {
    "duration": 0,
    "start_time": "2022-03-30T19:46:21.196Z"
   },
   {
    "duration": 0,
    "start_time": "2022-03-30T19:46:21.198Z"
   },
   {
    "duration": 0,
    "start_time": "2022-03-30T19:46:21.201Z"
   },
   {
    "duration": 0,
    "start_time": "2022-03-30T19:46:21.203Z"
   },
   {
    "duration": 0,
    "start_time": "2022-03-30T19:46:21.205Z"
   },
   {
    "duration": 0,
    "start_time": "2022-03-30T19:46:21.207Z"
   },
   {
    "duration": 0,
    "start_time": "2022-03-30T19:46:21.209Z"
   },
   {
    "duration": 0,
    "start_time": "2022-03-30T19:46:21.211Z"
   },
   {
    "duration": 0,
    "start_time": "2022-03-30T19:46:21.213Z"
   },
   {
    "duration": 0,
    "start_time": "2022-03-30T19:46:21.215Z"
   },
   {
    "duration": 0,
    "start_time": "2022-03-30T19:46:21.217Z"
   },
   {
    "duration": 0,
    "start_time": "2022-03-30T19:46:21.219Z"
   },
   {
    "duration": 0,
    "start_time": "2022-03-30T19:46:21.221Z"
   },
   {
    "duration": 0,
    "start_time": "2022-03-30T19:46:21.223Z"
   },
   {
    "duration": 0,
    "start_time": "2022-03-30T19:46:21.285Z"
   },
   {
    "duration": 0,
    "start_time": "2022-03-30T19:46:21.287Z"
   },
   {
    "duration": 0,
    "start_time": "2022-03-30T19:46:21.289Z"
   },
   {
    "duration": 0,
    "start_time": "2022-03-30T19:46:21.291Z"
   },
   {
    "duration": 11874,
    "start_time": "2022-03-30T19:48:33.563Z"
   },
   {
    "duration": 4036,
    "start_time": "2022-03-30T19:48:50.136Z"
   },
   {
    "duration": 2612,
    "start_time": "2022-03-30T19:48:54.175Z"
   },
   {
    "duration": 9,
    "start_time": "2022-03-30T19:48:56.789Z"
   },
   {
    "duration": 170,
    "start_time": "2022-03-30T19:48:56.802Z"
   },
   {
    "duration": 34,
    "start_time": "2022-03-30T19:48:56.975Z"
   },
   {
    "duration": 15,
    "start_time": "2022-03-30T19:48:57.012Z"
   },
   {
    "duration": 12,
    "start_time": "2022-03-30T19:48:57.030Z"
   },
   {
    "duration": 55,
    "start_time": "2022-03-30T19:48:57.044Z"
   },
   {
    "duration": 13,
    "start_time": "2022-03-30T19:48:57.102Z"
   },
   {
    "duration": 16,
    "start_time": "2022-03-30T19:48:57.121Z"
   },
   {
    "duration": 44,
    "start_time": "2022-03-30T19:48:57.140Z"
   },
   {
    "duration": 13,
    "start_time": "2022-03-30T19:48:57.187Z"
   },
   {
    "duration": 24,
    "start_time": "2022-03-30T19:48:57.203Z"
   },
   {
    "duration": 17,
    "start_time": "2022-03-30T19:48:57.230Z"
   },
   {
    "duration": 56,
    "start_time": "2022-03-30T19:48:57.250Z"
   },
   {
    "duration": 6,
    "start_time": "2022-03-30T19:48:57.308Z"
   },
   {
    "duration": 8,
    "start_time": "2022-03-30T19:48:57.317Z"
   },
   {
    "duration": 5,
    "start_time": "2022-03-30T19:48:57.327Z"
   },
   {
    "duration": 52,
    "start_time": "2022-03-30T19:48:57.334Z"
   },
   {
    "duration": 15,
    "start_time": "2022-03-30T19:48:57.389Z"
   },
   {
    "duration": 13,
    "start_time": "2022-03-30T19:48:57.406Z"
   },
   {
    "duration": 18,
    "start_time": "2022-03-30T19:48:57.422Z"
   },
   {
    "duration": 54,
    "start_time": "2022-03-30T19:48:57.442Z"
   },
   {
    "duration": 1140,
    "start_time": "2022-03-30T19:48:57.498Z"
   },
   {
    "duration": 4,
    "start_time": "2022-03-30T19:48:58.641Z"
   },
   {
    "duration": 14,
    "start_time": "2022-03-30T19:48:58.648Z"
   },
   {
    "duration": 311,
    "start_time": "2022-03-30T19:48:58.664Z"
   },
   {
    "duration": 21,
    "start_time": "2022-03-30T19:48:58.988Z"
   },
   {
    "duration": 20,
    "start_time": "2022-03-30T19:48:59.011Z"
   },
   {
    "duration": 15,
    "start_time": "2022-03-30T19:48:59.033Z"
   },
   {
    "duration": 35,
    "start_time": "2022-03-30T19:48:59.050Z"
   },
   {
    "duration": 25,
    "start_time": "2022-03-30T19:48:59.087Z"
   },
   {
    "duration": 28,
    "start_time": "2022-03-30T19:48:59.114Z"
   },
   {
    "duration": 14,
    "start_time": "2022-03-30T19:48:59.144Z"
   },
   {
    "duration": 23,
    "start_time": "2022-03-30T19:48:59.161Z"
   },
   {
    "duration": 6,
    "start_time": "2022-03-30T19:48:59.186Z"
   },
   {
    "duration": 15,
    "start_time": "2022-03-30T19:48:59.194Z"
   },
   {
    "duration": 591,
    "start_time": "2022-03-30T19:48:59.212Z"
   },
   {
    "duration": 565,
    "start_time": "2022-03-30T19:48:59.805Z"
   },
   {
    "duration": 170,
    "start_time": "2022-03-30T19:49:00.372Z"
   },
   {
    "duration": 13,
    "start_time": "2022-03-30T19:49:00.544Z"
   },
   {
    "duration": 24,
    "start_time": "2022-03-30T19:49:00.560Z"
   },
   {
    "duration": 21,
    "start_time": "2022-03-30T19:49:00.588Z"
   },
   {
    "duration": 58,
    "start_time": "2022-03-30T19:49:00.611Z"
   },
   {
    "duration": 363,
    "start_time": "2022-03-30T19:49:00.671Z"
   },
   {
    "duration": 19,
    "start_time": "2022-03-30T19:49:01.036Z"
   },
   {
    "duration": 7,
    "start_time": "2022-03-30T19:49:01.057Z"
   },
   {
    "duration": 6,
    "start_time": "2022-03-30T19:49:01.085Z"
   },
   {
    "duration": 16,
    "start_time": "2022-03-30T19:49:01.093Z"
   },
   {
    "duration": 322,
    "start_time": "2022-03-30T19:49:01.111Z"
   },
   {
    "duration": 6,
    "start_time": "2022-03-30T19:49:01.435Z"
   },
   {
    "duration": 18,
    "start_time": "2022-03-30T19:49:01.444Z"
   },
   {
    "duration": 476,
    "start_time": "2022-03-30T19:49:01.484Z"
   },
   {
    "duration": 73,
    "start_time": "2022-03-30T19:49:01.963Z"
   },
   {
    "duration": 5,
    "start_time": "2022-03-30T19:49:02.039Z"
   },
   {
    "duration": 26,
    "start_time": "2022-03-30T19:49:02.046Z"
   },
   {
    "duration": 828,
    "start_time": "2022-03-30T19:49:02.088Z"
   },
   {
    "duration": 10,
    "start_time": "2022-03-30T19:49:02.919Z"
   },
   {
    "duration": 20,
    "start_time": "2022-03-30T19:49:02.932Z"
   },
   {
    "duration": 35,
    "start_time": "2022-03-30T19:49:02.955Z"
   },
   {
    "duration": 46,
    "start_time": "2022-03-30T19:49:02.993Z"
   },
   {
    "duration": 5,
    "start_time": "2022-03-30T19:49:03.041Z"
   },
   {
    "duration": 38,
    "start_time": "2022-03-30T19:49:03.048Z"
   },
   {
    "duration": 739,
    "start_time": "2022-03-30T19:49:03.089Z"
   },
   {
    "duration": 16,
    "start_time": "2022-03-30T19:49:03.830Z"
   },
   {
    "duration": 8,
    "start_time": "2022-03-30T19:49:03.848Z"
   },
   {
    "duration": 24,
    "start_time": "2022-03-30T19:49:03.860Z"
   },
   {
    "duration": 11,
    "start_time": "2022-03-30T19:49:03.886Z"
   },
   {
    "duration": 34,
    "start_time": "2022-03-30T19:49:03.899Z"
   },
   {
    "duration": 156,
    "start_time": "2022-03-30T19:49:03.935Z"
   },
   {
    "duration": 38,
    "start_time": "2022-03-30T19:49:04.095Z"
   },
   {
    "duration": 26,
    "start_time": "2022-03-30T19:49:04.135Z"
   },
   {
    "duration": 15,
    "start_time": "2022-03-30T19:49:04.183Z"
   },
   {
    "duration": 11,
    "start_time": "2022-03-30T19:49:04.200Z"
   },
   {
    "duration": 11,
    "start_time": "2022-03-30T19:49:04.215Z"
   },
   {
    "duration": 20,
    "start_time": "2022-03-30T19:49:04.228Z"
   },
   {
    "duration": 83,
    "start_time": "2022-03-30T19:49:04.251Z"
   },
   {
    "duration": 92,
    "start_time": "2022-03-30T19:49:04.337Z"
   },
   {
    "duration": 14,
    "start_time": "2022-03-30T19:49:04.432Z"
   },
   {
    "duration": 10,
    "start_time": "2022-03-30T19:49:04.448Z"
   },
   {
    "duration": 29,
    "start_time": "2022-03-30T19:49:04.461Z"
   },
   {
    "duration": 27,
    "start_time": "2022-03-30T19:49:04.503Z"
   },
   {
    "duration": 6,
    "start_time": "2022-03-30T19:49:04.532Z"
   },
   {
    "duration": 54,
    "start_time": "2022-03-30T19:49:04.540Z"
   },
   {
    "duration": 12,
    "start_time": "2022-03-30T19:49:04.596Z"
   },
   {
    "duration": 9,
    "start_time": "2022-03-30T19:49:04.611Z"
   },
   {
    "duration": 32,
    "start_time": "2022-03-30T19:49:04.623Z"
   },
   {
    "duration": 66,
    "start_time": "2022-03-30T19:49:04.658Z"
   },
   {
    "duration": 5,
    "start_time": "2022-03-30T19:49:04.728Z"
   },
   {
    "duration": 23,
    "start_time": "2022-03-30T19:49:04.736Z"
   },
   {
    "duration": 710,
    "start_time": "2022-03-30T19:49:04.761Z"
   },
   {
    "duration": 12,
    "start_time": "2022-03-30T19:49:05.475Z"
   },
   {
    "duration": 10,
    "start_time": "2022-03-30T19:49:05.489Z"
   }
  ],
  "kernelspec": {
   "display_name": "Python 3",
   "language": "python",
   "name": "python3"
  },
  "language_info": {
   "codemirror_mode": {
    "name": "ipython",
    "version": 3
   },
   "file_extension": ".py",
   "mimetype": "text/x-python",
   "name": "python",
   "nbconvert_exporter": "python",
   "pygments_lexer": "ipython3",
   "version": "3.8.8"
  },
  "toc": {
   "base_numbering": 1,
   "nav_menu": {},
   "number_sections": true,
   "sideBar": true,
   "skip_h1_title": true,
   "title_cell": "Table of Contents",
   "title_sidebar": "Contents",
   "toc_cell": false,
   "toc_position": {},
   "toc_section_display": true,
   "toc_window_display": false
  }
 },
 "nbformat": 4,
 "nbformat_minor": 5
}
