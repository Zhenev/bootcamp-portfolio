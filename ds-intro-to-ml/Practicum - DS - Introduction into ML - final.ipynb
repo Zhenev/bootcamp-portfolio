{
 "cells": [
  {
   "cell_type": "markdown",
   "id": "2bc44e55",
   "metadata": {},
   "source": [
    "## Content <a id='content'></a>\n",
    "\n",
    "[Introduction](#intro)\n",
    "\n",
    "[Datasets](#datasets)\n",
    "\n",
    "[Data overview](#prep)\n",
    "\n",
    "[ML](#ml)\n",
    "\n",
    "[Conclusions](#conclusions)"
   ]
  },
  {
   "cell_type": "markdown",
   "id": "5495f0e7",
   "metadata": {},
   "source": [
    "# Introduction <a id='intro'></a>"
   ]
  },
  {
   "cell_type": "markdown",
   "id": "a82dec77",
   "metadata": {},
   "source": [
    "Mobile carrier Megaline has found out that many of their subscribers use legacy plans. They want to develop a model that would analyze subscribers' behavior and recommend one of Megaline's newer plans: Smart or Ultra.\n",
    "\n",
    "We have already performed the data preprocessing step of the dataset, which icnlude behavior data about subscribers who have already switched to the new plans and can move straight to creating the model that will pick the right plan.\n",
    "\n",
    "Thus, we have a classification task and need to develop a model with the highest possible accuracy. For the purposes of this project, we will take accuracy of 0.75 as a threshold. We will check the accuracy using the test dataset."
   ]
  },
  {
   "cell_type": "markdown",
   "id": "947b4a57",
   "metadata": {},
   "source": [
    "### I have a plan"
   ]
  },
  {
   "cell_type": "markdown",
   "id": "0372b628",
   "metadata": {},
   "source": [
    "Our journey will include the following steps:\n",
    "    \n",
    "1. Open and look through the data file.\n",
    "2. Split the source data into a training set, a validation set, and a test set.\n",
    "3. Investigate the quality of different models by changing hyperparameters. Briefly describe the findings of the study.\n",
    "4. Check the quality of the model using the test set.\n",
    "5. Additional task: sanity check the model."
   ]
  },
  {
   "cell_type": "markdown",
   "id": "9d973751",
   "metadata": {},
   "source": [
    "# Datasets <a id='datasets'></a>"
   ]
  },
  {
   "cell_type": "markdown",
   "id": "2fe8c5ec",
   "metadata": {},
   "source": [
    "Every observation in the dataset contains monthly behavior information about one user. The information given is as follows:\n",
    "\n",
    "- `сalls` — number of calls,\n",
    "- `minutes` — total call duration in minutes,\n",
    "- `messages` — number of text messages,\n",
    "- `mb_used` — Internet traffic used in MB,\n",
    "- `is_ultra` — plan for the current month (Ultra - 1, Smart - 0)."
   ]
  },
  {
   "cell_type": "markdown",
   "id": "aa3c7f76",
   "metadata": {},
   "source": [
    "# Data overview <a id='prep'></a>"
   ]
  },
  {
   "cell_type": "markdown",
   "id": "2aa7bcf9",
   "metadata": {},
   "source": [
    "## Libraries"
   ]
  },
  {
   "cell_type": "code",
   "execution_count": 1,
   "id": "24c57253",
   "metadata": {},
   "outputs": [],
   "source": [
    "# import potentially necessary libraris and functions\n",
    "import pandas as pd\n",
    "import numpy as np\n",
    "import seaborn as sns\n",
    "import matplotlib.pyplot as plt\n",
    "\n",
    "from sklearn.preprocessing import StandardScaler, MinMaxScaler\n",
    "from sklearn.model_selection import train_test_split\n",
    "from sklearn.linear_model import LogisticRegression\n",
    "from sklearn.ensemble import RandomForestClassifier\n",
    "\n",
    "from sklearn.metrics import mean_absolute_error, mean_squared_error, r2_score\n",
    "from sklearn.metrics import accuracy_score, precision_score, recall_score, f1_score, roc_auc_score"
   ]
  },
  {
   "cell_type": "markdown",
   "id": "5a9ebc0b",
   "metadata": {},
   "source": [
    "## File upload"
   ]
  },
  {
   "cell_type": "markdown",
   "id": "d1d94465",
   "metadata": {},
   "source": [
    "We will use a load() function to avoid potential problems with the file pathes."
   ]
  },
  {
   "cell_type": "code",
   "execution_count": 2,
   "id": "28d824d1",
   "metadata": {},
   "outputs": [],
   "source": [
    "# function `load` for a csv load with try-except and a number of rows limit\n",
    "def load(filename, sep = ',', nrow = None):\n",
    "    \"\"\"\n",
    "    i=In addition to the file name, the function takes nrows parameter\n",
    "    for a particular number of rows to load. If None, then the file is loaded fully.\n",
    "    \"\"\"\n",
    "    try:\n",
    "        df_raw = pd.read_csv(filename, sep = sep, nrows = nrow)\n",
    "    except:\n",
    "        df_raw = pd.read_csv('/'+filename, sep = sep, nrows = nrow)\n",
    "    return df_raw"
   ]
  },
  {
   "cell_type": "code",
   "execution_count": 3,
   "id": "6029baa3",
   "metadata": {},
   "outputs": [],
   "source": [
    "# chec the dataset data types and memory usage on the first 500 rows\n",
    "users_raw = load('datasets/users_behavior.csv', nrow = 500)"
   ]
  },
  {
   "cell_type": "code",
   "execution_count": 4,
   "id": "e66670a9",
   "metadata": {},
   "outputs": [
    {
     "name": "stdout",
     "output_type": "stream",
     "text": [
      "<class 'pandas.core.frame.DataFrame'>\n",
      "RangeIndex: 500 entries, 0 to 499\n",
      "Data columns (total 5 columns):\n",
      " #   Column    Non-Null Count  Dtype  \n",
      "---  ------    --------------  -----  \n",
      " 0   calls     500 non-null    float64\n",
      " 1   minutes   500 non-null    float64\n",
      " 2   messages  500 non-null    float64\n",
      " 3   mb_used   500 non-null    float64\n",
      " 4   is_ultra  500 non-null    int64  \n",
      "dtypes: float64(4), int64(1)\n",
      "memory usage: 19.7 KB\n"
     ]
    }
   ],
   "source": [
    "users_raw.info(memory_usage = 'deep')"
   ]
  },
  {
   "cell_type": "markdown",
   "id": "47ccd425",
   "metadata": {},
   "source": [
    "The dataset doesnot look like memory-intensive and the data types are relevant, so let's read it alltogether."
   ]
  },
  {
   "cell_type": "code",
   "execution_count": 5,
   "id": "4f91a561",
   "metadata": {},
   "outputs": [],
   "source": [
    "users_raw = load('datasets/users_behavior.csv')"
   ]
  },
  {
   "cell_type": "code",
   "execution_count": 6,
   "id": "5a852138",
   "metadata": {},
   "outputs": [
    {
     "data": {
      "text/plain": [
       "(3214, 5)"
      ]
     },
     "execution_count": 6,
     "metadata": {},
     "output_type": "execute_result"
    }
   ],
   "source": [
    "users_raw.shape"
   ]
  },
  {
   "cell_type": "markdown",
   "id": "9626fc19",
   "metadata": {},
   "source": [
    "The raw dataset contains data on 3214 customers, the target variable and the 4 features described above."
   ]
  },
  {
   "cell_type": "markdown",
   "id": "236cedf7",
   "metadata": {},
   "source": [
    "[Back to Content](#content)"
   ]
  },
  {
   "cell_type": "markdown",
   "id": "fe55deeb",
   "metadata": {},
   "source": [
    "## Data overview <a id='data_overview'></a>"
   ]
  },
  {
   "cell_type": "markdown",
   "id": "fe9a43d9",
   "metadata": {},
   "source": [
    "Let's explore the given dataset; we will answer the following questions:\n",
    "1. Does it contain any missing features or duplicates?\n",
    "2. What are the basic stats for this dataset?\n",
    "3. Are there some obvious differences between the two groups of customers - users of the plans?"
   ]
  },
  {
   "cell_type": "markdown",
   "id": "caafe996",
   "metadata": {},
   "source": [
    "### Checking for missing values and duplicates <a id = \"dup\"> <a/>"
   ]
  },
  {
   "cell_type": "code",
   "execution_count": 7,
   "id": "22137b6d",
   "metadata": {},
   "outputs": [
    {
     "data": {
      "text/html": [
       "<div>\n",
       "<style scoped>\n",
       "    .dataframe tbody tr th:only-of-type {\n",
       "        vertical-align: middle;\n",
       "    }\n",
       "\n",
       "    .dataframe tbody tr th {\n",
       "        vertical-align: top;\n",
       "    }\n",
       "\n",
       "    .dataframe thead th {\n",
       "        text-align: right;\n",
       "    }\n",
       "</style>\n",
       "<table border=\"1\" class=\"dataframe\">\n",
       "  <thead>\n",
       "    <tr style=\"text-align: right;\">\n",
       "      <th></th>\n",
       "      <th>calls</th>\n",
       "      <th>minutes</th>\n",
       "      <th>messages</th>\n",
       "      <th>mb_used</th>\n",
       "      <th>is_ultra</th>\n",
       "    </tr>\n",
       "  </thead>\n",
       "  <tbody>\n",
       "    <tr>\n",
       "      <th>0</th>\n",
       "      <td>40.0</td>\n",
       "      <td>311.90</td>\n",
       "      <td>83.0</td>\n",
       "      <td>19915.42</td>\n",
       "      <td>0</td>\n",
       "    </tr>\n",
       "    <tr>\n",
       "      <th>1</th>\n",
       "      <td>85.0</td>\n",
       "      <td>516.75</td>\n",
       "      <td>56.0</td>\n",
       "      <td>22696.96</td>\n",
       "      <td>0</td>\n",
       "    </tr>\n",
       "    <tr>\n",
       "      <th>2</th>\n",
       "      <td>77.0</td>\n",
       "      <td>467.66</td>\n",
       "      <td>86.0</td>\n",
       "      <td>21060.45</td>\n",
       "      <td>0</td>\n",
       "    </tr>\n",
       "    <tr>\n",
       "      <th>3</th>\n",
       "      <td>106.0</td>\n",
       "      <td>745.53</td>\n",
       "      <td>81.0</td>\n",
       "      <td>8437.39</td>\n",
       "      <td>1</td>\n",
       "    </tr>\n",
       "    <tr>\n",
       "      <th>4</th>\n",
       "      <td>66.0</td>\n",
       "      <td>418.74</td>\n",
       "      <td>1.0</td>\n",
       "      <td>14502.75</td>\n",
       "      <td>0</td>\n",
       "    </tr>\n",
       "  </tbody>\n",
       "</table>\n",
       "</div>"
      ],
      "text/plain": [
       "   calls  minutes  messages   mb_used  is_ultra\n",
       "0   40.0   311.90      83.0  19915.42         0\n",
       "1   85.0   516.75      56.0  22696.96         0\n",
       "2   77.0   467.66      86.0  21060.45         0\n",
       "3  106.0   745.53      81.0   8437.39         1\n",
       "4   66.0   418.74       1.0  14502.75         0"
      ]
     },
     "execution_count": 7,
     "metadata": {},
     "output_type": "execute_result"
    }
   ],
   "source": [
    "users_raw.head()"
   ]
  },
  {
   "cell_type": "code",
   "execution_count": 8,
   "id": "8d849cd2",
   "metadata": {
    "scrolled": false
   },
   "outputs": [
    {
     "name": "stdout",
     "output_type": "stream",
     "text": [
      "<class 'pandas.core.frame.DataFrame'>\n",
      "RangeIndex: 3214 entries, 0 to 3213\n",
      "Data columns (total 5 columns):\n",
      " #   Column    Non-Null Count  Dtype  \n",
      "---  ------    --------------  -----  \n",
      " 0   calls     3214 non-null   float64\n",
      " 1   minutes   3214 non-null   float64\n",
      " 2   messages  3214 non-null   float64\n",
      " 3   mb_used   3214 non-null   float64\n",
      " 4   is_ultra  3214 non-null   int64  \n",
      "dtypes: float64(4), int64(1)\n",
      "memory usage: 125.7 KB\n"
     ]
    }
   ],
   "source": [
    "users_raw.info()"
   ]
  },
  {
   "cell_type": "markdown",
   "id": "3cf240ae",
   "metadata": {},
   "source": [
    "The data types are correct (the boolean type could be used for the `is_ultra` columns, but for our purposes we can leave it as is); no missing values revealed."
   ]
  },
  {
   "cell_type": "markdown",
   "id": "798c7610",
   "metadata": {},
   "source": [
    "Let's make sure we do not have duplicated rows in the dataset."
   ]
  },
  {
   "cell_type": "code",
   "execution_count": 9,
   "id": "3dbc46b9",
   "metadata": {},
   "outputs": [
    {
     "data": {
      "text/plain": [
       "0"
      ]
     },
     "execution_count": 9,
     "metadata": {},
     "output_type": "execute_result"
    }
   ],
   "source": [
    "users_raw.duplicated().sum()"
   ]
  },
  {
   "cell_type": "markdown",
   "id": "912828ba",
   "metadata": {},
   "source": [
    "No duplicates."
   ]
  },
  {
   "cell_type": "markdown",
   "id": "a82cef81",
   "metadata": {},
   "source": [
    "[Back to Content](#content)"
   ]
  },
  {
   "cell_type": "markdown",
   "id": "97f81c98",
   "metadata": {},
   "source": [
    "### Basic stats <a id = \"basic_stats\"> <a/>"
   ]
  },
  {
   "cell_type": "code",
   "execution_count": 10,
   "id": "507d6527",
   "metadata": {},
   "outputs": [
    {
     "data": {
      "text/html": [
       "<div>\n",
       "<style scoped>\n",
       "    .dataframe tbody tr th:only-of-type {\n",
       "        vertical-align: middle;\n",
       "    }\n",
       "\n",
       "    .dataframe tbody tr th {\n",
       "        vertical-align: top;\n",
       "    }\n",
       "\n",
       "    .dataframe thead th {\n",
       "        text-align: right;\n",
       "    }\n",
       "</style>\n",
       "<table border=\"1\" class=\"dataframe\">\n",
       "  <thead>\n",
       "    <tr style=\"text-align: right;\">\n",
       "      <th></th>\n",
       "      <th>count</th>\n",
       "      <th>mean</th>\n",
       "      <th>std</th>\n",
       "      <th>min</th>\n",
       "      <th>25%</th>\n",
       "      <th>50%</th>\n",
       "      <th>75%</th>\n",
       "      <th>max</th>\n",
       "    </tr>\n",
       "  </thead>\n",
       "  <tbody>\n",
       "    <tr>\n",
       "      <th>calls</th>\n",
       "      <td>3214.0</td>\n",
       "      <td>63.038892</td>\n",
       "      <td>33.236368</td>\n",
       "      <td>0.0</td>\n",
       "      <td>40.0000</td>\n",
       "      <td>62.000</td>\n",
       "      <td>82.0000</td>\n",
       "      <td>244.00</td>\n",
       "    </tr>\n",
       "    <tr>\n",
       "      <th>minutes</th>\n",
       "      <td>3214.0</td>\n",
       "      <td>438.208787</td>\n",
       "      <td>234.569872</td>\n",
       "      <td>0.0</td>\n",
       "      <td>274.5750</td>\n",
       "      <td>430.600</td>\n",
       "      <td>571.9275</td>\n",
       "      <td>1632.06</td>\n",
       "    </tr>\n",
       "    <tr>\n",
       "      <th>messages</th>\n",
       "      <td>3214.0</td>\n",
       "      <td>38.281269</td>\n",
       "      <td>36.148326</td>\n",
       "      <td>0.0</td>\n",
       "      <td>9.0000</td>\n",
       "      <td>30.000</td>\n",
       "      <td>57.0000</td>\n",
       "      <td>224.00</td>\n",
       "    </tr>\n",
       "    <tr>\n",
       "      <th>mb_used</th>\n",
       "      <td>3214.0</td>\n",
       "      <td>17207.673836</td>\n",
       "      <td>7570.968246</td>\n",
       "      <td>0.0</td>\n",
       "      <td>12491.9025</td>\n",
       "      <td>16943.235</td>\n",
       "      <td>21424.7000</td>\n",
       "      <td>49745.73</td>\n",
       "    </tr>\n",
       "    <tr>\n",
       "      <th>is_ultra</th>\n",
       "      <td>3214.0</td>\n",
       "      <td>0.306472</td>\n",
       "      <td>0.461100</td>\n",
       "      <td>0.0</td>\n",
       "      <td>0.0000</td>\n",
       "      <td>0.000</td>\n",
       "      <td>1.0000</td>\n",
       "      <td>1.00</td>\n",
       "    </tr>\n",
       "  </tbody>\n",
       "</table>\n",
       "</div>"
      ],
      "text/plain": [
       "           count          mean          std  min         25%        50%  \\\n",
       "calls     3214.0     63.038892    33.236368  0.0     40.0000     62.000   \n",
       "minutes   3214.0    438.208787   234.569872  0.0    274.5750    430.600   \n",
       "messages  3214.0     38.281269    36.148326  0.0      9.0000     30.000   \n",
       "mb_used   3214.0  17207.673836  7570.968246  0.0  12491.9025  16943.235   \n",
       "is_ultra  3214.0      0.306472     0.461100  0.0      0.0000      0.000   \n",
       "\n",
       "                 75%       max  \n",
       "calls        82.0000    244.00  \n",
       "minutes     571.9275   1632.06  \n",
       "messages     57.0000    224.00  \n",
       "mb_used   21424.7000  49745.73  \n",
       "is_ultra      1.0000      1.00  "
      ]
     },
     "execution_count": 10,
     "metadata": {},
     "output_type": "execute_result"
    }
   ],
   "source": [
    "# stats on numeric variables\n",
    "users_raw.describe().T"
   ]
  },
  {
   "cell_type": "markdown",
   "id": "1555abe4",
   "metadata": {},
   "source": [
    "Out of 3214 users, 30% have the `Ultra` plan. No significant outliers can be noticed in numerical variables."
   ]
  },
  {
   "cell_type": "markdown",
   "id": "05b5a3f0",
   "metadata": {},
   "source": [
    "[Back to Content](#content)"
   ]
  },
  {
   "cell_type": "markdown",
   "id": "9dc1c517",
   "metadata": {},
   "source": [
    "### Group stats <a id = \"gr_stats\"> <a/>"
   ]
  },
  {
   "cell_type": "code",
   "execution_count": 11,
   "id": "aeb5cd69",
   "metadata": {},
   "outputs": [
    {
     "data": {
      "text/html": [
       "<div>\n",
       "<style scoped>\n",
       "    .dataframe tbody tr th:only-of-type {\n",
       "        vertical-align: middle;\n",
       "    }\n",
       "\n",
       "    .dataframe tbody tr th {\n",
       "        vertical-align: top;\n",
       "    }\n",
       "\n",
       "    .dataframe thead th {\n",
       "        text-align: right;\n",
       "    }\n",
       "</style>\n",
       "<table border=\"1\" class=\"dataframe\">\n",
       "  <thead>\n",
       "    <tr style=\"text-align: right;\">\n",
       "      <th></th>\n",
       "      <th>is_ultra</th>\n",
       "      <th>0</th>\n",
       "      <th>1</th>\n",
       "    </tr>\n",
       "  </thead>\n",
       "  <tbody>\n",
       "    <tr>\n",
       "      <th rowspan=\"8\" valign=\"top\">calls</th>\n",
       "      <th>count</th>\n",
       "      <td>2229.00</td>\n",
       "      <td>985.00</td>\n",
       "    </tr>\n",
       "    <tr>\n",
       "      <th>mean</th>\n",
       "      <td>58.46</td>\n",
       "      <td>73.39</td>\n",
       "    </tr>\n",
       "    <tr>\n",
       "      <th>std</th>\n",
       "      <td>25.94</td>\n",
       "      <td>43.92</td>\n",
       "    </tr>\n",
       "    <tr>\n",
       "      <th>min</th>\n",
       "      <td>0.00</td>\n",
       "      <td>0.00</td>\n",
       "    </tr>\n",
       "    <tr>\n",
       "      <th>25%</th>\n",
       "      <td>40.00</td>\n",
       "      <td>41.00</td>\n",
       "    </tr>\n",
       "    <tr>\n",
       "      <th>50%</th>\n",
       "      <td>60.00</td>\n",
       "      <td>74.00</td>\n",
       "    </tr>\n",
       "    <tr>\n",
       "      <th>75%</th>\n",
       "      <td>76.00</td>\n",
       "      <td>104.00</td>\n",
       "    </tr>\n",
       "    <tr>\n",
       "      <th>max</th>\n",
       "      <td>198.00</td>\n",
       "      <td>244.00</td>\n",
       "    </tr>\n",
       "    <tr>\n",
       "      <th rowspan=\"8\" valign=\"top\">minutes</th>\n",
       "      <th>count</th>\n",
       "      <td>2229.00</td>\n",
       "      <td>985.00</td>\n",
       "    </tr>\n",
       "    <tr>\n",
       "      <th>mean</th>\n",
       "      <td>405.94</td>\n",
       "      <td>511.22</td>\n",
       "    </tr>\n",
       "    <tr>\n",
       "      <th>std</th>\n",
       "      <td>184.51</td>\n",
       "      <td>308.03</td>\n",
       "    </tr>\n",
       "    <tr>\n",
       "      <th>min</th>\n",
       "      <td>0.00</td>\n",
       "      <td>0.00</td>\n",
       "    </tr>\n",
       "    <tr>\n",
       "      <th>25%</th>\n",
       "      <td>274.23</td>\n",
       "      <td>276.03</td>\n",
       "    </tr>\n",
       "    <tr>\n",
       "      <th>50%</th>\n",
       "      <td>410.56</td>\n",
       "      <td>502.55</td>\n",
       "    </tr>\n",
       "    <tr>\n",
       "      <th>75%</th>\n",
       "      <td>529.51</td>\n",
       "      <td>730.05</td>\n",
       "    </tr>\n",
       "    <tr>\n",
       "      <th>max</th>\n",
       "      <td>1390.22</td>\n",
       "      <td>1632.06</td>\n",
       "    </tr>\n",
       "    <tr>\n",
       "      <th rowspan=\"8\" valign=\"top\">messages</th>\n",
       "      <th>count</th>\n",
       "      <td>2229.00</td>\n",
       "      <td>985.00</td>\n",
       "    </tr>\n",
       "    <tr>\n",
       "      <th>mean</th>\n",
       "      <td>33.38</td>\n",
       "      <td>49.36</td>\n",
       "    </tr>\n",
       "    <tr>\n",
       "      <th>std</th>\n",
       "      <td>28.23</td>\n",
       "      <td>47.80</td>\n",
       "    </tr>\n",
       "    <tr>\n",
       "      <th>min</th>\n",
       "      <td>0.00</td>\n",
       "      <td>0.00</td>\n",
       "    </tr>\n",
       "    <tr>\n",
       "      <th>25%</th>\n",
       "      <td>10.00</td>\n",
       "      <td>6.00</td>\n",
       "    </tr>\n",
       "    <tr>\n",
       "      <th>50%</th>\n",
       "      <td>28.00</td>\n",
       "      <td>38.00</td>\n",
       "    </tr>\n",
       "    <tr>\n",
       "      <th>75%</th>\n",
       "      <td>51.00</td>\n",
       "      <td>79.00</td>\n",
       "    </tr>\n",
       "    <tr>\n",
       "      <th>max</th>\n",
       "      <td>143.00</td>\n",
       "      <td>224.00</td>\n",
       "    </tr>\n",
       "    <tr>\n",
       "      <th rowspan=\"8\" valign=\"top\">mb_used</th>\n",
       "      <th>count</th>\n",
       "      <td>2229.00</td>\n",
       "      <td>985.00</td>\n",
       "    </tr>\n",
       "    <tr>\n",
       "      <th>mean</th>\n",
       "      <td>16208.47</td>\n",
       "      <td>19468.82</td>\n",
       "    </tr>\n",
       "    <tr>\n",
       "      <th>std</th>\n",
       "      <td>5870.50</td>\n",
       "      <td>10087.18</td>\n",
       "    </tr>\n",
       "    <tr>\n",
       "      <th>min</th>\n",
       "      <td>0.00</td>\n",
       "      <td>0.00</td>\n",
       "    </tr>\n",
       "    <tr>\n",
       "      <th>25%</th>\n",
       "      <td>12643.05</td>\n",
       "      <td>11770.28</td>\n",
       "    </tr>\n",
       "    <tr>\n",
       "      <th>50%</th>\n",
       "      <td>16506.93</td>\n",
       "      <td>19308.01</td>\n",
       "    </tr>\n",
       "    <tr>\n",
       "      <th>75%</th>\n",
       "      <td>20043.06</td>\n",
       "      <td>26837.72</td>\n",
       "    </tr>\n",
       "    <tr>\n",
       "      <th>max</th>\n",
       "      <td>38552.62</td>\n",
       "      <td>49745.73</td>\n",
       "    </tr>\n",
       "  </tbody>\n",
       "</table>\n",
       "</div>"
      ],
      "text/plain": [
       "is_ultra               0         1\n",
       "calls    count   2229.00    985.00\n",
       "         mean      58.46     73.39\n",
       "         std       25.94     43.92\n",
       "         min        0.00      0.00\n",
       "         25%       40.00     41.00\n",
       "         50%       60.00     74.00\n",
       "         75%       76.00    104.00\n",
       "         max      198.00    244.00\n",
       "minutes  count   2229.00    985.00\n",
       "         mean     405.94    511.22\n",
       "         std      184.51    308.03\n",
       "         min        0.00      0.00\n",
       "         25%      274.23    276.03\n",
       "         50%      410.56    502.55\n",
       "         75%      529.51    730.05\n",
       "         max     1390.22   1632.06\n",
       "messages count   2229.00    985.00\n",
       "         mean      33.38     49.36\n",
       "         std       28.23     47.80\n",
       "         min        0.00      0.00\n",
       "         25%       10.00      6.00\n",
       "         50%       28.00     38.00\n",
       "         75%       51.00     79.00\n",
       "         max      143.00    224.00\n",
       "mb_used  count   2229.00    985.00\n",
       "         mean   16208.47  19468.82\n",
       "         std     5870.50  10087.18\n",
       "         min        0.00      0.00\n",
       "         25%    12643.05  11770.28\n",
       "         50%    16506.93  19308.01\n",
       "         75%    20043.06  26837.72\n",
       "         max    38552.62  49745.73"
      ]
     },
     "execution_count": 11,
     "metadata": {},
     "output_type": "execute_result"
    }
   ],
   "source": [
    "users_raw.groupby(by = 'is_ultra').describe().T.round(2)"
   ]
  },
  {
   "cell_type": "markdown",
   "id": "9a89c56d",
   "metadata": {},
   "source": [
    "Looks like users of the `Ultra` plan make more calls, talk more minutes, send more messages, and even use more internet."
   ]
  },
  {
   "cell_type": "markdown",
   "id": "240056b1",
   "metadata": {},
   "source": [
    "[Back to Content](#content)"
   ]
  },
  {
   "cell_type": "markdown",
   "id": "cb081e46",
   "metadata": {},
   "source": [
    "### Summary on datasets  <a id='data_summary'></a>"
   ]
  },
  {
   "cell_type": "markdown",
   "id": "30b4af1a",
   "metadata": {},
   "source": [
    "Let's sum up:\n",
    "1. We have uploaded the dataset, updated column names and variable types, and checked the data for duplicates and missing variables; the dataset at hand, does not have missing values, duplicates, as well as outliers.\n",
    "2. Out of 3214 users we have a group of 985 who have use the `Ultra` plan.\n",
    "3. Users of the `Ultra` plan seem to make more calls, talk more minutes, send more messages, and even use more internet."
   ]
  },
  {
   "cell_type": "markdown",
   "id": "355d3857",
   "metadata": {},
   "source": [
    "[Back to Content](#content)"
   ]
  },
  {
   "cell_type": "markdown",
   "id": "2d72e84d",
   "metadata": {},
   "source": [
    "## Machine Learning <a id='ml'></a>"
   ]
  },
  {
   "cell_type": "markdown",
   "id": "cdf4e5c6",
   "metadata": {},
   "source": [
    "In this part, we will build a **binary classification model** for users where the target feature is the user's plan. To this end, we will:\n",
    "1. Split the source data into a training set, a validation set, and a test set. * We will standardize the data as well.\n",
    "2. Building a model to recommend one of the to plans; we will train the model on the train set with two methods:\n",
    "    - logistic regression;\n",
    "    - random forest.\n",
    "3. Investigate the quality of different models by changing hyperparameters on the validation set.\n",
    "4. Check the quality of the model using the test set.\n",
    "5. Perform a sanity check."
   ]
  },
  {
   "cell_type": "markdown",
   "id": "4fbef095",
   "metadata": {},
   "source": [
    "### Split the data"
   ]
  },
  {
   "cell_type": "markdown",
   "id": "16e1df21",
   "metadata": {},
   "source": [
    "Let's split the data (we use random splitting, since we are not dealing with a time series). One thing to take into account is that we have pretty meaningful class imbalance in the data, so we will employ the `stratify` parameter to ensure preservation of that imbalance during the split."
   ]
  },
  {
   "cell_type": "code",
   "execution_count": 12,
   "id": "83a2d0b4",
   "metadata": {},
   "outputs": [],
   "source": [
    "#divide the data into features (the X matrix) and a target variable (y)\n",
    "X = users_raw.drop('is_ultra', axis = 1)\n",
    "y = users_raw['is_ultra']"
   ]
  },
  {
   "cell_type": "code",
   "execution_count": 13,
   "id": "b74d71b5",
   "metadata": {},
   "outputs": [],
   "source": [
    "# divide the data into train and test sets\n",
    "X_train, X_test, y_train, y_test = train_test_split(X, y, test_size=0.2, random_state = 0, stratify = y)"
   ]
  },
  {
   "cell_type": "code",
   "execution_count": 14,
   "id": "4ddc7251",
   "metadata": {},
   "outputs": [],
   "source": [
    "# Use the same function above for the validation set\n",
    "X_train, X_val, y_train, y_val = train_test_split(X_train, y_train,\n",
    "                                                  test_size=0.25, random_state = 0, stratify = y_train) # 0.25 x 0.8 = 0.2"
   ]
  },
  {
   "cell_type": "markdown",
   "id": "ae3bf267",
   "metadata": {},
   "source": [
    "### Standardize the data"
   ]
  },
  {
   "cell_type": "markdown",
   "id": "47b826b6",
   "metadata": {},
   "source": [
    "Now we will standardize it:"
   ]
  },
  {
   "cell_type": "code",
   "execution_count": 15,
   "id": "89616eac",
   "metadata": {},
   "outputs": [],
   "source": [
    "# create a StandardScaler object and apply it to the train set\n",
    "scaler = StandardScaler() # we could try MinMaxScaler() to scale features to lie between a zero and one\n",
    "X_train_st = scaler.fit_transform(X_train) # train the scaler and transform the matrix for the train set"
   ]
  },
  {
   "cell_type": "code",
   "execution_count": 16,
   "id": "d221af3d",
   "metadata": {},
   "outputs": [],
   "source": [
    "# apply standardization to the feature matrix for the validation set\n",
    "X_val_st = scaler.transform(X_val) "
   ]
  },
  {
   "cell_type": "code",
   "execution_count": 17,
   "id": "c4bb0035",
   "metadata": {},
   "outputs": [],
   "source": [
    "# apply standardization to the feature matrix for the test set\n",
    "X_test_st = scaler.transform(X_test) "
   ]
  },
  {
   "cell_type": "markdown",
   "id": "21e46ec4",
   "metadata": {},
   "source": [
    "[Back to Content](#content)"
   ]
  },
  {
   "cell_type": "markdown",
   "id": "7de1058c",
   "metadata": {},
   "source": [
    "### Building a model to recommend a plan"
   ]
  },
  {
   "cell_type": "markdown",
   "id": "5b806586",
   "metadata": {},
   "source": [
    "Let's train the models.For the logistic regression, we will employ `sklearn.linear_model.LogisticRegression()` model. To implement the random forest algorithm, we will employ `sklearn.ensemble.RandomForestClassifier()` model. We will add `ROC_AUC` to the metrics as well and explain [below](#binary), why in this case, more attention should be paid to `recall`."
   ]
  },
  {
   "cell_type": "code",
   "execution_count": 18,
   "id": "d6596a9a",
   "metadata": {},
   "outputs": [],
   "source": [
    "# declare the list of models\n",
    "models = [LogisticRegression(random_state = 54321),\n",
    "          RandomForestClassifier(random_state = 54321)]"
   ]
  },
  {
   "cell_type": "code",
   "execution_count": 19,
   "id": "0e13983c",
   "metadata": {},
   "outputs": [],
   "source": [
    "# create the function that takes the model and data as input and outputs metrics\n",
    "# to compare the default model with default hyperparameters/threshold value against a tuned model,\n",
    "# we will employ the validation set to calculate the model metrics.\n",
    "def make_prediction(m, features_train, target_train, features_valid, target_valid, log_regression = False):\n",
    "    model = m # wite your code here\n",
    "    model.fit(features_train, target_train)\n",
    "    predictions = model.predict(features_valid)\n",
    "    probabilities = model.predict_proba(features_valid)\n",
    "    if log_regression:\n",
    "        print(model.intercept_, model.coef_)\n",
    "    \n",
    "    print(f'Accuracy:{model.score(features_valid, target_valid):.4f}')\n",
    "    print('Precision:{:.2f} Recall:{:.2f}'.format(precision_score(target_valid,predictions),\n",
    "                                                                recall_score(target_valid,predictions))\n",
    "                                                                )\n",
    "    print('ROC_AUC: {:.2f}\\n'.format(roc_auc_score(target_valid, probabilities[:,1])))"
   ]
  },
  {
   "cell_type": "code",
   "execution_count": 20,
   "id": "e120bcbf",
   "metadata": {},
   "outputs": [
    {
     "name": "stdout",
     "output_type": "stream",
     "text": [
      "Model 0: LogisticRegression(random_state=54321)\n",
      "[-0.01071696] [[-1.77046025e-02  2.07214709e-03  4.86316874e-03 -3.00027398e-05]]\n",
      "Accuracy:0.7092\n",
      "Precision:0.81 Recall:0.07\n",
      "ROC_AUC: 0.45\n",
      "\n",
      "Model 1: RandomForestClassifier(random_state=54321)\n",
      "Accuracy:0.7947\n",
      "Precision:0.70 Recall:0.57\n",
      "ROC_AUC: 0.80\n",
      "\n"
     ]
    }
   ],
   "source": [
    "# apply\n",
    "for i in range(len(models)):\n",
    "    print(f\"Model {i}: {models[i]}\")\n",
    "    if i < len(models)-1:\n",
    "        # print coefficients for regression models\n",
    "        make_prediction(models[i], X_train, y_train, X_val, y_val, log_regression = True)\n",
    "    else:\n",
    "        make_prediction(models[i], X_train, y_train, X_val, y_val)"
   ]
  },
  {
   "cell_type": "markdown",
   "id": "82ae5978",
   "metadata": {},
   "source": [
    "[Back to Content](#content)"
   ]
  },
  {
   "cell_type": "markdown",
   "id": "7646df23",
   "metadata": {},
   "source": [
    "#### Finetuning the models  <a id='solver'></a>"
   ]
  },
  {
   "cell_type": "markdown",
   "id": "5ac52bb3",
   "metadata": {},
   "source": [
    "The logistic regression model result is less persuading, let's try to eleborate and finetune the parameters of the `RandomForestClassifier()`, first we will consider [each one separately](https://www.geeksforgeeks.org/hyperparameters-of-random-forest-classifier/) and start, of course, with `n_estimators`, the number of trees in the forest:"
   ]
  },
  {
   "cell_type": "markdown",
   "id": "1e7e1c0e",
   "metadata": {},
   "source": [
    "Applying different solver and setting the maximum iteration number to 1000 fix the convergence problem with the same values of the metrics. Model 0 ends up with better result, although `ROC_AUC` metric value is still lower for the Logistic Regression than for the Random Forest."
   ]
  },
  {
   "cell_type": "code",
   "execution_count": 21,
   "id": "1ff150b4",
   "metadata": {},
   "outputs": [
    {
     "name": "stdout",
     "output_type": "stream",
     "text": [
      "Accuracy of the best model on the validation set (n_estimators = 17): 0.7931570762052877\n"
     ]
    }
   ],
   "source": [
    "best_score = 0\n",
    "best_est = 0\n",
    "for est in range(1, 20): # choose hyperparameter range\n",
    "    model = RandomForestClassifier(random_state=54321, n_estimators=est) # set number of trees\n",
    "    model.fit(X_train, y_train) # train model on training set\n",
    "    score = model.score(X_val, y_val) # calculate accuracy score on validation set\n",
    "    if score > best_score:\n",
    "        best_score = score # save best accuracy score on validation set\n",
    "        best_est = est # save number of estimators corresponding to best accuracy score\n",
    "\n",
    "print(f\"Accuracy of the best model on the validation set (n_estimators = {best_est}): {best_score}\")"
   ]
  },
  {
   "cell_type": "markdown",
   "id": "2d13c8a1",
   "metadata": {},
   "source": [
    "Now, `max_depth`, the longest path between the root node and the leaf node."
   ]
  },
  {
   "cell_type": "code",
   "execution_count": 22,
   "id": "4685e542",
   "metadata": {},
   "outputs": [
    {
     "name": "stdout",
     "output_type": "stream",
     "text": [
      "Accuracy of the best model on the validation set (max_depth = 4): 0.8242612752721618\n"
     ]
    }
   ],
   "source": [
    "best_score = 0\n",
    "best_depth = 0\n",
    "for depth in range(1, 5): # choose hyperparameter range\n",
    "    model = RandomForestClassifier(random_state=54321, max_depth=depth) # set depth\n",
    "    model.fit(X_train, y_train) # train model on training set\n",
    "    score = model.score(X_val, y_val) # calculate accuracy score on validation set\n",
    "    if score > best_score:\n",
    "        best_score = score # save best accuracy score on validation set\n",
    "        best_depth = depth # save number corresponding to best accuracy score\n",
    "\n",
    "print(f\"Accuracy of the best model on the validation set (max_depth = {best_depth}): {best_score}\")"
   ]
  },
  {
   "cell_type": "markdown",
   "id": "3ab0e924",
   "metadata": {},
   "source": [
    "`min_samples_split`, the minimum required number of observations in any given node to split it:"
   ]
  },
  {
   "cell_type": "code",
   "execution_count": 23,
   "id": "9d53799d",
   "metadata": {},
   "outputs": [
    {
     "name": "stdout",
     "output_type": "stream",
     "text": [
      "Accuracy of the best model on the validation set (min_samples_split = 5): 0.8040435458786936\n"
     ]
    }
   ],
   "source": [
    "best_score = 0\n",
    "best_samples_split = 0\n",
    "for split in range(2, 6): # choose hyperparameter range\n",
    "    model = RandomForestClassifier(random_state=54321, min_samples_split=split) \n",
    "    model.fit(X_train, y_train) # train model on training set\n",
    "    score = model.score(X_val, y_val) # calculate accuracy score on validation set\n",
    "    if score > best_score:\n",
    "        best_score = score # save best accuracy score on validation set\n",
    "        best_samples_split = split # save the number corresponding to best accuracy score\n",
    "\n",
    "print(f\"Accuracy of the best model on the validation set (min_samples_split = {best_samples_split}): {best_score}\")"
   ]
  },
  {
   "cell_type": "markdown",
   "id": "a07af942",
   "metadata": {},
   "source": [
    "`min_samples_leaf`, the minimum number of samples that should be present in the leaf node after splitting a node, 1 is the default:"
   ]
  },
  {
   "cell_type": "code",
   "execution_count": 24,
   "id": "f1614ca1",
   "metadata": {},
   "outputs": [
    {
     "name": "stdout",
     "output_type": "stream",
     "text": [
      "Accuracy of the best model on the validation set (min_samples_leaf = 4): 0.8180404354587869\n"
     ]
    }
   ],
   "source": [
    "best_score = 0\n",
    "best_samples_leaf = 0\n",
    "for leaf in range(1, 6): # choose hyperparameter range\n",
    "    model = RandomForestClassifier(random_state=54321, min_samples_leaf=leaf) \n",
    "    model.fit(X_train, y_train) # train model on training set\n",
    "    score = model.score(X_val, y_val) # calculate accuracy score on validation set\n",
    "    if score > best_score:\n",
    "        best_score = score # save best accuracy score on validation set\n",
    "        best_samples_leaf = leaf # save the number corresponding to best accuracy score\n",
    "\n",
    "print(f\"Accuracy of the best model on the validation set (min_samples_leaf = {best_samples_leaf}): {best_score}\")"
   ]
  },
  {
   "cell_type": "markdown",
   "id": "ba6f1822",
   "metadata": {},
   "source": [
    "`max_features`:"
   ]
  },
  {
   "cell_type": "code",
   "execution_count": 25,
   "id": "ac363d61",
   "metadata": {},
   "outputs": [
    {
     "name": "stdout",
     "output_type": "stream",
     "text": [
      "Accuracy of the best model on the validation set (max_features = 1): 0.80248833592535\n"
     ]
    }
   ],
   "source": [
    "best_score = 0\n",
    "best_max_features = 0\n",
    "for max_f in range(1, 5): # max_features should take values between from (0,n_features]\n",
    "    model = RandomForestClassifier(random_state=54321, max_features=max_f) \n",
    "    model.fit(X_train, y_train) # train model on training set\n",
    "    score = model.score(X_val, y_val) # calculate accuracy score on validation set\n",
    "    if score > best_score:\n",
    "        best_score = score # save best accuracy score on validation set\n",
    "        best_samples_leaf = max_f # save the number corresponding to best accuracy score\n",
    "\n",
    "print(f\"Accuracy of the best model on the validation set (max_features = {best_samples_leaf}): {best_score}\")"
   ]
  },
  {
   "cell_type": "markdown",
   "id": "6bb42b55",
   "metadata": {},
   "source": [
    "`max_leaf_nodes`, limits the splitting of the nodes in the tree and hence restricts the growth of the tree:"
   ]
  },
  {
   "cell_type": "code",
   "execution_count": 26,
   "id": "a7aff8b1",
   "metadata": {},
   "outputs": [
    {
     "name": "stdout",
     "output_type": "stream",
     "text": [
      "Accuracy of the best model on the validation set (max_leaf_nodes = 23): 0.8258164852255054\n"
     ]
    }
   ],
   "source": [
    "best_score = 0\n",
    "best_max_leaf_nodes = 0\n",
    "for max_l in range(2, 100): # either None, or > 1\n",
    "    model = RandomForestClassifier(random_state=54321, max_leaf_nodes=max_l) \n",
    "    model.fit(X_train, y_train) # train model on training set\n",
    "    score = model.score(X_val, y_val) # calculate accuracy score on validation set\n",
    "    if score > best_score:\n",
    "        best_score = score # save best accuracy score on validation set\n",
    "        best_samples_leaf = max_l # save the number corresponding to best accuracy score\n",
    "\n",
    "print(f\"Accuracy of the best model on the validation set (max_leaf_nodes = {best_samples_leaf}): {best_score}\")"
   ]
  },
  {
   "cell_type": "markdown",
   "id": "64dc8196",
   "metadata": {},
   "source": [
    "`max_samples`, max part of the original dataset is given to any individual tree:"
   ]
  },
  {
   "cell_type": "code",
   "execution_count": 27,
   "id": "152123ad",
   "metadata": {},
   "outputs": [
    {
     "name": "stdout",
     "output_type": "stream",
     "text": [
      "Accuracy of the best model on the validation set (max_samples = 210): 0.8320373250388803\n"
     ]
    }
   ],
   "source": [
    "best_score = 0\n",
    "best_max_samples = 0\n",
    "for max_s in range(1, 1000): # either None, or > 1\n",
    "    model = RandomForestClassifier(random_state=54321, max_samples=max_s) \n",
    "    model.fit(X_train, y_train) # train model on training set\n",
    "    score = model.score(X_val, y_val) # calculate accuracy score on validation set\n",
    "    if score > best_score:\n",
    "        best_score = score # save best accuracy score on validation set\n",
    "        best_max_samples = max_s # save the number corresponding to best accuracy score\n",
    "\n",
    "print(f\"Accuracy of the best model on the validation set (max_samples = {best_max_samples}): {best_score}\")"
   ]
  },
  {
   "cell_type": "markdown",
   "id": "b2666421",
   "metadata": {},
   "source": [
    "`criterion`:"
   ]
  },
  {
   "cell_type": "code",
   "execution_count": 28,
   "id": "d696db39",
   "metadata": {},
   "outputs": [
    {
     "name": "stdout",
     "output_type": "stream",
     "text": [
      "Accuracy of the best model on the validation set (criterion = entropy): 0.7993779160186625\n"
     ]
    }
   ],
   "source": [
    "best_score = 0\n",
    "best_criterion =''\n",
    "for cr in ['gini', 'entropy']: # either None, or > 1\n",
    "    model = RandomForestClassifier(random_state=54321, criterion=cr) \n",
    "    model.fit(X_train, y_train) # train model on training set\n",
    "    score = model.score(X_val, y_val) # calculate accuracy score on validation set\n",
    "    if score > best_score:\n",
    "        best_score = score # save best accuracy score on validation set\n",
    "        best_criterion = cr # save the number corresponding to best accuracy score\n",
    "\n",
    "print(f\"Accuracy of the best model on the validation set (criterion = {best_criterion}): {best_score}\")"
   ]
  },
  {
   "cell_type": "markdown",
   "id": "ff2b315d",
   "metadata": {},
   "source": [
    "N.B. We will leave the bootstrap methoud being True (sampling with replacement)."
   ]
  },
  {
   "cell_type": "markdown",
   "id": "332cc4ef",
   "metadata": {},
   "source": [
    "Let's try to employ all of the \"best\" hyperparameters all together:"
   ]
  },
  {
   "cell_type": "code",
   "execution_count": 29,
   "id": "6085f578",
   "metadata": {},
   "outputs": [
    {
     "name": "stdout",
     "output_type": "stream",
     "text": [
      "Accuracy of the final model on the validation set: 0.8102643856920684\n"
     ]
    }
   ],
   "source": [
    "final_model = RandomForestClassifier(random_state=54321,\n",
    "                                     n_estimators = 17,\n",
    "                                     max_depth = 4, # the same as max_features, due to small amount of features\n",
    "                                     min_samples_split = 4,\n",
    "                                     min_samples_leaf = 1,\n",
    "                                     max_leaf_nodes = 23,\n",
    "                                     max_samples = 210,\n",
    "                                     criterion = 'entropy'\n",
    "                                    ) \n",
    "final_model.fit(X_train, y_train)\n",
    "score = final_model.score(X_val, y_val)\n",
    "print(f\"Accuracy of the final model on the validation set: {score}\")"
   ]
  },
  {
   "cell_type": "markdown",
   "id": "34fb2fef",
   "metadata": {},
   "source": [
    "Hm... We do recieve better accuracy, but it is lower than applying each of the parameters separately (e.g. with `max_samples = 210` we were able to achieve the accuracy of 0.8320373250388803). This illustartes the mutual impact and how important is the hyperparameters working together.\n"
   ]
  },
  {
   "cell_type": "markdown",
   "id": "427c3d2e",
   "metadata": {},
   "source": [
    "Let's try to apply [grid search](https://scikit-learn.org/stable/auto_examples/model_selection/plot_multi_metric_evaluation.html#sphx-glr-auto-examples-model-selection-plot-multi-metric-evaluation-py). N.B. Grid search takes a lot of resources, so we will try it for a grid of three parameters."
   ]
  },
  {
   "cell_type": "code",
   "execution_count": 30,
   "id": "457cd69f",
   "metadata": {},
   "outputs": [],
   "source": [
    "from sklearn.model_selection import GridSearchCV"
   ]
  },
  {
   "cell_type": "code",
   "execution_count": 31,
   "id": "1c256354",
   "metadata": {},
   "outputs": [],
   "source": [
    "#Multiple metric parameter search can be done by setting the scoring parameter to a list of metric scorer names\n",
    "# or a dict mapping the scorer names to the scorer callables.\n",
    "scoring = {\"AUC\": \"roc_auc\", \"Accuracy\": \"accuracy\"}"
   ]
  },
  {
   "cell_type": "code",
   "execution_count": 32,
   "id": "7194e2dd",
   "metadata": {},
   "outputs": [],
   "source": [
    "gs = GridSearchCV(\n",
    "    RandomForestClassifier(random_state=54321),\n",
    "    param_grid={\"n_estimators\": range(10,20),\n",
    "                \"max_depth\": range(1,5),\n",
    "                \"max_leaf_nodes\": range(2,50)\n",
    "               \n",
    "               },\n",
    "    scoring=scoring,\n",
    "    # Setting refit='AUC', refits an estimator on the whole dataset with the\n",
    "    # parameter setting that has the best cross-validated AUC score.\n",
    "    # That estimator is made available at ``gs.best_estimator_`` along with\n",
    "    # parameters like ``gs.best_score_``, ``gs.best_params_`` and\n",
    "    # ``gs.best_index_``\n",
    "    refit=\"AUC\",\n",
    "    return_train_score=True,\n",
    ")\n",
    "gs.fit(X_train, y_train)\n",
    "results = gs.cv_results_"
   ]
  },
  {
   "cell_type": "markdown",
   "id": "680817ff",
   "metadata": {},
   "source": [
    "Let's see how the `results` dictionary looks like."
   ]
  },
  {
   "cell_type": "code",
   "execution_count": 33,
   "id": "df5bb8a0",
   "metadata": {
    "scrolled": true
   },
   "outputs": [
    {
     "data": {
      "text/plain": [
       "{'mean_fit_time': array([0.01858377, 0.01676483, 0.01792421, ..., 0.0327651 , 0.03418932,\n",
       "        0.03688989]),\n",
       " 'std_fit_time': array([0.00465421, 0.00017308, 0.00022667, ..., 0.00071769, 0.00038687,\n",
       "        0.00220144]),\n",
       " 'mean_score_time': array([0.00715547, 0.00706534, 0.00730052, ..., 0.00920863, 0.00901952,\n",
       "        0.00927348]),\n",
       " 'std_score_time': array([0.00039725, 0.00045606, 0.0004648 , ..., 0.00100137, 0.00013904,\n",
       "        0.00053901]),\n",
       " 'param_max_depth': masked_array(data=[1, 1, 1, ..., 4, 4, 4],\n",
       "              mask=[False, False, False, ..., False, False, False],\n",
       "        fill_value='?',\n",
       "             dtype=object),\n",
       " 'param_max_leaf_nodes': masked_array(data=[2, 2, 2, ..., 49, 49, 49],\n",
       "              mask=[False, False, False, ..., False, False, False],\n",
       "        fill_value='?',\n",
       "             dtype=object),\n",
       " 'param_n_estimators': masked_array(data=[10, 11, 12, ..., 17, 18, 19],\n",
       "              mask=[False, False, False, ..., False, False, False],\n",
       "        fill_value='?',\n",
       "             dtype=object),\n",
       " 'params': [{'max_depth': 1, 'max_leaf_nodes': 2, 'n_estimators': 10},\n",
       "  {'max_depth': 1, 'max_leaf_nodes': 2, 'n_estimators': 11},\n",
       "  {'max_depth': 1, 'max_leaf_nodes': 2, 'n_estimators': 12},\n",
       "  {'max_depth': 1, 'max_leaf_nodes': 2, 'n_estimators': 13},\n",
       "  {'max_depth': 1, 'max_leaf_nodes': 2, 'n_estimators': 14},\n",
       "  {'max_depth': 1, 'max_leaf_nodes': 2, 'n_estimators': 15},\n",
       "  {'max_depth': 1, 'max_leaf_nodes': 2, 'n_estimators': 16},\n",
       "  {'max_depth': 1, 'max_leaf_nodes': 2, 'n_estimators': 17},\n",
       "  {'max_depth': 1, 'max_leaf_nodes': 2, 'n_estimators': 18},\n",
       "  {'max_depth': 1, 'max_leaf_nodes': 2, 'n_estimators': 19},\n",
       "  {'max_depth': 1, 'max_leaf_nodes': 3, 'n_estimators': 10},\n",
       "  {'max_depth': 1, 'max_leaf_nodes': 3, 'n_estimators': 11},\n",
       "  {'max_depth': 1, 'max_leaf_nodes': 3, 'n_estimators': 12},\n",
       "  {'max_depth': 1, 'max_leaf_nodes': 3, 'n_estimators': 13},\n",
       "  {'max_depth': 1, 'max_leaf_nodes': 3, 'n_estimators': 14},\n",
       "  {'max_depth': 1, 'max_leaf_nodes': 3, 'n_estimators': 15},\n",
       "  {'max_depth': 1, 'max_leaf_nodes': 3, 'n_estimators': 16},\n",
       "  {'max_depth': 1, 'max_leaf_nodes': 3, 'n_estimators': 17},\n",
       "  {'max_depth': 1, 'max_leaf_nodes': 3, 'n_estimators': 18},\n",
       "  {'max_depth': 1, 'max_leaf_nodes': 3, 'n_estimators': 19},\n",
       "  {'max_depth': 1, 'max_leaf_nodes': 4, 'n_estimators': 10},\n",
       "  {'max_depth': 1, 'max_leaf_nodes': 4, 'n_estimators': 11},\n",
       "  {'max_depth': 1, 'max_leaf_nodes': 4, 'n_estimators': 12},\n",
       "  {'max_depth': 1, 'max_leaf_nodes': 4, 'n_estimators': 13},\n",
       "  {'max_depth': 1, 'max_leaf_nodes': 4, 'n_estimators': 14},\n",
       "  {'max_depth': 1, 'max_leaf_nodes': 4, 'n_estimators': 15},\n",
       "  {'max_depth': 1, 'max_leaf_nodes': 4, 'n_estimators': 16},\n",
       "  {'max_depth': 1, 'max_leaf_nodes': 4, 'n_estimators': 17},\n",
       "  {'max_depth': 1, 'max_leaf_nodes': 4, 'n_estimators': 18},\n",
       "  {'max_depth': 1, 'max_leaf_nodes': 4, 'n_estimators': 19},\n",
       "  {'max_depth': 1, 'max_leaf_nodes': 5, 'n_estimators': 10},\n",
       "  {'max_depth': 1, 'max_leaf_nodes': 5, 'n_estimators': 11},\n",
       "  {'max_depth': 1, 'max_leaf_nodes': 5, 'n_estimators': 12},\n",
       "  {'max_depth': 1, 'max_leaf_nodes': 5, 'n_estimators': 13},\n",
       "  {'max_depth': 1, 'max_leaf_nodes': 5, 'n_estimators': 14},\n",
       "  {'max_depth': 1, 'max_leaf_nodes': 5, 'n_estimators': 15},\n",
       "  {'max_depth': 1, 'max_leaf_nodes': 5, 'n_estimators': 16},\n",
       "  {'max_depth': 1, 'max_leaf_nodes': 5, 'n_estimators': 17},\n",
       "  {'max_depth': 1, 'max_leaf_nodes': 5, 'n_estimators': 18},\n",
       "  {'max_depth': 1, 'max_leaf_nodes': 5, 'n_estimators': 19},\n",
       "  {'max_depth': 1, 'max_leaf_nodes': 6, 'n_estimators': 10},\n",
       "  {'max_depth': 1, 'max_leaf_nodes': 6, 'n_estimators': 11},\n",
       "  {'max_depth': 1, 'max_leaf_nodes': 6, 'n_estimators': 12},\n",
       "  {'max_depth': 1, 'max_leaf_nodes': 6, 'n_estimators': 13},\n",
       "  {'max_depth': 1, 'max_leaf_nodes': 6, 'n_estimators': 14},\n",
       "  {'max_depth': 1, 'max_leaf_nodes': 6, 'n_estimators': 15},\n",
       "  {'max_depth': 1, 'max_leaf_nodes': 6, 'n_estimators': 16},\n",
       "  {'max_depth': 1, 'max_leaf_nodes': 6, 'n_estimators': 17},\n",
       "  {'max_depth': 1, 'max_leaf_nodes': 6, 'n_estimators': 18},\n",
       "  {'max_depth': 1, 'max_leaf_nodes': 6, 'n_estimators': 19},\n",
       "  {'max_depth': 1, 'max_leaf_nodes': 7, 'n_estimators': 10},\n",
       "  {'max_depth': 1, 'max_leaf_nodes': 7, 'n_estimators': 11},\n",
       "  {'max_depth': 1, 'max_leaf_nodes': 7, 'n_estimators': 12},\n",
       "  {'max_depth': 1, 'max_leaf_nodes': 7, 'n_estimators': 13},\n",
       "  {'max_depth': 1, 'max_leaf_nodes': 7, 'n_estimators': 14},\n",
       "  {'max_depth': 1, 'max_leaf_nodes': 7, 'n_estimators': 15},\n",
       "  {'max_depth': 1, 'max_leaf_nodes': 7, 'n_estimators': 16},\n",
       "  {'max_depth': 1, 'max_leaf_nodes': 7, 'n_estimators': 17},\n",
       "  {'max_depth': 1, 'max_leaf_nodes': 7, 'n_estimators': 18},\n",
       "  {'max_depth': 1, 'max_leaf_nodes': 7, 'n_estimators': 19},\n",
       "  {'max_depth': 1, 'max_leaf_nodes': 8, 'n_estimators': 10},\n",
       "  {'max_depth': 1, 'max_leaf_nodes': 8, 'n_estimators': 11},\n",
       "  {'max_depth': 1, 'max_leaf_nodes': 8, 'n_estimators': 12},\n",
       "  {'max_depth': 1, 'max_leaf_nodes': 8, 'n_estimators': 13},\n",
       "  {'max_depth': 1, 'max_leaf_nodes': 8, 'n_estimators': 14},\n",
       "  {'max_depth': 1, 'max_leaf_nodes': 8, 'n_estimators': 15},\n",
       "  {'max_depth': 1, 'max_leaf_nodes': 8, 'n_estimators': 16},\n",
       "  {'max_depth': 1, 'max_leaf_nodes': 8, 'n_estimators': 17},\n",
       "  {'max_depth': 1, 'max_leaf_nodes': 8, 'n_estimators': 18},\n",
       "  {'max_depth': 1, 'max_leaf_nodes': 8, 'n_estimators': 19},\n",
       "  {'max_depth': 1, 'max_leaf_nodes': 9, 'n_estimators': 10},\n",
       "  {'max_depth': 1, 'max_leaf_nodes': 9, 'n_estimators': 11},\n",
       "  {'max_depth': 1, 'max_leaf_nodes': 9, 'n_estimators': 12},\n",
       "  {'max_depth': 1, 'max_leaf_nodes': 9, 'n_estimators': 13},\n",
       "  {'max_depth': 1, 'max_leaf_nodes': 9, 'n_estimators': 14},\n",
       "  {'max_depth': 1, 'max_leaf_nodes': 9, 'n_estimators': 15},\n",
       "  {'max_depth': 1, 'max_leaf_nodes': 9, 'n_estimators': 16},\n",
       "  {'max_depth': 1, 'max_leaf_nodes': 9, 'n_estimators': 17},\n",
       "  {'max_depth': 1, 'max_leaf_nodes': 9, 'n_estimators': 18},\n",
       "  {'max_depth': 1, 'max_leaf_nodes': 9, 'n_estimators': 19},\n",
       "  {'max_depth': 1, 'max_leaf_nodes': 10, 'n_estimators': 10},\n",
       "  {'max_depth': 1, 'max_leaf_nodes': 10, 'n_estimators': 11},\n",
       "  {'max_depth': 1, 'max_leaf_nodes': 10, 'n_estimators': 12},\n",
       "  {'max_depth': 1, 'max_leaf_nodes': 10, 'n_estimators': 13},\n",
       "  {'max_depth': 1, 'max_leaf_nodes': 10, 'n_estimators': 14},\n",
       "  {'max_depth': 1, 'max_leaf_nodes': 10, 'n_estimators': 15},\n",
       "  {'max_depth': 1, 'max_leaf_nodes': 10, 'n_estimators': 16},\n",
       "  {'max_depth': 1, 'max_leaf_nodes': 10, 'n_estimators': 17},\n",
       "  {'max_depth': 1, 'max_leaf_nodes': 10, 'n_estimators': 18},\n",
       "  {'max_depth': 1, 'max_leaf_nodes': 10, 'n_estimators': 19},\n",
       "  {'max_depth': 1, 'max_leaf_nodes': 11, 'n_estimators': 10},\n",
       "  {'max_depth': 1, 'max_leaf_nodes': 11, 'n_estimators': 11},\n",
       "  {'max_depth': 1, 'max_leaf_nodes': 11, 'n_estimators': 12},\n",
       "  {'max_depth': 1, 'max_leaf_nodes': 11, 'n_estimators': 13},\n",
       "  {'max_depth': 1, 'max_leaf_nodes': 11, 'n_estimators': 14},\n",
       "  {'max_depth': 1, 'max_leaf_nodes': 11, 'n_estimators': 15},\n",
       "  {'max_depth': 1, 'max_leaf_nodes': 11, 'n_estimators': 16},\n",
       "  {'max_depth': 1, 'max_leaf_nodes': 11, 'n_estimators': 17},\n",
       "  {'max_depth': 1, 'max_leaf_nodes': 11, 'n_estimators': 18},\n",
       "  {'max_depth': 1, 'max_leaf_nodes': 11, 'n_estimators': 19},\n",
       "  {'max_depth': 1, 'max_leaf_nodes': 12, 'n_estimators': 10},\n",
       "  {'max_depth': 1, 'max_leaf_nodes': 12, 'n_estimators': 11},\n",
       "  {'max_depth': 1, 'max_leaf_nodes': 12, 'n_estimators': 12},\n",
       "  {'max_depth': 1, 'max_leaf_nodes': 12, 'n_estimators': 13},\n",
       "  {'max_depth': 1, 'max_leaf_nodes': 12, 'n_estimators': 14},\n",
       "  {'max_depth': 1, 'max_leaf_nodes': 12, 'n_estimators': 15},\n",
       "  {'max_depth': 1, 'max_leaf_nodes': 12, 'n_estimators': 16},\n",
       "  {'max_depth': 1, 'max_leaf_nodes': 12, 'n_estimators': 17},\n",
       "  {'max_depth': 1, 'max_leaf_nodes': 12, 'n_estimators': 18},\n",
       "  {'max_depth': 1, 'max_leaf_nodes': 12, 'n_estimators': 19},\n",
       "  {'max_depth': 1, 'max_leaf_nodes': 13, 'n_estimators': 10},\n",
       "  {'max_depth': 1, 'max_leaf_nodes': 13, 'n_estimators': 11},\n",
       "  {'max_depth': 1, 'max_leaf_nodes': 13, 'n_estimators': 12},\n",
       "  {'max_depth': 1, 'max_leaf_nodes': 13, 'n_estimators': 13},\n",
       "  {'max_depth': 1, 'max_leaf_nodes': 13, 'n_estimators': 14},\n",
       "  {'max_depth': 1, 'max_leaf_nodes': 13, 'n_estimators': 15},\n",
       "  {'max_depth': 1, 'max_leaf_nodes': 13, 'n_estimators': 16},\n",
       "  {'max_depth': 1, 'max_leaf_nodes': 13, 'n_estimators': 17},\n",
       "  {'max_depth': 1, 'max_leaf_nodes': 13, 'n_estimators': 18},\n",
       "  {'max_depth': 1, 'max_leaf_nodes': 13, 'n_estimators': 19},\n",
       "  {'max_depth': 1, 'max_leaf_nodes': 14, 'n_estimators': 10},\n",
       "  {'max_depth': 1, 'max_leaf_nodes': 14, 'n_estimators': 11},\n",
       "  {'max_depth': 1, 'max_leaf_nodes': 14, 'n_estimators': 12},\n",
       "  {'max_depth': 1, 'max_leaf_nodes': 14, 'n_estimators': 13},\n",
       "  {'max_depth': 1, 'max_leaf_nodes': 14, 'n_estimators': 14},\n",
       "  {'max_depth': 1, 'max_leaf_nodes': 14, 'n_estimators': 15},\n",
       "  {'max_depth': 1, 'max_leaf_nodes': 14, 'n_estimators': 16},\n",
       "  {'max_depth': 1, 'max_leaf_nodes': 14, 'n_estimators': 17},\n",
       "  {'max_depth': 1, 'max_leaf_nodes': 14, 'n_estimators': 18},\n",
       "  {'max_depth': 1, 'max_leaf_nodes': 14, 'n_estimators': 19},\n",
       "  {'max_depth': 1, 'max_leaf_nodes': 15, 'n_estimators': 10},\n",
       "  {'max_depth': 1, 'max_leaf_nodes': 15, 'n_estimators': 11},\n",
       "  {'max_depth': 1, 'max_leaf_nodes': 15, 'n_estimators': 12},\n",
       "  {'max_depth': 1, 'max_leaf_nodes': 15, 'n_estimators': 13},\n",
       "  {'max_depth': 1, 'max_leaf_nodes': 15, 'n_estimators': 14},\n",
       "  {'max_depth': 1, 'max_leaf_nodes': 15, 'n_estimators': 15},\n",
       "  {'max_depth': 1, 'max_leaf_nodes': 15, 'n_estimators': 16},\n",
       "  {'max_depth': 1, 'max_leaf_nodes': 15, 'n_estimators': 17},\n",
       "  {'max_depth': 1, 'max_leaf_nodes': 15, 'n_estimators': 18},\n",
       "  {'max_depth': 1, 'max_leaf_nodes': 15, 'n_estimators': 19},\n",
       "  {'max_depth': 1, 'max_leaf_nodes': 16, 'n_estimators': 10},\n",
       "  {'max_depth': 1, 'max_leaf_nodes': 16, 'n_estimators': 11},\n",
       "  {'max_depth': 1, 'max_leaf_nodes': 16, 'n_estimators': 12},\n",
       "  {'max_depth': 1, 'max_leaf_nodes': 16, 'n_estimators': 13},\n",
       "  {'max_depth': 1, 'max_leaf_nodes': 16, 'n_estimators': 14},\n",
       "  {'max_depth': 1, 'max_leaf_nodes': 16, 'n_estimators': 15},\n",
       "  {'max_depth': 1, 'max_leaf_nodes': 16, 'n_estimators': 16},\n",
       "  {'max_depth': 1, 'max_leaf_nodes': 16, 'n_estimators': 17},\n",
       "  {'max_depth': 1, 'max_leaf_nodes': 16, 'n_estimators': 18},\n",
       "  {'max_depth': 1, 'max_leaf_nodes': 16, 'n_estimators': 19},\n",
       "  {'max_depth': 1, 'max_leaf_nodes': 17, 'n_estimators': 10},\n",
       "  {'max_depth': 1, 'max_leaf_nodes': 17, 'n_estimators': 11},\n",
       "  {'max_depth': 1, 'max_leaf_nodes': 17, 'n_estimators': 12},\n",
       "  {'max_depth': 1, 'max_leaf_nodes': 17, 'n_estimators': 13},\n",
       "  {'max_depth': 1, 'max_leaf_nodes': 17, 'n_estimators': 14},\n",
       "  {'max_depth': 1, 'max_leaf_nodes': 17, 'n_estimators': 15},\n",
       "  {'max_depth': 1, 'max_leaf_nodes': 17, 'n_estimators': 16},\n",
       "  {'max_depth': 1, 'max_leaf_nodes': 17, 'n_estimators': 17},\n",
       "  {'max_depth': 1, 'max_leaf_nodes': 17, 'n_estimators': 18},\n",
       "  {'max_depth': 1, 'max_leaf_nodes': 17, 'n_estimators': 19},\n",
       "  {'max_depth': 1, 'max_leaf_nodes': 18, 'n_estimators': 10},\n",
       "  {'max_depth': 1, 'max_leaf_nodes': 18, 'n_estimators': 11},\n",
       "  {'max_depth': 1, 'max_leaf_nodes': 18, 'n_estimators': 12},\n",
       "  {'max_depth': 1, 'max_leaf_nodes': 18, 'n_estimators': 13},\n",
       "  {'max_depth': 1, 'max_leaf_nodes': 18, 'n_estimators': 14},\n",
       "  {'max_depth': 1, 'max_leaf_nodes': 18, 'n_estimators': 15},\n",
       "  {'max_depth': 1, 'max_leaf_nodes': 18, 'n_estimators': 16},\n",
       "  {'max_depth': 1, 'max_leaf_nodes': 18, 'n_estimators': 17},\n",
       "  {'max_depth': 1, 'max_leaf_nodes': 18, 'n_estimators': 18},\n",
       "  {'max_depth': 1, 'max_leaf_nodes': 18, 'n_estimators': 19},\n",
       "  {'max_depth': 1, 'max_leaf_nodes': 19, 'n_estimators': 10},\n",
       "  {'max_depth': 1, 'max_leaf_nodes': 19, 'n_estimators': 11},\n",
       "  {'max_depth': 1, 'max_leaf_nodes': 19, 'n_estimators': 12},\n",
       "  {'max_depth': 1, 'max_leaf_nodes': 19, 'n_estimators': 13},\n",
       "  {'max_depth': 1, 'max_leaf_nodes': 19, 'n_estimators': 14},\n",
       "  {'max_depth': 1, 'max_leaf_nodes': 19, 'n_estimators': 15},\n",
       "  {'max_depth': 1, 'max_leaf_nodes': 19, 'n_estimators': 16},\n",
       "  {'max_depth': 1, 'max_leaf_nodes': 19, 'n_estimators': 17},\n",
       "  {'max_depth': 1, 'max_leaf_nodes': 19, 'n_estimators': 18},\n",
       "  {'max_depth': 1, 'max_leaf_nodes': 19, 'n_estimators': 19},\n",
       "  {'max_depth': 1, 'max_leaf_nodes': 20, 'n_estimators': 10},\n",
       "  {'max_depth': 1, 'max_leaf_nodes': 20, 'n_estimators': 11},\n",
       "  {'max_depth': 1, 'max_leaf_nodes': 20, 'n_estimators': 12},\n",
       "  {'max_depth': 1, 'max_leaf_nodes': 20, 'n_estimators': 13},\n",
       "  {'max_depth': 1, 'max_leaf_nodes': 20, 'n_estimators': 14},\n",
       "  {'max_depth': 1, 'max_leaf_nodes': 20, 'n_estimators': 15},\n",
       "  {'max_depth': 1, 'max_leaf_nodes': 20, 'n_estimators': 16},\n",
       "  {'max_depth': 1, 'max_leaf_nodes': 20, 'n_estimators': 17},\n",
       "  {'max_depth': 1, 'max_leaf_nodes': 20, 'n_estimators': 18},\n",
       "  {'max_depth': 1, 'max_leaf_nodes': 20, 'n_estimators': 19},\n",
       "  {'max_depth': 1, 'max_leaf_nodes': 21, 'n_estimators': 10},\n",
       "  {'max_depth': 1, 'max_leaf_nodes': 21, 'n_estimators': 11},\n",
       "  {'max_depth': 1, 'max_leaf_nodes': 21, 'n_estimators': 12},\n",
       "  {'max_depth': 1, 'max_leaf_nodes': 21, 'n_estimators': 13},\n",
       "  {'max_depth': 1, 'max_leaf_nodes': 21, 'n_estimators': 14},\n",
       "  {'max_depth': 1, 'max_leaf_nodes': 21, 'n_estimators': 15},\n",
       "  {'max_depth': 1, 'max_leaf_nodes': 21, 'n_estimators': 16},\n",
       "  {'max_depth': 1, 'max_leaf_nodes': 21, 'n_estimators': 17},\n",
       "  {'max_depth': 1, 'max_leaf_nodes': 21, 'n_estimators': 18},\n",
       "  {'max_depth': 1, 'max_leaf_nodes': 21, 'n_estimators': 19},\n",
       "  {'max_depth': 1, 'max_leaf_nodes': 22, 'n_estimators': 10},\n",
       "  {'max_depth': 1, 'max_leaf_nodes': 22, 'n_estimators': 11},\n",
       "  {'max_depth': 1, 'max_leaf_nodes': 22, 'n_estimators': 12},\n",
       "  {'max_depth': 1, 'max_leaf_nodes': 22, 'n_estimators': 13},\n",
       "  {'max_depth': 1, 'max_leaf_nodes': 22, 'n_estimators': 14},\n",
       "  {'max_depth': 1, 'max_leaf_nodes': 22, 'n_estimators': 15},\n",
       "  {'max_depth': 1, 'max_leaf_nodes': 22, 'n_estimators': 16},\n",
       "  {'max_depth': 1, 'max_leaf_nodes': 22, 'n_estimators': 17},\n",
       "  {'max_depth': 1, 'max_leaf_nodes': 22, 'n_estimators': 18},\n",
       "  {'max_depth': 1, 'max_leaf_nodes': 22, 'n_estimators': 19},\n",
       "  {'max_depth': 1, 'max_leaf_nodes': 23, 'n_estimators': 10},\n",
       "  {'max_depth': 1, 'max_leaf_nodes': 23, 'n_estimators': 11},\n",
       "  {'max_depth': 1, 'max_leaf_nodes': 23, 'n_estimators': 12},\n",
       "  {'max_depth': 1, 'max_leaf_nodes': 23, 'n_estimators': 13},\n",
       "  {'max_depth': 1, 'max_leaf_nodes': 23, 'n_estimators': 14},\n",
       "  {'max_depth': 1, 'max_leaf_nodes': 23, 'n_estimators': 15},\n",
       "  {'max_depth': 1, 'max_leaf_nodes': 23, 'n_estimators': 16},\n",
       "  {'max_depth': 1, 'max_leaf_nodes': 23, 'n_estimators': 17},\n",
       "  {'max_depth': 1, 'max_leaf_nodes': 23, 'n_estimators': 18},\n",
       "  {'max_depth': 1, 'max_leaf_nodes': 23, 'n_estimators': 19},\n",
       "  {'max_depth': 1, 'max_leaf_nodes': 24, 'n_estimators': 10},\n",
       "  {'max_depth': 1, 'max_leaf_nodes': 24, 'n_estimators': 11},\n",
       "  {'max_depth': 1, 'max_leaf_nodes': 24, 'n_estimators': 12},\n",
       "  {'max_depth': 1, 'max_leaf_nodes': 24, 'n_estimators': 13},\n",
       "  {'max_depth': 1, 'max_leaf_nodes': 24, 'n_estimators': 14},\n",
       "  {'max_depth': 1, 'max_leaf_nodes': 24, 'n_estimators': 15},\n",
       "  {'max_depth': 1, 'max_leaf_nodes': 24, 'n_estimators': 16},\n",
       "  {'max_depth': 1, 'max_leaf_nodes': 24, 'n_estimators': 17},\n",
       "  {'max_depth': 1, 'max_leaf_nodes': 24, 'n_estimators': 18},\n",
       "  {'max_depth': 1, 'max_leaf_nodes': 24, 'n_estimators': 19},\n",
       "  {'max_depth': 1, 'max_leaf_nodes': 25, 'n_estimators': 10},\n",
       "  {'max_depth': 1, 'max_leaf_nodes': 25, 'n_estimators': 11},\n",
       "  {'max_depth': 1, 'max_leaf_nodes': 25, 'n_estimators': 12},\n",
       "  {'max_depth': 1, 'max_leaf_nodes': 25, 'n_estimators': 13},\n",
       "  {'max_depth': 1, 'max_leaf_nodes': 25, 'n_estimators': 14},\n",
       "  {'max_depth': 1, 'max_leaf_nodes': 25, 'n_estimators': 15},\n",
       "  {'max_depth': 1, 'max_leaf_nodes': 25, 'n_estimators': 16},\n",
       "  {'max_depth': 1, 'max_leaf_nodes': 25, 'n_estimators': 17},\n",
       "  {'max_depth': 1, 'max_leaf_nodes': 25, 'n_estimators': 18},\n",
       "  {'max_depth': 1, 'max_leaf_nodes': 25, 'n_estimators': 19},\n",
       "  {'max_depth': 1, 'max_leaf_nodes': 26, 'n_estimators': 10},\n",
       "  {'max_depth': 1, 'max_leaf_nodes': 26, 'n_estimators': 11},\n",
       "  {'max_depth': 1, 'max_leaf_nodes': 26, 'n_estimators': 12},\n",
       "  {'max_depth': 1, 'max_leaf_nodes': 26, 'n_estimators': 13},\n",
       "  {'max_depth': 1, 'max_leaf_nodes': 26, 'n_estimators': 14},\n",
       "  {'max_depth': 1, 'max_leaf_nodes': 26, 'n_estimators': 15},\n",
       "  {'max_depth': 1, 'max_leaf_nodes': 26, 'n_estimators': 16},\n",
       "  {'max_depth': 1, 'max_leaf_nodes': 26, 'n_estimators': 17},\n",
       "  {'max_depth': 1, 'max_leaf_nodes': 26, 'n_estimators': 18},\n",
       "  {'max_depth': 1, 'max_leaf_nodes': 26, 'n_estimators': 19},\n",
       "  {'max_depth': 1, 'max_leaf_nodes': 27, 'n_estimators': 10},\n",
       "  {'max_depth': 1, 'max_leaf_nodes': 27, 'n_estimators': 11},\n",
       "  {'max_depth': 1, 'max_leaf_nodes': 27, 'n_estimators': 12},\n",
       "  {'max_depth': 1, 'max_leaf_nodes': 27, 'n_estimators': 13},\n",
       "  {'max_depth': 1, 'max_leaf_nodes': 27, 'n_estimators': 14},\n",
       "  {'max_depth': 1, 'max_leaf_nodes': 27, 'n_estimators': 15},\n",
       "  {'max_depth': 1, 'max_leaf_nodes': 27, 'n_estimators': 16},\n",
       "  {'max_depth': 1, 'max_leaf_nodes': 27, 'n_estimators': 17},\n",
       "  {'max_depth': 1, 'max_leaf_nodes': 27, 'n_estimators': 18},\n",
       "  {'max_depth': 1, 'max_leaf_nodes': 27, 'n_estimators': 19},\n",
       "  {'max_depth': 1, 'max_leaf_nodes': 28, 'n_estimators': 10},\n",
       "  {'max_depth': 1, 'max_leaf_nodes': 28, 'n_estimators': 11},\n",
       "  {'max_depth': 1, 'max_leaf_nodes': 28, 'n_estimators': 12},\n",
       "  {'max_depth': 1, 'max_leaf_nodes': 28, 'n_estimators': 13},\n",
       "  {'max_depth': 1, 'max_leaf_nodes': 28, 'n_estimators': 14},\n",
       "  {'max_depth': 1, 'max_leaf_nodes': 28, 'n_estimators': 15},\n",
       "  {'max_depth': 1, 'max_leaf_nodes': 28, 'n_estimators': 16},\n",
       "  {'max_depth': 1, 'max_leaf_nodes': 28, 'n_estimators': 17},\n",
       "  {'max_depth': 1, 'max_leaf_nodes': 28, 'n_estimators': 18},\n",
       "  {'max_depth': 1, 'max_leaf_nodes': 28, 'n_estimators': 19},\n",
       "  {'max_depth': 1, 'max_leaf_nodes': 29, 'n_estimators': 10},\n",
       "  {'max_depth': 1, 'max_leaf_nodes': 29, 'n_estimators': 11},\n",
       "  {'max_depth': 1, 'max_leaf_nodes': 29, 'n_estimators': 12},\n",
       "  {'max_depth': 1, 'max_leaf_nodes': 29, 'n_estimators': 13},\n",
       "  {'max_depth': 1, 'max_leaf_nodes': 29, 'n_estimators': 14},\n",
       "  {'max_depth': 1, 'max_leaf_nodes': 29, 'n_estimators': 15},\n",
       "  {'max_depth': 1, 'max_leaf_nodes': 29, 'n_estimators': 16},\n",
       "  {'max_depth': 1, 'max_leaf_nodes': 29, 'n_estimators': 17},\n",
       "  {'max_depth': 1, 'max_leaf_nodes': 29, 'n_estimators': 18},\n",
       "  {'max_depth': 1, 'max_leaf_nodes': 29, 'n_estimators': 19},\n",
       "  {'max_depth': 1, 'max_leaf_nodes': 30, 'n_estimators': 10},\n",
       "  {'max_depth': 1, 'max_leaf_nodes': 30, 'n_estimators': 11},\n",
       "  {'max_depth': 1, 'max_leaf_nodes': 30, 'n_estimators': 12},\n",
       "  {'max_depth': 1, 'max_leaf_nodes': 30, 'n_estimators': 13},\n",
       "  {'max_depth': 1, 'max_leaf_nodes': 30, 'n_estimators': 14},\n",
       "  {'max_depth': 1, 'max_leaf_nodes': 30, 'n_estimators': 15},\n",
       "  {'max_depth': 1, 'max_leaf_nodes': 30, 'n_estimators': 16},\n",
       "  {'max_depth': 1, 'max_leaf_nodes': 30, 'n_estimators': 17},\n",
       "  {'max_depth': 1, 'max_leaf_nodes': 30, 'n_estimators': 18},\n",
       "  {'max_depth': 1, 'max_leaf_nodes': 30, 'n_estimators': 19},\n",
       "  {'max_depth': 1, 'max_leaf_nodes': 31, 'n_estimators': 10},\n",
       "  {'max_depth': 1, 'max_leaf_nodes': 31, 'n_estimators': 11},\n",
       "  {'max_depth': 1, 'max_leaf_nodes': 31, 'n_estimators': 12},\n",
       "  {'max_depth': 1, 'max_leaf_nodes': 31, 'n_estimators': 13},\n",
       "  {'max_depth': 1, 'max_leaf_nodes': 31, 'n_estimators': 14},\n",
       "  {'max_depth': 1, 'max_leaf_nodes': 31, 'n_estimators': 15},\n",
       "  {'max_depth': 1, 'max_leaf_nodes': 31, 'n_estimators': 16},\n",
       "  {'max_depth': 1, 'max_leaf_nodes': 31, 'n_estimators': 17},\n",
       "  {'max_depth': 1, 'max_leaf_nodes': 31, 'n_estimators': 18},\n",
       "  {'max_depth': 1, 'max_leaf_nodes': 31, 'n_estimators': 19},\n",
       "  {'max_depth': 1, 'max_leaf_nodes': 32, 'n_estimators': 10},\n",
       "  {'max_depth': 1, 'max_leaf_nodes': 32, 'n_estimators': 11},\n",
       "  {'max_depth': 1, 'max_leaf_nodes': 32, 'n_estimators': 12},\n",
       "  {'max_depth': 1, 'max_leaf_nodes': 32, 'n_estimators': 13},\n",
       "  {'max_depth': 1, 'max_leaf_nodes': 32, 'n_estimators': 14},\n",
       "  {'max_depth': 1, 'max_leaf_nodes': 32, 'n_estimators': 15},\n",
       "  {'max_depth': 1, 'max_leaf_nodes': 32, 'n_estimators': 16},\n",
       "  {'max_depth': 1, 'max_leaf_nodes': 32, 'n_estimators': 17},\n",
       "  {'max_depth': 1, 'max_leaf_nodes': 32, 'n_estimators': 18},\n",
       "  {'max_depth': 1, 'max_leaf_nodes': 32, 'n_estimators': 19},\n",
       "  {'max_depth': 1, 'max_leaf_nodes': 33, 'n_estimators': 10},\n",
       "  {'max_depth': 1, 'max_leaf_nodes': 33, 'n_estimators': 11},\n",
       "  {'max_depth': 1, 'max_leaf_nodes': 33, 'n_estimators': 12},\n",
       "  {'max_depth': 1, 'max_leaf_nodes': 33, 'n_estimators': 13},\n",
       "  {'max_depth': 1, 'max_leaf_nodes': 33, 'n_estimators': 14},\n",
       "  {'max_depth': 1, 'max_leaf_nodes': 33, 'n_estimators': 15},\n",
       "  {'max_depth': 1, 'max_leaf_nodes': 33, 'n_estimators': 16},\n",
       "  {'max_depth': 1, 'max_leaf_nodes': 33, 'n_estimators': 17},\n",
       "  {'max_depth': 1, 'max_leaf_nodes': 33, 'n_estimators': 18},\n",
       "  {'max_depth': 1, 'max_leaf_nodes': 33, 'n_estimators': 19},\n",
       "  {'max_depth': 1, 'max_leaf_nodes': 34, 'n_estimators': 10},\n",
       "  {'max_depth': 1, 'max_leaf_nodes': 34, 'n_estimators': 11},\n",
       "  {'max_depth': 1, 'max_leaf_nodes': 34, 'n_estimators': 12},\n",
       "  {'max_depth': 1, 'max_leaf_nodes': 34, 'n_estimators': 13},\n",
       "  {'max_depth': 1, 'max_leaf_nodes': 34, 'n_estimators': 14},\n",
       "  {'max_depth': 1, 'max_leaf_nodes': 34, 'n_estimators': 15},\n",
       "  {'max_depth': 1, 'max_leaf_nodes': 34, 'n_estimators': 16},\n",
       "  {'max_depth': 1, 'max_leaf_nodes': 34, 'n_estimators': 17},\n",
       "  {'max_depth': 1, 'max_leaf_nodes': 34, 'n_estimators': 18},\n",
       "  {'max_depth': 1, 'max_leaf_nodes': 34, 'n_estimators': 19},\n",
       "  {'max_depth': 1, 'max_leaf_nodes': 35, 'n_estimators': 10},\n",
       "  {'max_depth': 1, 'max_leaf_nodes': 35, 'n_estimators': 11},\n",
       "  {'max_depth': 1, 'max_leaf_nodes': 35, 'n_estimators': 12},\n",
       "  {'max_depth': 1, 'max_leaf_nodes': 35, 'n_estimators': 13},\n",
       "  {'max_depth': 1, 'max_leaf_nodes': 35, 'n_estimators': 14},\n",
       "  {'max_depth': 1, 'max_leaf_nodes': 35, 'n_estimators': 15},\n",
       "  {'max_depth': 1, 'max_leaf_nodes': 35, 'n_estimators': 16},\n",
       "  {'max_depth': 1, 'max_leaf_nodes': 35, 'n_estimators': 17},\n",
       "  {'max_depth': 1, 'max_leaf_nodes': 35, 'n_estimators': 18},\n",
       "  {'max_depth': 1, 'max_leaf_nodes': 35, 'n_estimators': 19},\n",
       "  {'max_depth': 1, 'max_leaf_nodes': 36, 'n_estimators': 10},\n",
       "  {'max_depth': 1, 'max_leaf_nodes': 36, 'n_estimators': 11},\n",
       "  {'max_depth': 1, 'max_leaf_nodes': 36, 'n_estimators': 12},\n",
       "  {'max_depth': 1, 'max_leaf_nodes': 36, 'n_estimators': 13},\n",
       "  {'max_depth': 1, 'max_leaf_nodes': 36, 'n_estimators': 14},\n",
       "  {'max_depth': 1, 'max_leaf_nodes': 36, 'n_estimators': 15},\n",
       "  {'max_depth': 1, 'max_leaf_nodes': 36, 'n_estimators': 16},\n",
       "  {'max_depth': 1, 'max_leaf_nodes': 36, 'n_estimators': 17},\n",
       "  {'max_depth': 1, 'max_leaf_nodes': 36, 'n_estimators': 18},\n",
       "  {'max_depth': 1, 'max_leaf_nodes': 36, 'n_estimators': 19},\n",
       "  {'max_depth': 1, 'max_leaf_nodes': 37, 'n_estimators': 10},\n",
       "  {'max_depth': 1, 'max_leaf_nodes': 37, 'n_estimators': 11},\n",
       "  {'max_depth': 1, 'max_leaf_nodes': 37, 'n_estimators': 12},\n",
       "  {'max_depth': 1, 'max_leaf_nodes': 37, 'n_estimators': 13},\n",
       "  {'max_depth': 1, 'max_leaf_nodes': 37, 'n_estimators': 14},\n",
       "  {'max_depth': 1, 'max_leaf_nodes': 37, 'n_estimators': 15},\n",
       "  {'max_depth': 1, 'max_leaf_nodes': 37, 'n_estimators': 16},\n",
       "  {'max_depth': 1, 'max_leaf_nodes': 37, 'n_estimators': 17},\n",
       "  {'max_depth': 1, 'max_leaf_nodes': 37, 'n_estimators': 18},\n",
       "  {'max_depth': 1, 'max_leaf_nodes': 37, 'n_estimators': 19},\n",
       "  {'max_depth': 1, 'max_leaf_nodes': 38, 'n_estimators': 10},\n",
       "  {'max_depth': 1, 'max_leaf_nodes': 38, 'n_estimators': 11},\n",
       "  {'max_depth': 1, 'max_leaf_nodes': 38, 'n_estimators': 12},\n",
       "  {'max_depth': 1, 'max_leaf_nodes': 38, 'n_estimators': 13},\n",
       "  {'max_depth': 1, 'max_leaf_nodes': 38, 'n_estimators': 14},\n",
       "  {'max_depth': 1, 'max_leaf_nodes': 38, 'n_estimators': 15},\n",
       "  {'max_depth': 1, 'max_leaf_nodes': 38, 'n_estimators': 16},\n",
       "  {'max_depth': 1, 'max_leaf_nodes': 38, 'n_estimators': 17},\n",
       "  {'max_depth': 1, 'max_leaf_nodes': 38, 'n_estimators': 18},\n",
       "  {'max_depth': 1, 'max_leaf_nodes': 38, 'n_estimators': 19},\n",
       "  {'max_depth': 1, 'max_leaf_nodes': 39, 'n_estimators': 10},\n",
       "  {'max_depth': 1, 'max_leaf_nodes': 39, 'n_estimators': 11},\n",
       "  {'max_depth': 1, 'max_leaf_nodes': 39, 'n_estimators': 12},\n",
       "  {'max_depth': 1, 'max_leaf_nodes': 39, 'n_estimators': 13},\n",
       "  {'max_depth': 1, 'max_leaf_nodes': 39, 'n_estimators': 14},\n",
       "  {'max_depth': 1, 'max_leaf_nodes': 39, 'n_estimators': 15},\n",
       "  {'max_depth': 1, 'max_leaf_nodes': 39, 'n_estimators': 16},\n",
       "  {'max_depth': 1, 'max_leaf_nodes': 39, 'n_estimators': 17},\n",
       "  {'max_depth': 1, 'max_leaf_nodes': 39, 'n_estimators': 18},\n",
       "  {'max_depth': 1, 'max_leaf_nodes': 39, 'n_estimators': 19},\n",
       "  {'max_depth': 1, 'max_leaf_nodes': 40, 'n_estimators': 10},\n",
       "  {'max_depth': 1, 'max_leaf_nodes': 40, 'n_estimators': 11},\n",
       "  {'max_depth': 1, 'max_leaf_nodes': 40, 'n_estimators': 12},\n",
       "  {'max_depth': 1, 'max_leaf_nodes': 40, 'n_estimators': 13},\n",
       "  {'max_depth': 1, 'max_leaf_nodes': 40, 'n_estimators': 14},\n",
       "  {'max_depth': 1, 'max_leaf_nodes': 40, 'n_estimators': 15},\n",
       "  {'max_depth': 1, 'max_leaf_nodes': 40, 'n_estimators': 16},\n",
       "  {'max_depth': 1, 'max_leaf_nodes': 40, 'n_estimators': 17},\n",
       "  {'max_depth': 1, 'max_leaf_nodes': 40, 'n_estimators': 18},\n",
       "  {'max_depth': 1, 'max_leaf_nodes': 40, 'n_estimators': 19},\n",
       "  {'max_depth': 1, 'max_leaf_nodes': 41, 'n_estimators': 10},\n",
       "  {'max_depth': 1, 'max_leaf_nodes': 41, 'n_estimators': 11},\n",
       "  {'max_depth': 1, 'max_leaf_nodes': 41, 'n_estimators': 12},\n",
       "  {'max_depth': 1, 'max_leaf_nodes': 41, 'n_estimators': 13},\n",
       "  {'max_depth': 1, 'max_leaf_nodes': 41, 'n_estimators': 14},\n",
       "  {'max_depth': 1, 'max_leaf_nodes': 41, 'n_estimators': 15},\n",
       "  {'max_depth': 1, 'max_leaf_nodes': 41, 'n_estimators': 16},\n",
       "  {'max_depth': 1, 'max_leaf_nodes': 41, 'n_estimators': 17},\n",
       "  {'max_depth': 1, 'max_leaf_nodes': 41, 'n_estimators': 18},\n",
       "  {'max_depth': 1, 'max_leaf_nodes': 41, 'n_estimators': 19},\n",
       "  {'max_depth': 1, 'max_leaf_nodes': 42, 'n_estimators': 10},\n",
       "  {'max_depth': 1, 'max_leaf_nodes': 42, 'n_estimators': 11},\n",
       "  {'max_depth': 1, 'max_leaf_nodes': 42, 'n_estimators': 12},\n",
       "  {'max_depth': 1, 'max_leaf_nodes': 42, 'n_estimators': 13},\n",
       "  {'max_depth': 1, 'max_leaf_nodes': 42, 'n_estimators': 14},\n",
       "  {'max_depth': 1, 'max_leaf_nodes': 42, 'n_estimators': 15},\n",
       "  {'max_depth': 1, 'max_leaf_nodes': 42, 'n_estimators': 16},\n",
       "  {'max_depth': 1, 'max_leaf_nodes': 42, 'n_estimators': 17},\n",
       "  {'max_depth': 1, 'max_leaf_nodes': 42, 'n_estimators': 18},\n",
       "  {'max_depth': 1, 'max_leaf_nodes': 42, 'n_estimators': 19},\n",
       "  {'max_depth': 1, 'max_leaf_nodes': 43, 'n_estimators': 10},\n",
       "  {'max_depth': 1, 'max_leaf_nodes': 43, 'n_estimators': 11},\n",
       "  {'max_depth': 1, 'max_leaf_nodes': 43, 'n_estimators': 12},\n",
       "  {'max_depth': 1, 'max_leaf_nodes': 43, 'n_estimators': 13},\n",
       "  {'max_depth': 1, 'max_leaf_nodes': 43, 'n_estimators': 14},\n",
       "  {'max_depth': 1, 'max_leaf_nodes': 43, 'n_estimators': 15},\n",
       "  {'max_depth': 1, 'max_leaf_nodes': 43, 'n_estimators': 16},\n",
       "  {'max_depth': 1, 'max_leaf_nodes': 43, 'n_estimators': 17},\n",
       "  {'max_depth': 1, 'max_leaf_nodes': 43, 'n_estimators': 18},\n",
       "  {'max_depth': 1, 'max_leaf_nodes': 43, 'n_estimators': 19},\n",
       "  {'max_depth': 1, 'max_leaf_nodes': 44, 'n_estimators': 10},\n",
       "  {'max_depth': 1, 'max_leaf_nodes': 44, 'n_estimators': 11},\n",
       "  {'max_depth': 1, 'max_leaf_nodes': 44, 'n_estimators': 12},\n",
       "  {'max_depth': 1, 'max_leaf_nodes': 44, 'n_estimators': 13},\n",
       "  {'max_depth': 1, 'max_leaf_nodes': 44, 'n_estimators': 14},\n",
       "  {'max_depth': 1, 'max_leaf_nodes': 44, 'n_estimators': 15},\n",
       "  {'max_depth': 1, 'max_leaf_nodes': 44, 'n_estimators': 16},\n",
       "  {'max_depth': 1, 'max_leaf_nodes': 44, 'n_estimators': 17},\n",
       "  {'max_depth': 1, 'max_leaf_nodes': 44, 'n_estimators': 18},\n",
       "  {'max_depth': 1, 'max_leaf_nodes': 44, 'n_estimators': 19},\n",
       "  {'max_depth': 1, 'max_leaf_nodes': 45, 'n_estimators': 10},\n",
       "  {'max_depth': 1, 'max_leaf_nodes': 45, 'n_estimators': 11},\n",
       "  {'max_depth': 1, 'max_leaf_nodes': 45, 'n_estimators': 12},\n",
       "  {'max_depth': 1, 'max_leaf_nodes': 45, 'n_estimators': 13},\n",
       "  {'max_depth': 1, 'max_leaf_nodes': 45, 'n_estimators': 14},\n",
       "  {'max_depth': 1, 'max_leaf_nodes': 45, 'n_estimators': 15},\n",
       "  {'max_depth': 1, 'max_leaf_nodes': 45, 'n_estimators': 16},\n",
       "  {'max_depth': 1, 'max_leaf_nodes': 45, 'n_estimators': 17},\n",
       "  {'max_depth': 1, 'max_leaf_nodes': 45, 'n_estimators': 18},\n",
       "  {'max_depth': 1, 'max_leaf_nodes': 45, 'n_estimators': 19},\n",
       "  {'max_depth': 1, 'max_leaf_nodes': 46, 'n_estimators': 10},\n",
       "  {'max_depth': 1, 'max_leaf_nodes': 46, 'n_estimators': 11},\n",
       "  {'max_depth': 1, 'max_leaf_nodes': 46, 'n_estimators': 12},\n",
       "  {'max_depth': 1, 'max_leaf_nodes': 46, 'n_estimators': 13},\n",
       "  {'max_depth': 1, 'max_leaf_nodes': 46, 'n_estimators': 14},\n",
       "  {'max_depth': 1, 'max_leaf_nodes': 46, 'n_estimators': 15},\n",
       "  {'max_depth': 1, 'max_leaf_nodes': 46, 'n_estimators': 16},\n",
       "  {'max_depth': 1, 'max_leaf_nodes': 46, 'n_estimators': 17},\n",
       "  {'max_depth': 1, 'max_leaf_nodes': 46, 'n_estimators': 18},\n",
       "  {'max_depth': 1, 'max_leaf_nodes': 46, 'n_estimators': 19},\n",
       "  {'max_depth': 1, 'max_leaf_nodes': 47, 'n_estimators': 10},\n",
       "  {'max_depth': 1, 'max_leaf_nodes': 47, 'n_estimators': 11},\n",
       "  {'max_depth': 1, 'max_leaf_nodes': 47, 'n_estimators': 12},\n",
       "  {'max_depth': 1, 'max_leaf_nodes': 47, 'n_estimators': 13},\n",
       "  {'max_depth': 1, 'max_leaf_nodes': 47, 'n_estimators': 14},\n",
       "  {'max_depth': 1, 'max_leaf_nodes': 47, 'n_estimators': 15},\n",
       "  {'max_depth': 1, 'max_leaf_nodes': 47, 'n_estimators': 16},\n",
       "  {'max_depth': 1, 'max_leaf_nodes': 47, 'n_estimators': 17},\n",
       "  {'max_depth': 1, 'max_leaf_nodes': 47, 'n_estimators': 18},\n",
       "  {'max_depth': 1, 'max_leaf_nodes': 47, 'n_estimators': 19},\n",
       "  {'max_depth': 1, 'max_leaf_nodes': 48, 'n_estimators': 10},\n",
       "  {'max_depth': 1, 'max_leaf_nodes': 48, 'n_estimators': 11},\n",
       "  {'max_depth': 1, 'max_leaf_nodes': 48, 'n_estimators': 12},\n",
       "  {'max_depth': 1, 'max_leaf_nodes': 48, 'n_estimators': 13},\n",
       "  {'max_depth': 1, 'max_leaf_nodes': 48, 'n_estimators': 14},\n",
       "  {'max_depth': 1, 'max_leaf_nodes': 48, 'n_estimators': 15},\n",
       "  {'max_depth': 1, 'max_leaf_nodes': 48, 'n_estimators': 16},\n",
       "  {'max_depth': 1, 'max_leaf_nodes': 48, 'n_estimators': 17},\n",
       "  {'max_depth': 1, 'max_leaf_nodes': 48, 'n_estimators': 18},\n",
       "  {'max_depth': 1, 'max_leaf_nodes': 48, 'n_estimators': 19},\n",
       "  {'max_depth': 1, 'max_leaf_nodes': 49, 'n_estimators': 10},\n",
       "  {'max_depth': 1, 'max_leaf_nodes': 49, 'n_estimators': 11},\n",
       "  {'max_depth': 1, 'max_leaf_nodes': 49, 'n_estimators': 12},\n",
       "  {'max_depth': 1, 'max_leaf_nodes': 49, 'n_estimators': 13},\n",
       "  {'max_depth': 1, 'max_leaf_nodes': 49, 'n_estimators': 14},\n",
       "  {'max_depth': 1, 'max_leaf_nodes': 49, 'n_estimators': 15},\n",
       "  {'max_depth': 1, 'max_leaf_nodes': 49, 'n_estimators': 16},\n",
       "  {'max_depth': 1, 'max_leaf_nodes': 49, 'n_estimators': 17},\n",
       "  {'max_depth': 1, 'max_leaf_nodes': 49, 'n_estimators': 18},\n",
       "  {'max_depth': 1, 'max_leaf_nodes': 49, 'n_estimators': 19},\n",
       "  {'max_depth': 2, 'max_leaf_nodes': 2, 'n_estimators': 10},\n",
       "  {'max_depth': 2, 'max_leaf_nodes': 2, 'n_estimators': 11},\n",
       "  {'max_depth': 2, 'max_leaf_nodes': 2, 'n_estimators': 12},\n",
       "  {'max_depth': 2, 'max_leaf_nodes': 2, 'n_estimators': 13},\n",
       "  {'max_depth': 2, 'max_leaf_nodes': 2, 'n_estimators': 14},\n",
       "  {'max_depth': 2, 'max_leaf_nodes': 2, 'n_estimators': 15},\n",
       "  {'max_depth': 2, 'max_leaf_nodes': 2, 'n_estimators': 16},\n",
       "  {'max_depth': 2, 'max_leaf_nodes': 2, 'n_estimators': 17},\n",
       "  {'max_depth': 2, 'max_leaf_nodes': 2, 'n_estimators': 18},\n",
       "  {'max_depth': 2, 'max_leaf_nodes': 2, 'n_estimators': 19},\n",
       "  {'max_depth': 2, 'max_leaf_nodes': 3, 'n_estimators': 10},\n",
       "  {'max_depth': 2, 'max_leaf_nodes': 3, 'n_estimators': 11},\n",
       "  {'max_depth': 2, 'max_leaf_nodes': 3, 'n_estimators': 12},\n",
       "  {'max_depth': 2, 'max_leaf_nodes': 3, 'n_estimators': 13},\n",
       "  {'max_depth': 2, 'max_leaf_nodes': 3, 'n_estimators': 14},\n",
       "  {'max_depth': 2, 'max_leaf_nodes': 3, 'n_estimators': 15},\n",
       "  {'max_depth': 2, 'max_leaf_nodes': 3, 'n_estimators': 16},\n",
       "  {'max_depth': 2, 'max_leaf_nodes': 3, 'n_estimators': 17},\n",
       "  {'max_depth': 2, 'max_leaf_nodes': 3, 'n_estimators': 18},\n",
       "  {'max_depth': 2, 'max_leaf_nodes': 3, 'n_estimators': 19},\n",
       "  {'max_depth': 2, 'max_leaf_nodes': 4, 'n_estimators': 10},\n",
       "  {'max_depth': 2, 'max_leaf_nodes': 4, 'n_estimators': 11},\n",
       "  {'max_depth': 2, 'max_leaf_nodes': 4, 'n_estimators': 12},\n",
       "  {'max_depth': 2, 'max_leaf_nodes': 4, 'n_estimators': 13},\n",
       "  {'max_depth': 2, 'max_leaf_nodes': 4, 'n_estimators': 14},\n",
       "  {'max_depth': 2, 'max_leaf_nodes': 4, 'n_estimators': 15},\n",
       "  {'max_depth': 2, 'max_leaf_nodes': 4, 'n_estimators': 16},\n",
       "  {'max_depth': 2, 'max_leaf_nodes': 4, 'n_estimators': 17},\n",
       "  {'max_depth': 2, 'max_leaf_nodes': 4, 'n_estimators': 18},\n",
       "  {'max_depth': 2, 'max_leaf_nodes': 4, 'n_estimators': 19},\n",
       "  {'max_depth': 2, 'max_leaf_nodes': 5, 'n_estimators': 10},\n",
       "  {'max_depth': 2, 'max_leaf_nodes': 5, 'n_estimators': 11},\n",
       "  {'max_depth': 2, 'max_leaf_nodes': 5, 'n_estimators': 12},\n",
       "  {'max_depth': 2, 'max_leaf_nodes': 5, 'n_estimators': 13},\n",
       "  {'max_depth': 2, 'max_leaf_nodes': 5, 'n_estimators': 14},\n",
       "  {'max_depth': 2, 'max_leaf_nodes': 5, 'n_estimators': 15},\n",
       "  {'max_depth': 2, 'max_leaf_nodes': 5, 'n_estimators': 16},\n",
       "  {'max_depth': 2, 'max_leaf_nodes': 5, 'n_estimators': 17},\n",
       "  {'max_depth': 2, 'max_leaf_nodes': 5, 'n_estimators': 18},\n",
       "  {'max_depth': 2, 'max_leaf_nodes': 5, 'n_estimators': 19},\n",
       "  {'max_depth': 2, 'max_leaf_nodes': 6, 'n_estimators': 10},\n",
       "  {'max_depth': 2, 'max_leaf_nodes': 6, 'n_estimators': 11},\n",
       "  {'max_depth': 2, 'max_leaf_nodes': 6, 'n_estimators': 12},\n",
       "  {'max_depth': 2, 'max_leaf_nodes': 6, 'n_estimators': 13},\n",
       "  {'max_depth': 2, 'max_leaf_nodes': 6, 'n_estimators': 14},\n",
       "  {'max_depth': 2, 'max_leaf_nodes': 6, 'n_estimators': 15},\n",
       "  {'max_depth': 2, 'max_leaf_nodes': 6, 'n_estimators': 16},\n",
       "  {'max_depth': 2, 'max_leaf_nodes': 6, 'n_estimators': 17},\n",
       "  {'max_depth': 2, 'max_leaf_nodes': 6, 'n_estimators': 18},\n",
       "  {'max_depth': 2, 'max_leaf_nodes': 6, 'n_estimators': 19},\n",
       "  {'max_depth': 2, 'max_leaf_nodes': 7, 'n_estimators': 10},\n",
       "  {'max_depth': 2, 'max_leaf_nodes': 7, 'n_estimators': 11},\n",
       "  {'max_depth': 2, 'max_leaf_nodes': 7, 'n_estimators': 12},\n",
       "  {'max_depth': 2, 'max_leaf_nodes': 7, 'n_estimators': 13},\n",
       "  {'max_depth': 2, 'max_leaf_nodes': 7, 'n_estimators': 14},\n",
       "  {'max_depth': 2, 'max_leaf_nodes': 7, 'n_estimators': 15},\n",
       "  {'max_depth': 2, 'max_leaf_nodes': 7, 'n_estimators': 16},\n",
       "  {'max_depth': 2, 'max_leaf_nodes': 7, 'n_estimators': 17},\n",
       "  {'max_depth': 2, 'max_leaf_nodes': 7, 'n_estimators': 18},\n",
       "  {'max_depth': 2, 'max_leaf_nodes': 7, 'n_estimators': 19},\n",
       "  {'max_depth': 2, 'max_leaf_nodes': 8, 'n_estimators': 10},\n",
       "  {'max_depth': 2, 'max_leaf_nodes': 8, 'n_estimators': 11},\n",
       "  {'max_depth': 2, 'max_leaf_nodes': 8, 'n_estimators': 12},\n",
       "  {'max_depth': 2, 'max_leaf_nodes': 8, 'n_estimators': 13},\n",
       "  {'max_depth': 2, 'max_leaf_nodes': 8, 'n_estimators': 14},\n",
       "  {'max_depth': 2, 'max_leaf_nodes': 8, 'n_estimators': 15},\n",
       "  {'max_depth': 2, 'max_leaf_nodes': 8, 'n_estimators': 16},\n",
       "  {'max_depth': 2, 'max_leaf_nodes': 8, 'n_estimators': 17},\n",
       "  {'max_depth': 2, 'max_leaf_nodes': 8, 'n_estimators': 18},\n",
       "  {'max_depth': 2, 'max_leaf_nodes': 8, 'n_estimators': 19},\n",
       "  {'max_depth': 2, 'max_leaf_nodes': 9, 'n_estimators': 10},\n",
       "  {'max_depth': 2, 'max_leaf_nodes': 9, 'n_estimators': 11},\n",
       "  {'max_depth': 2, 'max_leaf_nodes': 9, 'n_estimators': 12},\n",
       "  {'max_depth': 2, 'max_leaf_nodes': 9, 'n_estimators': 13},\n",
       "  {'max_depth': 2, 'max_leaf_nodes': 9, 'n_estimators': 14},\n",
       "  {'max_depth': 2, 'max_leaf_nodes': 9, 'n_estimators': 15},\n",
       "  {'max_depth': 2, 'max_leaf_nodes': 9, 'n_estimators': 16},\n",
       "  {'max_depth': 2, 'max_leaf_nodes': 9, 'n_estimators': 17},\n",
       "  {'max_depth': 2, 'max_leaf_nodes': 9, 'n_estimators': 18},\n",
       "  {'max_depth': 2, 'max_leaf_nodes': 9, 'n_estimators': 19},\n",
       "  {'max_depth': 2, 'max_leaf_nodes': 10, 'n_estimators': 10},\n",
       "  {'max_depth': 2, 'max_leaf_nodes': 10, 'n_estimators': 11},\n",
       "  {'max_depth': 2, 'max_leaf_nodes': 10, 'n_estimators': 12},\n",
       "  {'max_depth': 2, 'max_leaf_nodes': 10, 'n_estimators': 13},\n",
       "  {'max_depth': 2, 'max_leaf_nodes': 10, 'n_estimators': 14},\n",
       "  {'max_depth': 2, 'max_leaf_nodes': 10, 'n_estimators': 15},\n",
       "  {'max_depth': 2, 'max_leaf_nodes': 10, 'n_estimators': 16},\n",
       "  {'max_depth': 2, 'max_leaf_nodes': 10, 'n_estimators': 17},\n",
       "  {'max_depth': 2, 'max_leaf_nodes': 10, 'n_estimators': 18},\n",
       "  {'max_depth': 2, 'max_leaf_nodes': 10, 'n_estimators': 19},\n",
       "  {'max_depth': 2, 'max_leaf_nodes': 11, 'n_estimators': 10},\n",
       "  {'max_depth': 2, 'max_leaf_nodes': 11, 'n_estimators': 11},\n",
       "  {'max_depth': 2, 'max_leaf_nodes': 11, 'n_estimators': 12},\n",
       "  {'max_depth': 2, 'max_leaf_nodes': 11, 'n_estimators': 13},\n",
       "  {'max_depth': 2, 'max_leaf_nodes': 11, 'n_estimators': 14},\n",
       "  {'max_depth': 2, 'max_leaf_nodes': 11, 'n_estimators': 15},\n",
       "  {'max_depth': 2, 'max_leaf_nodes': 11, 'n_estimators': 16},\n",
       "  {'max_depth': 2, 'max_leaf_nodes': 11, 'n_estimators': 17},\n",
       "  {'max_depth': 2, 'max_leaf_nodes': 11, 'n_estimators': 18},\n",
       "  {'max_depth': 2, 'max_leaf_nodes': 11, 'n_estimators': 19},\n",
       "  {'max_depth': 2, 'max_leaf_nodes': 12, 'n_estimators': 10},\n",
       "  {'max_depth': 2, 'max_leaf_nodes': 12, 'n_estimators': 11},\n",
       "  {'max_depth': 2, 'max_leaf_nodes': 12, 'n_estimators': 12},\n",
       "  {'max_depth': 2, 'max_leaf_nodes': 12, 'n_estimators': 13},\n",
       "  {'max_depth': 2, 'max_leaf_nodes': 12, 'n_estimators': 14},\n",
       "  {'max_depth': 2, 'max_leaf_nodes': 12, 'n_estimators': 15},\n",
       "  {'max_depth': 2, 'max_leaf_nodes': 12, 'n_estimators': 16},\n",
       "  {'max_depth': 2, 'max_leaf_nodes': 12, 'n_estimators': 17},\n",
       "  {'max_depth': 2, 'max_leaf_nodes': 12, 'n_estimators': 18},\n",
       "  {'max_depth': 2, 'max_leaf_nodes': 12, 'n_estimators': 19},\n",
       "  {'max_depth': 2, 'max_leaf_nodes': 13, 'n_estimators': 10},\n",
       "  {'max_depth': 2, 'max_leaf_nodes': 13, 'n_estimators': 11},\n",
       "  {'max_depth': 2, 'max_leaf_nodes': 13, 'n_estimators': 12},\n",
       "  {'max_depth': 2, 'max_leaf_nodes': 13, 'n_estimators': 13},\n",
       "  {'max_depth': 2, 'max_leaf_nodes': 13, 'n_estimators': 14},\n",
       "  {'max_depth': 2, 'max_leaf_nodes': 13, 'n_estimators': 15},\n",
       "  {'max_depth': 2, 'max_leaf_nodes': 13, 'n_estimators': 16},\n",
       "  {'max_depth': 2, 'max_leaf_nodes': 13, 'n_estimators': 17},\n",
       "  {'max_depth': 2, 'max_leaf_nodes': 13, 'n_estimators': 18},\n",
       "  {'max_depth': 2, 'max_leaf_nodes': 13, 'n_estimators': 19},\n",
       "  {'max_depth': 2, 'max_leaf_nodes': 14, 'n_estimators': 10},\n",
       "  {'max_depth': 2, 'max_leaf_nodes': 14, 'n_estimators': 11},\n",
       "  {'max_depth': 2, 'max_leaf_nodes': 14, 'n_estimators': 12},\n",
       "  {'max_depth': 2, 'max_leaf_nodes': 14, 'n_estimators': 13},\n",
       "  {'max_depth': 2, 'max_leaf_nodes': 14, 'n_estimators': 14},\n",
       "  {'max_depth': 2, 'max_leaf_nodes': 14, 'n_estimators': 15},\n",
       "  {'max_depth': 2, 'max_leaf_nodes': 14, 'n_estimators': 16},\n",
       "  {'max_depth': 2, 'max_leaf_nodes': 14, 'n_estimators': 17},\n",
       "  {'max_depth': 2, 'max_leaf_nodes': 14, 'n_estimators': 18},\n",
       "  {'max_depth': 2, 'max_leaf_nodes': 14, 'n_estimators': 19},\n",
       "  {'max_depth': 2, 'max_leaf_nodes': 15, 'n_estimators': 10},\n",
       "  {'max_depth': 2, 'max_leaf_nodes': 15, 'n_estimators': 11},\n",
       "  {'max_depth': 2, 'max_leaf_nodes': 15, 'n_estimators': 12},\n",
       "  {'max_depth': 2, 'max_leaf_nodes': 15, 'n_estimators': 13},\n",
       "  {'max_depth': 2, 'max_leaf_nodes': 15, 'n_estimators': 14},\n",
       "  {'max_depth': 2, 'max_leaf_nodes': 15, 'n_estimators': 15},\n",
       "  {'max_depth': 2, 'max_leaf_nodes': 15, 'n_estimators': 16},\n",
       "  {'max_depth': 2, 'max_leaf_nodes': 15, 'n_estimators': 17},\n",
       "  {'max_depth': 2, 'max_leaf_nodes': 15, 'n_estimators': 18},\n",
       "  {'max_depth': 2, 'max_leaf_nodes': 15, 'n_estimators': 19},\n",
       "  {'max_depth': 2, 'max_leaf_nodes': 16, 'n_estimators': 10},\n",
       "  {'max_depth': 2, 'max_leaf_nodes': 16, 'n_estimators': 11},\n",
       "  {'max_depth': 2, 'max_leaf_nodes': 16, 'n_estimators': 12},\n",
       "  {'max_depth': 2, 'max_leaf_nodes': 16, 'n_estimators': 13},\n",
       "  {'max_depth': 2, 'max_leaf_nodes': 16, 'n_estimators': 14},\n",
       "  {'max_depth': 2, 'max_leaf_nodes': 16, 'n_estimators': 15},\n",
       "  {'max_depth': 2, 'max_leaf_nodes': 16, 'n_estimators': 16},\n",
       "  {'max_depth': 2, 'max_leaf_nodes': 16, 'n_estimators': 17},\n",
       "  {'max_depth': 2, 'max_leaf_nodes': 16, 'n_estimators': 18},\n",
       "  {'max_depth': 2, 'max_leaf_nodes': 16, 'n_estimators': 19},\n",
       "  {'max_depth': 2, 'max_leaf_nodes': 17, 'n_estimators': 10},\n",
       "  {'max_depth': 2, 'max_leaf_nodes': 17, 'n_estimators': 11},\n",
       "  {'max_depth': 2, 'max_leaf_nodes': 17, 'n_estimators': 12},\n",
       "  {'max_depth': 2, 'max_leaf_nodes': 17, 'n_estimators': 13},\n",
       "  {'max_depth': 2, 'max_leaf_nodes': 17, 'n_estimators': 14},\n",
       "  {'max_depth': 2, 'max_leaf_nodes': 17, 'n_estimators': 15},\n",
       "  {'max_depth': 2, 'max_leaf_nodes': 17, 'n_estimators': 16},\n",
       "  {'max_depth': 2, 'max_leaf_nodes': 17, 'n_estimators': 17},\n",
       "  {'max_depth': 2, 'max_leaf_nodes': 17, 'n_estimators': 18},\n",
       "  {'max_depth': 2, 'max_leaf_nodes': 17, 'n_estimators': 19},\n",
       "  {'max_depth': 2, 'max_leaf_nodes': 18, 'n_estimators': 10},\n",
       "  {'max_depth': 2, 'max_leaf_nodes': 18, 'n_estimators': 11},\n",
       "  {'max_depth': 2, 'max_leaf_nodes': 18, 'n_estimators': 12},\n",
       "  {'max_depth': 2, 'max_leaf_nodes': 18, 'n_estimators': 13},\n",
       "  {'max_depth': 2, 'max_leaf_nodes': 18, 'n_estimators': 14},\n",
       "  {'max_depth': 2, 'max_leaf_nodes': 18, 'n_estimators': 15},\n",
       "  {'max_depth': 2, 'max_leaf_nodes': 18, 'n_estimators': 16},\n",
       "  {'max_depth': 2, 'max_leaf_nodes': 18, 'n_estimators': 17},\n",
       "  {'max_depth': 2, 'max_leaf_nodes': 18, 'n_estimators': 18},\n",
       "  {'max_depth': 2, 'max_leaf_nodes': 18, 'n_estimators': 19},\n",
       "  {'max_depth': 2, 'max_leaf_nodes': 19, 'n_estimators': 10},\n",
       "  {'max_depth': 2, 'max_leaf_nodes': 19, 'n_estimators': 11},\n",
       "  {'max_depth': 2, 'max_leaf_nodes': 19, 'n_estimators': 12},\n",
       "  {'max_depth': 2, 'max_leaf_nodes': 19, 'n_estimators': 13},\n",
       "  {'max_depth': 2, 'max_leaf_nodes': 19, 'n_estimators': 14},\n",
       "  {'max_depth': 2, 'max_leaf_nodes': 19, 'n_estimators': 15},\n",
       "  {'max_depth': 2, 'max_leaf_nodes': 19, 'n_estimators': 16},\n",
       "  {'max_depth': 2, 'max_leaf_nodes': 19, 'n_estimators': 17},\n",
       "  {'max_depth': 2, 'max_leaf_nodes': 19, 'n_estimators': 18},\n",
       "  {'max_depth': 2, 'max_leaf_nodes': 19, 'n_estimators': 19},\n",
       "  {'max_depth': 2, 'max_leaf_nodes': 20, 'n_estimators': 10},\n",
       "  {'max_depth': 2, 'max_leaf_nodes': 20, 'n_estimators': 11},\n",
       "  {'max_depth': 2, 'max_leaf_nodes': 20, 'n_estimators': 12},\n",
       "  {'max_depth': 2, 'max_leaf_nodes': 20, 'n_estimators': 13},\n",
       "  {'max_depth': 2, 'max_leaf_nodes': 20, 'n_estimators': 14},\n",
       "  {'max_depth': 2, 'max_leaf_nodes': 20, 'n_estimators': 15},\n",
       "  {'max_depth': 2, 'max_leaf_nodes': 20, 'n_estimators': 16},\n",
       "  {'max_depth': 2, 'max_leaf_nodes': 20, 'n_estimators': 17},\n",
       "  {'max_depth': 2, 'max_leaf_nodes': 20, 'n_estimators': 18},\n",
       "  {'max_depth': 2, 'max_leaf_nodes': 20, 'n_estimators': 19},\n",
       "  {'max_depth': 2, 'max_leaf_nodes': 21, 'n_estimators': 10},\n",
       "  {'max_depth': 2, 'max_leaf_nodes': 21, 'n_estimators': 11},\n",
       "  {'max_depth': 2, 'max_leaf_nodes': 21, 'n_estimators': 12},\n",
       "  {'max_depth': 2, 'max_leaf_nodes': 21, 'n_estimators': 13},\n",
       "  {'max_depth': 2, 'max_leaf_nodes': 21, 'n_estimators': 14},\n",
       "  {'max_depth': 2, 'max_leaf_nodes': 21, 'n_estimators': 15},\n",
       "  {'max_depth': 2, 'max_leaf_nodes': 21, 'n_estimators': 16},\n",
       "  {'max_depth': 2, 'max_leaf_nodes': 21, 'n_estimators': 17},\n",
       "  {'max_depth': 2, 'max_leaf_nodes': 21, 'n_estimators': 18},\n",
       "  {'max_depth': 2, 'max_leaf_nodes': 21, 'n_estimators': 19},\n",
       "  {'max_depth': 2, 'max_leaf_nodes': 22, 'n_estimators': 10},\n",
       "  {'max_depth': 2, 'max_leaf_nodes': 22, 'n_estimators': 11},\n",
       "  {'max_depth': 2, 'max_leaf_nodes': 22, 'n_estimators': 12},\n",
       "  {'max_depth': 2, 'max_leaf_nodes': 22, 'n_estimators': 13},\n",
       "  {'max_depth': 2, 'max_leaf_nodes': 22, 'n_estimators': 14},\n",
       "  {'max_depth': 2, 'max_leaf_nodes': 22, 'n_estimators': 15},\n",
       "  {'max_depth': 2, 'max_leaf_nodes': 22, 'n_estimators': 16},\n",
       "  {'max_depth': 2, 'max_leaf_nodes': 22, 'n_estimators': 17},\n",
       "  {'max_depth': 2, 'max_leaf_nodes': 22, 'n_estimators': 18},\n",
       "  {'max_depth': 2, 'max_leaf_nodes': 22, 'n_estimators': 19},\n",
       "  {'max_depth': 2, 'max_leaf_nodes': 23, 'n_estimators': 10},\n",
       "  {'max_depth': 2, 'max_leaf_nodes': 23, 'n_estimators': 11},\n",
       "  {'max_depth': 2, 'max_leaf_nodes': 23, 'n_estimators': 12},\n",
       "  {'max_depth': 2, 'max_leaf_nodes': 23, 'n_estimators': 13},\n",
       "  {'max_depth': 2, 'max_leaf_nodes': 23, 'n_estimators': 14},\n",
       "  {'max_depth': 2, 'max_leaf_nodes': 23, 'n_estimators': 15},\n",
       "  {'max_depth': 2, 'max_leaf_nodes': 23, 'n_estimators': 16},\n",
       "  {'max_depth': 2, 'max_leaf_nodes': 23, 'n_estimators': 17},\n",
       "  {'max_depth': 2, 'max_leaf_nodes': 23, 'n_estimators': 18},\n",
       "  {'max_depth': 2, 'max_leaf_nodes': 23, 'n_estimators': 19},\n",
       "  {'max_depth': 2, 'max_leaf_nodes': 24, 'n_estimators': 10},\n",
       "  {'max_depth': 2, 'max_leaf_nodes': 24, 'n_estimators': 11},\n",
       "  {'max_depth': 2, 'max_leaf_nodes': 24, 'n_estimators': 12},\n",
       "  {'max_depth': 2, 'max_leaf_nodes': 24, 'n_estimators': 13},\n",
       "  {'max_depth': 2, 'max_leaf_nodes': 24, 'n_estimators': 14},\n",
       "  {'max_depth': 2, 'max_leaf_nodes': 24, 'n_estimators': 15},\n",
       "  {'max_depth': 2, 'max_leaf_nodes': 24, 'n_estimators': 16},\n",
       "  {'max_depth': 2, 'max_leaf_nodes': 24, 'n_estimators': 17},\n",
       "  {'max_depth': 2, 'max_leaf_nodes': 24, 'n_estimators': 18},\n",
       "  {'max_depth': 2, 'max_leaf_nodes': 24, 'n_estimators': 19},\n",
       "  {'max_depth': 2, 'max_leaf_nodes': 25, 'n_estimators': 10},\n",
       "  {'max_depth': 2, 'max_leaf_nodes': 25, 'n_estimators': 11},\n",
       "  {'max_depth': 2, 'max_leaf_nodes': 25, 'n_estimators': 12},\n",
       "  {'max_depth': 2, 'max_leaf_nodes': 25, 'n_estimators': 13},\n",
       "  {'max_depth': 2, 'max_leaf_nodes': 25, 'n_estimators': 14},\n",
       "  {'max_depth': 2, 'max_leaf_nodes': 25, 'n_estimators': 15},\n",
       "  {'max_depth': 2, 'max_leaf_nodes': 25, 'n_estimators': 16},\n",
       "  {'max_depth': 2, 'max_leaf_nodes': 25, 'n_estimators': 17},\n",
       "  {'max_depth': 2, 'max_leaf_nodes': 25, 'n_estimators': 18},\n",
       "  {'max_depth': 2, 'max_leaf_nodes': 25, 'n_estimators': 19},\n",
       "  {'max_depth': 2, 'max_leaf_nodes': 26, 'n_estimators': 10},\n",
       "  {'max_depth': 2, 'max_leaf_nodes': 26, 'n_estimators': 11},\n",
       "  {'max_depth': 2, 'max_leaf_nodes': 26, 'n_estimators': 12},\n",
       "  {'max_depth': 2, 'max_leaf_nodes': 26, 'n_estimators': 13},\n",
       "  {'max_depth': 2, 'max_leaf_nodes': 26, 'n_estimators': 14},\n",
       "  {'max_depth': 2, 'max_leaf_nodes': 26, 'n_estimators': 15},\n",
       "  {'max_depth': 2, 'max_leaf_nodes': 26, 'n_estimators': 16},\n",
       "  {'max_depth': 2, 'max_leaf_nodes': 26, 'n_estimators': 17},\n",
       "  {'max_depth': 2, 'max_leaf_nodes': 26, 'n_estimators': 18},\n",
       "  {'max_depth': 2, 'max_leaf_nodes': 26, 'n_estimators': 19},\n",
       "  {'max_depth': 2, 'max_leaf_nodes': 27, 'n_estimators': 10},\n",
       "  {'max_depth': 2, 'max_leaf_nodes': 27, 'n_estimators': 11},\n",
       "  {'max_depth': 2, 'max_leaf_nodes': 27, 'n_estimators': 12},\n",
       "  {'max_depth': 2, 'max_leaf_nodes': 27, 'n_estimators': 13},\n",
       "  {'max_depth': 2, 'max_leaf_nodes': 27, 'n_estimators': 14},\n",
       "  {'max_depth': 2, 'max_leaf_nodes': 27, 'n_estimators': 15},\n",
       "  {'max_depth': 2, 'max_leaf_nodes': 27, 'n_estimators': 16},\n",
       "  {'max_depth': 2, 'max_leaf_nodes': 27, 'n_estimators': 17},\n",
       "  {'max_depth': 2, 'max_leaf_nodes': 27, 'n_estimators': 18},\n",
       "  {'max_depth': 2, 'max_leaf_nodes': 27, 'n_estimators': 19},\n",
       "  {'max_depth': 2, 'max_leaf_nodes': 28, 'n_estimators': 10},\n",
       "  {'max_depth': 2, 'max_leaf_nodes': 28, 'n_estimators': 11},\n",
       "  {'max_depth': 2, 'max_leaf_nodes': 28, 'n_estimators': 12},\n",
       "  {'max_depth': 2, 'max_leaf_nodes': 28, 'n_estimators': 13},\n",
       "  {'max_depth': 2, 'max_leaf_nodes': 28, 'n_estimators': 14},\n",
       "  {'max_depth': 2, 'max_leaf_nodes': 28, 'n_estimators': 15},\n",
       "  {'max_depth': 2, 'max_leaf_nodes': 28, 'n_estimators': 16},\n",
       "  {'max_depth': 2, 'max_leaf_nodes': 28, 'n_estimators': 17},\n",
       "  {'max_depth': 2, 'max_leaf_nodes': 28, 'n_estimators': 18},\n",
       "  {'max_depth': 2, 'max_leaf_nodes': 28, 'n_estimators': 19},\n",
       "  {'max_depth': 2, 'max_leaf_nodes': 29, 'n_estimators': 10},\n",
       "  {'max_depth': 2, 'max_leaf_nodes': 29, 'n_estimators': 11},\n",
       "  {'max_depth': 2, 'max_leaf_nodes': 29, 'n_estimators': 12},\n",
       "  {'max_depth': 2, 'max_leaf_nodes': 29, 'n_estimators': 13},\n",
       "  {'max_depth': 2, 'max_leaf_nodes': 29, 'n_estimators': 14},\n",
       "  {'max_depth': 2, 'max_leaf_nodes': 29, 'n_estimators': 15},\n",
       "  {'max_depth': 2, 'max_leaf_nodes': 29, 'n_estimators': 16},\n",
       "  {'max_depth': 2, 'max_leaf_nodes': 29, 'n_estimators': 17},\n",
       "  {'max_depth': 2, 'max_leaf_nodes': 29, 'n_estimators': 18},\n",
       "  {'max_depth': 2, 'max_leaf_nodes': 29, 'n_estimators': 19},\n",
       "  {'max_depth': 2, 'max_leaf_nodes': 30, 'n_estimators': 10},\n",
       "  {'max_depth': 2, 'max_leaf_nodes': 30, 'n_estimators': 11},\n",
       "  {'max_depth': 2, 'max_leaf_nodes': 30, 'n_estimators': 12},\n",
       "  {'max_depth': 2, 'max_leaf_nodes': 30, 'n_estimators': 13},\n",
       "  {'max_depth': 2, 'max_leaf_nodes': 30, 'n_estimators': 14},\n",
       "  {'max_depth': 2, 'max_leaf_nodes': 30, 'n_estimators': 15},\n",
       "  {'max_depth': 2, 'max_leaf_nodes': 30, 'n_estimators': 16},\n",
       "  {'max_depth': 2, 'max_leaf_nodes': 30, 'n_estimators': 17},\n",
       "  {'max_depth': 2, 'max_leaf_nodes': 30, 'n_estimators': 18},\n",
       "  {'max_depth': 2, 'max_leaf_nodes': 30, 'n_estimators': 19},\n",
       "  {'max_depth': 2, 'max_leaf_nodes': 31, 'n_estimators': 10},\n",
       "  {'max_depth': 2, 'max_leaf_nodes': 31, 'n_estimators': 11},\n",
       "  {'max_depth': 2, 'max_leaf_nodes': 31, 'n_estimators': 12},\n",
       "  {'max_depth': 2, 'max_leaf_nodes': 31, 'n_estimators': 13},\n",
       "  {'max_depth': 2, 'max_leaf_nodes': 31, 'n_estimators': 14},\n",
       "  {'max_depth': 2, 'max_leaf_nodes': 31, 'n_estimators': 15},\n",
       "  {'max_depth': 2, 'max_leaf_nodes': 31, 'n_estimators': 16},\n",
       "  {'max_depth': 2, 'max_leaf_nodes': 31, 'n_estimators': 17},\n",
       "  {'max_depth': 2, 'max_leaf_nodes': 31, 'n_estimators': 18},\n",
       "  {'max_depth': 2, 'max_leaf_nodes': 31, 'n_estimators': 19},\n",
       "  {'max_depth': 2, 'max_leaf_nodes': 32, 'n_estimators': 10},\n",
       "  {'max_depth': 2, 'max_leaf_nodes': 32, 'n_estimators': 11},\n",
       "  {'max_depth': 2, 'max_leaf_nodes': 32, 'n_estimators': 12},\n",
       "  {'max_depth': 2, 'max_leaf_nodes': 32, 'n_estimators': 13},\n",
       "  {'max_depth': 2, 'max_leaf_nodes': 32, 'n_estimators': 14},\n",
       "  {'max_depth': 2, 'max_leaf_nodes': 32, 'n_estimators': 15},\n",
       "  {'max_depth': 2, 'max_leaf_nodes': 32, 'n_estimators': 16},\n",
       "  {'max_depth': 2, 'max_leaf_nodes': 32, 'n_estimators': 17},\n",
       "  {'max_depth': 2, 'max_leaf_nodes': 32, 'n_estimators': 18},\n",
       "  {'max_depth': 2, 'max_leaf_nodes': 32, 'n_estimators': 19},\n",
       "  {'max_depth': 2, 'max_leaf_nodes': 33, 'n_estimators': 10},\n",
       "  {'max_depth': 2, 'max_leaf_nodes': 33, 'n_estimators': 11},\n",
       "  {'max_depth': 2, 'max_leaf_nodes': 33, 'n_estimators': 12},\n",
       "  {'max_depth': 2, 'max_leaf_nodes': 33, 'n_estimators': 13},\n",
       "  {'max_depth': 2, 'max_leaf_nodes': 33, 'n_estimators': 14},\n",
       "  {'max_depth': 2, 'max_leaf_nodes': 33, 'n_estimators': 15},\n",
       "  {'max_depth': 2, 'max_leaf_nodes': 33, 'n_estimators': 16},\n",
       "  {'max_depth': 2, 'max_leaf_nodes': 33, 'n_estimators': 17},\n",
       "  {'max_depth': 2, 'max_leaf_nodes': 33, 'n_estimators': 18},\n",
       "  {'max_depth': 2, 'max_leaf_nodes': 33, 'n_estimators': 19},\n",
       "  {'max_depth': 2, 'max_leaf_nodes': 34, 'n_estimators': 10},\n",
       "  {'max_depth': 2, 'max_leaf_nodes': 34, 'n_estimators': 11},\n",
       "  {'max_depth': 2, 'max_leaf_nodes': 34, 'n_estimators': 12},\n",
       "  {'max_depth': 2, 'max_leaf_nodes': 34, 'n_estimators': 13},\n",
       "  {'max_depth': 2, 'max_leaf_nodes': 34, 'n_estimators': 14},\n",
       "  {'max_depth': 2, 'max_leaf_nodes': 34, 'n_estimators': 15},\n",
       "  {'max_depth': 2, 'max_leaf_nodes': 34, 'n_estimators': 16},\n",
       "  {'max_depth': 2, 'max_leaf_nodes': 34, 'n_estimators': 17},\n",
       "  {'max_depth': 2, 'max_leaf_nodes': 34, 'n_estimators': 18},\n",
       "  {'max_depth': 2, 'max_leaf_nodes': 34, 'n_estimators': 19},\n",
       "  {'max_depth': 2, 'max_leaf_nodes': 35, 'n_estimators': 10},\n",
       "  {'max_depth': 2, 'max_leaf_nodes': 35, 'n_estimators': 11},\n",
       "  {'max_depth': 2, 'max_leaf_nodes': 35, 'n_estimators': 12},\n",
       "  {'max_depth': 2, 'max_leaf_nodes': 35, 'n_estimators': 13},\n",
       "  {'max_depth': 2, 'max_leaf_nodes': 35, 'n_estimators': 14},\n",
       "  {'max_depth': 2, 'max_leaf_nodes': 35, 'n_estimators': 15},\n",
       "  {'max_depth': 2, 'max_leaf_nodes': 35, 'n_estimators': 16},\n",
       "  {'max_depth': 2, 'max_leaf_nodes': 35, 'n_estimators': 17},\n",
       "  {'max_depth': 2, 'max_leaf_nodes': 35, 'n_estimators': 18},\n",
       "  {'max_depth': 2, 'max_leaf_nodes': 35, 'n_estimators': 19},\n",
       "  {'max_depth': 2, 'max_leaf_nodes': 36, 'n_estimators': 10},\n",
       "  {'max_depth': 2, 'max_leaf_nodes': 36, 'n_estimators': 11},\n",
       "  {'max_depth': 2, 'max_leaf_nodes': 36, 'n_estimators': 12},\n",
       "  {'max_depth': 2, 'max_leaf_nodes': 36, 'n_estimators': 13},\n",
       "  {'max_depth': 2, 'max_leaf_nodes': 36, 'n_estimators': 14},\n",
       "  {'max_depth': 2, 'max_leaf_nodes': 36, 'n_estimators': 15},\n",
       "  {'max_depth': 2, 'max_leaf_nodes': 36, 'n_estimators': 16},\n",
       "  {'max_depth': 2, 'max_leaf_nodes': 36, 'n_estimators': 17},\n",
       "  {'max_depth': 2, 'max_leaf_nodes': 36, 'n_estimators': 18},\n",
       "  {'max_depth': 2, 'max_leaf_nodes': 36, 'n_estimators': 19},\n",
       "  {'max_depth': 2, 'max_leaf_nodes': 37, 'n_estimators': 10},\n",
       "  {'max_depth': 2, 'max_leaf_nodes': 37, 'n_estimators': 11},\n",
       "  {'max_depth': 2, 'max_leaf_nodes': 37, 'n_estimators': 12},\n",
       "  {'max_depth': 2, 'max_leaf_nodes': 37, 'n_estimators': 13},\n",
       "  {'max_depth': 2, 'max_leaf_nodes': 37, 'n_estimators': 14},\n",
       "  {'max_depth': 2, 'max_leaf_nodes': 37, 'n_estimators': 15},\n",
       "  {'max_depth': 2, 'max_leaf_nodes': 37, 'n_estimators': 16},\n",
       "  {'max_depth': 2, 'max_leaf_nodes': 37, 'n_estimators': 17},\n",
       "  {'max_depth': 2, 'max_leaf_nodes': 37, 'n_estimators': 18},\n",
       "  {'max_depth': 2, 'max_leaf_nodes': 37, 'n_estimators': 19},\n",
       "  {'max_depth': 2, 'max_leaf_nodes': 38, 'n_estimators': 10},\n",
       "  {'max_depth': 2, 'max_leaf_nodes': 38, 'n_estimators': 11},\n",
       "  {'max_depth': 2, 'max_leaf_nodes': 38, 'n_estimators': 12},\n",
       "  {'max_depth': 2, 'max_leaf_nodes': 38, 'n_estimators': 13},\n",
       "  {'max_depth': 2, 'max_leaf_nodes': 38, 'n_estimators': 14},\n",
       "  {'max_depth': 2, 'max_leaf_nodes': 38, 'n_estimators': 15},\n",
       "  {'max_depth': 2, 'max_leaf_nodes': 38, 'n_estimators': 16},\n",
       "  {'max_depth': 2, 'max_leaf_nodes': 38, 'n_estimators': 17},\n",
       "  {'max_depth': 2, 'max_leaf_nodes': 38, 'n_estimators': 18},\n",
       "  {'max_depth': 2, 'max_leaf_nodes': 38, 'n_estimators': 19},\n",
       "  {'max_depth': 2, 'max_leaf_nodes': 39, 'n_estimators': 10},\n",
       "  {'max_depth': 2, 'max_leaf_nodes': 39, 'n_estimators': 11},\n",
       "  {'max_depth': 2, 'max_leaf_nodes': 39, 'n_estimators': 12},\n",
       "  {'max_depth': 2, 'max_leaf_nodes': 39, 'n_estimators': 13},\n",
       "  {'max_depth': 2, 'max_leaf_nodes': 39, 'n_estimators': 14},\n",
       "  {'max_depth': 2, 'max_leaf_nodes': 39, 'n_estimators': 15},\n",
       "  {'max_depth': 2, 'max_leaf_nodes': 39, 'n_estimators': 16},\n",
       "  {'max_depth': 2, 'max_leaf_nodes': 39, 'n_estimators': 17},\n",
       "  {'max_depth': 2, 'max_leaf_nodes': 39, 'n_estimators': 18},\n",
       "  {'max_depth': 2, 'max_leaf_nodes': 39, 'n_estimators': 19},\n",
       "  {'max_depth': 2, 'max_leaf_nodes': 40, 'n_estimators': 10},\n",
       "  {'max_depth': 2, 'max_leaf_nodes': 40, 'n_estimators': 11},\n",
       "  {'max_depth': 2, 'max_leaf_nodes': 40, 'n_estimators': 12},\n",
       "  {'max_depth': 2, 'max_leaf_nodes': 40, 'n_estimators': 13},\n",
       "  {'max_depth': 2, 'max_leaf_nodes': 40, 'n_estimators': 14},\n",
       "  {'max_depth': 2, 'max_leaf_nodes': 40, 'n_estimators': 15},\n",
       "  {'max_depth': 2, 'max_leaf_nodes': 40, 'n_estimators': 16},\n",
       "  {'max_depth': 2, 'max_leaf_nodes': 40, 'n_estimators': 17},\n",
       "  {'max_depth': 2, 'max_leaf_nodes': 40, 'n_estimators': 18},\n",
       "  {'max_depth': 2, 'max_leaf_nodes': 40, 'n_estimators': 19},\n",
       "  {'max_depth': 2, 'max_leaf_nodes': 41, 'n_estimators': 10},\n",
       "  {'max_depth': 2, 'max_leaf_nodes': 41, 'n_estimators': 11},\n",
       "  {'max_depth': 2, 'max_leaf_nodes': 41, 'n_estimators': 12},\n",
       "  {'max_depth': 2, 'max_leaf_nodes': 41, 'n_estimators': 13},\n",
       "  {'max_depth': 2, 'max_leaf_nodes': 41, 'n_estimators': 14},\n",
       "  {'max_depth': 2, 'max_leaf_nodes': 41, 'n_estimators': 15},\n",
       "  {'max_depth': 2, 'max_leaf_nodes': 41, 'n_estimators': 16},\n",
       "  {'max_depth': 2, 'max_leaf_nodes': 41, 'n_estimators': 17},\n",
       "  {'max_depth': 2, 'max_leaf_nodes': 41, 'n_estimators': 18},\n",
       "  {'max_depth': 2, 'max_leaf_nodes': 41, 'n_estimators': 19},\n",
       "  {'max_depth': 2, 'max_leaf_nodes': 42, 'n_estimators': 10},\n",
       "  {'max_depth': 2, 'max_leaf_nodes': 42, 'n_estimators': 11},\n",
       "  {'max_depth': 2, 'max_leaf_nodes': 42, 'n_estimators': 12},\n",
       "  {'max_depth': 2, 'max_leaf_nodes': 42, 'n_estimators': 13},\n",
       "  {'max_depth': 2, 'max_leaf_nodes': 42, 'n_estimators': 14},\n",
       "  {'max_depth': 2, 'max_leaf_nodes': 42, 'n_estimators': 15},\n",
       "  {'max_depth': 2, 'max_leaf_nodes': 42, 'n_estimators': 16},\n",
       "  {'max_depth': 2, 'max_leaf_nodes': 42, 'n_estimators': 17},\n",
       "  {'max_depth': 2, 'max_leaf_nodes': 42, 'n_estimators': 18},\n",
       "  {'max_depth': 2, 'max_leaf_nodes': 42, 'n_estimators': 19},\n",
       "  {'max_depth': 2, 'max_leaf_nodes': 43, 'n_estimators': 10},\n",
       "  {'max_depth': 2, 'max_leaf_nodes': 43, 'n_estimators': 11},\n",
       "  {'max_depth': 2, 'max_leaf_nodes': 43, 'n_estimators': 12},\n",
       "  {'max_depth': 2, 'max_leaf_nodes': 43, 'n_estimators': 13},\n",
       "  {'max_depth': 2, 'max_leaf_nodes': 43, 'n_estimators': 14},\n",
       "  {'max_depth': 2, 'max_leaf_nodes': 43, 'n_estimators': 15},\n",
       "  {'max_depth': 2, 'max_leaf_nodes': 43, 'n_estimators': 16},\n",
       "  {'max_depth': 2, 'max_leaf_nodes': 43, 'n_estimators': 17},\n",
       "  {'max_depth': 2, 'max_leaf_nodes': 43, 'n_estimators': 18},\n",
       "  {'max_depth': 2, 'max_leaf_nodes': 43, 'n_estimators': 19},\n",
       "  {'max_depth': 2, 'max_leaf_nodes': 44, 'n_estimators': 10},\n",
       "  {'max_depth': 2, 'max_leaf_nodes': 44, 'n_estimators': 11},\n",
       "  {'max_depth': 2, 'max_leaf_nodes': 44, 'n_estimators': 12},\n",
       "  {'max_depth': 2, 'max_leaf_nodes': 44, 'n_estimators': 13},\n",
       "  {'max_depth': 2, 'max_leaf_nodes': 44, 'n_estimators': 14},\n",
       "  {'max_depth': 2, 'max_leaf_nodes': 44, 'n_estimators': 15},\n",
       "  {'max_depth': 2, 'max_leaf_nodes': 44, 'n_estimators': 16},\n",
       "  {'max_depth': 2, 'max_leaf_nodes': 44, 'n_estimators': 17},\n",
       "  {'max_depth': 2, 'max_leaf_nodes': 44, 'n_estimators': 18},\n",
       "  {'max_depth': 2, 'max_leaf_nodes': 44, 'n_estimators': 19},\n",
       "  {'max_depth': 2, 'max_leaf_nodes': 45, 'n_estimators': 10},\n",
       "  {'max_depth': 2, 'max_leaf_nodes': 45, 'n_estimators': 11},\n",
       "  {'max_depth': 2, 'max_leaf_nodes': 45, 'n_estimators': 12},\n",
       "  {'max_depth': 2, 'max_leaf_nodes': 45, 'n_estimators': 13},\n",
       "  {'max_depth': 2, 'max_leaf_nodes': 45, 'n_estimators': 14},\n",
       "  {'max_depth': 2, 'max_leaf_nodes': 45, 'n_estimators': 15},\n",
       "  {'max_depth': 2, 'max_leaf_nodes': 45, 'n_estimators': 16},\n",
       "  {'max_depth': 2, 'max_leaf_nodes': 45, 'n_estimators': 17},\n",
       "  {'max_depth': 2, 'max_leaf_nodes': 45, 'n_estimators': 18},\n",
       "  {'max_depth': 2, 'max_leaf_nodes': 45, 'n_estimators': 19},\n",
       "  {'max_depth': 2, 'max_leaf_nodes': 46, 'n_estimators': 10},\n",
       "  {'max_depth': 2, 'max_leaf_nodes': 46, 'n_estimators': 11},\n",
       "  {'max_depth': 2, 'max_leaf_nodes': 46, 'n_estimators': 12},\n",
       "  {'max_depth': 2, 'max_leaf_nodes': 46, 'n_estimators': 13},\n",
       "  {'max_depth': 2, 'max_leaf_nodes': 46, 'n_estimators': 14},\n",
       "  {'max_depth': 2, 'max_leaf_nodes': 46, 'n_estimators': 15},\n",
       "  {'max_depth': 2, 'max_leaf_nodes': 46, 'n_estimators': 16},\n",
       "  {'max_depth': 2, 'max_leaf_nodes': 46, 'n_estimators': 17},\n",
       "  {'max_depth': 2, 'max_leaf_nodes': 46, 'n_estimators': 18},\n",
       "  {'max_depth': 2, 'max_leaf_nodes': 46, 'n_estimators': 19},\n",
       "  {'max_depth': 2, 'max_leaf_nodes': 47, 'n_estimators': 10},\n",
       "  {'max_depth': 2, 'max_leaf_nodes': 47, 'n_estimators': 11},\n",
       "  {'max_depth': 2, 'max_leaf_nodes': 47, 'n_estimators': 12},\n",
       "  {'max_depth': 2, 'max_leaf_nodes': 47, 'n_estimators': 13},\n",
       "  {'max_depth': 2, 'max_leaf_nodes': 47, 'n_estimators': 14},\n",
       "  {'max_depth': 2, 'max_leaf_nodes': 47, 'n_estimators': 15},\n",
       "  {'max_depth': 2, 'max_leaf_nodes': 47, 'n_estimators': 16},\n",
       "  {'max_depth': 2, 'max_leaf_nodes': 47, 'n_estimators': 17},\n",
       "  {'max_depth': 2, 'max_leaf_nodes': 47, 'n_estimators': 18},\n",
       "  {'max_depth': 2, 'max_leaf_nodes': 47, 'n_estimators': 19},\n",
       "  {'max_depth': 2, 'max_leaf_nodes': 48, 'n_estimators': 10},\n",
       "  {'max_depth': 2, 'max_leaf_nodes': 48, 'n_estimators': 11},\n",
       "  {'max_depth': 2, 'max_leaf_nodes': 48, 'n_estimators': 12},\n",
       "  {'max_depth': 2, 'max_leaf_nodes': 48, 'n_estimators': 13},\n",
       "  {'max_depth': 2, 'max_leaf_nodes': 48, 'n_estimators': 14},\n",
       "  {'max_depth': 2, 'max_leaf_nodes': 48, 'n_estimators': 15},\n",
       "  {'max_depth': 2, 'max_leaf_nodes': 48, 'n_estimators': 16},\n",
       "  {'max_depth': 2, 'max_leaf_nodes': 48, 'n_estimators': 17},\n",
       "  {'max_depth': 2, 'max_leaf_nodes': 48, 'n_estimators': 18},\n",
       "  {'max_depth': 2, 'max_leaf_nodes': 48, 'n_estimators': 19},\n",
       "  {'max_depth': 2, 'max_leaf_nodes': 49, 'n_estimators': 10},\n",
       "  {'max_depth': 2, 'max_leaf_nodes': 49, 'n_estimators': 11},\n",
       "  {'max_depth': 2, 'max_leaf_nodes': 49, 'n_estimators': 12},\n",
       "  {'max_depth': 2, 'max_leaf_nodes': 49, 'n_estimators': 13},\n",
       "  {'max_depth': 2, 'max_leaf_nodes': 49, 'n_estimators': 14},\n",
       "  {'max_depth': 2, 'max_leaf_nodes': 49, 'n_estimators': 15},\n",
       "  {'max_depth': 2, 'max_leaf_nodes': 49, 'n_estimators': 16},\n",
       "  {'max_depth': 2, 'max_leaf_nodes': 49, 'n_estimators': 17},\n",
       "  {'max_depth': 2, 'max_leaf_nodes': 49, 'n_estimators': 18},\n",
       "  {'max_depth': 2, 'max_leaf_nodes': 49, 'n_estimators': 19},\n",
       "  {'max_depth': 3, 'max_leaf_nodes': 2, 'n_estimators': 10},\n",
       "  {'max_depth': 3, 'max_leaf_nodes': 2, 'n_estimators': 11},\n",
       "  {'max_depth': 3, 'max_leaf_nodes': 2, 'n_estimators': 12},\n",
       "  {'max_depth': 3, 'max_leaf_nodes': 2, 'n_estimators': 13},\n",
       "  {'max_depth': 3, 'max_leaf_nodes': 2, 'n_estimators': 14},\n",
       "  {'max_depth': 3, 'max_leaf_nodes': 2, 'n_estimators': 15},\n",
       "  {'max_depth': 3, 'max_leaf_nodes': 2, 'n_estimators': 16},\n",
       "  {'max_depth': 3, 'max_leaf_nodes': 2, 'n_estimators': 17},\n",
       "  {'max_depth': 3, 'max_leaf_nodes': 2, 'n_estimators': 18},\n",
       "  {'max_depth': 3, 'max_leaf_nodes': 2, 'n_estimators': 19},\n",
       "  {'max_depth': 3, 'max_leaf_nodes': 3, 'n_estimators': 10},\n",
       "  {'max_depth': 3, 'max_leaf_nodes': 3, 'n_estimators': 11},\n",
       "  {'max_depth': 3, 'max_leaf_nodes': 3, 'n_estimators': 12},\n",
       "  {'max_depth': 3, 'max_leaf_nodes': 3, 'n_estimators': 13},\n",
       "  {'max_depth': 3, 'max_leaf_nodes': 3, 'n_estimators': 14},\n",
       "  {'max_depth': 3, 'max_leaf_nodes': 3, 'n_estimators': 15},\n",
       "  {'max_depth': 3, 'max_leaf_nodes': 3, 'n_estimators': 16},\n",
       "  {'max_depth': 3, 'max_leaf_nodes': 3, 'n_estimators': 17},\n",
       "  {'max_depth': 3, 'max_leaf_nodes': 3, 'n_estimators': 18},\n",
       "  {'max_depth': 3, 'max_leaf_nodes': 3, 'n_estimators': 19},\n",
       "  {'max_depth': 3, 'max_leaf_nodes': 4, 'n_estimators': 10},\n",
       "  {'max_depth': 3, 'max_leaf_nodes': 4, 'n_estimators': 11},\n",
       "  {'max_depth': 3, 'max_leaf_nodes': 4, 'n_estimators': 12},\n",
       "  {'max_depth': 3, 'max_leaf_nodes': 4, 'n_estimators': 13},\n",
       "  {'max_depth': 3, 'max_leaf_nodes': 4, 'n_estimators': 14},\n",
       "  {'max_depth': 3, 'max_leaf_nodes': 4, 'n_estimators': 15},\n",
       "  {'max_depth': 3, 'max_leaf_nodes': 4, 'n_estimators': 16},\n",
       "  {'max_depth': 3, 'max_leaf_nodes': 4, 'n_estimators': 17},\n",
       "  {'max_depth': 3, 'max_leaf_nodes': 4, 'n_estimators': 18},\n",
       "  {'max_depth': 3, 'max_leaf_nodes': 4, 'n_estimators': 19},\n",
       "  {'max_depth': 3, 'max_leaf_nodes': 5, 'n_estimators': 10},\n",
       "  {'max_depth': 3, 'max_leaf_nodes': 5, 'n_estimators': 11},\n",
       "  {'max_depth': 3, 'max_leaf_nodes': 5, 'n_estimators': 12},\n",
       "  {'max_depth': 3, 'max_leaf_nodes': 5, 'n_estimators': 13},\n",
       "  {'max_depth': 3, 'max_leaf_nodes': 5, 'n_estimators': 14},\n",
       "  {'max_depth': 3, 'max_leaf_nodes': 5, 'n_estimators': 15},\n",
       "  {'max_depth': 3, 'max_leaf_nodes': 5, 'n_estimators': 16},\n",
       "  {'max_depth': 3, 'max_leaf_nodes': 5, 'n_estimators': 17},\n",
       "  {'max_depth': 3, 'max_leaf_nodes': 5, 'n_estimators': 18},\n",
       "  {'max_depth': 3, 'max_leaf_nodes': 5, 'n_estimators': 19},\n",
       "  ...],\n",
       " 'split0_test_AUC': array([0.68509426, 0.68260787, 0.68553489, ..., 0.76779026, 0.77150411,\n",
       "        0.77214931]),\n",
       " 'split1_test_AUC': array([0.65660574, 0.65534088, 0.65660574, ..., 0.74620541, 0.74783392,\n",
       "        0.75670377]),\n",
       " 'split2_test_AUC': array([0.68092272, 0.68041677, 0.68098596, ..., 0.81065014, 0.80930622,\n",
       "        0.80952757]),\n",
       " 'split3_test_AUC': array([0.69993017, 0.69977147, 0.69937472, ..., 0.81249603, 0.81046467,\n",
       "        0.80952834]),\n",
       " 'split4_test_AUC': array([0.72149749, 0.72140227, 0.72171967, ..., 0.78446962, 0.78872278,\n",
       "        0.78919888]),\n",
       " 'mean_test_AUC': array([0.68881008, 0.68790785, 0.6888442 , ..., 0.78432229, 0.78556634,\n",
       "        0.78742158]),\n",
       " 'std_test_AUC': array([0.02147212, 0.02194281, 0.0214649 , ..., 0.02535011, 0.02372743,\n",
       "        0.02077195]),\n",
       " 'rank_test_AUC': array([1819, 1870, 1768, ...,  129,   46,    4], dtype=int32),\n",
       " 'split0_train_AUC': array([0.68960973, 0.68872268, 0.68948796, ..., 0.8231645 , 0.82385455,\n",
       "        0.82410898]),\n",
       " 'split1_train_AUC': array([0.70689348, 0.70563369, 0.70688557, ..., 0.82354832, 0.82789926,\n",
       "        0.83083319]),\n",
       " 'split2_train_AUC': array([0.690882  , 0.69077916, 0.69060116, ..., 0.81903717, 0.81889379,\n",
       "        0.81872569]),\n",
       " 'split3_train_AUC': array([0.68864674, 0.68946178, 0.69175179, ..., 0.81399597, 0.81633933,\n",
       "        0.81626129]),\n",
       " 'split4_train_AUC': array([0.72725593, 0.72722037, 0.72729644, ..., 0.8174221 , 0.82100136,\n",
       "        0.82055877]),\n",
       " 'mean_train_AUC': array([0.70065758, 0.70036353, 0.70120459, ..., 0.81943361, 0.82159766,\n",
       "        0.82209758]),\n",
       " 'std_train_AUC': array([0.01488782, 0.01480056, 0.01450604, ..., 0.00359504, 0.004003  ,\n",
       "        0.00506274]),\n",
       " 'split0_test_Accuracy': array([0.76943005, 0.74093264, 0.77202073, ..., 0.78238342, 0.77979275,\n",
       "        0.78497409]),\n",
       " 'split1_test_Accuracy': array([0.75388601, 0.73056995, 0.75388601, ..., 0.78497409, 0.78756477,\n",
       "        0.78497409]),\n",
       " 'split2_test_Accuracy': array([0.73316062, 0.76943005, 0.73316062, ..., 0.79533679, 0.79533679,\n",
       "        0.79792746]),\n",
       " 'split3_test_Accuracy': array([0.79220779, 0.74805195, 0.79220779, ..., 0.80779221, 0.81038961,\n",
       "        0.80779221]),\n",
       " 'split4_test_Accuracy': array([0.77142857, 0.76623377, 0.77142857, ..., 0.7974026 , 0.7974026 ,\n",
       "        0.7974026 ]),\n",
       " 'mean_test_Accuracy': array([0.76402261, 0.75104367, 0.76454074, ..., 0.79357782, 0.7940973 ,\n",
       "        0.79461409]),\n",
       " 'std_test_Accuracy': array([0.01966574, 0.0148267 , 0.01983478, ..., 0.00915544, 0.01024885,\n",
       "        0.008698  ]),\n",
       " 'rank_test_Accuracy': array([1462, 1564, 1411, ...,  175,  134,   18], dtype=int32),\n",
       " 'split0_train_Accuracy': array([0.77496757, 0.75226978, 0.77237354, ..., 0.8080415 , 0.807393  ,\n",
       "        0.807393  ]),\n",
       " 'split1_train_Accuracy': array([0.77821012, 0.75032425, 0.77821012, ..., 0.81647211, 0.8151751 ,\n",
       "        0.81582361]),\n",
       " 'split2_train_Accuracy': array([0.74837873, 0.77431907, 0.74837873, ..., 0.8080415 , 0.80933852,\n",
       "        0.80933852]),\n",
       " 'split3_train_Accuracy': array([0.77122489, 0.74530136, 0.77122489, ..., 0.80622165, 0.80751782,\n",
       "        0.80622165]),\n",
       " 'split4_train_Accuracy': array([0.75372651, 0.75437459, 0.75437459, ..., 0.81075826, 0.81075826,\n",
       "        0.81335062]),\n",
       " 'mean_train_Accuracy': array([0.76530156, 0.75531781, 0.76491237, ..., 0.80990701, 0.81003654,\n",
       "        0.81042548]),\n",
       " 'std_train_Accuracy': array([0.01196255, 0.00996487, 0.01146083, ..., 0.00358796, 0.00285465,\n",
       "        0.00362618])}"
      ]
     },
     "execution_count": 33,
     "metadata": {},
     "output_type": "execute_result"
    }
   ],
   "source": [
    "results"
   ]
  },
  {
   "cell_type": "markdown",
   "id": "615ae139",
   "metadata": {},
   "source": [
    "The scores of all the scorers are available in the cv_results_ dict at keys ending in '_<scorer_name>' ('mean_test_accuracy', 'rank_test_accuracy')."
   ]
  },
  {
   "cell_type": "code",
   "execution_count": 34,
   "id": "aaa570ce",
   "metadata": {},
   "outputs": [],
   "source": [
    "best_index_acc = np.nonzero(results[\"rank_test_%s\" % 'Accuracy'] == 1)[0][0]\n",
    "best_score_acc = results[\"mean_test_%s\" % 'Accuracy'][best_index_acc]"
   ]
  },
  {
   "cell_type": "markdown",
   "id": "e1445434",
   "metadata": {},
   "source": [
    "We can also check the `best_score_` and the `best_params_` values of the `gs` estimator:"
   ]
  },
  {
   "cell_type": "code",
   "execution_count": 35,
   "id": "174bf3e8",
   "metadata": {},
   "outputs": [],
   "source": [
    "best_score = gs.best_score_\n",
    "best_params = gs.best_params_"
   ]
  },
  {
   "cell_type": "markdown",
   "id": "13beb6af",
   "metadata": {},
   "source": [
    "Let's take a look at all these values:"
   ]
  },
  {
   "cell_type": "code",
   "execution_count": 36,
   "id": "81a72ba8",
   "metadata": {},
   "outputs": [
    {
     "data": {
      "text/plain": [
       "(1534, 0.7961725321310814)"
      ]
     },
     "execution_count": 36,
     "metadata": {},
     "output_type": "execute_result"
    }
   ],
   "source": [
    "best_index_acc, best_score_acc"
   ]
  },
  {
   "cell_type": "code",
   "execution_count": 37,
   "id": "f21076a2",
   "metadata": {},
   "outputs": [
    {
     "data": {
      "text/plain": [
       "(0.7874561465297056,\n",
       " {'max_depth': 4, 'max_leaf_nodes': 12, 'n_estimators': 19})"
      ]
     },
     "execution_count": 37,
     "metadata": {},
     "output_type": "execute_result"
    }
   ],
   "source": [
    "best_score, best_params"
   ]
  },
  {
   "cell_type": "markdown",
   "id": "60bd7cd5",
   "metadata": {},
   "source": [
    "Interestingly, the `best_score_` is worse than the `best_score_acc`."
   ]
  },
  {
   "cell_type": "markdown",
   "id": "b83288f7",
   "metadata": {},
   "source": [
    "The set of hyperparameters values corresponding to  the best accuracy score:"
   ]
  },
  {
   "cell_type": "code",
   "execution_count": 38,
   "id": "964ffcb9",
   "metadata": {},
   "outputs": [
    {
     "data": {
      "text/plain": [
       "{'max_depth': 4, 'max_leaf_nodes': 11, 'n_estimators': 14}"
      ]
     },
     "execution_count": 38,
     "metadata": {},
     "output_type": "execute_result"
    }
   ],
   "source": [
    "results['params'][best_index_acc]"
   ]
  },
  {
   "cell_type": "markdown",
   "id": "934abdde",
   "metadata": {},
   "source": [
    "Let's show that the `best_score_auc` actually is the `best_score` when using `refit = \"AUC\"` for runnign the estimator."
   ]
  },
  {
   "cell_type": "code",
   "execution_count": 39,
   "id": "d15d7b1a",
   "metadata": {},
   "outputs": [],
   "source": [
    "best_index_auc = np.nonzero(results[\"rank_test_%s\" % 'AUC'] == 1)[0][0]\n",
    "best_score_auc = results[\"mean_test_%s\" % 'AUC'][best_index_auc]"
   ]
  },
  {
   "cell_type": "code",
   "execution_count": 40,
   "id": "cbcf2aab",
   "metadata": {},
   "outputs": [
    {
     "data": {
      "text/plain": [
       "(1549, 0.7874561465297056)"
      ]
     },
     "execution_count": 40,
     "metadata": {},
     "output_type": "execute_result"
    }
   ],
   "source": [
    "best_index_auc, best_score_auc"
   ]
  },
  {
   "cell_type": "code",
   "execution_count": 41,
   "id": "49ae48a3",
   "metadata": {},
   "outputs": [
    {
     "data": {
      "text/plain": [
       "{'max_depth': 4, 'max_leaf_nodes': 12, 'n_estimators': 19}"
      ]
     },
     "execution_count": 41,
     "metadata": {},
     "output_type": "execute_result"
    }
   ],
   "source": [
    "results['params'][best_index_auc]"
   ]
  },
  {
   "cell_type": "markdown",
   "id": "f1dc56cb",
   "metadata": {},
   "source": [
    "It actually is:) The `best_score_auc` is actually the `best_score_` when using `refit = \"AUC\"`, and actually, it shows, that refit parameter should be chosen carefully [whenever there are considerations other than maximum score in choosing a best estimator](https://scikit-learn.org/stable/modules/generated/sklearn.model_selection.GridSearchCV.html)."
   ]
  },
  {
   "cell_type": "markdown",
   "id": "ed759f7a",
   "metadata": {},
   "source": [
    "Obviously, we have not achieved the best result, but let's see what the final score is, if we employ these three hyperparameters for the `best_score_acc` and the `best_score_`:"
   ]
  },
  {
   "cell_type": "code",
   "execution_count": 42,
   "id": "31930005",
   "metadata": {},
   "outputs": [
    {
     "name": "stdout",
     "output_type": "stream",
     "text": [
      "Accuracy of the final model on the validation set: 0.8164852255054432\n"
     ]
    }
   ],
   "source": [
    "final_model = RandomForestClassifier(random_state=54321,\n",
    "                                     n_estimators = 14,\n",
    "                                     max_depth = 4, \n",
    "                                     max_leaf_nodes = 11,\n",
    "                                    ) \n",
    "final_model.fit(X_train, y_train)\n",
    "score = final_model.score(X_val, y_val)\n",
    "print(f\"Accuracy of the final model on the validation set: {score}\")"
   ]
  },
  {
   "cell_type": "code",
   "execution_count": 43,
   "id": "35e36e52",
   "metadata": {},
   "outputs": [
    {
     "name": "stdout",
     "output_type": "stream",
     "text": [
      "Accuracy of the final model on the validation set: 0.8211508553654744\n"
     ]
    }
   ],
   "source": [
    "final_model = RandomForestClassifier(random_state=54321,\n",
    "                                     n_estimators = 19,\n",
    "                                     max_depth = 4, \n",
    "                                     max_leaf_nodes = 12,\n",
    "                                    ) \n",
    "final_model.fit(X_train, y_train)\n",
    "score = final_model.score(X_val, y_val)\n",
    "print(f\"Accuracy of the final model on the validation set: {score}\")"
   ]
  },
  {
   "cell_type": "markdown",
   "id": "e7a386e3",
   "metadata": {},
   "source": [
    "Actually, both cases perform better than all the \"individually best\" hyperparameters values applied alltogether, but not nuch higher than the initial score of the random forest model (0.7947)."
   ]
  },
  {
   "cell_type": "markdown",
   "id": "0238685b",
   "metadata": {},
   "source": [
    "Let's try another estimator: "
   ]
  },
  {
   "cell_type": "code",
   "execution_count": 44,
   "id": "826d263b",
   "metadata": {},
   "outputs": [],
   "source": [
    "from sklearn.model_selection import RandomizedSearchCV"
   ]
  },
  {
   "cell_type": "markdown",
   "id": "001ca850",
   "metadata": {},
   "source": [
    "Unlike grid search, randomized search is much more faster resulting in cost-effective (computationally less intensive) and time-effective (faster – less computational time) model training [link](https://jmlr.csail.mit.edu/papers/volume13/bergstra12a/bergstra12a.pdf). "
   ]
  },
  {
   "cell_type": "code",
   "execution_count": 45,
   "id": "0bc3ba4a",
   "metadata": {},
   "outputs": [
    {
     "data": {
      "text/plain": [
       "RandomizedSearchCV(estimator=RandomForestClassifier(random_state=54321),\n",
       "                   n_iter=50,\n",
       "                   param_distributions={'bootstrap': [True, False],\n",
       "                                        'criterion': ['gini', 'entropy'],\n",
       "                                        'max_depth': range(2, 5),\n",
       "                                        'max_features': ['sqrt', 'log2', None],\n",
       "                                        'max_leaf_nodes': <scipy.stats._distn_infrastructure.rv_frozen object at 0x7fcbcd21c250>,\n",
       "                                        'min_samples_leaf': <scipy.stats._distn_infrastructure.rv_frozen object at 0x7fcbcd26f0d0>,\n",
       "                                        'min_samples_split': <scipy.stats._distn_infrastructure.rv_frozen object at 0x7fcbcd27ddc0>,\n",
       "                                        'n_estimators': <scipy.stats._distn_infrastructure.rv_frozen object at 0x7fcbcd2595b0>},\n",
       "                   scoring='accuracy')"
      ]
     },
     "execution_count": 45,
     "metadata": {},
     "output_type": "execute_result"
    }
   ],
   "source": [
    "from scipy.stats import randint as sp_randint  # for initializing random integer values\n",
    "\n",
    "rs = RandomizedSearchCV(\n",
    "    RandomForestClassifier(random_state=54321),\n",
    "    param_distributions = {\"max_depth\": range(2,5),\n",
    "              \"min_samples_split\": sp_randint(2, 50),\n",
    "              \"min_samples_leaf\": sp_randint(2, 30),\n",
    "              \"max_leaf_nodes\": sp_randint(2,50),\n",
    "              \"bootstrap\": [True, False],\n",
    "              \"n_estimators\": sp_randint(0,100),\n",
    "              \"criterion\" : [\"gini\", \"entropy\"],\n",
    "              'max_features': ['sqrt', 'log2', None]\n",
    "             },\n",
    "    scoring='accuracy',\n",
    "    n_iter=50,\n",
    "    # refit=True by default\n",
    "    # return_train_score=False by default, to save the computing resources\n",
    ")\n",
    "rs.fit(X_train, y_train)"
   ]
  },
  {
   "cell_type": "markdown",
   "id": "5a48bc77",
   "metadata": {},
   "source": [
    "Let's take a look at `best_score_` and `best_params_` attributes of the `rs` estimator:"
   ]
  },
  {
   "cell_type": "code",
   "execution_count": 46,
   "id": "f990b0aa",
   "metadata": {
    "scrolled": false
   },
   "outputs": [
    {
     "data": {
      "text/plain": [
       "0.7946154363770944"
      ]
     },
     "execution_count": 46,
     "metadata": {},
     "output_type": "execute_result"
    }
   ],
   "source": [
    "rs.best_score_"
   ]
  },
  {
   "cell_type": "code",
   "execution_count": 47,
   "id": "1222aa59",
   "metadata": {},
   "outputs": [
    {
     "data": {
      "text/plain": [
       "{'bootstrap': True,\n",
       " 'criterion': 'gini',\n",
       " 'max_depth': 4,\n",
       " 'max_features': 'log2',\n",
       " 'max_leaf_nodes': 12,\n",
       " 'min_samples_leaf': 2,\n",
       " 'min_samples_split': 39,\n",
       " 'n_estimators': 80}"
      ]
     },
     "execution_count": 47,
     "metadata": {},
     "output_type": "execute_result"
    }
   ],
   "source": [
    "rs.best_params_"
   ]
  },
  {
   "cell_type": "markdown",
   "id": "40ad245c",
   "metadata": {},
   "source": [
    "It looks like this was not the best run. Let's focus the parameter distributions and apply more iterations..."
   ]
  },
  {
   "cell_type": "code",
   "execution_count": 48,
   "id": "610be30f",
   "metadata": {},
   "outputs": [
    {
     "data": {
      "text/plain": [
       "RandomizedSearchCV(estimator=RandomForestClassifier(random_state=54321),\n",
       "                   n_iter=300,\n",
       "                   param_distributions={'bootstrap': [True, False],\n",
       "                                        'max_depth': [3, 4],\n",
       "                                        'max_leaf_nodes': <scipy.stats._distn_infrastructure.rv_frozen object at 0x7fcbcd21c5b0>,\n",
       "                                        'min_samples_leaf': <scipy.stats._distn_infrastructure.rv_frozen object at 0x7fcbcd259400>,\n",
       "                                        'min_samples_split': <scipy.stats._distn_infrastructure.rv_frozen object at 0x7fcbcd26f880>,\n",
       "                                        'n_estimators': [10, 20, 30, 40, 50]},\n",
       "                   scoring='accuracy')"
      ]
     },
     "execution_count": 48,
     "metadata": {},
     "output_type": "execute_result"
    }
   ],
   "source": [
    "rs = RandomizedSearchCV(\n",
    "    RandomForestClassifier(random_state=54321),\n",
    "    param_distributions = {\"max_depth\": [3,4],\n",
    "              \"min_samples_split\": sp_randint(2, 20),\n",
    "              \"min_samples_leaf\": sp_randint(2, 20),\n",
    "              \"max_leaf_nodes\": sp_randint(2,20),\n",
    "              \"bootstrap\": [True, False],\n",
    "              \"n_estimators\": [10,20,30,40,50]\n",
    "             },\n",
    "    scoring='accuracy',\n",
    "    n_iter=300,\n",
    "    # refit=True by default\n",
    "    # return_train_score=False by default, to save the computing resources\n",
    ")\n",
    "rs.fit(X_train, y_train)"
   ]
  },
  {
   "cell_type": "code",
   "execution_count": 49,
   "id": "82978a19",
   "metadata": {},
   "outputs": [
    {
     "data": {
      "text/plain": [
       "0.7956543974160555"
      ]
     },
     "execution_count": 49,
     "metadata": {},
     "output_type": "execute_result"
    }
   ],
   "source": [
    "rs.best_score_"
   ]
  },
  {
   "cell_type": "code",
   "execution_count": 50,
   "id": "eaae5523",
   "metadata": {},
   "outputs": [
    {
     "data": {
      "text/plain": [
       "{'bootstrap': True,\n",
       " 'max_depth': 4,\n",
       " 'max_leaf_nodes': 10,\n",
       " 'min_samples_leaf': 4,\n",
       " 'min_samples_split': 6,\n",
       " 'n_estimators': 40}"
      ]
     },
     "execution_count": 50,
     "metadata": {},
     "output_type": "execute_result"
    }
   ],
   "source": [
    "rs.best_params_"
   ]
  },
  {
   "cell_type": "markdown",
   "id": "d9f6651e",
   "metadata": {},
   "source": [
    "No meaningful improvement achieved, at least the score became no worse than that of the initial random forest model."
   ]
  },
  {
   "cell_type": "markdown",
   "id": "096c9d7b",
   "metadata": {},
   "source": [
    "[Back to Content](#content)"
   ]
  },
  {
   "cell_type": "markdown",
   "id": "0b2cfd16",
   "metadata": {},
   "source": [
    "#### Comparing the model performance on the validation set"
   ]
  },
  {
   "cell_type": "markdown",
   "id": "b462d193",
   "metadata": {},
   "source": [
    "Let's sum up and compare five random forest models."
   ]
  },
  {
   "cell_type": "code",
   "execution_count": 51,
   "id": "6b38c4ac",
   "metadata": {},
   "outputs": [
    {
     "name": "stdout",
     "output_type": "stream",
     "text": [
      "Accuracy of the final model on the test set: 0.8102643856920684\n"
     ]
    }
   ],
   "source": [
    "final_model_0 = RandomForestClassifier(random_state=54321, #independent optimization of all hyperparameters\n",
    "                                     n_estimators = 17,\n",
    "                                     max_depth = 4, \n",
    "                                     min_samples_split = 4,\n",
    "                                     min_samples_leaf = 1,\n",
    "                                     max_leaf_nodes = 23,\n",
    "                                     max_samples = 210,\n",
    "                                     criterion = 'entropy'\n",
    "                                    )\n",
    "final_model_0.fit(X_train, y_train)\n",
    "score = final_model_0.score(X_val, y_val)\n",
    "print(f\"Accuracy of the final model on the test set: {score}\")"
   ]
  },
  {
   "cell_type": "code",
   "execution_count": 52,
   "id": "7ffab440",
   "metadata": {},
   "outputs": [
    {
     "name": "stdout",
     "output_type": "stream",
     "text": [
      "Accuracy of the final model on the test set: 0.8164852255054432\n"
     ]
    }
   ],
   "source": [
    "final_model_1 = RandomForestClassifier(random_state=54321, # grid search with best accuracy\n",
    "                                     n_estimators = 14,\n",
    "                                     max_depth = 4, \n",
    "                                     max_leaf_nodes = 11,\n",
    "                                    ) \n",
    "final_model_1.fit(X_train, y_train)\n",
    "score = final_model_1.score(X_val, y_val)\n",
    "print(f\"Accuracy of the final model on the test set: {score}\")"
   ]
  },
  {
   "cell_type": "code",
   "execution_count": 53,
   "id": "52f52175",
   "metadata": {},
   "outputs": [
    {
     "name": "stdout",
     "output_type": "stream",
     "text": [
      "Accuracy of the final model on the test set: 0.8211508553654744\n"
     ]
    }
   ],
   "source": [
    "final_model_2 = RandomForestClassifier(random_state=54321, # grid search with best AUC\n",
    "                                     n_estimators = 19,\n",
    "                                     max_depth = 4, \n",
    "                                     max_leaf_nodes = 12,\n",
    "                                    ) \n",
    "final_model_2.fit(X_train, y_train)\n",
    "score = final_model_2.score(X_val, y_val)\n",
    "print(f\"Accuracy of the final model on the test set: {score}\")"
   ]
  },
  {
   "cell_type": "code",
   "execution_count": 54,
   "id": "71db3a0c",
   "metadata": {},
   "outputs": [
    {
     "name": "stdout",
     "output_type": "stream",
     "text": [
      "Accuracy of the final model on the test set: 0.8180404354587869\n"
     ]
    }
   ],
   "source": [
    "final_model_3 = RandomForestClassifier(random_state=54321, # random search\n",
    "                                     n_estimators = 10,\n",
    "                                     max_depth = 4, \n",
    "                                     max_leaf_nodes = 10,\n",
    "                                     min_samples_leaf = 2,\n",
    "                                     min_samples_split = 14,\n",
    "                                    ) \n",
    "final_model_3.fit(X_train, y_train)\n",
    "score = final_model_3.score(X_val, y_val)\n",
    "print(f\"Accuracy of the final model on the test set: {score}\")"
   ]
  },
  {
   "cell_type": "code",
   "execution_count": 55,
   "id": "20ba3c82",
   "metadata": {},
   "outputs": [
    {
     "name": "stdout",
     "output_type": "stream",
     "text": [
      "Accuracy of the final model on the test set: 0.8320373250388803\n"
     ]
    }
   ],
   "source": [
    "final_model_4 = RandomForestClassifier(random_state=54321, # unique hyperparameter optimization\n",
    "                                     max_samples = 210,\n",
    "                                    ) \n",
    "final_model_4.fit(X_train, y_train)\n",
    "score = final_model_4.score(X_val, y_val)\n",
    "print(f\"Accuracy of the final model on the test set: {score}\")"
   ]
  },
  {
   "cell_type": "markdown",
   "id": "fd1c1faf",
   "metadata": {},
   "source": [
    "Actually, the last one shows the best result."
   ]
  },
  {
   "cell_type": "markdown",
   "id": "1ea4f5f0",
   "metadata": {},
   "source": [
    "Let's compare the final Logistic Regression model and the Random Forest Clissifier on the test subset:"
   ]
  },
  {
   "cell_type": "code",
   "execution_count": 56,
   "id": "69818acc",
   "metadata": {},
   "outputs": [],
   "source": [
    "# choose finalmodel\n",
    "models = [LogisticRegression(random_state = 54321),\n",
    "          RandomForestClassifier(random_state=54321, max_samples=210)\n",
    "         ]"
   ]
  },
  {
   "cell_type": "code",
   "execution_count": 57,
   "id": "0da48074",
   "metadata": {},
   "outputs": [
    {
     "name": "stdout",
     "output_type": "stream",
     "text": [
      "Model 0: LogisticRegression(random_state=54321)\n",
      "[-0.01071696] [[-1.77046025e-02  2.07214709e-03  4.86316874e-03 -3.00027398e-05]]\n",
      "Accuracy:0.6998\n",
      "Precision:0.70 Recall:0.04\n",
      "ROC_AUC: 0.46\n",
      "\n",
      "Model 1: RandomForestClassifier(max_samples=210, random_state=54321)\n",
      "Accuracy:0.8134\n",
      "Precision:0.77 Recall:0.56\n",
      "ROC_AUC: 0.83\n",
      "\n"
     ]
    }
   ],
   "source": [
    "# apply make_prediction_thre() function to Logistic Regression, use the initial version for the Random Forest Classifier\n",
    "for i in range(len(models)):\n",
    "    print(f\"Model {i}: {models[i]}\")\n",
    "    if i < len(models)-1:\n",
    "        # print coefficients for regression models\n",
    "        make_prediction(models[i], X_train, y_train, X_test, y_test, log_regression = True)\n",
    "    else:\n",
    "        make_prediction(models[i], X_train, y_train, X_test, y_test)"
   ]
  },
  {
   "cell_type": "markdown",
   "id": "b264b7e4",
   "metadata": {},
   "source": [
    "The Random Forest algorithm with `max_samples` hyperparameter vaue of 210 resulted in the best result (though it can be tricky to explain the reasons to the business). For a real business task of this kind futher search for a model with better performance should be considered given the potential improvement of the financial results from prediction of right plan."
   ]
  },
  {
   "cell_type": "markdown",
   "id": "7c9a2047",
   "metadata": {},
   "source": [
    "[Back to Content](#content)"
   ]
  },
  {
   "cell_type": "markdown",
   "id": "5e7ddb69",
   "metadata": {},
   "source": [
    "### Sanity check"
   ]
  },
  {
   "cell_type": "markdown",
   "id": "1a321655",
   "metadata": {},
   "source": [
    "Let's think whether our best model preforms better than a random one. Consider three cases:\n",
    "\n",
    "(a) Let's assume we have a random model which predict `1` or `0` with equal probability. It will assign `1` to a half of the cases, in which `0` would be correct and in a half of the cases in which assigning `1` would be actually correct. Thus, we would result in 50% of cases being assigned `1` and accuracy of 0.5 (the precision of such a model would be also 0.5, since only half of the prediction would be also correct answers).\n",
    "\n",
    "(b) If we assume that our random model assignes `1` in 30% of cases (according to the proportion in the source dataset), it would assign `1` in 30% of cases which should have been `0` or `1`, meaning that 0.7 of the 70% of `0` would be correctly assigned to class `0` and 0.3 of 30% of `1` would be correctly assigned to class `1`, i.e. the accuracy of such a model would be 0.49 + 0.09 = 0.55.\n",
    "\n",
    "(c) Another option can be suggested: if the model always says `0`, it will be correct in 70% of cases."
   ]
  },
  {
   "cell_type": "markdown",
   "id": "7507b203",
   "metadata": {},
   "source": [
    "To check our speculations and create a more sound baseline, we will employ the [`DummyClassifier()`](https://scikit-learn.org/stable/modules/generated/sklearn.dummy.DummyClassifier.html). The specific behavior of the classifier is selected with the strategy parameter."
   ]
  },
  {
   "cell_type": "code",
   "execution_count": 58,
   "id": "5459f03e",
   "metadata": {},
   "outputs": [],
   "source": [
    "from sklearn.dummy import DummyClassifier"
   ]
  },
  {
   "cell_type": "code",
   "execution_count": 59,
   "id": "9c9f0990",
   "metadata": {},
   "outputs": [
    {
     "data": {
      "text/plain": [
       "0.5163297045101088"
      ]
     },
     "execution_count": 59,
     "metadata": {},
     "output_type": "execute_result"
    }
   ],
   "source": [
    "# ~case (a)\n",
    "dummy_clf = DummyClassifier(strategy=\"uniform\", random_state = 54321) # use random_state to make the results comparable\n",
    "dummy_clf.fit(X_train, y_train)\n",
    "\n",
    "dummy_clf.score(X_test, y_test)"
   ]
  },
  {
   "cell_type": "code",
   "execution_count": 60,
   "id": "e1442df4",
   "metadata": {},
   "outputs": [
    {
     "data": {
      "text/plain": [
       "0.5723172628304821"
      ]
     },
     "execution_count": 60,
     "metadata": {},
     "output_type": "execute_result"
    }
   ],
   "source": [
    "# ~case (b)\n",
    "dummy_clf = DummyClassifier(strategy=\"stratified\", random_state = 54321) # use random_state to make the results comparable\n",
    "dummy_clf.fit(X_train, y_train)\n",
    "\n",
    "dummy_clf.score(X_test, y_test)"
   ]
  },
  {
   "cell_type": "code",
   "execution_count": 61,
   "id": "b40da692",
   "metadata": {},
   "outputs": [
    {
     "data": {
      "text/plain": [
       "0.6936236391912908"
      ]
     },
     "execution_count": 61,
     "metadata": {},
     "output_type": "execute_result"
    }
   ],
   "source": [
    "# case (c)\n",
    "dummy_clf = DummyClassifier(strategy=\"most_frequent\") # the model of always saying 0\n",
    "dummy_clf.fit(X_train, y_train)\n",
    "\n",
    "dummy_clf.score(X_test, y_test)"
   ]
  },
  {
   "cell_type": "markdown",
   "id": "4e300110",
   "metadata": {},
   "source": [
    "Our models still perform better."
   ]
  },
  {
   "cell_type": "markdown",
   "id": "e50bef56",
   "metadata": {},
   "source": [
    "[Back to Content](#content)"
   ]
  },
  {
   "cell_type": "markdown",
   "id": "f29a75f0",
   "metadata": {},
   "source": [
    "## Conclusions and recommendations <a id='conclusions'></a>"
   ]
  },
  {
   "cell_type": "markdown",
   "id": "98d9e24c",
   "metadata": {},
   "source": [
    "#### Summary on the dataset"
   ]
  },
  {
   "cell_type": "markdown",
   "id": "0f357919",
   "metadata": {},
   "source": [
    "1. We have uploaded the dataset, updated column names and variable types, and checked the data for duplicates and missing variables; the dataset at hand, does not have missing values, duplicates, as well as outliers.\n",
    "2. Out of 3214 users we have a group of 985 who have use the `Ultra` plan.\n",
    "3. Users of the `Ultra` plan seem to make more calls, talk more minutes, send more messages, and even use more internet."
   ]
  },
  {
   "cell_type": "markdown",
   "id": "0049dc00",
   "metadata": {},
   "source": [
    "#### Results interpretation and model adjustment  <a id='binary'></a>"
   ]
  },
  {
   "cell_type": "markdown",
   "id": "8c1db35a",
   "metadata": {},
   "source": [
    "To interperet the results, let's reflect on some peculiarities of the metrics we use:\n",
    "1. Accuracy only works when classes are balanced, i.e. when objects are distributed almost evenly between the classes, approximately 50/50. In our dataset, the classes are not balanced enough.\n",
    "2. In our case, precision and ROC-AUC can help to evaluate a model without looking at the balance of classes:\n",
    "    - Precision looks at the share of correct answers in the predictions deemed belonging to the target class by the model (they’re marked as \"1\");\n",
    "    - AUC-ROC tries to measure if the rank ordering of classifications is correct.\n",
    "3. A grid search with more computational resources can be applied to find the best combination of the hyperparameter values."
   ]
  },
  {
   "cell_type": "markdown",
   "id": "112fd122",
   "metadata": {},
   "source": [
    "#### Summary on the model training"
   ]
  },
  {
   "cell_type": "markdown",
   "id": "daf6d6b1",
   "metadata": {},
   "source": [
    "1. We have employed Logistic Regression and Random Forest Classifier to build the models (we used standardization as well to avoid possible differences in the feature scales).\n",
    "2. The logistic regression resulted in less promising accuracy value (other metrics showed insufficient results as well); thus, we focused on tuning the hyperparameters of the random forest model.\n",
    "3. We have achieved better accuracy for some of the hyperparameters, when considering them individually.\n",
    "4. We have tried to employ both grid search and random search to find a better combination of hyperparameter values; the first one requires more computing resources as compared to the latter one, but neither of them resulted any meaningful improvement of the model in terms of accuracy score.\n",
    "5. The best accuracy score for the final model on the test subset (with `max_samples` value of 210) was 0.81.\n",
    "6. The sanity check showed better performance of the final model as compared to a dummy classifier."
   ]
  },
  {
   "cell_type": "markdown",
   "id": "1ee17982",
   "metadata": {},
   "source": [
    "[Back to Content](#content)"
   ]
  }
 ],
 "metadata": {
  "ExecuteTimeLog": [
   {
    "duration": 1377,
    "start_time": "2022-05-21T13:28:11.926Z"
   },
   {
    "duration": 3,
    "start_time": "2022-05-21T13:28:13.305Z"
   },
   {
    "duration": 141,
    "start_time": "2022-05-21T13:28:13.310Z"
   },
   {
    "duration": 5,
    "start_time": "2022-05-21T13:28:13.454Z"
   },
   {
    "duration": 16,
    "start_time": "2022-05-21T13:28:13.461Z"
   },
   {
    "duration": 11,
    "start_time": "2022-05-21T13:28:13.479Z"
   },
   {
    "duration": 3,
    "start_time": "2022-05-21T13:28:13.492Z"
   },
   {
    "duration": 5,
    "start_time": "2022-05-21T13:28:13.496Z"
   },
   {
    "duration": 10,
    "start_time": "2022-05-21T13:28:13.502Z"
   },
   {
    "duration": 15,
    "start_time": "2022-05-21T13:28:13.514Z"
   },
   {
    "duration": 6,
    "start_time": "2022-05-21T13:28:13.531Z"
   },
   {
    "duration": 16,
    "start_time": "2022-05-21T13:28:13.538Z"
   },
   {
    "duration": 4,
    "start_time": "2022-05-21T13:28:13.555Z"
   },
   {
    "duration": 13,
    "start_time": "2022-05-21T13:28:13.560Z"
   },
   {
    "duration": 42,
    "start_time": "2022-05-21T13:28:13.574Z"
   },
   {
    "duration": 25,
    "start_time": "2022-05-21T13:28:13.618Z"
   },
   {
    "duration": 8,
    "start_time": "2022-05-21T13:28:13.644Z"
   },
   {
    "duration": 67,
    "start_time": "2022-05-21T13:28:13.654Z"
   },
   {
    "duration": 95,
    "start_time": "2022-05-21T13:28:13.722Z"
   },
   {
    "duration": 1383,
    "start_time": "2022-05-21T13:28:13.819Z"
   },
   {
    "duration": 1534,
    "start_time": "2022-05-21T13:28:15.203Z"
   },
   {
    "duration": 3,
    "start_time": "2022-05-21T13:28:16.739Z"
   },
   {
    "duration": 6,
    "start_time": "2022-05-21T13:28:16.744Z"
   },
   {
    "duration": 13,
    "start_time": "2022-05-21T13:28:16.751Z"
   },
   {
    "duration": 9,
    "start_time": "2022-05-21T13:28:16.765Z"
   },
   {
    "duration": 28,
    "start_time": "2022-05-21T13:28:16.776Z"
   },
   {
    "duration": 4,
    "start_time": "2022-05-21T13:28:16.806Z"
   },
   {
    "duration": 5,
    "start_time": "2022-05-21T13:28:16.814Z"
   },
   {
    "duration": 10,
    "start_time": "2022-05-21T13:28:16.821Z"
   },
   {
    "duration": 5,
    "start_time": "2022-05-21T13:28:27.397Z"
   },
   {
    "duration": 14,
    "start_time": "2022-05-21T13:30:16.444Z"
   },
   {
    "duration": 6,
    "start_time": "2022-05-21T13:30:16.855Z"
   },
   {
    "duration": 5,
    "start_time": "2022-05-21T13:30:17.225Z"
   },
   {
    "duration": 3,
    "start_time": "2022-05-21T13:31:35.283Z"
   },
   {
    "duration": 5,
    "start_time": "2022-05-21T13:31:46.468Z"
   },
   {
    "duration": 1181,
    "start_time": "2022-05-21T13:31:58.812Z"
   },
   {
    "duration": 5,
    "start_time": "2022-05-21T13:35:30.414Z"
   },
   {
    "duration": 281,
    "start_time": "2022-05-21T13:35:34.399Z"
   },
   {
    "duration": 4,
    "start_time": "2022-05-21T13:35:38.317Z"
   },
   {
    "duration": 11724,
    "start_time": "2022-05-21T13:36:19.181Z"
   },
   {
    "duration": 8988,
    "start_time": "2022-05-21T14:14:03.817Z"
   },
   {
    "duration": 4,
    "start_time": "2022-05-21T14:14:52.726Z"
   },
   {
    "duration": 32129,
    "start_time": "2022-05-21T14:14:55.317Z"
   },
   {
    "duration": 201,
    "start_time": "2022-05-21T14:21:13.693Z"
   },
   {
    "duration": 9,
    "start_time": "2022-05-21T14:21:54.422Z"
   },
   {
    "duration": 1145,
    "start_time": "2022-05-21T14:21:54.759Z"
   },
   {
    "duration": 1171,
    "start_time": "2022-05-21T14:22:16.351Z"
   },
   {
    "duration": 1496,
    "start_time": "2022-05-21T14:22:33.445Z"
   },
   {
    "duration": 1167,
    "start_time": "2022-05-21T14:23:44.149Z"
   },
   {
    "duration": 7,
    "start_time": "2022-05-21T14:27:50.002Z"
   },
   {
    "duration": 4,
    "start_time": "2022-05-21T14:28:31.463Z"
   },
   {
    "duration": 12,
    "start_time": "2022-05-21T14:28:50.603Z"
   },
   {
    "duration": 5,
    "start_time": "2022-05-21T14:30:21.747Z"
   },
   {
    "duration": 14,
    "start_time": "2022-05-21T14:31:48.904Z"
   },
   {
    "duration": 4,
    "start_time": "2022-05-21T14:31:49.949Z"
   },
   {
    "duration": 464,
    "start_time": "2022-05-21T14:31:54.052Z"
   },
   {
    "duration": 4,
    "start_time": "2022-05-21T14:32:26.812Z"
   },
   {
    "duration": 1243,
    "start_time": "2022-05-21T14:32:54.199Z"
   },
   {
    "duration": 1276,
    "start_time": "2022-05-21T14:33:13.244Z"
   },
   {
    "duration": 1198,
    "start_time": "2022-05-21T14:36:52.453Z"
   },
   {
    "duration": 3,
    "start_time": "2022-05-21T14:36:53.653Z"
   },
   {
    "duration": 33,
    "start_time": "2022-05-21T14:36:53.658Z"
   },
   {
    "duration": 5,
    "start_time": "2022-05-21T14:36:53.693Z"
   },
   {
    "duration": 15,
    "start_time": "2022-05-21T14:36:53.699Z"
   },
   {
    "duration": 11,
    "start_time": "2022-05-21T14:36:53.715Z"
   },
   {
    "duration": 2,
    "start_time": "2022-05-21T14:36:53.728Z"
   },
   {
    "duration": 7,
    "start_time": "2022-05-21T14:36:53.732Z"
   },
   {
    "duration": 7,
    "start_time": "2022-05-21T14:36:53.741Z"
   },
   {
    "duration": 12,
    "start_time": "2022-05-21T14:36:53.751Z"
   },
   {
    "duration": 7,
    "start_time": "2022-05-21T14:36:53.764Z"
   },
   {
    "duration": 20,
    "start_time": "2022-05-21T14:36:53.802Z"
   },
   {
    "duration": 4,
    "start_time": "2022-05-21T14:36:53.823Z"
   },
   {
    "duration": 10,
    "start_time": "2022-05-21T14:36:53.828Z"
   },
   {
    "duration": 28,
    "start_time": "2022-05-21T14:36:53.839Z"
   },
   {
    "duration": 54,
    "start_time": "2022-05-21T14:36:53.868Z"
   },
   {
    "duration": 9,
    "start_time": "2022-05-21T14:36:53.924Z"
   },
   {
    "duration": 48,
    "start_time": "2022-05-21T14:36:53.935Z"
   },
   {
    "duration": 81,
    "start_time": "2022-05-21T14:36:54.002Z"
   },
   {
    "duration": 1477,
    "start_time": "2022-05-21T14:36:54.085Z"
   },
   {
    "duration": 1450,
    "start_time": "2022-05-21T14:36:55.563Z"
   },
   {
    "duration": 4,
    "start_time": "2022-05-21T14:36:57.014Z"
   },
   {
    "duration": 7,
    "start_time": "2022-05-21T14:36:57.020Z"
   },
   {
    "duration": 14,
    "start_time": "2022-05-21T14:36:57.028Z"
   },
   {
    "duration": 6,
    "start_time": "2022-05-21T14:36:57.044Z"
   },
   {
    "duration": 9,
    "start_time": "2022-05-21T14:36:57.051Z"
   },
   {
    "duration": 10,
    "start_time": "2022-05-21T14:36:57.062Z"
   },
   {
    "duration": 3,
    "start_time": "2022-05-21T14:36:57.076Z"
   },
   {
    "duration": 21,
    "start_time": "2022-05-21T14:36:57.081Z"
   },
   {
    "duration": 6,
    "start_time": "2022-05-21T14:36:57.103Z"
   },
   {
    "duration": 12,
    "start_time": "2022-05-21T14:36:57.110Z"
   },
   {
    "duration": 7,
    "start_time": "2022-05-21T14:36:57.123Z"
   },
   {
    "duration": 7,
    "start_time": "2022-05-21T14:36:57.131Z"
   },
   {
    "duration": 4,
    "start_time": "2022-05-21T14:36:57.139Z"
   },
   {
    "duration": 5,
    "start_time": "2022-05-21T14:36:57.145Z"
   },
   {
    "duration": 1354,
    "start_time": "2022-05-21T14:36:57.151Z"
   },
   {
    "duration": 4,
    "start_time": "2022-05-21T14:36:58.508Z"
   },
   {
    "duration": 7025,
    "start_time": "2022-05-21T14:36:58.514Z"
   },
   {
    "duration": 5,
    "start_time": "2022-05-21T14:37:05.540Z"
   },
   {
    "duration": 1262,
    "start_time": "2022-05-21T14:37:05.547Z"
   },
   {
    "duration": 91,
    "start_time": "2022-05-21T14:37:06.811Z"
   },
   {
    "duration": 10,
    "start_time": "2022-05-21T14:37:06.904Z"
   },
   {
    "duration": 35,
    "start_time": "2022-05-21T14:37:06.915Z"
   },
   {
    "duration": 596,
    "start_time": "2022-05-21T14:37:06.952Z"
   },
   {
    "duration": 585,
    "start_time": "2022-05-21T14:37:07.549Z"
   },
   {
    "duration": 109420,
    "start_time": "2022-05-21T14:37:08.136Z"
   },
   {
    "duration": 1343,
    "start_time": "2022-05-21T14:38:57.559Z"
   },
   {
    "duration": 5,
    "start_time": "2022-05-21T14:38:58.904Z"
   },
   {
    "duration": 560,
    "start_time": "2022-05-21T14:38:58.910Z"
   },
   {
    "duration": 17,
    "start_time": "2022-05-21T14:38:59.472Z"
   },
   {
    "duration": 16,
    "start_time": "2022-05-21T14:38:59.490Z"
   },
   {
    "duration": 6,
    "start_time": "2022-05-21T14:38:59.508Z"
   },
   {
    "duration": 6,
    "start_time": "2022-05-21T14:38:59.515Z"
   },
   {
    "duration": 436,
    "start_time": "2022-05-21T14:38:59.523Z"
   },
   {
    "duration": 407,
    "start_time": "2022-05-21T14:38:59.961Z"
   },
   {
    "duration": 1208,
    "start_time": "2022-05-21T15:04:39.294Z"
   },
   {
    "duration": 4,
    "start_time": "2022-05-21T15:04:40.508Z"
   },
   {
    "duration": 534,
    "start_time": "2022-05-21T15:04:41.206Z"
   },
   {
    "duration": 21,
    "start_time": "2022-05-21T15:04:44.177Z"
   },
   {
    "duration": 1104,
    "start_time": "2022-05-21T15:07:09.598Z"
   },
   {
    "duration": 4,
    "start_time": "2022-05-21T15:07:13.306Z"
   },
   {
    "duration": 481,
    "start_time": "2022-05-21T15:07:13.701Z"
   },
   {
    "duration": 19,
    "start_time": "2022-05-21T15:07:17.304Z"
   },
   {
    "duration": 1010,
    "start_time": "2022-05-21T15:07:24.294Z"
   },
   {
    "duration": 3,
    "start_time": "2022-05-21T15:07:28.469Z"
   },
   {
    "duration": 486,
    "start_time": "2022-05-21T15:07:28.781Z"
   },
   {
    "duration": 18,
    "start_time": "2022-05-21T15:07:30.601Z"
   },
   {
    "duration": 1065,
    "start_time": "2022-05-21T15:07:36.537Z"
   },
   {
    "duration": 3,
    "start_time": "2022-05-21T15:07:39.512Z"
   },
   {
    "duration": 511,
    "start_time": "2022-05-21T15:07:39.902Z"
   },
   {
    "duration": 17,
    "start_time": "2022-05-21T15:07:41.607Z"
   },
   {
    "duration": 1104,
    "start_time": "2022-05-21T15:07:55.705Z"
   },
   {
    "duration": 3,
    "start_time": "2022-05-21T15:07:59.703Z"
   },
   {
    "duration": 421,
    "start_time": "2022-05-21T15:08:00.453Z"
   },
   {
    "duration": 19,
    "start_time": "2022-05-21T15:08:02.289Z"
   },
   {
    "duration": 914,
    "start_time": "2022-05-21T15:08:13.497Z"
   },
   {
    "duration": 3,
    "start_time": "2022-05-21T15:08:17.421Z"
   },
   {
    "duration": 477,
    "start_time": "2022-05-21T15:08:18.049Z"
   },
   {
    "duration": 18,
    "start_time": "2022-05-21T15:08:19.902Z"
   },
   {
    "duration": 1034,
    "start_time": "2022-05-21T15:08:30.769Z"
   },
   {
    "duration": 4,
    "start_time": "2022-05-21T15:08:34.713Z"
   },
   {
    "duration": 490,
    "start_time": "2022-05-21T15:08:35.500Z"
   },
   {
    "duration": 19,
    "start_time": "2022-05-21T15:08:36.911Z"
   },
   {
    "duration": 10,
    "start_time": "2022-05-21T15:08:59.425Z"
   },
   {
    "duration": 816,
    "start_time": "2022-05-21T15:09:34.193Z"
   },
   {
    "duration": 3,
    "start_time": "2022-05-21T15:09:46.089Z"
   },
   {
    "duration": 532,
    "start_time": "2022-05-21T15:09:47.009Z"
   },
   {
    "duration": 18,
    "start_time": "2022-05-21T15:09:48.733Z"
   },
   {
    "duration": 3,
    "start_time": "2022-05-21T15:10:09.114Z"
   },
   {
    "duration": 532,
    "start_time": "2022-05-21T15:10:09.510Z"
   },
   {
    "duration": 991,
    "start_time": "2022-05-21T15:10:14.711Z"
   },
   {
    "duration": 3,
    "start_time": "2022-05-21T15:10:17.209Z"
   },
   {
    "duration": 469,
    "start_time": "2022-05-21T15:10:17.745Z"
   },
   {
    "duration": 18,
    "start_time": "2022-05-21T15:10:19.913Z"
   },
   {
    "duration": 8,
    "start_time": "2022-05-21T15:10:47.065Z"
   },
   {
    "duration": 890,
    "start_time": "2022-05-21T15:10:58.625Z"
   },
   {
    "duration": 4,
    "start_time": "2022-05-21T15:11:01.601Z"
   },
   {
    "duration": 471,
    "start_time": "2022-05-21T15:11:02.005Z"
   },
   {
    "duration": 19,
    "start_time": "2022-05-21T15:11:03.005Z"
   },
   {
    "duration": 8,
    "start_time": "2022-05-21T15:11:12.207Z"
   },
   {
    "duration": 878,
    "start_time": "2022-05-21T15:11:16.425Z"
   },
   {
    "duration": 3,
    "start_time": "2022-05-21T15:11:19.593Z"
   },
   {
    "duration": 542,
    "start_time": "2022-05-21T15:11:19.841Z"
   },
   {
    "duration": 17,
    "start_time": "2022-05-21T15:11:21.510Z"
   },
   {
    "duration": 9,
    "start_time": "2022-05-21T15:11:24.103Z"
   },
   {
    "duration": 27,
    "start_time": "2022-05-21T15:11:53.004Z"
   },
   {
    "duration": 11,
    "start_time": "2022-05-21T15:14:04.109Z"
   },
   {
    "duration": 1093,
    "start_time": "2022-05-21T15:14:58.017Z"
   },
   {
    "duration": 5,
    "start_time": "2022-05-21T15:15:02.193Z"
   },
   {
    "duration": 480,
    "start_time": "2022-05-21T15:15:02.997Z"
   },
   {
    "duration": 21,
    "start_time": "2022-05-21T15:15:04.814Z"
   },
   {
    "duration": 8,
    "start_time": "2022-05-21T15:15:38.580Z"
   },
   {
    "duration": 449,
    "start_time": "2022-05-21T15:15:53.100Z"
   },
   {
    "duration": 462,
    "start_time": "2022-05-21T15:15:57.489Z"
   },
   {
    "duration": 9,
    "start_time": "2022-06-20T07:38:41.041Z"
   },
   {
    "duration": 49,
    "start_time": "2022-06-20T07:38:43.841Z"
   },
   {
    "duration": 1610,
    "start_time": "2022-06-20T07:38:48.762Z"
   },
   {
    "duration": 4,
    "start_time": "2022-06-20T07:38:51.817Z"
   },
   {
    "duration": 99,
    "start_time": "2022-06-20T07:38:53.418Z"
   },
   {
    "duration": 4,
    "start_time": "2022-06-20T07:39:01.117Z"
   },
   {
    "duration": 151,
    "start_time": "2022-06-20T07:39:01.962Z"
   },
   {
    "duration": 8,
    "start_time": "2022-06-20T07:39:04.361Z"
   },
   {
    "duration": 4,
    "start_time": "2022-06-20T07:40:17.595Z"
   },
   {
    "duration": 19,
    "start_time": "2022-06-20T07:40:19.519Z"
   },
   {
    "duration": 4,
    "start_time": "2022-06-20T07:40:19.920Z"
   },
   {
    "duration": 3,
    "start_time": "2022-06-20T07:40:28.279Z"
   },
   {
    "duration": 130,
    "start_time": "2022-06-20T07:40:29.045Z"
   },
   {
    "duration": 10,
    "start_time": "2022-06-20T07:40:43.747Z"
   },
   {
    "duration": 3,
    "start_time": "2022-06-20T07:41:05.647Z"
   },
   {
    "duration": 9,
    "start_time": "2022-06-20T07:41:07.155Z"
   },
   {
    "duration": 88,
    "start_time": "2022-06-20T07:41:09.850Z"
   },
   {
    "duration": 11,
    "start_time": "2022-06-20T07:41:20.749Z"
   },
   {
    "duration": 9,
    "start_time": "2022-06-20T07:41:26.399Z"
   },
   {
    "duration": 11,
    "start_time": "2022-06-20T07:42:22.851Z"
   },
   {
    "duration": 73,
    "start_time": "2022-06-20T07:43:15.880Z"
   },
   {
    "duration": 4,
    "start_time": "2022-06-20T07:43:16.150Z"
   },
   {
    "duration": 69,
    "start_time": "2022-06-20T07:43:47.093Z"
   },
   {
    "duration": 10,
    "start_time": "2022-06-20T07:53:00.547Z"
   },
   {
    "duration": 4,
    "start_time": "2022-06-20T07:53:03.710Z"
   },
   {
    "duration": 15,
    "start_time": "2022-06-20T07:53:04.185Z"
   },
   {
    "duration": 14,
    "start_time": "2022-06-20T07:54:54.367Z"
   },
   {
    "duration": 13,
    "start_time": "2022-06-20T07:55:03.721Z"
   },
   {
    "duration": 1382,
    "start_time": "2022-06-20T07:55:17.891Z"
   },
   {
    "duration": 4,
    "start_time": "2022-06-20T07:55:19.275Z"
   },
   {
    "duration": 73,
    "start_time": "2022-06-20T07:55:19.280Z"
   },
   {
    "duration": 10,
    "start_time": "2022-06-20T07:55:19.355Z"
   },
   {
    "duration": 48,
    "start_time": "2022-06-20T07:55:19.367Z"
   },
   {
    "duration": 6,
    "start_time": "2022-06-20T07:55:19.416Z"
   },
   {
    "duration": 20,
    "start_time": "2022-06-20T07:55:19.423Z"
   },
   {
    "duration": 11,
    "start_time": "2022-06-20T07:55:19.445Z"
   },
   {
    "duration": 6,
    "start_time": "2022-06-20T07:55:19.457Z"
   },
   {
    "duration": 25,
    "start_time": "2022-06-20T07:55:19.465Z"
   },
   {
    "duration": 62,
    "start_time": "2022-06-20T07:55:19.492Z"
   },
   {
    "duration": 3,
    "start_time": "2022-06-20T07:55:19.556Z"
   },
   {
    "duration": 112,
    "start_time": "2022-06-20T07:55:19.561Z"
   },
   {
    "duration": 6,
    "start_time": "2022-06-20T07:57:29.470Z"
   },
   {
    "duration": 19,
    "start_time": "2022-06-20T08:06:42.069Z"
   },
   {
    "duration": 6,
    "start_time": "2022-06-20T08:06:56.099Z"
   },
   {
    "duration": 7,
    "start_time": "2022-06-20T08:06:58.775Z"
   },
   {
    "duration": 5,
    "start_time": "2022-06-20T08:06:59.549Z"
   },
   {
    "duration": 6,
    "start_time": "2022-06-20T08:07:02.046Z"
   },
   {
    "duration": 3,
    "start_time": "2022-06-20T08:07:05.877Z"
   },
   {
    "duration": 6,
    "start_time": "2022-06-20T08:07:06.741Z"
   },
   {
    "duration": 481,
    "start_time": "2022-06-20T08:07:09.473Z"
   },
   {
    "duration": 783,
    "start_time": "2022-06-20T08:07:50.856Z"
   },
   {
    "duration": 725,
    "start_time": "2022-06-20T08:07:53.755Z"
   },
   {
    "duration": 1549,
    "start_time": "2022-06-20T08:07:56.107Z"
   },
   {
    "duration": 1804,
    "start_time": "2022-06-20T08:07:59.895Z"
   },
   {
    "duration": 1719,
    "start_time": "2022-06-20T08:08:03.354Z"
   },
   {
    "duration": 28380,
    "start_time": "2022-06-20T08:08:07.356Z"
   },
   {
    "duration": 212335,
    "start_time": "2022-06-20T08:08:40.628Z"
   },
   {
    "duration": 850,
    "start_time": "2022-06-20T08:14:35.653Z"
   },
   {
    "duration": 32,
    "start_time": "2022-06-20T08:14:41.186Z"
   },
   {
    "duration": 35,
    "start_time": "2022-06-20T08:15:48.226Z"
   },
   {
    "duration": 43,
    "start_time": "2022-06-20T08:17:12.045Z"
   },
   {
    "duration": 41,
    "start_time": "2022-06-20T08:17:17.453Z"
   },
   {
    "duration": 3,
    "start_time": "2022-06-20T08:23:21.158Z"
   },
   {
    "duration": 3,
    "start_time": "2022-06-20T08:23:22.348Z"
   },
   {
    "duration": 425929,
    "start_time": "2022-06-20T08:23:25.281Z"
   },
   {
    "duration": 89,
    "start_time": "2022-06-20T08:45:07.132Z"
   },
   {
    "duration": 3,
    "start_time": "2022-06-20T08:45:13.712Z"
   },
   {
    "duration": 4,
    "start_time": "2022-06-20T08:45:19.626Z"
   },
   {
    "duration": 3,
    "start_time": "2022-06-20T08:45:46.231Z"
   },
   {
    "duration": 5,
    "start_time": "2022-06-20T08:45:56.749Z"
   },
   {
    "duration": 49,
    "start_time": "2022-06-20T08:56:11.423Z"
   },
   {
    "duration": 4,
    "start_time": "2022-06-20T08:56:29.104Z"
   },
   {
    "duration": 3,
    "start_time": "2022-06-20T08:56:32.906Z"
   },
   {
    "duration": 4,
    "start_time": "2022-06-20T08:56:36.456Z"
   },
   {
    "duration": 4,
    "start_time": "2022-06-20T08:56:51.260Z"
   },
   {
    "duration": 52,
    "start_time": "2022-06-20T09:06:33.640Z"
   },
   {
    "duration": 46,
    "start_time": "2022-06-20T09:07:09.117Z"
   },
   {
    "duration": 63,
    "start_time": "2022-06-20T09:08:29.483Z"
   },
   {
    "duration": 9,
    "start_time": "2022-06-20T09:14:53.964Z"
   },
   {
    "duration": 1700,
    "start_time": "2022-06-20T19:50:15.625Z"
   },
   {
    "duration": 4,
    "start_time": "2022-06-20T19:50:17.327Z"
   },
   {
    "duration": 119,
    "start_time": "2022-06-20T19:50:17.333Z"
   },
   {
    "duration": 12,
    "start_time": "2022-06-20T19:50:17.454Z"
   },
   {
    "duration": 46,
    "start_time": "2022-06-20T19:50:17.468Z"
   },
   {
    "duration": 6,
    "start_time": "2022-06-20T19:50:17.516Z"
   },
   {
    "duration": 15,
    "start_time": "2022-06-20T19:50:17.524Z"
   },
   {
    "duration": 11,
    "start_time": "2022-06-20T19:50:17.541Z"
   },
   {
    "duration": 8,
    "start_time": "2022-06-20T19:50:17.554Z"
   },
   {
    "duration": 28,
    "start_time": "2022-06-20T19:50:17.565Z"
   },
   {
    "duration": 69,
    "start_time": "2022-06-20T19:50:17.594Z"
   },
   {
    "duration": 3,
    "start_time": "2022-06-20T19:50:17.665Z"
   },
   {
    "duration": 18,
    "start_time": "2022-06-20T19:50:17.670Z"
   },
   {
    "duration": 11,
    "start_time": "2022-06-20T19:50:17.690Z"
   },
   {
    "duration": 7,
    "start_time": "2022-06-20T19:50:17.702Z"
   },
   {
    "duration": 17,
    "start_time": "2022-06-20T19:50:17.711Z"
   },
   {
    "duration": 9,
    "start_time": "2022-06-20T19:50:17.730Z"
   },
   {
    "duration": 10,
    "start_time": "2022-06-20T19:50:17.741Z"
   },
   {
    "duration": 8,
    "start_time": "2022-06-20T19:50:17.753Z"
   },
   {
    "duration": 515,
    "start_time": "2022-06-20T19:50:17.763Z"
   },
   {
    "duration": 886,
    "start_time": "2022-06-20T19:50:18.280Z"
   },
   {
    "duration": 811,
    "start_time": "2022-06-20T19:50:19.167Z"
   },
   {
    "duration": 1624,
    "start_time": "2022-06-20T19:50:19.980Z"
   },
   {
    "duration": 1814,
    "start_time": "2022-06-20T19:50:21.606Z"
   },
   {
    "duration": 1704,
    "start_time": "2022-06-20T19:50:23.422Z"
   },
   {
    "duration": 28626,
    "start_time": "2022-06-20T19:50:25.128Z"
   },
   {
    "duration": 215097,
    "start_time": "2022-06-20T19:50:53.756Z"
   },
   {
    "duration": 826,
    "start_time": "2022-06-20T19:54:28.856Z"
   },
   {
    "duration": 35,
    "start_time": "2022-06-20T19:54:29.683Z"
   },
   {
    "duration": 2,
    "start_time": "2022-06-20T19:54:29.720Z"
   },
   {
    "duration": 19,
    "start_time": "2022-06-20T19:54:29.724Z"
   },
   {
    "duration": 424645,
    "start_time": "2022-06-20T19:54:29.744Z"
   },
   {
    "duration": 110,
    "start_time": "2022-06-20T20:01:34.391Z"
   },
   {
    "duration": 3,
    "start_time": "2022-06-20T20:01:34.503Z"
   },
   {
    "duration": 6,
    "start_time": "2022-06-20T20:01:34.508Z"
   },
   {
    "duration": 9,
    "start_time": "2022-06-20T20:01:34.515Z"
   },
   {
    "duration": 6,
    "start_time": "2022-06-20T20:01:34.525Z"
   },
   {
    "duration": 6,
    "start_time": "2022-06-20T20:01:34.533Z"
   },
   {
    "duration": 10,
    "start_time": "2022-06-20T20:01:34.540Z"
   },
   {
    "duration": 7,
    "start_time": "2022-06-20T20:01:34.552Z"
   },
   {
    "duration": 9,
    "start_time": "2022-06-20T20:01:34.561Z"
   },
   {
    "duration": 55,
    "start_time": "2022-06-20T20:01:34.572Z"
   },
   {
    "duration": 70,
    "start_time": "2022-06-20T20:01:34.629Z"
   },
   {
    "duration": 3,
    "start_time": "2022-06-20T20:01:34.701Z"
   },
   {
    "duration": 82,
    "start_time": "2022-06-20T20:30:00.659Z"
   },
   {
    "duration": 147,
    "start_time": "2022-06-20T20:30:08.464Z"
   },
   {
    "duration": 25332,
    "start_time": "2022-06-20T20:30:47.063Z"
   },
   {
    "duration": 10,
    "start_time": "2022-06-20T20:33:07.146Z"
   },
   {
    "duration": 5,
    "start_time": "2022-06-20T20:33:12.216Z"
   },
   {
    "duration": 21,
    "start_time": "2022-06-20T20:33:33.517Z"
   },
   {
    "duration": 4,
    "start_time": "2022-06-20T20:35:26.991Z"
   },
   {
    "duration": 4,
    "start_time": "2022-06-20T20:35:38.541Z"
   },
   {
    "duration": 56387,
    "start_time": "2022-06-20T20:40:55.230Z"
   },
   {
    "duration": 73742,
    "start_time": "2022-06-20T20:41:52.545Z"
   },
   {
    "duration": 24981,
    "start_time": "2022-06-20T20:43:25.318Z"
   },
   {
    "duration": 74608,
    "start_time": "2022-06-20T20:43:50.301Z"
   },
   {
    "duration": 5,
    "start_time": "2022-06-20T20:45:07.387Z"
   },
   {
    "duration": 3,
    "start_time": "2022-06-20T20:45:43.528Z"
   },
   {
    "duration": 90014,
    "start_time": "2022-06-20T20:49:05.197Z"
   },
   {
    "duration": 4,
    "start_time": "2022-06-20T20:54:55.909Z"
   },
   {
    "duration": 5,
    "start_time": "2022-06-20T20:55:18.773Z"
   },
   {
    "duration": 93820,
    "start_time": "2022-06-20T20:57:29.183Z"
   },
   {
    "duration": 5,
    "start_time": "2022-06-20T20:59:31.292Z"
   },
   {
    "duration": 4,
    "start_time": "2022-06-20T20:59:42.673Z"
   },
   {
    "duration": 50,
    "start_time": "2022-06-20T21:09:39.073Z"
   },
   {
    "duration": 45,
    "start_time": "2022-06-20T21:11:19.790Z"
   },
   {
    "duration": 52,
    "start_time": "2022-06-20T21:11:23.600Z"
   },
   {
    "duration": 39,
    "start_time": "2022-06-20T21:11:25.769Z"
   },
   {
    "duration": 47,
    "start_time": "2022-06-20T21:12:06.933Z"
   },
   {
    "duration": 77,
    "start_time": "2022-06-20T21:13:36.386Z"
   },
   {
    "duration": 116,
    "start_time": "2022-06-20T21:13:44.812Z"
   },
   {
    "duration": 33,
    "start_time": "2022-06-20T21:13:56.484Z"
   },
   {
    "duration": 137,
    "start_time": "2022-06-20T21:14:01.797Z"
   },
   {
    "duration": 31,
    "start_time": "2022-06-20T21:14:25.657Z"
   },
   {
    "duration": 49,
    "start_time": "2022-06-20T21:14:29.851Z"
   },
   {
    "duration": 33,
    "start_time": "2022-06-20T21:14:33.495Z"
   },
   {
    "duration": 52,
    "start_time": "2022-06-20T21:14:37.436Z"
   },
   {
    "duration": 31,
    "start_time": "2022-06-20T21:14:40.768Z"
   },
   {
    "duration": 31,
    "start_time": "2022-06-20T21:14:56.428Z"
   },
   {
    "duration": 31,
    "start_time": "2022-06-20T21:14:59.706Z"
   },
   {
    "duration": 32,
    "start_time": "2022-06-20T21:15:03.914Z"
   },
   {
    "duration": 30,
    "start_time": "2022-06-20T21:15:16.406Z"
   },
   {
    "duration": 31,
    "start_time": "2022-06-20T21:15:19.800Z"
   },
   {
    "duration": 31,
    "start_time": "2022-06-20T21:15:22.411Z"
   },
   {
    "duration": 30,
    "start_time": "2022-06-20T21:15:29.710Z"
   },
   {
    "duration": 32,
    "start_time": "2022-06-20T21:15:32.376Z"
   },
   {
    "duration": 32,
    "start_time": "2022-06-20T21:15:45.667Z"
   },
   {
    "duration": 39,
    "start_time": "2022-06-20T21:17:07.558Z"
   },
   {
    "duration": 36,
    "start_time": "2022-06-20T21:17:30.597Z"
   },
   {
    "duration": 32,
    "start_time": "2022-06-20T21:19:32.911Z"
   },
   {
    "duration": 177,
    "start_time": "2022-06-20T21:19:40.877Z"
   },
   {
    "duration": 176,
    "start_time": "2022-06-20T21:19:49.658Z"
   },
   {
    "duration": 174,
    "start_time": "2022-06-20T21:19:54.458Z"
   },
   {
    "duration": 169,
    "start_time": "2022-06-20T21:19:57.711Z"
   },
   {
    "duration": 4,
    "start_time": "2022-06-20T21:22:54.688Z"
   },
   {
    "duration": 5,
    "start_time": "2022-06-20T21:22:55.331Z"
   },
   {
    "duration": 8,
    "start_time": "2022-06-20T21:22:55.953Z"
   },
   {
    "duration": 10,
    "start_time": "2022-06-20T21:22:57.221Z"
   },
   {
    "duration": 855,
    "start_time": "2022-06-20T21:23:02.025Z"
   },
   {
    "duration": 36,
    "start_time": "2022-06-20T21:29:01.491Z"
   },
   {
    "duration": 45,
    "start_time": "2022-06-20T21:29:07.352Z"
   },
   {
    "duration": 58,
    "start_time": "2022-06-20T21:29:12.767Z"
   },
   {
    "duration": 39,
    "start_time": "2022-06-20T21:29:19.437Z"
   },
   {
    "duration": 206,
    "start_time": "2022-06-20T21:29:26.636Z"
   },
   {
    "duration": 6,
    "start_time": "2022-06-20T21:29:51.319Z"
   },
   {
    "duration": 5,
    "start_time": "2022-06-20T21:29:51.711Z"
   },
   {
    "duration": 6,
    "start_time": "2022-06-20T21:29:55.277Z"
   },
   {
    "duration": 5,
    "start_time": "2022-06-20T21:29:55.654Z"
   },
   {
    "duration": 4,
    "start_time": "2022-06-20T21:29:55.969Z"
   },
   {
    "duration": 3,
    "start_time": "2022-06-20T21:30:14.192Z"
   },
   {
    "duration": 6,
    "start_time": "2022-06-20T21:30:16.306Z"
   },
   {
    "duration": 7,
    "start_time": "2022-06-20T21:30:48.747Z"
   },
   {
    "duration": 7,
    "start_time": "2022-06-20T21:30:49.295Z"
   },
   {
    "duration": 8,
    "start_time": "2022-06-20T21:30:52.577Z"
   },
   {
    "duration": 5,
    "start_time": "2022-06-20T21:30:52.929Z"
   },
   {
    "duration": 5,
    "start_time": "2022-06-20T21:30:53.210Z"
   },
   {
    "duration": 3,
    "start_time": "2022-06-20T21:31:05.151Z"
   },
   {
    "duration": 229,
    "start_time": "2022-06-20T21:31:05.637Z"
   },
   {
    "duration": 6,
    "start_time": "2022-06-20T21:47:33.484Z"
   },
   {
    "duration": 6,
    "start_time": "2022-06-20T21:49:21.934Z"
   },
   {
    "duration": 6,
    "start_time": "2022-06-20T21:51:31.103Z"
   },
   {
    "duration": 8,
    "start_time": "2022-06-20T21:53:46.811Z"
   },
   {
    "duration": 5,
    "start_time": "2022-06-20T21:55:03.454Z"
   },
   {
    "duration": 5,
    "start_time": "2022-06-20T21:55:10.535Z"
   },
   {
    "duration": 7,
    "start_time": "2022-06-20T21:56:14.063Z"
   },
   {
    "duration": 3,
    "start_time": "2022-06-20T21:56:17.348Z"
   },
   {
    "duration": 1490,
    "start_time": "2022-06-20T22:00:03.538Z"
   },
   {
    "duration": 3,
    "start_time": "2022-06-20T22:00:05.030Z"
   },
   {
    "duration": 86,
    "start_time": "2022-06-20T22:00:05.035Z"
   },
   {
    "duration": 10,
    "start_time": "2022-06-20T22:00:05.123Z"
   },
   {
    "duration": 54,
    "start_time": "2022-06-20T22:00:05.134Z"
   },
   {
    "duration": 5,
    "start_time": "2022-06-20T22:00:05.190Z"
   },
   {
    "duration": 18,
    "start_time": "2022-06-20T22:00:05.196Z"
   },
   {
    "duration": 10,
    "start_time": "2022-06-20T22:00:05.216Z"
   },
   {
    "duration": 8,
    "start_time": "2022-06-20T22:00:05.227Z"
   },
   {
    "duration": 25,
    "start_time": "2022-06-20T22:00:05.238Z"
   },
   {
    "duration": 37,
    "start_time": "2022-06-20T22:00:05.264Z"
   },
   {
    "duration": 4,
    "start_time": "2022-06-20T22:00:05.303Z"
   },
   {
    "duration": 8,
    "start_time": "2022-06-20T22:00:05.308Z"
   },
   {
    "duration": 23,
    "start_time": "2022-06-20T22:00:05.318Z"
   },
   {
    "duration": 6,
    "start_time": "2022-06-20T22:00:05.343Z"
   },
   {
    "duration": 6,
    "start_time": "2022-06-20T22:00:05.351Z"
   },
   {
    "duration": 6,
    "start_time": "2022-06-20T22:00:05.359Z"
   },
   {
    "duration": 6,
    "start_time": "2022-06-20T22:00:05.367Z"
   },
   {
    "duration": 11,
    "start_time": "2022-06-20T22:00:05.375Z"
   },
   {
    "duration": 470,
    "start_time": "2022-06-20T22:00:05.387Z"
   },
   {
    "duration": 787,
    "start_time": "2022-06-20T22:00:05.859Z"
   },
   {
    "duration": 816,
    "start_time": "2022-06-20T22:00:06.648Z"
   },
   {
    "duration": 1479,
    "start_time": "2022-06-20T22:00:07.466Z"
   },
   {
    "duration": 1773,
    "start_time": "2022-06-20T22:00:08.947Z"
   },
   {
    "duration": 1665,
    "start_time": "2022-06-20T22:00:10.722Z"
   },
   {
    "duration": 28705,
    "start_time": "2022-06-20T22:00:12.389Z"
   },
   {
    "duration": 208212,
    "start_time": "2022-06-20T22:00:41.096Z"
   },
   {
    "duration": 831,
    "start_time": "2022-06-20T22:04:09.312Z"
   },
   {
    "duration": 39,
    "start_time": "2022-06-20T22:04:10.145Z"
   },
   {
    "duration": 3,
    "start_time": "2022-06-20T22:04:10.186Z"
   },
   {
    "duration": 7,
    "start_time": "2022-06-20T22:04:10.191Z"
   },
   {
    "duration": 424043,
    "start_time": "2022-06-20T22:04:10.199Z"
   },
   {
    "duration": 101,
    "start_time": "2022-06-20T22:11:14.244Z"
   },
   {
    "duration": 3,
    "start_time": "2022-06-20T22:11:14.347Z"
   },
   {
    "duration": 8,
    "start_time": "2022-06-20T22:11:14.352Z"
   },
   {
    "duration": 6,
    "start_time": "2022-06-20T22:11:14.362Z"
   },
   {
    "duration": 5,
    "start_time": "2022-06-20T22:11:14.370Z"
   },
   {
    "duration": 6,
    "start_time": "2022-06-20T22:11:14.376Z"
   },
   {
    "duration": 6,
    "start_time": "2022-06-20T22:11:14.384Z"
   },
   {
    "duration": 6,
    "start_time": "2022-06-20T22:11:14.391Z"
   },
   {
    "duration": 6,
    "start_time": "2022-06-20T22:11:14.398Z"
   },
   {
    "duration": 61,
    "start_time": "2022-06-20T22:11:14.405Z"
   },
   {
    "duration": 53,
    "start_time": "2022-06-20T22:11:14.468Z"
   },
   {
    "duration": 3,
    "start_time": "2022-06-20T22:11:14.523Z"
   },
   {
    "duration": 24090,
    "start_time": "2022-06-20T22:11:14.544Z"
   },
   {
    "duration": 5,
    "start_time": "2022-06-20T22:11:38.636Z"
   },
   {
    "duration": 8,
    "start_time": "2022-06-20T22:11:38.643Z"
   },
   {
    "duration": 87874,
    "start_time": "2022-06-20T22:11:38.652Z"
   },
   {
    "duration": 4,
    "start_time": "2022-06-20T22:13:06.528Z"
   },
   {
    "duration": 4,
    "start_time": "2022-06-20T22:13:06.542Z"
   },
   {
    "duration": 34,
    "start_time": "2022-06-20T22:13:06.548Z"
   },
   {
    "duration": 58,
    "start_time": "2022-06-20T22:13:06.584Z"
   },
   {
    "duration": 48,
    "start_time": "2022-06-20T22:13:06.643Z"
   },
   {
    "duration": 29,
    "start_time": "2022-06-20T22:13:06.693Z"
   },
   {
    "duration": 193,
    "start_time": "2022-06-20T22:13:06.741Z"
   },
   {
    "duration": 4,
    "start_time": "2022-06-20T22:13:06.941Z"
   },
   {
    "duration": 311,
    "start_time": "2022-06-20T22:13:06.947Z"
   },
   {
    "duration": 2,
    "start_time": "2022-06-20T22:13:07.260Z"
   },
   {
    "duration": 9,
    "start_time": "2022-06-20T22:13:07.264Z"
   },
   {
    "duration": 8,
    "start_time": "2022-06-20T22:13:07.274Z"
   },
   {
    "duration": 9,
    "start_time": "2022-06-20T22:13:07.284Z"
   }
  ],
  "kernelspec": {
   "display_name": "Python 3",
   "language": "python",
   "name": "python3"
  },
  "language_info": {
   "codemirror_mode": {
    "name": "ipython",
    "version": 3
   },
   "file_extension": ".py",
   "mimetype": "text/x-python",
   "name": "python",
   "nbconvert_exporter": "python",
   "pygments_lexer": "ipython3",
   "version": "3.8.8"
  },
  "toc": {
   "base_numbering": 1,
   "nav_menu": {},
   "number_sections": true,
   "sideBar": true,
   "skip_h1_title": true,
   "title_cell": "Table of Contents",
   "title_sidebar": "Contents",
   "toc_cell": false,
   "toc_position": {
    "height": "calc(100% - 180px)",
    "left": "10px",
    "top": "150px",
    "width": "366.4px"
   },
   "toc_section_display": true,
   "toc_window_display": true
  }
 },
 "nbformat": 4,
 "nbformat_minor": 5
}
