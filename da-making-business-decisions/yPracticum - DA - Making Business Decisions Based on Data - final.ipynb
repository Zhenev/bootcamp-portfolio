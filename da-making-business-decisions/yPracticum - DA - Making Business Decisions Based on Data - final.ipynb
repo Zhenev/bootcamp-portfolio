{
 "cells": [
  {
   "cell_type": "markdown",
   "id": "84684c07",
   "metadata": {},
   "source": [
    "## Content <a id='content'></a>\n",
    "\n",
    "[Introduction](#intro)\n",
    "\n",
    "[Datasets](#datasets)\n",
    "\n",
    "[Data preprocessing](#prep)\n",
    "\n",
    "[Data Analysis](#da)\n",
    "\n",
    "[Conclusions](#conclusions)"
   ]
  },
  {
   "cell_type": "markdown",
   "id": "2181d148",
   "metadata": {},
   "source": [
    "# Introduction <a id='intro'></a>"
   ]
  },
  {
   "cell_type": "markdown",
   "id": "bdb7b25c",
   "metadata": {},
   "source": [
    "I am a team member for a big online store. Together with the marketing department, we compiled a list of hypotheses that may help boost revenue. I need to prioritize these hypotheses and then to analyze the results. \n",
    "\n",
    "**To prioritize the hypotheses, we will:**\n",
    "\n",
    "- Apply the ICE framework to prioritize hypotheses. Sort them in descending order of priority.\n",
    "- Apply the RICE framework to prioritize hypotheses. Sort them in descending order of priority.\n",
    "- Show possible changes in the prioritization of hypotheses when applying RICE instead of ICE.\n",
    "\n",
    "**To analyze the results, we will:**\n",
    "\n",
    "- Graph and study cumulative revenue by group.\n",
    "- Graph and study cumulative average order size by group.\n",
    "- Graph and study the relative difference in cumulative average order size for group B compared with group A.\n",
    "- Calculate each group's conversion rate as the ratio of orders to the number of visits for each day. Plot and study the daily conversion rates of the two groups and describe the difference.\n",
    "- Plot and study a scatter chart of the number of orders per user.\n",
    "- Calculate the 95th and 99th percentiles for the number of orders per user. Define the point at which a data point becomes an anomaly.\n",
    "- Plot and study a scatter chart of order prices.\n",
    "- Calculate the 95th and 99th percentiles of order prices. Define the point at which a data point becomes an anomaly.\n",
    "- Find the statistical significance of the difference in conversion between the groups using the raw data\n",
    "- Find the statistical significance of the difference in average order size between the groups using the raw data.\n",
    "- Find the statistical significance of the difference in conversion between the groups using the filtered data.\n",
    "- Find the statistical significance of the difference in average order size between the groups using the filtered data.\n",
    "\n",
    "**Finally, we will make a decision based on the test results.** The possible decisions will be: 1. Stop the test, consider one of the groups the leader. 2. Stop the test, conclude that there is no difference between the groups. 3. Continue the test."
   ]
  },
  {
   "cell_type": "markdown",
   "id": "46cb2e06",
   "metadata": {},
   "source": [
    "# Datasets <a id='datasets'></a>"
   ]
  },
  {
   "cell_type": "markdown",
   "id": "864d1378",
   "metadata": {},
   "source": [
    "Data used in the first part of the project, prioritizing hypotheses, contains nine hypotheses on boosting an online store's revenue with Reach, Impact, Confidence, and Effort specified for each.\n",
    "\n",
    "**hypotheses_us.csv**\n",
    "- `Hypotheses` — brief descriptions of the hypotheses\n",
    "- `Reach` — user reach, on a scale of one to ten\n",
    "- `Impact` — impact on users, on a scale of one to ten\n",
    "- `Confidence` — confidence in the hypothesis, on a scale of one to ten\n",
    "- `Effort` — the resources required to test a hypothesis, on a scale of one to ten. The higher the Effort value, the more resource-intensive the test.\n",
    "\n",
    "Data used in the second part of the project\n",
    "\n",
    "**orders_us.csv**\n",
    "\n",
    "- `transactionId` — order identifier\n",
    "- `visitorId` — identifier of the user who placed the order\n",
    "- `date` — of the order\n",
    "- `revenue` — from the order\n",
    "- `group` — the A/B test group that the user belongs to\n",
    "\n",
    "**visits_us.csv**\n",
    "\n",
    "- `date` — date\n",
    "- `group` — A/B test group\n",
    "- `visits` — the number of visits on the date specified in the A/B test group specified"
   ]
  },
  {
   "cell_type": "markdown",
   "id": "d33114e8",
   "metadata": {},
   "source": [
    "# Data preprocessing <a id='prep'></a>"
   ]
  },
  {
   "cell_type": "markdown",
   "id": "0e9c6017",
   "metadata": {},
   "source": [
    "## Libraries"
   ]
  },
  {
   "cell_type": "markdown",
   "id": "dec081ee",
   "metadata": {},
   "source": [
    "Let's load the libraries we might need:"
   ]
  },
  {
   "cell_type": "code",
   "execution_count": 1,
   "id": "e4e2162b",
   "metadata": {},
   "outputs": [],
   "source": [
    "# Loading the libraries\n",
    "\n",
    "import numpy as np\n",
    "import pandas as pd\n",
    "import datetime as dt\n",
    "\n",
    "import matplotlib.pyplot as plt # We will need this for visualisations\n",
    "%matplotlib inline\n",
    "import seaborn as sns\n",
    "\n",
    "from scipy import stats as st # We will need this in case we want to make some statistical checks\n",
    "import math as mth\n",
    "\n",
    "# To filter out automatic comments on plots from Jupyter (not affecting the output)\n",
    "import warnings\n",
    "warnings.filterwarnings(\"ignore\") "
   ]
  },
  {
   "cell_type": "markdown",
   "id": "0bde060b",
   "metadata": {},
   "source": [
    "[Back to Content](#content)"
   ]
  },
  {
   "cell_type": "markdown",
   "id": "b985b129",
   "metadata": {},
   "source": [
    "## File upload"
   ]
  },
  {
   "cell_type": "markdown",
   "id": "0ecce327",
   "metadata": {},
   "source": [
    "We will use a `load()` function to avoid potential problems with the file pathes."
   ]
  },
  {
   "cell_type": "code",
   "execution_count": 2,
   "id": "a2d57e15",
   "metadata": {},
   "outputs": [],
   "source": [
    "# function `load` for a csv load with try-except and a number of rows limit\n",
    "def load(filename, sep = ','):\n",
    "    \"\"\"\n",
    "    i=In addition to the file name, the function takes nrow parameter\n",
    "    for a particular number of rows to load. If None, then the file is loaded fully.\n",
    "    \"\"\"\n",
    "    try:\n",
    "        df_raw = pd.read_csv(filename, sep = sep)\n",
    "    except:\n",
    "        df_raw = pd.read_csv('/'+filename, sep = sep)\n",
    "    return df_raw"
   ]
  },
  {
   "cell_type": "code",
   "execution_count": 3,
   "id": "ce4153b6",
   "metadata": {},
   "outputs": [],
   "source": [
    "hypotheses = load('datasets/hypotheses_us.csv')"
   ]
  },
  {
   "cell_type": "code",
   "execution_count": 4,
   "id": "6fec05b9",
   "metadata": {},
   "outputs": [],
   "source": [
    "orders_raw = load('datasets/orders_us.csv')"
   ]
  },
  {
   "cell_type": "code",
   "execution_count": 5,
   "id": "273774e0",
   "metadata": {},
   "outputs": [],
   "source": [
    "visits = load('datasets/visits_us.csv')"
   ]
  },
  {
   "cell_type": "markdown",
   "id": "ec67b375",
   "metadata": {},
   "source": [
    "Let's look into the files:"
   ]
  },
  {
   "cell_type": "code",
   "execution_count": 6,
   "id": "55a1bf76",
   "metadata": {},
   "outputs": [
    {
     "name": "stdout",
     "output_type": "stream",
     "text": [
      "<class 'pandas.core.frame.DataFrame'>\n",
      "RangeIndex: 9 entries, 0 to 8\n",
      "Data columns (total 1 columns):\n",
      " #   Column                                     Non-Null Count  Dtype \n",
      "---  ------                                     --------------  ----- \n",
      " 0   Hypothesis;Reach;Impact;Confidence;Effort  9 non-null      object\n",
      "dtypes: object(1)\n",
      "memory usage: 1.4 KB\n"
     ]
    }
   ],
   "source": [
    "hypotheses.info(memory_usage='deep')"
   ]
  },
  {
   "cell_type": "code",
   "execution_count": 7,
   "id": "98842bc5",
   "metadata": {},
   "outputs": [
    {
     "name": "stdout",
     "output_type": "stream",
     "text": [
      "<class 'pandas.core.frame.DataFrame'>\n",
      "RangeIndex: 1197 entries, 0 to 1196\n",
      "Data columns (total 5 columns):\n",
      " #   Column         Non-Null Count  Dtype  \n",
      "---  ------         --------------  -----  \n",
      " 0   transactionId  1197 non-null   int64  \n",
      " 1   visitorId      1197 non-null   int64  \n",
      " 2   date           1197 non-null   object \n",
      " 3   revenue        1197 non-null   float64\n",
      " 4   group          1197 non-null   object \n",
      "dtypes: float64(1), int64(2), object(2)\n",
      "memory usage: 174.3 KB\n"
     ]
    }
   ],
   "source": [
    "orders_raw.info(memory_usage='deep')"
   ]
  },
  {
   "cell_type": "code",
   "execution_count": 8,
   "id": "dbad1962",
   "metadata": {},
   "outputs": [
    {
     "name": "stdout",
     "output_type": "stream",
     "text": [
      "<class 'pandas.core.frame.DataFrame'>\n",
      "RangeIndex: 62 entries, 0 to 61\n",
      "Data columns (total 3 columns):\n",
      " #   Column  Non-Null Count  Dtype \n",
      "---  ------  --------------  ----- \n",
      " 0   date    62 non-null     object\n",
      " 1   group   62 non-null     object\n",
      " 2   visits  62 non-null     int64 \n",
      "dtypes: int64(1), object(2)\n",
      "memory usage: 8.2 KB\n"
     ]
    }
   ],
   "source": [
    "visits.info(memory_usage='deep')"
   ]
  },
  {
   "cell_type": "markdown",
   "id": "3ccde925",
   "metadata": {},
   "source": [
    "We can note, that the `hypotheses_us.csv` has been read incorrectly, while `orders` and `visits` dataframes require some data types to be corrected; nevertheless, we will correct only the dates, since we need to be able to order by the `group` variable later on."
   ]
  },
  {
   "cell_type": "code",
   "execution_count": 9,
   "id": "cb695e96",
   "metadata": {},
   "outputs": [],
   "source": [
    "#orders_raw['group'] = orders_raw['group'].astype('category')"
   ]
  },
  {
   "cell_type": "code",
   "execution_count": 10,
   "id": "961bbf2f",
   "metadata": {},
   "outputs": [],
   "source": [
    "#visits['group'] = visits['group'].astype('category')"
   ]
  },
  {
   "cell_type": "markdown",
   "id": "8a28b8cd",
   "metadata": {},
   "source": [
    "Let's check and fix date formats:"
   ]
  },
  {
   "cell_type": "code",
   "execution_count": 11,
   "id": "c19361f7",
   "metadata": {},
   "outputs": [
    {
     "data": {
      "text/html": [
       "<div>\n",
       "<style scoped>\n",
       "    .dataframe tbody tr th:only-of-type {\n",
       "        vertical-align: middle;\n",
       "    }\n",
       "\n",
       "    .dataframe tbody tr th {\n",
       "        vertical-align: top;\n",
       "    }\n",
       "\n",
       "    .dataframe thead th {\n",
       "        text-align: right;\n",
       "    }\n",
       "</style>\n",
       "<table border=\"1\" class=\"dataframe\">\n",
       "  <thead>\n",
       "    <tr style=\"text-align: right;\">\n",
       "      <th></th>\n",
       "      <th>transactionId</th>\n",
       "      <th>visitorId</th>\n",
       "      <th>date</th>\n",
       "      <th>revenue</th>\n",
       "      <th>group</th>\n",
       "    </tr>\n",
       "  </thead>\n",
       "  <tbody>\n",
       "    <tr>\n",
       "      <th>0</th>\n",
       "      <td>3667963787</td>\n",
       "      <td>3312258926</td>\n",
       "      <td>2019-08-15</td>\n",
       "      <td>30.4</td>\n",
       "      <td>B</td>\n",
       "    </tr>\n",
       "  </tbody>\n",
       "</table>\n",
       "</div>"
      ],
      "text/plain": [
       "   transactionId   visitorId        date  revenue group\n",
       "0     3667963787  3312258926  2019-08-15     30.4     B"
      ]
     },
     "execution_count": 11,
     "metadata": {},
     "output_type": "execute_result"
    }
   ],
   "source": [
    "orders_raw.head(1)"
   ]
  },
  {
   "cell_type": "code",
   "execution_count": 12,
   "id": "36781d7a",
   "metadata": {},
   "outputs": [],
   "source": [
    "orders_raw['date'] =  pd.to_datetime(orders_raw['date'], format=\"%Y-%m-%d\")"
   ]
  },
  {
   "cell_type": "code",
   "execution_count": 13,
   "id": "4167d1a8",
   "metadata": {},
   "outputs": [
    {
     "data": {
      "text/html": [
       "<div>\n",
       "<style scoped>\n",
       "    .dataframe tbody tr th:only-of-type {\n",
       "        vertical-align: middle;\n",
       "    }\n",
       "\n",
       "    .dataframe tbody tr th {\n",
       "        vertical-align: top;\n",
       "    }\n",
       "\n",
       "    .dataframe thead th {\n",
       "        text-align: right;\n",
       "    }\n",
       "</style>\n",
       "<table border=\"1\" class=\"dataframe\">\n",
       "  <thead>\n",
       "    <tr style=\"text-align: right;\">\n",
       "      <th></th>\n",
       "      <th>date</th>\n",
       "      <th>group</th>\n",
       "      <th>visits</th>\n",
       "    </tr>\n",
       "  </thead>\n",
       "  <tbody>\n",
       "    <tr>\n",
       "      <th>0</th>\n",
       "      <td>2019-08-01</td>\n",
       "      <td>A</td>\n",
       "      <td>719</td>\n",
       "    </tr>\n",
       "  </tbody>\n",
       "</table>\n",
       "</div>"
      ],
      "text/plain": [
       "         date group  visits\n",
       "0  2019-08-01     A     719"
      ]
     },
     "execution_count": 13,
     "metadata": {},
     "output_type": "execute_result"
    }
   ],
   "source": [
    "visits.head(1)"
   ]
  },
  {
   "cell_type": "code",
   "execution_count": 14,
   "id": "5c8a5108",
   "metadata": {},
   "outputs": [],
   "source": [
    "visits['date'] =  pd.to_datetime(visits['date'], format=\"%Y-%m-%d\")"
   ]
  },
  {
   "cell_type": "markdown",
   "id": "1d552992",
   "metadata": {},
   "source": [
    "Let's give another try to `hypotheses_us.csv`:"
   ]
  },
  {
   "cell_type": "code",
   "execution_count": 15,
   "id": "a6c3b214",
   "metadata": {},
   "outputs": [],
   "source": [
    "hypotheses = load('datasets/hypotheses_us.csv', sep = ';')"
   ]
  },
  {
   "cell_type": "code",
   "execution_count": 16,
   "id": "68b69592",
   "metadata": {},
   "outputs": [
    {
     "name": "stdout",
     "output_type": "stream",
     "text": [
      "<class 'pandas.core.frame.DataFrame'>\n",
      "RangeIndex: 9 entries, 0 to 8\n",
      "Data columns (total 5 columns):\n",
      " #   Column      Non-Null Count  Dtype \n",
      "---  ------      --------------  ----- \n",
      " 0   Hypothesis  9 non-null      object\n",
      " 1   Reach       9 non-null      int64 \n",
      " 2   Impact      9 non-null      int64 \n",
      " 3   Confidence  9 non-null      int64 \n",
      " 4   Effort      9 non-null      int64 \n",
      "dtypes: int64(4), object(1)\n",
      "memory usage: 1.6 KB\n"
     ]
    }
   ],
   "source": [
    "hypotheses.info(memory_usage='deep')"
   ]
  },
  {
   "cell_type": "markdown",
   "id": "0ea472e9",
   "metadata": {},
   "source": [
    "Now the `hypotheses` dataframe is OK, we can fix the column names:"
   ]
  },
  {
   "cell_type": "code",
   "execution_count": 17,
   "id": "c2935927",
   "metadata": {},
   "outputs": [],
   "source": [
    "hypotheses.columns = [x.lower() for x in hypotheses.columns.to_list()]"
   ]
  },
  {
   "cell_type": "code",
   "execution_count": 18,
   "id": "7c010457",
   "metadata": {},
   "outputs": [
    {
     "name": "stdout",
     "output_type": "stream",
     "text": [
      "<class 'pandas.core.frame.DataFrame'>\n",
      "RangeIndex: 9 entries, 0 to 8\n",
      "Data columns (total 5 columns):\n",
      " #   Column      Non-Null Count  Dtype \n",
      "---  ------      --------------  ----- \n",
      " 0   hypothesis  9 non-null      object\n",
      " 1   reach       9 non-null      int64 \n",
      " 2   impact      9 non-null      int64 \n",
      " 3   confidence  9 non-null      int64 \n",
      " 4   effort      9 non-null      int64 \n",
      "dtypes: int64(4), object(1)\n",
      "memory usage: 1.6 KB\n"
     ]
    }
   ],
   "source": [
    "hypotheses.info(memory_usage='deep')"
   ]
  },
  {
   "cell_type": "markdown",
   "id": "bae9cedc",
   "metadata": {},
   "source": [
    "No missing values revealed in either of the datasets."
   ]
  },
  {
   "cell_type": "markdown",
   "id": "e9e790cd",
   "metadata": {},
   "source": [
    "[Back to Content](#content)"
   ]
  },
  {
   "cell_type": "markdown",
   "id": "dfa64d7b",
   "metadata": {},
   "source": [
    "## Data overview <a id='data_overview'></a>"
   ]
  },
  {
   "cell_type": "markdown",
   "id": "0cb1f9ca",
   "metadata": {},
   "source": [
    "We start with the smallest dataframe:"
   ]
  },
  {
   "cell_type": "code",
   "execution_count": 19,
   "id": "263d67ec",
   "metadata": {},
   "outputs": [],
   "source": [
    "pd.options.display.max_colwidth = 210"
   ]
  },
  {
   "cell_type": "code",
   "execution_count": 20,
   "id": "e8766957",
   "metadata": {},
   "outputs": [
    {
     "data": {
      "text/html": [
       "<div>\n",
       "<style scoped>\n",
       "    .dataframe tbody tr th:only-of-type {\n",
       "        vertical-align: middle;\n",
       "    }\n",
       "\n",
       "    .dataframe tbody tr th {\n",
       "        vertical-align: top;\n",
       "    }\n",
       "\n",
       "    .dataframe thead th {\n",
       "        text-align: right;\n",
       "    }\n",
       "</style>\n",
       "<table border=\"1\" class=\"dataframe\">\n",
       "  <thead>\n",
       "    <tr style=\"text-align: right;\">\n",
       "      <th></th>\n",
       "      <th>hypothesis</th>\n",
       "      <th>reach</th>\n",
       "      <th>impact</th>\n",
       "      <th>confidence</th>\n",
       "      <th>effort</th>\n",
       "    </tr>\n",
       "  </thead>\n",
       "  <tbody>\n",
       "    <tr>\n",
       "      <th>0</th>\n",
       "      <td>Add two new channels for attracting traffic. This will bring 30% more users</td>\n",
       "      <td>3</td>\n",
       "      <td>10</td>\n",
       "      <td>8</td>\n",
       "      <td>6</td>\n",
       "    </tr>\n",
       "    <tr>\n",
       "      <th>1</th>\n",
       "      <td>Launch your own delivery service. This will shorten delivery time</td>\n",
       "      <td>2</td>\n",
       "      <td>5</td>\n",
       "      <td>4</td>\n",
       "      <td>10</td>\n",
       "    </tr>\n",
       "    <tr>\n",
       "      <th>2</th>\n",
       "      <td>Add product recommendation blocks to the store's site. This will increase conversion and average purchase size</td>\n",
       "      <td>8</td>\n",
       "      <td>3</td>\n",
       "      <td>7</td>\n",
       "      <td>3</td>\n",
       "    </tr>\n",
       "    <tr>\n",
       "      <th>3</th>\n",
       "      <td>Change the category structure. This will increase conversion since users will find the products they want more quickly</td>\n",
       "      <td>8</td>\n",
       "      <td>3</td>\n",
       "      <td>3</td>\n",
       "      <td>8</td>\n",
       "    </tr>\n",
       "    <tr>\n",
       "      <th>4</th>\n",
       "      <td>Change the background color on the main page. This will increase user engagement</td>\n",
       "      <td>3</td>\n",
       "      <td>1</td>\n",
       "      <td>1</td>\n",
       "      <td>1</td>\n",
       "    </tr>\n",
       "    <tr>\n",
       "      <th>5</th>\n",
       "      <td>Add a customer review page. This will increase the number of orders</td>\n",
       "      <td>3</td>\n",
       "      <td>2</td>\n",
       "      <td>2</td>\n",
       "      <td>3</td>\n",
       "    </tr>\n",
       "    <tr>\n",
       "      <th>6</th>\n",
       "      <td>Show banners with current offers and sales on the main page. This will boost conversion</td>\n",
       "      <td>5</td>\n",
       "      <td>3</td>\n",
       "      <td>8</td>\n",
       "      <td>3</td>\n",
       "    </tr>\n",
       "    <tr>\n",
       "      <th>7</th>\n",
       "      <td>Add a subscription form to all the main pages. This will help you compile a mailing list</td>\n",
       "      <td>10</td>\n",
       "      <td>7</td>\n",
       "      <td>8</td>\n",
       "      <td>5</td>\n",
       "    </tr>\n",
       "    <tr>\n",
       "      <th>8</th>\n",
       "      <td>Launch a promotion that gives users discounts on their birthdays</td>\n",
       "      <td>1</td>\n",
       "      <td>9</td>\n",
       "      <td>9</td>\n",
       "      <td>5</td>\n",
       "    </tr>\n",
       "  </tbody>\n",
       "</table>\n",
       "</div>"
      ],
      "text/plain": [
       "                                                                                                               hypothesis  \\\n",
       "0                                             Add two new channels for attracting traffic. This will bring 30% more users   \n",
       "1                                                       Launch your own delivery service. This will shorten delivery time   \n",
       "2          Add product recommendation blocks to the store's site. This will increase conversion and average purchase size   \n",
       "3  Change the category structure. This will increase conversion since users will find the products they want more quickly   \n",
       "4                                        Change the background color on the main page. This will increase user engagement   \n",
       "5                                                     Add a customer review page. This will increase the number of orders   \n",
       "6                                 Show banners with current offers and sales on the main page. This will boost conversion   \n",
       "7                                Add a subscription form to all the main pages. This will help you compile a mailing list   \n",
       "8                                                        Launch a promotion that gives users discounts on their birthdays   \n",
       "\n",
       "   reach  impact  confidence  effort  \n",
       "0      3      10           8       6  \n",
       "1      2       5           4      10  \n",
       "2      8       3           7       3  \n",
       "3      8       3           3       8  \n",
       "4      3       1           1       1  \n",
       "5      3       2           2       3  \n",
       "6      5       3           8       3  \n",
       "7     10       7           8       5  \n",
       "8      1       9           9       5  "
      ]
     },
     "execution_count": 20,
     "metadata": {},
     "output_type": "execute_result"
    }
   ],
   "source": [
    "hypotheses"
   ]
  },
  {
   "cell_type": "code",
   "execution_count": 21,
   "id": "4c503a86",
   "metadata": {},
   "outputs": [
    {
     "data": {
      "text/plain": [
       "['Add two new channels for attracting traffic. This will bring 30% more users',\n",
       " 'Launch your own delivery service. This will shorten delivery time',\n",
       " \"Add product recommendation blocks to the store's site. This will increase conversion and average purchase size\",\n",
       " 'Change the category structure. This will increase conversion since users will find the products they want more quickly',\n",
       " 'Change the background color on the main page. This will increase user engagement',\n",
       " 'Add a customer review page. This will increase the number of orders',\n",
       " 'Show banners with current offers and sales on the main page. This will boost conversion',\n",
       " 'Add a subscription form to all the main pages. This will help you compile a mailing list',\n",
       " 'Launch a promotion that gives users discounts on their birthdays']"
      ]
     },
     "execution_count": 21,
     "metadata": {},
     "output_type": "execute_result"
    }
   ],
   "source": [
    "hypotheses['hypothesis'].to_list()"
   ]
  },
  {
   "cell_type": "markdown",
   "id": "734786ee",
   "metadata": {},
   "source": [
    "One side observation can be made so far, besides the first one, the other hypotheses need more details to make them specific. Let's move to the `orders` dataframe."
   ]
  },
  {
   "cell_type": "code",
   "execution_count": 22,
   "id": "df0d27db",
   "metadata": {},
   "outputs": [
    {
     "data": {
      "text/html": [
       "<div>\n",
       "<style scoped>\n",
       "    .dataframe tbody tr th:only-of-type {\n",
       "        vertical-align: middle;\n",
       "    }\n",
       "\n",
       "    .dataframe tbody tr th {\n",
       "        vertical-align: top;\n",
       "    }\n",
       "\n",
       "    .dataframe thead th {\n",
       "        text-align: right;\n",
       "    }\n",
       "</style>\n",
       "<table border=\"1\" class=\"dataframe\">\n",
       "  <thead>\n",
       "    <tr style=\"text-align: right;\">\n",
       "      <th></th>\n",
       "      <th>transactionId</th>\n",
       "      <th>visitorId</th>\n",
       "      <th>date</th>\n",
       "      <th>revenue</th>\n",
       "      <th>group</th>\n",
       "    </tr>\n",
       "  </thead>\n",
       "  <tbody>\n",
       "    <tr>\n",
       "      <th>0</th>\n",
       "      <td>3667963787</td>\n",
       "      <td>3312258926</td>\n",
       "      <td>2019-08-15</td>\n",
       "      <td>30.4</td>\n",
       "      <td>B</td>\n",
       "    </tr>\n",
       "    <tr>\n",
       "      <th>1</th>\n",
       "      <td>2804400009</td>\n",
       "      <td>3642806036</td>\n",
       "      <td>2019-08-15</td>\n",
       "      <td>15.2</td>\n",
       "      <td>B</td>\n",
       "    </tr>\n",
       "    <tr>\n",
       "      <th>2</th>\n",
       "      <td>2961555356</td>\n",
       "      <td>4069496402</td>\n",
       "      <td>2019-08-15</td>\n",
       "      <td>10.2</td>\n",
       "      <td>A</td>\n",
       "    </tr>\n",
       "    <tr>\n",
       "      <th>3</th>\n",
       "      <td>3797467345</td>\n",
       "      <td>1196621759</td>\n",
       "      <td>2019-08-15</td>\n",
       "      <td>155.1</td>\n",
       "      <td>B</td>\n",
       "    </tr>\n",
       "    <tr>\n",
       "      <th>4</th>\n",
       "      <td>2282983706</td>\n",
       "      <td>2322279887</td>\n",
       "      <td>2019-08-15</td>\n",
       "      <td>40.5</td>\n",
       "      <td>B</td>\n",
       "    </tr>\n",
       "    <tr>\n",
       "      <th>5</th>\n",
       "      <td>182168103</td>\n",
       "      <td>935554773</td>\n",
       "      <td>2019-08-15</td>\n",
       "      <td>35.0</td>\n",
       "      <td>B</td>\n",
       "    </tr>\n",
       "    <tr>\n",
       "      <th>6</th>\n",
       "      <td>398296753</td>\n",
       "      <td>2900797465</td>\n",
       "      <td>2019-08-15</td>\n",
       "      <td>30.6</td>\n",
       "      <td>B</td>\n",
       "    </tr>\n",
       "    <tr>\n",
       "      <th>7</th>\n",
       "      <td>2626614568</td>\n",
       "      <td>78758296</td>\n",
       "      <td>2019-08-15</td>\n",
       "      <td>20.1</td>\n",
       "      <td>A</td>\n",
       "    </tr>\n",
       "    <tr>\n",
       "      <th>8</th>\n",
       "      <td>1576988021</td>\n",
       "      <td>295230930</td>\n",
       "      <td>2019-08-15</td>\n",
       "      <td>215.9</td>\n",
       "      <td>A</td>\n",
       "    </tr>\n",
       "    <tr>\n",
       "      <th>9</th>\n",
       "      <td>1506739906</td>\n",
       "      <td>1882260405</td>\n",
       "      <td>2019-08-15</td>\n",
       "      <td>30.5</td>\n",
       "      <td>B</td>\n",
       "    </tr>\n",
       "  </tbody>\n",
       "</table>\n",
       "</div>"
      ],
      "text/plain": [
       "   transactionId   visitorId       date  revenue group\n",
       "0     3667963787  3312258926 2019-08-15     30.4     B\n",
       "1     2804400009  3642806036 2019-08-15     15.2     B\n",
       "2     2961555356  4069496402 2019-08-15     10.2     A\n",
       "3     3797467345  1196621759 2019-08-15    155.1     B\n",
       "4     2282983706  2322279887 2019-08-15     40.5     B\n",
       "5      182168103   935554773 2019-08-15     35.0     B\n",
       "6      398296753  2900797465 2019-08-15     30.6     B\n",
       "7     2626614568    78758296 2019-08-15     20.1     A\n",
       "8     1576988021   295230930 2019-08-15    215.9     A\n",
       "9     1506739906  1882260405 2019-08-15     30.5     B"
      ]
     },
     "execution_count": 22,
     "metadata": {},
     "output_type": "execute_result"
    }
   ],
   "source": [
    "orders_raw.head(10)"
   ]
  },
  {
   "cell_type": "code",
   "execution_count": 23,
   "id": "0d266f8d",
   "metadata": {},
   "outputs": [
    {
     "data": {
      "text/html": [
       "<div>\n",
       "<style scoped>\n",
       "    .dataframe tbody tr th:only-of-type {\n",
       "        vertical-align: middle;\n",
       "    }\n",
       "\n",
       "    .dataframe tbody tr th {\n",
       "        vertical-align: top;\n",
       "    }\n",
       "\n",
       "    .dataframe thead th {\n",
       "        text-align: right;\n",
       "    }\n",
       "</style>\n",
       "<table border=\"1\" class=\"dataframe\">\n",
       "  <thead>\n",
       "    <tr style=\"text-align: right;\">\n",
       "      <th></th>\n",
       "      <th>date</th>\n",
       "      <th>group</th>\n",
       "      <th>visits</th>\n",
       "    </tr>\n",
       "  </thead>\n",
       "  <tbody>\n",
       "    <tr>\n",
       "      <th>0</th>\n",
       "      <td>2019-08-01</td>\n",
       "      <td>A</td>\n",
       "      <td>719</td>\n",
       "    </tr>\n",
       "    <tr>\n",
       "      <th>1</th>\n",
       "      <td>2019-08-02</td>\n",
       "      <td>A</td>\n",
       "      <td>619</td>\n",
       "    </tr>\n",
       "    <tr>\n",
       "      <th>2</th>\n",
       "      <td>2019-08-03</td>\n",
       "      <td>A</td>\n",
       "      <td>507</td>\n",
       "    </tr>\n",
       "    <tr>\n",
       "      <th>3</th>\n",
       "      <td>2019-08-04</td>\n",
       "      <td>A</td>\n",
       "      <td>717</td>\n",
       "    </tr>\n",
       "    <tr>\n",
       "      <th>4</th>\n",
       "      <td>2019-08-05</td>\n",
       "      <td>A</td>\n",
       "      <td>756</td>\n",
       "    </tr>\n",
       "    <tr>\n",
       "      <th>5</th>\n",
       "      <td>2019-08-06</td>\n",
       "      <td>A</td>\n",
       "      <td>667</td>\n",
       "    </tr>\n",
       "    <tr>\n",
       "      <th>6</th>\n",
       "      <td>2019-08-07</td>\n",
       "      <td>A</td>\n",
       "      <td>644</td>\n",
       "    </tr>\n",
       "    <tr>\n",
       "      <th>7</th>\n",
       "      <td>2019-08-08</td>\n",
       "      <td>A</td>\n",
       "      <td>610</td>\n",
       "    </tr>\n",
       "    <tr>\n",
       "      <th>8</th>\n",
       "      <td>2019-08-09</td>\n",
       "      <td>A</td>\n",
       "      <td>617</td>\n",
       "    </tr>\n",
       "    <tr>\n",
       "      <th>9</th>\n",
       "      <td>2019-08-10</td>\n",
       "      <td>A</td>\n",
       "      <td>406</td>\n",
       "    </tr>\n",
       "  </tbody>\n",
       "</table>\n",
       "</div>"
      ],
      "text/plain": [
       "        date group  visits\n",
       "0 2019-08-01     A     719\n",
       "1 2019-08-02     A     619\n",
       "2 2019-08-03     A     507\n",
       "3 2019-08-04     A     717\n",
       "4 2019-08-05     A     756\n",
       "5 2019-08-06     A     667\n",
       "6 2019-08-07     A     644\n",
       "7 2019-08-08     A     610\n",
       "8 2019-08-09     A     617\n",
       "9 2019-08-10     A     406"
      ]
     },
     "execution_count": 23,
     "metadata": {},
     "output_type": "execute_result"
    }
   ],
   "source": [
    "visits.head(10)"
   ]
  },
  {
   "cell_type": "code",
   "execution_count": 24,
   "id": "7a68a383",
   "metadata": {},
   "outputs": [
    {
     "name": "stdout",
     "output_type": "stream",
     "text": [
      "Order time range: 2019-08-01 00:00:00 2019-08-31 00:00:00\n"
     ]
    }
   ],
   "source": [
    "print(\"Order time range:\", orders_raw['date'].min(), orders_raw['date'].max())"
   ]
  },
  {
   "cell_type": "code",
   "execution_count": 25,
   "id": "69a5b2ec",
   "metadata": {},
   "outputs": [
    {
     "name": "stdout",
     "output_type": "stream",
     "text": [
      "Visit time range: 2019-08-01 00:00:00 2019-08-31 00:00:00\n"
     ]
    }
   ],
   "source": [
    "print(\"Visit time range:\", visits['date'].min(), visits['date'].max())"
   ]
  },
  {
   "cell_type": "markdown",
   "id": "48acf787",
   "metadata": {},
   "source": [
    "The data covers one month, August  2019. Let's check the data for duplicates."
   ]
  },
  {
   "cell_type": "code",
   "execution_count": 26,
   "id": "41a509af",
   "metadata": {},
   "outputs": [
    {
     "data": {
      "text/plain": [
       "array(['B', 'A'], dtype=object)"
      ]
     },
     "execution_count": 26,
     "metadata": {},
     "output_type": "execute_result"
    }
   ],
   "source": [
    "orders_raw['group'].unique()"
   ]
  },
  {
   "cell_type": "code",
   "execution_count": 27,
   "id": "3e7c02c2",
   "metadata": {},
   "outputs": [
    {
     "data": {
      "text/plain": [
       "array(['A', 'B'], dtype=object)"
      ]
     },
     "execution_count": 27,
     "metadata": {},
     "output_type": "execute_result"
    }
   ],
   "source": [
    "visits['group'].unique()"
   ]
  },
  {
   "cell_type": "code",
   "execution_count": 28,
   "id": "6271f043",
   "metadata": {},
   "outputs": [
    {
     "data": {
      "text/plain": [
       "62"
      ]
     },
     "execution_count": 28,
     "metadata": {},
     "output_type": "execute_result"
    }
   ],
   "source": [
    "len(visits)"
   ]
  },
  {
   "cell_type": "markdown",
   "id": "4289d2d4",
   "metadata": {},
   "source": [
    "Right, both dataframes have the visitors divided into two groups, `A` and `B`, the `visits` dataframe 62 entries accordingly."
   ]
  },
  {
   "cell_type": "markdown",
   "id": "572a0faa",
   "metadata": {},
   "source": [
    "[Back to Content](#content)"
   ]
  },
  {
   "cell_type": "markdown",
   "id": "4dd527a8",
   "metadata": {},
   "source": [
    "## Checking for duplicates <a id = \"dup\"> <a/>"
   ]
  },
  {
   "cell_type": "markdown",
   "id": "4016219b",
   "metadata": {},
   "source": [
    "First, we will make a basic technical check:"
   ]
  },
  {
   "cell_type": "code",
   "execution_count": 29,
   "id": "663f0432",
   "metadata": {},
   "outputs": [
    {
     "data": {
      "text/plain": [
       "1197"
      ]
     },
     "execution_count": 29,
     "metadata": {},
     "output_type": "execute_result"
    }
   ],
   "source": [
    "len(orders_raw)"
   ]
  },
  {
   "cell_type": "code",
   "execution_count": 30,
   "id": "47a4860f",
   "metadata": {},
   "outputs": [
    {
     "data": {
      "text/plain": [
       "visitorId    1031\n",
       "dtype: int64"
      ]
     },
     "execution_count": 30,
     "metadata": {},
     "output_type": "execute_result"
    }
   ],
   "source": [
    "orders_raw[['visitorId']].nunique()"
   ]
  },
  {
   "cell_type": "markdown",
   "id": "6111f9b2",
   "metadata": {},
   "source": [
    "We have 1031 unique visitor, some of the seem to make multiple orders during that month."
   ]
  },
  {
   "cell_type": "code",
   "execution_count": 31,
   "id": "64bba42e",
   "metadata": {},
   "outputs": [
    {
     "data": {
      "text/plain": [
       "0"
      ]
     },
     "execution_count": 31,
     "metadata": {},
     "output_type": "execute_result"
    }
   ],
   "source": [
    "orders_raw.duplicated().sum()"
   ]
  },
  {
   "cell_type": "markdown",
   "id": "1e334299",
   "metadata": {},
   "source": [
    "No technical duplicates."
   ]
  },
  {
   "cell_type": "code",
   "execution_count": 32,
   "id": "1049b704",
   "metadata": {},
   "outputs": [
    {
     "data": {
      "text/plain": [
       "0"
      ]
     },
     "execution_count": 32,
     "metadata": {},
     "output_type": "execute_result"
    }
   ],
   "source": [
    "orders_raw[['transactionId', 'visitorId']].duplicated().sum()"
   ]
  },
  {
   "cell_type": "code",
   "execution_count": 33,
   "id": "3ae214c3",
   "metadata": {},
   "outputs": [
    {
     "data": {
      "text/plain": [
       "0"
      ]
     },
     "execution_count": 33,
     "metadata": {},
     "output_type": "execute_result"
    }
   ],
   "source": [
    "orders_raw[['transactionId']].duplicated().sum()"
   ]
  },
  {
   "cell_type": "code",
   "execution_count": 34,
   "id": "5410ad70",
   "metadata": {},
   "outputs": [
    {
     "data": {
      "text/plain": [
       "166"
      ]
     },
     "execution_count": 34,
     "metadata": {},
     "output_type": "execute_result"
    }
   ],
   "source": [
    "orders_raw[['visitorId']].duplicated().sum()"
   ]
  },
  {
   "cell_type": "markdown",
   "id": "824cd2a0",
   "metadata": {},
   "source": [
    "Hm... No combination of transaction and visitor or transaction on its own are double counted, but there are duplicates for visitors. Some of them should be additional orders probably, but to be on the safe side, let's check that to visitorId can be find in both groups."
   ]
  },
  {
   "cell_type": "markdown",
   "id": "026afc24",
   "metadata": {},
   "source": [
    "We will create the variables `ordersByUsersA` and `ordersByUsersB` to store the columns `['visitorId', 'orders']`. For users with at least one order, we will also indicate the number of orders made. "
   ]
  },
  {
   "cell_type": "code",
   "execution_count": 35,
   "id": "ecbd2ff7",
   "metadata": {},
   "outputs": [],
   "source": [
    "ordersByUsersA = orders_raw[orders_raw['group']=='A'].groupby('visitorId',\n",
    "                                                      as_index=False).agg({'transactionId' : pd.Series.nunique})\n",
    "ordersByUsersA.columns = ['visitorId', 'orders']\n",
    "\n",
    "ordersByUsersB = orders_raw[orders_raw['group']=='B'].groupby('visitorId',\n",
    "                                                      as_index=False).agg({'transactionId' : pd.Series.nunique})\n",
    "ordersByUsersB.columns = ['visitorId', 'orders']"
   ]
  },
  {
   "cell_type": "code",
   "execution_count": 36,
   "id": "693d1b77",
   "metadata": {},
   "outputs": [
    {
     "name": "stdout",
     "output_type": "stream",
     "text": [
      "Total number of visitors in group A orders: 503.\n"
     ]
    }
   ],
   "source": [
    "print(f\"Total number of visitors in group A orders: {len(ordersByUsersA)}.\")"
   ]
  },
  {
   "cell_type": "code",
   "execution_count": 37,
   "id": "c410e0ca",
   "metadata": {},
   "outputs": [
    {
     "name": "stdout",
     "output_type": "stream",
     "text": [
      "Total number of visitors in group B orders: 586.\n"
     ]
    }
   ],
   "source": [
    "print(f\"Total number of visitors in group B orders: {len(ordersByUsersB)}.\")"
   ]
  },
  {
   "cell_type": "markdown",
   "id": "69300637",
   "metadata": {},
   "source": [
    "Let's check that no visiotr was not out into both groups."
   ]
  },
  {
   "cell_type": "code",
   "execution_count": 38,
   "id": "c2cffaf7",
   "metadata": {},
   "outputs": [
    {
     "data": {
      "text/plain": [
       "58"
      ]
     },
     "execution_count": 38,
     "metadata": {},
     "output_type": "execute_result"
    }
   ],
   "source": [
    "# list of visitorId`s from group B orders\n",
    "b_list = ordersByUsersB['visitorId'].to_list()\n",
    "len(ordersByUsersA.query(\"visitorId in @b_list\"))"
   ]
  },
  {
   "cell_type": "code",
   "execution_count": 39,
   "id": "0eef1d6a",
   "metadata": {},
   "outputs": [
    {
     "data": {
      "text/plain": [
       "58"
      ]
     },
     "execution_count": 39,
     "metadata": {},
     "output_type": "execute_result"
    }
   ],
   "source": [
    "# list of visitorId`s from group A orders\n",
    "a_list = ordersByUsersA['visitorId'].to_list()\n",
    "len(ordersByUsersB.query(\"visitorId in @a_list\"))"
   ]
  },
  {
   "cell_type": "markdown",
   "id": "9eb55cdc",
   "metadata": {},
   "source": [
    "We encounter 58 visitors whose id's are common for both groups. Let's single them out:"
   ]
  },
  {
   "cell_type": "code",
   "execution_count": 40,
   "id": "82dcd658",
   "metadata": {},
   "outputs": [],
   "source": [
    "visitorId_dup = ordersByUsersB.query(\"visitorId in @a_list\")['visitorId'].to_list()"
   ]
  },
  {
   "cell_type": "code",
   "execution_count": 41,
   "id": "b99f7484",
   "metadata": {},
   "outputs": [],
   "source": [
    "#visitorId_dup"
   ]
  },
  {
   "cell_type": "markdown",
   "id": "f9388bc1",
   "metadata": {},
   "source": [
    "We have no option to know which group they could actually belong and we cannot just randomly distribute them by the groups; thus, we have no other option but delist them, even that they comprise 10% for `group B` and even more for `group A`. Actually, the next question is to which degree the data on visits is credible, since those visitors could be accounted twice as well... but we will have just to keep this consideration in mind. Let's \"clean up\" the `ordersByUsersA` and `ordersByUsersB` dataframes."
   ]
  },
  {
   "cell_type": "code",
   "execution_count": 42,
   "id": "b0e28125",
   "metadata": {},
   "outputs": [],
   "source": [
    "ordersByUsersA = ordersByUsersA.query('visitorId not in @b_list')"
   ]
  },
  {
   "cell_type": "code",
   "execution_count": 43,
   "id": "d7f5e010",
   "metadata": {},
   "outputs": [],
   "source": [
    "ordersByUsersB = ordersByUsersB.query('visitorId not in @a_list')"
   ]
  },
  {
   "cell_type": "markdown",
   "id": "8a13ff63",
   "metadata": {},
   "source": [
    "Let's check the final numbers."
   ]
  },
  {
   "cell_type": "code",
   "execution_count": 44,
   "id": "e1b6e201",
   "metadata": {},
   "outputs": [
    {
     "data": {
      "text/plain": [
       "445"
      ]
     },
     "execution_count": 44,
     "metadata": {},
     "output_type": "execute_result"
    }
   ],
   "source": [
    "len(ordersByUsersA)"
   ]
  },
  {
   "cell_type": "code",
   "execution_count": 45,
   "id": "9a21c266",
   "metadata": {},
   "outputs": [
    {
     "data": {
      "text/plain": [
       "528"
      ]
     },
     "execution_count": 45,
     "metadata": {},
     "output_type": "execute_result"
    }
   ],
   "source": [
    "len(ordersByUsersB)"
   ]
  },
  {
   "cell_type": "markdown",
   "id": "af08baef",
   "metadata": {},
   "source": [
    "Let's perform a preliminary check for outliers in the `orders` dataset."
   ]
  },
  {
   "cell_type": "code",
   "execution_count": 46,
   "id": "9b5354d2",
   "metadata": {},
   "outputs": [
    {
     "data": {
      "text/plain": [
       "count     1197.000000\n",
       "mean       131.491646\n",
       "std        603.004729\n",
       "min          5.000000\n",
       "25%         20.800000\n",
       "50%         50.200000\n",
       "75%        130.400000\n",
       "max      19920.400000\n",
       "Name: revenue, dtype: float64"
      ]
     },
     "execution_count": 46,
     "metadata": {},
     "output_type": "execute_result"
    }
   ],
   "source": [
    "orders_raw['revenue'].describe()"
   ]
  },
  {
   "cell_type": "code",
   "execution_count": 47,
   "id": "3f91c2a6",
   "metadata": {},
   "outputs": [
    {
     "data": {
      "image/png": "[encoded data removed]",
      "text/plain": [
       "<Figure size 1152x216 with 1 Axes>"
      ]
     },
     "metadata": {
      "needs_background": "light"
     },
     "output_type": "display_data"
    }
   ],
   "source": [
    "plt.figure(figsize=(16, 3))\n",
    "plt.scatter(orders_raw['date'], orders_raw['revenue']) \n",
    "plt.ylabel(\"Money units\")\n",
    "plt.xlabel(\"Date\")\n",
    "plt.show()"
   ]
  },
  {
   "cell_type": "markdown",
   "id": "eefd16fd",
   "metadata": {},
   "source": [
    "We can already see that there is one order of 19920 (on August 19) money units and another one around 2500 (August 15); 75% of them are below 130."
   ]
  },
  {
   "cell_type": "code",
   "execution_count": 48,
   "id": "9fdff13d",
   "metadata": {},
   "outputs": [
    {
     "data": {
      "text/plain": [
       "count    445.000000\n",
       "mean       1.051685\n",
       "std        0.267669\n",
       "min        1.000000\n",
       "25%        1.000000\n",
       "50%        1.000000\n",
       "75%        1.000000\n",
       "max        3.000000\n",
       "Name: orders, dtype: float64"
      ]
     },
     "execution_count": 48,
     "metadata": {},
     "output_type": "execute_result"
    }
   ],
   "source": [
    "ordersByUsersA['orders'].describe()"
   ]
  },
  {
   "cell_type": "code",
   "execution_count": 49,
   "id": "43bb5e2c",
   "metadata": {
    "scrolled": true
   },
   "outputs": [
    {
     "data": {
      "image/png": "[encoded data removed]",
      "text/plain": [
       "<Figure size 1152x216 with 1 Axes>"
      ]
     },
     "metadata": {
      "needs_background": "light"
     },
     "output_type": "display_data"
    }
   ],
   "source": [
    "plt.figure(figsize=(16, 3))\n",
    "x_values = pd.Series(range(0, len(ordersByUsersA['orders'])))\n",
    "plt.scatter(x_values, ordersByUsersA['orders']) \n",
    "plt.ylabel(\"Number of orders\")\n",
    "plt.xlabel(\"Visitor counter\")\n",
    "plt.title(\"Number of orders per user - group A\")\n",
    "plt.show()"
   ]
  },
  {
   "cell_type": "code",
   "execution_count": 50,
   "id": "4b7937fe",
   "metadata": {},
   "outputs": [
    {
     "data": {
      "text/plain": [
       "count    528.000000\n",
       "mean       1.037879\n",
       "std        0.210008\n",
       "min        1.000000\n",
       "25%        1.000000\n",
       "50%        1.000000\n",
       "75%        1.000000\n",
       "max        3.000000\n",
       "Name: orders, dtype: float64"
      ]
     },
     "execution_count": 50,
     "metadata": {},
     "output_type": "execute_result"
    }
   ],
   "source": [
    "ordersByUsersB['orders'].describe()"
   ]
  },
  {
   "cell_type": "code",
   "execution_count": 51,
   "id": "a8e4a3fb",
   "metadata": {},
   "outputs": [
    {
     "data": {
      "image/png": "[encoded data removed]",
      "text/plain": [
       "<Figure size 1152x216 with 1 Axes>"
      ]
     },
     "metadata": {
      "needs_background": "light"
     },
     "output_type": "display_data"
    }
   ],
   "source": [
    "plt.figure(figsize=(16, 3))\n",
    "x_values = pd.Series(range(0, len(ordersByUsersB['orders'])))\n",
    "plt.scatter(x_values, ordersByUsersB['orders']) \n",
    "plt.ylabel(\"Number of orders\")\n",
    "plt.xlabel(\"Visitor counter\")\n",
    "plt.title(\"Number of orders per user - group B\")\n",
    "plt.show()"
   ]
  },
  {
   "cell_type": "markdown",
   "id": "4dc1db4f",
   "metadata": {},
   "source": [
    "With regard to the number of orders per visitor, there are 5 visiotrs with 3 orders, and about 10 visitors with 2 orders; 75% of them placed only one order."
   ]
  },
  {
   "cell_type": "markdown",
   "id": "01f3179f",
   "metadata": {},
   "source": [
    "### Summary on datasets"
   ]
  },
  {
   "cell_type": "markdown",
   "id": "5e25e987",
   "metadata": {},
   "source": [
    "1. A quick check of the necessary data types was performed, date and category data types were fixed.\n",
    "2. No missing values.\n",
    "3. The resulting datasets contain data on 1031 visitors and 1197 orders, but we have found that 58 visitors were double counted (see below).\n",
    "4. The observations cover one month, August 2019.\n",
    "5. In the initial `orders` dataframe, we saw that there was one order of 19920 money units and another one around 2500; 75% of them are below 130.\n",
    "6. We encounter 58 visitors whose id's are common for both groups. We had no option rather than delist them, even that they comprise 10% for `group B` and even more for `group A`. We will keep in mind, that the data on visits should have been also checked by the source, since those visitors could be accounted twice as well.\n",
    "7. After recalculating the `ordersByUsersA` and `ordersByUsersB` dataframes, there are 7 visitors left with 3 orders, and about 20 visitors with 2 orders; 75% of them placed only one order."
   ]
  },
  {
   "cell_type": "markdown",
   "id": "d7d60d46",
   "metadata": {},
   "source": [
    "[Back to Content](#content)"
   ]
  },
  {
   "cell_type": "markdown",
   "id": "f022b6a9",
   "metadata": {},
   "source": [
    "Let's move on with the analysis."
   ]
  },
  {
   "cell_type": "markdown",
   "id": "b2a0e797",
   "metadata": {},
   "source": [
    "# Data Analysis <a id='da'></a>"
   ]
  },
  {
   "cell_type": "markdown",
   "id": "a86add59",
   "metadata": {},
   "source": [
    "### Part 1. Prioritizing Hypotheses"
   ]
  },
  {
   "cell_type": "markdown",
   "id": "0512038d",
   "metadata": {},
   "source": [
    "Let's apply the `ICE` framework to prioritize hypotheses. Sort them in descending order of priority."
   ]
  },
  {
   "cell_type": "markdown",
   "id": "fc67be11",
   "metadata": {},
   "source": [
    "ICE has three components:\n",
    "\n",
    "- Impact — how strongly this update will affect the users, their experience, and their satisfaction with the product\n",
    "- Confidence — how sure you are that your product will affect them in this way\n",
    "- Effort — how much will it cost to test the hypothesis."
   ]
  },
  {
   "cell_type": "code",
   "execution_count": 52,
   "id": "1121b8c8",
   "metadata": {},
   "outputs": [
    {
     "data": {
      "text/html": [
       "<div>\n",
       "<style scoped>\n",
       "    .dataframe tbody tr th:only-of-type {\n",
       "        vertical-align: middle;\n",
       "    }\n",
       "\n",
       "    .dataframe tbody tr th {\n",
       "        vertical-align: top;\n",
       "    }\n",
       "\n",
       "    .dataframe thead th {\n",
       "        text-align: right;\n",
       "    }\n",
       "</style>\n",
       "<table border=\"1\" class=\"dataframe\">\n",
       "  <thead>\n",
       "    <tr style=\"text-align: right;\">\n",
       "      <th></th>\n",
       "      <th>hypothesis</th>\n",
       "      <th>ICE</th>\n",
       "    </tr>\n",
       "  </thead>\n",
       "  <tbody>\n",
       "    <tr>\n",
       "      <th>8</th>\n",
       "      <td>Launch a promotion that gives users discounts on their birthdays</td>\n",
       "      <td>16.200000</td>\n",
       "    </tr>\n",
       "    <tr>\n",
       "      <th>0</th>\n",
       "      <td>Add two new channels for attracting traffic. This will bring 30% more users</td>\n",
       "      <td>13.333333</td>\n",
       "    </tr>\n",
       "    <tr>\n",
       "      <th>7</th>\n",
       "      <td>Add a subscription form to all the main pages. This will help you compile a mailing list</td>\n",
       "      <td>11.200000</td>\n",
       "    </tr>\n",
       "    <tr>\n",
       "      <th>6</th>\n",
       "      <td>Show banners with current offers and sales on the main page. This will boost conversion</td>\n",
       "      <td>8.000000</td>\n",
       "    </tr>\n",
       "    <tr>\n",
       "      <th>2</th>\n",
       "      <td>Add product recommendation blocks to the store's site. This will increase conversion and average purchase size</td>\n",
       "      <td>7.000000</td>\n",
       "    </tr>\n",
       "    <tr>\n",
       "      <th>1</th>\n",
       "      <td>Launch your own delivery service. This will shorten delivery time</td>\n",
       "      <td>2.000000</td>\n",
       "    </tr>\n",
       "    <tr>\n",
       "      <th>5</th>\n",
       "      <td>Add a customer review page. This will increase the number of orders</td>\n",
       "      <td>1.333333</td>\n",
       "    </tr>\n",
       "    <tr>\n",
       "      <th>3</th>\n",
       "      <td>Change the category structure. This will increase conversion since users will find the products they want more quickly</td>\n",
       "      <td>1.125000</td>\n",
       "    </tr>\n",
       "    <tr>\n",
       "      <th>4</th>\n",
       "      <td>Change the background color on the main page. This will increase user engagement</td>\n",
       "      <td>1.000000</td>\n",
       "    </tr>\n",
       "  </tbody>\n",
       "</table>\n",
       "</div>"
      ],
      "text/plain": [
       "                                                                                                               hypothesis  \\\n",
       "8                                                        Launch a promotion that gives users discounts on their birthdays   \n",
       "0                                             Add two new channels for attracting traffic. This will bring 30% more users   \n",
       "7                                Add a subscription form to all the main pages. This will help you compile a mailing list   \n",
       "6                                 Show banners with current offers and sales on the main page. This will boost conversion   \n",
       "2          Add product recommendation blocks to the store's site. This will increase conversion and average purchase size   \n",
       "1                                                       Launch your own delivery service. This will shorten delivery time   \n",
       "5                                                     Add a customer review page. This will increase the number of orders   \n",
       "3  Change the category structure. This will increase conversion since users will find the products they want more quickly   \n",
       "4                                        Change the background color on the main page. This will increase user engagement   \n",
       "\n",
       "         ICE  \n",
       "8  16.200000  \n",
       "0  13.333333  \n",
       "7  11.200000  \n",
       "6   8.000000  \n",
       "2   7.000000  \n",
       "1   2.000000  \n",
       "5   1.333333  \n",
       "3   1.125000  \n",
       "4   1.000000  "
      ]
     },
     "execution_count": 52,
     "metadata": {},
     "output_type": "execute_result"
    }
   ],
   "source": [
    "hypotheses['ICE'] = hypotheses['impact']*hypotheses['confidence']/hypotheses['effort']\n",
    "\n",
    "hypotheses[['hypothesis', 'ICE']].sort_values(by = 'ICE', ascending = False)"
   ]
  },
  {
   "cell_type": "markdown",
   "id": "69b2f9ac",
   "metadata": {},
   "source": [
    "Let's apply the `RICE` framework to prioritize hypotheses. Sort them in descending order of priority."
   ]
  },
  {
   "cell_type": "markdown",
   "id": "b0cc616a",
   "metadata": {},
   "source": [
    "RICE has four components:\n",
    "\n",
    "- Reach — how many users will be affected by the update you want to introduce\n",
    "- Impact — how strongly this update will affect the users, their experience, and their satisfaction with the product\n",
    "- Confidence — how sure you are that your product will affect them in this way\n",
    "- Effort — how much will it cost to test the hypothesis."
   ]
  },
  {
   "cell_type": "code",
   "execution_count": 53,
   "id": "b52350cc",
   "metadata": {},
   "outputs": [
    {
     "data": {
      "text/html": [
       "<div>\n",
       "<style scoped>\n",
       "    .dataframe tbody tr th:only-of-type {\n",
       "        vertical-align: middle;\n",
       "    }\n",
       "\n",
       "    .dataframe tbody tr th {\n",
       "        vertical-align: top;\n",
       "    }\n",
       "\n",
       "    .dataframe thead th {\n",
       "        text-align: right;\n",
       "    }\n",
       "</style>\n",
       "<table border=\"1\" class=\"dataframe\">\n",
       "  <thead>\n",
       "    <tr style=\"text-align: right;\">\n",
       "      <th></th>\n",
       "      <th>hypothesis</th>\n",
       "      <th>RICE</th>\n",
       "    </tr>\n",
       "  </thead>\n",
       "  <tbody>\n",
       "    <tr>\n",
       "      <th>7</th>\n",
       "      <td>Add a subscription form to all the main pages. This will help you compile a mailing list</td>\n",
       "      <td>112.0</td>\n",
       "    </tr>\n",
       "    <tr>\n",
       "      <th>2</th>\n",
       "      <td>Add product recommendation blocks to the store's site. This will increase conversion and average purchase size</td>\n",
       "      <td>56.0</td>\n",
       "    </tr>\n",
       "    <tr>\n",
       "      <th>0</th>\n",
       "      <td>Add two new channels for attracting traffic. This will bring 30% more users</td>\n",
       "      <td>40.0</td>\n",
       "    </tr>\n",
       "    <tr>\n",
       "      <th>6</th>\n",
       "      <td>Show banners with current offers and sales on the main page. This will boost conversion</td>\n",
       "      <td>40.0</td>\n",
       "    </tr>\n",
       "    <tr>\n",
       "      <th>8</th>\n",
       "      <td>Launch a promotion that gives users discounts on their birthdays</td>\n",
       "      <td>16.2</td>\n",
       "    </tr>\n",
       "    <tr>\n",
       "      <th>3</th>\n",
       "      <td>Change the category structure. This will increase conversion since users will find the products they want more quickly</td>\n",
       "      <td>9.0</td>\n",
       "    </tr>\n",
       "    <tr>\n",
       "      <th>1</th>\n",
       "      <td>Launch your own delivery service. This will shorten delivery time</td>\n",
       "      <td>4.0</td>\n",
       "    </tr>\n",
       "    <tr>\n",
       "      <th>5</th>\n",
       "      <td>Add a customer review page. This will increase the number of orders</td>\n",
       "      <td>4.0</td>\n",
       "    </tr>\n",
       "    <tr>\n",
       "      <th>4</th>\n",
       "      <td>Change the background color on the main page. This will increase user engagement</td>\n",
       "      <td>3.0</td>\n",
       "    </tr>\n",
       "  </tbody>\n",
       "</table>\n",
       "</div>"
      ],
      "text/plain": [
       "                                                                                                               hypothesis  \\\n",
       "7                                Add a subscription form to all the main pages. This will help you compile a mailing list   \n",
       "2          Add product recommendation blocks to the store's site. This will increase conversion and average purchase size   \n",
       "0                                             Add two new channels for attracting traffic. This will bring 30% more users   \n",
       "6                                 Show banners with current offers and sales on the main page. This will boost conversion   \n",
       "8                                                        Launch a promotion that gives users discounts on their birthdays   \n",
       "3  Change the category structure. This will increase conversion since users will find the products they want more quickly   \n",
       "1                                                       Launch your own delivery service. This will shorten delivery time   \n",
       "5                                                     Add a customer review page. This will increase the number of orders   \n",
       "4                                        Change the background color on the main page. This will increase user engagement   \n",
       "\n",
       "    RICE  \n",
       "7  112.0  \n",
       "2   56.0  \n",
       "0   40.0  \n",
       "6   40.0  \n",
       "8   16.2  \n",
       "3    9.0  \n",
       "1    4.0  \n",
       "5    4.0  \n",
       "4    3.0  "
      ]
     },
     "execution_count": 53,
     "metadata": {},
     "output_type": "execute_result"
    }
   ],
   "source": [
    "hypotheses['RICE'] = hypotheses['reach']*hypotheses['impact']*hypotheses['confidence']/hypotheses['effort']\n",
    "\n",
    "hypotheses[['hypothesis', 'RICE']].sort_values(by = 'RICE', ascending = False)"
   ]
  },
  {
   "cell_type": "markdown",
   "id": "c2a22cf8",
   "metadata": {},
   "source": [
    "Let's analyze how the prioritization of hypotheses changes when you use `RICE` instead of `ICE` and find possible explanation."
   ]
  },
  {
   "cell_type": "code",
   "execution_count": 54,
   "id": "e9697675",
   "metadata": {},
   "outputs": [
    {
     "data": {
      "image/png": "[encoded data removed]",
      "text/plain": [
       "<Figure size 360x360 with 1 Axes>"
      ]
     },
     "metadata": {
      "needs_background": "light"
     },
     "output_type": "display_data"
    }
   ],
   "source": [
    "plt.figure(figsize=(5, 5))\n",
    "\n",
    "x_= hypotheses['RICE']\n",
    "y_ = hypotheses['ICE']\n",
    "annotations = hypotheses.index.to_list()\n",
    "\n",
    "plt.scatter(x_,y_) \n",
    "plt.ylabel(\"rice score\")\n",
    "plt.xlabel(\"ice score\")\n",
    "plt.title(\"ICE score vs. ICE score\")\n",
    "\n",
    "\n",
    "for i, label in enumerate(annotations):\n",
    "    plt.annotate(label, (x_[i], y_[i]), fontsize = 14)\n",
    "\n",
    "plt.show()"
   ]
  },
  {
   "cell_type": "markdown",
   "id": "1cf2771d",
   "metadata": {},
   "source": [
    "While the TOP5 hypotheses in both cases are the same, with both methods we have hypothesis `7` and `0` in the TOP3 and hypothesis `6` on the 4th place; one striking difference is that hypothesis `2` takes the second place with `RICE` (only the 5th witn `ICE`), while hypothesis `8` gives the same result with `ICE`. The only difference is that in `RICE` the `reach` factor is taken into account, the estimate of  how many users will be affected by the update. Anyway, drawing upon the two results, we could recommend re-check the scores and to recalculate the ratings. While waiting for the ambiguity to be resolved, we would say that `7` seems to be the most prominent hypothesis to be of the top p\n",
    "riority."
   ]
  },
  {
   "cell_type": "markdown",
   "id": "d0a25229",
   "metadata": {},
   "source": [
    "[Back to Content](#content)"
   ]
  },
  {
   "cell_type": "markdown",
   "id": "16d58405",
   "metadata": {},
   "source": [
    "### Part 2. A/B Test Analysis"
   ]
  },
  {
   "cell_type": "markdown",
   "id": "0e18c0b6",
   "metadata": {},
   "source": [
    "#### Let's graph and study cumulative revenue by group."
   ]
  },
  {
   "cell_type": "markdown",
   "id": "57d9f2ca",
   "metadata": {},
   "source": [
    "We'll build an array with unique paired date-group values using the `drop_duplicates()` method and before that we will clean up the `order` dataframe from the duplicated `visitorId`'s:"
   ]
  },
  {
   "cell_type": "code",
   "execution_count": 55,
   "id": "3d1d5576",
   "metadata": {},
   "outputs": [],
   "source": [
    "orders = orders_raw.query('visitorId not in @visitorId_dup')"
   ]
  },
  {
   "cell_type": "code",
   "execution_count": 56,
   "id": "51439060",
   "metadata": {},
   "outputs": [
    {
     "data": {
      "text/plain": [
       "1016"
      ]
     },
     "execution_count": 56,
     "metadata": {},
     "output_type": "execute_result"
    }
   ],
   "source": [
    "len(orders)"
   ]
  },
  {
   "cell_type": "markdown",
   "id": "9ca54f73",
   "metadata": {},
   "source": [
    "We are left with 181 order less than initially."
   ]
  },
  {
   "cell_type": "code",
   "execution_count": 57,
   "id": "21541783",
   "metadata": {},
   "outputs": [],
   "source": [
    "# building an array with unique paired date-group values \n",
    "datesGroups = orders[['date','group']].drop_duplicates()"
   ]
  },
  {
   "cell_type": "markdown",
   "id": "682c0afd",
   "metadata": {},
   "source": [
    "To collect the aggregated cumulative daily data on orders, we:\n",
    "\n",
    "1. get the rows of the `orders` table where the date is less than or equal to the date of the `datesGroups` element and the test group is the same as in `datesGroups`;\n",
    "\n",
    "2. aggregate the values. We find the maximum date. We'll find the maximum value for the group, too, so that we have the `group` column in our final output. We find the number of unique order and user IDs and calculate the sum of average purchase sizes;\n",
    "\n",
    "3. apply the methods to each row of the DataFrame (`apply(axix=1)`) and sort the results by the columns `date` and `group`:"
   ]
  },
  {
   "cell_type": "code",
   "execution_count": 58,
   "id": "66730467",
   "metadata": {},
   "outputs": [],
   "source": [
    "# getting aggregated cumulative daily data on orders\n",
    "ordersAggregated = datesGroups.apply(lambda x:\n",
    "                                     orders[np.logical_and(orders['date'] <= x['date'],\n",
    "                                     orders['group'] == x['group'])].agg({'date' : 'max',\n",
    "                                                                          'group' : 'max',\n",
    "                                                                          'transactionId' : pd.Series.nunique,\n",
    "                                                                          'visitorId' : pd.Series.nunique,\n",
    "                                                                          'revenue' : 'sum'}),\n",
    "                                     axis=1).sort_values(by=['date','group'])"
   ]
  },
  {
   "cell_type": "markdown",
   "id": "4bf9290b",
   "metadata": {},
   "source": [
    "Let's do something similar to get the aggregated cumulative daily data on visitors:"
   ]
  },
  {
   "cell_type": "code",
   "execution_count": 59,
   "id": "1f4d6800",
   "metadata": {},
   "outputs": [],
   "source": [
    "# getting aggregated cumulative daily data on visitors  \n",
    "visitorsAggregated = datesGroups.apply(lambda x:\n",
    "                                       visits[np.logical_and(visits['date'] <= x['date'],\n",
    "                                       visits['group'] == x['group'])].agg({'date' : 'max',\n",
    "                                                                              'group' : 'max',\n",
    "                                                                              'visits' : 'sum'}),\n",
    "                                       axis=1).sort_values(by=['date','group'])"
   ]
  },
  {
   "cell_type": "markdown",
   "id": "8c06ad1b",
   "metadata": {},
   "source": [
    "We merge the two tables into one and give its columns descriptive names:"
   ]
  },
  {
   "cell_type": "code",
   "execution_count": 60,
   "id": "f668750f",
   "metadata": {},
   "outputs": [
    {
     "data": {
      "text/html": [
       "<div>\n",
       "<style scoped>\n",
       "    .dataframe tbody tr th:only-of-type {\n",
       "        vertical-align: middle;\n",
       "    }\n",
       "\n",
       "    .dataframe tbody tr th {\n",
       "        vertical-align: top;\n",
       "    }\n",
       "\n",
       "    .dataframe thead th {\n",
       "        text-align: right;\n",
       "    }\n",
       "</style>\n",
       "<table border=\"1\" class=\"dataframe\">\n",
       "  <thead>\n",
       "    <tr style=\"text-align: right;\">\n",
       "      <th></th>\n",
       "      <th>date</th>\n",
       "      <th>group</th>\n",
       "      <th>orders</th>\n",
       "      <th>buyers</th>\n",
       "      <th>revenue</th>\n",
       "      <th>visitors</th>\n",
       "    </tr>\n",
       "  </thead>\n",
       "  <tbody>\n",
       "    <tr>\n",
       "      <th>0</th>\n",
       "      <td>2019-08-01</td>\n",
       "      <td>A</td>\n",
       "      <td>23</td>\n",
       "      <td>19</td>\n",
       "      <td>2266.6</td>\n",
       "      <td>719</td>\n",
       "    </tr>\n",
       "    <tr>\n",
       "      <th>1</th>\n",
       "      <td>2019-08-01</td>\n",
       "      <td>B</td>\n",
       "      <td>17</td>\n",
       "      <td>17</td>\n",
       "      <td>967.2</td>\n",
       "      <td>713</td>\n",
       "    </tr>\n",
       "    <tr>\n",
       "      <th>2</th>\n",
       "      <td>2019-08-02</td>\n",
       "      <td>A</td>\n",
       "      <td>42</td>\n",
       "      <td>36</td>\n",
       "      <td>3734.9</td>\n",
       "      <td>1338</td>\n",
       "    </tr>\n",
       "    <tr>\n",
       "      <th>3</th>\n",
       "      <td>2019-08-02</td>\n",
       "      <td>B</td>\n",
       "      <td>40</td>\n",
       "      <td>39</td>\n",
       "      <td>3535.3</td>\n",
       "      <td>1294</td>\n",
       "    </tr>\n",
       "    <tr>\n",
       "      <th>4</th>\n",
       "      <td>2019-08-03</td>\n",
       "      <td>A</td>\n",
       "      <td>66</td>\n",
       "      <td>60</td>\n",
       "      <td>5550.1</td>\n",
       "      <td>1845</td>\n",
       "    </tr>\n",
       "  </tbody>\n",
       "</table>\n",
       "</div>"
      ],
      "text/plain": [
       "        date group  orders  buyers  revenue  visitors\n",
       "0 2019-08-01     A      23      19   2266.6       719\n",
       "1 2019-08-01     B      17      17    967.2       713\n",
       "2 2019-08-02     A      42      36   3734.9      1338\n",
       "3 2019-08-02     B      40      39   3535.3      1294\n",
       "4 2019-08-03     A      66      60   5550.1      1845"
      ]
     },
     "execution_count": 60,
     "metadata": {},
     "output_type": "execute_result"
    }
   ],
   "source": [
    "# merging the two tables into one and giving its columns descriptive names\n",
    "cumulativeData = ordersAggregated.merge(visitorsAggregated, left_on=['date', 'group'], right_on=['date', 'group'])\n",
    "cumulativeData.columns = ['date', 'group', 'orders', 'buyers', 'revenue', 'visitors']\n",
    "\n",
    "cumulativeData.head(5)"
   ]
  },
  {
   "cell_type": "markdown",
   "id": "2f9310f7",
   "metadata": {},
   "source": [
    "Let's plot cumulative revenue graphs by day and A/B test group:"
   ]
  },
  {
   "cell_type": "code",
   "execution_count": 61,
   "id": "1b4807b4",
   "metadata": {},
   "outputs": [
    {
     "data": {
      "image/png": "[encoded data removed]",
      "text/plain": [
       "<Figure size 1152x216 with 1 Axes>"
      ]
     },
     "metadata": {
      "needs_background": "light"
     },
     "output_type": "display_data"
    }
   ],
   "source": [
    "# DataFrame with cumulative orders and cumulative revenue by day, group A\n",
    "cumulativeRevenueA = cumulativeData[cumulativeData['group']=='A'][['date','revenue', 'orders']]\n",
    "\n",
    "# DataFrame with cumulative orders and cumulative revenue by day, group B\n",
    "cumulativeRevenueB = cumulativeData[cumulativeData['group']=='B'][['date','revenue', 'orders']]\n",
    "\n",
    "# Plotting the group A revenue graph \n",
    "plt.figure(figsize=(16, 3))\n",
    "\n",
    "plt.plot(cumulativeRevenueA['date'], cumulativeRevenueA['revenue'], label='A')\n",
    "\n",
    "# Plotting the group B revenue graph \n",
    "plt.plot(cumulativeRevenueB['date'], cumulativeRevenueB['revenue'], label='B')\n",
    "\n",
    "plt.grid()\n",
    "\n",
    "plt.ylabel(\"Revenue\")\n",
    "plt.xlabel(\"Date\")\n",
    "plt.title(\"Cumulative revenue by day and A/B test group\")\n",
    "\n",
    "plt.xticks(rotation = 0)\n",
    "\n",
    "plt.legend()\n",
    "plt.show()"
   ]
  },
  {
   "cell_type": "markdown",
   "id": "1ddea1a3",
   "metadata": {},
   "source": [
    "Revenue is rising steadily throughout the whole test. We can see that group B experiences a lighter spike on August 16 and a heavier spike in revenue on August 19 (from the previous investigation, we know that two very expensive orders were placed on those dates)."
   ]
  },
  {
   "cell_type": "markdown",
   "id": "980f0f24",
   "metadata": {},
   "source": [
    "#### Let's graph and study cumulative average order size by group. <a id = \"outliers\"> <a/>"
   ]
  },
  {
   "cell_type": "markdown",
   "id": "e2e729e7",
   "metadata": {},
   "source": [
    "To plot average purchase size by group, we will divide cumulative revenue by the cumulative number of orders:"
   ]
  },
  {
   "cell_type": "code",
   "execution_count": 62,
   "id": "e1ba9ba8",
   "metadata": {
    "scrolled": true
   },
   "outputs": [
    {
     "data": {
      "image/png": "[encoded data removed]",
      "text/plain": [
       "<Figure size 1152x216 with 1 Axes>"
      ]
     },
     "metadata": {
      "needs_background": "light"
     },
     "output_type": "display_data"
    }
   ],
   "source": [
    "plt.figure(figsize=(16, 3))\n",
    "plt.plot(cumulativeRevenueA['date'], cumulativeRevenueA['revenue']/cumulativeRevenueA['orders'], label='A')\n",
    "plt.plot(cumulativeRevenueB['date'], cumulativeRevenueB['revenue']/cumulativeRevenueB['orders'], label='B')\n",
    "\n",
    "plt.grid()\n",
    "\n",
    "plt.ylabel(\"Purchase size\")\n",
    "plt.xlabel(\"Date\")\n",
    "plt.title(\"Cumulative purchase size by day and A/B test group\")\n",
    "\n",
    "plt.legend()\n",
    "plt.show()"
   ]
  },
  {
   "cell_type": "markdown",
   "id": "a16cd232",
   "metadata": {},
   "source": [
    "Average purchase size becomes steady by the end of the test, although the result is ambiguous. The surge in group `B` is due to the presence of relatively expensive orders. We have to clean them up. "
   ]
  },
  {
   "cell_type": "markdown",
   "id": "f8d14e49",
   "metadata": {},
   "source": [
    "#### Removing the abnormal user data"
   ]
  },
  {
   "cell_type": "markdown",
   "id": "0f660f08",
   "metadata": {},
   "source": [
    "Now, we will find the total number of anomalous users using the `shape()` method; we will assume that anomalous means more than 4 orders and orders with the revenue higher that 1221 money unit."
   ]
  },
  {
   "cell_type": "markdown",
   "id": "613d5917",
   "metadata": {},
   "source": [
    "Let's get back to the scatter chart of the number of orders per user."
   ]
  },
  {
   "cell_type": "code",
   "execution_count": 63,
   "id": "0a5d8a93",
   "metadata": {},
   "outputs": [
    {
     "data": {
      "image/png": "[encoded data removed]",
      "text/plain": [
       "<Figure size 1152x216 with 1 Axes>"
      ]
     },
     "metadata": {
      "needs_background": "light"
     },
     "output_type": "display_data"
    }
   ],
   "source": [
    "plt.figure(figsize=(16, 3))\n",
    "ordersByUsers = orders_raw.groupby('visitorId', as_index=False).agg({'transactionId' : pd.Series.nunique})\n",
    "ordersByUsers.columns = ['visitorId', 'orders']\n",
    "\n",
    "x_values = pd.Series(range(0, len(ordersByUsers['orders'])))\n",
    "\n",
    "plt.scatter(x_values, ordersByUsers['orders']) \n",
    "\n",
    "plt.ylabel(\"Number of orders\")\n",
    "plt.xlabel(\"\")\n",
    "plt.show()"
   ]
  },
  {
   "cell_type": "markdown",
   "id": "3037a6ff",
   "metadata": {},
   "source": [
    "Let's calculate the 95th and 99th percentiles for the number of orders per user. Define the point at which a data point becomes an anomaly."
   ]
  },
  {
   "cell_type": "code",
   "execution_count": 64,
   "id": "4aecc763",
   "metadata": {},
   "outputs": [
    {
     "name": "stdout",
     "output_type": "stream",
     "text": [
      "[1. 2. 4.]\n"
     ]
    }
   ],
   "source": [
    "print(np.percentile(ordersByUsers['orders'], [90, 95, 99])) "
   ]
  },
  {
   "cell_type": "markdown",
   "id": "34c3ef17",
   "metadata": {},
   "source": [
    "Less than 1% of the visitors placed more than 4 orders."
   ]
  },
  {
   "cell_type": "markdown",
   "id": "24cc7cca",
   "metadata": {},
   "source": [
    "Let's plot and study a scatter chart of order prices."
   ]
  },
  {
   "cell_type": "code",
   "execution_count": 65,
   "id": "087676fe",
   "metadata": {},
   "outputs": [
    {
     "data": {
      "image/png": "[encoded data removed]",
      "text/plain": [
       "<Figure size 1152x216 with 1 Axes>"
      ]
     },
     "metadata": {
      "needs_background": "light"
     },
     "output_type": "display_data"
    }
   ],
   "source": [
    "plt.figure(figsize=(16, 3))\n",
    "plt.scatter(orders_raw['date'], orders_raw['revenue']) \n",
    "plt.ylabel(\"Money units\")\n",
    "plt.xlabel(\"Date\")\n",
    "plt.title(\"Order prices by dates\")\n",
    "plt.show()"
   ]
  },
  {
   "cell_type": "code",
   "execution_count": 66,
   "id": "2dc01e36",
   "metadata": {},
   "outputs": [
    {
     "data": {
      "image/png": "[encoded data removed]",
      "text/plain": [
       "<Figure size 1152x216 with 1 Axes>"
      ]
     },
     "metadata": {
      "needs_background": "light"
     },
     "output_type": "display_data"
    }
   ],
   "source": [
    "plt.figure(figsize=(16, 3))\n",
    "sns.scatterplot(data = orders_raw, x = 'date', y = 'revenue', hue = 'group') \n",
    "\n",
    "plt.ylim(0,2000)\n",
    "\n",
    "plt.ylabel(\"Money units\")\n",
    "plt.xlabel(\"Date\")\n",
    "plt.title(\"Order prices below 2000 money untis by dates and groups\")\n",
    "\n",
    "plt.show()"
   ]
  },
  {
   "cell_type": "markdown",
   "id": "4dfc3403",
   "metadata": {},
   "source": [
    "<div class=\"alert alert-info\"> <b>Studen comment: </b> Great, thanks for the tip!</div>  "
   ]
  },
  {
   "cell_type": "markdown",
   "id": "beb9eb35",
   "metadata": {},
   "source": [
    "Let's calculate the 95th and 99th percentiles of order prices. Define the point at which a data point becomes an anomaly."
   ]
  },
  {
   "cell_type": "code",
   "execution_count": 67,
   "id": "101e5a2b",
   "metadata": {},
   "outputs": [
    {
     "name": "stdout",
     "output_type": "stream",
     "text": [
      "[280.8   414.275 830.3  ]\n"
     ]
    }
   ],
   "source": [
    "print(np.percentile(orders['revenue'], [90, 95, 99])) "
   ]
  },
  {
   "cell_type": "markdown",
   "id": "07654a8b",
   "metadata": {},
   "source": [
    "Less than 1% of the visitors placed orderes with a price tag higher than 830 money units."
   ]
  },
  {
   "cell_type": "markdown",
   "id": "7361d924",
   "metadata": {},
   "source": [
    "Users who place many orders or high price orders inflate the estimates. Their behavior probably differs from the normal pattern. Typically, users should place no more than two orders within such a short period of time as one month."
   ]
  },
  {
   "cell_type": "code",
   "execution_count": 68,
   "id": "4eadcaeb",
   "metadata": {},
   "outputs": [
    {
     "data": {
      "text/plain": [
       "1099     148427295\n",
       "949      887908475\n",
       "744      888512513\n",
       "1103    1164614297\n",
       "1136    1307669133\n",
       "425     1920142716\n",
       "1196    2108080724\n",
       "287     2254456485\n",
       "131     2254586615\n",
       "613     3931967268\n",
       "940     4003628586\n",
       "743     4133034833\n",
       "Name: visitorId, dtype: int64"
      ]
     },
     "execution_count": 68,
     "metadata": {},
     "output_type": "execute_result"
    }
   ],
   "source": [
    "usersWithManyOrders = pd.concat([ordersByUsersA[ordersByUsersA['orders'] > 4]['visitorId'],\n",
    "                                 ordersByUsersB[ordersByUsersB['orders'] > 4]['visitorId']], axis = 0)\n",
    "\n",
    "usersWithExpensiveOrders = orders[orders['revenue'] > 830]['visitorId']\n",
    "\n",
    "abnormalUsers = pd.concat([usersWithManyOrders, usersWithExpensiveOrders],\n",
    "                          axis = 0).drop_duplicates().sort_values()\n",
    "\n",
    "abnormalUsers"
   ]
  },
  {
   "cell_type": "markdown",
   "id": "3caf8f25",
   "metadata": {},
   "source": [
    "We have 12 visitors of this kind. Let's take a look at how many orders we are talking about:"
   ]
  },
  {
   "cell_type": "code",
   "execution_count": 69,
   "id": "63ca7bc5",
   "metadata": {},
   "outputs": [
    {
     "data": {
      "text/plain": [
       "12"
      ]
     },
     "execution_count": 69,
     "metadata": {},
     "output_type": "execute_result"
    }
   ],
   "source": [
    "len(orders_raw.query('visitorId in @abnormalUsers'))"
   ]
  },
  {
   "cell_type": "markdown",
   "id": "a8031c04",
   "metadata": {},
   "source": [
    "Those 12 visitors placed one order each. Let's see what is the maximum `revenue` for these 41 order:"
   ]
  },
  {
   "cell_type": "code",
   "execution_count": 70,
   "id": "c99e30e7",
   "metadata": {},
   "outputs": [
    {
     "data": {
      "text/plain": [
       "count       12.000000\n",
       "mean      2768.358333\n",
       "std       5438.488971\n",
       "min        830.300000\n",
       "25%        886.925000\n",
       "50%       1020.850000\n",
       "75%       1358.150000\n",
       "max      19920.400000\n",
       "Name: revenue, dtype: float64"
      ]
     },
     "execution_count": 70,
     "metadata": {},
     "output_type": "execute_result"
    }
   ],
   "source": [
    "orders_raw.query('visitorId in @abnormalUsers')['revenue'].describe()\n"
   ]
  },
  {
   "cell_type": "markdown",
   "id": "fa8df10c",
   "metadata": {},
   "source": [
    "Let's see what group do these visitors belong to."
   ]
  },
  {
   "cell_type": "code",
   "execution_count": 71,
   "id": "ffe600be",
   "metadata": {},
   "outputs": [
    {
     "data": {
      "text/plain": [
       "A    7\n",
       "B    5\n",
       "Name: group, dtype: int64"
      ]
     },
     "execution_count": 71,
     "metadata": {},
     "output_type": "execute_result"
    }
   ],
   "source": [
    "orders_raw.query('visitorId in @abnormalUsers')['group'].value_counts()"
   ]
  },
  {
   "cell_type": "markdown",
   "id": "05e62c2d",
   "metadata": {},
   "source": [
    "Those are visitors from both of the groups. Let's remove them as well and plot the cumulative graphs once again."
   ]
  },
  {
   "cell_type": "code",
   "execution_count": 72,
   "id": "f6df012d",
   "metadata": {},
   "outputs": [
    {
     "data": {
      "text/html": [
       "<div>\n",
       "<style scoped>\n",
       "    .dataframe tbody tr th:only-of-type {\n",
       "        vertical-align: middle;\n",
       "    }\n",
       "\n",
       "    .dataframe tbody tr th {\n",
       "        vertical-align: top;\n",
       "    }\n",
       "\n",
       "    .dataframe thead th {\n",
       "        text-align: right;\n",
       "    }\n",
       "</style>\n",
       "<table border=\"1\" class=\"dataframe\">\n",
       "  <thead>\n",
       "    <tr style=\"text-align: right;\">\n",
       "      <th></th>\n",
       "      <th>date</th>\n",
       "      <th>group</th>\n",
       "      <th>orders</th>\n",
       "      <th>buyers</th>\n",
       "      <th>revenue</th>\n",
       "      <th>visitors</th>\n",
       "    </tr>\n",
       "  </thead>\n",
       "  <tbody>\n",
       "    <tr>\n",
       "      <th>0</th>\n",
       "      <td>2019-08-01</td>\n",
       "      <td>A</td>\n",
       "      <td>24</td>\n",
       "      <td>20</td>\n",
       "      <td>2356.8</td>\n",
       "      <td>719</td>\n",
       "    </tr>\n",
       "    <tr>\n",
       "      <th>1</th>\n",
       "      <td>2019-08-01</td>\n",
       "      <td>B</td>\n",
       "      <td>21</td>\n",
       "      <td>20</td>\n",
       "      <td>1620.0</td>\n",
       "      <td>713</td>\n",
       "    </tr>\n",
       "    <tr>\n",
       "      <th>2</th>\n",
       "      <td>2019-08-02</td>\n",
       "      <td>A</td>\n",
       "      <td>44</td>\n",
       "      <td>38</td>\n",
       "      <td>3860.3</td>\n",
       "      <td>1338</td>\n",
       "    </tr>\n",
       "    <tr>\n",
       "      <th>3</th>\n",
       "      <td>2019-08-02</td>\n",
       "      <td>B</td>\n",
       "      <td>45</td>\n",
       "      <td>43</td>\n",
       "      <td>4243.8</td>\n",
       "      <td>1294</td>\n",
       "    </tr>\n",
       "    <tr>\n",
       "      <th>4</th>\n",
       "      <td>2019-08-03</td>\n",
       "      <td>A</td>\n",
       "      <td>68</td>\n",
       "      <td>62</td>\n",
       "      <td>5675.5</td>\n",
       "      <td>1845</td>\n",
       "    </tr>\n",
       "  </tbody>\n",
       "</table>\n",
       "</div>"
      ],
      "text/plain": [
       "        date group  orders  buyers  revenue  visitors\n",
       "0 2019-08-01     A      24      20   2356.8       719\n",
       "1 2019-08-01     B      21      20   1620.0       713\n",
       "2 2019-08-02     A      44      38   3860.3      1338\n",
       "3 2019-08-02     B      45      43   4243.8      1294\n",
       "4 2019-08-03     A      68      62   5675.5      1845"
      ]
     },
     "execution_count": 72,
     "metadata": {},
     "output_type": "execute_result"
    }
   ],
   "source": [
    "orders = orders_raw.query('visitorId not in @abnormalUsers')\n",
    "datesGroups = orders[['date','group']].drop_duplicates()\n",
    "\n",
    "# getting aggregated cumulative daily data on orders\n",
    "ordersAggregated = datesGroups.apply(lambda x:\n",
    "                                     orders[np.logical_and(orders['date'] <= x['date'],\n",
    "                                     orders['group'] == x['group'])].agg({'date' : 'max',\n",
    "                                                                          'group' : 'max',\n",
    "                                                                          'transactionId' : pd.Series.nunique,\n",
    "                                                                          'visitorId' : pd.Series.nunique,\n",
    "                                                                          'revenue' : 'sum'}),\n",
    "                                     axis=1).sort_values(by=['date','group'])\n",
    "\n",
    "# getting aggregated cumulative daily data on visitors  \n",
    "visitorsAggregated = datesGroups.apply(lambda x:\n",
    "                                       visits[np.logical_and(visits['date'] <= x['date'],\n",
    "                                       visits['group'] == x['group'])].agg({'date' : 'max',\n",
    "                                                                              'group' : 'max',\n",
    "                                                                              'visits' : 'sum'}),\n",
    "                                       axis=1).sort_values(by=['date','group'])\n",
    "\n",
    "# merging the two tables into one and giving its columns descriptive names\n",
    "cumulativeData = ordersAggregated.merge(visitorsAggregated, left_on=['date', 'group'], right_on=['date', 'group'])\n",
    "cumulativeData.columns = ['date', 'group', 'orders', 'buyers', 'revenue', 'visitors']\n",
    "\n",
    "cumulativeData.head(5)"
   ]
  },
  {
   "cell_type": "markdown",
   "id": "aa8e65c0",
   "metadata": {},
   "source": [
    "Let's plot cumulative the graphs:"
   ]
  },
  {
   "cell_type": "code",
   "execution_count": 73,
   "id": "21d13c8b",
   "metadata": {},
   "outputs": [
    {
     "data": {
      "image/png": "[encoded data removed]",
      "text/plain": [
       "<Figure size 1152x216 with 1 Axes>"
      ]
     },
     "metadata": {
      "needs_background": "light"
     },
     "output_type": "display_data"
    }
   ],
   "source": [
    "# DataFrame with cumulative orders and cumulative revenue by day, group A\n",
    "cumulativeRevenueA = cumulativeData[cumulativeData['group']=='A'][['date','revenue', 'orders']]\n",
    "\n",
    "# DataFrame with cumulative orders and cumulative revenue by day, group B\n",
    "cumulativeRevenueB = cumulativeData[cumulativeData['group']=='B'][['date','revenue', 'orders']]\n",
    "\n",
    "# Plotting the group A revenue graph \n",
    "plt.figure(figsize=(16, 3))\n",
    "\n",
    "plt.grid()\n",
    "\n",
    "plt.plot(cumulativeRevenueA['date'], cumulativeRevenueA['revenue'], label='A')\n",
    "\n",
    "# Plotting the group B revenue graph \n",
    "plt.plot(cumulativeRevenueB['date'], cumulativeRevenueB['revenue'], label='B')\n",
    "\n",
    "plt.ylabel(\"Revenue\")\n",
    "plt.xlabel(\"Date\")\n",
    "plt.title(\"Cumulative revenue by day and A/B test group\")\n",
    "\n",
    "plt.legend()\n",
    "plt.show()"
   ]
  },
  {
   "cell_type": "code",
   "execution_count": 74,
   "id": "e27cd823",
   "metadata": {},
   "outputs": [
    {
     "data": {
      "image/png": "[encoded data removed]",
      "text/plain": [
       "<Figure size 1152x216 with 1 Axes>"
      ]
     },
     "metadata": {
      "needs_background": "light"
     },
     "output_type": "display_data"
    }
   ],
   "source": [
    "plt.figure(figsize=(16, 3))\n",
    "plt.plot(cumulativeRevenueA['date'], cumulativeRevenueA['revenue']/cumulativeRevenueA['orders'], label='A')\n",
    "plt.plot(cumulativeRevenueB['date'], cumulativeRevenueB['revenue']/cumulativeRevenueB['orders'], label='B')\n",
    "\n",
    "plt.grid()\n",
    "\n",
    "plt.ylabel(\"Purchase size\")\n",
    "plt.xlabel(\"Date\")\n",
    "plt.title(\"Cumulative purchase size by day and A/B test group\")\n",
    "\n",
    "plt.legend()\n",
    "plt.show()"
   ]
  },
  {
   "cell_type": "markdown",
   "id": "45fea631",
   "metadata": {},
   "source": [
    "Great, now the graphs make more sense. The cumulative revenue is steadily higher for group `B` than for group `A`. The cumulative average purchase size fluctuated for group `A` and was more stable for group `B`; by the end of the test, they converged."
   ]
  },
  {
   "cell_type": "markdown",
   "id": "7c522b09",
   "metadata": {},
   "source": [
    "#### Let's analyze the cumulative conversion graph"
   ]
  },
  {
   "cell_type": "markdown",
   "id": "97435a37",
   "metadata": {},
   "source": [
    "We will calculate each group's conversion rate as the ratio of orders to the number of visits for each day. Plot and study the daily conversion rates of the two groups and describe the difference."
   ]
  },
  {
   "cell_type": "code",
   "execution_count": 75,
   "id": "09280455",
   "metadata": {},
   "outputs": [
    {
     "data": {
      "image/png": "[encoded data removed]",
      "text/plain": [
       "<Figure size 1152x216 with 1 Axes>"
      ]
     },
     "metadata": {
      "needs_background": "light"
     },
     "output_type": "display_data"
    }
   ],
   "source": [
    "# calculating cumulative conversion\n",
    "cumulativeData['conversion'] = cumulativeData['orders']/cumulativeData['visitors']\n",
    "\n",
    "# selecting data on group A \n",
    "cumulativeDataA = cumulativeData[cumulativeData['group']=='A']\n",
    "\n",
    "# selecting data on group B\n",
    "cumulativeDataB = cumulativeData[cumulativeData['group']=='B']\n",
    "\n",
    "# plotting the graphs\n",
    "plt.figure(figsize=(16, 3))\n",
    "\n",
    "plt.grid()\n",
    "\n",
    "plt.plot(cumulativeDataA['date'], cumulativeDataA['conversion'], label='A')\n",
    "plt.plot(cumulativeDataB['date'], cumulativeDataB['conversion'], label='B')\n",
    "plt.legend()\n",
    "\n",
    "plt.ylabel(\"Conversion\")\n",
    "plt.xlabel(\"Date\")\n",
    "plt.title(\"Cumulative conversion rate by day and A/B test group\")\n",
    "\n",
    "plt.show()"
   ]
  },
  {
   "cell_type": "markdown",
   "id": "d3165d07",
   "metadata": {},
   "source": [
    "At the beginning of the test, group `B` was lagging behind, but then it took the lead. Both groups started showing the signs of some steady difference by the end of the test. Let's look into it.\n"
   ]
  },
  {
   "cell_type": "markdown",
   "id": "748f2570",
   "metadata": {},
   "source": [
    "To plot a relative difference graph, we will add a horizontal axis with the `axhline()` method (i.e. horizontal line across the axis):"
   ]
  },
  {
   "cell_type": "code",
   "execution_count": 76,
   "id": "895ee813",
   "metadata": {},
   "outputs": [
    {
     "data": {
      "image/png": "[encoded data removed]",
      "text/plain": [
       "<Figure size 1152x216 with 1 Axes>"
      ]
     },
     "metadata": {
      "needs_background": "light"
     },
     "output_type": "display_data"
    }
   ],
   "source": [
    "mergedCumulativeConversions = cumulativeDataA[['date','conversion']].merge(cumulativeDataB[['date','conversion']], left_on='date', right_on='date', how='left', suffixes=['A', 'B'])\n",
    "\n",
    "plt.figure(figsize=(16, 3))\n",
    "plt.plot(mergedCumulativeConversions['date'],\n",
    "         mergedCumulativeConversions['conversionB']/mergedCumulativeConversions['conversionA']-1)\n",
    "#plt.legend()\n",
    "\n",
    "plt.axhline(y=0, color='black', linestyle='--')\n",
    "plt.axhline(y=0.1, color='grey', linestyle='--')\n",
    "plt.axis([dt.datetime.strptime('2019-08-01', '%Y-%m-%d').date(),\n",
    "          dt.datetime.strptime('2019-08-31', '%Y-%m-%d').date(),\n",
    "          -0.3, 0.3])\n",
    "\n",
    "plt.ylabel(\"Conversion\")\n",
    "plt.xlabel(\"Date\")\n",
    "plt.title(\"Relative difference in conversion rate by day and A/B test group\")\n",
    "\n",
    "plt.show()"
   ]
  },
  {
   "cell_type": "markdown",
   "id": "e57b725f",
   "metadata": {},
   "source": [
    "In general, the conversion ratio became stable and group `B` had at least 10% higher relative conversion rate compared to group `A`."
   ]
  },
  {
   "cell_type": "markdown",
   "id": "3e32a544",
   "metadata": {},
   "source": [
    "#### Let's graph and study the relative difference in cumulative average order size for group B compared with group A.\n"
   ]
  },
  {
   "cell_type": "code",
   "execution_count": 77,
   "id": "09a0c301",
   "metadata": {},
   "outputs": [
    {
     "data": {
      "image/png": "[encoded data removed]",
      "text/plain": [
       "<Figure size 1152x216 with 1 Axes>"
      ]
     },
     "metadata": {
      "needs_background": "light"
     },
     "output_type": "display_data"
    }
   ],
   "source": [
    "# gathering the data into one DataFrame\n",
    "mergedCumulativeRevenue = cumulativeRevenueA.merge(cumulativeRevenueB,\n",
    "                                                   left_on='date',\n",
    "                                                   right_on='date', how='left', suffixes=['A', 'B'])\n",
    "\n",
    "# plotting a relative difference graph for the average purchase sizes\n",
    "plt.figure(figsize=(16, 3))\n",
    "\n",
    "plt.plot(mergedCumulativeRevenue['date'],\n",
    "         (mergedCumulativeRevenue['revenueB']/mergedCumulativeRevenue['ordersB'])/(mergedCumulativeRevenue['revenueA']/mergedCumulativeRevenue['ordersA'])-1)\n",
    "\n",
    "# adding the X axis\n",
    "plt.axhline(y=0, color='black', linestyle='--')\n",
    "\n",
    "plt.ylabel(\"Relative difference in order size\")\n",
    "plt.xlabel(\"Date\")\n",
    "plt.title(\"Relative difference in cumulative average order size for group B compared with group A\")\n",
    "\n",
    "plt.show()"
   ]
  },
  {
   "cell_type": "markdown",
   "id": "db21766e",
   "metadata": {},
   "source": [
    "Although, there had been some difference, it turned to be near-zero by the end of the test."
   ]
  },
  {
   "cell_type": "markdown",
   "id": "e0b221fd",
   "metadata": {},
   "source": [
    "Thus, we can move to hypothesis testing, let's elaborate a bit on what method we will use to this purpose."
   ]
  },
  {
   "cell_type": "markdown",
   "id": "09059414",
   "metadata": {},
   "source": [
    "### On testing the hypothesis of different ditributions with the Wilcoxon-Mann-Whitney Nonparametric Test"
   ]
  },
  {
   "cell_type": "markdown",
   "id": "0d4750ed",
   "metadata": {},
   "source": [
    "In what follows, we will employ the Wilcoxon-Mann-Whitney Nonparametric Test to test the hypothesis of difference beetween distributions."
   ]
  },
  {
   "cell_type": "markdown",
   "id": "41f0851e",
   "metadata": {},
   "source": [
    "Nonparametric methods, in general, do not make assumptions about how the data is distributed, so one does not have to estimate the distribution's parameters (parametric methods use a sample to evaluate the parameters of the expected distribution, for example, the mean). These methods are used when hypotheses of normality are not relevant. "
   ]
  },
  {
   "cell_type": "markdown",
   "id": "ff9deb71",
   "metadata": {},
   "source": [
    "#### Let's find the statistical significance of the difference in conversion between the groups using the raw data (with filtered duplicated `visitorId`'s)"
   ]
  },
  {
   "cell_type": "markdown",
   "id": "50a2ae3e",
   "metadata": {},
   "source": [
    "Here we will calculate the statistical significance of the differences in conversion between the groups, using unfiltered data. First we will recalculate the samples of the number of orders per user for each test group:"
   ]
  },
  {
   "cell_type": "code",
   "execution_count": 78,
   "id": "bde13aa0",
   "metadata": {},
   "outputs": [],
   "source": [
    "ordersByUsersA = orders[orders['group']=='A'].groupby('visitorId',\n",
    "                                                      as_index=False).agg({'transactionId' : pd.Series.nunique})\n",
    "ordersByUsersA.columns = ['visitorId', 'orders']\n",
    "\n",
    "ordersByUsersB = orders[orders['group']=='B'].groupby('visitorId',\n",
    "                                                      as_index=False).agg({'transactionId' : pd.Series.nunique})\n",
    "ordersByUsersB.columns = ['visitorId', 'orders']"
   ]
  },
  {
   "cell_type": "markdown",
   "id": "1f066fc5",
   "metadata": {},
   "source": [
    "Now we'll declare the variables `sampleA` and `sampleB`, with users from different groups and corresponding numbers of orders. Those who didn't order anything will have `0`. This is necessary to prepare the samples for the Mann-Whitney test. "
   ]
  },
  {
   "cell_type": "code",
   "execution_count": 79,
   "id": "74407fe8",
   "metadata": {},
   "outputs": [],
   "source": [
    "sampleA = pd.concat([ordersByUsersA['orders'],\n",
    "                    pd.Series(0,index=np.arange(visits[visits['group']=='A']['visits'].sum()\n",
    "                                                    - len(ordersByUsersA['orders'])), name='orders')],axis=0)\n",
    "\n",
    "sampleB = pd.concat([ordersByUsersB['orders'],\n",
    "                    pd.Series(0,index=np.arange(visits[visits['group']=='B']['visits'].sum()\n",
    "                                                    - len(ordersByUsersB['orders'])), name='orders')],axis=0)"
   ]
  },
  {
   "cell_type": "markdown",
   "id": "b18e9d3a",
   "metadata": {},
   "source": [
    "Now, let's formulate the null and the alternative hypotheses for testing:\n",
    "1. The null hypothesis: there is no difference in the distributions of conversion rates between the two groups.\n",
    "2. Alternative hypothesis: the distribution of conversion rates are different.\n",
    "3. p-value: 0.05. We will reject the null hypothesis if the p-value is higher."
   ]
  },
  {
   "cell_type": "markdown",
   "id": "732f6038",
   "metadata": {},
   "source": [
    "We'll apply the criterion and format the p-value by rounding it to three decimal places. "
   ]
  },
  {
   "cell_type": "code",
   "execution_count": 80,
   "id": "a36c208e",
   "metadata": {},
   "outputs": [
    {
     "name": "stdout",
     "output_type": "stream",
     "text": [
      "0.014\n"
     ]
    }
   ],
   "source": [
    "print(\"{0:.3f}\".format(st.mannwhitneyu(sampleA, sampleB)[1]))"
   ]
  },
  {
   "cell_type": "markdown",
   "id": "68eb570e",
   "metadata": {},
   "source": [
    "Let's print the relative conversion gain for group B: `group B conversion` / `group A conversion` - 1.  Each of the last two dataframes stores a sample where each element is the number of orders made by a certain user, including zeroes. So the number of `sampleA` elements is the number of users, and the sum of all the elements is the number of orders. To get the group's conversion rate, we'll need to divide the sum of the orders by the number of users. Using the `mean()` method, we'll find the mean for `sampleA`. We'll find the conversion rate for group B in a similar way: `sampleB.mean()`."
   ]
  },
  {
   "cell_type": "code",
   "execution_count": 81,
   "id": "cd0b313c",
   "metadata": {},
   "outputs": [
    {
     "name": "stdout",
     "output_type": "stream",
     "text": [
      "0.144\n"
     ]
    }
   ],
   "source": [
    "print(\"{0:.3f}\".format(sampleB.mean()/sampleA.mean()-1)) "
   ]
  },
  {
   "cell_type": "markdown",
   "id": "70f988be",
   "metadata": {},
   "source": [
    "The first row of the output gives us the p-value, 0.014, which is less than 0.05. So we can reject the null hypothesis that there is statistically insignificant difference in conversion between the groups. The relative gain of group B is 14.4% (the second row of the output). Let's test the hypothesis that the second dataset is greater and the first one smaller."
   ]
  },
  {
   "cell_type": "markdown",
   "id": "cd29837e",
   "metadata": {},
   "source": [
    "To test a one-sided (unilateral) hypothesis, we have to pass another two parameters to the method: the boolean type and defines whether you should correct for the continuity of the distribution that's used to describe discrete data in the test and a string: 'less', 'two-sided', or 'greater'. If the string parameter is employed, the boolean parameter needs to be True. Thus, to compare the first dataset passed to the method is less than the second one, we will set the parameter as 'less'."
   ]
  },
  {
   "cell_type": "markdown",
   "id": "0116c3e5",
   "metadata": {},
   "source": [
    "Let's reformulate the null and the alternative hypotheses for testing:\n",
    "1. The null hypothesis: there is no difference in the distributions of conversion rates between the two groups.\n",
    "2. Alternative hypothesis: the first dataset (`A`) \"is less\" than the second one (`B`).\n",
    "3. p-value: 0.05. We will reject the null hypothesis if the p-value is higher."
   ]
  },
  {
   "cell_type": "code",
   "execution_count": 82,
   "id": "90ca24a0",
   "metadata": {},
   "outputs": [
    {
     "name": "stdout",
     "output_type": "stream",
     "text": [
      "0.007\n"
     ]
    }
   ],
   "source": [
    "print(\"{0:.3f}\".format(st.mannwhitneyu(sampleA, sampleB, True, 'less')[1]))"
   ]
  },
  {
   "cell_type": "markdown",
   "id": "82e91d63",
   "metadata": {},
   "source": [
    "The p-value is even smaller than in the case of two-sided test, thus we can reject the null hypothesis and conclude that the conversion rate for group `B` is higher than for group `A`."
   ]
  },
  {
   "cell_type": "markdown",
   "id": "4bc968ce",
   "metadata": {},
   "source": [
    "#### Let's find the statistical significance of the difference in average order size between the groups using the raw data (with filtered `visitorId`'s duplicates)"
   ]
  },
  {
   "cell_type": "markdown",
   "id": "d6d4a9f6",
   "metadata": {},
   "source": [
    "Now, let's formulate the null and the alternative hypotheses for testing:\n",
    "1. The null hypothesis: there is no difference in the distributions of the order size between the two groups.\n",
    "2. Alternative hypothesis: the distribution of the order size are different.\n",
    "3. p-value: 0.05. We will reject the null hypothesis if the p-value is higher."
   ]
  },
  {
   "cell_type": "markdown",
   "id": "fcd426ca",
   "metadata": {},
   "source": [
    "We will perform the same calculations for the revenue and calculate the statistical significance of the difference in the segments' average order size:"
   ]
  },
  {
   "cell_type": "code",
   "execution_count": 83,
   "id": "fd25f0a7",
   "metadata": {},
   "outputs": [
    {
     "name": "stdout",
     "output_type": "stream",
     "text": [
      "0.585\n",
      "0.006\n"
     ]
    }
   ],
   "source": [
    "print('{0:.3f}'.format(st.mannwhitneyu(orders[orders['group']=='A']['revenue'],\n",
    "                                          orders[orders['group']=='B']['revenue'])[1]))\n",
    "\n",
    "print('{0:.3f}'.format(orders[orders['group']=='B']['revenue'].mean()\n",
    "                       /orders[orders['group']=='A']['revenue'].mean()-1))"
   ]
  },
  {
   "cell_type": "markdown",
   "id": "52859cb0",
   "metadata": {},
   "source": [
    "The p-value is considerably higher than 0.05, so there's no reason to reject the null hypothesis and conclude that average order size differs between the groups. The average order size for group B looks the same as for group A. "
   ]
  },
  {
   "cell_type": "markdown",
   "id": "e654b28f",
   "metadata": {},
   "source": [
    "#### Let's find the statistical significance of the difference in conversion between the groups using the filtered data."
   ]
  },
  {
   "cell_type": "markdown",
   "id": "67d15644",
   "metadata": {},
   "source": [
    "Now, let's formulate the null and the alternative hypotheses for testing:\n",
    "1. The null hypothesis: there is no difference in the distributions of conversion rates between the two groups.\n",
    "2. Alternative hypothesis: the distribution of conversion rates are different.\n",
    "3. p-value: 0.05. We will reject the null hypothesis if the p-value is higher."
   ]
  },
  {
   "cell_type": "code",
   "execution_count": 84,
   "id": "2d4d99a0",
   "metadata": {},
   "outputs": [],
   "source": [
    "sampleAFiltered = pd.concat(\n",
    "    [ordersByUsersA[np.logical_not(ordersByUsersA['visitorId'].isin(abnormalUsers))]['orders'],\n",
    "    pd.Series(0, index=np.arange(visits[visits['group']=='A']['visits'].sum()\n",
    "                                 - len(ordersByUsersA['orders'])),name='orders')],axis=0)\n",
    "\n",
    "sampleBFiltered = pd.concat(\n",
    "    [ordersByUsersB[np.logical_not(ordersByUsersB['visitorId'].isin(abnormalUsers))]['orders'],\n",
    "    pd.Series(0, index=np.arange(visits[visits['group']=='B']['visits'].sum()\n",
    "                                 - len(ordersByUsersB['orders'])),name='orders')],axis=0)"
   ]
  },
  {
   "cell_type": "code",
   "execution_count": 85,
   "id": "2096d438",
   "metadata": {},
   "outputs": [
    {
     "name": "stdout",
     "output_type": "stream",
     "text": [
      "0.007\n",
      "0.144\n"
     ]
    }
   ],
   "source": [
    "print(\"{0:.3f}\".format(st.mannwhitneyu(sampleAFiltered, sampleBFiltered, True, 'less')[1]))\n",
    "print(\"{0:.3f}\".format(sampleBFiltered.mean()/sampleAFiltered.mean()-1))"
   ]
  },
  {
   "cell_type": "markdown",
   "id": "99576d36",
   "metadata": {},
   "source": [
    "The results for the conversion rates didn't change."
   ]
  },
  {
   "cell_type": "markdown",
   "id": "c2e940ec",
   "metadata": {},
   "source": [
    "#### Let's find the statistical significance of the difference in average order size between the groups using the filtered data."
   ]
  },
  {
   "cell_type": "markdown",
   "id": "f585207e",
   "metadata": {},
   "source": [
    "Now, let's formulate the null and the alternative hypotheses for testing:\n",
    "1. The null hypothesis: there is no difference in the distributions of the order size between the two groups.\n",
    "2. Alternative hypothesis: the distribution of the order size are different.\n",
    "3. p-value: 0.05. We will reject the null hypothesis if the p-value is higher."
   ]
  },
  {
   "cell_type": "code",
   "execution_count": 86,
   "id": "4f905a2d",
   "metadata": {},
   "outputs": [
    {
     "name": "stdout",
     "output_type": "stream",
     "text": [
      "0.585\n",
      "0.006\n"
     ]
    }
   ],
   "source": [
    "print('{0:.3f}'.format(st.mannwhitneyu(\n",
    "    orders[np.logical_and(\n",
    "        orders['group']=='A',\n",
    "        np.logical_not(orders['visitorId'].isin(abnormalUsers)))]['revenue'],\n",
    "    orders[np.logical_and(\n",
    "        orders['group']=='B',\n",
    "        np.logical_not(orders['visitorId'].isin(abnormalUsers)))]['revenue'])[1]))\n",
    "\n",
    "print('{0:.3f}'.format(\n",
    "    orders[np.logical_and(orders['group']=='B',\n",
    "    np.logical_not(orders['visitorId'].isin(abnormalUsers)))]['revenue'].mean()/\n",
    "    orders[np.logical_and(\n",
    "        orders['group']=='A',\n",
    "        np.logical_not(orders['visitorId'].isin(abnormalUsers)))]['revenue'].mean() - 1))"
   ]
  },
  {
   "cell_type": "markdown",
   "id": "aa33cc6e",
   "metadata": {},
   "source": [
    "The general conclusion on the significance of the difference in average order size didn't change at all. "
   ]
  },
  {
   "cell_type": "markdown",
   "id": "cb7ce5fa",
   "metadata": {},
   "source": [
    "[Back to Content](#content)"
   ]
  },
  {
   "attachments": {
    "image-7.png": {
     "image/png": "[encoded data removed]"
    },
    "image-8.png": {
     "image/png": "[encoded data removed]"
    }
   },
   "cell_type": "markdown",
   "id": "1c98b5b8",
   "metadata": {},
   "source": [
    "**Conclusions on the results of the A/B testing:**\n",
    "\n",
    "\n",
    "- Both raw and filtered data revealed statistically significant differences in conversion between the groups.\n",
    "- The graph showing the difference in conversion tells that, by the end of the month, group `B` demonstarted higher relative gain of 15%:\n",
    "\n",
    "![image-7.png](attachment:image-7.png)\n",
    "\n",
    "\n",
    "- Neither raw nor filtered data revealed any statistically significant differences in order size ('revenue') between the groups.\n",
    "- The graph showing the difference in average order size between the groups tells that it can be too early to make conclusions:\n",
    "\n",
    "![image-8.png](attachment:image-8.png)\n",
    "\n",
    "Based on these facts and given the goal of the project, to reveal a hypothesis that may help boost revenue, we can conclude that the test should be continued until the more steady graph of the average order size for the two groups is achieved as well."
   ]
  },
  {
   "cell_type": "markdown",
   "id": "458b4b21",
   "metadata": {},
   "source": [
    "# Conclusions <a id='conclusions'></a>"
   ]
  },
  {
   "cell_type": "markdown",
   "id": "d821556c",
   "metadata": {},
   "source": [
    "Together with the marketing department, we compiled a list of hypotheses that may help boost revenue. As a data analyst, my first task was to prioritize the hypotheses and then analyze the results of corresponding A/B test."
   ]
  },
  {
   "cell_type": "markdown",
   "id": "194e160c",
   "metadata": {},
   "source": [
    "We have uploaded and preprocessed the data. The most significant observation at this step were [58 visitors](#dup) who ended up being assigned to both `A` and `B` group. We had no other option rather than to drop their entries all together."
   ]
  },
  {
   "cell_type": "markdown",
   "id": "0d0da128",
   "metadata": {},
   "source": [
    "We employed two methods, `ICE` and `RICE` to prioritize hypotheses. While the TOP5 hypotheses in both cases are the same, with both methods we have hypothesis `7` and `0` in the TOP3 and hypothesis `6` on the 4th place; one striking difference is that hypothesis `2` takes the second place with `RICE` (only the 5th witn `ICE`), while hypothesis `8` gives the same result with `ICE`. The only difference is that in `RICE` the `reach` factor is taken into account, the estimate of  how many users will be affected by the update. Anyway, drawing upon the two results, we could recommend re-check the scores and to recalculate the ratings. While waiting for the ambiguity to be resolved, we would say that `7` seemed to be the most prominent hypothesis to be of the top priority."
   ]
  },
  {
   "cell_type": "markdown",
   "id": "a1e934ee",
   "metadata": {},
   "source": [
    "After plotting the cumulation revenue and average order size, we quickly discovered the [outliers](#outliers), which we had to drop as well to be able to make sense of the data at hand."
   ]
  },
  {
   "cell_type": "markdown",
   "id": "400821cf",
   "metadata": {},
   "source": [
    "Then, we analyzed the difference in conversion rates and the difference in order size for the two groups and used non-parametric method to test the hypoteses about the significance of those differences. We conducted the tests both on the raw data (without duplicates) and on the filtered data. Both raw and filtered data revealed statistically significant differences in conversion between the groups. By the end of the month, group `B` demonstarted 14.4% higher relative gain.\n",
    "\n",
    "Neither raw nor filtered data revealed any statistically significant differences in the order size (`revenue`) distributions of the groups; although the graph showing the difference in average order size between the groups tells that it can be too early to make conclusions.\n",
    "\n",
    "Based on these facts and given the goal of the project, to reveal a hypothesis that may help boost the total revenue, we can conclude that the given A/B test delivered prominent results on the conversion rates, but it should be continued until the more steady graph of the average order size for the two groups is achieved as well."
   ]
  }
 ],
 "metadata": {
  "ExecuteTimeLog": [
   {
    "duration": 1915,
    "start_time": "2022-03-20T11:52:10.758Z"
   },
   {
    "duration": 5,
    "start_time": "2022-03-20T11:52:12.676Z"
   },
   {
    "duration": 74,
    "start_time": "2022-03-20T11:52:12.683Z"
   },
   {
    "duration": 80,
    "start_time": "2022-03-20T11:52:12.760Z"
   },
   {
    "duration": 65,
    "start_time": "2022-03-20T11:52:12.843Z"
   },
   {
    "duration": 12,
    "start_time": "2022-03-20T11:52:12.910Z"
   },
   {
    "duration": 22,
    "start_time": "2022-03-20T11:52:12.925Z"
   },
   {
    "duration": 13,
    "start_time": "2022-03-20T11:52:12.949Z"
   },
   {
    "duration": 8,
    "start_time": "2022-03-20T11:52:12.964Z"
   },
   {
    "duration": 5,
    "start_time": "2022-03-20T11:52:12.974Z"
   },
   {
    "duration": 26,
    "start_time": "2022-03-20T11:52:12.982Z"
   },
   {
    "duration": 8,
    "start_time": "2022-03-20T11:52:13.010Z"
   },
   {
    "duration": 12,
    "start_time": "2022-03-20T11:52:13.021Z"
   },
   {
    "duration": 5,
    "start_time": "2022-03-20T11:52:13.038Z"
   },
   {
    "duration": 83,
    "start_time": "2022-03-20T11:52:13.045Z"
   },
   {
    "duration": 12,
    "start_time": "2022-03-20T11:52:13.130Z"
   },
   {
    "duration": 6,
    "start_time": "2022-03-20T11:52:13.144Z"
   },
   {
    "duration": 13,
    "start_time": "2022-03-20T11:52:13.152Z"
   },
   {
    "duration": 14,
    "start_time": "2022-03-20T11:52:13.167Z"
   },
   {
    "duration": 7,
    "start_time": "2022-03-20T11:52:13.183Z"
   },
   {
    "duration": 15,
    "start_time": "2022-03-20T11:52:13.192Z"
   },
   {
    "duration": 12,
    "start_time": "2022-03-20T11:52:13.209Z"
   },
   {
    "duration": 8,
    "start_time": "2022-03-20T11:52:13.223Z"
   },
   {
    "duration": 44,
    "start_time": "2022-03-20T11:52:13.234Z"
   },
   {
    "duration": 8,
    "start_time": "2022-03-20T11:52:13.280Z"
   },
   {
    "duration": 6,
    "start_time": "2022-03-20T11:52:13.290Z"
   },
   {
    "duration": 11,
    "start_time": "2022-03-20T11:52:13.299Z"
   },
   {
    "duration": 10,
    "start_time": "2022-03-20T11:52:13.312Z"
   },
   {
    "duration": 51,
    "start_time": "2022-03-20T11:52:13.324Z"
   },
   {
    "duration": 8,
    "start_time": "2022-03-20T11:52:13.377Z"
   },
   {
    "duration": 9,
    "start_time": "2022-03-20T11:52:13.388Z"
   },
   {
    "duration": 8,
    "start_time": "2022-03-20T11:52:13.399Z"
   },
   {
    "duration": 8,
    "start_time": "2022-03-20T11:52:13.409Z"
   },
   {
    "duration": 354,
    "start_time": "2022-03-20T11:52:13.419Z"
   },
   {
    "duration": 5,
    "start_time": "2022-03-20T11:52:13.775Z"
   },
   {
    "duration": 13,
    "start_time": "2022-03-20T11:52:13.781Z"
   },
   {
    "duration": 37,
    "start_time": "2022-03-20T11:52:13.796Z"
   },
   {
    "duration": 23,
    "start_time": "2022-03-20T11:52:13.835Z"
   },
   {
    "duration": 33,
    "start_time": "2022-03-20T11:52:13.860Z"
   },
   {
    "duration": 17,
    "start_time": "2022-03-20T11:52:13.895Z"
   },
   {
    "duration": 18,
    "start_time": "2022-03-20T11:52:13.919Z"
   },
   {
    "duration": 32,
    "start_time": "2022-03-20T11:52:13.939Z"
   },
   {
    "duration": 18,
    "start_time": "2022-03-20T11:52:13.973Z"
   },
   {
    "duration": 25,
    "start_time": "2022-03-20T11:52:13.993Z"
   },
   {
    "duration": 17,
    "start_time": "2022-03-20T11:52:14.020Z"
   },
   {
    "duration": 435,
    "start_time": "2022-03-20T11:52:14.039Z"
   },
   {
    "duration": 11,
    "start_time": "2022-03-20T11:52:14.476Z"
   },
   {
    "duration": 233,
    "start_time": "2022-03-20T11:52:14.489Z"
   },
   {
    "duration": 11,
    "start_time": "2022-03-20T11:52:14.724Z"
   },
   {
    "duration": 246,
    "start_time": "2022-03-20T11:52:14.737Z"
   },
   {
    "duration": 17,
    "start_time": "2022-03-20T11:52:14.985Z"
   },
   {
    "duration": 34,
    "start_time": "2022-03-20T11:52:15.005Z"
   },
   {
    "duration": 18,
    "start_time": "2022-03-20T11:52:15.041Z"
   },
   {
    "duration": 14,
    "start_time": "2022-03-20T11:52:15.061Z"
   },
   {
    "duration": 30,
    "start_time": "2022-03-20T11:52:15.077Z"
   },
   {
    "duration": 314,
    "start_time": "2022-03-20T11:52:15.110Z"
   },
   {
    "duration": 231,
    "start_time": "2022-03-20T11:52:15.426Z"
   },
   {
    "duration": 34,
    "start_time": "2022-03-20T11:52:15.659Z"
   },
   {
    "duration": 331,
    "start_time": "2022-03-20T11:52:15.696Z"
   },
   {
    "duration": 320,
    "start_time": "2022-03-20T11:52:16.030Z"
   },
   {
    "duration": 471,
    "start_time": "2022-03-20T11:52:16.353Z"
   },
   {
    "duration": 5,
    "start_time": "2022-03-20T11:52:16.826Z"
   },
   {
    "duration": 285,
    "start_time": "2022-03-20T11:52:16.833Z"
   },
   {
    "duration": 6,
    "start_time": "2022-03-20T11:52:17.120Z"
   },
   {
    "duration": 16,
    "start_time": "2022-03-20T11:52:17.128Z"
   },
   {
    "duration": 31,
    "start_time": "2022-03-20T11:52:17.146Z"
   },
   {
    "duration": 14,
    "start_time": "2022-03-20T11:52:17.179Z"
   },
   {
    "duration": 10,
    "start_time": "2022-03-20T11:52:17.195Z"
   },
   {
    "duration": 638,
    "start_time": "2022-03-20T11:52:17.207Z"
   },
   {
    "duration": 332,
    "start_time": "2022-03-20T11:52:17.847Z"
   },
   {
    "duration": 324,
    "start_time": "2022-03-20T11:52:18.181Z"
   },
   {
    "duration": 320,
    "start_time": "2022-03-20T11:52:18.507Z"
   },
   {
    "duration": 475,
    "start_time": "2022-03-20T11:52:18.829Z"
   },
   {
    "duration": 393,
    "start_time": "2022-03-20T11:52:19.306Z"
   },
   {
    "duration": 293,
    "start_time": "2022-03-20T11:52:19.702Z"
   },
   {
    "duration": 11,
    "start_time": "2022-03-20T11:52:19.997Z"
   },
   {
    "duration": 30,
    "start_time": "2022-03-20T11:52:20.010Z"
   },
   {
    "duration": 6,
    "start_time": "2022-03-20T11:52:20.042Z"
   },
   {
    "duration": 49,
    "start_time": "2022-03-20T11:52:20.050Z"
   },
   {
    "duration": 15,
    "start_time": "2022-03-20T11:52:20.102Z"
   },
   {
    "duration": 14,
    "start_time": "2022-03-20T11:52:20.119Z"
   },
   {
    "duration": 65,
    "start_time": "2022-03-20T11:52:20.135Z"
   },
   {
    "duration": 19,
    "start_time": "2022-03-20T11:52:20.202Z"
   },
   {
    "duration": 89,
    "start_time": "2022-03-20T12:00:08.168Z"
   },
   {
    "duration": 53,
    "start_time": "2022-03-21T15:12:44.921Z"
   },
   {
    "duration": 1457,
    "start_time": "2022-03-21T15:12:53.290Z"
   },
   {
    "duration": 4,
    "start_time": "2022-03-21T15:12:54.750Z"
   },
   {
    "duration": 85,
    "start_time": "2022-03-21T15:12:54.755Z"
   },
   {
    "duration": 90,
    "start_time": "2022-03-21T15:12:54.843Z"
   },
   {
    "duration": 83,
    "start_time": "2022-03-21T15:12:54.935Z"
   },
   {
    "duration": 10,
    "start_time": "2022-03-21T15:12:55.019Z"
   },
   {
    "duration": 16,
    "start_time": "2022-03-21T15:12:55.031Z"
   },
   {
    "duration": 11,
    "start_time": "2022-03-21T15:12:55.049Z"
   },
   {
    "duration": 7,
    "start_time": "2022-03-21T15:12:55.062Z"
   },
   {
    "duration": 5,
    "start_time": "2022-03-21T15:12:55.072Z"
   },
   {
    "duration": 18,
    "start_time": "2022-03-21T15:12:55.079Z"
   },
   {
    "duration": 14,
    "start_time": "2022-03-21T15:12:55.098Z"
   },
   {
    "duration": 12,
    "start_time": "2022-03-21T15:12:55.117Z"
   },
   {
    "duration": 6,
    "start_time": "2022-03-21T15:12:55.131Z"
   },
   {
    "duration": 84,
    "start_time": "2022-03-21T15:12:55.138Z"
   },
   {
    "duration": 9,
    "start_time": "2022-03-21T15:12:55.224Z"
   },
   {
    "duration": 7,
    "start_time": "2022-03-21T15:12:55.235Z"
   },
   {
    "duration": 14,
    "start_time": "2022-03-21T15:12:55.244Z"
   },
   {
    "duration": 16,
    "start_time": "2022-03-21T15:12:55.260Z"
   },
   {
    "duration": 7,
    "start_time": "2022-03-21T15:12:55.278Z"
   },
   {
    "duration": 15,
    "start_time": "2022-03-21T15:12:55.287Z"
   },
   {
    "duration": 18,
    "start_time": "2022-03-21T15:12:55.306Z"
   },
   {
    "duration": 10,
    "start_time": "2022-03-21T15:12:55.325Z"
   },
   {
    "duration": 9,
    "start_time": "2022-03-21T15:12:55.337Z"
   },
   {
    "duration": 8,
    "start_time": "2022-03-21T15:12:55.347Z"
   },
   {
    "duration": 8,
    "start_time": "2022-03-21T15:12:55.357Z"
   },
   {
    "duration": 11,
    "start_time": "2022-03-21T15:12:55.367Z"
   },
   {
    "duration": 7,
    "start_time": "2022-03-21T15:12:55.401Z"
   },
   {
    "duration": 19,
    "start_time": "2022-03-21T15:12:55.411Z"
   },
   {
    "duration": 11,
    "start_time": "2022-03-21T15:12:55.432Z"
   },
   {
    "duration": 14,
    "start_time": "2022-03-21T15:12:55.444Z"
   },
   {
    "duration": 11,
    "start_time": "2022-03-21T15:12:55.459Z"
   },
   {
    "duration": 14,
    "start_time": "2022-03-21T15:12:55.472Z"
   },
   {
    "duration": 174,
    "start_time": "2022-03-21T15:12:55.500Z"
   },
   {
    "duration": 3,
    "start_time": "2022-03-21T15:12:55.677Z"
   },
   {
    "duration": 16,
    "start_time": "2022-03-21T15:12:55.682Z"
   },
   {
    "duration": 42,
    "start_time": "2022-03-21T15:12:55.706Z"
   },
   {
    "duration": 6,
    "start_time": "2022-03-21T15:12:55.751Z"
   },
   {
    "duration": 8,
    "start_time": "2022-03-21T15:12:55.759Z"
   },
   {
    "duration": 5,
    "start_time": "2022-03-21T15:12:55.769Z"
   },
   {
    "duration": 14,
    "start_time": "2022-03-21T15:12:55.776Z"
   },
   {
    "duration": 12,
    "start_time": "2022-03-21T15:12:55.792Z"
   },
   {
    "duration": 6,
    "start_time": "2022-03-21T15:12:55.808Z"
   },
   {
    "duration": 7,
    "start_time": "2022-03-21T15:12:55.816Z"
   },
   {
    "duration": 12,
    "start_time": "2022-03-21T15:12:55.824Z"
   },
   {
    "duration": 293,
    "start_time": "2022-03-21T15:12:55.838Z"
   },
   {
    "duration": 9,
    "start_time": "2022-03-21T15:12:56.133Z"
   },
   {
    "duration": 166,
    "start_time": "2022-03-21T15:12:56.145Z"
   },
   {
    "duration": 9,
    "start_time": "2022-03-21T15:12:56.314Z"
   },
   {
    "duration": 162,
    "start_time": "2022-03-21T15:12:56.325Z"
   },
   {
    "duration": 21,
    "start_time": "2022-03-21T15:12:56.489Z"
   },
   {
    "duration": 21,
    "start_time": "2022-03-21T15:12:56.514Z"
   },
   {
    "duration": 8,
    "start_time": "2022-03-21T15:12:56.537Z"
   },
   {
    "duration": 9,
    "start_time": "2022-03-21T15:12:56.547Z"
   },
   {
    "duration": 10,
    "start_time": "2022-03-21T15:12:56.558Z"
   },
   {
    "duration": 236,
    "start_time": "2022-03-21T15:12:56.570Z"
   },
   {
    "duration": 157,
    "start_time": "2022-03-21T15:12:56.809Z"
   },
   {
    "duration": 15,
    "start_time": "2022-03-21T15:12:56.968Z"
   },
   {
    "duration": 234,
    "start_time": "2022-03-21T15:12:56.984Z"
   },
   {
    "duration": 229,
    "start_time": "2022-03-21T15:12:57.220Z"
   },
   {
    "duration": 290,
    "start_time": "2022-03-21T15:12:57.450Z"
   },
   {
    "duration": 4,
    "start_time": "2022-03-21T15:12:57.742Z"
   },
   {
    "duration": 201,
    "start_time": "2022-03-21T15:12:57.748Z"
   },
   {
    "duration": 5,
    "start_time": "2022-03-21T15:12:57.951Z"
   },
   {
    "duration": 18,
    "start_time": "2022-03-21T15:12:57.957Z"
   },
   {
    "duration": 28,
    "start_time": "2022-03-21T15:12:57.977Z"
   },
   {
    "duration": 13,
    "start_time": "2022-03-21T15:12:58.008Z"
   },
   {
    "duration": 11,
    "start_time": "2022-03-21T15:12:58.023Z"
   },
   {
    "duration": 452,
    "start_time": "2022-03-21T15:12:58.035Z"
   },
   {
    "duration": 242,
    "start_time": "2022-03-21T15:12:58.489Z"
   },
   {
    "duration": 217,
    "start_time": "2022-03-21T15:12:58.733Z"
   },
   {
    "duration": 228,
    "start_time": "2022-03-21T15:12:58.953Z"
   },
   {
    "duration": 374,
    "start_time": "2022-03-21T15:12:59.184Z"
   },
   {
    "duration": 375,
    "start_time": "2022-03-21T15:12:59.561Z"
   },
   {
    "duration": 164,
    "start_time": "2022-03-21T15:12:59.937Z"
   },
   {
    "duration": 14,
    "start_time": "2022-03-21T15:13:00.105Z"
   },
   {
    "duration": 30,
    "start_time": "2022-03-21T15:13:00.121Z"
   },
   {
    "duration": 17,
    "start_time": "2022-03-21T15:13:00.153Z"
   },
   {
    "duration": 63,
    "start_time": "2022-03-21T15:13:00.171Z"
   },
   {
    "duration": 15,
    "start_time": "2022-03-21T15:13:00.236Z"
   },
   {
    "duration": 46,
    "start_time": "2022-03-21T15:13:00.254Z"
   },
   {
    "duration": 56,
    "start_time": "2022-03-21T15:13:00.309Z"
   },
   {
    "duration": 38,
    "start_time": "2022-03-21T15:13:00.366Z"
   },
   {
    "duration": 107,
    "start_time": "2022-03-21T15:13:26.540Z"
   },
   {
    "duration": 3,
    "start_time": "2022-03-21T15:13:30.544Z"
   },
   {
    "duration": 11,
    "start_time": "2022-03-21T15:13:33.062Z"
   },
   {
    "duration": 157,
    "start_time": "2022-03-21T15:19:11.692Z"
   },
   {
    "duration": 143,
    "start_time": "2022-03-21T15:19:20.168Z"
   },
   {
    "duration": 143,
    "start_time": "2022-03-21T15:21:38.514Z"
   },
   {
    "duration": 94,
    "start_time": "2022-03-21T15:21:56.137Z"
   },
   {
    "duration": 18,
    "start_time": "2022-03-21T15:22:50.707Z"
   },
   {
    "duration": 14,
    "start_time": "2022-03-21T15:22:57.075Z"
   },
   {
    "duration": 178,
    "start_time": "2022-03-21T15:23:03.435Z"
   },
   {
    "duration": 159,
    "start_time": "2022-03-21T15:23:32.419Z"
   },
   {
    "duration": 260,
    "start_time": "2022-03-21T15:23:35.294Z"
   },
   {
    "duration": 169,
    "start_time": "2022-03-21T15:23:39.875Z"
   },
   {
    "duration": 173,
    "start_time": "2022-03-21T15:23:46.359Z"
   },
   {
    "duration": 159,
    "start_time": "2022-03-21T15:23:56.815Z"
   },
   {
    "duration": 175,
    "start_time": "2022-03-21T15:24:01.286Z"
   },
   {
    "duration": 171,
    "start_time": "2022-03-21T15:24:17.574Z"
   },
   {
    "duration": 238,
    "start_time": "2022-03-21T15:25:35.821Z"
   },
   {
    "duration": 248,
    "start_time": "2022-03-21T15:26:20.202Z"
   },
   {
    "duration": 221,
    "start_time": "2022-03-21T15:26:25.295Z"
   },
   {
    "duration": 253,
    "start_time": "2022-03-21T15:26:30.478Z"
   },
   {
    "duration": 232,
    "start_time": "2022-03-21T15:26:35.313Z"
   },
   {
    "duration": 327,
    "start_time": "2022-03-21T15:26:42.841Z"
   },
   {
    "duration": 233,
    "start_time": "2022-03-21T15:26:50.910Z"
   },
   {
    "duration": 235,
    "start_time": "2022-03-21T15:28:35.189Z"
   },
   {
    "duration": 177,
    "start_time": "2022-03-21T15:31:11.589Z"
   },
   {
    "duration": 13,
    "start_time": "2022-03-21T15:32:30.056Z"
   },
   {
    "duration": 311,
    "start_time": "2022-03-21T15:32:38.962Z"
   },
   {
    "duration": 188,
    "start_time": "2022-03-21T15:33:10.249Z"
   },
   {
    "duration": 277,
    "start_time": "2022-03-21T15:34:22.273Z"
   },
   {
    "duration": 268,
    "start_time": "2022-03-21T15:34:26.933Z"
   },
   {
    "duration": 308,
    "start_time": "2022-03-21T15:34:30.834Z"
   },
   {
    "duration": 273,
    "start_time": "2022-03-21T15:34:34.321Z"
   },
   {
    "duration": 283,
    "start_time": "2022-03-21T15:34:38.513Z"
   },
   {
    "duration": 292,
    "start_time": "2022-03-21T15:35:21.120Z"
   },
   {
    "duration": 178,
    "start_time": "2022-03-21T15:35:27.025Z"
   },
   {
    "duration": 333,
    "start_time": "2022-03-21T15:36:03.423Z"
   },
   {
    "duration": 235,
    "start_time": "2022-03-21T15:36:36.905Z"
   },
   {
    "duration": 227,
    "start_time": "2022-03-21T15:36:44.837Z"
   },
   {
    "duration": 231,
    "start_time": "2022-03-21T15:37:10.984Z"
   }
  ],
  "kernelspec": {
   "display_name": "Python 3",
   "language": "python",
   "name": "python3"
  },
  "language_info": {
   "codemirror_mode": {
    "name": "ipython",
    "version": 3
   },
   "file_extension": ".py",
   "mimetype": "text/x-python",
   "name": "python",
   "nbconvert_exporter": "python",
   "pygments_lexer": "ipython3",
   "version": "3.8.8"
  },
  "toc": {
   "base_numbering": 1,
   "nav_menu": {},
   "number_sections": true,
   "sideBar": true,
   "skip_h1_title": true,
   "title_cell": "Table of Contents",
   "title_sidebar": "Contents",
   "toc_cell": false,
   "toc_position": {},
   "toc_section_display": true,
   "toc_window_display": false
  }
 },
 "nbformat": 4,
 "nbformat_minor": 5
}
