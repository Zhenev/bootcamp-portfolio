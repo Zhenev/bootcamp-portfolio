{
 "cells": [
  {
   "cell_type": "markdown",
   "metadata": {},
   "source": [
    "# Analyzing Borrowers’ Risk of Defaulting\n",
    "\n",
    "This project's goal is to prepare a report for a bank’s loan division. The report will be considered when building the **credit score** of a potential customer. The **credit score** is used to evaluate the ability of a potential borrower to repay their loan. Initially, we were asked to find out if a customer’s marital status and number of children has an impact on whether they will default on a loan. The bank has already collected and provided us with some data on customers’ credit worthiness."
   ]
  },
  {
   "cell_type": "markdown",
   "metadata": {},
   "source": [
    "# Contents <a id='back'></a>\n",
    "\n",
    "* [Introduction](#intro)\n",
    "\n",
    "* [Stage 1. Data Overview](#data_overview)\n",
    "    * [General Information About the Data](#data_overview_general)\n",
    "    * [Data Exploration](#data_overview_exploration)\n",
    "    * [Intermediate Conclusions](#data_overview_conclusion)\n",
    "* [Stage 2. Data Transformation](#data_transformation)\n",
    "    * [Investigating and Filling In Missing Values](#missing_values)\n",
    "    * [Intermediate conclusions on the nature of missing values](#missing_values_intermediate1)\n",
    "    * [Further investigation of missing values: the role of customers' age](#missing_values_part2)\n",
    "    * [Intermediate conclusions on the nature of missing values](#missing_values_intermediate2)\n",
    "    * [Further investigation of missing values: the role of loan purpose](#missing_values_part3)\n",
    "    * [Final conclusions on the nature of missing values](#missing_values_final)\n",
    "    * [Working with duplicates in individual columns](#duplicates1)\n",
    "    * [Working with duplicates across the dataset](#duplicates2)\n",
    "    * [Intermediate conclusions on duplicates](#duplicates_intermediate)\n",
    "    * [Restoring missing values in `total_income`](#restoring_missing_values1)\n",
    "    * [Restoring values in `days_employed`](#restoring_missing_values2)\n",
    "    * [Final check for missing values for the rest of the variables](#restoring_missing_values3)\n",
    "    * [Data Categorization](#categories)\n",
    "* [Stage 3. Testing Hypotheses](#hypotheses_testing)\n",
    "\n",
    "    * [Hypothesis 1: merital status impact](#hypotheses_testing_family)\n",
    "    * [Hypothesis 2: number of children impact](#hypotheses_testing_children)\n",
    "    * [Hypothesis 3: income impact](#hypotheses_testing_income)\n",
    "    * [Hypothesis 3*. number of children for different income levels](#hypotheses_testing_income_star)\n",
    "    * [Hypothesis 4: purpose impact](#hypotheses_testing_purpose)\n",
    "    * [Hypothesis 5: gender impact](#hypotheses_testing_gender)\n",
    "    * [Hypothesis 6: work experience impact](#hypotheses_testing_exp)\n",
    "    * [Hypothesis 7: education level impact](#hypotheses_testing_eduction)\n",
    "    * [Hypothesis 8: age impact](#hypotheses_testing_age)\n",
    "* [Stage 4. General Conclusion: Findings and Recommendations](#general_conclusions)"
   ]
  },
  {
   "cell_type": "markdown",
   "metadata": {},
   "source": [
    "## Introduction <a id=\"intro\"></a>\n",
    "\n",
    "To make the right decisions on the structure of a future credit scoring model, a bank has to reveal sound assumptions with regard to customers' characteristics which have the most impact on the probability of a particular customer to payout the loan. To this purpose, we formulate a number of hypotheses that we will test on the existing data provided by the loan division of the bank.\n",
    "\n",
    "### Goal: \n",
    "Based on their experience, the loan division suggested that the merital status and the number of children should have considerable impact. Thus, we will test these two initial hypotheses and add 3 to 5 more hypotheses to find out, based on already existing data, what customer's characteristics had the most impact on his or her credit worthiness and make recommendations for future credit score model. The list of hypotheses includes:\n",
    "1. Marital status has an impact on whether the client will default on a loan (one of the initial assumption provided by the loan division). \n",
    "2. Number of children has an impact on whether the client will default on a loan (additional assumption provided by the loan division). \n",
    "3. Other variables (e.g., income level or loan purpose) and/or their combinations (e.g., income level to number of children ratio) have an impact on whether the client will default on a loan (we will elaborate on additional hypotheses after getting the results on the first two ones we were tasked with to check).\n",
    "\n",
    "### Project Stages \n",
    "Data on customers’ credit worthiness in the file `/datasets/credit_scoring_eng.csv`. We were not provided with any previous information about the quality of the data, so we will explore it before testing the hypotheses. First, we evaluate the quality of the data and see how significant its issues are and what are appropriate ways to fix them. Then, during data preprocessing stage, we account for the most critical problems (identify and fill in missing values, cast data types according to the needs of the project, delete duplicate data and categorize the clean data to enable further hypotheses testing). The next stage is to test the initial hypotheses and additional ones accordingly. The last stage is making an overview of the findings and writing recommendations for the loan division. Thus, the project will consist of four stages:\n",
    " 1. Data overview;\n",
    " 2. Data preprocessing/transformation;\n",
    " 3. Testing the hypotheses;\n",
    " 4. Conclusion.\n",
    " \n",
    "[Back to Contents](#back)"
   ]
  },
  {
   "cell_type": "markdown",
   "metadata": {},
   "source": [
    "## Stage 1. Data Overview <a id='data_overview'></a>"
   ]
  },
  {
   "cell_type": "markdown",
   "metadata": {},
   "source": [
    "### Opening of the data file and having a look at the general information  <a id='data_overview_general'></a>\n",
    "\n",
    "We start with importing the necessary libraries and loading the data. If additional libraries are needed, we will add them to the next cell also and update it."
   ]
  },
  {
   "cell_type": "code",
   "execution_count": 147,
   "metadata": {
    "scrolled": true
   },
   "outputs": [],
   "source": [
    "import pandas as pd\n",
    "import matplotlib.pyplot as plt # We will need this for visualisations\n",
    "%matplotlib inline\n",
    "from scipy import stats # We will need this in case we want to make some statistical checks\n",
    "import warnings\n",
    "warnings.filterwarnings(\"ignore\") # To filter out automatic comments on plots from Jupyter (not affecting the output)"
   ]
  },
  {
   "cell_type": "markdown",
   "metadata": {},
   "source": [
    "Let's read the data. We wrap the file reading request into a try-except block to make sure that the project runs both locally and on the platform and check that the data set was uploaded."
   ]
  },
  {
   "cell_type": "code",
   "execution_count": 148,
   "metadata": {},
   "outputs": [
    {
     "data": {
      "text/html": [
       "<div>\n",
       "<style scoped>\n",
       "    .dataframe tbody tr th:only-of-type {\n",
       "        vertical-align: middle;\n",
       "    }\n",
       "\n",
       "    .dataframe tbody tr th {\n",
       "        vertical-align: top;\n",
       "    }\n",
       "\n",
       "    .dataframe thead th {\n",
       "        text-align: right;\n",
       "    }\n",
       "</style>\n",
       "<table border=\"1\" class=\"dataframe\">\n",
       "  <thead>\n",
       "    <tr style=\"text-align: right;\">\n",
       "      <th></th>\n",
       "      <th>children</th>\n",
       "      <th>days_employed</th>\n",
       "      <th>dob_years</th>\n",
       "      <th>education</th>\n",
       "      <th>education_id</th>\n",
       "      <th>family_status</th>\n",
       "      <th>family_status_id</th>\n",
       "      <th>gender</th>\n",
       "      <th>income_type</th>\n",
       "      <th>debt</th>\n",
       "      <th>total_income</th>\n",
       "      <th>purpose</th>\n",
       "    </tr>\n",
       "  </thead>\n",
       "  <tbody>\n",
       "    <tr>\n",
       "      <th>0</th>\n",
       "      <td>1</td>\n",
       "      <td>-8437.673028</td>\n",
       "      <td>42</td>\n",
       "      <td>bachelor's degree</td>\n",
       "      <td>0</td>\n",
       "      <td>married</td>\n",
       "      <td>0</td>\n",
       "      <td>F</td>\n",
       "      <td>employee</td>\n",
       "      <td>0</td>\n",
       "      <td>40620.102</td>\n",
       "      <td>purchase of the house</td>\n",
       "    </tr>\n",
       "  </tbody>\n",
       "</table>\n",
       "</div>"
      ],
      "text/plain": [
       "   children  days_employed  dob_years          education  education_id  \\\n",
       "0         1   -8437.673028         42  bachelor's degree             0   \n",
       "\n",
       "  family_status  family_status_id gender income_type  debt  total_income  \\\n",
       "0       married                 0      F    employee     0     40620.102   \n",
       "\n",
       "                 purpose  \n",
       "0  purchase of the house  "
      ]
     },
     "execution_count": 148,
     "metadata": {},
     "output_type": "execute_result"
    }
   ],
   "source": [
    "try:\n",
    "    df = pd.read_csv('datasets/credit_scoring_eng.csv')\n",
    "except:\n",
    "    df = pd.read_csv('/datasets/credit_scoring_eng.csv')\n",
    "\n",
    "# checking that the file was read\n",
    "\n",
    "df.head(1)"
   ]
  },
  {
   "cell_type": "markdown",
   "metadata": {},
   "source": [
    "[Back to Contents](#back)"
   ]
  },
  {
   "cell_type": "markdown",
   "metadata": {},
   "source": [
    "### Task 1. Data exploration <a id='data_overview_exploration'></a>\n",
    "\n",
    "**Description of the data** (provided by the loan division)\n",
    "- `children` - the number of children in the family\n",
    "- `days_employed` - work experience in days\n",
    "- `dob_years` - client's age in years\n",
    "- `education` - client's education\n",
    "- `education_id` - education identifier\n",
    "- `family_status` - marital status\n",
    "- `family_status_id` - marital status identifier\n",
    "- `gender` - gender of the client\n",
    "- `income_type` - type of employment\n",
    "- `debt` - was there any debt on loan repayment\n",
    "- `total_income` - monthly income\n",
    "- `purpose` - the purpose of obtaining a loan\n"
   ]
  },
  {
   "cell_type": "markdown",
   "metadata": {},
   "source": [
    "Let's see how many rows and columns our dataset has."
   ]
  },
  {
   "cell_type": "code",
   "execution_count": 149,
   "metadata": {},
   "outputs": [
    {
     "name": "stdout",
     "output_type": "stream",
     "text": [
      "DataFrame length: 21525\n",
      "DataFrame width: 12\n"
     ]
    }
   ],
   "source": [
    "print('DataFrame length:', len(df))\n",
    "print('DataFrame width:', len(df.columns))"
   ]
  },
  {
   "cell_type": "markdown",
   "metadata": {},
   "source": [
    "The data sample consist of **21525 rows and 12 columns** (described above). Let's print the first 15 rows."
   ]
  },
  {
   "cell_type": "code",
   "execution_count": 150,
   "metadata": {
    "scrolled": true
   },
   "outputs": [
    {
     "data": {
      "text/html": [
       "<div>\n",
       "<style scoped>\n",
       "    .dataframe tbody tr th:only-of-type {\n",
       "        vertical-align: middle;\n",
       "    }\n",
       "\n",
       "    .dataframe tbody tr th {\n",
       "        vertical-align: top;\n",
       "    }\n",
       "\n",
       "    .dataframe thead th {\n",
       "        text-align: right;\n",
       "    }\n",
       "</style>\n",
       "<table border=\"1\" class=\"dataframe\">\n",
       "  <thead>\n",
       "    <tr style=\"text-align: right;\">\n",
       "      <th></th>\n",
       "      <th>children</th>\n",
       "      <th>days_employed</th>\n",
       "      <th>dob_years</th>\n",
       "      <th>education</th>\n",
       "      <th>education_id</th>\n",
       "      <th>family_status</th>\n",
       "      <th>family_status_id</th>\n",
       "      <th>gender</th>\n",
       "      <th>income_type</th>\n",
       "      <th>debt</th>\n",
       "      <th>total_income</th>\n",
       "      <th>purpose</th>\n",
       "    </tr>\n",
       "  </thead>\n",
       "  <tbody>\n",
       "    <tr>\n",
       "      <th>0</th>\n",
       "      <td>1</td>\n",
       "      <td>-8437.673028</td>\n",
       "      <td>42</td>\n",
       "      <td>bachelor's degree</td>\n",
       "      <td>0</td>\n",
       "      <td>married</td>\n",
       "      <td>0</td>\n",
       "      <td>F</td>\n",
       "      <td>employee</td>\n",
       "      <td>0</td>\n",
       "      <td>40620.102</td>\n",
       "      <td>purchase of the house</td>\n",
       "    </tr>\n",
       "    <tr>\n",
       "      <th>1</th>\n",
       "      <td>1</td>\n",
       "      <td>-4024.803754</td>\n",
       "      <td>36</td>\n",
       "      <td>secondary education</td>\n",
       "      <td>1</td>\n",
       "      <td>married</td>\n",
       "      <td>0</td>\n",
       "      <td>F</td>\n",
       "      <td>employee</td>\n",
       "      <td>0</td>\n",
       "      <td>17932.802</td>\n",
       "      <td>car purchase</td>\n",
       "    </tr>\n",
       "    <tr>\n",
       "      <th>2</th>\n",
       "      <td>0</td>\n",
       "      <td>-5623.422610</td>\n",
       "      <td>33</td>\n",
       "      <td>Secondary Education</td>\n",
       "      <td>1</td>\n",
       "      <td>married</td>\n",
       "      <td>0</td>\n",
       "      <td>M</td>\n",
       "      <td>employee</td>\n",
       "      <td>0</td>\n",
       "      <td>23341.752</td>\n",
       "      <td>purchase of the house</td>\n",
       "    </tr>\n",
       "    <tr>\n",
       "      <th>3</th>\n",
       "      <td>3</td>\n",
       "      <td>-4124.747207</td>\n",
       "      <td>32</td>\n",
       "      <td>secondary education</td>\n",
       "      <td>1</td>\n",
       "      <td>married</td>\n",
       "      <td>0</td>\n",
       "      <td>M</td>\n",
       "      <td>employee</td>\n",
       "      <td>0</td>\n",
       "      <td>42820.568</td>\n",
       "      <td>supplementary education</td>\n",
       "    </tr>\n",
       "    <tr>\n",
       "      <th>4</th>\n",
       "      <td>0</td>\n",
       "      <td>340266.072047</td>\n",
       "      <td>53</td>\n",
       "      <td>secondary education</td>\n",
       "      <td>1</td>\n",
       "      <td>civil partnership</td>\n",
       "      <td>1</td>\n",
       "      <td>F</td>\n",
       "      <td>retiree</td>\n",
       "      <td>0</td>\n",
       "      <td>25378.572</td>\n",
       "      <td>to have a wedding</td>\n",
       "    </tr>\n",
       "    <tr>\n",
       "      <th>5</th>\n",
       "      <td>0</td>\n",
       "      <td>-926.185831</td>\n",
       "      <td>27</td>\n",
       "      <td>bachelor's degree</td>\n",
       "      <td>0</td>\n",
       "      <td>civil partnership</td>\n",
       "      <td>1</td>\n",
       "      <td>M</td>\n",
       "      <td>business</td>\n",
       "      <td>0</td>\n",
       "      <td>40922.170</td>\n",
       "      <td>purchase of the house</td>\n",
       "    </tr>\n",
       "    <tr>\n",
       "      <th>6</th>\n",
       "      <td>0</td>\n",
       "      <td>-2879.202052</td>\n",
       "      <td>43</td>\n",
       "      <td>bachelor's degree</td>\n",
       "      <td>0</td>\n",
       "      <td>married</td>\n",
       "      <td>0</td>\n",
       "      <td>F</td>\n",
       "      <td>business</td>\n",
       "      <td>0</td>\n",
       "      <td>38484.156</td>\n",
       "      <td>housing transactions</td>\n",
       "    </tr>\n",
       "    <tr>\n",
       "      <th>7</th>\n",
       "      <td>0</td>\n",
       "      <td>-152.779569</td>\n",
       "      <td>50</td>\n",
       "      <td>SECONDARY EDUCATION</td>\n",
       "      <td>1</td>\n",
       "      <td>married</td>\n",
       "      <td>0</td>\n",
       "      <td>M</td>\n",
       "      <td>employee</td>\n",
       "      <td>0</td>\n",
       "      <td>21731.829</td>\n",
       "      <td>education</td>\n",
       "    </tr>\n",
       "    <tr>\n",
       "      <th>8</th>\n",
       "      <td>2</td>\n",
       "      <td>-6929.865299</td>\n",
       "      <td>35</td>\n",
       "      <td>BACHELOR'S DEGREE</td>\n",
       "      <td>0</td>\n",
       "      <td>civil partnership</td>\n",
       "      <td>1</td>\n",
       "      <td>F</td>\n",
       "      <td>employee</td>\n",
       "      <td>0</td>\n",
       "      <td>15337.093</td>\n",
       "      <td>having a wedding</td>\n",
       "    </tr>\n",
       "    <tr>\n",
       "      <th>9</th>\n",
       "      <td>0</td>\n",
       "      <td>-2188.756445</td>\n",
       "      <td>41</td>\n",
       "      <td>secondary education</td>\n",
       "      <td>1</td>\n",
       "      <td>married</td>\n",
       "      <td>0</td>\n",
       "      <td>M</td>\n",
       "      <td>employee</td>\n",
       "      <td>0</td>\n",
       "      <td>23108.150</td>\n",
       "      <td>purchase of the house for my family</td>\n",
       "    </tr>\n",
       "    <tr>\n",
       "      <th>10</th>\n",
       "      <td>2</td>\n",
       "      <td>-4171.483647</td>\n",
       "      <td>36</td>\n",
       "      <td>bachelor's degree</td>\n",
       "      <td>0</td>\n",
       "      <td>married</td>\n",
       "      <td>0</td>\n",
       "      <td>M</td>\n",
       "      <td>business</td>\n",
       "      <td>0</td>\n",
       "      <td>18230.959</td>\n",
       "      <td>buy real estate</td>\n",
       "    </tr>\n",
       "    <tr>\n",
       "      <th>11</th>\n",
       "      <td>0</td>\n",
       "      <td>-792.701887</td>\n",
       "      <td>40</td>\n",
       "      <td>secondary education</td>\n",
       "      <td>1</td>\n",
       "      <td>married</td>\n",
       "      <td>0</td>\n",
       "      <td>F</td>\n",
       "      <td>employee</td>\n",
       "      <td>0</td>\n",
       "      <td>12331.077</td>\n",
       "      <td>buy commercial real estate</td>\n",
       "    </tr>\n",
       "    <tr>\n",
       "      <th>12</th>\n",
       "      <td>0</td>\n",
       "      <td>NaN</td>\n",
       "      <td>65</td>\n",
       "      <td>secondary education</td>\n",
       "      <td>1</td>\n",
       "      <td>civil partnership</td>\n",
       "      <td>1</td>\n",
       "      <td>M</td>\n",
       "      <td>retiree</td>\n",
       "      <td>0</td>\n",
       "      <td>NaN</td>\n",
       "      <td>to have a wedding</td>\n",
       "    </tr>\n",
       "    <tr>\n",
       "      <th>13</th>\n",
       "      <td>0</td>\n",
       "      <td>-1846.641941</td>\n",
       "      <td>54</td>\n",
       "      <td>some college</td>\n",
       "      <td>2</td>\n",
       "      <td>married</td>\n",
       "      <td>0</td>\n",
       "      <td>F</td>\n",
       "      <td>employee</td>\n",
       "      <td>0</td>\n",
       "      <td>20873.317</td>\n",
       "      <td>car purchase</td>\n",
       "    </tr>\n",
       "    <tr>\n",
       "      <th>14</th>\n",
       "      <td>0</td>\n",
       "      <td>-1844.956182</td>\n",
       "      <td>56</td>\n",
       "      <td>bachelor's degree</td>\n",
       "      <td>0</td>\n",
       "      <td>civil partnership</td>\n",
       "      <td>1</td>\n",
       "      <td>F</td>\n",
       "      <td>business</td>\n",
       "      <td>1</td>\n",
       "      <td>26420.466</td>\n",
       "      <td>buy residential real estate</td>\n",
       "    </tr>\n",
       "  </tbody>\n",
       "</table>\n",
       "</div>"
      ],
      "text/plain": [
       "    children  days_employed  dob_years            education  education_id  \\\n",
       "0          1   -8437.673028         42    bachelor's degree             0   \n",
       "1          1   -4024.803754         36  secondary education             1   \n",
       "2          0   -5623.422610         33  Secondary Education             1   \n",
       "3          3   -4124.747207         32  secondary education             1   \n",
       "4          0  340266.072047         53  secondary education             1   \n",
       "5          0    -926.185831         27    bachelor's degree             0   \n",
       "6          0   -2879.202052         43    bachelor's degree             0   \n",
       "7          0    -152.779569         50  SECONDARY EDUCATION             1   \n",
       "8          2   -6929.865299         35    BACHELOR'S DEGREE             0   \n",
       "9          0   -2188.756445         41  secondary education             1   \n",
       "10         2   -4171.483647         36    bachelor's degree             0   \n",
       "11         0    -792.701887         40  secondary education             1   \n",
       "12         0            NaN         65  secondary education             1   \n",
       "13         0   -1846.641941         54         some college             2   \n",
       "14         0   -1844.956182         56    bachelor's degree             0   \n",
       "\n",
       "        family_status  family_status_id gender income_type  debt  \\\n",
       "0             married                 0      F    employee     0   \n",
       "1             married                 0      F    employee     0   \n",
       "2             married                 0      M    employee     0   \n",
       "3             married                 0      M    employee     0   \n",
       "4   civil partnership                 1      F     retiree     0   \n",
       "5   civil partnership                 1      M    business     0   \n",
       "6             married                 0      F    business     0   \n",
       "7             married                 0      M    employee     0   \n",
       "8   civil partnership                 1      F    employee     0   \n",
       "9             married                 0      M    employee     0   \n",
       "10            married                 0      M    business     0   \n",
       "11            married                 0      F    employee     0   \n",
       "12  civil partnership                 1      M     retiree     0   \n",
       "13            married                 0      F    employee     0   \n",
       "14  civil partnership                 1      F    business     1   \n",
       "\n",
       "    total_income                              purpose  \n",
       "0      40620.102                purchase of the house  \n",
       "1      17932.802                         car purchase  \n",
       "2      23341.752                purchase of the house  \n",
       "3      42820.568              supplementary education  \n",
       "4      25378.572                    to have a wedding  \n",
       "5      40922.170                purchase of the house  \n",
       "6      38484.156                 housing transactions  \n",
       "7      21731.829                            education  \n",
       "8      15337.093                     having a wedding  \n",
       "9      23108.150  purchase of the house for my family  \n",
       "10     18230.959                      buy real estate  \n",
       "11     12331.077           buy commercial real estate  \n",
       "12           NaN                    to have a wedding  \n",
       "13     20873.317                         car purchase  \n",
       "14     26420.466          buy residential real estate  "
      ]
     },
     "execution_count": 150,
     "metadata": {},
     "output_type": "execute_result"
    }
   ],
   "source": [
    "df.head(15)\n"
   ]
  },
  {
   "cell_type": "markdown",
   "metadata": {},
   "source": [
    "One can immediately notice **a number of issues which need further investigation** down the road:\n",
    "1. Negative values for days_employed variable (possibly just need a sign change); one value with impossible number of says to work\n",
    "2. Implicit duplicates in education column (e.g. capital vs. small letters); we should check for other types of variability in the category names;\n",
    "3. Potentially large spectrum of values (partly implicit duplicates as well) in purpose column (e.g., \"housing transactions\" vs. \"purchase of the house\" vs. \"purchase of the house for my family\"; another example \"buy commercial real estate\" by an employee vs. \"buy real estate\", by a business person.\n",
    "\n",
    "Of course, additional issues can rise that may need further investigation and changes in the data set."
   ]
  },
  {
   "cell_type": "markdown",
   "metadata": {},
   "source": [
    "The data does not seem to have issues with column names, but let's make additional check on column names."
   ]
  },
  {
   "cell_type": "code",
   "execution_count": 151,
   "metadata": {},
   "outputs": [
    {
     "data": {
      "text/plain": [
       "Index(['children', 'days_employed', 'dob_years', 'education', 'education_id',\n",
       "       'family_status', 'family_status_id', 'gender', 'income_type', 'debt',\n",
       "       'total_income', 'purpose'],\n",
       "      dtype='object')"
      ]
     },
     "execution_count": 151,
     "metadata": {},
     "output_type": "execute_result"
    }
   ],
   "source": [
    "df.columns"
   ]
  },
  {
   "cell_type": "markdown",
   "metadata": {},
   "source": [
    "Right, column names are OK: snake_case and lowercase are used, no spaces."
   ]
  },
  {
   "cell_type": "markdown",
   "metadata": {},
   "source": [
    "Let's get the info on the data."
   ]
  },
  {
   "cell_type": "code",
   "execution_count": 152,
   "metadata": {
    "scrolled": false
   },
   "outputs": [
    {
     "name": "stdout",
     "output_type": "stream",
     "text": [
      "<class 'pandas.core.frame.DataFrame'>\n",
      "RangeIndex: 21525 entries, 0 to 21524\n",
      "Data columns (total 12 columns):\n",
      " #   Column            Non-Null Count  Dtype  \n",
      "---  ------            --------------  -----  \n",
      " 0   children          21525 non-null  int64  \n",
      " 1   days_employed     19351 non-null  float64\n",
      " 2   dob_years         21525 non-null  int64  \n",
      " 3   education         21525 non-null  object \n",
      " 4   education_id      21525 non-null  int64  \n",
      " 5   family_status     21525 non-null  object \n",
      " 6   family_status_id  21525 non-null  int64  \n",
      " 7   gender            21525 non-null  object \n",
      " 8   income_type       21525 non-null  object \n",
      " 9   debt              21525 non-null  int64  \n",
      " 10  total_income      19351 non-null  float64\n",
      " 11  purpose           21525 non-null  object \n",
      "dtypes: float64(2), int64(5), object(5)\n",
      "memory usage: 2.0+ MB\n"
     ]
    }
   ],
   "source": [
    "df.info()"
   ]
  },
  {
   "cell_type": "markdown",
   "metadata": {},
   "source": [
    "The columns have proper data types. There is no missing data across all the columns, rather for the two columns concerning the work experience and total income. Let's show it in a more clear way, using `isna()` method."
   ]
  },
  {
   "cell_type": "code",
   "execution_count": 153,
   "metadata": {
    "scrolled": true
   },
   "outputs": [
    {
     "data": {
      "text/plain": [
       "children               0\n",
       "days_employed       2174\n",
       "dob_years              0\n",
       "education              0\n",
       "education_id           0\n",
       "family_status          0\n",
       "family_status_id       0\n",
       "gender                 0\n",
       "income_type            0\n",
       "debt                   0\n",
       "total_income        2174\n",
       "purpose                0\n",
       "dtype: int64"
      ]
     },
     "execution_count": 153,
     "metadata": {},
     "output_type": "execute_result"
    }
   ],
   "source": [
    "df.isna().sum()"
   ]
  },
  {
   "cell_type": "markdown",
   "metadata": {},
   "source": [
    "The number of non null values suggests that those can be the same entries, for which the data are missing. Let's take a look at filtered data, first separatelly for each column, then for both columns."
   ]
  },
  {
   "cell_type": "code",
   "execution_count": 154,
   "metadata": {},
   "outputs": [
    {
     "data": {
      "text/html": [
       "<div>\n",
       "<style scoped>\n",
       "    .dataframe tbody tr th:only-of-type {\n",
       "        vertical-align: middle;\n",
       "    }\n",
       "\n",
       "    .dataframe tbody tr th {\n",
       "        vertical-align: top;\n",
       "    }\n",
       "\n",
       "    .dataframe thead th {\n",
       "        text-align: right;\n",
       "    }\n",
       "</style>\n",
       "<table border=\"1\" class=\"dataframe\">\n",
       "  <thead>\n",
       "    <tr style=\"text-align: right;\">\n",
       "      <th></th>\n",
       "      <th>children</th>\n",
       "      <th>days_employed</th>\n",
       "      <th>dob_years</th>\n",
       "      <th>education</th>\n",
       "      <th>education_id</th>\n",
       "      <th>family_status</th>\n",
       "      <th>family_status_id</th>\n",
       "      <th>gender</th>\n",
       "      <th>income_type</th>\n",
       "      <th>debt</th>\n",
       "      <th>total_income</th>\n",
       "      <th>purpose</th>\n",
       "    </tr>\n",
       "  </thead>\n",
       "  <tbody>\n",
       "    <tr>\n",
       "      <th>12</th>\n",
       "      <td>0</td>\n",
       "      <td>NaN</td>\n",
       "      <td>65</td>\n",
       "      <td>secondary education</td>\n",
       "      <td>1</td>\n",
       "      <td>civil partnership</td>\n",
       "      <td>1</td>\n",
       "      <td>M</td>\n",
       "      <td>retiree</td>\n",
       "      <td>0</td>\n",
       "      <td>NaN</td>\n",
       "      <td>to have a wedding</td>\n",
       "    </tr>\n",
       "    <tr>\n",
       "      <th>26</th>\n",
       "      <td>0</td>\n",
       "      <td>NaN</td>\n",
       "      <td>41</td>\n",
       "      <td>secondary education</td>\n",
       "      <td>1</td>\n",
       "      <td>married</td>\n",
       "      <td>0</td>\n",
       "      <td>M</td>\n",
       "      <td>civil servant</td>\n",
       "      <td>0</td>\n",
       "      <td>NaN</td>\n",
       "      <td>education</td>\n",
       "    </tr>\n",
       "    <tr>\n",
       "      <th>29</th>\n",
       "      <td>0</td>\n",
       "      <td>NaN</td>\n",
       "      <td>63</td>\n",
       "      <td>secondary education</td>\n",
       "      <td>1</td>\n",
       "      <td>unmarried</td>\n",
       "      <td>4</td>\n",
       "      <td>F</td>\n",
       "      <td>retiree</td>\n",
       "      <td>0</td>\n",
       "      <td>NaN</td>\n",
       "      <td>building a real estate</td>\n",
       "    </tr>\n",
       "    <tr>\n",
       "      <th>41</th>\n",
       "      <td>0</td>\n",
       "      <td>NaN</td>\n",
       "      <td>50</td>\n",
       "      <td>secondary education</td>\n",
       "      <td>1</td>\n",
       "      <td>married</td>\n",
       "      <td>0</td>\n",
       "      <td>F</td>\n",
       "      <td>civil servant</td>\n",
       "      <td>0</td>\n",
       "      <td>NaN</td>\n",
       "      <td>second-hand car purchase</td>\n",
       "    </tr>\n",
       "    <tr>\n",
       "      <th>55</th>\n",
       "      <td>0</td>\n",
       "      <td>NaN</td>\n",
       "      <td>54</td>\n",
       "      <td>secondary education</td>\n",
       "      <td>1</td>\n",
       "      <td>civil partnership</td>\n",
       "      <td>1</td>\n",
       "      <td>F</td>\n",
       "      <td>retiree</td>\n",
       "      <td>1</td>\n",
       "      <td>NaN</td>\n",
       "      <td>to have a wedding</td>\n",
       "    </tr>\n",
       "  </tbody>\n",
       "</table>\n",
       "</div>"
      ],
      "text/plain": [
       "    children  days_employed  dob_years            education  education_id  \\\n",
       "12         0            NaN         65  secondary education             1   \n",
       "26         0            NaN         41  secondary education             1   \n",
       "29         0            NaN         63  secondary education             1   \n",
       "41         0            NaN         50  secondary education             1   \n",
       "55         0            NaN         54  secondary education             1   \n",
       "\n",
       "        family_status  family_status_id gender    income_type  debt  \\\n",
       "12  civil partnership                 1      M        retiree     0   \n",
       "26            married                 0      M  civil servant     0   \n",
       "29          unmarried                 4      F        retiree     0   \n",
       "41            married                 0      F  civil servant     0   \n",
       "55  civil partnership                 1      F        retiree     1   \n",
       "\n",
       "    total_income                   purpose  \n",
       "12           NaN         to have a wedding  \n",
       "26           NaN                 education  \n",
       "29           NaN    building a real estate  \n",
       "41           NaN  second-hand car purchase  \n",
       "55           NaN         to have a wedding  "
      ]
     },
     "execution_count": 154,
     "metadata": {},
     "output_type": "execute_result"
    }
   ],
   "source": [
    "# one column filter for days employed\n",
    "df_days_employed_nan = df[df['days_employed'].isna()]\n",
    "df_days_employed_nan.head()"
   ]
  },
  {
   "cell_type": "code",
   "execution_count": 155,
   "metadata": {},
   "outputs": [
    {
     "data": {
      "text/html": [
       "<div>\n",
       "<style scoped>\n",
       "    .dataframe tbody tr th:only-of-type {\n",
       "        vertical-align: middle;\n",
       "    }\n",
       "\n",
       "    .dataframe tbody tr th {\n",
       "        vertical-align: top;\n",
       "    }\n",
       "\n",
       "    .dataframe thead th {\n",
       "        text-align: right;\n",
       "    }\n",
       "</style>\n",
       "<table border=\"1\" class=\"dataframe\">\n",
       "  <thead>\n",
       "    <tr style=\"text-align: right;\">\n",
       "      <th></th>\n",
       "      <th>children</th>\n",
       "      <th>days_employed</th>\n",
       "      <th>dob_years</th>\n",
       "      <th>education</th>\n",
       "      <th>education_id</th>\n",
       "      <th>family_status</th>\n",
       "      <th>family_status_id</th>\n",
       "      <th>gender</th>\n",
       "      <th>income_type</th>\n",
       "      <th>debt</th>\n",
       "      <th>total_income</th>\n",
       "      <th>purpose</th>\n",
       "    </tr>\n",
       "  </thead>\n",
       "  <tbody>\n",
       "    <tr>\n",
       "      <th>12</th>\n",
       "      <td>0</td>\n",
       "      <td>NaN</td>\n",
       "      <td>65</td>\n",
       "      <td>secondary education</td>\n",
       "      <td>1</td>\n",
       "      <td>civil partnership</td>\n",
       "      <td>1</td>\n",
       "      <td>M</td>\n",
       "      <td>retiree</td>\n",
       "      <td>0</td>\n",
       "      <td>NaN</td>\n",
       "      <td>to have a wedding</td>\n",
       "    </tr>\n",
       "    <tr>\n",
       "      <th>26</th>\n",
       "      <td>0</td>\n",
       "      <td>NaN</td>\n",
       "      <td>41</td>\n",
       "      <td>secondary education</td>\n",
       "      <td>1</td>\n",
       "      <td>married</td>\n",
       "      <td>0</td>\n",
       "      <td>M</td>\n",
       "      <td>civil servant</td>\n",
       "      <td>0</td>\n",
       "      <td>NaN</td>\n",
       "      <td>education</td>\n",
       "    </tr>\n",
       "    <tr>\n",
       "      <th>29</th>\n",
       "      <td>0</td>\n",
       "      <td>NaN</td>\n",
       "      <td>63</td>\n",
       "      <td>secondary education</td>\n",
       "      <td>1</td>\n",
       "      <td>unmarried</td>\n",
       "      <td>4</td>\n",
       "      <td>F</td>\n",
       "      <td>retiree</td>\n",
       "      <td>0</td>\n",
       "      <td>NaN</td>\n",
       "      <td>building a real estate</td>\n",
       "    </tr>\n",
       "    <tr>\n",
       "      <th>41</th>\n",
       "      <td>0</td>\n",
       "      <td>NaN</td>\n",
       "      <td>50</td>\n",
       "      <td>secondary education</td>\n",
       "      <td>1</td>\n",
       "      <td>married</td>\n",
       "      <td>0</td>\n",
       "      <td>F</td>\n",
       "      <td>civil servant</td>\n",
       "      <td>0</td>\n",
       "      <td>NaN</td>\n",
       "      <td>second-hand car purchase</td>\n",
       "    </tr>\n",
       "    <tr>\n",
       "      <th>55</th>\n",
       "      <td>0</td>\n",
       "      <td>NaN</td>\n",
       "      <td>54</td>\n",
       "      <td>secondary education</td>\n",
       "      <td>1</td>\n",
       "      <td>civil partnership</td>\n",
       "      <td>1</td>\n",
       "      <td>F</td>\n",
       "      <td>retiree</td>\n",
       "      <td>1</td>\n",
       "      <td>NaN</td>\n",
       "      <td>to have a wedding</td>\n",
       "    </tr>\n",
       "  </tbody>\n",
       "</table>\n",
       "</div>"
      ],
      "text/plain": [
       "    children  days_employed  dob_years            education  education_id  \\\n",
       "12         0            NaN         65  secondary education             1   \n",
       "26         0            NaN         41  secondary education             1   \n",
       "29         0            NaN         63  secondary education             1   \n",
       "41         0            NaN         50  secondary education             1   \n",
       "55         0            NaN         54  secondary education             1   \n",
       "\n",
       "        family_status  family_status_id gender    income_type  debt  \\\n",
       "12  civil partnership                 1      M        retiree     0   \n",
       "26            married                 0      M  civil servant     0   \n",
       "29          unmarried                 4      F        retiree     0   \n",
       "41            married                 0      F  civil servant     0   \n",
       "55  civil partnership                 1      F        retiree     1   \n",
       "\n",
       "    total_income                   purpose  \n",
       "12           NaN         to have a wedding  \n",
       "26           NaN                 education  \n",
       "29           NaN    building a real estate  \n",
       "41           NaN  second-hand car purchase  \n",
       "55           NaN         to have a wedding  "
      ]
     },
     "execution_count": 155,
     "metadata": {},
     "output_type": "execute_result"
    }
   ],
   "source": [
    "# one column filter for total income\n",
    "df_total_income_nan = df[df['total_income'].isna()]\n",
    "df_total_income_nan.head()"
   ]
  },
  {
   "cell_type": "markdown",
   "metadata": {},
   "source": [
    "So far, those seem to be the same data subsets. Let's apply multiple OR condition for filtering data and then multiple AND condition."
   ]
  },
  {
   "cell_type": "code",
   "execution_count": 156,
   "metadata": {},
   "outputs": [
    {
     "data": {
      "text/html": [
       "<div>\n",
       "<style scoped>\n",
       "    .dataframe tbody tr th:only-of-type {\n",
       "        vertical-align: middle;\n",
       "    }\n",
       "\n",
       "    .dataframe tbody tr th {\n",
       "        vertical-align: top;\n",
       "    }\n",
       "\n",
       "    .dataframe thead th {\n",
       "        text-align: right;\n",
       "    }\n",
       "</style>\n",
       "<table border=\"1\" class=\"dataframe\">\n",
       "  <thead>\n",
       "    <tr style=\"text-align: right;\">\n",
       "      <th></th>\n",
       "      <th>children</th>\n",
       "      <th>days_employed</th>\n",
       "      <th>dob_years</th>\n",
       "      <th>education</th>\n",
       "      <th>education_id</th>\n",
       "      <th>family_status</th>\n",
       "      <th>family_status_id</th>\n",
       "      <th>gender</th>\n",
       "      <th>income_type</th>\n",
       "      <th>debt</th>\n",
       "      <th>total_income</th>\n",
       "      <th>purpose</th>\n",
       "    </tr>\n",
       "  </thead>\n",
       "  <tbody>\n",
       "    <tr>\n",
       "      <th>12</th>\n",
       "      <td>0</td>\n",
       "      <td>NaN</td>\n",
       "      <td>65</td>\n",
       "      <td>secondary education</td>\n",
       "      <td>1</td>\n",
       "      <td>civil partnership</td>\n",
       "      <td>1</td>\n",
       "      <td>M</td>\n",
       "      <td>retiree</td>\n",
       "      <td>0</td>\n",
       "      <td>NaN</td>\n",
       "      <td>to have a wedding</td>\n",
       "    </tr>\n",
       "    <tr>\n",
       "      <th>26</th>\n",
       "      <td>0</td>\n",
       "      <td>NaN</td>\n",
       "      <td>41</td>\n",
       "      <td>secondary education</td>\n",
       "      <td>1</td>\n",
       "      <td>married</td>\n",
       "      <td>0</td>\n",
       "      <td>M</td>\n",
       "      <td>civil servant</td>\n",
       "      <td>0</td>\n",
       "      <td>NaN</td>\n",
       "      <td>education</td>\n",
       "    </tr>\n",
       "    <tr>\n",
       "      <th>29</th>\n",
       "      <td>0</td>\n",
       "      <td>NaN</td>\n",
       "      <td>63</td>\n",
       "      <td>secondary education</td>\n",
       "      <td>1</td>\n",
       "      <td>unmarried</td>\n",
       "      <td>4</td>\n",
       "      <td>F</td>\n",
       "      <td>retiree</td>\n",
       "      <td>0</td>\n",
       "      <td>NaN</td>\n",
       "      <td>building a real estate</td>\n",
       "    </tr>\n",
       "    <tr>\n",
       "      <th>41</th>\n",
       "      <td>0</td>\n",
       "      <td>NaN</td>\n",
       "      <td>50</td>\n",
       "      <td>secondary education</td>\n",
       "      <td>1</td>\n",
       "      <td>married</td>\n",
       "      <td>0</td>\n",
       "      <td>F</td>\n",
       "      <td>civil servant</td>\n",
       "      <td>0</td>\n",
       "      <td>NaN</td>\n",
       "      <td>second-hand car purchase</td>\n",
       "    </tr>\n",
       "    <tr>\n",
       "      <th>55</th>\n",
       "      <td>0</td>\n",
       "      <td>NaN</td>\n",
       "      <td>54</td>\n",
       "      <td>secondary education</td>\n",
       "      <td>1</td>\n",
       "      <td>civil partnership</td>\n",
       "      <td>1</td>\n",
       "      <td>F</td>\n",
       "      <td>retiree</td>\n",
       "      <td>1</td>\n",
       "      <td>NaN</td>\n",
       "      <td>to have a wedding</td>\n",
       "    </tr>\n",
       "  </tbody>\n",
       "</table>\n",
       "</div>"
      ],
      "text/plain": [
       "    children  days_employed  dob_years            education  education_id  \\\n",
       "12         0            NaN         65  secondary education             1   \n",
       "26         0            NaN         41  secondary education             1   \n",
       "29         0            NaN         63  secondary education             1   \n",
       "41         0            NaN         50  secondary education             1   \n",
       "55         0            NaN         54  secondary education             1   \n",
       "\n",
       "        family_status  family_status_id gender    income_type  debt  \\\n",
       "12  civil partnership                 1      M        retiree     0   \n",
       "26            married                 0      M  civil servant     0   \n",
       "29          unmarried                 4      F        retiree     0   \n",
       "41            married                 0      F  civil servant     0   \n",
       "55  civil partnership                 1      F        retiree     1   \n",
       "\n",
       "    total_income                   purpose  \n",
       "12           NaN         to have a wedding  \n",
       "26           NaN                 education  \n",
       "29           NaN    building a real estate  \n",
       "41           NaN  second-hand car purchase  \n",
       "55           NaN         to have a wedding  "
      ]
     },
     "execution_count": 156,
     "metadata": {},
     "output_type": "execute_result"
    }
   ],
   "source": [
    "# combined OR filter on the two columns; we check either of the two conditions to catch all the rows with NaNs\n",
    "df_union_nan = df[df['days_employed'].isna() | df['total_income'].isna()]\n",
    "df_union_nan.head()"
   ]
  },
  {
   "cell_type": "code",
   "execution_count": 157,
   "metadata": {},
   "outputs": [
    {
     "data": {
      "text/html": [
       "<div>\n",
       "<style scoped>\n",
       "    .dataframe tbody tr th:only-of-type {\n",
       "        vertical-align: middle;\n",
       "    }\n",
       "\n",
       "    .dataframe tbody tr th {\n",
       "        vertical-align: top;\n",
       "    }\n",
       "\n",
       "    .dataframe thead th {\n",
       "        text-align: right;\n",
       "    }\n",
       "</style>\n",
       "<table border=\"1\" class=\"dataframe\">\n",
       "  <thead>\n",
       "    <tr style=\"text-align: right;\">\n",
       "      <th></th>\n",
       "      <th>children</th>\n",
       "      <th>days_employed</th>\n",
       "      <th>dob_years</th>\n",
       "      <th>education</th>\n",
       "      <th>education_id</th>\n",
       "      <th>family_status</th>\n",
       "      <th>family_status_id</th>\n",
       "      <th>gender</th>\n",
       "      <th>income_type</th>\n",
       "      <th>debt</th>\n",
       "      <th>total_income</th>\n",
       "      <th>purpose</th>\n",
       "    </tr>\n",
       "  </thead>\n",
       "  <tbody>\n",
       "    <tr>\n",
       "      <th>12</th>\n",
       "      <td>0</td>\n",
       "      <td>NaN</td>\n",
       "      <td>65</td>\n",
       "      <td>secondary education</td>\n",
       "      <td>1</td>\n",
       "      <td>civil partnership</td>\n",
       "      <td>1</td>\n",
       "      <td>M</td>\n",
       "      <td>retiree</td>\n",
       "      <td>0</td>\n",
       "      <td>NaN</td>\n",
       "      <td>to have a wedding</td>\n",
       "    </tr>\n",
       "    <tr>\n",
       "      <th>26</th>\n",
       "      <td>0</td>\n",
       "      <td>NaN</td>\n",
       "      <td>41</td>\n",
       "      <td>secondary education</td>\n",
       "      <td>1</td>\n",
       "      <td>married</td>\n",
       "      <td>0</td>\n",
       "      <td>M</td>\n",
       "      <td>civil servant</td>\n",
       "      <td>0</td>\n",
       "      <td>NaN</td>\n",
       "      <td>education</td>\n",
       "    </tr>\n",
       "    <tr>\n",
       "      <th>29</th>\n",
       "      <td>0</td>\n",
       "      <td>NaN</td>\n",
       "      <td>63</td>\n",
       "      <td>secondary education</td>\n",
       "      <td>1</td>\n",
       "      <td>unmarried</td>\n",
       "      <td>4</td>\n",
       "      <td>F</td>\n",
       "      <td>retiree</td>\n",
       "      <td>0</td>\n",
       "      <td>NaN</td>\n",
       "      <td>building a real estate</td>\n",
       "    </tr>\n",
       "    <tr>\n",
       "      <th>41</th>\n",
       "      <td>0</td>\n",
       "      <td>NaN</td>\n",
       "      <td>50</td>\n",
       "      <td>secondary education</td>\n",
       "      <td>1</td>\n",
       "      <td>married</td>\n",
       "      <td>0</td>\n",
       "      <td>F</td>\n",
       "      <td>civil servant</td>\n",
       "      <td>0</td>\n",
       "      <td>NaN</td>\n",
       "      <td>second-hand car purchase</td>\n",
       "    </tr>\n",
       "    <tr>\n",
       "      <th>55</th>\n",
       "      <td>0</td>\n",
       "      <td>NaN</td>\n",
       "      <td>54</td>\n",
       "      <td>secondary education</td>\n",
       "      <td>1</td>\n",
       "      <td>civil partnership</td>\n",
       "      <td>1</td>\n",
       "      <td>F</td>\n",
       "      <td>retiree</td>\n",
       "      <td>1</td>\n",
       "      <td>NaN</td>\n",
       "      <td>to have a wedding</td>\n",
       "    </tr>\n",
       "  </tbody>\n",
       "</table>\n",
       "</div>"
      ],
      "text/plain": [
       "    children  days_employed  dob_years            education  education_id  \\\n",
       "12         0            NaN         65  secondary education             1   \n",
       "26         0            NaN         41  secondary education             1   \n",
       "29         0            NaN         63  secondary education             1   \n",
       "41         0            NaN         50  secondary education             1   \n",
       "55         0            NaN         54  secondary education             1   \n",
       "\n",
       "        family_status  family_status_id gender    income_type  debt  \\\n",
       "12  civil partnership                 1      M        retiree     0   \n",
       "26            married                 0      M  civil servant     0   \n",
       "29          unmarried                 4      F        retiree     0   \n",
       "41            married                 0      F  civil servant     0   \n",
       "55  civil partnership                 1      F        retiree     1   \n",
       "\n",
       "    total_income                   purpose  \n",
       "12           NaN         to have a wedding  \n",
       "26           NaN                 education  \n",
       "29           NaN    building a real estate  \n",
       "41           NaN  second-hand car purchase  \n",
       "55           NaN         to have a wedding  "
      ]
     },
     "execution_count": 157,
     "metadata": {},
     "output_type": "execute_result"
    }
   ],
   "source": [
    "# combined AND filter on the two columns; we check both of the two conditions to catch the rows with both NaNs\n",
    "df_intersection_nan = df[df['days_employed'].isna() & df['total_income'].isna()]\n",
    "df_intersection_nan.head()"
   ]
  },
  {
   "cell_type": "markdown",
   "metadata": {},
   "source": [
    "Now, let's compare the number of rows in the four filtered tables."
   ]
  },
  {
   "cell_type": "code",
   "execution_count": 158,
   "metadata": {},
   "outputs": [
    {
     "data": {
      "text/html": [
       "<div>\n",
       "<style scoped>\n",
       "    .dataframe tbody tr th:only-of-type {\n",
       "        vertical-align: middle;\n",
       "    }\n",
       "\n",
       "    .dataframe tbody tr th {\n",
       "        vertical-align: top;\n",
       "    }\n",
       "\n",
       "    .dataframe thead th {\n",
       "        text-align: right;\n",
       "    }\n",
       "</style>\n",
       "<table border=\"1\" class=\"dataframe\">\n",
       "  <thead>\n",
       "    <tr style=\"text-align: right;\">\n",
       "      <th></th>\n",
       "      <th>days_employed_filter</th>\n",
       "      <th>total_income_filter</th>\n",
       "      <th>union_filter</th>\n",
       "      <th>intersection_filter</th>\n",
       "    </tr>\n",
       "  </thead>\n",
       "  <tbody>\n",
       "    <tr>\n",
       "      <th>0</th>\n",
       "      <td>2174</td>\n",
       "      <td>2174</td>\n",
       "      <td>2174</td>\n",
       "      <td>2174</td>\n",
       "    </tr>\n",
       "  </tbody>\n",
       "</table>\n",
       "</div>"
      ],
      "text/plain": [
       "   days_employed_filter  total_income_filter  union_filter  \\\n",
       "0                  2174                 2174          2174   \n",
       "\n",
       "   intersection_filter  \n",
       "0                 2174  "
      ]
     },
     "execution_count": 158,
     "metadata": {},
     "output_type": "execute_result"
    }
   ],
   "source": [
    "compare = {'days_employed_filter': [len(df_days_employed_nan)],\n",
    "           'total_income_filter': [len(df_total_income_nan)],\n",
    "           'union_filter': [len(df_union_nan)],\n",
    "            'intersection_filter': len(df_intersection_nan)}\n",
    "compare_df = pd.DataFrame(compare)\n",
    "compare_df"
   ]
  },
  {
   "cell_type": "markdown",
   "metadata": {},
   "source": [
    "We have the same count both for individual subsets, for their union, and for their intersection; thus, we can conclude that **there is a subset of 2174 entries which lack the values in days_employed and total_income columns**. Let's calculate the percentage of the missing values compared to the whole dataset."
   ]
  },
  {
   "cell_type": "code",
   "execution_count": 159,
   "metadata": {},
   "outputs": [
    {
     "name": "stdout",
     "output_type": "stream",
     "text": [
      "Missing values comprise 10.1% of the rows in the data set under consideration.\n"
     ]
    }
   ],
   "source": [
    "print(f'Missing values comprise {len(df_union_nan)*100/len(df):.1f}% of the rows in the data set under consideration.')"
   ]
  },
  {
   "cell_type": "markdown",
   "metadata": {},
   "source": [
    "[Back to Contents](#back)"
   ]
  },
  {
   "cell_type": "markdown",
   "metadata": {},
   "source": [
    "### Task 2. Intermediate conclusions <a id='data_overview_conclusion'></a>\n",
    "\n",
    "So far, we have seen that our data sample consist of 21525 rows and 12 columns. It did not have any specific issues with column names and the data types look to be appropriate. Three significant issues with the data quality have been revealed so far:\n",
    "1. Negative values for days_employed variable and value(s) with what seems to be impossibly high number of days to work;\n",
    "2. Implicit duplicates / variaty of options in education and purpose column;\n",
    "3. 10% of the rows, which comprises a considerably large piece of data, miss values both in `days_employed` and in `total_income` columns.\n",
    "\n",
    "We will consider these issues in the following order: we start with investigating the nature of the missing values, then we check for duplicates, explicit or implicit, and fix educational and purpose information if required, then we will have to make additional investigation on the values in days_employed and total_income columns, which we presumably have to perform before we can fill in the missing information, then we will get back to the missing values and fill them in, and finally, we will complete data categorization to support the further hypotheses testing.\n",
    "\n",
    "In what follows, we proceed to investigating the nature of the missing values. To do that, we consider specific client characteristics and look for those which can explain the missing data. Our ultimate goal, at this step, is to find out whether the missing values are missing randomly or not and what are the possibilities to fill the missing data to ensure that we preserve as many data points as possible for further analysis."
   ]
  },
  {
   "cell_type": "markdown",
   "metadata": {},
   "source": [
    "[Back to Contents](#back)"
   ]
  },
  {
   "cell_type": "markdown",
   "metadata": {},
   "source": [
    "## Stage 2. Data Transformation <a id='data_transformation'></a>"
   ]
  },
  {
   "cell_type": "markdown",
   "metadata": {},
   "source": [
    "### Task 1. Working with missing values <a id='missing_values'></a>"
   ]
  },
  {
   "cell_type": "markdown",
   "metadata": {},
   "source": [
    "Let's create two subsets, of NaN values and without NaN values, to compare the distributions of other variables between them."
   ]
  },
  {
   "cell_type": "code",
   "execution_count": 160,
   "metadata": {},
   "outputs": [
    {
     "data": {
      "text/html": [
       "<div>\n",
       "<style scoped>\n",
       "    .dataframe tbody tr th:only-of-type {\n",
       "        vertical-align: middle;\n",
       "    }\n",
       "\n",
       "    .dataframe tbody tr th {\n",
       "        vertical-align: top;\n",
       "    }\n",
       "\n",
       "    .dataframe thead th {\n",
       "        text-align: right;\n",
       "    }\n",
       "</style>\n",
       "<table border=\"1\" class=\"dataframe\">\n",
       "  <thead>\n",
       "    <tr style=\"text-align: right;\">\n",
       "      <th></th>\n",
       "      <th>children</th>\n",
       "      <th>days_employed</th>\n",
       "      <th>dob_years</th>\n",
       "      <th>education</th>\n",
       "      <th>education_id</th>\n",
       "      <th>family_status</th>\n",
       "      <th>family_status_id</th>\n",
       "      <th>gender</th>\n",
       "      <th>income_type</th>\n",
       "      <th>debt</th>\n",
       "      <th>total_income</th>\n",
       "      <th>purpose</th>\n",
       "    </tr>\n",
       "  </thead>\n",
       "  <tbody>\n",
       "    <tr>\n",
       "      <th>12</th>\n",
       "      <td>0</td>\n",
       "      <td>NaN</td>\n",
       "      <td>65</td>\n",
       "      <td>secondary education</td>\n",
       "      <td>1</td>\n",
       "      <td>civil partnership</td>\n",
       "      <td>1</td>\n",
       "      <td>M</td>\n",
       "      <td>retiree</td>\n",
       "      <td>0</td>\n",
       "      <td>NaN</td>\n",
       "      <td>to have a wedding</td>\n",
       "    </tr>\n",
       "  </tbody>\n",
       "</table>\n",
       "</div>"
      ],
      "text/plain": [
       "    children  days_employed  dob_years            education  education_id  \\\n",
       "12         0            NaN         65  secondary education             1   \n",
       "\n",
       "        family_status  family_status_id gender income_type  debt  \\\n",
       "12  civil partnership                 1      M     retiree     0   \n",
       "\n",
       "    total_income            purpose  \n",
       "12           NaN  to have a wedding  "
      ]
     },
     "execution_count": 160,
     "metadata": {},
     "output_type": "execute_result"
    }
   ],
   "source": [
    "# For investigating clients who do not have data in the columns with the missing values\n",
    "df_nan = df[df['days_employed'].isna()]\n",
    "df_nan.head(1)"
   ]
  },
  {
   "cell_type": "code",
   "execution_count": 161,
   "metadata": {
    "scrolled": true
   },
   "outputs": [
    {
     "data": {
      "text/html": [
       "<div>\n",
       "<style scoped>\n",
       "    .dataframe tbody tr th:only-of-type {\n",
       "        vertical-align: middle;\n",
       "    }\n",
       "\n",
       "    .dataframe tbody tr th {\n",
       "        vertical-align: top;\n",
       "    }\n",
       "\n",
       "    .dataframe thead th {\n",
       "        text-align: right;\n",
       "    }\n",
       "</style>\n",
       "<table border=\"1\" class=\"dataframe\">\n",
       "  <thead>\n",
       "    <tr style=\"text-align: right;\">\n",
       "      <th></th>\n",
       "      <th>children</th>\n",
       "      <th>days_employed</th>\n",
       "      <th>dob_years</th>\n",
       "      <th>education</th>\n",
       "      <th>education_id</th>\n",
       "      <th>family_status</th>\n",
       "      <th>family_status_id</th>\n",
       "      <th>gender</th>\n",
       "      <th>income_type</th>\n",
       "      <th>debt</th>\n",
       "      <th>total_income</th>\n",
       "      <th>purpose</th>\n",
       "    </tr>\n",
       "  </thead>\n",
       "  <tbody>\n",
       "    <tr>\n",
       "      <th>0</th>\n",
       "      <td>1</td>\n",
       "      <td>-8437.673028</td>\n",
       "      <td>42</td>\n",
       "      <td>bachelor's degree</td>\n",
       "      <td>0</td>\n",
       "      <td>married</td>\n",
       "      <td>0</td>\n",
       "      <td>F</td>\n",
       "      <td>employee</td>\n",
       "      <td>0</td>\n",
       "      <td>40620.102</td>\n",
       "      <td>purchase of the house</td>\n",
       "    </tr>\n",
       "  </tbody>\n",
       "</table>\n",
       "</div>"
      ],
      "text/plain": [
       "   children  days_employed  dob_years          education  education_id  \\\n",
       "0         1   -8437.673028         42  bachelor's degree             0   \n",
       "\n",
       "  family_status  family_status_id gender income_type  debt  total_income  \\\n",
       "0       married                 0      F    employee     0     40620.102   \n",
       "\n",
       "                 purpose  \n",
       "0  purchase of the house  "
      ]
     },
     "execution_count": 161,
     "metadata": {},
     "output_type": "execute_result"
    }
   ],
   "source": [
    "# For investigating clients who have the full set of datadata in the columns with the missing values\n",
    "df_nn = df.dropna(subset=['days_employed'])\n",
    "df_nn.head(1)"
   ]
  },
  {
   "cell_type": "markdown",
   "metadata": {},
   "source": [
    "We will investigate whether there are differences in the distributions of other variables for the two subsets.<font style='color:orange'>*</font> As a reminder, we put here the list of those variables with their description and note that these are categorical variables:\n",
    "- `children` - the number of children in the family\n",
    "- `dob_years` - client's age in years\n",
    "- `education` - client's education\n",
    "- `family_status` - marital status\n",
    "- `gender` - gender of the client\n",
    "- `income_type` - type of employment\n",
    "- `debt` - was there any debt on loan repayment\n",
    "- `purpose` - the purpose of obtaining a loan\n",
    "\n",
    "<font style='color:orange'>*</font> As a side comment: in this project, we will not engage in researching statistical significance of the similarity of the distributions, assuming that the information we will extract from visual analysis will be sufficient for us to make practically meaningful conclusions."
   ]
  },
  {
   "cell_type": "markdown",
   "metadata": {},
   "source": [
    "We define a basic function for plotting pairs of distributions for categorical values:"
   ]
  },
  {
   "cell_type": "code",
   "execution_count": 162,
   "metadata": {},
   "outputs": [],
   "source": [
    "# paired_plot() function plots horizontal frequency histogram for the same variable in two subsets.\n",
    "\"\"\"\n",
    "The function takes 4 position paramaters and 2 default parameters:\n",
    "- df1 - first subset, DataFrame\n",
    "- df2 - second subset, DataFrame\n",
    "- column - the column for which the comparison is performed, string\n",
    "- xlabel - a label for x axis, string\n",
    "- df1_subtitle - df1 subplot title, string\n",
    "- df2_subtitle - df2 subplot title, string.\n",
    "Note: the function calculates normilized counts to account for different sizes of the data subsets\n",
    "\"\"\"\n",
    "\n",
    "def paired_plot(df1, df2, column, xlabel, df1_subtitle = 'Missing data subset', df2_subtitle = 'Complete data subset'):\n",
    "    \n",
    "    fig, axs = plt.subplots(2, 1, sharex = True, sharey = True, figsize = (6,6))\n",
    "    \n",
    "    (df1[column].value_counts(normalize=True)).plot(ax=axs[0],kind = 'barh') \n",
    "    (df2[column].value_counts(normalize=True)).plot(ax=axs[1], kind = 'barh')\n",
    "    axs[0].set_title(df1_subtitle,size=8)\n",
    "    axs[1].set_title(df2_subtitle,size=8)\n",
    "    axs[0].set_ylabel(xlabel)\n",
    "    axs[1].set_ylabel(xlabel)\n",
    "    axs[1].set_xlabel('Frequency')\n",
    "    fig.show()"
   ]
  },
  {
   "cell_type": "markdown",
   "metadata": {},
   "source": [
    "\n",
    "Let's start from the `children` variable."
   ]
  },
  {
   "cell_type": "code",
   "execution_count": 163,
   "metadata": {},
   "outputs": [
    {
     "data": {
      "image/png": "[encoded data removed]",
      "text/plain": [
       "<Figure size 432x432 with 2 Axes>"
      ]
     },
     "metadata": {
      "needs_background": "light"
     },
     "output_type": "display_data"
    }
   ],
   "source": [
    "paired_plot(df_nan, df_nn, 'children', 'Number of children')"
   ]
  },
  {
   "cell_type": "markdown",
   "metadata": {},
   "source": [
    "The distributions of the number of children are identical. Interestingly, there are cases of 20 children and -1 child. We will remember [<font style=\"color:red;\">**TO CHECK**</font> them later](#children_bool). Meanwhile, we move to the `dob_years` variable."
   ]
  },
  {
   "cell_type": "code",
   "execution_count": 164,
   "metadata": {},
   "outputs": [
    {
     "data": {
      "image/png": "[encoded data removed]",
      "text/plain": [
       "<Figure size 432x432 with 2 Axes>"
      ]
     },
     "metadata": {
      "needs_background": "light"
     },
     "output_type": "display_data"
    }
   ],
   "source": [
    "paired_plot(df_nan, df_nn, 'dob_years', 'Age')"
   ]
  },
  {
   "cell_type": "markdown",
   "metadata": {},
   "source": [
    "While lacking bins, our custom plotting function is not perfect form of represenation of age values, so we will employ a better method further down the road, but we can already notice that the distributions of the age variable show some differences for the two subsets. Let's move on to `education`."
   ]
  },
  {
   "cell_type": "code",
   "execution_count": 165,
   "metadata": {},
   "outputs": [
    {
     "data": {
      "image/png": "[encoded data removed]",
      "text/plain": [
       "<Figure size 432x432 with 2 Axes>"
      ]
     },
     "metadata": {
      "needs_background": "light"
     },
     "output_type": "display_data"
    }
   ],
   "source": [
    "paired_plot(df_nan, df_nn, 'education', 'The maximum degree')"
   ]
  },
  {
   "cell_type": "markdown",
   "metadata": {},
   "source": [
    "In the case of the education variable, we have similar distributions for both subsets, besides that the \"complete data\" subset has 3 additional education categories for graduate degree. It's worth noting, that it seems we have 5 categories of education with 3 name options for each of it.  We will remember [<font style=\"color:red;\">**TO RENAME**</font> them later](#duplicates1). Meanwhile, we move to the `family_status` variable."
   ]
  },
  {
   "cell_type": "code",
   "execution_count": 166,
   "metadata": {},
   "outputs": [
    {
     "data": {
      "image/png": "[encoded data removed]",
      "text/plain": [
       "<Figure size 432x432 with 2 Axes>"
      ]
     },
     "metadata": {
      "needs_background": "light"
     },
     "output_type": "display_data"
    }
   ],
   "source": [
    "paired_plot(df_nan, df_nn, 'family_status', 'Family status')"
   ]
  },
  {
   "cell_type": "markdown",
   "metadata": {},
   "source": [
    "In the case of the family status variable, we have similar distributions for both subsets. The next variable is `gender`."
   ]
  },
  {
   "cell_type": "code",
   "execution_count": 167,
   "metadata": {},
   "outputs": [
    {
     "data": {
      "image/png": "[encoded data removed]",
      "text/plain": [
       "<Figure size 432x432 with 2 Axes>"
      ]
     },
     "metadata": {
      "needs_background": "light"
     },
     "output_type": "display_data"
    }
   ],
   "source": [
    "paired_plot(df_nan, df_nn, 'gender', 'Gender')"
   ]
  },
  {
   "cell_type": "markdown",
   "metadata": {},
   "source": [
    "In the case of the gender variable, we have similar distributions as well, besides that there are some cases of XNA category for the \"complete\" data subset. We move to the `income_type` variable."
   ]
  },
  {
   "cell_type": "code",
   "execution_count": 168,
   "metadata": {},
   "outputs": [
    {
     "data": {
      "image/png": "[encoded data removed]",
      "text/plain": [
       "<Figure size 432x432 with 2 Axes>"
      ]
     },
     "metadata": {
      "needs_background": "light"
     },
     "output_type": "display_data"
    }
   ],
   "source": [
    "paired_plot(df_nan, df_nn, 'income_type', 'Type of income')"
   ]
  },
  {
   "cell_type": "markdown",
   "metadata": {},
   "source": [
    "In the case of income category, we can see that both distributions are similar, besides a sligthly higher share of employees and some small amount of cases for categories like unemployed, students and a persone on maternity / paternity leave in the \"complete\" data subset. Interestingly, there is a category called entrepreneuer, which sounds to have the same meaning as \"business\". We will remember [<font style=\"color:red;\">**TO CHECK AND RENAME**</font> them later](#income_type_rename). Meanwhile, we move to the `debt` variable, which shows whether the customer has any debt on loan repayment."
   ]
  },
  {
   "cell_type": "code",
   "execution_count": 169,
   "metadata": {},
   "outputs": [
    {
     "data": {
      "image/png": "[encoded data removed]",
      "text/plain": [
       "<Figure size 432x432 with 2 Axes>"
      ]
     },
     "metadata": {
      "needs_background": "light"
     },
     "output_type": "display_data"
    }
   ],
   "source": [
    "paired_plot(df_nan, df_nn, 'debt', 'Debt on loan repayment')"
   ]
  },
  {
   "cell_type": "markdown",
   "metadata": {},
   "source": [
    "In this case, we have similar distributions as well, without any visible exceptions. Let's check the last available variable, `purpose`."
   ]
  },
  {
   "cell_type": "code",
   "execution_count": 170,
   "metadata": {},
   "outputs": [
    {
     "data": {
      "image/png": "[encoded data removed]",
      "text/plain": [
       "<Figure size 432x432 with 2 Axes>"
      ]
     },
     "metadata": {
      "needs_background": "light"
     },
     "output_type": "display_data"
    }
   ],
   "source": [
    "paired_plot(df_nan, df_nn, 'purpose', 'Loan purpose')"
   ]
  },
  {
   "cell_type": "markdown",
   "metadata": {},
   "source": [
    "Similar to age, the `purpose` variable has too many categories in order our custom plotting function would be effective in showing exact details; nevertheless, we can definitely notice that the distributions are different for the two subsets.\n",
    "\n",
    "[Back to Contents](#back)"
   ]
  },
  {
   "cell_type": "markdown",
   "metadata": {},
   "source": [
    "### Task 2. Intermediate conclusions on the nature of missing values <a id='missing_values_intermediate1'></a>"
   ]
  },
  {
   "cell_type": "markdown",
   "metadata": {},
   "source": [
    "So far we have found two variables for which the distributions of values are different for the two subsets under investigation: the subset of the rows with missing `days_employed` and `total_income` variables and the subset of the rows with complete set of values for each variable:\n",
    "1. `dob_years`;\n",
    "2. `purpose`.\n",
    "\n",
    "On the other side, based on other variables, the missing values should be randomly missing. Thus, we have to dig deeper into age and purpose categories, to check whether the missing values are actually missing randomly. If so, then possible reasons for missing values in data seem to be technical, like incorrect SQL query or lack of integrety in the bank's database.\n",
    "\n",
    "[Back to Contents](#back)"
   ]
  },
  {
   "cell_type": "markdown",
   "metadata": {},
   "source": [
    "### Task 3. Further investigation of missing values: the role of customers' age  <a id='missing_values_part2'></a>"
   ]
  },
  {
   "cell_type": "markdown",
   "metadata": {},
   "source": [
    "Our further investigation we would like to continue with categorizing `dob_years` and `purpose` variables. The first function we will define is a function, called `age_groups` to combine age values into groups. But before we proceed, let's make additional check for the `dob_years` column."
   ]
  },
  {
   "cell_type": "code",
   "execution_count": 171,
   "metadata": {},
   "outputs": [
    {
     "data": {
      "text/plain": [
       "71    58\n",
       "72    33\n",
       "73     8\n",
       "74     6\n",
       "75     1\n",
       "Name: dob_years, dtype: int64"
      ]
     },
     "execution_count": 171,
     "metadata": {},
     "output_type": "execute_result"
    }
   ],
   "source": [
    "# check the eldest part of the dataset\n",
    "df[df['dob_years']>70]['dob_years'].value_counts()"
   ]
  },
  {
   "cell_type": "markdown",
   "metadata": {},
   "source": [
    "Values for ages above 70 look reasonable."
   ]
  },
  {
   "cell_type": "code",
   "execution_count": 172,
   "metadata": {},
   "outputs": [
    {
     "data": {
      "text/plain": [
       "0     101\n",
       "19     14\n",
       "Name: dob_years, dtype: int64"
      ]
     },
     "execution_count": 172,
     "metadata": {},
     "output_type": "execute_result"
    }
   ],
   "source": [
    "# check the youngest part of the dataset\n",
    "df[df['dob_years']<20]['dob_years'].value_counts()"
   ]
  },
  {
   "cell_type": "markdown",
   "metadata": {},
   "source": [
    "101 entries (appr. 0.5%) of zero ages which actually means missing values. The amount is small and should not impact the current investigation, but we will return to this issue when [filling missing values](#restoring_missing_values3): it can be the case we will have to implement a kind of granular sub-grouping for hypotheses testing; thus, we do not want to leave anyone behind:)"
   ]
  },
  {
   "cell_type": "code",
   "execution_count": 173,
   "metadata": {},
   "outputs": [],
   "source": [
    "def age_group7(age):\n",
    "    \"\"\"\n",
    "    The function returns one of the following 7 age groups according to the age value, using the following rules:\n",
    "    —'under 20' for age < 20\n",
    "    —'20-29' for 20 <= age <= 29\n",
    "    —'30-39' for 30 <= age <= 39\n",
    "    —'40-49' for 40 <= age <= 49\n",
    "    —'50-59' for 50 <= age <= 59\n",
    "    —'60-99' for 60 <= age <= 69\n",
    "    —'above 70' for all other cases\n",
    "    \"\"\"\n",
    "    \n",
    "    if age < 20:\n",
    "        return 'under 20'\n",
    "    elif age <= 29:\n",
    "        return '20-29'\n",
    "    elif age <= 39:\n",
    "        return '30-39'\n",
    "    elif age <= 49:\n",
    "        return '40-49'\n",
    "    elif age <= 59:\n",
    "        return '50-59'\n",
    "    elif age <= 69:\n",
    "        return '60-69'\n",
    "    return 'above 70' "
   ]
  },
  {
   "cell_type": "markdown",
   "metadata": {},
   "source": [
    "Now we apply the `age_group` function to column `dob_years` of the initial DataFrame and create new column `age_group7`."
   ]
  },
  {
   "cell_type": "code",
   "execution_count": 174,
   "metadata": {},
   "outputs": [],
   "source": [
    "df['age_group7'] = df['dob_years'].apply(age_group7)"
   ]
  },
  {
   "cell_type": "markdown",
   "metadata": {},
   "source": [
    "Let's redefine our subsets:"
   ]
  },
  {
   "cell_type": "code",
   "execution_count": 175,
   "metadata": {},
   "outputs": [
    {
     "data": {
      "text/html": [
       "<div>\n",
       "<style scoped>\n",
       "    .dataframe tbody tr th:only-of-type {\n",
       "        vertical-align: middle;\n",
       "    }\n",
       "\n",
       "    .dataframe tbody tr th {\n",
       "        vertical-align: top;\n",
       "    }\n",
       "\n",
       "    .dataframe thead th {\n",
       "        text-align: right;\n",
       "    }\n",
       "</style>\n",
       "<table border=\"1\" class=\"dataframe\">\n",
       "  <thead>\n",
       "    <tr style=\"text-align: right;\">\n",
       "      <th></th>\n",
       "      <th>children</th>\n",
       "      <th>days_employed</th>\n",
       "      <th>dob_years</th>\n",
       "      <th>education</th>\n",
       "      <th>education_id</th>\n",
       "      <th>family_status</th>\n",
       "      <th>family_status_id</th>\n",
       "      <th>gender</th>\n",
       "      <th>income_type</th>\n",
       "      <th>debt</th>\n",
       "      <th>total_income</th>\n",
       "      <th>purpose</th>\n",
       "      <th>age_group7</th>\n",
       "    </tr>\n",
       "  </thead>\n",
       "  <tbody>\n",
       "    <tr>\n",
       "      <th>12</th>\n",
       "      <td>0</td>\n",
       "      <td>NaN</td>\n",
       "      <td>65</td>\n",
       "      <td>secondary education</td>\n",
       "      <td>1</td>\n",
       "      <td>civil partnership</td>\n",
       "      <td>1</td>\n",
       "      <td>M</td>\n",
       "      <td>retiree</td>\n",
       "      <td>0</td>\n",
       "      <td>NaN</td>\n",
       "      <td>to have a wedding</td>\n",
       "      <td>60-69</td>\n",
       "    </tr>\n",
       "  </tbody>\n",
       "</table>\n",
       "</div>"
      ],
      "text/plain": [
       "    children  days_employed  dob_years            education  education_id  \\\n",
       "12         0            NaN         65  secondary education             1   \n",
       "\n",
       "        family_status  family_status_id gender income_type  debt  \\\n",
       "12  civil partnership                 1      M     retiree     0   \n",
       "\n",
       "    total_income            purpose age_group7  \n",
       "12           NaN  to have a wedding      60-69  "
      ]
     },
     "execution_count": 175,
     "metadata": {},
     "output_type": "execute_result"
    }
   ],
   "source": [
    "df_nan = df[df['days_employed'].isna()]\n",
    "df_nan.head(1)"
   ]
  },
  {
   "cell_type": "code",
   "execution_count": 176,
   "metadata": {},
   "outputs": [
    {
     "data": {
      "text/html": [
       "<div>\n",
       "<style scoped>\n",
       "    .dataframe tbody tr th:only-of-type {\n",
       "        vertical-align: middle;\n",
       "    }\n",
       "\n",
       "    .dataframe tbody tr th {\n",
       "        vertical-align: top;\n",
       "    }\n",
       "\n",
       "    .dataframe thead th {\n",
       "        text-align: right;\n",
       "    }\n",
       "</style>\n",
       "<table border=\"1\" class=\"dataframe\">\n",
       "  <thead>\n",
       "    <tr style=\"text-align: right;\">\n",
       "      <th></th>\n",
       "      <th>children</th>\n",
       "      <th>days_employed</th>\n",
       "      <th>dob_years</th>\n",
       "      <th>education</th>\n",
       "      <th>education_id</th>\n",
       "      <th>family_status</th>\n",
       "      <th>family_status_id</th>\n",
       "      <th>gender</th>\n",
       "      <th>income_type</th>\n",
       "      <th>debt</th>\n",
       "      <th>total_income</th>\n",
       "      <th>purpose</th>\n",
       "      <th>age_group7</th>\n",
       "    </tr>\n",
       "  </thead>\n",
       "  <tbody>\n",
       "    <tr>\n",
       "      <th>0</th>\n",
       "      <td>1</td>\n",
       "      <td>-8437.673028</td>\n",
       "      <td>42</td>\n",
       "      <td>bachelor's degree</td>\n",
       "      <td>0</td>\n",
       "      <td>married</td>\n",
       "      <td>0</td>\n",
       "      <td>F</td>\n",
       "      <td>employee</td>\n",
       "      <td>0</td>\n",
       "      <td>40620.102</td>\n",
       "      <td>purchase of the house</td>\n",
       "      <td>40-49</td>\n",
       "    </tr>\n",
       "  </tbody>\n",
       "</table>\n",
       "</div>"
      ],
      "text/plain": [
       "   children  days_employed  dob_years          education  education_id  \\\n",
       "0         1   -8437.673028         42  bachelor's degree             0   \n",
       "\n",
       "  family_status  family_status_id gender income_type  debt  total_income  \\\n",
       "0       married                 0      F    employee     0     40620.102   \n",
       "\n",
       "                 purpose age_group7  \n",
       "0  purchase of the house      40-49  "
      ]
     },
     "execution_count": 176,
     "metadata": {},
     "output_type": "execute_result"
    }
   ],
   "source": [
    "df_nn = df.dropna(subset=['days_employed'])\n",
    "df_nn.head(1)"
   ]
  },
  {
   "cell_type": "markdown",
   "metadata": {},
   "source": [
    "Now we can try and see another comparison of the `age_group` value distributions:"
   ]
  },
  {
   "cell_type": "code",
   "execution_count": 177,
   "metadata": {},
   "outputs": [
    {
     "data": {
      "image/png": "[encoded data removed]",
      "text/plain": [
       "<Figure size 432x432 with 2 Axes>"
      ]
     },
     "metadata": {
      "needs_background": "light"
     },
     "output_type": "display_data"
    }
   ],
   "source": [
    "paired_plot(df_nan, df_nn, 'age_group7', 'Age group')"
   ]
  },
  {
   "cell_type": "markdown",
   "metadata": {},
   "source": [
    "One can see that the \"missing\" data subset has slightly lower share of customers aged 20 to 29 and slightly higher share of customers aged 50-59, while other age groups have very similar frequencies. Let's investigate a bit further and redifine our `age_group` function for broader age groups."
   ]
  },
  {
   "cell_type": "code",
   "execution_count": 178,
   "metadata": {},
   "outputs": [],
   "source": [
    "def age_group5(age):\n",
    "    \"\"\"\n",
    "    The function returns one of the following 5 age groups according to the age value, using the following rules:\n",
    "    —'under 25' for age < 25\n",
    "    —'25-39' for 25 <= age <= 39\n",
    "    —'40-54' for 40 <= age <= 54\n",
    "    —'55-69' for 55 <= age <= 69\n",
    "    —'above 70' for all other cases\n",
    "    \"\"\"\n",
    "    \n",
    "    if age < 25:\n",
    "        return 'under 25'\n",
    "    elif age <= 39:\n",
    "        return '25-39'\n",
    "    elif age <= 54:\n",
    "        return '40-54'\n",
    "    elif age <= 69:\n",
    "        return '55-69'\n",
    "    return 'above 70' "
   ]
  },
  {
   "cell_type": "markdown",
   "metadata": {},
   "source": [
    "Now we will add another column for age categories, `age_group5`, redefine the subsets, and compare the value distributions once again."
   ]
  },
  {
   "cell_type": "code",
   "execution_count": 179,
   "metadata": {},
   "outputs": [],
   "source": [
    "df['age_group5'] = df['dob_years'].apply(age_group5)"
   ]
  },
  {
   "cell_type": "code",
   "execution_count": 180,
   "metadata": {},
   "outputs": [
    {
     "data": {
      "text/html": [
       "<div>\n",
       "<style scoped>\n",
       "    .dataframe tbody tr th:only-of-type {\n",
       "        vertical-align: middle;\n",
       "    }\n",
       "\n",
       "    .dataframe tbody tr th {\n",
       "        vertical-align: top;\n",
       "    }\n",
       "\n",
       "    .dataframe thead th {\n",
       "        text-align: right;\n",
       "    }\n",
       "</style>\n",
       "<table border=\"1\" class=\"dataframe\">\n",
       "  <thead>\n",
       "    <tr style=\"text-align: right;\">\n",
       "      <th></th>\n",
       "      <th>children</th>\n",
       "      <th>days_employed</th>\n",
       "      <th>dob_years</th>\n",
       "      <th>education</th>\n",
       "      <th>education_id</th>\n",
       "      <th>family_status</th>\n",
       "      <th>family_status_id</th>\n",
       "      <th>gender</th>\n",
       "      <th>income_type</th>\n",
       "      <th>debt</th>\n",
       "      <th>total_income</th>\n",
       "      <th>purpose</th>\n",
       "      <th>age_group7</th>\n",
       "      <th>age_group5</th>\n",
       "    </tr>\n",
       "  </thead>\n",
       "  <tbody>\n",
       "    <tr>\n",
       "      <th>12</th>\n",
       "      <td>0</td>\n",
       "      <td>NaN</td>\n",
       "      <td>65</td>\n",
       "      <td>secondary education</td>\n",
       "      <td>1</td>\n",
       "      <td>civil partnership</td>\n",
       "      <td>1</td>\n",
       "      <td>M</td>\n",
       "      <td>retiree</td>\n",
       "      <td>0</td>\n",
       "      <td>NaN</td>\n",
       "      <td>to have a wedding</td>\n",
       "      <td>60-69</td>\n",
       "      <td>55-69</td>\n",
       "    </tr>\n",
       "  </tbody>\n",
       "</table>\n",
       "</div>"
      ],
      "text/plain": [
       "    children  days_employed  dob_years            education  education_id  \\\n",
       "12         0            NaN         65  secondary education             1   \n",
       "\n",
       "        family_status  family_status_id gender income_type  debt  \\\n",
       "12  civil partnership                 1      M     retiree     0   \n",
       "\n",
       "    total_income            purpose age_group7 age_group5  \n",
       "12           NaN  to have a wedding      60-69      55-69  "
      ]
     },
     "execution_count": 180,
     "metadata": {},
     "output_type": "execute_result"
    }
   ],
   "source": [
    "df_nan = df[df['days_employed'].isna()]\n",
    "df_nan.head(1)"
   ]
  },
  {
   "cell_type": "code",
   "execution_count": 181,
   "metadata": {},
   "outputs": [
    {
     "data": {
      "text/html": [
       "<div>\n",
       "<style scoped>\n",
       "    .dataframe tbody tr th:only-of-type {\n",
       "        vertical-align: middle;\n",
       "    }\n",
       "\n",
       "    .dataframe tbody tr th {\n",
       "        vertical-align: top;\n",
       "    }\n",
       "\n",
       "    .dataframe thead th {\n",
       "        text-align: right;\n",
       "    }\n",
       "</style>\n",
       "<table border=\"1\" class=\"dataframe\">\n",
       "  <thead>\n",
       "    <tr style=\"text-align: right;\">\n",
       "      <th></th>\n",
       "      <th>children</th>\n",
       "      <th>days_employed</th>\n",
       "      <th>dob_years</th>\n",
       "      <th>education</th>\n",
       "      <th>education_id</th>\n",
       "      <th>family_status</th>\n",
       "      <th>family_status_id</th>\n",
       "      <th>gender</th>\n",
       "      <th>income_type</th>\n",
       "      <th>debt</th>\n",
       "      <th>total_income</th>\n",
       "      <th>purpose</th>\n",
       "      <th>age_group7</th>\n",
       "      <th>age_group5</th>\n",
       "    </tr>\n",
       "  </thead>\n",
       "  <tbody>\n",
       "    <tr>\n",
       "      <th>0</th>\n",
       "      <td>1</td>\n",
       "      <td>-8437.673028</td>\n",
       "      <td>42</td>\n",
       "      <td>bachelor's degree</td>\n",
       "      <td>0</td>\n",
       "      <td>married</td>\n",
       "      <td>0</td>\n",
       "      <td>F</td>\n",
       "      <td>employee</td>\n",
       "      <td>0</td>\n",
       "      <td>40620.102</td>\n",
       "      <td>purchase of the house</td>\n",
       "      <td>40-49</td>\n",
       "      <td>40-54</td>\n",
       "    </tr>\n",
       "  </tbody>\n",
       "</table>\n",
       "</div>"
      ],
      "text/plain": [
       "   children  days_employed  dob_years          education  education_id  \\\n",
       "0         1   -8437.673028         42  bachelor's degree             0   \n",
       "\n",
       "  family_status  family_status_id gender income_type  debt  total_income  \\\n",
       "0       married                 0      F    employee     0     40620.102   \n",
       "\n",
       "                 purpose age_group7 age_group5  \n",
       "0  purchase of the house      40-49      40-54  "
      ]
     },
     "execution_count": 181,
     "metadata": {},
     "output_type": "execute_result"
    }
   ],
   "source": [
    "df_nn = df.dropna(subset=['days_employed'])\n",
    "df_nn.head(1)"
   ]
  },
  {
   "cell_type": "code",
   "execution_count": 182,
   "metadata": {},
   "outputs": [
    {
     "data": {
      "image/png": "[encoded data removed]",
      "text/plain": [
       "<Figure size 432x432 with 2 Axes>"
      ]
     },
     "metadata": {
      "needs_background": "light"
     },
     "output_type": "display_data"
    }
   ],
   "source": [
    "paired_plot(df_nan, df_nn, 'age_group5', 'Age group')"
   ]
  },
  {
   "cell_type": "markdown",
   "metadata": {},
   "source": [
    "For this version of the `age_group` function we see even less obvious difference in frequencies: again, less customers aged 25 to 39 and a bit more customers aged 55 to 69 for the \"missing\" data subset."
   ]
  },
  {
   "cell_type": "markdown",
   "metadata": {},
   "source": [
    "By comparing the last two results, we can derive that actual age groups where the difference might be are 25 to 29 and 55 to 59. Let's use our `pair_plot` function to zoom in into this age subgroups."
   ]
  },
  {
   "cell_type": "code",
   "execution_count": 183,
   "metadata": {},
   "outputs": [
    {
     "data": {
      "image/png": "[encoded data removed]",
      "text/plain": [
       "<Figure size 432x432 with 2 Axes>"
      ]
     },
     "metadata": {
      "needs_background": "light"
     },
     "output_type": "display_data"
    }
   ],
   "source": [
    "# for ages 25 to 29\n",
    "paired_plot(df_nan[(df_nan['dob_years']>25) & (df_nan['dob_years']<=29)],\n",
    "            df_nn[(df_nn['dob_years']>25) & (df_nn['dob_years']<=29)], 'dob_years', 'Age')"
   ]
  },
  {
   "cell_type": "code",
   "execution_count": 184,
   "metadata": {},
   "outputs": [
    {
     "data": {
      "image/png": "[encoded data removed]",
      "text/plain": [
       "<Figure size 432x432 with 2 Axes>"
      ]
     },
     "metadata": {
      "needs_background": "light"
     },
     "output_type": "display_data"
    }
   ],
   "source": [
    "# for ages 55 to 59\n",
    "paired_plot(df_nan[(df_nan['dob_years']>55) & (df_nan['dob_years']<=59)],\n",
    "            df_nn[(df_nn['dob_years']>55) & (df_nn['dob_years']<=59)], 'dob_years', 'Age')"
   ]
  },
  {
   "cell_type": "markdown",
   "metadata": {},
   "source": [
    "[Back to Contents](#back)"
   ]
  },
  {
   "cell_type": "markdown",
   "metadata": {},
   "source": [
    "### Task 4. Intermediate conclusions on the nature of missing values <a id='missing_values_intermediate2'></a>\n",
    "\n",
    "We have found that the main differences are for ages 57, 28, and 29, which seems to be lacking any specific pattern; thus the `dob_years` variable does not explain the missing values. To finally confirm that the missing values are accidental, we complete our investigatiion with zooming into the `purpose` variable.\n",
    "\n",
    "[Back to Contents](#back)"
   ]
  },
  {
   "cell_type": "markdown",
   "metadata": {},
   "source": [
    "### Task 5. Further investigation of missing values: the role of loan purpose  <a id='missing_values_part3'></a>\n",
    "\n",
    "Now we will take a deeper look at the categories of the `purpose` variable. Let's start from listing them."
   ]
  },
  {
   "cell_type": "code",
   "execution_count": 185,
   "metadata": {},
   "outputs": [
    {
     "data": {
      "text/plain": [
       "wedding ceremony                            797\n",
       "having a wedding                            777\n",
       "to have a wedding                           774\n",
       "real estate transactions                    676\n",
       "buy commercial real estate                  664\n",
       "buying property for renting out             653\n",
       "housing transactions                        653\n",
       "transactions with commercial real estate    651\n",
       "purchase of the house                       647\n",
       "housing                                     647\n",
       "purchase of the house for my family         641\n",
       "construction of own property                635\n",
       "property                                    634\n",
       "transactions with my real estate            630\n",
       "building a real estate                      626\n",
       "buy real estate                             624\n",
       "building a property                         620\n",
       "purchase of my own house                    620\n",
       "housing renovation                          612\n",
       "buy residential real estate                 607\n",
       "buying my own car                           505\n",
       "going to university                         496\n",
       "car                                         495\n",
       "second-hand car purchase                    489\n",
       "to own a car                                480\n",
       "buying a second-hand car                    479\n",
       "cars                                        478\n",
       "to buy a car                                472\n",
       "car purchase                                462\n",
       "supplementary education                     462\n",
       "purchase of a car                           455\n",
       "university education                        453\n",
       "education                                   447\n",
       "to get a supplementary education            447\n",
       "getting an education                        443\n",
       "profile education                           436\n",
       "getting higher education                    426\n",
       "to become educated                          412\n",
       "Name: purpose, dtype: int64"
      ]
     },
     "execution_count": 185,
     "metadata": {},
     "output_type": "execute_result"
    }
   ],
   "source": [
    "df['purpose'].value_counts()"
   ]
  },
  {
   "cell_type": "markdown",
   "metadata": {},
   "source": [
    "One can see that there are recurring categories of the same or similar meaning: e.g., 'wedding ceremony', 'having a wedding', 'to have a wedding', etc. Thus, we have no choice rather then to study this list and to come up with new, more general categories (category groups). We will use those general categories to define a new function, `purpose_group()`, and add corresponding column to our initial dataframe."
   ]
  },
  {
   "cell_type": "code",
   "execution_count": 186,
   "metadata": {},
   "outputs": [],
   "source": [
    "def purpose_group(purpose):\n",
    "    \"\"\"\n",
    "    The function returns one of the following general loan purpose groups according, using the following rules:\n",
    "    —'wedding' for 'wedding ceremony'|'having a wedding'|'to have a wedding'\n",
    "    —'commercial real estate' for 'buy commercial real estate'|'buying property for renting out'|'transactions with commercial real estate'\n",
    "    —'own housing' for 'housing transactions'|'purchase of the house'|'housing'|'purchase of the house for my family'|'construction of own property'|'purchase of my own house'|'housing renovation'\n",
    "    —'real estate general' for 'real estate transactions'|'property'|'transactions with my real estate'|'building a real estate'|'buy real estate'|'building a property'|'buy residential real estate'\n",
    "    —'car' for 'buying my own car'|'car'|'second-hand car purchase'|'to own a car'|'buying a second-hand car'|'cars'|'to buy a car'|'car purchase'|'purchase of a car'\n",
    "    —'education' for 'going to university'|'supplementary education'|'university education'|'education'|'to get a supplementary education'|'getting an education'|'profile education'|'getting higher education'|'to become educated'\n",
    "    \"\"\"\n",
    "    \n",
    "    if purpose in ('wedding ceremony','having a wedding','to have a wedding'):\n",
    "        return 'wedding'\n",
    "    elif purpose in ('buy commercial real estate','buying property for renting out','transactions with commercial real estate'):\n",
    "        return 'commercial real estate'\n",
    "    elif purpose in ('housing transactions','purchase of the house','housing','purchase of the house for my family','construction of own property','purchase of my own house','housing renovation'):\n",
    "        return 'own housing'\n",
    "    elif purpose in ('real estate transactions','property','transactions with my real estate','building a real estate','buy real estate','building a property','buy residential real estate'):\n",
    "        return 'real estate general'\n",
    "    elif purpose in ('buying my own car','car','second-hand car purchase','to own a car','buying a second-hand car','cars','to buy a car','car purchase','purchase of a car'):\n",
    "        return 'car'\n",
    "    return 'education' \n",
    "\n"
   ]
  },
  {
   "cell_type": "code",
   "execution_count": 187,
   "metadata": {
    "scrolled": true
   },
   "outputs": [
    {
     "data": {
      "text/plain": [
       "own housing               4455\n",
       "real estate general       4417\n",
       "car                       4315\n",
       "education                 4022\n",
       "wedding                   2348\n",
       "commercial real estate    1968\n",
       "Name: purpose_group, dtype: int64"
      ]
     },
     "execution_count": 187,
     "metadata": {},
     "output_type": "execute_result"
    }
   ],
   "source": [
    "#Adding the purpose group column to the initial DataFrame and checking that no category was left out.\n",
    "df['purpose_group'] = df['purpose'].apply(purpose_group)\n",
    "df['purpose_group'].value_counts(dropna=False)"
   ]
  },
  {
   "cell_type": "markdown",
   "metadata": {},
   "source": [
    "Now we should recalculate our subsets:"
   ]
  },
  {
   "cell_type": "code",
   "execution_count": 188,
   "metadata": {},
   "outputs": [
    {
     "data": {
      "text/html": [
       "<div>\n",
       "<style scoped>\n",
       "    .dataframe tbody tr th:only-of-type {\n",
       "        vertical-align: middle;\n",
       "    }\n",
       "\n",
       "    .dataframe tbody tr th {\n",
       "        vertical-align: top;\n",
       "    }\n",
       "\n",
       "    .dataframe thead th {\n",
       "        text-align: right;\n",
       "    }\n",
       "</style>\n",
       "<table border=\"1\" class=\"dataframe\">\n",
       "  <thead>\n",
       "    <tr style=\"text-align: right;\">\n",
       "      <th></th>\n",
       "      <th>children</th>\n",
       "      <th>days_employed</th>\n",
       "      <th>dob_years</th>\n",
       "      <th>education</th>\n",
       "      <th>education_id</th>\n",
       "      <th>family_status</th>\n",
       "      <th>family_status_id</th>\n",
       "      <th>gender</th>\n",
       "      <th>income_type</th>\n",
       "      <th>debt</th>\n",
       "      <th>total_income</th>\n",
       "      <th>purpose</th>\n",
       "      <th>age_group7</th>\n",
       "      <th>age_group5</th>\n",
       "      <th>purpose_group</th>\n",
       "    </tr>\n",
       "  </thead>\n",
       "  <tbody>\n",
       "    <tr>\n",
       "      <th>12</th>\n",
       "      <td>0</td>\n",
       "      <td>NaN</td>\n",
       "      <td>65</td>\n",
       "      <td>secondary education</td>\n",
       "      <td>1</td>\n",
       "      <td>civil partnership</td>\n",
       "      <td>1</td>\n",
       "      <td>M</td>\n",
       "      <td>retiree</td>\n",
       "      <td>0</td>\n",
       "      <td>NaN</td>\n",
       "      <td>to have a wedding</td>\n",
       "      <td>60-69</td>\n",
       "      <td>55-69</td>\n",
       "      <td>wedding</td>\n",
       "    </tr>\n",
       "  </tbody>\n",
       "</table>\n",
       "</div>"
      ],
      "text/plain": [
       "    children  days_employed  dob_years            education  education_id  \\\n",
       "12         0            NaN         65  secondary education             1   \n",
       "\n",
       "        family_status  family_status_id gender income_type  debt  \\\n",
       "12  civil partnership                 1      M     retiree     0   \n",
       "\n",
       "    total_income            purpose age_group7 age_group5 purpose_group  \n",
       "12           NaN  to have a wedding      60-69      55-69       wedding  "
      ]
     },
     "execution_count": 188,
     "metadata": {},
     "output_type": "execute_result"
    }
   ],
   "source": [
    "df_nan = df[df['days_employed'].isna()]\n",
    "df_nan.head(1)"
   ]
  },
  {
   "cell_type": "code",
   "execution_count": 189,
   "metadata": {},
   "outputs": [
    {
     "data": {
      "text/html": [
       "<div>\n",
       "<style scoped>\n",
       "    .dataframe tbody tr th:only-of-type {\n",
       "        vertical-align: middle;\n",
       "    }\n",
       "\n",
       "    .dataframe tbody tr th {\n",
       "        vertical-align: top;\n",
       "    }\n",
       "\n",
       "    .dataframe thead th {\n",
       "        text-align: right;\n",
       "    }\n",
       "</style>\n",
       "<table border=\"1\" class=\"dataframe\">\n",
       "  <thead>\n",
       "    <tr style=\"text-align: right;\">\n",
       "      <th></th>\n",
       "      <th>children</th>\n",
       "      <th>days_employed</th>\n",
       "      <th>dob_years</th>\n",
       "      <th>education</th>\n",
       "      <th>education_id</th>\n",
       "      <th>family_status</th>\n",
       "      <th>family_status_id</th>\n",
       "      <th>gender</th>\n",
       "      <th>income_type</th>\n",
       "      <th>debt</th>\n",
       "      <th>total_income</th>\n",
       "      <th>purpose</th>\n",
       "      <th>age_group7</th>\n",
       "      <th>age_group5</th>\n",
       "      <th>purpose_group</th>\n",
       "    </tr>\n",
       "  </thead>\n",
       "  <tbody>\n",
       "    <tr>\n",
       "      <th>0</th>\n",
       "      <td>1</td>\n",
       "      <td>-8437.673028</td>\n",
       "      <td>42</td>\n",
       "      <td>bachelor's degree</td>\n",
       "      <td>0</td>\n",
       "      <td>married</td>\n",
       "      <td>0</td>\n",
       "      <td>F</td>\n",
       "      <td>employee</td>\n",
       "      <td>0</td>\n",
       "      <td>40620.102</td>\n",
       "      <td>purchase of the house</td>\n",
       "      <td>40-49</td>\n",
       "      <td>40-54</td>\n",
       "      <td>own housing</td>\n",
       "    </tr>\n",
       "  </tbody>\n",
       "</table>\n",
       "</div>"
      ],
      "text/plain": [
       "   children  days_employed  dob_years          education  education_id  \\\n",
       "0         1   -8437.673028         42  bachelor's degree             0   \n",
       "\n",
       "  family_status  family_status_id gender income_type  debt  total_income  \\\n",
       "0       married                 0      F    employee     0     40620.102   \n",
       "\n",
       "                 purpose age_group7 age_group5 purpose_group  \n",
       "0  purchase of the house      40-49      40-54   own housing  "
      ]
     },
     "execution_count": 189,
     "metadata": {},
     "output_type": "execute_result"
    }
   ],
   "source": [
    "df_nn = df.dropna(subset=['days_employed'])\n",
    "df_nn.head(1)"
   ]
  },
  {
   "cell_type": "markdown",
   "metadata": {},
   "source": [
    "Finally, we can check what are the distributions of the `purpose_group` variable for the two subsets."
   ]
  },
  {
   "cell_type": "code",
   "execution_count": 190,
   "metadata": {},
   "outputs": [
    {
     "data": {
      "image/png": "[encoded data removed]",
      "text/plain": [
       "<Figure size 432x432 with 2 Axes>"
      ]
     },
     "metadata": {
      "needs_background": "light"
     },
     "output_type": "display_data"
    }
   ],
   "source": [
    "paired_plot(df_nan, df_nn, 'purpose_group', 'Purpose group')"
   ]
  },
  {
   "cell_type": "markdown",
   "metadata": {},
   "source": [
    "We see small differences in the frequencies for 'education', 'car', and 'real estate general' with slightly more cases of educational purpose rather than purchasing car or some real estate. To erase every concern, let's perform a check of statistical significance of the difference between these two distributions. To this purpose, first, we merge the two distributions into one DataFrame."
   ]
  },
  {
   "cell_type": "code",
   "execution_count": 191,
   "metadata": {},
   "outputs": [
    {
     "data": {
      "text/html": [
       "<div>\n",
       "<style scoped>\n",
       "    .dataframe tbody tr th:only-of-type {\n",
       "        vertical-align: middle;\n",
       "    }\n",
       "\n",
       "    .dataframe tbody tr th {\n",
       "        vertical-align: top;\n",
       "    }\n",
       "\n",
       "    .dataframe thead th {\n",
       "        text-align: right;\n",
       "    }\n",
       "</style>\n",
       "<table border=\"1\" class=\"dataframe\">\n",
       "  <thead>\n",
       "    <tr style=\"text-align: right;\">\n",
       "      <th></th>\n",
       "      <th>purpose_group_x</th>\n",
       "      <th>purpose_group_y</th>\n",
       "    </tr>\n",
       "  </thead>\n",
       "  <tbody>\n",
       "    <tr>\n",
       "      <th>own housing</th>\n",
       "      <td>0.206072</td>\n",
       "      <td>0.207069</td>\n",
       "    </tr>\n",
       "    <tr>\n",
       "      <th>real estate general</th>\n",
       "      <td>0.198712</td>\n",
       "      <td>0.205933</td>\n",
       "    </tr>\n",
       "    <tr>\n",
       "      <th>education</th>\n",
       "      <td>0.195492</td>\n",
       "      <td>0.185882</td>\n",
       "    </tr>\n",
       "    <tr>\n",
       "      <th>car</th>\n",
       "      <td>0.192272</td>\n",
       "      <td>0.201385</td>\n",
       "    </tr>\n",
       "    <tr>\n",
       "      <th>wedding</th>\n",
       "      <td>0.114535</td>\n",
       "      <td>0.108470</td>\n",
       "    </tr>\n",
       "    <tr>\n",
       "      <th>commercial real estate</th>\n",
       "      <td>0.092916</td>\n",
       "      <td>0.091261</td>\n",
       "    </tr>\n",
       "  </tbody>\n",
       "</table>\n",
       "</div>"
      ],
      "text/plain": [
       "                        purpose_group_x  purpose_group_y\n",
       "own housing                    0.206072         0.207069\n",
       "real estate general            0.198712         0.205933\n",
       "education                      0.195492         0.185882\n",
       "car                            0.192272         0.201385\n",
       "wedding                        0.114535         0.108470\n",
       "commercial real estate         0.092916         0.091261"
      ]
     },
     "execution_count": 191,
     "metadata": {},
     "output_type": "execute_result"
    }
   ],
   "source": [
    "merged = pd.merge(\n",
    "    df_nan.purpose_group.value_counts(normalize = True).to_frame(),\n",
    "    df_nn.purpose_group.value_counts(normalize = True).to_frame(),\n",
    "    left_index=True,\n",
    "    right_index=True)\n",
    "\n",
    "merged"
   ]
  },
  {
   "cell_type": "markdown",
   "metadata": {},
   "source": [
    "Second, we will apply the two-sided Kolmogorov-Smirnov test to test whether the two underlying one-dimensional probability distributions differ. That means, we will answer the question: \"What is the probability that these two sets of samples were drawn from the same probability distribution?\""
   ]
  },
  {
   "cell_type": "code",
   "execution_count": 192,
   "metadata": {},
   "outputs": [
    {
     "data": {
      "text/plain": [
       "KstestResult(statistic=0.3333333333333333, pvalue=0.9307359307359307)"
      ]
     },
     "execution_count": 192,
     "metadata": {},
     "output_type": "execute_result"
    }
   ],
   "source": [
    "stats.ks_2samp(merged.purpose_group_x, merged.purpose_group_y)"
   ]
  },
  {
   "cell_type": "markdown",
   "metadata": {},
   "source": [
    "The resulting p-value is ~0.93, thus we cannot reject the hypothesis that the two samples (data subsets) were drawn from the same probability distribution."
   ]
  },
  {
   "cell_type": "markdown",
   "metadata": {},
   "source": [
    "Summarizing the invistigation conducted in Task 1 to Task 5 of Stage 2, where we compare the value distributions of each variable for two subsets of the initial data, the one where the values for `days_employed` and `total_income` are both missing and the second one with complete set of data, we did not find any specific pattern which could explain the missing values.\n",
    "\n",
    "[Back to Contents](#back)"
   ]
  },
  {
   "cell_type": "markdown",
   "metadata": {},
   "source": [
    "### Task 6. Final conclusions on the nature of missing values <a id='missing_values_final'></a>\n",
    "We can finally conclude:\n",
    "- there is a subset of 2174 entries which lack the values in `days_employed` and `total_income` columns (please see [Data Exploration](#data_overview_exploration) task for a detailed step-by-step-explanation of how we got to conclude this);\n",
    "- missing values are random (see above); thus, possible reasons for their appearance can be technical issues during data entry or, later on, during data retrival from the bank's database, like incorrect SQL query. This would be my first assumtion to address to the loan division. Deeper in, lack of integrety in the bank's database can be also turn to be the case. Theoretically, this may result in a situation when, for the rest of the columns, some entries from the subset with NaN values can match entries from the data subset with complete set of values. Unfortunately, we were not provided with unique identifiers for the customer entries and, while the columns with complete data (`children`, `dob_years`, `education`, `family_status`, `gender`, `income_type`, `debt`, and `purpose`) cannot define a customer specifically enough (there can and even should be people with identical profiles, otherwise there would be no sense to build a scoring model), we will have to assume that those are unique customers for whom `days_employed` and `total_income` values are missing.\n",
    "\n",
    "We will continue in the following order:\n",
    "1. We check for duplicates in individual columns, explicit or implicit, including different registers, and fix them when required;\n",
    "2. In addition, we check for duplicate entries across the whole subset for which the data is complete, assuming that, with given precision, the probability of having two customers with the same values of `days_employed` and `total_income` is zero;\n",
    "3. Then we will have to make additional investigation on the values in `days_employed` and `total_income` columns, to clean incorrect artifacts before we can fill in the missing information;\n",
    "4. Then we will get back to the missing values and fill them in;\n",
    "5. Finally, if not accompliched before, we will fimalize data categorization to support the further hypotheses testing.\n",
    "\n",
    "[Back to Contents](#back)"
   ]
  },
  {
   "cell_type": "markdown",
   "metadata": {},
   "source": [
    "### Task 7. Working with duplicates in individual columns <a id='duplicates1'></a>"
   ]
  },
  {
   "cell_type": "markdown",
   "metadata": {},
   "source": [
    "During the [initial research on the missing values](#missing_values), we have seen that there were two columns with duplicate name values in our dataset, `education` and `purpose`. We have treated the latter by grouping purposes into groups and adding correposnding column; thus, the only column we have to \"clean\" now is `education`.\n",
    "\n",
    "To speed up working with it, we will extract this column, together with its IDs column into separate DataFrame. Thus, in a concise manner, we will see the implicit duplicates and any inconsistencies in segmentation, test our approach to eliminating them and then apply it to the initial dataset."
   ]
  },
  {
   "cell_type": "code",
   "execution_count": 193,
   "metadata": {},
   "outputs": [],
   "source": [
    "# Find the dictionary\n",
    "education_dict = pd.DataFrame(columns = ['education', 'education_id'], data = df[['education', 'education_id']].values)\n",
    "education_dict = education_dict.drop_duplicates().reset_index(drop = True)"
   ]
  },
  {
   "cell_type": "markdown",
   "metadata": {},
   "source": [
    "Now let's look at `education_dict`."
   ]
  },
  {
   "cell_type": "code",
   "execution_count": 194,
   "metadata": {},
   "outputs": [
    {
     "data": {
      "text/html": [
       "<div>\n",
       "<style scoped>\n",
       "    .dataframe tbody tr th:only-of-type {\n",
       "        vertical-align: middle;\n",
       "    }\n",
       "\n",
       "    .dataframe tbody tr th {\n",
       "        vertical-align: top;\n",
       "    }\n",
       "\n",
       "    .dataframe thead th {\n",
       "        text-align: right;\n",
       "    }\n",
       "</style>\n",
       "<table border=\"1\" class=\"dataframe\">\n",
       "  <thead>\n",
       "    <tr style=\"text-align: right;\">\n",
       "      <th></th>\n",
       "      <th>education</th>\n",
       "      <th>education_id</th>\n",
       "    </tr>\n",
       "  </thead>\n",
       "  <tbody>\n",
       "    <tr>\n",
       "      <th>0</th>\n",
       "      <td>bachelor's degree</td>\n",
       "      <td>0</td>\n",
       "    </tr>\n",
       "    <tr>\n",
       "      <th>4</th>\n",
       "      <td>BACHELOR'S DEGREE</td>\n",
       "      <td>0</td>\n",
       "    </tr>\n",
       "    <tr>\n",
       "      <th>7</th>\n",
       "      <td>Bachelor's Degree</td>\n",
       "      <td>0</td>\n",
       "    </tr>\n",
       "    <tr>\n",
       "      <th>1</th>\n",
       "      <td>secondary education</td>\n",
       "      <td>1</td>\n",
       "    </tr>\n",
       "    <tr>\n",
       "      <th>2</th>\n",
       "      <td>Secondary Education</td>\n",
       "      <td>1</td>\n",
       "    </tr>\n",
       "    <tr>\n",
       "      <th>3</th>\n",
       "      <td>SECONDARY EDUCATION</td>\n",
       "      <td>1</td>\n",
       "    </tr>\n",
       "    <tr>\n",
       "      <th>5</th>\n",
       "      <td>some college</td>\n",
       "      <td>2</td>\n",
       "    </tr>\n",
       "    <tr>\n",
       "      <th>8</th>\n",
       "      <td>SOME COLLEGE</td>\n",
       "      <td>2</td>\n",
       "    </tr>\n",
       "    <tr>\n",
       "      <th>9</th>\n",
       "      <td>Some College</td>\n",
       "      <td>2</td>\n",
       "    </tr>\n",
       "    <tr>\n",
       "      <th>6</th>\n",
       "      <td>primary education</td>\n",
       "      <td>3</td>\n",
       "    </tr>\n",
       "    <tr>\n",
       "      <th>10</th>\n",
       "      <td>PRIMARY EDUCATION</td>\n",
       "      <td>3</td>\n",
       "    </tr>\n",
       "    <tr>\n",
       "      <th>11</th>\n",
       "      <td>Primary Education</td>\n",
       "      <td>3</td>\n",
       "    </tr>\n",
       "    <tr>\n",
       "      <th>12</th>\n",
       "      <td>Graduate Degree</td>\n",
       "      <td>4</td>\n",
       "    </tr>\n",
       "    <tr>\n",
       "      <th>13</th>\n",
       "      <td>GRADUATE DEGREE</td>\n",
       "      <td>4</td>\n",
       "    </tr>\n",
       "    <tr>\n",
       "      <th>14</th>\n",
       "      <td>graduate degree</td>\n",
       "      <td>4</td>\n",
       "    </tr>\n",
       "  </tbody>\n",
       "</table>\n",
       "</div>"
      ],
      "text/plain": [
       "              education education_id\n",
       "0     bachelor's degree            0\n",
       "4     BACHELOR'S DEGREE            0\n",
       "7     Bachelor's Degree            0\n",
       "1   secondary education            1\n",
       "2   Secondary Education            1\n",
       "3   SECONDARY EDUCATION            1\n",
       "5          some college            2\n",
       "8          SOME COLLEGE            2\n",
       "9          Some College            2\n",
       "6     primary education            3\n",
       "10    PRIMARY EDUCATION            3\n",
       "11    Primary Education            3\n",
       "12      Graduate Degree            4\n",
       "13      GRADUATE DEGREE            4\n",
       "14      graduate degree            4"
      ]
     },
     "execution_count": 194,
     "metadata": {},
     "output_type": "execute_result"
    }
   ],
   "source": [
    "# Checking for duplicates in education_dict\n",
    "education_dict.sort_values(by=['education_id'])"
   ]
  },
  {
   "cell_type": "markdown",
   "metadata": {},
   "source": [
    "We have assumed before and now can see, that we indeed have 5 categories of education with 3 name options for each of it. It seems like the only difference between them is different registers, while the indices are correctly assigned; therefore, we will make them lowercase using the str.lower() method, drop duplicates once again and check whether it solves the issue."
   ]
  },
  {
   "cell_type": "code",
   "execution_count": 195,
   "metadata": {},
   "outputs": [
    {
     "data": {
      "text/html": [
       "<div>\n",
       "<style scoped>\n",
       "    .dataframe tbody tr th:only-of-type {\n",
       "        vertical-align: middle;\n",
       "    }\n",
       "\n",
       "    .dataframe tbody tr th {\n",
       "        vertical-align: top;\n",
       "    }\n",
       "\n",
       "    .dataframe thead th {\n",
       "        text-align: right;\n",
       "    }\n",
       "</style>\n",
       "<table border=\"1\" class=\"dataframe\">\n",
       "  <thead>\n",
       "    <tr style=\"text-align: right;\">\n",
       "      <th></th>\n",
       "      <th>education</th>\n",
       "      <th>education_id</th>\n",
       "    </tr>\n",
       "  </thead>\n",
       "  <tbody>\n",
       "    <tr>\n",
       "      <th>0</th>\n",
       "      <td>bachelor's degree</td>\n",
       "      <td>0</td>\n",
       "    </tr>\n",
       "    <tr>\n",
       "      <th>1</th>\n",
       "      <td>secondary education</td>\n",
       "      <td>1</td>\n",
       "    </tr>\n",
       "    <tr>\n",
       "      <th>2</th>\n",
       "      <td>some college</td>\n",
       "      <td>2</td>\n",
       "    </tr>\n",
       "    <tr>\n",
       "      <th>3</th>\n",
       "      <td>primary education</td>\n",
       "      <td>3</td>\n",
       "    </tr>\n",
       "    <tr>\n",
       "      <th>4</th>\n",
       "      <td>graduate degree</td>\n",
       "      <td>4</td>\n",
       "    </tr>\n",
       "  </tbody>\n",
       "</table>\n",
       "</div>"
      ],
      "text/plain": [
       "             education education_id\n",
       "0    bachelor's degree            0\n",
       "1  secondary education            1\n",
       "2         some college            2\n",
       "3    primary education            3\n",
       "4      graduate degree            4"
      ]
     },
     "execution_count": 195,
     "metadata": {},
     "output_type": "execute_result"
    }
   ],
   "source": [
    "# Address the duplicates in education_dict\n",
    "education_dict['education'] = education_dict['education'].str.lower()\n",
    "education_dict = education_dict.drop_duplicates().reset_index(drop = True)\n",
    "education_dict.sort_values(by=['education_id'])"
   ]
  },
  {
   "cell_type": "markdown",
   "metadata": {},
   "source": [
    "Making all the `education` categories lowercase clears the dictionary; thus, by applying the same approach to the initial dataset will resolve the implicite duplicate names issue for the `education` variable."
   ]
  },
  {
   "cell_type": "code",
   "execution_count": 196,
   "metadata": {},
   "outputs": [],
   "source": [
    "# Address the duplicates in df\n",
    "df['education'] = df['education'].str.lower()"
   ]
  },
  {
   "cell_type": "code",
   "execution_count": 197,
   "metadata": {},
   "outputs": [
    {
     "data": {
      "image/png": "[encoded data removed]",
      "text/plain": [
       "<Figure size 432x288 with 1 Axes>"
      ]
     },
     "metadata": {
      "needs_background": "light"
     },
     "output_type": "display_data"
    }
   ],
   "source": [
    "# Check whether we have any duplicates left in the `education` column of the initial dataset\n",
    "df['education'].value_counts(normalize=True).plot(kind = 'barh') \n",
    "plt.show()"
   ]
  },
  {
   "cell_type": "markdown",
   "metadata": {},
   "source": [
    "Everything is fine with this column now. Let's make only a quick check on `family_status` and `family_status_id` to confirm that there are no inconsistencies between the value and ID assignment."
   ]
  },
  {
   "cell_type": "code",
   "execution_count": 198,
   "metadata": {},
   "outputs": [
    {
     "data": {
      "text/html": [
       "<div>\n",
       "<style scoped>\n",
       "    .dataframe tbody tr th:only-of-type {\n",
       "        vertical-align: middle;\n",
       "    }\n",
       "\n",
       "    .dataframe tbody tr th {\n",
       "        vertical-align: top;\n",
       "    }\n",
       "\n",
       "    .dataframe thead th {\n",
       "        text-align: right;\n",
       "    }\n",
       "</style>\n",
       "<table border=\"1\" class=\"dataframe\">\n",
       "  <thead>\n",
       "    <tr style=\"text-align: right;\">\n",
       "      <th></th>\n",
       "      <th>family_status</th>\n",
       "      <th>family_status_id</th>\n",
       "    </tr>\n",
       "  </thead>\n",
       "  <tbody>\n",
       "    <tr>\n",
       "      <th>0</th>\n",
       "      <td>married</td>\n",
       "      <td>0</td>\n",
       "    </tr>\n",
       "    <tr>\n",
       "      <th>1</th>\n",
       "      <td>civil partnership</td>\n",
       "      <td>1</td>\n",
       "    </tr>\n",
       "    <tr>\n",
       "      <th>2</th>\n",
       "      <td>widow / widower</td>\n",
       "      <td>2</td>\n",
       "    </tr>\n",
       "    <tr>\n",
       "      <th>3</th>\n",
       "      <td>divorced</td>\n",
       "      <td>3</td>\n",
       "    </tr>\n",
       "    <tr>\n",
       "      <th>4</th>\n",
       "      <td>unmarried</td>\n",
       "      <td>4</td>\n",
       "    </tr>\n",
       "  </tbody>\n",
       "</table>\n",
       "</div>"
      ],
      "text/plain": [
       "       family_status family_status_id\n",
       "0            married                0\n",
       "1  civil partnership                1\n",
       "2    widow / widower                2\n",
       "3           divorced                3\n",
       "4          unmarried                4"
      ]
     },
     "execution_count": 198,
     "metadata": {},
     "output_type": "execute_result"
    }
   ],
   "source": [
    "fs_d = pd.DataFrame(columns = ['family_status', 'family_status_id'], data = df[['family_status', 'family_status_id']].values)\n",
    "fs_d = fs_d.drop_duplicates().reset_index(drop = True)\n",
    "fs_d.sort_values(by=['family_status_id'])"
   ]
  },
  {
   "cell_type": "markdown",
   "metadata": {},
   "source": [
    "There are no inconsistencies with `family_status` values and IDs. Now, when everything seems to be fine with individual columns, now we proceed to checking for duplicates across the dataset.\n",
    "\n",
    "[Back to Contents](#back)"
   ]
  },
  {
   "cell_type": "markdown",
   "metadata": {},
   "source": [
    "### Task 8. Working with duplicates across the dataset <a id='duplicates2'></a>"
   ]
  },
  {
   "cell_type": "markdown",
   "metadata": {},
   "source": [
    "As mentioned above, we need to make sure that at least or subset with the complete set of values does not have duplicates. Let's us update it and apply the `drop_duplicates()` method."
   ]
  },
  {
   "cell_type": "code",
   "execution_count": 199,
   "metadata": {},
   "outputs": [
    {
     "data": {
      "text/plain": [
       "19351"
      ]
     },
     "execution_count": 199,
     "metadata": {},
     "output_type": "execute_result"
    }
   ],
   "source": [
    "df_nn = df.dropna(subset=['days_employed'])\n",
    "# check once again that the initial length remained the same\n",
    "len(df_nn)"
   ]
  },
  {
   "cell_type": "code",
   "execution_count": 200,
   "metadata": {},
   "outputs": [
    {
     "data": {
      "text/plain": [
       "19351"
      ]
     },
     "execution_count": 200,
     "metadata": {},
     "output_type": "execute_result"
    }
   ],
   "source": [
    "# apply the drop_duplicates() method and check again the size of the subset\n",
    "df_nn = df_nn.drop_duplicates()\n",
    "len(df_nn)"
   ]
  },
  {
   "cell_type": "markdown",
   "metadata": {},
   "source": [
    "Thus, we can see that there were no duplicate entries for the subset with complete data (even after cleaning implicit duplicates in the `education` column). Let's make a final check that there are no duplicate issues behind the variability of categories in the `purpose` column."
   ]
  },
  {
   "cell_type": "code",
   "execution_count": 201,
   "metadata": {},
   "outputs": [
    {
     "data": {
      "text/plain": [
       "0"
      ]
     },
     "execution_count": 201,
     "metadata": {},
     "output_type": "execute_result"
    }
   ],
   "source": [
    "# define a list of columns we aim to check duplicates on\n",
    "dup_check_nn = ['children','days_employed', 'dob_years', 'education', 'family_status', 'gender', 'income_type', 'total_income', 'debt']\n",
    "df_nn_dup = df_nn[df_nn.duplicated(dup_check_nn)]\n",
    "len(df_nn_dup)"
   ]
  },
  {
   "cell_type": "markdown",
   "metadata": {},
   "source": [
    "We can finally conclude that there are no duplicate entries in the \"complete\" data subset."
   ]
  },
  {
   "cell_type": "markdown",
   "metadata": {},
   "source": [
    "In our [final thoughts on the nature of the missing values](#missing_values_final) in our dataset, we have already elaborated on the fact that we will have to relate to the whole \"missing\" data subset as a set of unique entries. Nevertheless, and out of curiousity, let's check how many \"potential\" duplicates we have in this subset when we consider the rest of available columns, those with complete data. "
   ]
  },
  {
   "cell_type": "code",
   "execution_count": 202,
   "metadata": {},
   "outputs": [
    {
     "data": {
      "text/plain": [
       "2174"
      ]
     },
     "execution_count": 202,
     "metadata": {},
     "output_type": "execute_result"
    }
   ],
   "source": [
    "# initial set of variables with missing data data\n",
    "df_nan = df[df['days_employed'].isna()]\n",
    "len(df_nan)"
   ]
  },
  {
   "cell_type": "code",
   "execution_count": 203,
   "metadata": {},
   "outputs": [
    {
     "data": {
      "text/plain": [
       "71"
      ]
     },
     "execution_count": 203,
     "metadata": {},
     "output_type": "execute_result"
    }
   ],
   "source": [
    "# define a list of columns we aim to check duplicates on\n",
    "dup_check_nan = ['children', 'dob_years', 'education', 'family_status', 'gender', 'income_type', 'debt', 'purpose']\n",
    "# define \"potential\" duplicates subset\n",
    "df_nan_dup = df_nan[df_nan.duplicated(dup_check_nan)]\n",
    "# check the number of entries in the \"@\"potential\" duplicates subset\n",
    "len(df_nan_dup)"
   ]
  },
  {
   "cell_type": "code",
   "execution_count": 204,
   "metadata": {},
   "outputs": [
    {
     "data": {
      "text/plain": [
       "66"
      ]
     },
     "execution_count": 204,
     "metadata": {},
     "output_type": "execute_result"
    }
   ],
   "source": [
    "# let's see how many unique entries the \"potential\" duplicates subset has\n",
    "len(df_nan_dup.drop_duplicates())"
   ]
  },
  {
   "cell_type": "markdown",
   "metadata": {},
   "source": [
    "Thus, we have 71 (around 0.3% of all entries in the initial dataset) combinations of values across the all the parameters, besides the missing values for `days_employed` and `total_missing` variables with \"duplicate\" entries, 66 of them unique. When we use the `purpose_group` variable instead of `purpose`, the number of such \"twins\" grows three times and account for about 1.3% of all entries in the initial dataset:"
   ]
  },
  {
   "cell_type": "code",
   "execution_count": 205,
   "metadata": {},
   "outputs": [
    {
     "data": {
      "text/plain": [
       "276"
      ]
     },
     "execution_count": 205,
     "metadata": {},
     "output_type": "execute_result"
    }
   ],
   "source": [
    "# initial set of variables with full data with 'purpose_group' instead `purpose`\n",
    "dup_check_nan = ['children', 'dob_years', 'education', 'family_status', 'gender', 'income_type', 'debt', 'purpose_group']\n",
    "df_nan_dup = df_nan[df_nan.duplicated(dup_check_nan)]\n",
    "len(df_nan_dup)"
   ]
  },
  {
   "cell_type": "code",
   "execution_count": 206,
   "metadata": {},
   "outputs": [
    {
     "data": {
      "text/plain": [
       "260"
      ]
     },
     "execution_count": 206,
     "metadata": {},
     "output_type": "execute_result"
    }
   ],
   "source": [
    "len(df_nan_dup.drop_duplicates())"
   ]
  },
  {
   "cell_type": "markdown",
   "metadata": {},
   "source": [
    "Interestingly, the share of the \"twins\", i.e. entries with duplicate combinations of values across all the parameters, besides `days_employed` and `total_income` variables, in the \"complete\" data subset is appr. 15.5%."
   ]
  },
  {
   "cell_type": "code",
   "execution_count": 207,
   "metadata": {},
   "outputs": [
    {
     "data": {
      "text/plain": [
       "0.15544416309234665"
      ]
     },
     "execution_count": 207,
     "metadata": {},
     "output_type": "execute_result"
    }
   ],
   "source": [
    "# define a list of columns we aim to check duplicates on\n",
    "dup_check_nn = ['children', 'dob_years', 'education', 'family_status', 'gender', 'income_type', 'debt', 'purpose']\n",
    "df_nn_dup = df_nn[df_nn.duplicated(dup_check_nn)]\n",
    "len(df_nn_dup)/len(df_nn)"
   ]
  },
  {
   "cell_type": "markdown",
   "metadata": {},
   "source": [
    "[Back to Contents](#back)"
   ]
  },
  {
   "cell_type": "markdown",
   "metadata": {},
   "source": [
    "### Task 9. Intermediate conclusions on duplicates  <a id='duplicates_intermediate'></a>\n",
    "\n",
    "During the [initial research on the missing values](#missing_values), we have seen that there were two columns with similar values in our dataset, `education` and `purpose`. The latter one we have treated by grouping purposes into groups and adding correposnding colum; to treat the former one, we have applied str.lower() method to the column. Across the variables we did not find duplicate values for the subset for which there are no missing values, and eleborated on the fact that we cannot drop seemingly duplicate entries, since one cannot extract enough information from the given parameters, to conclude that they belong to the same customer. The opposite is true, it follows [from the previous part](#duplicates2), that we should assume those entries to actually belong to different customers.\n",
    "\n",
    "\n",
    "[Back to Contents](#back)"
   ]
  },
  {
   "cell_type": "markdown",
   "metadata": {},
   "source": [
    "### Task 10. Restoring missing values in `total_income` <a id='restoring_missing_values1'></a>\n",
    "\n"
   ]
  },
  {
   "cell_type": "markdown",
   "metadata": {},
   "source": [
    "To restore the missing values in total_income we will analyze the income distribution in our \"complete' data subset and we will do this for age groups (which we have [already constructed](#missing_values_part2)), gender, and education (which we have [fixed](#duplicates1)), drawing upon the already common knowledge that those are the variables having the most impact on the income level: years of education are thought to have positive impact, women are still paid less, even in high-tech, and there are different periods of life when people can have more income or less, depending in which period they find themselves. We will check our assumtion that the median will comprise a better indicator for `total_income` than the mean (income typically has more issues with outliers). Then, we will extract median `total_income` values for each of the resulting sub-categories (we will use the more granular age group, `age_group7`, for more accurate estimation). Then, we will replace missing values with the mean or median using the fillna() method.\n"
   ]
  },
  {
   "cell_type": "markdown",
   "metadata": {},
   "source": [
    "Let's recap on the table that only has data without missing values."
   ]
  },
  {
   "cell_type": "code",
   "execution_count": 208,
   "metadata": {},
   "outputs": [
    {
     "data": {
      "text/plain": [
       "19351"
      ]
     },
     "execution_count": 208,
     "metadata": {},
     "output_type": "execute_result"
    }
   ],
   "source": [
    "# Create a table without missing values and print a few of its rows to make sure it looks fine\n",
    "df_nn = df.dropna(subset=['days_employed'])\n",
    "# check once again that the initial length remained the same\n",
    "len(df_nn)"
   ]
  },
  {
   "cell_type": "markdown",
   "metadata": {},
   "source": [
    "Let's check the mean and the median values of `total_income` for the whole subset."
   ]
  },
  {
   "cell_type": "code",
   "execution_count": 209,
   "metadata": {},
   "outputs": [
    {
     "data": {
      "text/html": [
       "<div>\n",
       "<style scoped>\n",
       "    .dataframe tbody tr th:only-of-type {\n",
       "        vertical-align: middle;\n",
       "    }\n",
       "\n",
       "    .dataframe tbody tr th {\n",
       "        vertical-align: top;\n",
       "    }\n",
       "\n",
       "    .dataframe thead th {\n",
       "        text-align: right;\n",
       "    }\n",
       "</style>\n",
       "<table border=\"1\" class=\"dataframe\">\n",
       "  <thead>\n",
       "    <tr style=\"text-align: right;\">\n",
       "      <th></th>\n",
       "      <th>total_income</th>\n",
       "    </tr>\n",
       "  </thead>\n",
       "  <tbody>\n",
       "    <tr>\n",
       "      <th>mean</th>\n",
       "      <td>26787.568355</td>\n",
       "    </tr>\n",
       "    <tr>\n",
       "      <th>median</th>\n",
       "      <td>23202.870000</td>\n",
       "    </tr>\n",
       "  </tbody>\n",
       "</table>\n",
       "</div>"
      ],
      "text/plain": [
       "        total_income\n",
       "mean    26787.568355\n",
       "median  23202.870000"
      ]
     },
     "execution_count": 209,
     "metadata": {},
     "output_type": "execute_result"
    }
   ],
   "source": [
    "# Look at the mean values for income based on your identified factors\n",
    "col = 'total_income'\n",
    "f1 = 'mean'\n",
    "f2 = 'median'\n",
    "income_stat= df_nn.agg({col:[f1, f2]})\n",
    "income_stat"
   ]
  },
  {
   "cell_type": "code",
   "execution_count": 210,
   "metadata": {},
   "outputs": [
    {
     "data": {
      "text/plain": [
       "15.44"
      ]
     },
     "execution_count": 210,
     "metadata": {},
     "output_type": "execute_result"
    }
   ],
   "source": [
    "# calculate the share of difference\n",
    "((income_stat[col][f1]-income_stat[col][f2])/(income_stat[col][f2]))//0.0001/100"
   ]
  },
  {
   "cell_type": "markdown",
   "metadata": {},
   "source": [
    "The difference is above 15%; thus, we can conclude that there are plenty of outliers and using the median will be a better option."
   ]
  },
  {
   "cell_type": "markdown",
   "metadata": {},
   "source": [
    "Let's make a quick statistical check to be sure that there are no unaccounted artefacts in the distribution of the `total_income` variable:"
   ]
  },
  {
   "cell_type": "code",
   "execution_count": 211,
   "metadata": {},
   "outputs": [
    {
     "data": {
      "text/plain": [
       "count     19351.000000\n",
       "mean      26787.568355\n",
       "std       16475.450632\n",
       "min        3306.762000\n",
       "25%       16488.504500\n",
       "50%       23202.870000\n",
       "75%       32549.611000\n",
       "max      362496.645000\n",
       "Name: total_income, dtype: float64"
      ]
     },
     "execution_count": 211,
     "metadata": {},
     "output_type": "execute_result"
    }
   ],
   "source": [
    "df['total_income'].describe()"
   ]
  },
  {
   "cell_type": "markdown",
   "metadata": {},
   "source": [
    "To get some sense of the numbers for specific sub-groups, let's calculate the median values of total_income for 20 to 29 age group over all education categories and gender:"
   ]
  },
  {
   "cell_type": "code",
   "execution_count": 212,
   "metadata": {},
   "outputs": [
    {
     "data": {
      "text/html": [
       "<div>\n",
       "<style scoped>\n",
       "    .dataframe tbody tr th:only-of-type {\n",
       "        vertical-align: middle;\n",
       "    }\n",
       "\n",
       "    .dataframe tbody tr th {\n",
       "        vertical-align: top;\n",
       "    }\n",
       "\n",
       "    .dataframe thead th {\n",
       "        text-align: right;\n",
       "    }\n",
       "</style>\n",
       "<table border=\"1\" class=\"dataframe\">\n",
       "  <thead>\n",
       "    <tr style=\"text-align: right;\">\n",
       "      <th></th>\n",
       "      <th>education</th>\n",
       "      <th>gender</th>\n",
       "      <th>total_income</th>\n",
       "    </tr>\n",
       "  </thead>\n",
       "  <tbody>\n",
       "    <tr>\n",
       "      <th>0</th>\n",
       "      <td>bachelor's degree</td>\n",
       "      <td>F</td>\n",
       "      <td>23481.1275</td>\n",
       "    </tr>\n",
       "    <tr>\n",
       "      <th>1</th>\n",
       "      <td>bachelor's degree</td>\n",
       "      <td>M</td>\n",
       "      <td>30717.2190</td>\n",
       "    </tr>\n",
       "    <tr>\n",
       "      <th>2</th>\n",
       "      <td>primary education</td>\n",
       "      <td>F</td>\n",
       "      <td>17781.3660</td>\n",
       "    </tr>\n",
       "    <tr>\n",
       "      <th>3</th>\n",
       "      <td>primary education</td>\n",
       "      <td>M</td>\n",
       "      <td>27933.8285</td>\n",
       "    </tr>\n",
       "    <tr>\n",
       "      <th>4</th>\n",
       "      <td>secondary education</td>\n",
       "      <td>F</td>\n",
       "      <td>18130.7060</td>\n",
       "    </tr>\n",
       "    <tr>\n",
       "      <th>5</th>\n",
       "      <td>secondary education</td>\n",
       "      <td>M</td>\n",
       "      <td>24662.6090</td>\n",
       "    </tr>\n",
       "    <tr>\n",
       "      <th>6</th>\n",
       "      <td>some college</td>\n",
       "      <td>F</td>\n",
       "      <td>19925.4750</td>\n",
       "    </tr>\n",
       "    <tr>\n",
       "      <th>7</th>\n",
       "      <td>some college</td>\n",
       "      <td>M</td>\n",
       "      <td>26768.9325</td>\n",
       "    </tr>\n",
       "    <tr>\n",
       "      <th>8</th>\n",
       "      <td>some college</td>\n",
       "      <td>XNA</td>\n",
       "      <td>32624.8250</td>\n",
       "    </tr>\n",
       "  </tbody>\n",
       "</table>\n",
       "</div>"
      ],
      "text/plain": [
       "             education gender  total_income\n",
       "0    bachelor's degree      F    23481.1275\n",
       "1    bachelor's degree      M    30717.2190\n",
       "2    primary education      F    17781.3660\n",
       "3    primary education      M    27933.8285\n",
       "4  secondary education      F    18130.7060\n",
       "5  secondary education      M    24662.6090\n",
       "6         some college      F    19925.4750\n",
       "7         some college      M    26768.9325\n",
       "8         some college    XNA    32624.8250"
      ]
     },
     "execution_count": 212,
     "metadata": {},
     "output_type": "execute_result"
    }
   ],
   "source": [
    "# getting a DataFrame of median values for the age group 20-29\n",
    "# we avoid setting multi-index by passing “as_index=False” to the groupby operation\n",
    "median_20_29 = pd.DataFrame(df_nn[df_nn['age_group7']=='20-29'].sort_values(by='age_group7').groupby(['education', 'gender'], as_index=False)['total_income'].agg('median'))\n",
    "median_20_29"
   ]
  },
  {
   "cell_type": "markdown",
   "metadata": {},
   "source": [
    "Let's retrieve specific median total income value, for example for the sub-group of women with primary education (aged 20 to 29 in our example):"
   ]
  },
  {
   "cell_type": "code",
   "execution_count": 213,
   "metadata": {},
   "outputs": [
    {
     "data": {
      "text/plain": [
       "2    17781.366\n",
       "Name: total_income, dtype: float64"
      ]
     },
     "execution_count": 213,
     "metadata": {},
     "output_type": "execute_result"
    }
   ],
   "source": [
    "median_20_29[(median_20_29['education']=='primary education') & (median_20_29['gender'] == 'F')]['total_income']"
   ]
  },
  {
   "cell_type": "markdown",
   "metadata": {},
   "source": [
    "In this way, we are able to match between a sub-group and an aggregate stats function value for this sub-group. As a side note, we see a tremendous difference in the income levels for women and men."
   ]
  },
  {
   "cell_type": "markdown",
   "metadata": {},
   "source": [
    "Based on the example above, we will define a function, called `sub_group_stat`, which will filter sub-groups of interest from the subset without missing data, calculate the values of an aggregate stats function (median value in our case) on particular column, `total_income` in our case, and fill in the missing values for the same sub-groups in the initial dataset with corresponding aggregated values."
   ]
  },
  {
   "cell_type": "code",
   "execution_count": 214,
   "metadata": {},
   "outputs": [],
   "source": [
    "\"\"\"\n",
    "The sub_group_stat() function filters a sub-group from the subset without missing data,\n",
    "calculates the median value for particular numeric column, `total_income` in our case,\n",
    "and replaces the missing values for the same sub-group in the initial dataset with this median value.\n",
    "\n",
    "The function takes 4 position paramaters:\n",
    " - df - the DataFrame of interest, DataFrame;\n",
    " - group_list - list of columns for grouping, for example:\n",
    "         ['education','gender','age_group7'];\n",
    " - column - the column for which the stats function should be calculates, str;\n",
    " - func - the requested stats function, str.\n",
    " \n",
    "The function returns two DataFrames:\n",
    " - initial dataset with restored values for column;\n",
    " - func_df - a DataFrame with func values for every sub-group.\n",
    "\n",
    "Example of func_df DataFrame: median_df output for group_list = ['education', 'gender', 'age_group7']:\n",
    "        education \tgender \tage_group7 \ttotal_income\n",
    "    0 \tbachelor's degree \tF \t20-29 \t23481.1275\n",
    "    1 \tbachelor's degree \tF \t30-39 \t26205.4365\n",
    "    2 \tbachelor's degree \tF \t40-49 \t27616.3670\n",
    "    3 \tbachelor's degree \tF \t50-59 \t27112.8490\n",
    "    4 \tbachelor's degree \tF \t60-69 \t24754.4010\n",
    "    ...\n",
    "\n",
    "\"\"\"\n",
    "\n",
    "def sub_group_stat(df, group_list, column, func):\n",
    "    import pandas as pd\n",
    "    \n",
    "    # the subset without NaNs in column\n",
    "    df_nn = df.dropna(subset=[column])\n",
    "    # number of columns to group by\n",
    "    gl = len(group_list)\n",
    "    \n",
    "    # calculate a DataFrame with func values for every sub-group\n",
    "    # consists of Series on columns from group_list + the resulting column after applying func on column\n",
    "    func_df = pd.DataFrame(df_nn.groupby(group_list, as_index=False)[column].agg(func))\n",
    "   \n",
    "        \n",
    "    # for each row of func_df, the DataFrame with sub-groups and func values for every sub-group\n",
    "    # e.g. [\"bachelor's degree\", 'F', '20-29', 23481.1275]\n",
    "    for i in range(0,len(func_df)):\n",
    "        #the starting subset of all entries with missing values in column\n",
    "        filtered_df = df[df[column].isna()]\n",
    "        # filter entries with the same set of parameters as in the current sub-group i\n",
    "        for j in range(0,gl):\n",
    "            filter_val = func_df.iloc[i].to_list()[j]\n",
    "            filtered_df = filtered_df[filtered_df[group_list[j]]==filter_val] # first three el's of the row i list\n",
    "        # fill in missing values with the func column value for the current sub-group i\n",
    "        filtered_df[column] = filtered_df[column].fillna(func_df.iloc[i].to_list()[-1]) #the last el of the row i list\n",
    "        # append the resulting DataFrame to the intial subset without NaNs\n",
    "        df_nn = df_nn.append(filtered_df, ignore_index=True)\n",
    "    \n",
    "    # currently df_nn has all the missing values (for column variable) filled in\n",
    "    return df_nn,func_df"
   ]
  },
  {
   "cell_type": "markdown",
   "metadata": {},
   "source": [
    "Now we can apply the `sub_group_stat()` function for the `total_income` column."
   ]
  },
  {
   "cell_type": "code",
   "execution_count": 215,
   "metadata": {},
   "outputs": [],
   "source": [
    "# the list of columns to group by\n",
    "group_list = ['education','gender','age_group7']\n",
    "column = 'total_income'\n",
    "func = 'median'\n",
    "\n",
    "# we create a new DataFrame to not interfere with the initial dataset\n",
    "df_full_income,func_df = sub_group_stat(df, group_list,column,func)"
   ]
  },
  {
   "cell_type": "markdown",
   "metadata": {},
   "source": [
    "Now we can check whether there are missing values left in the `total_income` column:"
   ]
  },
  {
   "cell_type": "code",
   "execution_count": 216,
   "metadata": {},
   "outputs": [
    {
     "name": "stdout",
     "output_type": "stream",
     "text": [
      "<class 'pandas.core.frame.DataFrame'>\n",
      "RangeIndex: 21525 entries, 0 to 21524\n",
      "Data columns (total 15 columns):\n",
      " #   Column            Non-Null Count  Dtype  \n",
      "---  ------            --------------  -----  \n",
      " 0   children          21525 non-null  int64  \n",
      " 1   days_employed     19351 non-null  float64\n",
      " 2   dob_years         21525 non-null  int64  \n",
      " 3   education         21525 non-null  object \n",
      " 4   education_id      21525 non-null  int64  \n",
      " 5   family_status     21525 non-null  object \n",
      " 6   family_status_id  21525 non-null  int64  \n",
      " 7   gender            21525 non-null  object \n",
      " 8   income_type       21525 non-null  object \n",
      " 9   debt              21525 non-null  int64  \n",
      " 10  total_income      21525 non-null  float64\n",
      " 11  purpose           21525 non-null  object \n",
      " 12  age_group7        21525 non-null  object \n",
      " 13  age_group5        21525 non-null  object \n",
      " 14  purpose_group     21525 non-null  object \n",
      "dtypes: float64(2), int64(5), object(8)\n",
      "memory usage: 2.5+ MB\n"
     ]
    }
   ],
   "source": [
    "df_full_income.info()"
   ]
  },
  {
   "cell_type": "markdown",
   "metadata": {},
   "source": [
    "The total number of values in the `total_income` column matches the number of values in other columns, i.e. all missing values in total_income are restored."
   ]
  },
  {
   "cell_type": "markdown",
   "metadata": {},
   "source": [
    "N.B. We can even print out and see how `func_df` looks for the above set of parameters."
   ]
  },
  {
   "cell_type": "code",
   "execution_count": 217,
   "metadata": {
    "scrolled": true
   },
   "outputs": [
    {
     "data": {
      "text/html": [
       "<div>\n",
       "<style scoped>\n",
       "    .dataframe tbody tr th:only-of-type {\n",
       "        vertical-align: middle;\n",
       "    }\n",
       "\n",
       "    .dataframe tbody tr th {\n",
       "        vertical-align: top;\n",
       "    }\n",
       "\n",
       "    .dataframe thead th {\n",
       "        text-align: right;\n",
       "    }\n",
       "</style>\n",
       "<table border=\"1\" class=\"dataframe\">\n",
       "  <thead>\n",
       "    <tr style=\"text-align: right;\">\n",
       "      <th></th>\n",
       "      <th>education</th>\n",
       "      <th>gender</th>\n",
       "      <th>age_group7</th>\n",
       "      <th>total_income</th>\n",
       "    </tr>\n",
       "  </thead>\n",
       "  <tbody>\n",
       "    <tr>\n",
       "      <th>0</th>\n",
       "      <td>bachelor's degree</td>\n",
       "      <td>F</td>\n",
       "      <td>20-29</td>\n",
       "      <td>23481.1275</td>\n",
       "    </tr>\n",
       "    <tr>\n",
       "      <th>1</th>\n",
       "      <td>bachelor's degree</td>\n",
       "      <td>F</td>\n",
       "      <td>30-39</td>\n",
       "      <td>26205.4365</td>\n",
       "    </tr>\n",
       "    <tr>\n",
       "      <th>2</th>\n",
       "      <td>bachelor's degree</td>\n",
       "      <td>F</td>\n",
       "      <td>40-49</td>\n",
       "      <td>27616.3670</td>\n",
       "    </tr>\n",
       "    <tr>\n",
       "      <th>3</th>\n",
       "      <td>bachelor's degree</td>\n",
       "      <td>F</td>\n",
       "      <td>50-59</td>\n",
       "      <td>27112.8490</td>\n",
       "    </tr>\n",
       "    <tr>\n",
       "      <th>4</th>\n",
       "      <td>bachelor's degree</td>\n",
       "      <td>F</td>\n",
       "      <td>60-69</td>\n",
       "      <td>24754.4010</td>\n",
       "    </tr>\n",
       "    <tr>\n",
       "      <th>...</th>\n",
       "      <td>...</td>\n",
       "      <td>...</td>\n",
       "      <td>...</td>\n",
       "      <td>...</td>\n",
       "    </tr>\n",
       "    <tr>\n",
       "      <th>56</th>\n",
       "      <td>some college</td>\n",
       "      <td>M</td>\n",
       "      <td>50-59</td>\n",
       "      <td>29405.0380</td>\n",
       "    </tr>\n",
       "    <tr>\n",
       "      <th>57</th>\n",
       "      <td>some college</td>\n",
       "      <td>M</td>\n",
       "      <td>60-69</td>\n",
       "      <td>32316.3535</td>\n",
       "    </tr>\n",
       "    <tr>\n",
       "      <th>58</th>\n",
       "      <td>some college</td>\n",
       "      <td>M</td>\n",
       "      <td>above 70</td>\n",
       "      <td>19946.7950</td>\n",
       "    </tr>\n",
       "    <tr>\n",
       "      <th>59</th>\n",
       "      <td>some college</td>\n",
       "      <td>M</td>\n",
       "      <td>under 20</td>\n",
       "      <td>27773.5020</td>\n",
       "    </tr>\n",
       "    <tr>\n",
       "      <th>60</th>\n",
       "      <td>some college</td>\n",
       "      <td>XNA</td>\n",
       "      <td>20-29</td>\n",
       "      <td>32624.8250</td>\n",
       "    </tr>\n",
       "  </tbody>\n",
       "</table>\n",
       "<p>61 rows × 4 columns</p>\n",
       "</div>"
      ],
      "text/plain": [
       "            education gender age_group7  total_income\n",
       "0   bachelor's degree      F      20-29    23481.1275\n",
       "1   bachelor's degree      F      30-39    26205.4365\n",
       "2   bachelor's degree      F      40-49    27616.3670\n",
       "3   bachelor's degree      F      50-59    27112.8490\n",
       "4   bachelor's degree      F      60-69    24754.4010\n",
       "..                ...    ...        ...           ...\n",
       "56       some college      M      50-59    29405.0380\n",
       "57       some college      M      60-69    32316.3535\n",
       "58       some college      M   above 70    19946.7950\n",
       "59       some college      M   under 20    27773.5020\n",
       "60       some college    XNA      20-29    32624.8250\n",
       "\n",
       "[61 rows x 4 columns]"
      ]
     },
     "execution_count": 217,
     "metadata": {},
     "output_type": "execute_result"
    }
   ],
   "source": [
    "func_df"
   ]
  },
  {
   "cell_type": "markdown",
   "metadata": {},
   "source": [
    "[Back to Contents](#back)"
   ]
  },
  {
   "cell_type": "markdown",
   "metadata": {},
   "source": [
    "###  Task 11. Restoring values in `days_employed` <a id='restoring_missing_values2'></a>"
   ]
  },
  {
   "cell_type": "markdown",
   "metadata": {},
   "source": [
    "In general, to restore the missing values in `days_employed` we will analyze the distribution for our \"complete' data subset and we will do this while taking into account age groups (which we have [already constructed](#missing_values_part2)), gender, family status, and children. Similarly to the case of `total_income`, we are drawing upon the already common knowledge that these are the variables having the most impact on the employement status: women have still to spend more time at home with children, married women can have more confidence in their financial future, and thus, work less, and there are different periods of life when people can have more incentives to work or less, depending in which period they find themselves. We will still employ the median as a better alternative to the mean, since naturally there should be high variance in the number of days employed. We should extract median `days_employed` values for each of the resulting sub-categories and then replace missing values with the median using the fillna() method.\n"
   ]
  },
  {
   "cell_type": "markdown",
   "metadata": {},
   "source": [
    "Nevertheless, from the [prior investigation](#data_overview_exploration), we know that there are some issues with the values in this column. Thus, we would better start by taking a look at the basic stats:"
   ]
  },
  {
   "cell_type": "code",
   "execution_count": 218,
   "metadata": {},
   "outputs": [
    {
     "data": {
      "text/plain": [
       "count     19351.000000\n",
       "mean      63046.497661\n",
       "std      140827.311974\n",
       "min      -18388.949901\n",
       "25%       -2747.423625\n",
       "50%       -1203.369529\n",
       "75%        -291.095954\n",
       "max      401755.400475\n",
       "Name: days_employed, dtype: float64"
      ]
     },
     "execution_count": 218,
     "metadata": {},
     "output_type": "execute_result"
    }
   ],
   "source": [
    "df['days_employed'].describe()"
   ]
  },
  {
   "cell_type": "markdown",
   "metadata": {},
   "source": [
    "The stats are a kind of unexpected for a variable which meaning is days of experience. Let's take a closer look at the distribution:"
   ]
  },
  {
   "cell_type": "code",
   "execution_count": 219,
   "metadata": {},
   "outputs": [
    {
     "data": {
      "image/png": "[encoded data removed]",
      "text/plain": [
       "<Figure size 432x288 with 1 Axes>"
      ]
     },
     "metadata": {
      "needs_background": "light"
     },
     "output_type": "display_data"
    }
   ],
   "source": [
    "ax = df['days_employed'].hist()"
   ]
  },
  {
   "cell_type": "markdown",
   "metadata": {},
   "source": [
    "We can see that there is a subset of exaggerated values, above 300000 of the days of work experience, and another subset of more reasonable values. Let's make a zoom in into both of these subsets."
   ]
  },
  {
   "cell_type": "code",
   "execution_count": 220,
   "metadata": {},
   "outputs": [
    {
     "data": {
      "image/png": "[encoded data removed]",
      "text/plain": [
       "<Figure size 432x288 with 1 Axes>"
      ]
     },
     "metadata": {
      "needs_background": "light"
     },
     "output_type": "display_data"
    }
   ],
   "source": [
    "ax = df[df['days_employed']<100000]['days_employed'].hist(bins = 20)"
   ]
  },
  {
   "cell_type": "code",
   "execution_count": 221,
   "metadata": {},
   "outputs": [
    {
     "data": {
      "text/plain": [
       "count    15906.000000\n",
       "mean     -2353.015932\n",
       "std       2304.243851\n",
       "min     -18388.949901\n",
       "25%      -3157.480084\n",
       "50%      -1630.019381\n",
       "75%       -756.371964\n",
       "max        -24.141633\n",
       "Name: days_employed, dtype: float64"
      ]
     },
     "execution_count": 221,
     "metadata": {},
     "output_type": "execute_result"
    }
   ],
   "source": [
    "df[df['days_employed']<100000]['days_employed'].describe()"
   ]
  },
  {
   "cell_type": "markdown",
   "metadata": {},
   "source": [
    "We can see that this subset includes 15906 data points (appr. 82%) and has a realistic distribution, though all these values are below zero, while the maximum absolute value (see the stats above) is 18389 days, which means ~50 years of experience. The reason for negative values can be just the opposite direction of the substraction, start day minus reference date instead theother way around."
   ]
  },
  {
   "cell_type": "markdown",
   "metadata": {},
   "source": [
    "Now, to the second subset."
   ]
  },
  {
   "cell_type": "code",
   "execution_count": 222,
   "metadata": {},
   "outputs": [
    {
     "data": {
      "image/png": "[encoded data removed]",
      "text/plain": [
       "<Figure size 432x288 with 1 Axes>"
      ]
     },
     "metadata": {
      "needs_background": "light"
     },
     "output_type": "display_data"
    }
   ],
   "source": [
    "ax = df[df['days_employed']>=100000]['days_employed'].hist(bins = 20)"
   ]
  },
  {
   "cell_type": "code",
   "execution_count": 223,
   "metadata": {},
   "outputs": [
    {
     "data": {
      "text/plain": [
       "count      3445.000000\n",
       "mean     365004.309916\n",
       "std       21075.016396\n",
       "min      328728.720605\n",
       "25%      346639.413916\n",
       "50%      365213.306266\n",
       "75%      383246.444219\n",
       "max      401755.400475\n",
       "Name: days_employed, dtype: float64"
      ]
     },
     "execution_count": 223,
     "metadata": {},
     "output_type": "execute_result"
    }
   ],
   "source": [
    "df[df['days_employed']>=100000]['days_employed'].describe()"
   ]
  },
  {
   "cell_type": "markdown",
   "metadata": {},
   "source": [
    "This subset has some kind of uniform distribution with the range between appr. 328728 and 401755 days (?)."
   ]
  },
  {
   "cell_type": "markdown",
   "metadata": {},
   "source": [
    "Let's take a quick look at the distributions of other variables for these two subsets:"
   ]
  },
  {
   "cell_type": "code",
   "execution_count": 224,
   "metadata": {},
   "outputs": [
    {
     "data": {
      "image/png": "[encoded data removed]",
      "text/plain": [
       "<Figure size 432x288 with 9 Axes>"
      ]
     },
     "metadata": {
      "needs_background": "light"
     },
     "output_type": "display_data"
    }
   ],
   "source": [
    "ax = df[df['days_employed']<100000].hist()"
   ]
  },
  {
   "cell_type": "code",
   "execution_count": 225,
   "metadata": {},
   "outputs": [
    {
     "data": {
      "image/png": "[encoded data removed]",
      "text/plain": [
       "<Figure size 432x288 with 9 Axes>"
      ]
     },
     "metadata": {
      "needs_background": "light"
     },
     "output_type": "display_data"
    }
   ],
   "source": [
    "ax = df[df['days_employed']>=100000].hist()"
   ]
  },
  {
   "cell_type": "markdown",
   "metadata": {},
   "source": [
    "There is some significant difference in the distribution of ages for these two subsets. Let's take a look specifically at the `income_type` variable, which we do not see among the generic histograms prinout, probably due to long names of the categories."
   ]
  },
  {
   "cell_type": "code",
   "execution_count": 226,
   "metadata": {},
   "outputs": [
    {
     "data": {
      "image/png": "[encoded data removed]",
      "text/plain": [
       "<Figure size 432x288 with 1 Axes>"
      ]
     },
     "metadata": {
      "needs_background": "light"
     },
     "output_type": "display_data"
    }
   ],
   "source": [
    "ax = df[df['days_employed']<100000]['income_type'].hist()"
   ]
  },
  {
   "cell_type": "code",
   "execution_count": 227,
   "metadata": {},
   "outputs": [
    {
     "data": {
      "image/png": "[encoded data removed]",
      "text/plain": [
       "<Figure size 432x288 with 1 Axes>"
      ]
     },
     "metadata": {
      "needs_background": "light"
     },
     "output_type": "display_data"
    }
   ],
   "source": [
    "ax = df[df['days_employed']>=100000]['income_type'].hist()"
   ]
  },
  {
   "cell_type": "markdown",
   "metadata": {},
   "source": [
    "Now we see that the whole subset of strange day of experience values is about retiree customers, while the \"regular\" subset does not have retiree customers at all. We still do not have any ideas of how the days of experiance have turned into eternity, but at least technically we can employ this finding for filling in missing values, namely we should add the `income_type` variable to the list of columns to group by when applying the already built function for calculating aggregate stats function values for customized customer sub-groups. <a id='income_type_rename'></a> But before we proceed, we should check the `income_type` column for any issues."
   ]
  },
  {
   "cell_type": "markdown",
   "metadata": {},
   "source": [
    "The values for it are as follows:"
   ]
  },
  {
   "cell_type": "code",
   "execution_count": 228,
   "metadata": {
    "scrolled": true
   },
   "outputs": [
    {
     "data": {
      "text/plain": [
       "employee                       11119\n",
       "business                        5085\n",
       "retiree                         3856\n",
       "civil servant                   1459\n",
       "unemployed                         2\n",
       "entrepreneur                       2\n",
       "student                            1\n",
       "paternity / maternity leave        1\n",
       "Name: income_type, dtype: int64"
      ]
     },
     "execution_count": 228,
     "metadata": {},
     "output_type": "execute_result"
    }
   ],
   "source": [
    "df_full_income['income_type'].value_counts()"
   ]
  },
  {
   "cell_type": "markdown",
   "metadata": {},
   "source": [
    "There is one category that we can definitely change and add to another category, entrepreneur, regarding the rest we should consult the loan division."
   ]
  },
  {
   "cell_type": "code",
   "execution_count": 229,
   "metadata": {
    "scrolled": true
   },
   "outputs": [],
   "source": [
    "# replace entreprenuer category with business category in the `income_type` column\n",
    "df_full_income['income_type'] = df_full_income['income_type'].replace(to_replace='entrepreneur', value='business')"
   ]
  },
  {
   "cell_type": "code",
   "execution_count": 230,
   "metadata": {},
   "outputs": [
    {
     "data": {
      "text/plain": [
       "employee                       11119\n",
       "business                        5087\n",
       "retiree                         3856\n",
       "civil servant                   1459\n",
       "unemployed                         2\n",
       "student                            1\n",
       "paternity / maternity leave        1\n",
       "Name: income_type, dtype: int64"
      ]
     },
     "execution_count": 230,
     "metadata": {},
     "output_type": "execute_result"
    }
   ],
   "source": [
    "# Check the result - make sure it's fixed\n",
    "df_full_income['income_type'].value_counts()"
   ]
  },
  {
   "cell_type": "markdown",
   "metadata": {},
   "source": [
    "Let's update the `group_list` parameter apply the function to the `days_employed` column and check whether all the missing values are restored."
   ]
  },
  {
   "cell_type": "code",
   "execution_count": 231,
   "metadata": {
    "pycharm": {
     "name": "#%%\n"
    }
   },
   "outputs": [],
   "source": [
    "# the list of columns to group by\n",
    "group_list = ['children','family_status','gender','income_type','age_group7']\n",
    "column = 'days_employed'\n",
    "func = 'median'\n",
    "\n",
    "# a new DataFrame on top of the previously created dataset with restored total_income values\n",
    "df_full_days_empl,func_df = sub_group_stat(df_full_income, group_list,column,func)"
   ]
  },
  {
   "cell_type": "code",
   "execution_count": 232,
   "metadata": {},
   "outputs": [
    {
     "name": "stdout",
     "output_type": "stream",
     "text": [
      "<class 'pandas.core.frame.DataFrame'>\n",
      "RangeIndex: 21501 entries, 0 to 21500\n",
      "Data columns (total 15 columns):\n",
      " #   Column            Non-Null Count  Dtype  \n",
      "---  ------            --------------  -----  \n",
      " 0   children          21501 non-null  int64  \n",
      " 1   days_employed     21501 non-null  float64\n",
      " 2   dob_years         21501 non-null  int64  \n",
      " 3   education         21501 non-null  object \n",
      " 4   education_id      21501 non-null  int64  \n",
      " 5   family_status     21501 non-null  object \n",
      " 6   family_status_id  21501 non-null  int64  \n",
      " 7   gender            21501 non-null  object \n",
      " 8   income_type       21501 non-null  object \n",
      " 9   debt              21501 non-null  int64  \n",
      " 10  total_income      21501 non-null  float64\n",
      " 11  purpose           21501 non-null  object \n",
      " 12  age_group7        21501 non-null  object \n",
      " 13  age_group5        21501 non-null  object \n",
      " 14  purpose_group     21501 non-null  object \n",
      "dtypes: float64(2), int64(5), object(8)\n",
      "memory usage: 2.5+ MB\n"
     ]
    }
   ],
   "source": [
    "df_full_days_empl.info()"
   ]
  },
  {
   "cell_type": "markdown",
   "metadata": {},
   "source": [
    "The total number of entries in the resulting DataFrame is less then it should be. Given the way the applied `sub_group_stat()` function works, the reason is that not for every sub-group in the \"missing\" data subsets there is corresponding sub-group in the \"complete\" data subset based on which the median is supposed to be calculated. In this particular case, we do not have `days_employed` filling values for some entries of the initial dataset.\n",
    "\n",
    " <a id='children_bool'></a>\n",
    " \n",
    "To try to fix it, we can assume that the high granularity of calculations results in such an outcome, but grouping by less columns, e.g. leaving out 'children' or/and 'family_status', while being reasonable from the statistical point of view, does not result in complete coverage either. Alternatively, we can limit the number of categories in the `children` variable up to boolean value (either \"have children\" or \"do not have children\"). Let's check it out.\n"
   ]
  },
  {
   "cell_type": "markdown",
   "metadata": {},
   "source": [
    "We will define a categorization function called `children_group()` which will exhibit the already mentioned above behaviour."
   ]
  },
  {
   "cell_type": "markdown",
   "metadata": {},
   "source": [
    "A note on the `children` column: we have seen that there values like -1 (47 entries) and 20 (76 entries) in this column, less than 0.5% of the total number of entries. We will assume that `-1` means no children, as it often happens with positive value variables. We cannot do anything about 20 children, but we will assume that means that the customer indeed has children."
   ]
  },
  {
   "cell_type": "code",
   "execution_count": 233,
   "metadata": {},
   "outputs": [
    {
     "data": {
      "text/plain": [
       " 0     14149\n",
       " 1      4818\n",
       " 2      2055\n",
       " 3       330\n",
       " 20       76\n",
       "-1        47\n",
       " 4        41\n",
       " 5         9\n",
       "Name: children, dtype: int64"
      ]
     },
     "execution_count": 233,
     "metadata": {},
     "output_type": "execute_result"
    }
   ],
   "source": [
    "df['children'].value_counts()"
   ]
  },
  {
   "cell_type": "code",
   "execution_count": 234,
   "metadata": {},
   "outputs": [],
   "source": [
    "def children_group(children):\n",
    "    \"\"\"\n",
    "    The function returns one of the two groups, using the following rules:\n",
    "    —'children' for children > 0\n",
    "    —'no children' for children <= 0\n",
    "    \"\"\"\n",
    "    \n",
    "    if children <= 0: #we assume that `-1` value means no children, as it often happens.\n",
    "        return 'no children'\n",
    "    return 'children' "
   ]
  },
  {
   "cell_type": "code",
   "execution_count": 235,
   "metadata": {},
   "outputs": [
    {
     "data": {
      "text/plain": [
       "no children    14196\n",
       "children        7329\n",
       "Name: children_group, dtype: int64"
      ]
     },
     "execution_count": 235,
     "metadata": {},
     "output_type": "execute_result"
    }
   ],
   "source": [
    "#Adding the children group column to df_full_income DataFrame and checking that no category was left out.\n",
    "df_full_income['children_group'] = df_full_income['children'].apply(children_group)\n",
    "df_full_income['children_group'].value_counts(dropna=False)"
   ]
  },
  {
   "cell_type": "markdown",
   "metadata": {},
   "source": [
    "Now, let's give another try to our missing value filling function:"
   ]
  },
  {
   "cell_type": "code",
   "execution_count": 236,
   "metadata": {},
   "outputs": [],
   "source": [
    "# the list of columns to group by\n",
    "group_list = ['children_group','family_status','gender','income_type','age_group7']\n",
    "column = 'days_employed'\n",
    "func = 'median'\n",
    "\n",
    "# a new DataFrame on top of the previously created dataset with restored total_income values\n",
    "df_full_days_empl,func_df = sub_group_stat(df_full_income, group_list,column,func)"
   ]
  },
  {
   "cell_type": "code",
   "execution_count": 237,
   "metadata": {},
   "outputs": [
    {
     "name": "stdout",
     "output_type": "stream",
     "text": [
      "<class 'pandas.core.frame.DataFrame'>\n",
      "RangeIndex: 21517 entries, 0 to 21516\n",
      "Data columns (total 16 columns):\n",
      " #   Column            Non-Null Count  Dtype  \n",
      "---  ------            --------------  -----  \n",
      " 0   children          21517 non-null  int64  \n",
      " 1   days_employed     21517 non-null  float64\n",
      " 2   dob_years         21517 non-null  int64  \n",
      " 3   education         21517 non-null  object \n",
      " 4   education_id      21517 non-null  int64  \n",
      " 5   family_status     21517 non-null  object \n",
      " 6   family_status_id  21517 non-null  int64  \n",
      " 7   gender            21517 non-null  object \n",
      " 8   income_type       21517 non-null  object \n",
      " 9   debt              21517 non-null  int64  \n",
      " 10  total_income      21517 non-null  float64\n",
      " 11  purpose           21517 non-null  object \n",
      " 12  age_group7        21517 non-null  object \n",
      " 13  age_group5        21517 non-null  object \n",
      " 14  purpose_group     21517 non-null  object \n",
      " 15  children_group    21517 non-null  object \n",
      "dtypes: float64(2), int64(5), object(9)\n",
      "memory usage: 2.6+ MB\n"
     ]
    }
   ],
   "source": [
    "df_full_days_empl.info()"
   ]
  },
  {
   "cell_type": "markdown",
   "metadata": {},
   "source": [
    "Some progress, but still 8 entries with missing values have been dropped. We can try to leave out grouping by family status, if we find that `children_group` and `gender` variables comprise together a sufficient proxy to the need to be more time at home with children:"
   ]
  },
  {
   "cell_type": "code",
   "execution_count": 238,
   "metadata": {},
   "outputs": [],
   "source": [
    "# the list of columns to group by\n",
    "group_list = ['children_group','gender','income_type','age_group7']\n",
    "column = 'days_employed'\n",
    "func = 'median'\n",
    "\n",
    "# a new DataFrame on top of the previously created dataset with restored total_income values\n",
    "df_full,func_df = sub_group_stat(df_full_income, group_list,column,func)"
   ]
  },
  {
   "cell_type": "code",
   "execution_count": 239,
   "metadata": {},
   "outputs": [
    {
     "name": "stdout",
     "output_type": "stream",
     "text": [
      "<class 'pandas.core.frame.DataFrame'>\n",
      "RangeIndex: 21525 entries, 0 to 21524\n",
      "Data columns (total 16 columns):\n",
      " #   Column            Non-Null Count  Dtype  \n",
      "---  ------            --------------  -----  \n",
      " 0   children          21525 non-null  int64  \n",
      " 1   days_employed     21525 non-null  float64\n",
      " 2   dob_years         21525 non-null  int64  \n",
      " 3   education         21525 non-null  object \n",
      " 4   education_id      21525 non-null  int64  \n",
      " 5   family_status     21525 non-null  object \n",
      " 6   family_status_id  21525 non-null  int64  \n",
      " 7   gender            21525 non-null  object \n",
      " 8   income_type       21525 non-null  object \n",
      " 9   debt              21525 non-null  int64  \n",
      " 10  total_income      21525 non-null  float64\n",
      " 11  purpose           21525 non-null  object \n",
      " 12  age_group7        21525 non-null  object \n",
      " 13  age_group5        21525 non-null  object \n",
      " 14  purpose_group     21525 non-null  object \n",
      " 15  children_group    21525 non-null  object \n",
      "dtypes: float64(2), int64(5), object(9)\n",
      "memory usage: 2.6+ MB\n"
     ]
    }
   ],
   "source": [
    "df_full.info()"
   ]
  },
  {
   "cell_type": "markdown",
   "metadata": {},
   "source": [
    "Now we have no entreies with missing values dropped, while coming up with the idea of children presence categorization on the fly."
   ]
  },
  {
   "cell_type": "code",
   "execution_count": 240,
   "metadata": {},
   "outputs": [
    {
     "data": {
      "text/html": [
       "<div>\n",
       "<style scoped>\n",
       "    .dataframe tbody tr th:only-of-type {\n",
       "        vertical-align: middle;\n",
       "    }\n",
       "\n",
       "    .dataframe tbody tr th {\n",
       "        vertical-align: top;\n",
       "    }\n",
       "\n",
       "    .dataframe thead th {\n",
       "        text-align: right;\n",
       "    }\n",
       "</style>\n",
       "<table border=\"1\" class=\"dataframe\">\n",
       "  <thead>\n",
       "    <tr style=\"text-align: right;\">\n",
       "      <th></th>\n",
       "      <th>children</th>\n",
       "      <th>days_employed</th>\n",
       "      <th>dob_years</th>\n",
       "      <th>education</th>\n",
       "      <th>education_id</th>\n",
       "      <th>family_status</th>\n",
       "      <th>family_status_id</th>\n",
       "      <th>gender</th>\n",
       "      <th>income_type</th>\n",
       "      <th>debt</th>\n",
       "      <th>total_income</th>\n",
       "      <th>purpose</th>\n",
       "      <th>age_group7</th>\n",
       "      <th>age_group5</th>\n",
       "      <th>purpose_group</th>\n",
       "      <th>children_group</th>\n",
       "    </tr>\n",
       "  </thead>\n",
       "  <tbody>\n",
       "    <tr>\n",
       "      <th>0</th>\n",
       "      <td>1</td>\n",
       "      <td>-8437.673028</td>\n",
       "      <td>42</td>\n",
       "      <td>bachelor's degree</td>\n",
       "      <td>0</td>\n",
       "      <td>married</td>\n",
       "      <td>0</td>\n",
       "      <td>F</td>\n",
       "      <td>employee</td>\n",
       "      <td>0</td>\n",
       "      <td>40620.102</td>\n",
       "      <td>purchase of the house</td>\n",
       "      <td>40-49</td>\n",
       "      <td>40-54</td>\n",
       "      <td>own housing</td>\n",
       "      <td>children</td>\n",
       "    </tr>\n",
       "  </tbody>\n",
       "</table>\n",
       "</div>"
      ],
      "text/plain": [
       "   children  days_employed  dob_years          education  education_id  \\\n",
       "0         1   -8437.673028         42  bachelor's degree             0   \n",
       "\n",
       "  family_status  family_status_id gender income_type  debt  total_income  \\\n",
       "0       married                 0      F    employee     0     40620.102   \n",
       "\n",
       "                 purpose age_group7 age_group5 purpose_group children_group  \n",
       "0  purchase of the house      40-49      40-54   own housing       children  "
      ]
     },
     "execution_count": 240,
     "metadata": {},
     "output_type": "execute_result"
    }
   ],
   "source": [
    "df_full.head(1)"
   ]
  },
  {
   "cell_type": "markdown",
   "metadata": {},
   "source": [
    "Back to the issues with the `days_employed` column. There is no obvious solution to both of the issues raised. We would definitely have a conversation about it with the loan division: first, to check that our hypothesis about the opposite direction of substitution is correct; second, to get more clues about the retirees and the mean value of 365000 days for `days_employed` variable item. So far, we have restored the missing values based on the existing pattern, we can fix the values alltogether when we come up with a better solution.\n",
    "\n",
    "[Back to Contents](#back)"
   ]
  },
  {
   "cell_type": "markdown",
   "metadata": {},
   "source": [
    "###  Task 12. Final check for missing values for the rest of the variables <a id='restoring_missing_values3'></a>"
   ]
  },
  {
   "cell_type": "markdown",
   "metadata": {},
   "source": [
    "Let's take additional look at the client's age once again. We remember that there was one issue with regard to this variable, namely zero values in 101 rows."
   ]
  },
  {
   "cell_type": "code",
   "execution_count": 241,
   "metadata": {},
   "outputs": [
    {
     "data": {
      "text/plain": [
       "0     101\n",
       "19     14\n",
       "Name: dob_years, dtype: int64"
      ]
     },
     "execution_count": 241,
     "metadata": {},
     "output_type": "execute_result"
    }
   ],
   "source": [
    "df_full[df_full['dob_years']<20]['dob_years'].value_counts()"
   ]
  },
  {
   "cell_type": "markdown",
   "metadata": {},
   "source": [
    "Here we see 101 entries aged zero, which generally means missing value. Let's look at the distributions of other variables for these entries."
   ]
  },
  {
   "cell_type": "code",
   "execution_count": 242,
   "metadata": {},
   "outputs": [
    {
     "data": {
      "image/png": "[encoded data removed]",
      "text/plain": [
       "<Figure size 432x288 with 9 Axes>"
      ]
     },
     "metadata": {
      "needs_background": "light"
     },
     "output_type": "display_data"
    }
   ],
   "source": [
    "ax = df_full[df_full['dob_years']==0].hist()"
   ]
  },
  {
   "cell_type": "code",
   "execution_count": 243,
   "metadata": {},
   "outputs": [
    {
     "data": {
      "image/png": "[encoded data removed]",
      "text/plain": [
       "<Figure size 432x288 with 1 Axes>"
      ]
     },
     "metadata": {
      "needs_background": "light"
     },
     "output_type": "display_data"
    }
   ],
   "source": [
    "ax = df_full[df_full['dob_years']==0]['income_type'].hist()"
   ]
  },
  {
   "cell_type": "markdown",
   "metadata": {},
   "source": [
    "Children, education, family status, debt, income type - everything looks usual, so we can substitute these nulls with median values for some sub-groups. We can apply our function, if we replace the zero values with NaNs and use `income_type`, `education` and `gender` as our proxies:"
   ]
  },
  {
   "cell_type": "code",
   "execution_count": 244,
   "metadata": {},
   "outputs": [
    {
     "data": {
      "text/plain": [
       "19.0    14\n",
       "Name: dob_years, dtype: int64"
      ]
     },
     "execution_count": 244,
     "metadata": {},
     "output_type": "execute_result"
    }
   ],
   "source": [
    "# Replacing zeros to Nans in the `dob_years` column to apply our missing values filling function\n",
    "df_full['dob_years'].replace(0, np.nan, inplace=True)\n",
    "df_full[df_full['dob_years']<20]['dob_years'].value_counts()"
   ]
  },
  {
   "cell_type": "code",
   "execution_count": 245,
   "metadata": {},
   "outputs": [],
   "source": [
    "# Apply the function and check that number of non-nulls is 21524 in each column\n",
    "# the list of columns to group by\n",
    "group_list = ['education','gender','income_type']\n",
    "column = 'dob_years'\n",
    "func = 'median'\n",
    "\n",
    "# we create a new DataFrame to not interfere with the initial dataset\n",
    "df_full,func_df = sub_group_stat(df_full, group_list,column,func)"
   ]
  },
  {
   "cell_type": "code",
   "execution_count": 246,
   "metadata": {},
   "outputs": [
    {
     "name": "stdout",
     "output_type": "stream",
     "text": [
      "<class 'pandas.core.frame.DataFrame'>\n",
      "RangeIndex: 21525 entries, 0 to 21524\n",
      "Data columns (total 16 columns):\n",
      " #   Column            Non-Null Count  Dtype  \n",
      "---  ------            --------------  -----  \n",
      " 0   children          21525 non-null  int64  \n",
      " 1   days_employed     21525 non-null  float64\n",
      " 2   dob_years         21525 non-null  float64\n",
      " 3   education         21525 non-null  object \n",
      " 4   education_id      21525 non-null  int64  \n",
      " 5   family_status     21525 non-null  object \n",
      " 6   family_status_id  21525 non-null  int64  \n",
      " 7   gender            21525 non-null  object \n",
      " 8   income_type       21525 non-null  object \n",
      " 9   debt              21525 non-null  int64  \n",
      " 10  total_income      21525 non-null  float64\n",
      " 11  purpose           21525 non-null  object \n",
      " 12  age_group7        21525 non-null  object \n",
      " 13  age_group5        21525 non-null  object \n",
      " 14  purpose_group     21525 non-null  object \n",
      " 15  children_group    21525 non-null  object \n",
      "dtypes: float64(3), int64(4), object(9)\n",
      "memory usage: 2.6+ MB\n"
     ]
    }
   ],
   "source": [
    "df_full.info()"
   ]
  },
  {
   "cell_type": "markdown",
   "metadata": {},
   "source": [
    "We need to [reassign age groups](#missing_values_part2) now."
   ]
  },
  {
   "cell_type": "code",
   "execution_count": 247,
   "metadata": {},
   "outputs": [],
   "source": [
    "df_full['age_group7'] = df_full['dob_years'].apply(age_group7)\n",
    "df_full['age_group5'] = df_full['dob_years'].apply(age_group5)"
   ]
  },
  {
   "cell_type": "markdown",
   "metadata": {},
   "source": [
    "The next variable will be `family_status`. So far, we have not seen any issues with it, let's check out once again the values for the column to be on the safe side."
   ]
  },
  {
   "cell_type": "code",
   "execution_count": 248,
   "metadata": {},
   "outputs": [
    {
     "data": {
      "text/plain": [
       "married              12380\n",
       "civil partnership     4177\n",
       "unmarried             2813\n",
       "divorced              1195\n",
       "widow / widower        960\n",
       "Name: family_status, dtype: int64"
      ]
     },
     "execution_count": 248,
     "metadata": {},
     "output_type": "execute_result"
    }
   ],
   "source": [
    "df_full['family_status'].value_counts()"
   ]
  },
  {
   "cell_type": "markdown",
   "metadata": {},
   "source": [
    "Indeed, no issues here."
   ]
  },
  {
   "cell_type": "markdown",
   "metadata": {},
   "source": [
    "The next variable is `gender`. Let's see the values for the column."
   ]
  },
  {
   "cell_type": "code",
   "execution_count": 249,
   "metadata": {},
   "outputs": [
    {
     "data": {
      "text/plain": [
       "F      14236\n",
       "M       7288\n",
       "XNA        1\n",
       "Name: gender, dtype: int64"
      ]
     },
     "execution_count": 249,
     "metadata": {},
     "output_type": "execute_result"
    }
   ],
   "source": [
    "df_full['gender'].value_counts()"
   ]
  },
  {
   "cell_type": "markdown",
   "metadata": {},
   "source": [
    "Here we have on entry with the gender other than man or woman; however, we do not have much to do about it.\n",
    "\n",
    "[Back to Contents](#back)"
   ]
  },
  {
   "cell_type": "markdown",
   "metadata": {},
   "source": [
    "### Task 13. Categorization of data <a id='categories'></a>\n",
    "\n",
    "So far we have fixed one categorical variable (`education`), added one for text data (`purpose_group`) and two for numerical data (`age_group` in two versions, and `children_group`), all of them to fix issues with missing values and duplicates. Now ,we need to think what additional categorical variables will be helpful in testing the hypotheses. Let's take a look at the data and review each column once again."
   ]
  },
  {
   "cell_type": "code",
   "execution_count": 250,
   "metadata": {},
   "outputs": [
    {
     "data": {
      "text/html": [
       "<div>\n",
       "<style scoped>\n",
       "    .dataframe tbody tr th:only-of-type {\n",
       "        vertical-align: middle;\n",
       "    }\n",
       "\n",
       "    .dataframe tbody tr th {\n",
       "        vertical-align: top;\n",
       "    }\n",
       "\n",
       "    .dataframe thead th {\n",
       "        text-align: right;\n",
       "    }\n",
       "</style>\n",
       "<table border=\"1\" class=\"dataframe\">\n",
       "  <thead>\n",
       "    <tr style=\"text-align: right;\">\n",
       "      <th></th>\n",
       "      <th>children</th>\n",
       "      <th>days_employed</th>\n",
       "      <th>dob_years</th>\n",
       "      <th>education</th>\n",
       "      <th>education_id</th>\n",
       "      <th>family_status</th>\n",
       "      <th>family_status_id</th>\n",
       "      <th>gender</th>\n",
       "      <th>income_type</th>\n",
       "      <th>debt</th>\n",
       "      <th>total_income</th>\n",
       "      <th>purpose</th>\n",
       "      <th>age_group7</th>\n",
       "      <th>age_group5</th>\n",
       "      <th>purpose_group</th>\n",
       "      <th>children_group</th>\n",
       "    </tr>\n",
       "  </thead>\n",
       "  <tbody>\n",
       "    <tr>\n",
       "      <th>0</th>\n",
       "      <td>1</td>\n",
       "      <td>-8437.673028</td>\n",
       "      <td>42.0</td>\n",
       "      <td>bachelor's degree</td>\n",
       "      <td>0</td>\n",
       "      <td>married</td>\n",
       "      <td>0</td>\n",
       "      <td>F</td>\n",
       "      <td>employee</td>\n",
       "      <td>0</td>\n",
       "      <td>40620.102</td>\n",
       "      <td>purchase of the house</td>\n",
       "      <td>40-49</td>\n",
       "      <td>40-54</td>\n",
       "      <td>own housing</td>\n",
       "      <td>children</td>\n",
       "    </tr>\n",
       "    <tr>\n",
       "      <th>1</th>\n",
       "      <td>1</td>\n",
       "      <td>-4024.803754</td>\n",
       "      <td>36.0</td>\n",
       "      <td>secondary education</td>\n",
       "      <td>1</td>\n",
       "      <td>married</td>\n",
       "      <td>0</td>\n",
       "      <td>F</td>\n",
       "      <td>employee</td>\n",
       "      <td>0</td>\n",
       "      <td>17932.802</td>\n",
       "      <td>car purchase</td>\n",
       "      <td>30-39</td>\n",
       "      <td>25-39</td>\n",
       "      <td>car</td>\n",
       "      <td>children</td>\n",
       "    </tr>\n",
       "    <tr>\n",
       "      <th>2</th>\n",
       "      <td>0</td>\n",
       "      <td>-5623.422610</td>\n",
       "      <td>33.0</td>\n",
       "      <td>secondary education</td>\n",
       "      <td>1</td>\n",
       "      <td>married</td>\n",
       "      <td>0</td>\n",
       "      <td>M</td>\n",
       "      <td>employee</td>\n",
       "      <td>0</td>\n",
       "      <td>23341.752</td>\n",
       "      <td>purchase of the house</td>\n",
       "      <td>30-39</td>\n",
       "      <td>25-39</td>\n",
       "      <td>own housing</td>\n",
       "      <td>no children</td>\n",
       "    </tr>\n",
       "    <tr>\n",
       "      <th>3</th>\n",
       "      <td>3</td>\n",
       "      <td>-4124.747207</td>\n",
       "      <td>32.0</td>\n",
       "      <td>secondary education</td>\n",
       "      <td>1</td>\n",
       "      <td>married</td>\n",
       "      <td>0</td>\n",
       "      <td>M</td>\n",
       "      <td>employee</td>\n",
       "      <td>0</td>\n",
       "      <td>42820.568</td>\n",
       "      <td>supplementary education</td>\n",
       "      <td>30-39</td>\n",
       "      <td>25-39</td>\n",
       "      <td>education</td>\n",
       "      <td>children</td>\n",
       "    </tr>\n",
       "    <tr>\n",
       "      <th>4</th>\n",
       "      <td>0</td>\n",
       "      <td>340266.072047</td>\n",
       "      <td>53.0</td>\n",
       "      <td>secondary education</td>\n",
       "      <td>1</td>\n",
       "      <td>civil partnership</td>\n",
       "      <td>1</td>\n",
       "      <td>F</td>\n",
       "      <td>retiree</td>\n",
       "      <td>0</td>\n",
       "      <td>25378.572</td>\n",
       "      <td>to have a wedding</td>\n",
       "      <td>50-59</td>\n",
       "      <td>40-54</td>\n",
       "      <td>wedding</td>\n",
       "      <td>no children</td>\n",
       "    </tr>\n",
       "  </tbody>\n",
       "</table>\n",
       "</div>"
      ],
      "text/plain": [
       "   children  days_employed  dob_years            education  education_id  \\\n",
       "0         1   -8437.673028       42.0    bachelor's degree             0   \n",
       "1         1   -4024.803754       36.0  secondary education             1   \n",
       "2         0   -5623.422610       33.0  secondary education             1   \n",
       "3         3   -4124.747207       32.0  secondary education             1   \n",
       "4         0  340266.072047       53.0  secondary education             1   \n",
       "\n",
       "       family_status  family_status_id gender income_type  debt  total_income  \\\n",
       "0            married                 0      F    employee     0     40620.102   \n",
       "1            married                 0      F    employee     0     17932.802   \n",
       "2            married                 0      M    employee     0     23341.752   \n",
       "3            married                 0      M    employee     0     42820.568   \n",
       "4  civil partnership                 1      F     retiree     0     25378.572   \n",
       "\n",
       "                   purpose age_group7 age_group5 purpose_group children_group  \n",
       "0    purchase of the house      40-49      40-54   own housing       children  \n",
       "1             car purchase      30-39      25-39           car       children  \n",
       "2    purchase of the house      30-39      25-39   own housing    no children  \n",
       "3  supplementary education      30-39      25-39     education       children  \n",
       "4        to have a wedding      50-59      40-54       wedding    no children  "
      ]
     },
     "execution_count": 250,
     "metadata": {},
     "output_type": "execute_result"
    }
   ],
   "source": [
    "df_full.head()"
   ]
  },
  {
   "cell_type": "markdown",
   "metadata": {},
   "source": [
    "1. We added a categorical variable for boolean condition on the `children` column, to check whether \"have child/en\" / \"does not have children\" has its impact;\n",
    "2. We still have to fix the `days_employed` column;\n",
    "3. We already have two categorical variables for `dob_years`;\n",
    "4. We have fixed duplicates in the `education` column;\n",
    "5. We did not see any issues with the `family_status` column;\n",
    "6. We have unidentified `gender` category in one row, but it seems to be OK;\n",
    "7. We have fixed, as long as it was possible, the `income_type` categories;\n",
    "8. We did not see any issues with the `debt` column;\n",
    "9. We should definitely consider constructing a categorical variable for the `total_income` column;\n",
    "10. We have fixed the issues with implicit duplicate names in the `purpose` column by creating the `purpose_group` variable."
   ]
  },
  {
   "cell_type": "markdown",
   "metadata": {},
   "source": [
    "Let's consider the `total_income` variable."
   ]
  },
  {
   "cell_type": "code",
   "execution_count": 251,
   "metadata": {
    "scrolled": true
   },
   "outputs": [
    {
     "data": {
      "text/plain": [
       "count     21525.000000\n",
       "mean      26449.150381\n",
       "std       15710.799535\n",
       "min        3306.762000\n",
       "25%       17234.278000\n",
       "50%       23127.157000\n",
       "75%       31577.182000\n",
       "max      362496.645000\n",
       "Name: total_income, dtype: float64"
      ]
     },
     "execution_count": 251,
     "metadata": {},
     "output_type": "execute_result"
    }
   ],
   "source": [
    "# Print the stats\n",
    "df_full['total_income'].describe()"
   ]
  },
  {
   "cell_type": "markdown",
   "metadata": {},
   "source": [
    "The minimum value is around 3000, 25% below 17000, the median is appr. 23000 and 75% are below appr. 31500. Thus, it looks like the following categories can help make the `total_income` variable \"digestable\":\n",
    "- below 15000;\n",
    "- 15000-24999;\n",
    "- 25000-34999;\n",
    "- 35000-44999;\n",
    "- above 45000.\n",
    "\n",
    "Let's define the `income_group` function."
   ]
  },
  {
   "cell_type": "code",
   "execution_count": 252,
   "metadata": {},
   "outputs": [],
   "source": [
    "def income_group(total_income):\n",
    "    \"\"\"\n",
    "    The function returns one of the five groups, using the following rules:\n",
    "    — 'below 15000' for total_income < 15000;\n",
    "    - '15000-24999' for total_income >=15000 & <25000;\n",
    "    - '25000-34999' for total_income >=25000 & <35000;\n",
    "    - '35000-44999' for total_income >=35000 & <45000;\n",
    "    - 'above 45000' for total_income >=45000.\n",
    "    \"\"\"\n",
    "    \n",
    "    if total_income < 15000:\n",
    "        return 'below 15000'\n",
    "    elif total_income < 25000:\n",
    "        return '15000-24999'\n",
    "    elif total_income < 35000:\n",
    "        return '25000-34999'\n",
    "    elif total_income < 45000:\n",
    "        return '35000-44999'\n",
    "    return 'above 45000' "
   ]
  },
  {
   "cell_type": "code",
   "execution_count": 253,
   "metadata": {},
   "outputs": [],
   "source": [
    "# Create `income_group` variable\n",
    "df_full['income_group']=df_full['total_income'].apply(income_group)"
   ]
  },
  {
   "cell_type": "code",
   "execution_count": 254,
   "metadata": {},
   "outputs": [
    {
     "data": {
      "text/plain": [
       "15000-24999    0.390894\n",
       "25000-34999    0.244228\n",
       "below 15000    0.173937\n",
       "35000-44999    0.104576\n",
       "above 45000    0.086365\n",
       "Name: income_group, dtype: float64"
      ]
     },
     "execution_count": 254,
     "metadata": {},
     "output_type": "execute_result"
    }
   ],
   "source": [
    "# Make an estimate of the resulting distribution, note: the valueas are not sorted in the proper order\n",
    "df_full['income_group'].value_counts(normalize=True)"
   ]
  },
  {
   "cell_type": "markdown",
   "metadata": {},
   "source": [
    "Finally, let's find some solution for the `days_employed` variable.\n"
   ]
  },
  {
   "cell_type": "markdown",
   "metadata": {},
   "source": [
    "Just to recap, we have negatives values for every category of income_type, except 'retiree', while their absolute values seem to be reasonable. For the 'retiree' category, we have strange uniform distribution with the mean at around 365000 \"days of experience\". Until we have more information form the loan division, we can introduce a categorical variable which will act as follows (assuming that we only have to change the sign before the values):\n",
    "- \"less than 2 years\" for days_employed >=0 & < 730;\n",
    "- \"2 - 4 years\" for days_employed >=730 & < 1460;\n",
    "- \"4 - 7 years\" for days_employed >=1460 & < 2555;\n",
    "- \"7 - 20 years\" for days_employed >=2555 & < 7300;\n",
    "- \"more than 20 years\" else if not retiree;\n",
    "- \"na\" for retirees.\n",
    "\n",
    "Let's define the `exp_group`.\n"
   ]
  },
  {
   "cell_type": "code",
   "execution_count": 255,
   "metadata": {},
   "outputs": [],
   "source": [
    "def exp_group(days_employed):\n",
    "    \"\"\"\n",
    "    The function returns one of the seven groups, using the following rules:\n",
    "    - \"less than 2 years\" for days_employed >=0 & < 730;\n",
    "    - \"2 - 4 years\" for days_employed >=730 & < 1460;\n",
    "    - \"4 - 7 years\" for days_employed >=1460 & < 2555;\n",
    "    - \"7 - 20 years\" for days_employed >=2555 & < 7300;\n",
    "    - \"more than 20 years\" else if not retiree;\n",
    "    - \"na\" for retirees.\n",
    "\n",
    "    \"\"\"\n",
    "    \n",
    "    if abs(days_employed) < 730:\n",
    "        return 'less than 2 years'\n",
    "    elif abs(days_employed) < 1460:\n",
    "        return '2 - 4 years'\n",
    "    elif abs(days_employed) < 2555:\n",
    "        return '4 - 7 years'\n",
    "    elif abs(days_employed) < 7300:\n",
    "        return '7 - 20 years'\n",
    "    elif abs(days_employed) < 20000:\n",
    "        return 'more than 20 years'\n",
    "    return 'n.a.'"
   ]
  },
  {
   "cell_type": "code",
   "execution_count": 256,
   "metadata": {},
   "outputs": [],
   "source": [
    "# Create `exp_group` variable\n",
    "df_full['exp_group']=df_full['days_employed'].apply(exp_group)\n"
   ]
  },
  {
   "cell_type": "code",
   "execution_count": 257,
   "metadata": {},
   "outputs": [
    {
     "data": {
      "text/plain": [
       "7 - 20 years          0.216307\n",
       "4 - 7 years           0.210499\n",
       "2 - 4 years           0.179930\n",
       "n.a.                  0.179233\n",
       "less than 2 years     0.178862\n",
       "more than 20 years    0.035168\n",
       "Name: exp_group, dtype: float64"
      ]
     },
     "execution_count": 257,
     "metadata": {},
     "output_type": "execute_result"
    }
   ],
   "source": [
    "# Make an estimate of the resulting distribution, note: the valueas are not sorted in the proper order\n",
    "df_full['exp_group'].value_counts(normalize=True)"
   ]
  },
  {
   "cell_type": "markdown",
   "metadata": {},
   "source": [
    "Fimally, let's print out several rows of the resulting DataFrame."
   ]
  },
  {
   "cell_type": "code",
   "execution_count": 258,
   "metadata": {},
   "outputs": [
    {
     "data": {
      "text/html": [
       "<div>\n",
       "<style scoped>\n",
       "    .dataframe tbody tr th:only-of-type {\n",
       "        vertical-align: middle;\n",
       "    }\n",
       "\n",
       "    .dataframe tbody tr th {\n",
       "        vertical-align: top;\n",
       "    }\n",
       "\n",
       "    .dataframe thead th {\n",
       "        text-align: right;\n",
       "    }\n",
       "</style>\n",
       "<table border=\"1\" class=\"dataframe\">\n",
       "  <thead>\n",
       "    <tr style=\"text-align: right;\">\n",
       "      <th></th>\n",
       "      <th>children</th>\n",
       "      <th>days_employed</th>\n",
       "      <th>dob_years</th>\n",
       "      <th>education</th>\n",
       "      <th>education_id</th>\n",
       "      <th>family_status</th>\n",
       "      <th>family_status_id</th>\n",
       "      <th>gender</th>\n",
       "      <th>income_type</th>\n",
       "      <th>debt</th>\n",
       "      <th>total_income</th>\n",
       "      <th>purpose</th>\n",
       "      <th>age_group7</th>\n",
       "      <th>age_group5</th>\n",
       "      <th>purpose_group</th>\n",
       "      <th>children_group</th>\n",
       "      <th>income_group</th>\n",
       "      <th>exp_group</th>\n",
       "    </tr>\n",
       "  </thead>\n",
       "  <tbody>\n",
       "    <tr>\n",
       "      <th>0</th>\n",
       "      <td>1</td>\n",
       "      <td>-8437.673028</td>\n",
       "      <td>42.0</td>\n",
       "      <td>bachelor's degree</td>\n",
       "      <td>0</td>\n",
       "      <td>married</td>\n",
       "      <td>0</td>\n",
       "      <td>F</td>\n",
       "      <td>employee</td>\n",
       "      <td>0</td>\n",
       "      <td>40620.102</td>\n",
       "      <td>purchase of the house</td>\n",
       "      <td>40-49</td>\n",
       "      <td>40-54</td>\n",
       "      <td>own housing</td>\n",
       "      <td>children</td>\n",
       "      <td>35000-44999</td>\n",
       "      <td>more than 20 years</td>\n",
       "    </tr>\n",
       "    <tr>\n",
       "      <th>1</th>\n",
       "      <td>1</td>\n",
       "      <td>-4024.803754</td>\n",
       "      <td>36.0</td>\n",
       "      <td>secondary education</td>\n",
       "      <td>1</td>\n",
       "      <td>married</td>\n",
       "      <td>0</td>\n",
       "      <td>F</td>\n",
       "      <td>employee</td>\n",
       "      <td>0</td>\n",
       "      <td>17932.802</td>\n",
       "      <td>car purchase</td>\n",
       "      <td>30-39</td>\n",
       "      <td>25-39</td>\n",
       "      <td>car</td>\n",
       "      <td>children</td>\n",
       "      <td>15000-24999</td>\n",
       "      <td>7 - 20 years</td>\n",
       "    </tr>\n",
       "    <tr>\n",
       "      <th>2</th>\n",
       "      <td>0</td>\n",
       "      <td>-5623.422610</td>\n",
       "      <td>33.0</td>\n",
       "      <td>secondary education</td>\n",
       "      <td>1</td>\n",
       "      <td>married</td>\n",
       "      <td>0</td>\n",
       "      <td>M</td>\n",
       "      <td>employee</td>\n",
       "      <td>0</td>\n",
       "      <td>23341.752</td>\n",
       "      <td>purchase of the house</td>\n",
       "      <td>30-39</td>\n",
       "      <td>25-39</td>\n",
       "      <td>own housing</td>\n",
       "      <td>no children</td>\n",
       "      <td>15000-24999</td>\n",
       "      <td>7 - 20 years</td>\n",
       "    </tr>\n",
       "    <tr>\n",
       "      <th>3</th>\n",
       "      <td>3</td>\n",
       "      <td>-4124.747207</td>\n",
       "      <td>32.0</td>\n",
       "      <td>secondary education</td>\n",
       "      <td>1</td>\n",
       "      <td>married</td>\n",
       "      <td>0</td>\n",
       "      <td>M</td>\n",
       "      <td>employee</td>\n",
       "      <td>0</td>\n",
       "      <td>42820.568</td>\n",
       "      <td>supplementary education</td>\n",
       "      <td>30-39</td>\n",
       "      <td>25-39</td>\n",
       "      <td>education</td>\n",
       "      <td>children</td>\n",
       "      <td>35000-44999</td>\n",
       "      <td>7 - 20 years</td>\n",
       "    </tr>\n",
       "    <tr>\n",
       "      <th>4</th>\n",
       "      <td>0</td>\n",
       "      <td>340266.072047</td>\n",
       "      <td>53.0</td>\n",
       "      <td>secondary education</td>\n",
       "      <td>1</td>\n",
       "      <td>civil partnership</td>\n",
       "      <td>1</td>\n",
       "      <td>F</td>\n",
       "      <td>retiree</td>\n",
       "      <td>0</td>\n",
       "      <td>25378.572</td>\n",
       "      <td>to have a wedding</td>\n",
       "      <td>50-59</td>\n",
       "      <td>40-54</td>\n",
       "      <td>wedding</td>\n",
       "      <td>no children</td>\n",
       "      <td>25000-34999</td>\n",
       "      <td>n.a.</td>\n",
       "    </tr>\n",
       "    <tr>\n",
       "      <th>5</th>\n",
       "      <td>0</td>\n",
       "      <td>-926.185831</td>\n",
       "      <td>27.0</td>\n",
       "      <td>bachelor's degree</td>\n",
       "      <td>0</td>\n",
       "      <td>civil partnership</td>\n",
       "      <td>1</td>\n",
       "      <td>M</td>\n",
       "      <td>business</td>\n",
       "      <td>0</td>\n",
       "      <td>40922.170</td>\n",
       "      <td>purchase of the house</td>\n",
       "      <td>20-29</td>\n",
       "      <td>25-39</td>\n",
       "      <td>own housing</td>\n",
       "      <td>no children</td>\n",
       "      <td>35000-44999</td>\n",
       "      <td>2 - 4 years</td>\n",
       "    </tr>\n",
       "    <tr>\n",
       "      <th>6</th>\n",
       "      <td>0</td>\n",
       "      <td>-2879.202052</td>\n",
       "      <td>43.0</td>\n",
       "      <td>bachelor's degree</td>\n",
       "      <td>0</td>\n",
       "      <td>married</td>\n",
       "      <td>0</td>\n",
       "      <td>F</td>\n",
       "      <td>business</td>\n",
       "      <td>0</td>\n",
       "      <td>38484.156</td>\n",
       "      <td>housing transactions</td>\n",
       "      <td>40-49</td>\n",
       "      <td>40-54</td>\n",
       "      <td>own housing</td>\n",
       "      <td>no children</td>\n",
       "      <td>35000-44999</td>\n",
       "      <td>7 - 20 years</td>\n",
       "    </tr>\n",
       "    <tr>\n",
       "      <th>7</th>\n",
       "      <td>0</td>\n",
       "      <td>-152.779569</td>\n",
       "      <td>50.0</td>\n",
       "      <td>secondary education</td>\n",
       "      <td>1</td>\n",
       "      <td>married</td>\n",
       "      <td>0</td>\n",
       "      <td>M</td>\n",
       "      <td>employee</td>\n",
       "      <td>0</td>\n",
       "      <td>21731.829</td>\n",
       "      <td>education</td>\n",
       "      <td>50-59</td>\n",
       "      <td>40-54</td>\n",
       "      <td>education</td>\n",
       "      <td>no children</td>\n",
       "      <td>15000-24999</td>\n",
       "      <td>less than 2 years</td>\n",
       "    </tr>\n",
       "    <tr>\n",
       "      <th>8</th>\n",
       "      <td>2</td>\n",
       "      <td>-6929.865299</td>\n",
       "      <td>35.0</td>\n",
       "      <td>bachelor's degree</td>\n",
       "      <td>0</td>\n",
       "      <td>civil partnership</td>\n",
       "      <td>1</td>\n",
       "      <td>F</td>\n",
       "      <td>employee</td>\n",
       "      <td>0</td>\n",
       "      <td>15337.093</td>\n",
       "      <td>having a wedding</td>\n",
       "      <td>30-39</td>\n",
       "      <td>25-39</td>\n",
       "      <td>wedding</td>\n",
       "      <td>children</td>\n",
       "      <td>15000-24999</td>\n",
       "      <td>7 - 20 years</td>\n",
       "    </tr>\n",
       "    <tr>\n",
       "      <th>9</th>\n",
       "      <td>0</td>\n",
       "      <td>-2188.756445</td>\n",
       "      <td>41.0</td>\n",
       "      <td>secondary education</td>\n",
       "      <td>1</td>\n",
       "      <td>married</td>\n",
       "      <td>0</td>\n",
       "      <td>M</td>\n",
       "      <td>employee</td>\n",
       "      <td>0</td>\n",
       "      <td>23108.150</td>\n",
       "      <td>purchase of the house for my family</td>\n",
       "      <td>40-49</td>\n",
       "      <td>40-54</td>\n",
       "      <td>own housing</td>\n",
       "      <td>no children</td>\n",
       "      <td>15000-24999</td>\n",
       "      <td>4 - 7 years</td>\n",
       "    </tr>\n",
       "    <tr>\n",
       "      <th>10</th>\n",
       "      <td>2</td>\n",
       "      <td>-4171.483647</td>\n",
       "      <td>36.0</td>\n",
       "      <td>bachelor's degree</td>\n",
       "      <td>0</td>\n",
       "      <td>married</td>\n",
       "      <td>0</td>\n",
       "      <td>M</td>\n",
       "      <td>business</td>\n",
       "      <td>0</td>\n",
       "      <td>18230.959</td>\n",
       "      <td>buy real estate</td>\n",
       "      <td>30-39</td>\n",
       "      <td>25-39</td>\n",
       "      <td>real estate general</td>\n",
       "      <td>children</td>\n",
       "      <td>15000-24999</td>\n",
       "      <td>7 - 20 years</td>\n",
       "    </tr>\n",
       "    <tr>\n",
       "      <th>11</th>\n",
       "      <td>0</td>\n",
       "      <td>-792.701887</td>\n",
       "      <td>40.0</td>\n",
       "      <td>secondary education</td>\n",
       "      <td>1</td>\n",
       "      <td>married</td>\n",
       "      <td>0</td>\n",
       "      <td>F</td>\n",
       "      <td>employee</td>\n",
       "      <td>0</td>\n",
       "      <td>12331.077</td>\n",
       "      <td>buy commercial real estate</td>\n",
       "      <td>40-49</td>\n",
       "      <td>40-54</td>\n",
       "      <td>commercial real estate</td>\n",
       "      <td>no children</td>\n",
       "      <td>below 15000</td>\n",
       "      <td>2 - 4 years</td>\n",
       "    </tr>\n",
       "    <tr>\n",
       "      <th>12</th>\n",
       "      <td>0</td>\n",
       "      <td>-1846.641941</td>\n",
       "      <td>54.0</td>\n",
       "      <td>some college</td>\n",
       "      <td>2</td>\n",
       "      <td>married</td>\n",
       "      <td>0</td>\n",
       "      <td>F</td>\n",
       "      <td>employee</td>\n",
       "      <td>0</td>\n",
       "      <td>20873.317</td>\n",
       "      <td>car purchase</td>\n",
       "      <td>50-59</td>\n",
       "      <td>40-54</td>\n",
       "      <td>car</td>\n",
       "      <td>no children</td>\n",
       "      <td>15000-24999</td>\n",
       "      <td>4 - 7 years</td>\n",
       "    </tr>\n",
       "    <tr>\n",
       "      <th>13</th>\n",
       "      <td>0</td>\n",
       "      <td>-1844.956182</td>\n",
       "      <td>56.0</td>\n",
       "      <td>bachelor's degree</td>\n",
       "      <td>0</td>\n",
       "      <td>civil partnership</td>\n",
       "      <td>1</td>\n",
       "      <td>F</td>\n",
       "      <td>business</td>\n",
       "      <td>1</td>\n",
       "      <td>26420.466</td>\n",
       "      <td>buy residential real estate</td>\n",
       "      <td>50-59</td>\n",
       "      <td>55-69</td>\n",
       "      <td>real estate general</td>\n",
       "      <td>no children</td>\n",
       "      <td>25000-34999</td>\n",
       "      <td>4 - 7 years</td>\n",
       "    </tr>\n",
       "    <tr>\n",
       "      <th>14</th>\n",
       "      <td>1</td>\n",
       "      <td>-972.364419</td>\n",
       "      <td>26.0</td>\n",
       "      <td>secondary education</td>\n",
       "      <td>1</td>\n",
       "      <td>married</td>\n",
       "      <td>0</td>\n",
       "      <td>F</td>\n",
       "      <td>employee</td>\n",
       "      <td>0</td>\n",
       "      <td>18691.345</td>\n",
       "      <td>construction of own property</td>\n",
       "      <td>20-29</td>\n",
       "      <td>25-39</td>\n",
       "      <td>own housing</td>\n",
       "      <td>children</td>\n",
       "      <td>15000-24999</td>\n",
       "      <td>2 - 4 years</td>\n",
       "    </tr>\n",
       "    <tr>\n",
       "      <th>15</th>\n",
       "      <td>0</td>\n",
       "      <td>-1719.934226</td>\n",
       "      <td>35.0</td>\n",
       "      <td>secondary education</td>\n",
       "      <td>1</td>\n",
       "      <td>married</td>\n",
       "      <td>0</td>\n",
       "      <td>F</td>\n",
       "      <td>employee</td>\n",
       "      <td>0</td>\n",
       "      <td>46272.433</td>\n",
       "      <td>property</td>\n",
       "      <td>30-39</td>\n",
       "      <td>25-39</td>\n",
       "      <td>real estate general</td>\n",
       "      <td>no children</td>\n",
       "      <td>above 45000</td>\n",
       "      <td>4 - 7 years</td>\n",
       "    </tr>\n",
       "    <tr>\n",
       "      <th>16</th>\n",
       "      <td>0</td>\n",
       "      <td>-2369.999720</td>\n",
       "      <td>33.0</td>\n",
       "      <td>bachelor's degree</td>\n",
       "      <td>0</td>\n",
       "      <td>civil partnership</td>\n",
       "      <td>1</td>\n",
       "      <td>M</td>\n",
       "      <td>employee</td>\n",
       "      <td>0</td>\n",
       "      <td>14465.694</td>\n",
       "      <td>building a property</td>\n",
       "      <td>30-39</td>\n",
       "      <td>25-39</td>\n",
       "      <td>real estate general</td>\n",
       "      <td>no children</td>\n",
       "      <td>below 15000</td>\n",
       "      <td>4 - 7 years</td>\n",
       "    </tr>\n",
       "    <tr>\n",
       "      <th>17</th>\n",
       "      <td>0</td>\n",
       "      <td>400281.136913</td>\n",
       "      <td>53.0</td>\n",
       "      <td>secondary education</td>\n",
       "      <td>1</td>\n",
       "      <td>widow / widower</td>\n",
       "      <td>2</td>\n",
       "      <td>F</td>\n",
       "      <td>retiree</td>\n",
       "      <td>0</td>\n",
       "      <td>9091.804</td>\n",
       "      <td>buying a second-hand car</td>\n",
       "      <td>50-59</td>\n",
       "      <td>40-54</td>\n",
       "      <td>car</td>\n",
       "      <td>no children</td>\n",
       "      <td>below 15000</td>\n",
       "      <td>n.a.</td>\n",
       "    </tr>\n",
       "    <tr>\n",
       "      <th>18</th>\n",
       "      <td>0</td>\n",
       "      <td>-10038.818549</td>\n",
       "      <td>48.0</td>\n",
       "      <td>secondary education</td>\n",
       "      <td>1</td>\n",
       "      <td>divorced</td>\n",
       "      <td>3</td>\n",
       "      <td>F</td>\n",
       "      <td>employee</td>\n",
       "      <td>0</td>\n",
       "      <td>38852.977</td>\n",
       "      <td>buying my own car</td>\n",
       "      <td>40-49</td>\n",
       "      <td>40-54</td>\n",
       "      <td>car</td>\n",
       "      <td>no children</td>\n",
       "      <td>35000-44999</td>\n",
       "      <td>more than 20 years</td>\n",
       "    </tr>\n",
       "    <tr>\n",
       "      <th>19</th>\n",
       "      <td>1</td>\n",
       "      <td>-1311.604166</td>\n",
       "      <td>36.0</td>\n",
       "      <td>secondary education</td>\n",
       "      <td>1</td>\n",
       "      <td>married</td>\n",
       "      <td>0</td>\n",
       "      <td>M</td>\n",
       "      <td>employee</td>\n",
       "      <td>0</td>\n",
       "      <td>33528.423</td>\n",
       "      <td>property</td>\n",
       "      <td>30-39</td>\n",
       "      <td>25-39</td>\n",
       "      <td>real estate general</td>\n",
       "      <td>children</td>\n",
       "      <td>25000-34999</td>\n",
       "      <td>2 - 4 years</td>\n",
       "    </tr>\n",
       "  </tbody>\n",
       "</table>\n",
       "</div>"
      ],
      "text/plain": [
       "    children  days_employed  dob_years            education  education_id  \\\n",
       "0          1   -8437.673028       42.0    bachelor's degree             0   \n",
       "1          1   -4024.803754       36.0  secondary education             1   \n",
       "2          0   -5623.422610       33.0  secondary education             1   \n",
       "3          3   -4124.747207       32.0  secondary education             1   \n",
       "4          0  340266.072047       53.0  secondary education             1   \n",
       "5          0    -926.185831       27.0    bachelor's degree             0   \n",
       "6          0   -2879.202052       43.0    bachelor's degree             0   \n",
       "7          0    -152.779569       50.0  secondary education             1   \n",
       "8          2   -6929.865299       35.0    bachelor's degree             0   \n",
       "9          0   -2188.756445       41.0  secondary education             1   \n",
       "10         2   -4171.483647       36.0    bachelor's degree             0   \n",
       "11         0    -792.701887       40.0  secondary education             1   \n",
       "12         0   -1846.641941       54.0         some college             2   \n",
       "13         0   -1844.956182       56.0    bachelor's degree             0   \n",
       "14         1    -972.364419       26.0  secondary education             1   \n",
       "15         0   -1719.934226       35.0  secondary education             1   \n",
       "16         0   -2369.999720       33.0    bachelor's degree             0   \n",
       "17         0  400281.136913       53.0  secondary education             1   \n",
       "18         0  -10038.818549       48.0  secondary education             1   \n",
       "19         1   -1311.604166       36.0  secondary education             1   \n",
       "\n",
       "        family_status  family_status_id gender income_type  debt  \\\n",
       "0             married                 0      F    employee     0   \n",
       "1             married                 0      F    employee     0   \n",
       "2             married                 0      M    employee     0   \n",
       "3             married                 0      M    employee     0   \n",
       "4   civil partnership                 1      F     retiree     0   \n",
       "5   civil partnership                 1      M    business     0   \n",
       "6             married                 0      F    business     0   \n",
       "7             married                 0      M    employee     0   \n",
       "8   civil partnership                 1      F    employee     0   \n",
       "9             married                 0      M    employee     0   \n",
       "10            married                 0      M    business     0   \n",
       "11            married                 0      F    employee     0   \n",
       "12            married                 0      F    employee     0   \n",
       "13  civil partnership                 1      F    business     1   \n",
       "14            married                 0      F    employee     0   \n",
       "15            married                 0      F    employee     0   \n",
       "16  civil partnership                 1      M    employee     0   \n",
       "17    widow / widower                 2      F     retiree     0   \n",
       "18           divorced                 3      F    employee     0   \n",
       "19            married                 0      M    employee     0   \n",
       "\n",
       "    total_income                              purpose age_group7 age_group5  \\\n",
       "0      40620.102                purchase of the house      40-49      40-54   \n",
       "1      17932.802                         car purchase      30-39      25-39   \n",
       "2      23341.752                purchase of the house      30-39      25-39   \n",
       "3      42820.568              supplementary education      30-39      25-39   \n",
       "4      25378.572                    to have a wedding      50-59      40-54   \n",
       "5      40922.170                purchase of the house      20-29      25-39   \n",
       "6      38484.156                 housing transactions      40-49      40-54   \n",
       "7      21731.829                            education      50-59      40-54   \n",
       "8      15337.093                     having a wedding      30-39      25-39   \n",
       "9      23108.150  purchase of the house for my family      40-49      40-54   \n",
       "10     18230.959                      buy real estate      30-39      25-39   \n",
       "11     12331.077           buy commercial real estate      40-49      40-54   \n",
       "12     20873.317                         car purchase      50-59      40-54   \n",
       "13     26420.466          buy residential real estate      50-59      55-69   \n",
       "14     18691.345         construction of own property      20-29      25-39   \n",
       "15     46272.433                             property      30-39      25-39   \n",
       "16     14465.694                  building a property      30-39      25-39   \n",
       "17      9091.804             buying a second-hand car      50-59      40-54   \n",
       "18     38852.977                    buying my own car      40-49      40-54   \n",
       "19     33528.423                             property      30-39      25-39   \n",
       "\n",
       "             purpose_group children_group income_group           exp_group  \n",
       "0              own housing       children  35000-44999  more than 20 years  \n",
       "1                      car       children  15000-24999        7 - 20 years  \n",
       "2              own housing    no children  15000-24999        7 - 20 years  \n",
       "3                education       children  35000-44999        7 - 20 years  \n",
       "4                  wedding    no children  25000-34999                n.a.  \n",
       "5              own housing    no children  35000-44999         2 - 4 years  \n",
       "6              own housing    no children  35000-44999        7 - 20 years  \n",
       "7                education    no children  15000-24999   less than 2 years  \n",
       "8                  wedding       children  15000-24999        7 - 20 years  \n",
       "9              own housing    no children  15000-24999         4 - 7 years  \n",
       "10     real estate general       children  15000-24999        7 - 20 years  \n",
       "11  commercial real estate    no children  below 15000         2 - 4 years  \n",
       "12                     car    no children  15000-24999         4 - 7 years  \n",
       "13     real estate general    no children  25000-34999         4 - 7 years  \n",
       "14             own housing       children  15000-24999         2 - 4 years  \n",
       "15     real estate general    no children  above 45000         4 - 7 years  \n",
       "16     real estate general    no children  below 15000         4 - 7 years  \n",
       "17                     car    no children  below 15000                n.a.  \n",
       "18                     car    no children  35000-44999  more than 20 years  \n",
       "19     real estate general       children  25000-34999         2 - 4 years  "
      ]
     },
     "execution_count": 258,
     "metadata": {},
     "output_type": "execute_result"
    }
   ],
   "source": [
    "df_full.head(20)"
   ]
  },
  {
   "cell_type": "markdown",
   "metadata": {},
   "source": [
    "[Back to Contents](#back)"
   ]
  },
  {
   "cell_type": "markdown",
   "metadata": {},
   "source": [
    "## Stage 3. Testing the Hypotheses <a id='hypotheses_testing'></a> "
   ]
  },
  {
   "cell_type": "markdown",
   "metadata": {},
   "source": [
    "In what follows we employ basic methods of search for correlations between pairs of variables. For each pair, we print out the categories of presumably explainging variable and two counters - total sum of cases where there is debt on repayment (`sum`) and the total number of cases for each category (`count`). Then we calculate the default rate by dividing the cases where there is debt by total cases. Without entering into deep investigation, we still prefere conducting a couple of statistical significance checks for selected sample means. To this purpose, we employ [Welch's t-test](https://en.wikipedia.org/wiki/Welch%27s_t-test) to test the hypothesis that two populations (category samples) have equal means. Welch's t-test is considered to be more reliable when we do not know whether the samples have equal variances and/or they have unequal sample sizes. The Python implementation of this test is `scipy.stats.ttest_ind()` function.\n",
    "\n",
    "[Back to Contents](#back)"
   ]
  },
  {
   "cell_type": "markdown",
   "metadata": {},
   "source": [
    "To make it easier to draw conclusions with regard to the impact of different variables, we introduce a dictionary for documenting the hypotheses testing results:"
   ]
  },
  {
   "cell_type": "code",
   "execution_count": 259,
   "metadata": {},
   "outputs": [],
   "source": [
    "ht_results = {}"
   ]
  },
  {
   "cell_type": "markdown",
   "metadata": {},
   "source": [
    "**Hypothesis 1. Is there a correlation between family status and paying back on time?** <a id='hypotheses_testing_family'></a> "
   ]
  },
  {
   "cell_type": "code",
   "execution_count": 260,
   "metadata": {},
   "outputs": [
    {
     "data": {
      "text/html": [
       "<div>\n",
       "<style scoped>\n",
       "    .dataframe tbody tr th:only-of-type {\n",
       "        vertical-align: middle;\n",
       "    }\n",
       "\n",
       "    .dataframe tbody tr th {\n",
       "        vertical-align: top;\n",
       "    }\n",
       "\n",
       "    .dataframe thead tr th {\n",
       "        text-align: left;\n",
       "    }\n",
       "\n",
       "    .dataframe thead tr:last-of-type th {\n",
       "        text-align: right;\n",
       "    }\n",
       "</style>\n",
       "<table border=\"1\" class=\"dataframe\">\n",
       "  <thead>\n",
       "    <tr>\n",
       "      <th></th>\n",
       "      <th colspan=\"2\" halign=\"left\">debt</th>\n",
       "    </tr>\n",
       "    <tr>\n",
       "      <th></th>\n",
       "      <th>sum</th>\n",
       "      <th>count</th>\n",
       "    </tr>\n",
       "    <tr>\n",
       "      <th>family_status</th>\n",
       "      <th></th>\n",
       "      <th></th>\n",
       "    </tr>\n",
       "  </thead>\n",
       "  <tbody>\n",
       "    <tr>\n",
       "      <th>civil partnership</th>\n",
       "      <td>388</td>\n",
       "      <td>4177</td>\n",
       "    </tr>\n",
       "    <tr>\n",
       "      <th>divorced</th>\n",
       "      <td>85</td>\n",
       "      <td>1195</td>\n",
       "    </tr>\n",
       "    <tr>\n",
       "      <th>married</th>\n",
       "      <td>931</td>\n",
       "      <td>12380</td>\n",
       "    </tr>\n",
       "    <tr>\n",
       "      <th>unmarried</th>\n",
       "      <td>274</td>\n",
       "      <td>2813</td>\n",
       "    </tr>\n",
       "    <tr>\n",
       "      <th>widow / widower</th>\n",
       "      <td>63</td>\n",
       "      <td>960</td>\n",
       "    </tr>\n",
       "  </tbody>\n",
       "</table>\n",
       "</div>"
      ],
      "text/plain": [
       "                  debt       \n",
       "                   sum  count\n",
       "family_status                \n",
       "civil partnership  388   4177\n",
       "divorced            85   1195\n",
       "married            931  12380\n",
       "unmarried          274   2813\n",
       "widow / widower     63    960"
      ]
     },
     "execution_count": 260,
     "metadata": {},
     "output_type": "execute_result"
    }
   ],
   "source": [
    "# Check the family status data and paying back on time\n",
    "df_full.groupby(['family_status']).agg({'debt': ['sum', 'count']})"
   ]
  },
  {
   "cell_type": "code",
   "execution_count": 261,
   "metadata": {},
   "outputs": [
    {
     "data": {
      "text/plain": [
       "family_status\n",
       "civil partnership    0.092890\n",
       "divorced             0.071130\n",
       "married              0.075202\n",
       "unmarried            0.097405\n",
       "widow / widower      0.065625\n",
       "Name: debt, dtype: float64"
      ]
     },
     "execution_count": 261,
     "metadata": {},
     "output_type": "execute_result"
    }
   ],
   "source": [
    "# Calculating default-rate based on family status\n",
    "df_full.groupby(['family_status'])['debt'].apply(lambda x: x.sum()/x.count())"
   ]
  },
  {
   "cell_type": "markdown",
   "metadata": {},
   "source": [
    "**Hypothesis 1. Conclusion**\n",
    "\n",
    "The default rate for unmarried customers seems to be the highest, followed by customers in civil partnership. To get some sense of statistical significance of this observation, we can run a statistical significance test for two categories, say, married vs. unmarried customers:"
   ]
  },
  {
   "cell_type": "code",
   "execution_count": 262,
   "metadata": {},
   "outputs": [
    {
     "data": {
      "text/plain": [
       "Ttest_indResult(statistic=-3.6559244955276133, pvalue=0.0002596481575844235)"
      ]
     },
     "execution_count": 262,
     "metadata": {},
     "output_type": "execute_result"
    }
   ],
   "source": [
    "married = df_full[df_full['family_status']=='married']\n",
    "unmarried = df_full[df_full['family_status']=='unmarried']\n",
    "\n",
    "ht_results['family_status'] = stats.ttest_ind(married['debt'], unmarried['debt'], equal_var=False)\n",
    "ht_results['family_status']"
   ]
  },
  {
   "cell_type": "markdown",
   "metadata": {},
   "source": [
    "We see that the p-value is much lower that the regular significance level 0.05; thus, we can conclude that there is statistically significant difference between default rates for unmarried and married customers. Further investigation into statistical significance of the difference between the sample means for different categories is needed to confirm its meaningfulness in for each pair.\n",
    "\n",
    "[Back to Contents](#back)"
   ]
  },
  {
   "cell_type": "markdown",
   "metadata": {},
   "source": [
    "**Hypothesis 2. Is there a correlation between having children and paying back on time?** <a id='hypotheses_testing_children'></a> "
   ]
  },
  {
   "cell_type": "markdown",
   "metadata": {},
   "source": [
    "First, we will look at the boolean category of having or not having children."
   ]
  },
  {
   "cell_type": "code",
   "execution_count": 263,
   "metadata": {
    "scrolled": true
   },
   "outputs": [
    {
     "data": {
      "text/html": [
       "<div>\n",
       "<style scoped>\n",
       "    .dataframe tbody tr th:only-of-type {\n",
       "        vertical-align: middle;\n",
       "    }\n",
       "\n",
       "    .dataframe tbody tr th {\n",
       "        vertical-align: top;\n",
       "    }\n",
       "\n",
       "    .dataframe thead tr th {\n",
       "        text-align: left;\n",
       "    }\n",
       "\n",
       "    .dataframe thead tr:last-of-type th {\n",
       "        text-align: right;\n",
       "    }\n",
       "</style>\n",
       "<table border=\"1\" class=\"dataframe\">\n",
       "  <thead>\n",
       "    <tr>\n",
       "      <th></th>\n",
       "      <th colspan=\"2\" halign=\"left\">debt</th>\n",
       "    </tr>\n",
       "    <tr>\n",
       "      <th></th>\n",
       "      <th>sum</th>\n",
       "      <th>count</th>\n",
       "    </tr>\n",
       "    <tr>\n",
       "      <th>children_group</th>\n",
       "      <th></th>\n",
       "      <th></th>\n",
       "    </tr>\n",
       "  </thead>\n",
       "  <tbody>\n",
       "    <tr>\n",
       "      <th>children</th>\n",
       "      <td>677</td>\n",
       "      <td>7329</td>\n",
       "    </tr>\n",
       "    <tr>\n",
       "      <th>no children</th>\n",
       "      <td>1064</td>\n",
       "      <td>14196</td>\n",
       "    </tr>\n",
       "  </tbody>\n",
       "</table>\n",
       "</div>"
      ],
      "text/plain": [
       "                debt       \n",
       "                 sum  count\n",
       "children_group             \n",
       "children         677   7329\n",
       "no children     1064  14196"
      ]
     },
     "execution_count": 263,
     "metadata": {},
     "output_type": "execute_result"
    }
   ],
   "source": [
    "# Check the children data and paying back on time\n",
    "df_full.groupby(['children_group']).agg({'debt': ['sum', 'count']})"
   ]
  },
  {
   "cell_type": "code",
   "execution_count": 264,
   "metadata": {},
   "outputs": [
    {
     "data": {
      "text/plain": [
       "children_group\n",
       "children       0.092373\n",
       "no children    0.074951\n",
       "Name: debt, dtype: float64"
      ]
     },
     "execution_count": 264,
     "metadata": {},
     "output_type": "execute_result"
    }
   ],
   "source": [
    "# Calculating default-rate based on the number of children\n",
    "df_full.groupby(['children_group'])['debt'].apply(lambda x: x.sum()/x.count())"
   ]
  },
  {
   "cell_type": "markdown",
   "metadata": {},
   "source": [
    "Now, let's investigate into whether the number of children has its own impact."
   ]
  },
  {
   "cell_type": "code",
   "execution_count": 265,
   "metadata": {},
   "outputs": [
    {
     "data": {
      "text/html": [
       "<div>\n",
       "<style scoped>\n",
       "    .dataframe tbody tr th:only-of-type {\n",
       "        vertical-align: middle;\n",
       "    }\n",
       "\n",
       "    .dataframe tbody tr th {\n",
       "        vertical-align: top;\n",
       "    }\n",
       "\n",
       "    .dataframe thead tr th {\n",
       "        text-align: left;\n",
       "    }\n",
       "\n",
       "    .dataframe thead tr:last-of-type th {\n",
       "        text-align: right;\n",
       "    }\n",
       "</style>\n",
       "<table border=\"1\" class=\"dataframe\">\n",
       "  <thead>\n",
       "    <tr>\n",
       "      <th></th>\n",
       "      <th colspan=\"2\" halign=\"left\">debt</th>\n",
       "    </tr>\n",
       "    <tr>\n",
       "      <th></th>\n",
       "      <th>sum</th>\n",
       "      <th>count</th>\n",
       "    </tr>\n",
       "    <tr>\n",
       "      <th>children</th>\n",
       "      <th></th>\n",
       "      <th></th>\n",
       "    </tr>\n",
       "  </thead>\n",
       "  <tbody>\n",
       "    <tr>\n",
       "      <th>1</th>\n",
       "      <td>444</td>\n",
       "      <td>4818</td>\n",
       "    </tr>\n",
       "    <tr>\n",
       "      <th>2</th>\n",
       "      <td>194</td>\n",
       "      <td>2055</td>\n",
       "    </tr>\n",
       "    <tr>\n",
       "      <th>3</th>\n",
       "      <td>27</td>\n",
       "      <td>330</td>\n",
       "    </tr>\n",
       "    <tr>\n",
       "      <th>4</th>\n",
       "      <td>4</td>\n",
       "      <td>41</td>\n",
       "    </tr>\n",
       "    <tr>\n",
       "      <th>5</th>\n",
       "      <td>0</td>\n",
       "      <td>9</td>\n",
       "    </tr>\n",
       "  </tbody>\n",
       "</table>\n",
       "</div>"
      ],
      "text/plain": [
       "         debt      \n",
       "          sum count\n",
       "children           \n",
       "1         444  4818\n",
       "2         194  2055\n",
       "3          27   330\n",
       "4           4    41\n",
       "5           0     9"
      ]
     },
     "execution_count": 265,
     "metadata": {},
     "output_type": "execute_result"
    }
   ],
   "source": [
    "# Check the number of children data and paying back on time\n",
    "# Remember that we have a small number of entries with values '-1' (treated as 0 for children_group) and 20\n",
    "df_full[(df_full['children']>0) & (df_full['children']<20)].groupby(['children']).agg({'debt': ['sum', 'count']})"
   ]
  },
  {
   "cell_type": "code",
   "execution_count": 266,
   "metadata": {},
   "outputs": [
    {
     "data": {
      "text/plain": [
       "children\n",
       "1    0.092154\n",
       "2    0.094404\n",
       "3    0.081818\n",
       "4    0.097561\n",
       "5    0.000000\n",
       "Name: debt, dtype: float64"
      ]
     },
     "execution_count": 266,
     "metadata": {},
     "output_type": "execute_result"
    }
   ],
   "source": [
    "# Calculating default-rate based on the number of children\n",
    "df_full[(df_full['children']>0) & (df_full['children']<20)].groupby(['children'])['debt'].apply(lambda x: x.sum()/x.count())"
   ]
  },
  {
   "cell_type": "markdown",
   "metadata": {},
   "source": [
    "**Hypothesis 2. Conclusion**\n",
    "\n",
    "When talking about the plain fact of having children, the default rate for customers with children seems to be slightly higher than for those without children. In this case, we have only two categories; thus, only one run of the statistical significance test is needed for them:"
   ]
  },
  {
   "cell_type": "code",
   "execution_count": 267,
   "metadata": {},
   "outputs": [
    {
     "data": {
      "text/plain": [
       "Ttest_indResult(statistic=4.311895011589376, pvalue=1.629982553638349e-05)"
      ]
     },
     "execution_count": 267,
     "metadata": {},
     "output_type": "execute_result"
    }
   ],
   "source": [
    "children = df_full[df_full['children_group']=='children']\n",
    "no_children = df_full[df_full['children_group']=='no children']\n",
    "\n",
    "ht_results['children_group'] = stats.ttest_ind(children['debt'], no_children['debt'], equal_var=False)\n",
    "ht_results['children_group']"
   ]
  },
  {
   "cell_type": "markdown",
   "metadata": {},
   "source": [
    "In this case also, we see that the p-value is much lower that the regular significance level 0.05; thus, we can conclude that there is statistically significant difference between default rates for customers with or without children. Now let's test the significance of having different number of children. From the values on the default rates for the samples of customers with one child and two children, we can suggest that there is the difference between them is statistically insignificant; however we see that for customers with three chidren the default rate seems to be lower comapred to one, two or four children. Let's perform a Welch's t-test for the sub-groups of customers with two and three children:"
   ]
  },
  {
   "cell_type": "code",
   "execution_count": 268,
   "metadata": {},
   "outputs": [
    {
     "data": {
      "text/plain": [
       "Ttest_indResult(statistic=0.765995286469164, pvalue=0.4440741806044214)"
      ]
     },
     "execution_count": 268,
     "metadata": {},
     "output_type": "execute_result"
    }
   ],
   "source": [
    "children2 = df_full[df_full['children']==2]\n",
    "children3 = df_full[df_full['children']==3]\n",
    "\n",
    "ht_results['children'] = stats.ttest_ind(children2['debt'], children3['debt'], equal_var=False)\n",
    "ht_results['children']"
   ]
  },
  {
   "cell_type": "markdown",
   "metadata": {},
   "source": [
    "As we have suggested, the difference in default rates for customers two and three children turns out to be statistically insignificant; thus, we can firmly conclude that what matters is the fact of having children, not their number."
   ]
  },
  {
   "cell_type": "markdown",
   "metadata": {},
   "source": [
    "[Back to Contents](#back)"
   ]
  },
  {
   "cell_type": "markdown",
   "metadata": {},
   "source": [
    "**Hypothesis 3. Is there a correlation between income level and paying back on time?** <a id='hypotheses_testing_income'></a> "
   ]
  },
  {
   "cell_type": "code",
   "execution_count": 269,
   "metadata": {},
   "outputs": [
    {
     "data": {
      "text/html": [
       "<div>\n",
       "<style scoped>\n",
       "    .dataframe tbody tr th:only-of-type {\n",
       "        vertical-align: middle;\n",
       "    }\n",
       "\n",
       "    .dataframe tbody tr th {\n",
       "        vertical-align: top;\n",
       "    }\n",
       "\n",
       "    .dataframe thead tr th {\n",
       "        text-align: left;\n",
       "    }\n",
       "\n",
       "    .dataframe thead tr:last-of-type th {\n",
       "        text-align: right;\n",
       "    }\n",
       "</style>\n",
       "<table border=\"1\" class=\"dataframe\">\n",
       "  <thead>\n",
       "    <tr>\n",
       "      <th></th>\n",
       "      <th colspan=\"2\" halign=\"left\">debt</th>\n",
       "    </tr>\n",
       "    <tr>\n",
       "      <th></th>\n",
       "      <th>sum</th>\n",
       "      <th>count</th>\n",
       "    </tr>\n",
       "    <tr>\n",
       "      <th>income_group</th>\n",
       "      <th></th>\n",
       "      <th></th>\n",
       "    </tr>\n",
       "  </thead>\n",
       "  <tbody>\n",
       "    <tr>\n",
       "      <th>15000-24999</th>\n",
       "      <td>711</td>\n",
       "      <td>8414</td>\n",
       "    </tr>\n",
       "    <tr>\n",
       "      <th>25000-34999</th>\n",
       "      <td>440</td>\n",
       "      <td>5257</td>\n",
       "    </tr>\n",
       "    <tr>\n",
       "      <th>35000-44999</th>\n",
       "      <td>160</td>\n",
       "      <td>2251</td>\n",
       "    </tr>\n",
       "    <tr>\n",
       "      <th>above 45000</th>\n",
       "      <td>132</td>\n",
       "      <td>1859</td>\n",
       "    </tr>\n",
       "    <tr>\n",
       "      <th>below 15000</th>\n",
       "      <td>298</td>\n",
       "      <td>3744</td>\n",
       "    </tr>\n",
       "  </tbody>\n",
       "</table>\n",
       "</div>"
      ],
      "text/plain": [
       "             debt      \n",
       "              sum count\n",
       "income_group           \n",
       "15000-24999   711  8414\n",
       "25000-34999   440  5257\n",
       "35000-44999   160  2251\n",
       "above 45000   132  1859\n",
       "below 15000   298  3744"
      ]
     },
     "execution_count": 269,
     "metadata": {},
     "output_type": "execute_result"
    }
   ],
   "source": [
    "# Check the income level data and paying back on time\n",
    "df_full.groupby(['income_group']).agg({'debt': ['sum', 'count']})"
   ]
  },
  {
   "cell_type": "code",
   "execution_count": 270,
   "metadata": {},
   "outputs": [
    {
     "data": {
      "text/plain": [
       "income_group\n",
       "15000-24999    0.084502\n",
       "25000-34999    0.083698\n",
       "35000-44999    0.071080\n",
       "above 45000    0.071006\n",
       "below 15000    0.079594\n",
       "Name: debt, dtype: float64"
      ]
     },
     "execution_count": 270,
     "metadata": {},
     "output_type": "execute_result"
    }
   ],
   "source": [
    "# Calculating default-rate based on income level\n",
    "df_full.groupby(['income_group'])['debt'].apply(lambda x: x.sum()/x.count())"
   ]
  },
  {
   "cell_type": "markdown",
   "metadata": {},
   "source": [
    "**Hypothesis 3. Conclusion**\n",
    "\n",
    "The default rate for less well-off customers (with income levels below 35000) seems to be slightly higher. Let's run a Welch's t-test for two categories: with total_income below 35000 or above 35000:"
   ]
  },
  {
   "cell_type": "code",
   "execution_count": 271,
   "metadata": {},
   "outputs": [
    {
     "data": {
      "text/plain": [
       "Ttest_indResult(statistic=2.6890106004565695, pvalue=0.007184584868676485)"
      ]
     },
     "execution_count": 271,
     "metadata": {},
     "output_type": "execute_result"
    }
   ],
   "source": [
    "below35 = df_full[df_full['total_income']<35000]\n",
    "above35 = df_full[df_full['total_income']>=35000]\n",
    "\n",
    "ht_results['total_income'] = stats.ttest_ind(below35['debt'], above35['debt'], equal_var=False)\n",
    "ht_results['total_income']"
   ]
  },
  {
   "cell_type": "markdown",
   "metadata": {},
   "source": [
    "We see that the p-value is much lower that the regular significance level 0.05; thus, we can conclude that there is statistically significant difference between default rates for customers with total income below 35000 and above 35000; however, further investigation into statistical significance of the difference between the sample means for different income categories is needed to confirm its meaningfulness in a more practical manner.\n",
    "\n",
    "[Back to Contents](#back)"
   ]
  },
  {
   "cell_type": "markdown",
   "metadata": {},
   "source": [
    "**Hypothesis 3*. How does the number of children affect the default rate for customers with different income levels?** <a id='hypotheses_testing_income_star'></a> "
   ]
  },
  {
   "cell_type": "markdown",
   "metadata": {},
   "source": [
    "Even that on average we cannot distinguish the impact of having different number of children, it sounds natural that there should be some impact for customers in different income groups, specifically when it is about lower income customers. Let's take additional look at sub-groups with 1 to 3 children (we have to exclude higher numbers due to insufficient size of the samples) for the first two income groups, below 25000."
   ]
  },
  {
   "cell_type": "code",
   "execution_count": 272,
   "metadata": {},
   "outputs": [
    {
     "data": {
      "text/html": [
       "<div>\n",
       "<style scoped>\n",
       "    .dataframe tbody tr th:only-of-type {\n",
       "        vertical-align: middle;\n",
       "    }\n",
       "\n",
       "    .dataframe tbody tr th {\n",
       "        vertical-align: top;\n",
       "    }\n",
       "\n",
       "    .dataframe thead tr th {\n",
       "        text-align: left;\n",
       "    }\n",
       "\n",
       "    .dataframe thead tr:last-of-type th {\n",
       "        text-align: right;\n",
       "    }\n",
       "</style>\n",
       "<table border=\"1\" class=\"dataframe\">\n",
       "  <thead>\n",
       "    <tr>\n",
       "      <th></th>\n",
       "      <th></th>\n",
       "      <th colspan=\"2\" halign=\"left\">debt</th>\n",
       "    </tr>\n",
       "    <tr>\n",
       "      <th></th>\n",
       "      <th></th>\n",
       "      <th>sum</th>\n",
       "      <th>count</th>\n",
       "    </tr>\n",
       "    <tr>\n",
       "      <th>income_group</th>\n",
       "      <th>children</th>\n",
       "      <th></th>\n",
       "      <th></th>\n",
       "    </tr>\n",
       "  </thead>\n",
       "  <tbody>\n",
       "    <tr>\n",
       "      <th rowspan=\"3\" valign=\"top\">15000-24999</th>\n",
       "      <th>1</th>\n",
       "      <td>186</td>\n",
       "      <td>1884</td>\n",
       "    </tr>\n",
       "    <tr>\n",
       "      <th>2</th>\n",
       "      <td>80</td>\n",
       "      <td>783</td>\n",
       "    </tr>\n",
       "    <tr>\n",
       "      <th>3</th>\n",
       "      <td>8</td>\n",
       "      <td>112</td>\n",
       "    </tr>\n",
       "    <tr>\n",
       "      <th rowspan=\"3\" valign=\"top\">below 15000</th>\n",
       "      <th>1</th>\n",
       "      <td>71</td>\n",
       "      <td>739</td>\n",
       "    </tr>\n",
       "    <tr>\n",
       "      <th>2</th>\n",
       "      <td>33</td>\n",
       "      <td>339</td>\n",
       "    </tr>\n",
       "    <tr>\n",
       "      <th>3</th>\n",
       "      <td>7</td>\n",
       "      <td>48</td>\n",
       "    </tr>\n",
       "  </tbody>\n",
       "</table>\n",
       "</div>"
      ],
      "text/plain": [
       "                      debt      \n",
       "                       sum count\n",
       "income_group children           \n",
       "15000-24999  1         186  1884\n",
       "             2          80   783\n",
       "             3           8   112\n",
       "below 15000  1          71   739\n",
       "             2          33   339\n",
       "             3           7    48"
      ]
     },
     "execution_count": 272,
     "metadata": {},
     "output_type": "execute_result"
    }
   ],
   "source": [
    "df_full[(df_full['children']>0) & (df_full['children']<4) & (df_full['total_income']<25000)].groupby(['income_group', 'children']).agg({'debt': ['sum', 'count']})"
   ]
  },
  {
   "cell_type": "code",
   "execution_count": 273,
   "metadata": {
    "scrolled": true
   },
   "outputs": [
    {
     "data": {
      "text/plain": [
       "income_group  children\n",
       "15000-24999   1           0.098726\n",
       "              2           0.102171\n",
       "              3           0.071429\n",
       "below 15000   1           0.096076\n",
       "              2           0.097345\n",
       "              3           0.145833\n",
       "Name: debt, dtype: float64"
      ]
     },
     "execution_count": 273,
     "metadata": {},
     "output_type": "execute_result"
    }
   ],
   "source": [
    "df_full[(df_full['children']>0) & (df_full['children']<4) & (df_full['total_income']<25000)].groupby(['income_group', 'children'])['debt'].apply(lambda x: x.sum()/x.count())"
   ]
  },
  {
   "cell_type": "markdown",
   "metadata": {},
   "source": [
    "**Hypothesis 3*. Conclusion**\n",
    "\n",
    "The sample for customers in the 'below 15000' income group with 3 children seems to be too smal to draw cocnlusions; however, the numbers for the second income group suggest lower default rate for for customers with three children. Let's run a Welch's t-test for two categories: with two children and with three children with total_income between 15000 and 24999:"
   ]
  },
  {
   "cell_type": "code",
   "execution_count": 274,
   "metadata": {},
   "outputs": [
    {
     "data": {
      "text/plain": [
       "Ttest_indResult(statistic=0.765995286469164, pvalue=0.4440741806044214)"
      ]
     },
     "execution_count": 274,
     "metadata": {},
     "output_type": "execute_result"
    }
   ],
   "source": [
    "children2_15_25 = df_full[(df_full['children']==2) & (df_full['income_group']=='15000-24999')]\n",
    "children3_15_25 = df_full[(df_full['children']==3) & (df_full['income_group']=='15000-24999')]\n",
    "\n",
    "stats.ttest_ind(children2['debt'], children3['debt'], equal_var=False)"
   ]
  },
  {
   "cell_type": "markdown",
   "metadata": {},
   "source": [
    "Still, there is no statistically significant difference between the default rates for these sub-groups as well."
   ]
  },
  {
   "cell_type": "markdown",
   "metadata": {},
   "source": [
    "**Hypothesis 4. How does credit purpose affect the default rate?** <a id='hypotheses_testing_purpose'></a> "
   ]
  },
  {
   "cell_type": "code",
   "execution_count": 275,
   "metadata": {},
   "outputs": [
    {
     "data": {
      "text/html": [
       "<div>\n",
       "<style scoped>\n",
       "    .dataframe tbody tr th:only-of-type {\n",
       "        vertical-align: middle;\n",
       "    }\n",
       "\n",
       "    .dataframe tbody tr th {\n",
       "        vertical-align: top;\n",
       "    }\n",
       "\n",
       "    .dataframe thead tr th {\n",
       "        text-align: left;\n",
       "    }\n",
       "\n",
       "    .dataframe thead tr:last-of-type th {\n",
       "        text-align: right;\n",
       "    }\n",
       "</style>\n",
       "<table border=\"1\" class=\"dataframe\">\n",
       "  <thead>\n",
       "    <tr>\n",
       "      <th></th>\n",
       "      <th colspan=\"2\" halign=\"left\">debt</th>\n",
       "    </tr>\n",
       "    <tr>\n",
       "      <th></th>\n",
       "      <th>sum</th>\n",
       "      <th>count</th>\n",
       "    </tr>\n",
       "    <tr>\n",
       "      <th>purpose_group</th>\n",
       "      <th></th>\n",
       "      <th></th>\n",
       "    </tr>\n",
       "  </thead>\n",
       "  <tbody>\n",
       "    <tr>\n",
       "      <th>car</th>\n",
       "      <td>403</td>\n",
       "      <td>4315</td>\n",
       "    </tr>\n",
       "    <tr>\n",
       "      <th>commercial real estate</th>\n",
       "      <td>151</td>\n",
       "      <td>1968</td>\n",
       "    </tr>\n",
       "    <tr>\n",
       "      <th>education</th>\n",
       "      <td>370</td>\n",
       "      <td>4022</td>\n",
       "    </tr>\n",
       "    <tr>\n",
       "      <th>own housing</th>\n",
       "      <td>298</td>\n",
       "      <td>4455</td>\n",
       "    </tr>\n",
       "    <tr>\n",
       "      <th>real estate general</th>\n",
       "      <td>333</td>\n",
       "      <td>4417</td>\n",
       "    </tr>\n",
       "    <tr>\n",
       "      <th>wedding</th>\n",
       "      <td>186</td>\n",
       "      <td>2348</td>\n",
       "    </tr>\n",
       "  </tbody>\n",
       "</table>\n",
       "</div>"
      ],
      "text/plain": [
       "                       debt      \n",
       "                        sum count\n",
       "purpose_group                    \n",
       "car                     403  4315\n",
       "commercial real estate  151  1968\n",
       "education               370  4022\n",
       "own housing             298  4455\n",
       "real estate general     333  4417\n",
       "wedding                 186  2348"
      ]
     },
     "execution_count": 275,
     "metadata": {},
     "output_type": "execute_result"
    }
   ],
   "source": [
    "# Check the purpose data and paying back on time\n",
    "df_full.groupby(['purpose_group']).agg({'debt': ['sum', 'count']})"
   ]
  },
  {
   "cell_type": "code",
   "execution_count": 276,
   "metadata": {},
   "outputs": [
    {
     "data": {
      "text/plain": [
       "purpose_group\n",
       "car                       0.093395\n",
       "commercial real estate    0.076728\n",
       "education                 0.091994\n",
       "own housing               0.066891\n",
       "real estate general       0.075391\n",
       "wedding                   0.079216\n",
       "Name: debt, dtype: float64"
      ]
     },
     "execution_count": 276,
     "metadata": {},
     "output_type": "execute_result"
    }
   ],
   "source": [
    "# Calculating default-rate based on purpose data\n",
    "df_full.groupby(['purpose_group'])['debt'].apply(lambda x: x.sum()/x.count())"
   ]
  },
  {
   "cell_type": "markdown",
   "metadata": {},
   "source": [
    "**Hypothesis 4. Conclusion**\n",
    "\n",
    "The default rates for educational purposes and for buying a car seem to be the highest, while for mortgages the lowest. To get some sense of statistical significance of this observation, we can run a statistical significance test for two categories, say, educational purposes vs. wedding:"
   ]
  },
  {
   "cell_type": "code",
   "execution_count": 277,
   "metadata": {},
   "outputs": [
    {
     "data": {
      "text/plain": [
       "Ttest_indResult(statistic=1.7744692689624577, pvalue=0.07604426161580398)"
      ]
     },
     "execution_count": 277,
     "metadata": {},
     "output_type": "execute_result"
    }
   ],
   "source": [
    "educational = df_full[df_full['purpose_group']=='education']\n",
    "wedding = df_full[df_full['purpose_group']=='wedding']\n",
    "\n",
    "ht_results['purpose_group'] = stats.ttest_ind(educational['debt'], wedding['debt'], equal_var=False)\n",
    "ht_results['purpose_group']"
   ]
  },
  {
   "cell_type": "markdown",
   "metadata": {},
   "source": [
    "This time, we see that the p-value is above the regular significance level 0.05; thus, we cannot reject the null-hypothesis that the default rates for loans for educational purposes and for having a wedding ceremony are the same. Further investigation into statistical significance of the difference between the sample means for different categories is needed to confirm (or reject) its meaningfulness in for each pair.\n",
    "\n",
    "[Back to Contents](#back)"
   ]
  },
  {
   "cell_type": "markdown",
   "metadata": {},
   "source": [
    "**Hypothesis 5. How does gender affect the default rate?** <a id='hypotheses_testing_gender'></a> "
   ]
  },
  {
   "cell_type": "code",
   "execution_count": 278,
   "metadata": {},
   "outputs": [
    {
     "data": {
      "text/html": [
       "<div>\n",
       "<style scoped>\n",
       "    .dataframe tbody tr th:only-of-type {\n",
       "        vertical-align: middle;\n",
       "    }\n",
       "\n",
       "    .dataframe tbody tr th {\n",
       "        vertical-align: top;\n",
       "    }\n",
       "\n",
       "    .dataframe thead tr th {\n",
       "        text-align: left;\n",
       "    }\n",
       "\n",
       "    .dataframe thead tr:last-of-type th {\n",
       "        text-align: right;\n",
       "    }\n",
       "</style>\n",
       "<table border=\"1\" class=\"dataframe\">\n",
       "  <thead>\n",
       "    <tr>\n",
       "      <th></th>\n",
       "      <th colspan=\"2\" halign=\"left\">debt</th>\n",
       "    </tr>\n",
       "    <tr>\n",
       "      <th></th>\n",
       "      <th>sum</th>\n",
       "      <th>count</th>\n",
       "    </tr>\n",
       "    <tr>\n",
       "      <th>gender</th>\n",
       "      <th></th>\n",
       "      <th></th>\n",
       "    </tr>\n",
       "  </thead>\n",
       "  <tbody>\n",
       "    <tr>\n",
       "      <th>F</th>\n",
       "      <td>994</td>\n",
       "      <td>14236</td>\n",
       "    </tr>\n",
       "    <tr>\n",
       "      <th>M</th>\n",
       "      <td>747</td>\n",
       "      <td>7288</td>\n",
       "    </tr>\n",
       "    <tr>\n",
       "      <th>XNA</th>\n",
       "      <td>0</td>\n",
       "      <td>1</td>\n",
       "    </tr>\n",
       "  </tbody>\n",
       "</table>\n",
       "</div>"
      ],
      "text/plain": [
       "       debt       \n",
       "        sum  count\n",
       "gender            \n",
       "F       994  14236\n",
       "M       747   7288\n",
       "XNA       0      1"
      ]
     },
     "execution_count": 278,
     "metadata": {},
     "output_type": "execute_result"
    }
   ],
   "source": [
    "# Check the gender data and paying back on time\n",
    "df_full.groupby(['gender']).agg({'debt': ['sum', 'count']})"
   ]
  },
  {
   "cell_type": "code",
   "execution_count": 279,
   "metadata": {},
   "outputs": [
    {
     "data": {
      "text/plain": [
       "gender\n",
       "F      0.069823\n",
       "M      0.102497\n",
       "XNA    0.000000\n",
       "Name: debt, dtype: float64"
      ]
     },
     "execution_count": 279,
     "metadata": {},
     "output_type": "execute_result"
    }
   ],
   "source": [
    "# Calculating default-rate based on gender data\n",
    "df_full.groupby(['gender'])['debt'].apply(lambda x: x.sum()/x.count())"
   ]
  },
  {
   "cell_type": "markdown",
   "metadata": {},
   "source": [
    "**Hypothesis 5. Conclusion**\n",
    "\n",
    "The default rate for men seem to be so much higher than that for women that we should have little doubts in it. Nevertheless, only a significance test can confirm our conclusion:"
   ]
  },
  {
   "cell_type": "code",
   "execution_count": 280,
   "metadata": {},
   "outputs": [
    {
     "data": {
      "text/plain": [
       "Ttest_indResult(statistic=7.881536247526525, pvalue=3.4974766209953634e-15)"
      ]
     },
     "execution_count": 280,
     "metadata": {},
     "output_type": "execute_result"
    }
   ],
   "source": [
    "men = df_full[df_full['gender']=='M']\n",
    "women = df_full[df_full['gender']=='F']\n",
    "\n",
    "ht_results['gender'] = stats.ttest_ind(men['debt'], women['debt'], equal_var=False)\n",
    "ht_results['gender']"
   ]
  },
  {
   "cell_type": "markdown",
   "metadata": {},
   "source": [
    "As we suggested above, the difference between the default rates for men and for women is of high statistical significance.\n",
    "\n",
    "[Back to Contents](#back)"
   ]
  },
  {
   "cell_type": "markdown",
   "metadata": {},
   "source": [
    "**Hypothesis 6. How does work experience affect the default rate?** <a id='hypotheses_testing_exp'></a> "
   ]
  },
  {
   "cell_type": "code",
   "execution_count": 281,
   "metadata": {},
   "outputs": [
    {
     "data": {
      "text/html": [
       "<div>\n",
       "<style scoped>\n",
       "    .dataframe tbody tr th:only-of-type {\n",
       "        vertical-align: middle;\n",
       "    }\n",
       "\n",
       "    .dataframe tbody tr th {\n",
       "        vertical-align: top;\n",
       "    }\n",
       "\n",
       "    .dataframe thead tr th {\n",
       "        text-align: left;\n",
       "    }\n",
       "\n",
       "    .dataframe thead tr:last-of-type th {\n",
       "        text-align: right;\n",
       "    }\n",
       "</style>\n",
       "<table border=\"1\" class=\"dataframe\">\n",
       "  <thead>\n",
       "    <tr>\n",
       "      <th></th>\n",
       "      <th colspan=\"2\" halign=\"left\">debt</th>\n",
       "    </tr>\n",
       "    <tr>\n",
       "      <th></th>\n",
       "      <th>sum</th>\n",
       "      <th>count</th>\n",
       "    </tr>\n",
       "    <tr>\n",
       "      <th>exp_group</th>\n",
       "      <th></th>\n",
       "      <th></th>\n",
       "    </tr>\n",
       "  </thead>\n",
       "  <tbody>\n",
       "    <tr>\n",
       "      <th>2 - 4 years</th>\n",
       "      <td>397</td>\n",
       "      <td>3873</td>\n",
       "    </tr>\n",
       "    <tr>\n",
       "      <th>4 - 7 years</th>\n",
       "      <td>361</td>\n",
       "      <td>4531</td>\n",
       "    </tr>\n",
       "    <tr>\n",
       "      <th>7 - 20 years</th>\n",
       "      <td>305</td>\n",
       "      <td>4656</td>\n",
       "    </tr>\n",
       "    <tr>\n",
       "      <th>less than 2 years</th>\n",
       "      <td>431</td>\n",
       "      <td>3850</td>\n",
       "    </tr>\n",
       "    <tr>\n",
       "      <th>more than 20 years</th>\n",
       "      <td>30</td>\n",
       "      <td>757</td>\n",
       "    </tr>\n",
       "    <tr>\n",
       "      <th>n.a.</th>\n",
       "      <td>217</td>\n",
       "      <td>3858</td>\n",
       "    </tr>\n",
       "  </tbody>\n",
       "</table>\n",
       "</div>"
      ],
      "text/plain": [
       "                   debt      \n",
       "                    sum count\n",
       "exp_group                    \n",
       "2 - 4 years         397  3873\n",
       "4 - 7 years         361  4531\n",
       "7 - 20 years        305  4656\n",
       "less than 2 years   431  3850\n",
       "more than 20 years   30   757\n",
       "n.a.                217  3858"
      ]
     },
     "execution_count": 281,
     "metadata": {},
     "output_type": "execute_result"
    }
   ],
   "source": [
    "# Check the work experience data and paying back on time\n",
    "df_full.groupby(['exp_group']).agg({'debt': ['sum', 'count']})"
   ]
  },
  {
   "cell_type": "code",
   "execution_count": 282,
   "metadata": {},
   "outputs": [
    {
     "data": {
      "text/plain": [
       "exp_group\n",
       "2 - 4 years           0.102505\n",
       "4 - 7 years           0.079673\n",
       "7 - 20 years          0.065507\n",
       "less than 2 years     0.111948\n",
       "more than 20 years    0.039630\n",
       "n.a.                  0.056247\n",
       "Name: debt, dtype: float64"
      ]
     },
     "execution_count": 282,
     "metadata": {},
     "output_type": "execute_result"
    }
   ],
   "source": [
    "# Calculating default-rate based on work experience data\n",
    "df_full.groupby(['exp_group'])['debt'].apply(lambda x: x.sum()/x.count())"
   ]
  },
  {
   "cell_type": "markdown",
   "metadata": {},
   "source": [
    "**Hypothesis 6. Conclusion**\n",
    "\n",
    "The default rates for customers with less than 2 years and between 2 and 4 years of work experience seem to be much higher, while in general the default rates have a tendency to become lower with years of experience (which may be also correlated with age). The overall default rate for retirees seems to be a bit higher than for working people with more than 20 years of experience; this can be due to the fact that not all the retirees belong to higher age groups, some of them are retire in their 50th and even 40th (see the graph below). Let's test the null hypothesis that the sample mean (the default rate) for 'less than 2 years' category is the same as for '4-7 years' category."
   ]
  },
  {
   "cell_type": "code",
   "execution_count": 283,
   "metadata": {},
   "outputs": [
    {
     "data": {
      "text/plain": [
       "Ttest_indResult(statistic=4.979167493256393, pvalue=6.525756044560434e-07)"
      ]
     },
     "execution_count": 283,
     "metadata": {},
     "output_type": "execute_result"
    }
   ],
   "source": [
    "less2 = df_full[df_full['exp_group']=='less than 2 years']\n",
    "four2seven = df_full[df_full['exp_group']=='4 - 7 years']\n",
    "\n",
    "ht_results['exp_group'] = stats.ttest_ind(less2['debt'], four2seven['debt'], equal_var=False)\n",
    "ht_results['exp_group']"
   ]
  },
  {
   "cell_type": "markdown",
   "metadata": {},
   "source": [
    "Indeed, the p-value is below 0.05; thus, we cannot accept the hypothesis stating that the default rates for the categories under consideration are the same. Nevertheless, further investigation into statistical significance of the difference between the sample means for different categories is needed to confirm (or reject) its meaningfulness in for each pair."
   ]
  },
  {
   "cell_type": "code",
   "execution_count": 284,
   "metadata": {
    "scrolled": true
   },
   "outputs": [
    {
     "data": {
      "image/png": "[encoded data removed]",
      "text/plain": [
       "<Figure size 432x288 with 1 Axes>"
      ]
     },
     "metadata": {
      "needs_background": "light"
     },
     "output_type": "display_data"
    }
   ],
   "source": [
    "ax = df_full[df_full['income_type']=='retiree']['age_group7'].hist()"
   ]
  },
  {
   "cell_type": "markdown",
   "metadata": {},
   "source": [
    "[Back to Contents](#back)"
   ]
  },
  {
   "cell_type": "markdown",
   "metadata": {},
   "source": [
    "**Hypothesis 7. How does the level of education affect the default rate?**<a id='hypotheses_testing_eduction'></a> "
   ]
  },
  {
   "cell_type": "code",
   "execution_count": 285,
   "metadata": {},
   "outputs": [
    {
     "data": {
      "text/html": [
       "<div>\n",
       "<style scoped>\n",
       "    .dataframe tbody tr th:only-of-type {\n",
       "        vertical-align: middle;\n",
       "    }\n",
       "\n",
       "    .dataframe tbody tr th {\n",
       "        vertical-align: top;\n",
       "    }\n",
       "\n",
       "    .dataframe thead tr th {\n",
       "        text-align: left;\n",
       "    }\n",
       "\n",
       "    .dataframe thead tr:last-of-type th {\n",
       "        text-align: right;\n",
       "    }\n",
       "</style>\n",
       "<table border=\"1\" class=\"dataframe\">\n",
       "  <thead>\n",
       "    <tr>\n",
       "      <th></th>\n",
       "      <th colspan=\"2\" halign=\"left\">debt</th>\n",
       "    </tr>\n",
       "    <tr>\n",
       "      <th></th>\n",
       "      <th>sum</th>\n",
       "      <th>count</th>\n",
       "    </tr>\n",
       "    <tr>\n",
       "      <th>education</th>\n",
       "      <th></th>\n",
       "      <th></th>\n",
       "    </tr>\n",
       "  </thead>\n",
       "  <tbody>\n",
       "    <tr>\n",
       "      <th>bachelor's degree</th>\n",
       "      <td>278</td>\n",
       "      <td>5260</td>\n",
       "    </tr>\n",
       "    <tr>\n",
       "      <th>graduate degree</th>\n",
       "      <td>0</td>\n",
       "      <td>6</td>\n",
       "    </tr>\n",
       "    <tr>\n",
       "      <th>primary education</th>\n",
       "      <td>31</td>\n",
       "      <td>282</td>\n",
       "    </tr>\n",
       "    <tr>\n",
       "      <th>secondary education</th>\n",
       "      <td>1364</td>\n",
       "      <td>15233</td>\n",
       "    </tr>\n",
       "    <tr>\n",
       "      <th>some college</th>\n",
       "      <td>68</td>\n",
       "      <td>744</td>\n",
       "    </tr>\n",
       "  </tbody>\n",
       "</table>\n",
       "</div>"
      ],
      "text/plain": [
       "                     debt       \n",
       "                      sum  count\n",
       "education                       \n",
       "bachelor's degree     278   5260\n",
       "graduate degree         0      6\n",
       "primary education      31    282\n",
       "secondary education  1364  15233\n",
       "some college           68    744"
      ]
     },
     "execution_count": 285,
     "metadata": {},
     "output_type": "execute_result"
    }
   ],
   "source": [
    "# Check the level of education data and paying back on time\n",
    "df_full.groupby(['education']).agg({'debt': ['sum', 'count']})"
   ]
  },
  {
   "cell_type": "code",
   "execution_count": 286,
   "metadata": {},
   "outputs": [
    {
     "data": {
      "text/plain": [
       "education\n",
       "bachelor's degree      0.052852\n",
       "graduate degree        0.000000\n",
       "primary education      0.109929\n",
       "secondary education    0.089542\n",
       "some college           0.091398\n",
       "Name: debt, dtype: float64"
      ]
     },
     "execution_count": 286,
     "metadata": {},
     "output_type": "execute_result"
    }
   ],
   "source": [
    "# Calculating default-rate based on the level of education\n",
    "df_full.groupby(['education'])['debt'].apply(lambda x: x.sum()/x.count())"
   ]
  },
  {
   "cell_type": "markdown",
   "metadata": {},
   "source": [
    "**Hypothesis 7. Conclusion**\n",
    "\n",
    "Overall default rates for customers with non-acaemic degrees seem to be much higher, while the default rate for sutomers holding a bachelor's degree is sighificantly lower. There is not enough data on customers with graduate degrees. Let's test the null hypothesis that the sample mean (the default rate) for customers with primary education is the same as for customers with some college education:"
   ]
  },
  {
   "cell_type": "code",
   "execution_count": 287,
   "metadata": {},
   "outputs": [
    {
     "data": {
      "text/plain": [
       "Ttest_indResult(statistic=0.8640506179296219, pvalue=0.38799900027199286)"
      ]
     },
     "execution_count": 287,
     "metadata": {},
     "output_type": "execute_result"
    }
   ],
   "source": [
    "primary = df_full[df_full['education']=='primary education']\n",
    "some = df_full[df_full['education']=='some college']\n",
    "\n",
    "ht_results['education'] = stats.ttest_ind(primary['debt'], some['debt'], equal_var=False)\n",
    "ht_results['education']"
   ]
  },
  {
   "cell_type": "markdown",
   "metadata": {},
   "source": [
    "This time, we see that the p-value is well above the regular significance level 0.05; thus, we cannot reject the null-hypothesis that the default rates for customers with these two levels of education are the same. Further investigation into statistical significance of the difference between the sample means for different categories is needed to confirm (or reject) its meaningfulness in for each pair.\n",
    "\n",
    "[Back to Contents](#back)"
   ]
  },
  {
   "cell_type": "markdown",
   "metadata": {},
   "source": [
    "**Hypothesis 8. How does age affect the default rate?** <a id='hypotheses_testing_age'></a> "
   ]
  },
  {
   "cell_type": "code",
   "execution_count": 288,
   "metadata": {},
   "outputs": [
    {
     "data": {
      "text/html": [
       "<div>\n",
       "<style scoped>\n",
       "    .dataframe tbody tr th:only-of-type {\n",
       "        vertical-align: middle;\n",
       "    }\n",
       "\n",
       "    .dataframe tbody tr th {\n",
       "        vertical-align: top;\n",
       "    }\n",
       "\n",
       "    .dataframe thead tr th {\n",
       "        text-align: left;\n",
       "    }\n",
       "\n",
       "    .dataframe thead tr:last-of-type th {\n",
       "        text-align: right;\n",
       "    }\n",
       "</style>\n",
       "<table border=\"1\" class=\"dataframe\">\n",
       "  <thead>\n",
       "    <tr>\n",
       "      <th></th>\n",
       "      <th colspan=\"2\" halign=\"left\">debt</th>\n",
       "    </tr>\n",
       "    <tr>\n",
       "      <th></th>\n",
       "      <th>sum</th>\n",
       "      <th>count</th>\n",
       "    </tr>\n",
       "    <tr>\n",
       "      <th>age_group7</th>\n",
       "      <th></th>\n",
       "      <th></th>\n",
       "    </tr>\n",
       "  </thead>\n",
       "  <tbody>\n",
       "    <tr>\n",
       "      <th>20-29</th>\n",
       "      <td>348</td>\n",
       "      <td>3169</td>\n",
       "    </tr>\n",
       "    <tr>\n",
       "      <th>30-39</th>\n",
       "      <td>555</td>\n",
       "      <td>5720</td>\n",
       "    </tr>\n",
       "    <tr>\n",
       "      <th>40-49</th>\n",
       "      <td>408</td>\n",
       "      <td>5406</td>\n",
       "    </tr>\n",
       "    <tr>\n",
       "      <th>50-59</th>\n",
       "      <td>305</td>\n",
       "      <td>4679</td>\n",
       "    </tr>\n",
       "    <tr>\n",
       "      <th>60-69</th>\n",
       "      <td>118</td>\n",
       "      <td>2366</td>\n",
       "    </tr>\n",
       "    <tr>\n",
       "      <th>above 70</th>\n",
       "      <td>6</td>\n",
       "      <td>171</td>\n",
       "    </tr>\n",
       "    <tr>\n",
       "      <th>under 20</th>\n",
       "      <td>1</td>\n",
       "      <td>14</td>\n",
       "    </tr>\n",
       "  </tbody>\n",
       "</table>\n",
       "</div>"
      ],
      "text/plain": [
       "           debt      \n",
       "            sum count\n",
       "age_group7           \n",
       "20-29       348  3169\n",
       "30-39       555  5720\n",
       "40-49       408  5406\n",
       "50-59       305  4679\n",
       "60-69       118  2366\n",
       "above 70      6   171\n",
       "under 20      1    14"
      ]
     },
     "execution_count": 288,
     "metadata": {},
     "output_type": "execute_result"
    }
   ],
   "source": [
    "# Check the level of education data and paying back on time\n",
    "df_full.groupby(['age_group7']).agg({'debt': ['sum', 'count']})"
   ]
  },
  {
   "cell_type": "code",
   "execution_count": 289,
   "metadata": {},
   "outputs": [
    {
     "data": {
      "text/plain": [
       "age_group7\n",
       "20-29       0.109814\n",
       "30-39       0.097028\n",
       "40-49       0.075472\n",
       "50-59       0.065185\n",
       "60-69       0.049873\n",
       "above 70    0.035088\n",
       "under 20    0.071429\n",
       "Name: debt, dtype: float64"
      ]
     },
     "execution_count": 289,
     "metadata": {},
     "output_type": "execute_result"
    }
   ],
   "source": [
    "# Calculating default-rate based on the level of education\n",
    "df_full.groupby(['age_group7'])['debt'].apply(lambda x: x.sum()/x.count())"
   ]
  },
  {
   "cell_type": "markdown",
   "metadata": {},
   "source": [
    "**Hypothesis 8. Conclusion**\n",
    "\n",
    "The default rates have a general tendency to become lower with the age (note: there is not enough data to draw conclusions for customers aged below 20). Let's test the two closest age categories, '20-29' and '30-39', and then, for example, '30-39' and '40-49:"
   ]
  },
  {
   "cell_type": "code",
   "execution_count": 290,
   "metadata": {},
   "outputs": [
    {
     "data": {
      "text/plain": [
       "Ttest_indResult(statistic=1.881561119103833, pvalue=0.05994212335896676)"
      ]
     },
     "execution_count": 290,
     "metadata": {},
     "output_type": "execute_result"
    }
   ],
   "source": [
    "cat_20_29 = df_full[df_full['age_group7']=='20-29']\n",
    "cat_30_39 = df_full[df_full['age_group7']=='30-39']\n",
    "\n",
    "stats.ttest_ind(cat_20_29['debt'], cat_30_39['debt'], equal_var=False)"
   ]
  },
  {
   "cell_type": "code",
   "execution_count": 291,
   "metadata": {},
   "outputs": [
    {
     "data": {
      "text/plain": [
       "Ttest_indResult(statistic=4.057180652224197, pvalue=5.000906292333654e-05)"
      ]
     },
     "execution_count": 291,
     "metadata": {},
     "output_type": "execute_result"
    }
   ],
   "source": [
    "cat_40_49 = df_full[df_full['age_group7']=='40-49']\n",
    "\n",
    "ht_results['age_group7'] = stats.ttest_ind(cat_30_39['debt'], cat_40_49['debt'], equal_var=False)\n",
    "ht_results['age_group7']"
   ]
  },
  {
   "cell_type": "markdown",
   "metadata": {},
   "source": [
    "In the first case, the null hypothesis of similar default rates for the corresponding categories cannot be rejected, while between the default rates for the customers aged 30 to 39 and for those aged 40 to 49 are significantly different. Further investigation into statistical significance of the difference between the sample means for different categories is needed to confirm (or reject) its meaningfulness in for each pair.\n",
    "\n",
    "[Back to Contents](#back)"
   ]
  },
  {
   "cell_type": "markdown",
   "metadata": {},
   "source": [
    "# Stage 4. General Conclusion: Findings and Recommendations <a id='general_conclusions'></a> \n",
    "\n",
    "To make the right decisions on the structure of a future credit scoring model, a bank has requested to reveal sound assumptions with regard to customers' characteristics which have the most impact on the probability of a particular customer to payout the loan. To this purpose, we formulated a number of starting hypotheses to test on the existing data provided by the loan division of the bank - after ensuring the highest possible data quality.\n",
    "\n",
    "Based on their experience, the loan division of the bank suggested that the merital status and the number of children should have considerable impact. Thus, our initial list of hypotheses included:\n",
    "1. Marital status has an impact on whether the client will default on a loan (one of the initial assumption provided by the loan division). \n",
    "2. Number of children has an impact on whether the client will default on a loan (additional assumption provided by the loan division). \n",
    "3. Other variables have impact as well.\n",
    "\n",
    "Data on customers’ credit worthiness were provided in the file `/datasets/credit_scoring_eng.csv`. First, we have explored the quality of the data, revealed its issues are and the most appropriate ways to fix them. Then, during data preprocessing stage, we filled in the missing values, checked for duplicates and other artifacts, and categorized the data to enable further hypotheses testing."
   ]
  },
  {
   "cell_type": "markdown",
   "metadata": {},
   "source": [
    "While conducting [initial overview](#data_overview_exploration) of the data, we found that the data sample consisted of 21525 rows and 12 columns. It did not have any specific issues with column names and the data types look to be appropriate. Three significant issues with the data quality have been immediatelly revealed:\n",
    "1. Negative values for days_employed variable and value(s) with what seems to be impossibly high number of days to work;\n",
    "2. Implicit duplicates / variaty of options in education and purpose column;\n",
    "3. 10% of the rows, which comprises a considerably large piece of data, miss values both in `days_employed` and in `total_income` columns.\n",
    "\n"
   ]
  },
  {
   "cell_type": "markdown",
   "metadata": {},
   "source": [
    "[After detailed comparison of the value distributions](#missing_values) for each variable in two subsets of the initial data, the one where the values for `days_employed` and `total_income` were both missing and the second one with complete set of data, we did not find any specific pattern which could explain the missing values. Thus, we concluded that missing values were randomly missing."
   ]
  },
  {
   "cell_type": "markdown",
   "metadata": {},
   "source": [
    "Our final conclusions with regard to the missing values were as follows:\n",
    "- there was a subset of 2174 entries which lack the values in `days_employed` and `total_income` columns (you can see [Data Exploration](#data_overview_exploration) task for a detailed step-by-step-explanation of how we got to conclude this);\n",
    "- missing values were random (see above); possible reasons for their appearance can be technical issues during data entry or, later on, during data retrival from the bank's database, like incorrect SQL query. This would be my first assumtion to address to the loan division. Deeper in, lack of integrety in the bank's database can be also turn to be the case. Theoretically, this may result in a situation when, for the rest of the columns, some entries from the subset with NaN values can match entries from the data subset with complete set of values. Unfortunately, we were not provided with unique identifiers for the customer entries and, while the columns with complete data (`children`, `dob_years`, `education`, `family_status`, `gender`, `income_type`, `debt`, and `purpose`) cannot define a customer specifically enough (there can and even should be people with identical profiles, otherwise there would be no sense to build a scoring model), we had to assume that those are unique customers for whom `days_employed` and `total_income` values were missing.\n"
   ]
  },
  {
   "cell_type": "markdown",
   "metadata": {},
   "source": [
    "As to duplicates, during the [initial research on the missing values](#missing_values), we have seen that there were two columns with similar values in our dataset, `education` and `purpose`. The latter one we have treated by grouping purposes into groups and adding correposnding colum; to treat the former one, we have applied str.lower() method to the column. There were minor issues with other variables, e.g. we replaced the 'entrepreneur' category of the `income_type` variable with the 'business' category, the one with more entries assigned to it. Across the variables we did not find duplicate values for the subset for which there are no missing values, and eleborated on the fact that we cannot drop seemingly duplicate entries, since one cannot extract enough information from the given parameters, to conclude that they belong to the same customer. The opposite is true, it [follows](#duplicates2) that we should assume those entries to actually belong to different customers."
   ]
  },
  {
   "cell_type": "markdown",
   "metadata": {},
   "source": [
    "[To restore values in `total_income`](#restoring_missing_values1) we analyzed the income distribution in our \"complete' data subset and we will do this for age groups (which we [constructed beforehand](#missing_values_part2)), gender, and education (which we have [fixed](#duplicates1)). We drew upon the already common knowledge that those are the variables having the most impact on the income level: years of education are thought to have positive impact, women are still paid less, even in high-tech, and there are different periods of life when people can have more income or less, depending in which period they find themselves. We checked our assumtion that the median is a better indicator for `total_income` than the mean (income typically has more issues with outliers). We created special function to extract the median `total_income` values for each of the resulting sub-categories and to replace the missing values for which we used the fillna() method."
   ]
  },
  {
   "cell_type": "markdown",
   "metadata": {},
   "source": [
    "[While restoring values in `days_employed`](#restoring_missing_values2), we saw a whole subset of strange day of experience values (with the mean of 365000 days) which was entirely about retiree customers, while the \"regular\" subset did not have retiree customers at all. That meant that we had to add the `income_type` variable to the list of columns to group by when applying the mentione above function for calculating aggregate stats values for customized customer sub-groups. <a id='income_type_rename'></a>."
   ]
  },
  {
   "cell_type": "markdown",
   "metadata": {},
   "source": [
    "[After conducting additional check for any minor issues left](#restoring_missing_values3) for other variables, like some minor amount of entries with '-1' value for the `children` variable, we completed adding category variables and moved to hypotheses testing."
   ]
  },
  {
   "cell_type": "markdown",
   "metadata": {},
   "source": [
    "[At the hypotheses testing stage](#hypotheses_testing) we calculated the default rates for different sub-groups of cutomers and conducted a number of Welch's t-test to test selected hypotheses. Let's see the results: "
   ]
  },
  {
   "cell_type": "code",
   "execution_count": 292,
   "metadata": {},
   "outputs": [
    {
     "data": {
      "text/html": [
       "<div>\n",
       "<style scoped>\n",
       "    .dataframe tbody tr th:only-of-type {\n",
       "        vertical-align: middle;\n",
       "    }\n",
       "\n",
       "    .dataframe tbody tr th {\n",
       "        vertical-align: top;\n",
       "    }\n",
       "\n",
       "    .dataframe thead th {\n",
       "        text-align: right;\n",
       "    }\n",
       "</style>\n",
       "<table border=\"1\" class=\"dataframe\">\n",
       "  <thead>\n",
       "    <tr style=\"text-align: right;\">\n",
       "      <th></th>\n",
       "      <th>family_status</th>\n",
       "      <th>children_group</th>\n",
       "      <th>children</th>\n",
       "      <th>total_income</th>\n",
       "      <th>purpose_group</th>\n",
       "      <th>gender</th>\n",
       "      <th>exp_group</th>\n",
       "      <th>education</th>\n",
       "      <th>age_group7</th>\n",
       "    </tr>\n",
       "  </thead>\n",
       "  <tbody>\n",
       "    <tr>\n",
       "      <th>0</th>\n",
       "      <td>-3.655924</td>\n",
       "      <td>4.311895</td>\n",
       "      <td>0.765995</td>\n",
       "      <td>2.689011</td>\n",
       "      <td>1.774469</td>\n",
       "      <td>7.881536e+00</td>\n",
       "      <td>4.979167e+00</td>\n",
       "      <td>0.864051</td>\n",
       "      <td>4.057181</td>\n",
       "    </tr>\n",
       "    <tr>\n",
       "      <th>1</th>\n",
       "      <td>0.000260</td>\n",
       "      <td>0.000016</td>\n",
       "      <td>0.444074</td>\n",
       "      <td>0.007185</td>\n",
       "      <td>0.076044</td>\n",
       "      <td>3.497477e-15</td>\n",
       "      <td>6.525756e-07</td>\n",
       "      <td>0.387999</td>\n",
       "      <td>0.000050</td>\n",
       "    </tr>\n",
       "  </tbody>\n",
       "</table>\n",
       "</div>"
      ],
      "text/plain": [
       "   family_status  children_group  children  total_income  purpose_group  \\\n",
       "0      -3.655924        4.311895  0.765995      2.689011       1.774469   \n",
       "1       0.000260        0.000016  0.444074      0.007185       0.076044   \n",
       "\n",
       "         gender     exp_group  education  age_group7  \n",
       "0  7.881536e+00  4.979167e+00   0.864051    4.057181  \n",
       "1  3.497477e-15  6.525756e-07   0.387999    0.000050  "
      ]
     },
     "execution_count": 292,
     "metadata": {},
     "output_type": "execute_result"
    }
   ],
   "source": [
    "pd.DataFrame(ht_results) # index 0 stands for the statistic, index 1 stands for the p-value"
   ]
  },
  {
   "cell_type": "markdown",
   "metadata": {},
   "source": [
    "**From the table above one can conclude that the following customers' characteristics do have impact on the probability of a particular customer to payout the loan (presumably, from the highest to lowest):**\n",
    " 1. [Gender](#hypotheses_testing_gender);\n",
    " 2. [Working experience](#hypotheses_testing_exp);\n",
    " 3. [Children (yes/no)](#hypotheses_testing_children);\n",
    " 4. [Age group](#hypotheses_testing_age);\n",
    " 5. [Family status](#hypotheses_testing_family);\n",
    " 6. [Income level](#hypotheses_testing_income).\n",
    " \n",
    "We had to reject the hypothesis of the number of children impact, which we investigated both in general and for two lowest income samples, though the fact itself of having children has tangible impact on the probability for a customer to payout the loan. The impact of the loan purpose and education level should be considered as questionable. Further investigation is needed.\n",
    " \n",
    "Regarding the development of the credit score model, our recommendation so far would be to make sure that the variables mentioned above are included into the model. In addition, we could discuss with the loan division the issues around variables, like days_employed, total_income, dob_years, children, and income_type, which would hopefully result in the data of higher quality.\n"
   ]
  },
  {
   "cell_type": "markdown",
   "metadata": {},
   "source": [
    "[Back to Contents](#back)"
   ]
  }
 ],
 "metadata": {
  "ExecuteTimeLog": [
   {
    "duration": 2741,
    "start_time": "2021-10-21T01:08:49.480Z"
   },
   {
    "duration": 52,
    "start_time": "2021-10-21T01:08:53.315Z"
   },
   {
    "duration": 49,
    "start_time": "2021-10-21T01:08:57.432Z"
   },
   {
    "duration": 70,
    "start_time": "2021-10-21T01:09:07.706Z"
   },
   {
    "duration": 836,
    "start_time": "2021-12-03T09:28:21.309Z"
   },
   {
    "duration": 47,
    "start_time": "2021-12-03T09:33:55.669Z"
   },
   {
    "duration": 49,
    "start_time": "2021-12-03T09:34:11.192Z"
   },
   {
    "duration": 51,
    "start_time": "2021-12-03T09:34:30.703Z"
   },
   {
    "duration": 51,
    "start_time": "2021-12-03T09:34:33.829Z"
   },
   {
    "duration": 50,
    "start_time": "2021-12-03T09:34:48.822Z"
   },
   {
    "duration": 91,
    "start_time": "2021-12-03T10:30:03.464Z"
   },
   {
    "duration": 3,
    "start_time": "2021-12-03T10:30:18.896Z"
   },
   {
    "duration": 50,
    "start_time": "2021-12-03T11:11:35.524Z"
   },
   {
    "duration": 1590,
    "start_time": "2021-12-07T08:59:01.343Z"
   },
   {
    "duration": 847,
    "start_time": "2021-12-07T08:59:02.935Z"
   },
   {
    "duration": 7,
    "start_time": "2021-12-07T08:59:03.786Z"
   },
   {
    "duration": 33,
    "start_time": "2021-12-07T08:59:03.796Z"
   },
   {
    "duration": 32,
    "start_time": "2021-12-07T08:59:03.832Z"
   },
   {
    "duration": 16,
    "start_time": "2021-12-07T08:59:03.867Z"
   },
   {
    "duration": 12,
    "start_time": "2021-12-07T08:59:03.885Z"
   },
   {
    "duration": 57,
    "start_time": "2021-12-07T08:59:03.902Z"
   },
   {
    "duration": 21,
    "start_time": "2021-12-07T08:59:03.962Z"
   },
   {
    "duration": 25,
    "start_time": "2021-12-07T08:59:03.985Z"
   },
   {
    "duration": 59,
    "start_time": "2021-12-07T08:59:04.012Z"
   },
   {
    "duration": 11,
    "start_time": "2021-12-07T08:59:04.074Z"
   },
   {
    "duration": 5,
    "start_time": "2021-12-07T08:59:04.087Z"
   },
   {
    "duration": 18,
    "start_time": "2021-12-07T08:59:04.094Z"
   },
   {
    "duration": 60,
    "start_time": "2021-12-07T08:59:04.115Z"
   },
   {
    "duration": 12,
    "start_time": "2021-12-07T08:59:04.178Z"
   },
   {
    "duration": 754,
    "start_time": "2021-12-07T08:59:04.192Z"
   },
   {
    "duration": 2594,
    "start_time": "2021-12-07T08:59:04.948Z"
   },
   {
    "duration": 1002,
    "start_time": "2021-12-07T08:59:07.544Z"
   },
   {
    "duration": 727,
    "start_time": "2021-12-07T08:59:08.548Z"
   },
   {
    "duration": 1047,
    "start_time": "2021-12-07T08:59:09.279Z"
   },
   {
    "duration": 1282,
    "start_time": "2021-12-07T08:59:10.328Z"
   },
   {
    "duration": 1069,
    "start_time": "2021-12-07T08:59:11.621Z"
   },
   {
    "duration": 2669,
    "start_time": "2021-12-07T08:59:12.696Z"
   },
   {
    "duration": 13,
    "start_time": "2021-12-07T08:59:15.368Z"
   },
   {
    "duration": 12,
    "start_time": "2021-12-07T08:59:15.384Z"
   },
   {
    "duration": 5,
    "start_time": "2021-12-07T08:59:15.399Z"
   },
   {
    "duration": 17,
    "start_time": "2021-12-07T08:59:15.406Z"
   },
   {
    "duration": 22,
    "start_time": "2021-12-07T08:59:15.460Z"
   },
   {
    "duration": 34,
    "start_time": "2021-12-07T08:59:15.484Z"
   },
   {
    "duration": 952,
    "start_time": "2021-12-07T08:59:15.520Z"
   },
   {
    "duration": 6,
    "start_time": "2021-12-07T08:59:16.475Z"
   },
   {
    "duration": 17,
    "start_time": "2021-12-07T08:59:16.484Z"
   },
   {
    "duration": 59,
    "start_time": "2021-12-07T08:59:16.504Z"
   },
   {
    "duration": 33,
    "start_time": "2021-12-07T08:59:16.566Z"
   },
   {
    "duration": 807,
    "start_time": "2021-12-07T08:59:16.601Z"
   },
   {
    "duration": 686,
    "start_time": "2021-12-07T08:59:17.410Z"
   },
   {
    "duration": 1017,
    "start_time": "2021-12-07T08:59:18.099Z"
   },
   {
    "duration": 14,
    "start_time": "2021-12-07T08:59:19.119Z"
   },
   {
    "duration": 28,
    "start_time": "2021-12-07T08:59:19.136Z"
   },
   {
    "duration": 34,
    "start_time": "2021-12-07T08:59:19.167Z"
   },
   {
    "duration": 32,
    "start_time": "2021-12-07T08:59:19.204Z"
   },
   {
    "duration": 26,
    "start_time": "2021-12-07T08:59:19.260Z"
   },
   {
    "duration": 1118,
    "start_time": "2021-12-07T08:59:19.288Z"
   },
   {
    "duration": 20,
    "start_time": "2021-12-07T08:59:20.409Z"
   },
   {
    "duration": 31,
    "start_time": "2021-12-07T08:59:20.431Z"
   },
   {
    "duration": 16,
    "start_time": "2021-12-07T08:59:20.465Z"
   },
   {
    "duration": 14,
    "start_time": "2021-12-07T08:59:20.484Z"
   },
   {
    "duration": 15,
    "start_time": "2021-12-07T08:59:20.501Z"
   },
   {
    "duration": 56,
    "start_time": "2021-12-07T08:59:20.519Z"
   },
   {
    "duration": 286,
    "start_time": "2021-12-07T08:59:20.578Z"
   },
   {
    "duration": 25,
    "start_time": "2021-12-07T08:59:20.867Z"
   },
   {
    "duration": 17,
    "start_time": "2021-12-07T08:59:20.895Z"
   },
   {
    "duration": 76,
    "start_time": "2021-12-07T08:59:20.914Z"
   },
   {
    "duration": 26,
    "start_time": "2021-12-07T08:59:20.995Z"
   },
   {
    "duration": 10,
    "start_time": "2021-12-07T08:59:21.023Z"
   },
   {
    "duration": 44,
    "start_time": "2021-12-07T08:59:21.036Z"
   },
   {
    "duration": 16,
    "start_time": "2021-12-07T08:59:21.084Z"
   },
   {
    "duration": 17,
    "start_time": "2021-12-07T08:59:21.103Z"
   },
   {
    "duration": 46,
    "start_time": "2021-12-07T08:59:21.123Z"
   },
   {
    "duration": 20,
    "start_time": "2021-12-07T08:59:21.172Z"
   },
   {
    "duration": 15,
    "start_time": "2021-12-07T08:59:21.195Z"
   },
   {
    "duration": 57,
    "start_time": "2021-12-07T08:59:21.213Z"
   },
   {
    "duration": 6,
    "start_time": "2021-12-07T08:59:21.273Z"
   },
   {
    "duration": 15,
    "start_time": "2021-12-07T08:59:21.282Z"
   },
   {
    "duration": 68,
    "start_time": "2021-12-07T08:59:21.300Z"
   },
   {
    "duration": 11,
    "start_time": "2021-12-07T08:59:21.371Z"
   },
   {
    "duration": 10,
    "start_time": "2021-12-07T08:59:21.400Z"
   },
   {
    "duration": 1811,
    "start_time": "2021-12-07T08:59:21.417Z"
   },
   {
    "duration": 45,
    "start_time": "2021-12-07T08:59:23.231Z"
   },
   {
    "duration": 23,
    "start_time": "2021-12-07T08:59:23.280Z"
   },
   {
    "duration": 15,
    "start_time": "2021-12-07T08:59:23.306Z"
   },
   {
    "duration": 360,
    "start_time": "2021-12-07T08:59:23.324Z"
   },
   {
    "duration": 360,
    "start_time": "2021-12-07T08:59:23.687Z"
   },
   {
    "duration": 22,
    "start_time": "2021-12-07T08:59:24.050Z"
   },
   {
    "duration": 389,
    "start_time": "2021-12-07T08:59:24.075Z"
   },
   {
    "duration": 13,
    "start_time": "2021-12-07T08:59:24.466Z"
   },
   {
    "duration": 1542,
    "start_time": "2021-12-07T08:59:24.482Z"
   },
   {
    "duration": 1579,
    "start_time": "2021-12-07T08:59:26.027Z"
   },
   {
    "duration": 567165,
    "start_time": "2021-12-07T08:59:27.608Z"
   },
   {
    "duration": 152237,
    "start_time": "2021-12-07T09:08:54.775Z"
   },
   {
    "duration": 10,
    "start_time": "2021-12-07T09:11:27.015Z"
   },
   {
    "duration": 441,
    "start_time": "2021-12-07T09:11:27.027Z"
   },
   {
    "duration": 2430,
    "start_time": "2021-12-07T09:11:25.040Z"
   },
   {
    "duration": 2426,
    "start_time": "2021-12-07T09:11:25.045Z"
   },
   {
    "duration": 2421,
    "start_time": "2021-12-07T09:11:25.051Z"
   },
   {
    "duration": 2415,
    "start_time": "2021-12-07T09:11:25.059Z"
   },
   {
    "duration": 2411,
    "start_time": "2021-12-07T09:11:25.064Z"
   },
   {
    "duration": 2407,
    "start_time": "2021-12-07T09:11:25.069Z"
   },
   {
    "duration": 2404,
    "start_time": "2021-12-07T09:11:25.074Z"
   },
   {
    "duration": 2400,
    "start_time": "2021-12-07T09:11:25.079Z"
   },
   {
    "duration": 2397,
    "start_time": "2021-12-07T09:11:25.084Z"
   },
   {
    "duration": 2393,
    "start_time": "2021-12-07T09:11:25.089Z"
   },
   {
    "duration": 2390,
    "start_time": "2021-12-07T09:11:25.094Z"
   },
   {
    "duration": 2364,
    "start_time": "2021-12-07T09:11:25.121Z"
   },
   {
    "duration": 2361,
    "start_time": "2021-12-07T09:11:25.126Z"
   },
   {
    "duration": 2351,
    "start_time": "2021-12-07T09:11:25.138Z"
   },
   {
    "duration": 2348,
    "start_time": "2021-12-07T09:11:25.143Z"
   },
   {
    "duration": 2346,
    "start_time": "2021-12-07T09:11:25.148Z"
   },
   {
    "duration": 2342,
    "start_time": "2021-12-07T09:11:25.154Z"
   },
   {
    "duration": 2340,
    "start_time": "2021-12-07T09:11:25.158Z"
   },
   {
    "duration": 2337,
    "start_time": "2021-12-07T09:11:25.163Z"
   },
   {
    "duration": 2332,
    "start_time": "2021-12-07T09:11:25.169Z"
   },
   {
    "duration": 2330,
    "start_time": "2021-12-07T09:11:25.173Z"
   },
   {
    "duration": 2327,
    "start_time": "2021-12-07T09:11:25.177Z"
   },
   {
    "duration": 2323,
    "start_time": "2021-12-07T09:11:25.182Z"
   },
   {
    "duration": 2320,
    "start_time": "2021-12-07T09:11:25.187Z"
   },
   {
    "duration": 2316,
    "start_time": "2021-12-07T09:11:25.192Z"
   },
   {
    "duration": 2313,
    "start_time": "2021-12-07T09:11:25.196Z"
   },
   {
    "duration": 2309,
    "start_time": "2021-12-07T09:11:25.201Z"
   },
   {
    "duration": 2341,
    "start_time": "2021-12-07T09:11:25.219Z"
   },
   {
    "duration": 2339,
    "start_time": "2021-12-07T09:11:25.224Z"
   },
   {
    "duration": 2337,
    "start_time": "2021-12-07T09:11:25.228Z"
   },
   {
    "duration": 2334,
    "start_time": "2021-12-07T09:11:25.234Z"
   },
   {
    "duration": 2332,
    "start_time": "2021-12-07T09:11:25.238Z"
   },
   {
    "duration": 2329,
    "start_time": "2021-12-07T09:11:25.243Z"
   },
   {
    "duration": 2327,
    "start_time": "2021-12-07T09:11:25.248Z"
   },
   {
    "duration": 2324,
    "start_time": "2021-12-07T09:11:25.253Z"
   },
   {
    "duration": 2321,
    "start_time": "2021-12-07T09:11:25.258Z"
   },
   {
    "duration": 2318,
    "start_time": "2021-12-07T09:11:25.263Z"
   },
   {
    "duration": 2314,
    "start_time": "2021-12-07T09:11:25.268Z"
   },
   {
    "duration": 2310,
    "start_time": "2021-12-07T09:11:25.273Z"
   },
   {
    "duration": 2307,
    "start_time": "2021-12-07T09:11:25.277Z"
   },
   {
    "duration": 2303,
    "start_time": "2021-12-07T09:11:25.283Z"
   },
   {
    "duration": 2300,
    "start_time": "2021-12-07T09:11:25.287Z"
   },
   {
    "duration": 2296,
    "start_time": "2021-12-07T09:11:25.292Z"
   },
   {
    "duration": 2294,
    "start_time": "2021-12-07T09:11:25.296Z"
   },
   {
    "duration": 2290,
    "start_time": "2021-12-07T09:11:25.301Z"
   },
   {
    "duration": 2287,
    "start_time": "2021-12-07T09:11:25.306Z"
   },
   {
    "duration": 2284,
    "start_time": "2021-12-07T09:11:25.311Z"
   },
   {
    "duration": 2281,
    "start_time": "2021-12-07T09:11:25.315Z"
   },
   {
    "duration": 2278,
    "start_time": "2021-12-07T09:11:25.320Z"
   },
   {
    "duration": 2274,
    "start_time": "2021-12-07T09:11:25.325Z"
   },
   {
    "duration": 2272,
    "start_time": "2021-12-07T09:11:25.329Z"
   },
   {
    "duration": 2267,
    "start_time": "2021-12-07T09:11:25.335Z"
   },
   {
    "duration": 2319,
    "start_time": "2021-12-07T09:11:25.340Z"
   },
   {
    "duration": 2317,
    "start_time": "2021-12-07T09:11:25.344Z"
   },
   {
    "duration": 2313,
    "start_time": "2021-12-07T09:11:25.349Z"
   },
   {
    "duration": 2309,
    "start_time": "2021-12-07T09:11:25.354Z"
   },
   {
    "duration": 2305,
    "start_time": "2021-12-07T09:11:25.359Z"
   },
   {
    "duration": 2301,
    "start_time": "2021-12-07T09:11:25.364Z"
   },
   {
    "duration": 2298,
    "start_time": "2021-12-07T09:11:25.369Z"
   },
   {
    "duration": 2294,
    "start_time": "2021-12-07T09:11:25.374Z"
   },
   {
    "duration": 2291,
    "start_time": "2021-12-07T09:11:25.379Z"
   },
   {
    "duration": 2287,
    "start_time": "2021-12-07T09:11:25.384Z"
   },
   {
    "duration": 2284,
    "start_time": "2021-12-07T09:11:25.389Z"
   },
   {
    "duration": 10,
    "start_time": "2021-12-07T09:37:04.142Z"
   },
   {
    "duration": 18802,
    "start_time": "2021-12-07T09:37:07.692Z"
   },
   {
    "duration": 69,
    "start_time": "2021-12-07T09:37:26.497Z"
   },
   {
    "duration": 1826,
    "start_time": "2021-12-07T12:21:07.420Z"
   },
   {
    "duration": 316,
    "start_time": "2021-12-07T12:21:09.249Z"
   },
   {
    "duration": 6,
    "start_time": "2021-12-07T12:21:09.569Z"
   },
   {
    "duration": 38,
    "start_time": "2021-12-07T12:21:09.579Z"
   },
   {
    "duration": 22,
    "start_time": "2021-12-07T12:21:09.619Z"
   },
   {
    "duration": 44,
    "start_time": "2021-12-07T12:21:09.644Z"
   },
   {
    "duration": 32,
    "start_time": "2021-12-07T12:21:09.690Z"
   },
   {
    "duration": 33,
    "start_time": "2021-12-07T12:21:09.726Z"
   },
   {
    "duration": 18,
    "start_time": "2021-12-07T12:21:09.763Z"
   },
   {
    "duration": 23,
    "start_time": "2021-12-07T12:21:09.784Z"
   },
   {
    "duration": 32,
    "start_time": "2021-12-07T12:21:09.810Z"
   },
   {
    "duration": 26,
    "start_time": "2021-12-07T12:21:09.844Z"
   },
   {
    "duration": 24,
    "start_time": "2021-12-07T12:21:09.872Z"
   },
   {
    "duration": 45,
    "start_time": "2021-12-07T12:21:09.898Z"
   },
   {
    "duration": 28,
    "start_time": "2021-12-07T12:21:09.945Z"
   },
   {
    "duration": 15,
    "start_time": "2021-12-07T12:21:09.976Z"
   },
   {
    "duration": 829,
    "start_time": "2021-12-07T12:21:09.993Z"
   },
   {
    "duration": 2676,
    "start_time": "2021-12-07T12:21:10.825Z"
   },
   {
    "duration": 1001,
    "start_time": "2021-12-07T12:21:13.504Z"
   },
   {
    "duration": 780,
    "start_time": "2021-12-07T12:21:14.507Z"
   },
   {
    "duration": 760,
    "start_time": "2021-12-07T12:21:15.289Z"
   },
   {
    "duration": 899,
    "start_time": "2021-12-07T12:21:16.052Z"
   },
   {
    "duration": 663,
    "start_time": "2021-12-07T12:21:16.957Z"
   },
   {
    "duration": 1715,
    "start_time": "2021-12-07T12:21:17.623Z"
   },
   {
    "duration": 9,
    "start_time": "2021-12-07T12:21:19.341Z"
   },
   {
    "duration": 22,
    "start_time": "2021-12-07T12:21:19.352Z"
   },
   {
    "duration": 5,
    "start_time": "2021-12-07T12:21:19.376Z"
   },
   {
    "duration": 21,
    "start_time": "2021-12-07T12:21:19.384Z"
   },
   {
    "duration": 27,
    "start_time": "2021-12-07T12:21:19.407Z"
   },
   {
    "duration": 50,
    "start_time": "2021-12-07T12:21:19.437Z"
   },
   {
    "duration": 780,
    "start_time": "2021-12-07T12:21:19.490Z"
   },
   {
    "duration": 5,
    "start_time": "2021-12-07T12:21:20.273Z"
   },
   {
    "duration": 17,
    "start_time": "2021-12-07T12:21:20.280Z"
   },
   {
    "duration": 26,
    "start_time": "2021-12-07T12:21:20.300Z"
   },
   {
    "duration": 57,
    "start_time": "2021-12-07T12:21:20.328Z"
   },
   {
    "duration": 843,
    "start_time": "2021-12-07T12:21:20.388Z"
   },
   {
    "duration": 764,
    "start_time": "2021-12-07T12:21:21.233Z"
   },
   {
    "duration": 836,
    "start_time": "2021-12-07T12:21:22.001Z"
   },
   {
    "duration": 12,
    "start_time": "2021-12-07T12:21:22.840Z"
   },
   {
    "duration": 6,
    "start_time": "2021-12-07T12:21:22.868Z"
   },
   {
    "duration": 43,
    "start_time": "2021-12-07T12:21:22.877Z"
   },
   {
    "duration": 58,
    "start_time": "2021-12-07T12:21:22.922Z"
   },
   {
    "duration": 29,
    "start_time": "2021-12-07T12:21:22.983Z"
   },
   {
    "duration": 994,
    "start_time": "2021-12-07T12:21:23.015Z"
   },
   {
    "duration": 24,
    "start_time": "2021-12-07T12:21:24.011Z"
   },
   {
    "duration": 32,
    "start_time": "2021-12-07T12:21:24.037Z"
   },
   {
    "duration": 28,
    "start_time": "2021-12-07T12:21:24.072Z"
   },
   {
    "duration": 13,
    "start_time": "2021-12-07T12:21:24.102Z"
   },
   {
    "duration": 17,
    "start_time": "2021-12-07T12:21:24.117Z"
   },
   {
    "duration": 41,
    "start_time": "2021-12-07T12:21:24.137Z"
   },
   {
    "duration": 265,
    "start_time": "2021-12-07T12:21:24.181Z"
   },
   {
    "duration": 35,
    "start_time": "2021-12-07T12:21:24.449Z"
   },
   {
    "duration": 14,
    "start_time": "2021-12-07T12:21:24.487Z"
   },
   {
    "duration": 66,
    "start_time": "2021-12-07T12:21:24.503Z"
   },
   {
    "duration": 23,
    "start_time": "2021-12-07T12:21:24.572Z"
   },
   {
    "duration": 7,
    "start_time": "2021-12-07T12:21:24.597Z"
   },
   {
    "duration": 20,
    "start_time": "2021-12-07T12:21:24.606Z"
   },
   {
    "duration": 46,
    "start_time": "2021-12-07T12:21:24.629Z"
   },
   {
    "duration": 22,
    "start_time": "2021-12-07T12:21:24.678Z"
   },
   {
    "duration": 14,
    "start_time": "2021-12-07T12:21:24.703Z"
   },
   {
    "duration": 53,
    "start_time": "2021-12-07T12:21:24.719Z"
   },
   {
    "duration": 14,
    "start_time": "2021-12-07T12:21:24.775Z"
   },
   {
    "duration": 23,
    "start_time": "2021-12-07T12:21:24.792Z"
   },
   {
    "duration": 6,
    "start_time": "2021-12-07T12:21:24.818Z"
   },
   {
    "duration": 47,
    "start_time": "2021-12-07T12:21:24.826Z"
   },
   {
    "duration": 26,
    "start_time": "2021-12-07T12:21:24.876Z"
   },
   {
    "duration": 9,
    "start_time": "2021-12-07T12:21:24.905Z"
   },
   {
    "duration": 8,
    "start_time": "2021-12-07T12:21:24.925Z"
   },
   {
    "duration": 1520,
    "start_time": "2021-12-07T12:21:24.938Z"
   },
   {
    "duration": 28,
    "start_time": "2021-12-07T12:21:26.460Z"
   },
   {
    "duration": 19,
    "start_time": "2021-12-07T12:21:26.491Z"
   },
   {
    "duration": 26,
    "start_time": "2021-12-07T12:21:26.513Z"
   },
   {
    "duration": 351,
    "start_time": "2021-12-07T12:21:26.542Z"
   },
   {
    "duration": 430,
    "start_time": "2021-12-07T12:21:26.895Z"
   },
   {
    "duration": 15,
    "start_time": "2021-12-07T12:21:27.328Z"
   },
   {
    "duration": 422,
    "start_time": "2021-12-07T12:21:27.346Z"
   },
   {
    "duration": 15,
    "start_time": "2021-12-07T12:21:27.770Z"
   },
   {
    "duration": 1881,
    "start_time": "2021-12-07T12:21:27.788Z"
   },
   {
    "duration": 1620,
    "start_time": "2021-12-07T12:21:29.672Z"
   },
   {
    "duration": 612139,
    "start_time": "2021-12-07T12:21:31.294Z"
   },
   {
    "duration": 158232,
    "start_time": "2021-12-07T12:31:43.436Z"
   },
   {
    "duration": 10,
    "start_time": "2021-12-07T12:34:21.671Z"
   },
   {
    "duration": 731,
    "start_time": "2021-12-07T12:34:21.684Z"
   },
   {
    "duration": 2052,
    "start_time": "2021-12-07T12:34:20.365Z"
   },
   {
    "duration": 2048,
    "start_time": "2021-12-07T12:34:20.371Z"
   },
   {
    "duration": 2044,
    "start_time": "2021-12-07T12:34:20.376Z"
   },
   {
    "duration": 2042,
    "start_time": "2021-12-07T12:34:20.380Z"
   },
   {
    "duration": 2039,
    "start_time": "2021-12-07T12:34:20.384Z"
   },
   {
    "duration": 2037,
    "start_time": "2021-12-07T12:34:20.388Z"
   },
   {
    "duration": 2034,
    "start_time": "2021-12-07T12:34:20.392Z"
   },
   {
    "duration": 2032,
    "start_time": "2021-12-07T12:34:20.396Z"
   },
   {
    "duration": 2028,
    "start_time": "2021-12-07T12:34:20.401Z"
   },
   {
    "duration": 2020,
    "start_time": "2021-12-07T12:34:20.411Z"
   },
   {
    "duration": 2016,
    "start_time": "2021-12-07T12:34:20.416Z"
   },
   {
    "duration": 2013,
    "start_time": "2021-12-07T12:34:20.420Z"
   },
   {
    "duration": 2011,
    "start_time": "2021-12-07T12:34:20.424Z"
   },
   {
    "duration": 2007,
    "start_time": "2021-12-07T12:34:20.429Z"
   },
   {
    "duration": 1999,
    "start_time": "2021-12-07T12:34:20.439Z"
   },
   {
    "duration": 1996,
    "start_time": "2021-12-07T12:34:20.443Z"
   },
   {
    "duration": 1993,
    "start_time": "2021-12-07T12:34:20.447Z"
   },
   {
    "duration": 1991,
    "start_time": "2021-12-07T12:34:20.451Z"
   },
   {
    "duration": 1988,
    "start_time": "2021-12-07T12:34:20.455Z"
   },
   {
    "duration": 1986,
    "start_time": "2021-12-07T12:34:20.459Z"
   },
   {
    "duration": 1983,
    "start_time": "2021-12-07T12:34:20.463Z"
   },
   {
    "duration": 1982,
    "start_time": "2021-12-07T12:34:20.466Z"
   },
   {
    "duration": 1979,
    "start_time": "2021-12-07T12:34:20.470Z"
   },
   {
    "duration": 1977,
    "start_time": "2021-12-07T12:34:20.474Z"
   },
   {
    "duration": 1974,
    "start_time": "2021-12-07T12:34:20.478Z"
   },
   {
    "duration": 1972,
    "start_time": "2021-12-07T12:34:20.481Z"
   },
   {
    "duration": 1703,
    "start_time": "2021-12-07T12:34:20.763Z"
   },
   {
    "duration": 1467,
    "start_time": "2021-12-07T12:34:21.000Z"
   },
   {
    "duration": 1260,
    "start_time": "2021-12-07T12:34:21.209Z"
   },
   {
    "duration": 1257,
    "start_time": "2021-12-07T12:34:21.213Z"
   },
   {
    "duration": 1256,
    "start_time": "2021-12-07T12:34:21.216Z"
   },
   {
    "duration": 1255,
    "start_time": "2021-12-07T12:34:21.219Z"
   },
   {
    "duration": 1252,
    "start_time": "2021-12-07T12:34:21.223Z"
   },
   {
    "duration": 1250,
    "start_time": "2021-12-07T12:34:21.227Z"
   },
   {
    "duration": 1247,
    "start_time": "2021-12-07T12:34:21.231Z"
   },
   {
    "duration": 1246,
    "start_time": "2021-12-07T12:34:21.234Z"
   },
   {
    "duration": 1243,
    "start_time": "2021-12-07T12:34:21.238Z"
   },
   {
    "duration": 1242,
    "start_time": "2021-12-07T12:34:21.241Z"
   },
   {
    "duration": 1240,
    "start_time": "2021-12-07T12:34:21.245Z"
   },
   {
    "duration": 1238,
    "start_time": "2021-12-07T12:34:21.248Z"
   },
   {
    "duration": 1235,
    "start_time": "2021-12-07T12:34:21.252Z"
   },
   {
    "duration": 1234,
    "start_time": "2021-12-07T12:34:21.255Z"
   },
   {
    "duration": 1231,
    "start_time": "2021-12-07T12:34:21.259Z"
   },
   {
    "duration": 1223,
    "start_time": "2021-12-07T12:34:21.269Z"
   },
   {
    "duration": 1220,
    "start_time": "2021-12-07T12:34:21.273Z"
   },
   {
    "duration": 1217,
    "start_time": "2021-12-07T12:34:21.277Z"
   },
   {
    "duration": 1215,
    "start_time": "2021-12-07T12:34:21.281Z"
   },
   {
    "duration": 1213,
    "start_time": "2021-12-07T12:34:21.284Z"
   },
   {
    "duration": 1210,
    "start_time": "2021-12-07T12:34:21.288Z"
   },
   {
    "duration": 1209,
    "start_time": "2021-12-07T12:34:21.291Z"
   },
   {
    "duration": 1206,
    "start_time": "2021-12-07T12:34:21.295Z"
   },
   {
    "duration": 1204,
    "start_time": "2021-12-07T12:34:21.299Z"
   },
   {
    "duration": 1202,
    "start_time": "2021-12-07T12:34:21.302Z"
   },
   {
    "duration": 1260,
    "start_time": "2021-12-07T12:34:21.306Z"
   },
   {
    "duration": 1258,
    "start_time": "2021-12-07T12:34:21.310Z"
   },
   {
    "duration": 1257,
    "start_time": "2021-12-07T12:34:21.313Z"
   },
   {
    "duration": 1255,
    "start_time": "2021-12-07T12:34:21.317Z"
   },
   {
    "duration": 1254,
    "start_time": "2021-12-07T12:34:21.320Z"
   },
   {
    "duration": 1252,
    "start_time": "2021-12-07T12:34:21.324Z"
   },
   {
    "duration": 1250,
    "start_time": "2021-12-07T12:34:21.328Z"
   },
   {
    "duration": 1249,
    "start_time": "2021-12-07T12:34:21.331Z"
   },
   {
    "duration": 1248,
    "start_time": "2021-12-07T12:34:21.334Z"
   },
   {
    "duration": 1245,
    "start_time": "2021-12-07T12:34:21.338Z"
   },
   {
    "duration": 570,
    "start_time": "2021-12-07T16:11:59.233Z"
   },
   {
    "duration": 349,
    "start_time": "2021-12-07T16:12:01.591Z"
   },
   {
    "duration": -595,
    "start_time": "2021-12-07T16:12:02.538Z"
   },
   {
    "duration": 377,
    "start_time": "2021-12-07T16:12:45.491Z"
   },
   {
    "duration": -596,
    "start_time": "2021-12-07T16:12:46.467Z"
   },
   {
    "duration": 3,
    "start_time": "2021-12-07T16:12:48.659Z"
   },
   {
    "duration": 382,
    "start_time": "2021-12-07T20:33:19.376Z"
   },
   {
    "duration": 1554,
    "start_time": "2021-12-07T20:33:34.847Z"
   },
   {
    "duration": 296,
    "start_time": "2021-12-07T20:33:36.403Z"
   },
   {
    "duration": 5,
    "start_time": "2021-12-07T20:33:36.702Z"
   },
   {
    "duration": 25,
    "start_time": "2021-12-07T20:33:36.709Z"
   },
   {
    "duration": 6,
    "start_time": "2021-12-07T20:33:36.736Z"
   },
   {
    "duration": 17,
    "start_time": "2021-12-07T20:33:36.744Z"
   },
   {
    "duration": 13,
    "start_time": "2021-12-07T20:33:36.763Z"
   },
   {
    "duration": 48,
    "start_time": "2021-12-07T20:33:36.779Z"
   },
   {
    "duration": 20,
    "start_time": "2021-12-07T20:33:36.830Z"
   },
   {
    "duration": 20,
    "start_time": "2021-12-07T20:33:36.852Z"
   },
   {
    "duration": 56,
    "start_time": "2021-12-07T20:33:36.875Z"
   },
   {
    "duration": 11,
    "start_time": "2021-12-07T20:33:36.933Z"
   },
   {
    "duration": 8,
    "start_time": "2021-12-07T20:33:36.946Z"
   },
   {
    "duration": 21,
    "start_time": "2021-12-07T20:33:36.956Z"
   },
   {
    "duration": 52,
    "start_time": "2021-12-07T20:33:36.980Z"
   },
   {
    "duration": 13,
    "start_time": "2021-12-07T20:33:37.034Z"
   },
   {
    "duration": 775,
    "start_time": "2021-12-07T20:33:37.050Z"
   },
   {
    "duration": 2981,
    "start_time": "2021-12-07T20:33:37.827Z"
   },
   {
    "duration": 1034,
    "start_time": "2021-12-07T20:33:40.816Z"
   },
   {
    "duration": 768,
    "start_time": "2021-12-07T20:33:41.853Z"
   },
   {
    "duration": 716,
    "start_time": "2021-12-07T20:33:42.623Z"
   },
   {
    "duration": 970,
    "start_time": "2021-12-07T20:33:43.341Z"
   },
   {
    "duration": 766,
    "start_time": "2021-12-07T20:33:44.323Z"
   },
   {
    "duration": 2062,
    "start_time": "2021-12-07T20:33:45.093Z"
   },
   {
    "duration": 9,
    "start_time": "2021-12-07T20:33:47.158Z"
   },
   {
    "duration": 13,
    "start_time": "2021-12-07T20:33:47.169Z"
   },
   {
    "duration": 34,
    "start_time": "2021-12-07T20:33:47.185Z"
   },
   {
    "duration": 16,
    "start_time": "2021-12-07T20:33:47.221Z"
   },
   {
    "duration": 24,
    "start_time": "2021-12-07T20:33:47.239Z"
   },
   {
    "duration": 61,
    "start_time": "2021-12-07T20:33:47.266Z"
   },
   {
    "duration": 791,
    "start_time": "2021-12-07T20:33:47.330Z"
   },
   {
    "duration": 4,
    "start_time": "2021-12-07T20:33:48.123Z"
   },
   {
    "duration": 15,
    "start_time": "2021-12-07T20:33:48.129Z"
   },
   {
    "duration": 30,
    "start_time": "2021-12-07T20:33:48.146Z"
   },
   {
    "duration": 62,
    "start_time": "2021-12-07T20:33:48.179Z"
   },
   {
    "duration": 1020,
    "start_time": "2021-12-07T20:33:48.245Z"
   },
   {
    "duration": 778,
    "start_time": "2021-12-07T20:33:49.268Z"
   },
   {
    "duration": 738,
    "start_time": "2021-12-07T20:33:50.049Z"
   },
   {
    "duration": 10,
    "start_time": "2021-12-07T20:33:50.790Z"
   },
   {
    "duration": 7,
    "start_time": "2021-12-07T20:33:50.817Z"
   },
   {
    "duration": 39,
    "start_time": "2021-12-07T20:33:50.826Z"
   },
   {
    "duration": 57,
    "start_time": "2021-12-07T20:33:50.867Z"
   },
   {
    "duration": 26,
    "start_time": "2021-12-07T20:33:50.927Z"
   },
   {
    "duration": 800,
    "start_time": "2021-12-07T20:33:50.955Z"
   },
   {
    "duration": 20,
    "start_time": "2021-12-07T20:33:51.758Z"
   },
   {
    "duration": 11,
    "start_time": "2021-12-07T20:33:51.780Z"
   },
   {
    "duration": 19,
    "start_time": "2021-12-07T20:33:51.819Z"
   },
   {
    "duration": 16,
    "start_time": "2021-12-07T20:33:51.841Z"
   },
   {
    "duration": 17,
    "start_time": "2021-12-07T20:33:51.860Z"
   },
   {
    "duration": 54,
    "start_time": "2021-12-07T20:33:51.879Z"
   },
   {
    "duration": 290,
    "start_time": "2021-12-07T20:33:51.936Z"
   },
   {
    "duration": 21,
    "start_time": "2021-12-07T20:33:52.229Z"
   },
   {
    "duration": 13,
    "start_time": "2021-12-07T20:33:52.253Z"
   },
   {
    "duration": 88,
    "start_time": "2021-12-07T20:33:52.269Z"
   },
   {
    "duration": 21,
    "start_time": "2021-12-07T20:33:52.360Z"
   },
   {
    "duration": 7,
    "start_time": "2021-12-07T20:33:52.384Z"
   },
   {
    "duration": 41,
    "start_time": "2021-12-07T20:33:52.393Z"
   },
   {
    "duration": 20,
    "start_time": "2021-12-07T20:33:52.436Z"
   },
   {
    "duration": 23,
    "start_time": "2021-12-07T20:33:52.459Z"
   },
   {
    "duration": 34,
    "start_time": "2021-12-07T20:33:52.485Z"
   },
   {
    "duration": 20,
    "start_time": "2021-12-07T20:33:52.522Z"
   },
   {
    "duration": 14,
    "start_time": "2021-12-07T20:33:52.544Z"
   },
   {
    "duration": 22,
    "start_time": "2021-12-07T20:33:52.561Z"
   },
   {
    "duration": 33,
    "start_time": "2021-12-07T20:33:52.586Z"
   },
   {
    "duration": 13,
    "start_time": "2021-12-07T20:33:52.621Z"
   },
   {
    "duration": 37,
    "start_time": "2021-12-07T20:33:52.637Z"
   },
   {
    "duration": 49,
    "start_time": "2021-12-07T20:33:52.677Z"
   },
   {
    "duration": 8,
    "start_time": "2021-12-07T20:33:52.736Z"
   },
   {
    "duration": 2102,
    "start_time": "2021-12-07T20:33:52.748Z"
   },
   {
    "duration": 33,
    "start_time": "2021-12-07T20:33:54.853Z"
   },
   {
    "duration": 40,
    "start_time": "2021-12-07T20:33:54.889Z"
   },
   {
    "duration": 16,
    "start_time": "2021-12-07T20:33:54.932Z"
   },
   {
    "duration": 529,
    "start_time": "2021-12-07T20:33:54.951Z"
   },
   {
    "duration": 573,
    "start_time": "2021-12-07T20:33:55.483Z"
   },
   {
    "duration": 20,
    "start_time": "2021-12-07T20:33:56.059Z"
   },
   {
    "duration": 631,
    "start_time": "2021-12-07T20:33:56.082Z"
   },
   {
    "duration": 19,
    "start_time": "2021-12-07T20:33:56.716Z"
   },
   {
    "duration": 2601,
    "start_time": "2021-12-07T20:33:56.738Z"
   },
   {
    "duration": 1669,
    "start_time": "2021-12-07T20:35:01.925Z"
   },
   {
    "duration": 371,
    "start_time": "2021-12-07T20:35:03.597Z"
   },
   {
    "duration": 7,
    "start_time": "2021-12-07T20:35:03.971Z"
   },
   {
    "duration": 41,
    "start_time": "2021-12-07T20:35:03.981Z"
   },
   {
    "duration": 7,
    "start_time": "2021-12-07T20:35:04.024Z"
   },
   {
    "duration": 15,
    "start_time": "2021-12-07T20:35:04.033Z"
   },
   {
    "duration": 13,
    "start_time": "2021-12-07T20:35:04.051Z"
   },
   {
    "duration": 64,
    "start_time": "2021-12-07T20:35:04.068Z"
   },
   {
    "duration": 20,
    "start_time": "2021-12-07T20:35:04.136Z"
   },
   {
    "duration": 60,
    "start_time": "2021-12-07T20:35:04.159Z"
   },
   {
    "duration": 23,
    "start_time": "2021-12-07T20:35:04.222Z"
   },
   {
    "duration": 13,
    "start_time": "2021-12-07T20:35:04.247Z"
   },
   {
    "duration": 6,
    "start_time": "2021-12-07T20:35:04.262Z"
   },
   {
    "duration": 60,
    "start_time": "2021-12-07T20:35:04.271Z"
   },
   {
    "duration": 23,
    "start_time": "2021-12-07T20:35:04.334Z"
   },
   {
    "duration": 12,
    "start_time": "2021-12-07T20:35:04.360Z"
   },
   {
    "duration": 794,
    "start_time": "2021-12-07T20:35:04.376Z"
   },
   {
    "duration": 2967,
    "start_time": "2021-12-07T20:35:05.173Z"
   },
   {
    "duration": 962,
    "start_time": "2021-12-07T20:35:08.144Z"
   },
   {
    "duration": 762,
    "start_time": "2021-12-07T20:35:09.108Z"
   },
   {
    "duration": 691,
    "start_time": "2021-12-07T20:35:09.873Z"
   },
   {
    "duration": 958,
    "start_time": "2021-12-07T20:35:10.567Z"
   },
   {
    "duration": 725,
    "start_time": "2021-12-07T20:35:11.533Z"
   },
   {
    "duration": 1703,
    "start_time": "2021-12-07T20:35:12.263Z"
   },
   {
    "duration": 12,
    "start_time": "2021-12-07T20:35:13.968Z"
   },
   {
    "duration": 38,
    "start_time": "2021-12-07T20:35:13.982Z"
   },
   {
    "duration": 6,
    "start_time": "2021-12-07T20:35:14.023Z"
   },
   {
    "duration": 15,
    "start_time": "2021-12-07T20:35:14.032Z"
   },
   {
    "duration": 25,
    "start_time": "2021-12-07T20:35:14.050Z"
   },
   {
    "duration": 62,
    "start_time": "2021-12-07T20:35:14.077Z"
   },
   {
    "duration": 1197,
    "start_time": "2021-12-07T20:35:14.142Z"
   },
   {
    "duration": 6,
    "start_time": "2021-12-07T20:35:15.342Z"
   },
   {
    "duration": 15,
    "start_time": "2021-12-07T20:35:15.350Z"
   },
   {
    "duration": 54,
    "start_time": "2021-12-07T20:35:15.368Z"
   },
   {
    "duration": 25,
    "start_time": "2021-12-07T20:35:15.424Z"
   },
   {
    "duration": 833,
    "start_time": "2021-12-07T20:35:15.451Z"
   },
   {
    "duration": 751,
    "start_time": "2021-12-07T20:35:16.286Z"
   },
   {
    "duration": 728,
    "start_time": "2021-12-07T20:35:17.040Z"
   },
   {
    "duration": 11,
    "start_time": "2021-12-07T20:35:17.770Z"
   },
   {
    "duration": 7,
    "start_time": "2021-12-07T20:35:17.784Z"
   },
   {
    "duration": 45,
    "start_time": "2021-12-07T20:35:17.793Z"
   },
   {
    "duration": 30,
    "start_time": "2021-12-07T20:35:17.841Z"
   },
   {
    "duration": 65,
    "start_time": "2021-12-07T20:35:17.873Z"
   },
   {
    "duration": 872,
    "start_time": "2021-12-07T20:35:17.941Z"
   },
   {
    "duration": 21,
    "start_time": "2021-12-07T20:35:18.817Z"
   },
   {
    "duration": 8,
    "start_time": "2021-12-07T20:35:18.841Z"
   },
   {
    "duration": 16,
    "start_time": "2021-12-07T20:35:18.853Z"
   },
   {
    "duration": 57,
    "start_time": "2021-12-07T20:35:18.872Z"
   },
   {
    "duration": 18,
    "start_time": "2021-12-07T20:35:18.932Z"
   },
   {
    "duration": 20,
    "start_time": "2021-12-07T20:35:18.953Z"
   },
   {
    "duration": 310,
    "start_time": "2021-12-07T20:35:18.975Z"
   },
   {
    "duration": 36,
    "start_time": "2021-12-07T20:35:19.288Z"
   },
   {
    "duration": 15,
    "start_time": "2021-12-07T20:35:19.328Z"
   },
   {
    "duration": 37,
    "start_time": "2021-12-07T20:35:19.346Z"
   },
   {
    "duration": 51,
    "start_time": "2021-12-07T20:35:19.385Z"
   },
   {
    "duration": 8,
    "start_time": "2021-12-07T20:35:19.439Z"
   },
   {
    "duration": 19,
    "start_time": "2021-12-07T20:35:19.449Z"
   },
   {
    "duration": 47,
    "start_time": "2021-12-07T20:35:19.471Z"
   },
   {
    "duration": 12,
    "start_time": "2021-12-07T20:35:19.521Z"
   },
   {
    "duration": 14,
    "start_time": "2021-12-07T20:35:19.535Z"
   },
   {
    "duration": 21,
    "start_time": "2021-12-07T20:35:19.551Z"
   },
   {
    "duration": 52,
    "start_time": "2021-12-07T20:35:19.574Z"
   },
   {
    "duration": 13,
    "start_time": "2021-12-07T20:35:19.629Z"
   },
   {
    "duration": 8,
    "start_time": "2021-12-07T20:35:19.646Z"
   },
   {
    "duration": 60,
    "start_time": "2021-12-07T20:35:19.657Z"
   },
   {
    "duration": 39,
    "start_time": "2021-12-07T20:35:19.720Z"
   },
   {
    "duration": 14,
    "start_time": "2021-12-07T20:35:19.762Z"
   },
   {
    "duration": 13,
    "start_time": "2021-12-07T20:35:19.818Z"
   },
   {
    "duration": 2080,
    "start_time": "2021-12-07T20:35:19.837Z"
   },
   {
    "duration": 34,
    "start_time": "2021-12-07T20:35:21.920Z"
   },
   {
    "duration": 23,
    "start_time": "2021-12-07T20:35:21.957Z"
   },
   {
    "duration": 42,
    "start_time": "2021-12-07T20:35:21.983Z"
   },
   {
    "duration": 368,
    "start_time": "2021-12-07T20:35:22.028Z"
   },
   {
    "duration": 366,
    "start_time": "2021-12-07T20:35:22.399Z"
   },
   {
    "duration": 16,
    "start_time": "2021-12-07T20:35:22.768Z"
   },
   {
    "duration": 628,
    "start_time": "2021-12-07T20:35:22.788Z"
   },
   {
    "duration": 18,
    "start_time": "2021-12-07T20:35:23.420Z"
   },
   {
    "duration": 1824,
    "start_time": "2021-12-07T20:35:23.441Z"
   },
   {
    "duration": 1685,
    "start_time": "2021-12-07T20:35:25.269Z"
   },
   {
    "duration": 1612,
    "start_time": "2021-12-07T20:40:11.751Z"
   },
   {
    "duration": 264,
    "start_time": "2021-12-07T20:40:13.366Z"
   },
   {
    "duration": 6,
    "start_time": "2021-12-07T20:40:13.633Z"
   },
   {
    "duration": 23,
    "start_time": "2021-12-07T20:40:13.642Z"
   },
   {
    "duration": 7,
    "start_time": "2021-12-07T20:40:13.668Z"
   },
   {
    "duration": 42,
    "start_time": "2021-12-07T20:40:13.677Z"
   },
   {
    "duration": 12,
    "start_time": "2021-12-07T20:40:13.722Z"
   },
   {
    "duration": 19,
    "start_time": "2021-12-07T20:40:13.738Z"
   },
   {
    "duration": 19,
    "start_time": "2021-12-07T20:40:13.760Z"
   },
   {
    "duration": 20,
    "start_time": "2021-12-07T20:40:13.818Z"
   },
   {
    "duration": 21,
    "start_time": "2021-12-07T20:40:13.840Z"
   },
   {
    "duration": 11,
    "start_time": "2021-12-07T20:40:13.863Z"
   },
   {
    "duration": 42,
    "start_time": "2021-12-07T20:40:13.876Z"
   },
   {
    "duration": 21,
    "start_time": "2021-12-07T20:40:13.921Z"
   },
   {
    "duration": 24,
    "start_time": "2021-12-07T20:40:13.945Z"
   },
   {
    "duration": 46,
    "start_time": "2021-12-07T20:40:13.971Z"
   },
   {
    "duration": 767,
    "start_time": "2021-12-07T20:40:14.020Z"
   },
   {
    "duration": 2727,
    "start_time": "2021-12-07T20:40:14.790Z"
   },
   {
    "duration": 1001,
    "start_time": "2021-12-07T20:40:17.519Z"
   },
   {
    "duration": 745,
    "start_time": "2021-12-07T20:40:18.522Z"
   },
   {
    "duration": 705,
    "start_time": "2021-12-07T20:40:19.270Z"
   },
   {
    "duration": 886,
    "start_time": "2021-12-07T20:40:19.978Z"
   },
   {
    "duration": 627,
    "start_time": "2021-12-07T20:40:20.870Z"
   },
   {
    "duration": 1687,
    "start_time": "2021-12-07T20:40:21.501Z"
   },
   {
    "duration": 10,
    "start_time": "2021-12-07T20:40:23.191Z"
   },
   {
    "duration": 10,
    "start_time": "2021-12-07T20:40:23.218Z"
   },
   {
    "duration": 7,
    "start_time": "2021-12-07T20:40:23.231Z"
   },
   {
    "duration": 15,
    "start_time": "2021-12-07T20:40:23.241Z"
   },
   {
    "duration": 61,
    "start_time": "2021-12-07T20:40:23.258Z"
   },
   {
    "duration": 29,
    "start_time": "2021-12-07T20:40:23.322Z"
   },
   {
    "duration": 757,
    "start_time": "2021-12-07T20:40:23.354Z"
   },
   {
    "duration": 5,
    "start_time": "2021-12-07T20:40:24.113Z"
   },
   {
    "duration": 14,
    "start_time": "2021-12-07T20:40:24.121Z"
   },
   {
    "duration": 30,
    "start_time": "2021-12-07T20:40:24.138Z"
   },
   {
    "duration": 53,
    "start_time": "2021-12-07T20:40:24.171Z"
   },
   {
    "duration": 936,
    "start_time": "2021-12-07T20:40:24.226Z"
   },
   {
    "duration": 701,
    "start_time": "2021-12-07T20:40:25.165Z"
   },
   {
    "duration": 682,
    "start_time": "2021-12-07T20:40:25.868Z"
   },
   {
    "duration": 10,
    "start_time": "2021-12-07T20:40:26.552Z"
   },
   {
    "duration": 11,
    "start_time": "2021-12-07T20:40:26.565Z"
   },
   {
    "duration": 46,
    "start_time": "2021-12-07T20:40:26.578Z"
   },
   {
    "duration": 28,
    "start_time": "2021-12-07T20:40:26.627Z"
   },
   {
    "duration": 25,
    "start_time": "2021-12-07T20:40:26.657Z"
   },
   {
    "duration": 812,
    "start_time": "2021-12-07T20:40:26.685Z"
   },
   {
    "duration": 29,
    "start_time": "2021-12-07T20:40:27.499Z"
   },
   {
    "duration": 6,
    "start_time": "2021-12-07T20:40:27.531Z"
   },
   {
    "duration": 15,
    "start_time": "2021-12-07T20:40:27.539Z"
   },
   {
    "duration": 11,
    "start_time": "2021-12-07T20:40:27.556Z"
   },
   {
    "duration": 56,
    "start_time": "2021-12-07T20:40:27.570Z"
   },
   {
    "duration": 13,
    "start_time": "2021-12-07T20:40:27.628Z"
   },
   {
    "duration": 262,
    "start_time": "2021-12-07T20:40:27.644Z"
   },
   {
    "duration": 32,
    "start_time": "2021-12-07T20:40:27.908Z"
   },
   {
    "duration": 13,
    "start_time": "2021-12-07T20:40:27.942Z"
   },
   {
    "duration": 62,
    "start_time": "2021-12-07T20:40:27.958Z"
   },
   {
    "duration": 21,
    "start_time": "2021-12-07T20:40:28.022Z"
   },
   {
    "duration": 7,
    "start_time": "2021-12-07T20:40:28.045Z"
   },
   {
    "duration": 12,
    "start_time": "2021-12-07T20:40:28.055Z"
   },
   {
    "duration": 52,
    "start_time": "2021-12-07T20:40:28.069Z"
   },
   {
    "duration": 11,
    "start_time": "2021-12-07T20:40:28.124Z"
   },
   {
    "duration": 13,
    "start_time": "2021-12-07T20:40:28.137Z"
   },
   {
    "duration": 19,
    "start_time": "2021-12-07T20:40:28.152Z"
   },
   {
    "duration": 51,
    "start_time": "2021-12-07T20:40:28.174Z"
   },
   {
    "duration": 12,
    "start_time": "2021-12-07T20:40:28.228Z"
   },
   {
    "duration": 6,
    "start_time": "2021-12-07T20:40:28.242Z"
   },
   {
    "duration": 12,
    "start_time": "2021-12-07T20:40:28.250Z"
   },
   {
    "duration": 66,
    "start_time": "2021-12-07T20:40:28.265Z"
   },
   {
    "duration": 9,
    "start_time": "2021-12-07T20:40:28.334Z"
   },
   {
    "duration": 7,
    "start_time": "2021-12-07T20:40:28.355Z"
   },
   {
    "duration": 1539,
    "start_time": "2021-12-07T20:40:28.366Z"
   },
   {
    "duration": 31,
    "start_time": "2021-12-07T20:40:29.907Z"
   },
   {
    "duration": 16,
    "start_time": "2021-12-07T20:40:29.941Z"
   },
   {
    "duration": 18,
    "start_time": "2021-12-07T20:40:29.959Z"
   },
   {
    "duration": 370,
    "start_time": "2021-12-07T20:40:29.979Z"
   },
   {
    "duration": 378,
    "start_time": "2021-12-07T20:40:30.351Z"
   },
   {
    "duration": 18,
    "start_time": "2021-12-07T20:40:30.732Z"
   },
   {
    "duration": 403,
    "start_time": "2021-12-07T20:40:30.753Z"
   },
   {
    "duration": 13,
    "start_time": "2021-12-07T20:40:31.159Z"
   },
   {
    "duration": 1638,
    "start_time": "2021-12-07T20:40:31.174Z"
   },
   {
    "duration": 1522,
    "start_time": "2021-12-07T20:40:32.817Z"
   },
   {
    "duration": 1578,
    "start_time": "2021-12-07T20:45:12.817Z"
   },
   {
    "duration": 251,
    "start_time": "2021-12-07T20:45:14.397Z"
   },
   {
    "duration": 5,
    "start_time": "2021-12-07T20:45:14.652Z"
   },
   {
    "duration": 29,
    "start_time": "2021-12-07T20:45:14.661Z"
   },
   {
    "duration": 24,
    "start_time": "2021-12-07T20:45:14.693Z"
   },
   {
    "duration": 20,
    "start_time": "2021-12-07T20:45:14.720Z"
   },
   {
    "duration": 22,
    "start_time": "2021-12-07T20:45:14.743Z"
   },
   {
    "duration": 26,
    "start_time": "2021-12-07T20:45:14.768Z"
   },
   {
    "duration": 33,
    "start_time": "2021-12-07T20:45:14.797Z"
   },
   {
    "duration": 33,
    "start_time": "2021-12-07T20:45:14.832Z"
   },
   {
    "duration": 20,
    "start_time": "2021-12-07T20:45:14.867Z"
   },
   {
    "duration": 33,
    "start_time": "2021-12-07T20:45:14.889Z"
   },
   {
    "duration": 30,
    "start_time": "2021-12-07T20:45:14.925Z"
   },
   {
    "duration": 31,
    "start_time": "2021-12-07T20:45:14.957Z"
   },
   {
    "duration": 24,
    "start_time": "2021-12-07T20:45:14.990Z"
   },
   {
    "duration": 13,
    "start_time": "2021-12-07T20:45:15.016Z"
   },
   {
    "duration": 778,
    "start_time": "2021-12-07T20:45:15.031Z"
   },
   {
    "duration": 2631,
    "start_time": "2021-12-07T20:45:15.817Z"
   },
   {
    "duration": 1053,
    "start_time": "2021-12-07T20:45:18.450Z"
   },
   {
    "duration": 768,
    "start_time": "2021-12-07T20:45:19.505Z"
   },
   {
    "duration": 704,
    "start_time": "2021-12-07T20:45:20.276Z"
   },
   {
    "duration": 872,
    "start_time": "2021-12-07T20:45:20.982Z"
   },
   {
    "duration": 656,
    "start_time": "2021-12-07T20:45:21.861Z"
   },
   {
    "duration": 1710,
    "start_time": "2021-12-07T20:45:22.521Z"
   },
   {
    "duration": 10,
    "start_time": "2021-12-07T20:45:24.234Z"
   },
   {
    "duration": 10,
    "start_time": "2021-12-07T20:45:24.247Z"
   },
   {
    "duration": 12,
    "start_time": "2021-12-07T20:45:24.259Z"
   },
   {
    "duration": 47,
    "start_time": "2021-12-07T20:45:24.273Z"
   },
   {
    "duration": 26,
    "start_time": "2021-12-07T20:45:24.323Z"
   },
   {
    "duration": 27,
    "start_time": "2021-12-07T20:45:24.351Z"
   },
   {
    "duration": 821,
    "start_time": "2021-12-07T20:45:24.381Z"
   },
   {
    "duration": 13,
    "start_time": "2021-12-07T20:45:25.204Z"
   },
   {
    "duration": 12,
    "start_time": "2021-12-07T20:45:25.219Z"
   },
   {
    "duration": 26,
    "start_time": "2021-12-07T20:45:25.233Z"
   },
   {
    "duration": 57,
    "start_time": "2021-12-07T20:45:25.262Z"
   },
   {
    "duration": 831,
    "start_time": "2021-12-07T20:45:25.321Z"
   },
   {
    "duration": 704,
    "start_time": "2021-12-07T20:45:26.154Z"
   },
   {
    "duration": 703,
    "start_time": "2021-12-07T20:45:26.861Z"
   },
   {
    "duration": 10,
    "start_time": "2021-12-07T20:45:27.566Z"
   },
   {
    "duration": 7,
    "start_time": "2021-12-07T20:45:27.579Z"
   },
   {
    "duration": 47,
    "start_time": "2021-12-07T20:45:27.588Z"
   },
   {
    "duration": 26,
    "start_time": "2021-12-07T20:45:27.638Z"
   },
   {
    "duration": 26,
    "start_time": "2021-12-07T20:45:27.666Z"
   },
   {
    "duration": 828,
    "start_time": "2021-12-07T20:45:27.718Z"
   },
   {
    "duration": 19,
    "start_time": "2021-12-07T20:45:28.548Z"
   },
   {
    "duration": 10,
    "start_time": "2021-12-07T20:45:28.570Z"
   },
   {
    "duration": 43,
    "start_time": "2021-12-07T20:45:28.582Z"
   },
   {
    "duration": 12,
    "start_time": "2021-12-07T20:45:28.627Z"
   },
   {
    "duration": 18,
    "start_time": "2021-12-07T20:45:28.642Z"
   },
   {
    "duration": 15,
    "start_time": "2021-12-07T20:45:28.663Z"
   },
   {
    "duration": 268,
    "start_time": "2021-12-07T20:45:28.718Z"
   },
   {
    "duration": 33,
    "start_time": "2021-12-07T20:45:28.988Z"
   },
   {
    "duration": 14,
    "start_time": "2021-12-07T20:45:29.023Z"
   },
   {
    "duration": 32,
    "start_time": "2021-12-07T20:45:29.039Z"
   },
   {
    "duration": 55,
    "start_time": "2021-12-07T20:45:29.074Z"
   },
   {
    "duration": 8,
    "start_time": "2021-12-07T20:45:29.131Z"
   },
   {
    "duration": 15,
    "start_time": "2021-12-07T20:45:29.141Z"
   },
   {
    "duration": 12,
    "start_time": "2021-12-07T20:45:29.159Z"
   },
   {
    "duration": 43,
    "start_time": "2021-12-07T20:45:29.174Z"
   },
   {
    "duration": 13,
    "start_time": "2021-12-07T20:45:29.220Z"
   },
   {
    "duration": 22,
    "start_time": "2021-12-07T20:45:29.236Z"
   },
   {
    "duration": 57,
    "start_time": "2021-12-07T20:45:29.261Z"
   },
   {
    "duration": 14,
    "start_time": "2021-12-07T20:45:29.321Z"
   },
   {
    "duration": 7,
    "start_time": "2021-12-07T20:45:29.338Z"
   },
   {
    "duration": 14,
    "start_time": "2021-12-07T20:45:29.348Z"
   },
   {
    "duration": 71,
    "start_time": "2021-12-07T20:45:29.364Z"
   },
   {
    "duration": 10,
    "start_time": "2021-12-07T20:45:29.438Z"
   },
   {
    "duration": 10,
    "start_time": "2021-12-07T20:45:29.461Z"
   },
   {
    "duration": 1506,
    "start_time": "2021-12-07T20:45:29.475Z"
   },
   {
    "duration": 36,
    "start_time": "2021-12-07T20:45:30.983Z"
   },
   {
    "duration": 16,
    "start_time": "2021-12-07T20:45:31.022Z"
   },
   {
    "duration": 18,
    "start_time": "2021-12-07T20:45:31.041Z"
   },
   {
    "duration": 351,
    "start_time": "2021-12-07T20:45:31.062Z"
   },
   {
    "duration": 383,
    "start_time": "2021-12-07T20:45:31.418Z"
   },
   {
    "duration": 26,
    "start_time": "2021-12-07T20:45:31.804Z"
   },
   {
    "duration": 401,
    "start_time": "2021-12-07T20:45:31.832Z"
   },
   {
    "duration": 13,
    "start_time": "2021-12-07T20:45:32.236Z"
   },
   {
    "duration": 1772,
    "start_time": "2021-12-07T20:45:32.251Z"
   },
   {
    "duration": 1590,
    "start_time": "2021-12-07T20:45:34.025Z"
   },
   {
    "duration": 568362,
    "start_time": "2021-12-07T20:45:35.617Z"
   },
   {
    "duration": 138468,
    "start_time": "2021-12-07T20:55:03.982Z"
   },
   {
    "duration": 12,
    "start_time": "2021-12-07T20:57:22.453Z"
   },
   {
    "duration": -434,
    "start_time": "2021-12-07T20:57:23.323Z"
   },
   {
    "duration": -468,
    "start_time": "2021-12-07T20:57:23.359Z"
   },
   {
    "duration": -474,
    "start_time": "2021-12-07T20:57:23.367Z"
   },
   {
    "duration": -481,
    "start_time": "2021-12-07T20:57:23.376Z"
   },
   {
    "duration": -488,
    "start_time": "2021-12-07T20:57:23.386Z"
   },
   {
    "duration": -495,
    "start_time": "2021-12-07T20:57:23.395Z"
   },
   {
    "duration": -507,
    "start_time": "2021-12-07T20:57:23.408Z"
   },
   {
    "duration": -513,
    "start_time": "2021-12-07T20:57:23.416Z"
   },
   {
    "duration": -523,
    "start_time": "2021-12-07T20:57:23.427Z"
   },
   {
    "duration": -530,
    "start_time": "2021-12-07T20:57:23.436Z"
   },
   {
    "duration": -647,
    "start_time": "2021-12-07T20:57:23.555Z"
   },
   {
    "duration": -654,
    "start_time": "2021-12-07T20:57:23.563Z"
   },
   {
    "duration": -663,
    "start_time": "2021-12-07T20:57:23.574Z"
   },
   {
    "duration": -670,
    "start_time": "2021-12-07T20:57:23.582Z"
   },
   {
    "duration": -679,
    "start_time": "2021-12-07T20:57:23.592Z"
   },
   {
    "duration": -684,
    "start_time": "2021-12-07T20:57:23.599Z"
   },
   {
    "duration": -691,
    "start_time": "2021-12-07T20:57:23.608Z"
   },
   {
    "duration": -698,
    "start_time": "2021-12-07T20:57:23.617Z"
   },
   {
    "duration": -708,
    "start_time": "2021-12-07T20:57:23.628Z"
   },
   {
    "duration": -713,
    "start_time": "2021-12-07T20:57:23.635Z"
   },
   {
    "duration": -721,
    "start_time": "2021-12-07T20:57:23.644Z"
   },
   {
    "duration": -727,
    "start_time": "2021-12-07T20:57:23.652Z"
   },
   {
    "duration": -737,
    "start_time": "2021-12-07T20:57:23.663Z"
   },
   {
    "duration": -747,
    "start_time": "2021-12-07T20:57:23.674Z"
   },
   {
    "duration": -753,
    "start_time": "2021-12-07T20:57:23.682Z"
   },
   {
    "duration": -761,
    "start_time": "2021-12-07T20:57:23.691Z"
   },
   {
    "duration": -766,
    "start_time": "2021-12-07T20:57:23.698Z"
   },
   {
    "duration": -777,
    "start_time": "2021-12-07T20:57:23.710Z"
   },
   {
    "duration": -784,
    "start_time": "2021-12-07T20:57:23.719Z"
   },
   {
    "duration": -792,
    "start_time": "2021-12-07T20:57:23.728Z"
   },
   {
    "duration": -798,
    "start_time": "2021-12-07T20:57:23.736Z"
   },
   {
    "duration": -804,
    "start_time": "2021-12-07T20:57:23.744Z"
   },
   {
    "duration": -812,
    "start_time": "2021-12-07T20:57:23.753Z"
   },
   {
    "duration": -820,
    "start_time": "2021-12-07T20:57:23.763Z"
   },
   {
    "duration": -866,
    "start_time": "2021-12-07T20:57:23.810Z"
   },
   {
    "duration": -874,
    "start_time": "2021-12-07T20:57:23.820Z"
   },
   {
    "duration": -881,
    "start_time": "2021-12-07T20:57:23.828Z"
   },
   {
    "duration": -894,
    "start_time": "2021-12-07T20:57:23.842Z"
   },
   {
    "duration": -901,
    "start_time": "2021-12-07T20:57:23.851Z"
   },
   {
    "duration": -911,
    "start_time": "2021-12-07T20:57:23.862Z"
   },
   {
    "duration": -918,
    "start_time": "2021-12-07T20:57:23.871Z"
   },
   {
    "duration": -928,
    "start_time": "2021-12-07T20:57:23.883Z"
   },
   {
    "duration": -936,
    "start_time": "2021-12-07T20:57:23.892Z"
   },
   {
    "duration": -886,
    "start_time": "2021-12-07T20:57:23.903Z"
   },
   {
    "duration": -896,
    "start_time": "2021-12-07T20:57:23.915Z"
   },
   {
    "duration": -906,
    "start_time": "2021-12-07T20:57:23.926Z"
   },
   {
    "duration": -914,
    "start_time": "2021-12-07T20:57:23.936Z"
   },
   {
    "duration": -922,
    "start_time": "2021-12-07T20:57:23.945Z"
   },
   {
    "duration": -933,
    "start_time": "2021-12-07T20:57:23.958Z"
   },
   {
    "duration": -940,
    "start_time": "2021-12-07T20:57:23.966Z"
   },
   {
    "duration": -951,
    "start_time": "2021-12-07T20:57:23.978Z"
   },
   {
    "duration": -958,
    "start_time": "2021-12-07T20:57:23.987Z"
   },
   {
    "duration": -965,
    "start_time": "2021-12-07T20:57:23.995Z"
   },
   {
    "duration": -975,
    "start_time": "2021-12-07T20:57:24.006Z"
   },
   {
    "duration": -980,
    "start_time": "2021-12-07T20:57:24.013Z"
   },
   {
    "duration": -990,
    "start_time": "2021-12-07T20:57:24.024Z"
   },
   {
    "duration": -997,
    "start_time": "2021-12-07T20:57:24.033Z"
   },
   {
    "duration": -1006,
    "start_time": "2021-12-07T20:57:24.043Z"
   },
   {
    "duration": -1012,
    "start_time": "2021-12-07T20:57:24.050Z"
   },
   {
    "duration": -1018,
    "start_time": "2021-12-07T20:57:24.058Z"
   },
   {
    "duration": -1024,
    "start_time": "2021-12-07T20:57:24.065Z"
   },
   {
    "duration": -1033,
    "start_time": "2021-12-07T20:57:24.075Z"
   },
   {
    "duration": -1039,
    "start_time": "2021-12-07T20:57:24.083Z"
   },
   {
    "duration": -1046,
    "start_time": "2021-12-07T20:57:24.092Z"
   },
   {
    "duration": 644571,
    "start_time": "2021-12-07T21:29:31.840Z"
   },
   {
    "duration": 88,
    "start_time": "2021-12-07T21:40:52.161Z"
   },
   {
    "duration": 97,
    "start_time": "2021-12-07T21:41:21.013Z"
   },
   {
    "duration": 150,
    "start_time": "2021-12-07T21:41:56.222Z"
   },
   {
    "duration": 135,
    "start_time": "2021-12-07T21:42:01.258Z"
   },
   {
    "duration": 97,
    "start_time": "2021-12-07T21:42:30.776Z"
   },
   {
    "duration": 100,
    "start_time": "2021-12-07T21:43:19.201Z"
   },
   {
    "duration": 778,
    "start_time": "2021-12-07T21:43:31.959Z"
   },
   {
    "duration": 7,
    "start_time": "2021-12-07T21:43:45.415Z"
   },
   {
    "duration": 792,
    "start_time": "2021-12-07T21:43:47.987Z"
   },
   {
    "duration": 7,
    "start_time": "2021-12-07T21:52:44.466Z"
   },
   {
    "duration": 6,
    "start_time": "2021-12-07T22:00:24.792Z"
   },
   {
    "duration": 1533,
    "start_time": "2021-12-07T22:18:46.900Z"
   },
   {
    "duration": 271,
    "start_time": "2021-12-07T22:18:48.436Z"
   },
   {
    "duration": 5,
    "start_time": "2021-12-07T22:18:48.710Z"
   },
   {
    "duration": 22,
    "start_time": "2021-12-07T22:18:48.718Z"
   },
   {
    "duration": 7,
    "start_time": "2021-12-07T22:18:48.743Z"
   },
   {
    "duration": 17,
    "start_time": "2021-12-07T22:18:48.752Z"
   },
   {
    "duration": 50,
    "start_time": "2021-12-07T22:18:48.771Z"
   },
   {
    "duration": 19,
    "start_time": "2021-12-07T22:18:48.823Z"
   },
   {
    "duration": 20,
    "start_time": "2021-12-07T22:18:48.846Z"
   },
   {
    "duration": 63,
    "start_time": "2021-12-07T22:18:48.869Z"
   },
   {
    "duration": 21,
    "start_time": "2021-12-07T22:18:48.934Z"
   },
   {
    "duration": 12,
    "start_time": "2021-12-07T22:18:48.957Z"
   },
   {
    "duration": 47,
    "start_time": "2021-12-07T22:18:48.971Z"
   },
   {
    "duration": 22,
    "start_time": "2021-12-07T22:18:49.020Z"
   },
   {
    "duration": 24,
    "start_time": "2021-12-07T22:18:49.045Z"
   },
   {
    "duration": 45,
    "start_time": "2021-12-07T22:18:49.072Z"
   },
   {
    "duration": 782,
    "start_time": "2021-12-07T22:18:49.120Z"
   },
   {
    "duration": 2515,
    "start_time": "2021-12-07T22:18:49.905Z"
   },
   {
    "duration": 1036,
    "start_time": "2021-12-07T22:18:52.422Z"
   },
   {
    "duration": 760,
    "start_time": "2021-12-07T22:18:53.461Z"
   },
   {
    "duration": 702,
    "start_time": "2021-12-07T22:18:54.224Z"
   },
   {
    "duration": 776,
    "start_time": "2021-12-07T22:18:54.928Z"
   },
   {
    "duration": 633,
    "start_time": "2021-12-07T22:18:55.706Z"
   },
   {
    "duration": 1757,
    "start_time": "2021-12-07T22:18:56.341Z"
   },
   {
    "duration": 23,
    "start_time": "2021-12-07T22:18:58.101Z"
   },
   {
    "duration": 12,
    "start_time": "2021-12-07T22:18:58.127Z"
   },
   {
    "duration": 5,
    "start_time": "2021-12-07T22:18:58.148Z"
   },
   {
    "duration": 15,
    "start_time": "2021-12-07T22:18:58.160Z"
   },
   {
    "duration": 63,
    "start_time": "2021-12-07T22:18:58.178Z"
   },
   {
    "duration": 25,
    "start_time": "2021-12-07T22:18:58.244Z"
   },
   {
    "duration": 773,
    "start_time": "2021-12-07T22:18:58.272Z"
   },
   {
    "duration": 6,
    "start_time": "2021-12-07T22:18:59.049Z"
   },
   {
    "duration": 17,
    "start_time": "2021-12-07T22:18:59.057Z"
   },
   {
    "duration": 55,
    "start_time": "2021-12-07T22:18:59.077Z"
   },
   {
    "duration": 23,
    "start_time": "2021-12-07T22:18:59.134Z"
   },
   {
    "duration": 760,
    "start_time": "2021-12-07T22:18:59.160Z"
   },
   {
    "duration": 697,
    "start_time": "2021-12-07T22:18:59.924Z"
   },
   {
    "duration": 724,
    "start_time": "2021-12-07T22:19:00.624Z"
   },
   {
    "duration": 12,
    "start_time": "2021-12-07T22:19:01.351Z"
   },
   {
    "duration": 7,
    "start_time": "2021-12-07T22:19:01.366Z"
   },
   {
    "duration": 58,
    "start_time": "2021-12-07T22:19:01.376Z"
   },
   {
    "duration": 32,
    "start_time": "2021-12-07T22:19:01.437Z"
   },
   {
    "duration": 55,
    "start_time": "2021-12-07T22:19:01.471Z"
   },
   {
    "duration": 889,
    "start_time": "2021-12-07T22:19:01.529Z"
   },
   {
    "duration": 19,
    "start_time": "2021-12-07T22:19:02.421Z"
   },
   {
    "duration": 7,
    "start_time": "2021-12-07T22:19:02.443Z"
   },
   {
    "duration": 16,
    "start_time": "2021-12-07T22:19:02.452Z"
   },
   {
    "duration": 48,
    "start_time": "2021-12-07T22:19:02.471Z"
   },
   {
    "duration": 16,
    "start_time": "2021-12-07T22:19:02.523Z"
   },
   {
    "duration": 15,
    "start_time": "2021-12-07T22:19:02.541Z"
   },
   {
    "duration": 285,
    "start_time": "2021-12-07T22:19:02.558Z"
   },
   {
    "duration": 20,
    "start_time": "2021-12-07T22:19:02.846Z"
   },
   {
    "duration": 12,
    "start_time": "2021-12-07T22:19:02.869Z"
   },
   {
    "duration": 65,
    "start_time": "2021-12-07T22:19:02.884Z"
   },
   {
    "duration": 22,
    "start_time": "2021-12-07T22:19:02.951Z"
   },
   {
    "duration": 8,
    "start_time": "2021-12-07T22:19:02.976Z"
   },
   {
    "duration": 42,
    "start_time": "2021-12-07T22:19:02.987Z"
   },
   {
    "duration": 13,
    "start_time": "2021-12-07T22:19:03.031Z"
   },
   {
    "duration": 12,
    "start_time": "2021-12-07T22:19:03.047Z"
   },
   {
    "duration": 13,
    "start_time": "2021-12-07T22:19:03.062Z"
   },
   {
    "duration": 20,
    "start_time": "2021-12-07T22:19:03.117Z"
   },
   {
    "duration": 14,
    "start_time": "2021-12-07T22:19:03.139Z"
   },
   {
    "duration": 14,
    "start_time": "2021-12-07T22:19:03.156Z"
   },
   {
    "duration": 47,
    "start_time": "2021-12-07T22:19:03.173Z"
   },
   {
    "duration": 13,
    "start_time": "2021-12-07T22:19:03.223Z"
   },
   {
    "duration": 26,
    "start_time": "2021-12-07T22:19:03.238Z"
   },
   {
    "duration": 9,
    "start_time": "2021-12-07T22:19:03.266Z"
   },
   {
    "duration": 42,
    "start_time": "2021-12-07T22:19:03.277Z"
   },
   {
    "duration": 1509,
    "start_time": "2021-12-07T22:19:03.321Z"
   },
   {
    "duration": 22,
    "start_time": "2021-12-07T22:19:04.833Z"
   },
   {
    "duration": 15,
    "start_time": "2021-12-07T22:19:04.858Z"
   },
   {
    "duration": 13,
    "start_time": "2021-12-07T22:19:04.875Z"
   },
   {
    "duration": 334,
    "start_time": "2021-12-07T22:19:04.918Z"
   },
   {
    "duration": 375,
    "start_time": "2021-12-07T22:19:05.254Z"
   },
   {
    "duration": 15,
    "start_time": "2021-12-07T22:19:05.632Z"
   },
   {
    "duration": 409,
    "start_time": "2021-12-07T22:19:05.649Z"
   },
   {
    "duration": 14,
    "start_time": "2021-12-07T22:19:06.060Z"
   },
   {
    "duration": 1524,
    "start_time": "2021-12-07T22:19:06.076Z"
   },
   {
    "duration": 1606,
    "start_time": "2021-12-07T22:19:07.602Z"
   },
   {
    "duration": 1518,
    "start_time": "2021-12-08T09:22:16.894Z"
   },
   {
    "duration": 276,
    "start_time": "2021-12-08T09:22:18.414Z"
   },
   {
    "duration": 5,
    "start_time": "2021-12-08T09:22:18.693Z"
   },
   {
    "duration": 25,
    "start_time": "2021-12-08T09:22:18.700Z"
   },
   {
    "duration": 7,
    "start_time": "2021-12-08T09:22:18.727Z"
   },
   {
    "duration": 34,
    "start_time": "2021-12-08T09:22:18.736Z"
   },
   {
    "duration": 11,
    "start_time": "2021-12-08T09:22:18.773Z"
   },
   {
    "duration": 19,
    "start_time": "2021-12-08T09:22:18.789Z"
   },
   {
    "duration": 57,
    "start_time": "2021-12-08T09:22:18.811Z"
   },
   {
    "duration": 21,
    "start_time": "2021-12-08T09:22:18.870Z"
   },
   {
    "duration": 22,
    "start_time": "2021-12-08T09:22:18.893Z"
   },
   {
    "duration": 44,
    "start_time": "2021-12-08T09:22:18.917Z"
   },
   {
    "duration": 5,
    "start_time": "2021-12-08T09:22:18.964Z"
   },
   {
    "duration": 21,
    "start_time": "2021-12-08T09:22:18.971Z"
   },
   {
    "duration": 23,
    "start_time": "2021-12-08T09:22:18.994Z"
   },
   {
    "duration": 42,
    "start_time": "2021-12-08T09:22:19.019Z"
   },
   {
    "duration": 772,
    "start_time": "2021-12-08T09:22:19.064Z"
   },
   {
    "duration": 2713,
    "start_time": "2021-12-08T09:22:19.838Z"
   },
   {
    "duration": 1040,
    "start_time": "2021-12-08T09:22:22.553Z"
   },
   {
    "duration": 770,
    "start_time": "2021-12-08T09:22:23.595Z"
   },
   {
    "duration": 701,
    "start_time": "2021-12-08T09:22:24.368Z"
   },
   {
    "duration": 783,
    "start_time": "2021-12-08T09:22:25.072Z"
   },
   {
    "duration": 648,
    "start_time": "2021-12-08T09:22:25.865Z"
   },
   {
    "duration": 1773,
    "start_time": "2021-12-08T09:22:26.517Z"
   },
   {
    "duration": 9,
    "start_time": "2021-12-08T09:22:28.293Z"
   },
   {
    "duration": 10,
    "start_time": "2021-12-08T09:22:28.304Z"
   },
   {
    "duration": 5,
    "start_time": "2021-12-08T09:22:28.316Z"
   },
   {
    "duration": 46,
    "start_time": "2021-12-08T09:22:28.323Z"
   },
   {
    "duration": 25,
    "start_time": "2021-12-08T09:22:28.371Z"
   },
   {
    "duration": 24,
    "start_time": "2021-12-08T09:22:28.398Z"
   },
   {
    "duration": 754,
    "start_time": "2021-12-08T09:22:28.424Z"
   },
   {
    "duration": 4,
    "start_time": "2021-12-08T09:22:29.180Z"
   },
   {
    "duration": 13,
    "start_time": "2021-12-08T09:22:29.187Z"
   },
   {
    "duration": 23,
    "start_time": "2021-12-08T09:22:29.203Z"
   },
   {
    "duration": 53,
    "start_time": "2021-12-08T09:22:29.228Z"
   },
   {
    "duration": 749,
    "start_time": "2021-12-08T09:22:29.283Z"
   },
   {
    "duration": 694,
    "start_time": "2021-12-08T09:22:30.035Z"
   },
   {
    "duration": 687,
    "start_time": "2021-12-08T09:22:30.731Z"
   },
   {
    "duration": 10,
    "start_time": "2021-12-08T09:22:31.421Z"
   },
   {
    "duration": 26,
    "start_time": "2021-12-08T09:22:31.433Z"
   },
   {
    "duration": 29,
    "start_time": "2021-12-08T09:22:31.461Z"
   },
   {
    "duration": 27,
    "start_time": "2021-12-08T09:22:31.492Z"
   },
   {
    "duration": 53,
    "start_time": "2021-12-08T09:22:31.522Z"
   },
   {
    "duration": 877,
    "start_time": "2021-12-08T09:22:31.577Z"
   },
   {
    "duration": 20,
    "start_time": "2021-12-08T09:22:32.460Z"
   },
   {
    "duration": 7,
    "start_time": "2021-12-08T09:22:32.483Z"
   },
   {
    "duration": 15,
    "start_time": "2021-12-08T09:22:32.493Z"
   },
   {
    "duration": 52,
    "start_time": "2021-12-08T09:22:32.510Z"
   },
   {
    "duration": 17,
    "start_time": "2021-12-08T09:22:32.565Z"
   },
   {
    "duration": 13,
    "start_time": "2021-12-08T09:22:32.585Z"
   },
   {
    "duration": 277,
    "start_time": "2021-12-08T09:22:32.600Z"
   },
   {
    "duration": 21,
    "start_time": "2021-12-08T09:22:32.879Z"
   },
   {
    "duration": 12,
    "start_time": "2021-12-08T09:22:32.902Z"
   },
   {
    "duration": 64,
    "start_time": "2021-12-08T09:22:32.916Z"
   },
   {
    "duration": 19,
    "start_time": "2021-12-08T09:22:32.982Z"
   },
   {
    "duration": 7,
    "start_time": "2021-12-08T09:22:33.003Z"
   },
   {
    "duration": 12,
    "start_time": "2021-12-08T09:22:33.012Z"
   },
   {
    "duration": 45,
    "start_time": "2021-12-08T09:22:33.026Z"
   },
   {
    "duration": 11,
    "start_time": "2021-12-08T09:22:33.073Z"
   },
   {
    "duration": 13,
    "start_time": "2021-12-08T09:22:33.086Z"
   },
   {
    "duration": 18,
    "start_time": "2021-12-08T09:22:33.101Z"
   },
   {
    "duration": 51,
    "start_time": "2021-12-08T09:22:33.121Z"
   },
   {
    "duration": 12,
    "start_time": "2021-12-08T09:22:33.174Z"
   },
   {
    "duration": 6,
    "start_time": "2021-12-08T09:22:33.188Z"
   },
   {
    "duration": 12,
    "start_time": "2021-12-08T09:22:33.196Z"
   },
   {
    "duration": 69,
    "start_time": "2021-12-08T09:22:33.210Z"
   },
   {
    "duration": 8,
    "start_time": "2021-12-08T09:22:33.282Z"
   },
   {
    "duration": 7,
    "start_time": "2021-12-08T09:22:33.301Z"
   },
   {
    "duration": 1473,
    "start_time": "2021-12-08T09:22:33.312Z"
   },
   {
    "duration": 25,
    "start_time": "2021-12-08T09:22:34.787Z"
   },
   {
    "duration": 17,
    "start_time": "2021-12-08T09:22:34.814Z"
   },
   {
    "duration": 13,
    "start_time": "2021-12-08T09:22:34.859Z"
   },
   {
    "duration": 365,
    "start_time": "2021-12-08T09:22:34.875Z"
   },
   {
    "duration": 363,
    "start_time": "2021-12-08T09:22:35.243Z"
   },
   {
    "duration": 16,
    "start_time": "2021-12-08T09:22:35.609Z"
   },
   {
    "duration": 410,
    "start_time": "2021-12-08T09:22:35.628Z"
   },
   {
    "duration": 26,
    "start_time": "2021-12-08T09:22:36.041Z"
   },
   {
    "duration": 1505,
    "start_time": "2021-12-08T09:22:36.069Z"
   },
   {
    "duration": 1641,
    "start_time": "2021-12-08T09:22:37.577Z"
   },
   {
    "duration": 565941,
    "start_time": "2021-12-08T09:22:39.220Z"
   },
   {
    "duration": 141506,
    "start_time": "2021-12-08T09:32:05.163Z"
   },
   {
    "duration": 11,
    "start_time": "2021-12-08T09:34:26.672Z"
   },
   {
    "duration": 11,
    "start_time": "2021-12-08T09:34:26.685Z"
   },
   {
    "duration": 20,
    "start_time": "2021-12-08T09:34:26.699Z"
   },
   {
    "duration": 14399,
    "start_time": "2021-12-08T09:34:26.722Z"
   },
   {
    "duration": 22,
    "start_time": "2021-12-08T09:34:41.124Z"
   },
   {
    "duration": 8,
    "start_time": "2021-12-08T09:34:41.160Z"
   },
   {
    "duration": 6,
    "start_time": "2021-12-08T09:34:41.170Z"
   },
   {
    "duration": 19,
    "start_time": "2021-12-08T09:34:41.178Z"
   },
   {
    "duration": 9318,
    "start_time": "2021-12-08T09:34:41.199Z"
   },
   {
    "duration": 25,
    "start_time": "2021-12-08T09:34:50.519Z"
   },
   {
    "duration": 2599,
    "start_time": "2021-12-08T09:34:50.560Z"
   },
   {
    "duration": 22,
    "start_time": "2021-12-08T09:34:53.161Z"
   },
   {
    "duration": 19,
    "start_time": "2021-12-08T09:34:53.185Z"
   },
   {
    "duration": 10,
    "start_time": "2021-12-08T09:34:53.206Z"
   },
   {
    "duration": 1867,
    "start_time": "2021-12-08T09:34:53.218Z"
   },
   {
    "duration": 8310,
    "start_time": "2021-12-08T09:34:55.088Z"
   },
   {
    "duration": 13,
    "start_time": "2021-12-08T09:35:03.400Z"
   },
   {
    "duration": 891,
    "start_time": "2021-12-08T09:35:03.416Z"
   },
   {
    "duration": 24,
    "start_time": "2021-12-08T09:35:04.310Z"
   },
   {
    "duration": 39,
    "start_time": "2021-12-08T09:35:04.336Z"
   },
   {
    "duration": 11,
    "start_time": "2021-12-08T09:35:04.378Z"
   },
   {
    "duration": 10,
    "start_time": "2021-12-08T09:35:04.391Z"
   },
   {
    "duration": 56,
    "start_time": "2021-12-08T09:35:04.403Z"
   },
   {
    "duration": 12,
    "start_time": "2021-12-08T09:35:04.461Z"
   },
   {
    "duration": 5,
    "start_time": "2021-12-08T09:35:04.475Z"
   },
   {
    "duration": 19,
    "start_time": "2021-12-08T09:35:04.482Z"
   },
   {
    "duration": 11,
    "start_time": "2021-12-08T09:35:04.503Z"
   },
   {
    "duration": 7,
    "start_time": "2021-12-08T09:35:04.517Z"
   },
   {
    "duration": 17,
    "start_time": "2021-12-08T09:35:04.560Z"
   },
   {
    "duration": 11,
    "start_time": "2021-12-08T09:35:04.579Z"
   },
   {
    "duration": 35,
    "start_time": "2021-12-08T09:35:04.592Z"
   },
   {
    "duration": 32,
    "start_time": "2021-12-08T09:35:04.629Z"
   },
   {
    "duration": 24,
    "start_time": "2021-12-08T09:35:04.663Z"
   },
   {
    "duration": 13,
    "start_time": "2021-12-08T09:35:04.690Z"
   },
   {
    "duration": 16,
    "start_time": "2021-12-08T09:35:04.705Z"
   },
   {
    "duration": 18,
    "start_time": "2021-12-08T09:35:04.759Z"
   },
   {
    "duration": 12,
    "start_time": "2021-12-08T09:35:04.779Z"
   },
   {
    "duration": 24,
    "start_time": "2021-12-08T09:35:04.793Z"
   },
   {
    "duration": 51,
    "start_time": "2021-12-08T09:35:04.819Z"
   },
   {
    "duration": 18,
    "start_time": "2021-12-08T09:35:04.872Z"
   },
   {
    "duration": 11,
    "start_time": "2021-12-08T09:35:04.892Z"
   },
   {
    "duration": 54,
    "start_time": "2021-12-08T09:35:04.905Z"
   },
   {
    "duration": 16,
    "start_time": "2021-12-08T09:35:04.961Z"
   },
   {
    "duration": 18,
    "start_time": "2021-12-08T09:35:04.979Z"
   },
   {
    "duration": 67,
    "start_time": "2021-12-08T09:35:05.000Z"
   },
   {
    "duration": 30,
    "start_time": "2021-12-08T09:35:05.070Z"
   },
   {
    "duration": 20,
    "start_time": "2021-12-08T09:35:05.103Z"
   },
   {
    "duration": 46,
    "start_time": "2021-12-08T09:35:05.126Z"
   },
   {
    "duration": 13,
    "start_time": "2021-12-08T09:35:05.174Z"
   },
   {
    "duration": 14,
    "start_time": "2021-12-08T09:35:05.190Z"
   },
   {
    "duration": 65,
    "start_time": "2021-12-08T09:35:05.207Z"
   },
   {
    "duration": 11,
    "start_time": "2021-12-08T09:35:05.275Z"
   },
   {
    "duration": 19,
    "start_time": "2021-12-08T09:35:05.289Z"
   },
   {
    "duration": 50,
    "start_time": "2021-12-08T09:35:05.310Z"
   },
   {
    "duration": 15,
    "start_time": "2021-12-08T09:35:05.362Z"
   },
   {
    "duration": 15,
    "start_time": "2021-12-08T09:35:05.379Z"
   },
   {
    "duration": 3384,
    "start_time": "2021-12-08T09:35:05.397Z"
   },
   {
    "duration": 1198,
    "start_time": "2021-12-08T09:35:07.585Z"
   },
   {
    "duration": 1194,
    "start_time": "2021-12-08T09:35:07.591Z"
   },
   {
    "duration": 1189,
    "start_time": "2021-12-08T09:35:07.597Z"
   },
   {
    "duration": 1186,
    "start_time": "2021-12-08T09:35:07.602Z"
   },
   {
    "duration": 1181,
    "start_time": "2021-12-08T09:35:07.608Z"
   },
   {
    "duration": 1177,
    "start_time": "2021-12-08T09:35:07.614Z"
   },
   {
    "duration": 1173,
    "start_time": "2021-12-08T09:35:07.619Z"
   },
   {
    "duration": 1169,
    "start_time": "2021-12-08T09:35:07.625Z"
   },
   {
    "duration": 19,
    "start_time": "2021-12-08T10:55:04.182Z"
   },
   {
    "duration": 13,
    "start_time": "2021-12-08T10:55:04.596Z"
   },
   {
    "duration": 16,
    "start_time": "2021-12-08T10:55:07.940Z"
   },
   {
    "duration": 18,
    "start_time": "2021-12-08T10:55:09.482Z"
   },
   {
    "duration": 13,
    "start_time": "2021-12-08T10:55:55.252Z"
   },
   {
    "duration": 17,
    "start_time": "2021-12-08T10:55:55.948Z"
   },
   {
    "duration": 12,
    "start_time": "2021-12-08T10:55:56.368Z"
   },
   {
    "duration": 28,
    "start_time": "2021-12-08T10:56:05.747Z"
   },
   {
    "duration": 323,
    "start_time": "2021-12-08T13:21:23.352Z"
   },
   {
    "duration": 1567,
    "start_time": "2021-12-08T13:21:33.005Z"
   },
   {
    "duration": 242,
    "start_time": "2021-12-08T13:21:34.575Z"
   },
   {
    "duration": 5,
    "start_time": "2021-12-08T13:21:34.820Z"
   },
   {
    "duration": 39,
    "start_time": "2021-12-08T13:21:34.828Z"
   },
   {
    "duration": 29,
    "start_time": "2021-12-08T13:21:34.870Z"
   },
   {
    "duration": 18,
    "start_time": "2021-12-08T13:21:34.901Z"
   },
   {
    "duration": 21,
    "start_time": "2021-12-08T13:21:34.921Z"
   },
   {
    "duration": 27,
    "start_time": "2021-12-08T13:21:34.945Z"
   },
   {
    "duration": 41,
    "start_time": "2021-12-08T13:21:34.975Z"
   },
   {
    "duration": 31,
    "start_time": "2021-12-08T13:21:35.020Z"
   },
   {
    "duration": 53,
    "start_time": "2021-12-08T13:21:35.054Z"
   },
   {
    "duration": 20,
    "start_time": "2021-12-08T13:21:35.110Z"
   },
   {
    "duration": 20,
    "start_time": "2021-12-08T13:21:35.133Z"
   },
   {
    "duration": 39,
    "start_time": "2021-12-08T13:21:35.157Z"
   },
   {
    "duration": 36,
    "start_time": "2021-12-08T13:21:35.200Z"
   },
   {
    "duration": 9,
    "start_time": "2021-12-08T13:21:35.240Z"
   },
   {
    "duration": 755,
    "start_time": "2021-12-08T13:21:35.253Z"
   },
   {
    "duration": 2368,
    "start_time": "2021-12-08T13:21:36.010Z"
   },
   {
    "duration": 1003,
    "start_time": "2021-12-08T13:21:38.380Z"
   },
   {
    "duration": 711,
    "start_time": "2021-12-08T13:21:39.385Z"
   },
   {
    "duration": 669,
    "start_time": "2021-12-08T13:21:40.099Z"
   },
   {
    "duration": 710,
    "start_time": "2021-12-08T13:21:40.770Z"
   },
   {
    "duration": 580,
    "start_time": "2021-12-08T13:21:41.483Z"
   },
   {
    "duration": 1662,
    "start_time": "2021-12-08T13:21:42.066Z"
   },
   {
    "duration": 9,
    "start_time": "2021-12-08T13:21:43.730Z"
   },
   {
    "duration": 18,
    "start_time": "2021-12-08T13:21:43.742Z"
   },
   {
    "duration": 24,
    "start_time": "2021-12-08T13:21:43.766Z"
   },
   {
    "duration": 33,
    "start_time": "2021-12-08T13:21:43.793Z"
   },
   {
    "duration": 31,
    "start_time": "2021-12-08T13:21:43.828Z"
   },
   {
    "duration": 20,
    "start_time": "2021-12-08T13:21:43.861Z"
   },
   {
    "duration": 682,
    "start_time": "2021-12-08T13:21:43.884Z"
   },
   {
    "duration": 4,
    "start_time": "2021-12-08T13:21:44.568Z"
   },
   {
    "duration": 18,
    "start_time": "2021-12-08T13:21:44.575Z"
   },
   {
    "duration": 37,
    "start_time": "2021-12-08T13:21:44.595Z"
   },
   {
    "duration": 23,
    "start_time": "2021-12-08T13:21:44.634Z"
   },
   {
    "duration": 727,
    "start_time": "2021-12-08T13:21:44.659Z"
   },
   {
    "duration": 641,
    "start_time": "2021-12-08T13:21:45.388Z"
   },
   {
    "duration": 640,
    "start_time": "2021-12-08T13:21:46.031Z"
   },
   {
    "duration": 10,
    "start_time": "2021-12-08T13:21:46.673Z"
   },
   {
    "duration": 6,
    "start_time": "2021-12-08T13:21:46.685Z"
   },
   {
    "duration": 46,
    "start_time": "2021-12-08T13:21:46.693Z"
   },
   {
    "duration": 27,
    "start_time": "2021-12-08T13:21:46.742Z"
   },
   {
    "duration": 52,
    "start_time": "2021-12-08T13:21:46.771Z"
   },
   {
    "duration": 820,
    "start_time": "2021-12-08T13:21:46.826Z"
   },
   {
    "duration": 19,
    "start_time": "2021-12-08T13:21:47.648Z"
   },
   {
    "duration": 7,
    "start_time": "2021-12-08T13:21:47.669Z"
   },
   {
    "duration": 45,
    "start_time": "2021-12-08T13:21:47.678Z"
   },
   {
    "duration": 11,
    "start_time": "2021-12-08T13:21:47.725Z"
   },
   {
    "duration": 15,
    "start_time": "2021-12-08T13:21:47.737Z"
   },
   {
    "duration": 16,
    "start_time": "2021-12-08T13:21:47.754Z"
   },
   {
    "duration": 266,
    "start_time": "2021-12-08T13:21:47.773Z"
   },
   {
    "duration": 20,
    "start_time": "2021-12-08T13:21:48.042Z"
   },
   {
    "duration": 13,
    "start_time": "2021-12-08T13:21:48.065Z"
   },
   {
    "duration": 67,
    "start_time": "2021-12-08T13:21:48.080Z"
   },
   {
    "duration": 26,
    "start_time": "2021-12-08T13:21:48.150Z"
   },
   {
    "duration": 10,
    "start_time": "2021-12-08T13:21:48.179Z"
   },
   {
    "duration": 42,
    "start_time": "2021-12-08T13:21:48.192Z"
   },
   {
    "duration": 17,
    "start_time": "2021-12-08T13:21:48.237Z"
   },
   {
    "duration": 11,
    "start_time": "2021-12-08T13:21:48.256Z"
   },
   {
    "duration": 12,
    "start_time": "2021-12-08T13:21:48.269Z"
   },
   {
    "duration": 17,
    "start_time": "2021-12-08T13:21:48.323Z"
   },
   {
    "duration": 12,
    "start_time": "2021-12-08T13:21:48.343Z"
   },
   {
    "duration": 12,
    "start_time": "2021-12-08T13:21:48.357Z"
   },
   {
    "duration": 5,
    "start_time": "2021-12-08T13:21:48.371Z"
   },
   {
    "duration": 53,
    "start_time": "2021-12-08T13:21:48.378Z"
   },
   {
    "duration": 28,
    "start_time": "2021-12-08T13:21:48.434Z"
   },
   {
    "duration": 8,
    "start_time": "2021-12-08T13:21:48.465Z"
   },
   {
    "duration": 9,
    "start_time": "2021-12-08T13:21:48.475Z"
   },
   {
    "duration": 1305,
    "start_time": "2021-12-08T13:21:48.486Z"
   },
   {
    "duration": 30,
    "start_time": "2021-12-08T13:21:49.793Z"
   },
   {
    "duration": 16,
    "start_time": "2021-12-08T13:21:49.825Z"
   },
   {
    "duration": 12,
    "start_time": "2021-12-08T13:21:49.843Z"
   },
   {
    "duration": 419,
    "start_time": "2021-12-08T13:21:49.857Z"
   },
   {
    "duration": 362,
    "start_time": "2021-12-08T13:21:50.280Z"
   },
   {
    "duration": 15,
    "start_time": "2021-12-08T13:21:50.644Z"
   },
   {
    "duration": 381,
    "start_time": "2021-12-08T13:21:50.661Z"
   },
   {
    "duration": 16,
    "start_time": "2021-12-08T13:21:51.045Z"
   },
   {
    "duration": 1551,
    "start_time": "2021-12-08T13:21:51.063Z"
   },
   {
    "duration": 1568,
    "start_time": "2021-12-08T13:21:52.617Z"
   }
  ],
  "kernelspec": {
   "display_name": "Python 3",
   "language": "python",
   "name": "python3"
  },
  "language_info": {
   "codemirror_mode": {
    "name": "ipython",
    "version": 3
   },
   "file_extension": ".py",
   "mimetype": "text/x-python",
   "name": "python",
   "nbconvert_exporter": "python",
   "pygments_lexer": "ipython3",
   "version": "3.8.8"
  },
  "toc": {
   "base_numbering": 1,
   "nav_menu": {},
   "number_sections": true,
   "sideBar": true,
   "skip_h1_title": true,
   "title_cell": "Table of Contents",
   "title_sidebar": "Contents",
   "toc_cell": false,
   "toc_position": {},
   "toc_section_display": true,
   "toc_window_display": true
  }
 },
 "nbformat": 4,
 "nbformat_minor": 2
}
